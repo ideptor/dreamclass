{
 "cells": [
  {
   "cell_type": "markdown",
   "id": "0775bd0e-8303-412d-89ad-072a91ea5bb2",
   "metadata": {},
   "source": [
    "# Unit 18. break, continue로 반복문 제어하기\n",
    "\n",
    "* break: 제어흐름 중단\n",
    "* continue: 제어흐름 유지, 코드 실행만 건너뜀\n"
   ]
  },
  {
   "cell_type": "markdown",
   "id": "f2acd653-40a8-4770-9868-4d56b53203f2",
   "metadata": {},
   "source": [
    "## 18.1 break로 반복문 끝내기\n",
    "먼저 break로 반복문을 끝내는 방법입니다.\n",
    "\n",
    "### 18.1.1  while에서 break로 반복문 끝내기\n",
    "\n",
    "`while` 무한 루프에서 숫자를 증가시키다가 변수 `i`가 `100`일 때 반복문을 끝내도록 만들어보겠습니다. \n",
    "\n",
    "```python\n",
    "i = 0\n",
    "while True:    # 무한 루프\n",
    "    print(i)\n",
    "    i += 1          # i를 1씩 증가시킴\n",
    "    if i == 100:    # i가 100일 때\n",
    "        break       # 반복문을 끝냄. while의 제어흐름을 벗어남\n",
    "```\n",
    "\n",
    "실행 결과\n",
    "\n",
    "```bash\n",
    "0\n",
    "1\n",
    "2\n",
    "... (생략)\n",
    "97\n",
    "98\n",
    "99\n",
    "```"
   ]
  },
  {
   "cell_type": "code",
   "execution_count": 2,
   "id": "0fa0b040-f976-480f-b8b0-4aa3999a8094",
   "metadata": {},
   "outputs": [
    {
     "name": "stdout",
     "output_type": "stream",
     "text": [
      "hello 0\n",
      "hello 1\n",
      "hello 2\n",
      "hello 3\n",
      "hello 4\n",
      "hello 5\n",
      "hello 6\n",
      "hello 7\n",
      "hello 8\n",
      "hello 9\n",
      "hello 10\n"
     ]
    }
   ],
   "source": [
    "i = 0\n",
    "while True:\n",
    "    print(\"hello\", i)\n",
    "    if i >= 10:\n",
    "        break\n",
    "    i+=1"
   ]
  },
  {
   "cell_type": "markdown",
   "id": "7e585535-cfb3-4ce3-8dcb-18c7d78e49e2",
   "metadata": {},
   "source": [
    "### 18.1.2  for에서 break로 반복문 끝내기\n",
    "\n",
    "`while`뿐만 아니라 `for`에서도 `break`의 동작은 같습니다.\n",
    "\n",
    "```python\n",
    "for i in range(10000):    # 0부터 9999까지 반복\n",
    "    print(i)\n",
    "    if i == 100:    # i가 100일 때\n",
    "        break       # 반복문을 끝냄. for의 제어흐름을 벗어남\n",
    "```        \n",
    "        \n",
    "실행 결과\n",
    "\n",
    "```bash\n",
    "0\n",
    "1\n",
    "2\n",
    "... (생략)\n",
    "98\n",
    "99\n",
    "100\n",
    "```"
   ]
  },
  {
   "cell_type": "code",
   "execution_count": 3,
   "id": "6d90e58a-ac5f-4c12-b1fb-c7d652187ecd",
   "metadata": {},
   "outputs": [
    {
     "name": "stdout",
     "output_type": "stream",
     "text": [
      "hello 0\n",
      "hello 1\n",
      "hello 2\n",
      "hello 3\n",
      "hello 4\n",
      "hello 5\n",
      "hello 6\n",
      "hello 7\n",
      "hello 8\n",
      "hello 9\n",
      "hello 10\n"
     ]
    }
   ],
   "source": [
    "for i in range(10000):\n",
    "    print('hello', i)\n",
    "    if i >= 10:\n",
    "        break"
   ]
  },
  {
   "cell_type": "markdown",
   "id": "e2248369-ee1d-4d2e-a18f-cacb1402fd33",
   "metadata": {},
   "source": [
    "## 18.2 continue로 코드 실행 건너뛰기\n",
    "\n",
    "### 18.2.1  for에서 continue로 코드 실행 건너뛰기\n",
    "\n",
    "다음은 for로 0부터 99까지 반복하면서 홀수만 출력합니다.\n",
    "\n",
    "```python\n",
    "for i in range(100):       # 0부터 99까지 증가하면서 100번 반복\n",
    "    if i % 2 == 0:         # i를 2로 나누었을 때 나머지가 0면 짝수\n",
    "        continue           # 아래 코드를 실행하지 않고 건너뜀\n",
    "    print(i)\n",
    "```    \n",
    "    \n",
    "실행 결과\n",
    "\n",
    "```bash\n",
    "1\n",
    "3\n",
    "5\n",
    "... (생략)\n",
    "95\n",
    "97\n",
    "99\n",
    "```"
   ]
  },
  {
   "cell_type": "code",
   "execution_count": 8,
   "id": "f16f1aae-8648-4c1c-b07f-3f2122b9d29d",
   "metadata": {},
   "outputs": [
    {
     "name": "stdout",
     "output_type": "stream",
     "text": [
      "0 는 짝수입니다\n",
      "1 는 홀수입니다\n",
      "2 는 짝수입니다\n",
      "3 는 홀수입니다\n",
      "4 는 짝수입니다\n",
      "5 는 홀수입니다\n",
      "6 는 짝수입니다\n",
      "7 는 홀수입니다\n",
      "8 는 짝수입니다\n",
      "9 는 홀수입니다\n"
     ]
    }
   ],
   "source": [
    "for i in range(10):\n",
    "    if i%2 == 1:\n",
    "        print(i, \"는 홀수입니다\")\n",
    "    else:\n",
    "        print(i, \"는 짝수입니다\")"
   ]
  },
  {
   "cell_type": "code",
   "execution_count": 9,
   "id": "bcde0834-f835-4d90-bad5-0e87a80f09c7",
   "metadata": {},
   "outputs": [
    {
     "name": "stdout",
     "output_type": "stream",
     "text": [
      "0 는 짝수입니다\n",
      "1 는 홀수입니다\n",
      "2 는 짝수입니다\n",
      "3 는 홀수입니다\n",
      "4 는 짝수입니다\n",
      "5 는 홀수입니다\n",
      "6 는 짝수입니다\n",
      "7 는 홀수입니다\n",
      "8 는 짝수입니다\n",
      "9 는 홀수입니다\n"
     ]
    }
   ],
   "source": [
    "for i in range(10):\n",
    "    if i%2 == 0:\n",
    "        print(i, \"는 짝수입니다\")\n",
    "        continue\n",
    "    print(i, \"는 홀수입니다\")"
   ]
  },
  {
   "cell_type": "markdown",
   "id": "489fdb42-afa8-41ae-a14c-e438ea6b9c75",
   "metadata": {},
   "source": [
    "### 18.2.2  while 반복문에서 continue로 코드 실행 건너뛰기\n",
    "\n",
    "`for`뿐만 아니라 `while`에서도 `continue`의 동작은 같습니다.\n",
    "\n",
    "```python\n",
    "i = 0\n",
    "while i < 100:        # i가 100보다 작을 때 반복. 0부터 99까지 증가하면서 100번 반복\n",
    "    i += 1            # i를 1씩 증가시킴\n",
    "    if i % 2 == 0:    # i를 2로 나누었을 때 나머지가 0이면 짝수\n",
    "        continue      # 아래 코드를 실행하지 않고 건너뜀\n",
    "    print(i)\n",
    "```\n",
    "    \n",
    "실행 결과\n",
    "\n",
    "```bash\n",
    "1\n",
    "3\n",
    "5\n",
    "... (생략)\n",
    "95\n",
    "97\n",
    "99\n",
    "```"
   ]
  },
  {
   "cell_type": "code",
   "execution_count": null,
   "id": "8d11b3d1-eeb3-438f-b57a-fa484e682610",
   "metadata": {},
   "outputs": [],
   "source": []
  },
  {
   "cell_type": "markdown",
   "id": "9e67eb27-7f07-4054-b850-88de41735445",
   "metadata": {},
   "source": [
    "## 참고 | 반복문과 pass\n",
    "\n",
    "`for`, `while`의 반복할 코드에서 아무 일도 하지 않지만,  \n",
    "반복문의 형태를 유지하고 싶다면 pass를 사용하면 됩니다.\n",
    "(나중에 코드를 삽입하기 위해 남겨두거나 여러가지 이유로..)\n",
    "\n",
    "```python\n",
    "for i in range(10):    # 10번 반복\n",
    "    pass               # 아무 일도 하지 않음\n",
    "while True:    # 무한 루프\n",
    "    pass       # 아무 일도 하지 않음\n",
    "```"
   ]
  },
  {
   "cell_type": "code",
   "execution_count": null,
   "id": "da9ba9be-0131-476a-83ca-fdc696167a8a",
   "metadata": {},
   "outputs": [],
   "source": []
  },
  {
   "cell_type": "markdown",
   "id": "4132e97a-5a57-469e-8cbe-21aab24c4def",
   "metadata": {},
   "source": [
    "## 18.3 입력한 횟수대로 반복하기\n",
    "\n",
    "```python\n",
    "count = int(input('반복할 횟수를 입력하세요: '))\n",
    " \n",
    "i = 0\n",
    "while True:    # 무한 루프\n",
    "    print(i)\n",
    "    i += 1\n",
    "    if i == count:    # i가 입력받은 값과 같을 때\n",
    "        break         # 반복문을 끝냄\n",
    "```\n",
    "        \n",
    "소스 코드를 실행하면 `반복할 횟수를 입력하세요: `가 출력됩니다.  \n",
    "여기서 `3`을 입력하고 엔터 키를 누르세요.\n",
    "\n",
    "\n",
    "실행 결과\n",
    "\n",
    "```bash\n",
    "반복할 횟수를 입력하세요: 3 (입력)\n",
    "0\n",
    "1\n",
    "2\n",
    "```\n"
   ]
  },
  {
   "cell_type": "code",
   "execution_count": null,
   "id": "240de64b-417d-422e-939c-198729fca943",
   "metadata": {},
   "outputs": [],
   "source": []
  },
  {
   "cell_type": "markdown",
   "id": "e130507d-7d83-433e-ba5c-a004431719a6",
   "metadata": {},
   "source": [
    "### 18.3.1  입력한 숫자까지 홀수 출력하기\n",
    "\n",
    "```python\n",
    "count = int(input('반복할 횟수를 입력하세요: '))\n",
    " \n",
    "for i in range(count + 1):       # 0부터 증가하면서 count까지 반복(count + 1)\n",
    "    if i % 2 == 0:               # i를 2로 나누었을 때 나머지가 0이면 짝수\n",
    "        continue                 # 아래 코드를 실행하지 않고 건너뜀\n",
    "    print(i)\n",
    "```\n",
    "    \n",
    "소스 코드를 실행하면 `반복할 횟수를 입력하세요: `가 출력됩니다.  \n",
    "여기서 `9`를 입력하고 엔터 키를 누르세요.\n",
    "\n",
    "```bash\n",
    "반복할 횟수를 입력하세요: 9 (입력)\n",
    "1\n",
    "3\n",
    "5\n",
    "7\n",
    "9\n",
    "```"
   ]
  },
  {
   "cell_type": "code",
   "execution_count": null,
   "id": "1331ea74-a26b-4eeb-9401-db3a14224462",
   "metadata": {},
   "outputs": [],
   "source": []
  },
  {
   "cell_type": "markdown",
   "id": "5a8a1a9c-e5e2-45e8-a3a8-350487f445a0",
   "metadata": {},
   "source": [
    "## 18.4 퀴즈\n",
    "https://dojang.io/mod/quiz/view.php?id=2256"
   ]
  },
  {
   "cell_type": "markdown",
   "id": "ae6cd00d-b635-4983-8027-812c52f73fdc",
   "metadata": {},
   "source": [
    "## 18.5 연습문제: 3으로 끝나는 숫자만 출력하기\n",
    "https://dojang.io/mod/page/view.php?id=2257"
   ]
  },
  {
   "cell_type": "markdown",
   "id": "525a3522-45c5-4f16-8789-37e5716cf724",
   "metadata": {},
   "source": [
    "## 18.6 심사문제: 두 수 사이의 숫자 중 3으로 끝나지 않는 숫자 출력하기\n",
    "https://dojang.io/mod/quiz/view.php?id=2258"
   ]
  },
  {
   "cell_type": "raw",
   "id": "09a85afc-5d24-4bf6-a33d-785053387028",
   "metadata": {},
   "source": [
    "** 표준 입력으로 정수 두 개가 입력됩니다\n",
    "   (첫 번째 입력 값의 범위는 1~200, 두 번째 입력 값의 범위는 10~200이며 첫 번째 입력 값은 두 번째 입력 값보다 항상 작습니다). \n",
    "\n",
    "** 다음 소스 코드를 완성하여 첫 번째 정수와 두 번째 정수 사이의 숫자 \n",
    "중 3으로 끝나지 않는 숫자가 출력되게 만드세요. \n",
    "\n",
    "** 정답에 코드를 작성할 때는 while True:에 맞춰서 들여쓰기를 해주세요.\n"
   ]
  },
  {
   "cell_type": "code",
   "execution_count": 14,
   "id": "7aa93a7e-be11-4331-be9c-927ec9705437",
   "metadata": {},
   "outputs": [
    {
     "name": "stdin",
     "output_type": "stream",
     "text": [
      " 1 20\n"
     ]
    },
    {
     "name": "stdout",
     "output_type": "stream",
     "text": [
      "1 2 4 5 6 7 8 9 10 11 12 14 15 16 17 18 19 20 "
     ]
    }
   ],
   "source": [
    "start, stop = map(int, input().split())\n",
    "i = start\n",
    " \n",
    "while True:\n",
    "    if i > stop:\n",
    "        break\n",
    "    if i%10 == 3:\n",
    "        i += 1\n",
    "        continue\n",
    "    print(i, end=' ')\n",
    "    i += 1"
   ]
  },
  {
   "cell_type": "code",
   "execution_count": null,
   "id": "25a3635e-f827-4678-afb7-6f3434c41b1d",
   "metadata": {},
   "outputs": [],
   "source": [
    "표준 입력으로 정수 두 개가 입력됩니다(첫 번째 입력 값의 범위는 1~200, 두 번째 입력 값의 범위는 10~200이며 첫 번째 입력 값은 두 번째 입력 값보다 항상 작습니다). 다음 소스 코드를 완성하여 첫 번째 정수와 두 번째 정수 사이의 숫자 중 3으로 끝나지 않는 숫자가 출력되게 만드세요. 정답에 코드를 작성할 때는 while True:에 맞춰서 들여쓰기를 해주세요.\n",
    "\n",
    "judge_exclude_number_ending_3.py\n",
    "start, stop = map(int, input().split())\n",
    " \n",
    "i = start\n",
    " \n",
    "while True:\n",
    "_____________________\n",
    "_____________________\n",
    "_____________________\n",
    "_____________________\n",
    "_____________________\n",
    "    print(i, end=' ')\n",
    "    i += 1\n",
    "예\n",
    "입력\n",
    "1 20\n",
    "결과\n",
    "1 2 4 5 6 7 8 9 10 11 12 14 15 16 17 18 19 20"
   ]
  },
  {
   "cell_type": "code",
   "execution_count": null,
   "id": "674aac79-4ddd-452f-b819-09d3890e80e9",
   "metadata": {},
   "outputs": [],
   "source": []
  },
  {
   "cell_type": "code",
   "execution_count": 16,
   "id": "ba421069-ec4e-4641-a3c1-5bb4261ee9e6",
   "metadata": {},
   "outputs": [
    {
     "name": "stdout",
     "output_type": "stream",
     "text": [
      "10\n",
      "Hello, world!\n"
     ]
    }
   ],
   "source": [
    "x = 10\n",
    "print(x)                    #변수 x만들기\n",
    "\n",
    "y = 'Hello, world!' \n",
    "print(y)                    #변수 y만들기\n"
   ]
  },
  {
   "cell_type": "code",
   "execution_count": 18,
   "id": "bb324882-9559-4330-920a-8b23928ed2c0",
   "metadata": {},
   "outputs": [
    {
     "name": "stdout",
     "output_type": "stream",
     "text": [
      "<class 'int'>\n",
      "<class 'str'>\n"
     ]
    }
   ],
   "source": [
    "print(type (x)) #변수 x의 자료형 구하기\n",
    "\n",
    "print(type (y)) #변수 y의 자료형 구하기 \n"
   ]
  },
  {
   "cell_type": "code",
   "execution_count": 20,
   "id": "56860974-6780-4fee-b64c-40ec75001e10",
   "metadata": {},
   "outputs": [
    {
     "name": "stdout",
     "output_type": "stream",
     "text": [
      "10\n",
      "30\n",
      "30\n"
     ]
    }
   ],
   "source": [
    "# 1)번코드\n",
    "a = 10\n",
    "a + 20\n",
    "\n",
    "print(a)\n",
    "\n",
    "# 2)번코드\n",
    "a = 10\n",
    "a = a + 20  #a와 20을 더한 후 결과를 다시 a에 저장\n",
    "print(a)\n",
    "\n",
    "# 3)번코드\n",
    "a = 10\n",
    "a += 20     #a와 20을 더한 후 결과를 다시 a에 저장\n",
    "print(a)\n"
   ]
  },
  {
   "cell_type": "code",
   "execution_count": 22,
   "id": "a918df54-246b-499a-9111-c38ecac2d32e",
   "metadata": {},
   "outputs": [
    {
     "name": "stdin",
     "output_type": "stream",
     "text": [
      " 1234\n"
     ]
    },
    {
     "name": "stdout",
     "output_type": "stream",
     "text": [
      "1234\n"
     ]
    }
   ],
   "source": [
    "x = input( )\n",
    "print(x )\n"
   ]
  },
  {
   "cell_type": "code",
   "execution_count": 29,
   "id": "4571d425-a1f1-4b47-bd23-c6a4166806ef",
   "metadata": {},
   "outputs": [
    {
     "name": "stdout",
     "output_type": "stream",
     "text": [
      "10\n",
      "31\n"
     ]
    },
    {
     "ename": "IndexError",
     "evalue": "list index out of range",
     "output_type": "error",
     "traceback": [
      "\u001b[1;31m---------------------------------------------------------------------------\u001b[0m",
      "\u001b[1;31mIndexError\u001b[0m                                Traceback (most recent call last)",
      "Cell \u001b[1;32mIn [29], line 7\u001b[0m\n\u001b[0;32m      4\u001b[0m \u001b[38;5;28mprint\u001b[39m(a[\u001b[38;5;241m-\u001b[39m\u001b[38;5;241m5\u001b[39m])      \u001b[38;5;66;03m# 리스트의 뒤에서 다섯번째(인덱스-5) 요소 출력\u001b[39;00m\n\u001b[0;32m      6\u001b[0m \u001b[38;5;66;03m# * 인덱스의 범위를 벗어나면 에러가 납니다 * \u001b[39;00m\n\u001b[1;32m----> 7\u001b[0m \u001b[38;5;28mprint\u001b[39m(\u001b[43ma\u001b[49m\u001b[43m[\u001b[49m\u001b[38;5;241;43m-\u001b[39;49m\u001b[38;5;241;43m6\u001b[39;49m\u001b[43m]\u001b[49m)\n",
      "\u001b[1;31mIndexError\u001b[0m: list index out of range"
     ]
    }
   ],
   "source": [
    "a = [31, 83, 19, 41, 10]\n",
    "\n",
    "print(a[-1])      # 리스트의 뒤에서 첫번째(인덱스-1) 요소 출력\n",
    "print(a[-5])      # 리스트의 뒤에서 다섯번째(인덱스-5) 요소 출력\n",
    "\n",
    "# * 인덱스의 범위를 벗어나면 에러가 납니다 * \n",
    "print(a[-6])\n"
   ]
  },
  {
   "cell_type": "code",
   "execution_count": 32,
   "id": "29bc318b-4c13-4712-948e-8c0522983dd8",
   "metadata": {},
   "outputs": [
    {
     "ename": "IndentationError",
     "evalue": "unexpected indent (3692141722.py, line 3)",
     "output_type": "error",
     "traceback": [
      "\u001b[1;36m  Cell \u001b[1;32mIn [32], line 3\u001b[1;36m\u001b[0m\n\u001b[1;33m    print('10입니다.')      # ->들여쓰기 8칸\u001b[0m\n\u001b[1;37m    ^\u001b[0m\n\u001b[1;31mIndentationError\u001b[0m\u001b[1;31m:\u001b[0m unexpected indent\n"
     ]
    }
   ],
   "source": [
    "if x == 10:\n",
    "    print('x에 들어있는 숫자는') # ->들여쓰기 4칸\n",
    "        print('10입니다.')      # ->들여쓰기 8칸 \n"
   ]
  },
  {
   "cell_type": "code",
   "execution_count": 34,
   "id": "309adf87-e8ff-4773-a2ad-bb2e950180ca",
   "metadata": {},
   "outputs": [
    {
     "name": "stdout",
     "output_type": "stream",
     "text": [
      "1 2 3 4 5 6 7 8 9 10 "
     ]
    }
   ],
   "source": [
    "for a in [1,2,3,4,5,6,7,8,9,10]:\n",
    "\tprint(a, end=\" \")\n"
   ]
  },
  {
   "cell_type": "code",
   "execution_count": null,
   "id": "60a0f332-ddd8-4015-a1b5-89be552cdb21",
   "metadata": {},
   "outputs": [],
   "source": []
  },
  {
   "cell_type": "code",
   "execution_count": null,
   "id": "ba63c93e-0589-4201-9403-e1dd28804457",
   "metadata": {},
   "outputs": [],
   "source": []
  },
  {
   "cell_type": "code",
   "execution_count": 2,
   "id": "d4269608-86e9-4152-a006-fb50d9a647de",
   "metadata": {},
   "outputs": [
    {
     "name": "stdin",
     "output_type": "stream",
     "text": [
      " 1 20\n"
     ]
    },
    {
     "name": "stdout",
     "output_type": "stream",
     "text": [
      "1 2 4 5 6 7 8 9 10 11 12 14 15 16 17 18 19 20 "
     ]
    }
   ],
   "source": [
    "start, stop = map(int, input().split())\n",
    " \n",
    "i = start\n",
    " \n",
    "while True:\n",
    "    if i > stop:\n",
    "        break\n",
    "    if i%10 == 3:\n",
    "        i+=1\n",
    "        continue\n",
    "    print(i, end=' ')\n",
    "    i += 1"
   ]
  },
  {
   "cell_type": "code",
   "execution_count": null,
   "id": "57c7b40f-b456-4f66-ade7-e22a5a033d4f",
   "metadata": {},
   "outputs": [],
   "source": []
  }
 ],
 "metadata": {
  "kernelspec": {
   "display_name": "Python 3 (ipykernel)",
   "language": "python",
   "name": "python3"
  },
  "language_info": {
   "codemirror_mode": {
    "name": "ipython",
    "version": 3
   },
   "file_extension": ".py",
   "mimetype": "text/x-python",
   "name": "python",
   "nbconvert_exporter": "python",
   "pygments_lexer": "ipython3",
   "version": "3.10.6"
  }
 },
 "nbformat": 4,
 "nbformat_minor": 5
}
