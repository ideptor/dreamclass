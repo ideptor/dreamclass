{
 "cells": [
  {
   "cell_type": "markdown",
   "id": "594c6a4f-6b6e-4b36-a3f1-3c1a4a58f018",
   "metadata": {},
   "source": [
    "# Unit8. 불(bool)과 비교, 논리연산자 알아보기\n",
    "\n",
    "프로그래밍을 하다보면 참,거짓을 판단해야할 때가 많습니다.  \n",
    "특히 앞으로 배울 `if`, `elif`, `while` 구문을 작성할때 비교, 논리 연산자를 자주 사용합니다."
   ]
  },
  {
   "cell_type": "markdown",
   "id": "872704bc-de0c-4ff2-b574-4fba3af8e2be",
   "metadata": {},
   "source": [
    "## 8.1 불과 비교 연산자 사용하기\n",
    "불(bool)은 `True`, `False`로 표현하며, 일종의 값입니다.\n",
    "\n",
    "```ipython\n",
    ">>> True\n",
    "True\n",
    ">>> False\n",
    "False\n",
    ">>> type(True)\n",
    "bool\n",
    "```"
   ]
  },
  {
   "cell_type": "code",
   "execution_count": null,
   "id": "9f49c638-e0fa-420d-8c54-b71a691bfad1",
   "metadata": {},
   "outputs": [],
   "source": [
    "참, 거짓\n",
    "맞으면 -> 참  True\n",
    "틀리며 -> 거짓 Falsey"
   ]
  },
  {
   "cell_type": "code",
   "execution_count": 22,
   "id": "f1bef9f9-da05-47fb-a4c0-f064bc020990",
   "metadata": {},
   "outputs": [
    {
     "data": {
      "text/plain": [
       "2"
      ]
     },
     "execution_count": 22,
     "metadata": {},
     "output_type": "execute_result"
    }
   ],
   "source": [
    "True + True"
   ]
  },
  {
   "cell_type": "code",
   "execution_count": 23,
   "id": "88998b79-86c6-4ed3-baea-13df6c5172c6",
   "metadata": {},
   "outputs": [
    {
     "data": {
      "text/plain": [
       "3"
      ]
     },
     "execution_count": 23,
     "metadata": {},
     "output_type": "execute_result"
    }
   ],
   "source": [
    "True + True + True"
   ]
  },
  {
   "cell_type": "code",
   "execution_count": 24,
   "id": "b8d4b8f4-31c7-4533-9645-afdcd0245689",
   "metadata": {},
   "outputs": [
    {
     "data": {
      "text/plain": [
       "1"
      ]
     },
     "execution_count": 24,
     "metadata": {},
     "output_type": "execute_result"
    }
   ],
   "source": [
    "False + True + False"
   ]
  },
  {
   "cell_type": "code",
   "execution_count": null,
   "id": "c05eb8ac-545d-42ae-a576-26ad1252a2ff",
   "metadata": {},
   "outputs": [],
   "source": []
  },
  {
   "cell_type": "code",
   "execution_count": 1,
   "id": "5fc6f031-9ac5-4afc-9bfa-1fb881e8fc3f",
   "metadata": {},
   "outputs": [
    {
     "data": {
      "text/plain": [
       "False"
      ]
     },
     "execution_count": 1,
     "metadata": {},
     "output_type": "execute_result"
    }
   ],
   "source": [
    "1 > 2"
   ]
  },
  {
   "cell_type": "code",
   "execution_count": 2,
   "id": "5082604c-81fd-47a0-9476-1b70743c4857",
   "metadata": {},
   "outputs": [
    {
     "data": {
      "text/plain": [
       "True"
      ]
     },
     "execution_count": 2,
     "metadata": {},
     "output_type": "execute_result"
    }
   ],
   "source": [
    "1 < 2 "
   ]
  },
  {
   "cell_type": "code",
   "execution_count": 3,
   "id": "87d565b5-81ab-45db-828d-b5f13549b892",
   "metadata": {},
   "outputs": [
    {
     "data": {
      "text/plain": [
       "bool"
      ]
     },
     "execution_count": 3,
     "metadata": {},
     "output_type": "execute_result"
    }
   ],
   "source": [
    "type(True)"
   ]
  },
  {
   "cell_type": "code",
   "execution_count": 4,
   "id": "7882461e-d2be-4a68-9522-ae19bbff6f40",
   "metadata": {},
   "outputs": [
    {
     "data": {
      "text/plain": [
       "int"
      ]
     },
     "execution_count": 4,
     "metadata": {},
     "output_type": "execute_result"
    }
   ],
   "source": [
    "type(1)"
   ]
  },
  {
   "cell_type": "code",
   "execution_count": 5,
   "id": "2ba85b72-800b-45f1-b9dd-0d91e1e3ac89",
   "metadata": {},
   "outputs": [
    {
     "data": {
      "text/plain": [
       "float"
      ]
     },
     "execution_count": 5,
     "metadata": {},
     "output_type": "execute_result"
    }
   ],
   "source": [
    "type(1.0)"
   ]
  },
  {
   "cell_type": "code",
   "execution_count": 6,
   "id": "943dffea-7497-4ca1-a4f2-4f301661f2e8",
   "metadata": {},
   "outputs": [
    {
     "data": {
      "text/plain": [
       "str"
      ]
     },
     "execution_count": 6,
     "metadata": {},
     "output_type": "execute_result"
    }
   ],
   "source": [
    "type(\"1.0\")"
   ]
  },
  {
   "cell_type": "code",
   "execution_count": 7,
   "id": "376d90a7-ec77-4f3d-9467-087763ec2b2f",
   "metadata": {
    "tags": []
   },
   "outputs": [
    {
     "data": {
      "text/plain": [
       "True"
      ]
     },
     "execution_count": 7,
     "metadata": {},
     "output_type": "execute_result"
    }
   ],
   "source": [
    "bool(1)"
   ]
  },
  {
   "cell_type": "code",
   "execution_count": 19,
   "id": "cb834527-178b-4325-a8bd-e3b711e567f3",
   "metadata": {},
   "outputs": [
    {
     "data": {
      "text/plain": [
       "False"
      ]
     },
     "execution_count": 19,
     "metadata": {},
     "output_type": "execute_result"
    }
   ],
   "source": [
    "bool(0.000000)"
   ]
  },
  {
   "cell_type": "code",
   "execution_count": 20,
   "id": "1438da26-be2b-4505-a22b-aa451452d3d6",
   "metadata": {},
   "outputs": [
    {
     "data": {
      "text/plain": [
       "False"
      ]
     },
     "execution_count": 20,
     "metadata": {},
     "output_type": "execute_result"
    }
   ],
   "source": [
    "bool(\"\")"
   ]
  },
  {
   "cell_type": "code",
   "execution_count": 21,
   "id": "fb96372c-ee26-449f-bcf8-afa84560df51",
   "metadata": {},
   "outputs": [
    {
     "data": {
      "text/plain": [
       "True"
      ]
     },
     "execution_count": 21,
     "metadata": {},
     "output_type": "execute_result"
    }
   ],
   "source": [
    "bool(\"Asdfasdf\")"
   ]
  },
  {
   "cell_type": "code",
   "execution_count": 9,
   "id": "51a3ff8e-07ff-446d-89a6-a3206db8c1c3",
   "metadata": {},
   "outputs": [
    {
     "data": {
      "text/plain": [
       "True"
      ]
     },
     "execution_count": 9,
     "metadata": {},
     "output_type": "execute_result"
    }
   ],
   "source": [
    "bool(2)"
   ]
  },
  {
   "cell_type": "code",
   "execution_count": 10,
   "id": "04cd2cf0-f7b2-4542-9d99-a1860aa0df68",
   "metadata": {},
   "outputs": [
    {
     "data": {
      "text/plain": [
       "True"
      ]
     },
     "execution_count": 10,
     "metadata": {},
     "output_type": "execute_result"
    }
   ],
   "source": [
    "bool(1.0)"
   ]
  },
  {
   "cell_type": "code",
   "execution_count": 11,
   "id": "19b5a549-df70-465f-bafd-7d236b949fac",
   "metadata": {},
   "outputs": [
    {
     "data": {
      "text/plain": [
       "True"
      ]
     },
     "execution_count": 11,
     "metadata": {},
     "output_type": "execute_result"
    }
   ],
   "source": [
    "bool(\"1\")"
   ]
  },
  {
   "cell_type": "code",
   "execution_count": 12,
   "id": "697b85f3-fc19-40a9-9dfa-9d25b2a508a8",
   "metadata": {},
   "outputs": [
    {
     "data": {
      "text/plain": [
       "False"
      ]
     },
     "execution_count": 12,
     "metadata": {},
     "output_type": "execute_result"
    }
   ],
   "source": [
    "bool(False)"
   ]
  },
  {
   "cell_type": "code",
   "execution_count": 17,
   "id": "30cfbb64-4e28-49db-8c3a-dd682c797ac2",
   "metadata": {},
   "outputs": [
    {
     "data": {
      "text/plain": [
       "False"
      ]
     },
     "execution_count": 17,
     "metadata": {},
     "output_type": "execute_result"
    }
   ],
   "source": [
    "bool(0)"
   ]
  },
  {
   "cell_type": "code",
   "execution_count": 18,
   "id": "5a69e9b4-d629-474e-8e66-272dba56213e",
   "metadata": {},
   "outputs": [
    {
     "data": {
      "text/plain": [
       "False"
      ]
     },
     "execution_count": 18,
     "metadata": {},
     "output_type": "execute_result"
    }
   ],
   "source": [
    "bool(0.0)"
   ]
  },
  {
   "cell_type": "code",
   "execution_count": null,
   "id": "c27272c3-e2d7-4072-ad96-d6413e5deb66",
   "metadata": {},
   "outputs": [],
   "source": [
    "type(True)"
   ]
  },
  {
   "cell_type": "markdown",
   "id": "7018566a-5358-4029-b75f-c479997ca623",
   "metadata": {},
   "source": [
    "### 8.1.1 비교연산자의 판단결과\n",
    "`>`(왼쪽이크다), `<`(오른쪽이크다)\n",
    "\n",
    "```python\n",
    "3 > 1   # True\n",
    "3 < 1   # False\n",
    "```"
   ]
  },
  {
   "cell_type": "code",
   "execution_count": null,
   "id": "c40a5d46-1324-4293-92fe-1ad236313bcc",
   "metadata": {},
   "outputs": [],
   "source": [
    "print(3 > 1)   # True\n",
    "print(3 < 1)   # False"
   ]
  },
  {
   "cell_type": "code",
   "execution_count": 25,
   "id": "fed4f0a2-92bb-4c8e-852a-001763260678",
   "metadata": {},
   "outputs": [
    {
     "name": "stdout",
     "output_type": "stream",
     "text": [
      "True\n",
      "False\n"
     ]
    }
   ],
   "source": [
    "print(3 > 1)   # True\n",
    "print(3 < 1)   # False"
   ]
  },
  {
   "cell_type": "code",
   "execution_count": 30,
   "id": "2e840e16-17b7-4c0a-be32-e1801edf0276",
   "metadata": {},
   "outputs": [],
   "source": [
    "a = 10"
   ]
  },
  {
   "cell_type": "code",
   "execution_count": null,
   "id": "6c2a1c39-6670-4402-9e37-6af4e2e6bf1b",
   "metadata": {},
   "outputs": [],
   "source": []
  },
  {
   "cell_type": "code",
   "execution_count": 31,
   "id": "0bd881ae-7660-4156-affb-28813df0aed1",
   "metadata": {},
   "outputs": [],
   "source": [
    "a += 10 #a = a + 10 "
   ]
  },
  {
   "cell_type": "code",
   "execution_count": 32,
   "id": "6865d7a1-edce-458b-b068-5af25d028fe2",
   "metadata": {},
   "outputs": [
    {
     "name": "stdout",
     "output_type": "stream",
     "text": [
      "20\n"
     ]
    }
   ],
   "source": [
    "print(a)"
   ]
  },
  {
   "cell_type": "code",
   "execution_count": 29,
   "id": "de4a38af-add9-4106-ae03-1ab10c0d0b7d",
   "metadata": {},
   "outputs": [
    {
     "ename": "SyntaxError",
     "evalue": "'literal' is an illegal expression for augmented assignment (3795124093.py, line 1)",
     "output_type": "error",
     "traceback": [
      "\u001b[1;36m  Cell \u001b[1;32mIn [29], line 1\u001b[1;36m\u001b[0m\n\u001b[1;33m    10 *= 5\u001b[0m\n\u001b[1;37m    ^\u001b[0m\n\u001b[1;31mSyntaxError\u001b[0m\u001b[1;31m:\u001b[0m 'literal' is an illegal expression for augmented assignment\n"
     ]
    }
   ],
   "source": [
    "10 *= 5 "
   ]
  },
  {
   "cell_type": "code",
   "execution_count": null,
   "id": "55d9c749-868e-4d00-bea9-75923d07036d",
   "metadata": {},
   "outputs": [],
   "source": []
  },
  {
   "cell_type": "markdown",
   "id": "5a7ae129-cbee-4392-b78e-024f1b172847",
   "metadata": {},
   "source": [
    "### 8.1.2 숫자가 같은지 다른지 비교하기\n",
    "\n",
    "`==`(같다), `!=`(다르다)\n",
    "\n",
    "```python\n",
    "10 == 5    # False\n",
    "10 != 5    # True\n",
    "```"
   ]
  },
  {
   "cell_type": "code",
   "execution_count": null,
   "id": "c51a407e-bfd6-4a60-9a72-3a2a69ba3fa3",
   "metadata": {},
   "outputs": [],
   "source": []
  },
  {
   "cell_type": "markdown",
   "id": "a9ccdeb6-f253-4c16-a7e0-1d4b2fbb23d3",
   "metadata": {},
   "source": [
    "### 8.1.3 문자열이 같은지 다른지 비교하기\n",
    "\n",
    "```python\n",
    "\"Python\" == \"Python\"  # True\n",
    "\"Python\" == \"python\"  # False\n",
    "\"Python\" != \"python\"  # True\n",
    "```"
   ]
  },
  {
   "cell_type": "code",
   "execution_count": 33,
   "id": "3dd3e74c-16a0-4d30-9609-7ffc2a919012",
   "metadata": {},
   "outputs": [
    {
     "name": "stdout",
     "output_type": "stream",
     "text": [
      "True\n",
      "False\n",
      "True\n"
     ]
    }
   ],
   "source": [
    "print(\"Python\" == \"Python\")  # True\n",
    "print(\"Python\" == \"python\")  # False\n",
    "print(\"Python\" != \"python\")  # True"
   ]
  },
  {
   "cell_type": "markdown",
   "id": "dfa9ad9a-4298-491f-bdfb-a1347876390b",
   "metadata": {},
   "source": [
    "### 8.1.4 부등호 사용하기\n",
    "`>=`(왼쪽이크거나 같다), `<=`(오른쪽이크거나 같다)"
   ]
  },
  {
   "cell_type": "code",
   "execution_count": 35,
   "id": "820ee76b-981b-4a52-8be2-2a8ce1ba01db",
   "metadata": {},
   "outputs": [
    {
     "ename": "SyntaxError",
     "evalue": "cannot assign to literal (2761018608.py, line 1)",
     "output_type": "error",
     "traceback": [
      "\u001b[1;36m  Cell \u001b[1;32mIn [35], line 1\u001b[1;36m\u001b[0m\n\u001b[1;33m    10 => 9\u001b[0m\n\u001b[1;37m    ^\u001b[0m\n\u001b[1;31mSyntaxError\u001b[0m\u001b[1;31m:\u001b[0m cannot assign to literal\n"
     ]
    }
   ],
   "source": [
    "10 => 9"
   ]
  },
  {
   "cell_type": "code",
   "execution_count": 45,
   "id": "d701a204-e0f2-40cd-b57b-cf17cecb406b",
   "metadata": {},
   "outputs": [
    {
     "data": {
      "text/plain": [
       "True"
      ]
     },
     "execution_count": 45,
     "metadata": {},
     "output_type": "execute_result"
    }
   ],
   "source": [
    "not False"
   ]
  },
  {
   "cell_type": "code",
   "execution_count": null,
   "id": "c99c8bfc-6799-4061-97b2-ac1f78c2d967",
   "metadata": {},
   "outputs": [],
   "source": []
  },
  {
   "cell_type": "code",
   "execution_count": null,
   "id": "ee4cb815-ee44-4ef3-b424-069d5c16b0a8",
   "metadata": {},
   "outputs": [],
   "source": []
  },
  {
   "cell_type": "code",
   "execution_count": null,
   "id": "89f7297a-3c1e-45f6-a2f1-140bafc8b4cd",
   "metadata": {},
   "outputs": [],
   "source": []
  },
  {
   "cell_type": "code",
   "execution_count": null,
   "id": "9e1b4761-c041-4a84-b32b-38dd4c6a104d",
   "metadata": {},
   "outputs": [],
   "source": [
    "10 == 10"
   ]
  },
  {
   "cell_type": "code",
   "execution_count": null,
   "id": "84561e2b-4113-403c-b2a5-a4147eb056df",
   "metadata": {},
   "outputs": [],
   "source": [
    "not (10 <= 11)"
   ]
  },
  {
   "cell_type": "code",
   "execution_count": null,
   "id": "4a2dee4f-163f-4d5f-8773-fa7ea6781603",
   "metadata": {},
   "outputs": [],
   "source": [
    "not True"
   ]
  },
  {
   "cell_type": "markdown",
   "id": "dc8a3b89-6b6e-46d8-a974-395cf5595180",
   "metadata": {},
   "source": [
    "## 8.2 논리연산자\n",
    "- `or`: 두 개중 하나만 **True** 이면 **True** 그렇지 않으면 **False**\n",
    "- `and`:  두 개 모두 **True** 이면 **True** 그렇지 않으면 **False** \n",
    "- `not`: 논리 값을 반대로 (**True**이면 **False**, **False** 이면 **True**)\n",
    "\n",
    "|left|op|right|result|\n",
    "|--|--|--|--|\n",
    "|True|and|True|**True**|\n",
    "|True|and|False|**False**|\n",
    "|False|and|True|**False**|\n",
    "|False|and|False|**False**|\n",
    "|True|or|True|**True**|\n",
    "|True|or|False|**True**|\n",
    "|False|or|True|**True**|\n",
    "|False|or|False|**False**|"
   ]
  },
  {
   "cell_type": "markdown",
   "id": "a2a38d4e-656b-4403-858f-6c34e6c35dcd",
   "metadata": {},
   "source": [
    "#### or 연산자\n",
    "\n",
    "```python\n",
    "True or True\n",
    "True or False\n",
    "False or True\n",
    "False or False\n",
    "```"
   ]
  },
  {
   "cell_type": "code",
   "execution_count": null,
   "id": "019b4763-175a-4c7e-ac65-ca6840957bcd",
   "metadata": {},
   "outputs": [],
   "source": [
    "print(True or True)   # True\n",
    "print(True or False)  # True\n",
    "print(False or True)  # True\n",
    "print(False or False) # False"
   ]
  },
  {
   "cell_type": "markdown",
   "id": "0d39801d-98e0-4ad6-9b51-12f6e04a4305",
   "metadata": {},
   "source": [
    "#### and 연산자\n",
    "\n",
    "```python\n",
    "True and True\n",
    "True and False\n",
    "False and True\n",
    "False and False\n",
    "```"
   ]
  },
  {
   "cell_type": "code",
   "execution_count": null,
   "id": "31e043de-29ce-41b2-933c-f098f4f75efa",
   "metadata": {},
   "outputs": [],
   "source": [
    "print(True and True)   # True\n",
    "print(True and False)  # False\n",
    "print(False and True)  # False\n",
    "print(False and False)  # False"
   ]
  },
  {
   "cell_type": "markdown",
   "id": "4a4fc6c7-8be2-43da-8ba1-a0f07d03864b",
   "metadata": {},
   "source": [
    "#### not 연산자\n",
    "\n",
    "```python\n",
    "not True\n",
    "not False\n",
    "```"
   ]
  },
  {
   "cell_type": "code",
   "execution_count": 46,
   "id": "12eb832c-ef48-466d-b08b-b474a072e1ce",
   "metadata": {},
   "outputs": [
    {
     "data": {
      "text/plain": [
       "True"
      ]
     },
     "execution_count": 46,
     "metadata": {},
     "output_type": "execute_result"
    }
   ],
   "source": [
    "(10 == 10) and (10 != 5)  "
   ]
  },
  {
   "cell_type": "code",
   "execution_count": 47,
   "id": "fc0ba152-4fac-490d-bc84-3e96e0676841",
   "metadata": {},
   "outputs": [
    {
     "data": {
      "text/plain": [
       "True"
      ]
     },
     "execution_count": 47,
     "metadata": {},
     "output_type": "execute_result"
    }
   ],
   "source": [
    "10 == 10"
   ]
  },
  {
   "cell_type": "code",
   "execution_count": 48,
   "id": "de960f8a-ef6e-410a-90b9-c117c2939e9e",
   "metadata": {},
   "outputs": [
    {
     "data": {
      "text/plain": [
       "True"
      ]
     },
     "execution_count": 48,
     "metadata": {},
     "output_type": "execute_result"
    }
   ],
   "source": [
    "10 != 5"
   ]
  },
  {
   "cell_type": "code",
   "execution_count": 49,
   "id": "b64d2a36-13b9-459f-980c-8384c1546c16",
   "metadata": {},
   "outputs": [
    {
     "data": {
      "text/plain": [
       "True"
      ]
     },
     "execution_count": 49,
     "metadata": {},
     "output_type": "execute_result"
    }
   ],
   "source": [
    "(10 > 5) or (10 < 3) "
   ]
  },
  {
   "cell_type": "code",
   "execution_count": null,
   "id": "9587adb9-d73a-4656-8862-905e60056363",
   "metadata": {},
   "outputs": [],
   "source": []
  },
  {
   "cell_type": "code",
   "execution_count": null,
   "id": "f9bac64f-1c0e-4dcc-9a55-f732045b31ae",
   "metadata": {},
   "outputs": [],
   "source": []
  },
  {
   "cell_type": "code",
   "execution_count": null,
   "id": "bb1e08ef-2b11-4b59-a678-be3d79fe34de",
   "metadata": {},
   "outputs": [],
   "source": []
  },
  {
   "cell_type": "code",
   "execution_count": null,
   "id": "36f79737-2749-4de3-9007-e8005daddd92",
   "metadata": {},
   "outputs": [],
   "source": []
  },
  {
   "cell_type": "code",
   "execution_count": null,
   "id": "44d3a5db-8585-4042-8ab6-0c5e7eab3a81",
   "metadata": {},
   "outputs": [],
   "source": []
  },
  {
   "cell_type": "code",
   "execution_count": null,
   "id": "814386a4-4c06-45b2-b05a-b237badad903",
   "metadata": {},
   "outputs": [],
   "source": []
  },
  {
   "cell_type": "code",
   "execution_count": null,
   "id": "9d2dcf3b-eb08-4626-9377-5f7c8ce710e5",
   "metadata": {},
   "outputs": [],
   "source": []
  },
  {
   "cell_type": "code",
   "execution_count": null,
   "id": "fe74fbd9-dba4-4721-93af-226f226ca094",
   "metadata": {},
   "outputs": [],
   "source": []
  },
  {
   "cell_type": "code",
   "execution_count": null,
   "id": "36893dd7-fa3a-43da-8dd4-ce548e85a970",
   "metadata": {},
   "outputs": [],
   "source": []
  },
  {
   "cell_type": "markdown",
   "id": "ab4f62da-8235-406c-b2e4-ada5da2cc315",
   "metadata": {},
   "source": [
    "### 8.2.1 논리연산자와 비교연산자를 함께 사용하기\n",
    "\n",
    "```python\n",
    "(10 == 10) and (10 != 5)  # True and True --> True\n",
    "(10 > 5) or (10 < 3)      # True or False --> True\n",
    "not (10 > 5)              # not True > False\n",
    "```"
   ]
  },
  {
   "cell_type": "code",
   "execution_count": null,
   "id": "10bbb55c-d4a1-4fcd-af72-7d5b15230ce3",
   "metadata": {},
   "outputs": [],
   "source": [
    "print((10 == 10) and (10 != 5))  # True and True --> True\n",
    "print((10 > 5) or (10 < 3))      # True or False --> True\n",
    "print(not (10 > 5))              # not True > False"
   ]
  },
  {
   "cell_type": "code",
   "execution_count": null,
   "id": "a2aac421-f65d-4ec4-b228-d9593a20bbed",
   "metadata": {},
   "outputs": [],
   "source": [
    "(10 == 10) and (10 != 5)"
   ]
  },
  {
   "cell_type": "code",
   "execution_count": null,
   "id": "e6aaf6b2-d480-42ac-825f-32711b5bd338",
   "metadata": {},
   "outputs": [],
   "source": [
    "(10 != 5)"
   ]
  },
  {
   "cell_type": "code",
   "execution_count": null,
   "id": "38b3993e-c3ba-4aab-bc5f-0a93cb5fe422",
   "metadata": {},
   "outputs": [],
   "source": [
    "print(\n",
    "    (10 > 5) or \n",
    "    (10 < 3)\n",
    ") "
   ]
  },
  {
   "cell_type": "code",
   "execution_count": null,
   "id": "12776312-b982-4c1f-8d0e-dbee8d14a72f",
   "metadata": {},
   "outputs": [],
   "source": [
    "(10 < 3)"
   ]
  },
  {
   "cell_type": "code",
   "execution_count": 50,
   "id": "b2984b93-a1f8-4a13-8376-cc4b6c119732",
   "metadata": {},
   "outputs": [
    {
     "name": "stdout",
     "output_type": "stream",
     "text": [
      "a\n",
      "b\n"
     ]
    }
   ],
   "source": [
    "print(\"a\", \"b\", sep=\"\\n\")"
   ]
  },
  {
   "cell_type": "code",
   "execution_count": 51,
   "id": "79b08352-b31e-4bea-bd53-139adf223070",
   "metadata": {},
   "outputs": [
    {
     "name": "stderr",
     "output_type": "stream",
     "text": [
      "<>:1: SyntaxWarning: \"is\" with a literal. Did you mean \"==\"?\n",
      "<>:1: SyntaxWarning: \"is\" with a literal. Did you mean \"==\"?\n",
      "C:\\Users\\idept\\AppData\\Local\\Temp\\ipykernel_11000\\4248388793.py:1: SyntaxWarning: \"is\" with a literal. Did you mean \"==\"?\n",
      "  8 is 8\n"
     ]
    },
    {
     "data": {
      "text/plain": [
       "True"
      ]
     },
     "execution_count": 51,
     "metadata": {},
     "output_type": "execute_result"
    }
   ],
   "source": [
    "8 is 8"
   ]
  },
  {
   "cell_type": "code",
   "execution_count": 52,
   "id": "5403ade6-fd65-45df-8f14-a138deb28d5a",
   "metadata": {},
   "outputs": [
    {
     "data": {
      "text/plain": [
       "True"
      ]
     },
     "execution_count": 52,
     "metadata": {},
     "output_type": "execute_result"
    }
   ],
   "source": [
    "8 == 8"
   ]
  },
  {
   "cell_type": "code",
   "execution_count": 53,
   "id": "7ee2cc38-af5c-45d9-b39a-fe3885e23315",
   "metadata": {},
   "outputs": [
    {
     "data": {
      "text/plain": [
       "True"
      ]
     },
     "execution_count": 53,
     "metadata": {},
     "output_type": "execute_result"
    }
   ],
   "source": [
    "8 == 8.0"
   ]
  },
  {
   "cell_type": "code",
   "execution_count": 54,
   "id": "a945dda6-5fdd-4fe3-a222-69d718c467c3",
   "metadata": {},
   "outputs": [
    {
     "name": "stderr",
     "output_type": "stream",
     "text": [
      "<>:1: SyntaxWarning: \"is\" with a literal. Did you mean \"==\"?\n",
      "<>:1: SyntaxWarning: \"is\" with a literal. Did you mean \"==\"?\n",
      "C:\\Users\\idept\\AppData\\Local\\Temp\\ipykernel_11000\\1557232650.py:1: SyntaxWarning: \"is\" with a literal. Did you mean \"==\"?\n",
      "  8 is 8.0\n"
     ]
    },
    {
     "data": {
      "text/plain": [
       "False"
      ]
     },
     "execution_count": 54,
     "metadata": {},
     "output_type": "execute_result"
    }
   ],
   "source": [
    "8 is 8.0"
   ]
  },
  {
   "cell_type": "code",
   "execution_count": null,
   "id": "9156223b-657a-4ce3-b96d-210994434187",
   "metadata": {},
   "outputs": [],
   "source": []
  },
  {
   "cell_type": "markdown",
   "id": "abfeac28-1827-461c-9fc7-8c93b7315fe4",
   "metadata": {},
   "source": [
    "## 8.3 퀴즈\n",
    "https://dojang.io/mod/quiz/view.php?id=2193"
   ]
  },
  {
   "cell_type": "markdown",
   "id": "0fad1773-f563-40cc-9a19-255badffafc9",
   "metadata": {},
   "source": [
    "## 8.4 연습문제: 합격 여부 출력하기\n",
    "https://dojang.io/mod/page/view.php?id=2194"
   ]
  },
  {
   "cell_type": "markdown",
   "id": "8e3bf57a-f236-42ee-a83b-d82b1587d920",
   "metadata": {},
   "source": [
    "## 8.5 심사문제: 합격 여부 출력하기\n",
    "https://dojang.io/mod/quiz/view.php?id=2195"
   ]
  },
  {
   "cell_type": "markdown",
   "id": "e7c37f1c-0ef1-4814-b5a0-60e13d744beb",
   "metadata": {},
   "source": [
    "표준 입력으로 국어, 영어, 수학, 과학 점수가 입력됩니다. 국어는 90점 이상, 영어는 80점 초과, 수학은 85점 초과, 과학은 80점 이상일 때 합격이라고 정했습니다(한 과목이라도 조건에 만족하지 않으면 불합격). 다음 소스 코드를 완성하여 합격이면 True, 불합격이면 False가 출력되게 만드세요(input에서 안내 문자열은 출력하지 않아야 합니다).\n",
    "\n",
    "judge_comparison_logical_operator.py\n",
    "________________\n",
    "________________\n",
    "예\n",
    "입력\n",
    "90 81 86 80\n",
    "결과\n",
    "True\n",
    "입력\n",
    "90 80 85 80\n",
    "결과\n",
    "False\n",
    "\n",
    "국어는 90점 이상, 영어는 80점 초과, 수학은 85점 초과, 과학은 80점 이상일 때 합격이라고 정했습니다(한 과목이라도 조건에 만족하지 않으면 불합격"
   ]
  },
  {
   "cell_type": "code",
   "execution_count": null,
   "id": "63e95040-1877-4355-96ef-8afdedec5352",
   "metadata": {},
   "outputs": [],
   "source": [
    "a,b,c,d = map(int, input().split())\n",
    "print(a >= 90 and b > 80 and c > 85 and d >= 80)"
   ]
  },
  {
   "cell_type": "code",
   "execution_count": 5,
   "id": "49cb8490-2d4e-4495-800b-b8d1c6010a31",
   "metadata": {},
   "outputs": [],
   "source": [
    "if None :\n",
    "    print(\"h\")"
   ]
  },
  {
   "cell_type": "code",
   "execution_count": null,
   "id": "ca174f84-0a84-4434-bfe4-7f4c74e66cc1",
   "metadata": {},
   "outputs": [],
   "source": []
  },
  {
   "cell_type": "code",
   "execution_count": null,
   "id": "60faa179-a75e-4332-a735-7d33a55376e7",
   "metadata": {},
   "outputs": [],
   "source": []
  },
  {
   "cell_type": "code",
   "execution_count": null,
   "id": "16bf98d5-1177-4c7f-a4e0-108d3341f3e9",
   "metadata": {},
   "outputs": [],
   "source": []
  },
  {
   "cell_type": "raw",
   "id": "4ad1ee36-e677-4484-b934-3f79da5c4806",
   "metadata": {},
   "source": [
    "표준 입력으로 국어, 영어, 수학, 과학 점수가 입력됩니다. 국어는 90점 이상, 영어는 80점 초과, 수학은 85점 초과, 과학은 80점 이상일 때 합격이라고 정했습니다(한 과목이라도 조건에 만족하지 않으면 불합격). 다음 소스 코드를 완성하여 합격이면 True, 불합격이면 False가 출력되게 만드세요(input에서 안내 문자열은 출력하지 않아야 합니다).\n",
    "\n",
    "judge_comparison_logical_operator.py\n",
    "________________\n",
    "________________\n",
    "예\n",
    "입력\n",
    "90 81 86 80\n",
    "결과\n",
    "True"
   ]
  },
  {
   "cell_type": "code",
   "execution_count": 57,
   "id": "b90690ae-d39b-4dcd-8fe6-dc459f776d84",
   "metadata": {},
   "outputs": [
    {
     "name": "stdin",
     "output_type": "stream",
     "text": [
      " 90 80 85 80\n"
     ]
    },
    {
     "name": "stdout",
     "output_type": "stream",
     "text": [
      "False\n"
     ]
    }
   ],
   "source": [
    "a,b,c,d = map(int, input().split())\n",
    "print((a>=90) and (b>80) and (c>85) and (d>=80))"
   ]
  },
  {
   "cell_type": "code",
   "execution_count": 58,
   "id": "14a40007-ef22-474f-aff6-490a80d5d717",
   "metadata": {},
   "outputs": [
    {
     "name": "stdout",
     "output_type": "stream",
     "text": [
      "첫 번째 프로그램입니다.\n"
     ]
    }
   ],
   "source": [
    "print(\"첫 번째 프로그램입니다.\")"
   ]
  },
  {
   "cell_type": "code",
   "execution_count": 59,
   "id": "e0aeccf3-56c9-489c-8d1e-6a5ebeb904f3",
   "metadata": {},
   "outputs": [
    {
     "name": "stdout",
     "output_type": "stream",
     "text": [
      "Python\n"
     ]
    }
   ],
   "source": [
    "print(\"Python\")"
   ]
  },
  {
   "cell_type": "code",
   "execution_count": 60,
   "id": "4d757b9b-2d26-437d-8335-884858e12875",
   "metadata": {},
   "outputs": [
    {
     "name": "stdout",
     "output_type": "stream",
     "text": [
      "두 번째 프로그램입니다.\n",
      "2\n",
      "번째 프로그램입니다.\n"
     ]
    }
   ],
   "source": [
    "\n",
    "print(\"두 번째 프로그램입니다.\") \n",
    "print(\"2\")\n",
    "print(\"번째 프로그램입니다.\")"
   ]
  },
  {
   "cell_type": "code",
   "execution_count": 61,
   "id": "82855850-1090-4812-9c39-c36c815c5359",
   "metadata": {},
   "outputs": [
    {
     "name": "stdout",
     "output_type": "stream",
     "text": [
      "두 번째 프로그램입니다.\n",
      "2\n",
      "번째 프로그램입니다.\n"
     ]
    }
   ],
   "source": [
    "print(\"두 번째 프로그램입니다.\", \n",
    "\"2\",\n",
    "\"번째 프로그램입니다.\",\n",
    "sep=\"\\n\")"
   ]
  },
  {
   "cell_type": "code",
   "execution_count": 62,
   "id": "d6c2cc36-b2be-4eea-a104-cef9b63e9818",
   "metadata": {},
   "outputs": [
    {
     "name": "stdout",
     "output_type": "stream",
     "text": [
      "두 번째 프로그램입니다. \n",
      "2\n",
      "번째 프로그램입니다.\n"
     ]
    }
   ],
   "source": [
    "print(\"\"\"두 번째 프로그램입니다. \n",
    "2\n",
    "번째 프로그램입니다.\"\"\")"
   ]
  },
  {
   "cell_type": "code",
   "execution_count": null,
   "id": "03371111-ab32-46ed-97ec-6d5f49768094",
   "metadata": {},
   "outputs": [],
   "source": [
    "두 개의 변수에 각각 10과 20을 대입한 후 아래와 같이 숫자를 바꾸어 출력하는 프로그램을\n",
    "작성하시오. "
   ]
  },
  {
   "cell_type": "code",
   "execution_count": null,
   "id": "791aed06-7305-43ca-98cb-60f4550df850",
   "metadata": {},
   "outputs": [],
   "source": []
  },
  {
   "cell_type": "code",
   "execution_count": null,
   "id": "28494b77-7aab-441c-bca3-560306b0095a",
   "metadata": {},
   "outputs": [],
   "source": [
    "두 개의 정수를 입력 받아 합과 곱을 출력하시오 \n"
   ]
  },
  {
   "cell_type": "code",
   "execution_count": null,
   "id": "772a9cf0-eda4-4c47-b115-2ef95f145e7f",
   "metadata": {},
   "outputs": [],
   "source": [
    "a = int(input(\""
   ]
  },
  {
   "cell_type": "code",
   "execution_count": null,
   "id": "7362f79a-d2ca-4a04-9bdb-1157d049578a",
   "metadata": {},
   "outputs": [],
   "source": []
  }
 ],
 "metadata": {
  "kernelspec": {
   "display_name": "Python 3 (ipykernel)",
   "language": "python",
   "name": "python3"
  },
  "language_info": {
   "codemirror_mode": {
    "name": "ipython",
    "version": 3
   },
   "file_extension": ".py",
   "mimetype": "text/x-python",
   "name": "python",
   "nbconvert_exporter": "python",
   "pygments_lexer": "ipython3",
   "version": "3.10.6"
  }
 },
 "nbformat": 4,
 "nbformat_minor": 5
}
