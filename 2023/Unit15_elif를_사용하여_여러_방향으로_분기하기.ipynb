{
 "cells": [
  {
   "cell_type": "markdown",
   "id": "d583ac9a-409a-49d3-a153-77f732514e11",
   "metadata": {},
   "source": [
    "# Unit 15. elif를 사용하여 여러 방향으로 분기하기\n",
    "\n",
    "elif는 조건식을 여러 개 지정하여 각 조건 마다 다른 코드를 실행할 수 있습니다.\n",
    "\n",
    "```python\n",
    "if 콜라 버튼을 눌렀다면:\n",
    "    콜라를 내보냄\n",
    "elif 사이다 버튼을 눌렀다면:\n",
    "    사이다를 내보냄\n",
    "elif 환타 버튼을 눌렀다면:\n",
    "    환타를 내보냄:\n",
    "else:\n",
    "    제공하지 않는 메뉴\n",
    "```"
   ]
  },
  {
   "cell_type": "markdown",
   "id": "6ceeedaa-e150-434c-b03f-cb9f57555b54",
   "metadata": {},
   "source": [
    "## 15.1 elif 사용하기\n",
    "\n",
    "`elif`는 `else`인 상태에서 조건식을 지정할 때 사용하며 `else if`라는 뜻입니다.  \n",
    "물론 `if`, `else`와 마찬가지로 조건식 끝에 `:`(콜론)을 붙여야 하고,  \n",
    "`elif` 단독으로 사용할 수 없습니다.\n",
    "\n",
    "```python\n",
    "if 조건식:\n",
    "     코드1\n",
    "elif 조건식:\n",
    "     코드2\n",
    "        \n",
    "```        \n",
    "그럼 다음과 같이 들여쓰기를 맞춰서 파이썬 셸에 코드를 입력해보세요.\n",
    "\n",
    "```ipython\n",
    ">>> x = 20\n",
    ">>> if x == 10:\n",
    "...      print('10입니다.')\n",
    "... elif x == 20:\n",
    "...      print('20입니다.')\n",
    "... \n",
    "20입니다.\n",
    "```"
   ]
  },
  {
   "cell_type": "code",
   "execution_count": null,
   "id": "79efac26-ca11-44d1-a7dc-8b03752c81e6",
   "metadata": {},
   "outputs": [],
   "source": []
  },
  {
   "cell_type": "markdown",
   "id": "f2f726dd-fd5a-421d-bc1c-2417a626da37",
   "metadata": {},
   "source": [
    "### 15.1.1  if, elif, else를 모두 사용하기\n",
    "\n",
    "`elif`와 `else`는 단독으로 사용할 수 없으며  \n",
    "`if`, `else` 형태로 사용하거나, `if`, `elif`, `else` 형태로 사용합니다. \n",
    "\n",
    "```python\n",
    "if 조건식:\n",
    "    코드1\n",
    "elif 조건식:\n",
    "    코드2\n",
    "else:\n",
    "    코드3\n",
    "```    \n",
    "    \n",
    "예제\n",
    "    \n",
    "```python\n",
    "x = 30\n",
    " \n",
    "if x == 10:             # x가 10일 때\n",
    "    print('10입니다.')\n",
    "elif x == 20:           # x가 20일 때\n",
    "    print('20입니다.')\n",
    "else:                   # 앞의 조건식에 모두 만족하지 않을 때\n",
    "    print('10도 20도 아닙니다.')\n",
    "```\n",
    "\n",
    "실행결과\n",
    "\n",
    "```bash\n",
    "10도 20도 아닙니다.\n",
    "```\n"
   ]
  },
  {
   "cell_type": "code",
   "execution_count": null,
   "id": "1d08c176-7716-456b-9576-22f0dcdb2f01",
   "metadata": {},
   "outputs": [],
   "source": []
  },
  {
   "cell_type": "markdown",
   "id": "9b35750b-de95-42c0-bc9a-3ad79dfdb57c",
   "metadata": {},
   "source": [
    "만약 `elif` 앞에 `else`가 오면 잘못된 문법이므로 주의해야 합니다.\n",
    "\n",
    "```python\n",
    "if x == 10:\n",
    "    print('10입니다.')\n",
    "else:\n",
    "    print('10도 20도 아닙니다.')\n",
    "elif x == 20:    # elif 앞에 else가 오면 잘못된 문법\n",
    "    print('20입니다.')\n",
    "```"
   ]
  },
  {
   "cell_type": "code",
   "execution_count": null,
   "id": "f9985a37-a1c8-47f7-ad3e-f3a89f980868",
   "metadata": {},
   "outputs": [],
   "source": []
  },
  {
   "cell_type": "markdown",
   "id": "158c2a59-a7db-47db-9338-739f106ae172",
   "metadata": {},
   "source": [
    "### 15.1.2  음료수 자판기 만들기\n",
    "\n",
    "이제 음료수 자판기를 만들어봅시다. \n",
    "\n",
    "```python\n",
    "button = int(input())\n",
    " \n",
    "if button == 1:\n",
    "    print('콜라')\n",
    "elif button == 2:\n",
    "    print('사이다')\n",
    "elif button == 3:\n",
    "    print('환타')\n",
    "else:\n",
    "    print('제공하지 않는 메뉴')\n",
    "```\n",
    "\n",
    "실행 결과\n",
    "\n",
    "```bash\n",
    "1 (입력)\n",
    "콜라\n",
    "```"
   ]
  },
  {
   "cell_type": "code",
   "execution_count": null,
   "id": "52b2e09f-8735-4365-abbe-d5b2157706c4",
   "metadata": {},
   "outputs": [],
   "source": []
  },
  {
   "cell_type": "markdown",
   "id": "e935abb1-26fa-4ec9-9219-97e6c54c0eb4",
   "metadata": {},
   "source": [
    "## 15.2 퀴즈\n",
    "https://dojang.io/mod/quiz/view.php?id=2236"
   ]
  },
  {
   "cell_type": "markdown",
   "id": "271a815f-b21d-4852-8692-8a3c35686dbd",
   "metadata": {},
   "source": [
    "## 15.3 연습문제: if, elif, else 모두 사용하기\n",
    "https://dojang.io/mod/page/view.php?id=2237"
   ]
  },
  {
   "cell_type": "markdown",
   "id": "a6b0309f-3360-4366-bb01-9ee167ab3061",
   "metadata": {},
   "source": [
    "## 15.4 심사문제: 교통카드 시스템 만들기\n",
    "https://dojang.io/mod/quiz/view.php?id=2238"
   ]
  },
  {
   "cell_type": "code",
   "execution_count": null,
   "id": "5bed1024-5190-40c7-ae8f-c86e61d3520d",
   "metadata": {},
   "outputs": [],
   "source": []
  },
  {
   "cell_type": "code",
   "execution_count": null,
   "id": "1de96a78-9fe4-4432-9733-4034c8d1af8f",
   "metadata": {},
   "outputs": [],
   "source": []
  },
  {
   "cell_type": "code",
   "execution_count": null,
   "id": "d1790542-d231-4d59-8a60-52a74e8e76ea",
   "metadata": {},
   "outputs": [],
   "source": []
  },
  {
   "cell_type": "code",
   "execution_count": null,
   "id": "2d8f3394-6e80-44a9-9287-908ba81fae4a",
   "metadata": {},
   "outputs": [],
   "source": []
  },
  {
   "cell_type": "code",
   "execution_count": null,
   "id": "0dfb4ccd-1088-40d0-8d40-7a8b4fad41a6",
   "metadata": {},
   "outputs": [],
   "source": []
  },
  {
   "cell_type": "code",
   "execution_count": null,
   "id": "06a2d329-cc19-4919-ad8e-c1ed1fb3e279",
   "metadata": {},
   "outputs": [],
   "source": []
  }
 ],
 "metadata": {
  "kernelspec": {
   "display_name": "Python 3 (ipykernel)",
   "language": "python",
   "name": "python3"
  },
  "language_info": {
   "codemirror_mode": {
    "name": "ipython",
    "version": 3
   },
   "file_extension": ".py",
   "mimetype": "text/x-python",
   "name": "python",
   "nbconvert_exporter": "python",
   "pygments_lexer": "ipython3",
   "version": "3.10.6"
  }
 },
 "nbformat": 4,
 "nbformat_minor": 5
}
