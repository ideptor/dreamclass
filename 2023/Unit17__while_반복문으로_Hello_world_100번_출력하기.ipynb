{
 "cells": [
  {
   "cell_type": "markdown",
   "id": "bde33f5c-eec9-40cf-9a76-5e4a5c90e2f0",
   "metadata": {},
   "source": [
    "# Unit 17. while 반복문으로 Hello, world! 100번 출력하기\n",
    "\n",
    "while 반복문은 조건식으로만 동작하며 반복할 코드 안에 조건식에 영향을 주는 변화식이 들어갑니다.\n",
    "\n",
    "```python\n",
    "i = 0                     # 초기식\n",
    "while i < 100:            # while 조건식\n",
    "     print('Hello, world!')    # 반복할 코드\n",
    "     i += 1                    # 변화식\n",
    "```"
   ]
  },
  {
   "cell_type": "code",
   "execution_count": null,
   "id": "2f5d0161-0b4d-49c3-b6db-c1da7a33ea72",
   "metadata": {},
   "outputs": [],
   "source": []
  },
  {
   "cell_type": "markdown",
   "id": "19f04083-496b-43b4-97d8-5fede663add4",
   "metadata": {},
   "source": [
    "# 17.1 while 반복문 사용하기\n",
    "\n",
    "다음과 같이 `while` 반복문은 조건식을 지정하고 끝에 `:`(콜론)을 붙인 뒤  \n",
    "다음 줄에 반복할 코드와 변화식을 넣습니다. \n",
    "\n",
    "> 초기식  \n",
    "> while 조건식:  \n",
    ">      반복할 코드  \n",
    ">      변화식  \n",
    "\n",
    "while 다음 줄에 오는 코드는 반드시 들여쓰기를 해줍니다.\n",
    "\n",
    "이제 while 반복문으로 'Hello, world!'를 100번 출력해보겠습니다.\n",
    "\n",
    "```ipython\n",
    ">>> i = 0\n",
    ">>> while i < 100:\n",
    "...      print('Hello, world!')\n",
    "...      i += 1\n",
    "... \n",
    "Hello, world!\n",
    "... (생략)\n",
    "Hello, world!\n",
    "Hello, world!\n",
    "Hello, world!\n",
    "```"
   ]
  },
  {
   "cell_type": "code",
   "execution_count": 3,
   "id": "847c1163-1db5-4a14-a662-aee21ed9c68d",
   "metadata": {},
   "outputs": [
    {
     "name": "stdout",
     "output_type": "stream",
     "text": [
      "안녕하세요\n",
      "안녕하세요\n",
      "안녕하세요\n",
      "안녕하세요\n",
      "안녕하세요\n",
      "안녕하세요\n",
      "안녕하세요\n",
      "안녕하세요\n",
      "안녕하세요\n",
      "안녕하세요\n"
     ]
    }
   ],
   "source": [
    "i = 0\n",
    "while i < 10:\n",
    "    print(\"안녕하세요\")\n",
    "    i += 1"
   ]
  },
  {
   "cell_type": "markdown",
   "id": "a36ab763-4df2-41ab-b542-6f9100a7ec7d",
   "metadata": {},
   "source": [
    "### 17.1.1  초깃값을 1부터 시작하기\n",
    "\n",
    "\n",
    "```ipython\n",
    ">>> i = 1\n",
    ">>> while i <= 100:\n",
    "...     print('Hello, world!', i)\n",
    "...     i += 1\n",
    "...\n",
    "Hello, world! 1\n",
    "Hello, world! 2\n",
    "Hello, world! 3\n",
    "...  (생략)\n",
    "Hello, world! 99\n",
    "Hello, world! 100\n",
    "```"
   ]
  },
  {
   "cell_type": "code",
   "execution_count": null,
   "id": "60484ff5-e8b9-44cd-8879-39718e95b9a3",
   "metadata": {},
   "outputs": [],
   "source": []
  },
  {
   "cell_type": "markdown",
   "id": "4f9ba674-a5b5-4dda-a62d-a95dfb003b4b",
   "metadata": {},
   "source": [
    "### 17.1.2  초깃값을 감소시키기\n",
    "\n",
    "```ipython\n",
    ">>> i = 100\n",
    ">>> while i > 0:\n",
    "...     print('Hello, world!', i)\n",
    "...     i -= 1\n",
    "...\n",
    "Hello, world! 100\n",
    "Hello, world! 99\n",
    "Hello, world! 98\n",
    "... (생략)\n",
    "Hello, world! 2\n",
    "Hello, world! 1\n",
    "```"
   ]
  },
  {
   "cell_type": "code",
   "execution_count": null,
   "id": "94b0481a-5e24-4855-918c-d4dd98291f9e",
   "metadata": {},
   "outputs": [],
   "source": []
  },
  {
   "cell_type": "markdown",
   "id": "4126adf6-97c0-409a-8f5b-7ff97bede02e",
   "metadata": {},
   "source": [
    "### 17.1.3  입력한 횟수대로 반복하기\n",
    "\n",
    "```python\n",
    "count = int(input('반복할 횟수를 입력하세요: '))\n",
    " \n",
    "i = 0\n",
    "while i < count:     # i가 count보다 작을 때 반복\n",
    "    print('Hello, world!', i)\n",
    "    i += 1\n",
    "```    \n",
    "    \n",
    "소스 코드를 실행하면 '반복할 횟수를 입력하세요: '가 출력됩니다.  \n",
    "여기서 3을 입력하고 엔터 키를 누르세요.\n",
    "\n",
    "실행 결과\n",
    "```bash\n",
    "반복할 횟수를 입력하세요: 3 (입력)\n",
    "Hello, world! 0\n",
    "Hello, world! 1\n",
    "Hello, world! 2\n",
    "```"
   ]
  },
  {
   "cell_type": "code",
   "execution_count": null,
   "id": "9f2542f0-63c6-47cd-828a-98cdfd55487f",
   "metadata": {},
   "outputs": [],
   "source": []
  },
  {
   "cell_type": "markdown",
   "id": "d7e84fd7-b382-4ad8-b7f7-42bd3ed7b680",
   "metadata": {},
   "source": [
    "이번에는 초깃값을 받은 뒤 초깃값만큼 출력해보겠습니다.\n",
    "\n",
    "```python\n",
    "while_input_decrement.py\n",
    "count = int(input('반복할 횟수를 입력하세요: '))\n",
    " \n",
    "while count > 0:     # count가 0보다 클 때 반복\n",
    "    print('Hello, world!', count)\n",
    "    count -= 1       # count를 1씩 감소시킴\n",
    "```\n",
    "\n",
    "실행 결과\n",
    "\n",
    "```bash\n",
    "반복할 횟수를 입력하세요: 3 (입력)\n",
    "Hello, world! 3\n",
    "Hello, world! 2\n",
    "Hello, world! 1\n",
    "```"
   ]
  },
  {
   "cell_type": "code",
   "execution_count": null,
   "id": "34b212ff-d333-4d5f-913d-b58c45c52660",
   "metadata": {},
   "outputs": [],
   "source": []
  },
  {
   "cell_type": "markdown",
   "id": "4a6e6fb3-ed2f-443c-ba58-b8eca066bf7e",
   "metadata": {},
   "source": [
    "## 17.2 반복 횟수가 정해지지 않은 경우\n",
    "\n",
    "이번에는 난수를 생성해서 숫자에 따라 반복을 끝내 보겠습니다.  \n",
    "`난수`(random number)란 특정 주기로 반복되지 않으며 규칙 없이 무작위로 나열되는 숫자를 뜻합니다.  \n",
    "현실에서 쉽게 접할 수 있는 난수가 바로 주사위를 굴려서 나온 숫자입니다.\n",
    "\n",
    "파이썬에서 난수를 생성하려면 random 모듈이 필요합니다. \n",
    "모듈은 다음과 같이 import 키워드를 사용하여 가져올 수 있습니다\n",
    "\n",
    "\n",
    "> import random    # random 모듈을 가져옴\n",
    "\n",
    "이제 random.random()으로 random 모듈의 random 함수를 호출해봅니다.\n",
    "\n",
    "```ipython\n",
    ">>> random.random()\n",
    "0.002383731799935007\n",
    ">>> random.random()\n",
    "0.3297914484498006\n",
    ">>> random.random()\n",
    "0.6923390064955324\n",
    "```\n"
   ]
  },
  {
   "cell_type": "code",
   "execution_count": null,
   "id": "05a27cc1-01b6-4929-b88c-51bfb1e8a08b",
   "metadata": {},
   "outputs": [],
   "source": []
  },
  {
   "cell_type": "markdown",
   "id": "c5131abf-1c76-4404-b1c8-c2e2c6c9084e",
   "metadata": {},
   "source": [
    "우리는 숫자를 좀 더 알아보기 쉽도록 정수를 생성하는 random 모듈의 randint 함수를 사용해보겠습니다.  \n",
    "다음과 같이 randint 함수는 난수를 생성할 범위를 지정하며, 범위에 지정한 숫자도 난수에 포함됩니다.\n",
    "\n",
    "> random.randint(a, b)\n",
    "\n",
    "그럼 randint 함수로 주사위를 만들어보겠습니다. \n",
    "random.randint(1, 6)처럼 1과 6을 넣으면 1과 6 사이의 난수가 생성됩니다.\n",
    "\n",
    "```ipython\n",
    ">>> random.randint(1, 6)\n",
    "4\n",
    ">>> random.randint(1, 6)\n",
    "1\n",
    ">>> random.randint(1, 6)\n",
    "5\n",
    "```"
   ]
  },
  {
   "cell_type": "code",
   "execution_count": null,
   "id": "c3f71f64-b26f-4d45-9871-79e2385298a4",
   "metadata": {},
   "outputs": [],
   "source": []
  },
  {
   "cell_type": "markdown",
   "id": "6712304a-938a-4610-b89a-e214c4d7f1b3",
   "metadata": {},
   "source": [
    "다음은 1과 6 사이의 난수를 생성한 뒤 3이 나오면 반복을 끝냅니다.  \n",
    "그냥 3이 나올 때까지 주사위를 계속 던지는 행동과 같습니다.\n",
    "\n",
    "```python\n",
    "import random    # random 모듈을 가져옴\n",
    " \n",
    "i = 0\n",
    "while i != 3:    # 3이 아닐 때 계속 반복\n",
    "    i = random.randint(1, 6)    # randint를 사용하여 1과 6 사이의 난수를 생성\n",
    "    print(i)\n",
    "```\n",
    "\n",
    "실행 결과\n",
    "\n",
    "```bash\n",
    "5\n",
    "1\n",
    "4\n",
    "1\n",
    "1\n",
    "3 \n",
    "```"
   ]
  },
  {
   "cell_type": "code",
   "execution_count": null,
   "id": "3339b2d4-a22e-447e-ac05-770b5eeaf89b",
   "metadata": {},
   "outputs": [],
   "source": []
  },
  {
   "cell_type": "markdown",
   "id": "8e20f901-fa68-4e6b-943e-ebad1c5c549d",
   "metadata": {},
   "source": [
    "## 17.3 while 반복문으로 무한 루프 만들기\n",
    "\n",
    "이번에는 while 반복문으로 무한 루프를 만들어보겠습니다.\n",
    "\n",
    "```python\n",
    "cnt = 0\n",
    "while True:    # while에 True를 지정하면 무한 루프\n",
    "    print('Hello, world!', cnt)\n",
    "    cnt+=1\n",
    "```    \n",
    "    \n",
    "실행 결과\n",
    "\n",
    "```bash\n",
    "... (생략)\n",
    "Hello, world!\n",
    "Hello, world!\n",
    "Hello, world!\n",
    "Hello, world!\n",
    "... (계속 반복)\n",
    "```\n",
    "\n",
    "이 스크립트 파일을 실행한 상태로 두면 'Hello, world!'는 끝나지 않고 계속 출력됩니다.  \n",
    "따라서 IDLE이나 콘솔(터미널, 명령 프롬프트)에서 Ctrl+C를 입력하여 무한 루프를 끝냅니다.  \n",
    "(jupyter notebook 에서는 실행하지 마세요)"
   ]
  },
  {
   "cell_type": "code",
   "execution_count": null,
   "id": "ceb64530-ae1c-421f-8a85-48ffdc57ea46",
   "metadata": {},
   "outputs": [],
   "source": []
  },
  {
   "cell_type": "markdown",
   "id": "e8aa75a3-3803-4da2-909c-12284a2c5877",
   "metadata": {},
   "source": [
    "## 17.4 퀴즈\n",
    "https://dojang.io/mod/quiz/view.php?id=2250"
   ]
  },
  {
   "cell_type": "markdown",
   "id": "a4caf5d6-4b7a-408c-8de7-92376c61ff42",
   "metadata": {},
   "source": [
    "## 17.5 연습문제: 변수 두 개를 다르게 반복하기\n",
    "https://dojang.io/mod/page/view.php?id=2251"
   ]
  },
  {
   "cell_type": "markdown",
   "id": "4009ce21-3b04-45bb-b367-8ca503c5aa71",
   "metadata": {},
   "source": [
    "## 17.6 심사문제: 교통카드 잔액 출력하기\n",
    "https://dojang.io/mod/quiz/view.php?id=2252"
   ]
  },
  {
   "cell_type": "code",
   "execution_count": null,
   "id": "2ce937fc-b2eb-4935-a5ec-c9ec522c2633",
   "metadata": {},
   "outputs": [],
   "source": []
  },
  {
   "cell_type": "code",
   "execution_count": null,
   "id": "97bc413b-ea72-4c69-b81e-cb91d813f8a6",
   "metadata": {},
   "outputs": [],
   "source": []
  },
  {
   "cell_type": "code",
   "execution_count": null,
   "id": "bf752324-4c4c-43af-b248-060c9c87506e",
   "metadata": {},
   "outputs": [],
   "source": []
  },
  {
   "cell_type": "code",
   "execution_count": null,
   "id": "ad0e4b6a-2324-4fff-a637-7bc3c1a7c313",
   "metadata": {},
   "outputs": [],
   "source": []
  },
  {
   "cell_type": "code",
   "execution_count": null,
   "id": "6b5d5895-91e2-47b9-bbdd-7591f46666a7",
   "metadata": {},
   "outputs": [],
   "source": []
  },
  {
   "cell_type": "code",
   "execution_count": null,
   "id": "acdb13fc-9b81-4f42-8798-4c23ab1c0751",
   "metadata": {},
   "outputs": [],
   "source": []
  },
  {
   "cell_type": "code",
   "execution_count": 3,
   "id": "6f7685dd-2cae-4c30-b7b9-eeac8b258d64",
   "metadata": {},
   "outputs": [
    {
     "name": "stdin",
     "output_type": "stream",
     "text": [
      " 13500\n"
     ]
    },
    {
     "name": "stdout",
     "output_type": "stream",
     "text": [
      "12150\n",
      "10800\n",
      "9450\n",
      "8100\n",
      "6750\n",
      "5400\n",
      "4050\n",
      "2700\n",
      "1350\n",
      "0\n"
     ]
    }
   ],
   "source": [
    "balance = int(input())\n",
    "while balance >= 1350:\n",
    "    balance -= 1350\n",
    "    print(balance)"
   ]
  },
  {
   "cell_type": "code",
   "execution_count": null,
   "id": "ed7fc253-63f1-411c-9ec4-6cbbf9464692",
   "metadata": {},
   "outputs": [],
   "source": []
  }
 ],
 "metadata": {
  "kernelspec": {
   "display_name": "Python 3 (ipykernel)",
   "language": "python",
   "name": "python3"
  },
  "language_info": {
   "codemirror_mode": {
    "name": "ipython",
    "version": 3
   },
   "file_extension": ".py",
   "mimetype": "text/x-python",
   "name": "python",
   "nbconvert_exporter": "python",
   "pygments_lexer": "ipython3",
   "version": "3.10.6"
  }
 },
 "nbformat": 4,
 "nbformat_minor": 5
}
