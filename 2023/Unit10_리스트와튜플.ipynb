{
 "cells": [
  {
   "cell_type": "markdown",
   "id": "13d6f1c6-335a-4a2e-b53c-827a8d01959b",
   "metadata": {},
   "source": [
    "# Unit 10. 리스트(list)와 튜플(tuple) 사용하기 (feat. 만들기)"
   ]
  },
  {
   "cell_type": "markdown",
   "id": "2db64dd1-eae8-4f8d-87c6-2666f3eba4f2",
   "metadata": {},
   "source": [
    "지금까지 변수에는 값을 한 개씩만 저장했습니다.\n",
    "```python\n",
    "a = 10\n",
    "b = 20\n",
    "```\n",
    "그럼 값을 30개 저장하려면 어떻게 해야 할까요? 다음과 같이 변수 30개에 값 30개를 저장하면 됩니다.\n",
    "```python\n",
    "a1 = 10\n",
    "a2 = 20\n",
    "# ... (생략)\n",
    "a29 = 60\n",
    "a30 = 40\n",
    "```\n",
    "변수 30개를 일일이 타이핑하기는 쉽지 않습니다.  \n",
    "만약 저장할 값이 3,000개라면 정말 끔찍하죠?  \n",
    "이때는 리스트를 사용하면 편리합니다.  \n",
    "리스트는 말 그대로 목록이라는 뜻이며 값을 일렬로 늘어놓은 형태입니다  \n",
    "(보통 리스트의 값은 코드로 생성하는 경우가 많아서 타이핑할 일이 거의 없습니다)."
   ]
  },
  {
   "cell_type": "markdown",
   "id": "4da8e66a-061c-49f2-a918-7f89256bba2a",
   "metadata": {},
   "source": [
    "## 10.1 리스트 만들기\n",
    "\n",
    "변수에 값을 저장할 때 `[ ]`(대괄호)로 묶어주면 리스트가 되며 각 값은 `,`(콤마)로 구분해줍니다.\n",
    "\n",
    "> 리스트 = [값, 값, 값]\n",
    "\n",
    "그럼 숫자가 5개 들어있는 리스트를 만들어보겠습니다.\n",
    "\n",
    "```ipython\n",
    ">>> a = [38, 21, 53, 62, 19]\n",
    ">>> a\n",
    "[38, 21, 53, 62, 19]\n",
    "```\n",
    "\n",
    "`a = [38, 21, 53, 62, 19]`와 같이 변수에 `[ ]`로 값을 저장하여 리스트를 만들었습니다.  \n",
    "특히 리스트에 저장된 각 값 `요소(element)`라고 부릅니다.  \n",
    "이 단어를 잘 기억해두세요."
   ]
  },
  {
   "cell_type": "code",
   "execution_count": 1,
   "id": "b6d1f72d-a620-4ea3-80b9-bda1b8974680",
   "metadata": {},
   "outputs": [
    {
     "name": "stdout",
     "output_type": "stream",
     "text": [
      "[1, 2, 3, 4, 5]\n"
     ]
    }
   ],
   "source": [
    "a = [1,2,3,4,5]\n",
    "print(a)"
   ]
  },
  {
   "cell_type": "code",
   "execution_count": 4,
   "id": "67195919-68d4-4f6c-9bbe-b3dbc7a24ea2",
   "metadata": {},
   "outputs": [],
   "source": [
    "a = list(range(1,101))"
   ]
  },
  {
   "cell_type": "code",
   "execution_count": 10,
   "id": "accf9c4b-4d67-4bf3-a239-00c9b5ea0b0b",
   "metadata": {},
   "outputs": [
    {
     "name": "stdin",
     "output_type": "stream",
     "text": [
      " 1 2 3 4 5\n"
     ]
    },
    {
     "name": "stdout",
     "output_type": "stream",
     "text": [
      "1 2 3 4 5\n"
     ]
    }
   ],
   "source": [
    "b = input()\n",
    "print(b)"
   ]
  },
  {
   "cell_type": "code",
   "execution_count": 17,
   "id": "2cceb063-0516-4ec1-a881-d047e4bc37f2",
   "metadata": {},
   "outputs": [],
   "source": [
    "b=b.split()"
   ]
  },
  {
   "cell_type": "code",
   "execution_count": 18,
   "id": "0ce5db1c-ebc3-4974-9664-bab89e591aa0",
   "metadata": {},
   "outputs": [
    {
     "name": "stdout",
     "output_type": "stream",
     "text": [
      "['1', '2', '3', '4', '5']\n"
     ]
    }
   ],
   "source": [
    "print(b)"
   ]
  },
  {
   "cell_type": "code",
   "execution_count": 26,
   "id": "b2554fba-e085-4842-8d15-6097033001fb",
   "metadata": {},
   "outputs": [
    {
     "data": {
      "text/plain": [
       "'1'"
      ]
     },
     "execution_count": 26,
     "metadata": {},
     "output_type": "execute_result"
    }
   ],
   "source": [
    "b[-5]"
   ]
  },
  {
   "cell_type": "code",
   "execution_count": 15,
   "id": "1d332aab-428c-465c-b2f3-e2c7b1312080",
   "metadata": {},
   "outputs": [
    {
     "data": {
      "text/plain": [
       "'3'"
      ]
     },
     "execution_count": 15,
     "metadata": {},
     "output_type": "execute_result"
    }
   ],
   "source": [
    "b[4]"
   ]
  },
  {
   "cell_type": "code",
   "execution_count": 62,
   "id": "9d33f534-1814-4a9e-8832-323cd34b25e9",
   "metadata": {},
   "outputs": [
    {
     "name": "stdin",
     "output_type": "stream",
     "text": [
      " 1 2 3 4 5\n"
     ]
    },
    {
     "name": "stdout",
     "output_type": "stream",
     "text": [
      "['1', '2', '3', '4', '5']\n"
     ]
    }
   ],
   "source": [
    "a = input().split()\n",
    "print(a)"
   ]
  },
  {
   "cell_type": "code",
   "execution_count": 69,
   "id": "ac71316a-5514-4f7f-a54c-d97362c87193",
   "metadata": {},
   "outputs": [],
   "source": [
    "a = list(map(int,a))"
   ]
  },
  {
   "cell_type": "code",
   "execution_count": null,
   "id": "3752c349-23b2-4f54-9d0a-13ff0fcd529e",
   "metadata": {},
   "outputs": [],
   "source": []
  },
  {
   "cell_type": "code",
   "execution_count": 70,
   "id": "4f67feac-b3b6-43f0-ad91-4bfe056e2576",
   "metadata": {},
   "outputs": [
    {
     "name": "stdout",
     "output_type": "stream",
     "text": [
      "[1, 2, 3, 4, 5]\n"
     ]
    }
   ],
   "source": [
    "print(a)"
   ]
  },
  {
   "cell_type": "code",
   "execution_count": 71,
   "id": "a599a4f8-5409-4521-b5b8-597fafdc1572",
   "metadata": {},
   "outputs": [
    {
     "data": {
      "text/plain": [
       "3"
      ]
     },
     "execution_count": 71,
     "metadata": {},
     "output_type": "execute_result"
    }
   ],
   "source": [
    "a[0] + a[1]"
   ]
  },
  {
   "cell_type": "code",
   "execution_count": 66,
   "id": "9a7f633c-6a98-47b2-a00f-a98c4f3e40b5",
   "metadata": {},
   "outputs": [
    {
     "data": {
      "text/plain": [
       "3"
      ]
     },
     "execution_count": 66,
     "metadata": {},
     "output_type": "execute_result"
    }
   ],
   "source": [
    "int(a[0]) + int(a[1])"
   ]
  },
  {
   "cell_type": "code",
   "execution_count": null,
   "id": "370b6ea6-a32b-43a9-9d56-70db8aa9facf",
   "metadata": {},
   "outputs": [],
   "source": []
  },
  {
   "cell_type": "code",
   "execution_count": 9,
   "id": "542b3e10-223c-4698-958b-15454542fe8b",
   "metadata": {},
   "outputs": [
    {
     "data": {
      "text/plain": [
       "['1', '2', '3', '4', '5']"
      ]
     },
     "execution_count": 9,
     "metadata": {},
     "output_type": "execute_result"
    }
   ],
   "source": [
    "a"
   ]
  },
  {
   "cell_type": "code",
   "execution_count": null,
   "id": "e169e53c-1f13-4104-bb43-f5725ba62095",
   "metadata": {},
   "outputs": [],
   "source": [
    "a,b,c = map(int, input().split())"
   ]
  },
  {
   "cell_type": "code",
   "execution_count": 74,
   "id": "32b32b80-1714-4a5f-95dd-9bb51ac603aa",
   "metadata": {},
   "outputs": [
    {
     "data": {
      "text/plain": [
       "[0.2, 0.4, 0.6, 0.8, 1.0]"
      ]
     },
     "execution_count": 74,
     "metadata": {},
     "output_type": "execute_result"
    }
   ],
   "source": [
    "list(map(lambda x:x/5, a))"
   ]
  },
  {
   "cell_type": "code",
   "execution_count": null,
   "id": "03c6b08d-d90d-4db7-8c1a-5dc4f17aa096",
   "metadata": {},
   "outputs": [],
   "source": []
  },
  {
   "cell_type": "code",
   "execution_count": null,
   "id": "361886b9-5b4e-448c-899a-ac0c41e1c5d7",
   "metadata": {},
   "outputs": [],
   "source": []
  },
  {
   "cell_type": "code",
   "execution_count": null,
   "id": "dbeb0d88-be80-4007-895b-0c67ce55c58c",
   "metadata": {},
   "outputs": [],
   "source": []
  },
  {
   "cell_type": "code",
   "execution_count": 3,
   "id": "34f74c19-be7e-444d-8cf4-98febbdf7a3c",
   "metadata": {},
   "outputs": [
    {
     "name": "stdout",
     "output_type": "stream",
     "text": [
      "[38, 21, 53, 62, 19]\n"
     ]
    }
   ],
   "source": [
    "a = [38, 21, 53, 62, 19]\n",
    "print(a)"
   ]
  },
  {
   "cell_type": "code",
   "execution_count": 10,
   "id": "359ec818-e544-4201-b5ef-7ab2cd3f4eb0",
   "metadata": {},
   "outputs": [
    {
     "ename": "IndexError",
     "evalue": "list index out of range",
     "output_type": "error",
     "traceback": [
      "\u001b[1;31m---------------------------------------------------------------------------\u001b[0m",
      "\u001b[1;31mIndexError\u001b[0m                                Traceback (most recent call last)",
      "Cell \u001b[1;32mIn [10], line 1\u001b[0m\n\u001b[1;32m----> 1\u001b[0m \u001b[43ma\u001b[49m\u001b[43m[\u001b[49m\u001b[38;5;241;43m-\u001b[39;49m\u001b[38;5;241;43m10\u001b[39;49m\u001b[43m]\u001b[49m\n",
      "\u001b[1;31mIndexError\u001b[0m: list index out of range"
     ]
    }
   ],
   "source": [
    "a[-10]"
   ]
  },
  {
   "cell_type": "code",
   "execution_count": 2,
   "id": "93fd7aae-732f-4822-af53-2811934e0c22",
   "metadata": {},
   "outputs": [
    {
     "data": {
      "text/plain": [
       "[38, 21, 53, 62, 19]"
      ]
     },
     "execution_count": 2,
     "metadata": {},
     "output_type": "execute_result"
    }
   ],
   "source": [
    "a"
   ]
  },
  {
   "cell_type": "markdown",
   "id": "c444f3f0-9cf3-43c3-a01f-f31dc0a76117",
   "metadata": {},
   "source": [
    "### 10.1.1  리스트에 여러 가지 자료형 저장하기\n",
    "\n",
    "리스트는 문자열, 정수, 실수, 불 등 모든 자료형을 저장할 수 있으며  \n",
    "자료형을 섞어서 저장해도 됩니다\n",
    "\n",
    "```ipython\n",
    ">>> person = ['james', 17, 175.3, True]\n",
    ">>> person\n",
    "['james', 17, 175.3, True]\n",
    "```\n",
    "이처럼 리스트에 여러 가지 자료형을 사용하면 관련 정보를 하나로 묶기 좋습니다."
   ]
  },
  {
   "cell_type": "code",
   "execution_count": 27,
   "id": "5397be1d-d3fd-47c6-abd6-3fe318e4999b",
   "metadata": {},
   "outputs": [
    {
     "name": "stdout",
     "output_type": "stream",
     "text": [
      "['james', 17, 175.3, True]\n"
     ]
    }
   ],
   "source": [
    "person = ['james', 17, 175.3, True, 180, 200, 10000]\n",
    "print(person)"
   ]
  },
  {
   "cell_type": "code",
   "execution_count": 29,
   "id": "7c1fba60-259c-4560-bc41-2cc58e200095",
   "metadata": {},
   "outputs": [
    {
     "data": {
      "text/plain": [
       "17"
      ]
     },
     "execution_count": 29,
     "metadata": {},
     "output_type": "execute_result"
    }
   ],
   "source": [
    "person[1]"
   ]
  },
  {
   "cell_type": "code",
   "execution_count": 34,
   "id": "6f99feef-b371-4903-87bc-3b39777854d9",
   "metadata": {},
   "outputs": [
    {
     "data": {
      "text/plain": [
       "[17, 175.3]"
      ]
     },
     "execution_count": 34,
     "metadata": {},
     "output_type": "execute_result"
    }
   ],
   "source": [
    "person[1:3]"
   ]
  },
  {
   "cell_type": "code",
   "execution_count": 30,
   "id": "2aef2fdc-9f0f-4c85-84a1-387be55df44c",
   "metadata": {},
   "outputs": [
    {
     "ename": "SyntaxError",
     "evalue": "invalid syntax. Perhaps you forgot a comma? (2080610662.py, line 1)",
     "output_type": "error",
     "traceback": [
      "\u001b[1;36m  Cell \u001b[1;32mIn [30], line 1\u001b[1;36m\u001b[0m\n\u001b[1;33m    a = [1 2]\u001b[0m\n\u001b[1;37m         ^\u001b[0m\n\u001b[1;31mSyntaxError\u001b[0m\u001b[1;31m:\u001b[0m invalid syntax. Perhaps you forgot a comma?\n"
     ]
    }
   ],
   "source": [
    "a = [1, 2]"
   ]
  },
  {
   "cell_type": "markdown",
   "id": "31d49826-e8d5-4e34-b32e-f1f12168ad3e",
   "metadata": {},
   "source": [
    "에러\n",
    "```python\n",
    "a = [1 2]\n",
    "```\n",
    "\n",
    "에러메시지\n",
    "```\n",
    "    a = [1 2]\n",
    "         ^\n",
    "SyntaxError: invalid syntax. Perhaps you forgot a comma?\n",
    "```"
   ]
  },
  {
   "cell_type": "code",
   "execution_count": 18,
   "id": "79bf5e73-df65-452b-97c3-f2384e744104",
   "metadata": {},
   "outputs": [
    {
     "data": {
      "text/plain": [
       "[1, 2]"
      ]
     },
     "execution_count": 18,
     "metadata": {},
     "output_type": "execute_result"
    }
   ],
   "source": [
    "가 = [1,2]\n",
    "가"
   ]
  },
  {
   "cell_type": "markdown",
   "id": "5066dac8-102e-458c-8a00-ddb919ec4263",
   "metadata": {},
   "source": [
    "### 10.1.2  빈 리스트 만들기\n",
    "\n",
    "빈 리스트를 만들 때는 [ ]만 지정하거나 list를 사용하면 됩니다.\n",
    "\n",
    "> 리스트 = []\n",
    "> 리스트 = list()\n",
    "\n",
    "```ipython\n",
    ">>> a = []\n",
    ">>> a\n",
    "[]\n",
    ">>> b = list()\n",
    ">>> b\n",
    "[]\n",
    "```\n",
    "빈 리스트는 쓸모가 없을 것 같지만, 보통 빈 리스트를 만들어 놓은 뒤에 새 값을 추가하는 방식으로 사용합니다. "
   ]
  },
  {
   "cell_type": "code",
   "execution_count": 107,
   "id": "6a690fde-f7b3-4f4a-8d1e-17289e480a15",
   "metadata": {},
   "outputs": [
    {
     "name": "stdout",
     "output_type": "stream",
     "text": [
      "[1, 'noodle', -2, 'fried rice', 4.54]\n"
     ]
    }
   ],
   "source": [
    "a = [1, 'noodle', -2, 'fried rice', 4.54]\n",
    "print(a)"
   ]
  },
  {
   "cell_type": "code",
   "execution_count": null,
   "id": "03dc4425-4e58-4131-9318-aec8fe3d3f8e",
   "metadata": {},
   "outputs": [],
   "source": []
  },
  {
   "cell_type": "code",
   "execution_count": 36,
   "id": "42e35734-a146-447c-99ac-7babdaf540b2",
   "metadata": {},
   "outputs": [
    {
     "name": "stdout",
     "output_type": "stream",
     "text": [
      "[]\n"
     ]
    }
   ],
   "source": [
    "a = []\n",
    "print(a)"
   ]
  },
  {
   "cell_type": "code",
   "execution_count": 37,
   "id": "3e71d928-199d-4e55-b96d-b535ffd42354",
   "metadata": {},
   "outputs": [
    {
     "name": "stdout",
     "output_type": "stream",
     "text": [
      "[]\n"
     ]
    }
   ],
   "source": [
    "a = list()\n",
    "print(a)"
   ]
  },
  {
   "cell_type": "code",
   "execution_count": 59,
   "id": "14ff8eab-7824-4886-b523-ad71f0de8798",
   "metadata": {},
   "outputs": [
    {
     "name": "stdout",
     "output_type": "stream",
     "text": [
      "[1, 1, 1, 1, 1, 1, 1, 1, 1, 1, 1, 1, 1, 1, 1, 1, 1, 1, 1, 1, 1, 1]\n"
     ]
    }
   ],
   "source": [
    "a.append(1)\n",
    "print(a)"
   ]
  },
  {
   "cell_type": "code",
   "execution_count": null,
   "id": "cda2f552-02e4-4074-8e61-c977e634870e",
   "metadata": {},
   "outputs": [],
   "source": [
    "list(range(10))"
   ]
  },
  {
   "cell_type": "code",
   "execution_count": null,
   "id": "2c2096a0-31ee-4eb0-9afb-be08a9e23066",
   "metadata": {},
   "outputs": [],
   "source": []
  },
  {
   "cell_type": "code",
   "execution_count": null,
   "id": "4fdf5e21-6c79-473a-bcb5-59ea497f71b5",
   "metadata": {},
   "outputs": [],
   "source": [
    "range를 사용해서 1부터 15까지의 홀수를 만들어보세요"
   ]
  },
  {
   "cell_type": "code",
   "execution_count": null,
   "id": "6c3bd7a2-4e60-415c-bf9e-48273b55aa0c",
   "metadata": {},
   "outputs": [],
   "source": []
  },
  {
   "cell_type": "code",
   "execution_count": null,
   "id": "6e8b194b-b926-46b4-85cd-7d3c36b20f95",
   "metadata": {},
   "outputs": [],
   "source": [
    "range를 사용해서 100이하의 3의 배수를 만들어보세요 (0은 포함하지 않습니다.)"
   ]
  },
  {
   "cell_type": "code",
   "execution_count": null,
   "id": "867be812-0872-4b5f-aa96-4b3f386dae80",
   "metadata": {},
   "outputs": [],
   "source": [
    "range를 사용해서 10 초과 20미만의 짝수를 만들어보세요"
   ]
  },
  {
   "cell_type": "code",
   "execution_count": null,
   "id": "531a7233-2a57-4f8b-99b9-0febfafb2eba",
   "metadata": {},
   "outputs": [],
   "source": []
  },
  {
   "cell_type": "code",
   "execution_count": 77,
   "id": "d41df031-5a40-4d88-a3a1-32355f144997",
   "metadata": {},
   "outputs": [
    {
     "data": {
      "text/plain": [
       "[0, 2, 4, 6, 8]"
      ]
     },
     "execution_count": 77,
     "metadata": {},
     "output_type": "execute_result"
    }
   ],
   "source": [
    "list(range(0,10,1))"
   ]
  },
  {
   "cell_type": "code",
   "execution_count": 97,
   "id": "5b718e46-0cc7-409d-85a7-e8b823b985c8",
   "metadata": {},
   "outputs": [],
   "source": [
    "# range(시작, 끝, 증가폭)"
   ]
  },
  {
   "cell_type": "code",
   "execution_count": 98,
   "id": "470faf0a-c9d7-4963-afeb-3dcfe852151f",
   "metadata": {},
   "outputs": [
    {
     "name": "stdout",
     "output_type": "stream",
     "text": [
      "[0, 1, 2, 3, 4, 5, 6, 7, 8, 9]\n",
      "(0, 1, 2, 3, 4, 5, 6, 7, 8, 9)\n"
     ]
    }
   ],
   "source": [
    "print(a,b,sep=\"\\n\")\n",
    "# print(\"-----\")\n",
    "# print(a,b,sep=\"*\")"
   ]
  },
  {
   "cell_type": "code",
   "execution_count": 101,
   "id": "639459b9-6eb4-493f-b647-32cb9f2950bd",
   "metadata": {},
   "outputs": [
    {
     "name": "stdout",
     "output_type": "stream",
     "text": [
      "0  ||||  0\n"
     ]
    }
   ],
   "source": [
    "print(a[0], b[0], sep=\"  ||||  \")"
   ]
  },
  {
   "cell_type": "code",
   "execution_count": 103,
   "id": "71fea129-842f-4f9e-bff3-ed330e644f7c",
   "metadata": {},
   "outputs": [
    {
     "name": "stdout",
     "output_type": "stream",
     "text": [
      "[0, 1, 2, 3, 4, 5, 6, 7, 8, 9, 10, 10]\n"
     ]
    }
   ],
   "source": [
    "a.append(10)\n",
    "print(a)"
   ]
  },
  {
   "cell_type": "code",
   "execution_count": 104,
   "id": "26e05dc2-30c5-4b87-9f01-80e77876fe4c",
   "metadata": {},
   "outputs": [
    {
     "ename": "AttributeError",
     "evalue": "'tuple' object has no attribute 'append'",
     "output_type": "error",
     "traceback": [
      "\u001b[1;31m---------------------------------------------------------------------------\u001b[0m",
      "\u001b[1;31mAttributeError\u001b[0m                            Traceback (most recent call last)",
      "Cell \u001b[1;32mIn [104], line 1\u001b[0m\n\u001b[1;32m----> 1\u001b[0m \u001b[43mb\u001b[49m\u001b[38;5;241;43m.\u001b[39;49m\u001b[43mappend\u001b[49m(\u001b[38;5;241m10\u001b[39m)\n\u001b[0;32m      2\u001b[0m \u001b[38;5;28mprint\u001b[39m(b)\n",
      "\u001b[1;31mAttributeError\u001b[0m: 'tuple' object has no attribute 'append'"
     ]
    }
   ],
   "source": [
    "b.append(10)\n",
    "print(b)"
   ]
  },
  {
   "cell_type": "code",
   "execution_count": null,
   "id": "9035467a-76a7-4adb-9ba7-876e98e47c2b",
   "metadata": {},
   "outputs": [],
   "source": []
  },
  {
   "cell_type": "code",
   "execution_count": null,
   "id": "2b5f6c50-1ac1-4102-bede-83f5b0845ca6",
   "metadata": {},
   "outputs": [],
   "source": [
    "print(a[0]"
   ]
  },
  {
   "cell_type": "code",
   "execution_count": 80,
   "id": "9bbe0ed5-ddea-4889-90d7-2428d358776c",
   "metadata": {},
   "outputs": [
    {
     "data": {
      "text/plain": [
       "0"
      ]
     },
     "execution_count": 80,
     "metadata": {},
     "output_type": "execute_result"
    }
   ],
   "source": [
    "a= list(range(10))\n",
    "a[0]"
   ]
  },
  {
   "cell_type": "code",
   "execution_count": 81,
   "id": "2ba570ee-1c0f-46fa-a15e-b58b71b25006",
   "metadata": {},
   "outputs": [
    {
     "data": {
      "text/plain": [
       "0"
      ]
     },
     "execution_count": 81,
     "metadata": {},
     "output_type": "execute_result"
    }
   ],
   "source": [
    "b=tuple(range(10))\n",
    "b[0]"
   ]
  },
  {
   "cell_type": "code",
   "execution_count": 105,
   "id": "8cac3ed9-f4bf-4461-abbd-01ced257f1f9",
   "metadata": {},
   "outputs": [],
   "source": [
    "a = [1,2,3]\n",
    "b = [3,4,5]"
   ]
  },
  {
   "cell_type": "code",
   "execution_count": null,
   "id": "1e85d0e9-6de9-4570-b1d8-3606c991210d",
   "metadata": {},
   "outputs": [],
   "source": [
    "c = a+b # c = [4,5,6]"
   ]
  },
  {
   "cell_type": "code",
   "execution_count": 106,
   "id": "58f290fc-aaff-4a63-bedb-29fc906637b7",
   "metadata": {},
   "outputs": [
    {
     "ename": "NameError",
     "evalue": "name 'c' is not defined",
     "output_type": "error",
     "traceback": [
      "\u001b[1;31m---------------------------------------------------------------------------\u001b[0m",
      "\u001b[1;31mNameError\u001b[0m                                 Traceback (most recent call last)",
      "Cell \u001b[1;32mIn [106], line 3\u001b[0m\n\u001b[0;32m      1\u001b[0m a \u001b[38;5;241m=\u001b[39m \u001b[38;5;241m3\u001b[39m\n\u001b[0;32m      2\u001b[0m \u001b[38;5;66;03m# c = 6\u001b[39;00m\n\u001b[1;32m----> 3\u001b[0m \u001b[38;5;28mprint\u001b[39m(a\u001b[38;5;241m+\u001b[39m\u001b[43mc\u001b[49m)\n",
      "\u001b[1;31mNameError\u001b[0m: name 'c' is not defined"
     ]
    }
   ],
   "source": [
    "a = 3\n",
    "# c = 6\n",
    "print(a+c)"
   ]
  },
  {
   "cell_type": "code",
   "execution_count": null,
   "id": "e3e106fc-30b9-4694-adc3-2b11b454b619",
   "metadata": {},
   "outputs": [],
   "source": []
  },
  {
   "cell_type": "code",
   "execution_count": null,
   "id": "fb8d7717-df68-409e-af22-6bf5c07844ba",
   "metadata": {},
   "outputs": [],
   "source": []
  },
  {
   "cell_type": "code",
   "execution_count": null,
   "id": "f0435e30-3df1-425a-9733-0117fb7e7feb",
   "metadata": {},
   "outputs": [],
   "source": []
  },
  {
   "cell_type": "code",
   "execution_count": null,
   "id": "8294c0cd-0773-42a7-8bc7-e61b7b22fb70",
   "metadata": {},
   "outputs": [],
   "source": []
  },
  {
   "cell_type": "code",
   "execution_count": 25,
   "id": "bfa11cf4-2533-40ef-ac9f-a468b5738924",
   "metadata": {},
   "outputs": [
    {
     "name": "stdout",
     "output_type": "stream",
     "text": [
      "[11, 22, 33, 44, 55, 66, 77, 88, 99, 110, 121, 132, 143, 154, 165, 176, 187, 198, 209, 220, 231, 242, 253, 264, 275, 286, 297]\n"
     ]
    }
   ],
   "source": [
    "a = list(range(11,301,11))\n",
    "print(a)"
   ]
  },
  {
   "cell_type": "markdown",
   "id": "7358c22a-51d7-4190-b0f3-f6904e11d45b",
   "metadata": {},
   "source": [
    "### 10.1.3  range를 사용하여 리스트 만들기\n",
    "\n",
    "이번에는 range를 사용하여 리스트를 만들어보겠습니다.  \n",
    "range는 연속된 숫자를 생성하는데 range에 10을 지정하면 0부터 9까지 숫자를 생성합니다.  \n",
    "즉, 지정한 횟수 숫자는 생성되는 숫자에 포함되지 않습니다.\n",
    "\n",
    "> range(횟수)\n",
    "\n",
    "```ipython\n",
    ">>> range(10)\n",
    "range(0, 10)\n",
    "```\n",
    "\n",
    "range(0, 10)이라고 나와서 10까지 생성될 것 같지만 10은 포함되지 않습니다. \n",
    "```ipython\n",
    ">>> a = list(range(10))\n",
    ">>> a\n",
    "[0, 1, 2, 3, 4, 5, 6, 7, 8, 9]\n",
    "```"
   ]
  },
  {
   "cell_type": "code",
   "execution_count": null,
   "id": "be36a276-c39f-4ffe-8212-86bdd8a24157",
   "metadata": {},
   "outputs": [],
   "source": []
  },
  {
   "cell_type": "markdown",
   "id": "f4159f7c-ddfc-401f-82a1-ff0dc2ee3c4e",
   "metadata": {},
   "source": [
    "range는 시작하는 숫자와 끝나는 숫자를 지정할 수도 있습니다.  \n",
    "이때도 끝나는 숫자는 생성되는 숫자에 포함되지 않습니다.  \n",
    "즉, list에 range(5, 12)를 넣으면 5부터 11까지 들어있는 리스트가 생성됩니다.\n",
    "\n",
    "> 리스트 = list(range(시작, 끝))\n",
    "\n",
    "```ipython\n",
    ">>> b = list(range(5, 12))\n",
    ">>> b\n",
    "[5, 6, 7, 8, 9, 10, 11]\n",
    "```"
   ]
  },
  {
   "cell_type": "code",
   "execution_count": null,
   "id": "e30c41ec-c0f5-4be0-94e0-2f53ec8d268b",
   "metadata": {},
   "outputs": [],
   "source": []
  },
  {
   "cell_type": "markdown",
   "id": "a56be705-2f3b-4e21-9fc6-21b900146f3a",
   "metadata": {},
   "source": [
    "이번에는 증가폭을 사용하는 방법입니다.\n",
    "range에 증가폭을 지정하면 해당 값만큼 증가하면서 숫자를 생성합니다.\n",
    "\n",
    "> 리스트 = list(range(시작, 끝, 증가폭))\n",
    "\n",
    "```ipython\n",
    ">>> c = list(range(-4, 10, 2))\n",
    ">>> c\n",
    "[-4, -2, 0, 2, 4, 6, 8]\n",
    "```\n",
    "\n",
    "만약 증가폭을 음수로 지정하면 해당 값만큼 숫자가 감소합니다.\n",
    "```ipytyon\n",
    ">>> d = list(range(10, 0, -1))\n",
    ">>> d\n",
    "[10, 9, 8, 7, 6, 5, 4, 3, 2, 1]\n",
    "```"
   ]
  },
  {
   "cell_type": "code",
   "execution_count": 27,
   "id": "b5a992c4-208b-4107-afbe-1fe12e9a722f",
   "metadata": {},
   "outputs": [
    {
     "name": "stdout",
     "output_type": "stream",
     "text": [
      "[-4, -2, 0, 2, 4, 6, 8]\n"
     ]
    }
   ],
   "source": [
    "c = list(range(-4, 10, 2))\n",
    "print(c)"
   ]
  },
  {
   "cell_type": "markdown",
   "id": "b82aa1cc-0f3b-42be-a7a6-dd29c2e203d5",
   "metadata": {},
   "source": [
    "## 10.2 튜플 사용하기\n",
    "\n",
    "지금까지 리스트를 사용해보았는데 파이썬에서는 튜플이라는 자료형도 제공합니다.  \n",
    "튜플은 리스트처럼 요소를 일렬로 저장하지만, 안에 저장된 요소를 변경, 추가, 삭제를 할 수 없습니다.  \n",
    "간단하게 읽기 전용 리스트라고 할 수 있죠\n",
    "\n",
    "변수에 값을 저장할 때 `( )`(괄호)로 묶어주면 튜플이 되며  \n",
    "각 값은 `,`(콤마)로 구분해줍니다.  \n",
    "또는, 괄호로 묶지 않고 값만 콤마로 구분해도 튜플이 됩니다.\n",
    "\n",
    "> 튜플 = (값, 값, 값)  \n",
    "> 튜플 = 값, 값, 값  \n",
    "\n",
    "그럼 숫자가 5개 들어있는 튜플을 만들어보겠습니다.\n",
    "\n",
    "```ipython\n",
    ">>> a = (38, 21, 53, 62, 19)\n",
    ">>> a\n",
    "(38, 21, 53, 62, 19)\n",
    "```"
   ]
  },
  {
   "cell_type": "code",
   "execution_count": 28,
   "id": "9757dac3-2d3d-4a37-88f1-d3634cd20887",
   "metadata": {},
   "outputs": [],
   "source": [
    "a = (38, 21, 53, 62, 19)"
   ]
  },
  {
   "cell_type": "code",
   "execution_count": 29,
   "id": "ccd2cf0d-1710-4911-bec7-9e37864cd323",
   "metadata": {},
   "outputs": [
    {
     "name": "stdout",
     "output_type": "stream",
     "text": [
      "(38, 21, 53, 62, 19)\n"
     ]
    }
   ],
   "source": [
    "print(a)"
   ]
  },
  {
   "cell_type": "markdown",
   "id": "1a370ade-7cce-4c95-85e7-1c77b5602f70",
   "metadata": {},
   "source": [
    "### 10.2.1  요소가 한 개 들어있는 튜플 만들기\n",
    "\n",
    "지금까지 요소가 여러 개 들어있는 튜플을 만들었습니다.  \n",
    "그럼 요소가 한 개 들어있는 튜플은 어떻게 만들까요?  \n",
    "다음과 같이 값 한 개를 괄호로 묶으면 튜플이 아니라 그냥 값이 됩니다.\n",
    "\n",
    "```ipython\n",
    ">>> (38)\n",
    "38\n",
    "```\n",
    "\n",
    "요소가 한 개인 튜플을 만들 때는 `( )`(괄호) 안에 값 `한 개`를 넣고 `,`(콤마)를 붙입니다.  \n",
    "또는, 괄호로 묶지 않고 값 `한 개`에 `,`를 붙여도 됩니다.\n",
    "\n",
    "> 튜플 = (값, )  \n",
    "> 튜플 = 값,\n",
    "\n",
    "```ipython\n",
    ">>> (38, )\n",
    "(38,)\n",
    ">>> 38,\n",
    "(38,)\n",
    "```"
   ]
  },
  {
   "cell_type": "code",
   "execution_count": null,
   "id": "3b7e0670-6cc3-4757-a7b6-a1e1c1f5f8aa",
   "metadata": {},
   "outputs": [],
   "source": []
  },
  {
   "cell_type": "markdown",
   "id": "48e2c859-952d-4794-98bd-cba451d8ea21",
   "metadata": {},
   "source": [
    "## 중급\n",
    "\n",
    "리스트와 튜플 변수로도 변수 여러 개를 만들 수 있습니다.  \n",
    "다음과 같이 리스트와 튜플의 요소를 변수 여러 개에 할당하는 것을  \n",
    "`리스트 언패킹`(list unpacking), `튜플 언패킹`(tuple unpacking)이라고 합니다.\n",
    "\n",
    "```ipython\n",
    ">>> x = [1, 2, 3]\n",
    ">>> a, b, c = x\n",
    ">>> print(a, b, c)\n",
    "1 2 3\n",
    ">>> y = (4, 5, 6)\n",
    ">>> d, e, f = y\n",
    ">>> print(d, e, f)\n",
    "4 5 6\n",
    "```"
   ]
  },
  {
   "cell_type": "code",
   "execution_count": null,
   "id": "d4c5cdea-ad9c-4f82-ab4d-21a8fcb80780",
   "metadata": {},
   "outputs": [],
   "source": []
  },
  {
   "cell_type": "markdown",
   "id": "8e8e7143-0145-4f44-8e59-a62908e226f0",
   "metadata": {},
   "source": [
    "## 10.3 퀴즈\n",
    "https://dojang.io/mod/quiz/attempt.php?attempt=1933626&cmid=2202"
   ]
  },
  {
   "cell_type": "markdown",
   "id": "5a192d7d-85ee-4a67-b47a-096969e66caf",
   "metadata": {},
   "source": [
    "## 10.4 연습문제: range로 리스트 만들기\n",
    "https://dojang.io/mod/page/view.php?id=2203"
   ]
  },
  {
   "cell_type": "markdown",
   "id": "64110dc9-93e6-4b50-89ac-179e37dd43ed",
   "metadata": {},
   "source": [
    "## 10.5 심사문제: range로 튜플 만들기\n",
    "https://dojang.io/mod/quiz/attempt.php?attempt=1933627&cmid=2204"
   ]
  }
 ],
 "metadata": {
  "kernelspec": {
   "display_name": "Python 3 (ipykernel)",
   "language": "python",
   "name": "python3"
  },
  "language_info": {
   "codemirror_mode": {
    "name": "ipython",
    "version": 3
   },
   "file_extension": ".py",
   "mimetype": "text/x-python",
   "name": "python",
   "nbconvert_exporter": "python",
   "pygments_lexer": "ipython3",
   "version": "3.10.6"
  }
 },
 "nbformat": 4,
 "nbformat_minor": 5
}
