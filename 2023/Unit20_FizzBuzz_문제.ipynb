{
 "cells": [
  {
   "cell_type": "markdown",
   "id": "a62efb6d-dbde-4299-a66d-8644138d1bbd",
   "metadata": {},
   "source": [
    "# Unit 20. FizzBuzz 문제\n",
    "\n",
    "FizzBuzz는 매우 간단한 프로그래밍 문제이며 규칙은 다음과 같습니다.\n",
    "\n",
    "1. 1에서 100까지 출력\n",
    "2. 3의 배수는 Fizz 출력\n",
    "3. 5의 배수는 Buzz 출력\n",
    "4. 3과 5의 공배수는 FizzBuzz 출력\n",
    "\n",
    "FizzBuzz 문제는 반복문, 조건문, 나머지 연산자, 비교 연산자를 모두 동원해야 풀 수 있습니다."
   ]
  },
  {
   "cell_type": "markdown",
   "id": "cc6d0d41-2563-44c6-801c-f707b3741577",
   "metadata": {},
   "source": [
    "## 20.1 1부터 100까지 숫자 출력하기\n",
    "\n",
    "먼저 1부터 100까지 숫자를 출력해보겠습니다. \n",
    "\n",
    "실행 결과\n",
    "```bash\n",
    "1\n",
    "2\n",
    "3\n",
    "... (생략)\n",
    "98\n",
    "99\n",
    "100\n",
    "```"
   ]
  },
  {
   "cell_type": "markdown",
   "id": "1bb37118-9a03-487f-95cc-5fc00c188ddb",
   "metadata": {
    "jupyter": {
     "source_hidden": true
    },
    "tags": []
   },
   "source": [
    "실행코드\n",
    "\n",
    "```python\n",
    "for i in range(1, 101):    # 1부터 100까지 100번 반복\n",
    "    print(i)\n",
    "```"
   ]
  },
  {
   "cell_type": "code",
   "execution_count": 2,
   "id": "3a84b47b-c90e-41e1-ac8e-721597192794",
   "metadata": {
    "tags": []
   },
   "outputs": [
    {
     "name": "stdout",
     "output_type": "stream",
     "text": [
      "1\n",
      "2\n",
      "3\n",
      "4\n",
      "5\n",
      "6\n",
      "7\n",
      "8\n",
      "9\n",
      "10\n",
      "11\n",
      "12\n",
      "13\n",
      "14\n",
      "15\n",
      "16\n",
      "17\n",
      "18\n",
      "19\n",
      "20\n",
      "21\n",
      "22\n",
      "23\n",
      "24\n",
      "25\n",
      "26\n",
      "27\n",
      "28\n",
      "29\n",
      "30\n",
      "31\n",
      "32\n",
      "33\n",
      "34\n",
      "35\n",
      "36\n",
      "37\n",
      "38\n",
      "39\n",
      "40\n",
      "41\n",
      "42\n",
      "43\n",
      "44\n",
      "45\n",
      "46\n",
      "47\n",
      "48\n",
      "49\n",
      "50\n",
      "51\n",
      "52\n",
      "53\n",
      "54\n",
      "55\n",
      "56\n",
      "57\n",
      "58\n",
      "59\n",
      "60\n",
      "61\n",
      "62\n",
      "63\n",
      "64\n",
      "65\n",
      "66\n",
      "67\n",
      "68\n",
      "69\n",
      "70\n",
      "71\n",
      "72\n",
      "73\n",
      "74\n",
      "75\n",
      "76\n",
      "77\n",
      "78\n",
      "79\n",
      "80\n",
      "81\n",
      "82\n",
      "83\n",
      "84\n",
      "85\n",
      "86\n",
      "87\n",
      "88\n",
      "89\n",
      "90\n",
      "91\n",
      "92\n",
      "93\n",
      "94\n",
      "95\n",
      "96\n",
      "97\n",
      "98\n",
      "99\n",
      "100\n"
     ]
    }
   ],
   "source": [
    "for i in range(1,101):\n",
    "    print(i)"
   ]
  },
  {
   "cell_type": "markdown",
   "id": "77d044a6-d395-48d5-b2e7-e439d93efc03",
   "metadata": {},
   "source": [
    "## 20.2 3의 배수일 때와 5의 배수일 때 처리하기\n",
    "\n",
    "실행결과\n",
    "\n",
    "```bash\n",
    "1\n",
    "2\n",
    "Fizz\n",
    "... (생략)\n",
    "97\n",
    "98\n",
    "Fizz\n",
    "Buzz\n",
    "```"
   ]
  },
  {
   "cell_type": "markdown",
   "id": "34dc12b3-6130-4d9d-a8d2-574ff048da7f",
   "metadata": {
    "jupyter": {
     "source_hidden": true
    },
    "tags": []
   },
   "source": [
    "실행코드\n",
    "\n",
    "```python\n",
    "for i in range(1, 101):    # 1부터 100까지 100번 반복\n",
    "    if i % 3 == 0:         # 3의 배수일 때\n",
    "        print('Fizz')      # Fizz 출력\n",
    "    elif i % 5 == 0:       # 5의 배수일 때\n",
    "        print('Buzz')      # Buzz 출력\n",
    "    else:\n",
    "        print(i)           # 아무것도 해당되지 않을 때 숫자 출력\n",
    "```"
   ]
  },
  {
   "cell_type": "code",
   "execution_count": 5,
   "id": "3975d72d-2d23-4864-b67c-d790e9cea0b9",
   "metadata": {},
   "outputs": [
    {
     "name": "stdout",
     "output_type": "stream",
     "text": [
      "1\n",
      "2\n",
      "Fizz\n",
      "4\n",
      "Buzz\n",
      "Fizz\n",
      "7\n",
      "8\n",
      "Fizz\n",
      "Buzz\n",
      "11\n",
      "Fizz\n",
      "13\n",
      "14\n",
      "FizzBuzz\n",
      "16\n",
      "17\n",
      "Fizz\n",
      "19\n",
      "Buzz\n",
      "Fizz\n",
      "22\n",
      "23\n",
      "Fizz\n",
      "Buzz\n",
      "26\n",
      "Fizz\n",
      "28\n",
      "29\n",
      "FizzBuzz\n",
      "31\n",
      "32\n",
      "Fizz\n",
      "34\n",
      "Buzz\n",
      "Fizz\n",
      "37\n",
      "38\n",
      "Fizz\n",
      "Buzz\n",
      "41\n",
      "Fizz\n",
      "43\n",
      "44\n",
      "FizzBuzz\n",
      "46\n",
      "47\n",
      "Fizz\n",
      "49\n",
      "Buzz\n",
      "Fizz\n",
      "52\n",
      "53\n",
      "Fizz\n",
      "Buzz\n",
      "56\n",
      "Fizz\n",
      "58\n",
      "59\n",
      "FizzBuzz\n",
      "61\n",
      "62\n",
      "Fizz\n",
      "64\n",
      "Buzz\n",
      "Fizz\n",
      "67\n",
      "68\n",
      "Fizz\n",
      "Buzz\n",
      "71\n",
      "Fizz\n",
      "73\n",
      "74\n",
      "FizzBuzz\n",
      "76\n",
      "77\n",
      "Fizz\n",
      "79\n",
      "Buzz\n",
      "Fizz\n",
      "82\n",
      "83\n",
      "Fizz\n",
      "Buzz\n",
      "86\n",
      "Fizz\n",
      "88\n",
      "89\n",
      "FizzBuzz\n",
      "91\n",
      "92\n",
      "Fizz\n",
      "94\n",
      "Buzz\n",
      "Fizz\n",
      "97\n",
      "98\n",
      "Fizz\n",
      "Buzz\n"
     ]
    }
   ],
   "source": [
    "for i in range(1,101):\n",
    "    if i%3 == 0 and i%5 == 0:\n",
    "        print(\"FizzBuzz\")\n",
    "    elif i%3 == 0:\n",
    "        print(\"Fizz\")\n",
    "    elif i%5 == 0:\n",
    "        print(\"Buzz\")\n",
    "    else:\n",
    "        print(i)"
   ]
  },
  {
   "cell_type": "markdown",
   "id": "b3530c53-3791-41dd-a40a-01e41a913da8",
   "metadata": {
    "jupyter": {
     "source_hidden": true
    },
    "tags": []
   },
   "source": [
    "## 20.3 3과 5의 공배수 처리하기\n",
    "\n",
    "실행결과\n",
    "\n",
    "```bash\n",
    "1\n",
    "2\n",
    "Fizz\n",
    "... (생략)\n",
    "FizzBuzz\n",
    "91\n",
    "92\n",
    "Fizz\n",
    "94\n",
    "Buzz\n",
    "Fizz\n",
    "97\n",
    "98\n",
    "Fizz\n",
    "Buzz\n",
    "```"
   ]
  },
  {
   "cell_type": "markdown",
   "id": "24042f26-6b5e-49ff-910d-c33823b9a1fd",
   "metadata": {
    "tags": []
   },
   "source": [
    "실행코드\n",
    "\n",
    "```python\n",
    "for i in range(1, 101):              # 1부터 100까지 100번 반복\n",
    "    if i % 3 == 0 and i % 5 == 0:    # 3과 5의 공배수일 때\n",
    "        print('FizzBuzz')            # FizzBuzz 출력\n",
    "    elif i % 3 == 0:                 # 3의 배수일 때\n",
    "        print('Fizz')                # Fizz 출력\n",
    "    elif i % 5 == 0:                 # 5의 배수일 때\n",
    "        print('Buzz')                # Buzz 출력\n",
    "    else:\n",
    "        print(i)                     # 아무것도 해당되지 않을 때 숫자 출력\n",
    "```"
   ]
  },
  {
   "cell_type": "code",
   "execution_count": null,
   "id": "b62f0ccc-96f6-4bff-ba23-eee027324b19",
   "metadata": {},
   "outputs": [],
   "source": []
  },
  {
   "cell_type": "markdown",
   "id": "bc1ea74a-78bc-43fb-b0e4-00458b4a2188",
   "metadata": {},
   "source": [
    "## 20.4 논리 연산자를 사용하지 않고 3과 5의 공배수 처리하기\n",
    "\n"
   ]
  },
  {
   "cell_type": "markdown",
   "id": "28f78801-c213-4afc-a401-130dab1acef3",
   "metadata": {
    "tags": []
   },
   "source": [
    "```\n",
    "for i in range(1, 101):      # 1부터 100까지 100번 반복\n",
    "    if i % 15 == 0:          # 15의 배수(3과 5의 공배수)일 때\n",
    "        print('FizzBuzz')    # FizzBuzz 출력\n",
    "    elif i % 3 == 0:         # 3의 배수일 때\n",
    "        print('Fizz')        # Fizz 출력\n",
    "    elif i % 5 == 0:         # 5의 배수일 때\n",
    "        print('Buzz')        # Buzz 출력\n",
    "    else:\n",
    "        print(i)             # 아무것도 해당되지 않을 때 숫자 출력\n",
    "```"
   ]
  },
  {
   "cell_type": "markdown",
   "id": "7d008360-60ba-4fe2-a599-c9d57a1e0bd3",
   "metadata": {},
   "source": [
    "FizzBuzz는 문제가 간단해서 15가 3과 5의 최소공배수라는 것을 쉽게 알 수 있습니다.  \n",
    "하지만 실무에서는 i % 3 == 0 and i % 5 == 0처럼 의미를 명확하게 드러내는 것이 좋습니다.\n",
    "\n",
    "요즘은 프로그래밍 언어의 성능도 좋아졌고, CPU도 매우 빨라졌으므로 사소한 부분에 신경쓰기 보다는 가독성을 높이는 쪽으로 코드를 작성합니다.\n",
    "\n",
    "\n",
    "참고 | 가독성\n",
    "> 읽기 쉽고 이해하기 쉬운 코드를 가독성이 좋다고 말합니다. 코드를 복잡하게 작성할 수록 프로그래밍 실력이 뛰어나다고 착각하기 쉽지만 정반대입니다. 즉, 복잡한 로직을 간단하고 쉽게 작성할 수록 프로그래밍 실력이 뛰어나다고 할 수 있습니다.\n",
    ">\n",
    "> 프로그래밍은 만드는 것으로 끝나지 않고, 항상 유지보수가 뒤따릅니다. 특히 규모가 큰 프로젝트는 여러 사람이 협업하여 기능을 만들고 내가 작성한 코드를 다른 사람이 수정하거나, 내가 다른 사람의 코드를 수정하기도 합니다(실무에서는 내가 다른 사람의 코드를 수정해야 하는 일이 대부분입니다). 따라서 다른 사람이 내 코드를 유지보수하기 쉽도록 코드를 작성해야 하고, 내가 만든 코드를 나중에 내가 봤을 때도 이해하기 쉽도록 작성해야 합니다."
   ]
  },
  {
   "cell_type": "code",
   "execution_count": null,
   "id": "493d482c-a97f-4d88-a65b-454c319a20cd",
   "metadata": {},
   "outputs": [],
   "source": []
  },
  {
   "cell_type": "markdown",
   "id": "493bc4af-fdd0-4dd0-9bc6-c2fa1099dda0",
   "metadata": {},
   "source": [
    "## 20.5 코드 단축하기\n",
    "\n",
    "```python\n",
    "for i in range(1, 101):\n",
    "    print('Fizz' * (i % 3 == 0) + 'Buzz' * (i % 5 == 0) or i)\n",
    "    # 문자열 곱셈과 덧셈을 이용하여 print 안에서 처리\n",
    "```"
   ]
  },
  {
   "cell_type": "code",
   "execution_count": 16,
   "id": "f78bcb49-1957-4285-a505-6052dd064d37",
   "metadata": {},
   "outputs": [
    {
     "data": {
      "text/plain": [
       "''"
      ]
     },
     "execution_count": 16,
     "metadata": {},
     "output_type": "execute_result"
    }
   ],
   "source": [
    "\"Fizz\" * (4%3 == 0)"
   ]
  },
  {
   "cell_type": "code",
   "execution_count": 20,
   "id": "ec03bc72-3927-4830-9f2f-f9db4bdaed0a",
   "metadata": {},
   "outputs": [
    {
     "data": {
      "text/plain": [
       "1"
      ]
     },
     "execution_count": 20,
     "metadata": {},
     "output_type": "execute_result"
    }
   ],
   "source": [
    "True and 1"
   ]
  },
  {
   "cell_type": "code",
   "execution_count": 21,
   "id": "54ba9727-160d-41b8-9666-b9498fa7417b",
   "metadata": {},
   "outputs": [
    {
     "name": "stdout",
     "output_type": "stream",
     "text": [
      "1\n",
      "2\n",
      "Fizz\n",
      "4\n",
      "Buzz\n",
      "Fizz\n",
      "7\n",
      "8\n",
      "Fizz\n",
      "Buzz\n",
      "11\n",
      "Fizz\n",
      "13\n",
      "14\n",
      "FizzBuzz\n",
      "16\n",
      "17\n",
      "Fizz\n",
      "19\n",
      "Buzz\n",
      "Fizz\n",
      "22\n",
      "23\n",
      "Fizz\n",
      "Buzz\n",
      "26\n",
      "Fizz\n",
      "28\n",
      "29\n",
      "FizzBuzz\n",
      "31\n",
      "32\n",
      "Fizz\n",
      "34\n",
      "Buzz\n",
      "Fizz\n",
      "37\n",
      "38\n",
      "Fizz\n",
      "Buzz\n",
      "41\n",
      "Fizz\n",
      "43\n",
      "44\n",
      "FizzBuzz\n",
      "46\n",
      "47\n",
      "Fizz\n",
      "49\n",
      "Buzz\n",
      "Fizz\n",
      "52\n",
      "53\n",
      "Fizz\n",
      "Buzz\n",
      "56\n",
      "Fizz\n",
      "58\n",
      "59\n",
      "FizzBuzz\n",
      "61\n",
      "62\n",
      "Fizz\n",
      "64\n",
      "Buzz\n",
      "Fizz\n",
      "67\n",
      "68\n",
      "Fizz\n",
      "Buzz\n",
      "71\n",
      "Fizz\n",
      "73\n",
      "74\n",
      "FizzBuzz\n",
      "76\n",
      "77\n",
      "Fizz\n",
      "79\n",
      "Buzz\n",
      "Fizz\n",
      "82\n",
      "83\n",
      "Fizz\n",
      "Buzz\n",
      "86\n",
      "Fizz\n",
      "88\n",
      "89\n",
      "FizzBuzz\n",
      "91\n",
      "92\n",
      "Fizz\n",
      "94\n",
      "Buzz\n",
      "Fizz\n",
      "97\n",
      "98\n",
      "Fizz\n",
      "Buzz\n"
     ]
    }
   ],
   "source": [
    "for i in range(1, 101):\n",
    "    print('Fizz' * (i % 3 == 0) + 'Buzz' * (i % 5 == 0) or i)"
   ]
  },
  {
   "cell_type": "markdown",
   "id": "8e95e24a-2026-447a-a1fa-c90e478b3640",
   "metadata": {},
   "source": [
    "## 20.6 퀴즈\n",
    "\n",
    "https://dojang.io/mod/quiz/view.php?id=2270"
   ]
  },
  {
   "cell_type": "markdown",
   "id": "59d3b90c-c6a3-4ce3-b4bf-bde7d0793dee",
   "metadata": {},
   "source": [
    "## 20.7 연습문제: 2과 11의 배수, 공배수 처리하기\n",
    "https://dojang.io/mod/page/view.php?id=2271"
   ]
  },
  {
   "cell_type": "markdown",
   "id": "be9b4458-71fd-4b8f-b4ba-15ba97ec35ce",
   "metadata": {},
   "source": [
    "## 20.8 심사문제: 5와 7의 배수, 공배수 처리하기\n",
    "https://dojang.io/mod/quiz/view.php?id=2272"
   ]
  },
  {
   "cell_type": "code",
   "execution_count": null,
   "id": "116c7322-305a-4fef-8134-5f39745afc12",
   "metadata": {},
   "outputs": [],
   "source": []
  }
 ],
 "metadata": {
  "kernelspec": {
   "display_name": "Python 3 (ipykernel)",
   "language": "python",
   "name": "python3"
  },
  "language_info": {
   "codemirror_mode": {
    "name": "ipython",
    "version": 3
   },
   "file_extension": ".py",
   "mimetype": "text/x-python",
   "name": "python",
   "nbconvert_exporter": "python",
   "pygments_lexer": "ipython3",
   "version": "3.10.6"
  }
 },
 "nbformat": 4,
 "nbformat_minor": 5
}
