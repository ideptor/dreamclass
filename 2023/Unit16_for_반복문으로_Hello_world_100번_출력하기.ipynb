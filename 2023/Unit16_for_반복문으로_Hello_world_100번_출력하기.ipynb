{
 "cells": [
  {
   "cell_type": "markdown",
   "id": "07d1cf40-40d9-4280-8cae-6d337723758d",
   "metadata": {},
   "source": [
    "# Unit 16. for 반복문으로 Hello, world! 100번 출력하기\n",
    "\n",
    "'Hello, world!' 문자열을 100번 출력하려면 어떻게 해야 할까요?  \n",
    "가장 간단한 방법은 print를 100번 사용해서 출력하는 것입니다.\n",
    "\n",
    "```python\n",
    "# print 100번 사용\n",
    "print('Hello, world!')\n",
    "print('Hello, world!')\n",
    "print('Hello, world!')\n",
    "print('Hello, world!')\n",
    "# ... (생략)\n",
    "print('Hello, world!')\n",
    "print('Hello, world!')\n",
    "print('Hello, world!')\n",
    "print('Hello, world!')\n",
    "```\n",
    "\n",
    "대부분의 프로그래밍 언어에서는 반복되는 작업을 간단하게 처리하기 위해 `반복문`이라는 기능을 제공해줍니다.  \n",
    "반복문은 반복 횟수, 반복 및 정지 조건을 자유자재로 제어할 수 있습니다."
   ]
  },
  {
   "cell_type": "markdown",
   "id": "11784ca5-27ad-412c-aeda-c63ac8e6c8b0",
   "metadata": {},
   "source": [
    "## 16.1 for와 range 사용하기\n",
    "\n",
    "`for` 반복문은 `range`(시퀀스자료형)에 반복할 횟수를 지정하고 앞에 `in`과 변수를 입력합니다. \n",
    "그리고 끝에 `:`(콜론)을 붙인 뒤 다음 줄에 반복할 코드를 넣습니다.\n",
    "\n",
    "```python\n",
    "for 변수 in range(횟수):\n",
    "     반복할 코드\n",
    "for 다음 줄에 오는 코드는 반드시 들여쓰기를 해줍니다(들여쓰기 규칙은 if, elif, else와 같습니다).\n",
    "```\n",
    "\n",
    "이제 for 반복문으로 'Hello, world!'를 100번 출력해볼까요?\n",
    "\n",
    "```ipython\n",
    ">>> for i in range(100):\n",
    "...      print('Hello, world!')\n",
    "... \n",
    "Hello, world!\n",
    "... (생략)\n",
    "Hello, world!\n",
    "Hello, world!\n",
    "Hello, world!\n",
    "```"
   ]
  },
  {
   "cell_type": "code",
   "execution_count": 6,
   "id": "8c5d44ea-1dfa-4450-b4d9-23079ac842c3",
   "metadata": {},
   "outputs": [
    {
     "name": "stdout",
     "output_type": "stream",
     "text": [
      "Hello, world! 효석\n",
      "Hello, world! 송0124\n",
      "Hello, world! 하하하\n",
      "Hello, world! 웨일\n"
     ]
    }
   ],
   "source": [
    "for name in ['효석', '송0124', '하하하', '웨일']:\n",
    "    print('Hello, world!', name)"
   ]
  },
  {
   "cell_type": "markdown",
   "id": "6537306c-1fdb-47f1-8b47-b6418d215977",
   "metadata": {},
   "source": [
    "### 16.1.1  반복문에서 변수의 변화 알아보기\n",
    "\n",
    "앞에서 단순히 'Hello, world!' 문자열만 여러 번 출력했는데  \n",
    "이번에는 range에서 꺼낸 숫자를 눈으로 확인해보겠습니다.\n",
    "\n",
    "```ipython\n",
    ">>> for i in range(100):\n",
    "...     print('Hello, world!', i)\n",
    "...\n",
    "Hello, world! 0\n",
    "Hello, world! 1\n",
    "Hello, world! 2\n",
    "... (생략)\n",
    "Hello, world! 98\n",
    "Hello, world! 99\n",
    "```"
   ]
  },
  {
   "cell_type": "code",
   "execution_count": null,
   "id": "2f2aa695-b68a-4ee9-b3b4-41e9c254b578",
   "metadata": {},
   "outputs": [],
   "source": [
    "range(10) => range(0,10) =? range(0,10,1)"
   ]
  },
  {
   "cell_type": "markdown",
   "id": "269d0523-f2e1-4743-9bfa-b68c247f1b67",
   "metadata": {},
   "source": [
    "## 16.2 for와 range 응용하기\n",
    "\n",
    "### 16.2.1  시작하는 숫자와 끝나는 숫자 지정하기\n",
    "\n",
    "> for 변수 in range(시작, 끝):\n",
    "\n",
    "```ipython\n",
    ">>> for i in range(5, 12):    # 5부터 11까지 반복\n",
    "...     print('Hello, world!', i)\n",
    "...\n",
    "Hello, world! 5\n",
    "Hello, world! 6\n",
    "Hello, world! 7\n",
    "Hello, world! 8\n",
    "Hello, world! 9\n",
    "Hello, world! 10\n",
    "Hello, world! 11\n",
    "```"
   ]
  },
  {
   "cell_type": "code",
   "execution_count": null,
   "id": "7f3fd5ce-451c-46ee-96cd-23c39c6b2bfa",
   "metadata": {},
   "outputs": [],
   "source": []
  },
  {
   "cell_type": "markdown",
   "id": "f9432f4e-fbb9-4b54-a7e3-dad7d98ef130",
   "metadata": {},
   "source": [
    "### 16.2.2  증가폭 사용하기\n",
    "\n",
    "> for 변수 in range(시작, 끝, 증가폭):\n",
    "\n",
    "```ipython\n",
    ">>> for i in range(0, 10, 2):    # 0부터 8까지 2씩 증가\n",
    "...     print('Hello, world!', i)\n",
    "...\n",
    "Hello, world! 0\n",
    "Hello, world! 2\n",
    "Hello, world! 4\n",
    "Hello, world! 6\n",
    "Hello, world! 8\n",
    "```"
   ]
  },
  {
   "cell_type": "code",
   "execution_count": null,
   "id": "90eb689b-1028-4c50-b785-833508ebd0bb",
   "metadata": {},
   "outputs": [],
   "source": []
  },
  {
   "cell_type": "markdown",
   "id": "f25ad63a-57e1-4346-8f50-5a9ba38cd66f",
   "metadata": {},
   "source": [
    "### 16.2.3  숫자를 감소시키기\n",
    "\n",
    "```ipython\n",
    ">>> for i in range(10, 0, -1):    # 10에서 1까지 1씩 감소\n",
    "...     print('Hello, world!', i)\n",
    "...\n",
    "Hello, world! 10\n",
    "Hello, world! 9\n",
    "Hello, world! 8\n",
    "... (생략)\n",
    "Hello, world! 2\n",
    "Hello, world! 1\n",
    "```"
   ]
  },
  {
   "cell_type": "code",
   "execution_count": null,
   "id": "30626953-c222-4d8a-bacf-1b142f4983db",
   "metadata": {},
   "outputs": [],
   "source": []
  },
  {
   "cell_type": "markdown",
   "id": "bf0e7af2-d26e-4794-90df-4abe8f977aab",
   "metadata": {},
   "source": [
    "증가폭을 음수로 지정하는 방법 말고도 reversed를 사용하면 숫자의 순서를 반대로 뒤집을 수 있습니다.\n",
    "\n",
    "```python\n",
    "for 변수 in reversed(range(횟수))\n",
    "for 변수 in reversed(range(시작, 끝))\n",
    "for 변수 in reversed(range(시작, 끝, 증가폭))\n",
    "```\n",
    "\n",
    "예제 \n",
    "\n",
    "```ipython\n",
    ">>> for i in reversed(range(10)):    # range에 reversed를 사용하여 숫자의 순서를 반대로 뒤집음\n",
    "...     print('Hello, world!', i)    # 9부터 0까지 10번 반복\n",
    "...\n",
    "Hello, world! 9\n",
    "Hello, world! 8\n",
    "Hello, world! 7\n",
    "... (생략)\n",
    "Hello, world! 1\n",
    "Hello, world! 0\n",
    "```"
   ]
  },
  {
   "cell_type": "code",
   "execution_count": null,
   "id": "54c34d7d-21bd-48f1-9af3-aa95df8cf498",
   "metadata": {},
   "outputs": [],
   "source": []
  },
  {
   "cell_type": "markdown",
   "id": "9904576e-efb7-4f2c-a070-45957d8037a3",
   "metadata": {},
   "source": [
    "### 16.2.4  입력한 횟수대로 반복하기\n",
    "\n",
    "이번에는 입력한 횟수대로 반복을 해보겠습니다.\n",
    "\n",
    "```python\n",
    "count = int(input('반복할 횟수를 입력하세요: '))\n",
    " \n",
    "for i in range(count):\n",
    "    print('Hello, world!', i)\n",
    "```\n",
    "\n",
    "소스 코드를 실행하면 '반복할 횟수를 입력하세요: '가 출력됩니다.  \n",
    "여기서 3을 입력하고 엔터 키를 누르세요.\n",
    "\n",
    "실행 결과\n",
    "\n",
    "```bash\n",
    "반복할 횟수를 입력하세요: 3 (입력)\n",
    "Hello, world! 0\n",
    "Hello, world! 1\n",
    "Hello, world! 2\n",
    "```"
   ]
  },
  {
   "cell_type": "code",
   "execution_count": null,
   "id": "fa83f8f9-fef4-4e7d-b381-7bc3204de661",
   "metadata": {},
   "outputs": [],
   "source": []
  },
  {
   "cell_type": "markdown",
   "id": "14e3951e-61fa-483e-bb9e-cdcb5f8b5705",
   "metadata": {},
   "source": [
    "## 16.3 시퀀스 객체로 반복하기\n",
    "\n",
    "다음과 같이 for에 range 대신 리스트를 넣으면 리스트의 요소를 꺼내면서 반복합니다.\n",
    "\n",
    "```ipython\n",
    ">>> a = [10, 20, 30, 40, 50]\n",
    ">>> for i in a:\n",
    "...     print(i)\n",
    "...\n",
    "10\n",
    "20\n",
    "30\n",
    "40\n",
    "50\n",
    "```\n",
    "\n",
    "물론 튜플도 마찬가지로 튜플의 요소를 꺼내면서 반복합니다\n",
    "\n",
    "```ipython\n",
    ">>> fruits = ('apple', 'orange', 'grape')\n",
    ">>> for fruit in fruits:\n",
    "...     print(fruit)\n",
    "...\n",
    "apple\n",
    "orange\n",
    "grape\n",
    "```"
   ]
  },
  {
   "cell_type": "code",
   "execution_count": null,
   "id": "9ba31b0e-95f5-465b-a0c7-be725db3177f",
   "metadata": {},
   "outputs": [],
   "source": []
  },
  {
   "cell_type": "markdown",
   "id": "d92a336b-7e3b-4771-aaaa-6f6b2431f5ea",
   "metadata": {},
   "source": [
    "for에 문자열을 지정하면 문자를 하나씩 꺼내면서 반복합니다.\n",
    "\n",
    "```ipython\n",
    ">>> for letter in 'Python':\n",
    "...     print(letter, end=' ')\n",
    "...\n",
    "P y t h o n\n",
    "```\n",
    "\n",
    "그럼 문자열 'Python'을 뒤집어서 문자를 출력할 수는 없을까요?  \n",
    "이때는 앞에서 배운 reversed를 활용하면 됩니다.\n",
    "\n",
    "> reversed(시퀀스객체)\n",
    "\n",
    "```ipython\n",
    ">>> for letter in reversed('Python'):\n",
    "...     print(letter, end=' ')\n",
    "...\n",
    "n o h t y P\n",
    "```"
   ]
  },
  {
   "cell_type": "code",
   "execution_count": 8,
   "id": "75ba50c4-ad47-4065-8a9f-c872df9414f6",
   "metadata": {},
   "outputs": [
    {
     "name": "stdin",
     "output_type": "stream",
     "text": [
      " ab D\n"
     ]
    },
    {
     "name": "stdout",
     "output_type": "stream",
     "text": [
      "소문자: 2 개, 대문자: 1 개\n"
     ]
    }
   ],
   "source": [
    "sentence = input()\n",
    "ucnt = 0\n",
    "lcnt = 0\n",
    "for c in sentence:\n",
    "    if c.islower():\n",
    "        lcnt+=1\n",
    "    if c.isupper():\n",
    "        ucnt+=1\n",
    "\n",
    "print(\"소문자:\", lcnt,\"개, 대문자:\", ucnt, \"개\")\n",
    "    "
   ]
  },
  {
   "cell_type": "code",
   "execution_count": null,
   "id": "c152ba45-4fa1-490e-9326-68179ecf4a83",
   "metadata": {},
   "outputs": [],
   "source": []
  },
  {
   "cell_type": "code",
   "execution_count": null,
   "id": "5087b6e3-c4b1-4b65-84c3-16f2993cb543",
   "metadata": {},
   "outputs": [],
   "source": []
  },
  {
   "cell_type": "code",
   "execution_count": null,
   "id": "9ad6f630-d141-43d2-98fc-352ebd469d99",
   "metadata": {},
   "outputs": [],
   "source": []
  },
  {
   "cell_type": "markdown",
   "id": "673f600a-76c7-4228-8eca-59daa7709826",
   "metadata": {},
   "source": [
    "## 16.4 퀴즈\n",
    "https://dojang.io/mod/quiz/view.php?id=2244"
   ]
  },
  {
   "cell_type": "markdown",
   "id": "9f2bb003-1a8a-44b3-92a2-3ec6792cb4f5",
   "metadata": {},
   "source": [
    "## 16.5 연습문제: 리스트의 요소에 10을 곱해서 출력하기\n",
    "https://dojang.io/mod/page/view.php?id=2245"
   ]
  },
  {
   "cell_type": "markdown",
   "id": "8c1c3ba4-9e40-4da5-93f4-1ef2b99e3e39",
   "metadata": {},
   "source": [
    "## 16.6 심사문제: 구구단 출력하기\n",
    "https://dojang.io/mod/quiz/view.php?id=2246"
   ]
  }
 ],
 "metadata": {
  "kernelspec": {
   "display_name": "Python 3 (ipykernel)",
   "language": "python",
   "name": "python3"
  },
  "language_info": {
   "codemirror_mode": {
    "name": "ipython",
    "version": 3
   },
   "file_extension": ".py",
   "mimetype": "text/x-python",
   "name": "python",
   "nbconvert_exporter": "python",
   "pygments_lexer": "ipython3",
   "version": "3.10.6"
  }
 },
 "nbformat": 4,
 "nbformat_minor": 5
}
