{
 "cells": [
  {
   "cell_type": "markdown",
   "id": "02aca4bd-3c95-4538-ae68-63de72d5190b",
   "metadata": {},
   "source": [
    "# Unit 13. if 조건문으로 특정 조건일 때 코드 실행하기\n",
    "\n",
    "조건문을 사용하면 조건에 따라 다른 코드를 실행할 수 있습니다"
   ]
  },
  {
   "cell_type": "markdown",
   "id": "43591aef-0117-4491-b03b-7eb5352aa8e5",
   "metadata": {},
   "source": [
    "## 13.1 if 조건문 사용하기\n",
    "\n",
    "if 조건문은 if에 조건식을 지정하고 :(콜론)을 붙이며 다음 줄에 실행할 코드가 옵니다.  \n",
    "이때 실행할 코드는 반드시 들여쓰기를 해야 합니다.\n",
    "\n",
    "> if 조건식:  \n",
    ">     코드\n",
    "\n",
    "```ipython\n",
    ">>> x = 10\n",
    ">>> if x == 10:\n",
    "...      print('10입니다.')\n",
    "... \n",
    "10입니다.\n",
    "```\n",
    "\n",
    "만약 if 다음 줄에서 `들여쓰기`를 하지 않으면 들여쓰기 에러가 발생합니다.  \n",
    "이 항상 이 부분을 주의해주세요.\n",
    "\n",
    "```ipython\n",
    ">>> x = 10\n",
    ">>> if x == 10:\n",
    "... print('10입니다.') \n",
    "  File \"<stdin>\", line 2\n",
    "    print('10입니다.')\n",
    "        ^\n",
    "IndentationError: expected an indented block \n",
    "```"
   ]
  },
  {
   "cell_type": "code",
   "execution_count": null,
   "id": "a2100740-485a-4886-9366-387ef1fbcc29",
   "metadata": {},
   "outputs": [],
   "source": []
  },
  {
   "cell_type": "markdown",
   "id": "61ad20a2-4c78-4911-aea5-0c53cbe109b8",
   "metadata": {},
   "source": [
    "### 13.1.2  if 조건문을 사용할 때 주의할 점\n",
    "\n",
    "if 조건문을 사용할 때 주의할 점이 있는데 파이썬에서는 `=`을 할당으로 사용하고 있으므로  \n",
    "값을 비교할 때는 =을 두 개 붙여서 `==`로 사용해야 합니다.  \n",
    "자주 틀리는 부분이니 if 안에서 `==`을 사용했는지 반드시 확인하세요.  \n",
    "다음과 같이 if에 =을 사용하면 문법 에러가 발생합니다.\n",
    "\n",
    "```ipython\n",
    ">>> if x = 10: \n",
    "  File \"<stdin>\", line 1\n",
    "    if x = 10:\n",
    "         ^\n",
    "SyntaxError: invalid syntax\n",
    "```\n",
    "\n",
    "조건식 끝에 `:`을 빠뜨리는 실수도 자주하니 `:`도 확인해주세요.  \n",
    "다음은 조건식 끝에 `:`을 빠뜨렸을 때의 모습입니다.\n",
    "\n",
    "```ipython\n",
    ">>> if x == 10  \n",
    "  File \"<stdin>\", line 1\n",
    "    if x == 10\n",
    "             ^\n",
    "SyntaxError: invalid syntax\n",
    "```"
   ]
  },
  {
   "cell_type": "code",
   "execution_count": null,
   "id": "60d804d9-bcb5-4240-85a5-2c8f791ff276",
   "metadata": {},
   "outputs": [],
   "source": []
  },
  {
   "cell_type": "markdown",
   "id": "8c6b6424-029c-454f-a23d-d491a03b3892",
   "metadata": {},
   "source": [
    "### 13.1.3  if 조건문에서 코드를 생략하기\n",
    "\n",
    "이번에는 if 조건문에 조건식만 작성하고 코드를 생략하는 방법을 알아보겠습니다.\n",
    "\n",
    "```ipython\n",
    ">>> x = 10\n",
    ">>> if x == 10:\n",
    "...     pass\n",
    "...\n",
    ">>> \n",
    "```\n",
    "\n",
    "if 다음 줄에 pass라는 특별한 키워드를 넣었습니다. 여기서 pass는 아무 일도 하지 않고 그냥 넘어간다는 뜻입니다.  \n",
    "파이썬에서는 if 다음 줄에 아무 코드도 넣지 않으면 에러가 발생하므로 if 조건문의 형태를 유지하기 위해 pass를 사용합니다.\n",
    "\n",
    "```python\n",
    "if x == 10:\n",
    "    pass    # TODO: x가 10일 때 처리가 필요함\n",
    "```"
   ]
  },
  {
   "cell_type": "code",
   "execution_count": null,
   "id": "bba9bfcf-2a9e-4fb9-983e-e523f2880db1",
   "metadata": {},
   "outputs": [],
   "source": []
  },
  {
   "cell_type": "markdown",
   "id": "477db4e3-0a04-40cc-a705-5846abddded9",
   "metadata": {},
   "source": [
    "## 13.2 if 조건문과 들여쓰기\n",
    "파이썬은 들여쓰기도 문법으로 정해져 있으며 if 조건문도 들여쓰기가 중요합니다.\n",
    "\n",
    "다음 내용을 IDLE의 소스 코드 편집 창에 입력한 뒤 실행해보세요.\n",
    "\n",
    "```python\n",
    "x = 10\n",
    " \n",
    "if x == 10:\n",
    "     print('x에 들어있는 숫자는')\n",
    "         print('10입니다.')     # unexpected indent 에러 발생\n",
    "```\n",
    "\n",
    "실행을 해보면 두 번째 print 부분에서 unexpected indent 에러가 발생합니다."
   ]
  },
  {
   "cell_type": "code",
   "execution_count": null,
   "id": "d814e16f-6793-4e0c-8e14-357b939cab7f",
   "metadata": {},
   "outputs": [],
   "source": []
  },
  {
   "cell_type": "markdown",
   "id": "d8fb1445-6fdf-4ec9-bd06-914e8a890a3c",
   "metadata": {},
   "source": [
    "그럼 올바른 코드로 고쳐 볼까요? \n",
    "\n",
    "```python\n",
    "x = 10\n",
    " \n",
    "if x == 10:\n",
    "     print('x에 들어있는 숫자는')\n",
    "     print('10입니다.')\n",
    "```\n",
    "\n",
    "실행 결과\n",
    "```bash\n",
    "x에 들어있는 숫자는\n",
    "10입니다.\n",
    "```\n",
    "\n",
    "if 다음에 오는 코드들은 반드시 들여쓰기 깊이가 같아야 합니다.\n",
    "만약 첫 번째 print만 들여쓰기를 하고, 두 번째 print는 들여쓰기를 하지 않으면 의도치 않은 동작이 됩니다.\n",
    "\n",
    "```python\n",
    "x = 10\n",
    " \n",
    "if x == 10:\n",
    "     print('x에 들어있는 숫자는')\n",
    "print ('10입니다.')\n",
    "```\n",
    "\n",
    "실행 결과\n",
    "```bash\n",
    "x에 들어있는 숫자는\n",
    "10입니다.\n",
    "```\n",
    "\n",
    "print 두 개가 모두 실행되었습니다. 하지만 다음과 같이 x가 5라면 어떻게 될까요?\n",
    "\n",
    "```python\n",
    "x = 5          # x에 5를 할당\n",
    " \n",
    "if x == 10:    # x가 5라서 조건식을 만족하지 않음\n",
    "     print('x에 들어있는 숫자는')\n",
    "print ('10입니다.')\n",
    "```\n",
    "\n",
    "실행 결과\n",
    "```bash\n",
    "10입니다.\n",
    "```"
   ]
  },
  {
   "cell_type": "code",
   "execution_count": null,
   "id": "8a23889f-42f0-4e31-9495-9495542f3a99",
   "metadata": {},
   "outputs": [],
   "source": []
  },
  {
   "cell_type": "markdown",
   "id": "c456e175-d48e-4256-b187-4be5a66f8634",
   "metadata": {},
   "source": [
    "# 13.3 중첩 if 조건문 사용하기\n",
    "\n",
    "```python\n",
    "x = 15\n",
    " \n",
    "if x >= 10:\n",
    "     print('10 이상입니다.')\n",
    " \n",
    "     if x == 15:\n",
    "         print('15입니다.')\n",
    " \n",
    "     if x == 20:\n",
    "         print('20입니다.')\n",
    "```\n",
    "\n",
    "실행 결과\n",
    "```\n",
    "10 이상입니다.\n",
    "15입니다.\n",
    "```"
   ]
  },
  {
   "cell_type": "code",
   "execution_count": null,
   "id": "b3dc4bb1-0746-4719-ac86-ddb4b8bf9557",
   "metadata": {},
   "outputs": [],
   "source": []
  },
  {
   "cell_type": "markdown",
   "id": "2dbb7578-905e-40b0-89a8-65b9cb72880f",
   "metadata": {},
   "source": [
    "## 13.4 사용자가 입력한 값에 if 조건문 사용하기\n",
    "\n",
    "\n",
    "```python\n",
    "x = int(input())          # 입력받은 값을 변수에 저장\n",
    " \n",
    "if x == 10:               # x가 10이면\n",
    "    print('10입니다.')    # '10입니다.'를 출력\n",
    " \n",
    "if x == 20:               # x가 20이면\n",
    "    print('20입니다.')    # '20입니다.'를 출력\n",
    "```\n",
    "\n",
    "스크립트 파일을 실행한 뒤 10을 입력하고 엔터 키를 누르세요.\n",
    "\n",
    "실행 결과\n",
    "```\n",
    "10 (입력)\n",
    "10입니다.\n",
    "```"
   ]
  },
  {
   "cell_type": "code",
   "execution_count": null,
   "id": "c387bd0d-8cc5-4651-8961-cdf44551c333",
   "metadata": {},
   "outputs": [],
   "source": []
  },
  {
   "cell_type": "markdown",
   "id": "991a0d25-9607-4cfd-a511-f16b50a20b84",
   "metadata": {},
   "source": [
    "## 13.5 퀴즈\n",
    "https://dojang.io/mod/quiz/view.php?id=2224"
   ]
  },
  {
   "cell_type": "markdown",
   "id": "f3b07f04-c678-446f-bbb6-a4224abb8596",
   "metadata": {},
   "source": [
    "## 13.6 연습문제: if 조건문 사용하기\n",
    "https://dojang.io/mod/page/view.php?id=2225"
   ]
  },
  {
   "cell_type": "markdown",
   "id": "8f851870-a724-4a04-abe4-73fd690139b1",
   "metadata": {},
   "source": [
    "## 13.7 심사문제: 온라인 할인 쿠폰 시스템 만들기\n",
    "https://dojang.io/mod/quiz/view.php?id=2226"
   ]
  },
  {
   "cell_type": "code",
   "execution_count": null,
   "id": "1c86e4fb-d313-4d59-812c-a43ea12e6235",
   "metadata": {},
   "outputs": [],
   "source": []
  }
 ],
 "metadata": {
  "kernelspec": {
   "display_name": "Python 3 (ipykernel)",
   "language": "python",
   "name": "python3"
  },
  "language_info": {
   "codemirror_mode": {
    "name": "ipython",
    "version": 3
   },
   "file_extension": ".py",
   "mimetype": "text/x-python",
   "name": "python",
   "nbconvert_exporter": "python",
   "pygments_lexer": "ipython3",
   "version": "3.10.6"
  }
 },
 "nbformat": 4,
 "nbformat_minor": 5
}
