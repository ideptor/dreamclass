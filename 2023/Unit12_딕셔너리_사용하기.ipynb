{
 "cells": [
  {
   "cell_type": "markdown",
   "id": "44686d66-ae04-4ebd-b98a-3ac32bf87d41",
   "metadata": {},
   "source": [
    "# Unit 12. 딕셔너리 사용하기\n",
    "\n",
    "파이썬에서는 연관된 값을 묶어서 저장하는 용도로 딕셔너리라는 자료형을 제공합니다. 그럼 게임 캐릭터의 능력치를 딕셔너리에 저장해보겠습니다.\n",
    "\n",
    "```python\n",
    "lux = {'health': 490, 'mana': 334, 'melee': 550, 'armor': 18.72}\n",
    "```\n",
    "\n",
    "이제 딕셔너리만 봐도 lux라는 캐릭터의 체력(health)은 490, 마나(mana)는 334, 사거리(melee)는 550, 방어력(armor)은 18.72라는 것을 쉽게 알 수 있습니다. 이처럼 딕셔너리는 값마다 이름을 붙여서 저장하는 방식입니다.\n",
    "\n",
    "즉, `사전(dictionary)에서 단어를 찾듯이 값을 가져올 수 있다`고 하여 딕셔너리라고 부릅니다.\n",
    "\n",
    "#### 참고 | 해시\n",
    "> 딕셔너리는 해시(Hash) 기법을 이용해서 데이터를 저장합니다. 보통 딕셔너리와 같은 키-값 형태의 자료형을 해시, 해시 맵, 해시테이블 등으로 부르기도 합니다."
   ]
  },
  {
   "cell_type": "markdown",
   "id": "849568d1-b72d-495c-a836-3b8d359ec1e2",
   "metadata": {},
   "source": [
    "## 12.1 딕셔너리 만들기\n",
    "딕셔너리는 { }(중괄호) 안에 키: 값 형식으로 저장하며 각 키와 값은 ,(콤마)로 구분해줍니다.\n",
    "\n",
    "> 딕셔너리 = {키1: 값1, 키2: 값2}\n",
    "\n",
    "```ipython\n",
    ">>> lux = {'health': 490, 'mana': 334, 'melee': 550, 'armor': 18.72}\n",
    ">>> lux\n",
    "{'health': 490, 'mana': 334, 'melee': 550, 'armor': 18.72}\n",
    "```"
   ]
  },
  {
   "cell_type": "code",
   "execution_count": null,
   "id": "62b95d06-5312-4f6e-89e9-8de9b162c528",
   "metadata": {},
   "outputs": [],
   "source": []
  },
  {
   "cell_type": "markdown",
   "id": "34b78bdc-7cf3-4dcc-9f99-5f9aa1b884fe",
   "metadata": {},
   "source": [
    "### 12.1.1  키 이름이 중복되면?\n",
    "\n",
    "```ipython\n",
    ">>> lux = {'health': 490, 'health': 800, 'mana': 334, 'melee': 550, 'armor': 18.72}\n",
    ">>> lux['health']    # 키가 중복되면 가장 뒤에 있는 값만 사용함\n",
    "800\n",
    ">>> lux    # 중복되는 키는 저장되지 않음\n",
    "{'health': 800, 'mana': 334, 'melee': 550, 'armor': 18.72}\n",
    "```"
   ]
  },
  {
   "cell_type": "code",
   "execution_count": null,
   "id": "c0f76cfe-12cf-41f4-b91a-72087123fec1",
   "metadata": {},
   "outputs": [],
   "source": []
  },
  {
   "cell_type": "markdown",
   "id": "99323a32-277f-4a51-b400-7657d87ba339",
   "metadata": {},
   "source": [
    "### 12.1.3  빈 딕셔너리 만들기\n",
    "\n",
    "> 딕셔너리 = {}  \n",
    "> 딕셔너리 = dict()\n",
    "\n",
    "\n",
    "```ipython\n",
    ">>> x = {}\n",
    ">>> x\n",
    "{}\n",
    ">>> y = dict()\n",
    ">>> y\n",
    "{}\n",
    "```"
   ]
  },
  {
   "cell_type": "code",
   "execution_count": null,
   "id": "c90ee9e4-13ca-4d36-957e-6fb0aab03e7b",
   "metadata": {},
   "outputs": [],
   "source": []
  },
  {
   "cell_type": "markdown",
   "id": "e839eeb3-607e-4660-ad68-a4e8234517bb",
   "metadata": {},
   "source": [
    "### 12.1.4  dict로 딕셔너리 만들기\n",
    "\n",
    "> 딕셔너리 = dict(키1=값1, 키2=값2)  \n",
    "> 딕셔너리 = dict(zip([키1, 키2], [값1, 값2]))  \n",
    "> 딕셔너리 = dict([(키1, 값1), (키2, 값2)])  \n",
    "> 딕셔너리 = dict({키1: 값1, 키2: 값2})  \n",
    "\n",
    "\n",
    "dict에서 키=값 형식으로 딕셔너리를 만들 수 있습니다. 이때는 키에 ' '(작은따옴표)나 \" \"(큰따옴표)를 사용하지 않아야 합니다\n",
    "\n",
    "```ipython\n",
    ">>> lux1 = dict(health=490, mana=334, melee=550, armor=18.72)    # 키=값 형식으로 딕셔너리를 만듦\n",
    ">>> lux1\n",
    "{'health': 490, 'mana': 334, 'melee': 550, 'armor': 18.72}\n",
    "```\n",
    "\n",
    "두 번째 방법은 dict에서 zip 함수를 이용하는 방법입니다. 다음과 같이 키가 들어있는 리스트와 값이 들어있는 리스트를 차례대로 zip에 넣은 뒤 다시 dict에 넣어주면 됩니다(zip은 '47.5 내장 함수'를 참조해주세요).\n",
    "\n",
    "```ipython\n",
    ">>> lux2 = dict(zip(['health', 'mana', 'melee', 'armor'], [490, 334, 550, 18.72]))    # zip 함수로\n",
    ">>> lux2                                                            # 키 리스트와 값 리스트를 묶음\n",
    "{'health': 490, 'mana': 334, 'melee': 550, 'armor': 18.72}\n",
    "```\n",
    "\n",
    "\n",
    "세 번째 방법은 리스트 안에 (키, 값) 형식의 튜플을 나열하는 방법입니다.\n",
    "\n",
    "```ipython\n",
    ">>> lux3 = dict([('health', 490), ('mana', 334), ('melee', 550), ('armor', 18.72)])\n",
    ">>> lux3                                                  # (키, 값) 형식의 튜플로 딕셔너리를 만듦\n",
    "{'health': 490, 'mana': 334, 'melee': 550, 'armor': 18.72} \n",
    "```\n",
    "    \n",
    "네 번째 방법은 dict 안에서 중괄호로 딕셔너리를 생성하는 방법입니다.\n",
    "\n",
    "```ipython\n",
    ">>> lux4 = dict({'health': 490, 'mana': 334, 'melee': 550, 'armor': 18.72})     # dict 안에서\n",
    ">>> lux4                                                           # 중괄호로 딕셔너리를 만듦\n",
    "{'health': 490, 'mana': 334, 'melee': 550, 'armor': 18.72}\n",
    "```"
   ]
  },
  {
   "cell_type": "code",
   "execution_count": null,
   "id": "e5330489-43e4-41dc-957b-47139fc13ee5",
   "metadata": {},
   "outputs": [],
   "source": []
  },
  {
   "cell_type": "markdown",
   "id": "fd94f088-83c1-4407-b0eb-2721b8aefdd1",
   "metadata": {},
   "source": [
    "## 12.2 딕셔너리의 키에 접근하고 값 할당하기\n",
    "\n",
    "> 딕셔너리[키]\n",
    "\n",
    "```ipython\n",
    ">>> lux = {'health': 490, 'mana': 334, 'melee': 550, 'armor': 18.72}\n",
    ">>> lux['health']\n",
    "490\n",
    ">>> lux['armor']\n",
    "18.72\n",
    "```"
   ]
  },
  {
   "cell_type": "code",
   "execution_count": null,
   "id": "ea2b73eb-81f9-4add-b489-87dadc8b7942",
   "metadata": {},
   "outputs": [],
   "source": []
  },
  {
   "cell_type": "markdown",
   "id": "bb5c64d1-17c1-404e-881c-97043c619899",
   "metadata": {},
   "source": [
    "### 12.2.1  딕셔너리의 키에 값 할당하기\n",
    "\n",
    "> 딕셔너리[키] = 값\n",
    "\n",
    "```ipython\n",
    ">>> lux = {'health': 490, 'mana': 334, 'melee': 550, 'armor': 18.72}\n",
    ">>> lux['health'] = 2037    # 키 'health'의 값을 2037로 변경\n",
    ">>> lux['mana'] = 1184      # 키 'mana'의 값을 1184로 변경\n",
    ">>> lux\n",
    "{'health': 2037, 'mana': 1184, 'melee': 550, 'armor': 18.72}\n",
    "```\n",
    "\n",
    "없는 키에 값을 할당하면?\n",
    "```ipython\n",
    ">>> lux['mana_regen'] = 3.28    # 키 'mana_regen'을 추가하고 값 3.28 할당\n",
    ">>> lux\n",
    "{'health': 2037, 'mana': 1184, 'melee': 550, 'armor': 18.72, 'mana_regen': 3.28}\n",
    "```\n",
    "\n",
    "없는 키에서 값을 가져오려고 하면?\n",
    "```ipython\n",
    ">>> lux = {'health': 490, 'mana': 334, 'melee': 550, 'armor': 18.72}\n",
    ">>> lux['attack_speed']    # lux에는 'attack_speed' 키가 없음\n",
    "Traceback (most recent call last):\n",
    "  File \"<pyshell#3>\", line 1, in <module>\n",
    "    lux['attack_speed']\n",
    "KeyError: 'attack_speed'\n",
    "```"
   ]
  },
  {
   "cell_type": "code",
   "execution_count": null,
   "id": "17ceb346-7437-4342-826c-0065bc03e335",
   "metadata": {},
   "outputs": [],
   "source": []
  },
  {
   "cell_type": "markdown",
   "id": "7a41142c-3891-46a3-9761-c76e7bd1d8d6",
   "metadata": {},
   "source": [
    "### 12.2.2  딕셔너리에 키가 있는지 확인하기\n",
    "\n",
    "> 키 in 딕셔너리\n",
    "\n",
    "```ipython\n",
    ">>> lux = {'health': 490, 'mana': 334, 'melee': 550, 'armor': 18.72}\n",
    ">>> 'health' in lux\n",
    "True\n",
    ">>> 'attack_speed' in lux\n",
    "False\n",
    "```"
   ]
  },
  {
   "cell_type": "code",
   "execution_count": null,
   "id": "23071fb5-526d-4a3e-9d48-83093f77dfa2",
   "metadata": {},
   "outputs": [],
   "source": []
  },
  {
   "cell_type": "markdown",
   "id": "ffd23c0c-4217-44e8-8a60-8e4da2ac5799",
   "metadata": {},
   "source": [
    "12.2.3  딕셔너리의 키 개수 구하기\n",
    "\n",
    "> len(딕셔너리)\n",
    "\n",
    "```ipython\n",
    ">>> lux = {'health': 490, 'mana': 334, 'melee': 550, 'armor': 18.72}\n",
    ">>> len(lux)\n",
    "4\n",
    ">>> len({'health': 490, 'mana': 334, 'melee': 550, 'armor': 18.72})\n",
    "4\n",
    "```"
   ]
  },
  {
   "cell_type": "code",
   "execution_count": null,
   "id": "99667733-6499-4b35-a0b6-677e1ba62c00",
   "metadata": {},
   "outputs": [],
   "source": []
  },
  {
   "cell_type": "markdown",
   "id": "f51e80ad-6ced-4d33-8e1c-0c465fd4c284",
   "metadata": {},
   "source": [
    "## 12.3 퀴즈\n",
    "https://dojang.io/mod/quiz/view.php?id=2215"
   ]
  },
  {
   "cell_type": "markdown",
   "id": "8a0a9731-a236-4f04-979c-e1f5981e5dc6",
   "metadata": {},
   "source": [
    "## 12.4 연습문제: 딕셔너리에 게임 캐릭터 능력치 저장하기\n",
    "https://dojang.io/mod/page/view.php?id=2216"
   ]
  },
  {
   "cell_type": "markdown",
   "id": "34191920-1da7-4206-96e6-c83758b4cb27",
   "metadata": {},
   "source": [
    "## 12.5 심사문제: 딕셔너리에 게임 캐릭터 능력치 저장하기\n",
    "https://dojang.io/mod/quiz/view.php?id=2217"
   ]
  },
  {
   "cell_type": "markdown",
   "id": "4320a32d-5b37-4cc8-8a67-8cb780384b35",
   "metadata": {},
   "source": [
    "# 핵심정리\n",
    "\n",
    "https://dojang.io/mod/page/view.php?id=2218"
   ]
  }
 ],
 "metadata": {
  "kernelspec": {
   "display_name": "Python 3 (ipykernel)",
   "language": "python",
   "name": "python3"
  },
  "language_info": {
   "codemirror_mode": {
    "name": "ipython",
    "version": 3
   },
   "file_extension": ".py",
   "mimetype": "text/x-python",
   "name": "python",
   "nbconvert_exporter": "python",
   "pygments_lexer": "ipython3",
   "version": "3.10.7"
  }
 },
 "nbformat": 4,
 "nbformat_minor": 5
}
