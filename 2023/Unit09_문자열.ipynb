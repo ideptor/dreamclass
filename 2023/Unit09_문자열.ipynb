{
 "cells": [
  {
   "cell_type": "markdown",
   "id": "acfc270e-970a-4a10-a74b-564766014d72",
   "metadata": {},
   "source": [
    "# Unit 9. 문자열"
   ]
  },
  {
   "cell_type": "markdown",
   "id": "264103a6-a815-4d5e-86a7-59db426444d5",
   "metadata": {},
   "source": [
    "`\"`(큰 따옴표)로 묶어보기\n",
    "```ipython\n",
    ">>> hello = \"Hello, world!\"\n",
    ">>> hello\n",
    "'Hello, world!'\n",
    "```"
   ]
  },
  {
   "cell_type": "code",
   "execution_count": null,
   "id": "ec535a5e-da5e-4b44-b77b-1a900e27b58d",
   "metadata": {},
   "outputs": [],
   "source": [
    "hello = \"Hello, world!\"\n",
    "print(hello)"
   ]
  },
  {
   "cell_type": "markdown",
   "id": "053e3d99-dea9-4ae2-bc51-be7cc40a2eb8",
   "metadata": {},
   "source": [
    "`'`(작은 따옴표)로 묶어보기\n",
    "```ipython\n",
    ">>> hello = 'Hello, world!'\n",
    ">>> hello\n",
    "'Hello, world!'\n",
    "```"
   ]
  },
  {
   "cell_type": "code",
   "execution_count": null,
   "id": "331acca8-e9c8-47f2-8b6c-bdb3a5ed5a7a",
   "metadata": {},
   "outputs": [],
   "source": [
    "hello = 'Hello, world!'\n",
    "print(hello)"
   ]
  },
  {
   "cell_type": "markdown",
   "id": "3e55d841-ef73-4606-b04a-5a7a5c826e13",
   "metadata": {},
   "source": [
    "### 9.1.1 여러 줄로 된 문자열 사용하기\n",
    "\n",
    "`'''`(작은 따옴표 3개) 로 시작해야 하고  \n",
    "끝날때도 `'''`(작은 따옴표 3개) 로 끝나야합니다.\n",
    "\n",
    "```python\n",
    "hello = '''Hello, world!\n",
    "안녕하세요.\n",
    "Python입니다.'''\n",
    "print(hello)\n",
    "```\n",
    "\n",
    "물론 `\"\"\"`(큰따옴표 3개)로 시작하여 `\"\"\"`로 끝내도 됩니다."
   ]
  },
  {
   "cell_type": "code",
   "execution_count": null,
   "id": "eb836dc6-bf9b-4a37-955a-50719bdf32de",
   "metadata": {},
   "outputs": [],
   "source": [
    "hello = '''Hello, world!\n",
    "안녕하세요.\n",
    "Python입니다.'''\n",
    "print(hello)"
   ]
  },
  {
   "cell_type": "code",
   "execution_count": null,
   "id": "b88d47c5-2c10-4f75-8384-2a694356e025",
   "metadata": {},
   "outputs": [],
   "source": [
    "hello = (\n",
    "    \"Hello, world!\\n\"\n",
    "    \"안녕하세요.\\n\"\n",
    "    \"Python입니다.\\n\"\n",
    ")\n",
    "print(hello)"
   ]
  },
  {
   "cell_type": "markdown",
   "id": "8aa65511-0fed-4160-8975-70aa2a611262",
   "metadata": {},
   "source": [
    "### 9.1.2 문자열 안에 작은따옴표나 큰따옴표 포함하기\n",
    "\n",
    "그런데 문자열을 표현할 때 작은따옴표와 큰따옴표 중 한 가지로 통일하지 않고  \n",
    "여러 가지 방식을 사용할까요?\n",
    "\n",
    "문자열 안에 `'(작은따옴표)`를 넣기\n",
    "```python\n",
    "s = \"Python isn't difficult\"\n",
    "print(s)\n",
    "```\n",
    "\n",
    "문자열 안에 `'(큰 따옴표)`를 넣기\n",
    "```python\n",
    "s = 'He said \"Python is easy\"'\n",
    "print(s)\n",
    "```"
   ]
  },
  {
   "cell_type": "code",
   "execution_count": null,
   "id": "9a1a07e4-c23a-4b75-8e31-64ef99859dfe",
   "metadata": {},
   "outputs": [],
   "source": [
    "s = \"He said \\\"Python is easy\\\"\"\n",
    "print(s)"
   ]
  },
  {
   "cell_type": "markdown",
   "id": "ec33b7fe-a1fb-4ca4-a6cd-e79fc1c32fd1",
   "metadata": {
    "tags": []
   },
   "source": [
    "여러 줄로 된 문자열은 작은따옴표 안에 작은따옴표와 큰따옴표를 둘 다 넣을 수 있습니다.  \n",
    "또한, 큰따옴표 안에도 작은따옴표와 큰따옴표를 넣을 수 있습니다.  \n",
    "이번에는 스크립트 파일로 만들고 실행해봅니다.\n",
    "\n",
    "```python\n",
    "single_quote = '''\"안녕하세요.\"\n",
    "'파이썬'입니다.'''\n",
    " \n",
    "double_quote1 = \"\"\"\"Hello\"\n",
    "'Python'\"\"\"\n",
    " \n",
    "double_quote2 = \"\"\"Hello, 'Python'\"\"\"    # 한 줄로 작성\n",
    " \n",
    "print(single_quote)\n",
    "print(double_quote1)\n",
    "print(double_quote2)\n",
    "```"
   ]
  },
  {
   "cell_type": "code",
   "execution_count": null,
   "id": "ff634c07-9d20-476b-9d2a-a34ce4c1c8a7",
   "metadata": {},
   "outputs": [],
   "source": []
  },
  {
   "cell_type": "markdown",
   "id": "ed75a342-d36b-453f-9047-79dd89944ca9",
   "metadata": {},
   "source": [
    "하지만 작은따옴표 안에 작은따옴표를 넣거나  \n",
    "큰따옴표 안에 큰따옴표를 넣을 수는 없습니다.\n",
    "```python\n",
    "s = 'Python isn't difficult'\n",
    "```\n",
    "\n",
    "아래와 같은 에러메시지가 나옵니다.\n",
    "```\n",
    "SyntaxError: unterminated string literal (detected at line 1)\n",
    "```\n",
    "\n",
    "작은따옴표 안에 작은따옴표를 넣을 수는 없을까요? 방법이 있습니다.  \n",
    "다음과 같이 작은따옴표 앞에 \\\\(역슬래시)를 붙이면 됩니다.\n",
    "\n",
    "```python\n",
    "s = 'Python isn\\'t difficult'\n",
    "print(s)\n",
    "```"
   ]
  },
  {
   "cell_type": "code",
   "execution_count": null,
   "id": "0ea87965-ccb8-4e52-b7ed-aa1209a05385",
   "metadata": {},
   "outputs": [],
   "source": []
  },
  {
   "cell_type": "markdown",
   "id": "83ef2209-7d0f-4f66-bdba-29cc79203083",
   "metadata": {},
   "source": [
    "### 참고\n",
    "`\\n`와 같은 **이스케이프시퀀스(escape sequence)**  \n",
    "https://dojang.io/mod/page/view.php?id=2465\n"
   ]
  },
  {
   "cell_type": "markdown",
   "id": "1b55fa04-ed17-4d5f-a75d-71bc719a1daf",
   "metadata": {},
   "source": [
    "문자열 안에 개행 문자(`\\n`)을 넣으면 따옴표 세 개로 묶지 않아도  \n",
    "여러 줄로 된 문자열을 사용할 수 있습니다.\n",
    "\n",
    "```ipython\n",
    ">>> print('Hello\\nPython')\n",
    "Hello\n",
    "Python\n",
    "```"
   ]
  },
  {
   "cell_type": "code",
   "execution_count": null,
   "id": "3947f0a3-399c-4338-9f29-106885d52919",
   "metadata": {},
   "outputs": [],
   "source": []
  },
  {
   "cell_type": "markdown",
   "id": "d3fdd361-172b-4cbd-8a03-841c499c5482",
   "metadata": {},
   "source": [
    "## 9.2 퀴즈\n",
    "\n",
    "https://dojang.io/mod/quiz/attempt.php?attempt=1932855&cmid=2197"
   ]
  },
  {
   "cell_type": "markdown",
   "id": "d1ee8b6b-c174-4964-a1ea-9be198dcbdc1",
   "metadata": {},
   "source": [
    "## 9.3 연습문제: 여러 줄로 된 문자열 사용하기\n",
    "https://dojang.io/mod/page/view.php?id=2198"
   ]
  },
  {
   "cell_type": "markdown",
   "id": "d6a8b71b-055b-419f-9659-4528665e5f2b",
   "metadata": {},
   "source": [
    "## 9.4 심사문제: 여러 줄로 된 문자열 사용하기\n",
    "https://dojang.io/mod/quiz/attempt.php?attempt=1932856&cmid=2199"
   ]
  },
  {
   "cell_type": "markdown",
   "id": "304b7245-a5ef-4355-a47e-0d43e4e73cf0",
   "metadata": {},
   "source": [
    "'Python' is a \"programming language\"\n",
    "that lets you work quickly\n",
    "and\n",
    "integrate systems more effectively."
   ]
  },
  {
   "cell_type": "code",
   "execution_count": null,
   "id": "8ffa60c3-8552-47cb-b50a-ef5521f6642b",
   "metadata": {},
   "outputs": [],
   "source": [
    "s=(\n",
    "    \"'Python' is a \\\"programming language\\\"\\n\"\n",
    "    \"that lets you work quickly\\n\"\n",
    "    \"and\\n\"\n",
    "    \"integrate systems more effectively.\"\n",
    ")\n",
    "print(s)"
   ]
  },
  {
   "cell_type": "code",
   "execution_count": null,
   "id": "6a5c7df2-1d5d-4d8e-9529-a3b71d6886d2",
   "metadata": {},
   "outputs": [],
   "source": [
    "a=1\n",
    "b=2"
   ]
  },
  {
   "cell_type": "code",
   "execution_count": null,
   "id": "30fb74c0-35e9-46a6-b356-668c12f26131",
   "metadata": {},
   "outputs": [],
   "source": [
    "a + b"
   ]
  },
  {
   "cell_type": "code",
   "execution_count": null,
   "id": "d9fb0710-9f68-43fd-9854-d0392fcc0f2a",
   "metadata": {},
   "outputs": [],
   "source": [
    "a+b"
   ]
  },
  {
   "cell_type": "code",
   "execution_count": null,
   "id": "7b884465-dcd7-424a-840c-6253d9026cc9",
   "metadata": {},
   "outputs": [],
   "source": [
    "a +             b"
   ]
  },
  {
   "cell_type": "code",
   "execution_count": null,
   "id": "5e685bc1-e72f-44f6-9ded-3cc7f3dfff9d",
   "metadata": {},
   "outputs": [],
   "source": [
    "c = d = 3"
   ]
  },
  {
   "cell_type": "code",
   "execution_count": null,
   "id": "6e950f09-e6ac-4899-a315-6c98eb5e830c",
   "metadata": {},
   "outputs": [],
   "source": [
    "\n",
    "a + b+ c+      \\\n",
    "d"
   ]
  },
  {
   "cell_type": "code",
   "execution_count": null,
   "id": "2d564b36-4de8-4ca8-b390-6ca8b5ef779e",
   "metadata": {},
   "outputs": [],
   "source": []
  }
 ],
 "metadata": {
  "kernelspec": {
   "display_name": "Python 3 (ipykernel)",
   "language": "python",
   "name": "python3"
  },
  "language_info": {
   "codemirror_mode": {
    "name": "ipython",
    "version": 3
   },
   "file_extension": ".py",
   "mimetype": "text/x-python",
   "name": "python",
   "nbconvert_exporter": "python",
   "pygments_lexer": "ipython3",
   "version": "3.10.6"
  }
 },
 "nbformat": 4,
 "nbformat_minor": 5
}
