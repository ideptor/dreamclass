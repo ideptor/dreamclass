{
 "cells": [
  {
   "cell_type": "code",
   "execution_count": null,
   "id": "a32b3819-b857-4d15-8bad-bfebdd8d0a75",
   "metadata": {},
   "outputs": [],
   "source": []
  },
  {
   "cell_type": "markdown",
   "id": "0ddb1d29-80a9-4c0e-90fd-ded5356af582",
   "metadata": {},
   "source": [
    "# Unit6. 변수와 입력 사용하기\n",
    "\n",
    "계산 결과를 저장히여 다음에 사용하기 위하여 변수 활용\n",
    "\n",
    "변수에 값 할당방법\n",
    "```python\n",
    "# x에 10을 입력\n",
    "x = 10\n",
    "```\n",
    "\n",
    "![Variable_assign](images/variable_assign.jpg)\n",
    "\n",
    "## 변수 이름 규칙\n",
    "- 영문 문자와 숫자를 사용할 수 있습니다.\n",
    "- 대소문자를 구분합니다.\n",
    "- 문자부터 시작해야 하며 숫자부터 시작하면 안됩니다.\n",
    "- _(밑줄문자)는 사용할 수 있습니다. (_로 시작할수 있습니다.)\n",
    "- 특수 문자(+, -, *, /, $, @, &, % 등) 는 사용할 수 없습니다. \n",
    "- 파이썬의 키워드 (if, for, while, and, or 등)는 사용할 수 없습니다. "
   ]
  },
  {
   "cell_type": "code",
   "execution_count": 5,
   "id": "9a60ec33-f42f-4b97-bcd7-b9c4f785e729",
   "metadata": {},
   "outputs": [],
   "source": [
    "x = 10"
   ]
  },
  {
   "cell_type": "code",
   "execution_count": 6,
   "id": "a1a0b61d-bb4b-4b28-a33c-7b9e811de18d",
   "metadata": {},
   "outputs": [
    {
     "data": {
      "text/plain": [
       "10"
      ]
     },
     "execution_count": 6,
     "metadata": {},
     "output_type": "execute_result"
    }
   ],
   "source": [
    "x"
   ]
  },
  {
   "cell_type": "code",
   "execution_count": 7,
   "id": "bb68a0bc-8e2d-4b96-ac19-55aaad03b4bc",
   "metadata": {},
   "outputs": [
    {
     "data": {
      "text/plain": [
       "int"
      ]
     },
     "execution_count": 7,
     "metadata": {},
     "output_type": "execute_result"
    }
   ],
   "source": [
    "type(x)"
   ]
  },
  {
   "cell_type": "code",
   "execution_count": 8,
   "id": "2f6c44da-24cf-4908-9829-0808bfd18fa8",
   "metadata": {},
   "outputs": [],
   "source": [
    "y = 1.1"
   ]
  },
  {
   "cell_type": "code",
   "execution_count": 9,
   "id": "e3a7d194-20d4-40ed-bccd-4496f9f70f47",
   "metadata": {},
   "outputs": [
    {
     "data": {
      "text/plain": [
       "float"
      ]
     },
     "execution_count": 9,
     "metadata": {},
     "output_type": "execute_result"
    }
   ],
   "source": [
    "type(y)"
   ]
  },
  {
   "cell_type": "code",
   "execution_count": 10,
   "id": "5058d433-6abc-4bee-abd2-b823a2eb1d37",
   "metadata": {},
   "outputs": [
    {
     "data": {
      "text/plain": [
       "str"
      ]
     },
     "execution_count": 10,
     "metadata": {},
     "output_type": "execute_result"
    }
   ],
   "source": [
    "type(\"hello\")"
   ]
  },
  {
   "cell_type": "code",
   "execution_count": null,
   "id": "8559748c-aca4-4c4d-8566-1e85c1c5727e",
   "metadata": {},
   "outputs": [],
   "source": []
  },
  {
   "cell_type": "code",
   "execution_count": null,
   "id": "052a4b25-f98e-47b6-a06f-ff8046204783",
   "metadata": {},
   "outputs": [],
   "source": []
  },
  {
   "cell_type": "code",
   "execution_count": 3,
   "id": "b3a9e661-a1a5-4fff-a204-d522ca4e5efe",
   "metadata": {},
   "outputs": [],
   "source": [
    "del x"
   ]
  },
  {
   "cell_type": "code",
   "execution_count": 4,
   "id": "8b21e62c-1344-4222-b5d0-63f354f67bd6",
   "metadata": {},
   "outputs": [
    {
     "ename": "NameError",
     "evalue": "name 'x' is not defined",
     "output_type": "error",
     "traceback": [
      "\u001b[1;31m---------------------------------------------------------------------------\u001b[0m",
      "\u001b[1;31mNameError\u001b[0m                                 Traceback (most recent call last)",
      "Cell \u001b[1;32mIn [4], line 1\u001b[0m\n\u001b[1;32m----> 1\u001b[0m \u001b[43mx\u001b[49m\n",
      "\u001b[1;31mNameError\u001b[0m: name 'x' is not defined"
     ]
    }
   ],
   "source": [
    "x"
   ]
  },
  {
   "cell_type": "code",
   "execution_count": null,
   "id": "c079daca-d667-4cf4-9320-b30848c9979b",
   "metadata": {},
   "outputs": [],
   "source": []
  },
  {
   "cell_type": "code",
   "execution_count": null,
   "id": "69596ac8-c93a-4258-b48b-151d2416a625",
   "metadata": {},
   "outputs": [],
   "source": []
  },
  {
   "cell_type": "code",
   "execution_count": 15,
   "id": "f3834590-64b9-45be-b50b-113848b86aee",
   "metadata": {},
   "outputs": [
    {
     "data": {
      "text/plain": [
       "10"
      ]
     },
     "execution_count": 15,
     "metadata": {},
     "output_type": "execute_result"
    }
   ],
   "source": [
    "x"
   ]
  },
  {
   "cell_type": "markdown",
   "id": "2ad6ec46-459b-479e-863a-e667ba7a7548",
   "metadata": {},
   "source": [
    "4bytes"
   ]
  },
  {
   "cell_type": "code",
   "execution_count": 5,
   "id": "2acc4cfa-fa9e-45f7-b93b-eeb655a0a8c8",
   "metadata": {},
   "outputs": [
    {
     "data": {
      "text/plain": [
       "10"
      ]
     },
     "execution_count": 5,
     "metadata": {},
     "output_type": "execute_result"
    }
   ],
   "source": [
    "x"
   ]
  },
  {
   "cell_type": "code",
   "execution_count": 12,
   "id": "f0c970af-3ebc-4bdd-916c-680e7ac76c25",
   "metadata": {},
   "outputs": [],
   "source": [
    "y = \"hello\""
   ]
  },
  {
   "cell_type": "code",
   "execution_count": 13,
   "id": "2a217081-6aa1-4df9-8155-29063531a6d1",
   "metadata": {},
   "outputs": [
    {
     "data": {
      "text/plain": [
       "'hello'"
      ]
     },
     "execution_count": 13,
     "metadata": {},
     "output_type": "execute_result"
    }
   ],
   "source": [
    "y"
   ]
  },
  {
   "cell_type": "code",
   "execution_count": 18,
   "id": "20f0a48b-7c7e-4939-a926-a09b8e27cecd",
   "metadata": {},
   "outputs": [
    {
     "ename": "NameError",
     "evalue": "name 'x' is not defined",
     "output_type": "error",
     "traceback": [
      "\u001b[1;31m---------------------------------------------------------------------------\u001b[0m",
      "\u001b[1;31mNameError\u001b[0m                                 Traceback (most recent call last)",
      "Cell \u001b[1;32mIn [18], line 1\u001b[0m\n\u001b[1;32m----> 1\u001b[0m \u001b[38;5;28;01mdel\u001b[39;00m x\n",
      "\u001b[1;31mNameError\u001b[0m: name 'x' is not defined"
     ]
    }
   ],
   "source": [
    "del x"
   ]
  },
  {
   "cell_type": "code",
   "execution_count": 17,
   "id": "0cf84f1d-1c0c-4a09-9ceb-6169bf9ca3e6",
   "metadata": {},
   "outputs": [
    {
     "ename": "NameError",
     "evalue": "name 'x' is not defined",
     "output_type": "error",
     "traceback": [
      "\u001b[1;31m---------------------------------------------------------------------------\u001b[0m",
      "\u001b[1;31mNameError\u001b[0m                                 Traceback (most recent call last)",
      "Cell \u001b[1;32mIn [17], line 1\u001b[0m\n\u001b[1;32m----> 1\u001b[0m \u001b[43mx\u001b[49m\n",
      "\u001b[1;31mNameError\u001b[0m: name 'x' is not defined"
     ]
    }
   ],
   "source": [
    "x"
   ]
  },
  {
   "cell_type": "code",
   "execution_count": 19,
   "id": "74985fbf-7a66-4ea8-8e0f-fc828c80898a",
   "metadata": {},
   "outputs": [
    {
     "data": {
      "text/plain": [
       "'hello'"
      ]
     },
     "execution_count": 19,
     "metadata": {},
     "output_type": "execute_result"
    }
   ],
   "source": [
    "y"
   ]
  },
  {
   "cell_type": "code",
   "execution_count": 20,
   "id": "49a1755c-407b-4fdc-8f82-2bf7ea4904a1",
   "metadata": {},
   "outputs": [],
   "source": [
    "del y"
   ]
  },
  {
   "cell_type": "code",
   "execution_count": 21,
   "id": "bf908cdb-7092-4046-8323-f386d29ced04",
   "metadata": {},
   "outputs": [
    {
     "ename": "NameError",
     "evalue": "name 'y' is not defined",
     "output_type": "error",
     "traceback": [
      "\u001b[1;31m---------------------------------------------------------------------------\u001b[0m",
      "\u001b[1;31mNameError\u001b[0m                                 Traceback (most recent call last)",
      "Cell \u001b[1;32mIn [21], line 1\u001b[0m\n\u001b[1;32m----> 1\u001b[0m \u001b[43my\u001b[49m\n",
      "\u001b[1;31mNameError\u001b[0m: name 'y' is not defined"
     ]
    }
   ],
   "source": [
    "y"
   ]
  },
  {
   "cell_type": "code",
   "execution_count": null,
   "id": "80e764bc-2304-4596-91c3-b446d041a8ed",
   "metadata": {},
   "outputs": [],
   "source": []
  },
  {
   "cell_type": "code",
   "execution_count": null,
   "id": "cc0883b1-88d9-49c4-948c-e0fde7ed62fb",
   "metadata": {},
   "outputs": [],
   "source": [
    "a1 = 1"
   ]
  },
  {
   "cell_type": "code",
   "execution_count": 1,
   "id": "f5bba24c-8eae-434a-b1d8-cfd6b321bed4",
   "metadata": {},
   "outputs": [
    {
     "name": "stdout",
     "output_type": "stream",
     "text": [
      "10\n"
     ]
    }
   ],
   "source": [
    "x =  10\n",
    "print(x)"
   ]
  },
  {
   "cell_type": "markdown",
   "id": "2d4de573-b9d7-47b7-a738-c701706e0cc6",
   "metadata": {},
   "source": [
    "## 6.1 변수 만들기\n",
    "\n",
    "```python\n",
    "x=10\n",
    "y = \"hello world\"\n",
    "print(x)\n",
    "print(y)\n",
    "```"
   ]
  },
  {
   "cell_type": "code",
   "execution_count": 2,
   "id": "33e8b3f9-fa74-4005-b41c-60106fe37e4a",
   "metadata": {},
   "outputs": [
    {
     "name": "stdout",
     "output_type": "stream",
     "text": [
      "10\n",
      "hello world\n"
     ]
    }
   ],
   "source": [
    "x = 10\n",
    "y = \"hello world\"\n",
    "print(x)\n",
    "print(y)"
   ]
  },
  {
   "cell_type": "code",
   "execution_count": 6,
   "id": "32f7f460-94d3-44df-9aaf-eebc549ac8fb",
   "metadata": {},
   "outputs": [
    {
     "name": "stdout",
     "output_type": "stream",
     "text": [
      "hi\n"
     ]
    }
   ],
   "source": [
    "y=\"hi\"\n",
    "print(y)"
   ]
  },
  {
   "cell_type": "markdown",
   "id": "b3245090-39b5-4613-807e-a7be821c7539",
   "metadata": {},
   "source": [
    "### 6.1.1 변수의 자료형(type) 알아보기\n",
    "\n",
    "```python\n",
    "type(x)\n",
    "type(y)\n",
    "```"
   ]
  },
  {
   "cell_type": "code",
   "execution_count": null,
   "id": "44e4a4d9-eaf0-489b-a0d4-314edd187039",
   "metadata": {},
   "outputs": [],
   "source": [
    "print(type(x))\n",
    "print(type(y))"
   ]
  },
  {
   "cell_type": "markdown",
   "id": "a10199d7-272b-46b4-931e-231a3fe2db91",
   "metadata": {},
   "source": [
    "### 6.1.2 변수 여러개를 한번에 만들기\n",
    "\n",
    ",(콤마) 로 구분하면 됨.\n",
    "```python\n",
    "x, y, z = 10, 20, 30\n",
    "```\n",
    "\n",
    "동일한 값으로 넣어주기\n",
    "```python\n",
    "x = y = z = 10\n",
    "```"
   ]
  },
  {
   "cell_type": "code",
   "execution_count": 15,
   "id": "11b155b1-b471-44cb-8e54-a32e2370331e",
   "metadata": {},
   "outputs": [],
   "source": [
    "x = y = z = 10"
   ]
  },
  {
   "cell_type": "code",
   "execution_count": 22,
   "id": "af774a03-c51a-41b5-9999-05d9b9618156",
   "metadata": {},
   "outputs": [
    {
     "name": "stdout",
     "output_type": "stream",
     "text": [
      "10.10.10\n"
     ]
    }
   ],
   "source": [
    "print(x, y, z, sep=\".\")"
   ]
  },
  {
   "cell_type": "code",
   "execution_count": null,
   "id": "b6d2ac4c-fb5b-489c-8c0a-4a94e6e4e892",
   "metadata": {},
   "outputs": [],
   "source": []
  },
  {
   "cell_type": "code",
   "execution_count": null,
   "id": "babc5483-75ff-4578-ab6c-3953581a4a7a",
   "metadata": {},
   "outputs": [],
   "source": []
  },
  {
   "cell_type": "code",
   "execution_count": null,
   "id": "2a5c9b78-f37e-44bd-a48e-9b0df4bb9a20",
   "metadata": {},
   "outputs": [],
   "source": []
  },
  {
   "cell_type": "code",
   "execution_count": null,
   "id": "dd0160a0-cb24-40de-910d-56e9a05edecd",
   "metadata": {},
   "outputs": [],
   "source": []
  },
  {
   "cell_type": "code",
   "execution_count": null,
   "id": "181ff859-f590-4f52-99d0-57bf485a86b7",
   "metadata": {},
   "outputs": [],
   "source": []
  },
  {
   "cell_type": "code",
   "execution_count": 45,
   "id": "acbdffc7-bee9-42e4-8f47-ef30f59d07e1",
   "metadata": {},
   "outputs": [],
   "source": [
    "x = 101\n",
    "y = \"hello\"\n",
    "z = 1.5"
   ]
  },
  {
   "cell_type": "code",
   "execution_count": 44,
   "id": "519bdbba-3ff9-4e14-8ed8-ee3809f236be",
   "metadata": {},
   "outputs": [
    {
     "data": {
      "text/plain": [
       "int"
      ]
     },
     "execution_count": 44,
     "metadata": {},
     "output_type": "execute_result"
    }
   ],
   "source": [
    "type(x)"
   ]
  },
  {
   "cell_type": "code",
   "execution_count": 47,
   "id": "6172092c-7596-40bf-a379-e385315dca03",
   "metadata": {},
   "outputs": [
    {
     "name": "stdout",
     "output_type": "stream",
     "text": [
      "<class 'str'>\n",
      "5\n"
     ]
    }
   ],
   "source": [
    "print(type(y))\n",
    "print(len(y))"
   ]
  },
  {
   "cell_type": "code",
   "execution_count": 32,
   "id": "132cbe07-549e-4213-b836-dc06ba74a52f",
   "metadata": {},
   "outputs": [
    {
     "data": {
      "text/plain": [
       "float"
      ]
     },
     "execution_count": 32,
     "metadata": {},
     "output_type": "execute_result"
    }
   ],
   "source": [
    "type(z)"
   ]
  },
  {
   "cell_type": "code",
   "execution_count": 50,
   "id": "c4268a88-821a-44f4-964a-afe1c9bf9a1b",
   "metadata": {},
   "outputs": [
    {
     "name": "stdout",
     "output_type": "stream",
     "text": [
      "20 20 20\n"
     ]
    }
   ],
   "source": [
    "x = 20\n",
    "y = 20\n",
    "z = 20\n",
    "print(x, y, z)"
   ]
  },
  {
   "cell_type": "code",
   "execution_count": 51,
   "id": "de4197d0-722d-49d8-8d14-11a4f58d4b83",
   "metadata": {},
   "outputs": [
    {
     "name": "stdout",
     "output_type": "stream",
     "text": [
      "20 20 20\n"
     ]
    }
   ],
   "source": [
    "x = y = z = 20\n",
    "print(x, y, z)"
   ]
  },
  {
   "cell_type": "code",
   "execution_count": 52,
   "id": "a8ebb14f-85ab-4c8d-ae95-59f8cceff2fd",
   "metadata": {},
   "outputs": [],
   "source": [
    "x = -10"
   ]
  },
  {
   "cell_type": "code",
   "execution_count": 53,
   "id": "e4c92e35-1466-4de9-af33-5e673d92887d",
   "metadata": {},
   "outputs": [
    {
     "name": "stdout",
     "output_type": "stream",
     "text": [
      "-10 20 20\n"
     ]
    }
   ],
   "source": [
    "print(x, y, z)"
   ]
  },
  {
   "cell_type": "code",
   "execution_count": 54,
   "id": "bc6f9d86-9dfb-4c1a-9164-9872fb562b76",
   "metadata": {},
   "outputs": [
    {
     "data": {
      "text/plain": [
       "int"
      ]
     },
     "execution_count": 54,
     "metadata": {},
     "output_type": "execute_result"
    }
   ],
   "source": [
    "type(x)"
   ]
  },
  {
   "cell_type": "code",
   "execution_count": 49,
   "id": "5290b433-b52a-4483-992e-0fec1ddd0f5f",
   "metadata": {},
   "outputs": [
    {
     "name": "stdout",
     "output_type": "stream",
     "text": [
      "20 20 20\n"
     ]
    }
   ],
   "source": [
    "\n",
    "# x, y, z = 10, 20, 30\n",
    "x = y = z = 20\n",
    "print(x, y, z)"
   ]
  },
  {
   "cell_type": "code",
   "execution_count": 55,
   "id": "de6383ce-7f76-4687-8139-194dd3bc1ea5",
   "metadata": {},
   "outputs": [
    {
     "name": "stdout",
     "output_type": "stream",
     "text": [
      "10 20 30\n"
     ]
    }
   ],
   "source": [
    "x,y,z=10,20,30\n",
    "print(x,y,z)"
   ]
  },
  {
   "cell_type": "code",
   "execution_count": 56,
   "id": "bdefbcd5-c645-4929-9ed0-b9277cc3b163",
   "metadata": {},
   "outputs": [
    {
     "ename": "ValueError",
     "evalue": "too many values to unpack (expected 2)",
     "output_type": "error",
     "traceback": [
      "\u001b[1;31m---------------------------------------------------------------------------\u001b[0m",
      "\u001b[1;31mValueError\u001b[0m                                Traceback (most recent call last)",
      "Cell \u001b[1;32mIn [56], line 1\u001b[0m\n\u001b[1;32m----> 1\u001b[0m x,y \u001b[38;5;241m=\u001b[39m \u001b[38;5;241m10\u001b[39m,\u001b[38;5;241m20\u001b[39m,\u001b[38;5;241m30\u001b[39m\n",
      "\u001b[1;31mValueError\u001b[0m: too many values to unpack (expected 2)"
     ]
    }
   ],
   "source": [
    "x,y = 10,20,30"
   ]
  },
  {
   "cell_type": "code",
   "execution_count": 58,
   "id": "ea346ff1-a0ff-4108-b51b-a5f4877d7736",
   "metadata": {},
   "outputs": [],
   "source": [
    "x,y = 10,20"
   ]
  },
  {
   "cell_type": "code",
   "execution_count": 59,
   "id": "f0b0498d-44ae-4f73-9844-634c0f3ea2df",
   "metadata": {},
   "outputs": [
    {
     "name": "stdout",
     "output_type": "stream",
     "text": [
      "10 20\n"
     ]
    }
   ],
   "source": [
    "print(x,y)"
   ]
  },
  {
   "cell_type": "code",
   "execution_count": 61,
   "id": "e86f02a0-dba3-47df-a7a7-b0dbce8e4246",
   "metadata": {},
   "outputs": [],
   "source": [
    "x,y = y,x"
   ]
  },
  {
   "cell_type": "code",
   "execution_count": 62,
   "id": "4937dd5b-e2a6-4fe9-a3e3-566a25217187",
   "metadata": {},
   "outputs": [
    {
     "name": "stdout",
     "output_type": "stream",
     "text": [
      "20 10\n"
     ]
    }
   ],
   "source": [
    "print(x,y)"
   ]
  },
  {
   "cell_type": "code",
   "execution_count": null,
   "id": "54560e63-0a94-4430-9664-1c8fa82b4f93",
   "metadata": {},
   "outputs": [],
   "source": []
  },
  {
   "cell_type": "code",
   "execution_count": 57,
   "id": "57fbb4f7-cc7f-4ec3-881e-235019f4dbad",
   "metadata": {},
   "outputs": [
    {
     "ename": "ValueError",
     "evalue": "not enough values to unpack (expected 3, got 2)",
     "output_type": "error",
     "traceback": [
      "\u001b[1;31m---------------------------------------------------------------------------\u001b[0m",
      "\u001b[1;31mValueError\u001b[0m                                Traceback (most recent call last)",
      "Cell \u001b[1;32mIn [57], line 1\u001b[0m\n\u001b[1;32m----> 1\u001b[0m x, y, z \u001b[38;5;241m=\u001b[39m \u001b[38;5;241m20\u001b[39m, \u001b[38;5;241m30\u001b[39m\n",
      "\u001b[1;31mValueError\u001b[0m: not enough values to unpack (expected 3, got 2)"
     ]
    }
   ],
   "source": [
    "x, y, z = 20, 30"
   ]
  },
  {
   "cell_type": "markdown",
   "id": "ba65f2cb-c59f-4dbf-813e-74cee757cc57",
   "metadata": {},
   "source": [
    "#### 변수값 바꾸어 주기\n",
    "\n",
    "```python\n",
    "x,y = 10,20\n",
    "print(x,y)\n",
    "x, y = y,x\n",
    "print(x,y)\n",
    "```"
   ]
  },
  {
   "cell_type": "markdown",
   "id": "8004d477-51ac-429d-b792-06db283854dc",
   "metadata": {},
   "source": [
    "#### 좌, 우 갯수가 안맞는다면?\n",
    "\n",
    "```python\n",
    "x,y,z = 10,20\n",
    "x,y = 10,20,30\n",
    "\n",
    "```"
   ]
  },
  {
   "cell_type": "code",
   "execution_count": null,
   "id": "dcf5d833-aa8b-4cdb-a6a5-fe97bc185ca5",
   "metadata": {},
   "outputs": [],
   "source": [
    "x,y = 10,20\n",
    "print(x,y)\n",
    "x, y = y,x\n",
    "print(x,y)"
   ]
  },
  {
   "cell_type": "code",
   "execution_count": null,
   "id": "e22cf233-d666-4065-ad87-d68237541ebe",
   "metadata": {},
   "outputs": [],
   "source": [
    "x=10\n",
    "y=20\n",
    "t = x\n",
    "x = y\n",
    "y = t\n",
    "print(x,y)"
   ]
  },
  {
   "cell_type": "code",
   "execution_count": null,
   "id": "5c7513ec-0fcd-4bce-ae61-03a6b6d96a1b",
   "metadata": {},
   "outputs": [],
   "source": []
  },
  {
   "cell_type": "markdown",
   "id": "d4b1c47f-98de-4a65-b857-9bebc140a9e9",
   "metadata": {},
   "source": [
    "#### 변수 삭제하기 (del)\n",
    "\n",
    "```python\n",
    "x = 10\n",
    "print(x)\n",
    "del x\n",
    "print(x)\n",
    "```\n",
    "\n",
    "\n",
    "아래와 같은 에러메시지가 나오면 정상\n",
    "```\n",
    "---------------------------------------------------------------------------\n",
    "NameError                                 Traceback (most recent call last)\n",
    "<ipython-input-22-6fcf9dfbd479> in <module>\n",
    "----> 1 x\n",
    "\n",
    "NameError: name 'x' is not defined\n",
    "```"
   ]
  },
  {
   "cell_type": "code",
   "execution_count": 14,
   "id": "fe129e42-cad7-47c8-97fc-11778d5ad14a",
   "metadata": {},
   "outputs": [
    {
     "name": "stdout",
     "output_type": "stream",
     "text": [
      "1\n"
     ]
    }
   ],
   "source": [
    "print(a)"
   ]
  },
  {
   "cell_type": "code",
   "execution_count": null,
   "id": "6da2637d-62d5-4d32-9734-da8ecd14fee6",
   "metadata": {},
   "outputs": [],
   "source": []
  },
  {
   "cell_type": "code",
   "execution_count": 16,
   "id": "1ed99320-df1c-4751-9683-68b3637edac4",
   "metadata": {},
   "outputs": [
    {
     "ename": "NameError",
     "evalue": "name 'a' is not defined",
     "output_type": "error",
     "traceback": [
      "\u001b[1;31m---------------------------------------------------------------------------\u001b[0m",
      "\u001b[1;31mNameError\u001b[0m                                 Traceback (most recent call last)",
      "Cell \u001b[1;32mIn [16], line 1\u001b[0m\n\u001b[1;32m----> 1\u001b[0m \u001b[38;5;28mprint\u001b[39m(\u001b[43ma\u001b[49m)\n",
      "\u001b[1;31mNameError\u001b[0m: name 'a' is not defined"
     ]
    }
   ],
   "source": [
    "print(a)"
   ]
  },
  {
   "cell_type": "code",
   "execution_count": null,
   "id": "a43ed888-2787-4751-beeb-f3666b014ac6",
   "metadata": {},
   "outputs": [],
   "source": []
  },
  {
   "cell_type": "code",
   "execution_count": null,
   "id": "dd9757db-6c60-458a-9560-2f81756db56b",
   "metadata": {},
   "outputs": [],
   "source": []
  },
  {
   "cell_type": "code",
   "execution_count": null,
   "id": "0468d79e-317a-4dcf-ae4f-bcb091b4bbee",
   "metadata": {},
   "outputs": [],
   "source": []
  },
  {
   "cell_type": "code",
   "execution_count": null,
   "id": "da75512a-ff1b-46fd-b1fa-81f3109f07b3",
   "metadata": {},
   "outputs": [],
   "source": []
  },
  {
   "cell_type": "code",
   "execution_count": 12,
   "id": "6daf2b68-71be-4ac7-812e-b5396ec1d665",
   "metadata": {},
   "outputs": [],
   "source": [
    "a = 1"
   ]
  },
  {
   "cell_type": "code",
   "execution_count": 15,
   "id": "9963382b-f6f5-460f-9dca-c71439b39bc2",
   "metadata": {},
   "outputs": [],
   "source": [
    "del a"
   ]
  },
  {
   "cell_type": "code",
   "execution_count": null,
   "id": "ef78488a-055f-4e25-8834-d7510de9e1ab",
   "metadata": {},
   "outputs": [],
   "source": []
  },
  {
   "cell_type": "code",
   "execution_count": null,
   "id": "1f636646-76ce-47b8-a8c8-a35d27026d7f",
   "metadata": {},
   "outputs": [],
   "source": [
    "x = 10\n",
    "print(x)"
   ]
  },
  {
   "cell_type": "code",
   "execution_count": null,
   "id": "46a128d7-861e-447a-9235-15e3af8a2d59",
   "metadata": {},
   "outputs": [],
   "source": [
    "del x\n",
    "print(x)"
   ]
  },
  {
   "cell_type": "code",
   "execution_count": null,
   "id": "6d1232ce-fe8c-45f6-bd5e-0d68ca33bbf6",
   "metadata": {},
   "outputs": [],
   "source": [
    "print(abc)"
   ]
  },
  {
   "cell_type": "markdown",
   "id": "99ec7381-21ed-4bc3-a570-c4dd530b304c",
   "metadata": {},
   "source": [
    "## 6.2 변수로 계산하기\n",
    "\n",
    "`a` 와 `b` 의 값이 같을까요?\n",
    "```python\n",
    "a = 10\n",
    "a + 20\n",
    "\n",
    "b = 10\n",
    "b = b + 20\n",
    "\n",
    "print(a,b)\n",
    "```"
   ]
  },
  {
   "cell_type": "code",
   "execution_count": 24,
   "id": "59bbb83c-e012-4166-bc74-5742795d4092",
   "metadata": {},
   "outputs": [
    {
     "name": "stdout",
     "output_type": "stream",
     "text": [
      "20\n",
      "10\n"
     ]
    }
   ],
   "source": [
    "a = 10\n",
    "print(a+10)\n",
    "\n",
    "print(a)"
   ]
  },
  {
   "cell_type": "code",
   "execution_count": 25,
   "id": "52dd5cb1-7e52-4aef-afbe-d6c2ef01358c",
   "metadata": {},
   "outputs": [
    {
     "name": "stdout",
     "output_type": "stream",
     "text": [
      "20\n"
     ]
    }
   ],
   "source": [
    "a = 10\n",
    "a = a+10\n",
    "print(a)"
   ]
  },
  {
   "cell_type": "code",
   "execution_count": 28,
   "id": "485bd1f5-705f-4569-9c15-455f07616944",
   "metadata": {},
   "outputs": [
    {
     "name": "stdout",
     "output_type": "stream",
     "text": [
      "0\n"
     ]
    }
   ],
   "source": [
    "a = 10\n",
    "a %= 10\n",
    "print(a)"
   ]
  },
  {
   "cell_type": "code",
   "execution_count": null,
   "id": "57dd7afc-947b-4dff-a661-b000094ff14e",
   "metadata": {},
   "outputs": [],
   "source": []
  },
  {
   "cell_type": "code",
   "execution_count": null,
   "id": "03c9ac0d-a5a0-43d6-9a28-6f879e93c8cc",
   "metadata": {},
   "outputs": [],
   "source": []
  },
  {
   "cell_type": "code",
   "execution_count": null,
   "id": "0cee304e-9c53-4c54-a5c3-f1194ecf612d",
   "metadata": {},
   "outputs": [],
   "source": []
  },
  {
   "cell_type": "code",
   "execution_count": null,
   "id": "aca62910-0b97-4a1c-aa0b-fbf1be80d4e3",
   "metadata": {},
   "outputs": [],
   "source": []
  },
  {
   "cell_type": "code",
   "execution_count": 63,
   "id": "0ca958c4-67a1-4eb9-b9b9-73b5e8404ec7",
   "metadata": {},
   "outputs": [
    {
     "name": "stdout",
     "output_type": "stream",
     "text": [
      "30\n",
      "10\n"
     ]
    }
   ],
   "source": [
    "a = 10\n",
    "print(a + 20)\n",
    "print(a)"
   ]
  },
  {
   "cell_type": "code",
   "execution_count": 64,
   "id": "58c69a75-63e4-4b43-afb3-b41ecdd543b6",
   "metadata": {},
   "outputs": [
    {
     "name": "stdout",
     "output_type": "stream",
     "text": [
      "30\n"
     ]
    }
   ],
   "source": [
    "a = 10\n",
    "a = a + 20\n",
    "print(a)"
   ]
  },
  {
   "cell_type": "code",
   "execution_count": null,
   "id": "b9f4086d-f18b-4b0f-bc10-551b8d13c071",
   "metadata": {},
   "outputs": [],
   "source": [
    "a = 10\n",
    "a += 20\n",
    "print(a)"
   ]
  },
  {
   "cell_type": "code",
   "execution_count": null,
   "id": "7646b38b-0ffe-4c08-9631-9005d692a4c8",
   "metadata": {},
   "outputs": [],
   "source": []
  },
  {
   "cell_type": "code",
   "execution_count": null,
   "id": "13b1bb77-cdf7-4dff-bddf-82f5c97d3f2b",
   "metadata": {},
   "outputs": [],
   "source": []
  },
  {
   "cell_type": "code",
   "execution_count": null,
   "id": "6ad8d9cb-c2c1-4683-a05b-a42c70668569",
   "metadata": {},
   "outputs": [],
   "source": []
  },
  {
   "cell_type": "code",
   "execution_count": null,
   "id": "8852e63e-5e9d-4ff0-ad6d-43e287af2fd6",
   "metadata": {},
   "outputs": [],
   "source": [
    "x = 10\n",
    "del x"
   ]
  },
  {
   "cell_type": "code",
   "execution_count": null,
   "id": "942c6110-cf53-44c5-a07f-99b658918065",
   "metadata": {},
   "outputs": [],
   "source": [
    "print(x)"
   ]
  },
  {
   "cell_type": "code",
   "execution_count": null,
   "id": "54d839ee-3612-4f8f-841a-b1385b979620",
   "metadata": {},
   "outputs": [],
   "source": [
    "del x111"
   ]
  },
  {
   "cell_type": "code",
   "execution_count": 20,
   "id": "21954718-558f-4176-945e-3a20912e2c0e",
   "metadata": {},
   "outputs": [
    {
     "name": "stdout",
     "output_type": "stream",
     "text": [
      "30\n"
     ]
    }
   ],
   "source": [
    "a = 10\n",
    "b = 20\n",
    "\n",
    "c = a+b\n",
    "\n",
    "print(c)"
   ]
  },
  {
   "cell_type": "code",
   "execution_count": null,
   "id": "b3e12d71-5fd6-421c-8f35-04081987eae0",
   "metadata": {},
   "outputs": [],
   "source": [
    "a = 10\n",
    "print(a)"
   ]
  },
  {
   "cell_type": "code",
   "execution_count": null,
   "id": "cb9c5681-ce28-4f92-9f68-36e5b2050251",
   "metadata": {},
   "outputs": [],
   "source": [
    "a + 10\n",
    "print(a)"
   ]
  },
  {
   "cell_type": "code",
   "execution_count": null,
   "id": "beea66e7-7e3b-4cff-94f2-283c742de80a",
   "metadata": {},
   "outputs": [],
   "source": [
    "a = a+10\n",
    "print(a)"
   ]
  },
  {
   "cell_type": "code",
   "execution_count": null,
   "id": "6fca0347-7956-40de-a202-cd59c3eea1c9",
   "metadata": {},
   "outputs": [],
   "source": [
    "a = 10\n",
    "a -= 10\n",
    "print(a)"
   ]
  },
  {
   "cell_type": "code",
   "execution_count": null,
   "id": "79486bfd-d5ae-43d6-9b74-27e180f722d5",
   "metadata": {},
   "outputs": [],
   "source": [
    "a = 10\n",
    "a *= 3\n",
    "print(a)"
   ]
  },
  {
   "cell_type": "code",
   "execution_count": null,
   "id": "d8d83f05-c76b-4d84-aa1e-2f60bdeb5f70",
   "metadata": {},
   "outputs": [],
   "source": [
    "a = 10\n",
    "a /= 2\n",
    "print(a)"
   ]
  },
  {
   "cell_type": "code",
   "execution_count": null,
   "id": "5a021d72-9392-420d-bb73-989150bf62e6",
   "metadata": {},
   "outputs": [],
   "source": [
    "a = 10\n",
    "a += 10\n",
    "print(a)"
   ]
  },
  {
   "cell_type": "markdown",
   "id": "b6699d9a-3d20-4e50-adab-f1f7b2eb6371",
   "metadata": {
    "tags": []
   },
   "source": [
    "### `+=` 연산자에 대해서 알아보아요\n",
    "\n",
    "`a`와 `b`가 같을까요?\n",
    "```python\n",
    "a = 10\n",
    "a = a + 20\n",
    "\n",
    "b = 10\n",
    "b += 20\n",
    "\n",
    "print(a,b)\n",
    "```\n",
    "\n",
    "\n",
    "어떤 결과가 나올까요?\n",
    "```python\n",
    "c += 20\n",
    "```"
   ]
  },
  {
   "cell_type": "markdown",
   "id": "51dc8057-8729-416f-8bc3-3f72c8df39e7",
   "metadata": {
    "tags": []
   },
   "source": [
    "## 6.3 입력값을 변수에 저장하기\n",
    "\n",
    "프로그램 실행 이후에 사용자(Human)에게 키보드로 값을 입력받기 위한 방법"
   ]
  },
  {
   "cell_type": "code",
   "execution_count": 21,
   "id": "28c8d012-6e99-4b56-8ed1-f629de213604",
   "metadata": {},
   "outputs": [
    {
     "name": "stdout",
     "output_type": "stream",
     "text": [
      "20\n"
     ]
    }
   ],
   "source": [
    "a = 10\n",
    "a = a + 10\n",
    "print(a)"
   ]
  },
  {
   "cell_type": "code",
   "execution_count": 38,
   "id": "47a245c3-3e42-470c-b330-989355a18f65",
   "metadata": {},
   "outputs": [],
   "source": [
    "a -= 10"
   ]
  },
  {
   "cell_type": "code",
   "execution_count": 39,
   "id": "841fc180-dd78-4fee-af80-4e163a4f94a9",
   "metadata": {},
   "outputs": [
    {
     "name": "stdout",
     "output_type": "stream",
     "text": [
      "-10\n"
     ]
    }
   ],
   "source": [
    "print(a)"
   ]
  },
  {
   "cell_type": "markdown",
   "id": "350a9d2b-d368-4885-8809-aa6346c160e7",
   "metadata": {},
   "source": [
    "### 6.3.1 input() 사용하기\n",
    "\n",
    "input()을 입력한 뒤 엔터 키를 누르면 다음 줄로 넘어갑니다.  \n",
    "이 상태에서 Hello, world!를 입력한 뒤 엔터 키를 누르세요.  \n",
    "입력한 문자열이 그대로 출력됩니다.   \n",
    "**즉, 사용자가 입력한 값을 가져오는 함수입니다.**\n",
    "\n",
    "```ipython\n",
    ">>> input()\n",
    "Hello, world! (입력)\n",
    "'Hello, world!'\n",
    "```"
   ]
  },
  {
   "cell_type": "code",
   "execution_count": 38,
   "id": "5638a8de-a301-4f60-8c69-343faef38851",
   "metadata": {},
   "outputs": [
    {
     "name": "stdin",
     "output_type": "stream",
     "text": [
      " abc\n"
     ]
    },
    {
     "name": "stdout",
     "output_type": "stream",
     "text": [
      "abc\n",
      "<class 'str'>\n"
     ]
    },
    {
     "ename": "ValueError",
     "evalue": "invalid literal for int() with base 10: 'abc'",
     "output_type": "error",
     "traceback": [
      "\u001b[1;31m---------------------------------------------------------------------------\u001b[0m",
      "\u001b[1;31mValueError\u001b[0m                                Traceback (most recent call last)",
      "Cell \u001b[1;32mIn [38], line 4\u001b[0m\n\u001b[0;32m      2\u001b[0m \u001b[38;5;28mprint\u001b[39m(a)\n\u001b[0;32m      3\u001b[0m \u001b[38;5;28mprint\u001b[39m(\u001b[38;5;28mtype\u001b[39m(a))\n\u001b[1;32m----> 4\u001b[0m a \u001b[38;5;241m=\u001b[39m \u001b[38;5;28;43mint\u001b[39;49m\u001b[43m(\u001b[49m\u001b[43ma\u001b[49m\u001b[43m)\u001b[49m\n\u001b[0;32m      5\u001b[0m \u001b[38;5;28mprint\u001b[39m(\u001b[38;5;28mtype\u001b[39m(a))\n",
      "\u001b[1;31mValueError\u001b[0m: invalid literal for int() with base 10: 'abc'"
     ]
    }
   ],
   "source": [
    "a = input()\n",
    "print(a)\n",
    "print(type(a))\n",
    "a = int(a)\n",
    "print(type(a))"
   ]
  },
  {
   "cell_type": "code",
   "execution_count": 40,
   "id": "6d9f0f97-04ad-457a-bcdd-43b937ff6702",
   "metadata": {},
   "outputs": [
    {
     "name": "stdin",
     "output_type": "stream",
     "text": [
      "정수를 입력하세요 111\n"
     ]
    }
   ],
   "source": [
    "a = input(\"정수를 입력하세요\")"
   ]
  },
  {
   "cell_type": "code",
   "execution_count": null,
   "id": "d7ab1879-f072-4d66-a3ed-b234d82a11f4",
   "metadata": {},
   "outputs": [],
   "source": []
  },
  {
   "cell_type": "code",
   "execution_count": null,
   "id": "f10f25f4-b6c2-45ac-b450-18a9a52ff8e4",
   "metadata": {},
   "outputs": [],
   "source": []
  },
  {
   "cell_type": "code",
   "execution_count": 71,
   "id": "10913659-c7ce-4584-8e6b-f15f929532f3",
   "metadata": {},
   "outputs": [
    {
     "name": "stdin",
     "output_type": "stream",
     "text": [
      "입력하세요 dj\n"
     ]
    },
    {
     "name": "stdout",
     "output_type": "stream",
     "text": [
      "dj\n",
      "<class 'str'>\n"
     ]
    }
   ],
   "source": [
    "a = input(\"입력하세요\")\n",
    "print(a)\n",
    "print(type(a))"
   ]
  },
  {
   "cell_type": "code",
   "execution_count": null,
   "id": "cfec2d18-c645-4810-a927-4d6bf096fd7c",
   "metadata": {},
   "outputs": [],
   "source": [
    "type(a)"
   ]
  },
  {
   "cell_type": "code",
   "execution_count": null,
   "id": "6ec99145-3293-47c5-9308-b3ebec51a8e7",
   "metadata": {},
   "outputs": [],
   "source": []
  },
  {
   "cell_type": "code",
   "execution_count": null,
   "id": "65c15852-6bb4-4504-a552-9094bb4b90ef",
   "metadata": {},
   "outputs": [],
   "source": []
  },
  {
   "cell_type": "code",
   "execution_count": null,
   "id": "b8cec87a-6cc5-470e-911b-9622f27932c0",
   "metadata": {},
   "outputs": [],
   "source": []
  },
  {
   "cell_type": "code",
   "execution_count": 40,
   "id": "3dbee22f-3184-48f4-8b0e-fbebdf81e7d8",
   "metadata": {},
   "outputs": [
    {
     "name": "stdin",
     "output_type": "stream",
     "text": [
      " aaa\n"
     ]
    },
    {
     "data": {
      "text/plain": [
       "'aaa'"
      ]
     },
     "execution_count": 40,
     "metadata": {},
     "output_type": "execute_result"
    }
   ],
   "source": [
    "input()"
   ]
  },
  {
   "cell_type": "markdown",
   "id": "c0bdb1cb-1b7f-4dcf-8d57-96e1bc1ae3dd",
   "metadata": {},
   "source": [
    "### 6.3.2 input() 함수결과를 변수에 저장하기\n",
    "\n",
    "```python\n",
    "x = input()\n",
    "print(x)\n",
    "```\n",
    "\n",
    "위의 코드와 어떤 차이가 있을까요?\n",
    "```pytnon\n",
    "x = input(\"문자열을 입력하세요: \")\n",
    "print(x)\n",
    "```\n"
   ]
  },
  {
   "cell_type": "code",
   "execution_count": 43,
   "id": "2d5ab560-71b9-4cd5-bb5f-9421cd3639fa",
   "metadata": {},
   "outputs": [
    {
     "name": "stdin",
     "output_type": "stream",
     "text": [
      "문자열을 입력하세요:  동해물과 백두산이\n"
     ]
    }
   ],
   "source": [
    "x = input(\"문자열을 입력하세요: \")"
   ]
  },
  {
   "cell_type": "code",
   "execution_count": 44,
   "id": "e468a32b-03f2-4bbb-9a94-fc0004bed79d",
   "metadata": {},
   "outputs": [
    {
     "name": "stdout",
     "output_type": "stream",
     "text": [
      "동해물과 백두산이\n"
     ]
    }
   ],
   "source": [
    "print(x)"
   ]
  },
  {
   "cell_type": "markdown",
   "id": "7b66cac3-e930-46d5-ba2d-4b865304b529",
   "metadata": {},
   "source": [
    "### 6.3.3 두 숫자의 합 구하기\n",
    "\n",
    "어떤 결과가 출력될까요?\n",
    "```python\n",
    "a = input(\"첫번째 숫자를 입력하세요: \")  # 10을 입력하세요\n",
    "b = input(\"두번째 숫자를 입력하세요: \")  # 20을 입력하세요\n",
    "\n",
    "print(a+b)\n",
    "```\n",
    "\n",
    "왜 그럴까요?\n",
    "```python\n",
    "a = input(\"첫번째 숫자를 입력하세요: \")\n",
    "type(a)\n",
    "```"
   ]
  },
  {
   "cell_type": "code",
   "execution_count": 42,
   "id": "4f2413c3-c4ef-45cc-ace3-8da81a825139",
   "metadata": {},
   "outputs": [
    {
     "name": "stdin",
     "output_type": "stream",
     "text": [
      "첫번째 숫자 10\n",
      "두번째 숫자 20\n"
     ]
    },
    {
     "name": "stdout",
     "output_type": "stream",
     "text": [
      "30\n"
     ]
    }
   ],
   "source": [
    "a = input(\"첫번째 숫자\")\n",
    "b = input(\"두번째 숫자\")\n",
    "\n",
    "print(int(a)+int(b))"
   ]
  },
  {
   "cell_type": "code",
   "execution_count": null,
   "id": "6145df16-e30b-4578-bdd6-c6207c6adfde",
   "metadata": {},
   "outputs": [],
   "source": []
  },
  {
   "cell_type": "code",
   "execution_count": null,
   "id": "bae4761b-76a3-4f88-aec8-096ea41af615",
   "metadata": {},
   "outputs": [],
   "source": []
  },
  {
   "cell_type": "code",
   "execution_count": null,
   "id": "f6433551-59da-401e-806e-7bccd9cf214c",
   "metadata": {},
   "outputs": [],
   "source": []
  },
  {
   "cell_type": "code",
   "execution_count": null,
   "id": "60f6e10b-94ec-43bc-be2a-0ac2ca0fee17",
   "metadata": {},
   "outputs": [],
   "source": []
  },
  {
   "cell_type": "code",
   "execution_count": null,
   "id": "b818e6d1-6dba-4f9a-b3e3-f8cc6b68851c",
   "metadata": {},
   "outputs": [],
   "source": []
  },
  {
   "cell_type": "code",
   "execution_count": null,
   "id": "bd743a9d-d55c-46d8-99db-d12f97ccf15c",
   "metadata": {},
   "outputs": [],
   "source": []
  },
  {
   "cell_type": "code",
   "execution_count": null,
   "id": "542917cf-467f-4f5a-9262-117418ca905a",
   "metadata": {},
   "outputs": [],
   "source": []
  },
  {
   "cell_type": "code",
   "execution_count": null,
   "id": "b9b1011f-8e63-467f-884b-f33b0442d169",
   "metadata": {},
   "outputs": [],
   "source": []
  },
  {
   "cell_type": "code",
   "execution_count": 12,
   "id": "777e3fa7-b31c-4138-91e2-95f15934c88c",
   "metadata": {},
   "outputs": [
    {
     "name": "stdin",
     "output_type": "stream",
     "text": [
      "첫번째 숫자를 입력하세요:  1.0\n",
      "두번째 숫자를 입력하세요:  2.5\n"
     ]
    },
    {
     "name": "stdout",
     "output_type": "stream",
     "text": [
      "3.0\n"
     ]
    }
   ],
   "source": [
    "a = input(\"첫번째 숫자를 입력하세요: \")  # 10을 입력하세요\n",
    "b = input(\"두번째 숫자를 입력하세요: \")  # 20을 입력하세요\n",
    "\n",
    "a = int(float(a)) #1\n",
    "b = round(float(b),0) #2\n",
    "\n",
    "print(a+b)"
   ]
  },
  {
   "cell_type": "code",
   "execution_count": null,
   "id": "b5dda547-3b0b-410a-89cf-40b17fdc414b",
   "metadata": {},
   "outputs": [],
   "source": []
  },
  {
   "cell_type": "code",
   "execution_count": null,
   "id": "ea0d66fb-004b-41ed-a9ce-87d123493669",
   "metadata": {},
   "outputs": [],
   "source": []
  },
  {
   "cell_type": "code",
   "execution_count": null,
   "id": "0f5239d9-48fc-468f-81aa-b961f73778a3",
   "metadata": {},
   "outputs": [],
   "source": []
  },
  {
   "cell_type": "code",
   "execution_count": 50,
   "id": "cefdc502-cee2-4b98-9eb9-46452f963cae",
   "metadata": {},
   "outputs": [
    {
     "name": "stdin",
     "output_type": "stream",
     "text": [
      "첫번째 숫자를 입력하세요:  10\n",
      "두번째 숫자를 입력하세요:  20\n"
     ]
    },
    {
     "name": "stdout",
     "output_type": "stream",
     "text": [
      "<class 'str'>\n"
     ]
    }
   ],
   "source": [
    "a = input(\"첫번째 숫자를 입력하세요: \")  # 10을 입력하세요\n",
    "b = input(\"두번째 숫자를 입력하세요: \")  # 20을 입력하세요\n",
    "\n",
    "print(type(a))"
   ]
  },
  {
   "cell_type": "code",
   "execution_count": 49,
   "id": "19b7dc38-5dfa-4b9f-8990-988eb2326cab",
   "metadata": {},
   "outputs": [
    {
     "data": {
      "text/plain": [
       "float"
      ]
     },
     "execution_count": 49,
     "metadata": {},
     "output_type": "execute_result"
    }
   ],
   "source": [
    "type(1.0)"
   ]
  },
  {
   "cell_type": "code",
   "execution_count": 52,
   "id": "264c43a1-03c4-40b7-8f1a-553f16008455",
   "metadata": {},
   "outputs": [
    {
     "name": "stdin",
     "output_type": "stream",
     "text": [
      "first number?  10\n",
      "second number?  20\n"
     ]
    },
    {
     "name": "stdout",
     "output_type": "stream",
     "text": [
      "30.0\n"
     ]
    }
   ],
   "source": [
    "a = input(\"first number? \")\n",
    "b = input(\"second number? \")\n",
    "\n",
    "print(float(a)+float(b))"
   ]
  },
  {
   "cell_type": "markdown",
   "id": "dc067686-5c14-4476-b7c2-f9a5ee35ac76",
   "metadata": {},
   "source": [
    "### 6.3.4 입력값을 정수로 변환하기\n",
    "\n",
    "10 + 20 의 결과가 30이 나오게 하려면 input() 에서 입력받은 문자열을 숫자(정수)로 만들어 주어야 합니다.\n",
    "```python\n",
    "a = int(input(\"첫번째 숫자를 입력하세요: \"))\n",
    "b = int(input(\"두번째 숫자를 입력하세요: \"))\n",
    "a+b\n",
    "```"
   ]
  },
  {
   "cell_type": "code",
   "execution_count": null,
   "id": "8b0808d1-0c6d-414b-95a2-b56f167fd4f7",
   "metadata": {},
   "outputs": [],
   "source": []
  },
  {
   "cell_type": "markdown",
   "id": "b9907ccd-e068-4205-a9df-e1ee2798700d",
   "metadata": {},
   "source": [
    "## 6.4 입력 값을 변수 두개에 저장하기\n",
    "\n",
    "input()에서 split()을 사용하여 한 번에 값을 여러 개 입력받아 봅시다.\n",
    "```python\n",
    "# hello python 이라고 입력해보세요\n",
    "a, b = input('문자열 두 개를 입력하세요: ').split()  # 입력받은 문자열을 공백 기준으로 분리\n",
    "print(a)\n",
    "print(b)\n",
    "```"
   ]
  },
  {
   "cell_type": "code",
   "execution_count": 47,
   "id": "bad5fd2c-dde8-4d14-9eec-07e1c2dc8136",
   "metadata": {},
   "outputs": [
    {
     "name": "stdin",
     "output_type": "stream",
     "text": [
      " 10 20 30,40\n"
     ]
    },
    {
     "data": {
      "text/plain": [
       "['10', '20', '30,40']"
      ]
     },
     "execution_count": 47,
     "metadata": {},
     "output_type": "execute_result"
    }
   ],
   "source": [
    "input().split(\" \") # input().split(\" \")"
   ]
  },
  {
   "cell_type": "code",
   "execution_count": null,
   "id": "ae68e946-17f2-4839-bcc4-9d6ed743140c",
   "metadata": {},
   "outputs": [],
   "source": []
  },
  {
   "cell_type": "code",
   "execution_count": null,
   "id": "bd9152e5-d1e9-4ae9-b6e2-11b373d872f8",
   "metadata": {},
   "outputs": [],
   "source": []
  },
  {
   "cell_type": "code",
   "execution_count": null,
   "id": "71548ce9-6dff-4289-b857-0b81df7ed9bb",
   "metadata": {},
   "outputs": [],
   "source": []
  },
  {
   "cell_type": "code",
   "execution_count": null,
   "id": "87b833f6-301a-4816-be99-71bf9ef33215",
   "metadata": {},
   "outputs": [],
   "source": []
  },
  {
   "cell_type": "code",
   "execution_count": null,
   "id": "75c52980-6d5c-4dac-9836-4a77ad239641",
   "metadata": {},
   "outputs": [],
   "source": []
  },
  {
   "cell_type": "code",
   "execution_count": null,
   "id": "13546d6a-03ce-454e-a4d7-fd8e925934d8",
   "metadata": {},
   "outputs": [],
   "source": []
  },
  {
   "cell_type": "code",
   "execution_count": null,
   "id": "e04f842f-527c-4dd7-97af-575004ea9cb4",
   "metadata": {},
   "outputs": [],
   "source": [
    "a, b = 12"
   ]
  },
  {
   "cell_type": "code",
   "execution_count": 21,
   "id": "9f81e032-1adc-4d10-878e-c5c39645b67a",
   "metadata": {},
   "outputs": [
    {
     "name": "stdin",
     "output_type": "stream",
     "text": [
      "two number? 1 2\n"
     ]
    },
    {
     "name": "stdout",
     "output_type": "stream",
     "text": [
      "1\n",
      "2\n"
     ]
    }
   ],
   "source": [
    "a, b = input(\"two number?\").split()\n",
    "print(a)\n",
    "print(b)"
   ]
  },
  {
   "cell_type": "code",
   "execution_count": 15,
   "id": "bcdb6072-157a-4438-9e2b-eafeebdf0bf2",
   "metadata": {},
   "outputs": [
    {
     "data": {
      "text/plain": [
       "['1', '2']"
      ]
     },
     "execution_count": 15,
     "metadata": {},
     "output_type": "execute_result"
    }
   ],
   "source": [
    "\"1,2\".split(\",\")"
   ]
  },
  {
   "cell_type": "code",
   "execution_count": 48,
   "id": "7dcf919a-8c0e-43c4-89ea-1ab0ee3ffbb9",
   "metadata": {},
   "outputs": [],
   "source": [
    "article=\"\"\"\n",
    "만취 상태로 친구 승용차를 몰다가 부천 북부역 한 주점으로 돌진해 2명을 다치게 한 10대 남성이 경찰에 붙잡혔다.\n",
    "\n",
    "부천 원미경찰서는 도로교통법상 음주운전과 특정범죄가중처벌법상 위험운전치상 혐의로 A씨(19)를 붙잡아 수사 중이라고 12일 밝혔다.\n",
    "\n",
    "A씨는 이날 오전 4시9분께 부천시 심곡동 한 이면도로에서 제네시스 승용차를 몰다가 주점으로 돌진해 주점 안에 있던 30대 남성 B씨와 20대 남성 C씨 등 2명을 다치게 한 혐의를 받고 있다.\n",
    "\n",
    "B씨는 들이닥친 차량으로 테이블이 밀리면서 좌측 무릎이 부딪혀 다쳤고 C씨는 깨진 유리창 파편으로 인해 양쪽 눈에 이물질이 들어가 병원에서 치료를 받았다.\n",
    "\n",
    "현장에 출동한 경찰이 사고 이후 측정한 A씨의 혈중알코올농도는 면허 취소 수치인 0.14%로 확인됐다.\n",
    "\n",
    "A씨는 최근 운전면허를 취득해 친구의 차량을 10m가량 몰다가 사고를 낸 것으로 조사됐다. 차주인 A씨의 친구는 당시 시동을 켜놓은 채 자리를 비운 상태였다.\n",
    "\n",
    "A씨는 “호기심에 친구 차량을 운전하다가 사고를 냈다”고 진술했다.\n",
    "\n",
    "경찰 관계자는 “A씨를 일단 귀가하도록 조치했다”며 “추후 다시 불러 정확한 사고 경위를 조사할 계획”이라고 말했다.\n",
    "\"\"\""
   ]
  },
  {
   "cell_type": "code",
   "execution_count": 52,
   "id": "2630d5b3-04f6-4cff-badf-e2924cbb41ad",
   "metadata": {},
   "outputs": [
    {
     "data": {
      "text/plain": [
       "17"
      ]
     },
     "execution_count": 52,
     "metadata": {},
     "output_type": "execute_result"
    }
   ],
   "source": [
    "len(article.split(\"\\n\"))"
   ]
  },
  {
   "cell_type": "code",
   "execution_count": null,
   "id": "517b9327-0423-4ad5-92e9-877e597e7f47",
   "metadata": {},
   "outputs": [],
   "source": []
  },
  {
   "cell_type": "code",
   "execution_count": null,
   "id": "5629172d-eaf5-4956-b792-f08ba03e900a",
   "metadata": {},
   "outputs": [],
   "source": []
  },
  {
   "cell_type": "code",
   "execution_count": null,
   "id": "b5a3a90c-761f-4a24-bbb9-367bd1d9c656",
   "metadata": {},
   "outputs": [],
   "source": []
  },
  {
   "cell_type": "code",
   "execution_count": null,
   "id": "0063556f-aa6a-4c25-b10b-3c6156db79eb",
   "metadata": {},
   "outputs": [],
   "source": []
  },
  {
   "cell_type": "code",
   "execution_count": null,
   "id": "82efd7ce-1d8e-4217-8c4d-e98cbfb7b731",
   "metadata": {},
   "outputs": [],
   "source": []
  },
  {
   "cell_type": "code",
   "execution_count": 19,
   "id": "4432a93a-6282-4505-8cfc-238716f90233",
   "metadata": {},
   "outputs": [
    {
     "data": {
      "text/plain": [
       "138"
      ]
     },
     "execution_count": 19,
     "metadata": {},
     "output_type": "execute_result"
    }
   ],
   "source": [
    "len(article.split())"
   ]
  },
  {
   "cell_type": "code",
   "execution_count": 20,
   "id": "6512e93c-04a2-4137-b141-87b9b47eea7d",
   "metadata": {},
   "outputs": [
    {
     "data": {
      "text/plain": [
       "1189"
      ]
     },
     "execution_count": 20,
     "metadata": {},
     "output_type": "execute_result"
    }
   ],
   "source": [
    "len(article.replace(\"\", \" \"))"
   ]
  },
  {
   "cell_type": "code",
   "execution_count": null,
   "id": "c8549b1b-7bca-4b1e-9887-6dd19960a7fe",
   "metadata": {},
   "outputs": [],
   "source": []
  },
  {
   "cell_type": "code",
   "execution_count": 16,
   "id": "0e1d5bbc-e0e9-4a51-8631-844095ef38f2",
   "metadata": {},
   "outputs": [
    {
     "data": {
      "text/plain": [
       "['동해물과', '백두산이', '마르고', '닳도록', '하느님이', '보우하사']"
      ]
     },
     "execution_count": 16,
     "metadata": {},
     "output_type": "execute_result"
    }
   ],
   "source": [
    "\"동해물과 백두산이 마르고 닳도록 하느님이 보우하사\".split()"
   ]
  },
  {
   "cell_type": "code",
   "execution_count": null,
   "id": "d6cdfeb3-fe61-4b71-9907-dcf8b2b06640",
   "metadata": {},
   "outputs": [],
   "source": []
  },
  {
   "cell_type": "markdown",
   "id": "dce9d234-6c97-4b29-8c3c-3a2ea14be172",
   "metadata": {},
   "source": [
    "### 6.4.1 두 숫자의 합 구하기\n",
    "\n",
    "어떤 결과가 나올까요?\n",
    "```python\n",
    "# 10 20 을 입력해보세요\n",
    "a, b = input(\"숫자 두 개를 입력하세요: \").split()\n",
    "print(a+b)\n",
    "```"
   ]
  },
  {
   "cell_type": "code",
   "execution_count": null,
   "id": "44686b90-3af4-48cc-bb06-2629b92e84b9",
   "metadata": {},
   "outputs": [],
   "source": [
    "a, b = input(\"숫자 두 개를 입력하세요: \").split()\n",
    "print(a+b)"
   ]
  },
  {
   "cell_type": "markdown",
   "id": "a62a67b0-2b7d-42a8-8a7c-1f0ac49f44a2",
   "metadata": {},
   "source": [
    "### 6.4.2 입력값을 정수로 변환하기\n",
    "\n",
    "```python\n",
    "# 10 20 을 입력해보세요\n",
    "a, b = input(\"숫자 두 개를 입력하세요: \").split()\n",
    "a = int(a)\n",
    "b = int(b)\n",
    "print(a+b)\n",
    "```"
   ]
  },
  {
   "cell_type": "code",
   "execution_count": null,
   "id": "5bbd8f75-3898-4af4-b6fb-d7a1be85c7a4",
   "metadata": {},
   "outputs": [],
   "source": [
    "a, b = input(\"숫자 두 개를 입력하세요: \").split()\n",
    "a = int(a)\n",
    "b = int(b)\n",
    "print(a+b)"
   ]
  },
  {
   "cell_type": "markdown",
   "id": "35e2e308-cae9-4679-a287-9c0b8d28f3f0",
   "metadata": {},
   "source": [
    "### 6.4.3 map()을 사용하여 정수로 변환하기\n",
    "\n",
    "입력해야 하는 코드가 많이 줄었지요? (이정도면 python 고수입니다.)  \n",
    "실수로 변환할때는 int 대신 float를 넣어줍니다.  \n",
    "(나중에 함수 배울때 더 자세하게 설명할께요)  \n",
    "```python\n",
    "# 10 20을 입력해보아요\n",
    "a, b=map(int, input(\"숫자 두 개를 입력하세요: \").split())\n",
    "print(a+b)\n",
    "```"
   ]
  },
  {
   "cell_type": "code",
   "execution_count": null,
   "id": "7dd8c897-316d-4edd-a6e6-126cc95f8316",
   "metadata": {},
   "outputs": [],
   "source": [
    "a, b=map(int, input().split())\n",
    "print(a+b)"
   ]
  },
  {
   "cell_type": "code",
   "execution_count": null,
   "id": "fb494193-4b61-4d36-83d3-d6aa1f59c541",
   "metadata": {},
   "outputs": [],
   "source": []
  },
  {
   "cell_type": "code",
   "execution_count": null,
   "id": "ac0d799e-c191-4af9-8350-562a2ef097dc",
   "metadata": {},
   "outputs": [],
   "source": []
  },
  {
   "cell_type": "code",
   "execution_count": null,
   "id": "037f1989-42e6-4b5b-86aa-49a8f6bae384",
   "metadata": {},
   "outputs": [],
   "source": []
  },
  {
   "cell_type": "code",
   "execution_count": null,
   "id": "77dee517-a18f-4449-a009-178188d4b6c3",
   "metadata": {},
   "outputs": [],
   "source": []
  },
  {
   "cell_type": "code",
   "execution_count": 57,
   "id": "b3737e18-18db-4f64-afde-6ca76a15aa44",
   "metadata": {},
   "outputs": [
    {
     "name": "stdin",
     "output_type": "stream",
     "text": [
      "숫자 두 개를 입력하세요: (공백으로 구분해주세요) 10 20 30 40\n"
     ]
    }
   ],
   "source": [
    "a = input(\"숫자 두 개를 입력하세요: (공백으로 구분해주세요)\")"
   ]
  },
  {
   "cell_type": "code",
   "execution_count": 58,
   "id": "1cf28003-c541-4875-b7cf-e41418f69654",
   "metadata": {},
   "outputs": [
    {
     "data": {
      "text/plain": [
       "'10 20 30 40'"
      ]
     },
     "execution_count": 58,
     "metadata": {},
     "output_type": "execute_result"
    }
   ],
   "source": [
    "a"
   ]
  },
  {
   "cell_type": "code",
   "execution_count": 62,
   "id": "57db1f4e-61ab-4eb3-86ed-ac4b05f82c58",
   "metadata": {},
   "outputs": [],
   "source": [
    "a1, a2, a3, a4 = map(int, a.split())"
   ]
  },
  {
   "cell_type": "code",
   "execution_count": 63,
   "id": "0cff8f20-d65c-4846-b7fe-b32e34ba7b97",
   "metadata": {},
   "outputs": [
    {
     "name": "stdout",
     "output_type": "stream",
     "text": [
      "10 20 30 40\n"
     ]
    }
   ],
   "source": [
    "print(a1, a2, a3, a4)"
   ]
  },
  {
   "cell_type": "code",
   "execution_count": 61,
   "id": "59302316-8127-4d76-b578-952461baf4aa",
   "metadata": {},
   "outputs": [
    {
     "data": {
      "text/plain": [
       "<map at 0x1dfaafccfd0>"
      ]
     },
     "execution_count": 61,
     "metadata": {},
     "output_type": "execute_result"
    }
   ],
   "source": [
    "b"
   ]
  },
  {
   "cell_type": "code",
   "execution_count": 59,
   "id": "8de5cfa8-9fea-4892-b29e-12e8e950cafc",
   "metadata": {},
   "outputs": [
    {
     "data": {
      "text/plain": [
       "['10', '20', '30', '40']"
      ]
     },
     "execution_count": 59,
     "metadata": {},
     "output_type": "execute_result"
    }
   ],
   "source": [
    "a.split(\" \")"
   ]
  },
  {
   "cell_type": "markdown",
   "id": "8190aff5-9ffd-4dbc-99b7-2798ef247f73",
   "metadata": {},
   "source": [
    "### 6.4.4 입력받은 값을 콤마 기준으로 분리하기\n",
    "\n",
    "```\n",
    "# 10, 20을 입력해보아요\n",
    "a, b=map(int, input(\"숫자 두 개를 입력하세요: \").split(\",\"))\n",
    "print(a+b)\n",
    "```"
   ]
  },
  {
   "cell_type": "code",
   "execution_count": null,
   "id": "759f6e53-018a-4449-9ce3-077ee8d9825a",
   "metadata": {},
   "outputs": [],
   "source": [
    "a, b = input(\"two number?\").split(\" \")\n",
    "a = int(a)\n",
    "b = int(b)\n",
    "print(a+b)"
   ]
  },
  {
   "cell_type": "markdown",
   "id": "6c21835c-4728-49cd-ad51-574ce5469fdb",
   "metadata": {},
   "source": [
    "#### 입력과 변수 개수가 다를 경우 (더 많이 입력했을 경우)\n",
    "\n",
    "```\n",
    "# 10, 20, 30을 입력해보아요\n",
    "a, b=map(int, input(\"숫자 두 개를 입력하세요: \").split(\",\"))\n",
    "```\n",
    "\n",
    "아래와 같은 메시지가 나오면 정상입니다.\n",
    "```\n",
    "---------------------------------------------------------------------------\n",
    "ValueError                                Traceback (most recent call last)\n",
    "Cell In [2], line 1\n",
    "----> 1 a, b=map(int, input(\"숫자 두 개를 입력하세요: \").split(\",\"))\n",
    "\n",
    "ValueError: too many values to unpack (expected 2)\n",
    "```"
   ]
  },
  {
   "cell_type": "code",
   "execution_count": null,
   "id": "fd8bd9fe-daed-48af-986a-9a518c3bf9aa",
   "metadata": {},
   "outputs": [],
   "source": []
  },
  {
   "cell_type": "markdown",
   "id": "46b83a4f-a6f9-4c26-8ad7-e15e15579a81",
   "metadata": {},
   "source": [
    "#### 입력과 변수 개수가 다를 경우 (더 적게 입력했을 경우)\n",
    "\n",
    "```python\n",
    "# 10을 입력해보아요\n",
    "a, b=map(int, input(\"숫자 두 개를 입력하세요: \").split(\",\"))\n",
    "```\n",
    "\n",
    "아래와 같은 메시지가 나오면 정상입니다.\n",
    "```\n",
    "---------------------------------------------------------------------------\n",
    "ValueError                                Traceback (most recent call last)\n",
    "Cell In [3], line 2\n",
    "      1 # 10을 입력해보아요\n",
    "----> 2 a, b=map(int, input(\"숫자 두 개를 입력하세요: \").split(\",\"))\n",
    "\n",
    "ValueError: not enough values to unpack (expected 2, got 1)\n",
    "```"
   ]
  },
  {
   "cell_type": "markdown",
   "id": "3bb4f743-2993-41d9-8296-49659e5f7da3",
   "metadata": {},
   "source": [
    "## 6.5 Quiz\n",
    "\n",
    "https://dojang.io/mod/quiz/view.php?id=2180"
   ]
  },
  {
   "cell_type": "markdown",
   "id": "4a2b8b91-7757-4cfc-a632-003ca0f3bb7e",
   "metadata": {},
   "source": [
    "## 6.6 연습문제: 정수 세 개를 입력 받고 합계 출력하기\n",
    "https://dojang.io/mod/page/view.php?id=2181"
   ]
  },
  {
   "cell_type": "code",
   "execution_count": null,
   "id": "b95c3b82-812b-497a-a0d0-8cdec5d69d0b",
   "metadata": {},
   "outputs": [],
   "source": [
    "del c"
   ]
  },
  {
   "cell_type": "code",
   "execution_count": null,
   "id": "e9ff2c36-eb72-4a8b-ab13-f2460676df31",
   "metadata": {},
   "outputs": [],
   "source": [
    "a = 50\n",
    "b = 100\n",
    "c = \"None\"\n",
    "print(a)\n",
    "print(b)\n",
    "print(c)"
   ]
  },
  {
   "cell_type": "markdown",
   "id": "d1538591-7575-4853-9c1c-575030e362ca",
   "metadata": {},
   "source": [
    "50\n",
    "100\n",
    "None"
   ]
  },
  {
   "cell_type": "code",
   "execution_count": null,
   "id": "e23a6df3-eb5d-44a8-89b2-a22a467291dd",
   "metadata": {},
   "outputs": [],
   "source": []
  },
  {
   "cell_type": "code",
   "execution_count": 24,
   "id": "7222b36a-df30-4186-968b-558d672a365c",
   "metadata": {},
   "outputs": [
    {
     "name": "stdin",
     "output_type": "stream",
     "text": [
      " 32 53 22 95\n"
     ]
    },
    {
     "name": "stdout",
     "output_type": "stream",
     "text": [
      "50\n"
     ]
    }
   ],
   "source": [
    "a,b,c,d = input().split()\n",
    "t = int(a) + int(b) + int(c) + int(d)\n",
    "avg = int(t/4)\n",
    "print(avg)"
   ]
  },
  {
   "cell_type": "code",
   "execution_count": null,
   "id": "2b1564c9-1237-4ad8-9d1c-e06713a23cfd",
   "metadata": {},
   "outputs": [],
   "source": []
  },
  {
   "cell_type": "code",
   "execution_count": null,
   "id": "37b5afa6-bc4b-4c5d-90fa-682ab959498b",
   "metadata": {},
   "outputs": [],
   "source": [
    "a,b,c = map(int, input().split())\n",
    "print(a + b + c)"
   ]
  },
  {
   "cell_type": "markdown",
   "id": "4ecf57e0-842c-4ec9-9f68-c911176f5bd7",
   "metadata": {},
   "source": [
    "-10 20 30 (입력)\n",
    "40"
   ]
  },
  {
   "cell_type": "markdown",
   "id": "dcfcd969-b104-4cc9-94d2-6f224b897faa",
   "metadata": {},
   "source": [
    "## 6.7 심사문제: 변수 만들기 -- 과제\n",
    "https://dojang.io/mod/quiz/view.php?id=2182"
   ]
  },
  {
   "cell_type": "markdown",
   "id": "700a9c2e-1809-45fc-8c90-10f1b5125916",
   "metadata": {},
   "source": [
    "## 6.8 심사문제: 평균점수 구하기  -- 과제\n",
    "https://dojang.io/mod/quiz/view.php?id=2183"
   ]
  },
  {
   "cell_type": "markdown",
   "id": "a1feead1-63b8-4632-bf74-b7cb813e8d1b",
   "metadata": {},
   "source": [
    "입력\n",
    "83 92 87 90\n",
    "결과\n",
    "88\n",
    "\n",
    "입력\n",
    "32 53 22 95\n",
    "결과\n",
    "50"
   ]
  },
  {
   "cell_type": "code",
   "execution_count": null,
   "id": "451a6de1-4d22-4bec-810a-30b528b85076",
   "metadata": {},
   "outputs": [],
   "source": [
    "a, b, c, d = map(int, input().split())\n",
    "avg = int((a+b+c+d) / 4)\n",
    "print(avg)"
   ]
  },
  {
   "cell_type": "code",
   "execution_count": null,
   "id": "d6cb8579-d6df-4d3e-bb0f-43fc161f91f6",
   "metadata": {},
   "outputs": [],
   "source": []
  }
 ],
 "metadata": {
  "kernelspec": {
   "display_name": "Python 3 (ipykernel)",
   "language": "python",
   "name": "python3"
  },
  "language_info": {
   "codemirror_mode": {
    "name": "ipython",
    "version": 3
   },
   "file_extension": ".py",
   "mimetype": "text/x-python",
   "name": "python",
   "nbconvert_exporter": "python",
   "pygments_lexer": "ipython3",
   "version": "3.10.6"
  }
 },
 "nbformat": 4,
 "nbformat_minor": 5
}
