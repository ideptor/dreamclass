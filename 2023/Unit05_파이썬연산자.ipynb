{
 "cells": [
  {
   "cell_type": "markdown",
   "id": "0e4054cf-1a8b-4687-b96e-b910bd70fd06",
   "metadata": {},
   "source": [
    "# 5. 파이썬 연산자"
   ]
  },
  {
   "cell_type": "markdown",
   "id": "7b1d9259-cb55-4dc3-b5c5-a13af92df4a5",
   "metadata": {},
   "source": [
    "# 5.1 정수계산하기\n",
    "\n",
    "![정수_실수](images/integer_floating.jpg)\n",
    "(출처: https://www.youtube.com/watch?v=P5JtWyjmtec)"
   ]
  },
  {
   "cell_type": "markdown",
   "id": "ccdc7d77-68f4-436a-b559-6ead2b230c17",
   "metadata": {},
   "source": [
    "### 5.1.1 사칙연산\n",
    "\n",
    "```python\n",
    "1+1   # 더하기\n",
    "2-1   # 빼기\n",
    "1-2   # 빼기\n",
    "2*3   # 곱하기\n",
    "9999*9999 # 곱하기\n",
    "5/2   # 나누기\n",
    "```"
   ]
  },
  {
   "cell_type": "code",
   "execution_count": 1,
   "id": "34da147e-f0ee-44c3-8705-02372a3a62d3",
   "metadata": {},
   "outputs": [
    {
     "data": {
      "text/plain": [
       "1"
      ]
     },
     "execution_count": 1,
     "metadata": {},
     "output_type": "execute_result"
    }
   ],
   "source": [
    "2-1"
   ]
  },
  {
   "cell_type": "code",
   "execution_count": 2,
   "id": "db53f38a-2ff8-4f63-a94e-583e02ef8352",
   "metadata": {},
   "outputs": [
    {
     "data": {
      "text/plain": [
       "-1"
      ]
     },
     "execution_count": 2,
     "metadata": {},
     "output_type": "execute_result"
    }
   ],
   "source": [
    "1-2"
   ]
  },
  {
   "cell_type": "code",
   "execution_count": 3,
   "id": "f16ab2ac-221f-449d-87c6-c02cca3a6a1c",
   "metadata": {},
   "outputs": [
    {
     "data": {
      "text/plain": [
       "81"
      ]
     },
     "execution_count": 3,
     "metadata": {},
     "output_type": "execute_result"
    }
   ],
   "source": [
    "9*9"
   ]
  },
  {
   "cell_type": "code",
   "execution_count": 4,
   "id": "f2675592-8d1a-4665-90b5-291f778d5e77",
   "metadata": {},
   "outputs": [
    {
     "data": {
      "text/plain": [
       "999998000001"
      ]
     },
     "execution_count": 4,
     "metadata": {},
     "output_type": "execute_result"
    }
   ],
   "source": [
    "999999 * 999999"
   ]
  },
  {
   "cell_type": "code",
   "execution_count": 5,
   "id": "69f482e3-65d8-4dee-a5ae-924333e195d1",
   "metadata": {},
   "outputs": [
    {
     "data": {
      "text/plain": [
       "99999999980000000001"
      ]
     },
     "execution_count": 5,
     "metadata": {},
     "output_type": "execute_result"
    }
   ],
   "source": [
    "9999999999 * 9999999999"
   ]
  },
  {
   "cell_type": "code",
   "execution_count": null,
   "id": "068d8fe9-3bc3-4b7b-98bc-f98c7f4b700e",
   "metadata": {},
   "outputs": [],
   "source": [
    "999999999 * 999999999"
   ]
  },
  {
   "cell_type": "code",
   "execution_count": 6,
   "id": "9627c7f5-c6ec-49b0-9bf3-d25e17062052",
   "metadata": {},
   "outputs": [
    {
     "data": {
      "text/plain": [
       "2.5"
      ]
     },
     "execution_count": 6,
     "metadata": {},
     "output_type": "execute_result"
    }
   ],
   "source": [
    "5/2"
   ]
  },
  {
   "cell_type": "code",
   "execution_count": 7,
   "id": "84e5de10-7a89-4228-bf3b-13382ac1aed2",
   "metadata": {},
   "outputs": [
    {
     "data": {
      "text/plain": [
       "2"
      ]
     },
     "execution_count": 7,
     "metadata": {},
     "output_type": "execute_result"
    }
   ],
   "source": [
    "5//2"
   ]
  },
  {
   "cell_type": "code",
   "execution_count": 8,
   "id": "e90fba43-0253-4f40-b41f-1e66470d016b",
   "metadata": {},
   "outputs": [
    {
     "data": {
      "text/plain": [
       "1"
      ]
     },
     "execution_count": 8,
     "metadata": {},
     "output_type": "execute_result"
    }
   ],
   "source": [
    "5%2"
   ]
  },
  {
   "cell_type": "code",
   "execution_count": 9,
   "id": "7aad126f-40f5-4cfe-bc15-ee078b2d42e8",
   "metadata": {},
   "outputs": [
    {
     "data": {
      "text/plain": [
       "3"
      ]
     },
     "execution_count": 9,
     "metadata": {},
     "output_type": "execute_result"
    }
   ],
   "source": [
    "10//3"
   ]
  },
  {
   "cell_type": "code",
   "execution_count": null,
   "id": "faef1737-fe02-482d-afe9-264d9039dabd",
   "metadata": {},
   "outputs": [],
   "source": [
    "10%3"
   ]
  },
  {
   "cell_type": "code",
   "execution_count": null,
   "id": "d8ea2329-7f6b-487f-bc1d-8434827553af",
   "metadata": {},
   "outputs": [],
   "source": []
  },
  {
   "cell_type": "code",
   "execution_count": null,
   "id": "b83c8db2-00da-4d88-9a46-883e845c78c4",
   "metadata": {},
   "outputs": [],
   "source": []
  },
  {
   "cell_type": "code",
   "execution_count": null,
   "id": "471b5ff4-2275-48ac-b8c9-ce128cd683ac",
   "metadata": {},
   "outputs": [],
   "source": []
  },
  {
   "cell_type": "code",
   "execution_count": null,
   "id": "4fdfb1cd-4abc-437b-82d1-f7c5ea22e6f0",
   "metadata": {},
   "outputs": [],
   "source": [
    "5//2"
   ]
  },
  {
   "cell_type": "code",
   "execution_count": null,
   "id": "a8c342c5-be57-45b1-85e1-55c26c6f784c",
   "metadata": {},
   "outputs": [],
   "source": [
    "5 % 2"
   ]
  },
  {
   "cell_type": "code",
   "execution_count": null,
   "id": "29deff08-2ed8-473c-933c-6b5fde7e3ce2",
   "metadata": {},
   "outputs": [],
   "source": []
  },
  {
   "cell_type": "code",
   "execution_count": null,
   "id": "dd2616a0-5500-4408-8a65-69e303228c95",
   "metadata": {},
   "outputs": [],
   "source": []
  },
  {
   "cell_type": "markdown",
   "id": "4e3a2f25-6eb2-4fa1-a890-37f0cb5b0691",
   "metadata": {},
   "source": [
    "### 5.1.2 / 5.1.3 나누기에서 몫/나머지\n",
    "\n",
    "```python\n",
    "# 몫 구하기\n",
    "5 // 2\n",
    "\n",
    "# 나머지 구하기\n",
    "5 % 2\n",
    "```"
   ]
  },
  {
   "cell_type": "code",
   "execution_count": null,
   "id": "14c814fa-6293-4ad3-a970-3c454a673c49",
   "metadata": {},
   "outputs": [],
   "source": []
  },
  {
   "cell_type": "code",
   "execution_count": null,
   "id": "8fe943e5-03ce-4941-a8e6-d55675d767f4",
   "metadata": {},
   "outputs": [],
   "source": []
  },
  {
   "cell_type": "markdown",
   "id": "85b0397e-7456-4917-9b80-4094ce168ca7",
   "metadata": {},
   "source": [
    "### 5.1.4 거듭제곱\n",
    "\n",
    "```python\n",
    "3 ** 2\n",
    "11 ** 2\n",
    "12 ** 2\n",
    "13 ** 2\n",
    "```"
   ]
  },
  {
   "cell_type": "code",
   "execution_count": 10,
   "id": "2e4ec75b-5a4d-43c9-8958-1fec02cc2ab0",
   "metadata": {},
   "outputs": [
    {
     "data": {
      "text/plain": [
       "285311670611"
      ]
     },
     "execution_count": 10,
     "metadata": {},
     "output_type": "execute_result"
    }
   ],
   "source": [
    "11**11"
   ]
  },
  {
   "cell_type": "code",
   "execution_count": 18,
   "id": "d3824686-16e0-4adb-b75f-3faa3cd29150",
   "metadata": {},
   "outputs": [
    {
     "name": "stdout",
     "output_type": "stream",
     "text": [
      "2 ** 0 = 1\n",
      "2 ** 1 = 2\n",
      "2 ** 2 = 4\n",
      "2 ** 3 = 8\n",
      "2 ** 4 = 16\n",
      "2 ** 5 = 32\n",
      "2 ** 6 = 64\n",
      "2 ** 7 = 128\n",
      "2 ** 8 = 256\n",
      "2 ** 9 = 512\n",
      "2 ** 10 = 1024\n",
      "2 ** 11 = 2048\n",
      "2 ** 12 = 4096\n",
      "2 ** 13 = 8192\n",
      "2 ** 14 = 16384\n",
      "2 ** 15 = 32768\n",
      "2 ** 16 = 65536\n",
      "2 ** 17 = 131072\n",
      "2 ** 18 = 262144\n",
      "2 ** 19 = 524288\n",
      "2 ** 20 = 1048576\n",
      "2 ** 21 = 2097152\n",
      "2 ** 22 = 4194304\n",
      "2 ** 23 = 8388608\n",
      "2 ** 24 = 16777216\n",
      "2 ** 25 = 33554432\n",
      "2 ** 26 = 67108864\n",
      "2 ** 27 = 134217728\n",
      "2 ** 28 = 268435456\n",
      "2 ** 29 = 536870912\n",
      "2 ** 30 = 1073741824\n",
      "2 ** 31 = 2147483648\n",
      "2 ** 32 = 4294967296\n",
      "2 ** 33 = 8589934592\n",
      "2 ** 34 = 17179869184\n",
      "2 ** 35 = 34359738368\n",
      "2 ** 36 = 68719476736\n",
      "2 ** 37 = 137438953472\n",
      "2 ** 38 = 274877906944\n",
      "2 ** 39 = 549755813888\n",
      "2 ** 40 = 1099511627776\n",
      "2 ** 41 = 2199023255552\n",
      "2 ** 42 = 4398046511104\n",
      "2 ** 43 = 8796093022208\n",
      "2 ** 44 = 17592186044416\n",
      "2 ** 45 = 35184372088832\n",
      "2 ** 46 = 70368744177664\n",
      "2 ** 47 = 140737488355328\n",
      "2 ** 48 = 281474976710656\n",
      "2 ** 49 = 562949953421312\n",
      "2 ** 50 = 1125899906842624\n",
      "2 ** 51 = 2251799813685248\n",
      "2 ** 52 = 4503599627370496\n",
      "2 ** 53 = 9007199254740992\n",
      "2 ** 54 = 18014398509481984\n",
      "2 ** 55 = 36028797018963968\n",
      "2 ** 56 = 72057594037927936\n",
      "2 ** 57 = 144115188075855872\n",
      "2 ** 58 = 288230376151711744\n",
      "2 ** 59 = 576460752303423488\n",
      "2 ** 60 = 1152921504606846976\n",
      "2 ** 61 = 2305843009213693952\n",
      "2 ** 62 = 4611686018427387904\n",
      "2 ** 63 = 9223372036854775808\n",
      "2 ** 64 = 18446744073709551616\n",
      "2 ** 65 = 36893488147419103232\n",
      "2 ** 66 = 73786976294838206464\n",
      "2 ** 67 = 147573952589676412928\n",
      "2 ** 68 = 295147905179352825856\n",
      "2 ** 69 = 590295810358705651712\n",
      "2 ** 70 = 1180591620717411303424\n",
      "2 ** 71 = 2361183241434822606848\n",
      "2 ** 72 = 4722366482869645213696\n",
      "2 ** 73 = 9444732965739290427392\n",
      "2 ** 74 = 18889465931478580854784\n",
      "2 ** 75 = 37778931862957161709568\n",
      "2 ** 76 = 75557863725914323419136\n",
      "2 ** 77 = 151115727451828646838272\n",
      "2 ** 78 = 302231454903657293676544\n",
      "2 ** 79 = 604462909807314587353088\n",
      "2 ** 80 = 1208925819614629174706176\n",
      "2 ** 81 = 2417851639229258349412352\n",
      "2 ** 82 = 4835703278458516698824704\n",
      "2 ** 83 = 9671406556917033397649408\n",
      "2 ** 84 = 19342813113834066795298816\n",
      "2 ** 85 = 38685626227668133590597632\n",
      "2 ** 86 = 77371252455336267181195264\n",
      "2 ** 87 = 154742504910672534362390528\n",
      "2 ** 88 = 309485009821345068724781056\n",
      "2 ** 89 = 618970019642690137449562112\n",
      "2 ** 90 = 1237940039285380274899124224\n",
      "2 ** 91 = 2475880078570760549798248448\n",
      "2 ** 92 = 4951760157141521099596496896\n",
      "2 ** 93 = 9903520314283042199192993792\n",
      "2 ** 94 = 19807040628566084398385987584\n",
      "2 ** 95 = 39614081257132168796771975168\n",
      "2 ** 96 = 79228162514264337593543950336\n",
      "2 ** 97 = 158456325028528675187087900672\n",
      "2 ** 98 = 316912650057057350374175801344\n",
      "2 ** 99 = 633825300114114700748351602688\n"
     ]
    }
   ],
   "source": [
    "for i in range(100):\n",
    "    print(2, \"**\", i, \"=\", 2**i)"
   ]
  },
  {
   "cell_type": "code",
   "execution_count": null,
   "id": "52472b92-3810-486d-8def-5796d0efe43f",
   "metadata": {},
   "outputs": [],
   "source": []
  },
  {
   "cell_type": "code",
   "execution_count": null,
   "id": "bf6e88c8-2566-46bd-a042-43d2196295e6",
   "metadata": {},
   "outputs": [],
   "source": []
  },
  {
   "cell_type": "code",
   "execution_count": null,
   "id": "f6e1b3dd-f401-4e01-b54c-3b944dca8766",
   "metadata": {},
   "outputs": [],
   "source": []
  },
  {
   "cell_type": "code",
   "execution_count": 11,
   "id": "235269c7-8481-4fc6-9000-ea791f60ccd6",
   "metadata": {},
   "outputs": [
    {
     "data": {
      "text/plain": [
       "4"
      ]
     },
     "execution_count": 11,
     "metadata": {},
     "output_type": "execute_result"
    }
   ],
   "source": [
    "2*2"
   ]
  },
  {
   "cell_type": "code",
   "execution_count": 12,
   "id": "0172376a-6f31-4046-83e9-514b843ef814",
   "metadata": {},
   "outputs": [
    {
     "data": {
      "text/plain": [
       "8"
      ]
     },
     "execution_count": 12,
     "metadata": {},
     "output_type": "execute_result"
    }
   ],
   "source": [
    "2**3"
   ]
  },
  {
   "cell_type": "code",
   "execution_count": 13,
   "id": "fabf48b3-9209-4ce1-badc-82ac207382b2",
   "metadata": {},
   "outputs": [
    {
     "data": {
      "text/plain": [
       "16"
      ]
     },
     "execution_count": 13,
     "metadata": {},
     "output_type": "execute_result"
    }
   ],
   "source": [
    "2 ** 4"
   ]
  },
  {
   "cell_type": "code",
   "execution_count": 14,
   "id": "36a3cc48-8dc5-40c2-a300-9dedd8651c8b",
   "metadata": {},
   "outputs": [
    {
     "data": {
      "text/plain": [
       "32"
      ]
     },
     "execution_count": 14,
     "metadata": {},
     "output_type": "execute_result"
    }
   ],
   "source": [
    "2 ** 5"
   ]
  },
  {
   "cell_type": "code",
   "execution_count": 15,
   "id": "553f9e75-00d2-47e3-be32-4961d76e8179",
   "metadata": {},
   "outputs": [
    {
     "data": {
      "text/plain": [
       "64"
      ]
     },
     "execution_count": 15,
     "metadata": {},
     "output_type": "execute_result"
    }
   ],
   "source": [
    "2 ** 6"
   ]
  },
  {
   "cell_type": "code",
   "execution_count": null,
   "id": "0e2fafdf-8c9f-4744-8706-f064e42e7305",
   "metadata": {},
   "outputs": [],
   "source": []
  },
  {
   "cell_type": "code",
   "execution_count": null,
   "id": "9313a63e-0585-4439-9512-aec46d4bbbed",
   "metadata": {},
   "outputs": [],
   "source": []
  },
  {
   "cell_type": "code",
   "execution_count": null,
   "id": "f184f949-cfb1-46a0-a776-c32c10b2c980",
   "metadata": {},
   "outputs": [],
   "source": []
  },
  {
   "cell_type": "markdown",
   "id": "d1c9792d-752a-4e37-a222-9928f0a3efd7",
   "metadata": {},
   "source": [
    "## "
   ]
  },
  {
   "cell_type": "markdown",
   "id": "9e63c921-5dd5-479a-953d-f9580c190257",
   "metadata": {
    "jp-MarkdownHeadingCollapsed": true,
    "tags": []
   },
   "source": [
    "### "
   ]
  },
  {
   "cell_type": "code",
   "execution_count": null,
   "id": "387787f1-9a05-44da-9f1d-6c2a8706dbd6",
   "metadata": {},
   "outputs": [],
   "source": []
  },
  {
   "cell_type": "code",
   "execution_count": null,
   "id": "452dc911-57bf-42e3-a26b-fcc7b08d2460",
   "metadata": {},
   "outputs": [],
   "source": []
  },
  {
   "cell_type": "code",
   "execution_count": null,
   "id": "f905591e-d977-40d8-81ac-527fa593c39f",
   "metadata": {},
   "outputs": [],
   "source": []
  },
  {
   "cell_type": "code",
   "execution_count": null,
   "id": "323e6484-164d-4ed1-8100-321d6f22b3fd",
   "metadata": {},
   "outputs": [],
   "source": [
    "3 ** 2"
   ]
  },
  {
   "cell_type": "code",
   "execution_count": null,
   "id": "f7e2d804-2be3-44a9-8a83-c388efbf9b1e",
   "metadata": {},
   "outputs": [],
   "source": [
    "11 ** 2"
   ]
  },
  {
   "cell_type": "code",
   "execution_count": null,
   "id": "6885807e-8111-4c9d-be91-0945d4e7d714",
   "metadata": {},
   "outputs": [],
   "source": [
    "12 ** 2"
   ]
  },
  {
   "cell_type": "code",
   "execution_count": null,
   "id": "bbacc879-cb15-4882-81fe-fe87d9c5a365",
   "metadata": {},
   "outputs": [],
   "source": [
    "13 ** 2"
   ]
  },
  {
   "cell_type": "code",
   "execution_count": null,
   "id": "a034d2f7-22b0-468c-b326-016462c83053",
   "metadata": {},
   "outputs": [],
   "source": [
    "14 ** 2"
   ]
  },
  {
   "cell_type": "code",
   "execution_count": null,
   "id": "fd5e08c1-815a-478c-9e65-7da6d063facf",
   "metadata": {},
   "outputs": [],
   "source": [
    "15 ** 2"
   ]
  },
  {
   "cell_type": "code",
   "execution_count": null,
   "id": "dcd32b65-3222-463b-aeed-ad4a8e3be1c0",
   "metadata": {},
   "outputs": [],
   "source": [
    "16 ** 2"
   ]
  },
  {
   "cell_type": "code",
   "execution_count": null,
   "id": "0fb55a23-b092-4fca-97d5-310ff4246024",
   "metadata": {},
   "outputs": [],
   "source": [
    "17 ** 2"
   ]
  },
  {
   "cell_type": "code",
   "execution_count": null,
   "id": "45fab7c8-2152-4f1b-a1dd-645ce91016b8",
   "metadata": {},
   "outputs": [],
   "source": [
    "18**2"
   ]
  },
  {
   "cell_type": "code",
   "execution_count": null,
   "id": "4a351e7b-867d-430a-b655-15be46f3e412",
   "metadata": {},
   "outputs": [],
   "source": [
    "19 ** 2"
   ]
  },
  {
   "cell_type": "code",
   "execution_count": null,
   "id": "1e20c333-7b67-4f49-8b64-2a8f6f291664",
   "metadata": {},
   "outputs": [],
   "source": [
    "print(\"hello world\")"
   ]
  },
  {
   "cell_type": "code",
   "execution_count": null,
   "id": "5c4d0100-d274-41a2-a3a2-93f5b0ed597f",
   "metadata": {},
   "outputs": [],
   "source": [
    "print(11**2)\n",
    "print(12**2)\n",
    "print(13**2)\n",
    "print(14**2)\n",
    "print(15**2)"
   ]
  },
  {
   "cell_type": "code",
   "execution_count": null,
   "id": "f1474079-2bac-409d-b7b9-d8063aeaa3b0",
   "metadata": {},
   "outputs": [],
   "source": [
    "121\n",
    "144\n",
    "169\n",
    "196\n",
    "225"
   ]
  },
  {
   "cell_type": "code",
   "execution_count": null,
   "id": "f5e0d8d6-fb61-42ff-9763-ecb7b17ba520",
   "metadata": {},
   "outputs": [],
   "source": []
  },
  {
   "cell_type": "code",
   "execution_count": null,
   "id": "321482f6-bcca-4420-9d09-81de25e727de",
   "metadata": {},
   "outputs": [],
   "source": []
  },
  {
   "cell_type": "code",
   "execution_count": null,
   "id": "fe9579b9-b50b-439d-a3ca-eab404ef6453",
   "metadata": {},
   "outputs": [],
   "source": []
  },
  {
   "cell_type": "markdown",
   "id": "a9f1f447-6cdb-484d-b128-39a907ad1981",
   "metadata": {},
   "source": [
    "## 5.1.6 파이썬 기본 자료형\n",
    "자료형에 따라 메모리/디스크에 저장하는 방식이 다르다.\n",
    "|자료형|설명|예시|\n",
    "|---|---|---|\n",
    "|int|정수형(integer)|-1, 0, 1, 2, 100|\n",
    "|float|실수형(floating-point)|0.0, 4.0, -6.8, 1.0e-2|\n",
    "|bool|논리형(boolean)|True, False|\n",
    "|str|문자열(string)|\"Hello\", \"World\"|\n"
   ]
  },
  {
   "cell_type": "markdown",
   "id": "4967b33f-f0f1-4f57-ad0d-da16e95ec021",
   "metadata": {},
   "source": [
    "### 자료형 확인하기\n",
    "\n",
    "```python\n",
    "type(1)\n",
    "type(1.0)\n",
    "type(True)\n",
    "type(\"Hello\")\n",
    "1.0e-2  # e-2 의 의미는 10 ** -2 와 같은 의미 (1/100 = 0.01)\n",
    "```"
   ]
  },
  {
   "cell_type": "code",
   "execution_count": null,
   "id": "d8f71999-5ad2-49fc-9b14-d6f2f8b78fd0",
   "metadata": {},
   "outputs": [],
   "source": [
    "type(1)"
   ]
  },
  {
   "cell_type": "code",
   "execution_count": null,
   "id": "e45998f5-6603-427e-86fc-34474c38ac77",
   "metadata": {},
   "outputs": [],
   "source": [
    "type(1.0)"
   ]
  },
  {
   "cell_type": "code",
   "execution_count": null,
   "id": "afefdb1f-370d-4694-8585-36d1381a5b90",
   "metadata": {},
   "outputs": [],
   "source": [
    "type(True)"
   ]
  },
  {
   "cell_type": "code",
   "execution_count": null,
   "id": "2217b674-c6c7-4501-be81-22e711d13386",
   "metadata": {},
   "outputs": [],
   "source": [
    "type(\"hello\")"
   ]
  },
  {
   "cell_type": "code",
   "execution_count": null,
   "id": "ca7f29ea-36fd-47c2-aee1-bad32775cc9e",
   "metadata": {},
   "outputs": [],
   "source": []
  },
  {
   "cell_type": "code",
   "execution_count": null,
   "id": "6ba58ec0-dca1-4f70-8da1-0a8d5d19a2c4",
   "metadata": {},
   "outputs": [],
   "source": []
  },
  {
   "cell_type": "markdown",
   "id": "53a043b2-2f14-4497-8e63-4063e4e67884",
   "metadata": {},
   "source": [
    "### 자료형 변환\n",
    "\n",
    "따라해 보아요\n",
    "```python\n",
    "float(1)\n",
    "type(float(1))\n",
    "int(1.1)\n",
    "type(int(1.1))\n",
    "bool(1)\n",
    "bool(0)\n",
    "bool(11)\n",
    "bool(1.1)\n",
    "str(1)\n",
    "str(1.1)\n",
    "str(True)\n",
    "int('1')\n",
    "int('1.1')\n",
    "float('1.1')\n",
    "int(float('1.1'))\n",
    "```"
   ]
  },
  {
   "cell_type": "code",
   "execution_count": null,
   "id": "3ae5c261-72a1-474b-9580-157384085d1d",
   "metadata": {},
   "outputs": [],
   "source": [
    "type(1.5)"
   ]
  },
  {
   "cell_type": "code",
   "execution_count": null,
   "id": "a06ce00b-2fbb-4f8c-b906-6f96b26706e5",
   "metadata": {},
   "outputs": [],
   "source": [
    "int(1.5)"
   ]
  },
  {
   "cell_type": "code",
   "execution_count": null,
   "id": "9f8bfee9-cf77-4e00-a676-48230f3d29ff",
   "metadata": {},
   "outputs": [],
   "source": [
    "type(int(1.5))"
   ]
  },
  {
   "cell_type": "code",
   "execution_count": null,
   "id": "34605056-0008-4ba6-8c44-91cdb1920eed",
   "metadata": {},
   "outputs": [],
   "source": [
    "1"
   ]
  },
  {
   "cell_type": "code",
   "execution_count": null,
   "id": "b165567c-0a11-432e-8163-247100daeda5",
   "metadata": {},
   "outputs": [],
   "source": [
    "float(1)"
   ]
  },
  {
   "cell_type": "code",
   "execution_count": null,
   "id": "a9cb5638-e582-4062-b89c-848760aec8df",
   "metadata": {},
   "outputs": [],
   "source": [
    "type(\"10\")"
   ]
  },
  {
   "cell_type": "code",
   "execution_count": null,
   "id": "83c0c751-07f5-4227-8d12-d11e29dccd5d",
   "metadata": {},
   "outputs": [],
   "source": [
    "float(\"10\")"
   ]
  },
  {
   "cell_type": "code",
   "execution_count": null,
   "id": "62895c62-df82-4b65-bfdd-7276c6fd3067",
   "metadata": {},
   "outputs": [],
   "source": [
    "int(\"10\")"
   ]
  },
  {
   "cell_type": "code",
   "execution_count": null,
   "id": "73db93c2-56d6-4125-bd5b-acf0a214581a",
   "metadata": {},
   "outputs": [],
   "source": [
    "int(\"hello\")"
   ]
  },
  {
   "cell_type": "code",
   "execution_count": null,
   "id": "d4840dce-1352-4a3d-a998-a9ec61ddc2bc",
   "metadata": {},
   "outputs": [],
   "source": [
    "type(True)"
   ]
  },
  {
   "cell_type": "code",
   "execution_count": null,
   "id": "6644882e-eada-49d6-8842-6292730ab5ca",
   "metadata": {},
   "outputs": [],
   "source": [
    "bool(1)"
   ]
  },
  {
   "cell_type": "code",
   "execution_count": null,
   "id": "c5862971-958e-4fbd-a327-7724c65a5551",
   "metadata": {},
   "outputs": [],
   "source": [
    "bool(0)"
   ]
  },
  {
   "cell_type": "code",
   "execution_count": null,
   "id": "6820a81c-d055-45a3-877c-a777b9cfde7a",
   "metadata": {},
   "outputs": [],
   "source": [
    "bool(2)"
   ]
  },
  {
   "cell_type": "code",
   "execution_count": null,
   "id": "ad21c757-5bfa-490c-9f73-77c22be7dc3d",
   "metadata": {},
   "outputs": [],
   "source": [
    "bool(1.1)"
   ]
  },
  {
   "cell_type": "code",
   "execution_count": null,
   "id": "a4e737fd-5e96-42c1-8dfb-2e8f892496bd",
   "metadata": {},
   "outputs": [],
   "source": [
    "bool(0.0)"
   ]
  },
  {
   "cell_type": "code",
   "execution_count": null,
   "id": "e9fe5069-92e9-4543-95e5-c0d149f8dedc",
   "metadata": {},
   "outputs": [],
   "source": [
    "bool(\"0\")"
   ]
  },
  {
   "cell_type": "code",
   "execution_count": null,
   "id": "5e0c33ca-4c67-4c3f-bd48-56e7b1ebf096",
   "metadata": {},
   "outputs": [],
   "source": []
  },
  {
   "cell_type": "code",
   "execution_count": null,
   "id": "7ace9417-7871-4fb4-b154-cf2d665850ed",
   "metadata": {},
   "outputs": [],
   "source": []
  },
  {
   "cell_type": "code",
   "execution_count": null,
   "id": "3e1a2f4d-5efb-4123-a7e6-18a952e5890e",
   "metadata": {},
   "outputs": [],
   "source": []
  },
  {
   "cell_type": "markdown",
   "id": "39675958-0b63-48d5-b499-b21703985155",
   "metadata": {},
   "source": [
    "## 5.2 실수 계산하기\n",
    "\n",
    "* 부동소숫점실수: https://en.wikipedia.org/wiki/Floating-point_arithmetic\n",
    "* 파이썬의가수부분은 최대 17자리까지 가능 (18째자리에서 반올림)\n",
    "\n",
    "```python\n",
    "3.5+2.1\n",
    "\n",
    "# 같은 값이 나올까?\n",
    "1+(2/3)\n",
    "5/3\n",
    "```"
   ]
  },
  {
   "cell_type": "code",
   "execution_count": null,
   "id": "9d46ca3d-f5ac-4a87-9823-9e8a04723d71",
   "metadata": {},
   "outputs": [],
   "source": [
    "1+(2/3)"
   ]
  },
  {
   "cell_type": "code",
   "execution_count": null,
   "id": "6334e77c-29f2-4642-8a17-e1bfbfb7a6c3",
   "metadata": {},
   "outputs": [],
   "source": [
    "5/3"
   ]
  },
  {
   "cell_type": "code",
   "execution_count": null,
   "id": "c80bc629-c559-4f33-8422-94e30fcb1c01",
   "metadata": {},
   "outputs": [],
   "source": []
  },
  {
   "cell_type": "code",
   "execution_count": null,
   "id": "56bb726a-f24d-492b-8d9f-f4f5ec1534e5",
   "metadata": {},
   "outputs": [],
   "source": []
  },
  {
   "cell_type": "code",
   "execution_count": null,
   "id": "c8a9e525-49cb-49fd-919b-3995ba8a802e",
   "metadata": {},
   "outputs": [],
   "source": []
  },
  {
   "cell_type": "code",
   "execution_count": null,
   "id": "07e3410a-9dc6-44c6-a088-29ee0173cffa",
   "metadata": {},
   "outputs": [],
   "source": []
  },
  {
   "cell_type": "code",
   "execution_count": null,
   "id": "46728be2-27d9-4200-8401-65036c1bb6d8",
   "metadata": {},
   "outputs": [],
   "source": []
  },
  {
   "cell_type": "markdown",
   "id": "e445618f-3ecd-4ae0-863b-9803aa06a280",
   "metadata": {},
   "source": [
    "이러한 현상이 발생하는 이유는 컴퓨터 메모리 용량이 한정되어 있고 파이썬이 한 숫자에 대해 저장하는 정보 용량을 제한하기 때문이다.  \n",
    "\n",
    "파이썬의 실수형: \n",
    " - 참고1: https://docs.python.org/ko/3.6/tutorial/floatingpoint.html  \n",
    " - 참고2: https://duck-tube.tistory.com/4  \n",
    " - 참고3: https://studyenthusiast-26.tistory.com/154  "
   ]
  },
  {
   "cell_type": "markdown",
   "id": "6b3173d0-6f2c-410e-b608-8e8cca06da00",
   "metadata": {},
   "source": [
    "### 5.2.1 실수와 정수를 함께 계산하면?\n",
    "\n",
    "실수와 정수를 함께 계산하면 표현범위가 넓은 실수로 계산됩니다.\n",
    "```python\n",
    "4.2 + 5\n",
    "5 + 4.2\n",
    "```"
   ]
  },
  {
   "cell_type": "code",
   "execution_count": null,
   "id": "0d68571b-f4f3-4869-ae18-0ca7d2381ea5",
   "metadata": {},
   "outputs": [],
   "source": [
    "4.2 + 5"
   ]
  },
  {
   "cell_type": "code",
   "execution_count": null,
   "id": "64798048-b366-4194-b950-76640a8995e7",
   "metadata": {},
   "outputs": [],
   "source": [
    "5 + 4.2"
   ]
  },
  {
   "cell_type": "code",
   "execution_count": null,
   "id": "b0396874-83c0-4e14-9894-d099a4ca9b61",
   "metadata": {},
   "outputs": [],
   "source": []
  },
  {
   "cell_type": "code",
   "execution_count": null,
   "id": "156571b8-e2e2-4b0e-926f-207ecf1c2b92",
   "metadata": {},
   "outputs": [],
   "source": []
  },
  {
   "cell_type": "code",
   "execution_count": null,
   "id": "f06cd399-5df5-433b-bc5d-bc5d9e26b946",
   "metadata": {},
   "outputs": [],
   "source": []
  },
  {
   "cell_type": "code",
   "execution_count": null,
   "id": "a51c4816-5efe-4f5a-a086-6f747d08623b",
   "metadata": {},
   "outputs": [],
   "source": []
  },
  {
   "cell_type": "markdown",
   "id": "630ac07b-e60e-4660-9e62-2d3b7e251ace",
   "metadata": {},
   "source": [
    "### 5.2.2. 값을 실수로 만들기\n",
    "\n",
    "```python\n",
    "float(5)\n",
    "float(1+2)\n",
    "float(\"5.3\")\n",
    "```"
   ]
  },
  {
   "cell_type": "code",
   "execution_count": null,
   "id": "e37abac3-8bb4-4509-b943-fc39215d97f5",
   "metadata": {},
   "outputs": [],
   "source": []
  },
  {
   "cell_type": "markdown",
   "id": "4de38ff2-7104-400b-99f4-265b350e9721",
   "metadata": {},
   "source": [
    "## 5.3 괄호 사용하기\n",
    "\n",
    "```python\n",
    "35 + 1 * 2\n",
    "(35+1)*2\n",
    "((1+2)*3)+2\n",
    "```"
   ]
  },
  {
   "cell_type": "code",
   "execution_count": null,
   "id": "7f9381e7-cc7a-4c04-9cec-85cee5d8a82c",
   "metadata": {},
   "outputs": [],
   "source": [
    "35 + 1 * 2"
   ]
  },
  {
   "cell_type": "code",
   "execution_count": null,
   "id": "afee5024-e649-4ed7-a303-c3901e06400e",
   "metadata": {},
   "outputs": [],
   "source": [
    "(35 + 1)* 2"
   ]
  },
  {
   "cell_type": "code",
   "execution_count": null,
   "id": "58679496-0361-4351-9806-c49f0357c180",
   "metadata": {},
   "outputs": [],
   "source": [
    "((1+2)*3)+2)"
   ]
  },
  {
   "cell_type": "code",
   "execution_count": null,
   "id": "433d6f86-da26-4098-964b-4cc97281c60e",
   "metadata": {},
   "outputs": [],
   "source": [
    "(((1+2)*3)+2"
   ]
  },
  {
   "cell_type": "code",
   "execution_count": null,
   "id": "accf95b9-7d06-4ee3-a6ef-3072724b3579",
   "metadata": {},
   "outputs": [],
   "source": []
  },
  {
   "cell_type": "markdown",
   "id": "c0549e4a-dc28-4e9b-88b5-c064f5dacd74",
   "metadata": {},
   "source": [
    "## 5.4 퀴즈풀기\n",
    "\n",
    "https://dojang.io/mod/quiz/view.php?id=2173"
   ]
  },
  {
   "cell_type": "markdown",
   "id": "87ae351b-2a7d-4906-932f-005817c7a8d7",
   "metadata": {},
   "source": [
    "## 5.5 연습문제풀기 \n",
    "\n",
    "https://dojang.io/mod/page/view.php?id=2174"
   ]
  },
  {
   "cell_type": "markdown",
   "id": "b93da490-9431-4ffe-921d-63b7542e5971",
   "metadata": {},
   "source": [
    "## 5.6 심사문제: 스킬 공격력 출력하기 -- 과제\n",
    "https://dojang.io/mod/quiz/view.php?id=2175"
   ]
  },
  {
   "cell_type": "code",
   "execution_count": null,
   "id": "af907693-ea62-4eaf-a860-902f03c99024",
   "metadata": {},
   "outputs": [],
   "source": []
  }
 ],
 "metadata": {
  "kernelspec": {
   "display_name": "Python 3 (ipykernel)",
   "language": "python",
   "name": "python3"
  },
  "language_info": {
   "codemirror_mode": {
    "name": "ipython",
    "version": 3
   },
   "file_extension": ".py",
   "mimetype": "text/x-python",
   "name": "python",
   "nbconvert_exporter": "python",
   "pygments_lexer": "ipython3",
   "version": "3.10.6"
  }
 },
 "nbformat": 4,
 "nbformat_minor": 5
}
