{
 "cells": [
  {
   "cell_type": "markdown",
   "id": "73ca9ec2-0082-42e3-a8b2-af674f3806de",
   "metadata": {},
   "source": [
    "# Pandas\n",
    "\n",
    "\n",
    "Pandas는 파이썬 프로그래밍 언어를 위한 데이터 조작과 분석을 위한 라이브러리로, 구조화된 데이터를 쉽게 조작하고 처리할 수 있도록 다양한 기능과 데이터 구조를 제공합니다. 주로 표 형태의 데이터를 다루는데 특화되어 있으며, 데이터프레임(DataFrame)이라는 자료형을 제공하여 이러한 표 형태의 데이터를 효과적으로 다룰 수 있습니다. Pandas는 NumPy를 기반으로 만들어져 있기 때문에 NumPy와 함께 사용하는 경우가 많습니다.\n",
    "\n",
    "Pandas의 주요 특징과 기능은 다음과 같습니다:\n",
    "\n",
    "DataFrame: Pandas는 DataFrame이라는 자료형을 제공하여 표 형태의 데이터를 쉽게 다룰 수 있습니다. DataFrame은 2차원 테이블 형태로, 행과 열로 구성되어 있으며, 각 열은 서로 다른 데이터 타입을 가질 수 있습니다.\n",
    "\n",
    "데이터 조작: Pandas는 데이터를 쉽게 필터링, 정렬, 그룹화, 합치기 등 다양한 조작을 할 수 있는 기능을 제공합니다. 이를 통해 데이터를 효율적으로 처리하고 분석할 수 있습니다.\n",
    "\n",
    "누락된 데이터 처리: Pandas는 누락된 데이터(NaN)를 쉽게 처리할 수 있는 기능을 제공합니다. 누락된 데이터를 효율적으로 다룰 수 있어 데이터의 빠른 전처리가 가능합니다.\n",
    "\n",
    "데이터 시각화: Pandas는 데이터를 시각화하는 기능을 제공하며, Matplotlib와 함께 사용하여 다양한 차트와 플롯을 그릴 수 있습니다.\n",
    "\n",
    "데이터 파일 입출력: Pandas는 CSV, Excel, SQL, JSON 등 다양한 파일 형식으로 데이터를 읽고 쓸 수 있는 기능을 제공합니다.\n",
    "\n",
    "Pandas는 데이터 과학 및 데이터 분석 분야에서 매우 인기 있는 라이브러리이며, 데이터 전처리, 데이터 분석, 데이터 시각화 등 다양한 작업에 활용됩니다. Pandas를 사용하면 복잡한 데이터를 쉽게 다룰 수 있고, 데이터 분석과 관련된 작업을 더욱 효율적으로 수행할 수 있습니다."
   ]
  },
  {
   "cell_type": "markdown",
   "id": "8c4d7218-1122-4eb3-9f4e-3d95c064768d",
   "metadata": {},
   "source": [
    "판다스의 두 가지 핵심 자료구조인 Series와 DataFrame에 대해 설명하겠습니다:\n"
   ]
  },
  {
   "cell_type": "raw",
   "id": "3b6c417c-7ec4-4bcb-a145-0a838ac035b5",
   "metadata": {},
   "source": [
    "\n",
    "판다스(Pandas)는 파이썬의 데이터 조작과 분석을 위한 라이브러리로, 표 형태의 데이터를 다루는데 특화되어 있습니다. 판다스의 두 가지 핵심 자료구조인 Series와 DataFrame에 대해 설명하겠습니다:\n",
    "\n",
    "Series:\n",
    "판다스의 Series는 1차원 레이블된 배열로, NumPy의 1차원 배열과 유사한 구조를 가지고 있습니다. Series는 인덱스(index)와 값(value)으로 구성되어 있으며, 각 값은 해당하는 인덱스와 매핑됩니다. Series는 일반적으로 하나의 데이터 타입으로 구성되어 있습니다."
   ]
  },
  {
   "cell_type": "code",
   "execution_count": 1,
   "id": "63730981-ba2d-4aac-a174-8ed18f10640f",
   "metadata": {},
   "outputs": [
    {
     "name": "stdout",
     "output_type": "stream",
     "text": [
      "0    10\n",
      "1    20\n",
      "2    30\n",
      "3    40\n",
      "4    50\n",
      "dtype: int64\n"
     ]
    }
   ],
   "source": [
    "import pandas as pd\n",
    "\n",
    "# Series 생성\n",
    "data = pd.Series([10, 20, 30, 40, 50])\n",
    "print(data)\n",
    "\n",
    "# 출력:\n",
    "# 0    10\n",
    "# 1    20\n",
    "# 2    30\n",
    "# 3    40\n",
    "# 4    50\n",
    "# dtype: int64\n"
   ]
  },
  {
   "cell_type": "markdown",
   "id": "50574d9a-989d-4d0b-b72a-9f40910a4807",
   "metadata": {},
   "source": [
    "DataFrame:\n",
    "판다스의 DataFrame은 2차원 테이블 형태의 데이터 구조로, 행과 열로 이루어져 있습니다. DataFrame은 여러 개의 Series로 구성되어 있으며, 각 Series는 하나의 열(column)을 나타냅니다. DataFrame은 여러 데이터 타입을 포함할 수 있으며, 각 열은 서로 다른 데이터 타입을 가질 수 있습니다."
   ]
  },
  {
   "cell_type": "code",
   "execution_count": 2,
   "id": "144832fa-3a5b-4d79-85bf-9270bbd4f183",
   "metadata": {},
   "outputs": [
    {
     "name": "stdout",
     "output_type": "stream",
     "text": [
      "      Name  Age  Score\n",
      "0    Alice   25   85.5\n",
      "1      Bob   30   92.0\n",
      "2  Charlie   35   78.5\n"
     ]
    }
   ],
   "source": [
    "import pandas as pd\n",
    "\n",
    "# DataFrame 생성\n",
    "data = {\n",
    "    'Name': ['Alice', 'Bob', 'Charlie'],\n",
    "    'Age': [25, 30, 35],\n",
    "    'Score': [85.5, 92.0, 78.5]\n",
    "}\n",
    "\n",
    "df = pd.DataFrame(data)\n",
    "print(df)\n",
    "\n",
    "# 출력:\n",
    "#       Name  Age  Score\n",
    "# 0    Alice   25   85.5\n",
    "# 1      Bob   30   92.0\n",
    "# 2  Charlie   35   78.5\n"
   ]
  },
  {
   "cell_type": "markdown",
   "id": "0c197d93-2a13-4d9c-ae52-cabf3fb6fb3b",
   "metadata": {},
   "source": [
    "## Series 생성"
   ]
  },
  {
   "cell_type": "code",
   "execution_count": 3,
   "id": "e81423e6-e82c-4b5d-8eb1-b9af7c117a94",
   "metadata": {},
   "outputs": [
    {
     "name": "stdout",
     "output_type": "stream",
     "text": [
      "0    10\n",
      "1    20\n",
      "2    30\n",
      "3    40\n",
      "4    50\n",
      "dtype: int64\n"
     ]
    }
   ],
   "source": [
    "\"\"\"\n",
    "리스트를 활용한 Series 생성:\n",
    "\"\"\"\n",
    "import pandas as pd\n",
    "\n",
    "# 리스트를 사용하여 Series 생성\n",
    "data = [10, 20, 30, 40, 50]\n",
    "s = pd.Series(data)\n",
    "print(s)"
   ]
  },
  {
   "cell_type": "code",
   "execution_count": null,
   "id": "d1e60b59-94fd-482a-818d-950c9d8cc087",
   "metadata": {},
   "outputs": [],
   "source": [
    "\"\"\"\n",
    "딕셔너리를 활용한 Series 생성:\n",
    "\"\"\"\n",
    "import pandas as pd\n",
    "\n",
    "# 딕셔너리를 사용하여 Series 생성\n",
    "data = {'a': 10, 'b': 20, 'c': 30, 'd': 40}\n",
    "s = pd.Series(data)\n",
    "print(s)"
   ]
  },
  {
   "cell_type": "code",
   "execution_count": null,
   "id": "ced79f5f-e069-4c0b-a5c8-da0b4d2544db",
   "metadata": {},
   "outputs": [],
   "source": [
    "\"\"\"\n",
    "NumPy 배열을 활용한 Series 생성:\n",
    "\"\"\"\n",
    "import pandas as pd\n",
    "import numpy as np\n",
    "\n",
    "# NumPy 배열을 사용하여 Series 생성\n",
    "data = np.array([10, 20, 30, 40, 50])\n",
    "s = pd.Series(data)\n",
    "print(s)\n"
   ]
  },
  {
   "cell_type": "code",
   "execution_count": null,
   "id": "76a2bebf-07c9-4154-b2ce-f4f9ab56e8cc",
   "metadata": {},
   "outputs": [],
   "source": [
    "\"\"\"\n",
    "스칼라 값과 인덱스를 활용한 Series 생성:\n",
    "\"\"\"\n",
    "import pandas as pd\n",
    "\n",
    "# 스칼라 값과 인덱스를 사용하여 Series 생성\n",
    "s = pd.Series(5, index=['a', 'b', 'c', 'd', 'e'])\n",
    "print(s)\n"
   ]
  },
  {
   "cell_type": "markdown",
   "id": "f06f150f-2f70-4326-9787-d3bb197717dc",
   "metadata": {},
   "source": [
    "## Series와 index\n",
    "\n",
    "Series의 인덱스(Index)는 Pandas의 1차원 레이블된 배열로, 각 값에 대한 고유한 식별자(identifier)를 제공합니다. Series의 인덱스는 각 원소에 접근하고 식별하는 데 사용되며, 행의 레이블로 사용됩니다. 인덱스는 레이블, 숫자, 날짜, 문자열 등의 다양한 데이터 타입을 가질 수 있습니다."
   ]
  },
  {
   "cell_type": "code",
   "execution_count": 12,
   "id": "b003f2a9-5d82-4a03-9c9c-580094eeb1cb",
   "metadata": {},
   "outputs": [
    {
     "name": "stdout",
     "output_type": "stream",
     "text": [
      "0    10\n",
      "1    20\n",
      "2    30\n",
      "3    40\n",
      "4    50\n",
      "dtype: int64\n",
      "RangeIndex(start=0, stop=5, step=1)\n"
     ]
    }
   ],
   "source": [
    "\"\"\"\n",
    "기본 인덱스:\n",
    "기본 인덱스는 0부터 시작하는 정수로 자동으로 생성됩니다.\n",
    "\"\"\"\n",
    "import pandas as pd\n",
    "\n",
    "# 리스트를 사용하여 Series 생성 (기본 인덱스)\n",
    "data = [10, 20, 30, 40, 50]\n",
    "s = pd.Series(data)\n",
    "print(s)\n",
    "print(s.index)\n"
   ]
  },
  {
   "cell_type": "code",
   "execution_count": 14,
   "id": "50351ea9-9222-448e-be87-518c80bd3ba5",
   "metadata": {},
   "outputs": [
    {
     "name": "stdout",
     "output_type": "stream",
     "text": [
      "a    10\n",
      "b    20\n",
      "c    30\n",
      "d    40\n",
      "dtype: int64\n",
      "Index(['a', 'b', 'c', 'd'], dtype='object')\n"
     ]
    }
   ],
   "source": [
    "\"\"\"\n",
    "사용자 정의 인덱스:\n",
    "사용자 정의 인덱스는 특정 값을 사용자가 직접 지정할 수 있습니다.\n",
    "\"\"\"\n",
    "import pandas as pd\n",
    "\n",
    "# 딕셔너리를 사용하여 Series 생성 (사용자 정의 인덱스)\n",
    "data = {'a': 10, 'b': 20, 'c': 30, 'd': 40}\n",
    "s = pd.Series(data)\n",
    "print(s)\n",
    "print(s.index)\n"
   ]
  },
  {
   "cell_type": "code",
   "execution_count": null,
   "id": "daa35d89-e2b6-406f-baf3-83de354407b4",
   "metadata": {},
   "outputs": [],
   "source": [
    "\"\"\"\n",
    "index 파라미터 활용\n",
    "\"\"\"\n",
    "import pandas as pd\n",
    "\n",
    "# Series 생성\n",
    "data = [10, 20, 30, 40, 50]\n",
    "index = ['A', 'B', 'C', 'D', 'E']\n",
    "s = pd.Series(data, index=index)\n",
    "print(s)\n",
    "print(s.index)\n"
   ]
  },
  {
   "cell_type": "markdown",
   "id": "19ae6a82-aac0-4128-922c-00d7d9933b42",
   "metadata": {},
   "source": [
    "## index를 활용하여 데이터 접근"
   ]
  },
  {
   "cell_type": "code",
   "execution_count": 89,
   "id": "71798854-310c-4ce2-89ff-b886fac1e299",
   "metadata": {},
   "outputs": [
    {
     "name": "stdout",
     "output_type": "stream",
     "text": [
      "20\n"
     ]
    }
   ],
   "source": [
    "\"\"\"\n",
    "인덱스 레이블을 사용하여 접근:\n",
    "\"\"\"\n",
    "import pandas as pd\n",
    "\n",
    "# Series 생성\n",
    "data = [10, 20, 30, 40, 50]\n",
    "index = ['A', 'B', 'C', 'D', 'E']\n",
    "s = pd.Series(data, index=index)\n",
    "\n",
    "# 인덱스 레이블을 사용하여 값에 접근\n",
    "print(s['B'])  # 레이블 'B'에 해당하는 값에 접근\n"
   ]
  },
  {
   "cell_type": "code",
   "execution_count": 90,
   "id": "6ff70d25-11ce-4f2b-8136-21042057ead6",
   "metadata": {},
   "outputs": [
    {
     "name": "stdout",
     "output_type": "stream",
     "text": [
      "20\n"
     ]
    }
   ],
   "source": [
    "\"\"\"\n",
    "인덱스 레이블을 사용하여 접근:\n",
    "\"\"\"\n",
    "import pandas as pd\n",
    "\n",
    "# Series 생성\n",
    "data = [10, 20, 30, 40, 50]\n",
    "index = ['A', 'B', 'C', 'D', 'E']\n",
    "s = pd.Series(data, index=index)\n",
    "\n",
    "# 인덱스 레이블을 사용하여 값에 접근\n",
    "print(s.loc['B'])  # 레이블 'B'에 해당하는 값에 접근\n"
   ]
  },
  {
   "cell_type": "code",
   "execution_count": 92,
   "id": "b86f746f-459b-4709-923b-ba49378e5142",
   "metadata": {},
   "outputs": [
    {
     "name": "stdout",
     "output_type": "stream",
     "text": [
      "30\n"
     ]
    }
   ],
   "source": [
    "\"\"\"\n",
    "정수 인덱스를 사용하여 접근:\n",
    "\"\"\"\n",
    "import pandas as pd\n",
    "\n",
    "# Series 생성\n",
    "data = [10, 20, 30, 40, 50]\n",
    "index = ['A', 'B', 'C', 'D', 'E']\n",
    "s = pd.Series(data, index=index)\n",
    "\n",
    "# 정수 인덱스를 사용하여 값에 접근\n",
    "print(s[2])  # 정수 인덱스 2에 해당하는 값에 접근 (레이블 'C'와 동일)\n"
   ]
  },
  {
   "cell_type": "code",
   "execution_count": 91,
   "id": "17d5dc1f-5cab-4cea-8938-5d3f5605db9d",
   "metadata": {},
   "outputs": [
    {
     "name": "stdout",
     "output_type": "stream",
     "text": [
      "30\n"
     ]
    }
   ],
   "source": [
    "\"\"\"\n",
    "정수 인덱스를 사용하여 접근:\n",
    "\"\"\"\n",
    "import pandas as pd\n",
    "\n",
    "# Series 생성\n",
    "data = [10, 20, 30, 40, 50]\n",
    "index = ['A', 'B', 'C', 'D', 'E']\n",
    "s = pd.Series(data, index=index)\n",
    "\n",
    "# 정수 인덱스를 사용하여 값에 접근\n",
    "print(s.iloc[2])  # 정수 인덱스 2에 해당하는 값에 접근 (레이블 'C'와 동일)\n"
   ]
  },
  {
   "cell_type": "markdown",
   "id": "3ea784c9-76a0-43f8-942e-f13f25e21f9e",
   "metadata": {},
   "source": [
    "## 값 추가"
   ]
  },
  {
   "cell_type": "code",
   "execution_count": 94,
   "id": "2f8ebba5-e671-4d85-ab38-bd296c62ad2c",
   "metadata": {},
   "outputs": [
    {
     "name": "stdout",
     "output_type": "stream",
     "text": [
      "0    10\n",
      "1    20\n",
      "2    30\n",
      "3    40\n",
      "4    50\n",
      "dtype: int64\n"
     ]
    }
   ],
   "source": [
    "\"\"\"\n",
    "인덱스를 이용한 값추가\n",
    "\"\"\"\n",
    "import pandas as pd\n",
    "\n",
    "# 시리즈 생성\n",
    "data = [10, 20, 30, 40]\n",
    "index = [0, 1, 2, 3]\n",
    "s = pd.Series(data, index=index)\n",
    "\n",
    "# loc[] 인덱서를 사용하여 값 추가\n",
    "s.loc[4] = 50\n",
    "print(s)\n"
   ]
  },
  {
   "cell_type": "code",
   "execution_count": 97,
   "id": "2c0d502f-c55c-498c-8f4a-a74ed6d9419d",
   "metadata": {},
   "outputs": [
    {
     "name": "stdout",
     "output_type": "stream",
     "text": [
      "0    10\n",
      "1    20\n",
      "2    30\n",
      "3    40\n",
      "dtype: int64\n"
     ]
    }
   ],
   "source": [
    "\"\"\"\n",
    "append() 메소드를 사용한 값 추가:\n",
    "\"\"\"\n",
    "import pandas as pd\n",
    "\n",
    "# 시리즈 생성\n",
    "data = [10, 20, 30, 40]\n",
    "index = [0, 1, 2, 3]\n",
    "s = pd.Series(data, index=index)\n",
    "s1 = s\n",
    "\n",
    "# append() 메소드를 사용하여 값 추가\n",
    "# s = s.append(pd.Series([50], index=[4]))\n",
    "\n",
    "s2 = s\n",
    "print(s)\n",
    "\n"
   ]
  },
  {
   "cell_type": "markdown",
   "id": "7a0f09b7-20a5-4b2d-afd1-f2052a4b07db",
   "metadata": {},
   "source": [
    "## Series간 연산\n",
    "\n",
    "Pandas Series간의 연산은 인덱스를 기준으로 자동으로 맞춰서 수행되기 때문에 데이터의 크기가 다르더라도 연산이 가능합니다. 또한 브로드캐스팅 기능을 지원하여 Series와 스칼라(단일 값) 간의 연산도 가능합니다. 예제를 통해 Pandas Series 간의 연산을 설명하겠습니다:\n",
    "\n",
    "python\n"
   ]
  },
  {
   "cell_type": "code",
   "execution_count": 99,
   "id": "e2c3a97b-0bff-48ed-9571-4f7371a20f23",
   "metadata": {},
   "outputs": [],
   "source": [
    "\"\"\"\n",
    "덧셈\n",
    "\"\"\"\n",
    "import pandas as pd\n",
    "\n",
    "# Series 생성\n",
    "s1 = pd.Series([10, 20, 30], index=['A', 'B', 'C'])\n",
    "s2 = pd.Series([5, 15, 25], index=['B', 'C', 'D'])\n",
    "\n",
    "# 두 Series 간의 덧셈\n",
    "result_add = s1 + s2\n",
    "\n"
   ]
  },
  {
   "cell_type": "code",
   "execution_count": 101,
   "id": "64d2b106-c740-43db-89e5-ca0da9fdd158",
   "metadata": {},
   "outputs": [],
   "source": [
    "\"\"\"\n",
    "뺄샘\n",
    "\"\"\"\n",
    "result_sub = s1 - s2\n"
   ]
  },
  {
   "cell_type": "code",
   "execution_count": 102,
   "id": "7d0e230c-4098-4e26-a1fd-11afa1c95dff",
   "metadata": {},
   "outputs": [
    {
     "data": {
      "text/plain": [
       "A    20\n",
       "B    40\n",
       "C    60\n",
       "dtype: int64"
      ]
     },
     "execution_count": 102,
     "metadata": {},
     "output_type": "execute_result"
    }
   ],
   "source": [
    "\"\"\"\n",
    "스칼라와의 연산\n",
    "\"\"\"\n",
    "\n",
    "s1*2"
   ]
  },
  {
   "cell_type": "markdown",
   "id": "796f4472-13d0-48b1-a001-7b4b989760f0",
   "metadata": {},
   "source": [
    "## concat"
   ]
  },
  {
   "cell_type": "code",
   "execution_count": 104,
   "id": "94fc67ac-8650-420f-847d-f98024284ac5",
   "metadata": {},
   "outputs": [],
   "source": [
    "\"\"\"\n",
    "concat\n",
    "\"\"\"\n",
    "import pandas as pd\n",
    "\n",
    "# Series 생성\n",
    "s1 = pd.Series([10, 20, 30], index=['A', 'B', 'C'])\n",
    "s2 = pd.Series([5, 15, 25], index=['B', 'C', 'D'])\n",
    "\n",
    "s3 = pd.concat([s1, s2])"
   ]
  },
  {
   "cell_type": "code",
   "execution_count": 105,
   "id": "cb2aed6c-c66c-41ff-a3a9-4e2a50c5c912",
   "metadata": {},
   "outputs": [
    {
     "data": {
      "text/plain": [
       "A    10\n",
       "B    20\n",
       "C    30\n",
       "B     5\n",
       "C    15\n",
       "D    25\n",
       "dtype: int64"
      ]
     },
     "execution_count": 105,
     "metadata": {},
     "output_type": "execute_result"
    }
   ],
   "source": [
    "s3"
   ]
  },
  {
   "cell_type": "markdown",
   "id": "bcc76e13-5dbe-4cdb-9aa6-353af0a5bb9b",
   "metadata": {},
   "source": [
    "## series의 이름과 설정 변경"
   ]
  },
  {
   "cell_type": "code",
   "execution_count": null,
   "id": "ce7c77c6-3f79-40ba-a32f-e45ed6b529ff",
   "metadata": {},
   "outputs": [],
   "source": [
    "\"\"\"\n",
    "Series의 이름 설정 및 변경:\n",
    "\"\"\"\n",
    "import pandas as pd\n",
    "\n",
    "# Series 생성\n",
    "data = [10, 20, 30, 40, 50]\n",
    "index = ['A', 'B', 'C', 'D', 'E']\n",
    "s = pd.Series(data,  index=index)\n",
    "\n",
    "# Series 이름 설정\n",
    "s.name = 'SampleData'\n",
    "print(s)\n"
   ]
  },
  {
   "cell_type": "code",
   "execution_count": null,
   "id": "bf7fe9f2-56a6-4d19-b3ce-141f1c69a208",
   "metadata": {},
   "outputs": [],
   "source": [
    "\"\"\"\n",
    "Series의 인덱스 이름 설정 및 변경:\n",
    "\"\"\"\n",
    "import pandas as pd\n",
    "\n",
    "# Series 생성\n",
    "data = [10, 20, 30, 40, 50]\n",
    "index = ['A', 'B', 'C', 'D', 'E']\n",
    "s = pd.Series(data, index=index)\n",
    "\n",
    "# Series의 인덱스 이름 설정\n",
    "s.index.name = 'Alphabet'\n",
    "print(s)\n",
    "\n",
    "# 출력:\n",
    "# Alphabet\n",
    "# A    10\n",
    "# B    20\n",
    "# C    30\n",
    "# D    40\n",
    "# E    50\n",
    "# dtype: int64\n",
    "\n",
    "# Series의 인덱스 이름 변경\n",
    "s.index.name = 'Index'\n",
    "print(s)"
   ]
  },
  {
   "cell_type": "markdown",
   "id": "138f7a98-3229-435a-ad5c-b6149cede443",
   "metadata": {},
   "source": [
    "# Dataframe "
   ]
  },
  {
   "cell_type": "code",
   "execution_count": 17,
   "id": "0a382b0a-aaa3-4abc-b5c5-053b7de0184a",
   "metadata": {},
   "outputs": [],
   "source": [
    "\"\"\"\n",
    "딕셔너리를 활용한 데이터프레임 생성:\n",
    "\"\"\"\n",
    "import pandas as pd\n",
    "\n",
    "# 딕셔너리를 사용하여 데이터프레임 생성\n",
    "data = {\n",
    "    'Name': ['Alice', 'Bob', 'Charlie'],\n",
    "    'Age': [25, 30, 35],\n",
    "    'Score': [85.5, 92.0, 78.5]\n",
    "}\n",
    "\n",
    "df = pd.DataFrame(data)\n",
    "    "
   ]
  },
  {
   "cell_type": "code",
   "execution_count": 18,
   "id": "108f5d30-c4e2-4674-92db-e4622b3f0044",
   "metadata": {},
   "outputs": [
    {
     "data": {
      "text/html": [
       "<div>\n",
       "<style scoped>\n",
       "    .dataframe tbody tr th:only-of-type {\n",
       "        vertical-align: middle;\n",
       "    }\n",
       "\n",
       "    .dataframe tbody tr th {\n",
       "        vertical-align: top;\n",
       "    }\n",
       "\n",
       "    .dataframe thead th {\n",
       "        text-align: right;\n",
       "    }\n",
       "</style>\n",
       "<table border=\"1\" class=\"dataframe\">\n",
       "  <thead>\n",
       "    <tr style=\"text-align: right;\">\n",
       "      <th></th>\n",
       "      <th>Name</th>\n",
       "      <th>Age</th>\n",
       "      <th>Score</th>\n",
       "    </tr>\n",
       "  </thead>\n",
       "  <tbody>\n",
       "    <tr>\n",
       "      <th>0</th>\n",
       "      <td>Alice</td>\n",
       "      <td>25</td>\n",
       "      <td>85.5</td>\n",
       "    </tr>\n",
       "    <tr>\n",
       "      <th>1</th>\n",
       "      <td>Bob</td>\n",
       "      <td>30</td>\n",
       "      <td>92.0</td>\n",
       "    </tr>\n",
       "    <tr>\n",
       "      <th>2</th>\n",
       "      <td>Charlie</td>\n",
       "      <td>35</td>\n",
       "      <td>78.5</td>\n",
       "    </tr>\n",
       "  </tbody>\n",
       "</table>\n",
       "</div>"
      ],
      "text/plain": [
       "      Name  Age  Score\n",
       "0    Alice   25   85.5\n",
       "1      Bob   30   92.0\n",
       "2  Charlie   35   78.5"
      ]
     },
     "execution_count": 18,
     "metadata": {},
     "output_type": "execute_result"
    }
   ],
   "source": [
    "df"
   ]
  },
  {
   "cell_type": "code",
   "execution_count": 19,
   "id": "d4f0912b-368c-499a-aaf0-fc7377ccf0a9",
   "metadata": {},
   "outputs": [],
   "source": [
    "\"\"\"\n",
    "리스트의 리스트를 활용한 데이터프레임 생성:\n",
    "\"\"\"\n",
    "import pandas as pd\n",
    "\n",
    "# 리스트의 리스트를 사용하여 데이터프레임 생성\n",
    "data = [\n",
    "    ['Alice', 25, 85.5],\n",
    "    ['Bob', 30, 92.0],\n",
    "    ['Charlie', 35, 78.5]\n",
    "]\n",
    "\n",
    "columns = ['Name', 'Age', 'Score']\n",
    "df = pd.DataFrame(data, columns=columns)\n",
    "\n",
    "    "
   ]
  },
  {
   "cell_type": "code",
   "execution_count": 20,
   "id": "5c5e81d5-439d-4fe7-8825-271cbe1c8427",
   "metadata": {},
   "outputs": [],
   "source": [
    "\"\"\"\n",
    "딕셔너리의 리스트를 활용한 데이터프레임 생성:\n",
    "\"\"\"\n",
    "import pandas as pd\n",
    "\n",
    "# 리스트의 리스트를 사용하여 데이터프레임 생성\n",
    "data = [\n",
    "    {'name':'Alice', 'Age':25, 'Score':85.5},\n",
    "    {'name':'Bob', 'Age':30, 'Score':92.0},\n",
    "    {'name':'Charlie', 'Age':35, 'Score':78.5}\n",
    "]\n",
    "\n",
    "df = pd.DataFrame(data)\n",
    "\n",
    "    "
   ]
  },
  {
   "cell_type": "code",
   "execution_count": 21,
   "id": "38d7beee-bd83-4231-907d-72458de86f96",
   "metadata": {},
   "outputs": [
    {
     "data": {
      "text/html": [
       "<div>\n",
       "<style scoped>\n",
       "    .dataframe tbody tr th:only-of-type {\n",
       "        vertical-align: middle;\n",
       "    }\n",
       "\n",
       "    .dataframe tbody tr th {\n",
       "        vertical-align: top;\n",
       "    }\n",
       "\n",
       "    .dataframe thead th {\n",
       "        text-align: right;\n",
       "    }\n",
       "</style>\n",
       "<table border=\"1\" class=\"dataframe\">\n",
       "  <thead>\n",
       "    <tr style=\"text-align: right;\">\n",
       "      <th></th>\n",
       "      <th>name</th>\n",
       "      <th>Age</th>\n",
       "      <th>Score</th>\n",
       "    </tr>\n",
       "  </thead>\n",
       "  <tbody>\n",
       "    <tr>\n",
       "      <th>0</th>\n",
       "      <td>Alice</td>\n",
       "      <td>25</td>\n",
       "      <td>85.5</td>\n",
       "    </tr>\n",
       "    <tr>\n",
       "      <th>1</th>\n",
       "      <td>Bob</td>\n",
       "      <td>30</td>\n",
       "      <td>92.0</td>\n",
       "    </tr>\n",
       "    <tr>\n",
       "      <th>2</th>\n",
       "      <td>Charlie</td>\n",
       "      <td>35</td>\n",
       "      <td>78.5</td>\n",
       "    </tr>\n",
       "  </tbody>\n",
       "</table>\n",
       "</div>"
      ],
      "text/plain": [
       "      name  Age  Score\n",
       "0    Alice   25   85.5\n",
       "1      Bob   30   92.0\n",
       "2  Charlie   35   78.5"
      ]
     },
     "execution_count": 21,
     "metadata": {},
     "output_type": "execute_result"
    }
   ],
   "source": [
    "df"
   ]
  },
  {
   "cell_type": "code",
   "execution_count": null,
   "id": "5da1a6e5-4bca-4731-b1b1-17a49f4c8122",
   "metadata": {},
   "outputs": [],
   "source": [
    "\"\"\"\n",
    "NumPy 배열을 활용한 데이터프레임 생성:\n",
    "\"\"\"\n",
    "import pandas as pd\n",
    "import numpy as np\n",
    "\n",
    "# NumPy 배열을 사용하여 데이터프레임 생성\n",
    "data = np.array([\n",
    "    ['Alice', 25, 85.5],\n",
    "    ['Bob', 30, 92.0],\n",
    "    ['Charlie', 35, 78.5]\n",
    "])\n",
    "\n",
    "columns = ['Name', 'Age', 'Score']\n",
    "df = pd.DataFrame(data, columns=columns)\n"
   ]
  },
  {
   "cell_type": "code",
   "execution_count": 87,
   "id": "2ab12c37-2cbc-434c-b060-6f293547be4c",
   "metadata": {},
   "outputs": [],
   "source": [
    "\"\"\"\n",
    "판다스 시리즈를 활용한 데이터프레임 생성 1\n",
    "\"\"\"\n",
    "import pandas as pd\n",
    "\n",
    "# 시리즈 생성\n",
    "names = pd.Series(['Alice', 'Bob', 'Charlie'], name=\"Name\")\n",
    "ages = pd.Series([25, 30, 35], name=\"Age\")\n",
    "scores = pd.Series([85.5, 92.0, 78.5], name=\"Score\")\n",
    "\n",
    "# 시리즈들을 리스트로 묶어서 데이터프레임 생성\n",
    "df = pd.DataFrame([names, ages, scores]).transpose()\n"
   ]
  },
  {
   "cell_type": "code",
   "execution_count": 88,
   "id": "4a423777-e98f-4564-beb5-945eb1dbd435",
   "metadata": {},
   "outputs": [
    {
     "data": {
      "text/html": [
       "<div>\n",
       "<style scoped>\n",
       "    .dataframe tbody tr th:only-of-type {\n",
       "        vertical-align: middle;\n",
       "    }\n",
       "\n",
       "    .dataframe tbody tr th {\n",
       "        vertical-align: top;\n",
       "    }\n",
       "\n",
       "    .dataframe thead th {\n",
       "        text-align: right;\n",
       "    }\n",
       "</style>\n",
       "<table border=\"1\" class=\"dataframe\">\n",
       "  <thead>\n",
       "    <tr style=\"text-align: right;\">\n",
       "      <th></th>\n",
       "      <th>Name</th>\n",
       "      <th>Age</th>\n",
       "      <th>Score</th>\n",
       "    </tr>\n",
       "  </thead>\n",
       "  <tbody>\n",
       "    <tr>\n",
       "      <th>0</th>\n",
       "      <td>Alice</td>\n",
       "      <td>25</td>\n",
       "      <td>85.5</td>\n",
       "    </tr>\n",
       "    <tr>\n",
       "      <th>1</th>\n",
       "      <td>Bob</td>\n",
       "      <td>30</td>\n",
       "      <td>92.0</td>\n",
       "    </tr>\n",
       "    <tr>\n",
       "      <th>2</th>\n",
       "      <td>Charlie</td>\n",
       "      <td>35</td>\n",
       "      <td>78.5</td>\n",
       "    </tr>\n",
       "  </tbody>\n",
       "</table>\n",
       "</div>"
      ],
      "text/plain": [
       "      Name Age Score\n",
       "0    Alice  25  85.5\n",
       "1      Bob  30  92.0\n",
       "2  Charlie  35  78.5"
      ]
     },
     "execution_count": 88,
     "metadata": {},
     "output_type": "execute_result"
    }
   ],
   "source": [
    "df"
   ]
  },
  {
   "cell_type": "code",
   "execution_count": 86,
   "id": "f0b5d2ed-7ce2-436b-a8e1-e417262ad365",
   "metadata": {},
   "outputs": [],
   "source": [
    "\"\"\"\n",
    "판다스 시리즈를 활용한 데이터프레임 생성 2\n",
    "\"\"\"\n",
    "import pandas as pd\n",
    "\n",
    "# 시리즈 생성\n",
    "names = pd.Series(['Alice', 'Bob', 'Charlie'])\n",
    "ages = pd.Series([25, 30, 35])\n",
    "scores = pd.Series([85.5, 92.0, 78.5])\n",
    "\n",
    "# 데이터프레임 생성 (열 이름을 지정)\n",
    "df = pd.DataFrame({\n",
    "    'Name': names,\n",
    "    'Age': ages,\n",
    "    'Score': scores\n",
    "})\n"
   ]
  },
  {
   "cell_type": "code",
   "execution_count": 80,
   "id": "ea4ca280-9168-44f1-8747-da065306f9f3",
   "metadata": {},
   "outputs": [],
   "source": [
    "\"\"\"\n",
    "파일로 부터 읽어오기\n",
    "\"\"\"\n",
    "import pandas as pd\n",
    "\n",
    "df = pd.read_csv(\"sample.csv\", )\n"
   ]
  },
  {
   "cell_type": "markdown",
   "id": "5aba2251-86cd-4ccc-be42-3871cae73ef0",
   "metadata": {},
   "source": [
    "## Dataframe 내 단일 element 접근\n",
    "\n",
    "Pandas DataFrame에서 개별 원소에 접근하는 방식에는 iloc[행, 열] 인덱서와 at[행, 열] 라벨 기반 인덱서 두 가지가 있습니다. "
   ]
  },
  {
   "cell_type": "code",
   "execution_count": 108,
   "id": "ef7ab106-0b83-4d41-91e7-5426a5b1a036",
   "metadata": {},
   "outputs": [],
   "source": [
    "import pandas as pd\n",
    "\n",
    "# DataFrame 생성\n",
    "data = {\n",
    "    'Name': ['Alice', 'Bob', 'Charlie'],\n",
    "    'Age': [25, 30, 35],\n",
    "    'Score': [85.5, 92.0, 78.5]\n",
    "}\n",
    "df = pd.DataFrame(data)"
   ]
  },
  {
   "cell_type": "code",
   "execution_count": 109,
   "id": "3d8fedad-518a-4aa2-bb7a-cb17ca8b3eb1",
   "metadata": {},
   "outputs": [],
   "source": [
    "\"\"\"\"\n",
    "iloc[] 인덱서를 사용하여 원소에 접근\n",
    "\"\"\"\"\n",
    "element_1 = df.iloc[0, 1]  # 인덱스 0의 행, 인덱스 1의 열\n",
    "element_2 = df.iloc[1, 2]  # 인덱스 1의 행, 인덱스 2의 열"
   ]
  },
  {
   "cell_type": "code",
   "execution_count": 113,
   "id": "7cc90139-e946-4f25-8313-43408c765313",
   "metadata": {},
   "outputs": [
    {
     "data": {
      "text/plain": [
       "(numpy.int64, numpy.float64)"
      ]
     },
     "execution_count": 113,
     "metadata": {},
     "output_type": "execute_result"
    }
   ],
   "source": [
    "type(element_1), type(element_2)"
   ]
  },
  {
   "cell_type": "code",
   "execution_count": 110,
   "id": "3bed90a2-9fad-465e-acc8-177997c5a2a6",
   "metadata": {},
   "outputs": [],
   "source": [
    "\"\"\"\n",
    "at[] 라벨 기반 인덱서를 사용하여 원소에 접근\n",
    "\"\"\"\n",
    "element_3 = df.at[2, 'Name']  # 라벨 'Name'의 행 인덱스 2에 해당하는 값\n",
    "element_4 = df.at[0, 'Age']   # 라벨 'Age'의 행 인덱스 0에 해당하는 값"
   ]
  },
  {
   "cell_type": "markdown",
   "id": "c6194245-bf22-41c8-b812-a47d7470d89b",
   "metadata": {},
   "source": [
    "## Dataframe 내 슬라이싱 기반 Series, DataFrame 추출\n",
    "Pandas DataFrame에서 슬라이싱 기반 접근하는 방식에는 iloc[행, 열] 인덱서와 loc[행, 열] 라벨 기반 인덱서 두 가지가 있습니다. "
   ]
  },
  {
   "cell_type": "code",
   "execution_count": 26,
   "id": "f1bdb764-577e-4ce4-9e1d-2740ae40b9b3",
   "metadata": {},
   "outputs": [],
   "source": [
    "import pandas as pd\n",
    "import numpy as np\n",
    "# DataFrame 생성\n",
    "data = {\n",
    "    'Name': ['Alice', 'Bob', 'Charlie', 'David', 'Eva'],\n",
    "    'Age': [25, 30, 35, 28, 22],\n",
    "    'Score': [85.5, 92.0, 78.5, 89.3, 95.1]\n",
    "}\n",
    "df = pd.DataFrame(data)\n",
    "df = df.set_index(np.arange(101,106))"
   ]
  },
  {
   "cell_type": "code",
   "execution_count": 27,
   "id": "ec47a4db-fbab-4424-8f60-79410de17c2a",
   "metadata": {},
   "outputs": [],
   "source": [
    "\"\"\"\n",
    "iloc[] 슬라이싱을 통해 원소에 접근\n",
    "첫 번째 행과 두 번째 행, 첫번째, 두번째 열에 해당하는 데이터 가져오기\n",
    "\"\"\"\n",
    "subset1 = df.iloc[0:2, 0:2]"
   ]
  },
  {
   "cell_type": "code",
   "execution_count": 28,
   "id": "462a75bc-59da-4e08-9daf-e47c7f49751f",
   "metadata": {},
   "outputs": [
    {
     "data": {
      "text/plain": [
       "pandas.core.frame.DataFrame"
      ]
     },
     "execution_count": 28,
     "metadata": {},
     "output_type": "execute_result"
    }
   ],
   "source": [
    "type(subset1)"
   ]
  },
  {
   "cell_type": "code",
   "execution_count": 29,
   "id": "079b226f-717a-4c91-9ec1-81592bde1e79",
   "metadata": {},
   "outputs": [
    {
     "data": {
      "text/html": [
       "<div>\n",
       "<style scoped>\n",
       "    .dataframe tbody tr th:only-of-type {\n",
       "        vertical-align: middle;\n",
       "    }\n",
       "\n",
       "    .dataframe tbody tr th {\n",
       "        vertical-align: top;\n",
       "    }\n",
       "\n",
       "    .dataframe thead th {\n",
       "        text-align: right;\n",
       "    }\n",
       "</style>\n",
       "<table border=\"1\" class=\"dataframe\">\n",
       "  <thead>\n",
       "    <tr style=\"text-align: right;\">\n",
       "      <th></th>\n",
       "      <th>Name</th>\n",
       "      <th>Age</th>\n",
       "      <th>Score</th>\n",
       "    </tr>\n",
       "  </thead>\n",
       "  <tbody>\n",
       "    <tr>\n",
       "      <th>101</th>\n",
       "      <td>Alice</td>\n",
       "      <td>25</td>\n",
       "      <td>85.5</td>\n",
       "    </tr>\n",
       "    <tr>\n",
       "      <th>102</th>\n",
       "      <td>Bob</td>\n",
       "      <td>30</td>\n",
       "      <td>92.0</td>\n",
       "    </tr>\n",
       "  </tbody>\n",
       "</table>\n",
       "</div>"
      ],
      "text/plain": [
       "      Name  Age  Score\n",
       "101  Alice   25   85.5\n",
       "102    Bob   30   92.0"
      ]
     },
     "execution_count": 29,
     "metadata": {},
     "output_type": "execute_result"
    }
   ],
   "source": [
    "# 추가 slicing 예제\n",
    "df.iloc[:,0:2]\n",
    "df.iloc[0:2, :]"
   ]
  },
  {
   "cell_type": "code",
   "execution_count": 30,
   "id": "b836bfe7-009c-44ff-a85b-4dc8d05f80a9",
   "metadata": {},
   "outputs": [
    {
     "data": {
      "text/plain": [
       "101      Alice\n",
       "102        Bob\n",
       "103    Charlie\n",
       "104      David\n",
       "105        Eva\n",
       "Name: Name, dtype: object"
      ]
     },
     "execution_count": 30,
     "metadata": {},
     "output_type": "execute_result"
    }
   ],
   "source": [
    "df.iloc[:,0]"
   ]
  },
  {
   "cell_type": "code",
   "execution_count": 31,
   "id": "fbec4a75-ee30-4668-a755-e5191cbc75ca",
   "metadata": {},
   "outputs": [
    {
     "data": {
      "text/html": [
       "<div>\n",
       "<style scoped>\n",
       "    .dataframe tbody tr th:only-of-type {\n",
       "        vertical-align: middle;\n",
       "    }\n",
       "\n",
       "    .dataframe tbody tr th {\n",
       "        vertical-align: top;\n",
       "    }\n",
       "\n",
       "    .dataframe thead th {\n",
       "        text-align: right;\n",
       "    }\n",
       "</style>\n",
       "<table border=\"1\" class=\"dataframe\">\n",
       "  <thead>\n",
       "    <tr style=\"text-align: right;\">\n",
       "      <th></th>\n",
       "      <th>Name</th>\n",
       "    </tr>\n",
       "  </thead>\n",
       "  <tbody>\n",
       "    <tr>\n",
       "      <th>101</th>\n",
       "      <td>Alice</td>\n",
       "    </tr>\n",
       "    <tr>\n",
       "      <th>102</th>\n",
       "      <td>Bob</td>\n",
       "    </tr>\n",
       "    <tr>\n",
       "      <th>103</th>\n",
       "      <td>Charlie</td>\n",
       "    </tr>\n",
       "    <tr>\n",
       "      <th>104</th>\n",
       "      <td>David</td>\n",
       "    </tr>\n",
       "    <tr>\n",
       "      <th>105</th>\n",
       "      <td>Eva</td>\n",
       "    </tr>\n",
       "  </tbody>\n",
       "</table>\n",
       "</div>"
      ],
      "text/plain": [
       "        Name\n",
       "101    Alice\n",
       "102      Bob\n",
       "103  Charlie\n",
       "104    David\n",
       "105      Eva"
      ]
     },
     "execution_count": 31,
     "metadata": {},
     "output_type": "execute_result"
    }
   ],
   "source": [
    "df.iloc[:,:1]"
   ]
  },
  {
   "cell_type": "code",
   "execution_count": 32,
   "id": "5d8075f4-572b-4832-ae82-84782818abb6",
   "metadata": {},
   "outputs": [
    {
     "data": {
      "text/plain": [
       "pandas.core.frame.DataFrame"
      ]
     },
     "execution_count": 32,
     "metadata": {},
     "output_type": "execute_result"
    }
   ],
   "source": [
    "type(df.iloc[:,:1])"
   ]
  },
  {
   "cell_type": "code",
   "execution_count": 33,
   "id": "89824b9f-dba9-4d75-8e7e-3ae571c04755",
   "metadata": {},
   "outputs": [
    {
     "data": {
      "text/html": [
       "<div>\n",
       "<style scoped>\n",
       "    .dataframe tbody tr th:only-of-type {\n",
       "        vertical-align: middle;\n",
       "    }\n",
       "\n",
       "    .dataframe tbody tr th {\n",
       "        vertical-align: top;\n",
       "    }\n",
       "\n",
       "    .dataframe thead th {\n",
       "        text-align: right;\n",
       "    }\n",
       "</style>\n",
       "<table border=\"1\" class=\"dataframe\">\n",
       "  <thead>\n",
       "    <tr style=\"text-align: right;\">\n",
       "      <th></th>\n",
       "      <th>Name</th>\n",
       "      <th>Age</th>\n",
       "      <th>Score</th>\n",
       "    </tr>\n",
       "  </thead>\n",
       "  <tbody>\n",
       "    <tr>\n",
       "      <th>101</th>\n",
       "      <td>Alice</td>\n",
       "      <td>25</td>\n",
       "      <td>85.5</td>\n",
       "    </tr>\n",
       "    <tr>\n",
       "      <th>102</th>\n",
       "      <td>Bob</td>\n",
       "      <td>30</td>\n",
       "      <td>92.0</td>\n",
       "    </tr>\n",
       "  </tbody>\n",
       "</table>\n",
       "</div>"
      ],
      "text/plain": [
       "      Name  Age  Score\n",
       "101  Alice   25   85.5\n",
       "102    Bob   30   92.0"
      ]
     },
     "execution_count": 33,
     "metadata": {},
     "output_type": "execute_result"
    }
   ],
   "source": [
    "# iloc[행] : iloc의 인자가 하나만 있을 경우 해당 행의 전체 열의 데이터\n",
    "df.iloc[:2]"
   ]
  },
  {
   "cell_type": "code",
   "execution_count": 45,
   "id": "8ebc983a-3a41-4b6b-92a6-af94f9374816",
   "metadata": {},
   "outputs": [],
   "source": [
    "\"\"\"\n",
    "loc[] 슬라이싱을 통해 원소에 접근\n",
    "첫 번째 행과 두 번째 행, 'Name'과 'Score' 열에 해당하는 데이터 가져오기\n",
    "\"\"\"\n",
    "subset2 = df.loc[:\"102\", ['Name', 'Score']]  # label 인덱스의 경우 : 뒤에 있는 라벨도 포함"
   ]
  },
  {
   "cell_type": "code",
   "execution_count": 46,
   "id": "75369186-7212-45ba-9d3f-e86093cc5f5e",
   "metadata": {},
   "outputs": [
    {
     "data": {
      "text/html": [
       "<div>\n",
       "<style scoped>\n",
       "    .dataframe tbody tr th:only-of-type {\n",
       "        vertical-align: middle;\n",
       "    }\n",
       "\n",
       "    .dataframe tbody tr th {\n",
       "        vertical-align: top;\n",
       "    }\n",
       "\n",
       "    .dataframe thead th {\n",
       "        text-align: right;\n",
       "    }\n",
       "</style>\n",
       "<table border=\"1\" class=\"dataframe\">\n",
       "  <thead>\n",
       "    <tr style=\"text-align: right;\">\n",
       "      <th></th>\n",
       "      <th>Name</th>\n",
       "      <th>Score</th>\n",
       "    </tr>\n",
       "  </thead>\n",
       "  <tbody>\n",
       "    <tr>\n",
       "      <th>101</th>\n",
       "      <td>Alice</td>\n",
       "      <td>85.5</td>\n",
       "    </tr>\n",
       "    <tr>\n",
       "      <th>102</th>\n",
       "      <td>Bob</td>\n",
       "      <td>92.0</td>\n",
       "    </tr>\n",
       "  </tbody>\n",
       "</table>\n",
       "</div>"
      ],
      "text/plain": [
       "      Name  Score\n",
       "101  Alice   85.5\n",
       "102    Bob   92.0"
      ]
     },
     "execution_count": 46,
     "metadata": {},
     "output_type": "execute_result"
    }
   ],
   "source": [
    "subset2"
   ]
  },
  {
   "cell_type": "code",
   "execution_count": 47,
   "id": "c6eb335a-11b8-4ed7-9287-2219df268b07",
   "metadata": {},
   "outputs": [
    {
     "data": {
      "text/html": [
       "<div>\n",
       "<style scoped>\n",
       "    .dataframe tbody tr th:only-of-type {\n",
       "        vertical-align: middle;\n",
       "    }\n",
       "\n",
       "    .dataframe tbody tr th {\n",
       "        vertical-align: top;\n",
       "    }\n",
       "\n",
       "    .dataframe thead th {\n",
       "        text-align: right;\n",
       "    }\n",
       "</style>\n",
       "<table border=\"1\" class=\"dataframe\">\n",
       "  <thead>\n",
       "    <tr style=\"text-align: right;\">\n",
       "      <th></th>\n",
       "      <th>Name</th>\n",
       "      <th>Age</th>\n",
       "      <th>Score</th>\n",
       "    </tr>\n",
       "  </thead>\n",
       "  <tbody>\n",
       "    <tr>\n",
       "      <th>101</th>\n",
       "      <td>Alice</td>\n",
       "      <td>25</td>\n",
       "      <td>85.5</td>\n",
       "    </tr>\n",
       "    <tr>\n",
       "      <th>102</th>\n",
       "      <td>Bob</td>\n",
       "      <td>30</td>\n",
       "      <td>92.0</td>\n",
       "    </tr>\n",
       "  </tbody>\n",
       "</table>\n",
       "</div>"
      ],
      "text/plain": [
       "      Name  Age  Score\n",
       "101  Alice   25   85.5\n",
       "102    Bob   30   92.0"
      ]
     },
     "execution_count": 47,
     "metadata": {},
     "output_type": "execute_result"
    }
   ],
   "source": [
    "# iloc[행] : loc의 인자가 하나만 있을 경우 해당 행의 전체 열의 데이터\n",
    "df.loc[:\"102\"]"
   ]
  },
  {
   "cell_type": "markdown",
   "id": "2bcc2210-a107-4d4b-b2d7-2ecc604795b0",
   "metadata": {},
   "source": [
    "## Dataframe 내 슬라이싱 기반 Series\n",
    "Pandas DataFrame에서 개별 원소에 접근하는 방식에는 iloc[행, 열] 인덱서와 loc[행 열] 라벨 기반 인덱서 두 가지가 있습니다. "
   ]
  },
  {
   "cell_type": "code",
   "execution_count": 48,
   "id": "6b8e30ec-7718-403d-a272-5264843a22cb",
   "metadata": {},
   "outputs": [],
   "source": [
    "\"\"\"\n",
    "iloc[]을 사용하여 Series 추출:\n",
    "\"\"\"\n",
    "\n",
    "import pandas as pd\n",
    "\n",
    "# DataFrame 생성\n",
    "data = {\n",
    "    'Name': ['Alice', 'Bob', 'Charlie', 'David', 'Eva'],\n",
    "    'Age': [25, 30, 35, 28, 22],\n",
    "    'Score': [85.5, 92.0, 78.5, 89.3, 95.1]\n",
    "}\n",
    "df = pd.DataFrame(data)\n",
    "\n",
    "# iloc을 사용하여 Series 추출\n",
    "row_index = 2\n",
    "series_iloc = df.iloc[row_index]\n"
   ]
  },
  {
   "cell_type": "code",
   "execution_count": 131,
   "id": "44fc2a59-ba48-4e0a-93de-a1440acae91c",
   "metadata": {},
   "outputs": [
    {
     "data": {
      "text/plain": [
       "Name     Charlie\n",
       "Age           35\n",
       "Score       78.5\n",
       "Name: 2, dtype: object"
      ]
     },
     "execution_count": 131,
     "metadata": {},
     "output_type": "execute_result"
    }
   ],
   "source": [
    "# 특정 행을 Series로 1\n",
    "df.iloc[2]"
   ]
  },
  {
   "cell_type": "code",
   "execution_count": 135,
   "id": "30d65e1c-82a6-402f-a3d7-22b1e68c207b",
   "metadata": {},
   "outputs": [
    {
     "data": {
      "text/plain": [
       "Name    Charlie\n",
       "Age          35\n",
       "Name: 2, dtype: object"
      ]
     },
     "execution_count": 135,
     "metadata": {},
     "output_type": "execute_result"
    }
   ],
   "source": [
    "# 특정 행을 Series로 2\n",
    "df.iloc[2, :2]"
   ]
  },
  {
   "cell_type": "code",
   "execution_count": 139,
   "id": "6729f054-10f7-4eb7-aaa8-491735961d42",
   "metadata": {},
   "outputs": [
    {
     "data": {
      "text/plain": [
       "0    85.5\n",
       "1    92.0\n",
       "2    78.5\n",
       "3    89.3\n",
       "4    95.1\n",
       "Name: Score, dtype: float64"
      ]
     },
     "execution_count": 139,
     "metadata": {},
     "output_type": "execute_result"
    }
   ],
   "source": [
    "# 특정 열을 series로 1\n",
    "df.iloc[:,2]"
   ]
  },
  {
   "cell_type": "code",
   "execution_count": 136,
   "id": "fe61ad27-fb73-479f-8542-f71fbb67aba4",
   "metadata": {},
   "outputs": [
    {
     "data": {
      "text/plain": [
       "2    78.5\n",
       "3    89.3\n",
       "4    95.1\n",
       "Name: Score, dtype: float64"
      ]
     },
     "execution_count": 136,
     "metadata": {},
     "output_type": "execute_result"
    }
   ],
   "source": [
    "# 특정 열을 series로 2\n",
    "df.iloc[2:,2]"
   ]
  },
  {
   "cell_type": "code",
   "execution_count": 144,
   "id": "7d23ca14-52cb-4b36-a9b5-d38f582e5375",
   "metadata": {},
   "outputs": [],
   "source": [
    "\"\"\"\n",
    "loc[]을 사용하여 Series 추출:\n",
    "\"\"\"\n",
    "\n",
    "import pandas as pd\n",
    "\n",
    "# DataFrame 생성\n",
    "data = {\n",
    "    'Name': ['Alice', 'Bob', 'Charlie', 'David', 'Eva'],\n",
    "    'Age': [25, 30, 35, 28, 22],\n",
    "    'Score': [85.5, 92.0, 78.5, 89.3, 95.1]\n",
    "}\n",
    "df = pd.DataFrame(data)\n",
    "\n",
    "# loc를 사용하여 Series 추출\n",
    "row_label = 3\n",
    "series_loc = df.loc[row_label]\n"
   ]
  },
  {
   "cell_type": "code",
   "execution_count": 152,
   "id": "e48603b2-715e-4588-a665-bc536e993a96",
   "metadata": {},
   "outputs": [
    {
     "data": {
      "text/html": [
       "<div>\n",
       "<style scoped>\n",
       "    .dataframe tbody tr th:only-of-type {\n",
       "        vertical-align: middle;\n",
       "    }\n",
       "\n",
       "    .dataframe tbody tr th {\n",
       "        vertical-align: top;\n",
       "    }\n",
       "\n",
       "    .dataframe thead th {\n",
       "        text-align: right;\n",
       "    }\n",
       "</style>\n",
       "<table border=\"1\" class=\"dataframe\">\n",
       "  <thead>\n",
       "    <tr style=\"text-align: right;\">\n",
       "      <th></th>\n",
       "      <th>Name</th>\n",
       "      <th>Age</th>\n",
       "      <th>Score</th>\n",
       "    </tr>\n",
       "  </thead>\n",
       "  <tbody>\n",
       "    <tr>\n",
       "      <th>0</th>\n",
       "      <td>Alice</td>\n",
       "      <td>25</td>\n",
       "      <td>85.5</td>\n",
       "    </tr>\n",
       "    <tr>\n",
       "      <th>1</th>\n",
       "      <td>Bob</td>\n",
       "      <td>30</td>\n",
       "      <td>92.0</td>\n",
       "    </tr>\n",
       "    <tr>\n",
       "      <th>2</th>\n",
       "      <td>Charlie</td>\n",
       "      <td>35</td>\n",
       "      <td>78.5</td>\n",
       "    </tr>\n",
       "    <tr>\n",
       "      <th>3</th>\n",
       "      <td>David</td>\n",
       "      <td>28</td>\n",
       "      <td>89.3</td>\n",
       "    </tr>\n",
       "    <tr>\n",
       "      <th>4</th>\n",
       "      <td>Eva</td>\n",
       "      <td>22</td>\n",
       "      <td>95.1</td>\n",
       "    </tr>\n",
       "  </tbody>\n",
       "</table>\n",
       "</div>"
      ],
      "text/plain": [
       "      Name  Age  Score\n",
       "0    Alice   25   85.5\n",
       "1      Bob   30   92.0\n",
       "2  Charlie   35   78.5\n",
       "3    David   28   89.3\n",
       "4      Eva   22   95.1"
      ]
     },
     "execution_count": 152,
     "metadata": {},
     "output_type": "execute_result"
    }
   ],
   "source": [
    "df"
   ]
  },
  {
   "cell_type": "code",
   "execution_count": 153,
   "id": "3c520547-f88e-4bba-b49c-59ccf83cda53",
   "metadata": {},
   "outputs": [
    {
     "data": {
      "text/plain": [
       "Name     Alice\n",
       "Age         25\n",
       "Score     85.5\n",
       "Name: 0, dtype: object"
      ]
     },
     "execution_count": 153,
     "metadata": {},
     "output_type": "execute_result"
    }
   ],
   "source": [
    "# 특정 행을 Series로 - 1\n",
    "df.loc[0]"
   ]
  },
  {
   "cell_type": "code",
   "execution_count": 147,
   "id": "7afe10b4-2d74-427b-9999-d790b625554a",
   "metadata": {},
   "outputs": [
    {
     "data": {
      "text/plain": [
       "Age        25\n",
       "Score    85.5\n",
       "Name: 0, dtype: object"
      ]
     },
     "execution_count": 147,
     "metadata": {},
     "output_type": "execute_result"
    }
   ],
   "source": [
    "# 특정 행을 Series로 - 2\n",
    "df.loc[0, \"Age\":\"Score\"]"
   ]
  },
  {
   "cell_type": "code",
   "execution_count": 148,
   "id": "5cf69b69-3ac1-4b77-acd5-e43770e797d5",
   "metadata": {},
   "outputs": [
    {
     "data": {
      "text/plain": [
       "0    25\n",
       "1    30\n",
       "2    35\n",
       "3    28\n",
       "4    22\n",
       "Name: Age, dtype: int64"
      ]
     },
     "execution_count": 148,
     "metadata": {},
     "output_type": "execute_result"
    }
   ],
   "source": [
    "# 특정 열을 Series로 - 1\n",
    "df.loc[:,\"Age\"]"
   ]
  },
  {
   "cell_type": "code",
   "execution_count": 156,
   "id": "3c1bfe5f-56e4-4f23-9565-74b44661ea61",
   "metadata": {},
   "outputs": [
    {
     "data": {
      "text/plain": [
       "0    25\n",
       "1    30\n",
       "2    35\n",
       "Name: Age, dtype: int64"
      ]
     },
     "execution_count": 156,
     "metadata": {},
     "output_type": "execute_result"
    }
   ],
   "source": [
    "# 특정 열을 Series로 - 1\n",
    "df.loc[0:2,\"Age\"]"
   ]
  },
  {
   "cell_type": "markdown",
   "id": "a2d27d3d-4beb-43b0-b9f3-7df3cfe63658",
   "metadata": {},
   "source": [
    "# 불리언벡터로 데이터 필터링\n",
    "\n",
    ". boolean vector는 각 행에 대해 조건을 만족하는지 여부를 True 또는 False로 나타낸 것입니다. 이를 활용하여 데이터프레임을 조건에 맞게 필터링할 수 있습니다.\n",
    "\n"
   ]
  },
  {
   "cell_type": "code",
   "execution_count": 79,
   "id": "3b60e1b0-56a0-4be3-9c0f-acb8960f0aae",
   "metadata": {},
   "outputs": [],
   "source": [
    "import pandas as pd\n",
    "\n",
    "# 데이터 생성\n",
    "data = {\n",
    "    'Name': ['Alice', 'Bob', 'Charlie', 'David', 'Ella'],\n",
    "    'Age': [25, 30, 35, 40, 45],\n",
    "    'City': ['New York', 'London', 'Paris', 'Berlin', 'Tokyo']\n",
    "}\n",
    "\n",
    "df = pd.DataFrame(data)\n"
   ]
  },
  {
   "cell_type": "code",
   "execution_count": 80,
   "id": "6ce01441-78da-4e27-8176-86554b116fe9",
   "metadata": {},
   "outputs": [],
   "source": [
    "# Age가 35 이상인 행들만 필터링 (boolean vector 사용)\n",
    "age_condition = df['Age'] >= 35\n",
    "filtered_df = df[age_condition]\n"
   ]
  },
  {
   "cell_type": "code",
   "execution_count": 81,
   "id": "f249cc37-3b2e-4d47-a2c6-dfd672f5acac",
   "metadata": {},
   "outputs": [],
   "source": [
    "# City가 'London'인 행들만 필터링 (boolean vector 사용)\n",
    "city_condition = df['City'] == 'London'\n",
    "filtered_df_2 = df[city_condition]"
   ]
  },
  {
   "cell_type": "markdown",
   "id": "50155c4c-e524-42cb-90a4-675f3cb3f810",
   "metadata": {},
   "source": [
    "## Pandas DataFrame에서 []를 사용하여 슬라이싱하는 예제를 제공하겠습니다:"
   ]
  },
  {
   "cell_type": "code",
   "execution_count": 158,
   "id": "04944042-76d4-44f2-9543-fe041eb39268",
   "metadata": {},
   "outputs": [],
   "source": [
    "import pandas as pd\n",
    "\n",
    "# DataFrame 생성\n",
    "data = {\n",
    "    'Name': ['Alice', 'Bob', 'Charlie', 'David', 'Eva'],\n",
    "    'Age': [25, 30, 35, 28, 22],\n",
    "    'Score': [85.5, 92.0, 78.5, 89.3, 95.1]\n",
    "}\n",
    "df = pd.DataFrame(data)\n",
    "\n",
    "# []를 사용하여 슬라이싱\n",
    "subset = df[1:4]\n",
    "\n"
   ]
  },
  {
   "cell_type": "code",
   "execution_count": 159,
   "id": "db397b5a-7636-44e5-9fda-314a154af913",
   "metadata": {},
   "outputs": [
    {
     "data": {
      "text/html": [
       "<div>\n",
       "<style scoped>\n",
       "    .dataframe tbody tr th:only-of-type {\n",
       "        vertical-align: middle;\n",
       "    }\n",
       "\n",
       "    .dataframe tbody tr th {\n",
       "        vertical-align: top;\n",
       "    }\n",
       "\n",
       "    .dataframe thead th {\n",
       "        text-align: right;\n",
       "    }\n",
       "</style>\n",
       "<table border=\"1\" class=\"dataframe\">\n",
       "  <thead>\n",
       "    <tr style=\"text-align: right;\">\n",
       "      <th></th>\n",
       "      <th>Name</th>\n",
       "      <th>Age</th>\n",
       "      <th>Score</th>\n",
       "    </tr>\n",
       "  </thead>\n",
       "  <tbody>\n",
       "    <tr>\n",
       "      <th>0</th>\n",
       "      <td>Alice</td>\n",
       "      <td>25</td>\n",
       "      <td>85.5</td>\n",
       "    </tr>\n",
       "    <tr>\n",
       "      <th>1</th>\n",
       "      <td>Bob</td>\n",
       "      <td>30</td>\n",
       "      <td>92.0</td>\n",
       "    </tr>\n",
       "    <tr>\n",
       "      <th>2</th>\n",
       "      <td>Charlie</td>\n",
       "      <td>35</td>\n",
       "      <td>78.5</td>\n",
       "    </tr>\n",
       "    <tr>\n",
       "      <th>3</th>\n",
       "      <td>David</td>\n",
       "      <td>28</td>\n",
       "      <td>89.3</td>\n",
       "    </tr>\n",
       "    <tr>\n",
       "      <th>4</th>\n",
       "      <td>Eva</td>\n",
       "      <td>22</td>\n",
       "      <td>95.1</td>\n",
       "    </tr>\n",
       "  </tbody>\n",
       "</table>\n",
       "</div>"
      ],
      "text/plain": [
       "      Name  Age  Score\n",
       "0    Alice   25   85.5\n",
       "1      Bob   30   92.0\n",
       "2  Charlie   35   78.5\n",
       "3    David   28   89.3\n",
       "4      Eva   22   95.1"
      ]
     },
     "execution_count": 159,
     "metadata": {},
     "output_type": "execute_result"
    }
   ],
   "source": [
    "df"
   ]
  },
  {
   "cell_type": "code",
   "execution_count": 160,
   "id": "051cfa6f-7262-493f-9d4a-d43139240d53",
   "metadata": {},
   "outputs": [
    {
     "data": {
      "text/html": [
       "<div>\n",
       "<style scoped>\n",
       "    .dataframe tbody tr th:only-of-type {\n",
       "        vertical-align: middle;\n",
       "    }\n",
       "\n",
       "    .dataframe tbody tr th {\n",
       "        vertical-align: top;\n",
       "    }\n",
       "\n",
       "    .dataframe thead th {\n",
       "        text-align: right;\n",
       "    }\n",
       "</style>\n",
       "<table border=\"1\" class=\"dataframe\">\n",
       "  <thead>\n",
       "    <tr style=\"text-align: right;\">\n",
       "      <th></th>\n",
       "      <th>Name</th>\n",
       "      <th>Age</th>\n",
       "      <th>Score</th>\n",
       "    </tr>\n",
       "  </thead>\n",
       "  <tbody>\n",
       "    <tr>\n",
       "      <th>0</th>\n",
       "      <td>Alice</td>\n",
       "      <td>25</td>\n",
       "      <td>85.5</td>\n",
       "    </tr>\n",
       "    <tr>\n",
       "      <th>1</th>\n",
       "      <td>Bob</td>\n",
       "      <td>30</td>\n",
       "      <td>92.0</td>\n",
       "    </tr>\n",
       "  </tbody>\n",
       "</table>\n",
       "</div>"
      ],
      "text/plain": [
       "    Name  Age  Score\n",
       "0  Alice   25   85.5\n",
       "1    Bob   30   92.0"
      ]
     },
     "execution_count": 160,
     "metadata": {},
     "output_type": "execute_result"
    }
   ],
   "source": [
    "df[0:2]"
   ]
  },
  {
   "cell_type": "code",
   "execution_count": 162,
   "id": "d80d299b-035f-43de-9313-6a33e8dcf37a",
   "metadata": {},
   "outputs": [
    {
     "data": {
      "text/plain": [
       "0      Alice\n",
       "1        Bob\n",
       "2    Charlie\n",
       "3      David\n",
       "4        Eva\n",
       "Name: Name, dtype: object"
      ]
     },
     "execution_count": 162,
     "metadata": {},
     "output_type": "execute_result"
    }
   ],
   "source": [
    "df[\"Name\"]"
   ]
  },
  {
   "cell_type": "markdown",
   "id": "d9deae79-b994-4474-9d41-87ffc772b638",
   "metadata": {},
   "source": [
    "## [] 기반 데이터 접근\n",
    "\n",
    "Pandas DataFrame에서 []는 여러 가지 기능을 수행하는데 사용됩니다. 이를 이해하기 위해 다음과 같이 사용법과 의미를 설명하겠습니다.\n",
    "\n",
    "열(Column) 접근:\n",
    "[] 안에 열 이름을 넣으면 해당 열을 Series로 추출합니다.\n",
    "DataFrame의 열은 사전(Dict)처럼 취급되기 때문에 열 이름을 키로 사용하여 열에 접근합니다.\n",
    "\n",
    "여러 열에 접근:\n",
    "[] 안에 여러 열 이름을 리스트로 넣으면 해당 열들을 DataFrame으로 추출합니다.\n",
    "\n",
    "슬라이싱(Slicing):\n",
    "[] 안에 슬라이싱을 사용하여 DataFrame에서 특정 범위의 행을 추출합니다.\n",
    "\n",
    "조건 필터링(Condition Filtering):\n",
    "[] 안에 불린(Boolean) 조건을 사용하여 조건에 맞는 행만 추출합니다.\n",
    "\n"
   ]
  },
  {
   "cell_type": "code",
   "execution_count": null,
   "id": "42494e10-1791-470b-9c6c-26d76fbf6e6e",
   "metadata": {},
   "outputs": [],
   "source": [
    "\"\"\"\n",
    "열(Column) 접근:\n",
    "[] 안에 열 이름을 넣으면 해당 열을 Series로 추출합니다.\n",
    "DataFrame의 열은 사전(Dict)처럼 취급되기 때문에 열 이름을 키로 사용하여 열에 접근합니다.\n",
    "\"\"\"\n",
    "\n",
    "import pandas as pd\n",
    "\n",
    "# DataFrame 생성\n",
    "data = {\n",
    "    'Name': ['Alice', 'Bob', 'Charlie', 'David', 'Eva'],\n",
    "    'Age': [25, 30, 35, 28, 22],\n",
    "    'Score': [85.5, 92.0, 78.5, 89.3, 95.1]\n",
    "}\n",
    "df = pd.DataFrame(data)\n",
    "\n",
    "# 'Name' 열에 해당하는 데이터를 Series로 추출\n",
    "name_column = df['Name']"
   ]
  },
  {
   "cell_type": "code",
   "execution_count": null,
   "id": "720ba2cc-0574-48b7-ad24-9ed9e31ece1f",
   "metadata": {},
   "outputs": [],
   "source": [
    "\"\"\"\n",
    "여러 열에 접근:\n",
    "[] 안에 여러 열 이름을 리스트로 넣으면 해당 열들을 DataFrame으로 추출합니다.\n",
    "\"\"\"\n",
    "\n",
    "import pandas as pd\n",
    "\n",
    "# DataFrame 생성\n",
    "data = {\n",
    "    'Name': ['Alice', 'Bob', 'Charlie', 'David', 'Eva'],\n",
    "    'Age': [25, 30, 35, 28, 22],\n",
    "    'Score': [85.5, 92.0, 78.5, 89.3, 95.1]\n",
    "}\n",
    "df = pd.DataFrame(data)\n",
    "\n",
    "# 'Name'과 'Age' 열에 해당하는 데이터를 DataFrame으로 추출\n",
    "subset = df[['Name', 'Age']]"
   ]
  },
  {
   "cell_type": "code",
   "execution_count": null,
   "id": "cb0a1549-9e94-4f2d-acff-061227d8e99b",
   "metadata": {},
   "outputs": [],
   "source": [
    "\"\"\"\n",
    "슬라이싱(Slicing):\n",
    "[] 안에 슬라이싱을 사용하여 DataFrame에서 특정 범위의 행을 추출합니다.\n",
    "\"\"\"\n",
    "\n",
    "import pandas as pd\n",
    "\n",
    "# DataFrame 생성\n",
    "data = {\n",
    "    'Name': ['Alice', 'Bob', 'Charlie', 'David', 'Eva'],\n",
    "    'Age': [25, 30, 35, 28, 22],\n",
    "    'Score': [85.5, 92.0, 78.5, 89.3, 95.1]\n",
    "}\n",
    "df = pd.DataFrame(data)\n",
    "\n",
    "# 슬라이싱을 사용하여 인덱스 1부터 3까지의 행을 추출\n",
    "subset = df[1:4]\n",
    "\n",
    "print(subset)"
   ]
  },
  {
   "cell_type": "code",
   "execution_count": 164,
   "id": "bc19d6e6-d284-45af-a1b3-ba3493535f4a",
   "metadata": {},
   "outputs": [
    {
     "name": "stdout",
     "output_type": "stream",
     "text": [
      "      Name  Age  Score\n",
      "1      Bob   30   92.0\n",
      "2  Charlie   35   78.5\n"
     ]
    }
   ],
   "source": [
    "\"\"\"\n",
    "조건 필터링(Condition Filtering):\n",
    "[] 안에 불린(Boolean) 조건을 사용하여 조건에 맞는 행만 추출합니다.\n",
    "\"\"\"\n",
    "\n",
    "import pandas as pd\n",
    "\n",
    "# DataFrame 생성\n",
    "data = {\n",
    "    'Name': ['Alice', 'Bob', 'Charlie', 'David', 'Eva'],\n",
    "    'Age': [25, 30, 35, 28, 22],\n",
    "    'Score': [85.5, 92.0, 78.5, 89.3, 95.1]\n",
    "}\n",
    "df = pd.DataFrame(data)\n",
    "\n",
    "# 'Age'가 30 이상인 행만 추출\n",
    "age_above_30 = df[df['Age'] >= 30]\n",
    "\n",
    "print(age_above_30)"
   ]
  },
  {
   "cell_type": "markdown",
   "id": "6cfa21fe-b505-4b6d-8b23-e79891430989",
   "metadata": {},
   "source": [
    "## 데이터 추가 \n",
    "\n",
    "데이터 추가 예제:\n",
    "\n",
    "데이터를 추가하는 방법은 기본적으로 새로운 행을 데이터 프레임에 추가하는 것입니다. 여러 가지 방법으로 데이터를 추가할 수 있습니다. 가장 일반적인 방법은 loc 또는 iloc 인덱서를 사용하는 것입니다.\n"
   ]
  },
  {
   "cell_type": "code",
   "execution_count": 71,
   "id": "ccb68e3f-66cf-400c-a903-c8ffa1d743b5",
   "metadata": {},
   "outputs": [],
   "source": [
    "\"\"\"\n",
    "loc를 사용하여 row 데이터 추가하기:\n",
    "\"\"\"\n",
    "import pandas as pd\n",
    "\n",
    "# 기존 데이터 프레임 생성\n",
    "data = {'Name': ['Alice', 'Bob', 'Charlie'],\n",
    "        'Age': [25, 30, 35]}\n",
    "df = pd.DataFrame(data)\n",
    "\n",
    "# 새로운 데이터 추가\n",
    "new_data1 = {'Name': 'David', 'Age': 28}\n",
    "new_data2 = [\"Tom\", 44]\n",
    "df.loc[4]= new_data1\n",
    "df.loc[5] = new_data2"
   ]
  },
  {
   "cell_type": "code",
   "execution_count": 72,
   "id": "ef0777a7-c025-4934-9b4d-feb10316f3e3",
   "metadata": {},
   "outputs": [],
   "source": [
    "df.loc[6,\"Name\"] = \"Ted\""
   ]
  },
  {
   "cell_type": "code",
   "execution_count": 73,
   "id": "37141a7f-e778-4fb4-a757-7379ebd2b04d",
   "metadata": {},
   "outputs": [],
   "source": [
    "\"\"\"\n",
    "loc를 사용하여 행 추가:\n",
    "\"\"\"\n",
    "df.loc[6] = [\"Ted\", 2]"
   ]
  },
  {
   "cell_type": "code",
   "execution_count": 74,
   "id": "7832aff4-ba9a-4cb9-a0e4-c8286ee6b07c",
   "metadata": {},
   "outputs": [
    {
     "data": {
      "text/html": [
       "<div>\n",
       "<style scoped>\n",
       "    .dataframe tbody tr th:only-of-type {\n",
       "        vertical-align: middle;\n",
       "    }\n",
       "\n",
       "    .dataframe tbody tr th {\n",
       "        vertical-align: top;\n",
       "    }\n",
       "\n",
       "    .dataframe thead th {\n",
       "        text-align: right;\n",
       "    }\n",
       "</style>\n",
       "<table border=\"1\" class=\"dataframe\">\n",
       "  <thead>\n",
       "    <tr style=\"text-align: right;\">\n",
       "      <th></th>\n",
       "      <th>Name</th>\n",
       "      <th>Age</th>\n",
       "    </tr>\n",
       "  </thead>\n",
       "  <tbody>\n",
       "    <tr>\n",
       "      <th>0</th>\n",
       "      <td>Alice</td>\n",
       "      <td>25.0</td>\n",
       "    </tr>\n",
       "    <tr>\n",
       "      <th>1</th>\n",
       "      <td>Bob</td>\n",
       "      <td>30.0</td>\n",
       "    </tr>\n",
       "    <tr>\n",
       "      <th>2</th>\n",
       "      <td>Charlie</td>\n",
       "      <td>35.0</td>\n",
       "    </tr>\n",
       "    <tr>\n",
       "      <th>4</th>\n",
       "      <td>David</td>\n",
       "      <td>28.0</td>\n",
       "    </tr>\n",
       "    <tr>\n",
       "      <th>5</th>\n",
       "      <td>Tom</td>\n",
       "      <td>44.0</td>\n",
       "    </tr>\n",
       "    <tr>\n",
       "      <th>6</th>\n",
       "      <td>Ted</td>\n",
       "      <td>2.0</td>\n",
       "    </tr>\n",
       "  </tbody>\n",
       "</table>\n",
       "</div>"
      ],
      "text/plain": [
       "      Name   Age\n",
       "0    Alice  25.0\n",
       "1      Bob  30.0\n",
       "2  Charlie  35.0\n",
       "4    David  28.0\n",
       "5      Tom  44.0\n",
       "6      Ted   2.0"
      ]
     },
     "execution_count": 74,
     "metadata": {},
     "output_type": "execute_result"
    }
   ],
   "source": [
    "df"
   ]
  },
  {
   "cell_type": "code",
   "execution_count": 75,
   "id": "2b58b3dc-2cca-451b-b273-353706bc6207",
   "metadata": {},
   "outputs": [],
   "source": [
    "\"\"\"\n",
    "loc를 사용하여 열추가:\n",
    "\"\"\"\n",
    "df.loc[:, \"Gender\"] = [\"Femail\", \"Male\", \"Male\", \"Male\", \"Male\", \"Male\"]"
   ]
  },
  {
   "cell_type": "code",
   "execution_count": 78,
   "id": "80934d16-a172-4d84-87ed-77344a4aebfb",
   "metadata": {},
   "outputs": [
    {
     "data": {
      "text/html": [
       "<div>\n",
       "<style scoped>\n",
       "    .dataframe tbody tr th:only-of-type {\n",
       "        vertical-align: middle;\n",
       "    }\n",
       "\n",
       "    .dataframe tbody tr th {\n",
       "        vertical-align: top;\n",
       "    }\n",
       "\n",
       "    .dataframe thead th {\n",
       "        text-align: right;\n",
       "    }\n",
       "</style>\n",
       "<table border=\"1\" class=\"dataframe\">\n",
       "  <thead>\n",
       "    <tr style=\"text-align: right;\">\n",
       "      <th></th>\n",
       "      <th>Name</th>\n",
       "      <th>Age</th>\n",
       "      <th>Gender</th>\n",
       "    </tr>\n",
       "  </thead>\n",
       "  <tbody>\n",
       "    <tr>\n",
       "      <th>0</th>\n",
       "      <td>Alice</td>\n",
       "      <td>25.0</td>\n",
       "      <td>Femail</td>\n",
       "    </tr>\n",
       "    <tr>\n",
       "      <th>1</th>\n",
       "      <td>Bob</td>\n",
       "      <td>30.0</td>\n",
       "      <td>Male</td>\n",
       "    </tr>\n",
       "    <tr>\n",
       "      <th>2</th>\n",
       "      <td>Charlie</td>\n",
       "      <td>35.0</td>\n",
       "      <td>Male</td>\n",
       "    </tr>\n",
       "    <tr>\n",
       "      <th>4</th>\n",
       "      <td>David</td>\n",
       "      <td>28.0</td>\n",
       "      <td>Male</td>\n",
       "    </tr>\n",
       "    <tr>\n",
       "      <th>5</th>\n",
       "      <td>Tom</td>\n",
       "      <td>44.0</td>\n",
       "      <td>Male</td>\n",
       "    </tr>\n",
       "    <tr>\n",
       "      <th>6</th>\n",
       "      <td>Ted</td>\n",
       "      <td>2.0</td>\n",
       "      <td>Male</td>\n",
       "    </tr>\n",
       "  </tbody>\n",
       "</table>\n",
       "</div>"
      ],
      "text/plain": [
       "      Name   Age  Gender\n",
       "0    Alice  25.0  Femail\n",
       "1      Bob  30.0    Male\n",
       "2  Charlie  35.0    Male\n",
       "4    David  28.0    Male\n",
       "5      Tom  44.0    Male\n",
       "6      Ted   2.0    Male"
      ]
     },
     "execution_count": 78,
     "metadata": {},
     "output_type": "execute_result"
    }
   ],
   "source": [
    "df"
   ]
  },
  {
   "cell_type": "markdown",
   "id": "dc9ed191-2e77-4ece-9254-01585b6a6d17",
   "metadata": {},
   "source": [
    "## 데이터 삭제\n",
    "\n",
    "데이터를 삭제하는 방법에는 drop() 메서드를 사용하는 방법과 조건에 맞는 행을 필터링하여 삭제하는 방법이 있습니다.\n",
    "- drop() 메서드를 사용하여 특정 행 삭제하기:\n",
    "- 조건에 맞는 행을 필터링하여 삭제하기:"
   ]
  },
  {
   "cell_type": "code",
   "execution_count": 215,
   "id": "9bcc1792-dc46-4343-84dd-217a0a823840",
   "metadata": {},
   "outputs": [],
   "source": [
    "\"\"\"\n",
    "drop() 메서드를 사용하여 특정 행 삭제하기:\n",
    "\"\"\"\n",
    "\n",
    "import pandas as pd\n",
    "\n",
    "# 기존 데이터 프레임 생성\n",
    "data = {'Name': ['Alice', 'Bob', 'Charlie'],\n",
    "        '나이': [25, 30, 35]}\n",
    "df = pd.DataFrame(data)\n",
    "\n",
    "# 특정 행 삭제\n",
    "df = df.drop(1)"
   ]
  },
  {
   "cell_type": "code",
   "execution_count": null,
   "id": "6416f2e1-1e36-48da-91ca-d23b37c139e0",
   "metadata": {},
   "outputs": [],
   "source": [
    "\"\"\"\n",
    "조건에 맞는 행을 필터링하여 삭제하기:\n",
    "\"\"\"\n",
    "\n",
    "import pandas as pd\n",
    "\n",
    "# 기존 데이터 프레임 생성\n",
    "data = {'Name': ['Alice', 'Bob', 'Charlie'],\n",
    "        'Age': [25, 30, 35]}\n",
    "df = pd.DataFrame(data)\n",
    "\n",
    "# 조건에 맞는 행 삭제 (예: 나이가 30 이상인 행 삭제)\n",
    "df = df[df['Age'] < 30]"
   ]
  },
  {
   "cell_type": "markdown",
   "id": "de290934-b9d5-4a19-9d46-423f25cbe4c7",
   "metadata": {},
   "source": [
    "## 데이터 변경\n",
    "판다스(Pandas)에서 기존 데이터를 변경하는 방법에는 다양한 방법이 있습니다. 가장 일반적으로 사용되는 방법은 인덱싱 및 슬라이싱을 통해 특정 위치의 데이터를 수정하는 것입니다\n",
    "\n",
    "- 단일 셀의 데이터 변경:\n",
    "- 조건에 맞는 셀의 데이터 일괄 변경:\n",
    "- 새로운 시리즈로 데이터 일괄 변경:"
   ]
  },
  {
   "cell_type": "code",
   "execution_count": 216,
   "id": "1e2180ec-39eb-46d3-86d9-0ab57f3cb28f",
   "metadata": {},
   "outputs": [],
   "source": [
    "\"\"\"\n",
    "1. 단일 셀의 데이터 변경:\n",
    "\"\"\"\n",
    "import pandas as pd\n",
    "\n",
    "# 기존 데이터 프레임 생성\n",
    "data = {'Name': ['Alice', 'Bob', 'Charlie'],\n",
    "        'Age': [25, 30, 35]}\n",
    "df = pd.DataFrame(data)\n",
    "\n",
    "# 특정 셀의 데이터 변경\n",
    "df.at[1, 'Age'] = 32"
   ]
  },
  {
   "cell_type": "code",
   "execution_count": null,
   "id": "7bfb6c3d-72a4-40ca-a2fc-07b94fedd71d",
   "metadata": {},
   "outputs": [],
   "source": [
    "\"\"\"\n",
    "2. 조건에 맞는 셀의 데이터 일괄 변경:\n",
    "\"\"\"\n",
    "import pandas as pd\n",
    "\n",
    "# 기존 데이터 프레임 생성\n",
    "data = {'Name': ['Alice', 'Bob', 'Charlie'],\n",
    "        'Age': [25, 30, 35]}\n",
    "df = pd.DataFrame(data)\n",
    "\n",
    "# 조건에 맞는 셀의 데이터 일괄 변경 (예: 나이가 30 이상인 경우 나이를 40으로 변경)\n",
    "df.loc[df['나이'] >= 30, '나이'] = 40"
   ]
  },
  {
   "cell_type": "code",
   "execution_count": null,
   "id": "338aadcc-f429-4ca7-b428-fdbc966f94e7",
   "metadata": {},
   "outputs": [],
   "source": [
    "\"\"\"\n",
    "새로운 시리즈로 데이터 일괄 변경:\n",
    "\"\"\"\n",
    "import pandas as pd\n",
    "\n",
    "# 기존 데이터 프레임 생성\n",
    "data = {'Name': ['Alice', 'Bob', 'Charlie'],\n",
    "        'Age': [25, 30, 35]}\n",
    "df = pd.DataFrame(data)\n",
    "\n",
    "# 새로운 시리즈로 데이터 일괄 변경 (예: 모든 나이를 50으로 변경)\n",
    "new_age = pd.Series([50, 50, 50])\n",
    "df['Age'] = new_age\n"
   ]
  },
  {
   "cell_type": "markdown",
   "id": "4b8d05a2-167b-4867-9f54-249f8733d812",
   "metadata": {},
   "source": [
    "## 정렬\n",
    "데이터프레임을 정렬하는 방법에는 sort_values() 메서드를 사용합니다. 이를 통해 원하는 열 기준으로 데이터프레임을 오름차순 또는 내림차순으로 정렬할 수 있습니다."
   ]
  },
  {
   "cell_type": "code",
   "execution_count": 221,
   "id": "9d5c9485-e198-4f55-b18d-7bea0e30aaf1",
   "metadata": {},
   "outputs": [],
   "source": [
    "import pandas as pd\n",
    "\n",
    "# 데이터 생성\n",
    "data = {'Name': ['Alice', 'Bob', 'Charlie', 'David'],\n",
    "        'Age': [25, 30, 35, 28],\n",
    "        'Gender': ['Female', 'Male', 'Male', 'Male'],\n",
    "        'Height': [165, 180, 175, 170]}\n",
    "\n",
    "df = pd.DataFrame(data)"
   ]
  },
  {
   "cell_type": "code",
   "execution_count": 222,
   "id": "192a1c0b-bc0d-4994-8fd3-189acef4bbb2",
   "metadata": {},
   "outputs": [],
   "source": [
    "# 이름 열을 기준으로 오름차순 정렬\n",
    "df_sorted_name_asc = df.sort_values(by='Name', ascending=True)"
   ]
  },
  {
   "cell_type": "code",
   "execution_count": 223,
   "id": "661e094e-827b-4a67-bb04-0d5f13691829",
   "metadata": {},
   "outputs": [],
   "source": [
    "# 나이 열을 기준으로 내림차순 정렬\n",
    "df_sorted_age_desc = df.sort_values(by='Age', ascending=False)"
   ]
  },
  {
   "cell_type": "code",
   "execution_count": 224,
   "id": "2827c7a8-0ad3-4013-a518-b2a961c288ab",
   "metadata": {},
   "outputs": [],
   "source": [
    "# 여러 열을 기준으로 정렬 (나이를 먼저 오름차순으로 정렬하고, 그 다음 키를 내림차순으로 정렬)\n",
    "df_sorted = df.sort_values(by=['Age', 'Height'], ascending=[True, False])"
   ]
  },
  {
   "cell_type": "markdown",
   "id": "2bd05aa0-462c-411b-955c-88a59ed18456",
   "metadata": {},
   "source": [
    "## 데이터프레임 산술 연산\n",
    "\n",
    "데이터프레임은 다양한 산술 연산을 지원하며, 기본적으로 요소별(element-wise) 연산이 이루어집니다. 산술 연산은 데이터프레임 간의 연산 또는 데이터프레임 내부의 열 간 연산이 가능합니다. \n",
    "\n",
    "데이터프레임은 덧셈(+), 뺄셈(-), 곱셈(*), 나눗셈(/) 등의 산술 연산을 지원하며, 이 외에도 다양한 수학 함수를 적용할 수 있습니다. 데이터프레임의 산술 연산은 열 단위로 이루어지므로 데이터프레임의 크기가 동일해야 합니다."
   ]
  },
  {
   "cell_type": "code",
   "execution_count": 225,
   "id": "450bccee-087c-4cc1-88c5-9967c3aca933",
   "metadata": {},
   "outputs": [],
   "source": [
    "\"\"\"\n",
    "데이터프레임 간의 덧셈 연산\n",
    "\"\"\"\n",
    "\n",
    "import pandas as pd\n",
    "\n",
    "# 데이터 생성\n",
    "data1 = {'A': [1, 2, 3],\n",
    "         'B': [4, 5, 6]}\n",
    "df1 = pd.DataFrame(data1)\n",
    "\n",
    "data2 = {'A': [7, 8, 9],\n",
    "         'B': [10, 11, 12]}\n",
    "df2 = pd.DataFrame(data2)\n",
    "\n",
    "# 데이터프레임 간의 덧셈 연산\n",
    "df_sum = df1 + df2\n",
    "\n"
   ]
  },
  {
   "cell_type": "code",
   "execution_count": null,
   "id": "1044ddec-8bcc-4592-acea-b545699dec2d",
   "metadata": {},
   "outputs": [],
   "source": [
    "\"\"\"\n",
    "데이터프레임 내부의 열 간 덧셈 연산\n",
    "\"\"\"\n",
    "df_sum_columns = df1['A'] + df1['B']\n",
    "\n"
   ]
  },
  {
   "cell_type": "markdown",
   "id": "28e95c05-f544-4e0c-9947-6be75352408b",
   "metadata": {},
   "source": [
    "## 전치(transpose)\n",
    "\n",
    "데이터프레임의 transpose() 메서드를 사용하면 행과 열을 바꾸어 데이터프레임을 전치(transpose)할 수 있습니다. 전치된 데이터프레임은 원래 데이터프레임의 행과 열이 서로 바뀐 형태로 반환됩니다."
   ]
  },
  {
   "cell_type": "code",
   "execution_count": 229,
   "id": "57559e95-b7e0-47fc-b008-9771fc3d6aa1",
   "metadata": {},
   "outputs": [],
   "source": [
    "import pandas as pd\n",
    "\n",
    "# 데이터 생성\n",
    "data = {'Name': ['Alice', 'Bob', 'Charlie', 'David'],\n",
    "        'Age': [25, 30, 35, 28],\n",
    "        'Gender': ['Female', 'Male', 'Male', 'Male'],\n",
    "        'Height': [165, 180, 175, 170]}\n",
    "df = pd.DataFrame(data)\n",
    "\n",
    "\n",
    "# 데이터프레임 전치\n",
    "df_transposed = df.transpose()\n"
   ]
  },
  {
   "cell_type": "code",
   "execution_count": 227,
   "id": "d58e1879-dea4-4452-b54e-f2c37a637661",
   "metadata": {},
   "outputs": [
    {
     "data": {
      "text/html": [
       "<div>\n",
       "<style scoped>\n",
       "    .dataframe tbody tr th:only-of-type {\n",
       "        vertical-align: middle;\n",
       "    }\n",
       "\n",
       "    .dataframe tbody tr th {\n",
       "        vertical-align: top;\n",
       "    }\n",
       "\n",
       "    .dataframe thead th {\n",
       "        text-align: right;\n",
       "    }\n",
       "</style>\n",
       "<table border=\"1\" class=\"dataframe\">\n",
       "  <thead>\n",
       "    <tr style=\"text-align: right;\">\n",
       "      <th></th>\n",
       "      <th>이름</th>\n",
       "      <th>나이</th>\n",
       "      <th>성별</th>\n",
       "    </tr>\n",
       "  </thead>\n",
       "  <tbody>\n",
       "    <tr>\n",
       "      <th>0</th>\n",
       "      <td>홍길동</td>\n",
       "      <td>30</td>\n",
       "      <td>남성</td>\n",
       "    </tr>\n",
       "    <tr>\n",
       "      <th>1</th>\n",
       "      <td>김철수</td>\n",
       "      <td>25</td>\n",
       "      <td>남성</td>\n",
       "    </tr>\n",
       "    <tr>\n",
       "      <th>2</th>\n",
       "      <td>이영희</td>\n",
       "      <td>35</td>\n",
       "      <td>여성</td>\n",
       "    </tr>\n",
       "  </tbody>\n",
       "</table>\n",
       "</div>"
      ],
      "text/plain": [
       "    이름  나이  성별\n",
       "0  홍길동  30  남성\n",
       "1  김철수  25  남성\n",
       "2  이영희  35  여성"
      ]
     },
     "execution_count": 227,
     "metadata": {},
     "output_type": "execute_result"
    }
   ],
   "source": [
    "df"
   ]
  },
  {
   "cell_type": "markdown",
   "id": "beda428f-f36d-4c2d-b2e6-86cd6494faf7",
   "metadata": {},
   "source": [
    "## numpy의 함수 적용\n",
    "\n",
    " NumPy 함수를 사용하여 데이터프레임의 값을 변경할 수 있습니다."
   ]
  },
  {
   "cell_type": "code",
   "execution_count": 231,
   "id": "ac4efe1f-b7e6-41ea-980c-a958a0a66eab",
   "metadata": {},
   "outputs": [],
   "source": [
    "\"\"\"\n",
    "데이터프레임의 값에 로그 함수 적용하기 (NumPy 함수 사용)\n",
    "\"\"\"\n",
    "import pandas as pd\n",
    "import numpy as np\n",
    "\n",
    "# 데이터프레임 생성\n",
    "data = {\n",
    "    'A': [1, 2, 3, 4, 5],\n",
    "    'B': [10, 20, 30, 40, 50],\n",
    "    'C': [100, 200, 300, 400, 500]\n",
    "}\n",
    "\n",
    "df = pd.DataFrame(data)\n",
    "\n",
    "\n",
    "df_log = np.log(df)\n"
   ]
  },
  {
   "cell_type": "code",
   "execution_count": null,
   "id": "f2f2d330-0e4e-4769-937a-7896a40dfba0",
   "metadata": {},
   "outputs": [],
   "source": [
    "\"\"\"\n",
    "데이터프레임의 값이 3 이상인 경우에만 제곱근 적용하기 (NumPy 함수와 조건 사용)\n",
    "\"\"\"\n",
    "\n",
    "import pandas as pd\n",
    "import numpy as np\n",
    "\n",
    "# 데이터프레임 생성\n",
    "data = {\n",
    "    'A': [1, 2, 3, 4, 5],\n",
    "    'B': [10, 20, 30, 40, 50],\n",
    "    'C': [100, 200, 300, 400, 500]\n",
    "}\n",
    "\n",
    "df = pd.DataFrame(data)\n",
    "\n",
    "print(\"Original DataFrame:\")\n",
    "print(df)\n",
    "\n",
    "\n",
    "condition = df >= 3\n",
    "df_sqrt_condition = np.sqrt(df[condition])"
   ]
  },
  {
   "cell_type": "code",
   "execution_count": null,
   "id": "7c67e4aa-c5b7-4ba3-ab59-4b63bb45ca94",
   "metadata": {},
   "outputs": [],
   "source": []
  },
  {
   "cell_type": "code",
   "execution_count": null,
   "id": "129286a1-23af-49e2-a0a2-e215d59165b2",
   "metadata": {},
   "outputs": [],
   "source": []
  },
  {
   "cell_type": "code",
   "execution_count": null,
   "id": "586bae0c-8335-43a4-a835-5bf30ca98c52",
   "metadata": {},
   "outputs": [],
   "source": []
  },
  {
   "cell_type": "code",
   "execution_count": null,
   "id": "7d978509-980d-4e89-a3e5-9c05865af2b0",
   "metadata": {},
   "outputs": [],
   "source": []
  }
 ],
 "metadata": {
  "kernelspec": {
   "display_name": "Python 3 (ipykernel)",
   "language": "python",
   "name": "python3"
  },
  "language_info": {
   "codemirror_mode": {
    "name": "ipython",
    "version": 3
   },
   "file_extension": ".py",
   "mimetype": "text/x-python",
   "name": "python",
   "nbconvert_exporter": "python",
   "pygments_lexer": "ipython3",
   "version": "3.10.11"
  }
 },
 "nbformat": 4,
 "nbformat_minor": 5
}
