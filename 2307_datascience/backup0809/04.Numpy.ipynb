{
 "cells": [
  {
   "cell_type": "markdown",
   "id": "dbf79d42-dbb1-465e-9878-08a6c76fe260",
   "metadata": {},
   "source": [
    "# numpy\n",
    "\n",
    "NumPy는 파이썬에서 수치 계산을 위한 핵심 라이브러리로서, 효율적인 다차원 배열과 배열 기반의 수치 계산 기능을 제공합니다. NumPy는 \"Numerical Python\"의 줄임말로 알려져 있으며, 다차원 배열을 다루기 위한 강력한 함수와 도구를 제공하여 데이터 과학, 공학, 인공지능, 머신러닝 등 다양한 분야에서 매우 중요한 역할을 합니다.\n",
    "\n",
    "NumPy를 배워야 하는 이유는 다음과 같습니다:\n",
    "\n",
    "빠른 계산:\n",
    "NumPy는 C로 구현된 다차원 배열을 사용하여 계산을 빠르게 수행합니다. 파이썬의 기본 리스트보다 훨씬 효율적으로 데이터를 다룰 수 있으며, 벡터화 연산을 사용하여 루프 없이 배열에 대한 계산을 수행하여 빠른 실행 속도를 제공합니다.\n",
    "\n",
    "다차원 배열:\n",
    "NumPy의 다차원 배열은 파이썬 리스트보다 더 유연하고 강력한 기능을 제공합니다. 다차원 배열을 사용하여 행렬 연산, 통계 계산, 선형 대수 등 다양한 수치 계산을 쉽게 처리할 수 있습니다.\n",
    "\n",
    "데이터 분석과 과학:\n",
    "데이터 분석, 과학, 머신러닝, 딥러닝 등 다양한 분야에서 NumPy는 기본적인 라이브러리로 자리 잡고 있습니다. NumPy를 배움으로써 데이터를 다루고 처리하는데 매우 유용한 기능을 습득할 수 있습니다.\n",
    "\n",
    "데이터 구조의 통일성:\n",
    "NumPy의 다차원 배열은 데이터 구조의 통일성을 제공합니다. 모든 원소가 동일한 데이터 타입을 갖는다는 특성 때문에 데이터를 효율적으로 저장하고 다룰 수 있으며, 데이터의 일관성을 유지할 수 있습니다.\n",
    "\n",
    "다른 라이브러리와 통합:\n",
    "NumPy는 다른 파이썬 라이브러리와의 통합성이 뛰어나며, SciPy, Matplotlib, Pandas 등과 함께 사용하면 데이터 분석, 시각화, 과학 기술 계산 등을 더욱 효율적으로 수행할 수 있습니다.\n",
    "\n",
    "머신러닝과 딥러닝:\n",
    "NumPy는 머신러닝과 딥러닝에서 자주 사용되는 라이브러리로서, 다양한 모델의 데이터 전처리와 학습을 위한 기능을 제공합니다. 따라서 데이터 과학과 머신러닝 분야에 관심이 있다면 NumPy를 배워두는 것이 유용합니다.\n",
    "\n",
    "요약하면, NumPy는 파이썬에서 수치 계산과 데이터 처리를 위해 매우 중요한 도구이며, 데이터 과학, 공학, 머신러닝, 딥러닝 등 다양한 분야에서 필수적인 라이브러리입니다. 데이터를 다루고 처리하는데 필요한 기본적인 기능들을 익히고, 파이썬의 데이터 생태계를 구성하는데 있어서 필수적인 역할을 합니다."
   ]
  },
  {
   "cell_type": "markdown",
   "id": "a50c844c-9702-4f64-af6f-7313fbc04313",
   "metadata": {},
   "source": [
    "NumPy를 사용하기 위해서는 먼저 NumPy를 설치해야 합니다. 일반적으로 아래와 같은 방법으로 설치할 수 있습니다:\n",
    "\n",
    "```bash\n",
    "pip install numpy\n",
    "```"
   ]
  },
  {
   "cell_type": "markdown",
   "id": "173bf71f-63a9-4ad6-8976-43190b575abd",
   "metadata": {},
   "source": [
    "## ndarray(배열객체) 생성하기"
   ]
  },
  {
   "cell_type": "code",
   "execution_count": null,
   "id": "bf414bc9-e9f5-444f-a6c9-83f0844cfacb",
   "metadata": {},
   "outputs": [],
   "source": [
    "\"\"\"\n",
    "리스트(list)로부터 ndarray 생성:\n",
    "\"\"\"\n",
    "import numpy as np\n",
    "\n",
    "# 1차원 배열 생성\n",
    "arr1 = np.array([1, 2, 3, 4, 5])\n",
    "\n",
    "# 2차원 배열 생성\n",
    "arr2 = np.array([[1, 2, 3], [4, 5, 6]])\n",
    "\n"
   ]
  },
  {
   "cell_type": "code",
   "execution_count": 1,
   "id": "2c73a460-c064-4720-94bd-5abf7c765f39",
   "metadata": {},
   "outputs": [],
   "source": [
    "\"\"\"\n",
    "범위 지정으로 ndarray 생성:\n",
    "\"\"\"\n",
    "import numpy as np\n",
    "\n",
    "# 0부터 9까지의 정수로 1차원 배열 생성\n",
    "arr1 = np.arange(10)\n",
    "\n",
    "# 1부터 10까지의 정수로 1차원 배열 생성\n",
    "arr2 = np.arange(1, 11)\n",
    "\n",
    "# 0부터 9까지의 정수로 2차원 배열 생성\n",
    "arr3 = np.arange(10).reshape(2, 5)\n",
    "\n",
    "\n"
   ]
  },
  {
   "cell_type": "code",
   "execution_count": 2,
   "id": "545b5176-f567-4062-9189-5a0cb5339e56",
   "metadata": {},
   "outputs": [],
   "source": [
    "\"\"\"\n",
    "모든 원소가 0 또는 1인 ndarray 생성:\n",
    "\"\"\"\n",
    "import numpy as np\n",
    "\n",
    "# 모든 원소가 0인 3x3 배열 생성\n",
    "zeros_arr = np.zeros((3, 3))\n",
    "zeros_arr = np.zeros((3, 3))\n",
    "\n",
    "# 모든 원소가 1인 2x4 배열 생성\n",
    "ones_arr = np.ones((2, 4))\n",
    "\n"
   ]
  },
  {
   "cell_type": "code",
   "execution_count": null,
   "id": "f70e3487-bc25-4a35-a7fa-019e1945b294",
   "metadata": {},
   "outputs": [],
   "source": [
    "\"\"\"\n",
    "특정 범위 내에서 균등 간격으로 원소를 생성하는 ndarray:\n",
    "\"\"\"\n",
    "import numpy as np\n",
    "\n",
    "# 0부터 1 사이의 균등 분포를 갖는 5개의 원소로 1차원 배열 생성\n",
    "uniform_arr = np.linspace(0, 1, 5)\n"
   ]
  },
  {
   "cell_type": "code",
   "execution_count": 4,
   "id": "f9c63eeb-b0bd-40e9-b7ae-03ced1db2fbd",
   "metadata": {},
   "outputs": [],
   "source": [
    "\"\"\"\n",
    "랜덤한 값을 갖는 ndarray 생성:\n",
    "\"\"\"\n",
    "import numpy as np\n",
    "\n",
    "# 0과 1 사이의 랜덤한 값으로 3x3 배열 생성\n",
    "random_arr = np.random.rand(3, 3)\n"
   ]
  },
  {
   "cell_type": "markdown",
   "id": "d048c913-436e-4147-8a3d-51d191fbbc1a",
   "metadata": {},
   "source": [
    "## numpy random 함수 예제"
   ]
  },
  {
   "cell_type": "code",
   "execution_count": 7,
   "id": "f670bc5b-5bb9-474a-9b9c-2170b6ac502e",
   "metadata": {},
   "outputs": [
    {
     "name": "stdout",
     "output_type": "stream",
     "text": [
      "[[0.12987079 0.64026404 0.47184813]\n",
      " [0.41360316 0.35751678 0.04541253]\n",
      " [0.88681578 0.81610795 0.04638476]]\n"
     ]
    }
   ],
   "source": [
    "\"\"\"\n",
    "random.rand() 함수를 사용하여 0과 1 사이의 랜덤한 값으로 배열 생성:\n",
    "\"\"\"\n",
    "import numpy as np\n",
    "\n",
    "# 3x3 배열 생성 (0과 1 사이의 랜덤한 값)\n",
    "rand_arr = np.random.rand(3, 3)\n"
   ]
  },
  {
   "cell_type": "code",
   "execution_count": 8,
   "id": "a03e12aa-1519-4f74-80ae-ec68c1fc046b",
   "metadata": {},
   "outputs": [],
   "source": [
    "\"\"\"\n",
    "random.randint(low, high, size) 함수를 사용하여 정수형 랜덤 배열 생성:\n",
    "\"\"\"\n",
    "\n",
    "import numpy as np\n",
    "\n",
    "# 1부터 10 사이의 랜덤한 정수 값으로 1차원 배열 생성 (10개의 원소)\n",
    "rand_int_arr = np.random.randint(1, 11, 10)"
   ]
  },
  {
   "cell_type": "code",
   "execution_count": null,
   "id": "c4353858-bf9c-40d0-9801-293ce0f4e6a0",
   "metadata": {},
   "outputs": [],
   "source": [
    "\"\"\"\n",
    "random.randn() 함수를 사용하여 평균이 0이고 표준 편차가 1인 랜덤 배열 생성:\n",
    "\"\"\"\n",
    "\n",
    "import numpy as np\n",
    "\n",
    "# 평균이 0이고 표준 편차가 1인 3x3 배열 생성\n",
    "randn_arr = np.random.randn(3, 3)"
   ]
  },
  {
   "cell_type": "code",
   "execution_count": null,
   "id": "3c5efa49-e1f1-433f-a3f6-a2d6328975ab",
   "metadata": {},
   "outputs": [],
   "source": [
    "\"\"\"\n",
    "random.choice() 함수를 사용하여 주어진 배열에서 랜덤한 값 선택:\n",
    "\"\"\"\n",
    "\n",
    "import numpy as np\n",
    "\n",
    "# 주어진 배열로부터 랜덤하게 5개의 값 선택\n",
    "arr = np.array([10, 20, 30, 40, 50])\n",
    "rand_choice = np.random.choice(arr, 5)"
   ]
  },
  {
   "cell_type": "markdown",
   "id": "ec357a0b-65df-42e1-94fa-6518cde21c7a",
   "metadata": {},
   "source": [
    "## ndarray 의 데이터 타입\n",
    "\n",
    "NumPy의 ndarray는 업캐스팅과 object dtype을 활용하여 데이터 타입을 혼합하여 사용할 수 있습니다. 하지만 혼합된 데이터 타입을 사용하면 일부 NumPy의 기능이 제한될 수 있으며, 성능 면에서도 일반적인 ndarray보다 느릴 수 있으므로, 혼합된 데이터 타입을 사용하기 전에 장단점을 고려하여 사용해야 합니다. 일반적으로 데이터 타입이 동일한 ndarray를 사용하는 것이 가장 효율적입니다."
   ]
  },
  {
   "cell_type": "code",
   "execution_count": 9,
   "id": "58d96668-1d7f-4a47-a90c-1ca0e404184e",
   "metadata": {},
   "outputs": [
    {
     "name": "stdout",
     "output_type": "stream",
     "text": [
      "int64\n",
      "int32\n"
     ]
    }
   ],
   "source": [
    "\"\"\"\n",
    "정수형 데이터 타입:\n",
    "\"\"\"\n",
    "import numpy as np\n",
    "\n",
    "# 1차원 정수형 배열 (기본적으로 int64로 설정됨)\n",
    "arr_int = np.array([1, 2, 3])\n",
    "print(arr_int.dtype)  # 출력: int64\n",
    "\n",
    "# int32 데이터 타입으로 지정된 1차원 배열\n",
    "arr_int32 = np.array([1, 2, 3], dtype=np.int32)\n",
    "print(arr_int32.dtype)  # 출력: int32\n"
   ]
  },
  {
   "cell_type": "code",
   "execution_count": null,
   "id": "6bcb90c6-3432-43df-81a0-cb74c8cbdb17",
   "metadata": {},
   "outputs": [],
   "source": [
    "\"\"\"\n",
    "실수형 데이터 타입:\n",
    "\"\"\"\n",
    "import numpy as np\n",
    "\n",
    "# 1차원 실수형 배열 (기본적으로 float64로 설정됨)\n",
    "arr_float = np.array([1.0, 2.5, 3.7])\n",
    "print(arr_float.dtype)  # 출력: float64\n",
    "\n",
    "# float32 데이터 타입으로 지정된 1차원 배열\n",
    "arr_float32 = np.array([1.0, 2.5, 3.7], dtype=np.float32)\n",
    "print(arr_float32.dtype)  # 출력: float32\n",
    "\n"
   ]
  },
  {
   "cell_type": "code",
   "execution_count": null,
   "id": "24257e70-bd76-43c9-a5c1-137e6819751d",
   "metadata": {},
   "outputs": [],
   "source": [
    "\"\"\"\n",
    "문자열 데이터 타입:\n",
    "\"\"\"\n",
    "import numpy as np\n",
    "\n",
    "# 1차원 문자열 배열 (기본적으로 <U1로 설정됨, 1글자 유니코드 문자)\n",
    "arr_str = np.array(['A', 'B', 'C'])\n",
    "print(arr_str.dtype)  # 출력: <U1\n",
    "\n",
    "# <U4 데이터 타입으로 지정된 1차원 배열 (4글자 유니코드 문자)\n",
    "arr_str_u4 = np.array(['Hello', 'World'], dtype='<U4')\n",
    "print(arr_str_u4.dtype)  # 출력: <U4\n",
    "\n"
   ]
  },
  {
   "cell_type": "code",
   "execution_count": null,
   "id": "3e17b3b0-5254-48d2-b590-1a08a6d73317",
   "metadata": {},
   "outputs": [],
   "source": [
    "\"\"\"\n",
    "불리언 데이터 타입:\n",
    "\"\"\"\n",
    "import numpy as np\n",
    "\n",
    "import numpy as np\n",
    "\n",
    "# 1차원 불리언 배열\n",
    "arr_bool = np.array([True, False, True])\n",
    "print(arr_bool.dtype)  # 출력: bool\n",
    "\n"
   ]
  },
  {
   "cell_type": "code",
   "execution_count": null,
   "id": "31760a8d-2812-4b32-882d-a0cdb2e5382a",
   "metadata": {},
   "outputs": [],
   "source": [
    "\"\"\"\n",
    "복소수형 데이터 타입:\n",
    "\"\"\"\n",
    "import numpy as np\n",
    "\n",
    "# 1차원 복소수형 배열 (기본적으로 complex128로 설정됨)\n",
    "arr_complex = np.array([1 + 2j, 3 + 4j])\n",
    "print(arr_complex.dtype)  # 출력: complex128\n",
    "\n",
    "# complex64 데이터 타입으로 지정된 1차원 배열\n",
    "arr_complex64 = np.array([1 + 2j, 3 + 4j], dtype=np.complex64)\n",
    "print(arr_complex64.dtype)  # 출력: complex64\n",
    "\n",
    "\n"
   ]
  },
  {
   "cell_type": "markdown",
   "id": "bc4a1692-0c4a-4284-a873-ef842a57b305",
   "metadata": {},
   "source": [
    "## 타입변경\n",
    "\n",
    "NumPy의 ndarray의 데이터 타입을 변경하는 방법에는 두 가지가 있습니다.  \n",
    "하나는 astype() 메서드를 사용하는 방법이고,  \n",
    "다른 하나는 생성 시 dtype 파라미터를 사용하여 타입을 지정하는 방법입니다"
   ]
  },
  {
   "cell_type": "code",
   "execution_count": null,
   "id": "1a1cf4a0-a779-45d6-84df-2dbb3c23f840",
   "metadata": {},
   "outputs": [],
   "source": [
    "\"\"\"\n",
    "astype() 메서드를 사용하여 데이터 타입 변경:\n",
    "\"\"\"\n",
    "import numpy as np\n",
    "\n",
    "# 원본 배열 (int64 데이터 타입)\n",
    "arr_int = np.array([1, 2, 3], dtype=np.int64)\n",
    "\n",
    "# 데이터 타입 변경 (float64로 변환)\n",
    "arr_float = arr_int.astype(np.float64)\n"
   ]
  },
  {
   "cell_type": "code",
   "execution_count": null,
   "id": "bbe3f5c9-ead7-44b3-afb2-b3de76121d8d",
   "metadata": {},
   "outputs": [],
   "source": [
    "\"\"\"\n",
    "생성 시 dtype 파라미터를 사용하여 데이터 타입 변경:\n",
    "\"\"\"\n",
    "import numpy as np\n",
    "\n",
    "# int64 데이터 타입으로 생성된 배열\n",
    "arr_int = np.array([1, 2, 3], dtype=np.int64)\n",
    "\n",
    "# 생성 시 dtype 파라미터를 사용하여 데이터 타입 변경 (float64로 변환)\n",
    "arr_float = np.array(arr_int, dtype=np.float64)\n"
   ]
  },
  {
   "cell_type": "raw",
   "id": "25a872a5-0ba6-4d68-8952-b053b98dbe93",
   "metadata": {},
   "source": [
    "위의 예제에서 astype() 메서드와 dtype 파라미터를 사용하여 데이터 타입을 변경하는 것을 확인할 수 있습니다. 데이터 타입 변경은 원본 데이터를 변환하여 새로운 ndarray를 생성하는 것이므로, 원본 배열과 새로운 배열은 서로 다른 객체입니다. 따라서 데이터 타입 변경 시에는 새로운 배열이 생성되는 것을 유의해야 합니다."
   ]
  },
  {
   "cell_type": "code",
   "execution_count": null,
   "id": "6354319c-2282-4fc1-aca0-151b12ba6312",
   "metadata": {},
   "outputs": [],
   "source": []
  },
  {
   "cell_type": "markdown",
   "id": "e5744081-886c-4dd5-a30a-39b3de97d952",
   "metadata": {},
   "source": [
    "## ndarray 주요 속성 및 메소드\n",
    "\n",
    "### 속성"
   ]
  },
  {
   "cell_type": "code",
   "execution_count": 10,
   "id": "4fe5e12a-69a3-486a-b137-3b0110bee8e7",
   "metadata": {},
   "outputs": [
    {
     "name": "stdout",
     "output_type": "stream",
     "text": [
      "(2, 3)\n"
     ]
    }
   ],
   "source": [
    "\"\"\"\n",
    "shape: 배열의 차원을 튜플로 반환합니다. 각 차원별 원소의 개수를 나타냅니다.\n",
    "\"\"\"\n",
    "\n",
    "import numpy as np\n",
    "\n",
    "arr = np.array([[1, 2, 3], [4, 5, 6]])\n",
    "print(arr.shape)  # 출력: (2, 3)"
   ]
  },
  {
   "cell_type": "code",
   "execution_count": null,
   "id": "45e0b351-c315-4bbe-a9c8-556871c38cb0",
   "metadata": {},
   "outputs": [],
   "source": [
    "\"\"\"\n",
    "dtype: 배열의 데이터 타입을 반환합니다.\n",
    "\"\"\"\n",
    "\n",
    "import numpy as np\n",
    "\n",
    "arr = np.array([1, 2, 3])\n",
    "print(arr.dtype)  # 출력: int64"
   ]
  },
  {
   "cell_type": "code",
   "execution_count": null,
   "id": "bfee39e8-7e56-43a0-acc3-0c715b8d2a9e",
   "metadata": {},
   "outputs": [],
   "source": [
    "\"\"\"\n",
    "size: 배열의 총 원소 개수를 반환합니다.\n",
    "\"\"\"\n",
    "import numpy as np\n",
    "\n",
    "arr = np.array([[1, 2, 3], [4, 5, 6]])\n",
    "print(arr.size)  # 출력: 6"
   ]
  },
  {
   "cell_type": "markdown",
   "id": "b097fcd9-b6a8-4ba8-9791-bd875a01aedf",
   "metadata": {},
   "source": [
    "### 메소드"
   ]
  },
  {
   "cell_type": "code",
   "execution_count": null,
   "id": "c1ae7c04-d75d-479c-b950-4b89c5b7ad52",
   "metadata": {},
   "outputs": [],
   "source": [
    "\"\"\"\n",
    "reshape(): 배열의 형태를 변경합니다.\n",
    "\"\"\"\n",
    "import numpy as np\n",
    "\n",
    "arr = np.array([1, 2, 3, 4, 5, 6])\n",
    "reshaped_arr = arr.reshape(2, 3)\n",
    "print(reshaped_arr)\n",
    "# 출력:\n",
    "# [[1 2 3]\n",
    "#  [4 5 6]]\n"
   ]
  },
  {
   "cell_type": "code",
   "execution_count": null,
   "id": "b3deab38-6771-4df4-bcec-6bd8b2cad9e5",
   "metadata": {},
   "outputs": [],
   "source": [
    "\"\"\"\n",
    "transpose(): 배열의 전치행렬을 반환합니다.\n",
    "\"\"\"\n",
    "import numpy as np\n",
    "\n",
    "arr = np.array([[1, 2, 3], [4, 5, 6]])\n",
    "transpose_arr = arr.transpose()\n",
    "print(transpose_arr)\n",
    "# 출력:\n",
    "# [[1 4]\n",
    "#  [2 5]\n",
    "#  [3 6]]\n"
   ]
  },
  {
   "cell_type": "code",
   "execution_count": 13,
   "id": "3a922b18-3e3d-4ebd-be30-dfd17485fe25",
   "metadata": {},
   "outputs": [],
   "source": [
    "\"\"\"\n",
    "- max()\n",
    "- min()\n",
    "- sum()\n",
    "- mean()\n",
    "\"\"\"\n",
    "import numpy as np\n",
    "\n",
    "arr = np.array([[1, 2, 3], [4, 5, 6]])\n"
   ]
  },
  {
   "cell_type": "markdown",
   "id": "7c0441e5-c787-4942-82ab-54df59f14c06",
   "metadata": {},
   "source": [
    "# indexing 과 slicing"
   ]
  },
  {
   "cell_type": "code",
   "execution_count": 14,
   "id": "fd9e8cec-ce13-4fd2-9ced-df6af25630df",
   "metadata": {},
   "outputs": [
    {
     "name": "stdout",
     "output_type": "stream",
     "text": [
      "1\n",
      "4\n",
      "2\n",
      "6\n"
     ]
    }
   ],
   "source": [
    "\"\"\"\n",
    "인덱싱(indexing)\n",
    "\"\"\"\n",
    "import numpy as np\n",
    "\n",
    "# 1차원 배열 인덱싱\n",
    "arr1d = np.array([1, 2, 3, 4, 5])\n",
    "print(arr1d[0])  # 출력: 1 (첫 번째 원소)\n",
    "print(arr1d[3])  # 출력: 4 (네 번째 원소)\n",
    "\n",
    "# 2차원 배열 인덱싱\n",
    "arr2d = np.array([[1, 2, 3], [4, 5, 6]])\n",
    "print(arr2d[0, 1])  # 출력: 2 (첫 번째 행의 두 번째 열)\n",
    "print(arr2d[1, 2])  # 출력: 6 (두 번째 행의 세 번째 열)\n"
   ]
  },
  {
   "cell_type": "code",
   "execution_count": 15,
   "id": "f679a24c-712d-473e-ba9b-bc3e45890b56",
   "metadata": {},
   "outputs": [
    {
     "name": "stdout",
     "output_type": "stream",
     "text": [
      "[2 3 4]\n",
      "[[2 3]\n",
      " [5 6]]\n",
      "[1 2 3]\n",
      "[5 6]\n"
     ]
    }
   ],
   "source": [
    "\"\"\"\n",
    "슬라이싱(slicing)\n",
    "\"\"\"\n",
    "import numpy as np\n",
    "\n",
    "# 1차원 배열 슬라이싱\n",
    "arr1d = np.array([1, 2, 3, 4, 5])\n",
    "print(arr1d[1:4])  # 출력: [2 3 4] (인덱스 1부터 3까지의 원소)\n",
    "\n",
    "# 2차원 배열 슬라이싱\n",
    "arr2d = np.array([[1, 2, 3], [4, 5, 6]])\n",
    "print(arr2d[:, 1:3])\n",
    "# 출력:\n",
    "# [[2 3]\n",
    "#  [5 6]] (모든 행의 두 번째와 세 번째 열)\n",
    "\n",
    "print(arr2d[0, :])  # 출력: [1 2 3] (첫 번째 행의 모든 열)\n",
    "print(arr2d[1, 1:])  # 출력: [5 6] (두 번째 행의 두 번째와 세 번째 열)\n"
   ]
  },
  {
   "cell_type": "markdown",
   "id": "2aa184a5-a682-43b4-8685-367f2853a23c",
   "metadata": {},
   "source": [
    "## ndarray 값 할당, 삭제, 추가"
   ]
  },
  {
   "cell_type": "code",
   "execution_count": null,
   "id": "946e93d6-f488-4eac-8edb-4d460c4f4007",
   "metadata": {},
   "outputs": [],
   "source": [
    "\"\"\"\n",
    "값을 할당하는 예제:\n",
    "\"\"\"\n",
    "import numpy as np\n",
    "\n",
    "# 1차원 배열 생성\n",
    "arr = np.array([1, 2, 3, 4, 5])\n",
    "\n",
    "# 인덱스를 이용하여 값을 할당\n",
    "arr[2] = 10\n",
    "print(arr)\n",
    "# 출력: [ 1  2 10  4  5]\n",
    "\n",
    "# 슬라이싱을 이용하여 값 할당\n",
    "arr[1:4] = 100\n",
    "print(arr)\n",
    "# 출력: [  1 100 100 100   5]\n",
    "\n"
   ]
  },
  {
   "cell_type": "code",
   "execution_count": null,
   "id": "381ec8d4-b96c-4ebc-8981-8ef032d221e7",
   "metadata": {},
   "outputs": [],
   "source": [
    "\"\"\"\n",
    "값을 삭제하는 예제:\n",
    "\"\"\"\n",
    "import numpy as np\n",
    "\n",
    "# 1차원 배열 생성\n",
    "arr = np.array([1, 2, 3, 4, 5])\n",
    "\n",
    "# 인덱스를 이용하여 값 삭제\n",
    "arr = np.delete(arr, 2)\n",
    "print(arr)\n",
    "# 출력: [1 2 4 5]\n",
    "\n",
    "# 슬라이싱을 이용하여 값 삭제\n",
    "arr = np.delete(arr, slice(1, 4))\n",
    "print(arr)\n",
    "# 출력: [1 5]\n",
    "\n",
    "\n"
   ]
  },
  {
   "cell_type": "code",
   "execution_count": 16,
   "id": "5a4b2aa8-52db-4ccc-aad0-5174e4ced53a",
   "metadata": {},
   "outputs": [
    {
     "name": "stdout",
     "output_type": "stream",
     "text": [
      "[ 1  2 10  3  4  5]\n",
      "[ 1 20 30 40  2 10  3  4  5]\n"
     ]
    }
   ],
   "source": [
    "\"\"\"\n",
    "값을 추가하는 예제:\n",
    "\"\"\"\n",
    "import numpy as np\n",
    "\n",
    "# 1차원 배열 생성\n",
    "arr = np.array([1, 2, 3, 4, 5])\n",
    "\n",
    "# 인덱스를 이용하여 값 추가\n",
    "arr = np.insert(arr, 2, 10)\n",
    "print(arr)\n",
    "# 출력: [ 1  2 10  3  4  5]\n",
    "\n",
    "# 슬라이싱을 이용하여 값 추가\n",
    "arr = np.insert(arr, 1, [20, 30, 40])\n",
    "print(arr)\n",
    "# 출력: [ 1 20 30 40  2 10  3  4  5]\n",
    "\n",
    "\n",
    "\n"
   ]
  },
  {
   "cell_type": "markdown",
   "id": "7b3f0b38-4d0d-4f2b-9515-d9ce14d8db91",
   "metadata": {},
   "source": [
    "## 정렬, 필터링"
   ]
  },
  {
   "cell_type": "code",
   "execution_count": null,
   "id": "8ba8cd44-9de0-4dc6-90e5-1b868fbeaef5",
   "metadata": {},
   "outputs": [],
   "source": [
    "\"\"\"\n",
    "배열 정렬 예제:\n",
    "\"\"\"\n",
    "import numpy as np\n",
    "\n",
    "# 1차원 배열 생성\n",
    "arr = np.array([3, 1, 4, 2, 5])\n",
    "\n",
    "# 오름차순으로 배열 정렬\n",
    "sorted_arr = np.sort(arr)\n",
    "print(sorted_arr)\n",
    "# 출력: [1 2 3 4 5]\n",
    "\n",
    "# 내림차순으로 배열 정렬\n",
    "sorted_arr_desc = np.sort(arr)[::-1]\n",
    "print(sorted_arr_desc)\n",
    "# 출력: [5 4 3 2 1]\n",
    "\n",
    "# 다차원 배열 정렬\n",
    "arr2d = np.array([[3, 1, 4], [2, 5, 6]])\n",
    "sorted_arr2d = np.sort(arr2d, axis=None)  # axis=None은 배열을 평평하게 만듦\n",
    "print(sorted_arr2d)\n",
    "# 출력: [1 2 3 4 5 6]\n"
   ]
  },
  {
   "cell_type": "code",
   "execution_count": null,
   "id": "28e01bcb-9db6-48f6-aa7e-5e50584bbbf2",
   "metadata": {},
   "outputs": [],
   "source": [
    "\"\"\"\n",
    "배열 필터링 예제:\n",
    "\"\"\"\n",
    "import numpy as np\n",
    "\n",
    "# 1차원 배열 생성\n",
    "arr = np.array([1, 2, 3, 4, 5])\n",
    "\n",
    "# 조건을 만족하는 원소 필터링\n",
    "filtered_arr = arr[arr > 2]\n",
    "print(filtered_arr)\n",
    "# 출력: [3 4 5]\n",
    "\n",
    "# 다차원 배열 필터링\n",
    "arr2d = np.array([[1, 2, 3], [4, 5, 6]])\n",
    "filtered_arr2d = arr2d[arr2d % 2 == 0]\n",
    "print(filtered_arr2d)\n",
    "# 출력: [2 4 6]\n",
    " \n"
   ]
  },
  {
   "cell_type": "markdown",
   "id": "f5e63237-f3bb-491b-8b1c-830bf2252a0e",
   "metadata": {},
   "source": [
    "## 배열 연산"
   ]
  },
  {
   "cell_type": "code",
   "execution_count": 19,
   "id": "8323354e-e3ba-464f-b4b5-70121c4011f0",
   "metadata": {},
   "outputs": [
    {
     "name": "stdout",
     "output_type": "stream",
     "text": [
      "[5 7 9]\n"
     ]
    }
   ],
   "source": [
    "\"\"\"\n",
    "덧셈연산\n",
    "\"\"\"\n",
    "\n",
    "import numpy as np\n",
    "\n",
    "# 1차원 배열 생성\n",
    "arr1 = np.array([1, 2, 3])\n",
    "arr2 = np.array([4, 5, 6])\n",
    "\n",
    "# 배열 간 덧셈 연산\n",
    "result = arr1 + arr2\n",
    "print(result)\n",
    "# 출력: [5 7 9]\n"
   ]
  },
  {
   "cell_type": "markdown",
   "id": "d4a43fb2-e541-4362-9ae8-4aa43f440719",
   "metadata": {},
   "source": [
    "## numpy.where()\n",
    "NumPy의 numpy.where() 함수는 조건에 따라 배열의 값을 다르게 할당하는 데 사용됩니다. 이 함수는 원하는 조건에 따라 배열의 원소를 대체하는데 유용합니다.\n",
    "\n",
    "```python\n",
    "numpy.where(condition, x, y)\n",
    "```\n",
    "\n",
    "- `condition`: 조건을 나타내는 불리언 배열이거나 조건식입니다. 만족하는 경우에만 값을 변경합니다.\n",
    "- `x`: condition이 True인 경우의 값이 대체됩니다.\n",
    "- `y`: condition이 False인 경우의 값이 대체됩니다.\n",
    "\n",
    "`x`와 `y`는 `배열` 또는 `스칼라`값이 될 수 있습니다.  \n",
    "만약 x와 y가 배열인 경우, 두 배열은 같은 크기 또는 브로드캐스팅 규칙을 만족해야 합니다."
   ]
  },
  {
   "cell_type": "code",
   "execution_count": 27,
   "id": "8fff1ac8-cbde-437f-b2e8-800c97137966",
   "metadata": {},
   "outputs": [],
   "source": [
    "\"\"\"\n",
    "조건에 따라 배열 값을 변경하는 예제 1\n",
    "\"\"\"\n",
    "\n",
    "import numpy as np\n",
    "\n",
    "arr = np.array([1, 2, 3, 4, 5])\n",
    "condition = arr > 3\n",
    "\n",
    "result = np.where(condition, arr, 0)\n"
   ]
  },
  {
   "cell_type": "code",
   "execution_count": 28,
   "id": "f8d4e459-62b1-4fda-96de-1c3b77b9f96b",
   "metadata": {},
   "outputs": [],
   "source": [
    "\"\"\"\n",
    "조건에 따라 배열 값을 변경하는 예제 2\n",
    "\"\"\"\n",
    "\n",
    "import numpy as np\n",
    "\n",
    "arr1 = np.array([1, 2, 3, 4, 5])\n",
    "arr2 = np.array([10, 20, 30, 40, 50])\n",
    "condition = arr1 > 3\n",
    "\n",
    "result = np.where(condition, arr1, arr2)"
   ]
  },
  {
   "cell_type": "code",
   "execution_count": null,
   "id": "0fdd12ad-ab38-4ad5-aa05-57bc4f5dc3ac",
   "metadata": {},
   "outputs": [],
   "source": []
  },
  {
   "cell_type": "code",
   "execution_count": null,
   "id": "f9bfa2d3-305b-4774-a70a-fc23f317bfb0",
   "metadata": {},
   "outputs": [],
   "source": []
  },
  {
   "cell_type": "markdown",
   "id": "91b21d15-4da6-45ae-9700-2b444ff633e8",
   "metadata": {},
   "source": [
    "## squeeze(), unsqueeze()"
   ]
  },
  {
   "cell_type": "code",
   "execution_count": 18,
   "id": "17e4d5f5-603e-4c16-a3cf-42417e43949e",
   "metadata": {},
   "outputs": [
    {
     "name": "stdout",
     "output_type": "stream",
     "text": [
      "[1 2 3]\n",
      "(3,)\n"
     ]
    }
   ],
   "source": [
    "\"\"\"\n",
    "squeeze() 함수:\n",
    "squeeze() 함수는 배열의 차원 중 사이즈가 1인 차원을 제거하는데 사용됩니다. \n",
    "만약 배열이 이미 1차원 이상이고, 그 중 사이즈가 1인 차원이 있다면 해당 차원을 제거하여 배열을 더 축소시킵니다.\n",
    "\"\"\"\n",
    "\n",
    "import numpy as np\n",
    "\n",
    "# 1차원 배열 생성\n",
    "arr = np.array([[[1, 2, 3]]])\n",
    "\n",
    "# 사이즈가 1인 차원을 제거\n",
    "result = np.squeeze(arr)\n",
    "print(result)\n",
    "# 출력: [1 2 3]\n",
    "print(result.shape)\n",
    "# 출력: (3,)"
   ]
  },
  {
   "cell_type": "code",
   "execution_count": null,
   "id": "3b4600f0-a7de-444a-90c9-259b80693813",
   "metadata": {},
   "outputs": [],
   "source": [
    "\"\"\"\n",
    "unsqueeze() 함수:\n",
    "unsqueeze() 함수는 배열에 새로운 차원을 추가하는데 사용됩니다.\n",
    "원하는 위치에 새로운 차원을 추가하여 배열의 차원을 확장합니다.\n",
    "\"\"\"\n",
    "\n",
    "import numpy as np\n",
    "\n",
    "# 1차원 배열 생성\n",
    "arr = np.array([1, 2, 3])\n",
    "\n",
    "# 새로운 차원을 추가하여 2차원 배열로 만듦\n",
    "result = np.expand_dims(arr, axis=0)\n",
    "print(result)\n",
    "# 출력: [[1 2 3]]\n",
    "print(result.shape)\n",
    "# 출력: (1, 3)\n"
   ]
  },
  {
   "cell_type": "code",
   "execution_count": null,
   "id": "d37d6c9b-e773-4a72-abc1-044681ee6eee",
   "metadata": {},
   "outputs": [],
   "source": []
  },
  {
   "cell_type": "code",
   "execution_count": null,
   "id": "098c2590-c340-4bc8-9640-1dd27fddf3fc",
   "metadata": {},
   "outputs": [],
   "source": []
  },
  {
   "cell_type": "code",
   "execution_count": null,
   "id": "7cfb09e1-62b3-45bd-8cfc-53af0cea72c5",
   "metadata": {},
   "outputs": [],
   "source": []
  },
  {
   "cell_type": "code",
   "execution_count": null,
   "id": "8a6fb01f-f9b7-495f-847e-b344b27fb38b",
   "metadata": {},
   "outputs": [],
   "source": []
  },
  {
   "cell_type": "code",
   "execution_count": null,
   "id": "13b39e1c-8f73-46b1-b1b5-955bde4bc598",
   "metadata": {},
   "outputs": [],
   "source": []
  },
  {
   "cell_type": "code",
   "execution_count": null,
   "id": "89a64e65-1192-413b-95af-50862bbd8a43",
   "metadata": {},
   "outputs": [],
   "source": []
  },
  {
   "cell_type": "code",
   "execution_count": null,
   "id": "c1b72d8c-6924-4cee-9386-4cd9bae97c22",
   "metadata": {},
   "outputs": [],
   "source": []
  },
  {
   "cell_type": "code",
   "execution_count": null,
   "id": "9c5da2d9-6974-4128-9979-05b1edae769f",
   "metadata": {},
   "outputs": [],
   "source": []
  },
  {
   "cell_type": "code",
   "execution_count": null,
   "id": "85d470ca-3be3-4b0e-a33d-c2e47d797430",
   "metadata": {},
   "outputs": [],
   "source": []
  },
  {
   "cell_type": "code",
   "execution_count": null,
   "id": "5c5b2e3a-0753-4a0c-a99f-1ea655f19519",
   "metadata": {},
   "outputs": [],
   "source": []
  }
 ],
 "metadata": {
  "kernelspec": {
   "display_name": "Python 3 (ipykernel)",
   "language": "python",
   "name": "python3"
  },
  "language_info": {
   "codemirror_mode": {
    "name": "ipython",
    "version": 3
   },
   "file_extension": ".py",
   "mimetype": "text/x-python",
   "name": "python",
   "nbconvert_exporter": "python",
   "pygments_lexer": "ipython3",
   "version": "3.10.11"
  }
 },
 "nbformat": 4,
 "nbformat_minor": 5
}
