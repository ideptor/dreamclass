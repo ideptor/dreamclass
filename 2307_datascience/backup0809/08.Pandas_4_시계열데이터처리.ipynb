{
 "cells": [
  {
   "cell_type": "markdown",
   "id": "d74ff632-7aa6-4077-b97c-c455d5097b03",
   "metadata": {},
   "source": [
    "# Pandas 시계열 데이터 처리\n",
    "\n",
    "파이썬의 날짜 및 시간 관련 객체\n",
    "| 클래스 | 내용|\n",
    "|--|--|\n",
    "|datetime.date | 그레고리력으로 날짜를 다룹니다. (year, month, day) |\n",
    "|datetime.time | 특정일과 관련없이 모든 날(day)을 24x60x60초로 다루는 시간입니다. (hour, minute, second, microsecond, tzinfo)|\n",
    "|datetime.datetime | 날짜와 시간의 조합입니다. (year, month, day, hour, minute, second, microsecond, tzinfo) |\n",
    "|datetime.timedelta | date인스턴스간, time인스턴스간, 또는 datetime 인스턴스간의 차이를 microsecond 로 나타내는 기간입니다.|\n",
    "|datetime.tzinfo | 시간대 정보 객체에 대한 추상 기본 클래스로서 사용자 정의로 시간을 조정하기 위해 사용됩니다.|\n",
    "|datetime.timezone| UTC (Universal Time Coordinated) 의 고정 오프셋으로 tzinfo를 실행하는 클래스입니다.|"
   ]
  },
  {
   "cell_type": "code",
   "execution_count": null,
   "id": "ca190c55-919f-4732-a8ff-eb3741b18cd7",
   "metadata": {},
   "outputs": [],
   "source": [
    "from datetime import datetime, date, time, timedelta\n",
    "\n",
    "# 현재 날짜와 시간 가져오기\n",
    "current_datetime = datetime.now()\n",
    "print(\"현재 날짜와 시간:\", current_datetime)\n",
    "\n"
   ]
  },
  {
   "cell_type": "code",
   "execution_count": null,
   "id": "eac65ece-98b9-4b8c-9fcc-5b172fe744b8",
   "metadata": {},
   "outputs": [],
   "source": [
    "\n",
    "# 날짜와 시간 구성하기\n",
    "custom_datetime = datetime(2023, 8, 7, 15, 30, 0)\n",
    "print(\"사용자 정의 날짜와 시간:\", custom_datetime)\n",
    "\n",
    "# 날짜 추출하기\n",
    "print(\"년:\", custom_datetime.year)\n",
    "print(\"월:\", custom_datetime.month)\n",
    "print(\"일:\", custom_datetime.day)\n",
    "\n",
    "# 시간 추출하기\n",
    "print(\"시:\", custom_datetime.hour)\n",
    "print(\"분:\", custom_datetime.minute)\n",
    "print(\"초:\", custom_datetime.second)\n",
    "\n"
   ]
  },
  {
   "cell_type": "code",
   "execution_count": null,
   "id": "25611e82-0fa9-4e10-951e-00475cdf72a4",
   "metadata": {},
   "outputs": [],
   "source": [
    "# 날짜와 시간의 차이 계산하기\n",
    "time_difference = current_datetime - custom_datetime\n",
    "print(\"시간 차이:\", time_difference)\n"
   ]
  },
  {
   "cell_type": "code",
   "execution_count": null,
   "id": "91d55e99-81d2-481f-a7d0-71452e1c4ff6",
   "metadata": {},
   "outputs": [],
   "source": [
    "\n",
    "# 특정 시간 간격 더하기\n",
    "future_datetime = current_datetime + timedelta(days=5, hours=3)\n",
    "print(\"5일 3시간 후:\", future_datetime)\n",
    "\n"
   ]
  },
  {
   "cell_type": "markdown",
   "id": "2e40b37e-1139-4a40-b173-d1be836c798f",
   "metadata": {},
   "source": [
    "## strftime, strptime \n",
    "\n",
    "strftime과 strptime은 파이썬의 datetime 모듈에서 날짜와 시간을 문자열로 변환하고 파싱하는 데 사용되는 함수들입니다.\n",
    "\n",
    "### strftime (String Format Time)\n",
    "\n",
    "strftime 함수는 datetime 객체를 원하는 형식의 문자열로 변환하는 데 사용됩니다.\n",
    "포맷 문자열을 사용하여 날짜와 시간을 원하는 형식으로 표현할 수 있습니다.\n",
    "주요 포맷 코드 예시:\n",
    "- `%Y`: 년 (4자리)\n",
    "- `%m`: 월 (2자리)\n",
    "- `%d`: 일 (2자리)\n",
    "- `%H`: 시간 (24시간 형식, 2자리)\n",
    "- `%M`: 분 (2자리)\n",
    "- `%S`: 초 (2자리)"
   ]
  },
  {
   "cell_type": "code",
   "execution_count": 7,
   "id": "90c33b74-d941-463f-856f-44a7d3cf35c7",
   "metadata": {},
   "outputs": [
    {
     "name": "stdout",
     "output_type": "stream",
     "text": [
      "형식화된 날짜: 2023-08-07 10:39:55\n"
     ]
    }
   ],
   "source": [
    "from datetime import datetime\n",
    "\n",
    "current_datetime = datetime.now()\n",
    "formatted_date = current_datetime.strftime(\"%Y-%m-%d %H:%M:%S\")\n",
    "print(\"형식화된 날짜:\", formatted_date)\n"
   ]
  },
  {
   "cell_type": "markdown",
   "id": "67ad9549-f297-4d2f-9f11-54b2a27645d9",
   "metadata": {},
   "source": [
    "### strptime (String Parse Time)\n",
    "\n",
    "strptime 함수는 문자열을 datetime 객체로 파싱(변환)하는 데 사용됩니다.\n",
    "입력된 문자열과 형식 문자열을 비교하여 datetime 객체를 생성합니다.\n",
    "strftime의 포맷 코드와 반대로, 문자열에서 날짜와 시간 정보를 추출합니다."
   ]
  },
  {
   "cell_type": "code",
   "execution_count": 8,
   "id": "5c64a24a-4672-4533-9445-d70116aa36a3",
   "metadata": {},
   "outputs": [
    {
     "name": "stdout",
     "output_type": "stream",
     "text": [
      "파싱된 날짜: 2023-08-07 12:30:00\n"
     ]
    }
   ],
   "source": [
    "from datetime import datetime\n",
    "\n",
    "date_string = \"2023-08-07 12:30:00\"\n",
    "parsed_date = datetime.strptime(date_string, \"%Y-%m-%d %H:%M:%S\")\n",
    "print(\"파싱된 날짜:\", parsed_date)\n"
   ]
  },
  {
   "cell_type": "markdown",
   "id": "17f87cc5-f23f-4682-a8be-814de127ba00",
   "metadata": {},
   "source": [
    "## timestamp\n",
    "\n",
    "datetime 타임스탬프는 특정 날짜와 시간을 고유한 숫자 값으로 나타낸 것을 말합니다.  \n",
    "이 숫자 값은 일반적으로 1970년 1월 1일부터의 경과 시간을 초단위로 표현한 것으로, 이를 \"UNIX 시간\" 또는 \"에포크 시간\"이라고도 합니다.\n",
    "\n",
    "파이썬의 datetime 모듈을 사용하여 날짜와 시간을 다루다보면,  \n",
    "datetime 객체를 특정 시간으로부터의 경과 시간을 나타내는 타임스탬프로 변환하거나,  \n",
    "반대로 타임스탬프를 datetime 객체로 변환하는 작업을 할 수 있습니다."
   ]
  },
  {
   "cell_type": "code",
   "execution_count": 9,
   "id": "0c369274-86d6-4066-9833-dce13b9109f1",
   "metadata": {},
   "outputs": [
    {
     "name": "stdout",
     "output_type": "stream",
     "text": [
      "타임스탬프: 1691471952.160549\n"
     ]
    }
   ],
   "source": [
    "from datetime import datetime\n",
    "\n",
    "# 현재 시간을 datetime 객체로 가져오기\n",
    "current_datetime = datetime.now()\n",
    "\n",
    "# datetime 객체를 타임스탬프로 변환\n",
    "timestamp = current_datetime.timestamp()\n",
    "print(\"타임스탬프:\", timestamp)\n"
   ]
  },
  {
   "cell_type": "code",
   "execution_count": 10,
   "id": "e5ffd337-be1b-439c-83df-f509416ceca7",
   "metadata": {},
   "outputs": [
    {
     "name": "stdout",
     "output_type": "stream",
     "text": [
      "변환된 datetime 객체: 2023-01-24 22:44:50.123456\n"
     ]
    }
   ],
   "source": [
    "from datetime import datetime\n",
    "\n",
    "# 타임스탬프를 datetime 객체로 변환\n",
    "timestamp = 1674567890.123456  # 예시 타임스탬프\n",
    "converted_datetime = datetime.fromtimestamp(timestamp)\n",
    "print(\"변환된 datetime 객체:\", converted_datetime)\n"
   ]
  },
  {
   "cell_type": "code",
   "execution_count": null,
   "id": "7529e154-2459-4b51-92d9-2e59b013502f",
   "metadata": {},
   "outputs": [],
   "source": [
    "from datetime import datetime\n",
    "\n",
    "# 타임스탬프를 datetime 객체로 변환\n",
    "timestamp = 1674567890.123456  # 예시 타임스탬프\n",
    "converted_datetime = datetime.fromtimestamp(timestamp)\n",
    "print(\"변환된 datetime 객체:\", converted_datetime)\n"
   ]
  },
  {
   "cell_type": "markdown",
   "id": "402c6cef-dee3-411b-b1fd-30ab208f6f3d",
   "metadata": {},
   "source": [
    "## Naive vs tz-awre 시간대\n",
    "\"나이브(Naive)\"란 용어는 시간대(timezone) 정보를 갖지 않는 시간 관련 데이터를 가리킵니다. 파이썬의 `datetime` 라이브러리에서는 시간대 정보 없이 날짜와 시간만을 다루는 객체를 \"나이브\"하다고 표현합니다. 즉, \"나이브\"한 `datetime` 객체는 특정한 지역이나 표준 시간대를 고려하지 않습니다.\n",
    "\n",
    "예를 들어, 2023년 8월 15일 10시를 `datetime` 객체로 나타내면 아래와 같습니다:\n",
    "\n",
    "```python\n",
    "import datetime\n",
    "\n",
    "naive_datetime = datetime.datetime(2023, 8, 15, 10, 0)\n",
    "print(naive_datetime)\n",
    "```\n",
    "\n",
    "위의 `naive_datetime` 객체는 시간대 정보를 갖지 않습니다. 이 객체는 로컬 시스템의 기본 시간대를 따르게 됩니다. 이것은 시간대 변경이나 다양한 시간대의 변환을 고려하지 않고 단순히 날짜와 시간 정보를 저장하는 객체입니다.\n",
    "\n",
    "나이브한 `datetime` 객체를 사용할 때 주의해야 할 점은 다음과 같습니다:\n",
    "\n",
    "1. **시간대 변환 문제**: 나이브한 객체를 다른 시간대로 변환하면 부정확한 결과를 얻을 수 있습니다.\n",
    "2. **시간대 정보 손실**: 나이브한 객체는 시간대 정보가 없으므로 다른 시간대에서 언제 발생한 사건인지 파악하기 어려울 수 있습니다.\n",
    "\n",
    "이러한 이유로 시간대를 다루는 경우에는 `datetime` 객체를 \"안전하게(tz-aware)\" 만드는 것이 중요합니다. \"안전한\" `datetime` 객체는 시간대 정보를 포함하며, 시간대 변환 등의 작업을 정확하게 수행할 수 있습니다. 이를 위해서는 `dateutil.tz` 모듈이나 `pytz` 라이브러리 등을 사용하여 `datetime` 객체를 시간대 정보와 함께 생성하고 다루는 것이 좋습니다."
   ]
  },
  {
   "cell_type": "markdown",
   "id": "f4ddac86-4f89-45b6-8b9b-bbd05db098cc",
   "metadata": {},
   "source": [
    "## tzinfo\n",
    "\n",
    "`tzinfo`는 파이썬의 `datetime` 모듈에서 시간대(Time Zone) 정보를 나타내는 추상 기본 클래스(Abstract Base Class)입니다. 이 클래스를 사용하여 `datetime` 객체에 시간대 정보를 추가할 수 있습니다.\n",
    "\n",
    "\n",
    "## pytz \n",
    "\n",
    "`pytz`는 파이썬에서 시간대(Time Zone) 정보를 처리하고 다루는 라이브러리입니다. 파이썬의 내장 `datetime` 모듈은 기본적으로 시간대 정보를 다루는 기능이 제한적이기 때문에, `pytz` 라이브러리는 이를 보완하여 다양한 시간대의 변환과 처리를 지원합니다. `pytz`는 파이썬의 `datetime` 모듈과 함께 사용하여 시간대 정보를 적용한 날짜와 시간을 다루는 작업을 돕는 도구로 사용됩니다.\n",
    "\n",
    "`pytz` 라이브러리의 주요 기능과 특징은 다음과 같습니다:\n",
    "\n",
    "1. 다양한 시간대 지원: `pytz`는 전 세계의 다양한 시간대를 지원합니다. 오래된 시간대부터 최신 시간대까지 포함하고 있어, 다양한 국가와 지역의 시간을 정확하게 다룰 수 있습니다.\n",
    "\n",
    "2. 오프셋과 시간대 이름: `pytz`는 시간대의 오프셋(offset)과 시간대의 이름을 다루는 클래스와 함수를 제공합니다. 이를 통해 시간대 변환 및 연산이 용이해집니다.\n",
    "\n",
    "3. `datetime` 객체와 함께 사용: `pytz`는 `datetime` 모듈과 밀접하게 연동되어 시간대 정보를 가진 `datetime` 객체를 생성하고, 시간대 변환, 비교 등을 할 수 있도록 합니다.\n",
    "\n",
    "4. 데이터베이스 기반 시간대 정보: `pytz`는 Olson 데이터베이스를 기반으로 시간대 정보를 제공합니다. 이 데이터베이스는 전 세계의 시간대 정보를 관리하며, `pytz`는 이 정보를 활용하여 정확한 시간대 처리를 가능케 합니다.  https://en.wikipedia.org/wiki/List_of_tz_database_time_zones\n",
    "\n",
    "5. 유연한 인터페이스: `pytz`는 다양한 시간대 정보를 다루는 데 필요한 유연한 인터페이스를 제공합니다. 시간대 이름, 오프셋, DST(Daylight Saving Time) 등을 조작하고 변환할 수 있습니다.\n"
   ]
  },
  {
   "cell_type": "code",
   "execution_count": 83,
   "id": "6e0e6e72-1a0a-4caf-b340-7a326f89f092",
   "metadata": {},
   "outputs": [
    {
     "name": "stdout",
     "output_type": "stream",
     "text": [
      "Default:  2023-08-07 15:30:00 1691389800.0\n",
      "Seoul:    2023-08-07 15:30:00+09:00 1691389800.0\n",
      "UTC:      2023-08-07 06:30:00+00:00 1691389800.0\n",
      "New York: 2023-08-07 02:30:00-04:00 1691389800.0\n"
     ]
    }
   ],
   "source": [
    "import pytz\n",
    "from datetime import datetime\n",
    "\n",
    "current_datetime = datetime(2023, 8, 7, 15, 30, 0)\n",
    "print(\"Default: \", current_datetime, current_datetime.timestamp())\n",
    "\n",
    "\n",
    "# 서울 시간대 생성\n",
    "seoul_timezone = pytz.timezone('Asia/Seoul')\n",
    "\n",
    "# 현재 서울 시간 가져오기\n",
    "seoul_datetime = current_datetime.astimezone(seoul_timezone)\n",
    "print(\"Seoul:   \", seoul_datetime, seoul_datetime.timestamp())\n",
    "\n",
    "# UTC로 변환\n",
    "utc_datetime = current_datetime.astimezone(pytz.UTC)\n",
    "print(\"UTC:     \", utc_datetime, utc_datetime.timestamp())\n",
    "\n",
    "# 뉴욕 시간으로 변환\n",
    "new_york_timezone = pytz.timezone('America/New_York')\n",
    "ny_datetime = current_datetime.astimezone(new_york_timezone)\n",
    "print(\"New York:\", ny_datetime, ny_datetime.timestamp())\n"
   ]
  },
  {
   "cell_type": "code",
   "execution_count": 81,
   "id": "963d93ed-2899-48b4-9cf1-a6b84deacb63",
   "metadata": {},
   "outputs": [
    {
     "name": "stdout",
     "output_type": "stream",
     "text": [
      "사용 가능한 모든 시간대: 596 ['Africa/Abidjan', 'Africa/Accra', 'Africa/Addis_Ababa', 'Africa/Algiers', 'Africa/Asmara', 'Africa/Asmera', 'Africa/Bamako', 'Africa/Bangui', 'Africa/Banjul', 'Africa/Bissau']\n",
      "일반적으로 사용되는 시간대: 433 ['Africa/Abidjan', 'Africa/Accra', 'Africa/Addis_Ababa', 'Africa/Algiers', 'Africa/Asmara', 'Africa/Bamako', 'Africa/Bangui', 'Africa/Banjul', 'Africa/Bissau', 'Africa/Blantyre']\n"
     ]
    }
   ],
   "source": [
    "# 사용 가능한 모든 시간대 출력\n",
    "all_timezones = pytz.all_timezones\n",
    "print(\"사용 가능한 모든 시간대:\", len(all_timezones), all_timezones[:10])\n",
    "\n",
    "# 일반적으로 사용되는 시간대 출력\n",
    "common_timezones = pytz.common_timezones\n",
    "print(\"일반적으로 사용되는 시간대:\", len(common_timezones), common_timezones[:10])"
   ]
  },
  {
   "cell_type": "markdown",
   "id": "32e6434f-d433-4842-ba16-2cbc61c246e5",
   "metadata": {},
   "source": [
    "## timedelta\n",
    "\n",
    "`timedelta`는 파이썬의 내장 모듈인 `datetime`에서 제공하는 클래스로, 두 날짜 또는 시간 사이의 시간 간격을 나타내는 데 사용됩니다.  \n",
    "`timedelta` 객체는 일(day), 초(second), 마이크로초(microsecond) 등의 시간 단위로 간격을 표현할 수 있습니다.  \n",
    "주로 날짜와 시간 연산에서 일정 기간을 더하거나 빼는 등의 작업에 활용됩니다.\n",
    "\n",
    "`timedelta` 객체의 생성자는 다음과 같이 사용됩니다:\n",
    "\n",
    "```python\n",
    "from datetime import timedelta\n",
    "\n",
    "# 일(day), 초(second), 마이크로초(microsecond) 단위로 간격 생성\n",
    "time_gap = timedelta(days=5, seconds=3600, microseconds=5000)\n",
    "```\n",
    "\n",
    "`timedelta` 객체의 주요 속성과 메서드는 다음과 같습니다:\n",
    "\n",
    "1. `days`: 일(day) 단위의 간격을 나타내는 속성입니다.\n",
    "2. `seconds`: 초(second) 단위의 간격을 나타내는 속성입니다.\n",
    "3. `microseconds`: 마이크로초(microsecond) 단위의 간격을 나타내는 속성입니다.\n",
    "4. `total_seconds()`: `timedelta` 객체의 총 초(second) 수를 반환하는 메서드입니다.\n",
    "\n",
    "`timedelta` 객체는 `datetime` 객체와 함께 사용하여 시간 연산을 수행할 때 유용합니다."
   ]
  },
  {
   "cell_type": "code",
   "execution_count": 1,
   "id": "21a44e3d-beac-4714-9e68-e292530919a5",
   "metadata": {},
   "outputs": [
    {
     "name": "stdout",
     "output_type": "stream",
     "text": [
      "2일 후: 2023-08-09 16:48:33.623544\n",
      "3시간 30분 후: 2023-08-07 20:18:33.623544\n",
      "두 날짜 사이의 일수: 9\n"
     ]
    }
   ],
   "source": [
    "from datetime import datetime, timedelta\n",
    "\n",
    "# 현재 날짜와 시간 가져오기\n",
    "current_datetime = datetime.now()\n",
    "\n",
    "\n",
    "\n",
    "\n"
   ]
  },
  {
   "cell_type": "code",
   "execution_count": null,
   "id": "c1ae04a4-9877-4798-a370-3b3682cbac92",
   "metadata": {},
   "outputs": [],
   "source": [
    "\n",
    "# 2일 후의 날짜 계산\n",
    "two_days_later = current_datetime + timedelta(days=2)\n",
    "print(\"2일 후:\", two_days_later)"
   ]
  },
  {
   "cell_type": "code",
   "execution_count": null,
   "id": "55847a8b-04f9-4e06-be99-8506769804e3",
   "metadata": {},
   "outputs": [],
   "source": [
    "# 3시간 30분 후의 시간 계산\n",
    "time_gap = timedelta(hours=3, minutes=30)\n",
    "future_time = current_datetime + time_gap\n",
    "print(\"3시간 30분 후:\", future_time)"
   ]
  },
  {
   "cell_type": "code",
   "execution_count": null,
   "id": "cf404c78-4c60-4358-bf46-21366ac56ecc",
   "metadata": {},
   "outputs": [],
   "source": [
    "\n",
    "# 두 날짜 사이의 일수 계산\n",
    "date1 = datetime(2023, 8, 1)\n",
    "date2 = datetime(2023, 8, 10)\n",
    "days_between = (date2 - date1).days\n",
    "print(\"두 날짜 사이의 일수:\", days_between)"
   ]
  },
  {
   "cell_type": "markdown",
   "id": "183abc9d-3d39-413d-a5f5-7be89591b7dd",
   "metadata": {},
   "source": [
    "# pandas 의 시계열 데이터 처리\n",
    "\n",
    "## to_datetime()\n",
    "`pandas`의 `to_datetime` 함수는 문자열이나 숫자 등의 다양한 형식의 입력을 받아  \n",
    "`DatetimeIndex` 또는 `Timestamp` 객체로 변환하는 기능을 제공하는 함수입니다.  \n",
    "이 함수를 사용하면 날짜와 시간 데이터를 처리하고 `pandas`에서 다양한 시간 관련 작업을 수행할 수 있습니다.\n",
    "\n",
    "`to_datetime` 함수의 주요 기능과 사용법은 다음과 같습니다:\n",
    "\n",
    "1. **문자열을 날짜로 변환**: `to_datetime` 함수는 문자열을 날짜 또는 시간 형식으로 변환할 수 있습니다. 이 때, 문자열의 형식을 지정할 수 있습니다.\n",
    "\n",
    "2. **숫자나 문자열을 타임스탬프로 변환**: `to_datetime` 함수는 숫자나 문자열을 `Timestamp` 객체로 변환할 수 있습니다.\n",
    "\n",
    "3. **시계열 데이터 변환**: `to_datetime` 함수는 데이터프레임의 열이나 시리즈를 변환할 수 있습니다. 이 때, 컬럼의 이름이나 인덱스를 지정하여 변환할 수 있습니다.\n",
    "\n",
    "4. **옵션 설정**: `to_datetime` 함수는 다양한 옵션을 설정하여 날짜 형식을 조정하거나 누락된 데이터 처리를 할 수 있습니다.\n"
   ]
  },
  {
   "cell_type": "code",
   "execution_count": 5,
   "id": "9f2c3279-7832-4ceb-9ac9-512942168dc5",
   "metadata": {},
   "outputs": [
    {
     "name": "stdout",
     "output_type": "stream",
     "text": [
      "날짜 객체: 2023-08-07 00:00:00\n"
     ]
    }
   ],
   "source": [
    "\n",
    "import pandas as pd\n",
    "\n",
    "# 문자열을 날짜로 변환\n",
    "date_str = '2023-08-07'\n",
    "date_obj = pd.to_datetime(date_str)\n",
    "print(\"날짜 객체:\", date_obj)\n",
    "\n"
   ]
  },
  {
   "cell_type": "code",
   "execution_count": 6,
   "id": "c7b0c893-0ddd-45dc-991d-dfff7a3182ca",
   "metadata": {},
   "outputs": [
    {
     "name": "stdout",
     "output_type": "stream",
     "text": [
      "타임스탬프: 2023-03-15 09:46:40\n"
     ]
    }
   ],
   "source": [
    "# 숫자를 타임스탬프로 변환\n",
    "timestamp = pd.to_datetime(1678873600, unit='s')  # 유닉스 타임스탬프\n",
    "print(\"타임스탬프:\", timestamp)\n",
    "\n"
   ]
  },
  {
   "cell_type": "code",
   "execution_count": 66,
   "id": "ff9bbc8b-de57-420a-9fc4-0ebe6d25eef9",
   "metadata": {},
   "outputs": [
    {
     "name": "stdout",
     "output_type": "stream",
     "text": [
      "             Datetime  value\n",
      "0 2021-08-07 01:20:00     11\n",
      "1 2021-08-08 01:20:00     13\n",
      "2 2021-08-09 01:20:00     19\n",
      "3 2021-08-10 01:20:00     16\n"
     ]
    }
   ],
   "source": [
    "import pandas as pd\n",
    "\n",
    "# 유닉스 에포크 시간 배열 생성\n",
    "unix_epoch_times = [1628299200, 1628385600, 1628472000, 1628558400]\n",
    "\n",
    "# 유닉스 에포크 시간 배열을 DatetimeIndex로 변환\n",
    "datetime_index = pd.to_datetime(unix_epoch_times, unit='s')\n",
    "df = pd.DataFrame(\n",
    "    dict(\n",
    "        Datetime=datetime_index, \n",
    "        value=np.random.randint(10,20,len(datetime_index))\n",
    "    )\n",
    ")\n",
    "print(df)\n"
   ]
  },
  {
   "cell_type": "code",
   "execution_count": null,
   "id": "c0f5e121-dd37-4464-ac43-570beedea1ea",
   "metadata": {},
   "outputs": [],
   "source": []
  },
  {
   "cell_type": "code",
   "execution_count": 67,
   "id": "b9ae8279-8bf5-48d7-9114-cf2d10e66c4a",
   "metadata": {},
   "outputs": [
    {
     "name": "stdout",
     "output_type": "stream",
     "text": [
      "변환된 시리즈:\n",
      " 0   2023-08-01\n",
      "1   2023-08-02\n",
      "2   2023-08-03\n",
      "dtype: datetime64[ns]\n"
     ]
    }
   ],
   "source": [
    "# 시리즈 변환\n",
    "data = ['2023-08-01', '2023-08-02', '2023-08-03']\n",
    "date_series = pd.Series(data)\n",
    "converted_series = pd.to_datetime(date_series)\n",
    "print(\"변환된 시리즈:\\n\", converted_series)\n"
   ]
  },
  {
   "cell_type": "code",
   "execution_count": 68,
   "id": "772eeac9-8931-46e0-a312-f955d16ae1a0",
   "metadata": {},
   "outputs": [
    {
     "name": "stdout",
     "output_type": "stream",
     "text": [
      "변환된 데이터프레임:\n",
      "         Date  Value\n",
      "0 2023-08-01     10\n",
      "1 2023-08-02     20\n",
      "2 2023-08-03     30\n"
     ]
    }
   ],
   "source": [
    "\n",
    "# 데이터프레임 변환\n",
    "data = {'Date': ['2023-08-01', '2023-08-02', '2023-08-03'],\n",
    "        'Value': [10, 20, 30]}\n",
    "df = pd.DataFrame(data)\n",
    "df['Date'] = pd.to_datetime(df['Date'])\n",
    "print(\"변환된 데이터프레임:\\n\", df)"
   ]
  },
  {
   "cell_type": "markdown",
   "id": "093a3b9d-4a40-46f3-b315-120374940926",
   "metadata": {},
   "source": [
    "## pandas에서 datetime 활용\n",
    "\n",
    "`pandas`에서 `datetime` 객체는 시계열 데이터와 날짜, 시간 정보를 표현하고 다루는 데 사용되는 중요한 데이터 유형입니다.  \n",
    "`datetime` 객체는 `pandas` 라이브러리에서 시간 관련 연산과 분석을 수행하는 데 필수적인 도구로 사용됩니다.  \n",
    "객체는 시계열 데이터를 생성하고 다루는 데 중요한 역할을 합니다.\n",
    "\n",
    "`pandas`에서 활용하는 `datetime` 객체의 주요 특징과 기능은 다음과 같습니다:\n",
    "\n",
    "1. **DatetimeIndex**: `pandas`에서 시계열 데이터를 다룰 때, `datetime` 객체는 `DatetimeIndex`의 요소로 사용됩니다. `DatetimeIndex`는 날짜와 시간을 색인으로 사용하는 데 특화된 데이터 구조입니다.\n",
    "\n",
    "2. **날짜와 시간 표현**: `datetime` 객체는 날짜와 시간 정보를 모두 포함하며, 연도, 월, 일, 시, 분, 초, 마이크로초 등을 표현할 수 있습니다.\n",
    "\n",
    "3. **시간 연산 및 변환**: `datetime` 객체는 시간 간격을 계산하거나 다른 시간 단위로 변환하는 기능을 제공합니다. 또한 시간대 변환과 관련된 작업도 처리할 수 있습니다.\n",
    "\n",
    "4. **표준 연산 및 함수 지원**: `datetime` 객체는 일반적인 연산자와 함수를 사용하여 시간 관련 작업을 수행할 수 있습니다. 예를 들어, 두 날짜의 차이를 계산하거나 특정 날짜와 시간을 생성하는 등의 작업이 가능합니다.\n",
    "\n",
    "5. **누락된 데이터 처리**: `pandas`의 `datetime` 객체는 누락된 날짜나 시간 데이터를 처리하고 채울 수 있는 기능을 제공합니다.\n",
    "\n",
    "6. **시각화 및 시계열 분석**: `datetime` 객체를 사용하여 시계열 데이터를 시각화하고 분석하는데 활용할 수 있습니다. `pandas`와 `matplotlib`을 연동하여 시계열 데이터를 그래프로 표현할 수 있습니다.\n"
   ]
  },
  {
   "cell_type": "markdown",
   "id": "3901e303-1897-4397-b372-0faa67710430",
   "metadata": {},
   "source": [
    "## date_range()\n",
    "\n",
    "`pd.date_range()`는 `pandas` 라이브러리에서 사용되는 함수로, 날짜 범위를 생성하는데 사용됩니다.  \n",
    "이 함수를 사용하면 특정 기간 동안 일정한 간격으로 날짜를 생성하여 `DatetimeIndex`를 생성할 수 있습니다.  \n",
    "이는 시계열 데이터를 다루거나 분석할 때 유용하게 활용됩니다.\n",
    "\n",
    "`pd.date_range()` 함수의 주요 인자와 사용법은 다음과 같습니다:\n",
    "\n",
    "1. `start`: 날짜 범위의 시작 날짜를 지정합니다. 날짜 형식으로 입력할 수 있습니다.\n",
    "2. `end`: 날짜 범위의 종료 날짜를 지정합니다. 날짜 형식으로 입력할 수 있습니다.\n",
    "3. `periods`: 생성할 날짜의 수를 지정합니다. `start`가 있을 경우 `end` 대신에 이 인자를 사용할 수 있습니다.\n",
    "4. `freq`: 생성할 날짜의 간격을 지정합니다. 예를 들어, 'D'는 일간격, 'H'는 시간 간격을 나타냅니다.\n",
    "5. `normalize`: 기본값은 False이며, True로 설정하면 시간을 00:00:00으로 정규화합니다.\n",
    "\n"
   ]
  },
  {
   "cell_type": "code",
   "execution_count": 69,
   "id": "915fc799-70f3-4dde-8909-345325ffe204",
   "metadata": {},
   "outputs": [
    {
     "name": "stdout",
     "output_type": "stream",
     "text": [
      "시간 범위:\n",
      " DatetimeIndex(['2023-01-01 09:00:00', '2023-01-01 10:00:00',\n",
      "               '2023-01-01 11:00:00', '2023-01-01 12:00:00',\n",
      "               '2023-01-01 13:00:00', '2023-01-01 14:00:00',\n",
      "               '2023-01-01 15:00:00', '2023-01-01 16:00:00',\n",
      "               '2023-01-01 17:00:00', '2023-01-01 18:00:00',\n",
      "               '2023-01-01 19:00:00', '2023-01-01 20:00:00',\n",
      "               '2023-01-01 21:00:00', '2023-01-01 22:00:00',\n",
      "               '2023-01-01 23:00:00', '2023-01-02 00:00:00',\n",
      "               '2023-01-02 01:00:00', '2023-01-02 02:00:00'],\n",
      "              dtype='datetime64[ns]', freq='H')\n"
     ]
    }
   ],
   "source": [
    "\n",
    "import pandas as pd\n",
    "\n",
    "# 날짜 범위 생성: 2023년 1월 1일부터 2023년 1월 10일까지\n",
    "date_rng = pd.date_range(start='2023-01-01 09:00', end='2023-01-02 02:00', freq='H')\n",
    "print(\"시간 범위:\\n\", date_rng)\n"
   ]
  },
  {
   "cell_type": "code",
   "execution_count": 70,
   "id": "73646e43-56c8-4806-a4fa-32c1e9a0933b",
   "metadata": {},
   "outputs": [
    {
     "name": "stdout",
     "output_type": "stream",
     "text": [
      "일간격 날짜 범위:\n",
      " DatetimeIndex(['2023-01-01', '2023-01-02', '2023-01-03', '2023-01-04',\n",
      "               '2023-01-05', '2023-01-06', '2023-01-07', '2023-01-08',\n",
      "               '2023-01-09', '2023-01-10'],\n",
      "              dtype='datetime64[ns]', freq='D')\n"
     ]
    }
   ],
   "source": [
    "\n",
    "# 날짜 범위 생성: 2023년 1월 1일부터 2023년 1월 10일까지, 일간격\n",
    "daily_rng = pd.date_range(start='2023-01-01', end='2023-01-10', freq='D')\n",
    "print(\"일간격 날짜 범위:\\n\", daily_rng)\n",
    "\n"
   ]
  },
  {
   "cell_type": "code",
   "execution_count": 71,
   "id": "8139b203-84af-4db7-a6c5-0a1ac7c2d912",
   "metadata": {},
   "outputs": [
    {
     "name": "stdout",
     "output_type": "stream",
     "text": [
      "일간격 날짜 범위:\n",
      " DatetimeIndex(['2023-01-01', '2023-01-02', '2023-01-03', '2023-01-04',\n",
      "               '2023-01-05', '2023-01-06', '2023-01-07', '2023-01-08',\n",
      "               '2023-01-09', '2023-01-10'],\n",
      "              dtype='datetime64[ns]', freq='D')\n"
     ]
    }
   ],
   "source": [
    "\n",
    "# 날짜 범위 생성: 2023년 1월 1일부터 2023년 1월 10일까지, 일간격\n",
    "daily_rng = pd.date_range(start='2023-01-01', periods=10, freq='D')\n",
    "print(\"일간격 날짜 범위:\\n\", daily_rng)\n",
    "\n"
   ]
  },
  {
   "cell_type": "code",
   "execution_count": 72,
   "id": "dcefebfa-909f-449f-b8e5-7a3dc1ad91a1",
   "metadata": {},
   "outputs": [
    {
     "name": "stdout",
     "output_type": "stream",
     "text": [
      "월간격 날짜 범위:\n",
      " DatetimeIndex(['2023-01-31', '2023-02-28', '2023-03-31', '2023-04-30',\n",
      "               '2023-05-31', '2023-06-30', '2023-07-31', '2023-08-31',\n",
      "               '2023-09-30', '2023-10-31', '2023-11-30', '2023-12-31'],\n",
      "              dtype='datetime64[ns]', freq='M')\n"
     ]
    }
   ],
   "source": [
    "# 날짜 범위 생성: 2023년 1월 1일부터 2023년 12월 31일까지, 월간격\n",
    "monthly_rng = pd.date_range(start='2023-01-01', end='2023-12-31', freq='M')\n",
    "print(\"월간격 날짜 범위:\\n\", monthly_rng)"
   ]
  },
  {
   "cell_type": "markdown",
   "id": "b6d52d53-043b-47bd-8e6d-1084f07815e9",
   "metadata": {},
   "source": [
    "## DatetimeIndex\n",
    "\n",
    "`DatetimeIndex`는 `pandas` 라이브러리에서 시계열 데이터를 다루는 데 사용되는 중요한 데이터 구조 중 하나입니다.  \n",
    "이는 날짜와 시간 정보를 포함하는 인덱스(Index)로서, 데이터프레임이나 시리즈의 행을 식별하는 데 활용됩니다.  \n",
    "`DatetimeIndex`는 시계열 데이터를 쉽게 조작하고 분석하는데 매우 유용합니다.\n",
    "\n",
    "`DatetimeIndex`의 주요 특징과 기능은 다음과 같습니다:\n",
    "\n",
    "1. **시계열 데이터와 연동**: `DatetimeIndex`는 시계열 데이터를 다루는 데 최적화된 구조입니다. 시계열 데이터를 데이터프레임이나 시리즈와 함께 사용할 때, 인덱스로 `DatetimeIndex`를 사용하면 데이터를 날짜와 시간에 기반하여 쉽게 필터링하거나 조작할 수 있습니다.\n",
    "\n",
    "2. **데이터 선택 및 슬라이싱**: `DatetimeIndex`를 사용하면 날짜 범위를 기반으로 데이터를 선택하거나 슬라이싱하는 작업을 쉽게 수행할 수 있습니다. 원하는 날짜 범위 내의 데이터를 추출하거나 필터링하는데 용이합니다.\n",
    "\n",
    "3. **데이터 리샘플링**: `DatetimeIndex`는 시계열 데이터의 리샘플링 작업을 지원합니다. 데이터를 주기적으로 묶어서 집계하거나 변환하는 작업을 할 때 유용합니다.\n",
    "\n",
    "4. **시간 간격 연산**: `DatetimeIndex`를 사용하여 시간 간격을 계산하거나 다른 시간 단위로 변환하는 작업을 수행할 수 있습니다.\n",
    "\n",
    "5. **데이터 정렬**: `DatetimeIndex`는 날짜와 시간에 기반하여 데이터를 정렬하는 데 사용됩니다. 데이터를 시간순으로 정렬할 수 있습니다.\n",
    "\n"
   ]
  },
  {
   "cell_type": "code",
   "execution_count": 73,
   "id": "46a2d528-4e5c-4313-b0a4-e078eb4f2064",
   "metadata": {},
   "outputs": [],
   "source": [
    "import pandas as pd\n",
    "import numpy as np\n",
    "\n",
    "data = np.random.randint(0,12,24)\n",
    "\n",
    "# 날짜 범위 생성\n",
    "date_rng = pd.date_range(start='2023-01-31 18:00', periods=len(data), freq=\"H\")\n",
    "\n",
    "# 시계열 데이터 생성\n",
    "time_series = pd.Series(data, index=date_rng)\n",
    "\n",
    "# 데이터프레임 생성\n",
    "df = pd.DataFrame({'Value': time_series})\n"
   ]
  },
  {
   "cell_type": "code",
   "execution_count": 74,
   "id": "5b63eeda-6587-4816-9c04-120754a2bad9",
   "metadata": {},
   "outputs": [
    {
     "name": "stdout",
     "output_type": "stream",
     "text": [
      "선택된 범위:\n",
      "                      Value\n",
      "2023-01-31 23:00:00     10\n",
      "2023-02-01 00:00:00     10\n",
      "2023-02-01 01:00:00      2\n",
      "2023-02-01 02:00:00     10\n"
     ]
    }
   ],
   "source": [
    "\n",
    "# 특정 날짜 범위 선택\n",
    "selected_range = df['2023-01-31 23:00':'2023-02-01 02:00']\n",
    "print(\"선택된 범위:\\n\", selected_range)\n"
   ]
  },
  {
   "cell_type": "code",
   "execution_count": 75,
   "id": "557f2758-af76-46a2-981e-0cc5b1070537",
   "metadata": {},
   "outputs": [
    {
     "name": "stdout",
     "output_type": "stream",
     "text": [
      "선택된 날짜의 데이터:\n",
      "                      Value\n",
      "2023-01-31 23:00:00     10\n",
      "2023-02-01 00:00:00     10\n",
      "2023-02-01 01:00:00      2\n",
      "2023-02-01 02:00:00     10\n"
     ]
    }
   ],
   "source": [
    "\n",
    "# 특정 날짜 범위 선택\n",
    "selected_date = df[datetime(2023,1,31,23):datetime(2023,2,1,2)]\n",
    "print(\"선택된 날짜의 데이터:\\n\", selected_date)\n"
   ]
  },
  {
   "cell_type": "code",
   "execution_count": 76,
   "id": "4775aae2-458c-4db8-9e8f-83eb7b42acb9",
   "metadata": {},
   "outputs": [
    {
     "name": "stdout",
     "output_type": "stream",
     "text": [
      "선택된 날짜의 데이터:\n",
      "                      Value\n",
      "2023-01-31 18:00:00      4\n",
      "2023-01-31 19:00:00      1\n",
      "2023-01-31 20:00:00      9\n",
      "2023-01-31 21:00:00      7\n",
      "2023-01-31 22:00:00      5\n",
      "2023-01-31 23:00:00     10\n"
     ]
    }
   ],
   "source": [
    "# 특정 날짜 선택\n",
    "selected_date = df.loc['2023-01-31']\n",
    "print(\"선택된 날짜의 데이터:\\n\", selected_date)\n"
   ]
  },
  {
   "cell_type": "code",
   "execution_count": 77,
   "id": "154248bc-2ea8-43ea-81e6-8d1120ff7845",
   "metadata": {},
   "outputs": [
    {
     "name": "stdout",
     "output_type": "stream",
     "text": [
      "선택된 날짜의 데이터:\n",
      "                      Value\n",
      "2023-02-01 00:00:00     10\n",
      "2023-02-01 01:00:00      2\n",
      "2023-02-01 02:00:00     10\n",
      "2023-02-01 03:00:00      4\n",
      "2023-02-01 04:00:00      1\n",
      "2023-02-01 05:00:00      1\n",
      "2023-02-01 06:00:00      8\n",
      "2023-02-01 07:00:00      2\n",
      "2023-02-01 08:00:00      4\n",
      "2023-02-01 09:00:00      7\n",
      "2023-02-01 10:00:00      5\n",
      "2023-02-01 11:00:00      3\n",
      "2023-02-01 12:00:00      1\n",
      "2023-02-01 13:00:00      9\n",
      "2023-02-01 14:00:00      1\n",
      "2023-02-01 15:00:00     10\n",
      "2023-02-01 16:00:00     10\n",
      "2023-02-01 17:00:00      6\n"
     ]
    }
   ],
   "source": [
    "# 특정 월 선택\n",
    "selected_date = df.loc['2023-02']\n",
    "print(\"선택된 날짜의 데이터:\\n\", selected_date)\n"
   ]
  },
  {
   "cell_type": "markdown",
   "id": "4749fa1e-6209-41d5-b689-de210b99b4bf",
   "metadata": {},
   "source": [
    "## resampling()\n",
    "\n",
    "`pandas`의 리샘플링(resampling)은 시계열 데이터의 주기를 변경하는 작업을 말합니다. 이는 원본 시계열 데이터의 간격을 더 큰 주기로 변환하거나 더 작은 주기로 세분화하는 작업을 의미합니다. 리샘플링은 시계열 데이터를 분석하거나 시각화할 때 유용하며, 데이터의 집계나 변환 작업을 수행하는데 활용됩니다.\n",
    "\n",
    "`pandas`에서 리샘플링은 `resample()` 메서드를 사용하여 수행할 수 있습니다. 이 메서드는 원하는 리샘플링 주기를 지정하고, 해당 주기로 데이터를 집계하거나 변환하는 작업을 수행합니다.\n",
    "\n",
    "`resample()` 메서드의 주요 인자와 사용법은 다음과 같습니다:\n",
    "\n",
    "1. `rule`: 리샘플링할 주기를 지정합니다. 예를 들어, 'D'는 일간격, 'M'은 월간격을 의미합니다.\n",
    "2. `how`: 집계 방법을 지정합니다. 'mean', 'sum', 'count' 등이 가능합니다.\n",
    "3. `closed`: 리샘플된 구간의 어느 쪽을 포함할지 지정합니다. 'right', 'left', 'both', 'neither' 중 선택할 수 있습니다.\n",
    "4. `label`: 리샘플된 구간의 레이블을 지정합니다. 'right', 'left' 중 선택할 수 있습니다.\n",
    "\n",
    "\n"
   ]
  },
  {
   "cell_type": "code",
   "execution_count": 78,
   "id": "3192ce60-11e1-4b8b-b4a7-90bb2dca516e",
   "metadata": {},
   "outputs": [],
   "source": [
    "import pandas as pd\n",
    "import numpy as np\n",
    "\n",
    "# 날짜 범위 생성\n",
    "date_rng = pd.date_range(start='2023-01-01', end='2023-01-31', freq='D')\n",
    "\n",
    "# 시계열 데이터 생성\n",
    "df = pd.DataFrame(np.random.randn(len(date_rng)), index=date_rng)\n",
    "\n",
    "\n"
   ]
  },
  {
   "cell_type": "code",
   "execution_count": 79,
   "id": "34d8abff-fbbe-420f-9792-7b5cc5a5a767",
   "metadata": {},
   "outputs": [
    {
     "name": "stdout",
     "output_type": "stream",
     "text": [
      "월간 평균 리샘플링:\n",
      "                    0\n",
      "2023-01-31 -0.187333\n"
     ]
    }
   ],
   "source": [
    "# 월간 평균 리샘플링\n",
    "monthly_mean = df.resample('M').mean()\n",
    "print(\"월간 평균 리샘플링:\\n\", monthly_mean)\n",
    "\n"
   ]
  },
  {
   "cell_type": "code",
   "execution_count": 80,
   "id": "433e3c76-b332-4a8b-b942-6ec24e1cbf1b",
   "metadata": {},
   "outputs": [
    {
     "name": "stdout",
     "output_type": "stream",
     "text": [
      "주간 합 리샘플링:\n",
      "                    0\n",
      "2023-01-01 -0.648023\n",
      "2023-01-08 -0.824695\n",
      "2023-01-15 -2.647201\n",
      "2023-01-22 -1.216872\n",
      "2023-01-29 -3.513120\n",
      "2023-02-05  3.042595\n"
     ]
    }
   ],
   "source": [
    "# 주간 합 리샘플링\n",
    "weekly_sum = df.resample('W').sum()\n",
    "print(\"주간 합 리샘플링:\\n\", weekly_sum)"
   ]
  },
  {
   "cell_type": "markdown",
   "id": "c02dc1a0-2583-4f73-82c5-0460025f4e12",
   "metadata": {},
   "source": [
    "# DateOffset 객체\n",
    "\n",
    "판다스에서 날짜 오프셋(Date Offset)은 시계열 데이터를 다룰 때 날짜와 시간을 조작하고 오프셋을 적용하는데 사용되는 도구입니다.  \n",
    "날짜 오프셋은 특정 주기나 간격에 따라 날짜와 시간을 조정하는 기능을 제공하여  \n",
    "데이터 분석과 시계열 데이터 처리를 보다 효과적으로 수행할 수 있도록 도와줍니다.  \n",
    "주요 날짜 오프셋은 다음과 같습니다:\n",
    "\n",
    "1. **Day, BusinessDay**: 날짜를 일(day) 단위로 이동시키는 오프셋입니다. `pd.DateOffset(days=n)`와 같이 사용합니다. `BusinessDay`는 주말과 공휴일을 제외하고 이동합니다.\n",
    "\n",
    "2. **Week**: 주(week) 단위로 날짜를 이동시키는 오프셋입니다. `pd.DateOffset(weeks=n)`와 같이 사용합니다.\n",
    "\n",
    "3. **Month, Year**: 월(month)과 년(year) 단위로 날짜를 이동시키는 오프셋입니다. `pd.DateOffset(months=n)`와 `pd.DateOffset(years=n)`와 같이 사용합니다.\n",
    "\n",
    "4. **Hour, Minute, Second**: 시(hour), 분(minute), 초(second) 단위로 날짜와 시간을 이동시키는 오프셋입니다.\n",
    "\n",
    "5. **Custom Offset**: 사용자 정의 오프셋을 만들어 사용할 수도 있습니다. 이는 특정한 주기에 따라 날짜와 시간을 조정하기 위해 유용합니다.\n",
    "\n",
    "날짜 오프셋은 주로 `pd.Timestamp`나 `pd.DatetimeIndex` 객체와 함께 사용됩니다. \n"
   ]
  },
  {
   "cell_type": "code",
   "execution_count": 1,
   "id": "86a4dd3b-19f9-43b4-a179-714d1d5289cd",
   "metadata": {},
   "outputs": [
    {
     "name": "stdout",
     "output_type": "stream",
     "text": [
      "2023-08-15 00:00:00\n",
      "2023-07-08 00:00:00\n"
     ]
    }
   ],
   "source": [
    "\n",
    "import pandas as pd\n",
    "\n",
    "date = pd.Timestamp('2023-08-08')\n",
    "one_week_later = date + pd.DateOffset(weeks=1)\n",
    "print(one_week_later)  # 2023-08-15\n",
    "\n",
    "one_month_earlier = date - pd.DateOffset(months=1)\n",
    "print(one_month_earlier)  # 2023-07-08"
   ]
  },
  {
   "cell_type": "code",
   "execution_count": 2,
   "id": "0c56e6c6-0a38-4466-863c-a84541181a0b",
   "metadata": {},
   "outputs": [
    {
     "name": "stdout",
     "output_type": "stream",
     "text": [
      "Original DataFrame:\n",
      "        date  value\n",
      "0 2023-08-01     10\n",
      "1 2023-08-02     15\n",
      "2 2023-08-03     20\n",
      "3 2023-08-04     25\n",
      "4 2023-08-05     30\n",
      "5 2023-08-06     35\n",
      "6 2023-08-07     40\n",
      "7 2023-08-08     45\n",
      "8 2023-08-09     50\n",
      "9 2023-08-10     55\n"
     ]
    }
   ],
   "source": [
    "import pandas as pd\n",
    "\n",
    "# 샘플 데이터프레임 생성\n",
    "data = {'date': pd.date_range(start='2023-08-01', periods=10),\n",
    "        'value': [10, 15, 20, 25, 30, 35, 40, 45, 50, 55]}\n",
    "df = pd.DataFrame(data)\n",
    "\n",
    "print(\"Original DataFrame:\")\n",
    "print(df)\n"
   ]
  },
  {
   "cell_type": "code",
   "execution_count": 3,
   "id": "9da199cc-77c2-419a-9aaf-c583cef3ce6e",
   "metadata": {},
   "outputs": [
    {
     "name": "stdout",
     "output_type": "stream",
     "text": [
      "\n",
      "DataFrame with Shifted Dates:\n",
      "        date  value shifted_date\n",
      "0 2023-08-01     10   2023-08-04\n",
      "1 2023-08-02     15   2023-08-05\n",
      "2 2023-08-03     20   2023-08-06\n",
      "3 2023-08-04     25   2023-08-07\n",
      "4 2023-08-05     30   2023-08-08\n",
      "5 2023-08-06     35   2023-08-09\n",
      "6 2023-08-07     40   2023-08-10\n",
      "7 2023-08-08     45   2023-08-11\n",
      "8 2023-08-09     50   2023-08-12\n",
      "9 2023-08-10     55   2023-08-13\n"
     ]
    }
   ],
   "source": [
    "\n",
    "# 날짜 오프셋을 사용하여 날짜 열을 3일씩 미래로 이동시키기\n",
    "offset = pd.DateOffset(days=3)\n",
    "df['shifted_date'] = df['date'] + offset\n",
    "\n",
    "print(\"\\nDataFrame with Shifted Dates:\")\n",
    "print(df)"
   ]
  },
  {
   "cell_type": "code",
   "execution_count": 29,
   "id": "f9fbfc9f-5606-4033-97a1-7155234a58ca",
   "metadata": {},
   "outputs": [
    {
     "name": "stdout",
     "output_type": "stream",
     "text": [
      "2023-08-15 00:00:00\n"
     ]
    }
   ],
   "source": [
    "import pandas as pd\n",
    "\n",
    "date = pd.Timestamp('2023-08-15')\n",
    "month_end = pd.DateOffset(months=1) - pd.DateOffset(days=1)\n",
    "new_date = date + month_end\n",
    "print(new_date)  # 2023-08-31 (주어진 날짜의 월의 마지막 날짜로 조정)\n"
   ]
  },
  {
   "cell_type": "markdown",
   "id": "6197f7e1-49fa-4cee-b883-3bf87ffb4f84",
   "metadata": {},
   "source": [
    "## MonthEnd, MonthBegin, WeekEnd \n",
    "\n",
    "판다스(Pandas)에서 `MonthEnd`, `MonthBegin`, 그리고 `WeekEnd` 클래스는 날짜 오프셋을 표현하는데 사용되는 클래스들입니다. 이들 클래스는 주로 시계열 데이터의 날짜와 시간을 효과적으로 조작하고 계산하는 데 활용됩니다.\n"
   ]
  },
  {
   "cell_type": "code",
   "execution_count": 15,
   "id": "a7bea9ed-8ebd-4c81-b375-4eb91d502fdb",
   "metadata": {},
   "outputs": [
    {
     "name": "stdout",
     "output_type": "stream",
     "text": [
      "2023-08-31 00:00:00\n"
     ]
    }
   ],
   "source": [
    "\"\"\"\n",
    "1. **`MonthEnd`** 클래스 (pd.Timestamp)\n",
    "`MonthEnd` 클래스는 월(month)의 마지막 날짜로 이동하는 날짜 오프셋입니다.\n",
    "\"\"\"\n",
    "\n",
    "import pandas as pd\n",
    "\n",
    "date = pd.Timestamp('2023-08-15')\n",
    "month_end = pd.offsets.MonthEnd()\n",
    "new_date = month_end.rollforward(date)\n",
    "print(new_date)  # 2023-08-31 (주어진 날짜에서 가장 가까운 월의 마지막 날짜로 이동)\n"
   ]
  },
  {
   "cell_type": "code",
   "execution_count": 16,
   "id": "a1077dc3-aaaa-4382-bb6b-6dcfe847d786",
   "metadata": {},
   "outputs": [
    {
     "name": "stdout",
     "output_type": "stream",
     "text": [
      "2023-08-31 00:00:00\n"
     ]
    }
   ],
   "source": [
    "\"\"\"\n",
    "1. **`MonthEnd`** 클래스 (datetime.datetime)\n",
    "`MonthEnd` 클래스는 월(month)의 마지막 날짜로 이동하는 날짜 오프셋입니다.\n",
    "\"\"\"\n",
    "\n",
    "from datetime import datetime\n",
    "\n",
    "date = datetime(2023, 8, 15)\n",
    "month_end = pd.offsets.MonthEnd()\n",
    "new_date = month_end.rollforward(date)\n",
    "print(new_date)  # 2023-08-31 (주어진 날짜에서 가장 가까운 월의 마지막 날짜로 이동)\n"
   ]
  },
  {
   "cell_type": "code",
   "execution_count": 6,
   "id": "eaa89285-31a3-4381-b44f-cb74ec2863c1",
   "metadata": {},
   "outputs": [
    {
     "name": "stdout",
     "output_type": "stream",
     "text": [
      "2023-09-01 00:00:00\n"
     ]
    }
   ],
   "source": [
    "\"\"\"\n",
    "2. **`MonthBegin` 클래스**:\n",
    "`MonthBegin` 클래스는 월(month)의 첫 번째 날짜로 이동하는 날짜 오프셋입니다.\n",
    "\"\"\"\n",
    "\n",
    "import pandas as pd\n",
    "\n",
    "date = pd.Timestamp('2023-08-15')\n",
    "month_begin = pd.offsets.MonthBegin()\n",
    "new_date = month_begin.rollforward(date)\n",
    "print(new_date)  # 2023-08-01 (주어진 날짜에서 가장 가까운 월의 첫 번째 날짜로 이동)\n"
   ]
  },
  {
   "cell_type": "code",
   "execution_count": 7,
   "id": "111b74ad-d667-4ebf-8e38-ffea7c26e131",
   "metadata": {},
   "outputs": [
    {
     "name": "stdout",
     "output_type": "stream",
     "text": [
      "2023-08-19 00:00:00\n"
     ]
    }
   ],
   "source": [
    "\"\"\"\n",
    "3. **`WeekEnd` 클래스**:\n",
    "`WeekEnd` 클래스는 주(week)의 마지막 날짜(토요일)로 이동하는 날짜 오프셋입니다.\n",
    "\"\"\"\n",
    "import pandas as pd\n",
    "\n",
    "date = pd.Timestamp('2023-08-15')\n",
    "week_end = pd.offsets.Week(weekday=5)\n",
    "new_date = week_end.rollforward(date)\n",
    "print(new_date)  # 2023-08-19 (주어진 날짜에서 가장 가까운 주의 마지막 날짜로 이동)\n"
   ]
  },
  {
   "cell_type": "markdown",
   "id": "d7aca5c7-8a6c-41bf-974b-99a1164905b3",
   "metadata": {},
   "source": [
    "# 시계열 관련 인스턴스 메소드\n",
    "\n",
    "판다스는 시계열 데이터를 처리하기 위한 다양한 인스턴스 메서드를 제공합니다.  \n",
    "이 메서드들은 시계열 데이터의 특성을 활용하여 데이터 조작, 변환, 집계 등을 수행하는데 유용합니다. \n",
    "\n",
    "|이름|기능|\n",
    "|--|--|\n",
    "|resample()|시계열 데이터를 다시 샘플링하는 메서드로, 다른 주기로 데이터를 집계하거나 변환할 때 사용됩니다. 예를 들어, 원본 데이터를 주간에서 월간으로 변환하거나, 일별 데이터를 연도별로 집계하는 등의 작업을 수행할 수 있습니다.|\n",
    "|shift()|시계열 데이터를 이동시키는 메서드로, 데이터의 이동 차원을 조절할 수 있습니다. 데이터를 앞으로(shift forward) 또는 뒤로(shift backward) 이동시킬 수 있습니다.|\n",
    "|diff()|시계열 데이터 간의 차이를 계산하는 메서드로, 데이터의 차분을 계산하여 시계열 데이터의 추세나 변화를 분석할 때 사용됩니다.\n",
    "|rolling()|이동 창(window)을 기반으로 이동 평균, 합 등의 이동 통계량을 계산하는 메서드입니다. 시계열 데이터의 부드러운 추세나 패턴을 파악하는 데 사용됩니다.|\n"
   ]
  },
  {
   "cell_type": "code",
   "execution_count": 34,
   "id": "ad687b83-a269-41e6-8e38-88ecd031bb40",
   "metadata": {},
   "outputs": [],
   "source": [
    "\"\"\"\n",
    "1. **`resample()`**:\n",
    "시계열 데이터를 다시 샘플링하는 메서드로, 다른 주기로 데이터를 집계하거나 변환할 때 사용됩니다. 예를 들어, 원본 데이터를 주간에서 월간으로 변환하거나, 일별 데이터를 연도별로 집계하는 등의 작업을 수행할 수 있습니다.\n",
    "\"\"\"\n",
    "import pandas as pd\n",
    "\n",
    "# 예제 시계열 데이터 생성\n",
    "date_rng = pd.date_range(start='2023-01-01', periods=100, freq='D')\n",
    "ts = pd.Series(range(len(date_rng)), index=date_rng)\n",
    "\n",
    "# 월별 합계 계산\n",
    "monthly_sum = ts.resample('M').sum()"
   ]
  },
  {
   "cell_type": "code",
   "execution_count": 35,
   "id": "f57b4960-e560-400e-9a47-4e9373c468b5",
   "metadata": {},
   "outputs": [
    {
     "data": {
      "text/plain": [
       "2023-01-31     465\n",
       "2023-02-28    1246\n",
       "2023-03-31    2294\n",
       "2023-04-30     945\n",
       "Freq: M, dtype: int64"
      ]
     },
     "execution_count": 35,
     "metadata": {},
     "output_type": "execute_result"
    }
   ],
   "source": [
    "monthly_sum"
   ]
  },
  {
   "cell_type": "code",
   "execution_count": 45,
   "id": "afcf5aa8-1f40-43e1-b7ce-53e6ed450c2e",
   "metadata": {},
   "outputs": [
    {
     "name": "stdout",
     "output_type": "stream",
     "text": [
      "            data\n",
      "2023-01-01     0\n",
      "2023-01-02     1\n",
      "2023-01-03     2\n",
      "2023-01-04     3\n",
      "2023-01-05     4\n",
      "2023-01-06     5\n",
      "2023-01-07     6\n"
     ]
    }
   ],
   "source": [
    "\"\"\"\n",
    "2. **`shift()`**:\n",
    "시계열 데이터를 이동시키는 메서드로, 데이터의 이동 차원을 조절할 수 있습니다. \n",
    "데이터를 앞으로(shift forward) 또는 뒤로(shift backward) 이동시킬 수 있습니다.\n",
    "\"\"\"\n",
    "\n",
    "import pandas as pd\n",
    "\n",
    "# 예제 시계열 데이터 생성\n",
    "date_rng = pd.date_range(start='2023-01-01', periods=7, freq='D')\n",
    "ts = pd.DataFrame(range(len(date_rng)), index=date_rng, columns=[\"data\"])\n",
    "print(ts)"
   ]
  },
  {
   "cell_type": "code",
   "execution_count": 46,
   "id": "ae250cf0-9942-452a-aaee-2d3b4e11fb1c",
   "metadata": {},
   "outputs": [
    {
     "name": "stdout",
     "output_type": "stream",
     "text": [
      "            data\n",
      "2023-01-01   NaN\n",
      "2023-01-02   NaN\n",
      "2023-01-03   0.0\n",
      "2023-01-04   1.0\n",
      "2023-01-05   2.0\n",
      "2023-01-06   3.0\n",
      "2023-01-07   4.0\n"
     ]
    }
   ],
   "source": [
    "# 데이터를 두 일 후로 이동\n",
    "shifted = ts.shift(2)\n",
    "print(shifted)\n"
   ]
  },
  {
   "cell_type": "code",
   "execution_count": 47,
   "id": "83045581-5005-4023-bb31-e6cc0bdeb548",
   "metadata": {},
   "outputs": [
    {
     "name": "stdout",
     "output_type": "stream",
     "text": [
      "            data\n",
      "2023-01-01   2.0\n",
      "2023-01-02   3.0\n",
      "2023-01-03   4.0\n",
      "2023-01-04   5.0\n",
      "2023-01-05   6.0\n",
      "2023-01-06   NaN\n",
      "2023-01-07   NaN\n"
     ]
    }
   ],
   "source": [
    "\n",
    "# 데이터를 두 일 전으로 이동\n",
    "shifted = ts.shift(-2)\n",
    "print(shifted)"
   ]
  },
  {
   "cell_type": "code",
   "execution_count": 49,
   "id": "01cbb094-97bd-46f3-b515-9ebad84bff66",
   "metadata": {},
   "outputs": [
    {
     "name": "stdout",
     "output_type": "stream",
     "text": [
      "2023-01-01    0\n",
      "2023-01-02    1\n",
      "2023-01-03    2\n",
      "2023-01-04    3\n",
      "2023-01-05    4\n",
      "2023-01-06    5\n",
      "2023-01-07    6\n",
      "Freq: D, dtype: int64\n"
     ]
    }
   ],
   "source": [
    "\"\"\"\n",
    "3. **`diff()`**:\n",
    "시계열 데이터 간의 차이를 계산하는 메서드로, \n",
    "데이터의 차분을 계산하여 시계열 데이터의 추세나 변화를 분석할 때 사용됩니다.\n",
    "\"\"\"\n",
    "\n",
    "import pandas as pd\n",
    "\n",
    "# 예제 시계열 데이터 생성\n",
    "date_rng = pd.date_range(start='2023-01-01', periods=7, freq='D')\n",
    "ts = pd.Series(range(len(date_rng)), index=date_rng)\n",
    "print(ts)\n"
   ]
  },
  {
   "cell_type": "code",
   "execution_count": 50,
   "id": "0bfe23db-473e-4d77-94d1-087ed25d27fe",
   "metadata": {},
   "outputs": [
    {
     "name": "stdout",
     "output_type": "stream",
     "text": [
      "2023-01-01    NaN\n",
      "2023-01-02    1.0\n",
      "2023-01-03    1.0\n",
      "2023-01-04    1.0\n",
      "2023-01-05    1.0\n",
      "2023-01-06    1.0\n",
      "2023-01-07    1.0\n",
      "Freq: D, dtype: float64\n"
     ]
    }
   ],
   "source": [
    "\n",
    "# 데이터 간의 차이 계산\n",
    "diff = ts.diff()\n",
    "print(diff)\n"
   ]
  },
  {
   "cell_type": "code",
   "execution_count": 54,
   "id": "92368bdd-506a-4e1d-963a-76fbdd0effac",
   "metadata": {},
   "outputs": [
    {
     "name": "stdout",
     "output_type": "stream",
     "text": [
      "            Data\n",
      "2023-01-01     0\n",
      "2023-01-02     1\n",
      "2023-01-03     2\n",
      "2023-01-04     3\n",
      "2023-01-05     4\n",
      "2023-01-06     5\n",
      "2023-01-07     6\n"
     ]
    }
   ],
   "source": [
    "\"\"\"\n",
    "4. **`rolling()`**:\n",
    "이동 창(window)을 기반으로 이동 평균, 합 등의 이동 통계량을 계산하는 메서드입니다. \n",
    "시계열 데이터의 부드러운 추세나 패턴을 파악하는 데 사용됩니다.\n",
    "\"\"\"\n",
    "import pandas as pd\n",
    "\n",
    "# 예제 시계열 데이터 생성\n",
    "date_rng = pd.date_range(start='2023-01-01', periods=7, freq='D')\n",
    "ts = pd.DataFrame(range(len(date_rng)), index=date_rng, columns=[\"Distance\"])\n",
    "print(ts)"
   ]
  },
  {
   "cell_type": "code",
   "execution_count": 57,
   "id": "e86bfec7-256c-4032-8518-478199141584",
   "metadata": {},
   "outputs": [
    {
     "name": "stdout",
     "output_type": "stream",
     "text": [
      "            Data\n",
      "2023-01-01   NaN\n",
      "2023-01-02   NaN\n",
      "2023-01-03   3.0\n",
      "2023-01-04   6.0\n",
      "2023-01-05   9.0\n",
      "2023-01-06  12.0\n",
      "2023-01-07  15.0\n"
     ]
    }
   ],
   "source": [
    "# 직전 3일간 이동거리 합 계산\n",
    "rolling_mean = ts.rolling(window=3).sum()\n",
    "print(rolling_mean)\n"
   ]
  },
  {
   "cell_type": "markdown",
   "id": "681819e5-69bc-45a1-8960-9f01e231858e",
   "metadata": {},
   "source": [
    "# dateutil\n",
    "\n",
    "`dateutil`은 파이썬의 날짜와 시간 처리를 위한 외부 라이브러리로서, 날짜, 시간, 시간대(timezone) 등 다양한 시간 관련 작업을 수행할 수 있도록 도와주는 유용한 도구입니다. `dateutil`은 파이썬 표준 라이브러리인 `datetime` 모듈의 기능을 보완하고 확장하여 날짜와 시간 처리를 더 편리하게 할 수 있도록 설계되었습니다.\n",
    "\n",
    "주요 기능과 클래스들을 살펴보겠습니다:\n",
    "\n",
    "1. **`parser` 모듈**: `dateutil.parser` 모듈은 문자열을 파싱하여 `datetime` 객체로 변환하는 기능을 제공합니다. 자동으로 다양한 형식의 날짜와 시간을 해석하고 변환할 수 있습니다.\n",
    "\n",
    "```python\n",
    "from dateutil import parser\n",
    "\n",
    "date_string = '2023-08-15 10:30:00'\n",
    "parsed_date = parser.parse(date_string)\n",
    "print(parsed_date)  # 2023-08-15 10:30:00\n",
    "```\n",
    "\n",
    "2. **`relativedelta` 클래스**: `dateutil.relativedelta` 클래스는 날짜 간의 상대적인 차이를 계산하는 데 사용됩니다. 년, 월, 일, 시간 등의 차이를 계산할 수 있습니다.\n",
    "\n",
    "```python\n",
    "from dateutil.relativedelta import relativedelta\n",
    "import datetime\n",
    "\n",
    "today = datetime.datetime.today()\n",
    "one_year_later = today + relativedelta(years=1)\n",
    "print(one_year_later)\n",
    "```\n",
    "\n",
    "3. **`tz` 모듈**: `dateutil.tz` 모듈은 시간대(timezone) 관련 작업을 수행하는 데 사용됩니다. 시간대 변환, 시간대 정보 획득 등이 가능합니다.\n",
    "\n",
    "```python\n",
    "from dateutil import tz\n",
    "\n",
    "# UTC 시간대로 변환\n",
    "utc_time = parsed_date.astimezone(tz.tzutc())\n",
    "print(utc_time)\n",
    "```\n",
    "\n",
    "4. **`rrule` 모듈**: `dateutil.rrule` 모듈은 반복 규칙을 생성하고 다루는 데 사용됩니다. 특정 규칙에 따라 반복되는 날짜나 시간을 생성할 수 있습니다.\n",
    "\n",
    "```python\n",
    "from dateutil import rrule\n",
    "import datetime\n",
    "\n",
    "start_date = datetime.datetime(2023, 8, 1)\n",
    "end_date = datetime.datetime(2023, 8, 31)\n",
    "rule = rrule.rrule(rrule.DAILY, dtstart=start_date, until=end_date)\n",
    "dates = list(rule)\n",
    "print(dates)\n",
    "```\n",
    "\n",
    "`dateutil`은 날짜와 시간 관련 작업을 더 편리하게 처리할 수 있도록 도와주는 라이브러리입니다. 간단한 날짜 변환부터 복잡한 시간대 처리까지 다양한 작업에 유용하게 사용될 수 있습니다."
   ]
  },
  {
   "cell_type": "code",
   "execution_count": 59,
   "id": "e01ef435-dc31-4f01-b6fb-4d9b44524324",
   "metadata": {},
   "outputs": [
    {
     "name": "stdout",
     "output_type": "stream",
     "text": [
      "2023-08-15 10:30:00\n"
     ]
    }
   ],
   "source": [
    "\"\"\"\n",
    "1. **`parser` 모듈**: \n",
    "`dateutil.parser` 모듈은 문자열을 파싱하여 `datetime` 객체로 변환하는 기능을 제공합니다.\n",
    "자동으로 다양한 형식의 날짜와 시간을 해석하고 변환할 수 있습니다.\n",
    "\"\"\"\n",
    "\n",
    "from dateutil import parser\n",
    "\n",
    "date_string = '2023-08-15 10:30:00'\n",
    "parsed_date = parser.parse(date_string)\n",
    "print(parsed_date)  # 2023-08-15 10:30:00\n"
   ]
  },
  {
   "cell_type": "code",
   "execution_count": 60,
   "id": "6f84fa0d-1e27-4c2b-84fc-e247b49b7cce",
   "metadata": {},
   "outputs": [
    {
     "data": {
      "text/plain": [
       "datetime.datetime"
      ]
     },
     "execution_count": 60,
     "metadata": {},
     "output_type": "execute_result"
    }
   ],
   "source": [
    "type(parsed_date)"
   ]
  },
  {
   "cell_type": "code",
   "execution_count": 70,
   "id": "6ce31808-9659-44d9-bfd2-527bb1424b6a",
   "metadata": {},
   "outputs": [
    {
     "name": "stdout",
     "output_type": "stream",
     "text": [
      "2023-08-15 10:30:00\n",
      "2023-08-15 00:00:00 < 2023-08-15\n",
      "2023-08-15 00:00:00 < 08/15/2023\n",
      "2023-08-15 00:00:00 < 15 Aug, 2023\n"
     ]
    }
   ],
   "source": [
    "\"\"\"\n",
    "dateutil.parser 모듈은 많은 날짜와 시간 형식을 자동으로 처리할 수 있어, \n",
    "형식 지정자를 직접 지정하지 않아도 날짜와 시간을 파싱할 수 있습니다. \n",
    "\"\"\"\n",
    "\n",
    "from dateutil import parser\n",
    "\n",
    "# 문자열을 datetime 객체로 변환\n",
    "date_string = '2023-08-15 10:30:00'\n",
    "parsed_date = parser.parse(date_string)\n",
    "print(parsed_date)  # 2023-08-15 10:30:00\n",
    "\n",
    "# 다양한 형식의 문자열 해석\n",
    "date_str_list = [\n",
    "    '2023-08-15', \n",
    "    '08/15/2023', \n",
    "    '15 Aug, 2023'\n",
    "]\n",
    "\n",
    "for date_str in date_str_list:\n",
    "    print(parser.parse(date_str), '<', date_str)\n"
   ]
  },
  {
   "cell_type": "code",
   "execution_count": 61,
   "id": "5cacbe4d-c327-4f25-a7da-06004869b8f4",
   "metadata": {},
   "outputs": [
    {
     "name": "stdout",
     "output_type": "stream",
     "text": [
      "2024-08-08 16:08:36.979763\n"
     ]
    }
   ],
   "source": [
    "\"\"\"\n",
    "2. **`relativedelta` 클래스**: \n",
    "`dateutil.relativedelta` 클래스는 날짜 간의 상대적인 차이를 계산하는 데 사용됩니다. \n",
    "년, 월, 일, 시간 등의 차이를 계산할 수 있습니다.\n",
    "\"\"\"\n",
    "\n",
    "from dateutil.relativedelta import relativedelta\n",
    "import datetime\n",
    "\n",
    "today = datetime.datetime.today()\n",
    "one_year_later = today + relativedelta(years=1)\n",
    "print(one_year_later)"
   ]
  },
  {
   "cell_type": "code",
   "execution_count": 71,
   "id": "64043774-d355-4403-b956-a344f55e2752",
   "metadata": {},
   "outputs": [
    {
     "name": "stdout",
     "output_type": "stream",
     "text": [
      "2024-08-08 16:16:03.501983\n",
      "2023-02-08 16:16:03.501983\n",
      "2023-08-22 16:16:03.501983\n",
      "2023-08-05 16:16:03.501983\n",
      "2023-08-08 18:16:03.501983\n"
     ]
    }
   ],
   "source": [
    "from dateutil.relativedelta import relativedelta\n",
    "import datetime\n",
    "\n",
    "# 현재 날짜와 시간\n",
    "today = datetime.datetime.today()\n",
    "\n",
    "# 1년 후 계산\n",
    "one_year_later = today + relativedelta(years=1)\n",
    "print(one_year_later)\n",
    "\n",
    "# 6개월 전 계산\n",
    "six_months_ago = today - relativedelta(months=6)\n",
    "print(six_months_ago)\n",
    "\n",
    "# 2주 후 계산\n",
    "two_weeks_later = today + relativedelta(weeks=2)\n",
    "print(two_weeks_later)\n",
    "\n",
    "# 3일 전 계산\n",
    "three_days_ago = today - relativedelta(days=3)\n",
    "print(three_days_ago)\n",
    "\n",
    "# 2시간 후 계산\n",
    "two_hours_later = today + relativedelta(hours=2)\n",
    "print(two_hours_later)"
   ]
  },
  {
   "cell_type": "code",
   "execution_count": 114,
   "id": "e5363bcf-ec6f-46b9-9f98-c90fb0f724b7",
   "metadata": {},
   "outputs": [
    {
     "name": "stdout",
     "output_type": "stream",
     "text": [
      "  start_date   end_date                date_diff\n",
      "0 2023-08-01 2023-08-31  relativedelta(days=+30)\n",
      "1 2023-07-15 2023-07-30  relativedelta(days=+15)\n",
      "2 2023-06-30 2023-07-15  relativedelta(days=+15)\n"
     ]
    }
   ],
   "source": [
    "import pandas as pd\n",
    "from dateutil.relativedelta import relativedelta\n",
    "\n",
    "# 예제 데이터프레임 생성\n",
    "data = {\n",
    "    'start_date': ['2023-08-01', '2023-07-15', '2023-06-30'],\n",
    "    'end_date': ['2023-08-31', '2023-07-30', '2023-07-15']\n",
    "}\n",
    "df = pd.DataFrame(data)\n",
    "df['start_date'] = pd.to_datetime(df['start_date'])  # 문자열을 날짜로 변환\n",
    "df['end_date'] = pd.to_datetime(df['end_date'])      # 문자열을 날짜로 변환\n",
    "\n",
    "# 상대적인 차이 계산하여 추가 컬럼 생성\n",
    "df['date_diff'] = df.apply(lambda row: relativedelta(row['end_date'], row['start_date']), axis=1)\n",
    "\n",
    "print(df)\n"
   ]
  },
  {
   "cell_type": "code",
   "execution_count": 117,
   "id": "3f5bbc1c-b580-4ae0-a2f1-55378a12e48e",
   "metadata": {},
   "outputs": [
    {
     "name": "stdout",
     "output_type": "stream",
     "text": [
      "  start_date   end_date                date_diff two_week_later\n",
      "0 2023-08-01 2023-08-31  relativedelta(days=+30)     2023-08-15\n",
      "1 2023-07-15 2023-07-30  relativedelta(days=+15)     2023-07-29\n",
      "2 2023-06-30 2023-07-15  relativedelta(days=+15)     2023-07-14\n"
     ]
    }
   ],
   "source": [
    "from dateutil.relativedelta import relativedelta\n",
    "df[\"two_week_later\"] = df.start_date.map(lambda x: x + relativedelta(weeks=2))\n",
    "print(df)"
   ]
  },
  {
   "cell_type": "code",
   "execution_count": 63,
   "id": "9818b962-9a02-454e-b52d-664ba30561fe",
   "metadata": {},
   "outputs": [
    {
     "name": "stdout",
     "output_type": "stream",
     "text": [
      "2023-08-15 01:30:00+00:00\n"
     ]
    }
   ],
   "source": [
    "\"\"\"\n",
    "3. **`tz` 모듈**: \n",
    "`dateutil.tz` 모듈은 시간대(timezone) 관련 작업을 수행하는 데 사용됩니다. \n",
    "시간대 변환, 시간대 정보 획득 등이 가능합니다.\n",
    "\"\"\"\n",
    "\n",
    "from dateutil import tz\n",
    "import datetime\n",
    "\n",
    "# UTC 시간대 정보 생성\n",
    "utc = tz.tzutc()\n",
    "\n",
    "# 현재 시간을 UTC 시간대로 변환\n",
    "current_time = datetime.datetime.now()\n",
    "utc_time = current_time.astimezone(utc)\n",
    "print(utc_time)\n",
    "\n",
    "# 시간대 변환\n",
    "new_york_tz = tz.gettz('America/New_York')\n",
    "ny_time = current_time.astimezone(new_york_tz)\n",
    "print(ny_time)\n",
    "\n",
    "# 시간대 정보 획득\n",
    "print(new_york_tz)\n",
    "\n"
   ]
  },
  {
   "cell_type": "code",
   "execution_count": 64,
   "id": "8c23851e-9cce-413f-85da-b909dd74ccf0",
   "metadata": {},
   "outputs": [
    {
     "name": "stdout",
     "output_type": "stream",
     "text": [
      "[datetime.datetime(2023, 8, 1, 0, 0), datetime.datetime(2023, 8, 2, 0, 0), datetime.datetime(2023, 8, 3, 0, 0), datetime.datetime(2023, 8, 4, 0, 0), datetime.datetime(2023, 8, 5, 0, 0), datetime.datetime(2023, 8, 6, 0, 0), datetime.datetime(2023, 8, 7, 0, 0), datetime.datetime(2023, 8, 8, 0, 0), datetime.datetime(2023, 8, 9, 0, 0), datetime.datetime(2023, 8, 10, 0, 0), datetime.datetime(2023, 8, 11, 0, 0), datetime.datetime(2023, 8, 12, 0, 0), datetime.datetime(2023, 8, 13, 0, 0), datetime.datetime(2023, 8, 14, 0, 0), datetime.datetime(2023, 8, 15, 0, 0), datetime.datetime(2023, 8, 16, 0, 0), datetime.datetime(2023, 8, 17, 0, 0), datetime.datetime(2023, 8, 18, 0, 0), datetime.datetime(2023, 8, 19, 0, 0), datetime.datetime(2023, 8, 20, 0, 0), datetime.datetime(2023, 8, 21, 0, 0), datetime.datetime(2023, 8, 22, 0, 0), datetime.datetime(2023, 8, 23, 0, 0), datetime.datetime(2023, 8, 24, 0, 0), datetime.datetime(2023, 8, 25, 0, 0), datetime.datetime(2023, 8, 26, 0, 0), datetime.datetime(2023, 8, 27, 0, 0), datetime.datetime(2023, 8, 28, 0, 0), datetime.datetime(2023, 8, 29, 0, 0), datetime.datetime(2023, 8, 30, 0, 0), datetime.datetime(2023, 8, 31, 0, 0)]\n"
     ]
    }
   ],
   "source": [
    "\"\"\"\n",
    "4. **`rrule` 모듈**: \n",
    "`dateutil.rrule` 모듈은 반복 규칙을 생성하고 다루는 데 사용됩니다. \n",
    "특정 규칙에 따라 반복되는 날짜나 시간을 생성할 수 있습니다.\n",
    "\"\"\"\n",
    "\n",
    "from dateutil import rrule\n",
    "import datetime\n",
    "\n",
    "start_date = datetime.datetime(2023, 8, 1)\n",
    "end_date = datetime.datetime(2023, 8, 31)\n",
    "rule = rrule.rrule(rrule.DAILY, dtstart=start_date, until=end_date)\n",
    "dates = list(rule)\n",
    "print(dates)"
   ]
  },
  {
   "cell_type": "markdown",
   "id": "583e2ad2-ccf0-40bc-a210-56264decf86b",
   "metadata": {},
   "source": [
    "## .dt 접근자\n",
    "\n",
    "판다스에서 `.dt` 접근자는 시리즈(Series)나 데이터프레임(DataFrame) 객체의 날짜와 시간 관련 작업을 수행하는 데 사용되는 접근자(accessor)입니다. 이 접근자를 사용하여 시계열 데이터의 날짜, 시간, 요일 등의 세부 정보를 추출하거나 조작할 수 있습니다.\n"
   ]
  },
  {
   "cell_type": "code",
   "execution_count": 74,
   "id": "4d929a15-dbb1-423c-bbed-8aa8a31fa31a",
   "metadata": {},
   "outputs": [
    {
     "name": "stdout",
     "output_type": "stream",
     "text": [
      "        date  year  month  day   day_name\n",
      "0 2023-08-01  2023      8    1    Tuesday\n",
      "1 2023-08-15  2023      8   15    Tuesday\n",
      "2 2023-08-30  2023      8   30  Wednesday\n"
     ]
    }
   ],
   "source": [
    "\n",
    "import pandas as pd\n",
    "\n",
    "# 시리즈 생성\n",
    "data = {\n",
    "    'date': ['2023-08-01', '2023-08-15', '2023-08-30'],\n",
    "}\n",
    "df = pd.DataFrame(data)\n",
    "df['date'] = pd.to_datetime(df['date'])  # 문자열을 날짜로 변환\n",
    "\n",
    "# .dt 접근자를 사용하여 날짜 정보 추출\n",
    "df['year'] = df['date'].dt.year\n",
    "df['month'] = df['date'].dt.month\n",
    "df['day'] = df['date'].dt.day\n",
    "df['day_name'] = df['date'].dt.day_name()\n",
    "\n",
    "print(df)"
   ]
  },
  {
   "cell_type": "markdown",
   "id": "b22906b6-c564-4ff5-9080-40aaf887e5c4",
   "metadata": {},
   "source": [
    "## dataframe 에서 timezone 변경"
   ]
  },
  {
   "cell_type": "code",
   "execution_count": 109,
   "id": "8cc7f8f0-f249-437e-b66a-8233da2f2011",
   "metadata": {},
   "outputs": [
    {
     "name": "stdout",
     "output_type": "stream",
     "text": [
      "Original DataFrame:\n",
      "0   2023-08-01 10:00:00\n",
      "1   2023-08-15 12:30:00\n",
      "2   2023-08-30 15:45:00\n",
      "Name: timestamp, dtype: datetime64[ns]\n"
     ]
    }
   ],
   "source": [
    "import pandas as pd\n",
    "\n",
    "# 예제 데이터프레임 생성\n",
    "data = {\n",
    "    'timestamp': ['2023-08-01 10:00:00', '2023-08-15 12:30:00', '2023-08-30 15:45:00'],\n",
    "    'value': [10, 20, 30]\n",
    "}\n",
    "df = pd.DataFrame(data)\n",
    "df['timestamp'] = pd.to_datetime(df['timestamp'])  # 문자열을 날짜로 변환\n",
    "\n",
    "print(\"Original DataFrame:\")\n",
    "print(df.timestamp)\n",
    "\n"
   ]
  },
  {
   "cell_type": "code",
   "execution_count": 110,
   "id": "99f43243-1824-49f8-ae9c-fcf13782335d",
   "metadata": {},
   "outputs": [
    {
     "data": {
      "text/plain": [
       "0   2023-08-01 10:00:00+09:00\n",
       "1   2023-08-15 12:30:00+09:00\n",
       "2   2023-08-30 15:45:00+09:00\n",
       "Name: timestamp, dtype: datetime64[ns, Asia/Seoul]"
      ]
     },
     "execution_count": 110,
     "metadata": {},
     "output_type": "execute_result"
    }
   ],
   "source": [
    "df.timestamp = df.timestamp.dt.tz_localize('Asia/Seoul')  # UTC 시간대로 설정\n",
    "df.timestamp"
   ]
  },
  {
   "cell_type": "code",
   "execution_count": 111,
   "id": "1dcc4425-69ff-493d-a683-0d4db7c81f62",
   "metadata": {},
   "outputs": [
    {
     "name": "stdout",
     "output_type": "stream",
     "text": [
      "0   2023-07-31 21:00:00-04:00\n",
      "1   2023-08-14 23:30:00-04:00\n",
      "2   2023-08-30 02:45:00-04:00\n",
      "Name: timestamp, dtype: datetime64[ns, America/New_York]\n"
     ]
    }
   ],
   "source": [
    "# 시간대 변경\n",
    "new_timezone = 'America/New_York'\n",
    "df['timestamp'] = df['timestamp'].dt.tz_convert(new_timezone)  # 뉴욕 시간대로 변환\n",
    "print(df.timestamp)"
   ]
  },
  {
   "cell_type": "markdown",
   "id": "7038d413-81ca-4057-a8db-ed8b168fd291",
   "metadata": {},
   "source": [
    "## dataframe에 dateutil 활용"
   ]
  },
  {
   "cell_type": "code",
   "execution_count": null,
   "id": "ccad1be7-147c-4061-9202-8271ae1b0515",
   "metadata": {},
   "outputs": [],
   "source": []
  },
  {
   "cell_type": "code",
   "execution_count": null,
   "id": "083f0e54-3345-4f6e-811c-b80d43cd2fdc",
   "metadata": {},
   "outputs": [],
   "source": [
    "\n",
    "```\n",
    "\n",
    "\n",
    "\n",
    "```\n",
    "\n",
    "`dateutil`은 날짜와 시간 관련 작업을 더 편리하게 처리할 수 있도록 도와주는 라이브러리입니다. 간단한 날짜 변환부터 복잡한 시간대 처리까지 다양한 작업에 유용하게 사용될 수 있습니다."
   ]
  },
  {
   "cell_type": "code",
   "execution_count": null,
   "id": "07e63a0f-5501-4dd6-9c9b-5e7e3bad1f55",
   "metadata": {},
   "outputs": [],
   "source": []
  },
  {
   "cell_type": "code",
   "execution_count": null,
   "id": "bc037322-9496-4d6f-b4b0-b0952ae6c715",
   "metadata": {},
   "outputs": [],
   "source": []
  }
 ],
 "metadata": {
  "kernelspec": {
   "display_name": "Python 3 (ipykernel)",
   "language": "python",
   "name": "python3"
  },
  "language_info": {
   "codemirror_mode": {
    "name": "ipython",
    "version": 3
   },
   "file_extension": ".py",
   "mimetype": "text/x-python",
   "name": "python",
   "nbconvert_exporter": "python",
   "pygments_lexer": "ipython3",
   "version": "3.10.11"
  }
 },
 "nbformat": 4,
 "nbformat_minor": 5
}
