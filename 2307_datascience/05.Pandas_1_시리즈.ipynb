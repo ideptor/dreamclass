{
 "cells": [
  {
   "cell_type": "markdown",
   "id": "92ca40ac-4b05-4786-8b7a-634679f25779",
   "metadata": {},
   "source": [
    "# Pandas Series\n",
    "- Pandas 소개\n",
    "- Series 생성\n",
    "- Series와 index\n",
    "- 필터링 / 슬라이싱 / 정렬\n",
    "- 데이터 변경 / 추가 / 삭제\n",
    "- Series 객체간 연산\n",
    "- 문자열 처리\n",
    "- 통계함수 적용\n",
    "- 병합"
   ]
  },
  {
   "cell_type": "markdown",
   "id": "73ca9ec2-0082-42e3-a8b2-af674f3806de",
   "metadata": {},
   "source": [
    "# Pandas\n",
    "\n",
    "\n",
    "`Pandas`는 파이썬 프로그래밍 언어를 위한 `데이터 조작`과 `분석`을 위한 라이브러리로, 구조화된 데이터를 쉽게 조작하고 처리할 수 있도록 다양한 기능과 데이터 구조를 제공합니다.   \n",
    "주로 `표 형태의 데이터`를 다루는데 특화되어 있으며, `데이터프레임(DataFrame)`이라는 자료형을 제공하여 이러한 표 형태의 데이터를 효과적으로 다룰 수 있습니다.  \n",
    "`Pandas`는 `NumPy`를 기반으로 만들어져 있기 때문에 NumPy와 함께 사용하는 경우가 많습니다.\n",
    "\n",
    "Pandas의 주요 특징과 기능은 다음과 같습니다:\n",
    "\n",
    "- `DataFrame`: Pandas는 DataFrame이라는 자료형을 제공하여 `표 형태의 데이터`를 쉽게 다룰 수 있습니다. DataFrame은 `2차원 테이블` 형태로, `행`과 `열`로 구성되어 있으며, 각 `열은 서로 다른 데이터 타입`을 가질 수 있습니다.\n",
    "\n",
    "- `데이터 조작`: Pandas는 데이터를 쉽게 `필터링`, `정렬`, `그룹화`, `합치기` 등 다양한 조작을 할 수 있는 기능을 제공합니다. 이를 통해 데이터를 효율적으로 처리하고 분석할 수 있습니다.\n",
    "\n",
    "- `누락된 데이터 처리`: Pandas는 누락된 데이터(NaN)를 쉽게 처리할 수 있는 기능을 제공합니다. 누락된 데이터를 효율적으로 다룰 수 있어 `데이터의 빠른 전처리`가 가능합니다.\n",
    "\n",
    "- `데이터 시각화`: Pandas는 데이터를 시각화하는 기능을 제공하며, `Matplotlib와 함께 사용`하여 다양한 차트와 플롯을 그릴 수 있습니다.\n",
    "\n",
    "- `데이터 파일 입출력`: Pandas는 `CSV`, `Excel`, `SQL`, `JSON` 등 다양한 파일 형식으로 데이터를 읽고 쓸 수 있는 기능을 제공합니다.\n",
    "\n",
    "Pandas는 데이터 과학 및 데이터 분석 분야에서 매우 인기 있는 라이브러리이며, 데이터 전처리, 데이터 분석, 데이터 시각화 등 다양한 작업에 활용됩니다. Pandas를 사용하면 복잡한 데이터를 쉽게 다룰 수 있고, 데이터 분석과 관련된 작업을 더욱 효율적으로 수행할 수 있습니다."
   ]
  },
  {
   "cell_type": "markdown",
   "id": "d74a6ccc-46b4-41eb-bcae-e1152f266e26",
   "metadata": {},
   "source": [
    "## pandas 설치\n",
    "\n",
    "```bash\n",
    "pip install pandas\n",
    "```"
   ]
  },
  {
   "cell_type": "markdown",
   "id": "b574856b-ded3-4941-a004-a8bfa61a9081",
   "metadata": {
    "tags": []
   },
   "source": [
    "# Series:\n",
    "\n",
    "- `Series`는 `1차원 레이블된 배열`로, `NumPy의 1차원 배열과 유사`한 구조를 가지고 있습니다. \n",
    "- Series는 `인덱스(index)`와 `값(value)`으로 구성되어 있으며, 각 값은 해당하는 인덱스와 매핑됩니다. \n",
    "- Series는 일반적으로 `하나의 데이터 타입`으로 구성되어 있습니다."
   ]
  },
  {
   "cell_type": "markdown",
   "id": "f06f150f-2f70-4326-9787-d3bb197717dc",
   "metadata": {},
   "source": [
    "## Series의 index\n",
    "\n",
    "Series의 인덱스(Index)는 Pandas의 1차원 레이블된 배열로, 각 값에 대한 고유한 식별자(identifier)를 제공합니다. Series의 인덱스는 각 원소에 접근하고 식별하는 데 사용되며, 행의 레이블로 사용됩니다. 인덱스는 레이블, 숫자, 날짜, 문자열 등의 다양한 데이터 타입을 가질 수 있습니다."
   ]
  },
  {
   "cell_type": "markdown",
   "id": "23c735e2-a4d0-4678-8bc6-a92b3e20f3f7",
   "metadata": {},
   "source": [
    "## Series 생성"
   ]
  },
  {
   "cell_type": "code",
   "execution_count": null,
   "id": "e81423e6-e82c-4b5d-8eb1-b9af7c117a94",
   "metadata": {
    "tags": []
   },
   "outputs": [],
   "source": [
    "\"\"\"\n",
    "리스트를 활용한 Series 생성:\n",
    "\"\"\"\n",
    "import pandas as pd\n",
    "\n",
    "# 리스트를 사용하여 Series 생성\n",
    "data = [10, 20, 30, 40, 50]\n",
    "s = pd.Series(data)\n",
    "print(s)"
   ]
  },
  {
   "cell_type": "code",
   "execution_count": null,
   "id": "2361384b-27f7-4d81-9822-8f164408926a",
   "metadata": {
    "tags": []
   },
   "outputs": [],
   "source": [
    "print(type(s.index), s.index, sep=\"\\n\")"
   ]
  },
  {
   "cell_type": "code",
   "execution_count": null,
   "id": "f0a238df-6042-44cd-a4a4-c9bd0d104e35",
   "metadata": {
    "tags": []
   },
   "outputs": [],
   "source": [
    "print(type(s.values), s.values, sep=\"\\n\")"
   ]
  },
  {
   "cell_type": "code",
   "execution_count": null,
   "id": "f282352d-4799-42e6-ae99-088fb4ccecc0",
   "metadata": {
    "tags": []
   },
   "outputs": [],
   "source": [
    "s.values.dtype"
   ]
  },
  {
   "cell_type": "code",
   "execution_count": null,
   "id": "d1e60b59-94fd-482a-818d-950c9d8cc087",
   "metadata": {
    "tags": []
   },
   "outputs": [],
   "source": [
    "\"\"\"\n",
    "딕셔너리를 활용한 Series 생성:\n",
    "\"\"\"\n",
    "import pandas as pd\n",
    "\n",
    "# 딕셔너리를 사용하여 Series 생성\n",
    "data = {'a': 10, 'b': 20, 'c': 30, 'd': 40}\n",
    "s = pd.Series(data)\n",
    "print(s)"
   ]
  },
  {
   "cell_type": "code",
   "execution_count": null,
   "id": "49a3f4e8-a3a9-4553-838f-7ce0d30114c1",
   "metadata": {
    "tags": []
   },
   "outputs": [],
   "source": [
    "print(type(s.index), s.index, sep=\"\\n\")"
   ]
  },
  {
   "cell_type": "code",
   "execution_count": null,
   "id": "6b271b98-3e14-4671-a01f-4384823a1b87",
   "metadata": {
    "tags": []
   },
   "outputs": [],
   "source": [
    "\"\"\"\n",
    "NumPy 배열을 활용한 Series 생성:\n",
    "\"\"\"\n",
    "import pandas as pd\n",
    "import numpy as np\n",
    "\n",
    "# NumPy 배열을 사용하여 Series 생성\n",
    "data = np.array([10, 20, 30, 40, 50])\n",
    "s = pd.Series(data)\n",
    "print(s)\n"
   ]
  },
  {
   "cell_type": "code",
   "execution_count": null,
   "id": "814909f7-2c6a-422a-8113-4dd37265c9df",
   "metadata": {
    "tags": []
   },
   "outputs": [],
   "source": [
    "data = np.array([10, 20, 30, 40, 50])\n",
    "s = pd.Series(data, ['a', 'b', 'c', 'd', 'e'])\n",
    "print(s)"
   ]
  },
  {
   "cell_type": "code",
   "execution_count": null,
   "id": "51eade25-0279-43ca-a27d-592f61029e74",
   "metadata": {
    "tags": []
   },
   "outputs": [],
   "source": [
    "data = np.array([10, 20, 30, 40, 50])\n",
    "s = pd.Series(data, index=['a', 'b', 'c', 'd', 'e'])\n",
    "print(s)"
   ]
  },
  {
   "cell_type": "code",
   "execution_count": null,
   "id": "76a2bebf-07c9-4154-b2ce-f4f9ab56e8cc",
   "metadata": {
    "tags": []
   },
   "outputs": [],
   "source": [
    "\"\"\"\n",
    "스칼라 값과 인덱스를 활용한 Series 생성:\n",
    "\"\"\"\n",
    "import pandas as pd\n",
    "\n",
    "# 스칼라 값과 인덱스를 사용하여 Series 생성\n",
    "s = pd.Series(5, index=['a', 'b', 'c', 'd', 'e'])\n",
    "print(s)"
   ]
  },
  {
   "cell_type": "markdown",
   "id": "19ae6a82-aac0-4128-922c-00d7d9933b42",
   "metadata": {},
   "source": [
    "## index를 활용하여 데이터 접근"
   ]
  },
  {
   "cell_type": "code",
   "execution_count": null,
   "id": "71798854-310c-4ce2-89ff-b886fac1e299",
   "metadata": {
    "tags": []
   },
   "outputs": [],
   "source": [
    "\"\"\"\n",
    "인덱스 레이블을 사용하여 접근:\n",
    "\"\"\"\n",
    "import pandas as pd\n",
    "\n",
    "# Series 생성\n",
    "data = [10, 20, 30, 40, 50]\n",
    "index = ['A', 'B', 'C', 'D', 'E']\n",
    "s = pd.Series(data, index=index)\n",
    "s"
   ]
  },
  {
   "cell_type": "markdown",
   "id": "62fee224-1432-4359-960f-2fd105c6d653",
   "metadata": {},
   "source": [
    "우선 index와 value를 명시적으로 지정한 시리즈를 만들어 보겠습니다."
   ]
  },
  {
   "cell_type": "code",
   "execution_count": null,
   "id": "8723c339-0f51-451e-9da4-d20377da6d5d",
   "metadata": {
    "tags": []
   },
   "outputs": [],
   "source": [
    "# 인덱스 레이블을 사용하여 값에 접근\n",
    "print(s['B'])  # 레이블 'B'에 해당하는 값에 접근"
   ]
  },
  {
   "cell_type": "code",
   "execution_count": null,
   "id": "12da0eb2-c7c0-4ccf-b26f-7a2072bf8852",
   "metadata": {
    "tags": []
   },
   "outputs": [],
   "source": [
    "s.loc['B']"
   ]
  },
  {
   "cell_type": "code",
   "execution_count": null,
   "id": "b317d383-5917-4e59-a45d-7011a7274bec",
   "metadata": {
    "tags": []
   },
   "outputs": [],
   "source": [
    "s[1]"
   ]
  },
  {
   "cell_type": "code",
   "execution_count": null,
   "id": "9636d602-6387-4ace-89fa-dd5c28eeefe3",
   "metadata": {
    "tags": []
   },
   "outputs": [],
   "source": [
    "s.iloc[1]"
   ]
  },
  {
   "cell_type": "markdown",
   "id": "6968a7e9-4fac-41f0-8891-e3798058a80b",
   "metadata": {
    "tags": []
   },
   "source": [
    "## 필터링"
   ]
  },
  {
   "cell_type": "code",
   "execution_count": null,
   "id": "8bca5874-163d-4e60-ab81-32d10b5bfb50",
   "metadata": {
    "tags": []
   },
   "outputs": [],
   "source": [
    "import pandas as pd\n",
    "\n",
    "# Series 생성\n",
    "data = [10, 20, 30, 40, 50]\n",
    "index = ['A', 'B', 'C', 'D', 'E']\n",
    "s = pd.Series(data, index=index)\n",
    "s"
   ]
  },
  {
   "cell_type": "code",
   "execution_count": null,
   "id": "f3403a42-0b34-45a1-8928-dfe9148e4b0d",
   "metadata": {
    "tags": []
   },
   "outputs": [],
   "source": [
    "# 30 초과인 경우만 출력\n",
    "s[s>30]"
   ]
  },
  {
   "cell_type": "code",
   "execution_count": null,
   "id": "68c4d14d-2062-4396-b1de-228dfc9c8992",
   "metadata": {
    "tags": []
   },
   "outputs": [],
   "source": [
    "# 30초과 50미만\n",
    "s[(s>30) & (s<50)]"
   ]
  },
  {
   "cell_type": "code",
   "execution_count": null,
   "id": "fbc09894-2f25-4c99-be2e-05fa877e9df8",
   "metadata": {
    "tags": []
   },
   "outputs": [],
   "source": [
    "# 20이거나 40이거나\n",
    "s[(s==20) | (s==40)]"
   ]
  },
  {
   "cell_type": "code",
   "execution_count": null,
   "id": "121ec846-7f8b-40b0-b2c2-35143b84e95a",
   "metadata": {
    "tags": []
   },
   "outputs": [],
   "source": [
    "s[s.isin([20,40])]"
   ]
  },
  {
   "cell_type": "code",
   "execution_count": null,
   "id": "7860bf96-a42b-4f5c-a93f-e89a04c9cb41",
   "metadata": {
    "tags": []
   },
   "outputs": [],
   "source": [
    "# 20이 아닌 경우만\n",
    "s[(s!=20)]"
   ]
  },
  {
   "cell_type": "code",
   "execution_count": null,
   "id": "5836416b-ae0f-42ff-a2bc-d82861deac18",
   "metadata": {
    "tags": []
   },
   "outputs": [],
   "source": [
    "s[~(s==20)]"
   ]
  },
  {
   "cell_type": "code",
   "execution_count": null,
   "id": "f7aeaec8-c495-41de-a398-4c7b0c2fd19b",
   "metadata": {
    "tags": []
   },
   "outputs": [],
   "source": [
    "# 레이블이 \"A\",\"B\",\"D\" 인 경우만 필터링\n",
    "s[[\"A\",\"B\",\"D\"]]"
   ]
  },
  {
   "cell_type": "code",
   "execution_count": null,
   "id": "6b360974-33d1-4ca2-809c-dc3ca7b2070e",
   "metadata": {
    "tags": []
   },
   "outputs": [],
   "source": [
    "# 0,1,4번째 데이터만 필터링\n",
    "s[[0,1,4]]"
   ]
  },
  {
   "cell_type": "markdown",
   "id": "d7121e12-9177-4eee-823d-b2ec6ad8827b",
   "metadata": {},
   "source": [
    "## 슬라이싱"
   ]
  },
  {
   "cell_type": "code",
   "execution_count": null,
   "id": "573a81a5-f293-418b-b9f7-9e5a37b05475",
   "metadata": {
    "tags": []
   },
   "outputs": [],
   "source": [
    "import pandas as pd\n",
    "\n",
    "# Series 생성\n",
    "data = [10, 20, 30, 40, 50]\n",
    "index = ['A', 'B', 'C', 'D', 'E']\n",
    "s = pd.Series(data, index=index)\n",
    "s"
   ]
  },
  {
   "cell_type": "code",
   "execution_count": null,
   "id": "adb42bd6-25b1-4c7b-be9a-cefa306e61cf",
   "metadata": {
    "tags": []
   },
   "outputs": [],
   "source": [
    "s[1:3]"
   ]
  },
  {
   "cell_type": "code",
   "execution_count": null,
   "id": "b7baa358-c24d-4fd6-90de-1d5b61914d2d",
   "metadata": {
    "tags": []
   },
   "outputs": [],
   "source": [
    "s.iloc[1:3]"
   ]
  },
  {
   "cell_type": "code",
   "execution_count": null,
   "id": "78e72bb7-e12c-4218-8562-8e5e25d7b196",
   "metadata": {
    "tags": []
   },
   "outputs": [],
   "source": [
    "s[\"B\":\"D\"]"
   ]
  },
  {
   "cell_type": "code",
   "execution_count": null,
   "id": "d70dfac6-0bbd-42df-87ec-86792c07ca4c",
   "metadata": {
    "tags": []
   },
   "outputs": [],
   "source": [
    "# \"B\":\"D\"까지\n",
    "s.loc[\"B\":\"D\"]"
   ]
  },
  {
   "cell_type": "code",
   "execution_count": null,
   "id": "2f5be005-5ab1-4be8-8370-b780eef381ae",
   "metadata": {
    "tags": []
   },
   "outputs": [],
   "source": [
    "b = s.loc[\"B\":\"D\"]\n",
    "print(s,b,sep=\"\\n\")"
   ]
  },
  {
   "cell_type": "code",
   "execution_count": null,
   "id": "db26d2a9-b2cf-46ba-85f7-6d8a9bb03565",
   "metadata": {
    "tags": []
   },
   "outputs": [],
   "source": [
    "s[\"B\"] = -999\n",
    "print(s,b,sep=\"\\n\")"
   ]
  },
  {
   "cell_type": "markdown",
   "id": "2f81055f-eebc-434d-af4b-7adced7b02d2",
   "metadata": {},
   "source": [
    "## 조건식 기반 값 변경"
   ]
  },
  {
   "cell_type": "code",
   "execution_count": null,
   "id": "fb797906-5053-4bf5-b201-ef080e2297b5",
   "metadata": {
    "tags": []
   },
   "outputs": [],
   "source": [
    "\"\"\"\n",
    "조건식을 활용한 값 변경 예제\n",
    "\"\"\"\n",
    "s = pd.Series(range(10,60,10))\n",
    "print(s)\n",
    "# 30이상인데이터에 5를 더한 값으로 수정하시요\n",
    "s[s>=30] = s[s>=30]+100\n",
    "print(s)"
   ]
  },
  {
   "cell_type": "markdown",
   "id": "3ea784c9-76a0-43f8-942e-f13f25e21f9e",
   "metadata": {},
   "source": [
    "## 값 추가"
   ]
  },
  {
   "cell_type": "code",
   "execution_count": null,
   "id": "2f8ebba5-e671-4d85-ab38-bd296c62ad2c",
   "metadata": {
    "tags": []
   },
   "outputs": [],
   "source": [
    "\"\"\"\n",
    "인덱스를 이용한 값추가\n",
    "\"\"\"\n",
    "import pandas as pd\n",
    "\n",
    "# 시리즈 생성\n",
    "data = [10, 20, 30, 40]\n",
    "index = list(\"ABCD\")\n",
    "s = pd.Series(data, index=index)\n",
    "print(s)"
   ]
  },
  {
   "cell_type": "code",
   "execution_count": null,
   "id": "df4ed5f7-4e01-453e-9a13-76938dc6a33d",
   "metadata": {
    "tags": []
   },
   "outputs": [],
   "source": [
    "# loc[] 인덱서를 사용하여 값 추가\n",
    "s.loc[\"Z\"] = 50\n",
    "print(s)"
   ]
  },
  {
   "cell_type": "code",
   "execution_count": null,
   "id": "84b2055f-1d1e-4889-9bcf-44616a896cd9",
   "metadata": {
    "tags": []
   },
   "outputs": [],
   "source": [
    "s"
   ]
  },
  {
   "cell_type": "markdown",
   "id": "c616ee66-9625-459d-beea-a4023b1ced3a",
   "metadata": {
    "tags": []
   },
   "source": [
    "## 값 삭제"
   ]
  },
  {
   "cell_type": "code",
   "execution_count": null,
   "id": "71e03130-a47d-4480-b6f6-4d3833c62954",
   "metadata": {
    "tags": []
   },
   "outputs": [],
   "source": [
    "import pandas as pd\n",
    "\n",
    "# Series의 값을 삭제\n",
    "data = [10, 20, 30, 40]\n",
    "index = list(\"abcd\")\n",
    "s = pd.Series(data, index=index)\n",
    "a = s.drop('a')\n",
    "\n",
    "print(a)\n",
    "print(s)"
   ]
  },
  {
   "cell_type": "code",
   "execution_count": null,
   "id": "ca663027-157c-421f-accc-f003e8c63267",
   "metadata": {
    "tags": []
   },
   "outputs": [],
   "source": [
    "import pandas as pd\n",
    "\n",
    "# 시리즈 생성\n",
    "data = [10, 20, 30, 40]\n",
    "index = list(\"abcd\")\n",
    "s = pd.Series(data, index=index)"
   ]
  },
  {
   "cell_type": "code",
   "execution_count": null,
   "id": "6b230494-be14-44e9-bc48-b693c8b61518",
   "metadata": {
    "tags": []
   },
   "outputs": [],
   "source": [
    "# 값 삭제시 inplace 파리미터 활용\n",
    "a = s.drop('a', inplace=True)\n",
    "s"
   ]
  },
  {
   "cell_type": "code",
   "execution_count": null,
   "id": "796956e7-bbc7-44b6-84d0-ce4362be222e",
   "metadata": {
    "tags": []
   },
   "outputs": [],
   "source": [
    "print(a)"
   ]
  },
  {
   "cell_type": "code",
   "execution_count": null,
   "id": "70cb4003-f00b-4663-8d51-31bcfd98be66",
   "metadata": {
    "tags": []
   },
   "outputs": [],
   "source": [
    "# 시리즈 생성\n",
    "data = [10, 20, 30, 40]\n",
    "index = list(\"abcd\")\n",
    "s = pd.Series(data, index=index)\n",
    "print(s)\n",
    "print(s.drop([\"b\", \"c\"]))"
   ]
  },
  {
   "cell_type": "markdown",
   "id": "89587190-27d1-49d5-a3f1-6f2ab3910f05",
   "metadata": {},
   "source": [
    "## 정렬 (sort_values, sort_index)"
   ]
  },
  {
   "cell_type": "code",
   "execution_count": null,
   "id": "d6d7832a-7a7a-4494-97e0-5864ebb7aaff",
   "metadata": {
    "tags": []
   },
   "outputs": [],
   "source": [
    "import pandas as pd\n",
    "import numpy as np\n",
    "\n",
    "# 시리즈 생성\n",
    "s = pd.Series(\n",
    "    data=np.random.randint(1,10,4), \n",
    "index=np.random.choice(list(\"abcd\"), 4, replace=False)\n",
    ")\n",
    "print(s)"
   ]
  },
  {
   "cell_type": "code",
   "execution_count": null,
   "id": "5663116e-1cca-40cf-ad8b-700ed3a40cc3",
   "metadata": {
    "tags": []
   },
   "outputs": [],
   "source": [
    "b = s.sort_values()\n",
    "print(b)\n",
    "print(s)"
   ]
  },
  {
   "cell_type": "code",
   "execution_count": null,
   "id": "ac5f8861-f987-4c75-b051-1048fe0c63ac",
   "metadata": {
    "tags": []
   },
   "outputs": [],
   "source": [
    "b = s.sort_values(inplace=True)\n",
    "print(b)\n",
    "print(s)"
   ]
  },
  {
   "cell_type": "code",
   "execution_count": null,
   "id": "9004409c-8cec-4863-a08c-5aead76e983b",
   "metadata": {
    "tags": []
   },
   "outputs": [],
   "source": [
    "s.sort_values(ascending=False)"
   ]
  },
  {
   "cell_type": "code",
   "execution_count": null,
   "id": "fe0c88a8-acc1-43b1-8f2b-9306b64fe410",
   "metadata": {
    "tags": []
   },
   "outputs": [],
   "source": [
    "s.sort_index()"
   ]
  },
  {
   "cell_type": "markdown",
   "id": "7a0f09b7-20a5-4b2d-afd1-f2052a4b07db",
   "metadata": {
    "tags": []
   },
   "source": [
    "## Series 연산 (+,-,*,/,//,%,**)\n",
    "\n",
    "Pandas Series간의 연산은 `인덱스를 기준`으로 자동으로 맞춰서 수행되기 때문에 `데이터의 크기가 다르더라도 연산이 가능`합니다. 또한 `브로드캐스팅` 기능을 지원하여 Series와 `스칼라(단일 값) 간의 연산도 가능`합니다. \n",
    "\n",
    "값이 없을 경우 NaN: (Not a Number)"
   ]
  },
  {
   "cell_type": "code",
   "execution_count": null,
   "id": "e2c3a97b-0bff-48ed-9571-4f7371a20f23",
   "metadata": {
    "tags": []
   },
   "outputs": [],
   "source": [
    "\"\"\"\n",
    "덧셈\n",
    "\"\"\"\n",
    "import pandas as pd\n",
    "\n",
    "# Series 생성\n",
    "s1 = pd.Series([10, 20, 30], index=['A', 'B', 'C'])\n",
    "s2 = pd.Series([5, 15, 25], index=['B', 'C', 'D'])\n",
    "print(s1)\n",
    "print(s2)\n",
    "print(s1+s2)"
   ]
  },
  {
   "cell_type": "markdown",
   "id": "98062da8-ff80-4055-b1e8-cae909005a3f",
   "metadata": {
    "tags": []
   },
   "source": [
    "## 문자열 처리 (.str)"
   ]
  },
  {
   "cell_type": "code",
   "execution_count": null,
   "id": "2168c0ef-5e2a-4e15-b705-055db2f3dcef",
   "metadata": {
    "tags": []
   },
   "outputs": [],
   "source": [
    "import pandas as pd\n",
    "import numpy as np\n",
    "\n",
    "s = pd.Series([\"Python\", \"PyTorch\", \"NumPy\", \"Pandas\", \"SciPy\"])"
   ]
  },
  {
   "cell_type": "code",
   "execution_count": null,
   "id": "e9f385fe-25db-4b63-bb03-3ee6c9e84731",
   "metadata": {
    "tags": []
   },
   "outputs": [],
   "source": [
    "s.str[:3]"
   ]
  },
  {
   "cell_type": "code",
   "execution_count": null,
   "id": "7a2463ef-607b-456d-9560-7ad403020d1d",
   "metadata": {
    "tags": []
   },
   "outputs": [],
   "source": [
    "s.str.contains(\"Py\")"
   ]
  },
  {
   "cell_type": "code",
   "execution_count": null,
   "id": "53a957e7-486c-49fc-be0c-e730dfe520dc",
   "metadata": {
    "tags": []
   },
   "outputs": [],
   "source": [
    "s.str.replace(\"Py\", \"py\")\n",
    "s"
   ]
  },
  {
   "cell_type": "code",
   "execution_count": null,
   "id": "7dfdae2f-95d0-4df9-92bd-8dba346706e3",
   "metadata": {
    "tags": []
   },
   "outputs": [],
   "source": [
    "s = pd.Series([1,2,3])\n",
    "s.str.contains(\"T\")"
   ]
  },
  {
   "cell_type": "markdown",
   "id": "bf016974-e063-412f-9e46-d7cc179bf595",
   "metadata": {},
   "source": [
    "## 통계\n"
   ]
  },
  {
   "cell_type": "code",
   "execution_count": null,
   "id": "29b94ae2-55cd-4d54-830b-67a7260a7dbd",
   "metadata": {
    "tags": []
   },
   "outputs": [],
   "source": [
    "import pandas as pd\n",
    "import numpy as np\n",
    "data = [10,-999,30,30,40,40,40,50,60,999,70]\n",
    "s = pd.Series(data, index=list(\"abcdefghijk\"),name='kor')"
   ]
  },
  {
   "cell_type": "code",
   "execution_count": null,
   "id": "8cef79cc-e596-4578-a916-d6ba4233d48a",
   "metadata": {
    "tags": []
   },
   "outputs": [],
   "source": [
    "s"
   ]
  },
  {
   "cell_type": "code",
   "execution_count": null,
   "id": "79b02cc8-a4a1-4e1a-8398-31e1cc92a494",
   "metadata": {
    "tags": []
   },
   "outputs": [],
   "source": [
    "s.max()"
   ]
  },
  {
   "cell_type": "code",
   "execution_count": null,
   "id": "41d7f659-bdab-4211-b710-f015f0f2cbf9",
   "metadata": {
    "tags": []
   },
   "outputs": [],
   "source": [
    "s.idxmax()"
   ]
  },
  {
   "cell_type": "code",
   "execution_count": null,
   "id": "a95f5696-6f2e-4064-9ceb-712790993931",
   "metadata": {
    "tags": []
   },
   "outputs": [],
   "source": [
    "s.argmax()"
   ]
  },
  {
   "cell_type": "code",
   "execution_count": null,
   "id": "6458ae4f-2d82-4773-8361-ec9d1540f769",
   "metadata": {
    "tags": []
   },
   "outputs": [],
   "source": [
    "s.min()"
   ]
  },
  {
   "cell_type": "code",
   "execution_count": null,
   "id": "895f882b-d7e2-4bc4-ba1a-0f664d51610a",
   "metadata": {
    "tags": []
   },
   "outputs": [],
   "source": [
    "s.idxmin()"
   ]
  },
  {
   "cell_type": "code",
   "execution_count": null,
   "id": "b273d37a-ba6c-4ef6-ad12-b7a7fb7123ab",
   "metadata": {
    "tags": []
   },
   "outputs": [],
   "source": [
    "s.argmin()"
   ]
  },
  {
   "cell_type": "code",
   "execution_count": null,
   "id": "863832a5-ea2e-473f-bcf4-03899c15f1ad",
   "metadata": {
    "tags": []
   },
   "outputs": [],
   "source": [
    "s.sum()"
   ]
  },
  {
   "cell_type": "code",
   "execution_count": null,
   "id": "a8c9dedc-1448-48f0-9d43-d882cb15d131",
   "metadata": {
    "tags": []
   },
   "outputs": [],
   "source": [
    "s.mean()"
   ]
  },
  {
   "cell_type": "code",
   "execution_count": null,
   "id": "d78ce620-f150-4496-b8e5-8675ae743e7f",
   "metadata": {
    "tags": []
   },
   "outputs": [],
   "source": [
    "s.nlargest(2)"
   ]
  },
  {
   "cell_type": "code",
   "execution_count": null,
   "id": "1542940d-0eb2-4717-996b-0c727d9d229a",
   "metadata": {
    "tags": []
   },
   "outputs": [],
   "source": [
    "s.nsmallest(2)"
   ]
  },
  {
   "cell_type": "code",
   "execution_count": null,
   "id": "5e091640-444a-479a-b5cb-3ca3eccdb944",
   "metadata": {
    "tags": []
   },
   "outputs": [],
   "source": [
    "s.rank(method=\"average\")"
   ]
  },
  {
   "cell_type": "code",
   "execution_count": null,
   "id": "0ee328f4-3f2e-40a2-afaf-3998fb79a2dd",
   "metadata": {
    "tags": []
   },
   "outputs": [],
   "source": [
    "s.rank(method=\"min\")"
   ]
  },
  {
   "cell_type": "code",
   "execution_count": null,
   "id": "4f84e89e-2086-453b-97d0-e7f112e445ea",
   "metadata": {
    "tags": []
   },
   "outputs": [],
   "source": [
    "s.mean()"
   ]
  },
  {
   "cell_type": "code",
   "execution_count": null,
   "id": "cb720814-0885-429d-a7d5-67bcf4f48555",
   "metadata": {
    "tags": []
   },
   "outputs": [],
   "source": [
    "s.mean().round(3)"
   ]
  },
  {
   "cell_type": "code",
   "execution_count": null,
   "id": "9e05e1f3-4f03-4757-80a1-779b77552f7d",
   "metadata": {
    "tags": []
   },
   "outputs": [],
   "source": [
    "s.quantile(.1)"
   ]
  },
  {
   "cell_type": "code",
   "execution_count": null,
   "id": "ff060bd5-3fc4-4666-8ae0-25c8d45ad835",
   "metadata": {
    "tags": []
   },
   "outputs": [],
   "source": [
    "s.quantile(.5)"
   ]
  },
  {
   "cell_type": "code",
   "execution_count": null,
   "id": "3d5f5e0a-407b-4a03-8ccd-2083a32afceb",
   "metadata": {
    "tags": []
   },
   "outputs": [],
   "source": [
    "s.median()"
   ]
  },
  {
   "cell_type": "code",
   "execution_count": null,
   "id": "3f67628e-0fbb-4498-b465-ca6175bf1dad",
   "metadata": {
    "tags": []
   },
   "outputs": [],
   "source": [
    "s.value_counts()"
   ]
  },
  {
   "cell_type": "code",
   "execution_count": null,
   "id": "f767214d-e37f-4df9-b79a-db43a6c5f188",
   "metadata": {
    "tags": []
   },
   "outputs": [],
   "source": [
    "type(s.value_counts())"
   ]
  },
  {
   "cell_type": "code",
   "execution_count": null,
   "id": "40008f41-51dd-447a-9561-9b46e2a122f3",
   "metadata": {
    "tags": []
   },
   "outputs": [],
   "source": [
    "s.unique()"
   ]
  },
  {
   "cell_type": "code",
   "execution_count": null,
   "id": "c533e9d6-f050-42d0-83fe-294a82971ebe",
   "metadata": {
    "tags": []
   },
   "outputs": [],
   "source": [
    "type(s.unique())"
   ]
  },
  {
   "cell_type": "code",
   "execution_count": null,
   "id": "ce444e14-857c-45c7-ac59-1abe8d9e3764",
   "metadata": {
    "tags": []
   },
   "outputs": [],
   "source": [
    "s.nunique()"
   ]
  },
  {
   "cell_type": "code",
   "execution_count": null,
   "id": "c0a41b4d-6981-4fec-83da-e93d3530780d",
   "metadata": {
    "tags": []
   },
   "outputs": [],
   "source": [
    "s.size"
   ]
  },
  {
   "cell_type": "code",
   "execution_count": null,
   "id": "dc72f0c1-f681-40d2-8fc0-2c1dfaea858f",
   "metadata": {
    "tags": []
   },
   "outputs": [],
   "source": [
    "len(s)"
   ]
  },
  {
   "cell_type": "markdown",
   "id": "29297d17-72ff-416f-9eb6-2b4d15e1f0f7",
   "metadata": {},
   "source": [
    "### 시각화를 위하여 matplotlib 설치\n",
    "\n",
    "```bash\n",
    "pip install matplotlib\n",
    "```"
   ]
  },
  {
   "cell_type": "code",
   "execution_count": null,
   "id": "be6c3db6-117e-47ad-aea3-6ba37c0511fa",
   "metadata": {
    "tags": []
   },
   "outputs": [],
   "source": [
    "s = pd.Series(np.random.randn(100))"
   ]
  },
  {
   "cell_type": "code",
   "execution_count": null,
   "id": "239d42a7-4f46-4ad7-8fd1-8e0d491345b8",
   "metadata": {
    "tags": []
   },
   "outputs": [],
   "source": [
    "s.plot()"
   ]
  },
  {
   "cell_type": "code",
   "execution_count": null,
   "id": "620f7389-1ac3-4526-8750-cedf17849681",
   "metadata": {
    "tags": []
   },
   "outputs": [],
   "source": [
    "s.hist(bins=10)"
   ]
  },
  {
   "cell_type": "code",
   "execution_count": null,
   "id": "5b50c299-9760-43ae-8807-437b172c5b7b",
   "metadata": {
    "tags": []
   },
   "outputs": [],
   "source": [
    "s.plot(kind=\"kde\")"
   ]
  },
  {
   "cell_type": "code",
   "execution_count": null,
   "id": "e4bbe150-09c7-4f33-b8d9-9aa1b1932653",
   "metadata": {
    "tags": []
   },
   "outputs": [],
   "source": [
    "s.plot(kind=\"box\")"
   ]
  },
  {
   "cell_type": "markdown",
   "id": "796f4472-13d0-48b1-a001-7b4b989760f0",
   "metadata": {
    "tags": []
   },
   "source": [
    "## concat"
   ]
  },
  {
   "cell_type": "code",
   "execution_count": null,
   "id": "94fc67ac-8650-420f-847d-f98024284ac5",
   "metadata": {
    "tags": []
   },
   "outputs": [],
   "source": [
    "\"\"\"\n",
    "concat\n",
    "\"\"\"\n",
    "import pandas as pd\n",
    "\n",
    "# Series 생성\n",
    "s1 = pd.Series([10, 20, 30], index=['A', 'B', 'C'])\n",
    "s2 = pd.Series([5, 15, 25], index=['B', 'C', 'D'])\n",
    "\n",
    "s3 = pd.concat([s1, s2])\n",
    "s3"
   ]
  },
  {
   "cell_type": "markdown",
   "id": "bcc76e13-5dbe-4cdb-9aa6-353af0a5bb9b",
   "metadata": {},
   "source": [
    "## Series의 이름과 설정 변경\n",
    "\n",
    "`Series` 의 이름은 `DataFrame`으로 생성시 `column 이름`으로 활용됨"
   ]
  },
  {
   "cell_type": "code",
   "execution_count": null,
   "id": "b8c0da70-de72-4303-9d5d-e74cca0d6bb6",
   "metadata": {
    "tags": []
   },
   "outputs": [],
   "source": [
    "\"\"\"\n",
    "Series의 이름 설정 및 변경:\n",
    "\"\"\"\n",
    "import pandas as pd\n",
    "\n",
    "# Series 생성\n",
    "data = [10, 20, 30, 40, 50]\n",
    "index = ['A', 'B', 'C', 'D', 'E']\n",
    "s = pd.Series(data,  index=index, name = 'ExampleData')\n",
    "print(s)"
   ]
  },
  {
   "cell_type": "code",
   "execution_count": null,
   "id": "ce7c77c6-3f79-40ba-a32f-e45ed6b529ff",
   "metadata": {
    "tags": []
   },
   "outputs": [],
   "source": [
    "\"\"\"\n",
    "Series의 이름 설정 및 변경:\n",
    "\"\"\"\n",
    "import pandas as pd\n",
    "\n",
    "# Series 생성\n",
    "data = [10, 20, 30, 40, 50]\n",
    "index = ['A', 'B', 'C', 'D', 'E']\n",
    "s = pd.Series(data,  index=index )\n",
    "\n",
    "# Series 이름 설정\n",
    "s.name = 'SampleData'\n",
    "print(s)\n"
   ]
  }
 ],
 "metadata": {
  "kernelspec": {
   "display_name": "Python 3 (ipykernel)",
   "language": "python",
   "name": "python3"
  },
  "language_info": {
   "codemirror_mode": {
    "name": "ipython",
    "version": 3
   },
   "file_extension": ".py",
   "mimetype": "text/x-python",
   "name": "python",
   "nbconvert_exporter": "python",
   "pygments_lexer": "ipython3",
   "version": "3.9.1"
  }
 },
 "nbformat": 4,
 "nbformat_minor": 5
}
