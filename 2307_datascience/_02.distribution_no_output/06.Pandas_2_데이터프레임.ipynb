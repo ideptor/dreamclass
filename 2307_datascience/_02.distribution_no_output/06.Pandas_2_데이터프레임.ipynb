{
 "cells": [
  {
   "cell_type": "markdown",
   "id": "7df1af8c-631f-4ea3-ba28-3ce823e7fa50",
   "metadata": {},
   "source": [
    "# Pandas DataFrame\n",
    "- DataFrame 생성\n",
    "- column 변경\n",
    "- element 접근\n",
    "- 필터링 / 슬라이싱 / 정렬\n",
    "- 데이터 변경 / 추가 / 삭제\n",
    "- 통계\n",
    "- 시각화"
   ]
  },
  {
   "cell_type": "markdown",
   "id": "da952dc3-7100-4d84-9d4b-7ddef56f7102",
   "metadata": {},
   "source": [
    "# DataFrame \n",
    "\n",
    "- DataFrame은 `2차원 테이블 형태`의 데이터 구조로, `행`과 `열`로 이루어져 있습니다. \n",
    "- DataFrame은 `여러 개의 Series`로 구성되어 있으며, 각 `Series`는 하나의 `열(column)`을 나타냅니다. \n",
    "- DataFrame은 여러 데이터 타입을 포함할 수 있으며, 각 열은 서로 다른 데이터 타입을 가질 수 있습니다."
   ]
  },
  {
   "cell_type": "markdown",
   "id": "dac4e79f-f007-413a-9d56-f79272734545",
   "metadata": {},
   "source": [
    "## 하나의 Series를 데이터 프레임으로 변환"
   ]
  },
  {
   "cell_type": "code",
   "execution_count": null,
   "id": "86cf96c6-d75b-46f3-b579-7c3042de9ecf",
   "metadata": {
    "tags": []
   },
   "outputs": [],
   "source": [
    "import pandas as pd\n",
    "s = pd.Series([1,2,3], index=list(\"ABC\"))\n",
    "s.name = \"grade\"\n",
    "s.index.name = \"name\"\n",
    "print(s)"
   ]
  },
  {
   "cell_type": "code",
   "execution_count": null,
   "id": "59c33441-d0a1-4c16-8f86-65b7cf14686a",
   "metadata": {
    "tags": []
   },
   "outputs": [],
   "source": [
    "# to_frame() 활용\n",
    "print(type(s.to_frame()), end=\"\\n----\\n\")\n",
    "s.to_frame()"
   ]
  },
  {
   "cell_type": "code",
   "execution_count": null,
   "id": "b651d5c4-ede6-43f5-a973-6e40acd7cc6f",
   "metadata": {
    "tags": []
   },
   "outputs": [],
   "source": [
    "# reset_index() 활용\n",
    "s.reset_index()"
   ]
  },
  {
   "cell_type": "markdown",
   "id": "a2baac7b-ec74-402b-986e-c46c032e4505",
   "metadata": {},
   "source": [
    "## Series를 pd.concat으로 결합하는 방법"
   ]
  },
  {
   "cell_type": "code",
   "execution_count": null,
   "id": "28ab1ef9-28de-4148-9a4b-65074995a1a6",
   "metadata": {
    "tags": []
   },
   "outputs": [],
   "source": [
    "\"\"\"\n",
    "판다스 시리즈를 활용한 데이터프레임 생성\n",
    "\"\"\"\n",
    "import pandas as pd\n",
    "\n",
    "# 시리즈 생성\n",
    "names = pd.Series(['Alice', 'Bob', 'Charlie'], name=\"Name\")\n",
    "ages = pd.Series([25, 30, 35], name=\"Age\")\n",
    "scores = pd.Series([85.5, 92.0, 78.5], name=\"Score\")\n",
    "\n",
    "# 시리즈들을 열방향으로 결합하여 데이터프레임 생성\n",
    "df = pd.concat([names, ages, scores], axis=1)\n",
    "df"
   ]
  },
  {
   "cell_type": "code",
   "execution_count": null,
   "id": "504d8d9a-c3c5-4d20-94bc-d32373ea9db7",
   "metadata": {
    "tags": []
   },
   "outputs": [],
   "source": [
    "# 시리즈를 행 방향으로 결함\n",
    "pd.concat([names, ages, scores])"
   ]
  },
  {
   "cell_type": "code",
   "execution_count": null,
   "id": "195d1686-2acb-4a4c-b195-f136bd6a9a10",
   "metadata": {
    "tags": []
   },
   "outputs": [],
   "source": [
    "type(pd.concat([names, ages, scores]))"
   ]
  },
  {
   "cell_type": "markdown",
   "id": "cb0f1f62-17f8-4faf-ba01-1b56cb3921a6",
   "metadata": {},
   "source": [
    "## 딕셔너리를 활용하는 방법"
   ]
  },
  {
   "cell_type": "code",
   "execution_count": null,
   "id": "f0b5d2ed-7ce2-436b-a8e1-e417262ad365",
   "metadata": {
    "tags": []
   },
   "outputs": [],
   "source": [
    "\"\"\"\n",
    "판다스 시리즈를 활용한 데이터프레임 생성 2\n",
    "\"\"\"\n",
    "import pandas as pd\n",
    "\n",
    "# 시리즈 생성\n",
    "names = pd.Series(['Alice', 'Bob', 'Charlie'])\n",
    "ages = pd.Series([25, 30, 35])\n",
    "scores = pd.Series([85.5, 92.0, 78.5])\n",
    "\n",
    "# 데이터프레임 생성 (열 이름을 지정)\n",
    "df = pd.DataFrame({\n",
    "    'Name': names,\n",
    "    'Age': ages,\n",
    "    'Score': scores\n",
    "})\n",
    "df"
   ]
  },
  {
   "cell_type": "code",
   "execution_count": null,
   "id": "0a382b0a-aaa3-4abc-b5c5-053b7de0184a",
   "metadata": {
    "tags": []
   },
   "outputs": [],
   "source": [
    "\"\"\"\n",
    "딕셔너리를 활용한 데이터프레임 생성:\n",
    "\"\"\"\n",
    "import pandas as pd\n",
    "\n",
    "# 딕셔너리를 사용하여 데이터프레임 생성\n",
    "data = {\n",
    "    'Name': ['Alice', 'Bob', 'Charlie'], # 열\n",
    "    'Age': [25, 30, 35],                 # 열\n",
    "    'Score': [85.5, 92.0, 78.5]          # 열\n",
    "}\n",
    "\n",
    "df = pd.DataFrame(data)\n",
    "df"
   ]
  },
  {
   "cell_type": "markdown",
   "id": "6dd65cd5-8ac5-40ee-9a38-aaa3a1edc70a",
   "metadata": {},
   "source": [
    "## 배열을 활용하는 방법"
   ]
  },
  {
   "cell_type": "code",
   "execution_count": null,
   "id": "5c5e81d5-439d-4fe7-8825-271cbe1c8427",
   "metadata": {
    "tags": []
   },
   "outputs": [],
   "source": [
    "\"\"\"\n",
    "딕셔너리의 리스트를 활용한 데이터프레임 생성:\n",
    "\"\"\"\n",
    "import pandas as pd\n",
    "\n",
    "# 리스트의 리스트를 사용하여 데이터프레임 생성\n",
    "data = [\n",
    "    {'name':'Alice', 'Age':25, 'Score':85.5},\n",
    "    {'name':'Bob', 'Age':30, 'Score':92.0},\n",
    "    {'name':'Charlie', 'Age':35, 'Score':78.5, \"Gender\":\"Male\"}\n",
    "]\n",
    "\n",
    "df = pd.DataFrame(data)\n",
    "df\n",
    "    "
   ]
  },
  {
   "cell_type": "code",
   "execution_count": null,
   "id": "4b7461a9-77cf-4274-b180-1fac54bee7d4",
   "metadata": {
    "tags": []
   },
   "outputs": [],
   "source": [
    "df.info()"
   ]
  },
  {
   "cell_type": "code",
   "execution_count": null,
   "id": "d4f0912b-368c-499a-aaf0-fc7377ccf0a9",
   "metadata": {
    "tags": []
   },
   "outputs": [],
   "source": [
    "\"\"\"\n",
    "리스트의 리스트를 활용한 데이터프레임 생성:\\\n",
    "\"\"\"\n",
    "import pandas as pd\n",
    "\n",
    "# 리스트의 리스트를 사용하여 데이터프레임 생성\n",
    "data = [\n",
    "    ['Alice', 25, 85.5],  # 행\n",
    "    ['Bob', 30, 92.0],    # 행\n",
    "    ['Charlie', 35, 78.5] # 행\n",
    "]\n",
    "\n",
    "df = pd.DataFrame(data)\n",
    "df"
   ]
  },
  {
   "cell_type": "code",
   "execution_count": null,
   "id": "0600dc05-53a6-4664-bf60-e3e57ded59a9",
   "metadata": {
    "tags": []
   },
   "outputs": [],
   "source": [
    "df.columns=[\"Name\", \"Age\", \"Score\"]\n",
    "df"
   ]
  },
  {
   "cell_type": "code",
   "execution_count": null,
   "id": "a32f869e-71e8-41b2-9edf-fdd8766e68c6",
   "metadata": {
    "tags": []
   },
   "outputs": [],
   "source": [
    "df = pd.DataFrame(data, columns=[\"Name\", \"Age\", \"Score\"])\n",
    "df"
   ]
  },
  {
   "cell_type": "code",
   "execution_count": null,
   "id": "4fe7c37c-2c24-461f-8432-e6dd80267bfe",
   "metadata": {
    "tags": []
   },
   "outputs": [],
   "source": [
    "df.info()"
   ]
  },
  {
   "cell_type": "markdown",
   "id": "4c746266-b6fb-4b8f-bd80-73c5929f243c",
   "metadata": {},
   "source": [
    "## 파일로 부터 데이터프레임 만들기"
   ]
  },
  {
   "cell_type": "code",
   "execution_count": null,
   "id": "ea4ca280-9168-44f1-8747-da065306f9f3",
   "metadata": {
    "tags": []
   },
   "outputs": [],
   "source": [
    "\"\"\"\n",
    "파일로 부터 읽어오기\n",
    "\"\"\"\n",
    "import pandas as pd\n",
    "\n",
    "df = pd.read_csv(\"sample.csv\", )"
   ]
  },
  {
   "cell_type": "code",
   "execution_count": null,
   "id": "c0a0e729-a13f-456c-a2f4-6787702a3196",
   "metadata": {
    "tags": []
   },
   "outputs": [],
   "source": [
    "# pandas 에서 제공하는 read_XXX 함수 목록\n",
    "list(filter(lambda x: x.startswith(\"read\"), dir(pd)))"
   ]
  },
  {
   "cell_type": "markdown",
   "id": "b6cb51c8-50e6-4618-9d49-4a4d5df8ae26",
   "metadata": {},
   "source": [
    "## 데이터프레임 주요 속성 "
   ]
  },
  {
   "cell_type": "code",
   "execution_count": null,
   "id": "a8316639-a78b-43f1-8b55-2786c8798b0d",
   "metadata": {
    "tags": []
   },
   "outputs": [],
   "source": [
    "df.info()"
   ]
  },
  {
   "cell_type": "code",
   "execution_count": null,
   "id": "42600caa-a485-49f6-9e9a-12c1299c03b1",
   "metadata": {
    "tags": []
   },
   "outputs": [],
   "source": [
    "df.T"
   ]
  },
  {
   "cell_type": "code",
   "execution_count": null,
   "id": "4b72886b-bd01-4543-84f5-e9b391193513",
   "metadata": {
    "tags": []
   },
   "outputs": [],
   "source": [
    "df.transpose()"
   ]
  },
  {
   "cell_type": "code",
   "execution_count": null,
   "id": "b1281df9-c58a-4352-9248-9a5d123da6de",
   "metadata": {
    "tags": []
   },
   "outputs": [],
   "source": [
    "df"
   ]
  },
  {
   "cell_type": "code",
   "execution_count": null,
   "id": "5e0b4cc7-d502-4a1d-9494-6e4019e33542",
   "metadata": {
    "tags": []
   },
   "outputs": [],
   "source": [
    "type(df)"
   ]
  },
  {
   "cell_type": "code",
   "execution_count": null,
   "id": "6f2c3b78-861b-468d-a47e-849b75fc5322",
   "metadata": {
    "tags": []
   },
   "outputs": [],
   "source": [
    "df.index"
   ]
  },
  {
   "cell_type": "code",
   "execution_count": null,
   "id": "39f30003-3579-49e9-a480-8e41b368ab26",
   "metadata": {
    "tags": []
   },
   "outputs": [],
   "source": [
    "type(df.index)"
   ]
  },
  {
   "cell_type": "code",
   "execution_count": null,
   "id": "4e2417de-eaf2-420a-856c-e133499912ef",
   "metadata": {
    "tags": []
   },
   "outputs": [],
   "source": [
    "df.columns"
   ]
  },
  {
   "cell_type": "code",
   "execution_count": null,
   "id": "bda2c963-21eb-4396-862e-b5921031eb5a",
   "metadata": {
    "tags": []
   },
   "outputs": [],
   "source": [
    "df.size"
   ]
  },
  {
   "cell_type": "code",
   "execution_count": null,
   "id": "aca13dfe-2161-4f09-9ecb-16ddce933fc0",
   "metadata": {
    "tags": []
   },
   "outputs": [],
   "source": [
    "df.shape"
   ]
  },
  {
   "cell_type": "code",
   "execution_count": null,
   "id": "2d782d67-6433-4673-bdd2-fc137e23d6a3",
   "metadata": {
    "tags": []
   },
   "outputs": [],
   "source": [
    "df.describe()"
   ]
  },
  {
   "cell_type": "markdown",
   "id": "fe223f37-9913-432a-8be9-534a723e741c",
   "metadata": {
    "tags": []
   },
   "source": [
    "## column 변경"
   ]
  },
  {
   "cell_type": "code",
   "execution_count": null,
   "id": "9fee7ded-b588-4f84-8004-7cd31ffd4351",
   "metadata": {
    "tags": []
   },
   "outputs": [],
   "source": [
    "import pandas as pd\n",
    "\n",
    "# 데이터프레임 생성\n",
    "data = [\n",
    "    ['Alice', 25, 85.5],\n",
    "    ['Bob', 30, 92.0],\n",
    "    ['Charlie', 35, 78.5]\n",
    "]\n",
    "df = pd.DataFrame(data, columns=['Name', 'Age', 'Score'])\n",
    "df"
   ]
  },
  {
   "cell_type": "code",
   "execution_count": null,
   "id": "e2d732f6-1936-4ddc-88de-2b5b6697d070",
   "metadata": {
    "tags": []
   },
   "outputs": [],
   "source": [
    "# column 순서를 \"Name\", \"Score\", \"Age\"로 변경\n",
    "df = df[[\"Name\", \"Score\", \"Age\"]]\n",
    "df"
   ]
  },
  {
   "cell_type": "code",
   "execution_count": null,
   "id": "7907f0f3-f8ab-4400-89bb-fec658435c93",
   "metadata": {
    "tags": []
   },
   "outputs": [],
   "source": [
    "import pandas as pd\n",
    "\n",
    "data = [\n",
    "    ['Alice', 25, 85.5],\n",
    "    ['Bob', 30, 92.0],\n",
    "    ['Charlie', 35, 78.5]\n",
    "]\n",
    "df = pd.DataFrame(data, columns=['Name', 'Age', 'Score'])\n",
    "df"
   ]
  },
  {
   "cell_type": "code",
   "execution_count": null,
   "id": "d8e36850-2d20-474e-b739-0a0aec07e196",
   "metadata": {
    "tags": []
   },
   "outputs": [],
   "source": [
    "# column 이름 변경 (Name->Nick)한 새로운 데이터프레임을 리턴\n",
    "df.rename(columns=dict(Name=\"Nick\"))"
   ]
  },
  {
   "cell_type": "code",
   "execution_count": null,
   "id": "38d0976c-2510-4da8-a0e5-7efb67dbaa6e",
   "metadata": {
    "tags": []
   },
   "outputs": [],
   "source": [
    "# 원본 데이터는 변경되지 않음\n",
    "df"
   ]
  },
  {
   "cell_type": "code",
   "execution_count": null,
   "id": "54d85e4d-d979-4dc6-b0d0-433792b18bf8",
   "metadata": {
    "tags": []
   },
   "outputs": [],
   "source": [
    "# 원본 데이터의 컬럼 이름을 변경\n",
    "df.rename(columns=dict(Name=\"Nick\"), inplace=True)\n",
    "df"
   ]
  },
  {
   "cell_type": "code",
   "execution_count": null,
   "id": "179d9bda-5c3e-47d9-9d6b-90942ad5060e",
   "metadata": {
    "tags": []
   },
   "outputs": [],
   "source": [
    "# columns 속성을 활용\n",
    "df.columns=[\"Nick\", \"Year\", \"Point\"]"
   ]
  },
  {
   "cell_type": "code",
   "execution_count": null,
   "id": "1a358d28-4758-4517-87d2-12dd7732624a",
   "metadata": {
    "tags": []
   },
   "outputs": [],
   "source": [
    "df"
   ]
  },
  {
   "cell_type": "markdown",
   "id": "5aba2251-86cd-4ccc-be42-3871cae73ef0",
   "metadata": {},
   "source": [
    "## DataFrame 내 단일 element 접근\n",
    "\n",
    "Pandas DataFrame에서 개별 원소에 접근하는 방식입니다.\n",
    "- `iat[행, 열]` 인덱서 \n",
    "- `iloc[행, 열]` 인덱서\n",
    "- `at[행, 열]` 라벨 기반 인덱서\n",
    "- `loc[행, 열]` 라벨 기반 인덱서"
   ]
  },
  {
   "cell_type": "code",
   "execution_count": null,
   "id": "ef7ab106-0b83-4d41-91e7-5426a5b1a036",
   "metadata": {
    "tags": []
   },
   "outputs": [],
   "source": [
    "import pandas as pd\n",
    "\n",
    "# DataFrame 생성\n",
    "data = {\n",
    "    'Name': ['Alice', 'Bob', 'Charlie'],\n",
    "    'Age': [25, 30, 35],\n",
    "    'Score': [85.5, 92.0, 78.5]\n",
    "}\n",
    "df = pd.DataFrame(data, index = list(\"ABC\"))\n",
    "df"
   ]
  },
  {
   "cell_type": "code",
   "execution_count": null,
   "id": "3aae2294-dcbe-477d-bedc-c35f60edff50",
   "metadata": {
    "tags": []
   },
   "outputs": [],
   "source": [
    "\"\"\"\n",
    "iat[행, 열] 인덱서를 사용하여 원소에 접근\n",
    "\"\"\"\n",
    "df.iat[0,1]"
   ]
  },
  {
   "cell_type": "code",
   "execution_count": null,
   "id": "9c4391c5-da9a-4379-92e6-17be74fed554",
   "metadata": {
    "tags": []
   },
   "outputs": [],
   "source": [
    "type(df.iat[0,1])"
   ]
  },
  {
   "cell_type": "code",
   "execution_count": null,
   "id": "3d8fedad-518a-4aa2-bb7a-cb17ca8b3eb1",
   "metadata": {
    "tags": []
   },
   "outputs": [],
   "source": [
    "\"\"\"\n",
    "iloc[행, 열] 인덱서를 사용하여 원소에 접근\n",
    "\"\"\"\n",
    "element_1 = df.iloc[0, 1]  # 인덱스 0의 행, 인덱스 1의 열\n",
    "element_2 = df.iloc[1, 2]  # 인덱스 1의 행, 인덱스 2의 열\n",
    "print(element_1, element_2, sep=\"\\n\")"
   ]
  },
  {
   "cell_type": "code",
   "execution_count": null,
   "id": "3bed90a2-9fad-465e-acc8-177997c5a2a6",
   "metadata": {
    "tags": []
   },
   "outputs": [],
   "source": [
    "\"\"\"\n",
    "at[행, 열] 라벨 기반 인덱서를 사용하여 원소에 접근\n",
    "\"\"\"\n",
    "df.at[\"A\", \"Age\"]"
   ]
  },
  {
   "cell_type": "code",
   "execution_count": null,
   "id": "f4afa865-41f7-42ea-bf00-79069be472dd",
   "metadata": {
    "tags": []
   },
   "outputs": [],
   "source": [
    "\"\"\"\n",
    "loc행, 열] 라벨 기반 인덱서를 사용하여 원소에 접근\n",
    "\"\"\"\n",
    "df.loc[\"A\", \"Age\"]"
   ]
  },
  {
   "cell_type": "markdown",
   "id": "c6194245-bf22-41c8-b812-a47d7470d89b",
   "metadata": {},
   "source": [
    "## Dataframe 내 슬라이싱 기반 Series, DataFrame 추출\n",
    "Pandas DataFrame에서 슬라이싱 기반 접근하는 방식에는 크게 두가지 방식이 있습니다.\n",
    " - `iloc[행, 열]`, `iloc[행]` 인덱서와 \n",
    " - `loc[행, 열]` 라벨 기반 인덱서 "
   ]
  },
  {
   "cell_type": "code",
   "execution_count": null,
   "id": "f1bdb764-577e-4ce4-9e1d-2740ae40b9b3",
   "metadata": {
    "tags": []
   },
   "outputs": [],
   "source": [
    "import pandas as pd\n",
    "import numpy as np\n",
    "# DataFrame 생성\n",
    "data = {\n",
    "    'Name': ['Alice', 'Bob', 'Charlie', 'David', 'Eva'],\n",
    "    'Age': [25, 30, 35, 28, 22],\n",
    "    'Score': [85.5, 92.0, 78.5, 89.3, 95.1]\n",
    "}\n",
    "df = pd.DataFrame(data, index = list(\"ABCDE\"))\n",
    "df"
   ]
  },
  {
   "cell_type": "markdown",
   "id": "391aa13b-a063-443d-8dae-c3bb09622142",
   "metadata": {},
   "source": [
    "### iloc[]인덱서"
   ]
  },
  {
   "cell_type": "code",
   "execution_count": null,
   "id": "673a573d-422d-4889-bcbf-3d3dc386b4c3",
   "metadata": {
    "tags": []
   },
   "outputs": [],
   "source": [
    "# iloc를 활용하여 행 슬라이싱\n",
    "sub = df.iloc[:2, :]\n",
    "sub"
   ]
  },
  {
   "cell_type": "code",
   "execution_count": null,
   "id": "5ba6d48c-85d8-4570-b097-1cead49bcf8a",
   "metadata": {
    "tags": []
   },
   "outputs": [],
   "source": [
    "# iloc를 활용하여 열 슬라이싱\n",
    "sub = df.iloc[:, 2:]\n",
    "sub"
   ]
  },
  {
   "cell_type": "code",
   "execution_count": null,
   "id": "4554e32f-de0c-4b4c-b95d-5be72d2d9fb4",
   "metadata": {
    "tags": []
   },
   "outputs": [],
   "source": [
    "# iloc를 활용하여 행과 열 슬라이싱\n",
    "sub = df.iloc[:2, 2:]\n",
    "sub"
   ]
  },
  {
   "cell_type": "code",
   "execution_count": null,
   "id": "d9f44226-87c2-4fc7-978d-727cc4908271",
   "metadata": {
    "tags": []
   },
   "outputs": [],
   "source": [
    "# 슬라이싱 결과는 DataFrame\n",
    "type(sub)"
   ]
  },
  {
   "cell_type": "code",
   "execution_count": null,
   "id": "be9bc622-a89a-43a3-930b-992edcd55730",
   "metadata": {
    "tags": []
   },
   "outputs": [],
   "source": [
    "# Series가 리턴되는 경우 1\n",
    "sub = df.iloc[:2, 2]\n",
    "print(type(sub), sub, sep=\"\\n\")"
   ]
  },
  {
   "cell_type": "code",
   "execution_count": null,
   "id": "e4647fc5-9f9c-4536-8100-6392a1adc811",
   "metadata": {
    "tags": []
   },
   "outputs": [],
   "source": [
    "# Series가 리턴되는 경우 2\n",
    "sub = df.iloc[2, 2:]\n",
    "print(type(sub), sub, sep=\"\\n\")"
   ]
  },
  {
   "cell_type": "code",
   "execution_count": null,
   "id": "89824b9f-dba9-4d75-8e7e-3ae571c04755",
   "metadata": {
    "tags": []
   },
   "outputs": [],
   "source": [
    "# iloc[행] : iloc의 인자가 하나만 있을 경우 해당 행의 전체 열의 데이터\n",
    "df.iloc[:2]"
   ]
  },
  {
   "cell_type": "code",
   "execution_count": null,
   "id": "5e21cb95-0a9e-4012-bb7d-8957ced61096",
   "metadata": {
    "tags": []
   },
   "outputs": [],
   "source": [
    "# 해당 행을 Series 형태로 가져옴\n",
    "df.iloc[2]"
   ]
  },
  {
   "cell_type": "code",
   "execution_count": null,
   "id": "b8078a86-6890-4982-97a0-756ff9ae677b",
   "metadata": {
    "tags": []
   },
   "outputs": [],
   "source": [
    "type(df.iloc[2])"
   ]
  },
  {
   "cell_type": "markdown",
   "id": "99f2e316-141e-4df9-9c25-d31a3b9b7f42",
   "metadata": {},
   "source": [
    "## loc[] 인덱서"
   ]
  },
  {
   "cell_type": "code",
   "execution_count": null,
   "id": "d9acbbf4-31cb-43bb-97a7-76f5627d879d",
   "metadata": {
    "tags": []
   },
   "outputs": [],
   "source": [
    "\"\"\"\n",
    "loc[]을 사용하여 Series 추출:\n",
    "\"\"\"\n",
    "\n",
    "import pandas as pd\n",
    "import numpy as np\n",
    "# DataFrame 생성\n",
    "data = {\n",
    "    'Name': ['Alice', 'Bob', 'Charlie', 'David', 'Eva'],\n",
    "    'Age': [25, 30, 35, 28, 22],\n",
    "    'Score': [85.5, 92.0, 78.5, 89.3, 95.1]\n",
    "}\n",
    "df = pd.DataFrame(data, index = list(\"ABCDE\"))\n",
    "df\n"
   ]
  },
  {
   "cell_type": "code",
   "execution_count": null,
   "id": "f5161e8b-faa8-4e3c-960a-94abf61db88f",
   "metadata": {
    "tags": []
   },
   "outputs": [],
   "source": [
    "# loc를 활용하여 행기반 인덱싱\n",
    "df.loc[\"B\":\"C\", :]"
   ]
  },
  {
   "cell_type": "code",
   "execution_count": null,
   "id": "90d19f64-9400-45e4-8289-5e1f5aea112d",
   "metadata": {
    "tags": []
   },
   "outputs": [],
   "source": [
    "# loc를 활용하여 열기반 인덱싱\n",
    "df.loc[:, \"Age\":\"Score\"]"
   ]
  },
  {
   "cell_type": "code",
   "execution_count": null,
   "id": "1bda3a72-57c9-43db-ae2f-335089d64aa7",
   "metadata": {
    "tags": []
   },
   "outputs": [],
   "source": [
    "# 슬라이승 결과는 DataFrame 임\n",
    "type(df.loc[:, \"Age\":\"Score\"])"
   ]
  },
  {
   "cell_type": "code",
   "execution_count": null,
   "id": "ff96d5c8-d2f2-4d5d-bd87-be37e330f737",
   "metadata": {
    "tags": []
   },
   "outputs": [],
   "source": [
    "# 특정 행을 Series로 \n",
    "\n",
    "df.loc[\"D\",:]"
   ]
  },
  {
   "cell_type": "code",
   "execution_count": null,
   "id": "0bd25c17-ecba-4ad3-a2b0-a2c8d081ea9f",
   "metadata": {
    "tags": []
   },
   "outputs": [],
   "source": [
    "type(df.loc[\"D\",:])"
   ]
  },
  {
   "cell_type": "code",
   "execution_count": null,
   "id": "fdc8e3de-96c3-4714-a25c-2e31ba0ce7ab",
   "metadata": {
    "tags": []
   },
   "outputs": [],
   "source": [
    "# 특정 열을 Series로 \n",
    "\n",
    "df.loc[:,\"Score\"]"
   ]
  },
  {
   "cell_type": "code",
   "execution_count": null,
   "id": "11dfa3ee-aefa-4258-91b1-3b92265b6f46",
   "metadata": {
    "tags": []
   },
   "outputs": [],
   "source": [
    "type(df.loc[:,\"Score\"])"
   ]
  },
  {
   "cell_type": "code",
   "execution_count": null,
   "id": "3c520547-f88e-4bba-b49c-59ccf83cda53",
   "metadata": {
    "tags": []
   },
   "outputs": [],
   "source": [
    "# 해\n",
    "df.loc[\"A\":\"C\"]"
   ]
  },
  {
   "cell_type": "code",
   "execution_count": null,
   "id": "897e3b5a-fa1e-472c-b13d-b6bdf8b5b116",
   "metadata": {
    "tags": []
   },
   "outputs": [],
   "source": [
    "# 해당 행을 Series 형태로 가져옴\n",
    "df.loc[\"B\"]"
   ]
  },
  {
   "cell_type": "code",
   "execution_count": null,
   "id": "0832ef1b-aaaf-4c3d-9079-50e5fa8513b0",
   "metadata": {
    "tags": []
   },
   "outputs": [],
   "source": [
    "type(df.loc[\"B\"])"
   ]
  },
  {
   "cell_type": "markdown",
   "id": "d9deae79-b994-4474-9d41-87ffc772b638",
   "metadata": {},
   "source": [
    "## [] 기반 데이터 접근\n",
    "\n",
    "Pandas DataFrame에서 []는 여러 가지 기능을 수행하는데 사용됩니다. \n",
    "\n",
    "|표현|인덱싱|기능|설명|\n",
    "|--|--|--|--|\n",
    "|df[열 이름]|df.loc[:, 열이름]|열(Column) 접근| 해당 열을 Series로 추출합니다.|\n",
    "|df[열 이름 리스트]|df.loc[:, 열이름 리스트]|여러 열에 접근 | 해당 열들을 DataFrame으로 추출합니다.|\n",
    "|df[슬라이싱]|df.loc[슬라이싱] or df.iloc[슬라이싱]|행 슬라이싱(Slicing) |하여 DataFrame에서 특정 범위의 행을 추출합니다.|\n",
    "|df[불린(Boolean) 조건]| - |조건 필터링(Condition Filtering) |조건에 맞는 행만 추출합니다.|\n",
    "\n"
   ]
  },
  {
   "cell_type": "code",
   "execution_count": null,
   "id": "42494e10-1791-470b-9c6c-26d76fbf6e6e",
   "metadata": {
    "tags": []
   },
   "outputs": [],
   "source": [
    "\"\"\"\n",
    "열(Column) 접근:\n",
    "[] 안에 열 이름을 넣으면 해당 열을 Series로 추출합니다.\n",
    "DataFrame의 열은 사전(Dict)처럼 취급되기 때문에 열 이름을 키로 사용하여 열에 접근합니다.\n",
    "\"\"\"\n",
    "import pandas as pd\n",
    "import numpy as np\n",
    "# DataFrame 생성\n",
    "data = {\n",
    "    'Name': ['Alice', 'Bob', 'Charlie', 'David', 'Eva'],\n",
    "    'Age': [25, 30, 35, 28, 22],\n",
    "    'Score': [85.5, 92.0, 78.5, 89.3, 95.1]\n",
    "}\n",
    "df = pd.DataFrame(data, index = list(\"ABCDE\"))\n",
    "df"
   ]
  },
  {
   "cell_type": "code",
   "execution_count": null,
   "id": "b93a5e21-d129-4258-ace6-e8baed3c531a",
   "metadata": {
    "tags": []
   },
   "outputs": [],
   "source": [
    "\"\"\"\n",
    "df[열이름]\n",
    "\"\"\"\n",
    "\n",
    "# 'Name' 열에 해당하는 데이터를 Series로 추출\n",
    "df[\"Name\"]"
   ]
  },
  {
   "cell_type": "code",
   "execution_count": null,
   "id": "93423607-f30d-4bdf-86c5-3c5f842a005a",
   "metadata": {
    "tags": []
   },
   "outputs": [],
   "source": [
    "type(df[\"Name\"])"
   ]
  },
  {
   "cell_type": "code",
   "execution_count": null,
   "id": "08725f7b-88b6-4faa-a183-c1517799f309",
   "metadata": {
    "tags": []
   },
   "outputs": [],
   "source": [
    "df.Name"
   ]
  },
  {
   "cell_type": "code",
   "execution_count": null,
   "id": "77dbecbe-e800-46c0-ae5c-970c2335bc6b",
   "metadata": {
    "tags": []
   },
   "outputs": [],
   "source": [
    "df.loc[:, \"Name\"]"
   ]
  },
  {
   "cell_type": "code",
   "execution_count": null,
   "id": "720ba2cc-0574-48b7-ad24-9ed9e31ece1f",
   "metadata": {
    "tags": []
   },
   "outputs": [],
   "source": [
    "\"\"\"\n",
    "여러 열에 접근:\n",
    "[] 안에 여러 열 이름을 리스트로 넣으면 해당 열들을 기반으로 DataFrame으로 추출합니다.\n",
    "\"\"\"\n",
    "# DataFrame 생성\n",
    "import pandas as pd\n",
    "import numpy as np\n",
    "# DataFrame 생성\n",
    "data = {\n",
    "    'Name': ['Alice', 'Bob', 'Charlie', 'David', 'Eva'],\n",
    "    'Age': [25, 30, 35, 28, 22],\n",
    "    'Score': [85.5, 92.0, 78.5, 89.3, 95.1]\n",
    "}\n",
    "df = pd.DataFrame(data, index = list(\"ABCDE\"))\n",
    "df"
   ]
  },
  {
   "cell_type": "code",
   "execution_count": null,
   "id": "804475a2-ccde-43aa-845b-aa9588f6529a",
   "metadata": {
    "tags": []
   },
   "outputs": [],
   "source": [
    "df[[\"Name\",\"Age\"]]"
   ]
  },
  {
   "cell_type": "code",
   "execution_count": null,
   "id": "d276f32d-b694-4f5e-9ce6-e8bcb87e6369",
   "metadata": {
    "tags": []
   },
   "outputs": [],
   "source": [
    "df.loc[:, [\"Name\",\"Age\"]]"
   ]
  },
  {
   "cell_type": "code",
   "execution_count": null,
   "id": "699f6198-4533-4bd5-b4c8-4b0ff72ab88a",
   "metadata": {
    "tags": []
   },
   "outputs": [],
   "source": [
    "df.loc[:, \"Name\":\"Age\"]"
   ]
  },
  {
   "cell_type": "code",
   "execution_count": null,
   "id": "cb0a1549-9e94-4f2d-acff-061227d8e99b",
   "metadata": {
    "tags": []
   },
   "outputs": [],
   "source": [
    "\"\"\"\n",
    "슬라이싱(Slicing):\n",
    "[] 안에 슬라이싱을 사용하여 DataFrame에서 특정 범위의 행을 추출합니다.\n",
    "\"\"\"\n",
    "\n",
    "# DataFrame 생성\n",
    "import pandas as pd\n",
    "import numpy as np\n",
    "# DataFrame 생성\n",
    "data = {\n",
    "    'Name': ['Alice', 'Bob', 'Charlie', 'David', 'Eva'],\n",
    "    'Age': [25, 30, 35, 28, 22],\n",
    "    'Score': [85.5, 92.0, 78.5, 89.3, 95.1]\n",
    "}\n",
    "df = pd.DataFrame(data, index = list(\"ABCDE\"))\n",
    "df"
   ]
  },
  {
   "cell_type": "code",
   "execution_count": null,
   "id": "aa1a5c3b-193b-42c5-a4ea-091e53131a26",
   "metadata": {
    "tags": []
   },
   "outputs": [],
   "source": [
    "# 슬라이싱을 사용하여 인덱스 1부터 3까지의 행을 추출\n",
    "df[\"B\":\"D\"]"
   ]
  },
  {
   "cell_type": "code",
   "execution_count": null,
   "id": "20e833b9-9edc-428a-9a44-c4c2e5160733",
   "metadata": {
    "tags": []
   },
   "outputs": [],
   "source": [
    "df.loc[\"B\":\"D\"]"
   ]
  },
  {
   "cell_type": "code",
   "execution_count": null,
   "id": "2f263a9a-965f-4b0c-b662-625ae57abf35",
   "metadata": {
    "tags": []
   },
   "outputs": [],
   "source": [
    "# 슬라이싱의 경우 원본데이터의 변경이 슬라이싱된 결과에 반영됨\n",
    "df2 = df.loc[\"B\":\"D\"]\n",
    "df.at[\"B\",\"Age\"]=999"
   ]
  },
  {
   "cell_type": "code",
   "execution_count": null,
   "id": "8d90d082-599d-41d5-81b4-a068af4ef2aa",
   "metadata": {
    "tags": []
   },
   "outputs": [],
   "source": [
    "df"
   ]
  },
  {
   "cell_type": "code",
   "execution_count": null,
   "id": "d554c392-1eb2-4987-a8f1-7263f131a4a0",
   "metadata": {
    "tags": []
   },
   "outputs": [],
   "source": [
    "df2"
   ]
  },
  {
   "cell_type": "markdown",
   "id": "17aa63c1-4488-42bf-b683-b8dbc3e90d6d",
   "metadata": {
    "tags": []
   },
   "source": [
    "## 조건식 기반 필터링 \n",
    "\n",
    "- []활용: numpy 기반 조건식 입력\n",
    "- query() 활용: \"\" 안에 python 기반 조건식 입력"
   ]
  },
  {
   "cell_type": "markdown",
   "id": "10493d79-9145-4e98-be1f-e43fb1e1a015",
   "metadata": {
    "tags": []
   },
   "source": [
    "### [] 활용 조건식 기반 필터링"
   ]
  },
  {
   "cell_type": "code",
   "execution_count": null,
   "id": "bc19d6e6-d284-45af-a1b3-ba3493535f4a",
   "metadata": {
    "tags": []
   },
   "outputs": [],
   "source": [
    "# DataFrame 생성\n",
    "import pandas as pd\n",
    "import numpy as np\n",
    "# DataFrame 생성\n",
    "data = {\n",
    "    'Name': ['Alice', 'Bob', 'Charlie', 'David', 'Eva'],\n",
    "    'Age': [25, 30, 35, 28, 22],\n",
    "    'Score': [85.5, 92.0, 78.5, 89.3, 95.1]\n",
    "}\n",
    "df = pd.DataFrame(data, index = list(\"ABCDE\"))\n",
    "df"
   ]
  },
  {
   "cell_type": "code",
   "execution_count": null,
   "id": "7d778d55-6cd3-4997-ae4f-7aad10be4516",
   "metadata": {
    "tags": []
   },
   "outputs": [],
   "source": [
    "# 'Age'가 30 이상인 행만 추출\n",
    "df[df[\"Age\"]>=30]"
   ]
  },
  {
   "cell_type": "code",
   "execution_count": null,
   "id": "6d01fd92-5315-487d-94e9-dbad5d4c05ea",
   "metadata": {
    "tags": []
   },
   "outputs": [],
   "source": [
    "df[df.Age>30]"
   ]
  },
  {
   "cell_type": "code",
   "execution_count": null,
   "id": "8d2ea020-fce8-4d11-83cd-505b7218d45b",
   "metadata": {
    "tags": []
   },
   "outputs": [],
   "source": [
    "# and (&)\n",
    "df[(df.Age>=25) & (df.Age<35)]"
   ]
  },
  {
   "cell_type": "code",
   "execution_count": null,
   "id": "a5dfb213-0e4c-43f4-838c-f8ed779454ec",
   "metadata": {
    "tags": []
   },
   "outputs": [],
   "source": [
    "# or (|)\n",
    "df[(df.Age>30) | (df.Score>90)]"
   ]
  },
  {
   "cell_type": "code",
   "execution_count": null,
   "id": "c2537b9a-41bf-46bc-b195-e9704d33acb6",
   "metadata": {
    "tags": []
   },
   "outputs": [],
   "source": [
    "# not (~)\n",
    "df[~(df.Age>30)]"
   ]
  },
  {
   "cell_type": "markdown",
   "id": "14064e1c-1132-43bc-80e7-8da96985d2d8",
   "metadata": {},
   "source": [
    "### query() 활용 조건식 기반 필터링"
   ]
  },
  {
   "cell_type": "code",
   "execution_count": null,
   "id": "11231b79-3262-4a83-b879-ecbef9334652",
   "metadata": {
    "tags": []
   },
   "outputs": [],
   "source": [
    "df.query(\"Age>=30 or Score>90\")"
   ]
  },
  {
   "cell_type": "code",
   "execution_count": null,
   "id": "9ced43e1-1a22-455c-8deb-f470707bd025",
   "metadata": {
    "tags": []
   },
   "outputs": [],
   "source": [
    "df.query(\"not (Age>30 or Score>90)\")"
   ]
  },
  {
   "cell_type": "markdown",
   "id": "6cfa21fe-b505-4b6d-8b23-e79891430989",
   "metadata": {},
   "source": [
    "## 데이터 추가 \n",
    "\n",
    "데이터 추가 예제:\n",
    "\n",
    "데이터를 추가하는 방법은 기본적으로 새로운 행을 데이터 프레임에 추가하는 것입니다.  여러 가지 방법으로 데이터를 추가할 수 있습니다. 가장 일반적인 방법은 loc 또는 iloc 인덱서를 사용하는 것입니다.\n"
   ]
  },
  {
   "cell_type": "markdown",
   "id": "c55ef319-84bd-472f-ba86-92fd7ce74a69",
   "metadata": {},
   "source": [
    "### 행추가"
   ]
  },
  {
   "cell_type": "code",
   "execution_count": null,
   "id": "ccb68e3f-66cf-400c-a903-c8ffa1d743b5",
   "metadata": {
    "tags": []
   },
   "outputs": [],
   "source": [
    "\"\"\"\n",
    "loc를 사용하여 row 데이터 추가하기:\n",
    "\"\"\"\n",
    "import pandas as pd\n",
    "\n",
    "# 기존 데이터 프레임 생성\n",
    "data = {\n",
    "    'Name': ['Alice', 'Bob', 'Charlie'],\n",
    "    'Age': [25, 30, 35],\n",
    "    'Score': [90,80,70],\n",
    "       }\n",
    "df = pd.DataFrame(data, index=list(\"ABC\"))\n",
    "df"
   ]
  },
  {
   "cell_type": "code",
   "execution_count": null,
   "id": "578037e3-b36b-4038-88f0-eabfca163b73",
   "metadata": {
    "tags": []
   },
   "outputs": [],
   "source": [
    "# loc를 활용하여 dictionary 데이터로 행 추가\n",
    "df.loc[\"D\"]= {'Name': 'David', 'Score': 98}\n",
    "df"
   ]
  },
  {
   "cell_type": "code",
   "execution_count": null,
   "id": "d4f74ae8-c885-4abd-a658-0e3d15466d6d",
   "metadata": {
    "tags": []
   },
   "outputs": [],
   "source": [
    "# loc를 활용하여 배열 데이터로 행 추가\n",
    "df.loc[\"E\"] =  [\"Eva\", 44, 81]\n",
    "df"
   ]
  },
  {
   "cell_type": "code",
   "execution_count": null,
   "id": "6bc8e786-9a50-4ad8-aa81-e4378beef3c1",
   "metadata": {
    "tags": []
   },
   "outputs": [],
   "source": [
    "df.loc[\"E\"] =  [\"Eva\", 44] # error -ValueError: Must have equal len keys and value when setting with an iterable"
   ]
  },
  {
   "cell_type": "code",
   "execution_count": null,
   "id": "ef0777a7-c025-4934-9b4d-feb10316f3e3",
   "metadata": {
    "tags": []
   },
   "outputs": [],
   "source": [
    "df.loc[\"T\",\"Name\":\"Age\"] = [\"Ted\", 43]\n",
    "df"
   ]
  },
  {
   "cell_type": "markdown",
   "id": "e3e1fe40-2be8-4f40-a645-9512eb786ef9",
   "metadata": {},
   "source": [
    "### 열 추가"
   ]
  },
  {
   "cell_type": "code",
   "execution_count": null,
   "id": "265614d5-285c-4b50-a9b3-a54b9c5f5a5f",
   "metadata": {
    "tags": []
   },
   "outputs": [],
   "source": [
    "\"\"\"\n",
    "loc를 사용하여 row 데이터 추가하기:\n",
    "\"\"\"\n",
    "import pandas as pd\n",
    "\n",
    "# 기존 데이터 프레임 생성\n",
    "data = {\n",
    "    'Name': ['Alice', 'Bob', 'Charlie'],\n",
    "    'Age': [25, 30, 35],\n",
    "    'Score': [90,80,70],\n",
    "       }\n",
    "df = pd.DataFrame(data, index=list(\"ABC\"))\n",
    "df"
   ]
  },
  {
   "cell_type": "code",
   "execution_count": null,
   "id": "2b58b3dc-2cca-451b-b273-353706bc6207",
   "metadata": {
    "tags": []
   },
   "outputs": [],
   "source": [
    "\"\"\"\n",
    "loc를 사용하여 열추가:\n",
    "\"\"\"\n",
    "df.loc[:, \"Gender\"] = [\"Femail\", \"Male\", \"Male\"]\n",
    "df"
   ]
  },
  {
   "cell_type": "code",
   "execution_count": null,
   "id": "80934d16-a172-4d84-87ed-77344a4aebfb",
   "metadata": {
    "tags": []
   },
   "outputs": [],
   "source": [
    "\"\"\"\n",
    "대괄호를 사용하여 열추가:\n",
    "\"\"\"\n",
    "df[\"Gender\"] = [\"Femail\", \"Male\", \"Male\"]\n",
    "df"
   ]
  },
  {
   "cell_type": "markdown",
   "id": "dc9ed191-2e77-4ece-9254-01585b6a6d17",
   "metadata": {},
   "source": [
    "\n",
    "## 데이터 삭제\n",
    "\n",
    "데이터 프레임에서는 `drop()` 메소드를 사용하여 데이터를 삭제합니다."
   ]
  },
  {
   "cell_type": "markdown",
   "id": "e39721b6-093c-4eb6-a652-f175bf912002",
   "metadata": {},
   "source": [
    "## 특정 행 삭제"
   ]
  },
  {
   "cell_type": "code",
   "execution_count": null,
   "id": "9bcc1792-dc46-4343-84dd-217a0a823840",
   "metadata": {
    "tags": []
   },
   "outputs": [],
   "source": [
    "\"\"\"\n",
    "drop() 메서드를 사용하여 특정 행 삭제하기:\n",
    "\"\"\"\n",
    "\n",
    "import pandas as pd\n",
    "\n",
    "# 기존 데이터 프레임 생성\n",
    "data = {\n",
    "    'Name': ['Alice', 'Bob', 'Charlie'],\n",
    "    'Age': [25, 30, 35],\n",
    "    'Score': [90,80,70],\n",
    "       }\n",
    "df = pd.DataFrame(data, index=list(\"ABC\"))\n",
    "df"
   ]
  },
  {
   "cell_type": "code",
   "execution_count": null,
   "id": "1fe404a4-2299-4f43-99ac-9e54f3af2b87",
   "metadata": {
    "tags": []
   },
   "outputs": [],
   "source": [
    "# drop()으로 행 삭제 1\n",
    "df.drop(\"A\")"
   ]
  },
  {
   "cell_type": "code",
   "execution_count": null,
   "id": "042f9ac8-6674-4c96-a02d-f86657663f6c",
   "metadata": {
    "tags": []
   },
   "outputs": [],
   "source": [
    "# drop()으로 행 삭제 2\n",
    "df.drop([\"A\",\"B\"])"
   ]
  },
  {
   "cell_type": "code",
   "execution_count": null,
   "id": "acfc4b2d-11cc-47be-b6b4-673d897bde28",
   "metadata": {
    "tags": []
   },
   "outputs": [],
   "source": [
    "df"
   ]
  },
  {
   "cell_type": "code",
   "execution_count": null,
   "id": "db9c977f-ffa3-4cb1-8627-c1e49f719bbb",
   "metadata": {
    "tags": []
   },
   "outputs": [],
   "source": [
    "df.drop([\"A\",\"B\"], inplace=True)\n",
    "df"
   ]
  },
  {
   "cell_type": "markdown",
   "id": "c5faad47-9766-4d67-89ce-998dcaa3ed6b",
   "metadata": {},
   "source": [
    "### 열삭제"
   ]
  },
  {
   "cell_type": "code",
   "execution_count": null,
   "id": "c95c28d9-0ae1-4ce1-82b1-b6bfd32e05de",
   "metadata": {
    "tags": []
   },
   "outputs": [],
   "source": [
    "\"\"\"\n",
    "열삭제\n",
    "\"\"\"\n",
    "\n",
    "import pandas as pd\n",
    "\n",
    "# 기존 데이터 프레임 생성\n",
    "data = {\n",
    "    'Name': ['Alice', 'Bob', 'Charlie'],\n",
    "    'Age': [25, 30, 35],\n",
    "    'Score': [90,80,70],\n",
    "       }\n",
    "df = pd.DataFrame(data, index=list(\"ABC\"))\n",
    "df"
   ]
  },
  {
   "cell_type": "code",
   "execution_count": null,
   "id": "23897383-134d-4ef3-abf0-b142fcbb03ce",
   "metadata": {
    "tags": []
   },
   "outputs": [],
   "source": [
    "# 조건에 맞는 행 삭제 (예: 나이가 30 이상인 행 삭제)\n",
    "df.drop(columns=[\"Age\"])"
   ]
  },
  {
   "cell_type": "markdown",
   "id": "de290934-b9d5-4a19-9d46-423f25cbe4c7",
   "metadata": {},
   "source": [
    "## 데이터 변경\n",
    "판다스(Pandas)에서 기존 데이터를 변경하는 방법에는 다양한 방법이 있습니다. 가장 일반적으로 사용되는 방법은 인덱싱 및 슬라이싱을 통해 특정 위치의 데이터를 수정하는 것입니다\n",
    "\n",
    "- 단일 셀의 데이터 변경:\n",
    "- 조건에 맞는 셀의 데이터 일괄 변경:\n",
    "- 새로운 시리즈로 데이터 일괄 변경:"
   ]
  },
  {
   "cell_type": "raw",
   "id": "bb49ccd9-b8fb-40a2-bf3f-d308b6485536",
   "metadata": {},
   "source": [
    "우선 단일 셀의 데이터를 변경하는 방법입니다."
   ]
  },
  {
   "cell_type": "code",
   "execution_count": null,
   "id": "1e2180ec-39eb-46d3-86d9-0ab57f3cb28f",
   "metadata": {
    "tags": []
   },
   "outputs": [],
   "source": [
    "\"\"\"\n",
    "1. 단일 셀의 데이터 변경:\n",
    "\"\"\"\n",
    "import pandas as pd\n",
    "\n",
    "# 기존 데이터 프레임 생성\n",
    "data = {\n",
    "    'Name': ['Alice', 'Bob', 'Charlie'],\n",
    "    'Age': [25, 30, 35],\n",
    "    'Score': [90,80,70],\n",
    "       }\n",
    "df = pd.DataFrame(data, index=list(\"ABC\"))\n",
    "df"
   ]
  },
  {
   "cell_type": "code",
   "execution_count": null,
   "id": "f8fd7a30-1d9c-4c96-bde3-4c1467db697b",
   "metadata": {
    "tags": []
   },
   "outputs": [],
   "source": [
    "# 특정 셀의 데이터 변경\n",
    "df.at[\"A\",\"Name\"] = \"Andrea\"\n",
    "df"
   ]
  },
  {
   "cell_type": "code",
   "execution_count": null,
   "id": "8bbc9eb8-0d3e-4eef-b245-ea79dcb31437",
   "metadata": {
    "tags": []
   },
   "outputs": [],
   "source": [
    "df.iat[1,1] =  50\n",
    "df"
   ]
  },
  {
   "cell_type": "code",
   "execution_count": null,
   "id": "7bfb6c3d-72a4-40ca-a2fc-07b94fedd71d",
   "metadata": {
    "tags": []
   },
   "outputs": [],
   "source": [
    "\"\"\"\n",
    "2. 조건에 맞는 셀의 데이터 일괄 변경:\n",
    "\"\"\"\n",
    "import pandas as pd\n",
    "\n",
    "# 기존 데이터 프레임 생성\n",
    "data = {\n",
    "    'Name': ['Alice', 'Bob', 'Charlie'],\n",
    "    'Age': [25, 30, 35],\n",
    "    'Credit': [90,80,70],\n",
    "       }\n",
    "df = pd.DataFrame(data, index=list(\"ABC\"))\n",
    "df"
   ]
  },
  {
   "cell_type": "code",
   "execution_count": null,
   "id": "01474cf1-f8fe-4958-b193-5aa26ce0b166",
   "metadata": {
    "tags": []
   },
   "outputs": [],
   "source": [
    "# 조건에 맞는 셀의 데이터 일괄 변경 (예: 나이가 30 이상인 경우 나이를 40으로 변경)\n",
    "df.loc[df.Age>=30, \"Age\"] = 40\n",
    "df"
   ]
  },
  {
   "cell_type": "code",
   "execution_count": null,
   "id": "d46f542a-e801-447f-9123-3ea0dac7c2c2",
   "metadata": {
    "tags": []
   },
   "outputs": [],
   "source": [
    "import pandas as pd\n",
    "\n",
    "# 기존 데이터 프레임 생성\n",
    "data = {\n",
    "    'Name': ['Alice', 'Bob', 'Charlie'],\n",
    "    'Age': [25, 30, 35],\n",
    "    'Credit': [90,80,70],\n",
    "       }\n",
    "df = pd.DataFrame(data, index=list(\"ABC\"))\n",
    "df"
   ]
  },
  {
   "cell_type": "code",
   "execution_count": null,
   "id": "a1ffb000-b684-4960-b996-4014db28d3b0",
   "metadata": {
    "tags": []
   },
   "outputs": [],
   "source": [
    "# Age가 30이상인 경우 해당 Age의 0.1 을 곱한 만큼 Credit 에 더하기\n",
    "df.loc[df.Age>=30, \"Credit\"] = df.loc[df.Age>=30, \"Credit\"] + (df.loc[df.Age>=30, \"Age\"]*0.1)\n",
    "df"
   ]
  },
  {
   "cell_type": "markdown",
   "id": "86b95f9e-0b5a-41da-a175-e8a21cb5b279",
   "metadata": {},
   "source": [
    "### 새로운 Series데이터로 변경"
   ]
  },
  {
   "cell_type": "code",
   "execution_count": null,
   "id": "88d8ef14-19f6-4676-a236-a048396c4ebc",
   "metadata": {
    "tags": []
   },
   "outputs": [],
   "source": [
    "# 새로운 시리즈로 데이터 일괄 변경\n",
    "df.Age = pd.Series([45,43,42],  index=list(\"ABC\"))"
   ]
  },
  {
   "cell_type": "code",
   "execution_count": null,
   "id": "545c4185-6fa2-48cf-ab9d-b8b660952d22",
   "metadata": {
    "tags": []
   },
   "outputs": [],
   "source": [
    "df"
   ]
  },
  {
   "cell_type": "markdown",
   "id": "4b8d05a2-167b-4867-9f54-249f8733d812",
   "metadata": {},
   "source": [
    "## 정렬\n",
    "데이터프레임을 정렬하는 방법\n",
    "- sort_index() 각 행의 index를 기준으로 정렬 \n",
    "- sort_values() 특정 컬럼의 값을 기준으로 정렬\n",
    "\n",
    "`ascending` 파리미터를 통해 오름차순 또는 내림차순으로 정렬"
   ]
  },
  {
   "cell_type": "code",
   "execution_count": null,
   "id": "9d5c9485-e198-4f55-b18d-7bea0e30aaf1",
   "metadata": {
    "tags": []
   },
   "outputs": [],
   "source": [
    "import pandas as pd\n",
    "\n",
    "# 데이터 생성\n",
    "data = {'Name': ['Alice', 'Bob', 'Charlie', 'David'],\n",
    "        'Age': [25, 35, 35, 28],\n",
    "        'Gender': ['Female', 'Male', 'Male', 'Male'],\n",
    "        'Height': [165, 180, 175, 170]}\n",
    "\n",
    "df = pd.DataFrame(data,  index=list(\"ABCD\"))\n",
    "df"
   ]
  },
  {
   "cell_type": "code",
   "execution_count": null,
   "id": "95e8f735-47cc-4a3e-ba5d-7e6ab1e21dc6",
   "metadata": {
    "tags": []
   },
   "outputs": [],
   "source": [
    "# 인덱스 기준으로 내림차순 정렬\n",
    "df.sort_index(ascending=False)"
   ]
  },
  {
   "cell_type": "code",
   "execution_count": null,
   "id": "192a1c0b-bc0d-4994-8fd3-189acef4bbb2",
   "metadata": {
    "tags": []
   },
   "outputs": [],
   "source": [
    "# Age 열을 기준으로 오름차순 정렬\n",
    "df.sort_values(by=\"Age\", ascending=True)"
   ]
  },
  {
   "cell_type": "code",
   "execution_count": null,
   "id": "661e094e-827b-4a67-bb04-0d5f13691829",
   "metadata": {
    "tags": []
   },
   "outputs": [],
   "source": [
    "# Height 열을 기준으로 내림차순 정렬\n",
    "df.sort_values(by=\"Height\", ascending=False)"
   ]
  },
  {
   "cell_type": "code",
   "execution_count": null,
   "id": "2827c7a8-0ad3-4013-a518-b2a961c288ab",
   "metadata": {
    "tags": []
   },
   "outputs": [],
   "source": [
    "# 여러 열을 기준으로 정렬 (나이를 먼저 오름차순으로 정렬하고, 그 다음 키를 내림차순으로 정렬)\n",
    "df.sort_values(by=[\"Age\", \"Height\"], ascending=[True, False])"
   ]
  },
  {
   "cell_type": "raw",
   "id": "ee316c5d-2f74-4f08-96e8-2a19757cc827",
   "metadata": {},
   "source": [
    "(아래내용 읽기)"
   ]
  },
  {
   "cell_type": "markdown",
   "id": "2bd05aa0-462c-411b-955c-88a59ed18456",
   "metadata": {
    "tags": []
   },
   "source": [
    "## 데이터프레임 산술 연산\n",
    "\n",
    "데이터프레임은 다양한 산술 연산을 지원하며, 기본적으로 요소별(element-wise) 연산이 이루어집니다. \n",
    "산술 연산은 데이터프레임 간의 연산 또는 데이터프레임 내부의 열 간 연산이 가능합니다. \n",
    "\n",
    "데이터프레임은 덧셈(+), 뺄셈(-), 곱셈(* ), 나눗셈(/) 등의 산술 연산을 지원하며, \n",
    "이 외에도 다양한 수학 함수를 적용할 수 있습니다. \n",
    "데이터프레임의 산술 연산은 각 행과 열의 인덱스와 컬럼명을 기준으로 동일한 경우에만 진행되며,\n",
    "한쪽이라도 없는 경우에는 NaN이 입력됩니다."
   ]
  },
  {
   "cell_type": "code",
   "execution_count": null,
   "id": "450bccee-087c-4cc1-88c5-9967c3aca933",
   "metadata": {
    "tags": []
   },
   "outputs": [],
   "source": [
    "\"\"\"\n",
    "데이터프레임 간의 덧셈 연산\n",
    "\"\"\"\n",
    "\n",
    "import pandas as pd\n",
    "\n",
    "# 데이터 생성\n",
    "data1 = {'A': [1, 2, 3],\n",
    "         'C': [4, 5, 6]}\n",
    "df1 = pd.DataFrame(data1)\n",
    "\n",
    "data2 = {'A': [7, 8, 9, 10],\n",
    "         'B': [11, 12, 13, 14],\n",
    "         'C': [15, 16, 17, 18]\n",
    "        }\n",
    "df2 = pd.DataFrame(data2)"
   ]
  },
  {
   "cell_type": "code",
   "execution_count": null,
   "id": "a5250e79-2d6d-4268-8ead-d4d28e91c465",
   "metadata": {
    "tags": []
   },
   "outputs": [],
   "source": [
    "df1"
   ]
  },
  {
   "cell_type": "code",
   "execution_count": null,
   "id": "864f1c5a-2008-412f-89a7-eb8653815e84",
   "metadata": {
    "tags": []
   },
   "outputs": [],
   "source": [
    "df2"
   ]
  },
  {
   "cell_type": "code",
   "execution_count": null,
   "id": "8ed04b9c-3bb6-47a5-9a87-3684763c0571",
   "metadata": {
    "tags": []
   },
   "outputs": [],
   "source": [
    "# 데이터프레임 간의 덧셈 연산\n",
    "\n",
    "df1+df2"
   ]
  },
  {
   "cell_type": "code",
   "execution_count": null,
   "id": "1044ddec-8bcc-4592-acea-b545699dec2d",
   "metadata": {
    "tags": []
   },
   "outputs": [],
   "source": [
    "\"\"\"\n",
    "데이터프레임 내부의 열 간 덧셈 연산\n",
    "\"\"\"\n",
    "# df1\n",
    "\n",
    "df1.A + df1.C\n"
   ]
  },
  {
   "cell_type": "markdown",
   "id": "28e95c05-f544-4e0c-9947-6be75352408b",
   "metadata": {},
   "source": [
    "## 전치(transpose)\n",
    "\n",
    "데이터프레임의 transpose() 메서드를 사용하면 행과 열을 바꾸어 데이터프레임을 전치(transpose)할 수 있습니다.  \n",
    "전치된 데이터프레임은 원래 데이터프레임의 행과 열이 서로 바뀐 형태로 반환됩니다."
   ]
  },
  {
   "cell_type": "code",
   "execution_count": null,
   "id": "57559e95-b7e0-47fc-b008-9771fc3d6aa1",
   "metadata": {
    "tags": []
   },
   "outputs": [],
   "source": [
    "import pandas as pd\n",
    "\n",
    "# 데이터 생성\n",
    "data = {'Name': ['Alice', 'Bob', 'Charlie', 'David'],\n",
    "        'Age': [25, 35, 35, 28],\n",
    "        'Gender': ['Female', 'Male', 'Male', 'Male'],\n",
    "        'Height': [165, 180, 175, 170]}\n",
    "\n",
    "df = pd.DataFrame(data,  index=list(\"ABCD\"))\n",
    "df"
   ]
  },
  {
   "cell_type": "code",
   "execution_count": null,
   "id": "d58e1879-dea4-4452-b54e-f2c37a637661",
   "metadata": {
    "tags": []
   },
   "outputs": [],
   "source": [
    "# 데이터프레임 전치\n",
    "df.transpose()"
   ]
  },
  {
   "cell_type": "code",
   "execution_count": null,
   "id": "a29c28ec-4387-4b86-bbe8-af0bd9918e09",
   "metadata": {
    "tags": []
   },
   "outputs": [],
   "source": [
    "df.T"
   ]
  },
  {
   "cell_type": "markdown",
   "id": "77fa242f-c56d-4b3c-835d-46385199e835",
   "metadata": {},
   "source": [
    "## 통계"
   ]
  },
  {
   "cell_type": "code",
   "execution_count": null,
   "id": "aeb8f02f-46cf-4968-8ba1-45b6e7ff55b7",
   "metadata": {
    "tags": []
   },
   "outputs": [],
   "source": [
    "import pandas as pd\n",
    "import numpy as np\n",
    "\n",
    "data = np.random.randint(50,100,15).reshape(5,3)\n",
    "df = pd.DataFrame(\n",
    "    data,\n",
    "    index=\"Alice Bob Charlie David Eva\".split(),\n",
    "    columns=\"Kor Eng Math\".split()\n",
    ")\n",
    "df"
   ]
  },
  {
   "cell_type": "code",
   "execution_count": null,
   "id": "e5688db2-f035-479b-a62c-97964be6f673",
   "metadata": {
    "tags": []
   },
   "outputs": [],
   "source": [
    "df.mean()"
   ]
  },
  {
   "cell_type": "code",
   "execution_count": null,
   "id": "c1cd8dca-a738-4d2e-b3d9-2b07e4aa9882",
   "metadata": {
    "tags": []
   },
   "outputs": [],
   "source": [
    "df.mean(axis=1)"
   ]
  },
  {
   "cell_type": "code",
   "execution_count": null,
   "id": "93b1e9a0-29bc-49c3-9b20-2ff44ae86890",
   "metadata": {
    "tags": []
   },
   "outputs": [],
   "source": [
    "type(df.mean(axis=1))"
   ]
  },
  {
   "cell_type": "code",
   "execution_count": null,
   "id": "ecb3a689-69ba-43de-be6d-a5ed55d920a3",
   "metadata": {
    "tags": []
   },
   "outputs": [],
   "source": [
    "df.mean(axis=1).round(1)"
   ]
  },
  {
   "cell_type": "code",
   "execution_count": null,
   "id": "216eb806-3c38-4166-94ca-290bec0e7bf9",
   "metadata": {
    "tags": []
   },
   "outputs": [],
   "source": [
    "df.max()"
   ]
  },
  {
   "cell_type": "code",
   "execution_count": null,
   "id": "69d5855c-3ca6-4b4d-9d9b-c83a959cd504",
   "metadata": {
    "tags": []
   },
   "outputs": [],
   "source": [
    "df.max(axis=1)"
   ]
  },
  {
   "cell_type": "code",
   "execution_count": null,
   "id": "44c4728a-a326-41f1-8351-6a17f58be31d",
   "metadata": {
    "tags": []
   },
   "outputs": [],
   "source": [
    "df.max().max()"
   ]
  },
  {
   "cell_type": "code",
   "execution_count": null,
   "id": "ab81e6ad-2a04-4d00-bf9b-fa430a48bd70",
   "metadata": {
    "tags": []
   },
   "outputs": [],
   "source": [
    "df.describe()"
   ]
  },
  {
   "cell_type": "code",
   "execution_count": null,
   "id": "d8a5c6bb-75fc-4864-854d-5f828913eda6",
   "metadata": {
    "tags": []
   },
   "outputs": [],
   "source": [
    "df.T.describe()"
   ]
  },
  {
   "cell_type": "raw",
   "id": "eba29ccb-d883-4a16-b1d7-bfa131e23368",
   "metadata": {},
   "source": [
    "(아래 내용 그대로 읽기)"
   ]
  },
  {
   "cell_type": "markdown",
   "id": "55aa8ba2-9124-4ee4-9d0a-949b43d12632",
   "metadata": {},
   "source": [
    "## numpy의 함수 적용\n",
    "\n",
    " NumPy 함수에 데이터프레임을 파라미터로 넣을 수 있습니다."
   ]
  },
  {
   "cell_type": "code",
   "execution_count": null,
   "id": "ac4efe1f-b7e6-41ea-980c-a958a0a66eab",
   "metadata": {
    "tags": []
   },
   "outputs": [],
   "source": [
    "\"\"\"\n",
    "데이터프레임의 값에 로그 함수 적용하기 (NumPy 함수 사용)\n",
    "\"\"\"\n",
    "import pandas as pd\n",
    "import numpy as np\n",
    "\n",
    "# 데이터프레임 생성\n",
    "data = {\n",
    "    'A': [1, 2, 3, 4, 5],\n",
    "    'B': [10, 20, 30, 40, 50],\n",
    "    'C': [100, 200, 300, 400, 500]\n",
    "}\n",
    "\n",
    "df = pd.DataFrame(data)\n",
    "df\n"
   ]
  },
  {
   "cell_type": "code",
   "execution_count": null,
   "id": "06418688-fa4b-464a-b563-21e1bf5a3e43",
   "metadata": {
    "tags": []
   },
   "outputs": [],
   "source": [
    "import numpy as np\n",
    "df_log = np.log(df)"
   ]
  },
  {
   "cell_type": "code",
   "execution_count": null,
   "id": "5f14b17a-02df-458a-9fc1-49dc40b8b8f5",
   "metadata": {
    "tags": []
   },
   "outputs": [],
   "source": [
    "type(df_log)"
   ]
  },
  {
   "cell_type": "code",
   "execution_count": null,
   "id": "0a69cb8e-cb1f-479b-bc0e-913b0308e53c",
   "metadata": {
    "tags": []
   },
   "outputs": [],
   "source": [
    "df_log"
   ]
  },
  {
   "cell_type": "code",
   "execution_count": null,
   "id": "f2f2d330-0e4e-4769-937a-7896a40dfba0",
   "metadata": {
    "tags": []
   },
   "outputs": [],
   "source": [
    "\"\"\"\n",
    "데이터프레임의 값이 3 이상인 경우에만 제곱근 적용하기 (NumPy 함수와 조건 사용)\n",
    "\"\"\"\n",
    "\n",
    "import pandas as pd\n",
    "import numpy as np\n",
    "\n",
    "# 데이터프레임 생성\n",
    "data = {\n",
    "    'A': [1, 2, 3, 4, 5],\n",
    "    'B': [10, 20, 30, 40, 50],\n",
    "    'C': [100, 200, 300, 400, 500]\n",
    "}\n",
    "\n",
    "df = pd.DataFrame(data)"
   ]
  },
  {
   "cell_type": "code",
   "execution_count": null,
   "id": "32e5c7f4-e8bb-4351-911e-84845a5a2cbc",
   "metadata": {
    "tags": []
   },
   "outputs": [],
   "source": [
    "df"
   ]
  },
  {
   "cell_type": "code",
   "execution_count": null,
   "id": "57b06e57-acaa-4b69-9ff8-1e65fb8636a0",
   "metadata": {
    "tags": []
   },
   "outputs": [],
   "source": [
    "np.where(df>=40, np.sqrt(df), df)"
   ]
  },
  {
   "cell_type": "code",
   "execution_count": null,
   "id": "6d029f1b-f7ae-4fbc-a8f6-08c3ae9b2fc1",
   "metadata": {
    "tags": []
   },
   "outputs": [],
   "source": [
    "pd.DataFrame(\n",
    "    np.where(df>=40, np.sqrt(df), df),\n",
    "    index=df.index,\n",
    "    columns=df.columns\n",
    ")\n"
   ]
  },
  {
   "cell_type": "markdown",
   "id": "ffa1e60c-2ca7-48bf-956e-18ee90737c1d",
   "metadata": {},
   "source": [
    "## DataFrame 기반 시각화"
   ]
  },
  {
   "cell_type": "code",
   "execution_count": null,
   "id": "e30aebf7-d588-4f38-9245-993aa98e1fb4",
   "metadata": {
    "tags": []
   },
   "outputs": [],
   "source": [
    "import pandas as pd\n",
    "import numpy as np\n",
    "\n",
    "data = np.random.randint(50,100,15).reshape(5,3)\n",
    "df = pd.DataFrame(\n",
    "    data,\n",
    "    index=\"Alice Bob Charlie David Eva\".split(),\n",
    "    columns=\"Kor Eng Math\".split()\n",
    ")\n",
    "df"
   ]
  },
  {
   "cell_type": "code",
   "execution_count": null,
   "id": "c76d0140-f023-4a26-858a-6dc46d05d034",
   "metadata": {
    "tags": []
   },
   "outputs": [],
   "source": [
    "df.plot()"
   ]
  },
  {
   "cell_type": "code",
   "execution_count": null,
   "id": "e5a11573-2d54-403c-8a75-eef469cbb35a",
   "metadata": {
    "tags": []
   },
   "outputs": [],
   "source": [
    "df.plot(kind=\"bar\")"
   ]
  },
  {
   "cell_type": "code",
   "execution_count": null,
   "id": "aa81c3cd-3f9a-4a4e-87a7-cf949c170ee1",
   "metadata": {
    "tags": []
   },
   "outputs": [],
   "source": [
    "df.Math.hist(bins=10)"
   ]
  },
  {
   "cell_type": "code",
   "execution_count": null,
   "id": "9d254373-710e-4193-9764-87d9c1ab8c22",
   "metadata": {
    "tags": []
   },
   "outputs": [],
   "source": [
    "df.plot(kind=\"scatter\", x=\"Kor\", y=\"Eng\")"
   ]
  },
  {
   "cell_type": "code",
   "execution_count": null,
   "id": "8b681489-ea97-41d3-825f-84ab4689a4ec",
   "metadata": {
    "tags": []
   },
   "outputs": [],
   "source": [
    "df.plot(kind=\"box\")"
   ]
  },
  {
   "cell_type": "code",
   "execution_count": null,
   "id": "0e638d67-05c1-4936-9cd3-513e256f87f4",
   "metadata": {
    "tags": []
   },
   "outputs": [],
   "source": [
    "# !pip install scipy\n",
    "df.plot(kind=\"kde\")"
   ]
  },
  {
   "cell_type": "code",
   "execution_count": null,
   "id": "f30c34f2-50f3-47bb-8d1c-3e5c82540ed2",
   "metadata": {
    "tags": []
   },
   "outputs": [],
   "source": [
    "df.plot(kind=\"pie\", y=\"Math\")"
   ]
  }
 ],
 "metadata": {
  "kernelspec": {
   "display_name": "Python 3 (ipykernel)",
   "language": "python",
   "name": "python3"
  },
  "language_info": {
   "codemirror_mode": {
    "name": "ipython",
    "version": 3
   },
   "file_extension": ".py",
   "mimetype": "text/x-python",
   "name": "python",
   "nbconvert_exporter": "python",
   "pygments_lexer": "ipython3",
   "version": "3.10.11"
  }
 },
 "nbformat": 4,
 "nbformat_minor": 5
}
