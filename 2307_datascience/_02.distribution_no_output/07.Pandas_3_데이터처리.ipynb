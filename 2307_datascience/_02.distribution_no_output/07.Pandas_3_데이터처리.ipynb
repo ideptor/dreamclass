{
 "cells": [
  {
   "cell_type": "markdown",
   "id": "ce189546-8e43-4279-9d9a-8543a7135cf0",
   "metadata": {},
   "source": [
    "# Pandas 데이터 처리\n",
    "- 요약과 통계연산\n",
    "- 함수적용 (map, apply)\n",
    "- agg()\n",
    "- 손실데이터처리\n",
    "- 데이터 결합"
   ]
  },
  {
   "cell_type": "markdown",
   "id": "0d5a1930-7eaa-4cf9-abf4-ab7d4a801184",
   "metadata": {},
   "source": [
    "# 요약과 통계연산"
   ]
  },
  {
   "cell_type": "markdown",
   "id": "9de1fe25-68d7-468f-89bd-932faa4135bd",
   "metadata": {},
   "source": [
    "판다스(Pandas) 데이터프레임은 데이터를 효율적으로 `요약`하고 `통계 연산`을 수행하는 다양한 기능을 제공합니다.  \n",
    "이를 통해 데이터를 빠르게 탐색하고 데이터의 분포, 중심 경향성, 상관 관계 등을 파악할 수 있습니다.  \n",
    "주요한 요약 및 통계 연산에 대한 설명은 다음과 같습니다:\n",
    "\n",
    "1. 데이터프레임의 기본 정보 확인하기\n",
    "\n",
    "|이름|설명|\n",
    "|--|--|\n",
    "|head() 및 tail()| 데이터프레임의 처음 몇 개 또는 마지막 몇 개 행을 확인합니다.|\n",
    "|info()| 데이터프레임의 기본 정보를 확인합니다. 열의 이름, 데이터 타입, 누락된 값의 개수 등을 출력합니다.|\n",
    "|describe()| 데이터프레임의 기술 통계 요약을 제공합니다. 수치형 열에 대한 개수, 평균, 표준 편차, 최소값, 백분위수 등을 출력합니다.|\n",
    "\n",
    "2. 열별 요약 통계 연산\n",
    "\n",
    "|이름|설명|\n",
    "|--|--|\n",
    "|mean(), median(), min(), max()| 각 열의 평균, 중앙값, 최소값, 최대값을 계산합니다.|\n",
    "|sum()| 각 열의 합을 계산합니다.|\n",
    "|std()| 각 열의 표준 편차를 계산합니다.|\n",
    "|count()| 각 열의 비누락값(NaN)이 아닌 값의 개수를 계산합니다.|\n",
    "\n",
    "\n",
    "3. 행별 요약 통계 연산\n",
    "\n",
    "|이름|설명|\n",
    "|--|--|\n",
    "|sum(axis=1)| 각 행의 합을 계산합니다.|\n",
    "|mean(axis=1)| 각 행의 평균을 계산합니다.|\n",
    "|median(axis=1)| 각 행의 중앙값을 계산합니다.|\n"
   ]
  },
  {
   "cell_type": "code",
   "execution_count": null,
   "id": "5a724346-9073-41c4-b12c-2500041dc7fb",
   "metadata": {
    "tags": []
   },
   "outputs": [],
   "source": [
    "\"\"\"\n",
    "head(), tail(), info(), describe(), \n",
    "\"\"\"\n",
    "import pandas as pd\n",
    "\n",
    "# 데이터 생성\n",
    "data = {'Name': ['Alice', 'Bob', 'Charlie', 'David'],\n",
    "        'Age': [None, 30, 35, 28],\n",
    "        'Gender': ['Female', 'Male', 'Male', 'Male'],\n",
    "        'Height': [165, 180, 175, 170]}\n",
    "df = pd.DataFrame(data)\n",
    "df"
   ]
  },
  {
   "cell_type": "code",
   "execution_count": null,
   "id": "c02eb843-8788-494a-92ef-4fe084691bfd",
   "metadata": {
    "tags": []
   },
   "outputs": [],
   "source": [
    "df.head(2)"
   ]
  },
  {
   "cell_type": "code",
   "execution_count": null,
   "id": "edec105f-a5af-489a-a738-a117728bfb64",
   "metadata": {
    "tags": []
   },
   "outputs": [],
   "source": [
    "df.tail(2)"
   ]
  },
  {
   "cell_type": "code",
   "execution_count": null,
   "id": "bf8a9b92-f572-47d6-9244-7d87eb94df2b",
   "metadata": {
    "tags": []
   },
   "outputs": [],
   "source": [
    "\"\"\"\n",
    "idxmax(), idxmin(), cumsum(),\n",
    "\"\"\"\n",
    "import pandas as pd\n",
    "\n",
    "# 데이터 생성\n",
    "data = {'Name': ['Alice', 'Bob', 'Charlie', 'David'],\n",
    "        'Age': [25, 30, 35, 21],\n",
    "        'Gender': ['Female', 'Male', 'Male', 'Male'],\n",
    "        'Height': [165, 180, None, 170]}\n",
    "df = pd.DataFrame(data, index=list(\"ABCD\"))\n",
    "\n",
    "\n",
    "df"
   ]
  },
  {
   "cell_type": "code",
   "execution_count": null,
   "id": "cb43d095-722b-4bb2-81a4-e689dec226e1",
   "metadata": {
    "tags": []
   },
   "outputs": [],
   "source": [
    "print(df.Age.sort_values(ascending=False))\n",
    "df.Age.idxmax()"
   ]
  },
  {
   "cell_type": "code",
   "execution_count": null,
   "id": "9262329e-9b1b-4382-87ad-d949c25d2652",
   "metadata": {
    "tags": []
   },
   "outputs": [],
   "source": [
    "print(df.Age.sort_values())\n",
    "df.Age.idxmin()"
   ]
  },
  {
   "cell_type": "code",
   "execution_count": null,
   "id": "4f72890f-43e8-476c-b283-8efc36783796",
   "metadata": {
    "tags": []
   },
   "outputs": [],
   "source": [
    "df1 = pd.concat([df.Age, df.Age.cumsum()], axis=1)\n",
    "df1.columns = [\"Age\", \"cumsum\"]\n",
    "df1"
   ]
  },
  {
   "cell_type": "code",
   "execution_count": null,
   "id": "1cd92595-0b67-46d5-b3ed-8176939ccd21",
   "metadata": {
    "tags": []
   },
   "outputs": [],
   "source": [
    "# 수치형 데이터로만 이루어진 Dataframe 에도 적용 가능\n",
    "df1= df[[\"Age\", \"Height\"]]\n",
    "df1"
   ]
  },
  {
   "cell_type": "code",
   "execution_count": null,
   "id": "2e4d0fea-ebca-464b-a501-8e73d13f49af",
   "metadata": {
    "tags": []
   },
   "outputs": [],
   "source": [
    "df1.idxmax()"
   ]
  },
  {
   "cell_type": "code",
   "execution_count": null,
   "id": "6b5f6b04-0fb4-416a-9765-af812eaf1413",
   "metadata": {
    "tags": []
   },
   "outputs": [],
   "source": [
    "df.idxmax()  # error - TypeError: reduction operation 'argmax' not allowed for this dtype"
   ]
  },
  {
   "cell_type": "code",
   "execution_count": null,
   "id": "c7fc781b-939f-40f5-b5f8-6442640b4007",
   "metadata": {
    "tags": []
   },
   "outputs": [],
   "source": [
    "df.Age.argmax()"
   ]
  },
  {
   "cell_type": "code",
   "execution_count": null,
   "id": "c0562cb1-d680-4739-8364-578602f00f00",
   "metadata": {
    "tags": []
   },
   "outputs": [],
   "source": [
    "# 가장 나이가 많은 사람은 누구인가?\n",
    "df.loc[df.Age.idxmax(), \"Name\"]"
   ]
  },
  {
   "cell_type": "code",
   "execution_count": null,
   "id": "32e89797-1f1a-4019-8f0c-7c5170a42afa",
   "metadata": {
    "tags": []
   },
   "outputs": [],
   "source": [
    "df.loc[df.Age.idxmax()][\"Name\"]"
   ]
  },
  {
   "cell_type": "code",
   "execution_count": null,
   "id": "80dd4200-ec49-4906-b6d6-bb7a050fc4df",
   "metadata": {
    "tags": []
   },
   "outputs": [],
   "source": [
    "df.loc[df.Age.idxmax()].Name"
   ]
  },
  {
   "cell_type": "markdown",
   "id": "2a19e4ab-acdd-4f04-b67c-eb48f8063b66",
   "metadata": {},
   "source": [
    "# 함수적용 (map)\n",
    "\n",
    "판다스(Pandas)의 DataFrame에서 `map()` 메서드는 Series에 적용된 값에 대해   \n",
    "지정된 사전(dict)이나 함수를 사용하여 각 값에 대한 변환을 수행하는 기능을 제공합니다.   \n",
    "map() 메서드는 주로 특정 열의 값을 다른 값으로 매핑하거나 변환하는데 사용됩니다."
   ]
  },
  {
   "cell_type": "code",
   "execution_count": null,
   "id": "9c3c89d9-12fc-4bef-901b-b1d18666065f",
   "metadata": {
    "tags": []
   },
   "outputs": [],
   "source": [
    "# '성별' 열의 값에 매핑을 적용하여 숫자로 변환\n",
    "#  Gender 컬럼의 Female은 0, Male은 1로 변환\n",
    "\n",
    "import pandas as pd\n",
    "\n",
    "# 데이터 생성\n",
    "data = {'Name': ['Alice', 'Bob', 'Charlie', 'David'],\n",
    "        'Age': [25, 30, 35, None],\n",
    "        'Gender': ['Female', 'Male', 'Male', 'Male'],\n",
    "        'Height': [165, 180, 175, 170]\n",
    "}\n",
    "\n",
    "df = pd.DataFrame(data, index=list(\"ABCD\"))\n",
    "df\n"
   ]
  },
  {
   "cell_type": "code",
   "execution_count": null,
   "id": "c70cb119-2aae-4fb9-a9e7-4fb1bad0c83c",
   "metadata": {
    "tags": []
   },
   "outputs": [],
   "source": [
    "gender_mapping = {'Female': 0, 'Male': 1}"
   ]
  },
  {
   "cell_type": "code",
   "execution_count": null,
   "id": "6adbfc48-39ee-4654-978c-72e776cde553",
   "metadata": {
    "tags": []
   },
   "outputs": [],
   "source": [
    "# [참고] dictionary 활용\n",
    "x = \"Female\"\n",
    "print(gender_mapping[x])\n",
    "print(gender_mapping.get(x))"
   ]
  },
  {
   "cell_type": "code",
   "execution_count": null,
   "id": "016e4c33-4513-4dae-8501-384611be9d21",
   "metadata": {
    "tags": []
   },
   "outputs": [],
   "source": [
    "df.Gender.map(gender_mapping.get)"
   ]
  },
  {
   "cell_type": "code",
   "execution_count": null,
   "id": "794eec43-f78a-4c56-9229-cffc88f3f92a",
   "metadata": {
    "tags": []
   },
   "outputs": [],
   "source": [
    "df.Gender"
   ]
  },
  {
   "cell_type": "code",
   "execution_count": null,
   "id": "4da188a3-a3db-4041-a90e-c29bd388f4c4",
   "metadata": {
    "tags": []
   },
   "outputs": [],
   "source": [
    "df['Gender2'] = df.Gender.map(gender_mapping)\n",
    "df"
   ]
  },
  {
   "cell_type": "code",
   "execution_count": null,
   "id": "b2f19011-2659-4709-9373-63e646c794b2",
   "metadata": {
    "tags": []
   },
   "outputs": [],
   "source": [
    "# lambda 적용\n",
    "df.Gender.map(lambda x: 0 if x == \"Female\" else 1)"
   ]
  },
  {
   "cell_type": "code",
   "execution_count": null,
   "id": "6c1768e4-6987-4a53-bac3-d2762f13aaa8",
   "metadata": {
    "tags": []
   },
   "outputs": [],
   "source": [
    "def convert(x):\n",
    "    return 0 if x == \"Female\" else 1    # (x==\"Female\")? 1: 0"
   ]
  },
  {
   "cell_type": "code",
   "execution_count": null,
   "id": "1349ed8a-9d2e-49d7-8284-f7b8ab342d5e",
   "metadata": {
    "tags": []
   },
   "outputs": [],
   "source": [
    "df.Gender.map(convert)"
   ]
  },
  {
   "cell_type": "code",
   "execution_count": null,
   "id": "5c6b84f9-5b6e-43d4-b1c3-0fa5bc707f87",
   "metadata": {
    "tags": []
   },
   "outputs": [],
   "source": [
    "df.Gender.map(lambda x: 0 if x == \"Female\" else 1)"
   ]
  },
  {
   "cell_type": "code",
   "execution_count": null,
   "id": "c2dcea0a-3610-4d9c-82e2-569c2a8c5b46",
   "metadata": {
    "tags": []
   },
   "outputs": [],
   "source": [
    "# lambda 추가 예제\n",
    "print(df.Age)\n",
    "print(df.Age.map(lambda x: x + 10))"
   ]
  },
  {
   "cell_type": "code",
   "execution_count": null,
   "id": "6dd0d460-3f1a-439e-b35b-e067a2f97802",
   "metadata": {
    "tags": []
   },
   "outputs": [],
   "source": [
    "print(df)\n",
    "import numpy as np\n",
    "pd.Series(\n",
    "    np.where(df.Gender==\"Female\", 0, 1),\n",
    "    index=df.index\n",
    ")"
   ]
  },
  {
   "cell_type": "markdown",
   "id": "28418793-a8ab-4d7d-a96a-e778f02b831f",
   "metadata": {},
   "source": [
    "# 함수적용 (apply)\n",
    "\n",
    "pandas의 DataFrame에서 apply() 메서드는 열(column) 또는 행(row) 단위로 함수를 적용하여 데이터를 변환하는 기능을 제공합니다. apply() 메서드는 특정 함수를 데이터프레임의 모든 열 또는 각 행에 적용하며, 이를 통해 데이터의 변환, 필터링, 정제 등 다양한 작업을 수행할 수 있습니다.\n",
    "\n",
    "```python\n",
    "DataFrame.apply(func, axis=0, raw=False, result_type=None, args=(), **kwds)\n",
    "```\n",
    "\n",
    "- `func`: 적용하고자 하는 함수를 지정합니다. 사용자 정의 함수나 내장 함수 등 모두 가능합니다.\n",
    "- `axis`: 0이면 함수가 열(column)에 적용됩니다. 1이면 함수가 행(row)에 적용됩니다.\n",
    "- `raw`: True이면 행 또는 열을 배열로 전달하고, False이면 Series로 전달합니다.\n",
    "- `result_type`: 반환되는 결과의 데이터 타입을 지정합니다.\n",
    "- `args`: 함수에 추가적인 인자를 전달할 경우 사용합니다.\n"
   ]
  },
  {
   "cell_type": "code",
   "execution_count": null,
   "id": "96b73136-34e0-4287-ae93-91967069b1e3",
   "metadata": {
    "tags": []
   },
   "outputs": [],
   "source": [
    "\"\"\"\n",
    "각 열의 최대값을 마지막 행에 삽입\n",
    "\"\"\"\n",
    "\n",
    "import pandas as pd\n",
    "import numpy as np\n",
    "\n",
    "# 데이터 생성\n",
    "data = np.random.choice(range(1,16), 15, replace=False).reshape(3,5)\n",
    "df = pd.DataFrame(data, index=\"R1 R2 R3\".split(), columns=\"C1 C2 C3 C4 C5\".split())\n",
    "df"
   ]
  },
  {
   "cell_type": "code",
   "execution_count": null,
   "id": "38c3ee30-cc76-4945-992d-9fdea6052074",
   "metadata": {
    "tags": []
   },
   "outputs": [],
   "source": [
    "# 각 열에 대해 최대값을 찾는 함수 정의\n",
    "def find_max(s: pd.Series):\n",
    "    return s.max()\n",
    "\n",
    "df.apply(find_max, axis=0)"
   ]
  },
  {
   "cell_type": "code",
   "execution_count": null,
   "id": "3bfd04fd-6544-4207-88bd-bee48a87d73d",
   "metadata": {
    "tags": []
   },
   "outputs": [],
   "source": [
    "df"
   ]
  },
  {
   "cell_type": "code",
   "execution_count": null,
   "id": "1b43eb6a-f656-4568-9575-a9b00b2b9b47",
   "metadata": {
    "tags": []
   },
   "outputs": [],
   "source": [
    "df.loc[\"MAX\"] = df.apply(find_max, axis=0)\n",
    "df"
   ]
  },
  {
   "cell_type": "code",
   "execution_count": null,
   "id": "826136fb-668e-439f-9d69-3114fb8e7c37",
   "metadata": {
    "tags": []
   },
   "outputs": [],
   "source": [
    "df.loc[\"MAX\"] = df.apply(lambda x: x.max())\n",
    "df"
   ]
  },
  {
   "cell_type": "code",
   "execution_count": null,
   "id": "569d9c80-cc61-4f1d-98d6-4ee116158d86",
   "metadata": {
    "tags": []
   },
   "outputs": [],
   "source": [
    "\"\"\"\n",
    "각 행의 최대, 최소 차이를 마지막 열에 추가\n",
    "\"\"\"\n",
    "\n",
    "import pandas as pd\n",
    "import numpy as np\n",
    "\n",
    "# 데이터 생성\n",
    "data = np.random.choice(range(1,16), 15, replace=False).reshape(3,5)\n",
    "df = pd.DataFrame(data, index=\"R1 R2 R3\".split(), columns=\"C1 C2 C3 C4 C5\".split())\n",
    "df\n"
   ]
  },
  {
   "cell_type": "code",
   "execution_count": null,
   "id": "ddba0653-64ee-43b0-b7ba-4d0bdf74e7a4",
   "metadata": {
    "tags": []
   },
   "outputs": [],
   "source": [
    "# 각 행에서 최대값과 최소값의 차이를 계산하는 함수 정의\n",
    "def max_min_diff(s: pd.Series):\n",
    "    return s.max() - s.min()\n",
    "\n",
    "df.apply(max_min_diff, axis=1)"
   ]
  },
  {
   "cell_type": "code",
   "execution_count": null,
   "id": "4a71129d-7b87-4c1c-8647-614e2089772c",
   "metadata": {
    "tags": []
   },
   "outputs": [],
   "source": [
    "df[\"MIN_MAX_DIFF\"] = df.apply(max_min_diff, axis=1)\n",
    "df"
   ]
  },
  {
   "cell_type": "code",
   "execution_count": null,
   "id": "bed2382d-3ae7-4e93-a4d1-0a450d0caf2e",
   "metadata": {
    "tags": []
   },
   "outputs": [],
   "source": [
    "df[\"MIN_MAX_DIFF\"] = df.apply(lambda x: x.max() - x.min(), axis=1)\n",
    "df"
   ]
  },
  {
   "cell_type": "markdown",
   "id": "984f468d-f8b2-496f-a4cd-8468dfe72965",
   "metadata": {},
   "source": [
    "## 필터링 기반 apply 적용\n",
    "\n",
    "\n",
    "데이터프레임에서 조건에 맞는 셀의 데이터에만 map과 apply를 적용하는 방법은  \n",
    "loc 인덱싱을 사용하여 조건을 만족하는 행과 열을 선택한 후에  \n",
    "해당 위치에 함수를 적용하면 됩니다.\n",
    "\n"
   ]
  },
  {
   "cell_type": "code",
   "execution_count": null,
   "id": "ae8e4983-5ed5-4901-95de-7a23ea67ca76",
   "metadata": {
    "tags": []
   },
   "outputs": [],
   "source": [
    "import pandas as pd\n",
    "\n",
    "# 데이터 생성\n",
    "data = {\n",
    "    'Name': ['Alice', 'Bob', 'Charlie', 'David', 'Ella'],\n",
    "    'Age': [25, 30, 35, 40, 45],\n",
    "    'City': ['New York', 'London', 'Paris', 'Berlin', 'London']\n",
    "}\n",
    "\n",
    "df = pd.DataFrame(data)\n",
    "df"
   ]
  },
  {
   "cell_type": "code",
   "execution_count": null,
   "id": "238650f5-aeed-4b76-8ea7-51a7a08c4e5a",
   "metadata": {
    "tags": []
   },
   "outputs": [],
   "source": [
    "# Age가 35 이상인 행들의 'Age' 값을 10 증가시킴 (map 적용)\n",
    "df.loc[df['Age'] >= 35, 'Age'] = df.loc[df['Age'] >= 35, 'Age'].map(lambda x: x + 10)\n",
    "df"
   ]
  },
  {
   "cell_type": "code",
   "execution_count": null,
   "id": "9177b369-0c6e-46f4-a0e6-bf5bc9db67b5",
   "metadata": {
    "tags": []
   },
   "outputs": [],
   "source": [
    "\"\"\"\n",
    "몸무게가 70kg 이상인 경우에만 BMI를 계산\n",
    " BMI 계산: weight / pow(height, 2)\n",
    "\"\"\"\n",
    "\n",
    "import pandas as pd\n",
    "import numpy as np\n",
    "\n",
    "# 데이터 생성\n",
    "data = {'Name': ['Alice', 'Bob', 'Charlie', 'David'],\n",
    "        'Weight': [65, 70, 85, None],\n",
    "        'Height': [1.65, 1.8, 1.75, 1.7]\n",
    "}\n",
    "\n",
    "df = pd.DataFrame(data)\n",
    "df\n"
   ]
  },
  {
   "cell_type": "code",
   "execution_count": null,
   "id": "efdd986d-b2f1-40ef-974b-530b145bc779",
   "metadata": {
    "tags": []
   },
   "outputs": [],
   "source": [
    "df.loc[df.Weight>=70, \"BMI\"] = df[df.Weight>=70].apply(\n",
    "    lambda x: np.round(x[\"Weight\"] / (x[\"Height\"])**2,1), \n",
    "    axis=1\n",
    ")\n",
    "df"
   ]
  },
  {
   "cell_type": "code",
   "execution_count": null,
   "id": "37d49c27-4623-49db-954c-95f517a8ab1b",
   "metadata": {
    "tags": []
   },
   "outputs": [],
   "source": [
    "df.loc[df.Weight>=70, \"BMI\"] "
   ]
  },
  {
   "cell_type": "code",
   "execution_count": null,
   "id": "41ed04cf-4672-4bda-8765-eae1f6dc701d",
   "metadata": {
    "tags": []
   },
   "outputs": [],
   "source": [
    "df[df.Weight>=70].apply(lambda x: np.round(x[\"Weight\"] / (x[\"Height\"])**2,1), axis=1)"
   ]
  },
  {
   "cell_type": "code",
   "execution_count": null,
   "id": "6d9c6120-b33c-456d-8680-92724e958bf8",
   "metadata": {
    "tags": []
   },
   "outputs": [],
   "source": [
    "df.loc[df.Weight>=70, \"BMI\"] = df.apply(\n",
    "    lambda x: np.round(x[\"Weight\"] / (x[\"Height\"])**2,1), \n",
    "    axis=1\n",
    ")\n",
    "df"
   ]
  },
  {
   "cell_type": "code",
   "execution_count": null,
   "id": "ac791776-fa37-4cd7-9c29-330a74e060f5",
   "metadata": {
    "tags": []
   },
   "outputs": [],
   "source": [
    "s2 = df.apply(\n",
    "    lambda x: np.round(x[\"Weight\"] / (x[\"Height\"])**2,1), \n",
    "    axis=1\n",
    ")\n",
    "s2"
   ]
  },
  {
   "cell_type": "code",
   "execution_count": null,
   "id": "fd9580fc-7208-4272-b482-0a4774fb4be8",
   "metadata": {
    "tags": []
   },
   "outputs": [],
   "source": [
    "df.loc[df.Weight>=70, \"BMI\"] "
   ]
  },
  {
   "cell_type": "code",
   "execution_count": null,
   "id": "785569c6-37c5-47df-9ace-a82cbe4e2d18",
   "metadata": {
    "tags": []
   },
   "outputs": [],
   "source": [
    "df.loc[df.Weight>=70, \"BMI\"] = s2\n",
    "df"
   ]
  },
  {
   "cell_type": "markdown",
   "id": "2e483499-19e8-4ce4-b38b-32a718bfbc52",
   "metadata": {},
   "source": [
    "## agg()\n",
    "agg() 함수를 사용하면 여러 개의 집계 함수를 동시에 적용할 수 있으며, 그룹화된 데이터에서 원하는 다양한 집계 연산을 손쉽게 수행할 수 있습니다.\n",
    "\n",
    "내장 집계 함수:\n",
    "\n",
    "| 이름 | 기능 |\n",
    "|--|--|\n",
    "|mean()| 평균을 계산합니다.|\n",
    "|sum()| 합계를 계산합니다.|\n",
    "|min()| 최소값을 찾습니다.|\n",
    "|max()| 최대값을 찾습니다.|\n",
    "|count()| 데이터의 개수를 세어줍니다.|\n",
    "|median()| 중앙값을 계산합니다.|\n",
    "|std()| 표준편차를 계산합니다.|\n",
    "|var()| 분산을 계산합니다.|\n",
    "|quantile(q)| q-분위수를 계산합니다. (0 <= q <= 1)|\n"
   ]
  },
  {
   "cell_type": "code",
   "execution_count": null,
   "id": "1765e6a3-207e-423e-94a3-b6d5a2e5716c",
   "metadata": {
    "tags": []
   },
   "outputs": [],
   "source": [
    "import pandas as pd\n",
    "import numpy as np\n",
    "data = dict(\n",
    "    Name=\"Alice Bob Charlie David\".split(\" \"),\n",
    "    Math=np.random.randint(50,100,4),\n",
    "    Eng=np.random.randint(50,100,4),\n",
    ")\n",
    "df = pd.DataFrame(data, index=list(\"ABCD\"))\n",
    "\n",
    "df"
   ]
  },
  {
   "cell_type": "code",
   "execution_count": null,
   "id": "cc13641e-29e6-44ce-95ea-87153ae9467c",
   "metadata": {
    "tags": []
   },
   "outputs": [],
   "source": [
    "df.iloc[:,1:].agg([\"sum\", \"mean\", \"max\"])"
   ]
  },
  {
   "cell_type": "code",
   "execution_count": null,
   "id": "4ae22777-55db-4237-b374-24202c4082b9",
   "metadata": {
    "tags": []
   },
   "outputs": [],
   "source": [
    "df.iloc[:,1:].T.agg([\"sum\", \"mean\", \"max\"])"
   ]
  },
  {
   "cell_type": "code",
   "execution_count": null,
   "id": "2c566ada-9d3c-4969-b45f-837d59140e74",
   "metadata": {
    "tags": []
   },
   "outputs": [],
   "source": [
    "def mean_squared_error(s):\n",
    "    mean = s.mean()\n",
    "    return (sum((s-mean)**2))**.5"
   ]
  },
  {
   "cell_type": "code",
   "execution_count": null,
   "id": "c63133ab-a391-40da-bea3-e12bcbfa8eef",
   "metadata": {
    "tags": []
   },
   "outputs": [],
   "source": [
    "df.iloc[:,1:].agg([\"std\", lambda x: x.idxmax(), mean_squared_error])"
   ]
  },
  {
   "cell_type": "markdown",
   "id": "e144495d-517d-466f-98e0-107e6648e14d",
   "metadata": {},
   "source": [
    "## 손실데이터 처리\n",
    "\n",
    "누락된 값(결측치)을 적절한 값으로 대체하는 것입니다.  \n",
    "판다스(Pandas)에서는 `fillna()` 메서드를 사용하여 누락된 값을 다른 값으로 채울 수 있습니다."
   ]
  },
  {
   "cell_type": "code",
   "execution_count": null,
   "id": "31413e2e-1284-46e4-bfcc-a5d3f6040ec6",
   "metadata": {
    "tags": []
   },
   "outputs": [],
   "source": [
    "import pandas as pd\n",
    "import numpy as np\n",
    "\n",
    "# 데이터 생성 (일부 값이 누락된 데이터)\n",
    "data = [\n",
    "    [1, 2, np.nan, 4, 5],\n",
    "    [10, np.nan, 30, np.nan, 50],\n",
    "    [100, 200, 300, np.nan, np.nan]\n",
    "]\n",
    "\n",
    "df = pd.DataFrame(\n",
    "    data, \n",
    "    index=[f\"R{i}\" for i in range(len(data))],\n",
    "    columns=[f\"C{i}\" for i in range(len(data[0]))]\n",
    ")\n",
    "df"
   ]
  },
  {
   "cell_type": "code",
   "execution_count": null,
   "id": "ee8652d5-472b-4512-9495-86d529596402",
   "metadata": {
    "tags": []
   },
   "outputs": [],
   "source": [
    "df.info()"
   ]
  },
  {
   "cell_type": "code",
   "execution_count": null,
   "id": "60a11ddf-3194-4bd4-bed4-4a975f31a9a9",
   "metadata": {
    "tags": []
   },
   "outputs": [],
   "source": [
    "df.isna()"
   ]
  },
  {
   "cell_type": "code",
   "execution_count": null,
   "id": "ba65f81d-3da8-4fba-bfaa-e88adf2357b5",
   "metadata": {
    "tags": []
   },
   "outputs": [],
   "source": [
    "# 각 열의 결측치 갯수\n",
    "df.isna().sum()"
   ]
  },
  {
   "cell_type": "code",
   "execution_count": null,
   "id": "6d33fe1b-b6e2-4fee-8e07-babdefc7d4f2",
   "metadata": {
    "tags": []
   },
   "outputs": [],
   "source": [
    "# 각 행의 결측치 갯수\n",
    "df.isna().sum(axis=1)"
   ]
  },
  {
   "cell_type": "code",
   "execution_count": null,
   "id": "5b390717-e6d4-4ac7-b443-4094efa7b343",
   "metadata": {
    "tags": []
   },
   "outputs": [],
   "source": [
    "# 전체 결측치 개수\n",
    "df.isna().sum().sum()"
   ]
  },
  {
   "cell_type": "code",
   "execution_count": null,
   "id": "b8b8aa66-0a09-4109-8d87-3e71c25232be",
   "metadata": {
    "tags": []
   },
   "outputs": [],
   "source": [
    "df.notna()"
   ]
  },
  {
   "cell_type": "code",
   "execution_count": null,
   "id": "626af8b9-b687-4735-8856-84a6bf121e1d",
   "metadata": {
    "tags": []
   },
   "outputs": [],
   "source": [
    "df.notna().sum()"
   ]
  },
  {
   "cell_type": "code",
   "execution_count": null,
   "id": "3ddcf755-5ac8-4abc-92ef-55938fe4919d",
   "metadata": {
    "tags": []
   },
   "outputs": [],
   "source": [
    "df.notna().sum().sum()"
   ]
  },
  {
   "cell_type": "code",
   "execution_count": null,
   "id": "dfcd285e-f693-4380-bf54-dfcf9e5bbcd3",
   "metadata": {
    "tags": []
   },
   "outputs": [],
   "source": [
    "df.describe()"
   ]
  },
  {
   "cell_type": "code",
   "execution_count": null,
   "id": "669dc826-1f55-404b-813f-86980519cfb5",
   "metadata": {
    "tags": []
   },
   "outputs": [],
   "source": [
    "# 누락된 값을 0으로 대체\n",
    "df2 = df.fillna(0)\n",
    "df2"
   ]
  },
  {
   "cell_type": "code",
   "execution_count": null,
   "id": "1fb60f45-db25-48e3-baae-138199c297f6",
   "metadata": {
    "tags": []
   },
   "outputs": [],
   "source": [
    "df"
   ]
  },
  {
   "cell_type": "code",
   "execution_count": null,
   "id": "b95eb3f8-dc1f-4265-a5d3-1aa82dfb6659",
   "metadata": {
    "tags": []
   },
   "outputs": [],
   "source": [
    "df.fillna(0, inplace=True)\n",
    "df"
   ]
  },
  {
   "cell_type": "code",
   "execution_count": null,
   "id": "75bc4173-e60e-4645-a32f-4df637f09459",
   "metadata": {
    "tags": []
   },
   "outputs": [],
   "source": [
    "import pandas as pd\n",
    "import numpy as np\n",
    "\n",
    "# 데이터 생성 (일부 값이 누락된 데이터)\n",
    "data = [\n",
    "    [1, 2, np.nan, 4, 5],\n",
    "    [10, np.nan, 30, np.nan, 50],\n",
    "    [100, 200, 300, np.nan, np.nan]\n",
    "]\n",
    "\n",
    "df = pd.DataFrame(\n",
    "    data, \n",
    "    index=[f\"R{i}\" for i in range(len(data))],\n",
    "    columns=[f\"C{i}\" for i in range(len(data[0]))]\n",
    ")\n",
    "df"
   ]
  },
  {
   "cell_type": "code",
   "execution_count": null,
   "id": "087e08ee-3cad-4a0d-a9a3-670ffd35dbcf",
   "metadata": {
    "tags": []
   },
   "outputs": [],
   "source": [
    "# 누락된 값을 각 컬럼의 평균값으로 대체\n",
    "print(\"df.mean(): \", df.mean())\n",
    "df2 = df.fillna(df.mean())\n",
    "df2"
   ]
  },
  {
   "cell_type": "code",
   "execution_count": null,
   "id": "5896223e-6dd0-4055-812b-b8454ac55855",
   "metadata": {
    "tags": []
   },
   "outputs": [],
   "source": [
    "# 누락된 값을 바로 앞의 값으로 대체 (forward fill)\n",
    "df2 = df.fillna(method='ffill')\n",
    "df2\n"
   ]
  },
  {
   "cell_type": "markdown",
   "id": "628c5e91-0406-4f5e-a61a-b3232929a334",
   "metadata": {},
   "source": [
    "# 데이터 결합하기\n",
    "\n",
    "merge()와 concat()은 판다스(Pandas)에서  \n",
    "데이터프레임을 합치는 데 사용되는 두 가지 중요한 메서드입니다. "
   ]
  },
  {
   "cell_type": "markdown",
   "id": "26a16f29-2d6d-47f9-8cdf-642604c7cc81",
   "metadata": {},
   "source": [
    "**concat() 메서드:**  \n",
    "concat() 메서드는 여러 개의 데이터프레임을  \n",
    "행(axis=0) 또는 열(axis=1) 방향으로 합치는 데 사용됩니다.  \n",
    "기본적으로 데이터프레임을 단순히 연결하여 합치는 기능을 제공합니다.\n",
    "\n",
    "**concat() 메서드의 형식:**\n",
    "\n",
    "```python\n",
    "pd.concat(objs, axis=0, join='outer', ignore_index=False)\n",
    "```\n",
    "    \n",
    "- `objs`: 합치려는 데이터프레임을 리스트 형태로 전달합니다.\n",
    "- `axis`: 합치는 방향을 지정합니다. 0이면 행 방향, 1이면 열 방향입니다.\n",
    "- `join`: 합치는 방식을 지정합니다. 기본값은 'outer'로, 합집합을 반환합니다.\n",
    "- `ignore_index`: 기존 인덱스를 무시하고 새로운 인덱스를 생성하도록 지정합니다."
   ]
  },
  {
   "cell_type": "code",
   "execution_count": null,
   "id": "df5a096d-e3f4-48ca-9a50-a23f42f5b285",
   "metadata": {
    "tags": []
   },
   "outputs": [],
   "source": [
    "\"\"\"\n",
    "\n",
    "concat() 메서드의 axis 매개변수를 사용하여 \n",
    "데이터프레임을 합칠 때 방향(행 또는 열)을 지정할 수 있습니다. \n",
    "axis 매개변수에는 0 또는 1을 입력할 수 있으며, \n",
    "각각 행 방향과 열 방향을 의미합니다.\n",
    "\"\"\"\n",
    "import pandas as pd\n",
    "\n",
    "# 데이터 생성\n",
    "data1 = {\n",
    "    'ID': [1, 2, 3],\n",
    "    'Name': ['Alice', 'Bob', 'Charlie']\n",
    "}\n",
    "\n",
    "data2 = {\n",
    "    'Age': [25, 30],\n",
    "    'City': ['New York', 'London']\n",
    "}\n",
    "\n",
    "df1 = pd.DataFrame(data1, index=list(\"ABC\"))\n",
    "df2 = pd.DataFrame(data2, index=list(\"AC\"))"
   ]
  },
  {
   "cell_type": "code",
   "execution_count": null,
   "id": "5de35990-db69-43ba-a48a-672f3ed43173",
   "metadata": {
    "tags": []
   },
   "outputs": [],
   "source": [
    "df1"
   ]
  },
  {
   "cell_type": "code",
   "execution_count": null,
   "id": "27624a18-68ad-4b90-8083-97d5ba281920",
   "metadata": {
    "tags": []
   },
   "outputs": [],
   "source": [
    "df2"
   ]
  },
  {
   "cell_type": "code",
   "execution_count": null,
   "id": "c5fefa42-795a-4e35-b9eb-32e14f31fb02",
   "metadata": {
    "tags": []
   },
   "outputs": [],
   "source": [
    "# concat 메서드에서 axis=0을 사용하여 행 방향으로 합치기\n",
    "pd.concat([df1, df2], axis=0)"
   ]
  },
  {
   "cell_type": "code",
   "execution_count": null,
   "id": "5810564f-d3ec-4286-8024-e61fa7c48e82",
   "metadata": {
    "tags": []
   },
   "outputs": [],
   "source": [
    "# igrnoe_index를 True로 하였을 경우\n",
    "pd.concat([df1, df2], ignore_index=True)"
   ]
  },
  {
   "cell_type": "code",
   "execution_count": null,
   "id": "b47eca2e-10d5-4b27-ad55-30073d05eede",
   "metadata": {
    "tags": []
   },
   "outputs": [],
   "source": [
    "pd.concat([df1, df2], axis=1)"
   ]
  },
  {
   "cell_type": "code",
   "execution_count": null,
   "id": "903bc5d7-0483-465f-bd7c-4322430722be",
   "metadata": {
    "tags": []
   },
   "outputs": [],
   "source": [
    "\"\"\"\n",
    "join:\n",
    "join='outer': 기본값으로, 인덱스가 겹치지 않는 경우에는 빈 값(NaN)으로 처리되며, \n",
    "            인덱스가 겹치는 경우에는 합집합으로 합쳐집니다.\n",
    "join='inner': 인덱스가 겹치는 경우에는 교집합으로 합쳐집니다.\n",
    "\"\"\"\n",
    "import pandas as pd\n",
    "\n",
    "# 데이터 생성\n",
    "data1 = {\n",
    "    'ID': [1, 2, 3],\n",
    "    'Name': ['Alice', 'Bob', 'Charlie']\n",
    "}\n",
    "\n",
    "data2 = {\n",
    "    'ID': [2, 3, 4],\n",
    "    'Age': [25, 30, 35]\n",
    "}\n",
    "\n",
    "df1 = pd.DataFrame(data1, index=list(\"ABC\"))\n",
    "df2 = pd.DataFrame(data2, index=list(\"ABD\"))\n"
   ]
  },
  {
   "cell_type": "code",
   "execution_count": null,
   "id": "71205ce1-ef36-4273-b601-d181d8912067",
   "metadata": {
    "tags": []
   },
   "outputs": [],
   "source": [
    "df1"
   ]
  },
  {
   "cell_type": "code",
   "execution_count": null,
   "id": "f35027a4-85a0-4383-a108-12859106de7e",
   "metadata": {
    "tags": []
   },
   "outputs": [],
   "source": [
    "df2"
   ]
  },
  {
   "cell_type": "code",
   "execution_count": null,
   "id": "f77c7e9e-4832-4605-9ab2-2070810bc555",
   "metadata": {
    "tags": []
   },
   "outputs": [],
   "source": [
    "# concat 메서드에서 join='outer'를 사용하여 기본값으로 합치기\n",
    "pd.concat([df1, df2], axis=1, join='outer')"
   ]
  },
  {
   "cell_type": "code",
   "execution_count": null,
   "id": "c6e86c83-03d5-4b8a-8bc8-f0e30ef3418e",
   "metadata": {
    "tags": []
   },
   "outputs": [],
   "source": [
    "# concat 메서드에서 join='inner'를 사용하여 교집합으로 합치기\n",
    "pd.concat([df1, df2], axis=1, join='inner')"
   ]
  },
  {
   "cell_type": "markdown",
   "id": "d4f48825-34cb-45af-81a3-e481f3d1ad54",
   "metadata": {},
   "source": [
    "1. merge() 메서드:\n",
    "merge() 메서드는 두 개의 데이터프레임을 특정 열(column)을 기준으로 합치는 데 사용됩니다. SQL의 JOIN 연산과 유사한 기능을 제공합니다.\n",
    "\n",
    "merge() 메서드의 형식:\n",
    "\n",
    "```python\n",
    "pd.merge(left, right, how='inner', on=None, left_on=None, right_on=None)\n",
    "```\n",
    "\n",
    "- `left`: 왼쪽에 있는 데이터프레임을 지정합니다.\n",
    "- `right`: 오른쪽에 있는 데이터프레임을 지정합니다.\n",
    "- `how`: 합치는 방식을 지정합니다. 기본값은 'inner'로, 교집합을 반환합니다. `outer`, `left`, `right` 등이 가능합니다.\n",
    "- `on`, `left_on`, `right_on`: 합치는 기준 열을 지정합니다.\n"
   ]
  },
  {
   "cell_type": "code",
   "execution_count": null,
   "id": "a7db06bd-0311-4aad-a03f-e2e4a4d6825c",
   "metadata": {
    "tags": []
   },
   "outputs": [],
   "source": [
    "import pandas as pd\n",
    "\n",
    "# 데이터 생성\n",
    "data1 = {\n",
    "    'ID': [1, 2, 3, 4],\n",
    "    'Name': ['Alice', 'Bob', 'Charlie', 'David']\n",
    "}\n",
    "\n",
    "data2 = {\n",
    "    'ID': [3, 4, 5, 6],\n",
    "    'Age': [25, 30, 35, 40]\n",
    "}\n",
    "\n",
    "df1 = pd.DataFrame(data1)\n",
    "df2 = pd.DataFrame(data2)\n"
   ]
  },
  {
   "cell_type": "code",
   "execution_count": null,
   "id": "3b2b2e2f-0b65-4294-98d9-b4dd95c5f727",
   "metadata": {
    "tags": []
   },
   "outputs": [],
   "source": [
    "df1"
   ]
  },
  {
   "cell_type": "code",
   "execution_count": null,
   "id": "3e66c310-8287-4be4-b51b-91dc300a68ce",
   "metadata": {
    "tags": []
   },
   "outputs": [],
   "source": [
    "df2"
   ]
  },
  {
   "cell_type": "code",
   "execution_count": null,
   "id": "950294b1-1b1f-4939-9856-dfb7b20b5cb4",
   "metadata": {
    "tags": []
   },
   "outputs": [],
   "source": [
    "# 'ID' 열을 기준으로 두 데이터프레임 합치기 (inner join)\n",
    "pd.merge(df1, df2, on='ID')"
   ]
  },
  {
   "cell_type": "markdown",
   "id": "04459d0a-6be7-4648-b54d-d522459eb1ab",
   "metadata": {},
   "source": [
    "how 매개변수를 사용하여 'inner', 'outer', 'left', 'right' 방식으로 두 데이터프레임을 합치는 방법\n",
    "\n",
    "|매개변수|기능|\n",
    "|--|--|\n",
    "|'inner'| 두 데이터프레임의 'ID' 열을 비교하여 공통된 'ID' 값만 합칩니다.|\n",
    "|'outer'| 두 데이터프레임의 모든 행을 합치며,  'ID' 값이 하나라도 있는 경우에는 해당 값을,  둘 다 없는 경우에는 NaN으로 처리합니다.|\n",
    "|'left'| 첫 번째 데이터프레임 df1의 모든 행을 합칩니다.  두 데이터프레임의 'ID' 열을 비교하여 공통된 'ID' 값만 합치며, 'df1'의 모든 행은 보존됩니다.|\n",
    "|'right'| 두 번째 데이터프레임 df2의 모든 행을 합칩니다.  두 데이터프레임의 'ID' 열을 비교하여 공통된 'ID' 값만 합치며, 'df2'의 모든 행은 보존됩니다.|"
   ]
  },
  {
   "cell_type": "code",
   "execution_count": null,
   "id": "c9126a3b-4d07-483c-b156-55255827b56b",
   "metadata": {
    "tags": []
   },
   "outputs": [],
   "source": [
    "# 'ID' 열을 기준으로 두 데이터프레임 합치기 (outer join)\n",
    "pd.merge(df1, df2, on='ID', how='outer')"
   ]
  },
  {
   "cell_type": "code",
   "execution_count": null,
   "id": "ebdfdf09-24ba-4a48-aa7c-6d271d18c15c",
   "metadata": {
    "tags": []
   },
   "outputs": [],
   "source": [
    "# 'ID' 열을 기준으로 두 데이터프레임 합치기 (left join)\n",
    "pd.merge(df1, df2, on='ID', how='left')"
   ]
  },
  {
   "cell_type": "code",
   "execution_count": null,
   "id": "2766c3a2-61d3-406b-9efe-186632b7469a",
   "metadata": {
    "tags": []
   },
   "outputs": [],
   "source": [
    "# 'ID' 열을 기준으로 두 데이터프레임 합치기 (right join)\n",
    "pd.merge(df1, df2, on='ID', how='right')"
   ]
  },
  {
   "cell_type": "code",
   "execution_count": null,
   "id": "040671c5-bdc3-452e-9010-7334166d6789",
   "metadata": {
    "tags": []
   },
   "outputs": [],
   "source": [
    "\"\"\"\n",
    "on, left_on, right_on은 merge() 메서드에서 사용되는 매개변수로, \n",
    "두 데이터프레임을 특정 열을 기준으로 합칠 때 해당 열들을 지정하는 역할을 합니다.\n",
    "left_on, right_on 매개변수를 사용하여 \n",
    "두 데이터프레임이 서로 다른 열 이름을 가지고 있을 때도 쉽게 합치는 것이 가능합니다.\n",
    "\"\"\"\n",
    "import pandas as pd\n",
    "\n",
    "# 데이터 생성\n",
    "data1 = {\n",
    "    'ID': [1, 2, 3],\n",
    "    'Age': [25, 30, 35]\n",
    "}\n",
    "\n",
    "data2 = {\n",
    "    'StudentID': [2, 3, 4],\n",
    "    'Credit': [25, 30, 35]\n",
    "}\n",
    "\n",
    "\n",
    "df1 = pd.DataFrame(data1)\n",
    "df2 = pd.DataFrame(data2)"
   ]
  },
  {
   "cell_type": "code",
   "execution_count": null,
   "id": "ed13a9ac-cbea-4694-8f20-e12b77fb31b9",
   "metadata": {
    "tags": []
   },
   "outputs": [],
   "source": [
    "df1"
   ]
  },
  {
   "cell_type": "code",
   "execution_count": null,
   "id": "b334b53e-f717-4e26-8d11-c00d969887dd",
   "metadata": {
    "tags": []
   },
   "outputs": [],
   "source": [
    "df2"
   ]
  },
  {
   "cell_type": "code",
   "execution_count": null,
   "id": "22100665-b1b4-4dc8-bfa1-95ff1325a47a",
   "metadata": {
    "tags": []
   },
   "outputs": [],
   "source": [
    "# 'ID'와 'StudentID' 열을 기준으로 두 데이터프레임 합치기\n",
    "pd.merge(df1, df2, left_on='ID', right_on='StudentID')"
   ]
  }
 ],
 "metadata": {
  "kernelspec": {
   "display_name": "Python 3 (ipykernel)",
   "language": "python",
   "name": "python3"
  },
  "language_info": {
   "codemirror_mode": {
    "name": "ipython",
    "version": 3
   },
   "file_extension": ".py",
   "mimetype": "text/x-python",
   "name": "python",
   "nbconvert_exporter": "python",
   "pygments_lexer": "ipython3",
   "version": "3.10.11"
  }
 },
 "nbformat": 4,
 "nbformat_minor": 5
}
