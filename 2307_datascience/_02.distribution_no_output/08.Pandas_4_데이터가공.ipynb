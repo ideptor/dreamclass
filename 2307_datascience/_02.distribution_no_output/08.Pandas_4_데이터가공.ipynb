{
 "cells": [
  {
   "cell_type": "markdown",
   "id": "8c4462e0-bfb3-4868-869a-8a67f382abcc",
   "metadata": {},
   "source": [
    "# Pandas 데이터 가공\n",
    "- crosstab()\n",
    "- pivot_table()\n",
    "- get_dummies()\n",
    "- stack()/unstack()\n",
    "- melt()\n",
    "- 텍스트데이터 가공\n",
    "- 그룹연산\n",
    "- 통계함수"
   ]
  },
  {
   "cell_type": "markdown",
   "id": "3d259c26-12cd-4244-8d92-19763c63fa82",
   "metadata": {
    "tags": []
   },
   "source": [
    "# crosstab()\n",
    "\n",
    "crosstab은 판다스의 데이터프레임에서 교차표를 생성하는 기능을 제공하는 함수입니다.  \n",
    "교차표는 두 변수 사이의 빈도, 빈도 비율 등을 보여주는 표로서,  \n",
    "특히 범주형(명목형 norminal, 순서형 ordinal) 데이터에 유용하게 활용됩니다.\n",
    "\n",
    "crosstab 함수의 구문:\n",
    "\n",
    "```python\n",
    "pd.crosstab(index, columns, values=None, rownames=None, colnames=None, aggfunc=None, margins=False, margins_name='All', dropna=True, normalize=False)\n",
    "```\n",
    "\n",
    "- `index`: 교차표의 행 인덱스를 지정하는데 사용되는 열(또는 열 이름)입니다.\n",
    "- `columns`: 교차표의 열 인덱스를 지정하는데 사용되는 열(또는 열 이름)입니다.\n",
    "- `values`: 교차표의 데이터로 사용할 열(또는 열 이름)을 선택적으로 지정합니다. 기본값은 None이며, 이 경우 빈도가 계산됩니다.\n",
    "- `rownames`: 행 인덱스에 사용할 이름을 지정합니다.\n",
    "- `colnames`: 열 인덱스에 사용할 이름을 지정합니다.\n",
    "- `aggfunc`: 교차표 셀에 적용할 집계 함수를 지정합니다. 기본값은 None이며, 이 경우 빈도가 계산됩니다.\n",
    "- `margins`: 부분 합계를 생성할지 여부를 지정하는데, 기본값은 False입니다.\n",
    "- `margins_name`: 부분 합계의 이름을 지정합니다.\n",
    "- `dropna`: 결측값이 포함된 행/열을 제거할지 여부를 지정하는데, 기본값은 True입니다.\n",
    "- `normalize`: 빈도를 빈도 비율로 정규화할지 여부를 지정하는데, 기본값은 False입니다."
   ]
  },
  {
   "cell_type": "code",
   "execution_count": null,
   "id": "dbe5269b-b863-4b80-98ea-ddff381de6e1",
   "metadata": {
    "tags": []
   },
   "outputs": [],
   "source": [
    "import pandas as pd\n",
    "\n",
    "data = {\n",
    "    'Student': [\"Alice\", \"Bob\", \"Charlie\", \"Alice\", \"Bob\", \"David\", \"Charlie\", \"Alice\", \"Alice\", \"Bob\"],\n",
    "    'Movie': ['Star Wars', 'Batman', 'Star Wars', 'Harry Potter', 'Batman', 'Star Wars', 'Harry Potter', 'Sixty Seconds', 'Batman', 'Star Wars'],\n",
    "    'Rating': [5, 4, 3, 4, 5, 2, 3, 4, 1, 3]\n",
    "}\n",
    "\n",
    "df = pd.DataFrame(data)\n",
    "df"
   ]
  },
  {
   "cell_type": "code",
   "execution_count": null,
   "id": "62c2ba53-61ab-4c79-93f9-a057ef27f8df",
   "metadata": {
    "tags": []
   },
   "outputs": [],
   "source": [
    "pd.crosstab(df.Student, df.Movie)"
   ]
  },
  {
   "cell_type": "code",
   "execution_count": null,
   "id": "56b78510-c3d3-4aa5-b2e3-f87670bedd5d",
   "metadata": {
    "tags": []
   },
   "outputs": [],
   "source": [
    "import numpy as np\n",
    "pd.crosstab(df.Student, df.Movie, values=df.Rating, aggfunc=np.mean)"
   ]
  },
  {
   "cell_type": "code",
   "execution_count": null,
   "id": "76520f79-0f54-4aba-a5a3-a37d999eb321",
   "metadata": {
    "tags": []
   },
   "outputs": [],
   "source": [
    "import numpy as np\n",
    "pd.crosstab(df.Student, df.Movie, values=df.Rating, aggfunc='mean')"
   ]
  },
  {
   "cell_type": "code",
   "execution_count": null,
   "id": "b6d32373-66f2-4bdd-a7e9-6745d97afdf8",
   "metadata": {
    "tags": []
   },
   "outputs": [],
   "source": [
    "pd.crosstab(df.Student, df.Movie, values=df.Rating, aggfunc=np.mean, margins=True)"
   ]
  },
  {
   "cell_type": "code",
   "execution_count": null,
   "id": "30cfcb1e-25d9-446e-8e55-3daade676b5b",
   "metadata": {
    "tags": []
   },
   "outputs": [],
   "source": [
    "pd.crosstab(df.Student, df.Movie, normalize=True)"
   ]
  },
  {
   "cell_type": "code",
   "execution_count": null,
   "id": "80c8171b-b3b5-41c6-994a-a393679db17e",
   "metadata": {
    "tags": []
   },
   "outputs": [],
   "source": [
    "#!pip install seaborn"
   ]
  },
  {
   "cell_type": "code",
   "execution_count": null,
   "id": "e9625c91-89dc-4e51-88d7-2a92f5879b68",
   "metadata": {
    "tags": []
   },
   "outputs": [],
   "source": [
    "import seaborn as sns\n",
    "\n",
    "sns.heatmap(\n",
    "    pd.crosstab(df.Student, df.Movie, values=df.Rating, aggfunc=np.mean, margins=True),\n",
    "    annot=True, # 수치 표시 여부\n",
    "    fmt=\".1f\", # 수치 표시할때 포멧 (소숫점 1자리까지 표시)\n",
    "    cmap=\"Blues\", # 수치에 따른 color를 표시하는 방법\n",
    "    linewidth=2,\n",
    ")"
   ]
  },
  {
   "cell_type": "markdown",
   "id": "b84441de-ad56-4b56-bd14-311c3a03838c",
   "metadata": {},
   "source": [
    "# pivot_table()\n",
    "\n",
    "pivot_table은 판다스의 데이터프레임에서 데이터를 `재구조화`하고 `집계 연산`을 수행하는 기능을 제공하는 메서드입니다.  \n",
    "pivot_table 메서드를 사용하면 데이터프레임의 `행`과 `열`을 `재배치`하여 `새로운 데이터프레임`을 생성하며,   \n",
    "`중복된 조합`에 대해 `집계 함수`를 적용하여 결과를 생성할 수 있습니다.\n",
    "\n",
    "pivot_table 메서드의 구문:\n",
    "\n",
    "```python\n",
    "DataFrame.pivot_table(values=None, index=None, columns=None, aggfunc='mean', fill_value=None, margins=False, dropna=True, margins_name='All')\n",
    "```\n",
    "\n",
    "- `values`: 집계하고자 하는 열의 이름(들). 기본값은 None이며, 모든 열에 대해 집계함수가 적용됩니다. 수치형 데이터이어야 합니다.\n",
    "- `index`: 행 인덱스로 사용할 열의 이름(들). 주로 명목형 데이터형입니다.\n",
    "- `columns`: 열 인덱스로 사용할 열의 이름(들).\n",
    "- `aggfunc`: 집계 함수를 지정합니다. 기본값은 'mean'으로 평균을 의미합니다. 다른 자주 사용되는 함수로 'sum', 'count', 'min', 'max' 등이 있습니다.\n",
    "fill_value: 결측값 대체를 위한 값.\n",
    "- `margins`: 부분 합계를 생성할지 여부를 지정하는데, 기본값은 False입니다.\n",
    "- `dropna`: 결측값이 포함된 행/열을 제거할지 여부를 지정하는데, 기본값은 True입니다.\n",
    "- `margins_name`: 부분 합계의 이름을 지정합니다.\n"
   ]
  },
  {
   "cell_type": "code",
   "execution_count": null,
   "id": "75acc5e1-7c0c-47f1-882e-f28da6cc655d",
   "metadata": {
    "tags": []
   },
   "outputs": [],
   "source": [
    "import pandas as pd\n",
    "import numpy as np\n",
    "\n",
    "# 데이터 생성\n",
    "data = {\n",
    "    'Date': ['2023-08-01', '2023-08-01', '2023-08-02', '2023-08-02', '2023-08-03', '2023-08-03'],\n",
    "    'City': ['Seoul', 'Busan', 'Seoul', 'Busan', 'Seoul', 'Busan'],\n",
    "    'Temperature': [32, 28, 30, 27, 33, 29],\n",
    "    'Humidity': [50, 60, 55, 58, 45, 62]\n",
    "}\n",
    "\n",
    "df = pd.DataFrame(data)\n",
    "df"
   ]
  },
  {
   "cell_type": "code",
   "execution_count": null,
   "id": "057ffffa-3d3d-4267-889c-dcc59ce9cfc9",
   "metadata": {
    "tags": []
   },
   "outputs": [],
   "source": [
    "# pivot을 사용하여 데이터프레임 재구조화 \n",
    "df.pivot_table(index='Date', values=['Temperature'], aggfunc='mean')"
   ]
  },
  {
   "cell_type": "code",
   "execution_count": null,
   "id": "8c152312-e24c-4146-b8ad-32508c656058",
   "metadata": {
    "tags": []
   },
   "outputs": [],
   "source": [
    "# pivot을 사용하여 데이터프레임 재구조화 \n",
    "df.pivot_table(index='City', values='Humidity', aggfunc=['max', 'min'])"
   ]
  },
  {
   "cell_type": "code",
   "execution_count": null,
   "id": "f8675ae2-c562-425d-8426-b74c0377b4aa",
   "metadata": {
    "tags": []
   },
   "outputs": [],
   "source": [
    "# 다수의 column 활용 (날짜기준)\n",
    "df.pivot_table(index='Date', values=['Temperature', 'Humidity'], aggfunc='mean')"
   ]
  },
  {
   "cell_type": "code",
   "execution_count": null,
   "id": "c9167ac2-eea7-48ca-ad37-2ddd65606603",
   "metadata": {
    "tags": []
   },
   "outputs": [],
   "source": [
    "# 다수의 index, column 활용 \n",
    "df.pivot_table(index=['City', 'Date'], values=['Temperature', 'Humidity'], aggfunc='mean')"
   ]
  },
  {
   "cell_type": "code",
   "execution_count": null,
   "id": "27f83c4f-d759-48f2-9a17-b35bec2010ba",
   "metadata": {
    "tags": []
   },
   "outputs": [],
   "source": [
    "# agg_func 추가\n",
    "df.pivot_table(index='City',  values=['Temperature'], aggfunc=[np.mean, 'count', 'std', 'min', 'max', lambda x: x.max()-x.min()])"
   ]
  },
  {
   "cell_type": "markdown",
   "id": "8f1f167a-1cfb-42fe-9351-d6ea3ad5d510",
   "metadata": {},
   "source": [
    "# get_dummies()\n",
    "\n",
    "get_dummies는 판다스의 데이터프레임에서 `범주형 변수`를  \n",
    "`더미 변수`(0 또는 1로 이루어진 이진 변수)로 변환하는 기능을 제공하는 함수입니다.  \n",
    "범주형 변수를 더미 변수로 변환하여 기계 학습 모델에 적용하거나 데이터 분석에 활용하는 데 유용합니다.\n",
    "\n",
    "get_dummies 함수의 구문:\n",
    "\n",
    "```python\n",
    "pd.get_dummies(data, prefix=None, prefix_sep='_', columns=None, drop_first=False, dtype=None)\n",
    "```\n",
    "\n",
    "- **data**: 더미 변수로 변환할 데이터프레임이나 시리즈를 지정합니다.\n",
    "- **prefix**: 더미 변수의 컬럼 이름에 추가할 접두어를 지정합니다.\n",
    "- **prefix_sep**: 접두어와 변수 이름 사이에 추가할 구분 기호를 지정합니다.\n",
    "- **columns**: 더미 변수로 변환할 열(또는 열 이름)을 선택적으로 지정합니다. 기본값은 None이며, 이 경우 모든 열이 더미 변수로 변환됩니다.\n",
    "- **drop_first**: 더미 변수 중 첫 번째 변수를 제거할지 여부를 지정합니다. 기본값은 False이며, True로 설정하면 첫 번째 더미 변수가 제거됩니다.\n",
    "- **dtype**: 생성된 더미 변수의 데이터 타입을 지정합니다.\n"
   ]
  },
  {
   "cell_type": "code",
   "execution_count": null,
   "id": "f1cc74ba-79bf-47b5-9476-7136deb0a2ed",
   "metadata": {
    "tags": []
   },
   "outputs": [],
   "source": [
    "import pandas as pd\n",
    "\n",
    "# 학생 성적 데이터 생성\n",
    "data = {\n",
    "    'Name': ['Alice', 'Bob', 'Charlie', 'David', 'Ella'],\n",
    "    'Subject': ['Math', 'Science', 'Math', 'English', 'Science'],\n",
    "    'Grade': ['A', 'B', 'B', 'C', 'A']\n",
    "}\n",
    "\n",
    "df = pd.DataFrame(data)\n",
    "df\n"
   ]
  },
  {
   "cell_type": "code",
   "execution_count": null,
   "id": "1118b10f-cc38-4971-a4f5-a9b8cabaecd2",
   "metadata": {
    "tags": []
   },
   "outputs": [],
   "source": [
    "pd.get_dummies(df, columns=['Grade'])"
   ]
  },
  {
   "cell_type": "code",
   "execution_count": null,
   "id": "f53ae290-d88d-4b80-85a0-4eca9f5acdc5",
   "metadata": {
    "tags": []
   },
   "outputs": [],
   "source": [
    "pd.get_dummies(df, columns=['Grade'], drop_first=True)"
   ]
  },
  {
   "cell_type": "code",
   "execution_count": null,
   "id": "18db299e-8867-4780-966c-3e69462e5e72",
   "metadata": {
    "tags": []
   },
   "outputs": [],
   "source": [
    "pd.get_dummies(df, columns=['Grade'], prefix=[\"G\"])"
   ]
  },
  {
   "cell_type": "code",
   "execution_count": null,
   "id": "056eb606-536c-4533-a4f8-13dc11162107",
   "metadata": {
    "tags": []
   },
   "outputs": [],
   "source": [
    "pd.get_dummies(df, columns=['Subject', 'Grade'])"
   ]
  },
  {
   "cell_type": "markdown",
   "id": "266c4328-299f-4f66-9602-884e2dc64673",
   "metadata": {},
   "source": [
    "# stack()/unstack()\n",
    "\n",
    "`stack()`과 `unstack()`은 데이터프레임의 인덱스와 컬럼을 변환하는 데 사용되는 판다스 메서드입니다.  \n",
    "둘 다 데이터프레임의 구조를 변경하는데 사용되지만, \n",
    "`stack()`은 차원을 축소하고 `unstack()`은 차원을 증가시킵니다.\n",
    "\n",
    "**stack() 메서드:**\n",
    "\n",
    "stack() 메서드는 데이터프레임의 `컬럼`을 `인덱스의 레벨`로 `\"압축\"`하여 Series로 변환합니다.  \n",
    "컬럼을 인덱스로 변환하므로, 데이터프레임의 `차원이 축소`됩니다.  \n",
    "일반적으로 `MultiIndex`가 있는 데이터프레임에서 사용됩니다.  \n",
    "\n",
    "\n",
    "**unstack() 메서드:**\n",
    "\n",
    "unstack() 메서드는 `MultiIndex`로 구성된 인덱스의 레벨을 `컬럼`으로 `\"펼쳐서\"` 데이터프레임으로 변환합니다.  \n",
    "`인덱스`를 `컬럼`으로 변환하므로, 데이터프레임의 `차원이 증가`합니다.  \n",
    "stack()과 반대로, 데이터프레임의 MultiIndex를 해제할 때 사용됩니다.  \n",
    "  \n"
   ]
  },
  {
   "cell_type": "code",
   "execution_count": null,
   "id": "5d67ab40-a19b-4f81-b98a-ac73c64e76e0",
   "metadata": {
    "tags": []
   },
   "outputs": [],
   "source": [
    "import pandas as pd\n",
    "\n",
    "# 다중 인덱스 생성 예제\n",
    "data = {\n",
    "    'Year': [2019, 2019, 2020, 2020, 2021, 2021],\n",
    "    'Quarter': [1, 2, 1, 2, 1, 2],\n",
    "    'Profit': [20, 25, 22, 28, 24, 30],\n",
    "    'Revenue': [100, 120, 110, 130, 120, 140],\n",
    "}\n",
    "\n",
    "df = pd.DataFrame(data)\n",
    "df.set_index(['Year', 'Quarter'], inplace=True)\n",
    "df"
   ]
  },
  {
   "cell_type": "code",
   "execution_count": null,
   "id": "9ae6d406-eef4-485f-8dd7-4c1764a5ac7a",
   "metadata": {
    "tags": []
   },
   "outputs": [],
   "source": [
    "df.stack()"
   ]
  },
  {
   "cell_type": "code",
   "execution_count": null,
   "id": "281c1f36-3954-41fb-8dbf-414cbb5dda0e",
   "metadata": {
    "tags": []
   },
   "outputs": [],
   "source": [
    "type(df.stack())"
   ]
  },
  {
   "cell_type": "code",
   "execution_count": null,
   "id": "2322e92d-d6ea-4507-8388-e73900e42454",
   "metadata": {
    "tags": []
   },
   "outputs": [],
   "source": [
    "# unstack() 예제\n",
    "s = df.stack()\n",
    "s.unstack()\n",
    "\n",
    "# stack()과 unstack() 메소드는 포함된 인덱스 레벨의 순서를 내부적으로 정렬하므로, stack(), unstack() 을 통함 결과가 원래의 순서와 같지 않을 수 있습니다."
   ]
  },
  {
   "cell_type": "code",
   "execution_count": null,
   "id": "8600abc1-8280-4d59-a93c-f6554590e19c",
   "metadata": {
    "tags": []
   },
   "outputs": [],
   "source": [
    "s.unstack().unstack()"
   ]
  },
  {
   "cell_type": "markdown",
   "id": "18950d04-626a-4eff-b3e5-3a1c347cc27c",
   "metadata": {},
   "source": [
    "# melt()\n",
    "\n",
    "`melt()`는 데이터프레임의 `컬럼들`을 `정리`하여   \n",
    "`'긴 형식(long format)'`으로 변환하는 기능을 제공하는 판다스 메서드입니다.   \n",
    "이를 통해 데이터프레임의 `컬럼`들을 `유지`하면서  \n",
    "특정 컬럼들을 행으로 '녹여내어' 새로운 데이터프레임을 생성합니다.\n",
    "\n",
    "melt() 메서드는 주로 데이터베이스의 `'정규화(normalization)'` 개념과 관련이 있습니다.  \n",
    "원래 `넓은 형식(wide format)`으로 되어있는 데이터프레임을 정리하여  \n",
    "`긴 형식`으로 변환하는 작업을 수행합니다.  \n",
    "melt() 메서드의 기본적인 사용 방법은 다음과 같습니다:\n",
    "\n",
    "```python\n",
    "pd.melt(\n",
    "    df, id_vars=['고정 컬럼1', '고정 컬럼2', ...], \n",
    "    value_vars=['녹여낼 컬럼1', '녹여낼 컬럼2', ...], \n",
    "    var_name='새로운 열 이름', \n",
    "    value_name='새로운 값 이름'\n",
    ")\n",
    "```\n",
    "\n",
    "- `df`: 대상 데이터프레임\n",
    "- `id_vars`: 유지할 컬럼들의 리스트. 이 컬럼들은 기존 데이터프레임에 그대로 남아있습니다.\n",
    "- `value_vars`: 녹여낼 컬럼들의 리스트. 이 컬럼들의 값들이 '녹여내어' 새로운 열과 값을 형성합니다.\n",
    "- `var_name`: '녹여낸 컬럼들'을 나타내는 열의 이름을 지정합니다.\n",
    "- `value_name`: '녹여낸 컬럼들'에 해당하는 값들을 나타내는 열의 이름을 지정합니다.\n"
   ]
  },
  {
   "cell_type": "code",
   "execution_count": null,
   "id": "dea93db4-20c5-4fbd-be4a-1025d445e591",
   "metadata": {
    "tags": []
   },
   "outputs": [],
   "source": [
    "import pandas as pd\n",
    "\n",
    "# 원본 데이터프레임 생성 예제\n",
    "data = {\n",
    "    'Name': ['Alice', 'Bob', 'Charlie'],\n",
    "    'Math': [90, 85, 78],\n",
    "    'Science': [85, 92, 80],\n",
    "    'English': [80, 88, 75],\n",
    "}\n",
    "\n",
    "df = pd.DataFrame(data)\n",
    "df\n"
   ]
  },
  {
   "cell_type": "code",
   "execution_count": null,
   "id": "82dc6d7f-d0d4-47f0-9689-3576b44319d8",
   "metadata": {
    "tags": []
   },
   "outputs": [],
   "source": [
    "pd.melt(df, id_vars='Name', value_vars=['Math', 'Science', 'English'], var_name='Subject', value_name='Score')"
   ]
  },
  {
   "cell_type": "code",
   "execution_count": null,
   "id": "11c16912-123a-4909-a775-d49120fa74f9",
   "metadata": {
    "tags": []
   },
   "outputs": [],
   "source": [
    "df2 = pd.melt(df, id_vars='Name', value_vars=['Math', 'Science', 'English'], var_name='Subject', value_name='Score')\n",
    "df2.pivot_table(index=\"Name\", columns=\"Subject\", values=\"Score\")"
   ]
  },
  {
   "cell_type": "markdown",
   "id": "167665e1-fec3-4fdb-8fc3-adaa6e95ec86",
   "metadata": {},
   "source": [
    "# 텍스트데이터 가공하기\n",
    "\n",
    "데이터프레임의 `텍스트 데이터 가공`은 데이터프레임의 `텍스트 컬럼`에 대해  \n",
    "문자열을 `조작`, `변환`하거나 특정 패턴을 `검색`하여 원하는 정보를 추출하는 작업을 의미합니다.  \n",
    "텍스트 데이터 가공은 데이터 정제, 특정 정보 추출, 문자열 매칭, 토큰화(tokenization) 등  \n",
    "다양한 용도로 사용될 수 있습니다.  \n",
    "판다스에서는 데이터프레임의 텍스트 데이터 가공을 위해 다양한 메서드와 함수를 제공합니다.\n",
    "\n",
    "텍스트 데이터 가공에 사용되는 판다스 메서드와 함수:\n",
    "| 함수명 | 설명 |\n",
    "|--|--|\n",
    "|str.contains()| 특정 문자열이 컬럼의 각 요소에 포함되어 있는지 여부를 검사합니다.|\n",
    "|str.startswith() 및  str.endswith()| 특정 문자열이 컬럼의 각 요소에 포함되어 있는지 여부를 검사합니다.|\n",
    "|str.replace()| 문자열에서 특정 패턴을 찾아 다른 문자열로 치환합니다.|\n",
    "|str.split()| 문자열을 지정된 구분자(delimiter)를 기준으로 분할하여 리스트로 반환합니다.|\n",
    "|str.extract()| 정규표현식을 사용하여 문자열에서 특정 패턴을 추출합니다.|\n",
    "|str.len()| 문자열의 길이를 계산합니다.|\n",
    "|str.lower() 및 str.upper()| 문자열을 소문자 또는 대문자로 변환합니다.|\n",
    "|str.strip(), str.lstrip(), str.rstrip()| 문자열의 앞뒤 공백을 제거합니다.|\n",
    "|str.join()| 문자열 리스트를 지정된 구분자로 결합합니다.|\n",
    "|str.cat()| 문자열 시리즈들을 결합하여 새로운 문자열 시리즈를 생성합니다.|\n",
    "|str.contains()| 특정 문자열이 컬럼의 각 요소에 포함되어 있는지 여부를 검사합니다.|\n",
    "|str.extract()| 문자열에서 정규표현식을 사용하여 특정 패턴을 추출합니다.|\n",
    "|str.findall()| 문자열에서 정규표현식을 사용하여 특정 패턴에 매칭되는 모든 부분 문자열을 리스트로 반환합니다.|\n",
    "\n"
   ]
  },
  {
   "cell_type": "code",
   "execution_count": null,
   "id": "e19674c1-1811-4fe7-bacb-6bda68143ff4",
   "metadata": {
    "tags": []
   },
   "outputs": [],
   "source": [
    "import pandas as pd\n",
    "\n",
    "data = {\n",
    "    'Name': ['Alice', 'Bob', 'Charlie'],\n",
    "    'Description': ['Student at XYZ University', 'Employee at ABC Corp', 'Manager at DEF Inc']\n",
    "}\n",
    "\n",
    "df = pd.DataFrame(data)\n",
    "df"
   ]
  },
  {
   "cell_type": "code",
   "execution_count": null,
   "id": "57fbd843-16a0-406d-aff5-8ea2452d7995",
   "metadata": {
    "tags": []
   },
   "outputs": [],
   "source": [
    "# 'Description' 컬럼에서 'Student'를 포함하는 행 선택\n",
    "df[df.Description.str.contains('Student')]"
   ]
  },
  {
   "cell_type": "code",
   "execution_count": null,
   "id": "62edd9b0-a78d-438e-8b12-2934aaeb90be",
   "metadata": {
    "tags": []
   },
   "outputs": [],
   "source": [
    "# 'Description' 컬럼에서 role을 추출하여'Role' 컬럼 생성\n",
    "df['Role'] = df['Description'].str.split(' at ').str[0].str.strip()\n",
    "df"
   ]
  },
  {
   "cell_type": "markdown",
   "id": "d795b67e-3692-47be-ac14-90229823e8f5",
   "metadata": {},
   "source": [
    "# 그룹연산\n",
    "\n",
    "\n",
    "데이터프레임의 그룹연산(GroupBy operation)은 데이터를 그룹으로 분할하여 각 그룹에 대해 특정 연산을 수행하는 기능을 말합니다.  \n",
    "이를 통해 데이터를 특정 기준에 따라 그룹화하고, 그룹별로 집계, 변환, 필터링 등의 연산을 수행할 수 있습니다.\n",
    "\n",
    "그룹연산의 주요 단계:\n",
    "\n",
    "- `분할(Divide)`: 데이터를 기준에 따라 여러 그룹으로 분할합니다.\n",
    "- `적용(Apply)`: 각 그룹에 대해 원하는 연산을 적용합니다.\n",
    "- `결합(Combine)`: 연산 결과를 하나의 데이터로 결합하여 최종 결과를 생성합니다.\n",
    "\n",
    "그룹연산에 사용되는 기능:\n",
    "\n",
    "|이름|설명|\n",
    "|--|--|\n",
    "|groupby()| 데이터를 그룹으로 분할하기 위해 사용하는 메서드입니다.|\n",
    "|agg()| 그룹연산에 대한 집계(aggregation) 함수를 적용할 때 사용합니다.|\n",
    "|transform()| 각 그룹에 대해 변환(transform) 연산을 수행할 때 사용합니다.|\n",
    "|filter()| 그룹을 필터링하여 특정 조건을 만족하는 그룹만 선택할 때 사용합니다.|"
   ]
  },
  {
   "cell_type": "code",
   "execution_count": null,
   "id": "8e598d16-1c0a-4021-8c08-7b28e3810cd7",
   "metadata": {
    "tags": []
   },
   "outputs": [],
   "source": [
    "import pandas as pd\n",
    "\n",
    "# 예제 데이터 생성\n",
    "data = {\n",
    "    'School': [\"SW\", \"SW\", \"GM\", \"GM\", \"KP\", \"KP\"],\n",
    "    'Subject': ['Math', 'Science', 'Math', 'Science', 'Math', 'English'],\n",
    "    'Students': [45, 30, 47, 28, 41, 70],\n",
    "    'Score': [90, 85, 78, 92, 87, 80],\n",
    "}\n",
    "\n",
    "df = pd.DataFrame(data)\n",
    "df.set_index(\"School\", inplace=True)\n",
    "df"
   ]
  },
  {
   "cell_type": "code",
   "execution_count": null,
   "id": "b555f95c-7677-47b2-92d1-37c06ce20e9d",
   "metadata": {
    "tags": []
   },
   "outputs": [],
   "source": [
    "df.groupby('Subject')[\"Score\"].mean()"
   ]
  },
  {
   "cell_type": "code",
   "execution_count": null,
   "id": "9befb839-4a8b-4b48-8244-2d1abdc7b926",
   "metadata": {
    "tags": []
   },
   "outputs": [],
   "source": [
    "# school 별로 Score의 평균 구하기\n",
    "df.groupby(df.index)[\"Score\"].mean()"
   ]
  },
  {
   "cell_type": "markdown",
   "id": "0f9307ce-c86e-4127-82e8-62e8b0f55551",
   "metadata": {},
   "source": [
    "## agg() 활용\n",
    "agg() 메서드는 그룹화된 데이터에 대해 원하는 집계(aggregation) 함수를 적용하여 그룹별로 요약된 결과를 얻을 수 있습니다. \n",
    "\n",
    "| 이름 | 기능 |\n",
    "|--|--|\n",
    "|mean()| 평균을 계산합니다.|\n",
    "|sum()| 합계를 계산합니다.|\n",
    "|min()| 최소값을 찾습니다.|\n",
    "|max()| 최대값을 찾습니다.|\n",
    "|count()| 데이터의 개수를 세어줍니다.|\n",
    "|median()| 중앙값을 계산합니다.|\n",
    "|std()| 표준편차를 계산합니다.|\n",
    "|var()| 분산을 계산합니다.|\n",
    "|quantile(q)| q-분위수를 계산합니다. (0 <= q <= 1)|\n"
   ]
  },
  {
   "cell_type": "code",
   "execution_count": null,
   "id": "0203640c-2f88-4173-968f-29b3b4da12f4",
   "metadata": {
    "tags": []
   },
   "outputs": [],
   "source": [
    "import pandas as pd\n",
    "\n",
    "# 예제 데이터 생성\n",
    "data = {\n",
    "    'School': [\"SW\", \"SW\", \"GM\", \"GM\", \"KP\", \"KP\"],\n",
    "    'Subject': ['Math', 'Science', 'Math', 'Science', 'Math', 'English'],\n",
    "    'Students': [45, 30, 47, 28, 41, 70],\n",
    "    'Score': [90, 85, 78, 92, 87, 80],\n",
    "}\n",
    "\n",
    "df = pd.DataFrame(data)\n",
    "df.set_index(\"School\", inplace=True)\n",
    "df"
   ]
  },
  {
   "cell_type": "code",
   "execution_count": null,
   "id": "b7e63e1b-d394-4146-a1f3-a3c7cd420acb",
   "metadata": {
    "tags": []
   },
   "outputs": [],
   "source": [
    "# 'Subject'로 그룹화하여 각 과목의 평균, 표준편차,, 최댓값을 계산\n",
    "df.groupby('Subject')[\"Score\"].agg(['mean', 'std', 'max'])"
   ]
  },
  {
   "cell_type": "code",
   "execution_count": null,
   "id": "533c99d5-2fb5-455a-94c0-9946f65f5290",
   "metadata": {
    "tags": []
   },
   "outputs": [],
   "source": [
    "# 'Subject'로 그룹화하여 각 과목의 평균, 표준편차,, 최댓값을 계산\n",
    "df.groupby('Subject')[\"Score\"].agg(\n",
    "    Average='mean', \n",
    "    Stddev='std', \n",
    "    Max='max'\n",
    ").round(1)\n"
   ]
  },
  {
   "cell_type": "code",
   "execution_count": null,
   "id": "e5eb654f-ab69-4f14-b7f8-1b97da96a78f",
   "metadata": {
    "tags": []
   },
   "outputs": [],
   "source": [
    "# 'Subject'로 그룹화하여 각 과목의 평균, 표준편차, 최대-최소차이\n",
    "df.groupby('Subject').agg(\n",
    "    Avgerage=('Score', 'mean'),\n",
    "    Stddev=('Score','std'),\n",
    "    Range=('Score',lambda x: x.max()-x.min())\n",
    ")"
   ]
  },
  {
   "cell_type": "code",
   "execution_count": null,
   "id": "d76c0a99-001a-4dd1-ad2a-7264716e9445",
   "metadata": {
    "tags": []
   },
   "outputs": [],
   "source": [
    "# 'Subject'로 그룹화하여 필드별로 집계함수를 다르게 지정할 경우\n",
    "df.groupby('Subject').agg(\n",
    "    Avgerage=('Score', 'mean'),\n",
    "    Stddev=('Score','std'),\n",
    "    Range=('Score',lambda x: x.max()-x.min()),\n",
    "    Average_Students=('Students', 'mean')\n",
    ")"
   ]
  },
  {
   "cell_type": "markdown",
   "id": "f528a7dd-0b35-4a3d-9b01-e8dc2d268b04",
   "metadata": {},
   "source": [
    "## filter()\n",
    "\n",
    "groupby()의 `filter()`는 `그룹별`로 `조건`을 적용하여 `원하는 그룹`만 `선택`하는 메서드입니다.  \n",
    "filter()를 사용하면 그룹화된 데이터프레임에서 특정 조건을 만족하는 그룹만 추출할 수 있습니다."
   ]
  },
  {
   "cell_type": "code",
   "execution_count": null,
   "id": "0dd7d529-67bc-40c6-b6a8-5ae2cf353095",
   "metadata": {
    "tags": []
   },
   "outputs": [],
   "source": [
    "import pandas as pd\n",
    "\n",
    "# 예제 데이터 생성\n",
    "data = {\n",
    "    'Subject': ['Math', 'Science', 'Math', 'Science', 'Math', 'English'],\n",
    "    'Score': [90, 85, 78, 92, 87, 80],\n",
    "    'Year': [2021, 2021, 2022, 2022, 2021, 2022]\n",
    "}\n",
    "\n",
    "df = pd.DataFrame(data)\n",
    "df"
   ]
  },
  {
   "cell_type": "code",
   "execution_count": null,
   "id": "c07db785-fe05-45b0-a456-acb6d57b1fcd",
   "metadata": {
    "tags": []
   },
   "outputs": [],
   "source": [
    "# 평균이 85이상인 과목만 나타나도록 필터링\n",
    "df.groupby('Subject').filter(lambda x: x['Score'].mean() >= 85)"
   ]
  },
  {
   "cell_type": "markdown",
   "id": "15961373-867d-44e6-b216-45dac481da92",
   "metadata": {},
   "source": [
    "# 통계함수\n",
    "\n",
    "|이름|기능|\n",
    "|--|--|\n",
    "|pct_change()| 시계열 데이터에서 이전 값과의 백분율 변화를 계산하는 메서드입니다. |\n",
    "|cov()|각 컬럼(또는 Series)들 간의 공분산(covariance)을 계산하는 메서드입니다. |\n",
    "|corr()| 데이터프레임에서 각 컬럼(또는 Series)들 간의 상관계수(correlation coefficient)를 계산하는 메서드입니다.|\n",
    "|rank()| 데이터프레임 내의 값들을 순위로 변환하는 메서드입니다. |"
   ]
  },
  {
   "cell_type": "markdown",
   "id": "c24a880b-2004-4785-957e-2ba281c34ef3",
   "metadata": {},
   "source": [
    "## pct_change() \n",
    "`시계열 데이터`에서 `이전 값`과의 `백분율 변화`를 계산하는 메서드입니다.  \n",
    "이를 통해 데이터의 `상대적인 변화율`을 확인할 수 있습니다.  \n",
    "보통 주식 가격, 경제 지표, 시계열 데이터 등에서 주로 사용됩니다. "
   ]
  },
  {
   "cell_type": "code",
   "execution_count": null,
   "id": "df0af6e7-2ca4-491e-a666-5c72b6437534",
   "metadata": {
    "tags": []
   },
   "outputs": [],
   "source": [
    "import pandas as pd\n",
    "\n",
    "# 예제 데이터 생성\n",
    "data = {\n",
    "    'Date': ['2021-01-01', '2021-01-02', '2021-01-03', '2021-01-04', '2021-01-05'],\n",
    "    'Price': [100, 120, 150, 130, 140]\n",
    "}\n",
    "\n",
    "df = pd.DataFrame(data)\n",
    "df['Date'] = pd.to_datetime(df['Date'])\n",
    "df.set_index('Date', inplace=True)\n",
    "df\n"
   ]
  },
  {
   "cell_type": "code",
   "execution_count": null,
   "id": "473685b8-b550-4da4-9cf7-e9cf3e638b67",
   "metadata": {
    "tags": []
   },
   "outputs": [],
   "source": [
    "df['Price'].pct_change()"
   ]
  },
  {
   "cell_type": "markdown",
   "id": "067e6bb3-4e66-45c5-9948-91ff4cc42a4f",
   "metadata": {
    "tags": []
   },
   "source": [
    "## cov() \n",
    "데이터프레임에서 각 `컬럼(또는 Series)`들 간의 `공분산(covariance)`을 계산하는 메서드입니다.  \n",
    "`공분산`은 두 변수의 `상관관계`를 나타내며, 두 변수가 함께 어떻게 변하는지를 나타내는 통계적 지표입니다."
   ]
  },
  {
   "cell_type": "code",
   "execution_count": null,
   "id": "7fa0b2c0-754c-417f-8b35-d505b1f30206",
   "metadata": {
    "tags": []
   },
   "outputs": [],
   "source": [
    "\n",
    "\n",
    "import pandas as pd\n",
    "\n",
    "# 예제 데이터 생성\n",
    "data = {\n",
    "    'A': [1, 2, 3, 4, 5],\n",
    "    'B': [5, 4, 3, 2, 1]\n",
    "}\n",
    "\n",
    "df = pd.DataFrame(data)"
   ]
  },
  {
   "cell_type": "code",
   "execution_count": null,
   "id": "7f99adeb-d45b-44cd-8444-5dfea587ece1",
   "metadata": {
    "tags": []
   },
   "outputs": [],
   "source": [
    "# column간 공분산\n",
    "df.cov()"
   ]
  },
  {
   "cell_type": "markdown",
   "id": "a32acf7a-1c83-4c3e-8277-29307fe4b1c0",
   "metadata": {},
   "source": [
    "## corr() \n",
    "\n",
    "데이터프레임에서 각` 컬럼(또는 Series)들 간`의 `상관계수(correlation coefficient)`를 계산하는 메서드입니다.  \n",
    "상관계수는 두 변수 간의 선형 관계 정도를 나타내는 지표로, `-1`부터 `1`까지의 범위를 가집니다.\n",
    "\n",
    "***`method`:***\n",
    "- `'pearson'`: 피어슨 상관계수를 계산합니다 **(기본값)**.\n",
    "- `'kendall'`: 켄달의 타우 상관계수를 계산합니다.\n",
    "- `'spearman'`: 스피어맨 순위 상관계수를 계산합니다.\n"
   ]
  },
  {
   "cell_type": "code",
   "execution_count": null,
   "id": "64cff5b7-2511-4b50-ab5a-e872ac8a469c",
   "metadata": {
    "tags": []
   },
   "outputs": [],
   "source": [
    "import pandas as pd\n",
    "\n",
    "# 예제 데이터 생성\n",
    "data = {\n",
    "    'A': [1, 2, 3, 4, 5],\n",
    "    'B': [5, 4, 3, 2, 1],\n",
    "    'C': [2, 3, 3, 4, 1],\n",
    "}\n",
    "\n",
    "df = pd.DataFrame(data)"
   ]
  },
  {
   "cell_type": "code",
   "execution_count": null,
   "id": "068d73c8-824a-4292-82ec-aeda8aaf02f4",
   "metadata": {
    "tags": []
   },
   "outputs": [],
   "source": [
    "# 'A', 'B', 'C` 컬럼 간의 상관계수 계산\n",
    "df.corr()"
   ]
  },
  {
   "cell_type": "code",
   "execution_count": null,
   "id": "98df8603-7879-4505-9dc6-850051a4ec62",
   "metadata": {
    "tags": []
   },
   "outputs": [],
   "source": [
    "# spearman 상관계수\n",
    "corr_matrix = df.corr(method='spearman')\n",
    "print(corr_matrix)"
   ]
  }
 ],
 "metadata": {
  "kernelspec": {
   "display_name": "Python 3 (ipykernel)",
   "language": "python",
   "name": "python3"
  },
  "language_info": {
   "codemirror_mode": {
    "name": "ipython",
    "version": 3
   },
   "file_extension": ".py",
   "mimetype": "text/x-python",
   "name": "python",
   "nbconvert_exporter": "python",
   "pygments_lexer": "ipython3",
   "version": "3.10.11"
  }
 },
 "nbformat": 4,
 "nbformat_minor": 5
}
