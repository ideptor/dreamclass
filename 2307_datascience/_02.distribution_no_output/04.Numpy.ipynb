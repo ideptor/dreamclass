{
 "cells": [
  {
   "cell_type": "markdown",
   "id": "a4cffeb0-17e3-43b7-a462-9cc01a89abe3",
   "metadata": {},
   "source": [
    "# numpy 기본 \n",
    "- numpy 소개\n",
    "- ndarray(배열객체) 생성하기\n",
    "- numpy random 함수 예제\n",
    "- ndarray 의 데이터 타입\n",
    "- ndarray 주요 속성 및 메소드\n",
    "- indexing 과 slicing\n",
    "- ndarray 값 할당, 삭제, 추가\n",
    "- 정렬, 필터링\n",
    "- ndarray 연산\n",
    "- numpy.where()\n",
    "- unsqueeze()"
   ]
  },
  {
   "cell_type": "markdown",
   "id": "dbf79d42-dbb1-465e-9878-08a6c76fe260",
   "metadata": {},
   "source": [
    "# numpy\n",
    "\n",
    "NumPy는 파이썬에서 `수치 계산`을 위한 핵심 라이브러리로서, `효율`적인 `다차원 배열`과 배열 기반의 수치 계산 기능을 제공합니다. NumPy는 `\"Numerical Python\"`의 줄임말로 알려져 있으며, 다차원 배열을 다루기 위한 강력한 함수와 도구를 제공하여 데이터 과학, 공학, 인공지능, 머신러닝 등 다양한 분야에서 매우 중요한 역할을 합니다.\n",
    "\n",
    "NumPy를 배워야 하는 이유는 다음과 같습니다:\n",
    "\n",
    "- `빠른 계산`: NumPy는 `C`로 구현된 다차원 배열을 사용하여 계산을 빠르게 수행합니다. 파이썬의 기본 리스트보다 훨씬 효율적으로 데이터를 다룰 수 있으며, `벡터화 연산`을 사용하여 `루프 없이` 배열에 대한 계산을 수행하여 빠른 실행 속도를 제공합니다.\n",
    "\n",
    "- `다차원 배열`: NumPy의 다차원 배열은 `파이썬 리스트보다 더 유연하고 강력한 기능`을 제공합니다. 다차원 배열을 사용하여 `행렬 연산`, `통계 계산`, `선형 대수` 등 다양한 수치 계산을 쉽게 처리할 수 있습니다.\n",
    "\n",
    "- `데이터 분석과 과학`: `데이터 분석`, `과학`, `머신러닝`, `딥러닝` 등 다양한 분야에서 NumPy는 기본적인 라이브러리로 자리 잡고 있습니다. NumPy를 배움으로써 데이터를 다루고 처리하는데 매우 유용한 기능을 습득할 수 있습니다.\n",
    "\n",
    "- `데이터 구조의 통일성`: NumPy의 다차원 배열은 데이터 구조의 통일성을 제공합니다. `모든 원소가 동일한 데이터 타입`을 갖는다는 특성 때문에 데이터를 효율적으로 저장하고 다룰 수 있으며, 데이터의 일관성을 유지할 수 있습니다.\n",
    "\n",
    "- `다른 라이브러리와 통합`: NumPy는 다른 파이썬 라이브러리와의 통합성이 뛰어나며, `SciPy`, `Matplotlib`, `Pandas` 등과 함께 사용하면 데이터 분석, 시각화, 과학 기술 계산 등을 더욱 효율적으로 수행할 수 있습니다.\n",
    "\n",
    "- `머신러닝과 딥러닝`: NumPy는 머신러닝과 딥러닝에서 자주 사용되는 라이브러리로서, 다양한 모델의 `데이터 전처리`와 학습을 위한 기능을 제공합니다. 따라서 데이터 과학과 머신러닝 분야에 관심이 있다면 NumPy를 배워두는 것이 유용합니다.\n",
    "\n"
   ]
  },
  {
   "cell_type": "markdown",
   "id": "a50c844c-9702-4f64-af6f-7313fbc04313",
   "metadata": {},
   "source": [
    "NumPy를 사용하기 위해서는 먼저 NumPy를 설치해야 합니다. 일반적으로 아래와 같은 방법으로 설치할 수 있습니다:\n",
    "\n",
    "```bash\n",
    "pip install numpy\n",
    "```"
   ]
  },
  {
   "cell_type": "code",
   "execution_count": null,
   "id": "2d82ccc2-38ee-4784-9160-3bcf2d60d8e1",
   "metadata": {
    "tags": []
   },
   "outputs": [],
   "source": [
    "#!pip --trusted-host pypi.python.org --trusted-host download.pytorch.org --trusted-host pypi.org --trusted-host files.pythonhosted.org --proxy http://10.241.3.7:8080/ install pandas"
   ]
  },
  {
   "cell_type": "markdown",
   "id": "173bf71f-63a9-4ad6-8976-43190b575abd",
   "metadata": {},
   "source": [
    "## ndarray(배열객체) 생성하기"
   ]
  },
  {
   "cell_type": "code",
   "execution_count": null,
   "id": "bf414bc9-e9f5-444f-a6c9-83f0844cfacb",
   "metadata": {
    "tags": []
   },
   "outputs": [],
   "source": [
    "\"\"\"\n",
    "리스트(list)로부터 ndarray 생성:\n",
    "\"\"\"\n",
    "import numpy as np\n",
    "\n",
    "# 1차원 배열 생성\n",
    "a = np.array([1, 2, 3, 4, 5])\n",
    "print(type(a), a, sep=\"\\n\")"
   ]
  },
  {
   "cell_type": "code",
   "execution_count": null,
   "id": "853a25e9-8e26-4da6-8baa-b917c0064056",
   "metadata": {
    "tags": []
   },
   "outputs": [],
   "source": [
    "# 2차원 배열 생성\n",
    "a = np.array([[1, 2, 3], [4, 5, 6]])\n",
    "print(type(a), a, sep=\"\\n\")"
   ]
  },
  {
   "cell_type": "code",
   "execution_count": null,
   "id": "7ec21571-83d2-40d3-95c9-44472639065f",
   "metadata": {
    "tags": []
   },
   "outputs": [],
   "source": [
    "a.shape"
   ]
  },
  {
   "cell_type": "code",
   "execution_count": null,
   "id": "0ca6f781-baa4-4e0b-9367-809943f12336",
   "metadata": {
    "tags": []
   },
   "outputs": [],
   "source": [
    "a.size"
   ]
  },
  {
   "cell_type": "code",
   "execution_count": null,
   "id": "080ca908-8b5e-4380-8658-f0408ff8d250",
   "metadata": {
    "tags": []
   },
   "outputs": [],
   "source": [
    "len(a)"
   ]
  },
  {
   "cell_type": "code",
   "execution_count": null,
   "id": "0fcdc24d-6051-4317-919c-3aa1a7368a9d",
   "metadata": {
    "tags": []
   },
   "outputs": [],
   "source": [
    "len(a[0])"
   ]
  },
  {
   "cell_type": "code",
   "execution_count": null,
   "id": "02103f56-4171-4db2-a501-cf6fc6d2a81a",
   "metadata": {
    "tags": []
   },
   "outputs": [],
   "source": [
    "a.ndim"
   ]
  },
  {
   "cell_type": "code",
   "execution_count": null,
   "id": "2c73a460-c064-4720-94bd-5abf7c765f39",
   "metadata": {
    "tags": []
   },
   "outputs": [],
   "source": [
    "\"\"\"\n",
    "범위 지정으로 ndarray 생성:\n",
    "\"\"\"\n",
    "import numpy as np\n",
    "\n",
    "np.arange(10)"
   ]
  },
  {
   "cell_type": "code",
   "execution_count": null,
   "id": "299bc41b-165b-483b-b048-59f4419c9e55",
   "metadata": {
    "tags": []
   },
   "outputs": [],
   "source": [
    "np.arange(9).reshape(3,3)"
   ]
  },
  {
   "cell_type": "code",
   "execution_count": null,
   "id": "29a85f7e-fd4f-4eab-8f30-71a5723ca78d",
   "metadata": {
    "tags": []
   },
   "outputs": [],
   "source": [
    "np.arange(9).reshape(3,2) # error - ValueError: cannot reshape array of size 9 into shape (3,2)"
   ]
  },
  {
   "cell_type": "code",
   "execution_count": null,
   "id": "0c23ed6a-db2a-4e83-b323-c353f9484daa",
   "metadata": {
    "tags": []
   },
   "outputs": [],
   "source": [
    "np.arange(0.1, 0.9, 0.03)"
   ]
  },
  {
   "cell_type": "code",
   "execution_count": null,
   "id": "545b5176-f567-4062-9189-5a0cb5339e56",
   "metadata": {
    "tags": []
   },
   "outputs": [],
   "source": [
    "\"\"\"\n",
    "모든 원소가 0 또는 1인 ndarray 생성:\n",
    "\"\"\"\n",
    "import numpy as np\n",
    "\n",
    "np.zeros((3,3))"
   ]
  },
  {
   "cell_type": "code",
   "execution_count": null,
   "id": "05610156-9419-44f6-a4b5-93bf1f1b7cf2",
   "metadata": {
    "tags": []
   },
   "outputs": [],
   "source": [
    "np.ones((3,3,))"
   ]
  },
  {
   "cell_type": "code",
   "execution_count": null,
   "id": "f70e3487-bc25-4a35-a7fa-019e1945b294",
   "metadata": {
    "tags": []
   },
   "outputs": [],
   "source": [
    "\"\"\"\n",
    "특정 범위 내에서 균등 간격으로 원소를 생성하는 ndarray:\n",
    "\"\"\"\n",
    "import numpy as np\n",
    "\n",
    "np.linspace(0,1,5)"
   ]
  },
  {
   "cell_type": "code",
   "execution_count": null,
   "id": "74d1c6a7-1596-40de-b55c-09df9479256c",
   "metadata": {
    "tags": []
   },
   "outputs": [],
   "source": [
    "np.linspace(0,1,40)"
   ]
  },
  {
   "cell_type": "code",
   "execution_count": null,
   "id": "f9c63eeb-b0bd-40e9-b7ae-03ced1db2fbd",
   "metadata": {
    "tags": []
   },
   "outputs": [],
   "source": [
    "\"\"\"\n",
    "랜덤한 값을 갖는 ndarray 생성:\n",
    "\"\"\"\n",
    "import numpy as np\n",
    "\n",
    "np.random.rand(3,3)"
   ]
  },
  {
   "cell_type": "code",
   "execution_count": null,
   "id": "f670bc5b-5bb9-474a-9b9c-2170b6ac502e",
   "metadata": {
    "tags": []
   },
   "outputs": [],
   "source": [
    "\"\"\"\n",
    "random.rand() 함수를 사용하여 0과 1 사이의 랜덤한 값으로 배열 생성:\n",
    "\"\"\"\n",
    "import numpy as np\n",
    "\n",
    "np.random.rand(10)"
   ]
  },
  {
   "cell_type": "code",
   "execution_count": null,
   "id": "21db319b-ee24-4cd6-8829-5fe7bbc45f4d",
   "metadata": {
    "tags": []
   },
   "outputs": [],
   "source": [
    "np.random.rand(2,3,4)"
   ]
  },
  {
   "cell_type": "code",
   "execution_count": null,
   "id": "a03e12aa-1519-4f74-80ae-ec68c1fc046b",
   "metadata": {
    "tags": []
   },
   "outputs": [],
   "source": [
    "\"\"\"\n",
    "random.randint(low, high, size) 함수를 사용하여 정수형 랜덤 배열 생성:\n",
    "\"\"\"\n",
    "\n",
    "import numpy as np\n",
    "np.random.randint(1,5,12)"
   ]
  },
  {
   "cell_type": "code",
   "execution_count": null,
   "id": "3e1c4355-9e7f-4069-931f-0ae292af42ff",
   "metadata": {
    "tags": []
   },
   "outputs": [],
   "source": [
    "a = np.random.rand(10000)*100\n",
    "b = np.random.randint(1,100,10000)"
   ]
  },
  {
   "cell_type": "code",
   "execution_count": null,
   "id": "3a7be625-2f03-45d0-966e-908434ad8711",
   "metadata": {
    "tags": []
   },
   "outputs": [],
   "source": [
    "from matplotlib import pyplot as plt"
   ]
  },
  {
   "cell_type": "code",
   "execution_count": null,
   "id": "ce11e4fb-2527-4537-9a59-ef59d8c54162",
   "metadata": {
    "tags": []
   },
   "outputs": [],
   "source": [
    "a = np.random.rand(1000)*100\n",
    "b = np.random.randint(1,100,1000)\n",
    "plt.hist((a,b), bins=10)"
   ]
  },
  {
   "cell_type": "code",
   "execution_count": null,
   "id": "c4353858-bf9c-40d0-9801-293ce0f4e6a0",
   "metadata": {
    "tags": []
   },
   "outputs": [],
   "source": [
    "\"\"\"\n",
    "random.randn() 함수를 사용하여 평균이 0이고 표준 편차가 1인 랜덤 배열 생성:\n",
    "\"\"\"\n",
    "\n",
    "import numpy as np\n",
    "\n",
    "np.random.randn(2,2,2)"
   ]
  },
  {
   "cell_type": "code",
   "execution_count": null,
   "id": "c111b8ed-c274-453f-8867-20b46de24087",
   "metadata": {
    "tags": []
   },
   "outputs": [],
   "source": [
    "a = np.random.randn(1000)+5\n",
    "b = np.random.normal(10,3,1000)\n",
    "plt.hist((a,b), bins=30, )"
   ]
  },
  {
   "cell_type": "code",
   "execution_count": null,
   "id": "3c5efa49-e1f1-433f-a3f6-a2d6328975ab",
   "metadata": {
    "tags": []
   },
   "outputs": [],
   "source": [
    "\"\"\"\n",
    "random.choice() 함수를 사용하여 주어진 배열에서 랜덤한 값 선택:\n",
    "\"\"\"\n",
    "\n",
    "import numpy as np\n",
    "\n",
    "a = np.array([10,20,30])\n",
    "np.random.choice(a, 4)"
   ]
  },
  {
   "cell_type": "markdown",
   "id": "ec357a0b-65df-42e1-94fa-6518cde21c7a",
   "metadata": {},
   "source": [
    "## ndarray 의 데이터 타입\n",
    "\n",
    "|**데이터형 dtype**|**코드**|**설명**|\n",
    "|--|--|--|\n",
    "|int8|i1|부호 있는 8비트 정수형|\n",
    "|int16|i2|부호 있는 16비트 정수형|\n",
    "|int32|i4|부호 있는 32비트 정수형\n",
    "|int64|i8|부호 있는 64비트 정수형|\n",
    "|unit8|u1|부호 없는 8비트 정수형|\n",
    "|unit16|u2|부호 없는 16비트 정수형|\n",
    "|unit32|u4|부호 없는 32비트 정수형|\n",
    "|unit64|u8|부호 없는 64비트 정수형|\n",
    "|float16|f2|실수형 ; 반 정밀도 부동소수점형 (부호 1비트, 지수 5비트, 가수 10비트)|\n",
    "|float32|f4|실수형; 단 정밀도 부동소수점형 (부호 1비트, 지수 8비트, 가수 23비트)|\n",
    "|float64|f8|실수형; 배 정밀도 부동소수점형 (부호 1비트, 지수 11비트, 가수 54비트)|\n",
    "|float128|f16|실수형; 네배 정밀도 부동소수점형 (부호 1비트, 지수 15비트, 가수 112비트)|\n",
    "|complex64|c8|복소수 (실수부, 허수부 각각 float32)|\n",
    "|complex128|c16|복소수 (실수부, 허수부 각각 float64)|\n",
    "|complex256|c32|복소수 (실수부, 허수부 각각 float128)|\n",
    "|bool|?|불형 (true 또는 false)|\n",
    "|unicode|U|unicode문자열|\n",
    "|object|0|Python 오브젝트형|"
   ]
  },
  {
   "cell_type": "code",
   "execution_count": null,
   "id": "58d96668-1d7f-4a47-a90c-1ca0e404184e",
   "metadata": {
    "tags": []
   },
   "outputs": [],
   "source": [
    "\"\"\"\n",
    "정수형 데이터 타입:\n",
    "\"\"\"\n",
    "import numpy as np\n",
    "\n",
    "a = np.array([1,2,3])"
   ]
  },
  {
   "cell_type": "code",
   "execution_count": null,
   "id": "8dfb38f0-8a32-49e2-8566-4039a0c45d4a",
   "metadata": {
    "tags": []
   },
   "outputs": [],
   "source": [
    "a.dtype"
   ]
  },
  {
   "cell_type": "code",
   "execution_count": null,
   "id": "38e6dc4c-afdf-4be7-aaaa-b2183f3eec0d",
   "metadata": {
    "tags": []
   },
   "outputs": [],
   "source": [
    "a = np.array([1,2,3], dtype=np.int64)"
   ]
  },
  {
   "cell_type": "code",
   "execution_count": null,
   "id": "e43fbedb-82a4-4128-b5a2-da0566078253",
   "metadata": {
    "tags": []
   },
   "outputs": [],
   "source": [
    "a.dtype"
   ]
  },
  {
   "cell_type": "code",
   "execution_count": null,
   "id": "6bcb90c6-3432-43df-81a0-cb74c8cbdb17",
   "metadata": {
    "tags": []
   },
   "outputs": [],
   "source": [
    "\"\"\"\n",
    "실수형 데이터 타입:\n",
    "\"\"\"\n",
    "import numpy as np\n",
    "\n",
    "f = np.array([1,2,3.0])"
   ]
  },
  {
   "cell_type": "code",
   "execution_count": null,
   "id": "eb4fc364-c869-4c8c-a3cf-6704eb7a7a5c",
   "metadata": {
    "tags": []
   },
   "outputs": [],
   "source": [
    "f.dtype"
   ]
  },
  {
   "cell_type": "code",
   "execution_count": null,
   "id": "2986e6c0-5cbc-41c9-8539-42da2460be2d",
   "metadata": {
    "tags": []
   },
   "outputs": [],
   "source": [
    "f = np.array([1,2,3.0], dtype=np.float32)"
   ]
  },
  {
   "cell_type": "code",
   "execution_count": null,
   "id": "4b44bb8f-438c-4a2d-bc89-a8d91a6e28f8",
   "metadata": {
    "tags": []
   },
   "outputs": [],
   "source": [
    "f.dtype"
   ]
  },
  {
   "cell_type": "code",
   "execution_count": null,
   "id": "24257e70-bd76-43c9-a5c1-137e6819751d",
   "metadata": {
    "tags": []
   },
   "outputs": [],
   "source": [
    "\"\"\"\n",
    "문자열 데이터 타입:\n",
    "\"\"\"\n",
    "import numpy as np\n",
    "\n",
    "a = np.array([\"a\", \"b\"], dtype=\"<U4\")\n"
   ]
  },
  {
   "cell_type": "code",
   "execution_count": null,
   "id": "2bd8dea4-54fe-42db-b414-089fb8e8f628",
   "metadata": {
    "tags": []
   },
   "outputs": [],
   "source": [
    "a.dtype"
   ]
  },
  {
   "cell_type": "code",
   "execution_count": null,
   "id": "3e17b3b0-5254-48d2-b590-1a08a6d73317",
   "metadata": {
    "tags": []
   },
   "outputs": [],
   "source": [
    "\"\"\"\n",
    "불리언 데이터 타입:\n",
    "\"\"\"\n",
    "import numpy as np\n",
    "\n",
    "a = np.array([True, False])\n",
    "a.dtype"
   ]
  },
  {
   "cell_type": "code",
   "execution_count": null,
   "id": "31760a8d-2812-4b32-882d-a0cdb2e5382a",
   "metadata": {
    "tags": []
   },
   "outputs": [],
   "source": [
    "\"\"\"\n",
    "복소수형 데이터 타입:\n",
    "\"\"\"\n",
    "import numpy as np\n",
    "a = np.array([1+4j, 2+4j])"
   ]
  },
  {
   "cell_type": "code",
   "execution_count": null,
   "id": "675ad8a3-064b-49b8-873f-4b21ed148f67",
   "metadata": {
    "tags": []
   },
   "outputs": [],
   "source": [
    "a.dtype"
   ]
  },
  {
   "cell_type": "code",
   "execution_count": null,
   "id": "2bcf3d65-fcc9-4d11-a486-77793652bf63",
   "metadata": {
    "tags": []
   },
   "outputs": [],
   "source": [
    "np.array([1,2.0,True,'3', 1+2j])"
   ]
  },
  {
   "cell_type": "markdown",
   "id": "bc4a1692-0c4a-4284-a873-ef842a57b305",
   "metadata": {},
   "source": [
    "## 타입변경\n",
    "\n",
    "NumPy의 ndarray의 데이터 타입을 변경하기 위해서는  \n",
    "astype() 메서드를 사용합니다."
   ]
  },
  {
   "cell_type": "code",
   "execution_count": null,
   "id": "1a1cf4a0-a779-45d6-84df-2dbb3c23f840",
   "metadata": {
    "tags": []
   },
   "outputs": [],
   "source": [
    "\"\"\"\n",
    "astype() 메서드를 사용하여 데이터 타입 변경:\n",
    "\"\"\"\n",
    "import numpy as np\n",
    "a = np.array([1,2,3])\n",
    "a.dtype"
   ]
  },
  {
   "cell_type": "code",
   "execution_count": null,
   "id": "9a52fa27-2a11-4498-8027-50c666e61d91",
   "metadata": {
    "tags": []
   },
   "outputs": [],
   "source": [
    "b = a.astype(np.float32)\n",
    "b.dtype"
   ]
  },
  {
   "cell_type": "code",
   "execution_count": null,
   "id": "681f177f-c0c5-402c-9605-22b7cbe66f43",
   "metadata": {
    "tags": []
   },
   "outputs": [],
   "source": [
    "a"
   ]
  },
  {
   "cell_type": "code",
   "execution_count": null,
   "id": "2beae7d8-25dd-45b5-9964-d135ff4daf06",
   "metadata": {
    "tags": []
   },
   "outputs": [],
   "source": [
    "b"
   ]
  },
  {
   "cell_type": "markdown",
   "id": "ae3f8425-d30f-4738-8226-4a96882e1225",
   "metadata": {},
   "source": [
    ">데이터 타입 변경은 원본 데이터를 변환하여 새로운 ndarray를 생성하는 것이므로, 원본 배열과 새로운 배열은 서로 다른 객체입니다."
   ]
  },
  {
   "cell_type": "code",
   "execution_count": null,
   "id": "f4fff7fd-5fe4-4339-a338-3c9e655a0ffa",
   "metadata": {
    "tags": []
   },
   "outputs": [],
   "source": [
    "a is b"
   ]
  },
  {
   "cell_type": "code",
   "execution_count": null,
   "id": "91d2457d-86f9-4ad6-b4d5-de51aef5a819",
   "metadata": {
    "tags": []
   },
   "outputs": [],
   "source": [
    "a == b"
   ]
  },
  {
   "cell_type": "markdown",
   "id": "e5744081-886c-4dd5-a30a-39b3de97d952",
   "metadata": {},
   "source": [
    "## ndarray 주요 속성 및 메소드\n",
    "\n",
    "|이름|설명|\n",
    "|--|--|\n",
    "|shape|배열의 차원을 튜플로 반환|\n",
    "|dtype|배열의 데이터 타입을 반환|\n",
    "|size|배열의 총 원소 개수를 반환|\n",
    "|reshape()|배열의 형태를 변경|\n",
    "|transpose()| 배열의 전치행렬을 반환|\n",
    "|max(),min(),sum(),count(),mean()||\n",
    "\n",
    "### 속성"
   ]
  },
  {
   "cell_type": "code",
   "execution_count": null,
   "id": "4fe5e12a-69a3-486a-b137-3b0110bee8e7",
   "metadata": {
    "tags": []
   },
   "outputs": [],
   "source": [
    "\"\"\"\n",
    "shape: 배열의 차원을 튜플로 반환합니다. 각 차원별 원소의 개수를 나타냅니다.\n",
    "\"\"\"\n",
    "\n",
    "import numpy as np\n",
    "\n",
    "arr = np.array([[1, 2, 3], [4, 5, 6]])\n",
    "print(arr)\n",
    "arr.shape"
   ]
  },
  {
   "cell_type": "raw",
   "id": "8160fd33-749f-4f69-ab2f-ff1a644b444a",
   "metadata": {},
   "source": [
    "위의 예제에서 arr.shape 에는 해당 ndarray 객체의 형태인\n",
    "2행 3열을 나타내는 튜플이 반환됩니다."
   ]
  },
  {
   "cell_type": "code",
   "execution_count": null,
   "id": "45e0b351-c315-4bbe-a9c8-556871c38cb0",
   "metadata": {
    "tags": []
   },
   "outputs": [],
   "source": [
    "\"\"\"\n",
    "dtype: 배열의 데이터 타입을 반환합니다.\n",
    "\"\"\"\n",
    "\n",
    "import numpy as np\n",
    "\n",
    "arr = np.array([1, 2, 3])\n",
    "arr.dtype"
   ]
  },
  {
   "cell_type": "code",
   "execution_count": null,
   "id": "bfee39e8-7e56-43a0-acc3-0c715b8d2a9e",
   "metadata": {
    "tags": []
   },
   "outputs": [],
   "source": [
    "\"\"\"\n",
    "size: 배열의 총 원소 개수를 반환합니다.\n",
    "\"\"\"\n",
    "import numpy as np\n",
    "\n",
    "arr = np.array([[1, 2, 3], [4, 5, 6]])\n",
    "print(arr.size)  # 출력: 6"
   ]
  },
  {
   "cell_type": "markdown",
   "id": "b097fcd9-b6a8-4ba8-9791-bd875a01aedf",
   "metadata": {},
   "source": [
    "### 메소드"
   ]
  },
  {
   "cell_type": "code",
   "execution_count": null,
   "id": "c1ae7c04-d75d-479c-b950-4b89c5b7ad52",
   "metadata": {
    "tags": []
   },
   "outputs": [],
   "source": [
    "\"\"\"\n",
    "reshape(): 배열의 형태를 변경합니다.\n",
    "\"\"\"\n",
    "import numpy as np\n",
    "\n",
    "arr = np.array([1, 2, 3, 4, 5, 6])\n",
    "reshaped_arr = arr.reshape(2, 3)\n",
    "print(reshaped_arr)\n",
    "# 출력:\n",
    "# [[1 2 3]\n",
    "#  [4 5 6]]\n"
   ]
  },
  {
   "cell_type": "code",
   "execution_count": null,
   "id": "1c89e88e-ca91-4846-bdb4-91131a97ad0e",
   "metadata": {
    "tags": []
   },
   "outputs": [],
   "source": [
    "\"\"\"\n",
    "reshape() 에서 -1 은 배열의 차원을 자동으로 계산해주는 특별한 값입니다.\n",
    "해당 차원의 크기는 남은 차원의 크기와 데이터의 총 개수를 기반으로 자동으로 계산됩니다.\n",
    "\"\"\"\n",
    "a = np.arange(0,16)\n",
    "a"
   ]
  },
  {
   "cell_type": "code",
   "execution_count": null,
   "id": "fd06df88-b126-4701-8bdc-99d030f73baa",
   "metadata": {
    "tags": []
   },
   "outputs": [],
   "source": [
    "a.reshape(4,4)"
   ]
  },
  {
   "cell_type": "code",
   "execution_count": null,
   "id": "8e557e7d-9555-401a-984f-dc56d27e9001",
   "metadata": {
    "tags": []
   },
   "outputs": [],
   "source": [
    "a.reshape(4, -1)"
   ]
  },
  {
   "cell_type": "code",
   "execution_count": null,
   "id": "909869e7-d5a9-43bd-96c1-b8e17d925817",
   "metadata": {
    "tags": []
   },
   "outputs": [],
   "source": [
    "a.reshape(-1, 4)"
   ]
  },
  {
   "cell_type": "code",
   "execution_count": null,
   "id": "b3deab38-6771-4df4-bcec-6bd8b2cad9e5",
   "metadata": {
    "tags": []
   },
   "outputs": [],
   "source": [
    "\"\"\"\n",
    "transpose(): 배열의 전치행렬을 반환합니다.\n",
    "\"\"\"\n",
    "import numpy as np\n",
    "\n",
    "arr = np.arange(1,7).reshape(2,3)\n",
    "arr\n"
   ]
  },
  {
   "cell_type": "code",
   "execution_count": null,
   "id": "9be1eeb6-130a-48b0-94f0-e98edd669aae",
   "metadata": {
    "tags": []
   },
   "outputs": [],
   "source": [
    "arr.shape"
   ]
  },
  {
   "cell_type": "raw",
   "id": "c6bda5d8-b559-41dc-8cbf-8fe84f0efecb",
   "metadata": {},
   "source": [
    "우선 2행 3열의 ndarray객체를 만듭니다."
   ]
  },
  {
   "cell_type": "code",
   "execution_count": null,
   "id": "b94ce075-d147-4ad6-a5f0-1efaa2ec0220",
   "metadata": {
    "tags": []
   },
   "outputs": [],
   "source": [
    "arr.transpose()"
   ]
  },
  {
   "cell_type": "code",
   "execution_count": null,
   "id": "4e0f016e-2979-435b-aa9e-e356f8061c35",
   "metadata": {
    "tags": []
   },
   "outputs": [],
   "source": [
    "arr.transpose().shape"
   ]
  },
  {
   "cell_type": "code",
   "execution_count": null,
   "id": "b922d4fc-38b7-4abb-a4a2-d825c1cfcd4c",
   "metadata": {
    "tags": []
   },
   "outputs": [],
   "source": [
    "arr"
   ]
  },
  {
   "cell_type": "code",
   "execution_count": null,
   "id": "3a922b18-3e3d-4ebd-be30-dfd17485fe25",
   "metadata": {
    "tags": []
   },
   "outputs": [],
   "source": [
    "\"\"\"\n",
    "- max()\n",
    "- min()\n",
    "- sum()\n",
    "- mean()\n",
    "\"\"\"\n",
    "import numpy as np\n",
    "\n",
    "arr = np.arange(1,11).reshape(2,5)\n",
    "arr"
   ]
  },
  {
   "cell_type": "code",
   "execution_count": null,
   "id": "103c3f0d-d263-4fa6-b142-e8320651126e",
   "metadata": {
    "tags": []
   },
   "outputs": [],
   "source": [
    "np.max(arr)"
   ]
  },
  {
   "cell_type": "code",
   "execution_count": null,
   "id": "09ab7e16-81b2-4839-93c7-b2c926919e34",
   "metadata": {
    "tags": []
   },
   "outputs": [],
   "source": [
    "arr.max()"
   ]
  },
  {
   "cell_type": "code",
   "execution_count": null,
   "id": "6184a0fa-1bc3-44f7-bf4a-21b3c5cb2d37",
   "metadata": {
    "tags": []
   },
   "outputs": [],
   "source": [
    "arr.min()"
   ]
  },
  {
   "cell_type": "code",
   "execution_count": null,
   "id": "cbabbdd7-16b0-4f54-855e-6b2c84818c90",
   "metadata": {
    "tags": []
   },
   "outputs": [],
   "source": [
    "arr.sum()"
   ]
  },
  {
   "cell_type": "code",
   "execution_count": null,
   "id": "89c8f30a-1fad-4e9b-8827-101a781a7282",
   "metadata": {
    "tags": []
   },
   "outputs": [],
   "source": [
    "arr.mean()"
   ]
  },
  {
   "cell_type": "markdown",
   "id": "7c0441e5-c787-4942-82ab-54df59f14c06",
   "metadata": {},
   "source": [
    "# indexing 과 slicing"
   ]
  },
  {
   "cell_type": "code",
   "execution_count": null,
   "id": "fd9e8cec-ce13-4fd2-9ced-df6af25630df",
   "metadata": {
    "tags": []
   },
   "outputs": [],
   "source": [
    "\"\"\"\n",
    "인덱싱(indexing)\n",
    "\"\"\"\n",
    "import numpy as np\n",
    "\n",
    "# 1차원 배열 인덱싱\n",
    "arr1d = np.array([1, 2, 3, 4, 5])\n",
    "print(arr1d[0])  # 출력: 1 (첫 번째 원소)\n",
    "print(arr1d[3])  # 출력: 4 (네 번째 원소)\n"
   ]
  },
  {
   "cell_type": "code",
   "execution_count": null,
   "id": "29fcdc40-2e01-498e-aae2-502b3ba2dc77",
   "metadata": {
    "tags": []
   },
   "outputs": [],
   "source": [
    "# 2차원 배열 인덱싱\n",
    "arr2d = np.array([[1, 2, 3], [4, 5, 6]])\n",
    "print(arr2d)\n",
    "print(arr2d[0, 1])  # 출력: 2 (첫 번째 행의 두 번째 열)\n",
    "print(arr2d[1, 2])  # 출력: 6 (두 번째 행의 세 번째 열)"
   ]
  },
  {
   "cell_type": "code",
   "execution_count": null,
   "id": "1f041c87-ebb0-4a0f-86c9-4b18d3377399",
   "metadata": {
    "tags": []
   },
   "outputs": [],
   "source": [
    "arr2d[0][1]"
   ]
  },
  {
   "cell_type": "code",
   "execution_count": null,
   "id": "f679a24c-712d-473e-ba9b-bc3e45890b56",
   "metadata": {
    "tags": []
   },
   "outputs": [],
   "source": [
    "\"\"\"\n",
    "슬라이싱(slicing)\n",
    "\"\"\"\n",
    "import numpy as np\n",
    "\n",
    "# 1차원 배열 슬라이싱\n",
    "arr1d = np.array([1, 2, 3, 4, 5])\n",
    "print(arr1d[1:4])  # 출력: [2 3 4] (인덱스 1부터 3까지의 원소)"
   ]
  },
  {
   "cell_type": "code",
   "execution_count": null,
   "id": "a78572de-2302-49c2-a0f3-9cde02d4a9e9",
   "metadata": {
    "tags": []
   },
   "outputs": [],
   "source": [
    "a = np.arange(5)\n",
    "b = a[1:3]\n",
    "print(a,b,sep=\"\\n\")"
   ]
  },
  {
   "cell_type": "code",
   "execution_count": null,
   "id": "3cfd8410-61c1-4059-a81d-3fd7ee5a1c43",
   "metadata": {
    "tags": []
   },
   "outputs": [],
   "source": [
    "a[1] = 999\n",
    "print(a,b, sep=\"\\n\")"
   ]
  },
  {
   "cell_type": "code",
   "execution_count": null,
   "id": "388c22d2-de86-42eb-a08f-2755055dfec2",
   "metadata": {
    "tags": []
   },
   "outputs": [],
   "source": [
    "a = list(range(5))\n",
    "b = a[1:3]\n",
    "print(a,b,sep=\"\\n\")"
   ]
  },
  {
   "cell_type": "code",
   "execution_count": null,
   "id": "2e2cacfd-e710-4273-9dcf-f570ac898588",
   "metadata": {
    "tags": []
   },
   "outputs": [],
   "source": [
    "a[1] = 999\n",
    "print(a,b,sep=\"\\n\")"
   ]
  },
  {
   "cell_type": "code",
   "execution_count": null,
   "id": "33423722-0305-4096-82e6-60c35c9f2220",
   "metadata": {
    "tags": []
   },
   "outputs": [],
   "source": [
    "# 2차원 배열 슬라이싱\n",
    "arr2d = np.arange(1,7).reshape(2,3)\n",
    "print(arr2d)"
   ]
  },
  {
   "cell_type": "code",
   "execution_count": null,
   "id": "afff583b-17ad-4131-b9a5-b6edbe1d36cd",
   "metadata": {
    "tags": []
   },
   "outputs": [],
   "source": [
    "print(arr2d[:, 1:3])\n",
    "# 출력:\n",
    "# [[2 3]\n",
    "#  [5 6]] (모든 행의 두 번째와 세 번째 열)\n"
   ]
  },
  {
   "cell_type": "markdown",
   "id": "2aa184a5-a682-43b4-8685-367f2853a23c",
   "metadata": {},
   "source": [
    "## ndarray 값 할당, 삭제, 추가"
   ]
  },
  {
   "cell_type": "code",
   "execution_count": null,
   "id": "946e93d6-f488-4eac-8edb-4d460c4f4007",
   "metadata": {
    "tags": []
   },
   "outputs": [],
   "source": [
    "\"\"\"\n",
    "값을 할당하는 예제:\n",
    "\"\"\"\n",
    "import numpy as np\n",
    "\n",
    "# 1차원 배열 생성\n",
    "arr = np.arange(5)+1\n",
    "arr"
   ]
  },
  {
   "cell_type": "code",
   "execution_count": null,
   "id": "fd7e8be2-cda4-4632-9c77-b641806fe75c",
   "metadata": {
    "tags": []
   },
   "outputs": [],
   "source": [
    "# 인덱스를 이용하여 값을 할당\n",
    "\n",
    "arr[2] = 10\n",
    "arr"
   ]
  },
  {
   "cell_type": "code",
   "execution_count": null,
   "id": "a4d1387e-ad8d-4334-a5d4-d854da93f7db",
   "metadata": {
    "tags": []
   },
   "outputs": [],
   "source": [
    "# 슬라이싱을 이용하여 값 할당\n",
    "arr[1:4] = 100\n",
    "arr"
   ]
  },
  {
   "cell_type": "code",
   "execution_count": null,
   "id": "381ec8d4-b96c-4ebc-8981-8ef032d221e7",
   "metadata": {
    "tags": []
   },
   "outputs": [],
   "source": [
    "\"\"\"\n",
    "값을 삭제하는 예제:\n",
    "\"\"\"\n",
    "import numpy as np\n",
    "\n",
    "# 1차원 배열 생성\n",
    "a = np.array([1, 2, 3, 4, 5])\n",
    "\n",
    "# 인덱스를 이용하여 값 삭제\n",
    "b = np.delete(a,2)\n",
    "print(a,b,sep=\"\\n\")"
   ]
  },
  {
   "cell_type": "code",
   "execution_count": null,
   "id": "04c1237e-9563-4174-ba71-0654e56352ac",
   "metadata": {
    "tags": []
   },
   "outputs": [],
   "source": [
    "# 슬라이싱을 이용하여 값 삭제\n",
    "a = np.array([1, 2, 3, 4, 5])\n",
    "b = np.delete(arr, slice(1,4))\n",
    "print(a, b, sep=\"\\n\")"
   ]
  },
  {
   "cell_type": "code",
   "execution_count": null,
   "id": "7203cc52-03da-44df-aaf0-967096d4622e",
   "metadata": {
    "tags": []
   },
   "outputs": [],
   "source": [
    "# 파이썬 기본 배열에서의 삭제\n",
    "a = [1,2,3,4,5]\n",
    "del a[2]\n",
    "print(a)"
   ]
  },
  {
   "cell_type": "code",
   "execution_count": null,
   "id": "5a4b2aa8-52db-4ccc-aad0-5174e4ced53a",
   "metadata": {
    "tags": []
   },
   "outputs": [],
   "source": [
    "\"\"\"\n",
    "값을 추가하는 예제:\n",
    "\"\"\"\n",
    "import numpy as np\n",
    "\n",
    "# 1차원 배열 생성\n",
    "a = np.array([1, 2, 3, 4, 5])\n",
    "b = np.insert(a, 2, 0)\n",
    "print(a,b,sep=\"\\n\")"
   ]
  },
  {
   "cell_type": "markdown",
   "id": "7b3f0b38-4d0d-4f2b-9515-d9ce14d8db91",
   "metadata": {},
   "source": [
    "## 정렬, 필터링"
   ]
  },
  {
   "cell_type": "code",
   "execution_count": null,
   "id": "8ba8cd44-9de0-4dc6-90e5-1b868fbeaef5",
   "metadata": {
    "tags": []
   },
   "outputs": [],
   "source": [
    "\"\"\"\n",
    "배열 정렬 예제:\n",
    "\"\"\"\n",
    "import numpy as np\n",
    "\n",
    "# 1차원 배열 생성\n",
    "a = np.array([3, 1, 4, 2, 5])\n",
    "\n",
    "# 오름차순으로 배열 정렬\n",
    "b = np.sort(a)\n",
    "\n",
    "print(a,b,sep=\"\\n\")"
   ]
  },
  {
   "cell_type": "code",
   "execution_count": null,
   "id": "2adea435-6109-4246-9289-a5d0bae17b63",
   "metadata": {
    "tags": []
   },
   "outputs": [],
   "source": [
    "c = np.sort(a)[::-1]\n",
    "c"
   ]
  },
  {
   "cell_type": "code",
   "execution_count": null,
   "id": "28e01bcb-9db6-48f6-aa7e-5e50584bbbf2",
   "metadata": {
    "tags": []
   },
   "outputs": [],
   "source": [
    "\"\"\"\n",
    "배열 필터링 예제:\n",
    "\"\"\"\n",
    "import numpy as np\n",
    "\n",
    "# 1차원 배열 생성\n",
    "a = np.array([1, 2, 3, 4, 5])\n",
    "print(a, a[a>2], sep=\"\\n\")"
   ]
  },
  {
   "cell_type": "code",
   "execution_count": null,
   "id": "5252e13b-0f7f-4e65-9d12-39e0c80d7edb",
   "metadata": {
    "tags": []
   },
   "outputs": [],
   "source": [
    "a > 2"
   ]
  },
  {
   "cell_type": "code",
   "execution_count": null,
   "id": "487f9c98-855f-4b73-b020-124abd7bf1e3",
   "metadata": {
    "tags": []
   },
   "outputs": [],
   "source": [
    "a[[False, False,  True,  True,  True]]"
   ]
  },
  {
   "cell_type": "code",
   "execution_count": null,
   "id": "544f695a-32de-4aa8-8682-9c51498c4536",
   "metadata": {
    "tags": []
   },
   "outputs": [],
   "source": [
    "a[a>2]"
   ]
  },
  {
   "cell_type": "code",
   "execution_count": null,
   "id": "70b56835-8927-4382-9b6b-8f69575cca78",
   "metadata": {
    "tags": []
   },
   "outputs": [],
   "source": [
    "b = a[a>2]\n",
    "print(a, b, sep=\"\\n\")"
   ]
  },
  {
   "cell_type": "code",
   "execution_count": null,
   "id": "8952728e-0455-432d-9045-9c95554ab75b",
   "metadata": {
    "tags": []
   },
   "outputs": [],
   "source": [
    "a[4] = -999\n",
    "print(a, b, sep=\"\\n\")"
   ]
  },
  {
   "cell_type": "markdown",
   "id": "4fd9f67f-4f21-4799-9f72-5dab939cda39",
   "metadata": {},
   "source": [
    "# view() and copy()\n",
    "\n",
    "- 넘파이에서는 배열을 `인덱싱`/`슬라이싱` 한 후에 그 결과로 나온 배열은 원본 배열의 `뷰(View)`입니다. (성능Performance과 효율성Efficiency을 위해서)\n",
    "- 뷰를 새로운 값으로 수정, 변경하게되면 원본 배열도 변경이 됩니다.\n",
    "- 넘파이에서 원본 배열의 변경 없이 인덱싱/슬라이싱 한 결과 배열을 복사하고 싶다면 `copy()` 메서드를 사용합니다."
   ]
  },
  {
   "cell_type": "code",
   "execution_count": null,
   "id": "8c3de08d-f87d-4538-af9e-b03392c802d0",
   "metadata": {
    "tags": []
   },
   "outputs": [],
   "source": [
    "a = np.array([ 0,  1,  2,  3])\n",
    "b = a\n",
    "v = a.view()\n",
    "c = a.copy()"
   ]
  },
  {
   "cell_type": "code",
   "execution_count": null,
   "id": "c26f5158-c756-4e92-b82d-11f10579c495",
   "metadata": {
    "tags": []
   },
   "outputs": [],
   "source": [
    "print(f\"{'origin':10s}{id(a)}\\n{'assign: ':10s}{id(b)}\\n{'view: ':10s}{id(v)}\\n{'copy: ':10s}{id(c)}\")"
   ]
  },
  {
   "cell_type": "code",
   "execution_count": null,
   "id": "1ee69eaa-064b-496f-bffc-ba43a0c11c77",
   "metadata": {
    "tags": []
   },
   "outputs": [],
   "source": [
    "print(a is b, a is v, a is c, sep=\"\\n\")"
   ]
  },
  {
   "cell_type": "code",
   "execution_count": null,
   "id": "4e635dab-8937-42a3-9c60-3169a18e1cf5",
   "metadata": {
    "tags": []
   },
   "outputs": [],
   "source": [
    "a[0] = -999"
   ]
  },
  {
   "cell_type": "code",
   "execution_count": null,
   "id": "d484d739-cd9a-4ce2-87f8-1d1196aff4a2",
   "metadata": {
    "tags": []
   },
   "outputs": [],
   "source": [
    "print(\"origin: \", a)\n",
    "print(\"assign: \", b)\n",
    "print(\"view:   \",v)\n",
    "print(\"copy:   \",c)"
   ]
  },
  {
   "cell_type": "markdown",
   "id": "f5e63237-f3bb-491b-8b1c-830bf2252a0e",
   "metadata": {},
   "source": [
    "## 배열 연산"
   ]
  },
  {
   "cell_type": "code",
   "execution_count": null,
   "id": "8323354e-e3ba-464f-b4b5-70121c4011f0",
   "metadata": {
    "tags": []
   },
   "outputs": [],
   "source": [
    "\"\"\"\n",
    "덧셈연산\n",
    "\"\"\"\n",
    "\n",
    "import numpy as np\n",
    "\n",
    "# 1차원 배열 생성\n",
    "a1 = np.array([1, 2, 3])\n",
    "a2 = np.array([4, 5, 6])\n",
    "\n",
    "# 배열 간 덧셈 연산\n",
    "print(a1, a2, a1+a2, sep=\"\\n\")\n"
   ]
  },
  {
   "cell_type": "code",
   "execution_count": null,
   "id": "2d120f47-91d8-408c-9743-e74d9747858d",
   "metadata": {
    "tags": []
   },
   "outputs": [],
   "source": [
    "import numpy as np\n",
    "\n",
    "# 1차원 배열 생성\n",
    "a1 = np.array([1, 2, 3, 4])\n",
    "a2 = np.array([5, 6, 7])\n",
    "\n",
    "# 배열 간 덧셈 연산\n",
    "print(a1, a2, a1+a2, sep=\"\\n\")  # error - ValueError: operands could not be broadcast together with shapes (4,) (3,) \n"
   ]
  },
  {
   "cell_type": "markdown",
   "id": "d4a43fb2-e541-4362-9ae8-4aa43f440719",
   "metadata": {},
   "source": [
    "## numpy.where()\n",
    "NumPy의 numpy.where() 함수는 조건에 따라 배열의 값을 다르게 할당하는 데 사용됩니다.   \n",
    "이 함수는 원하는 조건에 따라 배열의 원소를 대체하는데 유용합니다.\n",
    "\n",
    "```python\n",
    "a = numpy.where(condition, x, y)\n",
    "```\n",
    "\n",
    "```java\n",
    "// 삼항연사자\n",
    "a = (condition)? x: y\n",
    "```\n",
    "\n",
    "- `condition`: 조건을 나타내는 불리언 배열이거나 조건식입니다. 만족하는 경우에만 값을 변경합니다.\n",
    "- `x`: condition이 True인 경우의 값이 대체됩니다.\n",
    "- `y`: condition이 False인 경우의 값이 대체됩니다.\n",
    "\n",
    "`x`와 `y`는 `배열` 또는 `스칼라`값이 될 수 있습니다.  \n",
    "만약 x와 y가 배열인 경우, 두 배열은 같은 크기 또는 브로드캐스팅 규칙을 만족해야 합니다."
   ]
  },
  {
   "cell_type": "code",
   "execution_count": null,
   "id": "8fff1ac8-cbde-437f-b2e8-800c97137966",
   "metadata": {
    "tags": []
   },
   "outputs": [],
   "source": [
    "\"\"\"\n",
    "조건에 따라 배열 값을 변경하는 예제 1\n",
    "\"\"\"\n",
    "\n",
    "import numpy as np\n",
    "\n",
    "a = np.array([1, 2, 3, 4, 5])\n",
    "np.where(a>3, a, 0)"
   ]
  },
  {
   "cell_type": "code",
   "execution_count": null,
   "id": "f8d4e459-62b1-4fda-96de-1c3b77b9f96b",
   "metadata": {
    "tags": []
   },
   "outputs": [],
   "source": [
    "\"\"\"\n",
    "조건에 따라 배열 값을 변경하는 예제 2\n",
    "\"\"\"\n",
    "\n",
    "import numpy as np\n",
    "\n",
    "a = np.array([1, 2, 3, 4, 5])\n",
    "b1 = np.array([10, 20, 30, 40, 50])\n",
    "b2 = np.array([-10, -20, -30, -40, -50])\n",
    "np.where(a>3, b1, b2)"
   ]
  },
  {
   "cell_type": "markdown",
   "id": "91b21d15-4da6-45ae-9700-2b444ff633e8",
   "metadata": {},
   "source": [
    "## squeeze()"
   ]
  },
  {
   "cell_type": "code",
   "execution_count": null,
   "id": "17e4d5f5-603e-4c16-a3cf-42417e43949e",
   "metadata": {
    "tags": []
   },
   "outputs": [],
   "source": [
    "\"\"\"\n",
    "squeeze() 함수:\n",
    "squeeze() 함수는 배열의 차원 중 사이즈가 1인 차원을 제거하는데 사용됩니다. \n",
    "만약 배열이 이미 1차원 이상이고, 그 중 사이즈가 1인 차원이 있다면 해당 차원을 제거하여 배열을 더 축소시킵니다.\n",
    "\"\"\"\n",
    "\n",
    "import numpy as np\n",
    "\n",
    "# 1차원 배열 생성\n",
    "a = np.array([[[1, 2, 3]]])\n",
    "print(a.shape, a, sep=\"\\n\")"
   ]
  },
  {
   "cell_type": "code",
   "execution_count": null,
   "id": "c5e66e73-7cf1-486a-a4b6-ef50eea1c9a7",
   "metadata": {
    "tags": []
   },
   "outputs": [],
   "source": [
    "# 사이즈가 1인 차원을 제거\n",
    "b = np.squeeze(a)\n",
    "print(b.shape, b, sep=\"\\n\")"
   ]
  },
  {
   "cell_type": "code",
   "execution_count": null,
   "id": "bcede3f2-673a-4096-96b0-f942bd009cf9",
   "metadata": {
    "tags": []
   },
   "outputs": [],
   "source": [
    "a = np.array([[[[1],[2], [3]]]])\n",
    "b = np.squeeze(a)\n",
    "\n",
    "print(a.shape, a, sep=\"\\n\")\n",
    "print(b.shape, b, sep=\"\\n\")"
   ]
  }
 ],
 "metadata": {
  "kernelspec": {
   "display_name": "Python 3 (ipykernel)",
   "language": "python",
   "name": "python3"
  },
  "language_info": {
   "codemirror_mode": {
    "name": "ipython",
    "version": 3
   },
   "file_extension": ".py",
   "mimetype": "text/x-python",
   "name": "python",
   "nbconvert_exporter": "python",
   "pygments_lexer": "ipython3",
   "version": "3.10.11"
  }
 },
 "nbformat": 4,
 "nbformat_minor": 5
}
