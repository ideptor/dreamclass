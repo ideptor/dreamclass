{
 "cells": [
  {
   "cell_type": "markdown",
   "id": "c1b83c6d-1f19-4452-9f75-96aafcd7b0c1",
   "metadata": {},
   "source": [
    "# Pandas 시계열 데이터 처리\n",
    "- datetime\n",
    "- strftime(), strptime()\n",
    "- timestamp\n",
    "- timezone\n",
    "- timedelta\n",
    "- pandas 의 시계열 데이터 처리\n",
    "- DatetimeIndex\n",
    "- DateOffset 객체\n",
    "- 시계열 관련 인스턴스 메소드\n",
    "- .dt 접근자"
   ]
  },
  {
   "cell_type": "markdown",
   "id": "d74ff632-7aa6-4077-b97c-c455d5097b03",
   "metadata": {},
   "source": [
    "# Pandas 시계열 데이터 처리\n",
    "\n",
    "파이썬의 날짜 및 시간 관련 객체\n",
    "| 클래스 | 내용|\n",
    "|--|--|\n",
    "|datetime.date | 그레고리력으로 날짜를 다룹니다. (year, month, day) |\n",
    "|datetime.time | 특정일과 관련없이 모든 날(day)을 24x60x60초로 다루는 시간입니다. (hour, minute, second, microsecond, tzinfo)|\n",
    "|datetime.datetime | 날짜와 시간의 조합입니다. (year, month, day, hour, minute, second, microsecond, tzinfo) |\n",
    "|datetime.timedelta | date인스턴스간, time인스턴스간, 또는 datetime 인스턴스간의 차이를 microsecond 로 나타내는 기간입니다.|\n",
    "|datetime.tzinfo | 시간대 정보 객체에 대한 추상 기본 클래스로서 사용자 정의로 시간을 조정하기 위해 사용됩니다.|\n",
    "|datetime.timezone| UTC (Universal Time Coordinated) 의 고정 오프셋으로 tzinfo를 실행하는 클래스입니다.|"
   ]
  },
  {
   "cell_type": "code",
   "execution_count": null,
   "id": "ca190c55-919f-4732-a8ff-eb3741b18cd7",
   "metadata": {
    "tags": []
   },
   "outputs": [],
   "source": [
    "from datetime import datetime\n",
    "\n",
    "# 현재 날짜와 시간 가져오기\n",
    "datetime.now()"
   ]
  },
  {
   "cell_type": "code",
   "execution_count": null,
   "id": "eac65ece-98b9-4b8c-9fcc-5b172fe744b8",
   "metadata": {
    "tags": []
   },
   "outputs": [],
   "source": [
    "# 날짜와 시간 구성하기\n",
    "from datetime import datetime\n",
    "dt = datetime(2023, 8, 1, 13, 0, 0)"
   ]
  },
  {
   "cell_type": "code",
   "execution_count": null,
   "id": "55b055ac-21c0-4513-bba1-67650258726b",
   "metadata": {
    "tags": []
   },
   "outputs": [],
   "source": [
    "dt.year"
   ]
  },
  {
   "cell_type": "code",
   "execution_count": null,
   "id": "6cf7dd2d-847b-4918-9ea2-87b4b0004178",
   "metadata": {
    "tags": []
   },
   "outputs": [],
   "source": [
    "dt.month"
   ]
  },
  {
   "cell_type": "code",
   "execution_count": null,
   "id": "f808b6fd-3036-481f-9d1b-aa503e165a72",
   "metadata": {
    "tags": []
   },
   "outputs": [],
   "source": [
    "dt.day"
   ]
  },
  {
   "cell_type": "code",
   "execution_count": null,
   "id": "4745340f-2295-4381-9212-5d691a06ff62",
   "metadata": {
    "tags": []
   },
   "outputs": [],
   "source": [
    "dt.hour"
   ]
  },
  {
   "cell_type": "code",
   "execution_count": null,
   "id": "69297a2d-f224-46a4-b557-1c66181e77cf",
   "metadata": {
    "tags": []
   },
   "outputs": [],
   "source": [
    "dt.minute"
   ]
  },
  {
   "cell_type": "code",
   "execution_count": null,
   "id": "deaff7c0-c830-4f68-8d2a-a1c4d4348ff9",
   "metadata": {
    "tags": []
   },
   "outputs": [],
   "source": [
    "dt.second"
   ]
  },
  {
   "cell_type": "markdown",
   "id": "2e40b37e-1139-4a40-b173-d1be836c798f",
   "metadata": {},
   "source": [
    "## strftime(), strptime() \n",
    "\n",
    "파이썬의 `datetime` 모듈에서 `날짜`와 `시간`을 `문자열`로 `변환`하 파싱하는 데 사용되는 함수들입니다.\n",
    "\n",
    "### strftime (String Format Time)\n",
    "\n",
    "strftime 함수는 `datetime 객체`를 원하는 형식의 `문자열`로 변환하는 데 사용됩니다.\n",
    "포맷 문자열을 사용하여 날짜와 시간을 원하는 형식으로 표현할 수 있습니다.\n",
    "주요 포맷 코드 예시:\n",
    "- `%Y`: 년 (4자리)\n",
    "- `%m`: 월 (2자리)\n",
    "- `%d`: 일 (2자리)\n",
    "- `%a`: 요일 (3자리 문자열)\n",
    "- `%A`: 요일 (문자열)\n",
    "- `%H`: 시간 (24시간 형식, 2자리)\n",
    "- `%M`: 분 (2자리)\n",
    "- `%S`: 초 (2자리)"
   ]
  },
  {
   "cell_type": "code",
   "execution_count": null,
   "id": "401b0910-b58f-40a6-9cf6-7a01d9d5a0c3",
   "metadata": {
    "tags": []
   },
   "outputs": [],
   "source": [
    "from datetime import datetime\n",
    "\n",
    "datetime.now().strftime(\"%Y-%m-%d %H:%M:%S\")"
   ]
  },
  {
   "cell_type": "code",
   "execution_count": null,
   "id": "c4ac2408-c0e3-4ea4-8dde-7a7742f04316",
   "metadata": {
    "tags": []
   },
   "outputs": [],
   "source": [
    "datetime.now().strftime(\"%Y-%m-%d %a %H:%M:%S\")"
   ]
  },
  {
   "cell_type": "code",
   "execution_count": null,
   "id": "34939c20-85f6-44af-9f14-19f982cd49fe",
   "metadata": {
    "tags": []
   },
   "outputs": [],
   "source": [
    "datetime.now().strftime(\"%Y/%m/%d %A %H:%M:%S\")"
   ]
  },
  {
   "cell_type": "markdown",
   "id": "67ad9549-f297-4d2f-9f11-54b2a27645d9",
   "metadata": {},
   "source": [
    "### strptime (String Parse Time)\n",
    "\n",
    "strptime 함수는 `문자열`을 `datetime` 객체로 파싱(변환)하는 데 사용됩니다.  \n",
    "입력된 문자열과 형식 문자열을 비교하여 datetime 객체를 생성합니다.  \n",
    "strftime의 포맷 코드와 반대로, 문자열에서 날짜와 시간 정보를 추출합니다.  "
   ]
  },
  {
   "cell_type": "code",
   "execution_count": null,
   "id": "5c64a24a-4672-4533-9445-d70116aa36a3",
   "metadata": {
    "tags": []
   },
   "outputs": [],
   "source": [
    "from datetime import datetime\n",
    "\n",
    "datetime.strptime(\"2023-08-07 12:30:01\", \"%Y-%m-%d %H:%M:%S\")"
   ]
  },
  {
   "cell_type": "markdown",
   "id": "17f87cc5-f23f-4682-a8be-814de127ba00",
   "metadata": {
    "tags": []
   },
   "source": [
    "## timestamp\n",
    "\n",
    "datetime 타임스탬프는 특정 날짜와 시간을 `고유한 숫자 값`으로 나타낸 것을 말합니다.  \n",
    "이 숫자 값은 일반적으로 `1970년 1월 1일`부터의 경과 시간을 초단위로 표현한 것으로,  \n",
    "이를 `\"UNIX 시간\"` 또는 \"에포크 시간\"이라고도 합니다.\n",
    "\n",
    "파이썬의 datetime 모듈을 사용하여 날짜와 시간을 다루다보면,  \n",
    "`datetime 객체`를 특정 시간으로부터의 경과 시간을 나타내는 `타임스탬프`로 변환하거나,  \n",
    "반대로 `타임스탬프`를 `datetime 객체`로 변환하는 작업을 할 수 있습니다."
   ]
  },
  {
   "cell_type": "code",
   "execution_count": null,
   "id": "0c369274-86d6-4066-9833-dce13b9109f1",
   "metadata": {
    "tags": []
   },
   "outputs": [],
   "source": [
    "from datetime import datetime\n",
    "\n",
    "# 현재 시간을 datetime 객체로 가져오기\n",
    "datetime.now().timestamp()"
   ]
  },
  {
   "cell_type": "code",
   "execution_count": null,
   "id": "90a0cf79-3ec5-4dd0-b8db-b11ccf0c2dc9",
   "metadata": {
    "tags": []
   },
   "outputs": [],
   "source": [
    "# 타임스탬프를 datetime 객체로 변환\n",
    "from datetime import datetime\n",
    "\n",
    "datetime.fromtimestamp(1693407846.324211)"
   ]
  },
  {
   "cell_type": "markdown",
   "id": "402c6cef-dee3-411b-b1fd-30ab208f6f3d",
   "metadata": {
    "tags": []
   },
   "source": [
    "## Naive vs tz-awre 시간대\n",
    "`\"나이브(Naive)\"`란 용어는 `시간대(timezone) 정보를 갖지 않는` 시간 관련 데이터를 가리킵니다.  \n",
    "파이썬의 `datetime` 라이브러리에서는 시간대 정보 없이 날짜와 시간만을 다루는 객체를 \"나이브\"하다고 표현합니다.  \n",
    "즉, \"나이브\"한 `datetime` 객체는 특정한 지역이나 표준 시간대를 고려하지 않습니다.\n",
    "\n",
    "예를 들어, 2023년 8월 15일 10시를 `datetime` 객체로 나타내면 아래와 같습니다:\n",
    "\n",
    "```python\n",
    "import datetime\n",
    "\n",
    "naive_datetime = datetime.datetime(2023, 8, 15, 10, 0)\n",
    "print(naive_datetime)\n",
    "```\n",
    "\n",
    "위의 `naive_datetime` 객체는 시간대 정보를 갖지 않습니다. 이 객체는 로컬 시스템의 기본 시간대를 따르게 됩니다. 이것은 시간대 변경이나 다양한 시간대의 변환을 고려하지 않고 단순히 날짜와 시간 정보를 저장하는 객체입니다.\n",
    "\n",
    "나이브한 `datetime` 객체를 사용할 때 주의해야 할 점은 다음과 같습니다:\n",
    "\n",
    "1. **시간대 변환 문제**: 나이브한 객체를 다른 시간대로 변환하면 부정확한 결과를 얻을 수 있습니다.\n",
    "2. **시간대 정보 손실**: 나이브한 객체는 시간대 정보가 없으므로 다른 시간대에서 언제 발생한 사건인지 파악하기 어려울 수 있습니다.\n",
    "\n",
    "이러한 이유로 시간대를 다루는 경우에는 `datetime` 객체를 \"안전하게(tz-aware)\" 만드는 것이 중요합니다. \"안전한\" `datetime` 객체는 시간대 정보를 포함하며, 시간대 변환 등의 작업을 정확하게 수행할 수 있습니다. 이를 위해서는 `dateutil.tz` 모듈이나 `pytz` 라이브러리 등을 사용하여 `datetime` 객체를 시간대 정보와 함께 생성하고 다루는 것이 좋습니다."
   ]
  },
  {
   "cell_type": "markdown",
   "id": "f4ddac86-4f89-45b6-8b9b-bbd05db098cc",
   "metadata": {},
   "source": [
    "## tzinfo\n",
    "\n",
    "`tzinfo`는 파이썬의 `datetime` 모듈에서 시간대(Time Zone) 정보를 나타내는 추상 기본 클래스(Abstract Base Class)입니다. 이 클래스를 사용하여 `datetime` 객체에 시간대 정보를 추가할 수 있습니다.\n",
    "\n",
    "\n",
    "## pytz \n",
    "\n",
    "`pytz`는 파이썬에서 시간대(Time Zone) 정보를 처리하고 다루는 라이브러리입니다. 파이썬의 내장 `datetime` 모듈은 기본적으로 시간대 정보를 다루는 기능이 제한적이기 때문에, `pytz` 라이브러리는 이를 보완하여 다양한 시간대의 변환과 처리를 지원합니다. `pytz`는 파이썬의 `datetime` 모듈과 함께 사용하여 시간대 정보를 적용한 날짜와 시간을 다루는 작업을 돕는 도구로 사용됩니다.\n",
    "\n",
    "`pytz` 라이브러리의 주요 기능과 특징은 다음과 같습니다:\n",
    "\n",
    "1. 다양한 시간대 지원: `pytz`는 전 세계의 다양한 시간대를 지원합니다. 오래된 시간대부터 최신 시간대까지 포함하고 있어, 다양한 국가와 지역의 시간을 정확하게 다룰 수 있습니다.\n",
    "\n",
    "2. 오프셋과 시간대 이름: `pytz`는 시간대의 오프셋(offset)과 시간대의 이름을 다루는 클래스와 함수를 제공합니다. 이를 통해 시간대 변환 및 연산이 용이해집니다.\n",
    "\n",
    "3. `datetime` 객체와 함께 사용: `pytz`는 `datetime` 모듈과 밀접하게 연동되어 시간대 정보를 가진 `datetime` 객체를 생성하고, 시간대 변환, 비교 등을 할 수 있도록 합니다.\n",
    "\n",
    "4. 데이터베이스 기반 시간대 정보: `pytz`는 Olson 데이터베이스를 기반으로 시간대 정보를 제공합니다. 이 데이터베이스는 전 세계의 시간대 정보를 관리하며, `pytz`는 이 정보를 활용하여 정확한 시간대 처리를 가능케 합니다.  https://en.wikipedia.org/wiki/List_of_tz_database_time_zones\n",
    "\n",
    "5. 유연한 인터페이스: `pytz`는 다양한 시간대 정보를 다루는 데 필요한 유연한 인터페이스를 제공합니다. 시간대 이름, 오프셋, DST(Daylight Saving Time) 등을 조작하고 변환할 수 있습니다.\n"
   ]
  },
  {
   "cell_type": "code",
   "execution_count": null,
   "id": "6e0e6e72-1a0a-4caf-b340-7a326f89f092",
   "metadata": {
    "tags": []
   },
   "outputs": [],
   "source": [
    "from datetime import datetime\n",
    "\n",
    "dt = datetime(2023, 8, 7, 15, 30, 0)\n",
    "dt, dt.timestamp() # naive 시간대"
   ]
  },
  {
   "cell_type": "code",
   "execution_count": null,
   "id": "b47ae587-531c-4614-b535-97aabbe1455e",
   "metadata": {
    "tags": []
   },
   "outputs": [],
   "source": [
    "import pytz\n",
    "\n",
    "dt_seoul = dt.astimezone(pytz.timezone('Asia/Seoul'))\n",
    "dt_seoul, dt_seoul.timestamp()"
   ]
  },
  {
   "cell_type": "code",
   "execution_count": null,
   "id": "af69791e-b0c3-4c10-b57b-03adeeb12fa7",
   "metadata": {
    "tags": []
   },
   "outputs": [],
   "source": [
    "dt_ny = dt_seoul.astimezone(pytz.timezone('America/New_York'))\n",
    "dt_ny, dt_ny.timestamp() # tz-aware 시간대"
   ]
  },
  {
   "cell_type": "code",
   "execution_count": null,
   "id": "4c1fcb80-5efd-439b-81c0-5bedb518a730",
   "metadata": {
    "tags": []
   },
   "outputs": [],
   "source": [
    "import pytz\n",
    "\n",
    "# 사용 가능한 모든 시간대 출력\n",
    "all_timezones = pytz.all_timezones\n",
    "print(\"사용 가능한 모든 시간대:\", len(all_timezones), all_timezones[:10])\n",
    "\n",
    "# 일반적으로 사용되는 시간대 출력\n",
    "common_timezones = pytz.common_timezones\n",
    "print(\"일반적으로 사용되는 시간대:\", len(common_timezones), common_timezones[:10])"
   ]
  },
  {
   "cell_type": "markdown",
   "id": "32e6434f-d433-4842-ba16-2cbc61c246e5",
   "metadata": {},
   "source": [
    "## timedelta\n",
    "\n",
    "`timedelta`는 파이썬의 내장 모듈인 `datetime`에서 제공하는 클래스로,  \n",
    "두 날짜 또는 시간 사이의 시간 간격을 나타내는 데 사용됩니다.  \n",
    "`timedelta` 객체는 일(day), 초(second), 마이크로초(microsecond) 등의 시간 단위로 간격을 표현할 수 있습니다.  \n",
    "주로 날짜와 시간 연산에서 일정 기간을 더하거나 빼는 등의 작업에 활용됩니다.\n",
    "\n",
    "`timedelta` 객체의 생성자는 다음과 같이 사용됩니다:\n",
    "\n",
    "```python\n",
    "from datetime import timedelta\n",
    "\n",
    "# 일(day), 초(second), 마이크로초(microsecond) 단위로 간격 생성\n",
    "time_gap = timedelta(days=5, seconds=3600, microseconds=5000)\n",
    "```\n",
    "\n",
    "`timedelta` 객체의 주요 속성과 메서드는 다음과 같습니다:\n",
    "\n",
    "1. `days`: 일(day) 단위의 간격을 나타내는 속성입니다.\n",
    "2. `seconds`: 초(second) 단위의 간격을 나타내는 속성입니다.\n",
    "3. `microseconds`: 마이크로초(microsecond) 단위의 간격을 나타내는 속성입니다.\n",
    "4. `total_seconds()`: `timedelta` 객체의 총 초(second) 수를 반환하는 메서드입니다.\n",
    "\n",
    "`timedelta` 객체는 `datetime` 객체와 함께 사용하여 시간 연산을 수행할 때 유용합니다."
   ]
  },
  {
   "cell_type": "code",
   "execution_count": null,
   "id": "c1ae04a4-9877-4798-a370-3b3682cbac92",
   "metadata": {
    "tags": []
   },
   "outputs": [],
   "source": [
    "# 2일 후의 날짜 계산\n",
    "from datetime import datetime, timedelta\n",
    "datetime(2023, 9, 2, 8, 9, 38, 797337) + timedelta(days=2)"
   ]
  },
  {
   "cell_type": "code",
   "execution_count": null,
   "id": "fbc80dfa-6d9d-4a32-9a1d-affafd4e4bd5",
   "metadata": {
    "tags": []
   },
   "outputs": [],
   "source": [
    "# 3시간 30분 후의 시간 계산\n",
    "datetime(2023, 9, 2, 11, 00) + timedelta(hours=3, minutes=30)"
   ]
  },
  {
   "cell_type": "code",
   "execution_count": null,
   "id": "cf404c78-4c60-4358-bf46-21366ac56ecc",
   "metadata": {
    "tags": []
   },
   "outputs": [],
   "source": [
    "# 두 날짜 사이의 일수 계산\n",
    "date1 = datetime(2023, 8, 1, 9, 10, 23)\n",
    "date2 = datetime(2023, 8, 10, 10, 15, 11)\n",
    "date2 - date1"
   ]
  },
  {
   "cell_type": "code",
   "execution_count": null,
   "id": "be2a1866-9c74-4902-b45f-072d1840450e",
   "metadata": {
    "tags": []
   },
   "outputs": [],
   "source": [
    "(date2-date1).seconds/60/60"
   ]
  },
  {
   "cell_type": "markdown",
   "id": "183abc9d-3d39-413d-a5f5-7be89591b7dd",
   "metadata": {},
   "source": [
    "# pandas 의 시계열 데이터 처리\n",
    "\n",
    "## to_datetime()\n",
    "`pandas`의 `to_datetime` 함수는 문자열이나 숫자 등의 다양한 형식의 입력을 받아  \n",
    "`DatetimeIndex` 또는 `Timestamp` 객체로 변환하는 기능을 제공하는 함수입니다.  \n",
    "이 함수를 사용하면 날짜와 시간 데이터를 처리하고 `pandas`에서 다양한 시간 관련 작업을 수행할 수 있습니다.\n",
    "\n",
    "`to_datetime` 함수의 주요 기능과 사용법은 다음과 같습니다:\n",
    "\n",
    "1. **문자열을 날짜로 변환**: `to_datetime` 함수는 문자열을 날짜 또는 시간 형식으로 변환할 수 있습니다. 이 때, 문자열의 형식을 지정할 수 있습니다.\n",
    "\n",
    "2. **숫자나 문자열을 타임스탬프로 변환**: `to_datetime` 함수는 숫자나 문자열을 `Timestamp` 객체로 변환할 수 있습니다.\n",
    "\n",
    "3. **시계열 데이터 변환**: `to_datetime` 함수는 데이터프레임의 열이나 시리즈를 변환할 수 있습니다. 이 때, 컬럼의 이름이나 인덱스를 지정하여 변환할 수 있습니다.\n",
    "\n",
    "4. **옵션 설정**: `to_datetime` 함수는 다양한 옵션을 설정하여 날짜 형식을 조정하거나 누락된 데이터 처리를 할 수 있습니다.\n"
   ]
  },
  {
   "cell_type": "code",
   "execution_count": null,
   "id": "f43b5513-87e5-41a5-a1cb-7207c90e10c1",
   "metadata": {
    "tags": []
   },
   "outputs": [],
   "source": [
    "# 문자열을 날짜로 변환\n",
    "import pandas as pd\n",
    "\n",
    "pd.to_datetime('2023-08-07 10:01:23')"
   ]
  },
  {
   "cell_type": "code",
   "execution_count": null,
   "id": "dce58bf1-8f33-446b-910d-beb77fa7bd13",
   "metadata": {
    "tags": []
   },
   "outputs": [],
   "source": [
    "# 숫자(에포크시간)를 타임스탬프로 변환\n",
    "import pandas as pd\n",
    "\n",
    "pd.to_datetime(1678873600, unit='s')"
   ]
  },
  {
   "cell_type": "raw",
   "id": "5f4c7ed8-4fae-4e74-95cb-8a0601584b46",
   "metadata": {},
   "source": [
    "import pandas as pd\n",
    "import numpy as np\n",
    "\n",
    "# 유닉스 에포크 시간 배열 생성\n",
    "unix_epoch_times = [1628299200, 1628385600, 1628472000, 1628558400]\n",
    "\n",
    "# 유닉스 에포크 시간 배열을 DatetimeIndex로 변환\n",
    "datetime_index = pd.to_datetime(unix_epoch_times, unit='s')\n",
    "df = pd.DataFrame(\n",
    "    dict(\n",
    "        Datetime=datetime_index, \n",
    "        value=np.random.randint(10,20,len(datetime_index))\n",
    "    )\n",
    ")\n",
    "print(df)\n"
   ]
  },
  {
   "cell_type": "code",
   "execution_count": null,
   "id": "297ee3b3-4e37-4b38-ae1a-465e4e4087d6",
   "metadata": {
    "tags": []
   },
   "outputs": [],
   "source": [
    "# 시리즈 변환\n",
    "s = pd.Series(['2023-08-01', '2023-08-02', '2023-08-03'])\n",
    "s\n"
   ]
  },
  {
   "cell_type": "code",
   "execution_count": null,
   "id": "ecd9bff1-8198-4406-846c-3e8907c9e496",
   "metadata": {
    "tags": []
   },
   "outputs": [],
   "source": [
    "s2 = pd.to_datetime(s)\n",
    "s2\n"
   ]
  },
  {
   "cell_type": "code",
   "execution_count": null,
   "id": "772eeac9-8931-46e0-a312-f955d16ae1a0",
   "metadata": {
    "tags": []
   },
   "outputs": [],
   "source": [
    "# 데이터프레임 변환\n",
    "data = {'Date': ['2023-08-01', '2023-08-02', '2023-08-03'],\n",
    "        'Value': [10, 20, 30]}\n",
    "df = pd.DataFrame(data)\n",
    "df\n"
   ]
  },
  {
   "cell_type": "code",
   "execution_count": null,
   "id": "3e7b66cf-b7f8-4d73-8861-411c3525889d",
   "metadata": {
    "tags": []
   },
   "outputs": [],
   "source": [
    "df[\"TS\"] = pd.to_datetime(df.Date)\n",
    "df"
   ]
  },
  {
   "cell_type": "code",
   "execution_count": null,
   "id": "82644884-0153-44c8-8bfc-8a1d8a0c84fc",
   "metadata": {
    "tags": []
   },
   "outputs": [],
   "source": [
    "df.info()"
   ]
  },
  {
   "cell_type": "markdown",
   "id": "093a3b9d-4a40-46f3-b315-120374940926",
   "metadata": {},
   "source": [
    "## pandas에서 datetime 활용\n",
    "\n",
    "`pandas`에서 `datetime` 객체는 시계열 데이터와 날짜, 시간 정보를 표현하고 다루는 데 사용되는 중요한 데이터 유형입니다.  \n",
    "`datetime` 객체는 `pandas` 라이브러리에서 시간 관련 연산과 분석을 수행하는 데 필수적인 도구로 사용됩니다.  \n",
    "객체는 시계열 데이터를 생성하고 다루는 데 중요한 역할을 합니다.\n",
    "\n",
    "`pandas`에서 활용하는 `datetime` 객체의 주요 특징과 기능은 다음과 같습니다:\n",
    "\n",
    "1. **DatetimeIndex**: `pandas`에서 시계열 데이터를 다룰 때, `datetime` 객체는 `DatetimeIndex`의 요소로 사용됩니다. `DatetimeIndex`는 날짜와 시간을 색인으로 사용하는 데 특화된 데이터 구조입니다.\n",
    "\n",
    "2. **날짜와 시간 표현**: `datetime` 객체는 날짜와 시간 정보를 모두 포함하며, 연도, 월, 일, 시, 분, 초, 마이크로초 등을 표현할 수 있습니다.\n",
    "\n",
    "3. **시간 연산 및 변환**: `datetime` 객체는 시간 간격을 계산하거나 다른 시간 단위로 변환하는 기능을 제공합니다. 또한 시간대 변환과 관련된 작업도 처리할 수 있습니다.\n",
    "\n",
    "4. **표준 연산 및 함수 지원**: `datetime` 객체는 일반적인 연산자와 함수를 사용하여 시간 관련 작업을 수행할 수 있습니다. 예를 들어, 두 날짜의 차이를 계산하거나 특정 날짜와 시간을 생성하는 등의 작업이 가능합니다.\n",
    "\n",
    "5. **누락된 데이터 처리**: `pandas`의 `datetime` 객체는 누락된 날짜나 시간 데이터를 처리하고 채울 수 있는 기능을 제공합니다.\n",
    "\n",
    "6. **시각화 및 시계열 분석**: `datetime` 객체를 사용하여 시계열 데이터를 시각화하고 분석하는데 활용할 수 있습니다. `pandas`와 `matplotlib`을 연동하여 시계열 데이터를 그래프로 표현할 수 있습니다.\n"
   ]
  },
  {
   "cell_type": "markdown",
   "id": "3901e303-1897-4397-b372-0faa67710430",
   "metadata": {},
   "source": [
    "## date_range()\n",
    "\n",
    "`pd.date_range()`는 `pandas` 라이브러리에서 사용되는 함수로, 날짜 범위를 생성하는데 사용됩니다.  \n",
    "이 함수를 사용하면 특정 기간 동안 일정한 간격으로 날짜를 생성하여 `DatetimeIndex`를 생성할 수 있습니다.  \n",
    "이는 시계열 데이터를 다루거나 분석할 때 유용하게 활용됩니다.\n",
    "\n",
    "`pd.date_range()` 함수의 주요 인자와 사용법은 다음과 같습니다:\n",
    "\n",
    "1. `start`: 날짜 범위의 시작 날짜를 지정합니다. 날짜 형식으로 입력할 수 있습니다.\n",
    "2. `end`: 날짜 범위의 종료 날짜를 지정합니다. 날짜 형식으로 입력할 수 있습니다.\n",
    "3. `periods`: 생성할 날짜의 수를 지정합니다. `start`가 있을 경우 `end` 대신에 이 인자를 사용할 수 있습니다.\n",
    "4. `freq`: 생성할 날짜의 간격을 지정합니다. 예를 들어, 'D'는 일간격, 'H'는 시간 간격을 나타냅니다.\n",
    "5. `normalize`: 기본값은 False이며, True로 설정하면 시간을 00:00:00으로 정규화합니다.\n",
    "\n"
   ]
  },
  {
   "cell_type": "code",
   "execution_count": null,
   "id": "9ca4e6b5-3ae1-48fb-b259-046d9f587452",
   "metadata": {
    "tags": []
   },
   "outputs": [],
   "source": [
    "# 날짜 범위 생성: 2023년 1월 1일부터 2023년 1월 10일까지\n",
    "import pandas as pd\n",
    "pd.date_range(start='2023-01-01', end='2023-01-10', freq='D')"
   ]
  },
  {
   "cell_type": "code",
   "execution_count": null,
   "id": "2067bbfe-9fd8-4b15-88c8-86b245f62680",
   "metadata": {
    "tags": []
   },
   "outputs": [],
   "source": [
    "# 날짜 범위 생성: 2023년 1월 1일 00:00부터 2023년 1월 2일 02:00까지 시간단위로\n",
    "import pandas as pd\n",
    "pd.date_range(start='2023-01-01 09:00', end='2023-01-02 02:00', freq='H')"
   ]
  },
  {
   "cell_type": "markdown",
   "id": "b6d52d53-043b-47bd-8e6d-1084f07815e9",
   "metadata": {},
   "source": [
    "## DatetimeIndex\n",
    "\n",
    "`DatetimeIndex`는 Datetime 타입의 객체를 DataFrame의 인덱스로 활용할 경우이며  \n",
    "이는 날짜와 시간 정보를 포함하는 인덱스(Index)로서, 데이터프레임이나 시리즈의 행을 식별하는 데 활용됩니다.  \n",
    "`DatetimeIndex`는 시계열 데이터를 쉽게 조작하고 분석하는데 매우 유용합니다.\n",
    "\n",
    "`DatetimeIndex`의 주요 특징과 기능은 다음과 같습니다:\n",
    "\n",
    "1. **시계열 데이터와 연동**: `DatetimeIndex`는 시계열 데이터를 다루는 데 최적화된 구조입니다. 시계열 데이터를 데이터프레임이나 시리즈와 함께 사용할 때, 인덱스로 `DatetimeIndex`를 사용하면 데이터를 날짜와 시간에 기반하여 쉽게 필터링하거나 조작할 수 있습니다.\n",
    "\n",
    "2. **데이터 선택 및 슬라이싱**: `DatetimeIndex`를 사용하면 날짜 범위를 기반으로 데이터를 선택하거나 슬라이싱하는 작업을 쉽게 수행할 수 있습니다. 원하는 날짜 범위 내의 데이터를 추출하거나 필터링하는데 용이합니다.\n",
    "\n",
    "3. **데이터 리샘플링**: `DatetimeIndex`는 시계열 데이터의 리샘플링 작업을 지원합니다. 데이터를 주기적으로 묶어서 집계하거나 변환하는 작업을 할 때 유용합니다.\n",
    "\n",
    "4. **시간 간격 연산**: `DatetimeIndex`를 사용하여 시간 간격을 계산하거나 다른 시간 단위로 변환하는 작업을 수행할 수 있습니다.\n",
    "\n",
    "5. **데이터 정렬**: `DatetimeIndex`는 날짜와 시간에 기반하여 데이터를 정렬하는 데 사용됩니다. 데이터를 시간순으로 정렬할 수 있습니다.\n",
    "\n"
   ]
  },
  {
   "cell_type": "code",
   "execution_count": null,
   "id": "0de12505-d11d-428d-8ef8-e104349f34d6",
   "metadata": {
    "tags": []
   },
   "outputs": [],
   "source": [
    "import pandas as pd\n",
    "import numpy as np\n",
    "\n",
    "data = np.random.randint(0,12,10)\n",
    "\n",
    "df = pd.DataFrame(\n",
    "    {\"Value\":data},\n",
    "    index = pd.date_range(start='2023-01-31 18:00', periods=len(data), freq=\"H\")\n",
    ")\n",
    "df"
   ]
  },
  {
   "cell_type": "code",
   "execution_count": null,
   "id": "5b63eeda-6587-4816-9c04-120754a2bad9",
   "metadata": {
    "tags": []
   },
   "outputs": [],
   "source": [
    "# 특정 날짜 범위 선택\n",
    "df['2023-01-31 23:30':'2023-02-01 02:10']"
   ]
  },
  {
   "cell_type": "code",
   "execution_count": null,
   "id": "557f2758-af76-46a2-981e-0cc5b1070537",
   "metadata": {
    "tags": []
   },
   "outputs": [],
   "source": [
    "# 특정 날짜 범위 선택\n",
    "from datetime import datetime\n",
    "df[datetime(2023,1,31,23,30):datetime(2023,2,1,2,30)]\n"
   ]
  },
  {
   "cell_type": "code",
   "execution_count": null,
   "id": "4775aae2-458c-4db8-9e8f-83eb7b42acb9",
   "metadata": {
    "tags": []
   },
   "outputs": [],
   "source": [
    "# 특정 날짜 선택\n",
    "df.loc['2023-01-31']"
   ]
  },
  {
   "cell_type": "code",
   "execution_count": null,
   "id": "154248bc-2ea8-43ea-81e6-8d1120ff7845",
   "metadata": {
    "tags": []
   },
   "outputs": [],
   "source": [
    "# 특정 월 선택\n",
    "df.loc['2023-02']"
   ]
  },
  {
   "cell_type": "markdown",
   "id": "4749fa1e-6209-41d5-b689-de210b99b4bf",
   "metadata": {},
   "source": [
    "## resampling()\n",
    "\n",
    "`pandas`의 리샘플링(resampling)은 시계열 데이터의 주기를 변경하는 작업을 말합니다. 이는 원본 시계열 데이터의 간격을 더 큰 주기로 변환하거나 더 작은 주기로 세분화하는 작업을 의미합니다. 리샘플링은 시계열 데이터를 분석하거나 시각화할 때 유용하며, 데이터의 집계나 변환 작업을 수행하는데 활용됩니다.\n",
    "\n",
    "`pandas`에서 리샘플링은 `resample()` 메서드를 사용하여 수행할 수 있습니다. 이 메서드는 원하는 리샘플링 주기를 지정하고, 해당 주기로 데이터를 집계하거나 변환하는 작업을 수행합니다.\n",
    "\n",
    "`resample()` 메서드의 주요 인자와 사용법은 다음과 같습니다:\n",
    "\n",
    "1. `rule`: 리샘플링할 주기를 지정합니다. 예를 들어, 'D'는 일간격, 'M'은 월간격을 의미합니다.\n",
    "2. `how`: 집계 방법을 지정합니다. 'mean', 'sum', 'count' 등이 가능합니다.\n",
    "3. `closed`: 리샘플된 구간의 어느 쪽을 포함할지 지정합니다. 'right', 'left', 'both', 'neither' 중 선택할 수 있습니다.\n",
    "4. `label`: 리샘플된 구간의 레이블을 지정합니다. 'right', 'left' 중 선택할 수 있습니다.\n",
    "\n",
    "\n"
   ]
  },
  {
   "cell_type": "code",
   "execution_count": null,
   "id": "12a0862f-d926-4773-9e19-de1183542bd2",
   "metadata": {
    "tags": []
   },
   "outputs": [],
   "source": [
    "import pandas as pd\n",
    "import numpy as np\n",
    "\n",
    "df = pd.DataFrame(\n",
    "    {\"Value\":np.random.randint(1,100,60)},\n",
    "    index=pd.date_range(start=\"2023-01-01\", periods=60, freq=\"D\")\n",
    ")"
   ]
  },
  {
   "cell_type": "code",
   "execution_count": null,
   "id": "006f048d-e063-40b5-ae94-de3bddf5c397",
   "metadata": {
    "tags": []
   },
   "outputs": [],
   "source": [
    "df.head(2)"
   ]
  },
  {
   "cell_type": "code",
   "execution_count": null,
   "id": "8f33c55d-31ac-4147-bbf3-c704ab18972f",
   "metadata": {
    "tags": []
   },
   "outputs": [],
   "source": [
    "df.tail(2)"
   ]
  },
  {
   "cell_type": "code",
   "execution_count": null,
   "id": "b441cc46-9faf-4159-9d9f-ae78968046e2",
   "metadata": {
    "tags": []
   },
   "outputs": [],
   "source": [
    "# 월간 평균 리샘플링\n",
    "df.resample('M').mean().round(2)"
   ]
  },
  {
   "cell_type": "code",
   "execution_count": null,
   "id": "9f473065-63ae-4d11-a870-d5f6511059ce",
   "metadata": {
    "tags": []
   },
   "outputs": [],
   "source": [
    "# 주간 표준편차 리샘플링\n",
    "df.resample('W').std().round(2)"
   ]
  },
  {
   "cell_type": "markdown",
   "id": "c02dc1a0-2583-4f73-82c5-0460025f4e12",
   "metadata": {},
   "source": [
    "# DateOffset 객체\n",
    "\n",
    "판다스에서 날짜 오프셋(Date Offset)은 시계열 데이터를 다룰 때 날짜와 시간을 조작하고 오프셋을 적용하는데 사용되는 도구로써  \n",
    "파이썬의 `TimeDelta`와 유사한 기능을 제공합니다.\n",
    "날짜 오프셋은 특정 주기나 간격에 따라 날짜와 시간을 조정하는 기능을 제공하여  \n",
    "데이터 분석과 시계열 데이터 처리를 보다 효과적으로 수행할 수 있도록 도와줍니다.  \n",
    "주요 날짜 오프셋은 다음과 같습니다:\n",
    "\n",
    "1. **Day, BusinessDay**: 날짜를 일(day) 단위로 이동시키는 오프셋입니다. `pd.DateOffset(days=n)`와 같이 사용합니다. `BusinessDay`는 주말과 공휴일을 제외하고 이동합니다.\n",
    "\n",
    "2. **Week**: 주(week) 단위로 날짜를 이동시키는 오프셋입니다. `pd.DateOffset(weeks=n)`와 같이 사용합니다.\n",
    "\n",
    "3. **Month, Year**: 월(month)과 년(year) 단위로 날짜를 이동시키는 오프셋입니다. `pd.DateOffset(months=n)`와 `pd.DateOffset(years=n)`와 같이 사용합니다.\n",
    "\n",
    "4. **Hour, Minute, Second**: 시(hour), 분(minute), 초(second) 단위로 날짜와 시간을 이동시키는 오프셋입니다.\n",
    "\n",
    "5. **Custom Offset**: 사용자 정의 오프셋을 만들어 사용할 수도 있습니다. 이는 특정한 주기에 따라 날짜와 시간을 조정하기 위해 유용합니다.\n",
    "\n",
    "날짜 오프셋은 주로 `pd.Timestamp`나 `pd.DatetimeIndex` 객체와 함께 사용됩니다. \n"
   ]
  },
  {
   "cell_type": "code",
   "execution_count": null,
   "id": "1f571112-3abb-4ad4-b5dc-8df87b5e66cc",
   "metadata": {
    "tags": []
   },
   "outputs": [],
   "source": [
    "# 일주일 후로 이동\n",
    "import pandas as pd\n",
    "\n",
    "pd.Timestamp('2023-08-08') + pd.DateOffset(weeks=1)"
   ]
  },
  {
   "cell_type": "code",
   "execution_count": null,
   "id": "334dd68e-546b-4c37-b82d-52318f8e9f46",
   "metadata": {
    "tags": []
   },
   "outputs": [],
   "source": [
    "# 10주 후로 이동\n",
    "import pandas as pd\n",
    "\n",
    "pd.Timestamp('2023-08-08') + pd.DateOffset(weeks=10)"
   ]
  },
  {
   "cell_type": "code",
   "execution_count": null,
   "id": "10e138d8-e2c1-49ec-8ede-3fb3644a9b5e",
   "metadata": {
    "tags": []
   },
   "outputs": [],
   "source": [
    "# 힌딜 후로 이동\n",
    "pd.Timestamp('2023-08-08') + pd.DateOffset(months=1)"
   ]
  },
  {
   "cell_type": "raw",
   "id": "e8108548-996f-4b80-bab0-f8ca4ec4a938",
   "metadata": {},
   "source": [
    "데이터 프레임의 특정 컬럼에 DateOffset을 적용하는 예제코드를 살펴보도록 하겠씁니다."
   ]
  },
  {
   "cell_type": "code",
   "execution_count": null,
   "id": "821ab593-c976-46b8-8cef-85aa9de77e52",
   "metadata": {
    "tags": []
   },
   "outputs": [],
   "source": [
    "import pandas as pd\n",
    "\n",
    "# 샘플 데이터프레임 생성\n",
    "df = pd.DataFrame(\n",
    "    {\n",
    "        'date': pd.date_range(start='2023-08-01', periods=10),\n",
    "        'value': np.random.randint(1,100,10),\n",
    "    }\n",
    ")\n",
    "df"
   ]
  },
  {
   "cell_type": "code",
   "execution_count": null,
   "id": "be0e090a-fbe3-4fa9-9204-adff126b88af",
   "metadata": {
    "tags": []
   },
   "outputs": [],
   "source": [
    "# 3일 만큼 이동\n",
    "df['shifted_date'] = df['date'] + pd.DateOffset(days=3)\n",
    "df"
   ]
  },
  {
   "cell_type": "code",
   "execution_count": null,
   "id": "cb977086-6425-4780-a1ea-aa4a73072086",
   "metadata": {},
   "outputs": [],
   "source": [
    "# DatetimeIndex 에 DateOffset을 적용\n",
    "df2 = df.set_index(\"date\")\n",
    "df2.index = df2.index + pd.DateOffset(days=2)\n",
    "df2.head(2)"
   ]
  },
  {
   "cell_type": "markdown",
   "id": "6197f7e1-49fa-4cee-b883-3bf87ffb4f84",
   "metadata": {},
   "source": [
    "## MonthEnd, MonthBegin, Week\n",
    "\n",
    "판다스(Pandas)에서 `MonthEnd`, `MonthBegin`, `Week` 클래스는  \n",
    "날짜 오프셋을 표현하는데 사용되는 클래스들입니다.  \n",
    "이들 클래스는 주로 시계열 데이터의 날짜와 시간을 효과적으로 조작하고 계산하는 데 활용됩니다.\n"
   ]
  },
  {
   "cell_type": "code",
   "execution_count": null,
   "id": "556aaa68-72ff-4dc3-aa20-ceae6f6b5d67",
   "metadata": {
    "tags": []
   },
   "outputs": [],
   "source": [
    "\"\"\"\n",
    "1. **`MonthEnd`** 클래스 (pd.Timestamp)\n",
    "`MonthEnd` 클래스는 월(month)의 마지막 날짜로 이동하는 날짜 오프셋입니다.\n",
    "\"\"\"\n",
    "\n",
    "import pandas as pd\n",
    "\n",
    "month_end = pd.offsets.MonthEnd()\n",
    "month_end.rollforward('2023-08-15')"
   ]
  },
  {
   "cell_type": "code",
   "execution_count": null,
   "id": "7e8f263b-f1fb-43b6-a638-fbaa25b84922",
   "metadata": {
    "tags": []
   },
   "outputs": [],
   "source": [
    "pd.Timestamp('2023-08-15') + month_end"
   ]
  },
  {
   "cell_type": "code",
   "execution_count": null,
   "id": "7e1414a4-0f64-4e8d-a9a5-eece32baa9b0",
   "metadata": {
    "tags": []
   },
   "outputs": [],
   "source": [
    "# 해당일자에서 이전달의 마지막 날로 이동\n",
    "month_end.rollback('2023-08-15')"
   ]
  },
  {
   "cell_type": "code",
   "execution_count": null,
   "id": "d5506924-500c-4fbf-be4e-9941ddce447c",
   "metadata": {
    "tags": []
   },
   "outputs": [],
   "source": [
    "pd.Timestamp('2023-08-15') - month_end"
   ]
  },
  {
   "cell_type": "code",
   "execution_count": null,
   "id": "9b69416f-1c46-482a-b8d1-236fd5e32fbe",
   "metadata": {
    "tags": []
   },
   "outputs": [],
   "source": [
    "\"\"\"\n",
    "2. **`MonthBegin` 클래스**:\n",
    "`MonthBegin` 클래스는 월(month)의 첫 번째 날짜로 이동하는 날짜 오프셋입니다.\n",
    "\"\"\"\n",
    "\n",
    "import pandas as pd\n",
    "\n",
    "month_begin = pd.offsets.MonthBegin()\n",
    "month_begin.rollforward(pd.Timestamp('2023-08-15'))"
   ]
  },
  {
   "cell_type": "code",
   "execution_count": null,
   "id": "7ca7c412-7adb-4509-94aa-0e9fbc40b84f",
   "metadata": {
    "tags": []
   },
   "outputs": [],
   "source": [
    "pd.Timestamp('2023-08-15') + month_begin"
   ]
  },
  {
   "cell_type": "code",
   "execution_count": null,
   "id": "1da85f75-f917-4e8e-b85c-f83f1b8555c9",
   "metadata": {
    "tags": []
   },
   "outputs": [],
   "source": [
    "month_begin.rollback(pd.Timestamp('2023-08-15'))"
   ]
  },
  {
   "cell_type": "code",
   "execution_count": null,
   "id": "898773cc-61ec-4b1c-904c-82cdfbd80098",
   "metadata": {
    "tags": []
   },
   "outputs": [],
   "source": [
    "pd.Timestamp('2023-08-15') - month_begin"
   ]
  },
  {
   "cell_type": "code",
   "execution_count": null,
   "id": "6cf0a3c6-a095-404d-b489-e206e6094027",
   "metadata": {
    "tags": []
   },
   "outputs": [],
   "source": [
    "\"\"\"\n",
    "3. **`Week` 클래스**:\n",
    "`Week` 클래스는 주(week)의 특정 요일로 이동하는 날짜 오프셋입니다.\n",
    "\"\"\"\n",
    "import pandas as pd\n",
    "week_sat = pd.offsets.Week(weekday=5) # Saturday\n",
    "\n",
    "week_sat.rollforward(pd.Timestamp('2023-08-15')).strftime(\"%Y-%m-%d %A %H:%M:%S\")"
   ]
  },
  {
   "cell_type": "code",
   "execution_count": null,
   "id": "49102254-b3ca-47cc-a80d-e401a7125a53",
   "metadata": {
    "tags": []
   },
   "outputs": [],
   "source": [
    "week_mon = pd.offsets.Week(weekday=0) # Monday\n",
    "week_mon.rollforward(pd.Timestamp('2023-08-15')).strftime(\"%Y-%m-%d %A %H:%M:%S\")"
   ]
  },
  {
   "cell_type": "code",
   "execution_count": null,
   "id": "f880f9bd-e8a8-412f-98fd-34da401c8ce4",
   "metadata": {
    "tags": []
   },
   "outputs": [],
   "source": [
    "(pd.Timestamp('2023-08-15') + pd.offsets.Week(weekday=6)).strftime(\"%Y-%m-%d %A %H:%M:%S\")"
   ]
  },
  {
   "cell_type": "markdown",
   "id": "583e2ad2-ccf0-40bc-a210-56264decf86b",
   "metadata": {},
   "source": [
    "## .dt 접근자\n",
    "\n",
    "판다스에서 `.dt` 접근자는 시리즈(Series)나 데이터프레임(DataFrame) 객체의   \n",
    "날짜와 시간 관련 작업을 수행하는 데 사용되는 접근자(accessor)입니다.   \n",
    "이 접근자를 사용하여 시계열 데이터의 날짜, 시간, 요일 등의 세부 정보를 추출하거나 조작할 수 있습니다."
   ]
  },
  {
   "cell_type": "code",
   "execution_count": null,
   "id": "29b461d5-56ba-4b09-97a7-91b8d838c70e",
   "metadata": {
    "tags": []
   },
   "outputs": [],
   "source": [
    "import pandas as pd\n",
    "\n",
    "df = pd.DataFrame(\n",
    "    {'Date': ['2023-08-01', '2023-08-15', '2023-08-30']}\n",
    ")\n",
    "df"
   ]
  },
  {
   "cell_type": "code",
   "execution_count": null,
   "id": "b2624e81-7cfa-4917-891c-eb9059ea3822",
   "metadata": {
    "tags": []
   },
   "outputs": [],
   "source": [
    "df.info()"
   ]
  },
  {
   "cell_type": "code",
   "execution_count": null,
   "id": "06c98bc2-4f9d-4455-9289-2cf584b9c1cb",
   "metadata": {
    "tags": []
   },
   "outputs": [],
   "source": [
    "df['Date'] = pd.to_datetime(df['Date'])  # 문자열을 날짜로 변환\n",
    "df"
   ]
  },
  {
   "cell_type": "code",
   "execution_count": null,
   "id": "3907827f-54c8-4cc4-ae90-e16832ac910d",
   "metadata": {
    "tags": []
   },
   "outputs": [],
   "source": [
    "df.info()"
   ]
  },
  {
   "cell_type": "code",
   "execution_count": null,
   "id": "cf77d2f4-3473-4a1f-b594-20fb19f6d19e",
   "metadata": {
    "tags": []
   },
   "outputs": [],
   "source": [
    "df.Date.dt.year"
   ]
  },
  {
   "cell_type": "code",
   "execution_count": null,
   "id": "e00e35c8-ee79-4774-9724-f837f992d090",
   "metadata": {
    "tags": []
   },
   "outputs": [],
   "source": [
    "df.Date.dt.month"
   ]
  },
  {
   "cell_type": "code",
   "execution_count": null,
   "id": "ca6ec1e1-1ab9-4fa1-a12c-0890dfc8422f",
   "metadata": {
    "tags": []
   },
   "outputs": [],
   "source": [
    "df.Date.dt.day"
   ]
  },
  {
   "cell_type": "code",
   "execution_count": null,
   "id": "2e0c163b-a90f-4b9d-aa90-72532f138817",
   "metadata": {
    "tags": []
   },
   "outputs": [],
   "source": [
    "df.Date.dt.day_name()"
   ]
  },
  {
   "cell_type": "code",
   "execution_count": null,
   "id": "d03952c7-d388-4d2d-b044-1e1f1521dc44",
   "metadata": {
    "tags": []
   },
   "outputs": [],
   "source": [
    "df.Date.year # error - AttributeError: 'Series' object has no attribute 'year'"
   ]
  },
  {
   "cell_type": "markdown",
   "id": "b22906b6-c564-4ff5-9080-40aaf887e5c4",
   "metadata": {},
   "source": [
    "## dataframe 에서 timezone 변경"
   ]
  },
  {
   "cell_type": "code",
   "execution_count": null,
   "id": "8cc7f8f0-f249-437e-b66a-8233da2f2011",
   "metadata": {
    "tags": []
   },
   "outputs": [],
   "source": [
    "import pandas as pd\n",
    "\n",
    "# 예제 데이터프레임 생성\n",
    "data = {\n",
    "    'timestamp': ['2023-08-01 10:00:00', '2023-08-15 12:30:00', '2023-08-30 15:45:00'],\n",
    "    'value': [10, 20, 30]\n",
    "}\n",
    "df = pd.DataFrame(data)\n",
    "df['timestamp'] = pd.to_datetime(df['timestamp'])  # 문자열을 날짜로 변환\n",
    "df\n"
   ]
  },
  {
   "cell_type": "code",
   "execution_count": null,
   "id": "99f43243-1824-49f8-ae9c-fcf13782335d",
   "metadata": {
    "tags": []
   },
   "outputs": [],
   "source": [
    "df.timestamp = df.timestamp.dt.tz_localize('Asia/Seoul')  # UTC 시간대로 설정\n",
    "df"
   ]
  },
  {
   "cell_type": "code",
   "execution_count": null,
   "id": "fd08e49d-e711-48e0-9fb1-d1277e8f9e4b",
   "metadata": {
    "tags": []
   },
   "outputs": [],
   "source": [
    "df.info()"
   ]
  },
  {
   "cell_type": "code",
   "execution_count": null,
   "id": "1dcc4425-69ff-493d-a683-0d4db7c81f62",
   "metadata": {
    "tags": []
   },
   "outputs": [],
   "source": [
    "# 시간대 변경\n",
    "new_timezone = 'America/New_York'\n",
    "df['timestamp'] = df['timestamp'].dt.tz_convert(new_timezone)  # 뉴욕 시간대로 변환\n",
    "df"
   ]
  },
  {
   "cell_type": "code",
   "execution_count": null,
   "id": "1966eb01-ac80-4032-89f6-453871ffa2f5",
   "metadata": {
    "tags": []
   },
   "outputs": [],
   "source": [
    "df.info()"
   ]
  }
 ],
 "metadata": {
  "kernelspec": {
   "display_name": "Python 3 (ipykernel)",
   "language": "python",
   "name": "python3"
  },
  "language_info": {
   "codemirror_mode": {
    "name": "ipython",
    "version": 3
   },
   "file_extension": ".py",
   "mimetype": "text/x-python",
   "name": "python",
   "nbconvert_exporter": "python",
   "pygments_lexer": "ipython3",
   "version": "3.10.11"
  }
 },
 "nbformat": 4,
 "nbformat_minor": 5
}
