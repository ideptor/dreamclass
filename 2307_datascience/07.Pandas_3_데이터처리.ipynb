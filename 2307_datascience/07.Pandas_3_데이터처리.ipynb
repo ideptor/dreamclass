{
 "cells": [
  {
   "cell_type": "raw",
   "id": "4a956d99-c8b6-4322-bd38-0bba2f80cbac",
   "metadata": {},
   "source": [
    "안녕하세요.\n",
    "이번시간에는 XXX 에 대해서 살펴보도록 하겠습니다."
   ]
  },
  {
   "cell_type": "markdown",
   "id": "ce189546-8e43-4279-9d9a-8543a7135cf0",
   "metadata": {},
   "source": [
    "# Pandas 데이터 처리\n",
    "- 요약과 통계연산\n",
    "- 함수적용 (map, apply)\n",
    "- agg()\n",
    "- 손실데이터처리\n",
    "- 데이터 결합"
   ]
  },
  {
   "cell_type": "raw",
   "id": "7907ee0d-c432-4f1e-9630-05982777f024",
   "metadata": {},
   "source": [
    "판다스(Pandas) 데이터프레임은 데이터를 효율적으로 요약하고 통계 연산을 수행하는 다양한 기능을 제공합니다.\n",
    "이를 통해 데이터를 빠르게 탐색하고 데이터의 분포, 중심 경향성, 상관 관계 등을 파악할 수 있습니다.\n",
    "주요한 요약 및 통계 연산에 대한 설명은 다음과 같습니다\n",
    "\n",
    "예제코드를 통해서 간략하게 확인해보도록 하겠습니다."
   ]
  },
  {
   "cell_type": "markdown",
   "id": "0d5a1930-7eaa-4cf9-abf4-ab7d4a801184",
   "metadata": {},
   "source": [
    "# 요약과 통계연산"
   ]
  },
  {
   "cell_type": "markdown",
   "id": "9de1fe25-68d7-468f-89bd-932faa4135bd",
   "metadata": {},
   "source": [
    "판다스(Pandas) 데이터프레임은 데이터를 효율적으로 `요약`하고 `통계 연산`을 수행하는 다양한 기능을 제공합니다.  \n",
    "이를 통해 데이터를 빠르게 탐색하고 데이터의 분포, 중심 경향성, 상관 관계 등을 파악할 수 있습니다.  \n",
    "주요한 요약 및 통계 연산에 대한 설명은 다음과 같습니다:\n",
    "\n",
    "1. 데이터프레임의 기본 정보 확인하기\n",
    "\n",
    "|이름|설명|\n",
    "|--|--|\n",
    "|head() 및 tail()| 데이터프레임의 처음 몇 개 또는 마지막 몇 개 행을 확인합니다.|\n",
    "|info()| 데이터프레임의 기본 정보를 확인합니다. 열의 이름, 데이터 타입, 누락된 값의 개수 등을 출력합니다.|\n",
    "|describe()| 데이터프레임의 기술 통계 요약을 제공합니다. 수치형 열에 대한 개수, 평균, 표준 편차, 최소값, 백분위수 등을 출력합니다.|\n",
    "\n",
    "2. 열별 요약 통계 연산\n",
    "\n",
    "|이름|설명|\n",
    "|--|--|\n",
    "|mean(), median(), min(), max()| 각 열의 평균, 중앙값, 최소값, 최대값을 계산합니다.|\n",
    "|sum()| 각 열의 합을 계산합니다.|\n",
    "|std()| 각 열의 표준 편차를 계산합니다.|\n",
    "|count()| 각 열의 비누락값(NaN)이 아닌 값의 개수를 계산합니다.|\n",
    "\n",
    "\n",
    "3. 행별 요약 통계 연산\n",
    "\n",
    "|이름|설명|\n",
    "|--|--|\n",
    "|sum(axis=1)| 각 행의 합을 계산합니다.|\n",
    "|mean(axis=1)| 각 행의 평균을 계산합니다.|\n",
    "|median(axis=1)| 각 행의 중앙값을 계산합니다.|\n"
   ]
  },
  {
   "cell_type": "raw",
   "id": "5485c836-d4ca-422b-8f6c-178aae24eee1",
   "metadata": {},
   "source": [
    "우선 실습을 위한 데이터프레임 객체를 생성해봅니다."
   ]
  },
  {
   "cell_type": "code",
   "execution_count": 1,
   "id": "5a724346-9073-41c4-b12c-2500041dc7fb",
   "metadata": {
    "tags": []
   },
   "outputs": [
    {
     "data": {
      "text/html": [
       "<div>\n",
       "<style scoped>\n",
       "    .dataframe tbody tr th:only-of-type {\n",
       "        vertical-align: middle;\n",
       "    }\n",
       "\n",
       "    .dataframe tbody tr th {\n",
       "        vertical-align: top;\n",
       "    }\n",
       "\n",
       "    .dataframe thead th {\n",
       "        text-align: right;\n",
       "    }\n",
       "</style>\n",
       "<table border=\"1\" class=\"dataframe\">\n",
       "  <thead>\n",
       "    <tr style=\"text-align: right;\">\n",
       "      <th></th>\n",
       "      <th>Name</th>\n",
       "      <th>Age</th>\n",
       "      <th>Gender</th>\n",
       "      <th>Height</th>\n",
       "    </tr>\n",
       "  </thead>\n",
       "  <tbody>\n",
       "    <tr>\n",
       "      <th>0</th>\n",
       "      <td>Alice</td>\n",
       "      <td>NaN</td>\n",
       "      <td>Female</td>\n",
       "      <td>165</td>\n",
       "    </tr>\n",
       "    <tr>\n",
       "      <th>1</th>\n",
       "      <td>Bob</td>\n",
       "      <td>30.0</td>\n",
       "      <td>Male</td>\n",
       "      <td>180</td>\n",
       "    </tr>\n",
       "    <tr>\n",
       "      <th>2</th>\n",
       "      <td>Charlie</td>\n",
       "      <td>35.0</td>\n",
       "      <td>Male</td>\n",
       "      <td>175</td>\n",
       "    </tr>\n",
       "    <tr>\n",
       "      <th>3</th>\n",
       "      <td>David</td>\n",
       "      <td>28.0</td>\n",
       "      <td>Male</td>\n",
       "      <td>170</td>\n",
       "    </tr>\n",
       "  </tbody>\n",
       "</table>\n",
       "</div>"
      ],
      "text/plain": [
       "      Name   Age  Gender  Height\n",
       "0    Alice   NaN  Female     165\n",
       "1      Bob  30.0    Male     180\n",
       "2  Charlie  35.0    Male     175\n",
       "3    David  28.0    Male     170"
      ]
     },
     "execution_count": 1,
     "metadata": {},
     "output_type": "execute_result"
    }
   ],
   "source": [
    "\"\"\"\n",
    "head(), tail(), info(), describe(), \n",
    "\"\"\"\n",
    "import pandas as pd\n",
    "\n",
    "# 데이터 생성\n",
    "data = {'Name': ['Alice', 'Bob', 'Charlie', 'David'],\n",
    "        'Age': [None, 30, 35, 28],\n",
    "        'Gender': ['Female', 'Male', 'Male', 'Male'],\n",
    "        'Height': [165, 180, 175, 170]}\n",
    "df = pd.DataFrame(data)\n",
    "df"
   ]
  },
  {
   "cell_type": "raw",
   "id": "36eab1bd-4a11-4cca-ba0b-1837d815c797",
   "metadata": {},
   "source": [
    "head() 메소드를 사용하면 데이터프레임의 앞쪽에 있는 데이터 들을 확인할 수 있습니다."
   ]
  },
  {
   "cell_type": "code",
   "execution_count": 2,
   "id": "c02eb843-8788-494a-92ef-4fe084691bfd",
   "metadata": {
    "tags": []
   },
   "outputs": [
    {
     "data": {
      "text/html": [
       "<div>\n",
       "<style scoped>\n",
       "    .dataframe tbody tr th:only-of-type {\n",
       "        vertical-align: middle;\n",
       "    }\n",
       "\n",
       "    .dataframe tbody tr th {\n",
       "        vertical-align: top;\n",
       "    }\n",
       "\n",
       "    .dataframe thead th {\n",
       "        text-align: right;\n",
       "    }\n",
       "</style>\n",
       "<table border=\"1\" class=\"dataframe\">\n",
       "  <thead>\n",
       "    <tr style=\"text-align: right;\">\n",
       "      <th></th>\n",
       "      <th>Name</th>\n",
       "      <th>Age</th>\n",
       "      <th>Gender</th>\n",
       "      <th>Height</th>\n",
       "    </tr>\n",
       "  </thead>\n",
       "  <tbody>\n",
       "    <tr>\n",
       "      <th>0</th>\n",
       "      <td>Alice</td>\n",
       "      <td>NaN</td>\n",
       "      <td>Female</td>\n",
       "      <td>165</td>\n",
       "    </tr>\n",
       "    <tr>\n",
       "      <th>1</th>\n",
       "      <td>Bob</td>\n",
       "      <td>30.0</td>\n",
       "      <td>Male</td>\n",
       "      <td>180</td>\n",
       "    </tr>\n",
       "  </tbody>\n",
       "</table>\n",
       "</div>"
      ],
      "text/plain": [
       "    Name   Age  Gender  Height\n",
       "0  Alice   NaN  Female     165\n",
       "1    Bob  30.0    Male     180"
      ]
     },
     "execution_count": 2,
     "metadata": {},
     "output_type": "execute_result"
    }
   ],
   "source": [
    "df.head(2)"
   ]
  },
  {
   "cell_type": "raw",
   "id": "24561206-7f5e-4a32-8b94-4d7f3c134623",
   "metadata": {},
   "source": [
    "head() 메소드를 사용하면 데이터프레임의 뒤쪽에 있는 데이터 들을 확인할 수 있습니다."
   ]
  },
  {
   "cell_type": "code",
   "execution_count": 3,
   "id": "edec105f-a5af-489a-a738-a117728bfb64",
   "metadata": {
    "tags": []
   },
   "outputs": [
    {
     "data": {
      "text/html": [
       "<div>\n",
       "<style scoped>\n",
       "    .dataframe tbody tr th:only-of-type {\n",
       "        vertical-align: middle;\n",
       "    }\n",
       "\n",
       "    .dataframe tbody tr th {\n",
       "        vertical-align: top;\n",
       "    }\n",
       "\n",
       "    .dataframe thead th {\n",
       "        text-align: right;\n",
       "    }\n",
       "</style>\n",
       "<table border=\"1\" class=\"dataframe\">\n",
       "  <thead>\n",
       "    <tr style=\"text-align: right;\">\n",
       "      <th></th>\n",
       "      <th>Name</th>\n",
       "      <th>Age</th>\n",
       "      <th>Gender</th>\n",
       "      <th>Height</th>\n",
       "    </tr>\n",
       "  </thead>\n",
       "  <tbody>\n",
       "    <tr>\n",
       "      <th>2</th>\n",
       "      <td>Charlie</td>\n",
       "      <td>35.0</td>\n",
       "      <td>Male</td>\n",
       "      <td>175</td>\n",
       "    </tr>\n",
       "    <tr>\n",
       "      <th>3</th>\n",
       "      <td>David</td>\n",
       "      <td>28.0</td>\n",
       "      <td>Male</td>\n",
       "      <td>170</td>\n",
       "    </tr>\n",
       "  </tbody>\n",
       "</table>\n",
       "</div>"
      ],
      "text/plain": [
       "      Name   Age Gender  Height\n",
       "2  Charlie  35.0   Male     175\n",
       "3    David  28.0   Male     170"
      ]
     },
     "execution_count": 3,
     "metadata": {},
     "output_type": "execute_result"
    }
   ],
   "source": [
    "df.tail(2)"
   ]
  },
  {
   "cell_type": "raw",
   "id": "0f169793-6b6d-492e-8fa9-32e3a5316187",
   "metadata": {},
   "source": [
    "이번에는 데이터프레임에서의 idxmax, idxmin, cumsum 메소드에 대해서 알아보겠습니다."
   ]
  },
  {
   "cell_type": "code",
   "execution_count": 4,
   "id": "bf8a9b92-f572-47d6-9244-7d87eb94df2b",
   "metadata": {
    "tags": []
   },
   "outputs": [
    {
     "data": {
      "text/html": [
       "<div>\n",
       "<style scoped>\n",
       "    .dataframe tbody tr th:only-of-type {\n",
       "        vertical-align: middle;\n",
       "    }\n",
       "\n",
       "    .dataframe tbody tr th {\n",
       "        vertical-align: top;\n",
       "    }\n",
       "\n",
       "    .dataframe thead th {\n",
       "        text-align: right;\n",
       "    }\n",
       "</style>\n",
       "<table border=\"1\" class=\"dataframe\">\n",
       "  <thead>\n",
       "    <tr style=\"text-align: right;\">\n",
       "      <th></th>\n",
       "      <th>Name</th>\n",
       "      <th>Age</th>\n",
       "      <th>Gender</th>\n",
       "      <th>Height</th>\n",
       "    </tr>\n",
       "  </thead>\n",
       "  <tbody>\n",
       "    <tr>\n",
       "      <th>A</th>\n",
       "      <td>Alice</td>\n",
       "      <td>25</td>\n",
       "      <td>Female</td>\n",
       "      <td>165.0</td>\n",
       "    </tr>\n",
       "    <tr>\n",
       "      <th>B</th>\n",
       "      <td>Bob</td>\n",
       "      <td>30</td>\n",
       "      <td>Male</td>\n",
       "      <td>180.0</td>\n",
       "    </tr>\n",
       "    <tr>\n",
       "      <th>C</th>\n",
       "      <td>Charlie</td>\n",
       "      <td>35</td>\n",
       "      <td>Male</td>\n",
       "      <td>NaN</td>\n",
       "    </tr>\n",
       "    <tr>\n",
       "      <th>D</th>\n",
       "      <td>David</td>\n",
       "      <td>21</td>\n",
       "      <td>Male</td>\n",
       "      <td>170.0</td>\n",
       "    </tr>\n",
       "  </tbody>\n",
       "</table>\n",
       "</div>"
      ],
      "text/plain": [
       "      Name  Age  Gender  Height\n",
       "A    Alice   25  Female   165.0\n",
       "B      Bob   30    Male   180.0\n",
       "C  Charlie   35    Male     NaN\n",
       "D    David   21    Male   170.0"
      ]
     },
     "execution_count": 4,
     "metadata": {},
     "output_type": "execute_result"
    }
   ],
   "source": [
    "\"\"\"\n",
    "idxmax(), idxmin(), cumsum(),\n",
    "\"\"\"\n",
    "import pandas as pd\n",
    "\n",
    "# 데이터 생성\n",
    "data = {'Name': ['Alice', 'Bob', 'Charlie', 'David'],\n",
    "        'Age': [25, 30, 35, 21],\n",
    "        'Gender': ['Female', 'Male', 'Male', 'Male'],\n",
    "        'Height': [165, 180, None, 170]}\n",
    "df = pd.DataFrame(data, index=list(\"ABCD\"))\n",
    "\n",
    "\n",
    "df"
   ]
  },
  {
   "cell_type": "raw",
   "id": "0fb63d29-1436-440c-a1e5-da334220be15",
   "metadata": {},
   "source": [
    "이번에는 idxmax() 에 대해서 알아보도록 하겠습니다."
   ]
  },
  {
   "cell_type": "code",
   "execution_count": 5,
   "id": "cb43d095-722b-4bb2-81a4-e689dec226e1",
   "metadata": {
    "tags": []
   },
   "outputs": [
    {
     "name": "stdout",
     "output_type": "stream",
     "text": [
      "C    35\n",
      "B    30\n",
      "A    25\n",
      "D    21\n",
      "Name: Age, dtype: int64\n"
     ]
    },
    {
     "data": {
      "text/plain": [
       "'C'"
      ]
     },
     "execution_count": 5,
     "metadata": {},
     "output_type": "execute_result"
    }
   ],
   "source": [
    "print(df.Age.sort_values(ascending=False))\n",
    "df.Age.idxmax()"
   ]
  },
  {
   "cell_type": "raw",
   "id": "bb885c7a-e6e1-405c-911b-73a7c7e4082e",
   "metadata": {},
   "source": [
    "위의 예제 코드의 결과를 보면 Age 컬럼에서 가장 큰 값인 35의 index 인 \"C\"를 얻을 수 있습니다."
   ]
  },
  {
   "cell_type": "raw",
   "id": "265730d7-0ba4-41bd-bc1a-d99438c41234",
   "metadata": {
    "tags": []
   },
   "source": [
    "이번에는 idxmin() 에 대해서 알아보도록 하겠습니다."
   ]
  },
  {
   "cell_type": "code",
   "execution_count": 6,
   "id": "9262329e-9b1b-4382-87ad-d949c25d2652",
   "metadata": {
    "tags": []
   },
   "outputs": [
    {
     "name": "stdout",
     "output_type": "stream",
     "text": [
      "D    21\n",
      "A    25\n",
      "B    30\n",
      "C    35\n",
      "Name: Age, dtype: int64\n"
     ]
    },
    {
     "data": {
      "text/plain": [
       "'D'"
      ]
     },
     "execution_count": 6,
     "metadata": {},
     "output_type": "execute_result"
    }
   ],
   "source": [
    "print(df.Age.sort_values())\n",
    "df.Age.idxmin()"
   ]
  },
  {
   "cell_type": "raw",
   "id": "dfdc51eb-f32d-4c5d-9d5c-a6b2efc73711",
   "metadata": {},
   "source": [
    "위의 예제 코드의 결과를 보면 Age 컬럼에서 가장 작은 값인 21의 index 인 \"D\"를 얻을 수 있습니다."
   ]
  },
  {
   "cell_type": "raw",
   "id": "da982c4a-767a-4427-a35f-b33463664b94",
   "metadata": {},
   "source": [
    "이번에는 누적합을 구할때 사용하는 cumsum() 메소드에 대해서 알아보도록 하겠습니다."
   ]
  },
  {
   "cell_type": "code",
   "execution_count": 7,
   "id": "4f72890f-43e8-476c-b283-8efc36783796",
   "metadata": {
    "tags": []
   },
   "outputs": [
    {
     "data": {
      "text/html": [
       "<div>\n",
       "<style scoped>\n",
       "    .dataframe tbody tr th:only-of-type {\n",
       "        vertical-align: middle;\n",
       "    }\n",
       "\n",
       "    .dataframe tbody tr th {\n",
       "        vertical-align: top;\n",
       "    }\n",
       "\n",
       "    .dataframe thead th {\n",
       "        text-align: right;\n",
       "    }\n",
       "</style>\n",
       "<table border=\"1\" class=\"dataframe\">\n",
       "  <thead>\n",
       "    <tr style=\"text-align: right;\">\n",
       "      <th></th>\n",
       "      <th>Age</th>\n",
       "      <th>cumsum</th>\n",
       "    </tr>\n",
       "  </thead>\n",
       "  <tbody>\n",
       "    <tr>\n",
       "      <th>A</th>\n",
       "      <td>25</td>\n",
       "      <td>25</td>\n",
       "    </tr>\n",
       "    <tr>\n",
       "      <th>B</th>\n",
       "      <td>30</td>\n",
       "      <td>55</td>\n",
       "    </tr>\n",
       "    <tr>\n",
       "      <th>C</th>\n",
       "      <td>35</td>\n",
       "      <td>90</td>\n",
       "    </tr>\n",
       "    <tr>\n",
       "      <th>D</th>\n",
       "      <td>21</td>\n",
       "      <td>111</td>\n",
       "    </tr>\n",
       "  </tbody>\n",
       "</table>\n",
       "</div>"
      ],
      "text/plain": [
       "   Age  cumsum\n",
       "A   25      25\n",
       "B   30      55\n",
       "C   35      90\n",
       "D   21     111"
      ]
     },
     "execution_count": 7,
     "metadata": {},
     "output_type": "execute_result"
    }
   ],
   "source": [
    "df1 = pd.concat([df.Age, df.Age.cumsum()], axis=1)\n",
    "df1.columns = [\"Age\", \"cumsum\"]\n",
    "df1"
   ]
  },
  {
   "cell_type": "raw",
   "id": "83fd29ae-66c5-4eb6-85df-dfd72750facd",
   "metadata": {},
   "source": [
    "위의 코드는 Age 열의 시리즈와 Age에서 cumsum()을 호출한 결과로 나오는 시리즈를\n",
    "판다스의 concat 함수를 통해 열방향으로 결합한후\n",
    "그 결과롤 생성된 데이터 프레임의 이름을 Age, cumsum으로 변경해준 것입니다.\n",
    "결과를 보면 cumsum은 Age에 대한 누적합이 기록된것을 확인할 수 잇습니다."
   ]
  },
  {
   "cell_type": "raw",
   "id": "67355611-f982-47af-827e-780f1cd65ce6",
   "metadata": {},
   "source": [
    "수치형 데이터로만 구성되어 있는 데이터 프레임 객체에 idxmax()를 호출한 경우에는\n",
    "각 컬럼별로 idxmax() 값이 할당된 Series객체를 리턴합니다."
   ]
  },
  {
   "cell_type": "code",
   "execution_count": 8,
   "id": "1cd92595-0b67-46d5-b3ed-8176939ccd21",
   "metadata": {
    "tags": []
   },
   "outputs": [
    {
     "data": {
      "text/html": [
       "<div>\n",
       "<style scoped>\n",
       "    .dataframe tbody tr th:only-of-type {\n",
       "        vertical-align: middle;\n",
       "    }\n",
       "\n",
       "    .dataframe tbody tr th {\n",
       "        vertical-align: top;\n",
       "    }\n",
       "\n",
       "    .dataframe thead th {\n",
       "        text-align: right;\n",
       "    }\n",
       "</style>\n",
       "<table border=\"1\" class=\"dataframe\">\n",
       "  <thead>\n",
       "    <tr style=\"text-align: right;\">\n",
       "      <th></th>\n",
       "      <th>Age</th>\n",
       "      <th>Height</th>\n",
       "    </tr>\n",
       "  </thead>\n",
       "  <tbody>\n",
       "    <tr>\n",
       "      <th>A</th>\n",
       "      <td>25</td>\n",
       "      <td>165.0</td>\n",
       "    </tr>\n",
       "    <tr>\n",
       "      <th>B</th>\n",
       "      <td>30</td>\n",
       "      <td>180.0</td>\n",
       "    </tr>\n",
       "    <tr>\n",
       "      <th>C</th>\n",
       "      <td>35</td>\n",
       "      <td>NaN</td>\n",
       "    </tr>\n",
       "    <tr>\n",
       "      <th>D</th>\n",
       "      <td>21</td>\n",
       "      <td>170.0</td>\n",
       "    </tr>\n",
       "  </tbody>\n",
       "</table>\n",
       "</div>"
      ],
      "text/plain": [
       "   Age  Height\n",
       "A   25   165.0\n",
       "B   30   180.0\n",
       "C   35     NaN\n",
       "D   21   170.0"
      ]
     },
     "execution_count": 8,
     "metadata": {},
     "output_type": "execute_result"
    }
   ],
   "source": [
    "# 수치형 데이터로만 이루어진 Dataframe 에도 적용 가능\n",
    "df1= df[[\"Age\", \"Height\"]]\n",
    "df1"
   ]
  },
  {
   "cell_type": "code",
   "execution_count": 9,
   "id": "2e4d0fea-ebca-464b-a501-8e73d13f49af",
   "metadata": {
    "tags": []
   },
   "outputs": [
    {
     "data": {
      "text/plain": [
       "Age       C\n",
       "Height    B\n",
       "dtype: object"
      ]
     },
     "execution_count": 9,
     "metadata": {},
     "output_type": "execute_result"
    }
   ],
   "source": [
    "df1.idxmax()"
   ]
  },
  {
   "cell_type": "raw",
   "id": "d5646a0f-de23-464e-a9c9-59a5f063dbe6",
   "metadata": {},
   "source": [
    "위의 예제에서는 Age의 경우 가장큰 값이 35가 있는 C가\n",
    "Height에는 가장큰 값이 180이 있는 \"B\" 가 \n",
    "해당 컬럼명을 인덱스로한 value 에 시리즈로 생성된 것을 볼 수 있습니다."
   ]
  },
  {
   "cell_type": "raw",
   "id": "6c068b0e-51ae-41a2-ba59-1d6d97a5c25a",
   "metadata": {},
   "source": [
    "만약 수치형 데이터 이외에 다른 타입의 데이터가 포함되어 있는\n",
    "데이터프레임에서 idxmax()를 호출하면 아래와 같은 에러메시지가 나옵ㄴ디ㅏ."
   ]
  },
  {
   "cell_type": "code",
   "execution_count": 10,
   "id": "6b5f6b04-0fb4-416a-9765-af812eaf1413",
   "metadata": {
    "tags": []
   },
   "outputs": [
    {
     "ename": "TypeError",
     "evalue": "reduction operation 'argmax' not allowed for this dtype",
     "output_type": "error",
     "traceback": [
      "\u001b[0;31m---------------------------------------------------------------------------\u001b[0m",
      "\u001b[0;31mTypeError\u001b[0m                                 Traceback (most recent call last)",
      "Cell \u001b[0;32mIn[10], line 1\u001b[0m\n\u001b[0;32m----> 1\u001b[0m \u001b[43mdf\u001b[49m\u001b[38;5;241;43m.\u001b[39;49m\u001b[43midxmax\u001b[49m\u001b[43m(\u001b[49m\u001b[43m)\u001b[49m\n",
      "File \u001b[0;32m~/jupyter/venv/lib/python3.9/site-packages/pandas/core/frame.py:11021\u001b[0m, in \u001b[0;36mDataFrame.idxmax\u001b[0;34m(self, axis, skipna, numeric_only)\u001b[0m\n\u001b[1;32m  11018\u001b[0m \u001b[38;5;28;01melse\u001b[39;00m:\n\u001b[1;32m  11019\u001b[0m     data \u001b[38;5;241m=\u001b[39m \u001b[38;5;28mself\u001b[39m\n\u001b[0;32m> 11021\u001b[0m res \u001b[38;5;241m=\u001b[39m \u001b[43mdata\u001b[49m\u001b[38;5;241;43m.\u001b[39;49m\u001b[43m_reduce\u001b[49m\u001b[43m(\u001b[49m\n\u001b[1;32m  11022\u001b[0m \u001b[43m    \u001b[49m\u001b[43mnanops\u001b[49m\u001b[38;5;241;43m.\u001b[39;49m\u001b[43mnanargmax\u001b[49m\u001b[43m,\u001b[49m\u001b[43m \u001b[49m\u001b[38;5;124;43m\"\u001b[39;49m\u001b[38;5;124;43margmax\u001b[39;49m\u001b[38;5;124;43m\"\u001b[39;49m\u001b[43m,\u001b[49m\u001b[43m \u001b[49m\u001b[43maxis\u001b[49m\u001b[38;5;241;43m=\u001b[39;49m\u001b[43maxis\u001b[49m\u001b[43m,\u001b[49m\u001b[43m \u001b[49m\u001b[43mskipna\u001b[49m\u001b[38;5;241;43m=\u001b[39;49m\u001b[43mskipna\u001b[49m\u001b[43m,\u001b[49m\u001b[43m \u001b[49m\u001b[43mnumeric_only\u001b[49m\u001b[38;5;241;43m=\u001b[39;49m\u001b[38;5;28;43;01mFalse\u001b[39;49;00m\n\u001b[1;32m  11023\u001b[0m \u001b[43m\u001b[49m\u001b[43m)\u001b[49m\n\u001b[1;32m  11024\u001b[0m indices \u001b[38;5;241m=\u001b[39m res\u001b[38;5;241m.\u001b[39m_values\n\u001b[1;32m  11026\u001b[0m \u001b[38;5;66;03m# indices will always be np.ndarray since axis is not None and\u001b[39;00m\n\u001b[1;32m  11027\u001b[0m \u001b[38;5;66;03m# values is a 2d array for DataFrame\u001b[39;00m\n\u001b[1;32m  11028\u001b[0m \u001b[38;5;66;03m# error: Item \"int\" of \"Union[int, Any]\" has no attribute \"__iter__\"\u001b[39;00m\n",
      "File \u001b[0;32m~/jupyter/venv/lib/python3.9/site-packages/pandas/core/frame.py:10856\u001b[0m, in \u001b[0;36mDataFrame._reduce\u001b[0;34m(self, op, name, axis, skipna, numeric_only, filter_type, **kwds)\u001b[0m\n\u001b[1;32m  10852\u001b[0m ignore_failures \u001b[38;5;241m=\u001b[39m numeric_only \u001b[38;5;129;01mis\u001b[39;00m \u001b[38;5;28;01mNone\u001b[39;00m\n\u001b[1;32m  10854\u001b[0m \u001b[38;5;66;03m# After possibly _get_data and transposing, we are now in the\u001b[39;00m\n\u001b[1;32m  10855\u001b[0m \u001b[38;5;66;03m#  simple case where we can use BlockManager.reduce\u001b[39;00m\n\u001b[0;32m> 10856\u001b[0m res, _ \u001b[38;5;241m=\u001b[39m \u001b[43mdf\u001b[49m\u001b[38;5;241;43m.\u001b[39;49m\u001b[43m_mgr\u001b[49m\u001b[38;5;241;43m.\u001b[39;49m\u001b[43mreduce\u001b[49m\u001b[43m(\u001b[49m\u001b[43mblk_func\u001b[49m\u001b[43m,\u001b[49m\u001b[43m \u001b[49m\u001b[43mignore_failures\u001b[49m\u001b[38;5;241;43m=\u001b[39;49m\u001b[43mignore_failures\u001b[49m\u001b[43m)\u001b[49m\n\u001b[1;32m  10857\u001b[0m out \u001b[38;5;241m=\u001b[39m df\u001b[38;5;241m.\u001b[39m_constructor(res)\u001b[38;5;241m.\u001b[39miloc[\u001b[38;5;241m0\u001b[39m]\n\u001b[1;32m  10858\u001b[0m \u001b[38;5;28;01mif\u001b[39;00m out_dtype \u001b[38;5;129;01mis\u001b[39;00m \u001b[38;5;129;01mnot\u001b[39;00m \u001b[38;5;28;01mNone\u001b[39;00m:\n",
      "File \u001b[0;32m~/jupyter/venv/lib/python3.9/site-packages/pandas/core/internals/managers.py:1569\u001b[0m, in \u001b[0;36mBlockManager.reduce\u001b[0;34m(self, func, ignore_failures)\u001b[0m\n\u001b[1;32m   1567\u001b[0m res_blocks: \u001b[38;5;28mlist\u001b[39m[Block] \u001b[38;5;241m=\u001b[39m []\n\u001b[1;32m   1568\u001b[0m \u001b[38;5;28;01mfor\u001b[39;00m blk \u001b[38;5;129;01min\u001b[39;00m \u001b[38;5;28mself\u001b[39m\u001b[38;5;241m.\u001b[39mblocks:\n\u001b[0;32m-> 1569\u001b[0m     nbs \u001b[38;5;241m=\u001b[39m \u001b[43mblk\u001b[49m\u001b[38;5;241;43m.\u001b[39;49m\u001b[43mreduce\u001b[49m\u001b[43m(\u001b[49m\u001b[43mfunc\u001b[49m\u001b[43m,\u001b[49m\u001b[43m \u001b[49m\u001b[43mignore_failures\u001b[49m\u001b[43m)\u001b[49m\n\u001b[1;32m   1570\u001b[0m     res_blocks\u001b[38;5;241m.\u001b[39mextend(nbs)\n\u001b[1;32m   1572\u001b[0m index \u001b[38;5;241m=\u001b[39m Index([\u001b[38;5;28;01mNone\u001b[39;00m])  \u001b[38;5;66;03m# placeholder\u001b[39;00m\n",
      "File \u001b[0;32m~/jupyter/venv/lib/python3.9/site-packages/pandas/core/internals/blocks.py:136\u001b[0m, in \u001b[0;36mmaybe_split.<locals>.newfunc\u001b[0;34m(self, *args, **kwargs)\u001b[0m\n\u001b[1;32m    133\u001b[0m     \u001b[38;5;28;01mreturn\u001b[39;00m meth(\u001b[38;5;28mself\u001b[39m, \u001b[38;5;241m*\u001b[39margs, \u001b[38;5;241m*\u001b[39m\u001b[38;5;241m*\u001b[39mkwargs)\n\u001b[1;32m    134\u001b[0m \u001b[38;5;28;01melse\u001b[39;00m:\n\u001b[1;32m    135\u001b[0m     \u001b[38;5;66;03m# Split and operate column-by-column\u001b[39;00m\n\u001b[0;32m--> 136\u001b[0m     \u001b[38;5;28;01mreturn\u001b[39;00m \u001b[38;5;28;43mself\u001b[39;49m\u001b[38;5;241;43m.\u001b[39;49m\u001b[43msplit_and_operate\u001b[49m\u001b[43m(\u001b[49m\u001b[43mmeth\u001b[49m\u001b[43m,\u001b[49m\u001b[43m \u001b[49m\u001b[38;5;241;43m*\u001b[39;49m\u001b[43margs\u001b[49m\u001b[43m,\u001b[49m\u001b[43m \u001b[49m\u001b[38;5;241;43m*\u001b[39;49m\u001b[38;5;241;43m*\u001b[39;49m\u001b[43mkwargs\u001b[49m\u001b[43m)\u001b[49m\n",
      "File \u001b[0;32m~/jupyter/venv/lib/python3.9/site-packages/pandas/core/internals/blocks.py:432\u001b[0m, in \u001b[0;36mBlock.split_and_operate\u001b[0;34m(self, func, *args, **kwargs)\u001b[0m\n\u001b[1;32m    430\u001b[0m res_blocks \u001b[38;5;241m=\u001b[39m []\n\u001b[1;32m    431\u001b[0m \u001b[38;5;28;01mfor\u001b[39;00m nb \u001b[38;5;129;01min\u001b[39;00m \u001b[38;5;28mself\u001b[39m\u001b[38;5;241m.\u001b[39m_split():\n\u001b[0;32m--> 432\u001b[0m     rbs \u001b[38;5;241m=\u001b[39m \u001b[43mfunc\u001b[49m\u001b[43m(\u001b[49m\u001b[43mnb\u001b[49m\u001b[43m,\u001b[49m\u001b[43m \u001b[49m\u001b[38;5;241;43m*\u001b[39;49m\u001b[43margs\u001b[49m\u001b[43m,\u001b[49m\u001b[43m \u001b[49m\u001b[38;5;241;43m*\u001b[39;49m\u001b[38;5;241;43m*\u001b[39;49m\u001b[43mkwargs\u001b[49m\u001b[43m)\u001b[49m\n\u001b[1;32m    433\u001b[0m     res_blocks\u001b[38;5;241m.\u001b[39mextend(rbs)\n\u001b[1;32m    434\u001b[0m \u001b[38;5;28;01mreturn\u001b[39;00m res_blocks\n",
      "File \u001b[0;32m~/jupyter/venv/lib/python3.9/site-packages/pandas/core/internals/blocks.py:2036\u001b[0m, in \u001b[0;36mObjectBlock.reduce\u001b[0;34m(self, func, ignore_failures)\u001b[0m\n\u001b[1;32m   2033\u001b[0m \u001b[38;5;28;01massert\u001b[39;00m \u001b[38;5;28mself\u001b[39m\u001b[38;5;241m.\u001b[39mndim \u001b[38;5;241m==\u001b[39m \u001b[38;5;241m2\u001b[39m\n\u001b[1;32m   2035\u001b[0m \u001b[38;5;28;01mtry\u001b[39;00m:\n\u001b[0;32m-> 2036\u001b[0m     res \u001b[38;5;241m=\u001b[39m \u001b[43mfunc\u001b[49m\u001b[43m(\u001b[49m\u001b[38;5;28;43mself\u001b[39;49m\u001b[38;5;241;43m.\u001b[39;49m\u001b[43mvalues\u001b[49m\u001b[43m)\u001b[49m\n\u001b[1;32m   2037\u001b[0m \u001b[38;5;28;01mexcept\u001b[39;00m \u001b[38;5;167;01mTypeError\u001b[39;00m:\n\u001b[1;32m   2038\u001b[0m     \u001b[38;5;28;01mif\u001b[39;00m \u001b[38;5;129;01mnot\u001b[39;00m ignore_failures:\n",
      "File \u001b[0;32m~/jupyter/venv/lib/python3.9/site-packages/pandas/core/frame.py:10827\u001b[0m, in \u001b[0;36mDataFrame._reduce.<locals>.blk_func\u001b[0;34m(values, axis)\u001b[0m\n\u001b[1;32m  10825\u001b[0m     \u001b[38;5;28;01mreturn\u001b[39;00m values\u001b[38;5;241m.\u001b[39m_reduce(name, skipna\u001b[38;5;241m=\u001b[39mskipna, \u001b[38;5;241m*\u001b[39m\u001b[38;5;241m*\u001b[39mkwds)\n\u001b[1;32m  10826\u001b[0m \u001b[38;5;28;01melse\u001b[39;00m:\n\u001b[0;32m> 10827\u001b[0m     \u001b[38;5;28;01mreturn\u001b[39;00m \u001b[43mop\u001b[49m\u001b[43m(\u001b[49m\u001b[43mvalues\u001b[49m\u001b[43m,\u001b[49m\u001b[43m \u001b[49m\u001b[43maxis\u001b[49m\u001b[38;5;241;43m=\u001b[39;49m\u001b[43maxis\u001b[49m\u001b[43m,\u001b[49m\u001b[43m \u001b[49m\u001b[43mskipna\u001b[49m\u001b[38;5;241;43m=\u001b[39;49m\u001b[43mskipna\u001b[49m\u001b[43m,\u001b[49m\u001b[43m \u001b[49m\u001b[38;5;241;43m*\u001b[39;49m\u001b[38;5;241;43m*\u001b[39;49m\u001b[43mkwds\u001b[49m\u001b[43m)\u001b[49m\n",
      "File \u001b[0;32m~/jupyter/venv/lib/python3.9/site-packages/pandas/core/nanops.py:88\u001b[0m, in \u001b[0;36mdisallow.__call__.<locals>._f\u001b[0;34m(*args, **kwargs)\u001b[0m\n\u001b[1;32m     86\u001b[0m \u001b[38;5;28;01mif\u001b[39;00m \u001b[38;5;28many\u001b[39m(\u001b[38;5;28mself\u001b[39m\u001b[38;5;241m.\u001b[39mcheck(obj) \u001b[38;5;28;01mfor\u001b[39;00m obj \u001b[38;5;129;01min\u001b[39;00m obj_iter):\n\u001b[1;32m     87\u001b[0m     f_name \u001b[38;5;241m=\u001b[39m f\u001b[38;5;241m.\u001b[39m\u001b[38;5;18m__name__\u001b[39m\u001b[38;5;241m.\u001b[39mreplace(\u001b[38;5;124m\"\u001b[39m\u001b[38;5;124mnan\u001b[39m\u001b[38;5;124m\"\u001b[39m, \u001b[38;5;124m\"\u001b[39m\u001b[38;5;124m\"\u001b[39m)\n\u001b[0;32m---> 88\u001b[0m     \u001b[38;5;28;01mraise\u001b[39;00m \u001b[38;5;167;01mTypeError\u001b[39;00m(\n\u001b[1;32m     89\u001b[0m         \u001b[38;5;124mf\u001b[39m\u001b[38;5;124m\"\u001b[39m\u001b[38;5;124mreduction operation \u001b[39m\u001b[38;5;124m'\u001b[39m\u001b[38;5;132;01m{\u001b[39;00mf_name\u001b[38;5;132;01m}\u001b[39;00m\u001b[38;5;124m'\u001b[39m\u001b[38;5;124m not allowed for this dtype\u001b[39m\u001b[38;5;124m\"\u001b[39m\n\u001b[1;32m     90\u001b[0m     )\n\u001b[1;32m     91\u001b[0m \u001b[38;5;28;01mtry\u001b[39;00m:\n\u001b[1;32m     92\u001b[0m     \u001b[38;5;28;01mwith\u001b[39;00m np\u001b[38;5;241m.\u001b[39merrstate(invalid\u001b[38;5;241m=\u001b[39m\u001b[38;5;124m\"\u001b[39m\u001b[38;5;124mignore\u001b[39m\u001b[38;5;124m\"\u001b[39m):\n",
      "\u001b[0;31mTypeError\u001b[0m: reduction operation 'argmax' not allowed for this dtype"
     ]
    }
   ],
   "source": [
    "df.idxmax()"
   ]
  },
  {
   "cell_type": "raw",
   "id": "53a98666-34a3-4a33-ab77-3c7f299f4b53",
   "metadata": {},
   "source": [
    "판다스의 시리즈에서는 \n",
    "가장 높은 값의 순서 인덱스를 확인할 수 있는\n",
    "argmax() 메소드를 제공하는 반면"
   ]
  },
  {
   "cell_type": "code",
   "execution_count": null,
   "id": "c7fc781b-939f-40f5-b5f8-6442640b4007",
   "metadata": {
    "tags": []
   },
   "outputs": [],
   "source": [
    "df.Age.argmax()"
   ]
  },
  {
   "cell_type": "raw",
   "id": "abb4afc2-6cb4-477b-85a4-83dd2e714f13",
   "metadata": {},
   "source": [
    "데이터 프레임에서는 argmax()는 제공하지 않습니다."
   ]
  },
  {
   "cell_type": "raw",
   "id": "65c6cc06-2f41-4605-91e9-795ffd065eff",
   "metadata": {},
   "source": [
    "idxmax()를 활용하여 가장 나이가 많은 사람의 이름을 확인하는 방법을 살펴보겠습니다."
   ]
  },
  {
   "cell_type": "code",
   "execution_count": 11,
   "id": "c0562cb1-d680-4739-8364-578602f00f00",
   "metadata": {
    "tags": []
   },
   "outputs": [
    {
     "data": {
      "text/plain": [
       "'Charlie'"
      ]
     },
     "execution_count": 11,
     "metadata": {},
     "output_type": "execute_result"
    }
   ],
   "source": [
    "# 가장 나이가 많은 사람은 누구인가?\n",
    "df.loc[df.Age.idxmax(), \"Name\"]"
   ]
  },
  {
   "cell_type": "raw",
   "id": "c02994ba-8644-43e0-b946-4cb92f2f3623",
   "metadata": {},
   "source": [
    "df.Age.idxmax()는 Age 컬럼에서 가장 큰 수의 인덱스를 반환하기 때문에\n",
    "df.loc[] 인덱서에 해당 행의 라벨과 확인하고자 하는 정보가 있는 컬럼인 \"Name\"을 입력해주면\n",
    "나이가 가장 많은 행의 Name 컬럼 값\n",
    "즉 나이가 가장 많은 사람의 이름을 확인할 수 있습니다."
   ]
  },
  {
   "cell_type": "raw",
   "id": "3cae6ee4-fe22-4aae-9a05-ff2a4015ea76",
   "metadata": {},
   "source": [
    "그리고 다음과 같은 방법도 가능합니다.\n",
    ".loc 인덱서의 경우 대괄호 안에 행을 입력해서\n",
    "해당 행의 시리즈를 얻고 해당 시리즈의 Name 인덱스의 값이 Chalie 를 리턴하는 절차입니다."
   ]
  },
  {
   "cell_type": "code",
   "execution_count": 12,
   "id": "32e89797-1f1a-4019-8f0c-7c5170a42afa",
   "metadata": {
    "tags": []
   },
   "outputs": [
    {
     "data": {
      "text/plain": [
       "'Charlie'"
      ]
     },
     "execution_count": 12,
     "metadata": {},
     "output_type": "execute_result"
    }
   ],
   "source": [
    "df.loc[df.Age.idxmax()][\"Name\"]"
   ]
  },
  {
   "cell_type": "raw",
   "id": "5f5119b2-e6f2-42c9-887e-97bb3ce48d4f",
   "metadata": {},
   "source": [
    "그리고 시리지의 경우에도 인덱스의 값을 가져오기 위하여 .하고 인덱스명을 입력하면\n",
    "해당 시리즈 객체의 속성에 접근 하는 방식으로 가능합니다."
   ]
  },
  {
   "cell_type": "code",
   "execution_count": 13,
   "id": "80dd4200-ec49-4906-b6d6-bb7a050fc4df",
   "metadata": {
    "tags": []
   },
   "outputs": [
    {
     "data": {
      "text/plain": [
       "'Charlie'"
      ]
     },
     "execution_count": 13,
     "metadata": {},
     "output_type": "execute_result"
    }
   ],
   "source": [
    "df.loc[df.Age.idxmax()].Name"
   ]
  },
  {
   "cell_type": "raw",
   "id": "1f589371-56bf-4b11-b3a1-ac55c7e10de1",
   "metadata": {},
   "source": [
    "위에서 보신바와 같이 DataFrame 에서 원하는 데이터를\n",
    "조회하는 방법은 다양하기 때문에\n",
    "각 방식에 대해서 데이터가 어떤 방식으로 어떤 데이터 타입으로 연결되는지를 이해하고\n",
    "자신에게 가장 편한 방법으로 익혀두시면 좋습니다."
   ]
  },
  {
   "cell_type": "raw",
   "id": "312bc60a-dbad-4362-bd1b-a58293ef0c94",
   "metadata": {},
   "source": [
    "판다스(Pandas)의 DataFrame에서 map() 메서드는 Series에 적용된 값에 대해 \n",
    "함수를 사용하여 각 값에 대한 변환을 수행하는 기능을 제공합니다. \n",
    "map() 메서드는 주로 특정 열의 값을 다른 값으로 매핑하거나 변환하는데 사용됩니다."
   ]
  },
  {
   "cell_type": "markdown",
   "id": "2a19e4ab-acdd-4f04-b67c-eb48f8063b66",
   "metadata": {},
   "source": [
    "# 함수적용 (map)\n",
    "\n",
    "판다스(Pandas)의 DataFrame에서 `map()` 메서드는 Series에 적용된 값에 대해   \n",
    "지정된 사전(dict)이나 함수를 사용하여 각 값에 대한 변환을 수행하는 기능을 제공합니다.   \n",
    "map() 메서드는 주로 특정 열의 값을 다른 값으로 매핑하거나 변환하는데 사용됩니다."
   ]
  },
  {
   "cell_type": "raw",
   "id": "93c4672e-f1b5-49c5-b5f4-26d48e5be9ba",
   "metadata": {},
   "source": [
    "Gender 컬럼의 Female은 0, Male은 1로 변환을 해야 하는 미션이 생겼다고 가정하고,\n",
    "map을 통해서 미션을 수행하는 예제를  살펴보도록 하겠습니다.\n",
    "우선 실습을 위한 데이터 프레임을 만들어 보겠습니다."
   ]
  },
  {
   "cell_type": "code",
   "execution_count": 14,
   "id": "9c3c89d9-12fc-4bef-901b-b1d18666065f",
   "metadata": {
    "tags": []
   },
   "outputs": [
    {
     "data": {
      "text/html": [
       "<div>\n",
       "<style scoped>\n",
       "    .dataframe tbody tr th:only-of-type {\n",
       "        vertical-align: middle;\n",
       "    }\n",
       "\n",
       "    .dataframe tbody tr th {\n",
       "        vertical-align: top;\n",
       "    }\n",
       "\n",
       "    .dataframe thead th {\n",
       "        text-align: right;\n",
       "    }\n",
       "</style>\n",
       "<table border=\"1\" class=\"dataframe\">\n",
       "  <thead>\n",
       "    <tr style=\"text-align: right;\">\n",
       "      <th></th>\n",
       "      <th>Name</th>\n",
       "      <th>Age</th>\n",
       "      <th>Gender</th>\n",
       "      <th>Height</th>\n",
       "    </tr>\n",
       "  </thead>\n",
       "  <tbody>\n",
       "    <tr>\n",
       "      <th>A</th>\n",
       "      <td>Alice</td>\n",
       "      <td>25.0</td>\n",
       "      <td>Female</td>\n",
       "      <td>165</td>\n",
       "    </tr>\n",
       "    <tr>\n",
       "      <th>B</th>\n",
       "      <td>Bob</td>\n",
       "      <td>30.0</td>\n",
       "      <td>Male</td>\n",
       "      <td>180</td>\n",
       "    </tr>\n",
       "    <tr>\n",
       "      <th>C</th>\n",
       "      <td>Charlie</td>\n",
       "      <td>35.0</td>\n",
       "      <td>Male</td>\n",
       "      <td>175</td>\n",
       "    </tr>\n",
       "    <tr>\n",
       "      <th>D</th>\n",
       "      <td>David</td>\n",
       "      <td>NaN</td>\n",
       "      <td>Male</td>\n",
       "      <td>170</td>\n",
       "    </tr>\n",
       "  </tbody>\n",
       "</table>\n",
       "</div>"
      ],
      "text/plain": [
       "      Name   Age  Gender  Height\n",
       "A    Alice  25.0  Female     165\n",
       "B      Bob  30.0    Male     180\n",
       "C  Charlie  35.0    Male     175\n",
       "D    David   NaN    Male     170"
      ]
     },
     "execution_count": 14,
     "metadata": {},
     "output_type": "execute_result"
    }
   ],
   "source": [
    "# '성별' 열의 값에 매핑을 적용하여 숫자로 변환\n",
    "#  Gender 컬럼의 Female은 0, Male은 1로 변환\n",
    "\n",
    "import pandas as pd\n",
    "\n",
    "# 데이터 생성\n",
    "data = {'Name': ['Alice', 'Bob', 'Charlie', 'David'],\n",
    "        'Age': [25, 30, 35, None],\n",
    "        'Gender': ['Female', 'Male', 'Male', 'Male'],\n",
    "        'Height': [165, 180, 175, 170]\n",
    "}\n",
    "\n",
    "df = pd.DataFrame(data, index=list(\"ABCD\"))\n",
    "df\n"
   ]
  },
  {
   "cell_type": "raw",
   "id": "fd1eaee6-5d67-4347-8bc0-8520debf816c",
   "metadata": {},
   "source": [
    "우선 딕셔너리를 활용해보도록 하겠습니다."
   ]
  },
  {
   "cell_type": "code",
   "execution_count": 15,
   "id": "c70cb119-2aae-4fb9-a9e7-4fb1bad0c83c",
   "metadata": {
    "tags": []
   },
   "outputs": [],
   "source": [
    "gender_mapping = {'Female': 0, 'Male': 1}"
   ]
  },
  {
   "cell_type": "raw",
   "id": "0ac5460b-3924-4656-bbcd-e8285999e72e",
   "metadata": {},
   "source": [
    "우선 파이썬의 딕셔너리에 대해서 잠시 살펴보도록 하겠습니다."
   ]
  },
  {
   "cell_type": "code",
   "execution_count": 16,
   "id": "6adbfc48-39ee-4654-978c-72e776cde553",
   "metadata": {
    "tags": []
   },
   "outputs": [
    {
     "name": "stdout",
     "output_type": "stream",
     "text": [
      "0\n",
      "0\n"
     ]
    }
   ],
   "source": [
    "# [참고] dictionary 활용\n",
    "x = \"Female\"\n",
    "print(gender_mapping[x])\n",
    "print(gender_mapping.get(x))"
   ]
  },
  {
   "cell_type": "raw",
   "id": "e2faa573-8fd8-4932-ba15-a5d286364c31",
   "metadata": {},
   "source": [
    "파이썬의 딕셔너리는 대괄호에 키를 넣어주거나\n",
    ".get 함수를 통해서 키를 넣어주는 방식으로\n",
    "해당 키에 매핑되는 값을 얻어 올 수 있습니다."
   ]
  },
  {
   "cell_type": "raw",
   "id": "cca1d839-ed44-4bab-a727-52ac11c34123",
   "metadata": {},
   "source": [
    "이제는 map 함수에 대해서 살펴보겠습니다.\n",
    "map 함수는 시리즈의 객체에서 호출할 수 있으며,\n",
    "map 인자에는 하나의 인자를 갖는 함수를 넣어주면 됩니다.\n",
    "그러면 해당 시리즈의 모든 요소마다 인자로 넣어준 함수에 파라미터로 넣어주고\n",
    "그 결과들을 모아서 시리즈를 생성하게 됩니다.\n",
    "\n",
    "아래의 예를 통해서 설명해보도록 하겠습니다."
   ]
  },
  {
   "cell_type": "code",
   "execution_count": 17,
   "id": "016e4c33-4513-4dae-8501-384611be9d21",
   "metadata": {
    "tags": []
   },
   "outputs": [
    {
     "data": {
      "text/plain": [
       "A    0\n",
       "B    1\n",
       "C    1\n",
       "D    1\n",
       "Name: Gender, dtype: int64"
      ]
     },
     "execution_count": 17,
     "metadata": {},
     "output_type": "execute_result"
    }
   ],
   "source": [
    "df.Gender.map(gender_mapping.get)"
   ]
  },
  {
   "cell_type": "raw",
   "id": "329cc754-3fea-4920-8bc4-a43fa527e2f8",
   "metadata": {},
   "source": [
    "우선 Gender 컬럼으로 시리즈를 생성한 후\n",
    "각 요소인 Female, Male, Male, Male 값을 순차적으로 gender_mapping.get 함수에 인자로 넣어줍니다.\n",
    "그러면 해당 키에 매핑되는 값인 0, 1, 1, 1 을 구성요소로하는 시리즈를 만들게 됩니다.\n",
    "그리고 각 구성요소의 인덱스가 그대로 새로 생성되는 series에 들어가게 됩니다."
   ]
  },
  {
   "cell_type": "code",
   "execution_count": 18,
   "id": "794eec43-f78a-4c56-9229-cffc88f3f92a",
   "metadata": {
    "tags": []
   },
   "outputs": [
    {
     "data": {
      "text/plain": [
       "A    Female\n",
       "B      Male\n",
       "C      Male\n",
       "D      Male\n",
       "Name: Gender, dtype: object"
      ]
     },
     "execution_count": 18,
     "metadata": {},
     "output_type": "execute_result"
    }
   ],
   "source": [
    "df.Gender"
   ]
  },
  {
   "cell_type": "raw",
   "id": "31a4ca1c-57ee-499b-876f-652ae19ae78c",
   "metadata": {
    "tags": []
   },
   "source": [
    "func = gender_mapping.get\n",
    "pd.Series(\n",
    "    [func(v) for v in df.Gender.values], \n",
    "    index = df.Gender.index\n",
    ")"
   ]
  },
  {
   "cell_type": "raw",
   "id": "028a3672-3d5d-43aa-9377-b9889f2f5b1e",
   "metadata": {},
   "source": [
    "판다스의 시리즈에 열을 추가하는 방법은\n",
    "대괄호에 열이름을 넣어주고 기존의 데이터프레임의 각행의 인덱스와 대응되는 인덱스를 가진\n",
    "시리즈 객체를 넣어주는 방식입니다."
   ]
  },
  {
   "cell_type": "code",
   "execution_count": 19,
   "id": "4da188a3-a3db-4041-a90e-c29bd388f4c4",
   "metadata": {
    "tags": []
   },
   "outputs": [
    {
     "data": {
      "text/html": [
       "<div>\n",
       "<style scoped>\n",
       "    .dataframe tbody tr th:only-of-type {\n",
       "        vertical-align: middle;\n",
       "    }\n",
       "\n",
       "    .dataframe tbody tr th {\n",
       "        vertical-align: top;\n",
       "    }\n",
       "\n",
       "    .dataframe thead th {\n",
       "        text-align: right;\n",
       "    }\n",
       "</style>\n",
       "<table border=\"1\" class=\"dataframe\">\n",
       "  <thead>\n",
       "    <tr style=\"text-align: right;\">\n",
       "      <th></th>\n",
       "      <th>Name</th>\n",
       "      <th>Age</th>\n",
       "      <th>Gender</th>\n",
       "      <th>Height</th>\n",
       "      <th>Gender2</th>\n",
       "    </tr>\n",
       "  </thead>\n",
       "  <tbody>\n",
       "    <tr>\n",
       "      <th>A</th>\n",
       "      <td>Alice</td>\n",
       "      <td>25.0</td>\n",
       "      <td>Female</td>\n",
       "      <td>165</td>\n",
       "      <td>0</td>\n",
       "    </tr>\n",
       "    <tr>\n",
       "      <th>B</th>\n",
       "      <td>Bob</td>\n",
       "      <td>30.0</td>\n",
       "      <td>Male</td>\n",
       "      <td>180</td>\n",
       "      <td>1</td>\n",
       "    </tr>\n",
       "    <tr>\n",
       "      <th>C</th>\n",
       "      <td>Charlie</td>\n",
       "      <td>35.0</td>\n",
       "      <td>Male</td>\n",
       "      <td>175</td>\n",
       "      <td>1</td>\n",
       "    </tr>\n",
       "    <tr>\n",
       "      <th>D</th>\n",
       "      <td>David</td>\n",
       "      <td>NaN</td>\n",
       "      <td>Male</td>\n",
       "      <td>170</td>\n",
       "      <td>1</td>\n",
       "    </tr>\n",
       "  </tbody>\n",
       "</table>\n",
       "</div>"
      ],
      "text/plain": [
       "      Name   Age  Gender  Height  Gender2\n",
       "A    Alice  25.0  Female     165        0\n",
       "B      Bob  30.0    Male     180        1\n",
       "C  Charlie  35.0    Male     175        1\n",
       "D    David   NaN    Male     170        1"
      ]
     },
     "execution_count": 19,
     "metadata": {},
     "output_type": "execute_result"
    }
   ],
   "source": [
    "df['Gender2'] = df.Gender.map(gender_mapping)\n",
    "df"
   ]
  },
  {
   "cell_type": "raw",
   "id": "103e694a-c946-4927-9d8b-9d2ea053a66a",
   "metadata": {},
   "source": [
    "위의 코드에서 df.Gender.map(gender_mapping)의 결과는 df의 인덱스를 가진 시리즈 이므로,\n",
    "Gender2 라는 필드에 Female을 0으로 Male을 1로 변환한 결과자 잘 들어가 있는것을 확인할 수 있습니다."
   ]
  },
  {
   "cell_type": "markdown",
   "id": "087b2d89-49be-40e2-8306-914ee5a10ee2",
   "metadata": {},
   "source": [
    "판다스의 map() 에는 람다함수가 많이 활용됩니다.\n",
    "아래와 같은 방식의 lambda를 적용하여 미션을 완성할 수 있습니다."
   ]
  },
  {
   "cell_type": "code",
   "execution_count": 20,
   "id": "b2f19011-2659-4709-9373-63e646c794b2",
   "metadata": {
    "tags": []
   },
   "outputs": [
    {
     "data": {
      "text/plain": [
       "A    0\n",
       "B    1\n",
       "C    1\n",
       "D    1\n",
       "Name: Gender, dtype: int64"
      ]
     },
     "execution_count": 20,
     "metadata": {},
     "output_type": "execute_result"
    }
   ],
   "source": [
    "# lambda 적용\n",
    "df.Gender.map(lambda x: 0 if x == \"Female\" else 1)"
   ]
  },
  {
   "cell_type": "raw",
   "id": "074f0ddc-aad7-4e98-96e2-8abcb40bc644",
   "metadata": {},
   "source": [
    "lmabda에 대해서 조금더 자세히 들어가보도록 하겠습니다."
   ]
  },
  {
   "cell_type": "raw",
   "id": "57635c70-89d3-4a53-9133-cd1e39be0149",
   "metadata": {},
   "source": [
    "우선 파라미터로 받은 x에 대해서 Female 이면 0, Male이면 1을 리턴하는 함수가 있고\n",
    "이 함수의 이름은 convert 라고 정의했다고 하보겠습니다."
   ]
  },
  {
   "cell_type": "code",
   "execution_count": 21,
   "id": "6c1768e4-6987-4a53-bac3-d2762f13aaa8",
   "metadata": {
    "tags": []
   },
   "outputs": [],
   "source": [
    "def convert(x):\n",
    "    return 0 if x == \"Female\" else 1    # (x==\"Female\")? 1: 0"
   ]
  },
  {
   "cell_type": "raw",
   "id": "0f105241-3ba2-466b-a78b-b05abe8e8c14",
   "metadata": {},
   "source": [
    "위의 코드에서 dictionary 대신 이코들 사용해도 결과는 동일하겠지요."
   ]
  },
  {
   "cell_type": "code",
   "execution_count": 22,
   "id": "1349ed8a-9d2e-49d7-8284-f7b8ab342d5e",
   "metadata": {
    "tags": []
   },
   "outputs": [
    {
     "data": {
      "text/plain": [
       "A    0\n",
       "B    1\n",
       "C    1\n",
       "D    1\n",
       "Name: Gender, dtype: int64"
      ]
     },
     "execution_count": 22,
     "metadata": {},
     "output_type": "execute_result"
    }
   ],
   "source": [
    "df.Gender.map(convert)"
   ]
  },
  {
   "cell_type": "raw",
   "id": "f4715502-9b9d-4d92-a13f-5f1b2321fcbf",
   "metadata": {},
   "source": [
    "이경우 함수가 매우 간단하므로 함수의 구현부를 별도의 이름으로 선언하지 않고\n",
    "바로 map에 파라미터로 넣어줄 수 있습니다.\n",
    "이때 이것이 익명함수리는 이름으로 lambda라고 해주고,\n",
    "파라미터로 받는 값을 x라고 명명한다는 의미에서 lambda x라고 써주고,\n",
    "lambda x옆에 콜론을 써준 다음 \n",
    "해당 함수의 return 이후에 들어가는 내용을 써주면 됩니다."
   ]
  },
  {
   "cell_type": "code",
   "execution_count": 23,
   "id": "5c6b84f9-5b6e-43d4-b1c3-0fa5bc707f87",
   "metadata": {
    "tags": []
   },
   "outputs": [
    {
     "data": {
      "text/plain": [
       "A    0\n",
       "B    1\n",
       "C    1\n",
       "D    1\n",
       "Name: Gender, dtype: int64"
      ]
     },
     "execution_count": 23,
     "metadata": {},
     "output_type": "execute_result"
    }
   ],
   "source": [
    "df.Gender.map(lambda x: 0 if x == \"Female\" else 1)"
   ]
  },
  {
   "cell_type": "raw",
   "id": "fd3b095b-c765-471f-a27c-ef6561569ecc",
   "metadata": {},
   "source": [
    "lambda 에 대한 이해를 돕기위한 추가 예제 입니다.\n",
    "이 경우 해당 시리즈의 요소를 x로 받아서 \n",
    "x+10을 리턴하여 그 것을 모아서 시리즈 객체를 만들게 됩니다."
   ]
  },
  {
   "cell_type": "code",
   "execution_count": 24,
   "id": "c2dcea0a-3610-4d9c-82e2-569c2a8c5b46",
   "metadata": {
    "tags": []
   },
   "outputs": [
    {
     "name": "stdout",
     "output_type": "stream",
     "text": [
      "A    25.0\n",
      "B    30.0\n",
      "C    35.0\n",
      "D     NaN\n",
      "Name: Age, dtype: float64\n",
      "A    35.0\n",
      "B    40.0\n",
      "C    45.0\n",
      "D     NaN\n",
      "Name: Age, dtype: float64\n"
     ]
    }
   ],
   "source": [
    "# lambda 추가 예제\n",
    "print(df.Age)\n",
    "print(df.Age.map(lambda x: x + 10))"
   ]
  },
  {
   "cell_type": "raw",
   "id": "d169860b-3feb-407c-a15d-5dc1f05ff73c",
   "metadata": {},
   "source": [
    "위 코드의 실행된 결과를 보면, 기존의 Age에 10이 더한 값이 나온것을 확인할 수 있습니다."
   ]
  },
  {
   "cell_type": "raw",
   "id": "a7f2610a-0db7-4c5e-b2c6-94e16ce7d0a1",
   "metadata": {},
   "source": [
    "이 미션에 대해서 map을 쓰지 않고 np.where를 사용하는 방법에 대해서도 간략하게 짚어보도록 하겠습니다."
   ]
  },
  {
   "cell_type": "code",
   "execution_count": 25,
   "id": "6dd0d460-3f1a-439e-b35b-e067a2f97802",
   "metadata": {
    "tags": []
   },
   "outputs": [
    {
     "name": "stdout",
     "output_type": "stream",
     "text": [
      "      Name   Age  Gender  Height  Gender2\n",
      "A    Alice  25.0  Female     165        0\n",
      "B      Bob  30.0    Male     180        1\n",
      "C  Charlie  35.0    Male     175        1\n",
      "D    David   NaN    Male     170        1\n"
     ]
    },
    {
     "data": {
      "text/plain": [
       "A    0\n",
       "B    1\n",
       "C    1\n",
       "D    1\n",
       "dtype: int64"
      ]
     },
     "execution_count": 25,
     "metadata": {},
     "output_type": "execute_result"
    }
   ],
   "source": [
    "print(df)\n",
    "import numpy as np\n",
    "pd.Series(\n",
    "    np.where(df.Gender==\"Female\", 0, 1),\n",
    "    index=df.index\n",
    ")"
   ]
  },
  {
   "cell_type": "raw",
   "id": "031a2487-cfcb-4d7d-93be-564570908eec",
   "metadata": {
    "tags": []
   },
   "source": [
    "df.Gender가 Female일 경우에는 0, 그렇지 않을 경우에는 1을 값을 가지는 \n",
    "ndarray 객체를 만들고\n",
    "그것을 기반으로 기존의 df의 index를 index 인자로 넣어서\n",
    "Series를 생성해주는 방식으로 할 수 있습니다."
   ]
  },
  {
   "cell_type": "raw",
   "id": "08be3ee4-d5d4-4649-a814-e0a8188bb834",
   "metadata": {},
   "source": [
    "이번에는 apply 함수에 대해서 알아보도록 하겠습니다.\n",
    "\n",
    "pandas의 DataFrame에서 apply() 메서드는 열(column) 또는 행(row) 단위로 함수를 적용하여 데이터를 변환하는 기능을 제공합니다. \n",
    "apply() 메서드는 특정 함수를 데이터프레임의 모든 열 또는 각 행에 적용하며, \n",
    "이를 통해 데이터의 변환, 필터링, 정제 등 다양한 작업을 수행할 수 있습니다.\n",
    "\n",
    "이중 func, axis 파라미터에 대해서 살펴보면,\n",
    "func: 적용하고자 하는 함수를 지정합니다. 사용자 정의 함수나 내장 함수 등 모두 가능합니다. 해당 함수에는 series 객체가 인자로 들어가게 됩니다.\n",
    "axis: 0이면 함수가 열(column)에 적용됩니다. 1이면 함수가 행(row)에 적용됩니다."
   ]
  },
  {
   "cell_type": "markdown",
   "id": "28418793-a8ab-4d7d-a96a-e778f02b831f",
   "metadata": {},
   "source": [
    "# 함수적용 (apply)\n",
    "\n",
    "pandas의 DataFrame에서 apply() 메서드는 열(column) 또는 행(row) 단위로 함수를 적용하여 데이터를 변환하는 기능을 제공합니다. apply() 메서드는 특정 함수를 데이터프레임의 모든 열 또는 각 행에 적용하며, 이를 통해 데이터의 변환, 필터링, 정제 등 다양한 작업을 수행할 수 있습니다.\n",
    "\n",
    "```python\n",
    "DataFrame.apply(func, axis=0, raw=False, result_type=None, args=(), **kwds)\n",
    "```\n",
    "\n",
    "- `func`: 적용하고자 하는 함수를 지정합니다. 사용자 정의 함수나 내장 함수 등 모두 가능합니다.\n",
    "- `axis`: 0이면 함수가 열(column)에 적용됩니다. 1이면 함수가 행(row)에 적용됩니다.\n",
    "- `raw`: True이면 행 또는 열을 배열로 전달하고, False이면 Series로 전달합니다.\n",
    "- `result_type`: 반환되는 결과의 데이터 타입을 지정합니다.\n",
    "- `args`: 함수에 추가적인 인자를 전달할 경우 사용합니다.\n"
   ]
  },
  {
   "cell_type": "raw",
   "id": "e66d281a-a5db-423d-8c05-ea548dfc1ebe",
   "metadata": {},
   "source": [
    "예제를 통해 알아보도록 하겠습니다.\n",
    "이번 예제는 각 열에 대해 최대값을마지막 행에 삽입하는 것입니다.\n",
    "일단 3행 5열의 데이터 프레임을 만들어보도록 하겠습니다."
   ]
  },
  {
   "cell_type": "code",
   "execution_count": 26,
   "id": "96b73136-34e0-4287-ae93-91967069b1e3",
   "metadata": {
    "tags": []
   },
   "outputs": [
    {
     "data": {
      "text/html": [
       "<div>\n",
       "<style scoped>\n",
       "    .dataframe tbody tr th:only-of-type {\n",
       "        vertical-align: middle;\n",
       "    }\n",
       "\n",
       "    .dataframe tbody tr th {\n",
       "        vertical-align: top;\n",
       "    }\n",
       "\n",
       "    .dataframe thead th {\n",
       "        text-align: right;\n",
       "    }\n",
       "</style>\n",
       "<table border=\"1\" class=\"dataframe\">\n",
       "  <thead>\n",
       "    <tr style=\"text-align: right;\">\n",
       "      <th></th>\n",
       "      <th>C1</th>\n",
       "      <th>C2</th>\n",
       "      <th>C3</th>\n",
       "      <th>C4</th>\n",
       "      <th>C5</th>\n",
       "    </tr>\n",
       "  </thead>\n",
       "  <tbody>\n",
       "    <tr>\n",
       "      <th>R1</th>\n",
       "      <td>8</td>\n",
       "      <td>9</td>\n",
       "      <td>12</td>\n",
       "      <td>13</td>\n",
       "      <td>1</td>\n",
       "    </tr>\n",
       "    <tr>\n",
       "      <th>R2</th>\n",
       "      <td>11</td>\n",
       "      <td>14</td>\n",
       "      <td>10</td>\n",
       "      <td>15</td>\n",
       "      <td>2</td>\n",
       "    </tr>\n",
       "    <tr>\n",
       "      <th>R3</th>\n",
       "      <td>7</td>\n",
       "      <td>3</td>\n",
       "      <td>6</td>\n",
       "      <td>5</td>\n",
       "      <td>4</td>\n",
       "    </tr>\n",
       "  </tbody>\n",
       "</table>\n",
       "</div>"
      ],
      "text/plain": [
       "    C1  C2  C3  C4  C5\n",
       "R1   8   9  12  13   1\n",
       "R2  11  14  10  15   2\n",
       "R3   7   3   6   5   4"
      ]
     },
     "execution_count": 26,
     "metadata": {},
     "output_type": "execute_result"
    }
   ],
   "source": [
    "\"\"\"\n",
    "각 열의 최대값을 마지막 행에 삽입\n",
    "\"\"\"\n",
    "\n",
    "import pandas as pd\n",
    "import numpy as np\n",
    "\n",
    "# 데이터 생성\n",
    "data = np.random.choice(range(1,16), 15, replace=False).reshape(3,5)\n",
    "df = pd.DataFrame(data, index=\"R1 R2 R3\".split(), columns=\"C1 C2 C3 C4 C5\".split())\n",
    "df"
   ]
  },
  {
   "cell_type": "raw",
   "id": "716e8ccf-9a89-4e6f-a375-52451cd7216f",
   "metadata": {},
   "source": [
    "apply() 함수는 데이터 프레임에서 호출되며\n",
    "인자로 들어가는 함수는 Series 객체를 파라미터로 받으며 호출이 됩니다.\n",
    "\n",
    "그래서 apply에 인자로 넣어주는 함수를 \n",
    "아래와 같이 Series를 받아서 그중에 max()를 호출하는 함수를 만들어서\n",
    "find_max라는 이름으로 정의하였습니다.\n",
    "\n",
    "그런후 df.apply를 호출하면서 해당 함수를 호출하였습니다.\n",
    "이때 열 단위로 계산하기 위하여 axis=0으로 넣어주었는데,\n",
    "axis파라미터 의 default value는 0 이므로\n",
    "넣어주지 않아도 무방합니다."
   ]
  },
  {
   "cell_type": "code",
   "execution_count": 27,
   "id": "38c3ee30-cc76-4945-992d-9fdea6052074",
   "metadata": {
    "tags": []
   },
   "outputs": [
    {
     "data": {
      "text/plain": [
       "C1    11\n",
       "C2    14\n",
       "C3    12\n",
       "C4    15\n",
       "C5     4\n",
       "dtype: int64"
      ]
     },
     "execution_count": 27,
     "metadata": {},
     "output_type": "execute_result"
    }
   ],
   "source": [
    "# 각 열에 대해 최대값을 찾는 함수 정의\n",
    "def find_max(s: pd.Series):\n",
    "    return s.max()\n",
    "\n",
    "df.apply(find_max, axis=0)"
   ]
  },
  {
   "cell_type": "raw",
   "id": "91505110-e7b1-433e-a878-6c4960357476",
   "metadata": {},
   "source": [
    "위의 예제에서 apply함수를 호출하면\n",
    "데이터프레임 df의 각 열들에 해당하는 시리즈 객체들을 findx_max에 넣어주고\n",
    "컬럼이름을 인덱스 find_max()의 리턴값을 밸류로 하는 시리지 객체를 만들어 줍니다."
   ]
  },
  {
   "cell_type": "raw",
   "id": "e931bef5-4feb-484b-9605-43233571ff31",
   "metadata": {
    "tags": []
   },
   "source": [
    "# apply 동작 개요 (axis=0)\n",
    "func=find_max\n",
    "pd.Series(\n",
    "    [func(df[x]) for x in df.columns],\n",
    "    index = df.columns\n",
    ")"
   ]
  },
  {
   "cell_type": "raw",
   "id": "acc61a83-9e0f-4813-ac7f-56aa9d46fa5f",
   "metadata": {},
   "source": [
    "위에서 생성된 각 열의 max값드르이 series를 마지막행에 추가해보도록 하겠습니다."
   ]
  },
  {
   "cell_type": "code",
   "execution_count": 28,
   "id": "3bfd04fd-6544-4207-88bd-bee48a87d73d",
   "metadata": {
    "tags": []
   },
   "outputs": [
    {
     "data": {
      "text/html": [
       "<div>\n",
       "<style scoped>\n",
       "    .dataframe tbody tr th:only-of-type {\n",
       "        vertical-align: middle;\n",
       "    }\n",
       "\n",
       "    .dataframe tbody tr th {\n",
       "        vertical-align: top;\n",
       "    }\n",
       "\n",
       "    .dataframe thead th {\n",
       "        text-align: right;\n",
       "    }\n",
       "</style>\n",
       "<table border=\"1\" class=\"dataframe\">\n",
       "  <thead>\n",
       "    <tr style=\"text-align: right;\">\n",
       "      <th></th>\n",
       "      <th>C1</th>\n",
       "      <th>C2</th>\n",
       "      <th>C3</th>\n",
       "      <th>C4</th>\n",
       "      <th>C5</th>\n",
       "    </tr>\n",
       "  </thead>\n",
       "  <tbody>\n",
       "    <tr>\n",
       "      <th>R1</th>\n",
       "      <td>8</td>\n",
       "      <td>9</td>\n",
       "      <td>12</td>\n",
       "      <td>13</td>\n",
       "      <td>1</td>\n",
       "    </tr>\n",
       "    <tr>\n",
       "      <th>R2</th>\n",
       "      <td>11</td>\n",
       "      <td>14</td>\n",
       "      <td>10</td>\n",
       "      <td>15</td>\n",
       "      <td>2</td>\n",
       "    </tr>\n",
       "    <tr>\n",
       "      <th>R3</th>\n",
       "      <td>7</td>\n",
       "      <td>3</td>\n",
       "      <td>6</td>\n",
       "      <td>5</td>\n",
       "      <td>4</td>\n",
       "    </tr>\n",
       "  </tbody>\n",
       "</table>\n",
       "</div>"
      ],
      "text/plain": [
       "    C1  C2  C3  C4  C5\n",
       "R1   8   9  12  13   1\n",
       "R2  11  14  10  15   2\n",
       "R3   7   3   6   5   4"
      ]
     },
     "execution_count": 28,
     "metadata": {},
     "output_type": "execute_result"
    }
   ],
   "source": [
    "df"
   ]
  },
  {
   "cell_type": "raw",
   "id": "58b4f05b-d3a8-4b24-927d-91c3af4e4300",
   "metadata": {},
   "source": [
    "데이터 프레임에 행을 추가 하기 위해서는\n",
    "loc[] 인덱서에 삽입할 행의 index를 를 넣어주고 Series 객체를 어사인하면 됩니다."
   ]
  },
  {
   "cell_type": "code",
   "execution_count": 29,
   "id": "1b43eb6a-f656-4568-9575-a9b00b2b9b47",
   "metadata": {
    "tags": []
   },
   "outputs": [
    {
     "data": {
      "text/html": [
       "<div>\n",
       "<style scoped>\n",
       "    .dataframe tbody tr th:only-of-type {\n",
       "        vertical-align: middle;\n",
       "    }\n",
       "\n",
       "    .dataframe tbody tr th {\n",
       "        vertical-align: top;\n",
       "    }\n",
       "\n",
       "    .dataframe thead th {\n",
       "        text-align: right;\n",
       "    }\n",
       "</style>\n",
       "<table border=\"1\" class=\"dataframe\">\n",
       "  <thead>\n",
       "    <tr style=\"text-align: right;\">\n",
       "      <th></th>\n",
       "      <th>C1</th>\n",
       "      <th>C2</th>\n",
       "      <th>C3</th>\n",
       "      <th>C4</th>\n",
       "      <th>C5</th>\n",
       "    </tr>\n",
       "  </thead>\n",
       "  <tbody>\n",
       "    <tr>\n",
       "      <th>R1</th>\n",
       "      <td>8</td>\n",
       "      <td>9</td>\n",
       "      <td>12</td>\n",
       "      <td>13</td>\n",
       "      <td>1</td>\n",
       "    </tr>\n",
       "    <tr>\n",
       "      <th>R2</th>\n",
       "      <td>11</td>\n",
       "      <td>14</td>\n",
       "      <td>10</td>\n",
       "      <td>15</td>\n",
       "      <td>2</td>\n",
       "    </tr>\n",
       "    <tr>\n",
       "      <th>R3</th>\n",
       "      <td>7</td>\n",
       "      <td>3</td>\n",
       "      <td>6</td>\n",
       "      <td>5</td>\n",
       "      <td>4</td>\n",
       "    </tr>\n",
       "    <tr>\n",
       "      <th>MAX</th>\n",
       "      <td>11</td>\n",
       "      <td>14</td>\n",
       "      <td>12</td>\n",
       "      <td>15</td>\n",
       "      <td>4</td>\n",
       "    </tr>\n",
       "  </tbody>\n",
       "</table>\n",
       "</div>"
      ],
      "text/plain": [
       "     C1  C2  C3  C4  C5\n",
       "R1    8   9  12  13   1\n",
       "R2   11  14  10  15   2\n",
       "R3    7   3   6   5   4\n",
       "MAX  11  14  12  15   4"
      ]
     },
     "execution_count": 29,
     "metadata": {},
     "output_type": "execute_result"
    }
   ],
   "source": [
    "df.loc[\"MAX\"] = df.apply(find_max, axis=0)\n",
    "df"
   ]
  },
  {
   "cell_type": "raw",
   "id": "e12a826b-0867-4fef-aae3-253d8c09d865",
   "metadata": {},
   "source": [
    "그러면 위와 같이 마지막 행에 MAX 라는 인덱스로 각 열의 최대값이 추가된 것을 확인할 수 있습니다."
   ]
  },
  {
   "cell_type": "raw",
   "id": "3ad43bb6-349e-4f0b-aa54-39b7535fbe94",
   "metadata": {},
   "source": [
    "위의 예제를 lambda를 활용해서 다시 정리해보도록 하겠습니다."
   ]
  },
  {
   "cell_type": "code",
   "execution_count": 30,
   "id": "826136fb-668e-439f-9d69-3114fb8e7c37",
   "metadata": {
    "tags": []
   },
   "outputs": [
    {
     "data": {
      "text/html": [
       "<div>\n",
       "<style scoped>\n",
       "    .dataframe tbody tr th:only-of-type {\n",
       "        vertical-align: middle;\n",
       "    }\n",
       "\n",
       "    .dataframe tbody tr th {\n",
       "        vertical-align: top;\n",
       "    }\n",
       "\n",
       "    .dataframe thead th {\n",
       "        text-align: right;\n",
       "    }\n",
       "</style>\n",
       "<table border=\"1\" class=\"dataframe\">\n",
       "  <thead>\n",
       "    <tr style=\"text-align: right;\">\n",
       "      <th></th>\n",
       "      <th>C1</th>\n",
       "      <th>C2</th>\n",
       "      <th>C3</th>\n",
       "      <th>C4</th>\n",
       "      <th>C5</th>\n",
       "    </tr>\n",
       "  </thead>\n",
       "  <tbody>\n",
       "    <tr>\n",
       "      <th>R1</th>\n",
       "      <td>8</td>\n",
       "      <td>9</td>\n",
       "      <td>12</td>\n",
       "      <td>13</td>\n",
       "      <td>1</td>\n",
       "    </tr>\n",
       "    <tr>\n",
       "      <th>R2</th>\n",
       "      <td>11</td>\n",
       "      <td>14</td>\n",
       "      <td>10</td>\n",
       "      <td>15</td>\n",
       "      <td>2</td>\n",
       "    </tr>\n",
       "    <tr>\n",
       "      <th>R3</th>\n",
       "      <td>7</td>\n",
       "      <td>3</td>\n",
       "      <td>6</td>\n",
       "      <td>5</td>\n",
       "      <td>4</td>\n",
       "    </tr>\n",
       "    <tr>\n",
       "      <th>MAX</th>\n",
       "      <td>11</td>\n",
       "      <td>14</td>\n",
       "      <td>12</td>\n",
       "      <td>15</td>\n",
       "      <td>4</td>\n",
       "    </tr>\n",
       "  </tbody>\n",
       "</table>\n",
       "</div>"
      ],
      "text/plain": [
       "     C1  C2  C3  C4  C5\n",
       "R1    8   9  12  13   1\n",
       "R2   11  14  10  15   2\n",
       "R3    7   3   6   5   4\n",
       "MAX  11  14  12  15   4"
      ]
     },
     "execution_count": 30,
     "metadata": {},
     "output_type": "execute_result"
    }
   ],
   "source": [
    "df.loc[\"MAX\"] = df.apply(lambda x: x.max())\n",
    "df"
   ]
  },
  {
   "cell_type": "raw",
   "id": "39f454d6-260b-48b4-89c7-15f7e2aad131",
   "metadata": {},
   "source": [
    "이번에는 각 행의 최대값과 최소값으 차이를 구해서 마지막 열에 추가하는 것을 진행해보도록 하겠습니다.\n",
    "우선 데이터 프레임을 만들어 보도록 하겠습니다."
   ]
  },
  {
   "cell_type": "code",
   "execution_count": 31,
   "id": "569d9c80-cc61-4f1d-98d6-4ee116158d86",
   "metadata": {
    "tags": []
   },
   "outputs": [
    {
     "data": {
      "text/html": [
       "<div>\n",
       "<style scoped>\n",
       "    .dataframe tbody tr th:only-of-type {\n",
       "        vertical-align: middle;\n",
       "    }\n",
       "\n",
       "    .dataframe tbody tr th {\n",
       "        vertical-align: top;\n",
       "    }\n",
       "\n",
       "    .dataframe thead th {\n",
       "        text-align: right;\n",
       "    }\n",
       "</style>\n",
       "<table border=\"1\" class=\"dataframe\">\n",
       "  <thead>\n",
       "    <tr style=\"text-align: right;\">\n",
       "      <th></th>\n",
       "      <th>C1</th>\n",
       "      <th>C2</th>\n",
       "      <th>C3</th>\n",
       "      <th>C4</th>\n",
       "      <th>C5</th>\n",
       "    </tr>\n",
       "  </thead>\n",
       "  <tbody>\n",
       "    <tr>\n",
       "      <th>R1</th>\n",
       "      <td>3</td>\n",
       "      <td>1</td>\n",
       "      <td>2</td>\n",
       "      <td>15</td>\n",
       "      <td>9</td>\n",
       "    </tr>\n",
       "    <tr>\n",
       "      <th>R2</th>\n",
       "      <td>14</td>\n",
       "      <td>5</td>\n",
       "      <td>6</td>\n",
       "      <td>7</td>\n",
       "      <td>4</td>\n",
       "    </tr>\n",
       "    <tr>\n",
       "      <th>R3</th>\n",
       "      <td>8</td>\n",
       "      <td>13</td>\n",
       "      <td>10</td>\n",
       "      <td>12</td>\n",
       "      <td>11</td>\n",
       "    </tr>\n",
       "  </tbody>\n",
       "</table>\n",
       "</div>"
      ],
      "text/plain": [
       "    C1  C2  C3  C4  C5\n",
       "R1   3   1   2  15   9\n",
       "R2  14   5   6   7   4\n",
       "R3   8  13  10  12  11"
      ]
     },
     "execution_count": 31,
     "metadata": {},
     "output_type": "execute_result"
    }
   ],
   "source": [
    "\"\"\"\n",
    "각 행의 최대, 최소 차이를 마지막 열에 추가\n",
    "\"\"\"\n",
    "\n",
    "import pandas as pd\n",
    "import numpy as np\n",
    "\n",
    "# 데이터 생성\n",
    "data = np.random.choice(range(1,16), 15, replace=False).reshape(3,5)\n",
    "df = pd.DataFrame(data, index=\"R1 R2 R3\".split(), columns=\"C1 C2 C3 C4 C5\".split())\n",
    "df\n"
   ]
  },
  {
   "cell_type": "raw",
   "id": "55c72816-297e-4f1f-b8e0-a3ebc26d297d",
   "metadata": {},
   "source": [
    "우선 각 행에서 최대값과 최소값의 차이를 계산하는 함수를 정의해보겠습니다.\n",
    "이 함수는 Series를 인자로 받아서\n",
    "최대값인 max()에서 최소값인 min()을 빼서 그 차이를 리턴하도록 하고\n",
    "max_min_diff 라는 이름으로 정의하였습니다.\n",
    "\n",
    "그리고 이 함수를 행단위로 적용하기 위해서는\n",
    "apply를 호출할때 파라미터로 axis=1 을 넣어줍니다.\n",
    "그러면 행단위로 최대값과 최소값의 차이에 대해서\n",
    "각 행의 인덱스를 인덱스로하고, 차이값을 밸류로 하는 시리즈 객체를 리턴합니다."
   ]
  },
  {
   "cell_type": "code",
   "execution_count": 32,
   "id": "ddba0653-64ee-43b0-b7ba-4d0bdf74e7a4",
   "metadata": {
    "tags": []
   },
   "outputs": [
    {
     "data": {
      "text/plain": [
       "R1    14\n",
       "R2    10\n",
       "R3     5\n",
       "dtype: int64"
      ]
     },
     "execution_count": 32,
     "metadata": {},
     "output_type": "execute_result"
    }
   ],
   "source": [
    "# 각 행에서 최대값과 최소값의 차이를 계산하는 함수 정의\n",
    "def max_min_diff(s: pd.Series):\n",
    "    return s.max() - s.min()\n",
    "\n",
    "df.apply(max_min_diff, axis=1)"
   ]
  },
  {
   "cell_type": "raw",
   "id": "8bc17697-4bc4-4067-9e96-e133500882af",
   "metadata": {
    "tags": []
   },
   "source": [
    "# apply 동작 개요 (axis=1)\n",
    "func=max_min_diff\n",
    "pd.Series(\n",
    "    [func(df.loc[idx]) for idx in df.index],\n",
    "    index = df.index\n",
    ")"
   ]
  },
  {
   "cell_type": "raw",
   "id": "7de86eef-08a0-48c6-9daa-766b42a06c5e",
   "metadata": {
    "tags": []
   },
   "source": [
    "데이터 프레임에 열을 추가 하기 위해서는\n",
    "데이터프레임의 객체의 [] 에 삽입될 컬럼의 이름을 적어주고 \n",
    "Series 객체를 어사인하면 됩니다."
   ]
  },
  {
   "cell_type": "code",
   "execution_count": 33,
   "id": "4a71129d-7b87-4c1c-8647-614e2089772c",
   "metadata": {
    "tags": []
   },
   "outputs": [
    {
     "data": {
      "text/html": [
       "<div>\n",
       "<style scoped>\n",
       "    .dataframe tbody tr th:only-of-type {\n",
       "        vertical-align: middle;\n",
       "    }\n",
       "\n",
       "    .dataframe tbody tr th {\n",
       "        vertical-align: top;\n",
       "    }\n",
       "\n",
       "    .dataframe thead th {\n",
       "        text-align: right;\n",
       "    }\n",
       "</style>\n",
       "<table border=\"1\" class=\"dataframe\">\n",
       "  <thead>\n",
       "    <tr style=\"text-align: right;\">\n",
       "      <th></th>\n",
       "      <th>C1</th>\n",
       "      <th>C2</th>\n",
       "      <th>C3</th>\n",
       "      <th>C4</th>\n",
       "      <th>C5</th>\n",
       "      <th>MIN_MAX_DIFF</th>\n",
       "    </tr>\n",
       "  </thead>\n",
       "  <tbody>\n",
       "    <tr>\n",
       "      <th>R1</th>\n",
       "      <td>3</td>\n",
       "      <td>1</td>\n",
       "      <td>2</td>\n",
       "      <td>15</td>\n",
       "      <td>9</td>\n",
       "      <td>14</td>\n",
       "    </tr>\n",
       "    <tr>\n",
       "      <th>R2</th>\n",
       "      <td>14</td>\n",
       "      <td>5</td>\n",
       "      <td>6</td>\n",
       "      <td>7</td>\n",
       "      <td>4</td>\n",
       "      <td>10</td>\n",
       "    </tr>\n",
       "    <tr>\n",
       "      <th>R3</th>\n",
       "      <td>8</td>\n",
       "      <td>13</td>\n",
       "      <td>10</td>\n",
       "      <td>12</td>\n",
       "      <td>11</td>\n",
       "      <td>5</td>\n",
       "    </tr>\n",
       "  </tbody>\n",
       "</table>\n",
       "</div>"
      ],
      "text/plain": [
       "    C1  C2  C3  C4  C5  MIN_MAX_DIFF\n",
       "R1   3   1   2  15   9            14\n",
       "R2  14   5   6   7   4            10\n",
       "R3   8  13  10  12  11             5"
      ]
     },
     "execution_count": 33,
     "metadata": {},
     "output_type": "execute_result"
    }
   ],
   "source": [
    "df[\"MIN_MAX_DIFF\"] = df.apply(max_min_diff, axis=1)\n",
    "df"
   ]
  },
  {
   "cell_type": "raw",
   "id": "29d4dae9-5908-4b4d-96c2-2a99de0a7a32",
   "metadata": {},
   "source": [
    "이번에는 lambda를 활용해보도록 하겠습니다."
   ]
  },
  {
   "cell_type": "code",
   "execution_count": 34,
   "id": "bed2382d-3ae7-4e93-a4d1-0a450d0caf2e",
   "metadata": {
    "tags": []
   },
   "outputs": [
    {
     "data": {
      "text/html": [
       "<div>\n",
       "<style scoped>\n",
       "    .dataframe tbody tr th:only-of-type {\n",
       "        vertical-align: middle;\n",
       "    }\n",
       "\n",
       "    .dataframe tbody tr th {\n",
       "        vertical-align: top;\n",
       "    }\n",
       "\n",
       "    .dataframe thead th {\n",
       "        text-align: right;\n",
       "    }\n",
       "</style>\n",
       "<table border=\"1\" class=\"dataframe\">\n",
       "  <thead>\n",
       "    <tr style=\"text-align: right;\">\n",
       "      <th></th>\n",
       "      <th>C1</th>\n",
       "      <th>C2</th>\n",
       "      <th>C3</th>\n",
       "      <th>C4</th>\n",
       "      <th>C5</th>\n",
       "      <th>MIN_MAX_DIFF</th>\n",
       "    </tr>\n",
       "  </thead>\n",
       "  <tbody>\n",
       "    <tr>\n",
       "      <th>R1</th>\n",
       "      <td>3</td>\n",
       "      <td>1</td>\n",
       "      <td>2</td>\n",
       "      <td>15</td>\n",
       "      <td>9</td>\n",
       "      <td>14</td>\n",
       "    </tr>\n",
       "    <tr>\n",
       "      <th>R2</th>\n",
       "      <td>14</td>\n",
       "      <td>5</td>\n",
       "      <td>6</td>\n",
       "      <td>7</td>\n",
       "      <td>4</td>\n",
       "      <td>10</td>\n",
       "    </tr>\n",
       "    <tr>\n",
       "      <th>R3</th>\n",
       "      <td>8</td>\n",
       "      <td>13</td>\n",
       "      <td>10</td>\n",
       "      <td>12</td>\n",
       "      <td>11</td>\n",
       "      <td>8</td>\n",
       "    </tr>\n",
       "  </tbody>\n",
       "</table>\n",
       "</div>"
      ],
      "text/plain": [
       "    C1  C2  C3  C4  C5  MIN_MAX_DIFF\n",
       "R1   3   1   2  15   9            14\n",
       "R2  14   5   6   7   4            10\n",
       "R3   8  13  10  12  11             8"
      ]
     },
     "execution_count": 34,
     "metadata": {},
     "output_type": "execute_result"
    }
   ],
   "source": [
    "df[\"MIN_MAX_DIFF\"] = df.apply(lambda x: x.max() - x.min(), axis=1)\n",
    "df"
   ]
  },
  {
   "cell_type": "raw",
   "id": "39d399d5-802a-4333-bf7e-1c91055c7ee8",
   "metadata": {},
   "source": [
    "이번에는 필터링 기반으로 특정조건에 맞는 행 또는 열에 대해서만 \n",
    "apply를 적용하는 방식에 대해서 알아보도록 하겠습니다.\n",
    "\n",
    "데이터프레임에서 조건에 맞는 셀의 데이터에만 map과 apply를 적용하는 방법은  \n",
    "loc 인덱싱을 사용하여 조건을 만족하는 행과 열을 선택한 후에  \n",
    "해당 위치에 함수를 적용하면 됩니다.\n"
   ]
  },
  {
   "cell_type": "markdown",
   "id": "984f468d-f8b2-496f-a4cd-8468dfe72965",
   "metadata": {},
   "source": [
    "## 필터링 기반 apply 적용\n",
    "\n",
    "\n",
    "데이터프레임에서 조건에 맞는 셀의 데이터에만 map과 apply를 적용하는 방법은  \n",
    "loc 인덱싱을 사용하여 조건을 만족하는 행과 열을 선택한 후에  \n",
    "해당 위치에 함수를 적용하면 됩니다.\n",
    "\n"
   ]
  },
  {
   "cell_type": "raw",
   "id": "b543da90-4752-4444-99d7-4314bd676923",
   "metadata": {},
   "source": [
    "우선 예제를 위한 데이터 프레임을 생성해보겠습니다."
   ]
  },
  {
   "cell_type": "code",
   "execution_count": 35,
   "id": "ae8e4983-5ed5-4901-95de-7a23ea67ca76",
   "metadata": {
    "tags": []
   },
   "outputs": [
    {
     "data": {
      "text/html": [
       "<div>\n",
       "<style scoped>\n",
       "    .dataframe tbody tr th:only-of-type {\n",
       "        vertical-align: middle;\n",
       "    }\n",
       "\n",
       "    .dataframe tbody tr th {\n",
       "        vertical-align: top;\n",
       "    }\n",
       "\n",
       "    .dataframe thead th {\n",
       "        text-align: right;\n",
       "    }\n",
       "</style>\n",
       "<table border=\"1\" class=\"dataframe\">\n",
       "  <thead>\n",
       "    <tr style=\"text-align: right;\">\n",
       "      <th></th>\n",
       "      <th>Name</th>\n",
       "      <th>Age</th>\n",
       "      <th>City</th>\n",
       "    </tr>\n",
       "  </thead>\n",
       "  <tbody>\n",
       "    <tr>\n",
       "      <th>0</th>\n",
       "      <td>Alice</td>\n",
       "      <td>25</td>\n",
       "      <td>New York</td>\n",
       "    </tr>\n",
       "    <tr>\n",
       "      <th>1</th>\n",
       "      <td>Bob</td>\n",
       "      <td>30</td>\n",
       "      <td>London</td>\n",
       "    </tr>\n",
       "    <tr>\n",
       "      <th>2</th>\n",
       "      <td>Charlie</td>\n",
       "      <td>35</td>\n",
       "      <td>Paris</td>\n",
       "    </tr>\n",
       "    <tr>\n",
       "      <th>3</th>\n",
       "      <td>David</td>\n",
       "      <td>40</td>\n",
       "      <td>Berlin</td>\n",
       "    </tr>\n",
       "    <tr>\n",
       "      <th>4</th>\n",
       "      <td>Ella</td>\n",
       "      <td>45</td>\n",
       "      <td>London</td>\n",
       "    </tr>\n",
       "  </tbody>\n",
       "</table>\n",
       "</div>"
      ],
      "text/plain": [
       "      Name  Age      City\n",
       "0    Alice   25  New York\n",
       "1      Bob   30    London\n",
       "2  Charlie   35     Paris\n",
       "3    David   40    Berlin\n",
       "4     Ella   45    London"
      ]
     },
     "execution_count": 35,
     "metadata": {},
     "output_type": "execute_result"
    }
   ],
   "source": [
    "import pandas as pd\n",
    "\n",
    "# 데이터 생성\n",
    "data = {\n",
    "    'Name': ['Alice', 'Bob', 'Charlie', 'David', 'Ella'],\n",
    "    'Age': [25, 30, 35, 40, 45],\n",
    "    'City': ['New York', 'London', 'Paris', 'Berlin', 'London']\n",
    "}\n",
    "\n",
    "df = pd.DataFrame(data)\n",
    "df"
   ]
  },
  {
   "cell_type": "raw",
   "id": "f5ecff6a-882b-40cc-8d86-d1d2dc7def9d",
   "metadata": {},
   "source": [
    "Age가 35 이상인 행들의 'Age' 값을 10 증가시키는 예제입니다. \n",
    "이 경우 해당 하는 column 이 한개 이기 때문에 map()을 적용하여 해결 가능합니다."
   ]
  },
  {
   "cell_type": "code",
   "execution_count": 36,
   "id": "238650f5-aeed-4b76-8ea7-51a7a08c4e5a",
   "metadata": {
    "tags": []
   },
   "outputs": [
    {
     "data": {
      "text/html": [
       "<div>\n",
       "<style scoped>\n",
       "    .dataframe tbody tr th:only-of-type {\n",
       "        vertical-align: middle;\n",
       "    }\n",
       "\n",
       "    .dataframe tbody tr th {\n",
       "        vertical-align: top;\n",
       "    }\n",
       "\n",
       "    .dataframe thead th {\n",
       "        text-align: right;\n",
       "    }\n",
       "</style>\n",
       "<table border=\"1\" class=\"dataframe\">\n",
       "  <thead>\n",
       "    <tr style=\"text-align: right;\">\n",
       "      <th></th>\n",
       "      <th>Name</th>\n",
       "      <th>Age</th>\n",
       "      <th>City</th>\n",
       "    </tr>\n",
       "  </thead>\n",
       "  <tbody>\n",
       "    <tr>\n",
       "      <th>0</th>\n",
       "      <td>Alice</td>\n",
       "      <td>25</td>\n",
       "      <td>New York</td>\n",
       "    </tr>\n",
       "    <tr>\n",
       "      <th>1</th>\n",
       "      <td>Bob</td>\n",
       "      <td>30</td>\n",
       "      <td>London</td>\n",
       "    </tr>\n",
       "    <tr>\n",
       "      <th>2</th>\n",
       "      <td>Charlie</td>\n",
       "      <td>45</td>\n",
       "      <td>Paris</td>\n",
       "    </tr>\n",
       "    <tr>\n",
       "      <th>3</th>\n",
       "      <td>David</td>\n",
       "      <td>50</td>\n",
       "      <td>Berlin</td>\n",
       "    </tr>\n",
       "    <tr>\n",
       "      <th>4</th>\n",
       "      <td>Ella</td>\n",
       "      <td>55</td>\n",
       "      <td>London</td>\n",
       "    </tr>\n",
       "  </tbody>\n",
       "</table>\n",
       "</div>"
      ],
      "text/plain": [
       "      Name  Age      City\n",
       "0    Alice   25  New York\n",
       "1      Bob   30    London\n",
       "2  Charlie   45     Paris\n",
       "3    David   50    Berlin\n",
       "4     Ella   55    London"
      ]
     },
     "execution_count": 36,
     "metadata": {},
     "output_type": "execute_result"
    }
   ],
   "source": [
    "# Age가 35 이상인 행들의 'Age' 값을 10 증가시킴 (map 적용)\n",
    "df.loc[df['Age'] >= 35, 'Age'] = df.loc[df['Age'] >= 35, 'Age'].map(lambda x: x + 10)\n",
    "df"
   ]
  },
  {
   "cell_type": "raw",
   "id": "ccd649e3-edd8-4092-9419-30b9fbc20882",
   "metadata": {},
   "source": [
    "몸무게가 70kg 이상인 경우에만 BMI를 계산하는 미션을 수행해보도록 하겠습니다."
   ]
  },
  {
   "cell_type": "code",
   "execution_count": 37,
   "id": "9177b369-0c6e-46f4-a0e6-bf5bc9db67b5",
   "metadata": {
    "tags": []
   },
   "outputs": [
    {
     "data": {
      "text/html": [
       "<div>\n",
       "<style scoped>\n",
       "    .dataframe tbody tr th:only-of-type {\n",
       "        vertical-align: middle;\n",
       "    }\n",
       "\n",
       "    .dataframe tbody tr th {\n",
       "        vertical-align: top;\n",
       "    }\n",
       "\n",
       "    .dataframe thead th {\n",
       "        text-align: right;\n",
       "    }\n",
       "</style>\n",
       "<table border=\"1\" class=\"dataframe\">\n",
       "  <thead>\n",
       "    <tr style=\"text-align: right;\">\n",
       "      <th></th>\n",
       "      <th>Name</th>\n",
       "      <th>Weight</th>\n",
       "      <th>Height</th>\n",
       "    </tr>\n",
       "  </thead>\n",
       "  <tbody>\n",
       "    <tr>\n",
       "      <th>0</th>\n",
       "      <td>Alice</td>\n",
       "      <td>65.0</td>\n",
       "      <td>1.65</td>\n",
       "    </tr>\n",
       "    <tr>\n",
       "      <th>1</th>\n",
       "      <td>Bob</td>\n",
       "      <td>70.0</td>\n",
       "      <td>1.80</td>\n",
       "    </tr>\n",
       "    <tr>\n",
       "      <th>2</th>\n",
       "      <td>Charlie</td>\n",
       "      <td>85.0</td>\n",
       "      <td>1.75</td>\n",
       "    </tr>\n",
       "    <tr>\n",
       "      <th>3</th>\n",
       "      <td>David</td>\n",
       "      <td>NaN</td>\n",
       "      <td>1.70</td>\n",
       "    </tr>\n",
       "  </tbody>\n",
       "</table>\n",
       "</div>"
      ],
      "text/plain": [
       "      Name  Weight  Height\n",
       "0    Alice    65.0    1.65\n",
       "1      Bob    70.0    1.80\n",
       "2  Charlie    85.0    1.75\n",
       "3    David     NaN    1.70"
      ]
     },
     "execution_count": 37,
     "metadata": {},
     "output_type": "execute_result"
    }
   ],
   "source": [
    "\"\"\"\n",
    "몸무게가 70kg 이상인 경우에만 BMI를 계산\n",
    " BMI 계산: weight / pow(height, 2)\n",
    "\"\"\"\n",
    "\n",
    "import pandas as pd\n",
    "import numpy as np\n",
    "\n",
    "# 데이터 생성\n",
    "data = {'Name': ['Alice', 'Bob', 'Charlie', 'David'],\n",
    "        'Weight': [65, 70, 85, None],\n",
    "        'Height': [1.65, 1.8, 1.75, 1.7]\n",
    "}\n",
    "\n",
    "df = pd.DataFrame(data)\n",
    "df\n"
   ]
  },
  {
   "cell_type": "code",
   "execution_count": 38,
   "id": "efdd986d-b2f1-40ef-974b-530b145bc779",
   "metadata": {
    "tags": []
   },
   "outputs": [
    {
     "data": {
      "text/html": [
       "<div>\n",
       "<style scoped>\n",
       "    .dataframe tbody tr th:only-of-type {\n",
       "        vertical-align: middle;\n",
       "    }\n",
       "\n",
       "    .dataframe tbody tr th {\n",
       "        vertical-align: top;\n",
       "    }\n",
       "\n",
       "    .dataframe thead th {\n",
       "        text-align: right;\n",
       "    }\n",
       "</style>\n",
       "<table border=\"1\" class=\"dataframe\">\n",
       "  <thead>\n",
       "    <tr style=\"text-align: right;\">\n",
       "      <th></th>\n",
       "      <th>Name</th>\n",
       "      <th>Weight</th>\n",
       "      <th>Height</th>\n",
       "      <th>BMI</th>\n",
       "    </tr>\n",
       "  </thead>\n",
       "  <tbody>\n",
       "    <tr>\n",
       "      <th>0</th>\n",
       "      <td>Alice</td>\n",
       "      <td>65.0</td>\n",
       "      <td>1.65</td>\n",
       "      <td>NaN</td>\n",
       "    </tr>\n",
       "    <tr>\n",
       "      <th>1</th>\n",
       "      <td>Bob</td>\n",
       "      <td>70.0</td>\n",
       "      <td>1.80</td>\n",
       "      <td>21.6</td>\n",
       "    </tr>\n",
       "    <tr>\n",
       "      <th>2</th>\n",
       "      <td>Charlie</td>\n",
       "      <td>85.0</td>\n",
       "      <td>1.75</td>\n",
       "      <td>27.8</td>\n",
       "    </tr>\n",
       "    <tr>\n",
       "      <th>3</th>\n",
       "      <td>David</td>\n",
       "      <td>NaN</td>\n",
       "      <td>1.70</td>\n",
       "      <td>NaN</td>\n",
       "    </tr>\n",
       "  </tbody>\n",
       "</table>\n",
       "</div>"
      ],
      "text/plain": [
       "      Name  Weight  Height   BMI\n",
       "0    Alice    65.0    1.65   NaN\n",
       "1      Bob    70.0    1.80  21.6\n",
       "2  Charlie    85.0    1.75  27.8\n",
       "3    David     NaN    1.70   NaN"
      ]
     },
     "execution_count": 38,
     "metadata": {},
     "output_type": "execute_result"
    }
   ],
   "source": [
    "df.loc[df.Weight>=70, \"BMI\"] = df[df.Weight>=70].apply(\n",
    "    lambda x: np.round(x[\"Weight\"] / (x[\"Height\"])**2,1), \n",
    "    axis=1\n",
    ")\n",
    "df"
   ]
  },
  {
   "cell_type": "code",
   "execution_count": 39,
   "id": "37d49c27-4623-49db-954c-95f517a8ab1b",
   "metadata": {
    "tags": []
   },
   "outputs": [
    {
     "data": {
      "text/plain": [
       "1    21.6\n",
       "2    27.8\n",
       "Name: BMI, dtype: float64"
      ]
     },
     "execution_count": 39,
     "metadata": {},
     "output_type": "execute_result"
    }
   ],
   "source": [
    "df.loc[df.Weight>=70, \"BMI\"] "
   ]
  },
  {
   "cell_type": "code",
   "execution_count": 40,
   "id": "41ed04cf-4672-4bda-8765-eae1f6dc701d",
   "metadata": {
    "tags": []
   },
   "outputs": [
    {
     "data": {
      "text/plain": [
       "1    21.6\n",
       "2    27.8\n",
       "dtype: float64"
      ]
     },
     "execution_count": 40,
     "metadata": {},
     "output_type": "execute_result"
    }
   ],
   "source": [
    "df[df.Weight>=70].apply(lambda x: np.round(x[\"Weight\"] / (x[\"Height\"])**2,1), axis=1)"
   ]
  },
  {
   "cell_type": "raw",
   "id": "3c6cf5e7-eb19-4f03-be4f-01582259b7e5",
   "metadata": {},
   "source": [
    "위의 예제에서는 loc 인덱서에 조건식을 주어 필터링 한 후에 apply를 호출하는 방식을 적용하였는데,\n",
    "다음과 같이 apply()호출 전에 df를 loc 인덱서를 사용해서 필터링 해주지 않더라도\n",
    "최종에는 동일한 결과를 얻을 수 있습니다."
   ]
  },
  {
   "cell_type": "code",
   "execution_count": 41,
   "id": "6d9c6120-b33c-456d-8680-92724e958bf8",
   "metadata": {
    "tags": []
   },
   "outputs": [
    {
     "data": {
      "text/html": [
       "<div>\n",
       "<style scoped>\n",
       "    .dataframe tbody tr th:only-of-type {\n",
       "        vertical-align: middle;\n",
       "    }\n",
       "\n",
       "    .dataframe tbody tr th {\n",
       "        vertical-align: top;\n",
       "    }\n",
       "\n",
       "    .dataframe thead th {\n",
       "        text-align: right;\n",
       "    }\n",
       "</style>\n",
       "<table border=\"1\" class=\"dataframe\">\n",
       "  <thead>\n",
       "    <tr style=\"text-align: right;\">\n",
       "      <th></th>\n",
       "      <th>Name</th>\n",
       "      <th>Weight</th>\n",
       "      <th>Height</th>\n",
       "      <th>BMI</th>\n",
       "    </tr>\n",
       "  </thead>\n",
       "  <tbody>\n",
       "    <tr>\n",
       "      <th>0</th>\n",
       "      <td>Alice</td>\n",
       "      <td>65.0</td>\n",
       "      <td>1.65</td>\n",
       "      <td>NaN</td>\n",
       "    </tr>\n",
       "    <tr>\n",
       "      <th>1</th>\n",
       "      <td>Bob</td>\n",
       "      <td>70.0</td>\n",
       "      <td>1.80</td>\n",
       "      <td>21.6</td>\n",
       "    </tr>\n",
       "    <tr>\n",
       "      <th>2</th>\n",
       "      <td>Charlie</td>\n",
       "      <td>85.0</td>\n",
       "      <td>1.75</td>\n",
       "      <td>27.8</td>\n",
       "    </tr>\n",
       "    <tr>\n",
       "      <th>3</th>\n",
       "      <td>David</td>\n",
       "      <td>NaN</td>\n",
       "      <td>1.70</td>\n",
       "      <td>NaN</td>\n",
       "    </tr>\n",
       "  </tbody>\n",
       "</table>\n",
       "</div>"
      ],
      "text/plain": [
       "      Name  Weight  Height   BMI\n",
       "0    Alice    65.0    1.65   NaN\n",
       "1      Bob    70.0    1.80  21.6\n",
       "2  Charlie    85.0    1.75  27.8\n",
       "3    David     NaN    1.70   NaN"
      ]
     },
     "execution_count": 41,
     "metadata": {},
     "output_type": "execute_result"
    }
   ],
   "source": [
    "df.loc[df.Weight>=70, \"BMI\"] = df.apply(\n",
    "    lambda x: np.round(x[\"Weight\"] / (x[\"Height\"])**2,1), \n",
    "    axis=1\n",
    ")\n",
    "df"
   ]
  },
  {
   "cell_type": "raw",
   "id": "1c7de27a-289e-4186-8965-459a84b6c400",
   "metadata": {},
   "source": [
    "그 이유는 아래의 코드에서는 모든 행에 대해서 apply 를 적용하지만"
   ]
  },
  {
   "cell_type": "code",
   "execution_count": 42,
   "id": "ac791776-fa37-4cd7-9c29-330a74e060f5",
   "metadata": {
    "tags": []
   },
   "outputs": [
    {
     "data": {
      "text/plain": [
       "0    23.9\n",
       "1    21.6\n",
       "2    27.8\n",
       "3     NaN\n",
       "dtype: float64"
      ]
     },
     "execution_count": 42,
     "metadata": {},
     "output_type": "execute_result"
    }
   ],
   "source": [
    "s2 = df.apply(\n",
    "    lambda x: np.round(x[\"Weight\"] / (x[\"Height\"])**2,1), \n",
    "    axis=1\n",
    ")\n",
    "s2"
   ]
  },
  {
   "cell_type": "raw",
   "id": "4dc02d20-d08a-40ad-b2c8-1e60cb60283c",
   "metadata": {},
   "source": [
    "실제로 assign을 할 때에는 좌측항에 있는 index와 일치 되는 값에 대해서만\n",
    "대체되기 때문입니다."
   ]
  },
  {
   "cell_type": "code",
   "execution_count": 43,
   "id": "fd9580fc-7208-4272-b482-0a4774fb4be8",
   "metadata": {
    "tags": []
   },
   "outputs": [
    {
     "data": {
      "text/plain": [
       "1    21.6\n",
       "2    27.8\n",
       "Name: BMI, dtype: float64"
      ]
     },
     "execution_count": 43,
     "metadata": {},
     "output_type": "execute_result"
    }
   ],
   "source": [
    "df.loc[df.Weight>=70, \"BMI\"] "
   ]
  },
  {
   "cell_type": "code",
   "execution_count": 44,
   "id": "785569c6-37c5-47df-9ace-a82cbe4e2d18",
   "metadata": {
    "tags": []
   },
   "outputs": [
    {
     "data": {
      "text/html": [
       "<div>\n",
       "<style scoped>\n",
       "    .dataframe tbody tr th:only-of-type {\n",
       "        vertical-align: middle;\n",
       "    }\n",
       "\n",
       "    .dataframe tbody tr th {\n",
       "        vertical-align: top;\n",
       "    }\n",
       "\n",
       "    .dataframe thead th {\n",
       "        text-align: right;\n",
       "    }\n",
       "</style>\n",
       "<table border=\"1\" class=\"dataframe\">\n",
       "  <thead>\n",
       "    <tr style=\"text-align: right;\">\n",
       "      <th></th>\n",
       "      <th>Name</th>\n",
       "      <th>Weight</th>\n",
       "      <th>Height</th>\n",
       "      <th>BMI</th>\n",
       "    </tr>\n",
       "  </thead>\n",
       "  <tbody>\n",
       "    <tr>\n",
       "      <th>0</th>\n",
       "      <td>Alice</td>\n",
       "      <td>65.0</td>\n",
       "      <td>1.65</td>\n",
       "      <td>NaN</td>\n",
       "    </tr>\n",
       "    <tr>\n",
       "      <th>1</th>\n",
       "      <td>Bob</td>\n",
       "      <td>70.0</td>\n",
       "      <td>1.80</td>\n",
       "      <td>21.6</td>\n",
       "    </tr>\n",
       "    <tr>\n",
       "      <th>2</th>\n",
       "      <td>Charlie</td>\n",
       "      <td>85.0</td>\n",
       "      <td>1.75</td>\n",
       "      <td>27.8</td>\n",
       "    </tr>\n",
       "    <tr>\n",
       "      <th>3</th>\n",
       "      <td>David</td>\n",
       "      <td>NaN</td>\n",
       "      <td>1.70</td>\n",
       "      <td>NaN</td>\n",
       "    </tr>\n",
       "  </tbody>\n",
       "</table>\n",
       "</div>"
      ],
      "text/plain": [
       "      Name  Weight  Height   BMI\n",
       "0    Alice    65.0    1.65   NaN\n",
       "1      Bob    70.0    1.80  21.6\n",
       "2  Charlie    85.0    1.75  27.8\n",
       "3    David     NaN    1.70   NaN"
      ]
     },
     "execution_count": 44,
     "metadata": {},
     "output_type": "execute_result"
    }
   ],
   "source": [
    "df.loc[df.Weight>=70, \"BMI\"] = s2\n",
    "df"
   ]
  },
  {
   "cell_type": "raw",
   "id": "5fc4da81-dfb5-4acf-bac5-66dd179c4b06",
   "metadata": {},
   "source": [
    "다만, 이경우에는 나중에 사용되지 않을 행까지 포함한 모든 행에 대해서\n",
    "apply() 연산을 수행하기 때문에\n",
    "수행속도에는 불리합니다."
   ]
  },
  {
   "cell_type": "raw",
   "id": "0bf8efab-2926-4800-a679-945373910847",
   "metadata": {
    "tags": []
   },
   "source": [
    "이번에는 agg() 함수를 통해서 여러개의 집계함수를 동시에 적용하는 방법에 대해서 알아보도록 하겠습니다.\n",
    "pandas에 내장된 함수는 아래와 같습니다.\n"
   ]
  },
  {
   "cell_type": "markdown",
   "id": "2e483499-19e8-4ce4-b38b-32a718bfbc52",
   "metadata": {},
   "source": [
    "## agg()\n",
    "agg() 함수를 사용하면 여러 개의 집계 함수를 동시에 적용할 수 있으며, 그룹화된 데이터에서 원하는 다양한 집계 연산을 손쉽게 수행할 수 있습니다.\n",
    "\n",
    "내장 집계 함수:\n",
    "\n",
    "| 이름 | 기능 |\n",
    "|--|--|\n",
    "|mean()| 평균을 계산합니다.|\n",
    "|sum()| 합계를 계산합니다.|\n",
    "|min()| 최소값을 찾습니다.|\n",
    "|max()| 최대값을 찾습니다.|\n",
    "|count()| 데이터의 개수를 세어줍니다.|\n",
    "|median()| 중앙값을 계산합니다.|\n",
    "|std()| 표준편차를 계산합니다.|\n",
    "|var()| 분산을 계산합니다.|\n",
    "|quantile(q)| q-분위수를 계산합니다. (0 <= q <= 1)|\n"
   ]
  },
  {
   "cell_type": "raw",
   "id": "3b4fce01-d53b-404c-8d76-a4ca0fa7b7a2",
   "metadata": {},
   "source": [
    "예제를 통해서 확인해보도록 하겠습니다."
   ]
  },
  {
   "cell_type": "raw",
   "id": "d7e9a9a7-59d4-4d2d-9d02-0b8dcf73f1c1",
   "metadata": {},
   "source": [
    "우선 예제를 위한 데이터프레임을 생성하겠습니다."
   ]
  },
  {
   "cell_type": "code",
   "execution_count": 45,
   "id": "1765e6a3-207e-423e-94a3-b6d5a2e5716c",
   "metadata": {
    "tags": []
   },
   "outputs": [
    {
     "data": {
      "text/html": [
       "<div>\n",
       "<style scoped>\n",
       "    .dataframe tbody tr th:only-of-type {\n",
       "        vertical-align: middle;\n",
       "    }\n",
       "\n",
       "    .dataframe tbody tr th {\n",
       "        vertical-align: top;\n",
       "    }\n",
       "\n",
       "    .dataframe thead th {\n",
       "        text-align: right;\n",
       "    }\n",
       "</style>\n",
       "<table border=\"1\" class=\"dataframe\">\n",
       "  <thead>\n",
       "    <tr style=\"text-align: right;\">\n",
       "      <th></th>\n",
       "      <th>Name</th>\n",
       "      <th>Math</th>\n",
       "      <th>Eng</th>\n",
       "    </tr>\n",
       "  </thead>\n",
       "  <tbody>\n",
       "    <tr>\n",
       "      <th>A</th>\n",
       "      <td>Alice</td>\n",
       "      <td>75</td>\n",
       "      <td>83</td>\n",
       "    </tr>\n",
       "    <tr>\n",
       "      <th>B</th>\n",
       "      <td>Bob</td>\n",
       "      <td>51</td>\n",
       "      <td>81</td>\n",
       "    </tr>\n",
       "    <tr>\n",
       "      <th>C</th>\n",
       "      <td>Charlie</td>\n",
       "      <td>99</td>\n",
       "      <td>55</td>\n",
       "    </tr>\n",
       "    <tr>\n",
       "      <th>D</th>\n",
       "      <td>David</td>\n",
       "      <td>57</td>\n",
       "      <td>78</td>\n",
       "    </tr>\n",
       "  </tbody>\n",
       "</table>\n",
       "</div>"
      ],
      "text/plain": [
       "      Name  Math  Eng\n",
       "A    Alice    75   83\n",
       "B      Bob    51   81\n",
       "C  Charlie    99   55\n",
       "D    David    57   78"
      ]
     },
     "execution_count": 45,
     "metadata": {},
     "output_type": "execute_result"
    }
   ],
   "source": [
    "import pandas as pd\n",
    "import numpy as np\n",
    "data = dict(\n",
    "    Name=\"Alice Bob Charlie David\".split(\" \"),\n",
    "    Math=np.random.randint(50,100,4),\n",
    "    Eng=np.random.randint(50,100,4),\n",
    ")\n",
    "df = pd.DataFrame(data, index=list(\"ABCD\"))\n",
    "\n",
    "df"
   ]
  },
  {
   "cell_type": "raw",
   "id": "125f978d-d3d3-4a77-9030-d31a2cc2723f",
   "metadata": {},
   "source": [
    "agg 메소드는 모든 데이터가 수치형인 데이터프레임에 대해서만 적용이 가능합니다.\n",
    "그래서 수치형 데이터인 열을 추출한 데이터 프레임을 만든후\n",
    "agg()메소드를 호출합니다.\n",
    "agg() 메소드를 호출할때 파라미터로는 호출할 집계합수를 문자열의 배열형태로 넣어줍니다."
   ]
  },
  {
   "cell_type": "code",
   "execution_count": 46,
   "id": "cc13641e-29e6-44ce-95ea-87153ae9467c",
   "metadata": {
    "tags": []
   },
   "outputs": [
    {
     "data": {
      "text/html": [
       "<div>\n",
       "<style scoped>\n",
       "    .dataframe tbody tr th:only-of-type {\n",
       "        vertical-align: middle;\n",
       "    }\n",
       "\n",
       "    .dataframe tbody tr th {\n",
       "        vertical-align: top;\n",
       "    }\n",
       "\n",
       "    .dataframe thead th {\n",
       "        text-align: right;\n",
       "    }\n",
       "</style>\n",
       "<table border=\"1\" class=\"dataframe\">\n",
       "  <thead>\n",
       "    <tr style=\"text-align: right;\">\n",
       "      <th></th>\n",
       "      <th>Math</th>\n",
       "      <th>Eng</th>\n",
       "    </tr>\n",
       "  </thead>\n",
       "  <tbody>\n",
       "    <tr>\n",
       "      <th>sum</th>\n",
       "      <td>282.0</td>\n",
       "      <td>297.00</td>\n",
       "    </tr>\n",
       "    <tr>\n",
       "      <th>mean</th>\n",
       "      <td>70.5</td>\n",
       "      <td>74.25</td>\n",
       "    </tr>\n",
       "    <tr>\n",
       "      <th>max</th>\n",
       "      <td>99.0</td>\n",
       "      <td>83.00</td>\n",
       "    </tr>\n",
       "  </tbody>\n",
       "</table>\n",
       "</div>"
      ],
      "text/plain": [
       "       Math     Eng\n",
       "sum   282.0  297.00\n",
       "mean   70.5   74.25\n",
       "max    99.0   83.00"
      ]
     },
     "execution_count": 46,
     "metadata": {},
     "output_type": "execute_result"
    }
   ],
   "source": [
    "df.iloc[:,1:].agg([\"sum\", \"mean\", \"max\"])"
   ]
  },
  {
   "cell_type": "raw",
   "id": "9c5a2ac1-5c05-4806-979c-e7872973e2d6",
   "metadata": {},
   "source": [
    "위의 예제에서 Math와 Eng의 컬럼에 대해서 \n",
    "sum, mean, max의 집계함수의 결과를 호출한것을 확인할 수 있습니다."
   ]
  },
  {
   "cell_type": "raw",
   "id": "da04266c-fcef-4e30-8515-e0be4b031c0a",
   "metadata": {},
   "source": [
    "transpose 를 활용해서\n",
    "행 기준으로도 agg 함수를 통한 집계결과를 얻을 수 있습니다."
   ]
  },
  {
   "cell_type": "code",
   "execution_count": 47,
   "id": "4ae22777-55db-4237-b374-24202c4082b9",
   "metadata": {
    "tags": []
   },
   "outputs": [
    {
     "data": {
      "text/html": [
       "<div>\n",
       "<style scoped>\n",
       "    .dataframe tbody tr th:only-of-type {\n",
       "        vertical-align: middle;\n",
       "    }\n",
       "\n",
       "    .dataframe tbody tr th {\n",
       "        vertical-align: top;\n",
       "    }\n",
       "\n",
       "    .dataframe thead th {\n",
       "        text-align: right;\n",
       "    }\n",
       "</style>\n",
       "<table border=\"1\" class=\"dataframe\">\n",
       "  <thead>\n",
       "    <tr style=\"text-align: right;\">\n",
       "      <th></th>\n",
       "      <th>A</th>\n",
       "      <th>B</th>\n",
       "      <th>C</th>\n",
       "      <th>D</th>\n",
       "    </tr>\n",
       "  </thead>\n",
       "  <tbody>\n",
       "    <tr>\n",
       "      <th>sum</th>\n",
       "      <td>158.0</td>\n",
       "      <td>132.0</td>\n",
       "      <td>154.0</td>\n",
       "      <td>135.0</td>\n",
       "    </tr>\n",
       "    <tr>\n",
       "      <th>mean</th>\n",
       "      <td>79.0</td>\n",
       "      <td>66.0</td>\n",
       "      <td>77.0</td>\n",
       "      <td>67.5</td>\n",
       "    </tr>\n",
       "    <tr>\n",
       "      <th>max</th>\n",
       "      <td>83.0</td>\n",
       "      <td>81.0</td>\n",
       "      <td>99.0</td>\n",
       "      <td>78.0</td>\n",
       "    </tr>\n",
       "  </tbody>\n",
       "</table>\n",
       "</div>"
      ],
      "text/plain": [
       "          A      B      C      D\n",
       "sum   158.0  132.0  154.0  135.0\n",
       "mean   79.0   66.0   77.0   67.5\n",
       "max    83.0   81.0   99.0   78.0"
      ]
     },
     "execution_count": 47,
     "metadata": {},
     "output_type": "execute_result"
    }
   ],
   "source": [
    "df.iloc[:,1:].T.agg([\"sum\", \"mean\", \"max\"])"
   ]
  },
  {
   "cell_type": "raw",
   "id": "8ac8c9a7-3da2-4815-9a9e-2db92b8c9b0b",
   "metadata": {},
   "source": [
    "agg()의 파라미터는 내장 객체 뿐 아니라 사용자정의 함수도 입력할 수 있습니다."
   ]
  },
  {
   "cell_type": "code",
   "execution_count": 48,
   "id": "2c566ada-9d3c-4969-b45f-837d59140e74",
   "metadata": {
    "tags": []
   },
   "outputs": [],
   "source": [
    "def mean_squared_error(s):\n",
    "    mean = s.mean()\n",
    "    return (sum((s-mean)**2))**.5"
   ]
  },
  {
   "cell_type": "code",
   "execution_count": 49,
   "id": "c63133ab-a391-40da-bea3-e12bcbfa8eef",
   "metadata": {
    "tags": []
   },
   "outputs": [
    {
     "data": {
      "text/html": [
       "<div>\n",
       "<style scoped>\n",
       "    .dataframe tbody tr th:only-of-type {\n",
       "        vertical-align: middle;\n",
       "    }\n",
       "\n",
       "    .dataframe tbody tr th {\n",
       "        vertical-align: top;\n",
       "    }\n",
       "\n",
       "    .dataframe thead th {\n",
       "        text-align: right;\n",
       "    }\n",
       "</style>\n",
       "<table border=\"1\" class=\"dataframe\">\n",
       "  <thead>\n",
       "    <tr style=\"text-align: right;\">\n",
       "      <th></th>\n",
       "      <th>Math</th>\n",
       "      <th>Eng</th>\n",
       "    </tr>\n",
       "  </thead>\n",
       "  <tbody>\n",
       "    <tr>\n",
       "      <th>std</th>\n",
       "      <td>21.563859</td>\n",
       "      <td>12.996794</td>\n",
       "    </tr>\n",
       "    <tr>\n",
       "      <th>&lt;lambda&gt;</th>\n",
       "      <td>C</td>\n",
       "      <td>A</td>\n",
       "    </tr>\n",
       "    <tr>\n",
       "      <th>mean_squared_error</th>\n",
       "      <td>37.349699</td>\n",
       "      <td>22.511108</td>\n",
       "    </tr>\n",
       "  </tbody>\n",
       "</table>\n",
       "</div>"
      ],
      "text/plain": [
       "                         Math        Eng\n",
       "std                 21.563859  12.996794\n",
       "<lambda>                    C          A\n",
       "mean_squared_error  37.349699  22.511108"
      ]
     },
     "execution_count": 49,
     "metadata": {},
     "output_type": "execute_result"
    }
   ],
   "source": [
    "df.iloc[:,1:].agg([\"std\", lambda x: x.idxmax(), mean_squared_error])"
   ]
  },
  {
   "cell_type": "raw",
   "id": "0edc9be0-4924-4ff0-b217-af3218eb5d51",
   "metadata": {},
   "source": [
    "위의 코드를 실행해 보면 내장집계함수인 std, 그리고 lambda, 그리고 mean_squared_error 함수를 파라미터로 넣어주었을때\n",
    "각각의 결과가 행으로 나타나는 것을 볼 수 있습니다."
   ]
  },
  {
   "cell_type": "markdown",
   "id": "e144495d-517d-466f-98e0-107e6648e14d",
   "metadata": {},
   "source": [
    "## 손실데이터 처리\n",
    "\n",
    "누락된 값(결측치)을 적절한 값으로 대체하는 것입니다.  \n",
    "판다스(Pandas)에서는 `fillna()` 메서드를 사용하여 누락된 값을 다른 값으로 채울 수 있습니다."
   ]
  },
  {
   "cell_type": "raw",
   "id": "fe9dbc90-9f73-4391-9735-efb2a11c81b1",
   "metadata": {},
   "source": [
    "손실데이터 처리에 대해서 알아보도록 하겠습니다.\n",
    "손실데이터 처리란 누락된 값(결측치)을 적절한 값으로 대체하는 것입니다.\n",
    "판다스(Pandas)에서는 fillna() 메서드를 사용하여 누락된 값을 다른 값으로 채울 수 있습니다."
   ]
  },
  {
   "cell_type": "raw",
   "id": "b2da3e62-5af5-4d12-838e-e119d21ba752",
   "metadata": {},
   "source": [
    "예제를 통해서 알아보도록 하겠습니다.\n",
    "우선 예제코드를 위한 데이터 프레임을 생성하도록 하겠습니다."
   ]
  },
  {
   "cell_type": "code",
   "execution_count": 50,
   "id": "31413e2e-1284-46e4-bfcc-a5d3f6040ec6",
   "metadata": {
    "tags": []
   },
   "outputs": [
    {
     "data": {
      "text/html": [
       "<div>\n",
       "<style scoped>\n",
       "    .dataframe tbody tr th:only-of-type {\n",
       "        vertical-align: middle;\n",
       "    }\n",
       "\n",
       "    .dataframe tbody tr th {\n",
       "        vertical-align: top;\n",
       "    }\n",
       "\n",
       "    .dataframe thead th {\n",
       "        text-align: right;\n",
       "    }\n",
       "</style>\n",
       "<table border=\"1\" class=\"dataframe\">\n",
       "  <thead>\n",
       "    <tr style=\"text-align: right;\">\n",
       "      <th></th>\n",
       "      <th>C0</th>\n",
       "      <th>C1</th>\n",
       "      <th>C2</th>\n",
       "      <th>C3</th>\n",
       "      <th>C4</th>\n",
       "    </tr>\n",
       "  </thead>\n",
       "  <tbody>\n",
       "    <tr>\n",
       "      <th>R0</th>\n",
       "      <td>1</td>\n",
       "      <td>2.0</td>\n",
       "      <td>NaN</td>\n",
       "      <td>4.0</td>\n",
       "      <td>5.0</td>\n",
       "    </tr>\n",
       "    <tr>\n",
       "      <th>R1</th>\n",
       "      <td>10</td>\n",
       "      <td>NaN</td>\n",
       "      <td>30.0</td>\n",
       "      <td>NaN</td>\n",
       "      <td>50.0</td>\n",
       "    </tr>\n",
       "    <tr>\n",
       "      <th>R2</th>\n",
       "      <td>100</td>\n",
       "      <td>200.0</td>\n",
       "      <td>300.0</td>\n",
       "      <td>NaN</td>\n",
       "      <td>NaN</td>\n",
       "    </tr>\n",
       "  </tbody>\n",
       "</table>\n",
       "</div>"
      ],
      "text/plain": [
       "     C0     C1     C2   C3    C4\n",
       "R0    1    2.0    NaN  4.0   5.0\n",
       "R1   10    NaN   30.0  NaN  50.0\n",
       "R2  100  200.0  300.0  NaN   NaN"
      ]
     },
     "execution_count": 50,
     "metadata": {},
     "output_type": "execute_result"
    }
   ],
   "source": [
    "import pandas as pd\n",
    "import numpy as np\n",
    "\n",
    "# 데이터 생성 (일부 값이 누락된 데이터)\n",
    "data = [\n",
    "    [1, 2, np.nan, 4, 5],\n",
    "    [10, np.nan, 30, np.nan, 50],\n",
    "    [100, 200, 300, np.nan, np.nan]\n",
    "]\n",
    "\n",
    "df = pd.DataFrame(\n",
    "    data, \n",
    "    index=[f\"R{i}\" for i in range(len(data))],\n",
    "    columns=[f\"C{i}\" for i in range(len(data[0]))]\n",
    ")\n",
    "df"
   ]
  },
  {
   "cell_type": "raw",
   "id": "b5c670d5-1b8c-4649-837d-21496d687987",
   "metadata": {},
   "source": [
    "위의 데이터 프레임에서 NaN이라고 되어 있는 부분은 데이터가 없는 부분이고\n",
    "결측치라고 불리우는 부분입니다."
   ]
  },
  {
   "cell_type": "raw",
   "id": "0f489861-064c-44cd-99a4-712b7d498b34",
   "metadata": {},
   "source": [
    "우선 데이터 프레임에 결측치가 얼마나 있는지에 알아보는 방법에 대해서 확인해보도록 하겠습니다."
   ]
  },
  {
   "cell_type": "raw",
   "id": "b4fbc555-9746-4d57-8902-20117ab9cbd5",
   "metadata": {},
   "source": [
    "우선 df.info를 활용하는 방법입니다.\n",
    "이경우에는 각 컬럼별로 결측치가 아닌 데이터의 갯수를 확인할 수 있습니다."
   ]
  },
  {
   "cell_type": "code",
   "execution_count": 51,
   "id": "ee8652d5-472b-4512-9495-86d529596402",
   "metadata": {
    "tags": []
   },
   "outputs": [
    {
     "name": "stdout",
     "output_type": "stream",
     "text": [
      "<class 'pandas.core.frame.DataFrame'>\n",
      "Index: 3 entries, R0 to R2\n",
      "Data columns (total 5 columns):\n",
      " #   Column  Non-Null Count  Dtype  \n",
      "---  ------  --------------  -----  \n",
      " 0   C0      3 non-null      int64  \n",
      " 1   C1      2 non-null      float64\n",
      " 2   C2      2 non-null      float64\n",
      " 3   C3      1 non-null      float64\n",
      " 4   C4      2 non-null      float64\n",
      "dtypes: float64(4), int64(1)\n",
      "memory usage: 144.0+ bytes\n"
     ]
    }
   ],
   "source": [
    "df.info()"
   ]
  },
  {
   "cell_type": "raw",
   "id": "3e562a06-aeb2-437e-b248-9a4cfc79b6f7",
   "metadata": {},
   "source": [
    "그리고 다른 방법은 isna()를 호출하는 방법입니다.\n",
    "isna()는 결측치 일경우 True를 반환하게 됩니다."
   ]
  },
  {
   "cell_type": "code",
   "execution_count": 52,
   "id": "60a11ddf-3194-4bd4-bed4-4a975f31a9a9",
   "metadata": {
    "tags": []
   },
   "outputs": [
    {
     "data": {
      "text/html": [
       "<div>\n",
       "<style scoped>\n",
       "    .dataframe tbody tr th:only-of-type {\n",
       "        vertical-align: middle;\n",
       "    }\n",
       "\n",
       "    .dataframe tbody tr th {\n",
       "        vertical-align: top;\n",
       "    }\n",
       "\n",
       "    .dataframe thead th {\n",
       "        text-align: right;\n",
       "    }\n",
       "</style>\n",
       "<table border=\"1\" class=\"dataframe\">\n",
       "  <thead>\n",
       "    <tr style=\"text-align: right;\">\n",
       "      <th></th>\n",
       "      <th>C0</th>\n",
       "      <th>C1</th>\n",
       "      <th>C2</th>\n",
       "      <th>C3</th>\n",
       "      <th>C4</th>\n",
       "    </tr>\n",
       "  </thead>\n",
       "  <tbody>\n",
       "    <tr>\n",
       "      <th>R0</th>\n",
       "      <td>False</td>\n",
       "      <td>False</td>\n",
       "      <td>True</td>\n",
       "      <td>False</td>\n",
       "      <td>False</td>\n",
       "    </tr>\n",
       "    <tr>\n",
       "      <th>R1</th>\n",
       "      <td>False</td>\n",
       "      <td>True</td>\n",
       "      <td>False</td>\n",
       "      <td>True</td>\n",
       "      <td>False</td>\n",
       "    </tr>\n",
       "    <tr>\n",
       "      <th>R2</th>\n",
       "      <td>False</td>\n",
       "      <td>False</td>\n",
       "      <td>False</td>\n",
       "      <td>True</td>\n",
       "      <td>True</td>\n",
       "    </tr>\n",
       "  </tbody>\n",
       "</table>\n",
       "</div>"
      ],
      "text/plain": [
       "       C0     C1     C2     C3     C4\n",
       "R0  False  False   True  False  False\n",
       "R1  False   True  False   True  False\n",
       "R2  False  False  False   True   True"
      ]
     },
     "execution_count": 52,
     "metadata": {},
     "output_type": "execute_result"
    }
   ],
   "source": [
    "df.isna()"
   ]
  },
  {
   "cell_type": "raw",
   "id": "89e07800-f629-4866-9d68-d273f3783786",
   "metadata": {},
   "source": [
    "이를 기반으로 판다스 내장 집계햠수인 sum()을 활용하면 \n",
    "각 행, 각 열 또는 데이터 프레임 전체에서의 결측치의 갯수를 알 수 있습니다."
   ]
  },
  {
   "cell_type": "code",
   "execution_count": 53,
   "id": "ba65f81d-3da8-4fba-bfaa-e88adf2357b5",
   "metadata": {
    "tags": []
   },
   "outputs": [
    {
     "data": {
      "text/plain": [
       "C0    0\n",
       "C1    1\n",
       "C2    1\n",
       "C3    2\n",
       "C4    1\n",
       "dtype: int64"
      ]
     },
     "execution_count": 53,
     "metadata": {},
     "output_type": "execute_result"
    }
   ],
   "source": [
    "# 각 열의 결측치 갯수\n",
    "df.isna().sum()"
   ]
  },
  {
   "cell_type": "code",
   "execution_count": 54,
   "id": "6d33fe1b-b6e2-4fee-8e07-babdefc7d4f2",
   "metadata": {
    "tags": []
   },
   "outputs": [
    {
     "data": {
      "text/plain": [
       "R0    1\n",
       "R1    2\n",
       "R2    2\n",
       "dtype: int64"
      ]
     },
     "execution_count": 54,
     "metadata": {},
     "output_type": "execute_result"
    }
   ],
   "source": [
    "# 각 행의 결측치 갯수\n",
    "df.isna().sum(axis=1)"
   ]
  },
  {
   "cell_type": "code",
   "execution_count": 55,
   "id": "5b390717-e6d4-4ac7-b443-4094efa7b343",
   "metadata": {
    "tags": []
   },
   "outputs": [
    {
     "data": {
      "text/plain": [
       "5"
      ]
     },
     "execution_count": 55,
     "metadata": {},
     "output_type": "execute_result"
    }
   ],
   "source": [
    "# 전체 결측치 개수\n",
    "df.isna().sum().sum()"
   ]
  },
  {
   "cell_type": "raw",
   "id": "6ff3cc44-cf79-4179-83ac-880190e30034",
   "metadata": {},
   "source": [
    "notna()는 결측치가 아닐 경우 True를 리턴합니다."
   ]
  },
  {
   "cell_type": "code",
   "execution_count": 56,
   "id": "b8b8aa66-0a09-4109-8d87-3e71c25232be",
   "metadata": {
    "tags": []
   },
   "outputs": [
    {
     "data": {
      "text/html": [
       "<div>\n",
       "<style scoped>\n",
       "    .dataframe tbody tr th:only-of-type {\n",
       "        vertical-align: middle;\n",
       "    }\n",
       "\n",
       "    .dataframe tbody tr th {\n",
       "        vertical-align: top;\n",
       "    }\n",
       "\n",
       "    .dataframe thead th {\n",
       "        text-align: right;\n",
       "    }\n",
       "</style>\n",
       "<table border=\"1\" class=\"dataframe\">\n",
       "  <thead>\n",
       "    <tr style=\"text-align: right;\">\n",
       "      <th></th>\n",
       "      <th>C0</th>\n",
       "      <th>C1</th>\n",
       "      <th>C2</th>\n",
       "      <th>C3</th>\n",
       "      <th>C4</th>\n",
       "    </tr>\n",
       "  </thead>\n",
       "  <tbody>\n",
       "    <tr>\n",
       "      <th>R0</th>\n",
       "      <td>True</td>\n",
       "      <td>True</td>\n",
       "      <td>False</td>\n",
       "      <td>True</td>\n",
       "      <td>True</td>\n",
       "    </tr>\n",
       "    <tr>\n",
       "      <th>R1</th>\n",
       "      <td>True</td>\n",
       "      <td>False</td>\n",
       "      <td>True</td>\n",
       "      <td>False</td>\n",
       "      <td>True</td>\n",
       "    </tr>\n",
       "    <tr>\n",
       "      <th>R2</th>\n",
       "      <td>True</td>\n",
       "      <td>True</td>\n",
       "      <td>True</td>\n",
       "      <td>False</td>\n",
       "      <td>False</td>\n",
       "    </tr>\n",
       "  </tbody>\n",
       "</table>\n",
       "</div>"
      ],
      "text/plain": [
       "      C0     C1     C2     C3     C4\n",
       "R0  True   True  False   True   True\n",
       "R1  True  False   True  False   True\n",
       "R2  True   True   True  False  False"
      ]
     },
     "execution_count": 56,
     "metadata": {},
     "output_type": "execute_result"
    }
   ],
   "source": [
    "df.notna()"
   ]
  },
  {
   "cell_type": "raw",
   "id": "1652b269-f6a7-49bd-b15e-1b77cb6ed0c7",
   "metadata": {},
   "source": [
    "결측치가 아닌 전체 데이터의 갯수를 구하는 방법입니다."
   ]
  },
  {
   "cell_type": "code",
   "execution_count": 57,
   "id": "626af8b9-b687-4735-8856-84a6bf121e1d",
   "metadata": {
    "tags": []
   },
   "outputs": [
    {
     "data": {
      "text/plain": [
       "C0    3\n",
       "C1    2\n",
       "C2    2\n",
       "C3    1\n",
       "C4    2\n",
       "dtype: int64"
      ]
     },
     "execution_count": 57,
     "metadata": {},
     "output_type": "execute_result"
    }
   ],
   "source": [
    "df.notna().sum()"
   ]
  },
  {
   "cell_type": "code",
   "execution_count": 58,
   "id": "3ddcf755-5ac8-4abc-92ef-55938fe4919d",
   "metadata": {
    "tags": []
   },
   "outputs": [
    {
     "data": {
      "text/plain": [
       "10"
      ]
     },
     "execution_count": 58,
     "metadata": {},
     "output_type": "execute_result"
    }
   ],
   "source": [
    "df.notna().sum().sum()"
   ]
  },
  {
   "cell_type": "raw",
   "id": "39d84b33-4341-4ce1-8992-a418dfaf2fb2",
   "metadata": {},
   "source": [
    "describe()를 호출해보면 count 값이 결측치가 아닌 값들의 갯수임을 알 수 있습니다."
   ]
  },
  {
   "cell_type": "code",
   "execution_count": 59,
   "id": "dfcd285e-f693-4380-bf54-dfcf9e5bbcd3",
   "metadata": {
    "tags": []
   },
   "outputs": [
    {
     "data": {
      "text/html": [
       "<div>\n",
       "<style scoped>\n",
       "    .dataframe tbody tr th:only-of-type {\n",
       "        vertical-align: middle;\n",
       "    }\n",
       "\n",
       "    .dataframe tbody tr th {\n",
       "        vertical-align: top;\n",
       "    }\n",
       "\n",
       "    .dataframe thead th {\n",
       "        text-align: right;\n",
       "    }\n",
       "</style>\n",
       "<table border=\"1\" class=\"dataframe\">\n",
       "  <thead>\n",
       "    <tr style=\"text-align: right;\">\n",
       "      <th></th>\n",
       "      <th>C0</th>\n",
       "      <th>C1</th>\n",
       "      <th>C2</th>\n",
       "      <th>C3</th>\n",
       "      <th>C4</th>\n",
       "    </tr>\n",
       "  </thead>\n",
       "  <tbody>\n",
       "    <tr>\n",
       "      <th>count</th>\n",
       "      <td>3.000000</td>\n",
       "      <td>2.000000</td>\n",
       "      <td>2.000000</td>\n",
       "      <td>1.0</td>\n",
       "      <td>2.000000</td>\n",
       "    </tr>\n",
       "    <tr>\n",
       "      <th>mean</th>\n",
       "      <td>37.000000</td>\n",
       "      <td>101.000000</td>\n",
       "      <td>165.000000</td>\n",
       "      <td>4.0</td>\n",
       "      <td>27.500000</td>\n",
       "    </tr>\n",
       "    <tr>\n",
       "      <th>std</th>\n",
       "      <td>54.744863</td>\n",
       "      <td>140.007143</td>\n",
       "      <td>190.918831</td>\n",
       "      <td>NaN</td>\n",
       "      <td>31.819805</td>\n",
       "    </tr>\n",
       "    <tr>\n",
       "      <th>min</th>\n",
       "      <td>1.000000</td>\n",
       "      <td>2.000000</td>\n",
       "      <td>30.000000</td>\n",
       "      <td>4.0</td>\n",
       "      <td>5.000000</td>\n",
       "    </tr>\n",
       "    <tr>\n",
       "      <th>25%</th>\n",
       "      <td>5.500000</td>\n",
       "      <td>51.500000</td>\n",
       "      <td>97.500000</td>\n",
       "      <td>4.0</td>\n",
       "      <td>16.250000</td>\n",
       "    </tr>\n",
       "    <tr>\n",
       "      <th>50%</th>\n",
       "      <td>10.000000</td>\n",
       "      <td>101.000000</td>\n",
       "      <td>165.000000</td>\n",
       "      <td>4.0</td>\n",
       "      <td>27.500000</td>\n",
       "    </tr>\n",
       "    <tr>\n",
       "      <th>75%</th>\n",
       "      <td>55.000000</td>\n",
       "      <td>150.500000</td>\n",
       "      <td>232.500000</td>\n",
       "      <td>4.0</td>\n",
       "      <td>38.750000</td>\n",
       "    </tr>\n",
       "    <tr>\n",
       "      <th>max</th>\n",
       "      <td>100.000000</td>\n",
       "      <td>200.000000</td>\n",
       "      <td>300.000000</td>\n",
       "      <td>4.0</td>\n",
       "      <td>50.000000</td>\n",
       "    </tr>\n",
       "  </tbody>\n",
       "</table>\n",
       "</div>"
      ],
      "text/plain": [
       "               C0          C1          C2   C3         C4\n",
       "count    3.000000    2.000000    2.000000  1.0   2.000000\n",
       "mean    37.000000  101.000000  165.000000  4.0  27.500000\n",
       "std     54.744863  140.007143  190.918831  NaN  31.819805\n",
       "min      1.000000    2.000000   30.000000  4.0   5.000000\n",
       "25%      5.500000   51.500000   97.500000  4.0  16.250000\n",
       "50%     10.000000  101.000000  165.000000  4.0  27.500000\n",
       "75%     55.000000  150.500000  232.500000  4.0  38.750000\n",
       "max    100.000000  200.000000  300.000000  4.0  50.000000"
      ]
     },
     "execution_count": 59,
     "metadata": {},
     "output_type": "execute_result"
    }
   ],
   "source": [
    "df.describe()"
   ]
  },
  {
   "cell_type": "raw",
   "id": "88f023b6-7478-44f2-9033-8bcf5fb92b18",
   "metadata": {},
   "source": [
    "이번에는 fillna()를 사용하여 누락된 값을 대체하는 방법을 알아보도록 하겠습니다."
   ]
  },
  {
   "cell_type": "code",
   "execution_count": 60,
   "id": "669dc826-1f55-404b-813f-86980519cfb5",
   "metadata": {
    "tags": []
   },
   "outputs": [
    {
     "data": {
      "text/html": [
       "<div>\n",
       "<style scoped>\n",
       "    .dataframe tbody tr th:only-of-type {\n",
       "        vertical-align: middle;\n",
       "    }\n",
       "\n",
       "    .dataframe tbody tr th {\n",
       "        vertical-align: top;\n",
       "    }\n",
       "\n",
       "    .dataframe thead th {\n",
       "        text-align: right;\n",
       "    }\n",
       "</style>\n",
       "<table border=\"1\" class=\"dataframe\">\n",
       "  <thead>\n",
       "    <tr style=\"text-align: right;\">\n",
       "      <th></th>\n",
       "      <th>C0</th>\n",
       "      <th>C1</th>\n",
       "      <th>C2</th>\n",
       "      <th>C3</th>\n",
       "      <th>C4</th>\n",
       "    </tr>\n",
       "  </thead>\n",
       "  <tbody>\n",
       "    <tr>\n",
       "      <th>R0</th>\n",
       "      <td>1</td>\n",
       "      <td>2.0</td>\n",
       "      <td>0.0</td>\n",
       "      <td>4.0</td>\n",
       "      <td>5.0</td>\n",
       "    </tr>\n",
       "    <tr>\n",
       "      <th>R1</th>\n",
       "      <td>10</td>\n",
       "      <td>0.0</td>\n",
       "      <td>30.0</td>\n",
       "      <td>0.0</td>\n",
       "      <td>50.0</td>\n",
       "    </tr>\n",
       "    <tr>\n",
       "      <th>R2</th>\n",
       "      <td>100</td>\n",
       "      <td>200.0</td>\n",
       "      <td>300.0</td>\n",
       "      <td>0.0</td>\n",
       "      <td>0.0</td>\n",
       "    </tr>\n",
       "  </tbody>\n",
       "</table>\n",
       "</div>"
      ],
      "text/plain": [
       "     C0     C1     C2   C3    C4\n",
       "R0    1    2.0    0.0  4.0   5.0\n",
       "R1   10    0.0   30.0  0.0  50.0\n",
       "R2  100  200.0  300.0  0.0   0.0"
      ]
     },
     "execution_count": 60,
     "metadata": {},
     "output_type": "execute_result"
    }
   ],
   "source": [
    "# 누락된 값을 0으로 대체\n",
    "df2 = df.fillna(0)\n",
    "df2"
   ]
  },
  {
   "cell_type": "raw",
   "id": "f9c3ddab-daa5-4252-96bb-451ac059a38b",
   "metadata": {},
   "source": [
    "df.fillna(0)를 호출하면 NaN 데이터가 \n",
    "fillna()를 호출할때 파라미터로 넣었던 0으로 변경된 것을 확인할 수 있습니다."
   ]
  },
  {
   "cell_type": "raw",
   "id": "faa4bc54-debf-407d-b84a-d26a81ff24ee",
   "metadata": {},
   "source": [
    "fillna() 역시 원본데이터를 변경시키지는 않습니다."
   ]
  },
  {
   "cell_type": "code",
   "execution_count": 61,
   "id": "1fb60f45-db25-48e3-baae-138199c297f6",
   "metadata": {
    "tags": []
   },
   "outputs": [
    {
     "data": {
      "text/html": [
       "<div>\n",
       "<style scoped>\n",
       "    .dataframe tbody tr th:only-of-type {\n",
       "        vertical-align: middle;\n",
       "    }\n",
       "\n",
       "    .dataframe tbody tr th {\n",
       "        vertical-align: top;\n",
       "    }\n",
       "\n",
       "    .dataframe thead th {\n",
       "        text-align: right;\n",
       "    }\n",
       "</style>\n",
       "<table border=\"1\" class=\"dataframe\">\n",
       "  <thead>\n",
       "    <tr style=\"text-align: right;\">\n",
       "      <th></th>\n",
       "      <th>C0</th>\n",
       "      <th>C1</th>\n",
       "      <th>C2</th>\n",
       "      <th>C3</th>\n",
       "      <th>C4</th>\n",
       "    </tr>\n",
       "  </thead>\n",
       "  <tbody>\n",
       "    <tr>\n",
       "      <th>R0</th>\n",
       "      <td>1</td>\n",
       "      <td>2.0</td>\n",
       "      <td>NaN</td>\n",
       "      <td>4.0</td>\n",
       "      <td>5.0</td>\n",
       "    </tr>\n",
       "    <tr>\n",
       "      <th>R1</th>\n",
       "      <td>10</td>\n",
       "      <td>NaN</td>\n",
       "      <td>30.0</td>\n",
       "      <td>NaN</td>\n",
       "      <td>50.0</td>\n",
       "    </tr>\n",
       "    <tr>\n",
       "      <th>R2</th>\n",
       "      <td>100</td>\n",
       "      <td>200.0</td>\n",
       "      <td>300.0</td>\n",
       "      <td>NaN</td>\n",
       "      <td>NaN</td>\n",
       "    </tr>\n",
       "  </tbody>\n",
       "</table>\n",
       "</div>"
      ],
      "text/plain": [
       "     C0     C1     C2   C3    C4\n",
       "R0    1    2.0    NaN  4.0   5.0\n",
       "R1   10    NaN   30.0  NaN  50.0\n",
       "R2  100  200.0  300.0  NaN   NaN"
      ]
     },
     "execution_count": 61,
     "metadata": {},
     "output_type": "execute_result"
    }
   ],
   "source": [
    "df"
   ]
  },
  {
   "cell_type": "raw",
   "id": "19d2956c-73ec-4fa9-af22-0a2be3889830",
   "metadata": {},
   "source": [
    "원본 데이터를 변화시키기 위해서는 inplace=True 파라미터를 넣어주면 됩니다."
   ]
  },
  {
   "cell_type": "code",
   "execution_count": 62,
   "id": "b95eb3f8-dc1f-4265-a5d3-1aa82dfb6659",
   "metadata": {
    "tags": []
   },
   "outputs": [
    {
     "data": {
      "text/html": [
       "<div>\n",
       "<style scoped>\n",
       "    .dataframe tbody tr th:only-of-type {\n",
       "        vertical-align: middle;\n",
       "    }\n",
       "\n",
       "    .dataframe tbody tr th {\n",
       "        vertical-align: top;\n",
       "    }\n",
       "\n",
       "    .dataframe thead th {\n",
       "        text-align: right;\n",
       "    }\n",
       "</style>\n",
       "<table border=\"1\" class=\"dataframe\">\n",
       "  <thead>\n",
       "    <tr style=\"text-align: right;\">\n",
       "      <th></th>\n",
       "      <th>C0</th>\n",
       "      <th>C1</th>\n",
       "      <th>C2</th>\n",
       "      <th>C3</th>\n",
       "      <th>C4</th>\n",
       "    </tr>\n",
       "  </thead>\n",
       "  <tbody>\n",
       "    <tr>\n",
       "      <th>R0</th>\n",
       "      <td>1</td>\n",
       "      <td>2.0</td>\n",
       "      <td>0.0</td>\n",
       "      <td>4.0</td>\n",
       "      <td>5.0</td>\n",
       "    </tr>\n",
       "    <tr>\n",
       "      <th>R1</th>\n",
       "      <td>10</td>\n",
       "      <td>0.0</td>\n",
       "      <td>30.0</td>\n",
       "      <td>0.0</td>\n",
       "      <td>50.0</td>\n",
       "    </tr>\n",
       "    <tr>\n",
       "      <th>R2</th>\n",
       "      <td>100</td>\n",
       "      <td>200.0</td>\n",
       "      <td>300.0</td>\n",
       "      <td>0.0</td>\n",
       "      <td>0.0</td>\n",
       "    </tr>\n",
       "  </tbody>\n",
       "</table>\n",
       "</div>"
      ],
      "text/plain": [
       "     C0     C1     C2   C3    C4\n",
       "R0    1    2.0    0.0  4.0   5.0\n",
       "R1   10    0.0   30.0  0.0  50.0\n",
       "R2  100  200.0  300.0  0.0   0.0"
      ]
     },
     "execution_count": 62,
     "metadata": {},
     "output_type": "execute_result"
    }
   ],
   "source": [
    "df.fillna(0, inplace=True)\n",
    "df"
   ]
  },
  {
   "cell_type": "raw",
   "id": "9bab22dc-33cf-46ef-9dd1-241f14f5808b",
   "metadata": {},
   "source": [
    "이번에는 fillna()를 활용하여 누락된 값을 각 컬럼의 평균 값으로 대체해보도록 하겟습니다.\n",
    "이때는 fillna의 파라미터에 df.mean()을 넣어주면 됩니다. "
   ]
  },
  {
   "cell_type": "code",
   "execution_count": 63,
   "id": "75bc4173-e60e-4645-a32f-4df637f09459",
   "metadata": {
    "tags": []
   },
   "outputs": [
    {
     "data": {
      "text/html": [
       "<div>\n",
       "<style scoped>\n",
       "    .dataframe tbody tr th:only-of-type {\n",
       "        vertical-align: middle;\n",
       "    }\n",
       "\n",
       "    .dataframe tbody tr th {\n",
       "        vertical-align: top;\n",
       "    }\n",
       "\n",
       "    .dataframe thead th {\n",
       "        text-align: right;\n",
       "    }\n",
       "</style>\n",
       "<table border=\"1\" class=\"dataframe\">\n",
       "  <thead>\n",
       "    <tr style=\"text-align: right;\">\n",
       "      <th></th>\n",
       "      <th>C0</th>\n",
       "      <th>C1</th>\n",
       "      <th>C2</th>\n",
       "      <th>C3</th>\n",
       "      <th>C4</th>\n",
       "    </tr>\n",
       "  </thead>\n",
       "  <tbody>\n",
       "    <tr>\n",
       "      <th>R0</th>\n",
       "      <td>1</td>\n",
       "      <td>2.0</td>\n",
       "      <td>NaN</td>\n",
       "      <td>4.0</td>\n",
       "      <td>5.0</td>\n",
       "    </tr>\n",
       "    <tr>\n",
       "      <th>R1</th>\n",
       "      <td>10</td>\n",
       "      <td>NaN</td>\n",
       "      <td>30.0</td>\n",
       "      <td>NaN</td>\n",
       "      <td>50.0</td>\n",
       "    </tr>\n",
       "    <tr>\n",
       "      <th>R2</th>\n",
       "      <td>100</td>\n",
       "      <td>200.0</td>\n",
       "      <td>300.0</td>\n",
       "      <td>NaN</td>\n",
       "      <td>NaN</td>\n",
       "    </tr>\n",
       "  </tbody>\n",
       "</table>\n",
       "</div>"
      ],
      "text/plain": [
       "     C0     C1     C2   C3    C4\n",
       "R0    1    2.0    NaN  4.0   5.0\n",
       "R1   10    NaN   30.0  NaN  50.0\n",
       "R2  100  200.0  300.0  NaN   NaN"
      ]
     },
     "execution_count": 63,
     "metadata": {},
     "output_type": "execute_result"
    }
   ],
   "source": [
    "import pandas as pd\n",
    "import numpy as np\n",
    "\n",
    "# 데이터 생성 (일부 값이 누락된 데이터)\n",
    "data = [\n",
    "    [1, 2, np.nan, 4, 5],\n",
    "    [10, np.nan, 30, np.nan, 50],\n",
    "    [100, 200, 300, np.nan, np.nan]\n",
    "]\n",
    "\n",
    "df = pd.DataFrame(\n",
    "    data, \n",
    "    index=[f\"R{i}\" for i in range(len(data))],\n",
    "    columns=[f\"C{i}\" for i in range(len(data[0]))]\n",
    ")\n",
    "df"
   ]
  },
  {
   "cell_type": "code",
   "execution_count": 64,
   "id": "087e08ee-3cad-4a0d-a9a3-670ffd35dbcf",
   "metadata": {
    "tags": []
   },
   "outputs": [
    {
     "name": "stdout",
     "output_type": "stream",
     "text": [
      "df.mean():  C0     37.0\n",
      "C1    101.0\n",
      "C2    165.0\n",
      "C3      4.0\n",
      "C4     27.5\n",
      "dtype: float64\n"
     ]
    },
    {
     "data": {
      "text/html": [
       "<div>\n",
       "<style scoped>\n",
       "    .dataframe tbody tr th:only-of-type {\n",
       "        vertical-align: middle;\n",
       "    }\n",
       "\n",
       "    .dataframe tbody tr th {\n",
       "        vertical-align: top;\n",
       "    }\n",
       "\n",
       "    .dataframe thead th {\n",
       "        text-align: right;\n",
       "    }\n",
       "</style>\n",
       "<table border=\"1\" class=\"dataframe\">\n",
       "  <thead>\n",
       "    <tr style=\"text-align: right;\">\n",
       "      <th></th>\n",
       "      <th>C0</th>\n",
       "      <th>C1</th>\n",
       "      <th>C2</th>\n",
       "      <th>C3</th>\n",
       "      <th>C4</th>\n",
       "    </tr>\n",
       "  </thead>\n",
       "  <tbody>\n",
       "    <tr>\n",
       "      <th>R0</th>\n",
       "      <td>1</td>\n",
       "      <td>2.0</td>\n",
       "      <td>165.0</td>\n",
       "      <td>4.0</td>\n",
       "      <td>5.0</td>\n",
       "    </tr>\n",
       "    <tr>\n",
       "      <th>R1</th>\n",
       "      <td>10</td>\n",
       "      <td>101.0</td>\n",
       "      <td>30.0</td>\n",
       "      <td>4.0</td>\n",
       "      <td>50.0</td>\n",
       "    </tr>\n",
       "    <tr>\n",
       "      <th>R2</th>\n",
       "      <td>100</td>\n",
       "      <td>200.0</td>\n",
       "      <td>300.0</td>\n",
       "      <td>4.0</td>\n",
       "      <td>27.5</td>\n",
       "    </tr>\n",
       "  </tbody>\n",
       "</table>\n",
       "</div>"
      ],
      "text/plain": [
       "     C0     C1     C2   C3    C4\n",
       "R0    1    2.0  165.0  4.0   5.0\n",
       "R1   10  101.0   30.0  4.0  50.0\n",
       "R2  100  200.0  300.0  4.0  27.5"
      ]
     },
     "execution_count": 64,
     "metadata": {},
     "output_type": "execute_result"
    }
   ],
   "source": [
    "# 누락된 값을 각 컬럼의 평균값으로 대체\n",
    "print(\"df.mean(): \", df.mean())\n",
    "df2 = df.fillna(df.mean())\n",
    "df2"
   ]
  },
  {
   "cell_type": "raw",
   "id": "c7b639f8-fe8e-41b0-9f26-320ab4edb427",
   "metadata": {},
   "source": [
    "위의 코드를 실행시켜 보면\n",
    "각 결측치가 해당 컬럼의 평균값으로 입력되었음을 볼 수 있습니다."
   ]
  },
  {
   "cell_type": "raw",
   "id": "2d181844-7e39-42be-9de6-349ab950b06d",
   "metadata": {},
   "source": [
    "이번에는 결측치를 바로 이전의 값으로 넣는 방법을 알아보도록 하겠습니다.\n",
    "바로 이전 값으로 결측치를 채우기 위해서는\n",
    "fillna를 호출할때 method=\"ffill\" 을 파라미터로 넣어주면 됩니다."
   ]
  },
  {
   "cell_type": "code",
   "execution_count": 65,
   "id": "5896223e-6dd0-4055-812b-b8454ac55855",
   "metadata": {
    "tags": []
   },
   "outputs": [
    {
     "data": {
      "text/html": [
       "<div>\n",
       "<style scoped>\n",
       "    .dataframe tbody tr th:only-of-type {\n",
       "        vertical-align: middle;\n",
       "    }\n",
       "\n",
       "    .dataframe tbody tr th {\n",
       "        vertical-align: top;\n",
       "    }\n",
       "\n",
       "    .dataframe thead th {\n",
       "        text-align: right;\n",
       "    }\n",
       "</style>\n",
       "<table border=\"1\" class=\"dataframe\">\n",
       "  <thead>\n",
       "    <tr style=\"text-align: right;\">\n",
       "      <th></th>\n",
       "      <th>C0</th>\n",
       "      <th>C1</th>\n",
       "      <th>C2</th>\n",
       "      <th>C3</th>\n",
       "      <th>C4</th>\n",
       "    </tr>\n",
       "  </thead>\n",
       "  <tbody>\n",
       "    <tr>\n",
       "      <th>R0</th>\n",
       "      <td>1</td>\n",
       "      <td>2.0</td>\n",
       "      <td>NaN</td>\n",
       "      <td>4.0</td>\n",
       "      <td>5.0</td>\n",
       "    </tr>\n",
       "    <tr>\n",
       "      <th>R1</th>\n",
       "      <td>10</td>\n",
       "      <td>2.0</td>\n",
       "      <td>30.0</td>\n",
       "      <td>4.0</td>\n",
       "      <td>50.0</td>\n",
       "    </tr>\n",
       "    <tr>\n",
       "      <th>R2</th>\n",
       "      <td>100</td>\n",
       "      <td>200.0</td>\n",
       "      <td>300.0</td>\n",
       "      <td>4.0</td>\n",
       "      <td>50.0</td>\n",
       "    </tr>\n",
       "  </tbody>\n",
       "</table>\n",
       "</div>"
      ],
      "text/plain": [
       "     C0     C1     C2   C3    C4\n",
       "R0    1    2.0    NaN  4.0   5.0\n",
       "R1   10    2.0   30.0  4.0  50.0\n",
       "R2  100  200.0  300.0  4.0  50.0"
      ]
     },
     "execution_count": 65,
     "metadata": {},
     "output_type": "execute_result"
    }
   ],
   "source": [
    "# 누락된 값을 바로 앞의 값으로 대체 (forward fill)\n",
    "df2 = df.fillna(method='ffill')\n",
    "df2\n"
   ]
  },
  {
   "cell_type": "raw",
   "id": "c85a5a81-0e1d-4aa8-8a53-fc5478a8e725",
   "metadata": {},
   "source": [
    "이번에는 두개 이상의 dataframe을 결합하는 방법에 대해서 알아보겠습니다."
   ]
  },
  {
   "cell_type": "markdown",
   "id": "628c5e91-0406-4f5e-a61a-b3232929a334",
   "metadata": {},
   "source": [
    "# 데이터 결합하기\n",
    "\n",
    "merge()와 concat()은 판다스(Pandas)에서  \n",
    "데이터프레임을 합치는 데 사용되는 두 가지 중요한 메서드입니다. "
   ]
  },
  {
   "cell_type": "markdown",
   "id": "26a16f29-2d6d-47f9-8cdf-642604c7cc81",
   "metadata": {},
   "source": [
    "**concat() 메서드:**  \n",
    "concat() 메서드는 여러 개의 데이터프레임을  \n",
    "행(axis=0) 또는 열(axis=1) 방향으로 합치는 데 사용됩니다.  \n",
    "기본적으로 데이터프레임을 단순히 연결하여 합치는 기능을 제공합니다.\n",
    "\n",
    "**concat() 메서드의 형식:**\n",
    "\n",
    "```python\n",
    "pd.concat(objs, axis=0, join='outer', ignore_index=False)\n",
    "```\n",
    "    \n",
    "- `objs`: 합치려는 데이터프레임을 리스트 형태로 전달합니다.\n",
    "- `axis`: 합치는 방향을 지정합니다. 0이면 행 방향, 1이면 열 방향입니다.\n",
    "- `join`: 합치는 방식을 지정합니다. 기본값은 'outer'로, 합집합을 반환합니다.\n",
    "- `ignore_index`: 기존 인덱스를 무시하고 새로운 인덱스를 생성하도록 지정합니다."
   ]
  },
  {
   "cell_type": "raw",
   "id": "74be0581-5d73-43c4-8a25-0f3d34113b2b",
   "metadata": {},
   "source": [
    "예제를 통해 concat 메소드의 활용방법에 대해서 알아보도록 하겠습니다.\n",
    "우선 데이터프레임 객체들을 준비해보도록 하겠습니다."
   ]
  },
  {
   "cell_type": "code",
   "execution_count": 66,
   "id": "df5a096d-e3f4-48ca-9a50-a23f42f5b285",
   "metadata": {
    "tags": []
   },
   "outputs": [],
   "source": [
    "\"\"\"\n",
    "\n",
    "concat() 메서드의 axis 매개변수를 사용하여 \n",
    "데이터프레임을 합칠 때 방향(행 또는 열)을 지정할 수 있습니다. \n",
    "axis 매개변수에는 0 또는 1을 입력할 수 있으며, \n",
    "각각 행 방향과 열 방향을 의미합니다.\n",
    "\"\"\"\n",
    "import pandas as pd\n",
    "\n",
    "# 데이터 생성\n",
    "data1 = {\n",
    "    'ID': [1, 2, 3],\n",
    "    'Name': ['Alice', 'Bob', 'Charlie']\n",
    "}\n",
    "\n",
    "data2 = {\n",
    "    'Age': [25, 30],\n",
    "    'City': ['New York', 'London']\n",
    "}\n",
    "\n",
    "df1 = pd.DataFrame(data1, index=list(\"ABC\"))\n",
    "df2 = pd.DataFrame(data2, index=list(\"AC\"))"
   ]
  },
  {
   "cell_type": "code",
   "execution_count": 67,
   "id": "5de35990-db69-43ba-a48a-672f3ed43173",
   "metadata": {
    "tags": []
   },
   "outputs": [
    {
     "data": {
      "text/html": [
       "<div>\n",
       "<style scoped>\n",
       "    .dataframe tbody tr th:only-of-type {\n",
       "        vertical-align: middle;\n",
       "    }\n",
       "\n",
       "    .dataframe tbody tr th {\n",
       "        vertical-align: top;\n",
       "    }\n",
       "\n",
       "    .dataframe thead th {\n",
       "        text-align: right;\n",
       "    }\n",
       "</style>\n",
       "<table border=\"1\" class=\"dataframe\">\n",
       "  <thead>\n",
       "    <tr style=\"text-align: right;\">\n",
       "      <th></th>\n",
       "      <th>ID</th>\n",
       "      <th>Name</th>\n",
       "    </tr>\n",
       "  </thead>\n",
       "  <tbody>\n",
       "    <tr>\n",
       "      <th>A</th>\n",
       "      <td>1</td>\n",
       "      <td>Alice</td>\n",
       "    </tr>\n",
       "    <tr>\n",
       "      <th>B</th>\n",
       "      <td>2</td>\n",
       "      <td>Bob</td>\n",
       "    </tr>\n",
       "    <tr>\n",
       "      <th>C</th>\n",
       "      <td>3</td>\n",
       "      <td>Charlie</td>\n",
       "    </tr>\n",
       "  </tbody>\n",
       "</table>\n",
       "</div>"
      ],
      "text/plain": [
       "   ID     Name\n",
       "A   1    Alice\n",
       "B   2      Bob\n",
       "C   3  Charlie"
      ]
     },
     "execution_count": 67,
     "metadata": {},
     "output_type": "execute_result"
    }
   ],
   "source": [
    "df1"
   ]
  },
  {
   "cell_type": "code",
   "execution_count": 68,
   "id": "27624a18-68ad-4b90-8083-97d5ba281920",
   "metadata": {
    "tags": []
   },
   "outputs": [
    {
     "data": {
      "text/html": [
       "<div>\n",
       "<style scoped>\n",
       "    .dataframe tbody tr th:only-of-type {\n",
       "        vertical-align: middle;\n",
       "    }\n",
       "\n",
       "    .dataframe tbody tr th {\n",
       "        vertical-align: top;\n",
       "    }\n",
       "\n",
       "    .dataframe thead th {\n",
       "        text-align: right;\n",
       "    }\n",
       "</style>\n",
       "<table border=\"1\" class=\"dataframe\">\n",
       "  <thead>\n",
       "    <tr style=\"text-align: right;\">\n",
       "      <th></th>\n",
       "      <th>Age</th>\n",
       "      <th>City</th>\n",
       "    </tr>\n",
       "  </thead>\n",
       "  <tbody>\n",
       "    <tr>\n",
       "      <th>A</th>\n",
       "      <td>25</td>\n",
       "      <td>New York</td>\n",
       "    </tr>\n",
       "    <tr>\n",
       "      <th>C</th>\n",
       "      <td>30</td>\n",
       "      <td>London</td>\n",
       "    </tr>\n",
       "  </tbody>\n",
       "</table>\n",
       "</div>"
      ],
      "text/plain": [
       "   Age      City\n",
       "A   25  New York\n",
       "C   30    London"
      ]
     },
     "execution_count": 68,
     "metadata": {},
     "output_type": "execute_result"
    }
   ],
   "source": [
    "df2"
   ]
  },
  {
   "cell_type": "raw",
   "id": "6f1075a9-0d8e-4dcf-8e52-6e4302d6f180",
   "metadata": {
    "tags": []
   },
   "source": [
    "두개의 데이터 프레임을 행 방향으로 합치는 예제입니다.\n",
    "axis=0을 넣어주면 됩니다.\n",
    "axis의 기본값을 0이므로 axis 파라미터를 생략하면 0의 값이 들어가게 됩니다."
   ]
  },
  {
   "cell_type": "code",
   "execution_count": 69,
   "id": "c5fefa42-795a-4e35-b9eb-32e14f31fb02",
   "metadata": {
    "tags": []
   },
   "outputs": [
    {
     "data": {
      "text/html": [
       "<div>\n",
       "<style scoped>\n",
       "    .dataframe tbody tr th:only-of-type {\n",
       "        vertical-align: middle;\n",
       "    }\n",
       "\n",
       "    .dataframe tbody tr th {\n",
       "        vertical-align: top;\n",
       "    }\n",
       "\n",
       "    .dataframe thead th {\n",
       "        text-align: right;\n",
       "    }\n",
       "</style>\n",
       "<table border=\"1\" class=\"dataframe\">\n",
       "  <thead>\n",
       "    <tr style=\"text-align: right;\">\n",
       "      <th></th>\n",
       "      <th>ID</th>\n",
       "      <th>Name</th>\n",
       "      <th>Age</th>\n",
       "      <th>City</th>\n",
       "    </tr>\n",
       "  </thead>\n",
       "  <tbody>\n",
       "    <tr>\n",
       "      <th>A</th>\n",
       "      <td>1.0</td>\n",
       "      <td>Alice</td>\n",
       "      <td>NaN</td>\n",
       "      <td>NaN</td>\n",
       "    </tr>\n",
       "    <tr>\n",
       "      <th>B</th>\n",
       "      <td>2.0</td>\n",
       "      <td>Bob</td>\n",
       "      <td>NaN</td>\n",
       "      <td>NaN</td>\n",
       "    </tr>\n",
       "    <tr>\n",
       "      <th>C</th>\n",
       "      <td>3.0</td>\n",
       "      <td>Charlie</td>\n",
       "      <td>NaN</td>\n",
       "      <td>NaN</td>\n",
       "    </tr>\n",
       "    <tr>\n",
       "      <th>A</th>\n",
       "      <td>NaN</td>\n",
       "      <td>NaN</td>\n",
       "      <td>25.0</td>\n",
       "      <td>New York</td>\n",
       "    </tr>\n",
       "    <tr>\n",
       "      <th>C</th>\n",
       "      <td>NaN</td>\n",
       "      <td>NaN</td>\n",
       "      <td>30.0</td>\n",
       "      <td>London</td>\n",
       "    </tr>\n",
       "  </tbody>\n",
       "</table>\n",
       "</div>"
      ],
      "text/plain": [
       "    ID     Name   Age      City\n",
       "A  1.0    Alice   NaN       NaN\n",
       "B  2.0      Bob   NaN       NaN\n",
       "C  3.0  Charlie   NaN       NaN\n",
       "A  NaN      NaN  25.0  New York\n",
       "C  NaN      NaN  30.0    London"
      ]
     },
     "execution_count": 69,
     "metadata": {},
     "output_type": "execute_result"
    }
   ],
   "source": [
    "# concat 메서드에서 axis=0을 사용하여 행 방향으로 합치기\n",
    "pd.concat([df1, df2], axis=0)"
   ]
  },
  {
   "cell_type": "raw",
   "id": "53963033-5303-4b72-a52b-e28abe1c5ba8",
   "metadata": {},
   "source": [
    "데이터 프레임이 행 방향으로 합쳐진것을 볼 수 있으며, \n",
    "특정 칼럼에 대한 데이터가 없을 경우에는 NaN으로 채워져 있는 것을 확인할 수 있습니다."
   ]
  },
  {
   "cell_type": "raw",
   "id": "2225cab9-3454-4c33-a95c-49cbc90ee5bf",
   "metadata": {},
   "source": [
    "이번에는 ignore_index를 True로 하였을경우를 확인해보겠습니다."
   ]
  },
  {
   "cell_type": "code",
   "execution_count": 70,
   "id": "5810564f-d3ec-4286-8024-e61fa7c48e82",
   "metadata": {
    "tags": []
   },
   "outputs": [
    {
     "data": {
      "text/html": [
       "<div>\n",
       "<style scoped>\n",
       "    .dataframe tbody tr th:only-of-type {\n",
       "        vertical-align: middle;\n",
       "    }\n",
       "\n",
       "    .dataframe tbody tr th {\n",
       "        vertical-align: top;\n",
       "    }\n",
       "\n",
       "    .dataframe thead th {\n",
       "        text-align: right;\n",
       "    }\n",
       "</style>\n",
       "<table border=\"1\" class=\"dataframe\">\n",
       "  <thead>\n",
       "    <tr style=\"text-align: right;\">\n",
       "      <th></th>\n",
       "      <th>ID</th>\n",
       "      <th>Name</th>\n",
       "      <th>Age</th>\n",
       "      <th>City</th>\n",
       "    </tr>\n",
       "  </thead>\n",
       "  <tbody>\n",
       "    <tr>\n",
       "      <th>0</th>\n",
       "      <td>1.0</td>\n",
       "      <td>Alice</td>\n",
       "      <td>NaN</td>\n",
       "      <td>NaN</td>\n",
       "    </tr>\n",
       "    <tr>\n",
       "      <th>1</th>\n",
       "      <td>2.0</td>\n",
       "      <td>Bob</td>\n",
       "      <td>NaN</td>\n",
       "      <td>NaN</td>\n",
       "    </tr>\n",
       "    <tr>\n",
       "      <th>2</th>\n",
       "      <td>3.0</td>\n",
       "      <td>Charlie</td>\n",
       "      <td>NaN</td>\n",
       "      <td>NaN</td>\n",
       "    </tr>\n",
       "    <tr>\n",
       "      <th>3</th>\n",
       "      <td>NaN</td>\n",
       "      <td>NaN</td>\n",
       "      <td>25.0</td>\n",
       "      <td>New York</td>\n",
       "    </tr>\n",
       "    <tr>\n",
       "      <th>4</th>\n",
       "      <td>NaN</td>\n",
       "      <td>NaN</td>\n",
       "      <td>30.0</td>\n",
       "      <td>London</td>\n",
       "    </tr>\n",
       "  </tbody>\n",
       "</table>\n",
       "</div>"
      ],
      "text/plain": [
       "    ID     Name   Age      City\n",
       "0  1.0    Alice   NaN       NaN\n",
       "1  2.0      Bob   NaN       NaN\n",
       "2  3.0  Charlie   NaN       NaN\n",
       "3  NaN      NaN  25.0  New York\n",
       "4  NaN      NaN  30.0    London"
      ]
     },
     "execution_count": 70,
     "metadata": {},
     "output_type": "execute_result"
    }
   ],
   "source": [
    "# igrnoe_index를 True로 하였을 경우\n",
    "pd.concat([df1, df2], ignore_index=True)"
   ]
  },
  {
   "cell_type": "raw",
   "id": "b3751a54-54f1-4ed9-b15f-99fc2254afff",
   "metadata": {},
   "source": [
    "이 코드를 실행하면 기존의 index인 A,B,C 값이 없어지고\n",
    "자동증가 번호로 새로이 index가 채워져 있음을 볼 수 있습니다."
   ]
  },
  {
   "cell_type": "raw",
   "id": "aaf0c5e5-29fb-46b5-859a-66ce6b7de3a2",
   "metadata": {},
   "source": [
    "이번에는 concat을 호출할때 axis=1 을 인자로 넣어주어 \n",
    "행방향으로 병합해보도록 하겠습니다."
   ]
  },
  {
   "cell_type": "code",
   "execution_count": 71,
   "id": "b47eca2e-10d5-4b27-ad55-30073d05eede",
   "metadata": {
    "tags": []
   },
   "outputs": [
    {
     "data": {
      "text/html": [
       "<div>\n",
       "<style scoped>\n",
       "    .dataframe tbody tr th:only-of-type {\n",
       "        vertical-align: middle;\n",
       "    }\n",
       "\n",
       "    .dataframe tbody tr th {\n",
       "        vertical-align: top;\n",
       "    }\n",
       "\n",
       "    .dataframe thead th {\n",
       "        text-align: right;\n",
       "    }\n",
       "</style>\n",
       "<table border=\"1\" class=\"dataframe\">\n",
       "  <thead>\n",
       "    <tr style=\"text-align: right;\">\n",
       "      <th></th>\n",
       "      <th>ID</th>\n",
       "      <th>Name</th>\n",
       "      <th>Age</th>\n",
       "      <th>City</th>\n",
       "    </tr>\n",
       "  </thead>\n",
       "  <tbody>\n",
       "    <tr>\n",
       "      <th>A</th>\n",
       "      <td>1</td>\n",
       "      <td>Alice</td>\n",
       "      <td>25.0</td>\n",
       "      <td>New York</td>\n",
       "    </tr>\n",
       "    <tr>\n",
       "      <th>B</th>\n",
       "      <td>2</td>\n",
       "      <td>Bob</td>\n",
       "      <td>NaN</td>\n",
       "      <td>NaN</td>\n",
       "    </tr>\n",
       "    <tr>\n",
       "      <th>C</th>\n",
       "      <td>3</td>\n",
       "      <td>Charlie</td>\n",
       "      <td>30.0</td>\n",
       "      <td>London</td>\n",
       "    </tr>\n",
       "  </tbody>\n",
       "</table>\n",
       "</div>"
      ],
      "text/plain": [
       "   ID     Name   Age      City\n",
       "A   1    Alice  25.0  New York\n",
       "B   2      Bob   NaN       NaN\n",
       "C   3  Charlie  30.0    London"
      ]
     },
     "execution_count": 71,
     "metadata": {},
     "output_type": "execute_result"
    }
   ],
   "source": [
    "pd.concat([df1, df2], axis=1)"
   ]
  },
  {
   "cell_type": "raw",
   "id": "7e57eb06-b990-4d24-ad11-819b7475d651",
   "metadata": {},
   "source": [
    "이경우 열방향으로 데이터프레임을 결함하며\n",
    "해당 데이터프레임의 index 기준으로 병합되는 것을 확인할 수 있습니다."
   ]
  },
  {
   "cell_type": "raw",
   "id": "c72333bf-db35-4c41-82a7-f2407408cb07",
   "metadata": {},
   "source": [
    "이번에는 concat을 호출할때 join 파라미터의 값을 통해서 \n",
    "inner 또는 outer join 방식을 적용하는 방법에 대해서 알아보도록 하겠습니다.\n",
    "join='outer': 기본값으로, 인덱스가 겹치지 않는 경우에는 빈 값(NaN)으로 처리되며, \n",
    "            인덱스가 겹치는 경우에는 합집합으로 합쳐집니다.\n",
    "join='inner': 인덱스가 겹치는 경우에는 교집합으로 합쳐집니다."
   ]
  },
  {
   "cell_type": "code",
   "execution_count": 72,
   "id": "903bc5d7-0483-465f-bd7c-4322430722be",
   "metadata": {
    "tags": []
   },
   "outputs": [],
   "source": [
    "\"\"\"\n",
    "join:\n",
    "join='outer': 기본값으로, 인덱스가 겹치지 않는 경우에는 빈 값(NaN)으로 처리되며, \n",
    "            인덱스가 겹치는 경우에는 합집합으로 합쳐집니다.\n",
    "join='inner': 인덱스가 겹치는 경우에는 교집합으로 합쳐집니다.\n",
    "\"\"\"\n",
    "import pandas as pd\n",
    "\n",
    "# 데이터 생성\n",
    "data1 = {\n",
    "    'ID': [1, 2, 3],\n",
    "    'Name': ['Alice', 'Bob', 'Charlie']\n",
    "}\n",
    "\n",
    "data2 = {\n",
    "    'ID': [2, 3, 4],\n",
    "    'Age': [25, 30, 35]\n",
    "}\n",
    "\n",
    "df1 = pd.DataFrame(data1, index=list(\"ABC\"))\n",
    "df2 = pd.DataFrame(data2, index=list(\"ABD\"))\n"
   ]
  },
  {
   "cell_type": "code",
   "execution_count": 73,
   "id": "71205ce1-ef36-4273-b601-d181d8912067",
   "metadata": {
    "tags": []
   },
   "outputs": [
    {
     "data": {
      "text/html": [
       "<div>\n",
       "<style scoped>\n",
       "    .dataframe tbody tr th:only-of-type {\n",
       "        vertical-align: middle;\n",
       "    }\n",
       "\n",
       "    .dataframe tbody tr th {\n",
       "        vertical-align: top;\n",
       "    }\n",
       "\n",
       "    .dataframe thead th {\n",
       "        text-align: right;\n",
       "    }\n",
       "</style>\n",
       "<table border=\"1\" class=\"dataframe\">\n",
       "  <thead>\n",
       "    <tr style=\"text-align: right;\">\n",
       "      <th></th>\n",
       "      <th>ID</th>\n",
       "      <th>Name</th>\n",
       "    </tr>\n",
       "  </thead>\n",
       "  <tbody>\n",
       "    <tr>\n",
       "      <th>A</th>\n",
       "      <td>1</td>\n",
       "      <td>Alice</td>\n",
       "    </tr>\n",
       "    <tr>\n",
       "      <th>B</th>\n",
       "      <td>2</td>\n",
       "      <td>Bob</td>\n",
       "    </tr>\n",
       "    <tr>\n",
       "      <th>C</th>\n",
       "      <td>3</td>\n",
       "      <td>Charlie</td>\n",
       "    </tr>\n",
       "  </tbody>\n",
       "</table>\n",
       "</div>"
      ],
      "text/plain": [
       "   ID     Name\n",
       "A   1    Alice\n",
       "B   2      Bob\n",
       "C   3  Charlie"
      ]
     },
     "execution_count": 73,
     "metadata": {},
     "output_type": "execute_result"
    }
   ],
   "source": [
    "df1"
   ]
  },
  {
   "cell_type": "code",
   "execution_count": 74,
   "id": "f35027a4-85a0-4383-a108-12859106de7e",
   "metadata": {
    "tags": []
   },
   "outputs": [
    {
     "data": {
      "text/html": [
       "<div>\n",
       "<style scoped>\n",
       "    .dataframe tbody tr th:only-of-type {\n",
       "        vertical-align: middle;\n",
       "    }\n",
       "\n",
       "    .dataframe tbody tr th {\n",
       "        vertical-align: top;\n",
       "    }\n",
       "\n",
       "    .dataframe thead th {\n",
       "        text-align: right;\n",
       "    }\n",
       "</style>\n",
       "<table border=\"1\" class=\"dataframe\">\n",
       "  <thead>\n",
       "    <tr style=\"text-align: right;\">\n",
       "      <th></th>\n",
       "      <th>ID</th>\n",
       "      <th>Age</th>\n",
       "    </tr>\n",
       "  </thead>\n",
       "  <tbody>\n",
       "    <tr>\n",
       "      <th>A</th>\n",
       "      <td>2</td>\n",
       "      <td>25</td>\n",
       "    </tr>\n",
       "    <tr>\n",
       "      <th>B</th>\n",
       "      <td>3</td>\n",
       "      <td>30</td>\n",
       "    </tr>\n",
       "    <tr>\n",
       "      <th>D</th>\n",
       "      <td>4</td>\n",
       "      <td>35</td>\n",
       "    </tr>\n",
       "  </tbody>\n",
       "</table>\n",
       "</div>"
      ],
      "text/plain": [
       "   ID  Age\n",
       "A   2   25\n",
       "B   3   30\n",
       "D   4   35"
      ]
     },
     "execution_count": 74,
     "metadata": {},
     "output_type": "execute_result"
    }
   ],
   "source": [
    "df2"
   ]
  },
  {
   "cell_type": "code",
   "execution_count": 75,
   "id": "f77c7e9e-4832-4605-9ab2-2070810bc555",
   "metadata": {
    "tags": []
   },
   "outputs": [
    {
     "data": {
      "text/html": [
       "<div>\n",
       "<style scoped>\n",
       "    .dataframe tbody tr th:only-of-type {\n",
       "        vertical-align: middle;\n",
       "    }\n",
       "\n",
       "    .dataframe tbody tr th {\n",
       "        vertical-align: top;\n",
       "    }\n",
       "\n",
       "    .dataframe thead th {\n",
       "        text-align: right;\n",
       "    }\n",
       "</style>\n",
       "<table border=\"1\" class=\"dataframe\">\n",
       "  <thead>\n",
       "    <tr style=\"text-align: right;\">\n",
       "      <th></th>\n",
       "      <th>ID</th>\n",
       "      <th>Name</th>\n",
       "      <th>ID</th>\n",
       "      <th>Age</th>\n",
       "    </tr>\n",
       "  </thead>\n",
       "  <tbody>\n",
       "    <tr>\n",
       "      <th>A</th>\n",
       "      <td>1.0</td>\n",
       "      <td>Alice</td>\n",
       "      <td>2.0</td>\n",
       "      <td>25.0</td>\n",
       "    </tr>\n",
       "    <tr>\n",
       "      <th>B</th>\n",
       "      <td>2.0</td>\n",
       "      <td>Bob</td>\n",
       "      <td>3.0</td>\n",
       "      <td>30.0</td>\n",
       "    </tr>\n",
       "    <tr>\n",
       "      <th>C</th>\n",
       "      <td>3.0</td>\n",
       "      <td>Charlie</td>\n",
       "      <td>NaN</td>\n",
       "      <td>NaN</td>\n",
       "    </tr>\n",
       "    <tr>\n",
       "      <th>D</th>\n",
       "      <td>NaN</td>\n",
       "      <td>NaN</td>\n",
       "      <td>4.0</td>\n",
       "      <td>35.0</td>\n",
       "    </tr>\n",
       "  </tbody>\n",
       "</table>\n",
       "</div>"
      ],
      "text/plain": [
       "    ID     Name   ID   Age\n",
       "A  1.0    Alice  2.0  25.0\n",
       "B  2.0      Bob  3.0  30.0\n",
       "C  3.0  Charlie  NaN   NaN\n",
       "D  NaN      NaN  4.0  35.0"
      ]
     },
     "execution_count": 75,
     "metadata": {},
     "output_type": "execute_result"
    }
   ],
   "source": [
    "# concat 메서드에서 join='outer'를 사용하여 기본값으로 합치기\n",
    "pd.concat([df1, df2], axis=1, join='outer')"
   ]
  },
  {
   "cell_type": "raw",
   "id": "803c6d83-12ab-47fe-a02a-4938605fa95b",
   "metadata": {},
   "source": [
    "이경우 병합되는 모든 데이터를 포함하는 데이터 프레임이 생성되게 됩니다.\n",
    "일종의 합집합의 개념이며,\n",
    "index 기준으로 병합하였을때 값이 없는 부분에 대해서는 NaN채워지게 됩니다.\n"
   ]
  },
  {
   "cell_type": "code",
   "execution_count": 76,
   "id": "c6e86c83-03d5-4b8a-8bc8-f0e30ef3418e",
   "metadata": {
    "tags": []
   },
   "outputs": [
    {
     "data": {
      "text/html": [
       "<div>\n",
       "<style scoped>\n",
       "    .dataframe tbody tr th:only-of-type {\n",
       "        vertical-align: middle;\n",
       "    }\n",
       "\n",
       "    .dataframe tbody tr th {\n",
       "        vertical-align: top;\n",
       "    }\n",
       "\n",
       "    .dataframe thead th {\n",
       "        text-align: right;\n",
       "    }\n",
       "</style>\n",
       "<table border=\"1\" class=\"dataframe\">\n",
       "  <thead>\n",
       "    <tr style=\"text-align: right;\">\n",
       "      <th></th>\n",
       "      <th>ID</th>\n",
       "      <th>Name</th>\n",
       "      <th>ID</th>\n",
       "      <th>Age</th>\n",
       "    </tr>\n",
       "  </thead>\n",
       "  <tbody>\n",
       "    <tr>\n",
       "      <th>A</th>\n",
       "      <td>1</td>\n",
       "      <td>Alice</td>\n",
       "      <td>2</td>\n",
       "      <td>25</td>\n",
       "    </tr>\n",
       "    <tr>\n",
       "      <th>B</th>\n",
       "      <td>2</td>\n",
       "      <td>Bob</td>\n",
       "      <td>3</td>\n",
       "      <td>30</td>\n",
       "    </tr>\n",
       "  </tbody>\n",
       "</table>\n",
       "</div>"
      ],
      "text/plain": [
       "   ID   Name  ID  Age\n",
       "A   1  Alice   2   25\n",
       "B   2    Bob   3   30"
      ]
     },
     "execution_count": 76,
     "metadata": {},
     "output_type": "execute_result"
    }
   ],
   "source": [
    "# concat 메서드에서 join='inner'를 사용하여 교집합으로 합치기\n",
    "pd.concat([df1, df2], axis=1, join='inner')"
   ]
  },
  {
   "cell_type": "raw",
   "id": "8c4db38d-7f0f-4f8b-aeff-ecd2b4d2182e",
   "metadata": {},
   "source": [
    "이 경우 공통된 index가 있는 데이터에 대해서만 포함하게 됩니다.\n",
    "일종의 교집합의 개념입니다."
   ]
  },
  {
   "cell_type": "raw",
   "id": "65e56ad3-d006-49d5-8a55-ebc2d9631c99",
   "metadata": {},
   "source": [
    "이번에는 merge() 함수로 병합하는 방법에 대해서 알아보도록 하겠습니다.\n",
    "concat이 데이터프레임의 인덱스 기준으로 병합하는 것과는 달리\n",
    "merge()는 특정 칼럼의 값을 기준으로 병합하게 됩니다."
   ]
  },
  {
   "cell_type": "markdown",
   "id": "d4f48825-34cb-45af-81a3-e481f3d1ad54",
   "metadata": {},
   "source": [
    "1. merge() 메서드:\n",
    "merge() 메서드는 두 개의 데이터프레임을 특정 열(column)을 기준으로 합치는 데 사용됩니다. SQL의 JOIN 연산과 유사한 기능을 제공합니다.\n",
    "\n",
    "merge() 메서드의 형식:\n",
    "\n",
    "```python\n",
    "pd.merge(left, right, how='inner', on=None, left_on=None, right_on=None)\n",
    "```\n",
    "\n",
    "- `left`: 왼쪽에 있는 데이터프레임을 지정합니다.\n",
    "- `right`: 오른쪽에 있는 데이터프레임을 지정합니다.\n",
    "- `how`: 합치는 방식을 지정합니다. 기본값은 'inner'로, 교집합을 반환합니다. `outer`, `left`, `right` 등이 가능합니다.\n",
    "- `on`, `left_on`, `right_on`: 합치는 기준 열을 지정합니다.\n"
   ]
  },
  {
   "cell_type": "raw",
   "id": "463261fd-d165-409b-9974-fe63120d5364",
   "metadata": {},
   "source": [
    "예제를 통해 확인해보도록 하겠습니다.\n",
    "우선 예제를 위한 데이터 프레임을 성생합니다."
   ]
  },
  {
   "cell_type": "code",
   "execution_count": 77,
   "id": "a7db06bd-0311-4aad-a03f-e2e4a4d6825c",
   "metadata": {
    "tags": []
   },
   "outputs": [],
   "source": [
    "import pandas as pd\n",
    "\n",
    "# 데이터 생성\n",
    "data1 = {\n",
    "    'ID': [1, 2, 3, 4],\n",
    "    'Name': ['Alice', 'Bob', 'Charlie', 'David']\n",
    "}\n",
    "\n",
    "data2 = {\n",
    "    'ID': [3, 4, 5, 6],\n",
    "    'Age': [25, 30, 35, 40]\n",
    "}\n",
    "\n",
    "df1 = pd.DataFrame(data1)\n",
    "df2 = pd.DataFrame(data2)\n"
   ]
  },
  {
   "cell_type": "code",
   "execution_count": 78,
   "id": "3b2b2e2f-0b65-4294-98d9-b4dd95c5f727",
   "metadata": {
    "tags": []
   },
   "outputs": [
    {
     "data": {
      "text/html": [
       "<div>\n",
       "<style scoped>\n",
       "    .dataframe tbody tr th:only-of-type {\n",
       "        vertical-align: middle;\n",
       "    }\n",
       "\n",
       "    .dataframe tbody tr th {\n",
       "        vertical-align: top;\n",
       "    }\n",
       "\n",
       "    .dataframe thead th {\n",
       "        text-align: right;\n",
       "    }\n",
       "</style>\n",
       "<table border=\"1\" class=\"dataframe\">\n",
       "  <thead>\n",
       "    <tr style=\"text-align: right;\">\n",
       "      <th></th>\n",
       "      <th>ID</th>\n",
       "      <th>Name</th>\n",
       "    </tr>\n",
       "  </thead>\n",
       "  <tbody>\n",
       "    <tr>\n",
       "      <th>0</th>\n",
       "      <td>1</td>\n",
       "      <td>Alice</td>\n",
       "    </tr>\n",
       "    <tr>\n",
       "      <th>1</th>\n",
       "      <td>2</td>\n",
       "      <td>Bob</td>\n",
       "    </tr>\n",
       "    <tr>\n",
       "      <th>2</th>\n",
       "      <td>3</td>\n",
       "      <td>Charlie</td>\n",
       "    </tr>\n",
       "    <tr>\n",
       "      <th>3</th>\n",
       "      <td>4</td>\n",
       "      <td>David</td>\n",
       "    </tr>\n",
       "  </tbody>\n",
       "</table>\n",
       "</div>"
      ],
      "text/plain": [
       "   ID     Name\n",
       "0   1    Alice\n",
       "1   2      Bob\n",
       "2   3  Charlie\n",
       "3   4    David"
      ]
     },
     "execution_count": 78,
     "metadata": {},
     "output_type": "execute_result"
    }
   ],
   "source": [
    "df1"
   ]
  },
  {
   "cell_type": "code",
   "execution_count": 79,
   "id": "3e66c310-8287-4be4-b51b-91dc300a68ce",
   "metadata": {
    "tags": []
   },
   "outputs": [
    {
     "data": {
      "text/html": [
       "<div>\n",
       "<style scoped>\n",
       "    .dataframe tbody tr th:only-of-type {\n",
       "        vertical-align: middle;\n",
       "    }\n",
       "\n",
       "    .dataframe tbody tr th {\n",
       "        vertical-align: top;\n",
       "    }\n",
       "\n",
       "    .dataframe thead th {\n",
       "        text-align: right;\n",
       "    }\n",
       "</style>\n",
       "<table border=\"1\" class=\"dataframe\">\n",
       "  <thead>\n",
       "    <tr style=\"text-align: right;\">\n",
       "      <th></th>\n",
       "      <th>ID</th>\n",
       "      <th>Age</th>\n",
       "    </tr>\n",
       "  </thead>\n",
       "  <tbody>\n",
       "    <tr>\n",
       "      <th>0</th>\n",
       "      <td>3</td>\n",
       "      <td>25</td>\n",
       "    </tr>\n",
       "    <tr>\n",
       "      <th>1</th>\n",
       "      <td>4</td>\n",
       "      <td>30</td>\n",
       "    </tr>\n",
       "    <tr>\n",
       "      <th>2</th>\n",
       "      <td>5</td>\n",
       "      <td>35</td>\n",
       "    </tr>\n",
       "    <tr>\n",
       "      <th>3</th>\n",
       "      <td>6</td>\n",
       "      <td>40</td>\n",
       "    </tr>\n",
       "  </tbody>\n",
       "</table>\n",
       "</div>"
      ],
      "text/plain": [
       "   ID  Age\n",
       "0   3   25\n",
       "1   4   30\n",
       "2   5   35\n",
       "3   6   40"
      ]
     },
     "execution_count": 79,
     "metadata": {},
     "output_type": "execute_result"
    }
   ],
   "source": [
    "df2"
   ]
  },
  {
   "cell_type": "raw",
   "id": "53b220c4-5e4b-4be9-b04a-d3534339a42d",
   "metadata": {},
   "source": [
    "'ID' 열을 기준으로 두 데이터프레임 합치는 방법입니다.\n",
    "첫번째와 두번째 파라미터에는 결합하고자 하는 데이터프레임을 각각 넣어주고\n",
    "on파라미터에는 합치는 기준이 되는 컬럼명을 입력합니다.\n",
    "해당 컬럼의 내용이 같은 행끼리 결합하게 됩니다."
   ]
  },
  {
   "cell_type": "code",
   "execution_count": 80,
   "id": "950294b1-1b1f-4939-9856-dfb7b20b5cb4",
   "metadata": {
    "tags": []
   },
   "outputs": [
    {
     "data": {
      "text/html": [
       "<div>\n",
       "<style scoped>\n",
       "    .dataframe tbody tr th:only-of-type {\n",
       "        vertical-align: middle;\n",
       "    }\n",
       "\n",
       "    .dataframe tbody tr th {\n",
       "        vertical-align: top;\n",
       "    }\n",
       "\n",
       "    .dataframe thead th {\n",
       "        text-align: right;\n",
       "    }\n",
       "</style>\n",
       "<table border=\"1\" class=\"dataframe\">\n",
       "  <thead>\n",
       "    <tr style=\"text-align: right;\">\n",
       "      <th></th>\n",
       "      <th>ID</th>\n",
       "      <th>Name</th>\n",
       "      <th>Age</th>\n",
       "    </tr>\n",
       "  </thead>\n",
       "  <tbody>\n",
       "    <tr>\n",
       "      <th>0</th>\n",
       "      <td>3</td>\n",
       "      <td>Charlie</td>\n",
       "      <td>25</td>\n",
       "    </tr>\n",
       "    <tr>\n",
       "      <th>1</th>\n",
       "      <td>4</td>\n",
       "      <td>David</td>\n",
       "      <td>30</td>\n",
       "    </tr>\n",
       "  </tbody>\n",
       "</table>\n",
       "</div>"
      ],
      "text/plain": [
       "   ID     Name  Age\n",
       "0   3  Charlie   25\n",
       "1   4    David   30"
      ]
     },
     "execution_count": 80,
     "metadata": {},
     "output_type": "execute_result"
    }
   ],
   "source": [
    "# 'ID' 열을 기준으로 두 데이터프레임 합치기 (inner join)\n",
    "pd.merge(df1, df2, on='ID')"
   ]
  },
  {
   "cell_type": "raw",
   "id": "3f6b4093-d800-4b9f-9b9c-8945a98135d1",
   "metadata": {},
   "source": [
    "위의 코드를 실행시켜 보면, df1, df2 에 공통으로 있는 ID인 3,4 에 대해서만 최종결과가 나온느것을 확인할 수 있습니다."
   ]
  },
  {
   "cell_type": "raw",
   "id": "812b9b78-c5ee-4ecb-946c-3d1055e4aa11",
   "metadata": {},
   "source": [
    "결합 방식에 대해서는 how 매개변수로 조정이 가능합니다.\n",
    "(아래 내용 읽기)"
   ]
  },
  {
   "cell_type": "markdown",
   "id": "04459d0a-6be7-4648-b54d-d522459eb1ab",
   "metadata": {},
   "source": [
    "how 매개변수를 사용하여 'inner', 'outer', 'left', 'right' 방식으로 두 데이터프레임을 합치는 방법\n",
    "\n",
    "|매개변수|기능|\n",
    "|--|--|\n",
    "|'inner'| 두 데이터프레임의 'ID' 열을 비교하여 공통된 'ID' 값만 합칩니다.|\n",
    "|'outer'| 두 데이터프레임의 모든 행을 합치며,  'ID' 값이 하나라도 있는 경우에는 해당 값을,  둘 다 없는 경우에는 NaN으로 처리합니다.|\n",
    "|'left'| 첫 번째 데이터프레임 df1의 모든 행을 합칩니다.  두 데이터프레임의 'ID' 열을 비교하여 공통된 'ID' 값만 합치며, 'df1'의 모든 행은 보존됩니다.|\n",
    "|'right'| 두 번째 데이터프레임 df2의 모든 행을 합칩니다.  두 데이터프레임의 'ID' 열을 비교하여 공통된 'ID' 값만 합치며, 'df2'의 모든 행은 보존됩니다.|"
   ]
  },
  {
   "cell_type": "raw",
   "id": "ff8f6928-a1e2-4319-a8bc-2fa1a4c89d5a",
   "metadata": {},
   "source": [
    "자세한 내용을 예제를 통해서 확인해보도록 하겠습니다."
   ]
  },
  {
   "cell_type": "raw",
   "id": "eec5b731-c702-4d5d-afc1-6a7289d1e3b9",
   "metadata": {},
   "source": [
    "아래의 코드는 'ID' 열을 기준으로 두 데이터프레임 합치는데,\n",
    "how 파라미터로 outer를 입력합니다."
   ]
  },
  {
   "cell_type": "code",
   "execution_count": 81,
   "id": "c9126a3b-4d07-483c-b156-55255827b56b",
   "metadata": {
    "tags": []
   },
   "outputs": [
    {
     "data": {
      "text/html": [
       "<div>\n",
       "<style scoped>\n",
       "    .dataframe tbody tr th:only-of-type {\n",
       "        vertical-align: middle;\n",
       "    }\n",
       "\n",
       "    .dataframe tbody tr th {\n",
       "        vertical-align: top;\n",
       "    }\n",
       "\n",
       "    .dataframe thead th {\n",
       "        text-align: right;\n",
       "    }\n",
       "</style>\n",
       "<table border=\"1\" class=\"dataframe\">\n",
       "  <thead>\n",
       "    <tr style=\"text-align: right;\">\n",
       "      <th></th>\n",
       "      <th>ID</th>\n",
       "      <th>Name</th>\n",
       "      <th>Age</th>\n",
       "    </tr>\n",
       "  </thead>\n",
       "  <tbody>\n",
       "    <tr>\n",
       "      <th>0</th>\n",
       "      <td>1</td>\n",
       "      <td>Alice</td>\n",
       "      <td>NaN</td>\n",
       "    </tr>\n",
       "    <tr>\n",
       "      <th>1</th>\n",
       "      <td>2</td>\n",
       "      <td>Bob</td>\n",
       "      <td>NaN</td>\n",
       "    </tr>\n",
       "    <tr>\n",
       "      <th>2</th>\n",
       "      <td>3</td>\n",
       "      <td>Charlie</td>\n",
       "      <td>25.0</td>\n",
       "    </tr>\n",
       "    <tr>\n",
       "      <th>3</th>\n",
       "      <td>4</td>\n",
       "      <td>David</td>\n",
       "      <td>30.0</td>\n",
       "    </tr>\n",
       "    <tr>\n",
       "      <th>4</th>\n",
       "      <td>5</td>\n",
       "      <td>NaN</td>\n",
       "      <td>35.0</td>\n",
       "    </tr>\n",
       "    <tr>\n",
       "      <th>5</th>\n",
       "      <td>6</td>\n",
       "      <td>NaN</td>\n",
       "      <td>40.0</td>\n",
       "    </tr>\n",
       "  </tbody>\n",
       "</table>\n",
       "</div>"
      ],
      "text/plain": [
       "   ID     Name   Age\n",
       "0   1    Alice   NaN\n",
       "1   2      Bob   NaN\n",
       "2   3  Charlie  25.0\n",
       "3   4    David  30.0\n",
       "4   5      NaN  35.0\n",
       "5   6      NaN  40.0"
      ]
     },
     "execution_count": 81,
     "metadata": {},
     "output_type": "execute_result"
    }
   ],
   "source": [
    "# 'ID' 열을 기준으로 두 데이터프레임 합치기 (outer join)\n",
    "pd.merge(df1, df2, on='ID', how='outer')"
   ]
  },
  {
   "cell_type": "raw",
   "id": "5e481269-cb34-410c-814f-5f626216c6a1",
   "metadata": {},
   "source": [
    "이 경우 df1, df2의 모든 행이 누락없이 데이터 프레임에 포함하는 방식으로\n",
    "양쪽 모두에 공통으로 존재하지 않는 id를 가진 행도 포함이 되나,\n",
    "이경우 컬럼값이 매핑이 되지 않는 경우에는 NaN 값으로 채워지게 됩니다.\n",
    "예를 들어 첫번째 행의 경우 ID 1은 df1에만 존재하므로 Name 컬럼은 Alice라는 값으로 되어 있으나\n",
    "Age 값은 df2에만 있고 df1에서는 존재하지 않는 컬럼이므로 해당 값은 NaN이 들어가게 됩니다."
   ]
  },
  {
   "cell_type": "raw",
   "id": "4faebf9c-0423-4d95-a8b5-2b0eb9fb3678",
   "metadata": {},
   "source": [
    "다음은 how=left 파라미터로 merge를 호출하는 방법입니다."
   ]
  },
  {
   "cell_type": "code",
   "execution_count": 82,
   "id": "ebdfdf09-24ba-4a48-aa7c-6d271d18c15c",
   "metadata": {
    "tags": []
   },
   "outputs": [
    {
     "data": {
      "text/html": [
       "<div>\n",
       "<style scoped>\n",
       "    .dataframe tbody tr th:only-of-type {\n",
       "        vertical-align: middle;\n",
       "    }\n",
       "\n",
       "    .dataframe tbody tr th {\n",
       "        vertical-align: top;\n",
       "    }\n",
       "\n",
       "    .dataframe thead th {\n",
       "        text-align: right;\n",
       "    }\n",
       "</style>\n",
       "<table border=\"1\" class=\"dataframe\">\n",
       "  <thead>\n",
       "    <tr style=\"text-align: right;\">\n",
       "      <th></th>\n",
       "      <th>ID</th>\n",
       "      <th>Name</th>\n",
       "      <th>Age</th>\n",
       "    </tr>\n",
       "  </thead>\n",
       "  <tbody>\n",
       "    <tr>\n",
       "      <th>0</th>\n",
       "      <td>1</td>\n",
       "      <td>Alice</td>\n",
       "      <td>NaN</td>\n",
       "    </tr>\n",
       "    <tr>\n",
       "      <th>1</th>\n",
       "      <td>2</td>\n",
       "      <td>Bob</td>\n",
       "      <td>NaN</td>\n",
       "    </tr>\n",
       "    <tr>\n",
       "      <th>2</th>\n",
       "      <td>3</td>\n",
       "      <td>Charlie</td>\n",
       "      <td>25.0</td>\n",
       "    </tr>\n",
       "    <tr>\n",
       "      <th>3</th>\n",
       "      <td>4</td>\n",
       "      <td>David</td>\n",
       "      <td>30.0</td>\n",
       "    </tr>\n",
       "  </tbody>\n",
       "</table>\n",
       "</div>"
      ],
      "text/plain": [
       "   ID     Name   Age\n",
       "0   1    Alice   NaN\n",
       "1   2      Bob   NaN\n",
       "2   3  Charlie  25.0\n",
       "3   4    David  30.0"
      ]
     },
     "execution_count": 82,
     "metadata": {},
     "output_type": "execute_result"
    }
   ],
   "source": [
    "# 'ID' 열을 기준으로 두 데이터프레임 합치기 (left join)\n",
    "pd.merge(df1, df2, on='ID', how='left')"
   ]
  },
  {
   "cell_type": "raw",
   "id": "12cf75d5-0858-46ea-a538-558309c1a84a",
   "metadata": {},
   "source": [
    "위의 결과를 보면 how=left로 인자를 입력하였을 경우\n",
    "좌측편, 즉 첫번째 파라미터인 df1의 모든 행은 포함이 되고\n",
    "해당 내용을 기준으로 ID열에 매핑이 되는 df2의 행만 포함이 되게 됩니다.\n",
    "그래서 Alice, Bob 이 포함딘 행은 Age가 NaN으로 채워지게 됩니다."
   ]
  },
  {
   "cell_type": "raw",
   "id": "616865e8-26d7-409c-9f6f-f799265f862a",
   "metadata": {},
   "source": [
    "다음은 how=right 파라미터로 merge를 호출하는 방법입니다."
   ]
  },
  {
   "cell_type": "code",
   "execution_count": 83,
   "id": "2766c3a2-61d3-406b-9efe-186632b7469a",
   "metadata": {
    "tags": []
   },
   "outputs": [
    {
     "data": {
      "text/html": [
       "<div>\n",
       "<style scoped>\n",
       "    .dataframe tbody tr th:only-of-type {\n",
       "        vertical-align: middle;\n",
       "    }\n",
       "\n",
       "    .dataframe tbody tr th {\n",
       "        vertical-align: top;\n",
       "    }\n",
       "\n",
       "    .dataframe thead th {\n",
       "        text-align: right;\n",
       "    }\n",
       "</style>\n",
       "<table border=\"1\" class=\"dataframe\">\n",
       "  <thead>\n",
       "    <tr style=\"text-align: right;\">\n",
       "      <th></th>\n",
       "      <th>ID</th>\n",
       "      <th>Name</th>\n",
       "      <th>Age</th>\n",
       "    </tr>\n",
       "  </thead>\n",
       "  <tbody>\n",
       "    <tr>\n",
       "      <th>0</th>\n",
       "      <td>3</td>\n",
       "      <td>Charlie</td>\n",
       "      <td>25</td>\n",
       "    </tr>\n",
       "    <tr>\n",
       "      <th>1</th>\n",
       "      <td>4</td>\n",
       "      <td>David</td>\n",
       "      <td>30</td>\n",
       "    </tr>\n",
       "    <tr>\n",
       "      <th>2</th>\n",
       "      <td>5</td>\n",
       "      <td>NaN</td>\n",
       "      <td>35</td>\n",
       "    </tr>\n",
       "    <tr>\n",
       "      <th>3</th>\n",
       "      <td>6</td>\n",
       "      <td>NaN</td>\n",
       "      <td>40</td>\n",
       "    </tr>\n",
       "  </tbody>\n",
       "</table>\n",
       "</div>"
      ],
      "text/plain": [
       "   ID     Name  Age\n",
       "0   3  Charlie   25\n",
       "1   4    David   30\n",
       "2   5      NaN   35\n",
       "3   6      NaN   40"
      ]
     },
     "execution_count": 83,
     "metadata": {},
     "output_type": "execute_result"
    }
   ],
   "source": [
    "# 'ID' 열을 기준으로 두 데이터프레임 합치기 (right join)\n",
    "pd.merge(df1, df2, on='ID', how='right')"
   ]
  },
  {
   "cell_type": "raw",
   "id": "5f6bb7ed-7a72-45cc-bdc2-3a02f209d741",
   "metadata": {
    "tags": []
   },
   "source": [
    "위의 결과를 보면 how=rogjt로 인자를 입력하였을 경우\n",
    "우측편, 즉 두번째 파라미터인 df2의 모든 행은 포함이 되고\n",
    "해당 내용을 기준으로 ID열에 매핑이 되는 df1의 행만 포함이 되게 됩니다.\n",
    "그래서 ID가 5로 되어 있는 행의 경우에는 Name에 NaN으로 채워지게 됩니다."
   ]
  },
  {
   "cell_type": "raw",
   "id": "fbe3ee26-62cf-49c9-a01b-48291ff1a954",
   "metadata": {
    "tags": []
   },
   "source": [
    "on, left_on, right_on은 merge() 메서드에서 사용되는 매개변수로, \n",
    "두 데이터프레임을 특정 열을 기준으로 합칠 때 해당 열들을 지정하는 역할을 합니다.\n",
    "\n",
    "meger 하는 기준 컬럼의 이름이 양쪽 데이터 프레임에서 동일한 경우에는 on을 사용하면 되지만,\n",
    "\n",
    "두 데이터프레임이 서로 다른 열 이름을 가지고 있을 때는\n",
    "left_on, right_on 매개변수를 사용하여 왼쪽 데이터 프레임에서의 기준열과\n",
    "오른쪽 데이터프레임에서의 기준 열을 각각 지정할 수 있습니다."
   ]
  },
  {
   "cell_type": "code",
   "execution_count": 87,
   "id": "040671c5-bdc3-452e-9010-7334166d6789",
   "metadata": {
    "tags": []
   },
   "outputs": [],
   "source": [
    "\"\"\"\n",
    "on, left_on, right_on은 merge() 메서드에서 사용되는 매개변수로, \n",
    "두 데이터프레임을 특정 열을 기준으로 합칠 때 해당 열들을 지정하는 역할을 합니다.\n",
    "left_on, right_on 매개변수를 사용하여 \n",
    "두 데이터프레임이 서로 다른 열 이름을 가지고 있을 때도 쉽게 합치는 것이 가능합니다.\n",
    "\"\"\"\n",
    "import pandas as pd\n",
    "\n",
    "# 데이터 생성\n",
    "data1 = {\n",
    "    'ID': [1, 2, 3],\n",
    "    'Age': [25, 30, 35]\n",
    "}\n",
    "\n",
    "data2 = {\n",
    "    'StudentID': [2, 3, 4],\n",
    "    'Credit': [25, 30, 35]\n",
    "}\n",
    "\n",
    "\n",
    "df1 = pd.DataFrame(data1)\n",
    "df2 = pd.DataFrame(data2)"
   ]
  },
  {
   "cell_type": "code",
   "execution_count": 88,
   "id": "ed13a9ac-cbea-4694-8f20-e12b77fb31b9",
   "metadata": {
    "tags": []
   },
   "outputs": [
    {
     "data": {
      "text/html": [
       "<div>\n",
       "<style scoped>\n",
       "    .dataframe tbody tr th:only-of-type {\n",
       "        vertical-align: middle;\n",
       "    }\n",
       "\n",
       "    .dataframe tbody tr th {\n",
       "        vertical-align: top;\n",
       "    }\n",
       "\n",
       "    .dataframe thead th {\n",
       "        text-align: right;\n",
       "    }\n",
       "</style>\n",
       "<table border=\"1\" class=\"dataframe\">\n",
       "  <thead>\n",
       "    <tr style=\"text-align: right;\">\n",
       "      <th></th>\n",
       "      <th>ID</th>\n",
       "      <th>Age</th>\n",
       "    </tr>\n",
       "  </thead>\n",
       "  <tbody>\n",
       "    <tr>\n",
       "      <th>0</th>\n",
       "      <td>1</td>\n",
       "      <td>25</td>\n",
       "    </tr>\n",
       "    <tr>\n",
       "      <th>1</th>\n",
       "      <td>2</td>\n",
       "      <td>30</td>\n",
       "    </tr>\n",
       "    <tr>\n",
       "      <th>2</th>\n",
       "      <td>3</td>\n",
       "      <td>35</td>\n",
       "    </tr>\n",
       "  </tbody>\n",
       "</table>\n",
       "</div>"
      ],
      "text/plain": [
       "   ID  Age\n",
       "0   1   25\n",
       "1   2   30\n",
       "2   3   35"
      ]
     },
     "execution_count": 88,
     "metadata": {},
     "output_type": "execute_result"
    }
   ],
   "source": [
    "df1"
   ]
  },
  {
   "cell_type": "code",
   "execution_count": 89,
   "id": "b334b53e-f717-4e26-8d11-c00d969887dd",
   "metadata": {
    "tags": []
   },
   "outputs": [
    {
     "data": {
      "text/html": [
       "<div>\n",
       "<style scoped>\n",
       "    .dataframe tbody tr th:only-of-type {\n",
       "        vertical-align: middle;\n",
       "    }\n",
       "\n",
       "    .dataframe tbody tr th {\n",
       "        vertical-align: top;\n",
       "    }\n",
       "\n",
       "    .dataframe thead th {\n",
       "        text-align: right;\n",
       "    }\n",
       "</style>\n",
       "<table border=\"1\" class=\"dataframe\">\n",
       "  <thead>\n",
       "    <tr style=\"text-align: right;\">\n",
       "      <th></th>\n",
       "      <th>StudentID</th>\n",
       "      <th>Credit</th>\n",
       "    </tr>\n",
       "  </thead>\n",
       "  <tbody>\n",
       "    <tr>\n",
       "      <th>0</th>\n",
       "      <td>2</td>\n",
       "      <td>25</td>\n",
       "    </tr>\n",
       "    <tr>\n",
       "      <th>1</th>\n",
       "      <td>3</td>\n",
       "      <td>30</td>\n",
       "    </tr>\n",
       "    <tr>\n",
       "      <th>2</th>\n",
       "      <td>4</td>\n",
       "      <td>35</td>\n",
       "    </tr>\n",
       "  </tbody>\n",
       "</table>\n",
       "</div>"
      ],
      "text/plain": [
       "   StudentID  Credit\n",
       "0          2      25\n",
       "1          3      30\n",
       "2          4      35"
      ]
     },
     "execution_count": 89,
     "metadata": {},
     "output_type": "execute_result"
    }
   ],
   "source": [
    "df2"
   ]
  },
  {
   "cell_type": "raw",
   "id": "dee0b09b-d593-4285-be7c-e64443ff0652",
   "metadata": {},
   "source": [
    "df1의 'ID'와 df2의 'StudentID' 열을 기준으로 두 데이터프레임 합치기 위해서는\n",
    "left_on 에서는 첫번째 파라미터 즉 좌측이 되는 데이터프레임의 기준열인 \"ID\"를 넣어주고\n",
    "right_ont 에서는 두번째 파라미터 즉 우측이 되는 데이터프레임의 기준열인 \"StudentID\"를 넣어줍니다."
   ]
  },
  {
   "cell_type": "code",
   "execution_count": 90,
   "id": "22100665-b1b4-4dc8-bfa1-95ff1325a47a",
   "metadata": {
    "tags": []
   },
   "outputs": [
    {
     "data": {
      "text/html": [
       "<div>\n",
       "<style scoped>\n",
       "    .dataframe tbody tr th:only-of-type {\n",
       "        vertical-align: middle;\n",
       "    }\n",
       "\n",
       "    .dataframe tbody tr th {\n",
       "        vertical-align: top;\n",
       "    }\n",
       "\n",
       "    .dataframe thead th {\n",
       "        text-align: right;\n",
       "    }\n",
       "</style>\n",
       "<table border=\"1\" class=\"dataframe\">\n",
       "  <thead>\n",
       "    <tr style=\"text-align: right;\">\n",
       "      <th></th>\n",
       "      <th>ID</th>\n",
       "      <th>Age</th>\n",
       "      <th>StudentID</th>\n",
       "      <th>Credit</th>\n",
       "    </tr>\n",
       "  </thead>\n",
       "  <tbody>\n",
       "    <tr>\n",
       "      <th>0</th>\n",
       "      <td>2</td>\n",
       "      <td>30</td>\n",
       "      <td>2</td>\n",
       "      <td>25</td>\n",
       "    </tr>\n",
       "    <tr>\n",
       "      <th>1</th>\n",
       "      <td>3</td>\n",
       "      <td>35</td>\n",
       "      <td>3</td>\n",
       "      <td>30</td>\n",
       "    </tr>\n",
       "  </tbody>\n",
       "</table>\n",
       "</div>"
      ],
      "text/plain": [
       "   ID  Age  StudentID  Credit\n",
       "0   2   30          2      25\n",
       "1   3   35          3      30"
      ]
     },
     "execution_count": 90,
     "metadata": {},
     "output_type": "execute_result"
    }
   ],
   "source": [
    "# 'ID'와 'StudentID' 열을 기준으로 두 데이터프레임 합치기\n",
    "pd.merge(df1, df2, left_on='ID', right_on='StudentID')"
   ]
  },
  {
   "cell_type": "raw",
   "id": "1c159697-6a9e-4607-9998-a1d1a03ae1aa",
   "metadata": {},
   "source": [
    "위의 코드의 실행결과를 보면 df1의 ID와 df2의 studentID가 일치할 경우 \n",
    "데이터를 병합한 것을 확인할 수 있습니다."
   ]
  },
  {
   "cell_type": "raw",
   "id": "4c3e56fe-398b-4216-8316-e1e0ad5e4be0",
   "metadata": {},
   "source": [
    "이상으로 이번강의를 마치도록 하겠습니다.\n",
    "수고하셨습니다."
   ]
  },
  {
   "cell_type": "code",
   "execution_count": null,
   "id": "67dab76a-d99a-4218-8a15-cfa7d085d117",
   "metadata": {},
   "outputs": [],
   "source": []
  }
 ],
 "metadata": {
  "kernelspec": {
   "display_name": "Python 3 (ipykernel)",
   "language": "python",
   "name": "python3"
  },
  "language_info": {
   "codemirror_mode": {
    "name": "ipython",
    "version": 3
   },
   "file_extension": ".py",
   "mimetype": "text/x-python",
   "name": "python",
   "nbconvert_exporter": "python",
   "pygments_lexer": "ipython3",
   "version": "3.9.1"
  }
 },
 "nbformat": 4,
 "nbformat_minor": 5
}
