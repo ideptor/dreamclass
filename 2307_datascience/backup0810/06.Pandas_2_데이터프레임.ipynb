{
 "cells": [
  {
   "cell_type": "markdown",
   "id": "da952dc3-7100-4d84-9d4b-7ddef56f7102",
   "metadata": {},
   "source": [
    "# DataFrame \n",
    "\n",
    "- DataFrame은 `2차원 테이블 형태`의 데이터 구조로, `행`과 `열`로 이루어져 있습니다. \n",
    "- DataFrame은 `여러 개의 Series`로 구성되어 있으며, `각 Series는 하나의 열(column)`을 나타냅니다. \n",
    "- DataFrame은 여러 데이터 타입을 포함할 수 있으며, 각 열은 서로 다른 데이터 타입을 가질 수 있습니다."
   ]
  },
  {
   "cell_type": "code",
   "execution_count": 153,
   "id": "0a382b0a-aaa3-4abc-b5c5-053b7de0184a",
   "metadata": {
    "tags": []
   },
   "outputs": [],
   "source": [
    "\"\"\"\n",
    "딕셔너리를 활용한 데이터프레임 생성:\n",
    "\"\"\"\n",
    "import pandas as pd\n",
    "\n",
    "# 딕셔너리를 사용하여 데이터프레임 생성\n",
    "data = {\n",
    "    'Name': ['Alice', 'Bob', 'Charlie'],\n",
    "    'Age': [25, 30, 35],\n",
    "    'Score': [85.5, 92.0, 78.5]\n",
    "}\n",
    "\n",
    "df = pd.DataFrame(data)\n",
    "    "
   ]
  },
  {
   "cell_type": "code",
   "execution_count": 154,
   "id": "108f5d30-c4e2-4674-92db-e4622b3f0044",
   "metadata": {
    "tags": []
   },
   "outputs": [
    {
     "data": {
      "text/html": [
       "<div>\n",
       "<style scoped>\n",
       "    .dataframe tbody tr th:only-of-type {\n",
       "        vertical-align: middle;\n",
       "    }\n",
       "\n",
       "    .dataframe tbody tr th {\n",
       "        vertical-align: top;\n",
       "    }\n",
       "\n",
       "    .dataframe thead th {\n",
       "        text-align: right;\n",
       "    }\n",
       "</style>\n",
       "<table border=\"1\" class=\"dataframe\">\n",
       "  <thead>\n",
       "    <tr style=\"text-align: right;\">\n",
       "      <th></th>\n",
       "      <th>Name</th>\n",
       "      <th>Age</th>\n",
       "      <th>Score</th>\n",
       "    </tr>\n",
       "  </thead>\n",
       "  <tbody>\n",
       "    <tr>\n",
       "      <th>0</th>\n",
       "      <td>Alice</td>\n",
       "      <td>25</td>\n",
       "      <td>85.5</td>\n",
       "    </tr>\n",
       "    <tr>\n",
       "      <th>1</th>\n",
       "      <td>Bob</td>\n",
       "      <td>30</td>\n",
       "      <td>92.0</td>\n",
       "    </tr>\n",
       "    <tr>\n",
       "      <th>2</th>\n",
       "      <td>Charlie</td>\n",
       "      <td>35</td>\n",
       "      <td>78.5</td>\n",
       "    </tr>\n",
       "  </tbody>\n",
       "</table>\n",
       "</div>"
      ],
      "text/plain": [
       "      Name  Age  Score\n",
       "0    Alice   25   85.5\n",
       "1      Bob   30   92.0\n",
       "2  Charlie   35   78.5"
      ]
     },
     "execution_count": 154,
     "metadata": {},
     "output_type": "execute_result"
    }
   ],
   "source": [
    "df"
   ]
  },
  {
   "cell_type": "code",
   "execution_count": 155,
   "id": "3984a25b-b473-4e1b-9f34-b39239613087",
   "metadata": {
    "tags": []
   },
   "outputs": [
    {
     "data": {
      "text/plain": [
       "pandas.core.frame.DataFrame"
      ]
     },
     "execution_count": 155,
     "metadata": {},
     "output_type": "execute_result"
    }
   ],
   "source": [
    "type(df)"
   ]
  },
  {
   "cell_type": "code",
   "execution_count": 156,
   "id": "9c55a07d-9daa-40cf-a0ce-7fb48e0a648d",
   "metadata": {
    "tags": []
   },
   "outputs": [
    {
     "data": {
      "text/plain": [
       "(RangeIndex(start=0, stop=3, step=1), pandas.core.indexes.range.RangeIndex)"
      ]
     },
     "execution_count": 156,
     "metadata": {},
     "output_type": "execute_result"
    }
   ],
   "source": [
    "df.index, type(df.index)"
   ]
  },
  {
   "cell_type": "code",
   "execution_count": 157,
   "id": "39ac7aa3-4223-4721-8fe2-f64d8b38e0fa",
   "metadata": {
    "tags": []
   },
   "outputs": [
    {
     "data": {
      "text/plain": [
       "(array([['Alice', 25, 85.5],\n",
       "        ['Bob', 30, 92.0],\n",
       "        ['Charlie', 35, 78.5]], dtype=object),\n",
       " numpy.ndarray)"
      ]
     },
     "execution_count": 157,
     "metadata": {},
     "output_type": "execute_result"
    }
   ],
   "source": [
    "df.values, type(df.values)"
   ]
  },
  {
   "cell_type": "code",
   "execution_count": 158,
   "id": "0c7e95bd-92de-401e-98be-e0deac62176f",
   "metadata": {
    "tags": []
   },
   "outputs": [
    {
     "data": {
      "text/plain": [
       "(Index(['Name', 'Age', 'Score'], dtype='object'),\n",
       " pandas.core.indexes.base.Index)"
      ]
     },
     "execution_count": 158,
     "metadata": {},
     "output_type": "execute_result"
    }
   ],
   "source": [
    "df.columns, type(df.columns)"
   ]
  },
  {
   "cell_type": "code",
   "execution_count": 159,
   "id": "7081fcc4-947c-439f-a3fa-bb377f3d0890",
   "metadata": {
    "tags": []
   },
   "outputs": [
    {
     "data": {
      "text/plain": [
       "9"
      ]
     },
     "execution_count": 159,
     "metadata": {},
     "output_type": "execute_result"
    }
   ],
   "source": [
    "df.size"
   ]
  },
  {
   "cell_type": "code",
   "execution_count": 160,
   "id": "13230fb7-b438-4ff1-ad73-9daaca31edad",
   "metadata": {
    "tags": []
   },
   "outputs": [
    {
     "data": {
      "text/plain": [
       "(3, 3)"
      ]
     },
     "execution_count": 160,
     "metadata": {},
     "output_type": "execute_result"
    }
   ],
   "source": [
    "df.shape"
   ]
  },
  {
   "cell_type": "code",
   "execution_count": 161,
   "id": "7b81db2c-8ee3-431d-b506-60a289aa5dad",
   "metadata": {
    "tags": []
   },
   "outputs": [
    {
     "name": "stdout",
     "output_type": "stream",
     "text": [
      "<class 'pandas.core.frame.DataFrame'>\n",
      "RangeIndex: 3 entries, 0 to 2\n",
      "Data columns (total 3 columns):\n",
      " #   Column  Non-Null Count  Dtype  \n",
      "---  ------  --------------  -----  \n",
      " 0   Name    3 non-null      object \n",
      " 1   Age     3 non-null      int64  \n",
      " 2   Score   3 non-null      float64\n",
      "dtypes: float64(1), int64(1), object(1)\n",
      "memory usage: 200.0+ bytes\n"
     ]
    }
   ],
   "source": [
    "df.info()"
   ]
  },
  {
   "cell_type": "code",
   "execution_count": 162,
   "id": "eba82c9e-1506-4f3c-adef-9252e4d9b461",
   "metadata": {
    "tags": []
   },
   "outputs": [
    {
     "data": {
      "text/html": [
       "<div>\n",
       "<style scoped>\n",
       "    .dataframe tbody tr th:only-of-type {\n",
       "        vertical-align: middle;\n",
       "    }\n",
       "\n",
       "    .dataframe tbody tr th {\n",
       "        vertical-align: top;\n",
       "    }\n",
       "\n",
       "    .dataframe thead th {\n",
       "        text-align: right;\n",
       "    }\n",
       "</style>\n",
       "<table border=\"1\" class=\"dataframe\">\n",
       "  <thead>\n",
       "    <tr style=\"text-align: right;\">\n",
       "      <th></th>\n",
       "      <th>Age</th>\n",
       "      <th>Score</th>\n",
       "    </tr>\n",
       "  </thead>\n",
       "  <tbody>\n",
       "    <tr>\n",
       "      <th>count</th>\n",
       "      <td>3.0</td>\n",
       "      <td>3.000000</td>\n",
       "    </tr>\n",
       "    <tr>\n",
       "      <th>mean</th>\n",
       "      <td>30.0</td>\n",
       "      <td>85.333333</td>\n",
       "    </tr>\n",
       "    <tr>\n",
       "      <th>std</th>\n",
       "      <td>5.0</td>\n",
       "      <td>6.751543</td>\n",
       "    </tr>\n",
       "    <tr>\n",
       "      <th>min</th>\n",
       "      <td>25.0</td>\n",
       "      <td>78.500000</td>\n",
       "    </tr>\n",
       "    <tr>\n",
       "      <th>25%</th>\n",
       "      <td>27.5</td>\n",
       "      <td>82.000000</td>\n",
       "    </tr>\n",
       "    <tr>\n",
       "      <th>50%</th>\n",
       "      <td>30.0</td>\n",
       "      <td>85.500000</td>\n",
       "    </tr>\n",
       "    <tr>\n",
       "      <th>75%</th>\n",
       "      <td>32.5</td>\n",
       "      <td>88.750000</td>\n",
       "    </tr>\n",
       "    <tr>\n",
       "      <th>max</th>\n",
       "      <td>35.0</td>\n",
       "      <td>92.000000</td>\n",
       "    </tr>\n",
       "  </tbody>\n",
       "</table>\n",
       "</div>"
      ],
      "text/plain": [
       "        Age      Score\n",
       "count   3.0   3.000000\n",
       "mean   30.0  85.333333\n",
       "std     5.0   6.751543\n",
       "min    25.0  78.500000\n",
       "25%    27.5  82.000000\n",
       "50%    30.0  85.500000\n",
       "75%    32.5  88.750000\n",
       "max    35.0  92.000000"
      ]
     },
     "execution_count": 162,
     "metadata": {},
     "output_type": "execute_result"
    }
   ],
   "source": [
    "df.describe()"
   ]
  },
  {
   "cell_type": "code",
   "execution_count": 19,
   "id": "d4f0912b-368c-499a-aaf0-fc7377ccf0a9",
   "metadata": {},
   "outputs": [],
   "source": [
    "\"\"\"\n",
    "리스트의 리스트를 활용한 데이터프레임 생성:\n",
    "\"\"\"\n",
    "import pandas as pd\n",
    "\n",
    "# 리스트의 리스트를 사용하여 데이터프레임 생성\n",
    "data = [\n",
    "    ['Alice', 25, 85.5],\n",
    "    ['Bob', 30, 92.0],\n",
    "    ['Charlie', 35, 78.5]\n",
    "]\n",
    "\n",
    "columns = ['Name', 'Age', 'Score']\n",
    "df = pd.DataFrame(data, columns=columns)\n",
    "\n",
    "    "
   ]
  },
  {
   "cell_type": "code",
   "execution_count": 20,
   "id": "5c5e81d5-439d-4fe7-8825-271cbe1c8427",
   "metadata": {},
   "outputs": [],
   "source": [
    "\"\"\"\n",
    "딕셔너리의 리스트를 활용한 데이터프레임 생성:\n",
    "\"\"\"\n",
    "import pandas as pd\n",
    "\n",
    "# 리스트의 리스트를 사용하여 데이터프레임 생성\n",
    "data = [\n",
    "    {'name':'Alice', 'Age':25, 'Score':85.5},\n",
    "    {'name':'Bob', 'Age':30, 'Score':92.0},\n",
    "    {'name':'Charlie', 'Age':35, 'Score':78.5}\n",
    "]\n",
    "\n",
    "df = pd.DataFrame(data)\n",
    "\n",
    "    "
   ]
  },
  {
   "cell_type": "code",
   "execution_count": 21,
   "id": "38d7beee-bd83-4231-907d-72458de86f96",
   "metadata": {},
   "outputs": [
    {
     "data": {
      "text/html": [
       "<div>\n",
       "<style scoped>\n",
       "    .dataframe tbody tr th:only-of-type {\n",
       "        vertical-align: middle;\n",
       "    }\n",
       "\n",
       "    .dataframe tbody tr th {\n",
       "        vertical-align: top;\n",
       "    }\n",
       "\n",
       "    .dataframe thead th {\n",
       "        text-align: right;\n",
       "    }\n",
       "</style>\n",
       "<table border=\"1\" class=\"dataframe\">\n",
       "  <thead>\n",
       "    <tr style=\"text-align: right;\">\n",
       "      <th></th>\n",
       "      <th>name</th>\n",
       "      <th>Age</th>\n",
       "      <th>Score</th>\n",
       "    </tr>\n",
       "  </thead>\n",
       "  <tbody>\n",
       "    <tr>\n",
       "      <th>0</th>\n",
       "      <td>Alice</td>\n",
       "      <td>25</td>\n",
       "      <td>85.5</td>\n",
       "    </tr>\n",
       "    <tr>\n",
       "      <th>1</th>\n",
       "      <td>Bob</td>\n",
       "      <td>30</td>\n",
       "      <td>92.0</td>\n",
       "    </tr>\n",
       "    <tr>\n",
       "      <th>2</th>\n",
       "      <td>Charlie</td>\n",
       "      <td>35</td>\n",
       "      <td>78.5</td>\n",
       "    </tr>\n",
       "  </tbody>\n",
       "</table>\n",
       "</div>"
      ],
      "text/plain": [
       "      name  Age  Score\n",
       "0    Alice   25   85.5\n",
       "1      Bob   30   92.0\n",
       "2  Charlie   35   78.5"
      ]
     },
     "execution_count": 21,
     "metadata": {},
     "output_type": "execute_result"
    }
   ],
   "source": [
    "df"
   ]
  },
  {
   "cell_type": "code",
   "execution_count": null,
   "id": "5da1a6e5-4bca-4731-b1b1-17a49f4c8122",
   "metadata": {},
   "outputs": [],
   "source": [
    "\"\"\"\n",
    "NumPy 배열을 활용한 데이터프레임 생성:\n",
    "\"\"\"\n",
    "import pandas as pd\n",
    "import numpy as np\n",
    "\n",
    "# NumPy 배열을 사용하여 데이터프레임 생성\n",
    "data = np.array([\n",
    "    ['Alice', 25, 85.5],\n",
    "    ['Bob', 30, 92.0],\n",
    "    ['Charlie', 35, 78.5]\n",
    "])\n",
    "\n",
    "columns = ['Name', 'Age', 'Score']\n",
    "df = pd.DataFrame(data, columns=columns)\n"
   ]
  },
  {
   "cell_type": "code",
   "execution_count": 87,
   "id": "2ab12c37-2cbc-434c-b060-6f293547be4c",
   "metadata": {},
   "outputs": [],
   "source": [
    "\"\"\"\n",
    "판다스 시리즈를 활용한 데이터프레임 생성 1\n",
    "\"\"\"\n",
    "import pandas as pd\n",
    "\n",
    "# 시리즈 생성\n",
    "names = pd.Series(['Alice', 'Bob', 'Charlie'], name=\"Name\")\n",
    "ages = pd.Series([25, 30, 35], name=\"Age\")\n",
    "scores = pd.Series([85.5, 92.0, 78.5], name=\"Score\")\n",
    "\n",
    "# 시리즈들을 리스트로 묶어서 데이터프레임 생성\n",
    "df = pd.DataFrame([names, ages, scores]).transpose()\n"
   ]
  },
  {
   "cell_type": "code",
   "execution_count": 88,
   "id": "4a423777-e98f-4564-beb5-945eb1dbd435",
   "metadata": {},
   "outputs": [
    {
     "data": {
      "text/html": [
       "<div>\n",
       "<style scoped>\n",
       "    .dataframe tbody tr th:only-of-type {\n",
       "        vertical-align: middle;\n",
       "    }\n",
       "\n",
       "    .dataframe tbody tr th {\n",
       "        vertical-align: top;\n",
       "    }\n",
       "\n",
       "    .dataframe thead th {\n",
       "        text-align: right;\n",
       "    }\n",
       "</style>\n",
       "<table border=\"1\" class=\"dataframe\">\n",
       "  <thead>\n",
       "    <tr style=\"text-align: right;\">\n",
       "      <th></th>\n",
       "      <th>Name</th>\n",
       "      <th>Age</th>\n",
       "      <th>Score</th>\n",
       "    </tr>\n",
       "  </thead>\n",
       "  <tbody>\n",
       "    <tr>\n",
       "      <th>0</th>\n",
       "      <td>Alice</td>\n",
       "      <td>25</td>\n",
       "      <td>85.5</td>\n",
       "    </tr>\n",
       "    <tr>\n",
       "      <th>1</th>\n",
       "      <td>Bob</td>\n",
       "      <td>30</td>\n",
       "      <td>92.0</td>\n",
       "    </tr>\n",
       "    <tr>\n",
       "      <th>2</th>\n",
       "      <td>Charlie</td>\n",
       "      <td>35</td>\n",
       "      <td>78.5</td>\n",
       "    </tr>\n",
       "  </tbody>\n",
       "</table>\n",
       "</div>"
      ],
      "text/plain": [
       "      Name Age Score\n",
       "0    Alice  25  85.5\n",
       "1      Bob  30  92.0\n",
       "2  Charlie  35  78.5"
      ]
     },
     "execution_count": 88,
     "metadata": {},
     "output_type": "execute_result"
    }
   ],
   "source": [
    "df"
   ]
  },
  {
   "cell_type": "code",
   "execution_count": 86,
   "id": "f0b5d2ed-7ce2-436b-a8e1-e417262ad365",
   "metadata": {},
   "outputs": [],
   "source": [
    "\"\"\"\n",
    "판다스 시리즈를 활용한 데이터프레임 생성 2\n",
    "\"\"\"\n",
    "import pandas as pd\n",
    "\n",
    "# 시리즈 생성\n",
    "names = pd.Series(['Alice', 'Bob', 'Charlie'])\n",
    "ages = pd.Series([25, 30, 35])\n",
    "scores = pd.Series([85.5, 92.0, 78.5])\n",
    "\n",
    "# 데이터프레임 생성 (열 이름을 지정)\n",
    "df = pd.DataFrame({\n",
    "    'Name': names,\n",
    "    'Age': ages,\n",
    "    'Score': scores\n",
    "})\n"
   ]
  },
  {
   "cell_type": "code",
   "execution_count": 80,
   "id": "ea4ca280-9168-44f1-8747-da065306f9f3",
   "metadata": {},
   "outputs": [],
   "source": [
    "\"\"\"\n",
    "파일로 부터 읽어오기\n",
    "\"\"\"\n",
    "import pandas as pd\n",
    "\n",
    "df = pd.read_csv(\"sample.csv\", )\n"
   ]
  },
  {
   "cell_type": "markdown",
   "id": "fe223f37-9913-432a-8be9-534a723e741c",
   "metadata": {
    "tags": []
   },
   "source": [
    "## column 변경"
   ]
  },
  {
   "cell_type": "code",
   "execution_count": 91,
   "id": "9fee7ded-b588-4f84-8004-7cd31ffd4351",
   "metadata": {
    "tags": []
   },
   "outputs": [],
   "source": [
    "import pandas as pd\n",
    "\n",
    "# 리스트의 리스트를 사용하여 데이터프레임 생성\n",
    "data = [\n",
    "    ['Alice', 25, 85.5],\n",
    "    ['Bob', 30, 92.0],\n",
    "    ['Charlie', 35, 78.5]\n",
    "]\n",
    "df = pd.DataFrame(data, columns=['Name', 'Age', 'Score'])"
   ]
  },
  {
   "cell_type": "code",
   "execution_count": 92,
   "id": "a47bdd2c-9e2c-4bb0-ae12-faf8f6bd7c10",
   "metadata": {
    "tags": []
   },
   "outputs": [
    {
     "data": {
      "text/html": [
       "<div>\n",
       "<style scoped>\n",
       "    .dataframe tbody tr th:only-of-type {\n",
       "        vertical-align: middle;\n",
       "    }\n",
       "\n",
       "    .dataframe tbody tr th {\n",
       "        vertical-align: top;\n",
       "    }\n",
       "\n",
       "    .dataframe thead th {\n",
       "        text-align: right;\n",
       "    }\n",
       "</style>\n",
       "<table border=\"1\" class=\"dataframe\">\n",
       "  <thead>\n",
       "    <tr style=\"text-align: right;\">\n",
       "      <th></th>\n",
       "      <th>Name</th>\n",
       "      <th>Age</th>\n",
       "      <th>Score</th>\n",
       "    </tr>\n",
       "  </thead>\n",
       "  <tbody>\n",
       "    <tr>\n",
       "      <th>0</th>\n",
       "      <td>Alice</td>\n",
       "      <td>25</td>\n",
       "      <td>85.5</td>\n",
       "    </tr>\n",
       "    <tr>\n",
       "      <th>1</th>\n",
       "      <td>Bob</td>\n",
       "      <td>30</td>\n",
       "      <td>92.0</td>\n",
       "    </tr>\n",
       "    <tr>\n",
       "      <th>2</th>\n",
       "      <td>Charlie</td>\n",
       "      <td>35</td>\n",
       "      <td>78.5</td>\n",
       "    </tr>\n",
       "  </tbody>\n",
       "</table>\n",
       "</div>"
      ],
      "text/plain": [
       "      Name  Age  Score\n",
       "0    Alice   25   85.5\n",
       "1      Bob   30   92.0\n",
       "2  Charlie   35   78.5"
      ]
     },
     "execution_count": 92,
     "metadata": {},
     "output_type": "execute_result"
    }
   ],
   "source": [
    "df"
   ]
  },
  {
   "cell_type": "code",
   "execution_count": 93,
   "id": "ae2425af-ee42-4208-a121-90ae84543076",
   "metadata": {
    "tags": []
   },
   "outputs": [],
   "source": [
    "# column 순서를 \"Name\", \"Score\", \"Age\"로 변경\n",
    "df = df[[\"Name\", \"Score\", \"Age\"]]"
   ]
  },
  {
   "cell_type": "code",
   "execution_count": 94,
   "id": "2638210e-aeab-4ec4-9d3e-73055164e7b1",
   "metadata": {
    "tags": []
   },
   "outputs": [
    {
     "data": {
      "text/html": [
       "<div>\n",
       "<style scoped>\n",
       "    .dataframe tbody tr th:only-of-type {\n",
       "        vertical-align: middle;\n",
       "    }\n",
       "\n",
       "    .dataframe tbody tr th {\n",
       "        vertical-align: top;\n",
       "    }\n",
       "\n",
       "    .dataframe thead th {\n",
       "        text-align: right;\n",
       "    }\n",
       "</style>\n",
       "<table border=\"1\" class=\"dataframe\">\n",
       "  <thead>\n",
       "    <tr style=\"text-align: right;\">\n",
       "      <th></th>\n",
       "      <th>Name</th>\n",
       "      <th>Score</th>\n",
       "      <th>Age</th>\n",
       "    </tr>\n",
       "  </thead>\n",
       "  <tbody>\n",
       "    <tr>\n",
       "      <th>0</th>\n",
       "      <td>Alice</td>\n",
       "      <td>85.5</td>\n",
       "      <td>25</td>\n",
       "    </tr>\n",
       "    <tr>\n",
       "      <th>1</th>\n",
       "      <td>Bob</td>\n",
       "      <td>92.0</td>\n",
       "      <td>30</td>\n",
       "    </tr>\n",
       "    <tr>\n",
       "      <th>2</th>\n",
       "      <td>Charlie</td>\n",
       "      <td>78.5</td>\n",
       "      <td>35</td>\n",
       "    </tr>\n",
       "  </tbody>\n",
       "</table>\n",
       "</div>"
      ],
      "text/plain": [
       "      Name  Score  Age\n",
       "0    Alice   85.5   25\n",
       "1      Bob   92.0   30\n",
       "2  Charlie   78.5   35"
      ]
     },
     "execution_count": 94,
     "metadata": {},
     "output_type": "execute_result"
    }
   ],
   "source": [
    "df"
   ]
  },
  {
   "cell_type": "code",
   "execution_count": 98,
   "id": "9abd0d23-f723-49f1-b98a-f630f8999392",
   "metadata": {
    "tags": []
   },
   "outputs": [],
   "source": [
    "# column 이름 변경 (Name->Nick, Score->Point)"
   ]
  },
  {
   "cell_type": "code",
   "execution_count": 205,
   "id": "bc548e2f-47a3-4cc5-a8c5-5b15af168ae9",
   "metadata": {
    "tags": []
   },
   "outputs": [],
   "source": [
    "import pandas as pd\n",
    "\n",
    "# 리스트의 리스트를 사용하여 데이터프레임 생성\n",
    "data = [\n",
    "    ['Alice', 25, 85.5],\n",
    "    ['Bob', 30, 92.0],\n",
    "    ['Charlie', 35, 78.5]\n",
    "]\n",
    "df = pd.DataFrame(data, columns=['Name', 'Age', 'Score'])\n",
    "\n"
   ]
  },
  {
   "cell_type": "code",
   "execution_count": 206,
   "id": "1312b46a-a0d9-4045-b434-2097b7075bc9",
   "metadata": {
    "tags": []
   },
   "outputs": [
    {
     "data": {
      "text/html": [
       "<div>\n",
       "<style scoped>\n",
       "    .dataframe tbody tr th:only-of-type {\n",
       "        vertical-align: middle;\n",
       "    }\n",
       "\n",
       "    .dataframe tbody tr th {\n",
       "        vertical-align: top;\n",
       "    }\n",
       "\n",
       "    .dataframe thead th {\n",
       "        text-align: right;\n",
       "    }\n",
       "</style>\n",
       "<table border=\"1\" class=\"dataframe\">\n",
       "  <thead>\n",
       "    <tr style=\"text-align: right;\">\n",
       "      <th></th>\n",
       "      <th>Nick</th>\n",
       "      <th>Point</th>\n",
       "      <th>Age</th>\n",
       "    </tr>\n",
       "  </thead>\n",
       "  <tbody>\n",
       "    <tr>\n",
       "      <th>0</th>\n",
       "      <td>Alice</td>\n",
       "      <td>25</td>\n",
       "      <td>85.5</td>\n",
       "    </tr>\n",
       "    <tr>\n",
       "      <th>1</th>\n",
       "      <td>Bob</td>\n",
       "      <td>30</td>\n",
       "      <td>92.0</td>\n",
       "    </tr>\n",
       "    <tr>\n",
       "      <th>2</th>\n",
       "      <td>Charlie</td>\n",
       "      <td>35</td>\n",
       "      <td>78.5</td>\n",
       "    </tr>\n",
       "  </tbody>\n",
       "</table>\n",
       "</div>"
      ],
      "text/plain": [
       "      Nick  Point   Age\n",
       "0    Alice     25  85.5\n",
       "1      Bob     30  92.0\n",
       "2  Charlie     35  78.5"
      ]
     },
     "execution_count": 206,
     "metadata": {},
     "output_type": "execute_result"
    }
   ],
   "source": [
    "df.columns = [\"Nick\", \"Point\", \"Age\"]\n",
    "df"
   ]
  },
  {
   "cell_type": "code",
   "execution_count": 207,
   "id": "66653eec-26ef-4724-b8d1-b4b7fd8def7e",
   "metadata": {
    "tags": []
   },
   "outputs": [
    {
     "data": {
      "text/html": [
       "<div>\n",
       "<style scoped>\n",
       "    .dataframe tbody tr th:only-of-type {\n",
       "        vertical-align: middle;\n",
       "    }\n",
       "\n",
       "    .dataframe tbody tr th {\n",
       "        vertical-align: top;\n",
       "    }\n",
       "\n",
       "    .dataframe thead th {\n",
       "        text-align: right;\n",
       "    }\n",
       "</style>\n",
       "<table border=\"1\" class=\"dataframe\">\n",
       "  <thead>\n",
       "    <tr style=\"text-align: right;\">\n",
       "      <th></th>\n",
       "      <th>Nick</th>\n",
       "      <th>Point</th>\n",
       "      <th>Age</th>\n",
       "    </tr>\n",
       "  </thead>\n",
       "  <tbody>\n",
       "    <tr>\n",
       "      <th>0</th>\n",
       "      <td>Alice</td>\n",
       "      <td>25</td>\n",
       "      <td>85.5</td>\n",
       "    </tr>\n",
       "    <tr>\n",
       "      <th>1</th>\n",
       "      <td>Bob</td>\n",
       "      <td>30</td>\n",
       "      <td>92.0</td>\n",
       "    </tr>\n",
       "    <tr>\n",
       "      <th>2</th>\n",
       "      <td>Charlie</td>\n",
       "      <td>35</td>\n",
       "      <td>78.5</td>\n",
       "    </tr>\n",
       "  </tbody>\n",
       "</table>\n",
       "</div>"
      ],
      "text/plain": [
       "      Nick  Point   Age\n",
       "0    Alice     25  85.5\n",
       "1      Bob     30  92.0\n",
       "2  Charlie     35  78.5"
      ]
     },
     "execution_count": 207,
     "metadata": {},
     "output_type": "execute_result"
    }
   ],
   "source": [
    "df.rename(columns=dict(Name=\"Nick\", Score=\"Point\"))"
   ]
  },
  {
   "cell_type": "code",
   "execution_count": 208,
   "id": "fbb7c4e1-bc5e-4724-8014-e17d179bb0fd",
   "metadata": {
    "tags": []
   },
   "outputs": [
    {
     "data": {
      "text/html": [
       "<div>\n",
       "<style scoped>\n",
       "    .dataframe tbody tr th:only-of-type {\n",
       "        vertical-align: middle;\n",
       "    }\n",
       "\n",
       "    .dataframe tbody tr th {\n",
       "        vertical-align: top;\n",
       "    }\n",
       "\n",
       "    .dataframe thead th {\n",
       "        text-align: right;\n",
       "    }\n",
       "</style>\n",
       "<table border=\"1\" class=\"dataframe\">\n",
       "  <thead>\n",
       "    <tr style=\"text-align: right;\">\n",
       "      <th></th>\n",
       "      <th>Nick</th>\n",
       "      <th>Point</th>\n",
       "      <th>Age</th>\n",
       "    </tr>\n",
       "  </thead>\n",
       "  <tbody>\n",
       "    <tr>\n",
       "      <th>0</th>\n",
       "      <td>Alice</td>\n",
       "      <td>25</td>\n",
       "      <td>85.5</td>\n",
       "    </tr>\n",
       "    <tr>\n",
       "      <th>1</th>\n",
       "      <td>Bob</td>\n",
       "      <td>30</td>\n",
       "      <td>92.0</td>\n",
       "    </tr>\n",
       "    <tr>\n",
       "      <th>2</th>\n",
       "      <td>Charlie</td>\n",
       "      <td>35</td>\n",
       "      <td>78.5</td>\n",
       "    </tr>\n",
       "  </tbody>\n",
       "</table>\n",
       "</div>"
      ],
      "text/plain": [
       "      Nick  Point   Age\n",
       "0    Alice     25  85.5\n",
       "1      Bob     30  92.0\n",
       "2  Charlie     35  78.5"
      ]
     },
     "execution_count": 208,
     "metadata": {},
     "output_type": "execute_result"
    }
   ],
   "source": [
    "df"
   ]
  },
  {
   "cell_type": "code",
   "execution_count": 209,
   "id": "e2d08532-986b-4868-9a77-4ac77f047279",
   "metadata": {
    "tags": []
   },
   "outputs": [
    {
     "data": {
      "text/html": [
       "<div>\n",
       "<style scoped>\n",
       "    .dataframe tbody tr th:only-of-type {\n",
       "        vertical-align: middle;\n",
       "    }\n",
       "\n",
       "    .dataframe tbody tr th {\n",
       "        vertical-align: top;\n",
       "    }\n",
       "\n",
       "    .dataframe thead th {\n",
       "        text-align: right;\n",
       "    }\n",
       "</style>\n",
       "<table border=\"1\" class=\"dataframe\">\n",
       "  <thead>\n",
       "    <tr style=\"text-align: right;\">\n",
       "      <th></th>\n",
       "      <th>Nick</th>\n",
       "      <th>Point</th>\n",
       "      <th>Age</th>\n",
       "    </tr>\n",
       "  </thead>\n",
       "  <tbody>\n",
       "    <tr>\n",
       "      <th>0</th>\n",
       "      <td>Alice</td>\n",
       "      <td>25</td>\n",
       "      <td>85.5</td>\n",
       "    </tr>\n",
       "    <tr>\n",
       "      <th>1</th>\n",
       "      <td>Bob</td>\n",
       "      <td>30</td>\n",
       "      <td>92.0</td>\n",
       "    </tr>\n",
       "    <tr>\n",
       "      <th>2</th>\n",
       "      <td>Charlie</td>\n",
       "      <td>35</td>\n",
       "      <td>78.5</td>\n",
       "    </tr>\n",
       "  </tbody>\n",
       "</table>\n",
       "</div>"
      ],
      "text/plain": [
       "      Nick  Point   Age\n",
       "0    Alice     25  85.5\n",
       "1      Bob     30  92.0\n",
       "2  Charlie     35  78.5"
      ]
     },
     "execution_count": 209,
     "metadata": {},
     "output_type": "execute_result"
    }
   ],
   "source": [
    "df = df.rename(columns=dict(Name=\"Nick\", Score=\"Point\"))\n",
    "df"
   ]
  },
  {
   "cell_type": "code",
   "execution_count": 210,
   "id": "6b84db1a-faa0-4b82-a06e-8ce2a7e5c48c",
   "metadata": {
    "tags": []
   },
   "outputs": [
    {
     "data": {
      "text/html": [
       "<div>\n",
       "<style scoped>\n",
       "    .dataframe tbody tr th:only-of-type {\n",
       "        vertical-align: middle;\n",
       "    }\n",
       "\n",
       "    .dataframe tbody tr th {\n",
       "        vertical-align: top;\n",
       "    }\n",
       "\n",
       "    .dataframe thead th {\n",
       "        text-align: right;\n",
       "    }\n",
       "</style>\n",
       "<table border=\"1\" class=\"dataframe\">\n",
       "  <thead>\n",
       "    <tr style=\"text-align: right;\">\n",
       "      <th></th>\n",
       "      <th>Nick</th>\n",
       "      <th>Point</th>\n",
       "      <th>Age</th>\n",
       "    </tr>\n",
       "  </thead>\n",
       "  <tbody>\n",
       "    <tr>\n",
       "      <th>0</th>\n",
       "      <td>Alice</td>\n",
       "      <td>25</td>\n",
       "      <td>85.5</td>\n",
       "    </tr>\n",
       "    <tr>\n",
       "      <th>1</th>\n",
       "      <td>Bob</td>\n",
       "      <td>30</td>\n",
       "      <td>92.0</td>\n",
       "    </tr>\n",
       "    <tr>\n",
       "      <th>2</th>\n",
       "      <td>Charlie</td>\n",
       "      <td>35</td>\n",
       "      <td>78.5</td>\n",
       "    </tr>\n",
       "  </tbody>\n",
       "</table>\n",
       "</div>"
      ],
      "text/plain": [
       "      Nick  Point   Age\n",
       "0    Alice     25  85.5\n",
       "1      Bob     30  92.0\n",
       "2  Charlie     35  78.5"
      ]
     },
     "execution_count": 210,
     "metadata": {},
     "output_type": "execute_result"
    }
   ],
   "source": [
    "df.rename(columns=dict(Name=\"Nick\", Score=\"Point\"), inplace=True)\n",
    "df"
   ]
  },
  {
   "cell_type": "markdown",
   "id": "5aba2251-86cd-4ccc-be42-3871cae73ef0",
   "metadata": {},
   "source": [
    "## Dataframe 내 단일 element 접근\n",
    "\n",
    "Pandas DataFrame에서 개별 원소에 접근하는 방식에는 iloc[행, 열] 인덱서와 at[행, 열] 라벨 기반 인덱서 두 가지가 있습니다. "
   ]
  },
  {
   "cell_type": "code",
   "execution_count": 108,
   "id": "ef7ab106-0b83-4d41-91e7-5426a5b1a036",
   "metadata": {},
   "outputs": [],
   "source": [
    "import pandas as pd\n",
    "\n",
    "# DataFrame 생성\n",
    "data = {\n",
    "    'Name': ['Alice', 'Bob', 'Charlie'],\n",
    "    'Age': [25, 30, 35],\n",
    "    'Score': [85.5, 92.0, 78.5]\n",
    "}\n",
    "df = pd.DataFrame(data)"
   ]
  },
  {
   "cell_type": "code",
   "execution_count": 109,
   "id": "3d8fedad-518a-4aa2-bb7a-cb17ca8b3eb1",
   "metadata": {},
   "outputs": [],
   "source": [
    "\"\"\"\"\n",
    "iloc[] 인덱서를 사용하여 원소에 접근\n",
    "\"\"\"\"\n",
    "element_1 = df.iloc[0, 1]  # 인덱스 0의 행, 인덱스 1의 열\n",
    "element_2 = df.iloc[1, 2]  # 인덱스 1의 행, 인덱스 2의 열"
   ]
  },
  {
   "cell_type": "code",
   "execution_count": 113,
   "id": "7cc90139-e946-4f25-8313-43408c765313",
   "metadata": {},
   "outputs": [
    {
     "data": {
      "text/plain": [
       "(numpy.int64, numpy.float64)"
      ]
     },
     "execution_count": 113,
     "metadata": {},
     "output_type": "execute_result"
    }
   ],
   "source": [
    "type(element_1), type(element_2)"
   ]
  },
  {
   "cell_type": "code",
   "execution_count": 110,
   "id": "3bed90a2-9fad-465e-acc8-177997c5a2a6",
   "metadata": {},
   "outputs": [],
   "source": [
    "\"\"\"\n",
    "at[] 라벨 기반 인덱서를 사용하여 원소에 접근\n",
    "\"\"\"\n",
    "element_3 = df.at[2, 'Name']  # 라벨 'Name'의 행 인덱스 2에 해당하는 값\n",
    "element_4 = df.at[0, 'Age']   # 라벨 'Age'의 행 인덱스 0에 해당하는 값"
   ]
  },
  {
   "cell_type": "markdown",
   "id": "c6194245-bf22-41c8-b812-a47d7470d89b",
   "metadata": {},
   "source": [
    "## Dataframe 내 슬라이싱 기반 Series, DataFrame 추출\n",
    "Pandas DataFrame에서 슬라이싱 기반 접근하는 방식에는 iloc[행, 열] 인덱서와 loc[행, 열] 라벨 기반 인덱서 두 가지가 있습니다. "
   ]
  },
  {
   "cell_type": "code",
   "execution_count": 26,
   "id": "f1bdb764-577e-4ce4-9e1d-2740ae40b9b3",
   "metadata": {},
   "outputs": [],
   "source": [
    "import pandas as pd\n",
    "import numpy as np\n",
    "# DataFrame 생성\n",
    "data = {\n",
    "    'Name': ['Alice', 'Bob', 'Charlie', 'David', 'Eva'],\n",
    "    'Age': [25, 30, 35, 28, 22],\n",
    "    'Score': [85.5, 92.0, 78.5, 89.3, 95.1]\n",
    "}\n",
    "df = pd.DataFrame(data)\n",
    "df = df.set_index(np.arange(101,106))"
   ]
  },
  {
   "cell_type": "code",
   "execution_count": 27,
   "id": "ec47a4db-fbab-4424-8f60-79410de17c2a",
   "metadata": {},
   "outputs": [],
   "source": [
    "\"\"\"\n",
    "iloc[] 슬라이싱을 통해 원소에 접근\n",
    "첫 번째 행과 두 번째 행, 첫번째, 두번째 열에 해당하는 데이터 가져오기\n",
    "\"\"\"\n",
    "subset1 = df.iloc[0:2, 0:2]"
   ]
  },
  {
   "cell_type": "code",
   "execution_count": 28,
   "id": "462a75bc-59da-4e08-9daf-e47c7f49751f",
   "metadata": {},
   "outputs": [
    {
     "data": {
      "text/plain": [
       "pandas.core.frame.DataFrame"
      ]
     },
     "execution_count": 28,
     "metadata": {},
     "output_type": "execute_result"
    }
   ],
   "source": [
    "type(subset1)"
   ]
  },
  {
   "cell_type": "code",
   "execution_count": 29,
   "id": "079b226f-717a-4c91-9ec1-81592bde1e79",
   "metadata": {},
   "outputs": [
    {
     "data": {
      "text/html": [
       "<div>\n",
       "<style scoped>\n",
       "    .dataframe tbody tr th:only-of-type {\n",
       "        vertical-align: middle;\n",
       "    }\n",
       "\n",
       "    .dataframe tbody tr th {\n",
       "        vertical-align: top;\n",
       "    }\n",
       "\n",
       "    .dataframe thead th {\n",
       "        text-align: right;\n",
       "    }\n",
       "</style>\n",
       "<table border=\"1\" class=\"dataframe\">\n",
       "  <thead>\n",
       "    <tr style=\"text-align: right;\">\n",
       "      <th></th>\n",
       "      <th>Name</th>\n",
       "      <th>Age</th>\n",
       "      <th>Score</th>\n",
       "    </tr>\n",
       "  </thead>\n",
       "  <tbody>\n",
       "    <tr>\n",
       "      <th>101</th>\n",
       "      <td>Alice</td>\n",
       "      <td>25</td>\n",
       "      <td>85.5</td>\n",
       "    </tr>\n",
       "    <tr>\n",
       "      <th>102</th>\n",
       "      <td>Bob</td>\n",
       "      <td>30</td>\n",
       "      <td>92.0</td>\n",
       "    </tr>\n",
       "  </tbody>\n",
       "</table>\n",
       "</div>"
      ],
      "text/plain": [
       "      Name  Age  Score\n",
       "101  Alice   25   85.5\n",
       "102    Bob   30   92.0"
      ]
     },
     "execution_count": 29,
     "metadata": {},
     "output_type": "execute_result"
    }
   ],
   "source": [
    "# 추가 slicing 예제\n",
    "df.iloc[:,0:2]\n",
    "df.iloc[0:2, :]"
   ]
  },
  {
   "cell_type": "code",
   "execution_count": 30,
   "id": "b836bfe7-009c-44ff-a85b-4dc8d05f80a9",
   "metadata": {},
   "outputs": [
    {
     "data": {
      "text/plain": [
       "101      Alice\n",
       "102        Bob\n",
       "103    Charlie\n",
       "104      David\n",
       "105        Eva\n",
       "Name: Name, dtype: object"
      ]
     },
     "execution_count": 30,
     "metadata": {},
     "output_type": "execute_result"
    }
   ],
   "source": [
    "df.iloc[:,0]"
   ]
  },
  {
   "cell_type": "code",
   "execution_count": 31,
   "id": "fbec4a75-ee30-4668-a755-e5191cbc75ca",
   "metadata": {},
   "outputs": [
    {
     "data": {
      "text/html": [
       "<div>\n",
       "<style scoped>\n",
       "    .dataframe tbody tr th:only-of-type {\n",
       "        vertical-align: middle;\n",
       "    }\n",
       "\n",
       "    .dataframe tbody tr th {\n",
       "        vertical-align: top;\n",
       "    }\n",
       "\n",
       "    .dataframe thead th {\n",
       "        text-align: right;\n",
       "    }\n",
       "</style>\n",
       "<table border=\"1\" class=\"dataframe\">\n",
       "  <thead>\n",
       "    <tr style=\"text-align: right;\">\n",
       "      <th></th>\n",
       "      <th>Name</th>\n",
       "    </tr>\n",
       "  </thead>\n",
       "  <tbody>\n",
       "    <tr>\n",
       "      <th>101</th>\n",
       "      <td>Alice</td>\n",
       "    </tr>\n",
       "    <tr>\n",
       "      <th>102</th>\n",
       "      <td>Bob</td>\n",
       "    </tr>\n",
       "    <tr>\n",
       "      <th>103</th>\n",
       "      <td>Charlie</td>\n",
       "    </tr>\n",
       "    <tr>\n",
       "      <th>104</th>\n",
       "      <td>David</td>\n",
       "    </tr>\n",
       "    <tr>\n",
       "      <th>105</th>\n",
       "      <td>Eva</td>\n",
       "    </tr>\n",
       "  </tbody>\n",
       "</table>\n",
       "</div>"
      ],
      "text/plain": [
       "        Name\n",
       "101    Alice\n",
       "102      Bob\n",
       "103  Charlie\n",
       "104    David\n",
       "105      Eva"
      ]
     },
     "execution_count": 31,
     "metadata": {},
     "output_type": "execute_result"
    }
   ],
   "source": [
    "df.iloc[:,:1]"
   ]
  },
  {
   "cell_type": "code",
   "execution_count": 32,
   "id": "5d8075f4-572b-4832-ae82-84782818abb6",
   "metadata": {},
   "outputs": [
    {
     "data": {
      "text/plain": [
       "pandas.core.frame.DataFrame"
      ]
     },
     "execution_count": 32,
     "metadata": {},
     "output_type": "execute_result"
    }
   ],
   "source": [
    "type(df.iloc[:,:1])"
   ]
  },
  {
   "cell_type": "code",
   "execution_count": 33,
   "id": "89824b9f-dba9-4d75-8e7e-3ae571c04755",
   "metadata": {},
   "outputs": [
    {
     "data": {
      "text/html": [
       "<div>\n",
       "<style scoped>\n",
       "    .dataframe tbody tr th:only-of-type {\n",
       "        vertical-align: middle;\n",
       "    }\n",
       "\n",
       "    .dataframe tbody tr th {\n",
       "        vertical-align: top;\n",
       "    }\n",
       "\n",
       "    .dataframe thead th {\n",
       "        text-align: right;\n",
       "    }\n",
       "</style>\n",
       "<table border=\"1\" class=\"dataframe\">\n",
       "  <thead>\n",
       "    <tr style=\"text-align: right;\">\n",
       "      <th></th>\n",
       "      <th>Name</th>\n",
       "      <th>Age</th>\n",
       "      <th>Score</th>\n",
       "    </tr>\n",
       "  </thead>\n",
       "  <tbody>\n",
       "    <tr>\n",
       "      <th>101</th>\n",
       "      <td>Alice</td>\n",
       "      <td>25</td>\n",
       "      <td>85.5</td>\n",
       "    </tr>\n",
       "    <tr>\n",
       "      <th>102</th>\n",
       "      <td>Bob</td>\n",
       "      <td>30</td>\n",
       "      <td>92.0</td>\n",
       "    </tr>\n",
       "  </tbody>\n",
       "</table>\n",
       "</div>"
      ],
      "text/plain": [
       "      Name  Age  Score\n",
       "101  Alice   25   85.5\n",
       "102    Bob   30   92.0"
      ]
     },
     "execution_count": 33,
     "metadata": {},
     "output_type": "execute_result"
    }
   ],
   "source": [
    "# iloc[행] : iloc의 인자가 하나만 있을 경우 해당 행의 전체 열의 데이터\n",
    "df.iloc[:2]"
   ]
  },
  {
   "cell_type": "code",
   "execution_count": 45,
   "id": "8ebc983a-3a41-4b6b-92a6-af94f9374816",
   "metadata": {},
   "outputs": [],
   "source": [
    "\"\"\"\n",
    "loc[] 슬라이싱을 통해 원소에 접근\n",
    "첫 번째 행과 두 번째 행, 'Name'과 'Score' 열에 해당하는 데이터 가져오기\n",
    "\"\"\"\n",
    "subset2 = df.loc[:\"102\", ['Name', 'Score']]  # label 인덱스의 경우 : 뒤에 있는 라벨도 포함"
   ]
  },
  {
   "cell_type": "code",
   "execution_count": 46,
   "id": "75369186-7212-45ba-9d3f-e86093cc5f5e",
   "metadata": {},
   "outputs": [
    {
     "data": {
      "text/html": [
       "<div>\n",
       "<style scoped>\n",
       "    .dataframe tbody tr th:only-of-type {\n",
       "        vertical-align: middle;\n",
       "    }\n",
       "\n",
       "    .dataframe tbody tr th {\n",
       "        vertical-align: top;\n",
       "    }\n",
       "\n",
       "    .dataframe thead th {\n",
       "        text-align: right;\n",
       "    }\n",
       "</style>\n",
       "<table border=\"1\" class=\"dataframe\">\n",
       "  <thead>\n",
       "    <tr style=\"text-align: right;\">\n",
       "      <th></th>\n",
       "      <th>Name</th>\n",
       "      <th>Score</th>\n",
       "    </tr>\n",
       "  </thead>\n",
       "  <tbody>\n",
       "    <tr>\n",
       "      <th>101</th>\n",
       "      <td>Alice</td>\n",
       "      <td>85.5</td>\n",
       "    </tr>\n",
       "    <tr>\n",
       "      <th>102</th>\n",
       "      <td>Bob</td>\n",
       "      <td>92.0</td>\n",
       "    </tr>\n",
       "  </tbody>\n",
       "</table>\n",
       "</div>"
      ],
      "text/plain": [
       "      Name  Score\n",
       "101  Alice   85.5\n",
       "102    Bob   92.0"
      ]
     },
     "execution_count": 46,
     "metadata": {},
     "output_type": "execute_result"
    }
   ],
   "source": [
    "subset2"
   ]
  },
  {
   "cell_type": "code",
   "execution_count": 47,
   "id": "c6eb335a-11b8-4ed7-9287-2219df268b07",
   "metadata": {},
   "outputs": [
    {
     "data": {
      "text/html": [
       "<div>\n",
       "<style scoped>\n",
       "    .dataframe tbody tr th:only-of-type {\n",
       "        vertical-align: middle;\n",
       "    }\n",
       "\n",
       "    .dataframe tbody tr th {\n",
       "        vertical-align: top;\n",
       "    }\n",
       "\n",
       "    .dataframe thead th {\n",
       "        text-align: right;\n",
       "    }\n",
       "</style>\n",
       "<table border=\"1\" class=\"dataframe\">\n",
       "  <thead>\n",
       "    <tr style=\"text-align: right;\">\n",
       "      <th></th>\n",
       "      <th>Name</th>\n",
       "      <th>Age</th>\n",
       "      <th>Score</th>\n",
       "    </tr>\n",
       "  </thead>\n",
       "  <tbody>\n",
       "    <tr>\n",
       "      <th>101</th>\n",
       "      <td>Alice</td>\n",
       "      <td>25</td>\n",
       "      <td>85.5</td>\n",
       "    </tr>\n",
       "    <tr>\n",
       "      <th>102</th>\n",
       "      <td>Bob</td>\n",
       "      <td>30</td>\n",
       "      <td>92.0</td>\n",
       "    </tr>\n",
       "  </tbody>\n",
       "</table>\n",
       "</div>"
      ],
      "text/plain": [
       "      Name  Age  Score\n",
       "101  Alice   25   85.5\n",
       "102    Bob   30   92.0"
      ]
     },
     "execution_count": 47,
     "metadata": {},
     "output_type": "execute_result"
    }
   ],
   "source": [
    "# iloc[행] : loc의 인자가 하나만 있을 경우 해당 행의 전체 열의 데이터\n",
    "df.loc[:\"102\"]"
   ]
  },
  {
   "cell_type": "markdown",
   "id": "2bcc2210-a107-4d4b-b2d7-2ecc604795b0",
   "metadata": {},
   "source": [
    "## Dataframe 내 슬라이싱 기반 Series\n",
    "Pandas DataFrame에서 개별 원소에 접근하는 방식에는 iloc[행, 열] 인덱서와 loc[행 열] 라벨 기반 인덱서 두 가지가 있습니다. "
   ]
  },
  {
   "cell_type": "code",
   "execution_count": 48,
   "id": "6b8e30ec-7718-403d-a272-5264843a22cb",
   "metadata": {},
   "outputs": [],
   "source": [
    "\"\"\"\n",
    "iloc[]을 사용하여 Series 추출:\n",
    "\"\"\"\n",
    "\n",
    "import pandas as pd\n",
    "\n",
    "# DataFrame 생성\n",
    "data = {\n",
    "    'Name': ['Alice', 'Bob', 'Charlie', 'David', 'Eva'],\n",
    "    'Age': [25, 30, 35, 28, 22],\n",
    "    'Score': [85.5, 92.0, 78.5, 89.3, 95.1]\n",
    "}\n",
    "df = pd.DataFrame(data)\n",
    "\n",
    "# iloc을 사용하여 Series 추출\n",
    "row_index = 2\n",
    "series_iloc = df.iloc[row_index]\n"
   ]
  },
  {
   "cell_type": "code",
   "execution_count": 131,
   "id": "44fc2a59-ba48-4e0a-93de-a1440acae91c",
   "metadata": {},
   "outputs": [
    {
     "data": {
      "text/plain": [
       "Name     Charlie\n",
       "Age           35\n",
       "Score       78.5\n",
       "Name: 2, dtype: object"
      ]
     },
     "execution_count": 131,
     "metadata": {},
     "output_type": "execute_result"
    }
   ],
   "source": [
    "# 특정 행을 Series로 1\n",
    "df.iloc[2]"
   ]
  },
  {
   "cell_type": "code",
   "execution_count": 135,
   "id": "30d65e1c-82a6-402f-a3d7-22b1e68c207b",
   "metadata": {},
   "outputs": [
    {
     "data": {
      "text/plain": [
       "Name    Charlie\n",
       "Age          35\n",
       "Name: 2, dtype: object"
      ]
     },
     "execution_count": 135,
     "metadata": {},
     "output_type": "execute_result"
    }
   ],
   "source": [
    "# 특정 행을 Series로 2\n",
    "df.iloc[2, :2]"
   ]
  },
  {
   "cell_type": "code",
   "execution_count": 139,
   "id": "6729f054-10f7-4eb7-aaa8-491735961d42",
   "metadata": {},
   "outputs": [
    {
     "data": {
      "text/plain": [
       "0    85.5\n",
       "1    92.0\n",
       "2    78.5\n",
       "3    89.3\n",
       "4    95.1\n",
       "Name: Score, dtype: float64"
      ]
     },
     "execution_count": 139,
     "metadata": {},
     "output_type": "execute_result"
    }
   ],
   "source": [
    "# 특정 열을 series로 1\n",
    "df.iloc[:,2]"
   ]
  },
  {
   "cell_type": "code",
   "execution_count": 136,
   "id": "fe61ad27-fb73-479f-8542-f71fbb67aba4",
   "metadata": {},
   "outputs": [
    {
     "data": {
      "text/plain": [
       "2    78.5\n",
       "3    89.3\n",
       "4    95.1\n",
       "Name: Score, dtype: float64"
      ]
     },
     "execution_count": 136,
     "metadata": {},
     "output_type": "execute_result"
    }
   ],
   "source": [
    "# 특정 열을 series로 2\n",
    "df.iloc[2:,2]"
   ]
  },
  {
   "cell_type": "code",
   "execution_count": 144,
   "id": "7d23ca14-52cb-4b36-a9b5-d38f582e5375",
   "metadata": {},
   "outputs": [],
   "source": [
    "\"\"\"\n",
    "loc[]을 사용하여 Series 추출:\n",
    "\"\"\"\n",
    "\n",
    "import pandas as pd\n",
    "\n",
    "# DataFrame 생성\n",
    "data = {\n",
    "    'Name': ['Alice', 'Bob', 'Charlie', 'David', 'Eva'],\n",
    "    'Age': [25, 30, 35, 28, 22],\n",
    "    'Score': [85.5, 92.0, 78.5, 89.3, 95.1]\n",
    "}\n",
    "df = pd.DataFrame(data)\n",
    "\n",
    "# loc를 사용하여 Series 추출\n",
    "row_label = 3\n",
    "series_loc = df.loc[row_label]\n"
   ]
  },
  {
   "cell_type": "code",
   "execution_count": 152,
   "id": "e48603b2-715e-4588-a665-bc536e993a96",
   "metadata": {},
   "outputs": [
    {
     "data": {
      "text/html": [
       "<div>\n",
       "<style scoped>\n",
       "    .dataframe tbody tr th:only-of-type {\n",
       "        vertical-align: middle;\n",
       "    }\n",
       "\n",
       "    .dataframe tbody tr th {\n",
       "        vertical-align: top;\n",
       "    }\n",
       "\n",
       "    .dataframe thead th {\n",
       "        text-align: right;\n",
       "    }\n",
       "</style>\n",
       "<table border=\"1\" class=\"dataframe\">\n",
       "  <thead>\n",
       "    <tr style=\"text-align: right;\">\n",
       "      <th></th>\n",
       "      <th>Name</th>\n",
       "      <th>Age</th>\n",
       "      <th>Score</th>\n",
       "    </tr>\n",
       "  </thead>\n",
       "  <tbody>\n",
       "    <tr>\n",
       "      <th>0</th>\n",
       "      <td>Alice</td>\n",
       "      <td>25</td>\n",
       "      <td>85.5</td>\n",
       "    </tr>\n",
       "    <tr>\n",
       "      <th>1</th>\n",
       "      <td>Bob</td>\n",
       "      <td>30</td>\n",
       "      <td>92.0</td>\n",
       "    </tr>\n",
       "    <tr>\n",
       "      <th>2</th>\n",
       "      <td>Charlie</td>\n",
       "      <td>35</td>\n",
       "      <td>78.5</td>\n",
       "    </tr>\n",
       "    <tr>\n",
       "      <th>3</th>\n",
       "      <td>David</td>\n",
       "      <td>28</td>\n",
       "      <td>89.3</td>\n",
       "    </tr>\n",
       "    <tr>\n",
       "      <th>4</th>\n",
       "      <td>Eva</td>\n",
       "      <td>22</td>\n",
       "      <td>95.1</td>\n",
       "    </tr>\n",
       "  </tbody>\n",
       "</table>\n",
       "</div>"
      ],
      "text/plain": [
       "      Name  Age  Score\n",
       "0    Alice   25   85.5\n",
       "1      Bob   30   92.0\n",
       "2  Charlie   35   78.5\n",
       "3    David   28   89.3\n",
       "4      Eva   22   95.1"
      ]
     },
     "execution_count": 152,
     "metadata": {},
     "output_type": "execute_result"
    }
   ],
   "source": [
    "df"
   ]
  },
  {
   "cell_type": "code",
   "execution_count": 153,
   "id": "3c520547-f88e-4bba-b49c-59ccf83cda53",
   "metadata": {},
   "outputs": [
    {
     "data": {
      "text/plain": [
       "Name     Alice\n",
       "Age         25\n",
       "Score     85.5\n",
       "Name: 0, dtype: object"
      ]
     },
     "execution_count": 153,
     "metadata": {},
     "output_type": "execute_result"
    }
   ],
   "source": [
    "# 특정 행을 Series로 - 1\n",
    "df.loc[0]"
   ]
  },
  {
   "cell_type": "code",
   "execution_count": 147,
   "id": "7afe10b4-2d74-427b-9999-d790b625554a",
   "metadata": {},
   "outputs": [
    {
     "data": {
      "text/plain": [
       "Age        25\n",
       "Score    85.5\n",
       "Name: 0, dtype: object"
      ]
     },
     "execution_count": 147,
     "metadata": {},
     "output_type": "execute_result"
    }
   ],
   "source": [
    "# 특정 행을 Series로 - 2\n",
    "df.loc[0, \"Age\":\"Score\"]"
   ]
  },
  {
   "cell_type": "code",
   "execution_count": 148,
   "id": "5cf69b69-3ac1-4b77-acd5-e43770e797d5",
   "metadata": {},
   "outputs": [
    {
     "data": {
      "text/plain": [
       "0    25\n",
       "1    30\n",
       "2    35\n",
       "3    28\n",
       "4    22\n",
       "Name: Age, dtype: int64"
      ]
     },
     "execution_count": 148,
     "metadata": {},
     "output_type": "execute_result"
    }
   ],
   "source": [
    "# 특정 열을 Series로 - 1\n",
    "df.loc[:,\"Age\"]"
   ]
  },
  {
   "cell_type": "code",
   "execution_count": 156,
   "id": "3c1bfe5f-56e4-4f23-9565-74b44661ea61",
   "metadata": {},
   "outputs": [
    {
     "data": {
      "text/plain": [
       "0    25\n",
       "1    30\n",
       "2    35\n",
       "Name: Age, dtype: int64"
      ]
     },
     "execution_count": 156,
     "metadata": {},
     "output_type": "execute_result"
    }
   ],
   "source": [
    "# 특정 열을 Series로 - 1\n",
    "df.loc[0:2,\"Age\"]"
   ]
  },
  {
   "cell_type": "markdown",
   "id": "50155c4c-e524-42cb-90a4-675f3cb3f810",
   "metadata": {},
   "source": [
    "## Pandas DataFrame에서 []를 사용하여 슬라이싱하는 예제를 제공하겠습니다:"
   ]
  },
  {
   "cell_type": "code",
   "execution_count": 158,
   "id": "04944042-76d4-44f2-9543-fe041eb39268",
   "metadata": {},
   "outputs": [],
   "source": [
    "import pandas as pd\n",
    "\n",
    "# DataFrame 생성\n",
    "data = {\n",
    "    'Name': ['Alice', 'Bob', 'Charlie', 'David', 'Eva'],\n",
    "    'Age': [25, 30, 35, 28, 22],\n",
    "    'Score': [85.5, 92.0, 78.5, 89.3, 95.1]\n",
    "}\n",
    "df = pd.DataFrame(data)\n",
    "\n",
    "# []를 사용하여 슬라이싱\n",
    "subset = df[1:4]\n",
    "\n"
   ]
  },
  {
   "cell_type": "code",
   "execution_count": 159,
   "id": "db397b5a-7636-44e5-9fda-314a154af913",
   "metadata": {},
   "outputs": [
    {
     "data": {
      "text/html": [
       "<div>\n",
       "<style scoped>\n",
       "    .dataframe tbody tr th:only-of-type {\n",
       "        vertical-align: middle;\n",
       "    }\n",
       "\n",
       "    .dataframe tbody tr th {\n",
       "        vertical-align: top;\n",
       "    }\n",
       "\n",
       "    .dataframe thead th {\n",
       "        text-align: right;\n",
       "    }\n",
       "</style>\n",
       "<table border=\"1\" class=\"dataframe\">\n",
       "  <thead>\n",
       "    <tr style=\"text-align: right;\">\n",
       "      <th></th>\n",
       "      <th>Name</th>\n",
       "      <th>Age</th>\n",
       "      <th>Score</th>\n",
       "    </tr>\n",
       "  </thead>\n",
       "  <tbody>\n",
       "    <tr>\n",
       "      <th>0</th>\n",
       "      <td>Alice</td>\n",
       "      <td>25</td>\n",
       "      <td>85.5</td>\n",
       "    </tr>\n",
       "    <tr>\n",
       "      <th>1</th>\n",
       "      <td>Bob</td>\n",
       "      <td>30</td>\n",
       "      <td>92.0</td>\n",
       "    </tr>\n",
       "    <tr>\n",
       "      <th>2</th>\n",
       "      <td>Charlie</td>\n",
       "      <td>35</td>\n",
       "      <td>78.5</td>\n",
       "    </tr>\n",
       "    <tr>\n",
       "      <th>3</th>\n",
       "      <td>David</td>\n",
       "      <td>28</td>\n",
       "      <td>89.3</td>\n",
       "    </tr>\n",
       "    <tr>\n",
       "      <th>4</th>\n",
       "      <td>Eva</td>\n",
       "      <td>22</td>\n",
       "      <td>95.1</td>\n",
       "    </tr>\n",
       "  </tbody>\n",
       "</table>\n",
       "</div>"
      ],
      "text/plain": [
       "      Name  Age  Score\n",
       "0    Alice   25   85.5\n",
       "1      Bob   30   92.0\n",
       "2  Charlie   35   78.5\n",
       "3    David   28   89.3\n",
       "4      Eva   22   95.1"
      ]
     },
     "execution_count": 159,
     "metadata": {},
     "output_type": "execute_result"
    }
   ],
   "source": [
    "df"
   ]
  },
  {
   "cell_type": "code",
   "execution_count": 160,
   "id": "051cfa6f-7262-493f-9d4a-d43139240d53",
   "metadata": {},
   "outputs": [
    {
     "data": {
      "text/html": [
       "<div>\n",
       "<style scoped>\n",
       "    .dataframe tbody tr th:only-of-type {\n",
       "        vertical-align: middle;\n",
       "    }\n",
       "\n",
       "    .dataframe tbody tr th {\n",
       "        vertical-align: top;\n",
       "    }\n",
       "\n",
       "    .dataframe thead th {\n",
       "        text-align: right;\n",
       "    }\n",
       "</style>\n",
       "<table border=\"1\" class=\"dataframe\">\n",
       "  <thead>\n",
       "    <tr style=\"text-align: right;\">\n",
       "      <th></th>\n",
       "      <th>Name</th>\n",
       "      <th>Age</th>\n",
       "      <th>Score</th>\n",
       "    </tr>\n",
       "  </thead>\n",
       "  <tbody>\n",
       "    <tr>\n",
       "      <th>0</th>\n",
       "      <td>Alice</td>\n",
       "      <td>25</td>\n",
       "      <td>85.5</td>\n",
       "    </tr>\n",
       "    <tr>\n",
       "      <th>1</th>\n",
       "      <td>Bob</td>\n",
       "      <td>30</td>\n",
       "      <td>92.0</td>\n",
       "    </tr>\n",
       "  </tbody>\n",
       "</table>\n",
       "</div>"
      ],
      "text/plain": [
       "    Name  Age  Score\n",
       "0  Alice   25   85.5\n",
       "1    Bob   30   92.0"
      ]
     },
     "execution_count": 160,
     "metadata": {},
     "output_type": "execute_result"
    }
   ],
   "source": [
    "df[0:2]"
   ]
  },
  {
   "cell_type": "code",
   "execution_count": 162,
   "id": "d80d299b-035f-43de-9313-6a33e8dcf37a",
   "metadata": {},
   "outputs": [
    {
     "data": {
      "text/plain": [
       "0      Alice\n",
       "1        Bob\n",
       "2    Charlie\n",
       "3      David\n",
       "4        Eva\n",
       "Name: Name, dtype: object"
      ]
     },
     "execution_count": 162,
     "metadata": {},
     "output_type": "execute_result"
    }
   ],
   "source": [
    "df[\"Name\"]"
   ]
  },
  {
   "cell_type": "markdown",
   "id": "d9deae79-b994-4474-9d41-87ffc772b638",
   "metadata": {},
   "source": [
    "## [] 기반 데이터 접근\n",
    "\n",
    "Pandas DataFrame에서 []는 여러 가지 기능을 수행하는데 사용됩니다. 이를 이해하기 위해 다음과 같이 사용법과 의미를 설명하겠습니다.\n",
    "\n",
    "열(Column) 접근:\n",
    "[] 안에 열 이름을 넣으면 해당 열을 Series로 추출합니다.\n",
    "DataFrame의 열은 사전(Dict)처럼 취급되기 때문에 열 이름을 키로 사용하여 열에 접근합니다.\n",
    "\n",
    "여러 열에 접근:\n",
    "[] 안에 여러 열 이름을 리스트로 넣으면 해당 열들을 DataFrame으로 추출합니다.\n",
    "\n",
    "슬라이싱(Slicing):\n",
    "[] 안에 슬라이싱을 사용하여 DataFrame에서 특정 범위의 행을 추출합니다.\n",
    "\n",
    "조건 필터링(Condition Filtering):\n",
    "[] 안에 불린(Boolean) 조건을 사용하여 조건에 맞는 행만 추출합니다.\n",
    "\n"
   ]
  },
  {
   "cell_type": "code",
   "execution_count": null,
   "id": "42494e10-1791-470b-9c6c-26d76fbf6e6e",
   "metadata": {},
   "outputs": [],
   "source": [
    "\"\"\"\n",
    "열(Column) 접근:\n",
    "[] 안에 열 이름을 넣으면 해당 열을 Series로 추출합니다.\n",
    "DataFrame의 열은 사전(Dict)처럼 취급되기 때문에 열 이름을 키로 사용하여 열에 접근합니다.\n",
    "\"\"\"\n",
    "\n",
    "import pandas as pd\n",
    "\n",
    "# DataFrame 생성\n",
    "data = {\n",
    "    'Name': ['Alice', 'Bob', 'Charlie', 'David', 'Eva'],\n",
    "    'Age': [25, 30, 35, 28, 22],\n",
    "    'Score': [85.5, 92.0, 78.5, 89.3, 95.1]\n",
    "}\n",
    "df = pd.DataFrame(data)\n",
    "\n",
    "# 'Name' 열에 해당하는 데이터를 Series로 추출\n",
    "name_column = df['Name']"
   ]
  },
  {
   "cell_type": "code",
   "execution_count": null,
   "id": "720ba2cc-0574-48b7-ad24-9ed9e31ece1f",
   "metadata": {},
   "outputs": [],
   "source": [
    "\"\"\"\n",
    "여러 열에 접근:\n",
    "[] 안에 여러 열 이름을 리스트로 넣으면 해당 열들을 DataFrame으로 추출합니다.\n",
    "\"\"\"\n",
    "\n",
    "import pandas as pd\n",
    "\n",
    "# DataFrame 생성\n",
    "data = {\n",
    "    'Name': ['Alice', 'Bob', 'Charlie', 'David', 'Eva'],\n",
    "    'Age': [25, 30, 35, 28, 22],\n",
    "    'Score': [85.5, 92.0, 78.5, 89.3, 95.1]\n",
    "}\n",
    "df = pd.DataFrame(data)\n",
    "\n",
    "# 'Name'과 'Age' 열에 해당하는 데이터를 DataFrame으로 추출\n",
    "subset = df[['Name', 'Age']]"
   ]
  },
  {
   "cell_type": "code",
   "execution_count": null,
   "id": "cb0a1549-9e94-4f2d-acff-061227d8e99b",
   "metadata": {},
   "outputs": [],
   "source": [
    "\"\"\"\n",
    "슬라이싱(Slicing):\n",
    "[] 안에 슬라이싱을 사용하여 DataFrame에서 특정 범위의 행을 추출합니다.\n",
    "\"\"\"\n",
    "\n",
    "import pandas as pd\n",
    "\n",
    "# DataFrame 생성\n",
    "data = {\n",
    "    'Name': ['Alice', 'Bob', 'Charlie', 'David', 'Eva'],\n",
    "    'Age': [25, 30, 35, 28, 22],\n",
    "    'Score': [85.5, 92.0, 78.5, 89.3, 95.1]\n",
    "}\n",
    "df = pd.DataFrame(data)\n",
    "\n",
    "# 슬라이싱을 사용하여 인덱스 1부터 3까지의 행을 추출\n",
    "subset = df[1:4]\n",
    "\n",
    "print(subset)"
   ]
  },
  {
   "cell_type": "markdown",
   "id": "17aa63c1-4488-42bf-b683-b8dbc3e90d6d",
   "metadata": {
    "tags": []
   },
   "source": [
    "## 조건식 기반 필터링 \n",
    "\n",
    "- []활용: numpy 기반 조건식 입력\n",
    "- query() 활용: \"\" 안에 python 기반 조건식 입력"
   ]
  },
  {
   "cell_type": "markdown",
   "id": "10493d79-9145-4e98-be1f-e43fb1e1a015",
   "metadata": {
    "tags": []
   },
   "source": [
    "### [] 활용 조건식 기반 필터링"
   ]
  },
  {
   "cell_type": "code",
   "execution_count": 181,
   "id": "bc19d6e6-d284-45af-a1b3-ba3493535f4a",
   "metadata": {
    "tags": []
   },
   "outputs": [
    {
     "name": "stdout",
     "output_type": "stream",
     "text": [
      "      Name  Age  Score\n",
      "1      Bob   30   92.0\n",
      "2  Charlie   35   78.5\n"
     ]
    }
   ],
   "source": [
    "\n",
    "import pandas as pd\n",
    "\n",
    "# DataFrame 생성\n",
    "data = {\n",
    "    'Name': ['Alice', 'Bob', 'Charlie', 'David', 'Eva'],\n",
    "    'Age': [25, 30, 35, 28, 22],\n",
    "    'Score': [85.5, 92.0, 78.5, 89.3, 95.1]\n",
    "}\n",
    "df = pd.DataFrame(data)\n",
    "\n",
    "# 'Age'가 30 이상인 행만 추출\n",
    "age_above_30 = df[df['Age'] >= 30]\n",
    "\n",
    "print(age_above_30)"
   ]
  },
  {
   "cell_type": "code",
   "execution_count": 171,
   "id": "149294c3-7187-4ffe-a5bd-38fcd2ca0d0d",
   "metadata": {
    "tags": []
   },
   "outputs": [
    {
     "data": {
      "text/html": [
       "<div>\n",
       "<style scoped>\n",
       "    .dataframe tbody tr th:only-of-type {\n",
       "        vertical-align: middle;\n",
       "    }\n",
       "\n",
       "    .dataframe tbody tr th {\n",
       "        vertical-align: top;\n",
       "    }\n",
       "\n",
       "    .dataframe thead th {\n",
       "        text-align: right;\n",
       "    }\n",
       "</style>\n",
       "<table border=\"1\" class=\"dataframe\">\n",
       "  <thead>\n",
       "    <tr style=\"text-align: right;\">\n",
       "      <th></th>\n",
       "      <th>Name</th>\n",
       "      <th>Age</th>\n",
       "      <th>Score</th>\n",
       "    </tr>\n",
       "  </thead>\n",
       "  <tbody>\n",
       "    <tr>\n",
       "      <th>0</th>\n",
       "      <td>Alice</td>\n",
       "      <td>25</td>\n",
       "      <td>85.5</td>\n",
       "    </tr>\n",
       "    <tr>\n",
       "      <th>1</th>\n",
       "      <td>Bob</td>\n",
       "      <td>30</td>\n",
       "      <td>92.0</td>\n",
       "    </tr>\n",
       "    <tr>\n",
       "      <th>2</th>\n",
       "      <td>Charlie</td>\n",
       "      <td>35</td>\n",
       "      <td>78.5</td>\n",
       "    </tr>\n",
       "    <tr>\n",
       "      <th>3</th>\n",
       "      <td>David</td>\n",
       "      <td>28</td>\n",
       "      <td>89.3</td>\n",
       "    </tr>\n",
       "    <tr>\n",
       "      <th>4</th>\n",
       "      <td>Eva</td>\n",
       "      <td>22</td>\n",
       "      <td>95.1</td>\n",
       "    </tr>\n",
       "  </tbody>\n",
       "</table>\n",
       "</div>"
      ],
      "text/plain": [
       "      Name  Age  Score\n",
       "0    Alice   25   85.5\n",
       "1      Bob   30   92.0\n",
       "2  Charlie   35   78.5\n",
       "3    David   28   89.3\n",
       "4      Eva   22   95.1"
      ]
     },
     "execution_count": 171,
     "metadata": {},
     "output_type": "execute_result"
    }
   ],
   "source": [
    "df"
   ]
  },
  {
   "cell_type": "code",
   "execution_count": 172,
   "id": "8d2ea020-fce8-4d11-83cd-505b7218d45b",
   "metadata": {
    "tags": []
   },
   "outputs": [
    {
     "data": {
      "text/html": [
       "<div>\n",
       "<style scoped>\n",
       "    .dataframe tbody tr th:only-of-type {\n",
       "        vertical-align: middle;\n",
       "    }\n",
       "\n",
       "    .dataframe tbody tr th {\n",
       "        vertical-align: top;\n",
       "    }\n",
       "\n",
       "    .dataframe thead th {\n",
       "        text-align: right;\n",
       "    }\n",
       "</style>\n",
       "<table border=\"1\" class=\"dataframe\">\n",
       "  <thead>\n",
       "    <tr style=\"text-align: right;\">\n",
       "      <th></th>\n",
       "      <th>Name</th>\n",
       "      <th>Age</th>\n",
       "      <th>Score</th>\n",
       "    </tr>\n",
       "  </thead>\n",
       "  <tbody>\n",
       "    <tr>\n",
       "      <th>1</th>\n",
       "      <td>Bob</td>\n",
       "      <td>30</td>\n",
       "      <td>92.0</td>\n",
       "    </tr>\n",
       "  </tbody>\n",
       "</table>\n",
       "</div>"
      ],
      "text/plain": [
       "  Name  Age  Score\n",
       "1  Bob   30   92.0"
      ]
     },
     "execution_count": 172,
     "metadata": {},
     "output_type": "execute_result"
    }
   ],
   "source": [
    "# and (&)\n",
    "df[ (df.Age >= 30) & (df.Age <35) ]"
   ]
  },
  {
   "cell_type": "code",
   "execution_count": 173,
   "id": "a5dfb213-0e4c-43f4-838c-f8ed779454ec",
   "metadata": {
    "tags": []
   },
   "outputs": [
    {
     "data": {
      "text/html": [
       "<div>\n",
       "<style scoped>\n",
       "    .dataframe tbody tr th:only-of-type {\n",
       "        vertical-align: middle;\n",
       "    }\n",
       "\n",
       "    .dataframe tbody tr th {\n",
       "        vertical-align: top;\n",
       "    }\n",
       "\n",
       "    .dataframe thead th {\n",
       "        text-align: right;\n",
       "    }\n",
       "</style>\n",
       "<table border=\"1\" class=\"dataframe\">\n",
       "  <thead>\n",
       "    <tr style=\"text-align: right;\">\n",
       "      <th></th>\n",
       "      <th>Name</th>\n",
       "      <th>Age</th>\n",
       "      <th>Score</th>\n",
       "    </tr>\n",
       "  </thead>\n",
       "  <tbody>\n",
       "    <tr>\n",
       "      <th>1</th>\n",
       "      <td>Bob</td>\n",
       "      <td>30</td>\n",
       "      <td>92.0</td>\n",
       "    </tr>\n",
       "    <tr>\n",
       "      <th>2</th>\n",
       "      <td>Charlie</td>\n",
       "      <td>35</td>\n",
       "      <td>78.5</td>\n",
       "    </tr>\n",
       "    <tr>\n",
       "      <th>4</th>\n",
       "      <td>Eva</td>\n",
       "      <td>22</td>\n",
       "      <td>95.1</td>\n",
       "    </tr>\n",
       "  </tbody>\n",
       "</table>\n",
       "</div>"
      ],
      "text/plain": [
       "      Name  Age  Score\n",
       "1      Bob   30   92.0\n",
       "2  Charlie   35   78.5\n",
       "4      Eva   22   95.1"
      ]
     },
     "execution_count": 173,
     "metadata": {},
     "output_type": "execute_result"
    }
   ],
   "source": [
    "# or (|)\n",
    "df[ (df.Age>=30) | (df.Score>90) ]"
   ]
  },
  {
   "cell_type": "code",
   "execution_count": 174,
   "id": "c2537b9a-41bf-46bc-b195-e9704d33acb6",
   "metadata": {
    "tags": []
   },
   "outputs": [
    {
     "data": {
      "text/html": [
       "<div>\n",
       "<style scoped>\n",
       "    .dataframe tbody tr th:only-of-type {\n",
       "        vertical-align: middle;\n",
       "    }\n",
       "\n",
       "    .dataframe tbody tr th {\n",
       "        vertical-align: top;\n",
       "    }\n",
       "\n",
       "    .dataframe thead th {\n",
       "        text-align: right;\n",
       "    }\n",
       "</style>\n",
       "<table border=\"1\" class=\"dataframe\">\n",
       "  <thead>\n",
       "    <tr style=\"text-align: right;\">\n",
       "      <th></th>\n",
       "      <th>Name</th>\n",
       "      <th>Age</th>\n",
       "      <th>Score</th>\n",
       "    </tr>\n",
       "  </thead>\n",
       "  <tbody>\n",
       "    <tr>\n",
       "      <th>0</th>\n",
       "      <td>Alice</td>\n",
       "      <td>25</td>\n",
       "      <td>85.5</td>\n",
       "    </tr>\n",
       "    <tr>\n",
       "      <th>3</th>\n",
       "      <td>David</td>\n",
       "      <td>28</td>\n",
       "      <td>89.3</td>\n",
       "    </tr>\n",
       "  </tbody>\n",
       "</table>\n",
       "</div>"
      ],
      "text/plain": [
       "    Name  Age  Score\n",
       "0  Alice   25   85.5\n",
       "3  David   28   89.3"
      ]
     },
     "execution_count": 174,
     "metadata": {},
     "output_type": "execute_result"
    }
   ],
   "source": [
    "# not (~)\n",
    "df[ ~((df.Age>=30) | (df.Score>90)) ]"
   ]
  },
  {
   "cell_type": "code",
   "execution_count": 175,
   "id": "20fcf4e5-f695-47c8-a799-d3c6393ff82d",
   "metadata": {
    "tags": []
   },
   "outputs": [
    {
     "data": {
      "text/html": [
       "<div>\n",
       "<style scoped>\n",
       "    .dataframe tbody tr th:only-of-type {\n",
       "        vertical-align: middle;\n",
       "    }\n",
       "\n",
       "    .dataframe tbody tr th {\n",
       "        vertical-align: top;\n",
       "    }\n",
       "\n",
       "    .dataframe thead th {\n",
       "        text-align: right;\n",
       "    }\n",
       "</style>\n",
       "<table border=\"1\" class=\"dataframe\">\n",
       "  <thead>\n",
       "    <tr style=\"text-align: right;\">\n",
       "      <th></th>\n",
       "      <th>Name</th>\n",
       "      <th>Age</th>\n",
       "      <th>Score</th>\n",
       "    </tr>\n",
       "  </thead>\n",
       "  <tbody>\n",
       "    <tr>\n",
       "      <th>1</th>\n",
       "      <td>Bob</td>\n",
       "      <td>30</td>\n",
       "      <td>92.0</td>\n",
       "    </tr>\n",
       "  </tbody>\n",
       "</table>\n",
       "</div>"
      ],
      "text/plain": [
       "  Name  Age  Score\n",
       "1  Bob   30   92.0"
      ]
     },
     "execution_count": 175,
     "metadata": {},
     "output_type": "execute_result"
    }
   ],
   "source": [
    "df.query(\"Age>=30 and Age<35\")"
   ]
  },
  {
   "cell_type": "markdown",
   "id": "14064e1c-1132-43bc-80e7-8da96985d2d8",
   "metadata": {},
   "source": [
    "### query() 활용 조건식 기반 필터링"
   ]
  },
  {
   "cell_type": "code",
   "execution_count": 176,
   "id": "11231b79-3262-4a83-b879-ecbef9334652",
   "metadata": {
    "tags": []
   },
   "outputs": [
    {
     "data": {
      "text/html": [
       "<div>\n",
       "<style scoped>\n",
       "    .dataframe tbody tr th:only-of-type {\n",
       "        vertical-align: middle;\n",
       "    }\n",
       "\n",
       "    .dataframe tbody tr th {\n",
       "        vertical-align: top;\n",
       "    }\n",
       "\n",
       "    .dataframe thead th {\n",
       "        text-align: right;\n",
       "    }\n",
       "</style>\n",
       "<table border=\"1\" class=\"dataframe\">\n",
       "  <thead>\n",
       "    <tr style=\"text-align: right;\">\n",
       "      <th></th>\n",
       "      <th>Name</th>\n",
       "      <th>Age</th>\n",
       "      <th>Score</th>\n",
       "    </tr>\n",
       "  </thead>\n",
       "  <tbody>\n",
       "    <tr>\n",
       "      <th>1</th>\n",
       "      <td>Bob</td>\n",
       "      <td>30</td>\n",
       "      <td>92.0</td>\n",
       "    </tr>\n",
       "    <tr>\n",
       "      <th>2</th>\n",
       "      <td>Charlie</td>\n",
       "      <td>35</td>\n",
       "      <td>78.5</td>\n",
       "    </tr>\n",
       "    <tr>\n",
       "      <th>4</th>\n",
       "      <td>Eva</td>\n",
       "      <td>22</td>\n",
       "      <td>95.1</td>\n",
       "    </tr>\n",
       "  </tbody>\n",
       "</table>\n",
       "</div>"
      ],
      "text/plain": [
       "      Name  Age  Score\n",
       "1      Bob   30   92.0\n",
       "2  Charlie   35   78.5\n",
       "4      Eva   22   95.1"
      ]
     },
     "execution_count": 176,
     "metadata": {},
     "output_type": "execute_result"
    }
   ],
   "source": [
    "df.query(\"Age>=30 or Score>90\")"
   ]
  },
  {
   "cell_type": "code",
   "execution_count": 178,
   "id": "9ced43e1-1a22-455c-8deb-f470707bd025",
   "metadata": {
    "tags": []
   },
   "outputs": [
    {
     "data": {
      "text/html": [
       "<div>\n",
       "<style scoped>\n",
       "    .dataframe tbody tr th:only-of-type {\n",
       "        vertical-align: middle;\n",
       "    }\n",
       "\n",
       "    .dataframe tbody tr th {\n",
       "        vertical-align: top;\n",
       "    }\n",
       "\n",
       "    .dataframe thead th {\n",
       "        text-align: right;\n",
       "    }\n",
       "</style>\n",
       "<table border=\"1\" class=\"dataframe\">\n",
       "  <thead>\n",
       "    <tr style=\"text-align: right;\">\n",
       "      <th></th>\n",
       "      <th>Name</th>\n",
       "      <th>Age</th>\n",
       "      <th>Score</th>\n",
       "    </tr>\n",
       "  </thead>\n",
       "  <tbody>\n",
       "    <tr>\n",
       "      <th>0</th>\n",
       "      <td>Alice</td>\n",
       "      <td>25</td>\n",
       "      <td>85.5</td>\n",
       "    </tr>\n",
       "    <tr>\n",
       "      <th>3</th>\n",
       "      <td>David</td>\n",
       "      <td>28</td>\n",
       "      <td>89.3</td>\n",
       "    </tr>\n",
       "  </tbody>\n",
       "</table>\n",
       "</div>"
      ],
      "text/plain": [
       "    Name  Age  Score\n",
       "0  Alice   25   85.5\n",
       "3  David   28   89.3"
      ]
     },
     "execution_count": 178,
     "metadata": {},
     "output_type": "execute_result"
    }
   ],
   "source": [
    "df.query(\"not (Age>30 or Score>90)\")"
   ]
  },
  {
   "cell_type": "markdown",
   "id": "a2d27d3d-4beb-43b0-b9f3-7df3cfe63658",
   "metadata": {},
   "source": [
    "# 불리언벡터로 데이터 필터링\n",
    "\n",
    ". boolean vector는 각 행에 대해 조건을 만족하는지 여부를 True 또는 False로 나타낸 것입니다. 이를 활용하여 데이터프레임을 조건에 맞게 필터링할 수 있습니다.\n",
    "\n"
   ]
  },
  {
   "cell_type": "code",
   "execution_count": 79,
   "id": "3b60e1b0-56a0-4be3-9c0f-acb8960f0aae",
   "metadata": {},
   "outputs": [],
   "source": [
    "import pandas as pd\n",
    "\n",
    "# 데이터 생성\n",
    "data = {\n",
    "    'Name': ['Alice', 'Bob', 'Charlie', 'David', 'Ella'],\n",
    "    'Age': [25, 30, 35, 40, 45],\n",
    "    'City': ['New York', 'London', 'Paris', 'Berlin', 'Tokyo']\n",
    "}\n",
    "\n",
    "df = pd.DataFrame(data)\n"
   ]
  },
  {
   "cell_type": "code",
   "execution_count": 80,
   "id": "6ce01441-78da-4e27-8176-86554b116fe9",
   "metadata": {},
   "outputs": [],
   "source": [
    "# Age가 35 이상인 행들만 필터링 (boolean vector 사용)\n",
    "age_condition = df['Age'] >= 35\n",
    "filtered_df = df[age_condition]\n"
   ]
  },
  {
   "cell_type": "code",
   "execution_count": 81,
   "id": "f249cc37-3b2e-4d47-a2c6-dfd672f5acac",
   "metadata": {},
   "outputs": [],
   "source": [
    "# City가 'London'인 행들만 필터링 (boolean vector 사용)\n",
    "city_condition = df['City'] == 'London'\n",
    "filtered_df_2 = df[city_condition]"
   ]
  },
  {
   "cell_type": "markdown",
   "id": "6cfa21fe-b505-4b6d-8b23-e79891430989",
   "metadata": {},
   "source": [
    "## 데이터 추가 \n",
    "\n",
    "데이터 추가 예제:\n",
    "\n",
    "데이터를 추가하는 방법은 기본적으로 새로운 행을 데이터 프레임에 추가하는 것입니다. 여러 가지 방법으로 데이터를 추가할 수 있습니다. 가장 일반적인 방법은 loc 또는 iloc 인덱서를 사용하는 것입니다.\n"
   ]
  },
  {
   "cell_type": "code",
   "execution_count": 71,
   "id": "ccb68e3f-66cf-400c-a903-c8ffa1d743b5",
   "metadata": {},
   "outputs": [],
   "source": [
    "\"\"\"\n",
    "loc를 사용하여 row 데이터 추가하기:\n",
    "\"\"\"\n",
    "import pandas as pd\n",
    "\n",
    "# 기존 데이터 프레임 생성\n",
    "data = {'Name': ['Alice', 'Bob', 'Charlie'],\n",
    "        'Age': [25, 30, 35]}\n",
    "df = pd.DataFrame(data)\n",
    "\n",
    "# 새로운 데이터 추가\n",
    "new_data1 = {'Name': 'David', 'Age': 28}\n",
    "new_data2 = [\"Tom\", 44]\n",
    "df.loc[4]= new_data1\n",
    "df.loc[5] = new_data2"
   ]
  },
  {
   "cell_type": "code",
   "execution_count": 72,
   "id": "ef0777a7-c025-4934-9b4d-feb10316f3e3",
   "metadata": {},
   "outputs": [],
   "source": [
    "df.loc[6,\"Name\"] = \"Ted\""
   ]
  },
  {
   "cell_type": "code",
   "execution_count": 73,
   "id": "37141a7f-e778-4fb4-a757-7379ebd2b04d",
   "metadata": {},
   "outputs": [],
   "source": [
    "\"\"\"\n",
    "loc를 사용하여 행 추가:\n",
    "\"\"\"\n",
    "df.loc[6] = [\"Ted\", 2]"
   ]
  },
  {
   "cell_type": "code",
   "execution_count": 74,
   "id": "7832aff4-ba9a-4cb9-a0e4-c8286ee6b07c",
   "metadata": {},
   "outputs": [
    {
     "data": {
      "text/html": [
       "<div>\n",
       "<style scoped>\n",
       "    .dataframe tbody tr th:only-of-type {\n",
       "        vertical-align: middle;\n",
       "    }\n",
       "\n",
       "    .dataframe tbody tr th {\n",
       "        vertical-align: top;\n",
       "    }\n",
       "\n",
       "    .dataframe thead th {\n",
       "        text-align: right;\n",
       "    }\n",
       "</style>\n",
       "<table border=\"1\" class=\"dataframe\">\n",
       "  <thead>\n",
       "    <tr style=\"text-align: right;\">\n",
       "      <th></th>\n",
       "      <th>Name</th>\n",
       "      <th>Age</th>\n",
       "    </tr>\n",
       "  </thead>\n",
       "  <tbody>\n",
       "    <tr>\n",
       "      <th>0</th>\n",
       "      <td>Alice</td>\n",
       "      <td>25.0</td>\n",
       "    </tr>\n",
       "    <tr>\n",
       "      <th>1</th>\n",
       "      <td>Bob</td>\n",
       "      <td>30.0</td>\n",
       "    </tr>\n",
       "    <tr>\n",
       "      <th>2</th>\n",
       "      <td>Charlie</td>\n",
       "      <td>35.0</td>\n",
       "    </tr>\n",
       "    <tr>\n",
       "      <th>4</th>\n",
       "      <td>David</td>\n",
       "      <td>28.0</td>\n",
       "    </tr>\n",
       "    <tr>\n",
       "      <th>5</th>\n",
       "      <td>Tom</td>\n",
       "      <td>44.0</td>\n",
       "    </tr>\n",
       "    <tr>\n",
       "      <th>6</th>\n",
       "      <td>Ted</td>\n",
       "      <td>2.0</td>\n",
       "    </tr>\n",
       "  </tbody>\n",
       "</table>\n",
       "</div>"
      ],
      "text/plain": [
       "      Name   Age\n",
       "0    Alice  25.0\n",
       "1      Bob  30.0\n",
       "2  Charlie  35.0\n",
       "4    David  28.0\n",
       "5      Tom  44.0\n",
       "6      Ted   2.0"
      ]
     },
     "execution_count": 74,
     "metadata": {},
     "output_type": "execute_result"
    }
   ],
   "source": [
    "df"
   ]
  },
  {
   "cell_type": "code",
   "execution_count": 75,
   "id": "2b58b3dc-2cca-451b-b273-353706bc6207",
   "metadata": {},
   "outputs": [],
   "source": [
    "\"\"\"\n",
    "loc를 사용하여 열추가:\n",
    "\"\"\"\n",
    "df.loc[:, \"Gender\"] = [\"Femail\", \"Male\", \"Male\", \"Male\", \"Male\", \"Male\"]"
   ]
  },
  {
   "cell_type": "code",
   "execution_count": 78,
   "id": "80934d16-a172-4d84-87ed-77344a4aebfb",
   "metadata": {},
   "outputs": [
    {
     "data": {
      "text/html": [
       "<div>\n",
       "<style scoped>\n",
       "    .dataframe tbody tr th:only-of-type {\n",
       "        vertical-align: middle;\n",
       "    }\n",
       "\n",
       "    .dataframe tbody tr th {\n",
       "        vertical-align: top;\n",
       "    }\n",
       "\n",
       "    .dataframe thead th {\n",
       "        text-align: right;\n",
       "    }\n",
       "</style>\n",
       "<table border=\"1\" class=\"dataframe\">\n",
       "  <thead>\n",
       "    <tr style=\"text-align: right;\">\n",
       "      <th></th>\n",
       "      <th>Name</th>\n",
       "      <th>Age</th>\n",
       "      <th>Gender</th>\n",
       "    </tr>\n",
       "  </thead>\n",
       "  <tbody>\n",
       "    <tr>\n",
       "      <th>0</th>\n",
       "      <td>Alice</td>\n",
       "      <td>25.0</td>\n",
       "      <td>Femail</td>\n",
       "    </tr>\n",
       "    <tr>\n",
       "      <th>1</th>\n",
       "      <td>Bob</td>\n",
       "      <td>30.0</td>\n",
       "      <td>Male</td>\n",
       "    </tr>\n",
       "    <tr>\n",
       "      <th>2</th>\n",
       "      <td>Charlie</td>\n",
       "      <td>35.0</td>\n",
       "      <td>Male</td>\n",
       "    </tr>\n",
       "    <tr>\n",
       "      <th>4</th>\n",
       "      <td>David</td>\n",
       "      <td>28.0</td>\n",
       "      <td>Male</td>\n",
       "    </tr>\n",
       "    <tr>\n",
       "      <th>5</th>\n",
       "      <td>Tom</td>\n",
       "      <td>44.0</td>\n",
       "      <td>Male</td>\n",
       "    </tr>\n",
       "    <tr>\n",
       "      <th>6</th>\n",
       "      <td>Ted</td>\n",
       "      <td>2.0</td>\n",
       "      <td>Male</td>\n",
       "    </tr>\n",
       "  </tbody>\n",
       "</table>\n",
       "</div>"
      ],
      "text/plain": [
       "      Name   Age  Gender\n",
       "0    Alice  25.0  Femail\n",
       "1      Bob  30.0    Male\n",
       "2  Charlie  35.0    Male\n",
       "4    David  28.0    Male\n",
       "5      Tom  44.0    Male\n",
       "6      Ted   2.0    Male"
      ]
     },
     "execution_count": 78,
     "metadata": {},
     "output_type": "execute_result"
    }
   ],
   "source": [
    "df"
   ]
  },
  {
   "cell_type": "markdown",
   "id": "dc9ed191-2e77-4ece-9254-01585b6a6d17",
   "metadata": {},
   "source": [
    "## 데이터 삭제\n",
    "\n",
    "데이터를 삭제하는 방법에는 drop() 메서드를 사용하는 방법과 조건에 맞는 행을 필터링하여 삭제하는 방법이 있습니다.\n",
    "- drop() 메서드를 사용하여 특정 행 삭제하기:\n",
    "- 조건에 맞는 행을 필터링하여 삭제하기:"
   ]
  },
  {
   "cell_type": "code",
   "execution_count": 184,
   "id": "9bcc1792-dc46-4343-84dd-217a0a823840",
   "metadata": {
    "tags": []
   },
   "outputs": [],
   "source": [
    "\"\"\"\n",
    "drop() 메서드를 사용하여 특정 행 삭제하기:\n",
    "\"\"\"\n",
    "\n",
    "import pandas as pd\n",
    "\n",
    "# 기존 데이터 프레임 생성\n",
    "data = {'Name': ['Alice', 'Bob', 'Charlie'],\n",
    "        'Age': [25, 30, 35]}\n",
    "df = pd.DataFrame(data)\n",
    "\n",
    "# 특정 행 삭제\n",
    "df = df.drop(1)"
   ]
  },
  {
   "cell_type": "code",
   "execution_count": 185,
   "id": "6416f2e1-1e36-48da-91ca-d23b37c139e0",
   "metadata": {
    "tags": []
   },
   "outputs": [],
   "source": [
    "\"\"\"\n",
    "조건에 맞는 행을 필터링하여 삭제하기:\n",
    "\"\"\"\n",
    "\n",
    "import pandas as pd\n",
    "\n",
    "# 기존 데이터 프레임 생성\n",
    "data = {'Name': ['Alice', 'Bob', 'Charlie'],\n",
    "        'Age': [25, 30, 35]}\n",
    "df = pd.DataFrame(data)\n",
    "\n",
    "# 조건에 맞는 행 삭제 (예: 나이가 30 이상인 행 삭제)\n",
    "df = df[df['Age'] < 30]"
   ]
  },
  {
   "cell_type": "code",
   "execution_count": 187,
   "id": "c95c28d9-0ae1-4ce1-82b1-b6bfd32e05de",
   "metadata": {
    "tags": []
   },
   "outputs": [],
   "source": [
    "\"\"\"\n",
    "열삭제\n",
    "\"\"\"\n",
    "\n",
    "import pandas as pd\n",
    "\n",
    "# 기존 데이터 프레임 생성\n",
    "data = {'Name': ['Alice', 'Bob', 'Charlie'],\n",
    "        'Age': [25, 30, 35]}\n",
    "df = pd.DataFrame(data)\n",
    "\n",
    "# 조건에 맞는 행 삭제 (예: 나이가 30 이상인 행 삭제)\n",
    "df = df.drop(columns=[\"Age\"])"
   ]
  },
  {
   "cell_type": "markdown",
   "id": "de290934-b9d5-4a19-9d46-423f25cbe4c7",
   "metadata": {},
   "source": [
    "## 데이터 변경\n",
    "판다스(Pandas)에서 기존 데이터를 변경하는 방법에는 다양한 방법이 있습니다. 가장 일반적으로 사용되는 방법은 인덱싱 및 슬라이싱을 통해 특정 위치의 데이터를 수정하는 것입니다\n",
    "\n",
    "- 단일 셀의 데이터 변경:\n",
    "- 조건에 맞는 셀의 데이터 일괄 변경:\n",
    "- 새로운 시리즈로 데이터 일괄 변경:"
   ]
  },
  {
   "cell_type": "code",
   "execution_count": 216,
   "id": "1e2180ec-39eb-46d3-86d9-0ab57f3cb28f",
   "metadata": {},
   "outputs": [],
   "source": [
    "\"\"\"\n",
    "1. 단일 셀의 데이터 변경:\n",
    "\"\"\"\n",
    "import pandas as pd\n",
    "\n",
    "# 기존 데이터 프레임 생성\n",
    "data = {'Name': ['Alice', 'Bob', 'Charlie'],\n",
    "        'Age': [25, 30, 35]}\n",
    "df = pd.DataFrame(data)\n",
    "\n",
    "# 특정 셀의 데이터 변경\n",
    "df.at[1, 'Age'] = 32"
   ]
  },
  {
   "cell_type": "code",
   "execution_count": null,
   "id": "7bfb6c3d-72a4-40ca-a2fc-07b94fedd71d",
   "metadata": {},
   "outputs": [],
   "source": [
    "\"\"\"\n",
    "2. 조건에 맞는 셀의 데이터 일괄 변경:\n",
    "\"\"\"\n",
    "import pandas as pd\n",
    "\n",
    "# 기존 데이터 프레임 생성\n",
    "data = {'Name': ['Alice', 'Bob', 'Charlie'],\n",
    "        'Age': [25, 30, 35]}\n",
    "df = pd.DataFrame(data)\n",
    "\n",
    "# 조건에 맞는 셀의 데이터 일괄 변경 (예: 나이가 30 이상인 경우 나이를 40으로 변경)\n",
    "df.loc[df['나이'] >= 30, '나이'] = 40"
   ]
  },
  {
   "cell_type": "code",
   "execution_count": null,
   "id": "338aadcc-f429-4ca7-b428-fdbc966f94e7",
   "metadata": {},
   "outputs": [],
   "source": [
    "\"\"\"\n",
    "새로운 시리즈로 데이터 일괄 변경:\n",
    "\"\"\"\n",
    "import pandas as pd\n",
    "\n",
    "# 기존 데이터 프레임 생성\n",
    "data = {'Name': ['Alice', 'Bob', 'Charlie'],\n",
    "        'Age': [25, 30, 35]}\n",
    "df = pd.DataFrame(data)\n",
    "\n",
    "# 새로운 시리즈로 데이터 일괄 변경 (예: 모든 나이를 50으로 변경)\n",
    "new_age = pd.Series([50, 50, 50])\n",
    "df['Age'] = new_age\n"
   ]
  },
  {
   "cell_type": "markdown",
   "id": "4b8d05a2-167b-4867-9f54-249f8733d812",
   "metadata": {},
   "source": [
    "## 정렬\n",
    "데이터프레임을 정렬하는 방법에는 sort_values() 메서드를 사용합니다. 이를 통해 원하는 열 기준으로 데이터프레임을 오름차순 또는 내림차순으로 정렬할 수 있습니다."
   ]
  },
  {
   "cell_type": "code",
   "execution_count": 221,
   "id": "9d5c9485-e198-4f55-b18d-7bea0e30aaf1",
   "metadata": {},
   "outputs": [],
   "source": [
    "import pandas as pd\n",
    "\n",
    "# 데이터 생성\n",
    "data = {'Name': ['Alice', 'Bob', 'Charlie', 'David'],\n",
    "        'Age': [25, 30, 35, 28],\n",
    "        'Gender': ['Female', 'Male', 'Male', 'Male'],\n",
    "        'Height': [165, 180, 175, 170]}\n",
    "\n",
    "df = pd.DataFrame(data)"
   ]
  },
  {
   "cell_type": "code",
   "execution_count": 222,
   "id": "192a1c0b-bc0d-4994-8fd3-189acef4bbb2",
   "metadata": {},
   "outputs": [],
   "source": [
    "# 이름 열을 기준으로 오름차순 정렬\n",
    "df_sorted_name_asc = df.sort_values(by='Name', ascending=True)"
   ]
  },
  {
   "cell_type": "code",
   "execution_count": 223,
   "id": "661e094e-827b-4a67-bb04-0d5f13691829",
   "metadata": {},
   "outputs": [],
   "source": [
    "# 나이 열을 기준으로 내림차순 정렬\n",
    "df_sorted_age_desc = df.sort_values(by='Age', ascending=False)"
   ]
  },
  {
   "cell_type": "code",
   "execution_count": 224,
   "id": "2827c7a8-0ad3-4013-a518-b2a961c288ab",
   "metadata": {},
   "outputs": [],
   "source": [
    "# 여러 열을 기준으로 정렬 (나이를 먼저 오름차순으로 정렬하고, 그 다음 키를 내림차순으로 정렬)\n",
    "df_sorted = df.sort_values(by=['Age', 'Height'], ascending=[True, False])"
   ]
  },
  {
   "cell_type": "markdown",
   "id": "2bd05aa0-462c-411b-955c-88a59ed18456",
   "metadata": {},
   "source": [
    "## 데이터프레임 산술 연산\n",
    "\n",
    "데이터프레임은 다양한 산술 연산을 지원하며, 기본적으로 요소별(element-wise) 연산이 이루어집니다. 산술 연산은 데이터프레임 간의 연산 또는 데이터프레임 내부의 열 간 연산이 가능합니다. \n",
    "\n",
    "데이터프레임은 덧셈(+), 뺄셈(-), 곱셈(*), 나눗셈(/) 등의 산술 연산을 지원하며, 이 외에도 다양한 수학 함수를 적용할 수 있습니다. 데이터프레임의 산술 연산은 열 단위로 이루어지므로 데이터프레임의 크기가 동일해야 합니다."
   ]
  },
  {
   "cell_type": "code",
   "execution_count": 225,
   "id": "450bccee-087c-4cc1-88c5-9967c3aca933",
   "metadata": {},
   "outputs": [],
   "source": [
    "\"\"\"\n",
    "데이터프레임 간의 덧셈 연산\n",
    "\"\"\"\n",
    "\n",
    "import pandas as pd\n",
    "\n",
    "# 데이터 생성\n",
    "data1 = {'A': [1, 2, 3],\n",
    "         'B': [4, 5, 6]}\n",
    "df1 = pd.DataFrame(data1)\n",
    "\n",
    "data2 = {'A': [7, 8, 9],\n",
    "         'B': [10, 11, 12]}\n",
    "df2 = pd.DataFrame(data2)\n",
    "\n",
    "# 데이터프레임 간의 덧셈 연산\n",
    "df_sum = df1 + df2\n",
    "\n"
   ]
  },
  {
   "cell_type": "code",
   "execution_count": null,
   "id": "1044ddec-8bcc-4592-acea-b545699dec2d",
   "metadata": {},
   "outputs": [],
   "source": [
    "\"\"\"\n",
    "데이터프레임 내부의 열 간 덧셈 연산\n",
    "\"\"\"\n",
    "df_sum_columns = df1['A'] + df1['B']\n",
    "\n"
   ]
  },
  {
   "cell_type": "markdown",
   "id": "28e95c05-f544-4e0c-9947-6be75352408b",
   "metadata": {},
   "source": [
    "## 전치(transpose)\n",
    "\n",
    "데이터프레임의 transpose() 메서드를 사용하면 행과 열을 바꾸어 데이터프레임을 전치(transpose)할 수 있습니다. 전치된 데이터프레임은 원래 데이터프레임의 행과 열이 서로 바뀐 형태로 반환됩니다."
   ]
  },
  {
   "cell_type": "code",
   "execution_count": 229,
   "id": "57559e95-b7e0-47fc-b008-9771fc3d6aa1",
   "metadata": {},
   "outputs": [],
   "source": [
    "import pandas as pd\n",
    "\n",
    "# 데이터 생성\n",
    "data = {'Name': ['Alice', 'Bob', 'Charlie', 'David'],\n",
    "        'Age': [25, 30, 35, 28],\n",
    "        'Gender': ['Female', 'Male', 'Male', 'Male'],\n",
    "        'Height': [165, 180, 175, 170]}\n",
    "df = pd.DataFrame(data)\n",
    "\n",
    "\n",
    "# 데이터프레임 전치\n",
    "df_transposed = df.transpose()\n"
   ]
  },
  {
   "cell_type": "code",
   "execution_count": 227,
   "id": "d58e1879-dea4-4452-b54e-f2c37a637661",
   "metadata": {},
   "outputs": [
    {
     "data": {
      "text/html": [
       "<div>\n",
       "<style scoped>\n",
       "    .dataframe tbody tr th:only-of-type {\n",
       "        vertical-align: middle;\n",
       "    }\n",
       "\n",
       "    .dataframe tbody tr th {\n",
       "        vertical-align: top;\n",
       "    }\n",
       "\n",
       "    .dataframe thead th {\n",
       "        text-align: right;\n",
       "    }\n",
       "</style>\n",
       "<table border=\"1\" class=\"dataframe\">\n",
       "  <thead>\n",
       "    <tr style=\"text-align: right;\">\n",
       "      <th></th>\n",
       "      <th>이름</th>\n",
       "      <th>나이</th>\n",
       "      <th>성별</th>\n",
       "    </tr>\n",
       "  </thead>\n",
       "  <tbody>\n",
       "    <tr>\n",
       "      <th>0</th>\n",
       "      <td>홍길동</td>\n",
       "      <td>30</td>\n",
       "      <td>남성</td>\n",
       "    </tr>\n",
       "    <tr>\n",
       "      <th>1</th>\n",
       "      <td>김철수</td>\n",
       "      <td>25</td>\n",
       "      <td>남성</td>\n",
       "    </tr>\n",
       "    <tr>\n",
       "      <th>2</th>\n",
       "      <td>이영희</td>\n",
       "      <td>35</td>\n",
       "      <td>여성</td>\n",
       "    </tr>\n",
       "  </tbody>\n",
       "</table>\n",
       "</div>"
      ],
      "text/plain": [
       "    이름  나이  성별\n",
       "0  홍길동  30  남성\n",
       "1  김철수  25  남성\n",
       "2  이영희  35  여성"
      ]
     },
     "execution_count": 227,
     "metadata": {},
     "output_type": "execute_result"
    }
   ],
   "source": [
    "df"
   ]
  },
  {
   "cell_type": "markdown",
   "id": "77fa242f-c56d-4b3c-835d-46385199e835",
   "metadata": {},
   "source": [
    "## 통계"
   ]
  },
  {
   "cell_type": "code",
   "execution_count": 214,
   "id": "aeb8f02f-46cf-4968-8ba1-45b6e7ff55b7",
   "metadata": {
    "tags": []
   },
   "outputs": [
    {
     "data": {
      "text/html": [
       "<div>\n",
       "<style scoped>\n",
       "    .dataframe tbody tr th:only-of-type {\n",
       "        vertical-align: middle;\n",
       "    }\n",
       "\n",
       "    .dataframe tbody tr th {\n",
       "        vertical-align: top;\n",
       "    }\n",
       "\n",
       "    .dataframe thead th {\n",
       "        text-align: right;\n",
       "    }\n",
       "</style>\n",
       "<table border=\"1\" class=\"dataframe\">\n",
       "  <thead>\n",
       "    <tr style=\"text-align: right;\">\n",
       "      <th></th>\n",
       "      <th>Kor</th>\n",
       "      <th>Eng</th>\n",
       "      <th>Math</th>\n",
       "    </tr>\n",
       "  </thead>\n",
       "  <tbody>\n",
       "    <tr>\n",
       "      <th>Tom</th>\n",
       "      <td>61</td>\n",
       "      <td>84</td>\n",
       "      <td>78</td>\n",
       "    </tr>\n",
       "    <tr>\n",
       "      <th>Sam</th>\n",
       "      <td>82</td>\n",
       "      <td>53</td>\n",
       "      <td>89</td>\n",
       "    </tr>\n",
       "    <tr>\n",
       "      <th>Ana</th>\n",
       "      <td>84</td>\n",
       "      <td>53</td>\n",
       "      <td>95</td>\n",
       "    </tr>\n",
       "    <tr>\n",
       "      <th>Nat</th>\n",
       "      <td>72</td>\n",
       "      <td>69</td>\n",
       "      <td>50</td>\n",
       "    </tr>\n",
       "    <tr>\n",
       "      <th>Mag</th>\n",
       "      <td>55</td>\n",
       "      <td>73</td>\n",
       "      <td>76</td>\n",
       "    </tr>\n",
       "  </tbody>\n",
       "</table>\n",
       "</div>"
      ],
      "text/plain": [
       "     Kor  Eng  Math\n",
       "Tom   61   84    78\n",
       "Sam   82   53    89\n",
       "Ana   84   53    95\n",
       "Nat   72   69    50\n",
       "Mag   55   73    76"
      ]
     },
     "execution_count": 214,
     "metadata": {},
     "output_type": "execute_result"
    }
   ],
   "source": [
    "import pandas as pd\n",
    "import numpy as np\n",
    "\n",
    "data = np.random.randint(50,100,15).reshape(5,3)\n",
    "df = pd.DataFrame(\n",
    "    data,\n",
    "    index=\"Tom Sam Ana Nat Mag\".split(),\n",
    "    columns=\"Kor Eng Math\".split()\n",
    ")\n",
    "df"
   ]
  },
  {
   "cell_type": "code",
   "execution_count": 215,
   "id": "ccb4a7c7-c854-484f-b6b3-9a350a6520cb",
   "metadata": {
    "tags": []
   },
   "outputs": [
    {
     "data": {
      "text/plain": [
       "Kor     70.8\n",
       "Eng     66.4\n",
       "Math    77.6\n",
       "dtype: float64"
      ]
     },
     "execution_count": 215,
     "metadata": {},
     "output_type": "execute_result"
    }
   ],
   "source": [
    "df.mean()"
   ]
  },
  {
   "cell_type": "code",
   "execution_count": 216,
   "id": "56da177c-2b2d-4a49-b8f6-f1da08bd5623",
   "metadata": {
    "tags": []
   },
   "outputs": [
    {
     "data": {
      "text/plain": [
       "Tom    74.333333\n",
       "Sam    74.666667\n",
       "Ana    77.333333\n",
       "Nat    63.666667\n",
       "Mag    68.000000\n",
       "dtype: float64"
      ]
     },
     "execution_count": 216,
     "metadata": {},
     "output_type": "execute_result"
    }
   ],
   "source": [
    "df.mean(axis=1)"
   ]
  },
  {
   "cell_type": "code",
   "execution_count": 217,
   "id": "ed9c7602-b0ad-491c-903b-9d2670b234c8",
   "metadata": {
    "tags": []
   },
   "outputs": [
    {
     "data": {
      "text/plain": [
       "Kor     84\n",
       "Eng     84\n",
       "Math    95\n",
       "dtype: int64"
      ]
     },
     "execution_count": 217,
     "metadata": {},
     "output_type": "execute_result"
    }
   ],
   "source": [
    "df.max()"
   ]
  },
  {
   "cell_type": "code",
   "execution_count": 218,
   "id": "7641e77d-1d2f-4462-ba8a-1cdfcdda1d9a",
   "metadata": {
    "tags": []
   },
   "outputs": [
    {
     "data": {
      "text/plain": [
       "95"
      ]
     },
     "execution_count": 218,
     "metadata": {},
     "output_type": "execute_result"
    }
   ],
   "source": [
    "df.max().max()"
   ]
  },
  {
   "cell_type": "code",
   "execution_count": 219,
   "id": "117e526a-bb31-40f1-9807-5aa95984f418",
   "metadata": {
    "tags": []
   },
   "outputs": [
    {
     "data": {
      "text/plain": [
       "55"
      ]
     },
     "execution_count": 219,
     "metadata": {},
     "output_type": "execute_result"
    }
   ],
   "source": [
    "df.Kor.min()"
   ]
  },
  {
   "cell_type": "code",
   "execution_count": 220,
   "id": "8c0ea207-7263-46f8-9062-a619c556fb61",
   "metadata": {
    "tags": []
   },
   "outputs": [
    {
     "data": {
      "text/html": [
       "<div>\n",
       "<style scoped>\n",
       "    .dataframe tbody tr th:only-of-type {\n",
       "        vertical-align: middle;\n",
       "    }\n",
       "\n",
       "    .dataframe tbody tr th {\n",
       "        vertical-align: top;\n",
       "    }\n",
       "\n",
       "    .dataframe thead th {\n",
       "        text-align: right;\n",
       "    }\n",
       "</style>\n",
       "<table border=\"1\" class=\"dataframe\">\n",
       "  <thead>\n",
       "    <tr style=\"text-align: right;\">\n",
       "      <th></th>\n",
       "      <th>Kor</th>\n",
       "      <th>Eng</th>\n",
       "      <th>Math</th>\n",
       "    </tr>\n",
       "  </thead>\n",
       "  <tbody>\n",
       "    <tr>\n",
       "      <th>count</th>\n",
       "      <td>5.000000</td>\n",
       "      <td>5.000000</td>\n",
       "      <td>5.000000</td>\n",
       "    </tr>\n",
       "    <tr>\n",
       "      <th>mean</th>\n",
       "      <td>70.800000</td>\n",
       "      <td>66.400000</td>\n",
       "      <td>77.600000</td>\n",
       "    </tr>\n",
       "    <tr>\n",
       "      <th>std</th>\n",
       "      <td>12.716131</td>\n",
       "      <td>13.408952</td>\n",
       "      <td>17.300289</td>\n",
       "    </tr>\n",
       "    <tr>\n",
       "      <th>min</th>\n",
       "      <td>55.000000</td>\n",
       "      <td>53.000000</td>\n",
       "      <td>50.000000</td>\n",
       "    </tr>\n",
       "    <tr>\n",
       "      <th>25%</th>\n",
       "      <td>61.000000</td>\n",
       "      <td>53.000000</td>\n",
       "      <td>76.000000</td>\n",
       "    </tr>\n",
       "    <tr>\n",
       "      <th>50%</th>\n",
       "      <td>72.000000</td>\n",
       "      <td>69.000000</td>\n",
       "      <td>78.000000</td>\n",
       "    </tr>\n",
       "    <tr>\n",
       "      <th>75%</th>\n",
       "      <td>82.000000</td>\n",
       "      <td>73.000000</td>\n",
       "      <td>89.000000</td>\n",
       "    </tr>\n",
       "    <tr>\n",
       "      <th>max</th>\n",
       "      <td>84.000000</td>\n",
       "      <td>84.000000</td>\n",
       "      <td>95.000000</td>\n",
       "    </tr>\n",
       "  </tbody>\n",
       "</table>\n",
       "</div>"
      ],
      "text/plain": [
       "             Kor        Eng       Math\n",
       "count   5.000000   5.000000   5.000000\n",
       "mean   70.800000  66.400000  77.600000\n",
       "std    12.716131  13.408952  17.300289\n",
       "min    55.000000  53.000000  50.000000\n",
       "25%    61.000000  53.000000  76.000000\n",
       "50%    72.000000  69.000000  78.000000\n",
       "75%    82.000000  73.000000  89.000000\n",
       "max    84.000000  84.000000  95.000000"
      ]
     },
     "execution_count": 220,
     "metadata": {},
     "output_type": "execute_result"
    }
   ],
   "source": [
    "df.describe()"
   ]
  },
  {
   "cell_type": "code",
   "execution_count": 221,
   "id": "1bafcf09-87ee-47d9-b6d7-f60bdbe342a5",
   "metadata": {
    "tags": []
   },
   "outputs": [
    {
     "data": {
      "text/html": [
       "<div>\n",
       "<style scoped>\n",
       "    .dataframe tbody tr th:only-of-type {\n",
       "        vertical-align: middle;\n",
       "    }\n",
       "\n",
       "    .dataframe tbody tr th {\n",
       "        vertical-align: top;\n",
       "    }\n",
       "\n",
       "    .dataframe thead th {\n",
       "        text-align: right;\n",
       "    }\n",
       "</style>\n",
       "<table border=\"1\" class=\"dataframe\">\n",
       "  <thead>\n",
       "    <tr style=\"text-align: right;\">\n",
       "      <th></th>\n",
       "      <th>Tom</th>\n",
       "      <th>Sam</th>\n",
       "      <th>Ana</th>\n",
       "      <th>Nat</th>\n",
       "      <th>Mag</th>\n",
       "    </tr>\n",
       "  </thead>\n",
       "  <tbody>\n",
       "    <tr>\n",
       "      <th>count</th>\n",
       "      <td>3.000000</td>\n",
       "      <td>3.000000</td>\n",
       "      <td>3.000000</td>\n",
       "      <td>3.000000</td>\n",
       "      <td>3.000000</td>\n",
       "    </tr>\n",
       "    <tr>\n",
       "      <th>mean</th>\n",
       "      <td>74.333333</td>\n",
       "      <td>74.666667</td>\n",
       "      <td>77.333333</td>\n",
       "      <td>63.666667</td>\n",
       "      <td>68.000000</td>\n",
       "    </tr>\n",
       "    <tr>\n",
       "      <th>std</th>\n",
       "      <td>11.930353</td>\n",
       "      <td>19.087518</td>\n",
       "      <td>21.779195</td>\n",
       "      <td>11.930353</td>\n",
       "      <td>11.357817</td>\n",
       "    </tr>\n",
       "    <tr>\n",
       "      <th>min</th>\n",
       "      <td>61.000000</td>\n",
       "      <td>53.000000</td>\n",
       "      <td>53.000000</td>\n",
       "      <td>50.000000</td>\n",
       "      <td>55.000000</td>\n",
       "    </tr>\n",
       "    <tr>\n",
       "      <th>25%</th>\n",
       "      <td>69.500000</td>\n",
       "      <td>67.500000</td>\n",
       "      <td>68.500000</td>\n",
       "      <td>59.500000</td>\n",
       "      <td>64.000000</td>\n",
       "    </tr>\n",
       "    <tr>\n",
       "      <th>50%</th>\n",
       "      <td>78.000000</td>\n",
       "      <td>82.000000</td>\n",
       "      <td>84.000000</td>\n",
       "      <td>69.000000</td>\n",
       "      <td>73.000000</td>\n",
       "    </tr>\n",
       "    <tr>\n",
       "      <th>75%</th>\n",
       "      <td>81.000000</td>\n",
       "      <td>85.500000</td>\n",
       "      <td>89.500000</td>\n",
       "      <td>70.500000</td>\n",
       "      <td>74.500000</td>\n",
       "    </tr>\n",
       "    <tr>\n",
       "      <th>max</th>\n",
       "      <td>84.000000</td>\n",
       "      <td>89.000000</td>\n",
       "      <td>95.000000</td>\n",
       "      <td>72.000000</td>\n",
       "      <td>76.000000</td>\n",
       "    </tr>\n",
       "  </tbody>\n",
       "</table>\n",
       "</div>"
      ],
      "text/plain": [
       "             Tom        Sam        Ana        Nat        Mag\n",
       "count   3.000000   3.000000   3.000000   3.000000   3.000000\n",
       "mean   74.333333  74.666667  77.333333  63.666667  68.000000\n",
       "std    11.930353  19.087518  21.779195  11.930353  11.357817\n",
       "min    61.000000  53.000000  53.000000  50.000000  55.000000\n",
       "25%    69.500000  67.500000  68.500000  59.500000  64.000000\n",
       "50%    78.000000  82.000000  84.000000  69.000000  73.000000\n",
       "75%    81.000000  85.500000  89.500000  70.500000  74.500000\n",
       "max    84.000000  89.000000  95.000000  72.000000  76.000000"
      ]
     },
     "execution_count": 221,
     "metadata": {},
     "output_type": "execute_result"
    }
   ],
   "source": [
    "df.T.describe()"
   ]
  },
  {
   "cell_type": "markdown",
   "id": "beda428f-f36d-4c2d-b2e6-86cd6494faf7",
   "metadata": {},
   "source": [
    "## numpy의 함수 적용\n",
    "\n",
    " NumPy 함수를 사용하여 데이터프레임의 값을 변경할 수 있습니다."
   ]
  },
  {
   "cell_type": "code",
   "execution_count": 231,
   "id": "ac4efe1f-b7e6-41ea-980c-a958a0a66eab",
   "metadata": {},
   "outputs": [],
   "source": [
    "\"\"\"\n",
    "데이터프레임의 값에 로그 함수 적용하기 (NumPy 함수 사용)\n",
    "\"\"\"\n",
    "import pandas as pd\n",
    "import numpy as np\n",
    "\n",
    "# 데이터프레임 생성\n",
    "data = {\n",
    "    'A': [1, 2, 3, 4, 5],\n",
    "    'B': [10, 20, 30, 40, 50],\n",
    "    'C': [100, 200, 300, 400, 500]\n",
    "}\n",
    "\n",
    "df = pd.DataFrame(data)\n",
    "\n",
    "\n",
    "df_log = np.log(df)\n"
   ]
  },
  {
   "cell_type": "code",
   "execution_count": null,
   "id": "f2f2d330-0e4e-4769-937a-7896a40dfba0",
   "metadata": {},
   "outputs": [],
   "source": [
    "\"\"\"\n",
    "데이터프레임의 값이 3 이상인 경우에만 제곱근 적용하기 (NumPy 함수와 조건 사용)\n",
    "\"\"\"\n",
    "\n",
    "import pandas as pd\n",
    "import numpy as np\n",
    "\n",
    "# 데이터프레임 생성\n",
    "data = {\n",
    "    'A': [1, 2, 3, 4, 5],\n",
    "    'B': [10, 20, 30, 40, 50],\n",
    "    'C': [100, 200, 300, 400, 500]\n",
    "}\n",
    "\n",
    "df = pd.DataFrame(data)\n",
    "\n",
    "print(\"Original DataFrame:\")\n",
    "print(df)\n",
    "\n",
    "\n",
    "condition = df >= 3\n",
    "df_sqrt_condition = np.sqrt(df[condition])"
   ]
  },
  {
   "cell_type": "markdown",
   "id": "ffa1e60c-2ca7-48bf-956e-18ee90737c1d",
   "metadata": {},
   "source": [
    "## DataFrame 기반 시각화"
   ]
  },
  {
   "cell_type": "code",
   "execution_count": 223,
   "id": "c76d0140-f023-4a26-858a-6dc46d05d034",
   "metadata": {
    "tags": []
   },
   "outputs": [
    {
     "data": {
      "text/plain": [
       "<Axes: >"
      ]
     },
     "execution_count": 223,
     "metadata": {},
     "output_type": "execute_result"
    },
    {
     "data": {
      "image/png": "[encoded data removed]",
      "text/plain": [
       "<Figure size 640x480 with 1 Axes>"
      ]
     },
     "metadata": {},
     "output_type": "display_data"
    }
   ],
   "source": [
    "df.plot()"
   ]
  },
  {
   "cell_type": "code",
   "execution_count": 227,
   "id": "e5a11573-2d54-403c-8a75-eef469cbb35a",
   "metadata": {
    "tags": []
   },
   "outputs": [
    {
     "data": {
      "text/plain": [
       "<Axes: >"
      ]
     },
     "execution_count": 227,
     "metadata": {},
     "output_type": "execute_result"
    },
    {
     "data": {
      "image/png": "[encoded data removed]",
      "text/plain": [
       "<Figure size 640x480 with 1 Axes>"
      ]
     },
     "metadata": {},
     "output_type": "display_data"
    }
   ],
   "source": [
    "df.plot(kind=\"bar\")"
   ]
  },
  {
   "cell_type": "code",
   "execution_count": 236,
   "id": "aa81c3cd-3f9a-4a4e-87a7-cf949c170ee1",
   "metadata": {
    "tags": []
   },
   "outputs": [
    {
     "data": {
      "text/plain": [
       "<Axes: ylabel='Frequency'>"
      ]
     },
     "execution_count": 236,
     "metadata": {},
     "output_type": "execute_result"
    },
    {
     "data": {
      "image/png": "[encoded data removed]",
      "text/plain": [
       "<Figure size 640x480 with 1 Axes>"
      ]
     },
     "metadata": {},
     "output_type": "display_data"
    }
   ],
   "source": [
    "df.Kor.plot(kind=\"hist\", bins=10)"
   ]
  },
  {
   "cell_type": "code",
   "execution_count": 224,
   "id": "9d254373-710e-4193-9764-87d9c1ab8c22",
   "metadata": {
    "tags": []
   },
   "outputs": [
    {
     "data": {
      "text/plain": [
       "<Axes: xlabel='Kor', ylabel='Eng'>"
      ]
     },
     "execution_count": 224,
     "metadata": {},
     "output_type": "execute_result"
    },
    {
     "data": {
      "image/png": "[encoded data removed]",
      "text/plain": [
       "<Figure size 640x480 with 1 Axes>"
      ]
     },
     "metadata": {},
     "output_type": "display_data"
    }
   ],
   "source": [
    "df.plot(kind=\"scatter\", x=\"Kor\", y=\"Eng\")"
   ]
  },
  {
   "cell_type": "code",
   "execution_count": 226,
   "id": "8b681489-ea97-41d3-825f-84ab4689a4ec",
   "metadata": {
    "tags": []
   },
   "outputs": [
    {
     "data": {
      "text/plain": [
       "<Axes: >"
      ]
     },
     "execution_count": 226,
     "metadata": {},
     "output_type": "execute_result"
    },
    {
     "data": {
      "image/png": "[encoded data removed]",
      "text/plain": [
       "<Figure size 640x480 with 1 Axes>"
      ]
     },
     "metadata": {},
     "output_type": "display_data"
    }
   ],
   "source": [
    "df.plot(kind=\"box\")"
   ]
  },
  {
   "cell_type": "code",
   "execution_count": 237,
   "id": "0e638d67-05c1-4936-9cd3-513e256f87f4",
   "metadata": {
    "tags": []
   },
   "outputs": [
    {
     "data": {
      "text/plain": [
       "<Axes: ylabel='Density'>"
      ]
     },
     "execution_count": 237,
     "metadata": {},
     "output_type": "execute_result"
    },
    {
     "data": {
      "image/png": "[encoded data removed]",
      "text/plain": [
       "<Figure size 640x480 with 1 Axes>"
      ]
     },
     "metadata": {},
     "output_type": "display_data"
    }
   ],
   "source": [
    "df.plot(kind=\"kde\")"
   ]
  },
  {
   "cell_type": "code",
   "execution_count": 241,
   "id": "f30c34f2-50f3-47bb-8d1c-3e5c82540ed2",
   "metadata": {
    "tags": []
   },
   "outputs": [
    {
     "data": {
      "text/plain": [
       "<Axes: ylabel='Kor'>"
      ]
     },
     "execution_count": 241,
     "metadata": {},
     "output_type": "execute_result"
    },
    {
     "data": {
      "image/png": "[encoded data removed]",
      "text/plain": [
       "<Figure size 640x480 with 1 Axes>"
      ]
     },
     "metadata": {},
     "output_type": "display_data"
    }
   ],
   "source": [
    "df.plot(kind=\"pie\", y=\"Kor\")"
   ]
  },
  {
   "cell_type": "code",
   "execution_count": null,
   "id": "34b1061e-a876-48f5-94aa-6aa68f05fc4c",
   "metadata": {},
   "outputs": [],
   "source": [
    "df."
   ]
  },
  {
   "cell_type": "code",
   "execution_count": null,
   "id": "7c67e4aa-c5b7-4ba3-ab59-4b63bb45ca94",
   "metadata": {},
   "outputs": [],
   "source": []
  },
  {
   "cell_type": "code",
   "execution_count": null,
   "id": "129286a1-23af-49e2-a0a2-e215d59165b2",
   "metadata": {},
   "outputs": [],
   "source": []
  },
  {
   "cell_type": "code",
   "execution_count": null,
   "id": "586bae0c-8335-43a4-a835-5bf30ca98c52",
   "metadata": {},
   "outputs": [],
   "source": []
  },
  {
   "cell_type": "code",
   "execution_count": null,
   "id": "7d978509-980d-4e89-a3e5-9c05865af2b0",
   "metadata": {},
   "outputs": [],
   "source": []
  }
 ],
 "metadata": {
  "kernelspec": {
   "display_name": "Python 3 (ipykernel)",
   "language": "python",
   "name": "python3"
  },
  "language_info": {
   "codemirror_mode": {
    "name": "ipython",
    "version": 3
   },
   "file_extension": ".py",
   "mimetype": "text/x-python",
   "name": "python",
   "nbconvert_exporter": "python",
   "pygments_lexer": "ipython3",
   "version": "3.9.1"
  }
 },
 "nbformat": 4,
 "nbformat_minor": 5
}
