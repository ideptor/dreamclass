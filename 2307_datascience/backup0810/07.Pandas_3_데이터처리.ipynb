{
 "cells": [
  {
   "cell_type": "markdown",
   "id": "0d5a1930-7eaa-4cf9-abf4-ab7d4a801184",
   "metadata": {},
   "source": [
    "# 요약과 통계연산"
   ]
  },
  {
   "cell_type": "markdown",
   "id": "9de1fe25-68d7-468f-89bd-932faa4135bd",
   "metadata": {},
   "source": [
    "판다스(Pandas) 데이터프레임은 데이터를 효율적으로 요약하고 통계 연산을 수행하는 다양한 기능을 제공합니다. 이를 통해 데이터를 빠르게 탐색하고 데이터의 분포, 중심 경향성, 상관 관계 등을 파악할 수 있습니다. 주요한 요약 및 통계 연산에 대한 설명은 다음과 같습니다:\n",
    "\n",
    "1. 데이터프레임의 기본 정보 확인하기\n",
    "\n",
    "- head() 및 tail(): 데이터프레임의 처음 몇 개 또는 마지막 몇 개 행을 확인합니다.\n",
    "- info(): 데이터프레임의 기본 정보를 확인합니다. 열의 이름, 데이터 타입, 누락된 값의 개수 등을 출력합니다.\n",
    "describe(): 데이터프레임의 기술 통계 요약을 제공합니다. 수치형 열에 대한 개수, 평균, 표준 편차, 최소값, 백분위수 등을 출력합니다.\n",
    "2. 열별 요약 통계 연산\n",
    "\n",
    "mean(), median(), min(), max(): 각 열의 평균, 중앙값, 최소값, 최대값을 계산합니다.\n",
    "sum(): 각 열의 합을 계산합니다.\n",
    "std(): 각 열의 표준 편차를 계산합니다.\n",
    "count(): 각 열의 비누락값(NaN)이 아닌 값의 개수를 계산합니다.\n",
    "3. 행별 요약 통계 연산\n",
    "\n",
    "sum(axis=1): 각 행의 합을 계산합니다.\n",
    "mean(axis=1): 각 행의 평균을 계산합니다.\n",
    "median(axis=1): 각 행의 중앙값을 계산합니다.\n"
   ]
  },
  {
   "cell_type": "code",
   "execution_count": null,
   "id": "5a724346-9073-41c4-b12c-2500041dc7fb",
   "metadata": {},
   "outputs": [],
   "source": [
    "\"\"\"\n",
    "head(), tail(), info(), describe(), \n",
    "\"\"\"\n",
    "import pandas as pd\n",
    "\n",
    "# 데이터 생성\n",
    "data = {'Name': ['Alice', 'Bob', 'Charlie', 'David'],\n",
    "        'Age': [None, 30, 35, 28],\n",
    "        'Gender': ['Female', 'Male', 'Male', 'Male'],\n",
    "        'Height': [165, 180, 175, 170]}\n",
    "df = pd.DataFrame(data)\n"
   ]
  },
  {
   "cell_type": "code",
   "execution_count": null,
   "id": "19c4d084-617f-4c04-b2f1-012951a3f183",
   "metadata": {},
   "outputs": [],
   "source": [
    "df"
   ]
  },
  {
   "cell_type": "code",
   "execution_count": null,
   "id": "c02eb843-8788-494a-92ef-4fe084691bfd",
   "metadata": {},
   "outputs": [],
   "source": [
    "df.head()"
   ]
  },
  {
   "cell_type": "code",
   "execution_count": null,
   "id": "16319d45-53ec-411e-a89b-b96e3a1f14bf",
   "metadata": {},
   "outputs": [],
   "source": [
    "df.info()"
   ]
  },
  {
   "cell_type": "code",
   "execution_count": null,
   "id": "aa5e3132-aad2-485d-be25-af6e9e016164",
   "metadata": {},
   "outputs": [],
   "source": [
    "df.describe()"
   ]
  },
  {
   "cell_type": "code",
   "execution_count": null,
   "id": "fa9ce08b-ba7e-45a7-9b64-0b26ec3d861a",
   "metadata": {},
   "outputs": [],
   "source": [
    "\"\"\"\n",
    "idxmax(), idxmin(), cumsum(),\n",
    "\"\"\"\n",
    "import pandas as pd\n",
    "\n",
    "# 데이터 생성\n",
    "data = {'Name': ['Alice', 'Bob', 'Charlie', 'David'],\n",
    "        'Age': [25, 30, 35, None],\n",
    "        'Gender': ['Female', 'Male', 'Male', 'Male'],\n",
    "        'Height': [165, 180, 175, 170]}\n",
    "df = pd.DataFrame(data)\n"
   ]
  },
  {
   "cell_type": "code",
   "execution_count": null,
   "id": "d92e2c73-1cb8-41b8-b205-6dab4baf3e5e",
   "metadata": {},
   "outputs": [],
   "source": [
    "df"
   ]
  },
  {
   "cell_type": "code",
   "execution_count": null,
   "id": "cb43d095-722b-4bb2-81a4-e689dec226e1",
   "metadata": {},
   "outputs": [],
   "source": [
    "print(df.Age)\n",
    "df.Age.idxmax()"
   ]
  },
  {
   "cell_type": "code",
   "execution_count": null,
   "id": "9262329e-9b1b-4382-87ad-d949c25d2652",
   "metadata": {},
   "outputs": [],
   "source": [
    "print(df.Age)\n",
    "df.Age.idxmin()"
   ]
  },
  {
   "cell_type": "code",
   "execution_count": null,
   "id": "18e451d6-00c5-4766-8e75-16aeab5076ed",
   "metadata": {},
   "outputs": [],
   "source": [
    "print(df.Age)\n",
    "df.Age.cumsum()"
   ]
  },
  {
   "cell_type": "code",
   "execution_count": null,
   "id": "1cd92595-0b67-46d5-b3ed-8176939ccd21",
   "metadata": {},
   "outputs": [],
   "source": [
    "# 수치형 데이터로만 이루어진 Dataframe 에도 적용 가능\n",
    "df[[\"Age\", \"Height\"]].idxmax()"
   ]
  },
  {
   "cell_type": "code",
   "execution_count": null,
   "id": "2993a69f-43ac-4d72-8940-f39f2c02ae9d",
   "metadata": {},
   "outputs": [],
   "source": [
    "# 가장 나이가 많은 사람은 누구인가?\n",
    "df.loc[df.Age.idxmax()].Name"
   ]
  },
  {
   "cell_type": "code",
   "execution_count": null,
   "id": "b818e3b9-632d-4118-8927-2acda3e34408",
   "metadata": {},
   "outputs": [],
   "source": [
    "\"\"\"\n",
    "unique(), nunique(), value_counts(),\n",
    "\"\"\"\n",
    "import pandas as pd\n",
    "\n",
    "# 데이터 생성\n",
    "data = {'Name': ['Alice', 'Bob', 'Charlie', 'David'],\n",
    "        'Age': [25, 30, 35, None],\n",
    "        'Gender': ['Female', 'Male', 'Male', 'Male'],\n",
    "        'Height': [165, 180, 175, 170]}\n",
    "df = pd.DataFrame(data)\n"
   ]
  },
  {
   "cell_type": "code",
   "execution_count": null,
   "id": "e6aae4e8-6b74-4c70-8b0f-a7bf47912611",
   "metadata": {},
   "outputs": [],
   "source": [
    "df.Name.unique()"
   ]
  },
  {
   "cell_type": "code",
   "execution_count": null,
   "id": "8f948226-738e-4075-8fc3-1546a1a51cc0",
   "metadata": {},
   "outputs": [],
   "source": [
    "df.Name.nunique()"
   ]
  },
  {
   "cell_type": "code",
   "execution_count": null,
   "id": "c04917e2-36c2-4690-8dce-4ff038c62c82",
   "metadata": {},
   "outputs": [],
   "source": [
    "df.Gender.value_counts()"
   ]
  },
  {
   "cell_type": "markdown",
   "id": "2a19e4ab-acdd-4f04-b67c-eb48f8063b66",
   "metadata": {},
   "source": [
    "# 함수적용 (map)\n",
    "\n",
    "판다스(Pandas)의 DataFrame에서 map() 메서드는 Series에 적용된 값에 대해 지정된 사전(dict)이나 함수를 사용하여 각 값에 대한 변환을 수행하는 기능을 제공합니다. map() 메서드는 주로 특정 열의 값을 다른 값으로 매핑하거나 변환하는데 사용됩니다."
   ]
  },
  {
   "cell_type": "code",
   "execution_count": null,
   "id": "9c3c89d9-12fc-4bef-901b-b1d18666065f",
   "metadata": {},
   "outputs": [],
   "source": [
    "# '성별' 열의 값에 매핑을 적용하여 숫자로 변환\n",
    "\n",
    "import pandas as pd\n",
    "\n",
    "# 데이터 생성\n",
    "data = {'Name': ['Alice', 'Bob', 'Charlie', 'David'],\n",
    "        'Age': [25, 30, 35, None],\n",
    "        'Gender': ['Female', 'Male', 'Male', 'Male'],\n",
    "        'Height': [165, 180, 175, 170]\n",
    "}\n",
    "\n",
    "df = pd.DataFrame(data)\n",
    "\n",
    "gender_mapping = {'Female': 0, 'Male': 1}\n",
    "\n",
    "df['Gender2'] = df.Gender.map(gender_mapping)\n"
   ]
  },
  {
   "cell_type": "code",
   "execution_count": null,
   "id": "016e4c33-4513-4dae-8501-384611be9d21",
   "metadata": {},
   "outputs": [],
   "source": [
    "df.Gender.map(gender_mapping.get)"
   ]
  },
  {
   "cell_type": "code",
   "execution_count": null,
   "id": "69691542-b090-4fdd-bee7-326d4d5a8350",
   "metadata": {},
   "outputs": [],
   "source": []
  },
  {
   "cell_type": "code",
   "execution_count": null,
   "id": "b2f19011-2659-4709-9373-63e646c794b2",
   "metadata": {},
   "outputs": [],
   "source": [
    "# lambda 적용\n",
    "df.Gender.map(lambda x: 0 if x == \"Female\" else 1)"
   ]
  },
  {
   "cell_type": "code",
   "execution_count": null,
   "id": "c2dcea0a-3610-4d9c-82e2-569c2a8c5b46",
   "metadata": {},
   "outputs": [],
   "source": [
    "df.Age.map(lambda x: x + 10)"
   ]
  },
  {
   "cell_type": "code",
   "execution_count": null,
   "id": "d96f8a2f-2820-4423-88e5-e04aa3ae698a",
   "metadata": {},
   "outputs": [],
   "source": [
    "df.loc[0].map(lambda x: str(x)+\"_invalid\")"
   ]
  },
  {
   "cell_type": "markdown",
   "id": "28418793-a8ab-4d7d-a96a-e778f02b831f",
   "metadata": {},
   "source": [
    "# 함수적용 (apply)\n",
    "\n",
    "pandas의 DataFrame에서 apply() 메서드는 열(column) 또는 행(row) 단위로 함수를 적용하여 데이터를 변환하는 기능을 제공합니다. apply() 메서드는 특정 함수를 데이터프레임의 모든 열 또는 각 행에 적용하며, 이를 통해 데이터의 변환, 필터링, 정제 등 다양한 작업을 수행할 수 있습니다.\n",
    "\n",
    "```python\n",
    "DataFrame.apply(func, axis=0, raw=False, result_type=None, args=(), **kwds)\n",
    "```\n",
    "\n",
    "- `func`: 적용하고자 하는 함수를 지정합니다. 사용자 정의 함수나 내장 함수 등 모두 가능합니다.\n",
    "- `axis`: 0이면 함수가 열(column)에 적용됩니다. 1이면 함수가 행(row)에 적용됩니다.\n",
    "- `raw`: True이면 행 또는 열을 배열로 전달하고, False이면 Series로 전달합니다.\n",
    "- `result_type`: 반환되는 결과의 데이터 타입을 지정합니다.\n",
    "- `args`: 함수에 추가적인 인자를 전달할 경우 사용합니다.\n"
   ]
  },
  {
   "cell_type": "code",
   "execution_count": null,
   "id": "96b73136-34e0-4287-ae93-91967069b1e3",
   "metadata": {},
   "outputs": [],
   "source": [
    "\"\"\"\n",
    "각 열의 최대값 확인\n",
    "\"\"\"\n",
    "\n",
    "import pandas as pd\n",
    "\n",
    "# 데이터 생성\n",
    "data = {\n",
    "    'A': [1, 5, 3, 10, 6],\n",
    "    'B': [9, 8, 4, 2, 7],\n",
    "    'C': [12, 14, 11, 13, 15]\n",
    "}\n",
    "\n",
    "df = pd.DataFrame(data)\n",
    "\n",
    "# 각 열에 대해 최대값을 찾는 함수 정의\n",
    "def find_max(column):\n",
    "    return column.max()\n",
    "\n",
    "max_values = df.apply(find_max, axis=0)\n",
    "df.loc[\"최대값\"] = max_values"
   ]
  },
  {
   "cell_type": "code",
   "execution_count": null,
   "id": "3bfd04fd-6544-4207-88bd-bee48a87d73d",
   "metadata": {},
   "outputs": [],
   "source": [
    "df"
   ]
  },
  {
   "cell_type": "code",
   "execution_count": null,
   "id": "569d9c80-cc61-4f1d-98d6-4ee116158d86",
   "metadata": {},
   "outputs": [],
   "source": [
    "\"\"\"\n",
    "각 행의 최대, 최소 차이\n",
    "\"\"\"\n",
    "\n",
    "import pandas as pd\n",
    "\n",
    "# 데이터 생성\n",
    "data = {\n",
    "    'A': [1, 5, 3, 10, 6],\n",
    "    'B': [9, 8, 4, 2, 7],\n",
    "    'C': [12, 14, 11, 13, 15]\n",
    "}\n",
    "\n",
    "df = pd.DataFrame(data)\n",
    "\n",
    "print(\"Original DataFrame:\")\n",
    "print(df)\n",
    "\n",
    "# 각 행에서 최대값과 최소값의 차이를 계산하는 함수 정의\n",
    "def max_min_diff(row):\n",
    "    return row.max() - row.min()\n",
    "\n",
    "# apply() 메서드를 사용하여 각 행에 max_min_diff 함수 적용\n",
    "df['최대최소차이'] = df.apply(max_min_diff, axis=1)"
   ]
  },
  {
   "cell_type": "code",
   "execution_count": null,
   "id": "2a934b27-9c50-4589-b1c5-c6dda3ed409b",
   "metadata": {},
   "outputs": [],
   "source": [
    "df"
   ]
  },
  {
   "cell_type": "code",
   "execution_count": null,
   "id": "9177b369-0c6e-46f4-a0e6-bf5bc9db67b5",
   "metadata": {},
   "outputs": [],
   "source": [
    "\"\"\"\n",
    "apply()에 lambda 적용\n",
    "\"\"\"\n",
    "# '성별' 열의 값에 매핑을 적용하여 숫자로 변환\n",
    "\n",
    "import pandas as pd\n",
    "import numpy as np\n",
    "\n",
    "# 데이터 생성\n",
    "data = {'Name': ['Alice', 'Bob', 'Charlie', 'David'],\n",
    "        'Weight': [65, 70, 85, None],\n",
    "        'Height': [1.65, 1.8, 1.75, 1.7]\n",
    "}\n",
    "\n",
    "df = pd.DataFrame(data)\n",
    "df[\"BMI\"] = df.apply(lambda x: np.round(x[\"Weight\"] / (x[\"Height\"])**2,1), axis=1)"
   ]
  },
  {
   "cell_type": "code",
   "execution_count": null,
   "id": "1bee54e6-14ae-4ad7-8734-4f66bb400a43",
   "metadata": {},
   "outputs": [],
   "source": [
    "df"
   ]
  },
  {
   "cell_type": "markdown",
   "id": "984f468d-f8b2-496f-a4cd-8468dfe72965",
   "metadata": {},
   "source": [
    "## 필터링 기반 apply 적용\n",
    "\n",
    "\n",
    "데이터프레임에서 조건에 맞는 셀의 데이터에만 map과 apply를 적용하는 방법은 loc 인덱싱을 사용하여 조건을 만족하는 행과 열을 선택한 후에 해당 위치에 함수를 적용하면 됩니다.\n",
    "\n"
   ]
  },
  {
   "cell_type": "code",
   "execution_count": 64,
   "id": "ae8e4983-5ed5-4901-95de-7a23ea67ca76",
   "metadata": {},
   "outputs": [],
   "source": [
    "import pandas as pd\n",
    "\n",
    "# 데이터 생성\n",
    "data = {\n",
    "    'Name': ['Alice', 'Bob', 'Charlie', 'David', 'Ella'],\n",
    "    'Age': [25, 30, 35, 40, 45],\n",
    "    'City': ['New York', 'London', 'Paris', 'Berlin', 'Tokyo']\n",
    "}\n",
    "\n",
    "df = pd.DataFrame(data)\n"
   ]
  },
  {
   "cell_type": "code",
   "execution_count": 65,
   "id": "238650f5-aeed-4b76-8ea7-51a7a08c4e5a",
   "metadata": {},
   "outputs": [],
   "source": [
    "# Age가 35 이상인 행들의 'Age' 값을 10 증가시킴 (map 적용)\n",
    "df.loc[df['Age'] >= 35, 'Age'] = df.loc[df['Age'] >= 35, 'Age'].map(lambda x: x + 10)\n"
   ]
  },
  {
   "cell_type": "code",
   "execution_count": 66,
   "id": "9bb52af8-69ba-490b-bf58-db898504700f",
   "metadata": {},
   "outputs": [],
   "source": [
    "# Name이 'Alice'인 행들의 'Name'을 대문자로 변경 (apply 적용)\n",
    "df.loc[df['Name'] == 'Alice', 'Name'] = df.loc[df['Name'] == 'Alice', 'Name'].apply(lambda x: x.upper())\n",
    "\n"
   ]
  },
  {
   "cell_type": "markdown",
   "id": "2e483499-19e8-4ce4-b38b-32a718bfbc52",
   "metadata": {},
   "source": [
    "## agg()\n",
    "agg() 함수를 사용하면 여러 개의 집계 함수를 동시에 적용할 수 있으며, 그룹화된 데이터에서 원하는 다양한 집계 연산을 손쉽게 수행할 수 있습니다.\n",
    "\n",
    "내장 집계 함수:\n",
    "\n",
    "| 이름 | 기능 |\n",
    "|--|--|\n",
    "|mean()| 평균을 계산합니다.|\n",
    "|sum()| 합계를 계산합니다.|\n",
    "|min()| 최소값을 찾습니다.|\n",
    "|max()| 최대값을 찾습니다.|\n",
    "|count()| 데이터의 개수를 세어줍니다.|\n",
    "|median()| 중앙값을 계산합니다.|\n",
    "|std()| 표준편차를 계산합니다.|\n",
    "|var()| 분산을 계산합니다.|\n",
    "|quantile(q)| q-분위수를 계산합니다. (0 <= q <= 1)|\n"
   ]
  },
  {
   "cell_type": "code",
   "execution_count": null,
   "id": "9bea9f5b-d7c0-4db8-b904-073c0cc63640",
   "metadata": {},
   "outputs": [],
   "source": [
    "import pandas as pd\n",
    "import numpy as np\n",
    "data = dict(\n",
    "    Name=\"Alice Bob Charlie David\".split(\" \"),\n",
    "    Math=np.random.randint(50,100,4),\n",
    "    Eng=np.random.randint(50,100,4),\n",
    ")\n",
    "df = pd.DataFrame(data)"
   ]
  },
  {
   "cell_type": "code",
   "execution_count": null,
   "id": "e864500b-f86c-4996-8921-211af1422321",
   "metadata": {},
   "outputs": [],
   "source": [
    "df"
   ]
  },
  {
   "cell_type": "code",
   "execution_count": null,
   "id": "b89c6433-02e4-4e43-80cf-53245884969a",
   "metadata": {},
   "outputs": [],
   "source": [
    "df.iloc[:,1:].agg([\"sum\", \"mean\", \"max\"])"
   ]
  },
  {
   "cell_type": "code",
   "execution_count": null,
   "id": "2c566ada-9d3c-4969-b45f-837d59140e74",
   "metadata": {},
   "outputs": [],
   "source": [
    "def mean_squared_error(s):\n",
    "    mean = s.mean()\n",
    "    return (sum((s-mean)**2))**.5"
   ]
  },
  {
   "cell_type": "code",
   "execution_count": null,
   "id": "c63133ab-a391-40da-bea3-e12bcbfa8eef",
   "metadata": {},
   "outputs": [],
   "source": [
    "df.iloc[:,1:].agg([\"std\", lambda x: x.idxmax(), mean_squared_error])"
   ]
  },
  {
   "cell_type": "code",
   "execution_count": null,
   "id": "e412eac2-a14b-4b78-bc59-2e319b0957ab",
   "metadata": {},
   "outputs": [],
   "source": [
    "import pandas as pd\n",
    "\n",
    "# 데이터 생성\n",
    "data = {\n",
    "    'Name': ['Alice', 'Bob', 'Charlie', 'David', 'Ella'],\n",
    "    'Age': [25, 30, 35, 40, 45],\n",
    "    'City': ['New York', 'London', 'Paris', 'Berlin', 'Tokyo']\n",
    "}\n",
    "\n",
    "df = pd.DataFrame(data)\n",
    "\n"
   ]
  },
  {
   "cell_type": "code",
   "execution_count": null,
   "id": "f354f422-ee31-4f77-9f4c-37e59341939f",
   "metadata": {},
   "outputs": [],
   "source": [
    "# Age가 35 이상인 행들만 필터링 (boolean vector 사용)\n",
    "age_condition = df['Age'] >= 35\n",
    "filtered_df = df[age_condition]\n"
   ]
  },
  {
   "cell_type": "code",
   "execution_count": null,
   "id": "7d4dfc68-6fdc-463e-a9ce-2dc00929a726",
   "metadata": {},
   "outputs": [],
   "source": [
    "# City가 'London'인 행들만 필터링 (boolean vector 사용)\n",
    "city_condition = df['City'] == 'London'\n",
    "filtered_df_2 = df[city_condition]"
   ]
  },
  {
   "cell_type": "markdown",
   "id": "e144495d-517d-466f-98e0-107e6648e14d",
   "metadata": {},
   "source": [
    "## 손실데이터 처리\n",
    "\n",
    "누락된 값(결측치)을 적절한 값으로 대체하는 것입니다. 판다스(Pandas)에서는 fillna() 메서드를 사용하여 누락된 값을 다른 값으로 채울 수 있습니다."
   ]
  },
  {
   "cell_type": "code",
   "execution_count": null,
   "id": "31413e2e-1284-46e4-bfcc-a5d3f6040ec6",
   "metadata": {},
   "outputs": [],
   "source": [
    "import pandas as pd\n",
    "import numpy as np\n",
    "\n",
    "# 데이터 생성 (일부 값이 누락된 데이터)\n",
    "data = {\n",
    "    'A': [1, 2, np.nan, 4, 5],\n",
    "    'B': [10, np.nan, 30, np.nan, 50],\n",
    "    'C': [100, 200, 300, np.nan, np.nan]\n",
    "}\n",
    "\n",
    "df = pd.DataFrame(data)\n",
    "\n",
    "print(\"Original DataFrame:\")\n",
    "print(df)\n",
    "\n"
   ]
  },
  {
   "cell_type": "code",
   "execution_count": null,
   "id": "91f35fa1-c15c-45bc-af82-8a2706e5b1cb",
   "metadata": {},
   "outputs": [],
   "source": [
    "# 손실데이터 갯수 확인\n",
    "print(df.isna().sum())\n",
    "print(df.isna().sum(axis=1))\n",
    "print(df.isna().sum().sum())"
   ]
  },
  {
   "cell_type": "code",
   "execution_count": null,
   "id": "669dc826-1f55-404b-813f-86980519cfb5",
   "metadata": {},
   "outputs": [],
   "source": [
    "# 누락된 값을 0으로 대체\n",
    "df_filled_with_zero = df.fillna(0)\n",
    "\n",
    "print(\"\\nDataFrame with Missing Values Filled with Zero:\")\n",
    "print(df_filled_with_zero)\n",
    "\n",
    "\n"
   ]
  },
  {
   "cell_type": "code",
   "execution_count": null,
   "id": "087e08ee-3cad-4a0d-a9a3-670ffd35dbcf",
   "metadata": {},
   "outputs": [],
   "source": [
    "# 누락된 값을 평균값으로 대체\n",
    "df_filled_with_mean = df.fillna(df.mean())\n",
    "\n",
    "print(\"\\nDataFrame with Missing Values Filled with Mean:\")\n",
    "print(df_filled_with_mean)\n",
    "\n"
   ]
  },
  {
   "cell_type": "code",
   "execution_count": null,
   "id": "5896223e-6dd0-4055-812b-b8454ac55855",
   "metadata": {},
   "outputs": [],
   "source": [
    "# 누락된 값을 바로 앞의 값으로 대체 (forward fill)\n",
    "df_filled_forward = df.fillna(method='ffill')\n",
    "\n",
    "print(\"\\nDataFrame with Missing Values Forward Filled:\")\n",
    "print(df_filled_forward)"
   ]
  },
  {
   "cell_type": "markdown",
   "id": "628c5e91-0406-4f5e-a61a-b3232929a334",
   "metadata": {},
   "source": [
    "# 데이터 붙이기\n",
    "\n",
    "merge()와 concat()은 판다스(Pandas)에서 데이터프레임을 합치는 데 사용되는 두 가지 중요한 메서드입니다. \n"
   ]
  },
  {
   "cell_type": "markdown",
   "id": "26a16f29-2d6d-47f9-8cdf-642604c7cc81",
   "metadata": {},
   "source": [
    "concat() 메서드:\n",
    "concat() 메서드는 여러 개의 데이터프레임을 행(axis=0) 또는 열(axis=1) 방향으로 합치는 데 사용됩니다.  \n",
    "기본적으로 데이터프레임을 단순히 연결하여 합치는 기능을 제공합니다.\n",
    "\n",
    "concat() 메서드의 형식:\n",
    "\n",
    "```python\n",
    "pd.concat(objs, axis=0, join='outer', ignore_index=False)\n",
    "```\n",
    "    \n",
    "- `objs`: 합치려는 데이터프레임을 리스트 형태로 전달합니다.\n",
    "- `axis`: 합치는 방향을 지정합니다. 0이면 행 방향, 1이면 열 방향입니다.\n",
    "- `join`: 합치는 방식을 지정합니다. 기본값은 'outer'로, 합집합을 반환합니다.\n",
    "- `ignore_index`: 기존 인덱스를 무시하고 새로운 인덱스를 생성하도록 지정합니다."
   ]
  },
  {
   "cell_type": "code",
   "execution_count": null,
   "id": "22ec34f9-20b4-4bdc-a775-7789ad5c80b5",
   "metadata": {},
   "outputs": [],
   "source": []
  },
  {
   "cell_type": "code",
   "execution_count": null,
   "id": "df5a096d-e3f4-48ca-9a50-a23f42f5b285",
   "metadata": {},
   "outputs": [],
   "source": [
    "\"\"\"\n",
    "\n",
    "concat() 메서드의 axis 매개변수를 사용하여 데이터프레임을 합칠 때 방향(행 또는 열)을 지정할 수 있습니다. axis 매개변수에는 0 또는 1을 입력할 수 있으며, 각각 행 방향과 열 방향을 의미합니다.\n",
    "\"\"\"\n",
    "import pandas as pd\n",
    "\n",
    "# 데이터 생성\n",
    "data1 = {\n",
    "    'ID': [1, 2, 3],\n",
    "    'Name': ['Alice', 'Bob', 'Charlie']\n",
    "}\n",
    "\n",
    "data2 = {\n",
    "    'Age': [25, 30, 35],\n",
    "    'City': ['New York', 'London', 'Paris']\n",
    "}\n",
    "\n",
    "df1 = pd.DataFrame(data1)\n",
    "df2 = pd.DataFrame(data2)\n",
    "\n",
    "\n",
    "\n",
    "\n",
    "\n"
   ]
  },
  {
   "cell_type": "code",
   "execution_count": null,
   "id": "c5fefa42-795a-4e35-b9eb-32e14f31fb02",
   "metadata": {},
   "outputs": [],
   "source": [
    "# concat 메서드에서 axis=0을 사용하여 행 방향으로 합치기\n",
    "concatenated_rows = pd.concat([df1, df2], axis=0)"
   ]
  },
  {
   "cell_type": "code",
   "execution_count": null,
   "id": "c1b30a2e-b4c2-4680-953d-d0cb1f777962",
   "metadata": {},
   "outputs": [],
   "source": [
    "# concat 메서드에서 axis=1을 사용하여 열 방향으로 합치기\n",
    "concatenated_columns = pd.concat([df1, df2], axis=1)\n"
   ]
  },
  {
   "cell_type": "code",
   "execution_count": null,
   "id": "903bc5d7-0483-465f-bd7c-4322430722be",
   "metadata": {},
   "outputs": [],
   "source": [
    "\"\"\"\n",
    "join:\n",
    "join='outer': 기본값으로, 인덱스가 겹치지 않는 경우에는 빈 값(NaN)으로 처리되며, 인덱스가 겹치는 경우에는 합집합으로 합쳐집니다.\n",
    "join='inner': 인덱스가 겹치는 경우에는 교집합으로 합쳐집니다.\n",
    "\"\"\"\n",
    "import pandas as pd\n",
    "\n",
    "# 데이터 생성\n",
    "data1 = {\n",
    "    'ID': [1, 2, 3],\n",
    "    'Name': ['Alice', 'Bob', 'Charlie']\n",
    "}\n",
    "\n",
    "data2 = {\n",
    "    'ID': [2, 3, 4],\n",
    "    'Age': [25, 30, 35]\n",
    "}\n",
    "\n",
    "df1 = pd.DataFrame(data1, index=[100, 101, 102])\n",
    "df2 = pd.DataFrame(data2, index=[101, 102, 103])\n",
    "\n"
   ]
  },
  {
   "cell_type": "code",
   "execution_count": null,
   "id": "71205ce1-ef36-4273-b601-d181d8912067",
   "metadata": {},
   "outputs": [],
   "source": [
    "df1, df2"
   ]
  },
  {
   "cell_type": "code",
   "execution_count": null,
   "id": "f77c7e9e-4832-4605-9ab2-2070810bc555",
   "metadata": {},
   "outputs": [],
   "source": [
    "# concat 메서드에서 join='outer'를 사용하여 기본값으로 합치기\n",
    "concatenated_outer = pd.concat([df1, df2], axis=1, join='outer')\n",
    "concatenated_outer"
   ]
  },
  {
   "cell_type": "code",
   "execution_count": null,
   "id": "c6e86c83-03d5-4b8a-8bc8-f0e30ef3418e",
   "metadata": {},
   "outputs": [],
   "source": [
    "# concat 메서드에서 join='inner'를 사용하여 교집합으로 합치기\n",
    "concatenated_inner = pd.concat([df1, df2], axis=1, join='inner')"
   ]
  },
  {
   "cell_type": "code",
   "execution_count": null,
   "id": "ae79c629-c1f4-401c-bda3-1e9599acb883",
   "metadata": {},
   "outputs": [],
   "source": [
    "concatenated_inner"
   ]
  },
  {
   "cell_type": "code",
   "execution_count": null,
   "id": "ad4941dc-85ed-4c8a-a41c-55af6e014079",
   "metadata": {},
   "outputs": [],
   "source": [
    "\"\"\"\n",
    "ignore_index 매개변수는 concat() 메서드를 사용할 때, 합치는 데이터프레임의 인덱스를 무시하고 새로운 인덱스를 생성할지 여부를 지정하는 옵션\n",
    "ignore_index=False (기본값): 합쳐진 데이터프레임에 대해 기존 데이터프레임의 인덱스를 유지합니다.\n",
    "ignore_index=True: 합쳐진 데이터프레임에 대해 기존 인덱스를 무시하고 새로운 연속적인 인덱스를 부여합니다.\n",
    "\"\"\"\n",
    "\n",
    "import pandas as pd\n",
    "\n",
    "# 데이터 생성\n",
    "data1 = {\n",
    "    'ID': [1, 2, 3],\n",
    "    'Name': ['Alice', 'Bob', 'Charlie']\n",
    "}\n",
    "\n",
    "data2 = {\n",
    "    'ID': [4, 5, 6],\n",
    "    'Name': ['David', 'Ella', 'Frank']\n",
    "}\n",
    "\n",
    "df1 = pd.DataFrame(data1)\n",
    "df2 = pd.DataFrame(data2)\n"
   ]
  },
  {
   "cell_type": "code",
   "execution_count": null,
   "id": "b900bf51-1a7a-49e3-a252-42ee6332a40f",
   "metadata": {},
   "outputs": [],
   "source": [
    "# ignore_index=False (기본값)인 경우\n",
    "concatenated_default = pd.concat([df1, df2])\n"
   ]
  },
  {
   "cell_type": "code",
   "execution_count": null,
   "id": "d733cf18-3c7a-4630-a8b0-3f88ca47443b",
   "metadata": {},
   "outputs": [],
   "source": [
    "# ignore_index=True로 설정하여 새로운 인덱스 생성\n",
    "concatenated_ignore_index = pd.concat([df1, df2], ignore_index=True)"
   ]
  },
  {
   "cell_type": "markdown",
   "id": "d4f48825-34cb-45af-81a3-e481f3d1ad54",
   "metadata": {},
   "source": [
    "1. merge() 메서드:\n",
    "merge() 메서드는 두 개의 데이터프레임을 특정 열(column)을 기준으로 합치는 데 사용됩니다. SQL의 JOIN 연산과 유사한 기능을 제공합니다.\n",
    "\n",
    "merge() 메서드의 형식:\n",
    "\n",
    "```python\n",
    "pd.merge(left, right, how='inner', on=None, left_on=None, right_on=None)\n",
    "```\n",
    "\n",
    "- `left`: 왼쪽에 있는 데이터프레임을 지정합니다.\n",
    "- `right`: 오른쪽에 있는 데이터프레임을 지정합니다.\n",
    "- `how`: 합치는 방식을 지정합니다. 기본값은 'inner'로, 교집합을 반환합니다. `outer`, `left`, `right` 등이 가능합니다.\n",
    "- `on`, `left_on`, `right_on`: 합치는 기준 열을 지정합니다.\n"
   ]
  },
  {
   "cell_type": "code",
   "execution_count": null,
   "id": "a7db06bd-0311-4aad-a03f-e2e4a4d6825c",
   "metadata": {},
   "outputs": [],
   "source": [
    "import pandas as pd\n",
    "\n",
    "# 데이터 생성\n",
    "data1 = {\n",
    "    'ID': [1, 2, 3, 4, 5],\n",
    "    'Name': ['Alice', 'Bob', 'Charlie', 'David', 'Ella']\n",
    "}\n",
    "\n",
    "data2 = {\n",
    "    'ID': [3, 4, 5, 6, 7],\n",
    "    'Age': [25, 30, 35, 40, 45]\n",
    "}\n",
    "\n",
    "df1 = pd.DataFrame(data1)\n",
    "df2 = pd.DataFrame(data2)\n"
   ]
  },
  {
   "cell_type": "markdown",
   "id": "04459d0a-6be7-4648-b54d-d522459eb1ab",
   "metadata": {},
   "source": [
    "```python\n",
    "\"\"\"\n",
    "how 매개변수를 사용하여 'inner', 'outer', 'left', 'right' 방식으로 두 데이터프레임을 합치는 방법\n",
    "\n",
    "'inner join': 두 데이터프레임의 'ID' 열을 비교하여 공통된 'ID' 값만 합칩니다.\n",
    "'outer join': 두 데이터프레임의 모든 행을 합치며, 'ID' 값이 하나라도 있는 경우에는 해당 값을, 둘 다 없는 경우에는 NaN으로 처리합니다.\n",
    "'left join': 첫 번째 데이터프레임 df1의 모든 행을 합칩니다. 두 데이터프레임의 'ID' 열을 비교하여 공통된 'ID' 값만 합치며, 'df1'의 모든 행은 보존됩니다.\n",
    "'right join': 두 번째 데이터프레임 df2의 모든 행을 합칩니다. 두 데이터프레임의 'ID' 열을 비교하여 공통된 'ID' 값만 합치며, 'df2'의 모든 행은 보존됩니다.\n",
    "\"\"\"\n",
    "```"
   ]
  },
  {
   "cell_type": "code",
   "execution_count": null,
   "id": "950294b1-1b1f-4939-9856-dfb7b20b5cb4",
   "metadata": {},
   "outputs": [],
   "source": [
    "# 'ID' 열을 기준으로 두 데이터프레임 합치기 (inner join)\n",
    "merged_inner = pd.merge(df1, df2, on='ID')"
   ]
  },
  {
   "cell_type": "code",
   "execution_count": null,
   "id": "c9126a3b-4d07-483c-b156-55255827b56b",
   "metadata": {},
   "outputs": [],
   "source": [
    "# 'ID' 열을 기준으로 두 데이터프레임 합치기 (outer join)\n",
    "merged_outer = pd.merge(df1, df2, on='ID', how='outer')"
   ]
  },
  {
   "cell_type": "code",
   "execution_count": null,
   "id": "ebdfdf09-24ba-4a48-aa7c-6d271d18c15c",
   "metadata": {},
   "outputs": [],
   "source": [
    "# 'ID' 열을 기준으로 두 데이터프레임 합치기 (left join)\n",
    "merged_left = pd.merge(df1, df2, on='ID', how='left')"
   ]
  },
  {
   "cell_type": "code",
   "execution_count": null,
   "id": "2766c3a2-61d3-406b-9efe-186632b7469a",
   "metadata": {},
   "outputs": [],
   "source": [
    "# 'ID' 열을 기준으로 두 데이터프레임 합치기 (right join)\n",
    "merged_right = pd.merge(df1, df2, on='ID', how='right')"
   ]
  },
  {
   "cell_type": "code",
   "execution_count": null,
   "id": "040671c5-bdc3-452e-9010-7334166d6789",
   "metadata": {},
   "outputs": [],
   "source": [
    "\"\"\"\n",
    "\n",
    "on, left_on, right_on은 merge() 메서드에서 사용되는 매개변수로, 두 데이터프레임을 특정 열을 기준으로 합칠 때 해당 열들을 지정하는 역할을 합니다.\n",
    "left_on, right_on 매개변수를 사용하여 두 데이터프레임이 서로 다른 열 이름을 가지고 있을 때도 쉽게 합치는 것이 가능합니다.\n",
    "\"\"\"\n",
    "import pandas as pd\n",
    "\n",
    "# 데이터 생성\n",
    "data1 = {\n",
    "    'ID': [1, 2, 3],\n",
    "    'Name': ['Alice', 'Bob', 'Charlie']\n",
    "}\n",
    "\n",
    "data2 = {\n",
    "    'ID': [1, 2, 3],\n",
    "    'Age': [25, 30, 35]\n",
    "}\n",
    "\n",
    "data3 = {\n",
    "    'StudentID': [2, 3, 4],\n",
    "    'Age': [25, 30, 35]\n",
    "}\n",
    "\n",
    "\n",
    "df1 = pd.DataFrame(data1)\n",
    "df2 = pd.DataFrame(data2)\n",
    "df3 = pd.DataFrame(data3)\n"
   ]
  },
  {
   "cell_type": "code",
   "execution_count": null,
   "id": "f34d40bf-bb03-4d8d-9a1f-004ef4e33805",
   "metadata": {},
   "outputs": [],
   "source": [
    "\n",
    "# 'ID' 열을 기준으로 두 데이터프레임 합치기\n",
    "merged_on = pd.merge(df1, df2, on='ID')"
   ]
  },
  {
   "cell_type": "code",
   "execution_count": null,
   "id": "75cb20b2-9086-4b8c-9dc2-74ffd35eb3ab",
   "metadata": {},
   "outputs": [],
   "source": [
    "merged_on"
   ]
  },
  {
   "cell_type": "code",
   "execution_count": null,
   "id": "2d299264-6571-4b9a-8fc2-1344778630bf",
   "metadata": {},
   "outputs": [],
   "source": [
    "merged_on = pd.merge(df1, df3, on='ID') # KeyError"
   ]
  },
  {
   "cell_type": "code",
   "execution_count": null,
   "id": "22100665-b1b4-4dc8-bfa1-95ff1325a47a",
   "metadata": {},
   "outputs": [],
   "source": [
    "# 'ID'와 'StudentID' 열을 기준으로 두 데이터프레임 합치기\n",
    "merged_left_on_right_on = pd.merge(df1, df3, left_on='ID', right_on='StudentID')"
   ]
  },
  {
   "cell_type": "code",
   "execution_count": null,
   "id": "bb3c2fdb-e56a-4dfd-aaf1-0f00f8b06304",
   "metadata": {},
   "outputs": [],
   "source": [
    "merged_left_on_right_on"
   ]
  },
  {
   "cell_type": "markdown",
   "id": "e59a8666-3202-4133-8973-676dfc1edfe4",
   "metadata": {},
   "source": [
    "# 인덱스\n",
    "데이터프레임의 인덱스(Index)는 행의 식별자(identifier)를 나타내는 레이블(Label)을 포함하는 구조입니다. 판다스의 데이터프레임은 행과 열로 이루어진 2차원 테이블이며, 행의 개별적인 식별을 위해 인덱스를 사용합니다. 인덱스는 데이터프레임의 각 행에 대한 고유한 레이블로서, 따로 지정하지 않으면 기본적으로 0부터 시작하는 정수 인덱스가 사용됩니다.\n",
    "\n",
    "고유성: 인덱스는 각 행을 식별하는 데에 사용되므로 고유해야 합니다. \n",
    "\n",
    "불변성: 인덱스는 변경할 수 없는 불변(immutable)한 속성을 가집니다. 기존 인덱스 값을 직접 변경하는 것은 불가능하며, 새로운 데이터프레임을 생성하거나 인덱스를 재설정하는 방식으로 인덱스를 변경할 수 있습니다.\n",
    "\n",
    "유형: 인덱스는 문자열, 정수, 날짜 등 다양한 유형을 가질 수 있습니다. 기본 인덱스로 정수 인덱스가 사용되지만, 필요에 따라 유저가 직접 인덱스를 지정할 수 있습니다.\n",
    "\n"
   ]
  },
  {
   "cell_type": "code",
   "execution_count": 69,
   "id": "39eaeb15-ca58-4480-b9cf-288a586ecbf3",
   "metadata": {},
   "outputs": [],
   "source": [
    "import pandas as pd\n",
    "\n",
    "# 주식 가격 데이터 생성\n",
    "data = {\n",
    "    'Date': ['2023-08-01', '2023-08-02', '2023-08-03', '2023-08-04', '2023-08-05'],\n",
    "    'Open': [1000, 1050, 1020, 1080, 1100],\n",
    "    'High': [1020, 1100, 1040, 1120, 1120],\n",
    "    'Low': [980, 1040, 1000, 1060, 1080],\n",
    "    'Close': [1010, 1080, 1030, 1100, 1100],\n",
    "}\n",
    "\n",
    "df = pd.DataFrame(data)"
   ]
  },
  {
   "cell_type": "code",
   "execution_count": null,
   "id": "d9da335a-c30e-4f2e-96a1-8ebf0b93d7d1",
   "metadata": {},
   "outputs": [],
   "source": [
    "# 인덱스 활용 예제 1: 인덱스 설정\n",
    "df.set_index('Date', inplace=True)"
   ]
  },
  {
   "cell_type": "code",
   "execution_count": null,
   "id": "915827dd-bea6-45ce-9929-e28c81bfd1e1",
   "metadata": {},
   "outputs": [],
   "source": [
    "# 인덱스 활용 예제 2: 인덱싱 및 슬라이싱\n",
    "print(df.loc['2023-08-03'])"
   ]
  },
  {
   "cell_type": "code",
   "execution_count": null,
   "id": "aaef7d40-ac6d-48bc-80b8-cd5c8bdc9d82",
   "metadata": {},
   "outputs": [],
   "source": [
    "# 특정 기간의 주식 정보 가져오기\n",
    "print(df.loc['2023-08-02':'2023-08-04'])"
   ]
  },
  {
   "cell_type": "code",
   "execution_count": 70,
   "id": "543f9750-694f-470d-9c3d-115fdf8d519b",
   "metadata": {},
   "outputs": [],
   "source": [
    "# 인덱스 리셋\n",
    "df.reset_index(inplace=True)"
   ]
  },
  {
   "cell_type": "markdown",
   "id": "58acf5d6-f9bf-4434-b1d9-9af0cf815c79",
   "metadata": {},
   "source": [
    "# 다중인덱스\n",
    "\n",
    "파이썬의 판다스 라이브러리에서는 MultiIndex(다중 인덱스)를 사용하여 데이터프레임의 인덱스에 여러 수준의 레이블을 가지게 할 수 있습니다. MultiIndex를 사용하면 데이터프레임을 여러 차원으로 분류하고 계층적으로 인덱싱할 수 있습니다. \n",
    "\n",
    "계층 구조: MultiIndex는 인덱스의 각 레벨에 대해 계층 구조를 제공합니다. 여러 레벨의 인덱스를 사용하여 데이터를 조직화하고 더욱 복잡한 분석을 수행할 수 있습니다.\n",
    "\n",
    "인덱싱 및 슬라이싱: MultiIndex를 사용하여 특정 레벨의 인덱스를 기준으로 데이터를 인덱싱하고 슬라이싱할 수 있습니다. 이는 데이터를 계층적으로 관리하고 필요한 정보를 빠르게 추출하는 데 도움이 됩니다.\n"
   ]
  },
  {
   "cell_type": "code",
   "execution_count": 74,
   "id": "8d57374d-47d8-4969-b2b1-4b014552670e",
   "metadata": {},
   "outputs": [],
   "source": [
    "import pandas as pd\n",
    "\n",
    "# 다중 인덱스 생성 예제\n",
    "data = {\n",
    "    'Year': [2019, 2019, 2020, 2020, 2021, 2021],\n",
    "    'Quarter': [1, 2, 1, 2, 1, 2],\n",
    "    'Revenue': [100, 120, 110, 130, 120, 140],\n",
    "    'Profit': [20, 25, 22, 28, 24, 30]\n",
    "}\n",
    "\n",
    "df = pd.DataFrame(data)\n",
    "multi_index_df = df.set_index(['Year', 'Quarter'])\n"
   ]
  },
  {
   "cell_type": "code",
   "execution_count": 77,
   "id": "d5bddeed-e357-4c85-afb7-c6d8e0b8596c",
   "metadata": {},
   "outputs": [
    {
     "data": {
      "text/html": [
       "<div>\n",
       "<style scoped>\n",
       "    .dataframe tbody tr th:only-of-type {\n",
       "        vertical-align: middle;\n",
       "    }\n",
       "\n",
       "    .dataframe tbody tr th {\n",
       "        vertical-align: top;\n",
       "    }\n",
       "\n",
       "    .dataframe thead th {\n",
       "        text-align: right;\n",
       "    }\n",
       "</style>\n",
       "<table border=\"1\" class=\"dataframe\">\n",
       "  <thead>\n",
       "    <tr style=\"text-align: right;\">\n",
       "      <th></th>\n",
       "      <th>Revenue</th>\n",
       "      <th>Profit</th>\n",
       "    </tr>\n",
       "    <tr>\n",
       "      <th>Quarter</th>\n",
       "      <th></th>\n",
       "      <th></th>\n",
       "    </tr>\n",
       "  </thead>\n",
       "  <tbody>\n",
       "    <tr>\n",
       "      <th>1</th>\n",
       "      <td>110</td>\n",
       "      <td>22</td>\n",
       "    </tr>\n",
       "    <tr>\n",
       "      <th>2</th>\n",
       "      <td>130</td>\n",
       "      <td>28</td>\n",
       "    </tr>\n",
       "  </tbody>\n",
       "</table>\n",
       "</div>"
      ],
      "text/plain": [
       "         Revenue  Profit\n",
       "Quarter                 \n",
       "1            110      22\n",
       "2            130      28"
      ]
     },
     "execution_count": 77,
     "metadata": {},
     "output_type": "execute_result"
    }
   ],
   "source": [
    "# 2020년 데이터만 선택\n",
    "multi_index_df.loc[2020]"
   ]
  },
  {
   "cell_type": "code",
   "execution_count": 78,
   "id": "eef79103-94a4-430e-9a07-8a667e82dd8a",
   "metadata": {},
   "outputs": [
    {
     "data": {
      "text/plain": [
       "Revenue    120\n",
       "Profit      25\n",
       "Name: (2019, 2), dtype: int64"
      ]
     },
     "execution_count": 78,
     "metadata": {},
     "output_type": "execute_result"
    }
   ],
   "source": [
    "\n",
    "# 2019년 2분기 데이터만 선택\n",
    "multi_index_df.loc[(2019, 2)]\n"
   ]
  },
  {
   "cell_type": "code",
   "execution_count": 79,
   "id": "6548742e-81fc-4794-a11a-326220549b11",
   "metadata": {},
   "outputs": [
    {
     "data": {
      "text/plain": [
       "Revenue    100\n",
       "Profit      20\n",
       "Name: (2019, 1), dtype: int64"
      ]
     },
     "execution_count": 79,
     "metadata": {},
     "output_type": "execute_result"
    }
   ],
   "source": [
    "# 2019년 1분기의 매출과 이익 선택\n",
    "multi_index_df.loc[(2019, 1), ['Revenue', 'Profit']]"
   ]
  },
  {
   "cell_type": "code",
   "execution_count": null,
   "id": "51d03433-cd2c-41aa-9262-2241e33fd6de",
   "metadata": {},
   "outputs": [],
   "source": []
  }
 ],
 "metadata": {
  "kernelspec": {
   "display_name": "Python 3 (ipykernel)",
   "language": "python",
   "name": "python3"
  },
  "language_info": {
   "codemirror_mode": {
    "name": "ipython",
    "version": 3
   },
   "file_extension": ".py",
   "mimetype": "text/x-python",
   "name": "python",
   "nbconvert_exporter": "python",
   "pygments_lexer": "ipython3",
   "version": "3.9.1"
  }
 },
 "nbformat": 4,
 "nbformat_minor": 5
}
