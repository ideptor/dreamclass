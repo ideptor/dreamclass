{
 "cells": [
  {
   "cell_type": "markdown",
   "id": "73ca9ec2-0082-42e3-a8b2-af674f3806de",
   "metadata": {},
   "source": [
    "# Pandas\n",
    "\n",
    "\n",
    "`Pandas`는 파이썬 프로그래밍 언어를 위한 `데이터 조작`과 `분석`을 위한 라이브러리로, 구조화된 데이터를 쉽게 조작하고 처리할 수 있도록 다양한 기능과 데이터 구조를 제공합니다.   \n",
    "주로 `표 형태의 데이터`를 다루는데 특화되어 있으며, `데이터프레임(DataFrame)`이라는 자료형을 제공하여 이러한 표 형태의 데이터를 효과적으로 다룰 수 있습니다.  \n",
    "`Pandas`는 `NumPy`를 기반으로 만들어져 있기 때문에 NumPy와 함께 사용하는 경우가 많습니다.\n",
    "\n",
    "Pandas의 주요 특징과 기능은 다음과 같습니다:\n",
    "\n",
    "- `DataFrame`: Pandas는 DataFrame이라는 자료형을 제공하여 `표 형태의 데이터`를 쉽게 다룰 수 있습니다. DataFrame은 `2차원 테이블` 형태로, `행`과 `열`로 구성되어 있으며, 각 `열은 서로 다른 데이터 타입`을 가질 수 있습니다.\n",
    "\n",
    "- `데이터 조작`: Pandas는 데이터를 쉽게 `필터링`, `정렬`, `그룹화`, `합치기` 등 다양한 조작을 할 수 있는 기능을 제공합니다. 이를 통해 데이터를 효율적으로 처리하고 분석할 수 있습니다.\n",
    "\n",
    "- `누락된 데이터 처리`: Pandas는 누락된 데이터(NaN)를 쉽게 처리할 수 있는 기능을 제공합니다. 누락된 데이터를 효율적으로 다룰 수 있어 `데이터의 빠른 전처리`가 가능합니다.\n",
    "\n",
    "- `데이터 시각화`: Pandas는 데이터를 시각화하는 기능을 제공하며, `Matplotlib와 함께 사용`하여 다양한 차트와 플롯을 그릴 수 있습니다.\n",
    "\n",
    "- `데이터 파일 입출력`: Pandas는 `CSV`, `Excel`, `SQL`, `JSON` 등 다양한 파일 형식으로 데이터를 읽고 쓸 수 있는 기능을 제공합니다.\n",
    "\n",
    "Pandas는 데이터 과학 및 데이터 분석 분야에서 매우 인기 있는 라이브러리이며, 데이터 전처리, 데이터 분석, 데이터 시각화 등 다양한 작업에 활용됩니다. Pandas를 사용하면 복잡한 데이터를 쉽게 다룰 수 있고, 데이터 분석과 관련된 작업을 더욱 효율적으로 수행할 수 있습니다."
   ]
  },
  {
   "cell_type": "markdown",
   "id": "d74a6ccc-46b4-41eb-bcae-e1152f266e26",
   "metadata": {},
   "source": [
    "## pandas 설치\n",
    "\n",
    "```bash\n",
    "pip install pandas\n",
    "```"
   ]
  },
  {
   "cell_type": "markdown",
   "id": "a654cb20-3a80-4514-95f2-4eb826e6a7b1",
   "metadata": {},
   "source": [
    "# Series:\n",
    "\n",
    "- `Series`는 `1차원 레이블된 배열`로, `NumPy의 1차원 배열과 유사`한 구조를 가지고 있습니다. \n",
    "- Series는 `인덱스(index)`와 `값(value)`으로 구성되어 있으며, 각 값은 해당하는 인덱스와 매핑됩니다. \n",
    "- Series는 일반적으로 `하나의 데이터 타입`으로 구성되어 있습니다."
   ]
  },
  {
   "cell_type": "markdown",
   "id": "0c197d93-2a13-4d9c-ae52-cabf3fb6fb3b",
   "metadata": {},
   "source": [
    "## Series 생성"
   ]
  },
  {
   "cell_type": "code",
   "execution_count": 16,
   "id": "e81423e6-e82c-4b5d-8eb1-b9af7c117a94",
   "metadata": {
    "tags": []
   },
   "outputs": [
    {
     "name": "stdout",
     "output_type": "stream",
     "text": [
      "0    10\n",
      "1    20\n",
      "2    30\n",
      "3    40\n",
      "4    50\n",
      "dtype: int64\n"
     ]
    }
   ],
   "source": [
    "\"\"\"\n",
    "리스트를 활용한 Series 생성:\n",
    "\"\"\"\n",
    "import pandas as pd\n",
    "\n",
    "# 리스트를 사용하여 Series 생성\n",
    "data = [10, 20, 30, 40, 50]\n",
    "s = pd.Series(data)\n",
    "print(s)"
   ]
  },
  {
   "cell_type": "code",
   "execution_count": 21,
   "id": "72ea8dab-7e7d-475a-8874-81d4bd3cd19b",
   "metadata": {
    "tags": []
   },
   "outputs": [
    {
     "data": {
      "text/plain": [
       "array([10, 20, 30, 40, 50])"
      ]
     },
     "execution_count": 21,
     "metadata": {},
     "output_type": "execute_result"
    }
   ],
   "source": [
    "s.values"
   ]
  },
  {
   "cell_type": "code",
   "execution_count": 22,
   "id": "560bf245-28eb-4e84-83dc-fb545196e209",
   "metadata": {
    "tags": []
   },
   "outputs": [
    {
     "data": {
      "text/plain": [
       "numpy.ndarray"
      ]
     },
     "execution_count": 22,
     "metadata": {},
     "output_type": "execute_result"
    }
   ],
   "source": [
    "type(s.values)"
   ]
  },
  {
   "cell_type": "code",
   "execution_count": 6,
   "id": "d1e60b59-94fd-482a-818d-950c9d8cc087",
   "metadata": {
    "tags": []
   },
   "outputs": [
    {
     "name": "stdout",
     "output_type": "stream",
     "text": [
      "a    10\n",
      "b    20\n",
      "c    30\n",
      "d    40\n",
      "dtype: int64\n"
     ]
    }
   ],
   "source": [
    "\"\"\"\n",
    "딕셔너리를 활용한 Series 생성:\n",
    "\"\"\"\n",
    "import pandas as pd\n",
    "\n",
    "# 딕셔너리를 사용하여 Series 생성\n",
    "data = {'a': 10, 'b': 20, 'c': 30, 'd': 40}\n",
    "s = pd.Series(data)\n",
    "print(s)"
   ]
  },
  {
   "cell_type": "code",
   "execution_count": 9,
   "id": "ced79f5f-e069-4c0b-a5c8-da0b4d2544db",
   "metadata": {
    "tags": []
   },
   "outputs": [
    {
     "name": "stdout",
     "output_type": "stream",
     "text": [
      "0    10\n",
      "1    20\n",
      "2    30\n",
      "3    40\n",
      "4    50\n",
      "dtype: int64\n"
     ]
    }
   ],
   "source": [
    "\"\"\"\n",
    "NumPy 배열을 활용한 Series 생성:\n",
    "\"\"\"\n",
    "import pandas as pd\n",
    "import numpy as np\n",
    "\n",
    "# NumPy 배열을 사용하여 Series 생성\n",
    "data = np.array([10, 20, 30, 40, 50])\n",
    "s = pd.Series(data)\n",
    "print(s)\n"
   ]
  },
  {
   "cell_type": "code",
   "execution_count": 11,
   "id": "76a2bebf-07c9-4154-b2ce-f4f9ab56e8cc",
   "metadata": {
    "tags": []
   },
   "outputs": [
    {
     "name": "stdout",
     "output_type": "stream",
     "text": [
      "a    5\n",
      "b    5\n",
      "c    5\n",
      "d    5\n",
      "e    5\n",
      "dtype: int64\n"
     ]
    }
   ],
   "source": [
    "\"\"\"\n",
    "스칼라 값과 인덱스를 활용한 Series 생성:\n",
    "\"\"\"\n",
    "import pandas as pd\n",
    "\n",
    "# 스칼라 값과 인덱스를 사용하여 Series 생성\n",
    "s = pd.Series(5, index=['a', 'b', 'c', 'd', 'e'])\n",
    "print(s)\n"
   ]
  },
  {
   "cell_type": "code",
   "execution_count": 12,
   "id": "b412883c-4d7d-44d9-8350-586765f7ccf1",
   "metadata": {
    "tags": []
   },
   "outputs": [
    {
     "data": {
      "text/plain": [
       "(pandas.core.indexes.base.Index, numpy.ndarray)"
      ]
     },
     "execution_count": 12,
     "metadata": {},
     "output_type": "execute_result"
    }
   ],
   "source": [
    "type(s.index), type(s.values)"
   ]
  },
  {
   "cell_type": "markdown",
   "id": "f06f150f-2f70-4326-9787-d3bb197717dc",
   "metadata": {},
   "source": [
    "## Series와 index\n",
    "\n",
    "Series의 인덱스(Index)는 Pandas의 1차원 레이블된 배열로, 각 값에 대한 고유한 식별자(identifier)를 제공합니다. Series의 인덱스는 각 원소에 접근하고 식별하는 데 사용되며, 행의 레이블로 사용됩니다. 인덱스는 레이블, 숫자, 날짜, 문자열 등의 다양한 데이터 타입을 가질 수 있습니다."
   ]
  },
  {
   "cell_type": "code",
   "execution_count": 13,
   "id": "b003f2a9-5d82-4a03-9c9c-580094eeb1cb",
   "metadata": {
    "tags": []
   },
   "outputs": [
    {
     "name": "stdout",
     "output_type": "stream",
     "text": [
      "0    10\n",
      "1    20\n",
      "2    30\n",
      "3    40\n",
      "4    50\n",
      "dtype: int64\n",
      "RangeIndex(start=0, stop=5, step=1)\n"
     ]
    }
   ],
   "source": [
    "\"\"\"\n",
    "기본 인덱스:\n",
    "기본 인덱스는 0부터 시작하는 정수로 자동으로 생성됩니다.\n",
    "\"\"\"\n",
    "import pandas as pd\n",
    "\n",
    "# 리스트를 사용하여 Series 생성 (기본 인덱스)\n",
    "data = [10, 20, 30, 40, 50]\n",
    "s = pd.Series(data)\n",
    "print(s)\n",
    "print(s.index)\n"
   ]
  },
  {
   "cell_type": "code",
   "execution_count": 14,
   "id": "50351ea9-9222-448e-be87-518c80bd3ba5",
   "metadata": {
    "tags": []
   },
   "outputs": [
    {
     "name": "stdout",
     "output_type": "stream",
     "text": [
      "a    10\n",
      "b    20\n",
      "c    30\n",
      "d    40\n",
      "dtype: int64\n",
      "Index(['a', 'b', 'c', 'd'], dtype='object')\n"
     ]
    }
   ],
   "source": [
    "\"\"\"\n",
    "사용자 정의 인덱스:\n",
    "사용자 정의 인덱스는 특정 값을 사용자가 직접 지정할 수 있습니다.\n",
    "\"\"\"\n",
    "import pandas as pd\n",
    "\n",
    "# 딕셔너리를 사용하여 Series 생성 (사용자 정의 인덱스)\n",
    "data = {'a': 10, 'b': 20, 'c': 30, 'd': 40}\n",
    "s = pd.Series(data)\n",
    "print(s)\n",
    "print(s.index)\n"
   ]
  },
  {
   "cell_type": "code",
   "execution_count": 15,
   "id": "daa35d89-e2b6-406f-baf3-83de354407b4",
   "metadata": {
    "tags": []
   },
   "outputs": [
    {
     "name": "stdout",
     "output_type": "stream",
     "text": [
      "A    10\n",
      "B    20\n",
      "C    30\n",
      "D    40\n",
      "E    50\n",
      "dtype: int64\n",
      "Index(['A', 'B', 'C', 'D', 'E'], dtype='object')\n"
     ]
    }
   ],
   "source": [
    "\"\"\"\n",
    "index 파라미터 활용\n",
    "\"\"\"\n",
    "import pandas as pd\n",
    "\n",
    "# Series 생성\n",
    "data = [10, 20, 30, 40, 50]\n",
    "index = ['A', 'B', 'C', 'D', 'E']\n",
    "s = pd.Series(data, index=index)\n",
    "print(s)\n",
    "print(s.index)\n"
   ]
  },
  {
   "cell_type": "markdown",
   "id": "19ae6a82-aac0-4128-922c-00d7d9933b42",
   "metadata": {},
   "source": [
    "## index를 활용하여 데이터 접근"
   ]
  },
  {
   "cell_type": "code",
   "execution_count": 89,
   "id": "71798854-310c-4ce2-89ff-b886fac1e299",
   "metadata": {},
   "outputs": [
    {
     "name": "stdout",
     "output_type": "stream",
     "text": [
      "20\n"
     ]
    }
   ],
   "source": [
    "\"\"\"\n",
    "인덱스 레이블을 사용하여 접근:\n",
    "\"\"\"\n",
    "import pandas as pd\n",
    "\n",
    "# Series 생성\n",
    "data = [10, 20, 30, 40, 50]\n",
    "index = ['A', 'B', 'C', 'D', 'E']\n",
    "s = pd.Series(data, index=index)\n",
    "\n",
    "# 인덱스 레이블을 사용하여 값에 접근\n",
    "print(s['B'])  # 레이블 'B'에 해당하는 값에 접근\n"
   ]
  },
  {
   "cell_type": "code",
   "execution_count": 90,
   "id": "6ff70d25-11ce-4f2b-8136-21042057ead6",
   "metadata": {},
   "outputs": [
    {
     "name": "stdout",
     "output_type": "stream",
     "text": [
      "20\n"
     ]
    }
   ],
   "source": [
    "\"\"\"\n",
    "인덱스 레이블을 사용하여 접근:\n",
    "\"\"\"\n",
    "import pandas as pd\n",
    "\n",
    "# Series 생성\n",
    "data = [10, 20, 30, 40, 50]\n",
    "index = ['A', 'B', 'C', 'D', 'E']\n",
    "s = pd.Series(data, index=index)\n",
    "\n",
    "# 인덱스 레이블을 사용하여 값에 접근\n",
    "print(s.loc['B'])  # 레이블 'B'에 해당하는 값에 접근\n"
   ]
  },
  {
   "cell_type": "code",
   "execution_count": 92,
   "id": "b86f746f-459b-4709-923b-ba49378e5142",
   "metadata": {},
   "outputs": [
    {
     "name": "stdout",
     "output_type": "stream",
     "text": [
      "30\n"
     ]
    }
   ],
   "source": [
    "\"\"\"\n",
    "정수 인덱스를 사용하여 접근:\n",
    "\"\"\"\n",
    "import pandas as pd\n",
    "\n",
    "# Series 생성\n",
    "data = [10, 20, 30, 40, 50]\n",
    "index = ['A', 'B', 'C', 'D', 'E']\n",
    "s = pd.Series(data, index=index)\n",
    "\n",
    "# 정수 인덱스를 사용하여 값에 접근\n",
    "print(s[2])  # 정수 인덱스 2에 해당하는 값에 접근 (레이블 'C'와 동일)\n"
   ]
  },
  {
   "cell_type": "code",
   "execution_count": 91,
   "id": "17d5dc1f-5cab-4cea-8938-5d3f5605db9d",
   "metadata": {},
   "outputs": [
    {
     "name": "stdout",
     "output_type": "stream",
     "text": [
      "30\n"
     ]
    }
   ],
   "source": [
    "\"\"\"\n",
    "정수 인덱스를 사용하여 접근:\n",
    "\"\"\"\n",
    "import pandas as pd\n",
    "\n",
    "# Series 생성\n",
    "data = [10, 20, 30, 40, 50]\n",
    "index = ['A', 'B', 'C', 'D', 'E']\n",
    "s = pd.Series(data, index=index)\n",
    "\n",
    "# 정수 인덱스를 사용하여 값에 접근\n",
    "print(s.iloc[2])  # 정수 인덱스 2에 해당하는 값에 접근 (레이블 'C'와 동일)\n"
   ]
  },
  {
   "cell_type": "markdown",
   "id": "6968a7e9-4fac-41f0-8891-e3798058a80b",
   "metadata": {
    "tags": []
   },
   "source": [
    "## 필터링"
   ]
  },
  {
   "cell_type": "code",
   "execution_count": 2,
   "id": "8bca5874-163d-4e60-ab81-32d10b5bfb50",
   "metadata": {
    "tags": []
   },
   "outputs": [],
   "source": [
    "import pandas as pd\n",
    "\n",
    "# Series 생성\n",
    "data = [10, 20, 30, 40, 50]\n",
    "index = ['A', 'B', 'C', 'D', 'E']\n",
    "s = pd.Series(data, index=index)\n"
   ]
  },
  {
   "cell_type": "code",
   "execution_count": 3,
   "id": "f3403a42-0b34-45a1-8928-dfe9148e4b0d",
   "metadata": {
    "tags": []
   },
   "outputs": [
    {
     "data": {
      "text/plain": [
       "D    40\n",
       "E    50\n",
       "dtype: int64"
      ]
     },
     "execution_count": 3,
     "metadata": {},
     "output_type": "execute_result"
    }
   ],
   "source": [
    "# 30 초과인 경우만 출력\n",
    "s[s>30]"
   ]
  },
  {
   "cell_type": "code",
   "execution_count": 6,
   "id": "68c4d14d-2062-4396-b1de-228dfc9c8992",
   "metadata": {
    "tags": []
   },
   "outputs": [
    {
     "data": {
      "text/plain": [
       "D    40\n",
       "dtype: int64"
      ]
     },
     "execution_count": 6,
     "metadata": {},
     "output_type": "execute_result"
    }
   ],
   "source": [
    "# 30초과 50미만\n",
    "s[(s>30) & (s<50)]"
   ]
  },
  {
   "cell_type": "code",
   "execution_count": 7,
   "id": "fbc09894-2f25-4c99-be2e-05fa877e9df8",
   "metadata": {
    "tags": []
   },
   "outputs": [
    {
     "data": {
      "text/plain": [
       "B    20\n",
       "D    40\n",
       "dtype: int64"
      ]
     },
     "execution_count": 7,
     "metadata": {},
     "output_type": "execute_result"
    }
   ],
   "source": [
    "# 20이거나 40이거나\n",
    "s[(s==20) | (s==40)]"
   ]
  },
  {
   "cell_type": "code",
   "execution_count": 10,
   "id": "c3a30b7f-7b36-46c4-948a-d49db9837e88",
   "metadata": {
    "tags": []
   },
   "outputs": [
    {
     "data": {
      "text/plain": [
       "B    20\n",
       "D    40\n",
       "dtype: int64"
      ]
     },
     "execution_count": 10,
     "metadata": {},
     "output_type": "execute_result"
    }
   ],
   "source": [
    "s[s.isin([20,40])]"
   ]
  },
  {
   "cell_type": "code",
   "execution_count": 8,
   "id": "7860bf96-a42b-4f5c-a93f-e89a04c9cb41",
   "metadata": {
    "tags": []
   },
   "outputs": [
    {
     "data": {
      "text/plain": [
       "A    10\n",
       "C    30\n",
       "D    40\n",
       "E    50\n",
       "dtype: int64"
      ]
     },
     "execution_count": 8,
     "metadata": {},
     "output_type": "execute_result"
    }
   ],
   "source": [
    "# 20이 아닌 경우만\n",
    "s[~(s==20)]"
   ]
  },
  {
   "cell_type": "code",
   "execution_count": 9,
   "id": "5836416b-ae0f-42ff-a2bc-d82861deac18",
   "metadata": {
    "tags": []
   },
   "outputs": [
    {
     "data": {
      "text/plain": [
       "A    10\n",
       "C    30\n",
       "D    40\n",
       "E    50\n",
       "dtype: int64"
      ]
     },
     "execution_count": 9,
     "metadata": {},
     "output_type": "execute_result"
    }
   ],
   "source": [
    "s[s!=20]"
   ]
  },
  {
   "cell_type": "code",
   "execution_count": 66,
   "id": "0d241fa3-1043-45f9-b1d3-253b1e5e77bd",
   "metadata": {
    "tags": []
   },
   "outputs": [
    {
     "data": {
      "text/plain": [
       "A    10\n",
       "B    20\n",
       "E    50\n",
       "dtype: int64"
      ]
     },
     "execution_count": 66,
     "metadata": {},
     "output_type": "execute_result"
    }
   ],
   "source": [
    "# bool vector를 활용한 필터링\n",
    "s[[True, True, False, False, True]]"
   ]
  },
  {
   "cell_type": "code",
   "execution_count": 43,
   "id": "f302e42b-aa1d-4db6-bbcd-c0e238c43231",
   "metadata": {
    "tags": []
   },
   "outputs": [
    {
     "data": {
      "text/plain": [
       "A    10\n",
       "B    20\n",
       "D    40\n",
       "dtype: int64"
      ]
     },
     "execution_count": 43,
     "metadata": {},
     "output_type": "execute_result"
    }
   ],
   "source": [
    "# 인덱스가 \"A\", \"B\", \"D\" 만 필터링\n",
    "s.loc[[\"A\", \"B\", \"D\"]]"
   ]
  },
  {
   "cell_type": "code",
   "execution_count": 44,
   "id": "89ab80b6-2927-42fe-9cfc-1d12421d8633",
   "metadata": {
    "tags": []
   },
   "outputs": [
    {
     "data": {
      "text/plain": [
       "A    10\n",
       "B    20\n",
       "D    40\n",
       "dtype: int64"
      ]
     },
     "execution_count": 44,
     "metadata": {},
     "output_type": "execute_result"
    }
   ],
   "source": [
    "s[[\"A\", \"B\", \"D\"]]"
   ]
  },
  {
   "cell_type": "code",
   "execution_count": 45,
   "id": "66d44ad9-1044-4024-a3ad-77cfe7a4522e",
   "metadata": {
    "tags": []
   },
   "outputs": [
    {
     "data": {
      "text/plain": [
       "A    10\n",
       "B    20\n",
       "E    50\n",
       "dtype: int64"
      ]
     },
     "execution_count": 45,
     "metadata": {},
     "output_type": "execute_result"
    }
   ],
   "source": [
    "# 0,1,4번째 데이터만 필터링\n",
    "s.iloc[[0,1,4]]"
   ]
  },
  {
   "cell_type": "code",
   "execution_count": 46,
   "id": "7092b016-50d9-4d10-8429-43a50c79e5c7",
   "metadata": {
    "tags": []
   },
   "outputs": [
    {
     "data": {
      "text/plain": [
       "A    10\n",
       "B    20\n",
       "E    50\n",
       "dtype: int64"
      ]
     },
     "execution_count": 46,
     "metadata": {},
     "output_type": "execute_result"
    }
   ],
   "source": [
    "s[[0,1,4]]"
   ]
  },
  {
   "cell_type": "markdown",
   "id": "d7121e12-9177-4eee-823d-b2ec6ad8827b",
   "metadata": {},
   "source": [
    "## 슬라이싱"
   ]
  },
  {
   "cell_type": "code",
   "execution_count": 37,
   "id": "573a81a5-f293-418b-b9f7-9e5a37b05475",
   "metadata": {
    "tags": []
   },
   "outputs": [],
   "source": [
    "import pandas as pd\n",
    "\n",
    "# Series 생성\n",
    "data = [10, 20, 30, 40, 50]\n",
    "index = ['A', 'B', 'C', 'D', 'E']\n",
    "s = pd.Series(data, index=index)"
   ]
  },
  {
   "cell_type": "code",
   "execution_count": 47,
   "id": "d70dfac6-0bbd-42df-87ec-86792c07ca4c",
   "metadata": {
    "tags": []
   },
   "outputs": [
    {
     "data": {
      "text/plain": [
       "B    20\n",
       "C    30\n",
       "D    40\n",
       "dtype: int64"
      ]
     },
     "execution_count": 47,
     "metadata": {},
     "output_type": "execute_result"
    }
   ],
   "source": [
    "# \"B\":\"D\"까지\n",
    "s.loc[\"B\":\"D\"]"
   ]
  },
  {
   "cell_type": "code",
   "execution_count": 13,
   "id": "b7baa358-c24d-4fd6-90de-1d5b61914d2d",
   "metadata": {
    "tags": []
   },
   "outputs": [
    {
     "data": {
      "text/plain": [
       "B    20\n",
       "C    30\n",
       "D    40\n",
       "dtype: int64"
      ]
     },
     "execution_count": 13,
     "metadata": {},
     "output_type": "execute_result"
    }
   ],
   "source": [
    "s[\"B\":\"D\"]"
   ]
  },
  {
   "cell_type": "code",
   "execution_count": 14,
   "id": "77419712-24f2-4afa-8332-57773d6b680b",
   "metadata": {
    "tags": []
   },
   "outputs": [
    {
     "data": {
      "text/plain": [
       "B    20\n",
       "C    30\n",
       "dtype: int64"
      ]
     },
     "execution_count": 14,
     "metadata": {},
     "output_type": "execute_result"
    }
   ],
   "source": [
    "# 2:4 까지\n",
    "s.iloc[1:3]"
   ]
  },
  {
   "cell_type": "code",
   "execution_count": 15,
   "id": "73120094-de8d-4e0e-b264-ceae0834753f",
   "metadata": {
    "tags": []
   },
   "outputs": [
    {
     "data": {
      "text/plain": [
       "B    20\n",
       "C    30\n",
       "dtype: int64"
      ]
     },
     "execution_count": 15,
     "metadata": {},
     "output_type": "execute_result"
    }
   ],
   "source": [
    "s[1:3]"
   ]
  },
  {
   "cell_type": "markdown",
   "id": "3ea784c9-76a0-43f8-942e-f13f25e21f9e",
   "metadata": {},
   "source": [
    "## 값 추가"
   ]
  },
  {
   "cell_type": "code",
   "execution_count": 16,
   "id": "2f8ebba5-e671-4d85-ab38-bd296c62ad2c",
   "metadata": {
    "tags": []
   },
   "outputs": [
    {
     "name": "stdout",
     "output_type": "stream",
     "text": [
      "0    10\n",
      "1    20\n",
      "2    30\n",
      "3    40\n",
      "4    50\n",
      "dtype: int64\n"
     ]
    }
   ],
   "source": [
    "\"\"\"\n",
    "인덱스를 이용한 값추가\n",
    "\"\"\"\n",
    "import pandas as pd\n",
    "\n",
    "# 시리즈 생성\n",
    "data = [10, 20, 30, 40]\n",
    "index = [0, 1, 2, 3]\n",
    "s = pd.Series(data, index=index)\n",
    "\n",
    "# loc[] 인덱서를 사용하여 값 추가\n",
    "s.loc[4] = 50\n",
    "print(s)\n"
   ]
  },
  {
   "cell_type": "code",
   "execution_count": 19,
   "id": "fb797906-5053-4bf5-b201-ef080e2297b5",
   "metadata": {
    "tags": []
   },
   "outputs": [],
   "source": [
    "# 30이상인데이터에 5를 더한 값으로 수정하시요\n",
    "s[s>=30] = s[s>=30]+5"
   ]
  },
  {
   "cell_type": "code",
   "execution_count": 21,
   "id": "a4460896-22ec-40c1-9e24-05235f8a38a0",
   "metadata": {
    "tags": []
   },
   "outputs": [
    {
     "data": {
      "text/plain": [
       "0    10\n",
       "1    20\n",
       "2    35\n",
       "3    45\n",
       "4    55\n",
       "dtype: int64"
      ]
     },
     "execution_count": 21,
     "metadata": {},
     "output_type": "execute_result"
    }
   ],
   "source": [
    "s"
   ]
  },
  {
   "cell_type": "code",
   "execution_count": 97,
   "id": "2c0d502f-c55c-498c-8f4a-a74ed6d9419d",
   "metadata": {},
   "outputs": [
    {
     "name": "stdout",
     "output_type": "stream",
     "text": [
      "0    10\n",
      "1    20\n",
      "2    30\n",
      "3    40\n",
      "dtype: int64\n"
     ]
    }
   ],
   "source": [
    "\"\"\"\n",
    "append() 메소드를 사용한 값 추가:\n",
    "\"\"\"\n",
    "import pandas as pd\n",
    "\n",
    "# 시리즈 생성\n",
    "data = [10, 20, 30, 40]\n",
    "index = [0, 1, 2, 3]\n",
    "s = pd.Series(data, index=index)\n",
    "s1 = s\n",
    "\n",
    "# append() 메소드를 사용하여 값 추가\n",
    "# s = s.append(pd.Series([50], index=[4]))\n",
    "\n",
    "s2 = s\n",
    "print(s)\n",
    "\n"
   ]
  },
  {
   "cell_type": "markdown",
   "id": "c616ee66-9625-459d-beea-a4023b1ced3a",
   "metadata": {
    "tags": []
   },
   "source": [
    "## 값 삭제"
   ]
  },
  {
   "cell_type": "code",
   "execution_count": 38,
   "id": "9341db97-0f2c-4966-b867-05cd288804a5",
   "metadata": {
    "tags": []
   },
   "outputs": [],
   "source": [
    "import pandas as pd\n",
    "\n",
    "# 시리즈 생성\n",
    "data = [10, 20, 30, 40]\n",
    "index = list(\"abcd\")\n",
    "s = pd.Series(data, index=index)"
   ]
  },
  {
   "cell_type": "code",
   "execution_count": 35,
   "id": "944eb465-1978-4051-a1b1-76fb8b80ac2c",
   "metadata": {
    "tags": []
   },
   "outputs": [
    {
     "data": {
      "text/plain": [
       "a    10\n",
       "b    20\n",
       "c    30\n",
       "d    40\n",
       "dtype: int64"
      ]
     },
     "execution_count": 35,
     "metadata": {},
     "output_type": "execute_result"
    }
   ],
   "source": [
    "s"
   ]
  },
  {
   "cell_type": "code",
   "execution_count": 36,
   "id": "c846a611-0b3e-4526-b872-f4d9eed5a0f1",
   "metadata": {
    "tags": []
   },
   "outputs": [],
   "source": [
    "s = s.drop( 'a')"
   ]
  },
  {
   "cell_type": "code",
   "execution_count": 39,
   "id": "e7833d0c-6913-412a-bbbd-2e516d670d9e",
   "metadata": {
    "tags": []
   },
   "outputs": [],
   "source": [
    "s.drop( 'a',inplace=True)"
   ]
  },
  {
   "cell_type": "code",
   "execution_count": 41,
   "id": "2809a8ab-0ec9-4c54-920c-13a5712c0bee",
   "metadata": {
    "tags": []
   },
   "outputs": [
    {
     "data": {
      "text/plain": [
       "c    30\n",
       "dtype: int64"
      ]
     },
     "execution_count": 41,
     "metadata": {},
     "output_type": "execute_result"
    }
   ],
   "source": [
    "s.drop( ['b','d'] )"
   ]
  },
  {
   "cell_type": "markdown",
   "id": "89587190-27d1-49d5-a3f1-6f2ab3910f05",
   "metadata": {},
   "source": [
    "## 정렬 (sort_values, sort_index)"
   ]
  },
  {
   "cell_type": "code",
   "execution_count": 43,
   "id": "d6d7832a-7a7a-4494-97e0-5864ebb7aaff",
   "metadata": {
    "tags": []
   },
   "outputs": [],
   "source": [
    "import pandas as pd\n",
    "\n",
    "# 시리즈 생성\n",
    "data = [10, 20, 30, 40]\n",
    "index = list(\"abcd\")\n",
    "s = pd.Series(data, index=index)"
   ]
  },
  {
   "cell_type": "code",
   "execution_count": 46,
   "id": "832a23d2-2a53-4649-a9c5-9d8ceddc13cc",
   "metadata": {
    "tags": []
   },
   "outputs": [
    {
     "data": {
      "text/plain": [
       "d    40\n",
       "c    30\n",
       "b    20\n",
       "a    10\n",
       "dtype: int64"
      ]
     },
     "execution_count": 46,
     "metadata": {},
     "output_type": "execute_result"
    }
   ],
   "source": [
    "s.sort_values(ascending=False)"
   ]
  },
  {
   "cell_type": "code",
   "execution_count": 47,
   "id": "202f8b16-4f65-4ef5-9b52-9ad5970b99d1",
   "metadata": {
    "tags": []
   },
   "outputs": [
    {
     "data": {
      "text/plain": [
       "a    10\n",
       "b    20\n",
       "c    30\n",
       "d    40\n",
       "dtype: int64"
      ]
     },
     "execution_count": 47,
     "metadata": {},
     "output_type": "execute_result"
    }
   ],
   "source": [
    "s"
   ]
  },
  {
   "cell_type": "code",
   "execution_count": 48,
   "id": "2253d25a-1f92-4a8f-bca7-381248623bfa",
   "metadata": {
    "tags": []
   },
   "outputs": [
    {
     "data": {
      "text/plain": [
       "d    40\n",
       "c    30\n",
       "b    20\n",
       "a    10\n",
       "dtype: int64"
      ]
     },
     "execution_count": 48,
     "metadata": {},
     "output_type": "execute_result"
    }
   ],
   "source": [
    "s.sort_index(ascending=False)"
   ]
  },
  {
   "cell_type": "markdown",
   "id": "7a0f09b7-20a5-4b2d-afd1-f2052a4b07db",
   "metadata": {
    "tags": []
   },
   "source": [
    "## Series 연산 (+,-,*,/,//,%,**)\n",
    "\n",
    "Pandas Series간의 연산은 `인덱스를 기준`으로 자동으로 맞춰서 수행되기 때문에 `데이터의 크기가 다르더라도 연산이 가능`합니다. 또한 `브로드캐스팅` 기능을 지원하여 Series와 `스칼라(단일 값) 간의 연산도 가능`합니다. \n",
    "\n",
    "값이 없을 경우 NaN: (Not a Number)"
   ]
  },
  {
   "cell_type": "code",
   "execution_count": 141,
   "id": "e2c3a97b-0bff-48ed-9571-4f7371a20f23",
   "metadata": {
    "tags": []
   },
   "outputs": [],
   "source": [
    "\"\"\"\n",
    "덧셈\n",
    "\"\"\"\n",
    "import pandas as pd\n",
    "\n",
    "# Series 생성\n",
    "s1 = pd.Series([10, 20, 30], index=['A', 'B', 'C'])\n",
    "s2 = pd.Series([5, 15, 25], index=['B', 'C', 'D'])\n"
   ]
  },
  {
   "cell_type": "code",
   "execution_count": 54,
   "id": "b3918086-093a-4cf6-b712-850aff47ece8",
   "metadata": {
    "tags": []
   },
   "outputs": [
    {
     "data": {
      "text/plain": [
       "A     NaN\n",
       "B    25.0\n",
       "C    45.0\n",
       "D     NaN\n",
       "dtype: float64"
      ]
     },
     "execution_count": 54,
     "metadata": {},
     "output_type": "execute_result"
    }
   ],
   "source": [
    "s1+s2"
   ]
  },
  {
   "cell_type": "code",
   "execution_count": 55,
   "id": "64d2b106-c740-43db-89e5-ca0da9fdd158",
   "metadata": {
    "tags": []
   },
   "outputs": [
    {
     "data": {
      "text/plain": [
       "A     NaN\n",
       "B    15.0\n",
       "C    15.0\n",
       "D     NaN\n",
       "dtype: float64"
      ]
     },
     "execution_count": 55,
     "metadata": {},
     "output_type": "execute_result"
    }
   ],
   "source": [
    "s1-s2\n"
   ]
  },
  {
   "cell_type": "code",
   "execution_count": 56,
   "id": "cfc809c3-ee77-4652-af74-af336097556e",
   "metadata": {
    "tags": []
   },
   "outputs": [
    {
     "data": {
      "text/plain": [
       "A      NaN\n",
       "B    100.0\n",
       "C    450.0\n",
       "D      NaN\n",
       "dtype: float64"
      ]
     },
     "execution_count": 56,
     "metadata": {},
     "output_type": "execute_result"
    }
   ],
   "source": [
    "s1*s2"
   ]
  },
  {
   "cell_type": "code",
   "execution_count": 102,
   "id": "7d0e230c-4098-4e26-a1fd-11afa1c95dff",
   "metadata": {},
   "outputs": [
    {
     "data": {
      "text/plain": [
       "A    20\n",
       "B    40\n",
       "C    60\n",
       "dtype: int64"
      ]
     },
     "execution_count": 102,
     "metadata": {},
     "output_type": "execute_result"
    }
   ],
   "source": [
    "\"\"\"\n",
    "스칼라와의 연산\n",
    "\"\"\"\n",
    "\n",
    "s1*2"
   ]
  },
  {
   "cell_type": "markdown",
   "id": "98062da8-ff80-4055-b1e8-cae909005a3f",
   "metadata": {
    "tags": []
   },
   "source": [
    "## 문자열 처리 (.str)"
   ]
  },
  {
   "cell_type": "code",
   "execution_count": 143,
   "id": "2168c0ef-5e2a-4e15-b705-055db2f3dcef",
   "metadata": {
    "tags": []
   },
   "outputs": [],
   "source": [
    "import pandas as pd\n",
    "import numpy as np\n",
    "\n",
    "s = pd.Series([\"Python\", \"PyTorch\", \"NumPy\", \"Pandas\", \"SciPy\"])"
   ]
  },
  {
   "cell_type": "code",
   "execution_count": 144,
   "id": "243af747-0595-46d7-b017-3e16e7e8e48e",
   "metadata": {
    "tags": []
   },
   "outputs": [
    {
     "data": {
      "text/plain": [
       "0    Python\n",
       "dtype: object"
      ]
     },
     "execution_count": 144,
     "metadata": {},
     "output_type": "execute_result"
    }
   ],
   "source": [
    "s[s==\"Python\"]"
   ]
  },
  {
   "cell_type": "code",
   "execution_count": 146,
   "id": "a6af1fa2-62a6-42e6-9305-16e6b011566b",
   "metadata": {
    "tags": []
   },
   "outputs": [
    {
     "data": {
      "text/plain": [
       "0    P\n",
       "1    P\n",
       "2    N\n",
       "3    P\n",
       "4    S\n",
       "dtype: object"
      ]
     },
     "execution_count": 146,
     "metadata": {},
     "output_type": "execute_result"
    }
   ],
   "source": [
    "s.str[0]"
   ]
  },
  {
   "cell_type": "code",
   "execution_count": 149,
   "id": "262ee1ac-e671-45f4-acfe-fc738ead6381",
   "metadata": {
    "tags": []
   },
   "outputs": [
    {
     "data": {
      "text/plain": [
       "0     thon\n",
       "1    Torch\n",
       "2      mPy\n",
       "3     ndas\n",
       "4      iPy\n",
       "dtype: object"
      ]
     },
     "execution_count": 149,
     "metadata": {},
     "output_type": "execute_result"
    }
   ],
   "source": [
    "s.str[2:]"
   ]
  },
  {
   "cell_type": "code",
   "execution_count": 150,
   "id": "07a7eaa2-916a-4fb5-836e-125f53df19d7",
   "metadata": {
    "tags": []
   },
   "outputs": [
    {
     "data": {
      "text/plain": [
       "0     Python\n",
       "1    PyTorch\n",
       "2      NumPy\n",
       "4      SciPy\n",
       "dtype: object"
      ]
     },
     "execution_count": 150,
     "metadata": {},
     "output_type": "execute_result"
    }
   ],
   "source": [
    "s[s.str.contains(\"Py\")]"
   ]
  },
  {
   "cell_type": "code",
   "execution_count": 151,
   "id": "f3c5b636-c46b-4f46-aee7-01b4390d5c97",
   "metadata": {
    "tags": []
   },
   "outputs": [
    {
     "data": {
      "text/plain": [
       "0     python\n",
       "1    pyTorch\n",
       "2      Numpy\n",
       "3     Pandas\n",
       "4      Scipy\n",
       "dtype: object"
      ]
     },
     "execution_count": 151,
     "metadata": {},
     "output_type": "execute_result"
    }
   ],
   "source": [
    "s.str.replace(\"Py\", \"py\")"
   ]
  },
  {
   "cell_type": "markdown",
   "id": "bf016974-e063-412f-9e46-d7cc179bf595",
   "metadata": {},
   "source": [
    "## 통계\n"
   ]
  },
  {
   "cell_type": "code",
   "execution_count": 109,
   "id": "29b94ae2-55cd-4d54-830b-67a7260a7dbd",
   "metadata": {
    "tags": []
   },
   "outputs": [],
   "source": [
    "import pandas as pd\n",
    "import numpy as np\n",
    "data = [10,20,30,30,40,40,40,50,60,60,70]\n",
    "s = pd.Series(data, index=list(\"abcdefghijk\"),name='kor')"
   ]
  },
  {
   "cell_type": "code",
   "execution_count": 110,
   "id": "1e1a738c-4a25-452a-8cf1-621689e26eeb",
   "metadata": {
    "tags": []
   },
   "outputs": [
    {
     "data": {
      "text/plain": [
       "70"
      ]
     },
     "execution_count": 110,
     "metadata": {},
     "output_type": "execute_result"
    }
   ],
   "source": [
    "s.max()"
   ]
  },
  {
   "cell_type": "code",
   "execution_count": 111,
   "id": "9e4d0b18-3910-47eb-81aa-44c9076e9bdc",
   "metadata": {
    "tags": []
   },
   "outputs": [
    {
     "data": {
      "text/plain": [
       "10"
      ]
     },
     "execution_count": 111,
     "metadata": {},
     "output_type": "execute_result"
    }
   ],
   "source": [
    "s.values.argmax()"
   ]
  },
  {
   "cell_type": "code",
   "execution_count": 112,
   "id": "3c85cc75-9521-4e6d-8fba-f4ab0349f2a7",
   "metadata": {
    "tags": []
   },
   "outputs": [
    {
     "data": {
      "text/plain": [
       "'k'"
      ]
     },
     "execution_count": 112,
     "metadata": {},
     "output_type": "execute_result"
    }
   ],
   "source": [
    "s.idxmax()"
   ]
  },
  {
   "cell_type": "code",
   "execution_count": 113,
   "id": "e9348275-1be2-493f-a28d-d7f3ea35508e",
   "metadata": {
    "tags": []
   },
   "outputs": [
    {
     "data": {
      "text/plain": [
       "0"
      ]
     },
     "execution_count": 113,
     "metadata": {},
     "output_type": "execute_result"
    }
   ],
   "source": [
    "s.values.argmin()"
   ]
  },
  {
   "cell_type": "code",
   "execution_count": 114,
   "id": "8ff8ecab-8933-4d2d-b72c-51acdde65f37",
   "metadata": {
    "tags": []
   },
   "outputs": [
    {
     "data": {
      "text/plain": [
       "'a'"
      ]
     },
     "execution_count": 114,
     "metadata": {},
     "output_type": "execute_result"
    }
   ],
   "source": [
    "s.idxmin()"
   ]
  },
  {
   "cell_type": "code",
   "execution_count": 115,
   "id": "b3abe031-4bea-40a9-a57d-d28b4f2ac3e1",
   "metadata": {
    "tags": []
   },
   "outputs": [
    {
     "data": {
      "text/plain": [
       "k    70\n",
       "i    60\n",
       "Name: kor, dtype: int64"
      ]
     },
     "execution_count": 115,
     "metadata": {},
     "output_type": "execute_result"
    }
   ],
   "source": [
    "s.nlargest(2)"
   ]
  },
  {
   "cell_type": "code",
   "execution_count": 116,
   "id": "e05a0da5-a353-4f5e-a937-080dd5450ca8",
   "metadata": {
    "tags": []
   },
   "outputs": [
    {
     "data": {
      "text/plain": [
       "a    10\n",
       "b    20\n",
       "Name: kor, dtype: int64"
      ]
     },
     "execution_count": 116,
     "metadata": {},
     "output_type": "execute_result"
    }
   ],
   "source": [
    "s.nsmallest(2)"
   ]
  },
  {
   "cell_type": "code",
   "execution_count": 117,
   "id": "23fa3a66-0217-48b8-a81e-d9b72a59c0f4",
   "metadata": {
    "tags": []
   },
   "outputs": [
    {
     "data": {
      "text/plain": [
       "450"
      ]
     },
     "execution_count": 117,
     "metadata": {},
     "output_type": "execute_result"
    }
   ],
   "source": [
    "s.sum()"
   ]
  },
  {
   "cell_type": "code",
   "execution_count": 118,
   "id": "b771f668-6fdb-481c-9f79-06abbb4175f1",
   "metadata": {
    "tags": []
   },
   "outputs": [
    {
     "data": {
      "text/plain": [
       "a     1.0\n",
       "b     2.0\n",
       "c     3.5\n",
       "d     3.5\n",
       "e     6.0\n",
       "f     6.0\n",
       "g     6.0\n",
       "h     8.0\n",
       "i     9.5\n",
       "j     9.5\n",
       "k    11.0\n",
       "Name: kor, dtype: float64"
      ]
     },
     "execution_count": 118,
     "metadata": {},
     "output_type": "execute_result"
    }
   ],
   "source": [
    "s.rank()"
   ]
  },
  {
   "cell_type": "code",
   "execution_count": 119,
   "id": "f69e3c85-02f9-488a-b7a9-8938de6d0c70",
   "metadata": {
    "tags": []
   },
   "outputs": [
    {
     "data": {
      "text/plain": [
       "a     1.0\n",
       "b     2.0\n",
       "c     3.5\n",
       "d     3.5\n",
       "e     6.0\n",
       "f     6.0\n",
       "g     6.0\n",
       "h     8.0\n",
       "i     9.5\n",
       "j     9.5\n",
       "k    11.0\n",
       "Name: kor, dtype: float64"
      ]
     },
     "execution_count": 119,
     "metadata": {},
     "output_type": "execute_result"
    }
   ],
   "source": [
    "s.rank(method=\"average\")"
   ]
  },
  {
   "cell_type": "code",
   "execution_count": 120,
   "id": "c075ccff-0fde-4000-92b4-b86c0e93da58",
   "metadata": {
    "tags": []
   },
   "outputs": [
    {
     "data": {
      "text/plain": [
       "40.0"
      ]
     },
     "execution_count": 120,
     "metadata": {},
     "output_type": "execute_result"
    }
   ],
   "source": [
    "s.median()"
   ]
  },
  {
   "cell_type": "code",
   "execution_count": 121,
   "id": "576ec505-af81-4ec9-86f0-6505a6329aaf",
   "metadata": {
    "tags": []
   },
   "outputs": [
    {
     "data": {
      "text/plain": [
       "40.90909090909091"
      ]
     },
     "execution_count": 121,
     "metadata": {},
     "output_type": "execute_result"
    }
   ],
   "source": [
    "s.mean()"
   ]
  },
  {
   "cell_type": "code",
   "execution_count": 122,
   "id": "7c87f7f1-da38-4d94-bfba-3a0125baae3d",
   "metadata": {
    "tags": []
   },
   "outputs": [
    {
     "data": {
      "text/plain": [
       "40.909"
      ]
     },
     "execution_count": 122,
     "metadata": {},
     "output_type": "execute_result"
    }
   ],
   "source": [
    "s.mean().round(3)"
   ]
  },
  {
   "cell_type": "code",
   "execution_count": 123,
   "id": "1a8eb3ba-af45-40e8-8c30-0aeec78dacb2",
   "metadata": {
    "tags": []
   },
   "outputs": [
    {
     "data": {
      "text/plain": [
       "18.140862964338524"
      ]
     },
     "execution_count": 123,
     "metadata": {},
     "output_type": "execute_result"
    }
   ],
   "source": [
    "s.std()"
   ]
  },
  {
   "cell_type": "code",
   "execution_count": 124,
   "id": "ed0fb6c8-2e3e-453e-9083-3eddc17ed754",
   "metadata": {
    "tags": []
   },
   "outputs": [
    {
     "data": {
      "text/plain": [
       "30.0"
      ]
     },
     "execution_count": 124,
     "metadata": {},
     "output_type": "execute_result"
    }
   ],
   "source": [
    "s.quantile(.25)"
   ]
  },
  {
   "cell_type": "code",
   "execution_count": 125,
   "id": "908fd3bd-8d97-4068-be2b-0c5093116af1",
   "metadata": {
    "tags": []
   },
   "outputs": [
    {
     "data": {
      "text/plain": [
       "40.0"
      ]
     },
     "execution_count": 125,
     "metadata": {},
     "output_type": "execute_result"
    }
   ],
   "source": [
    "s.quantile(.5)"
   ]
  },
  {
   "cell_type": "code",
   "execution_count": 126,
   "id": "d38a6a50-4d2a-41a7-9923-597b71f3703b",
   "metadata": {
    "tags": []
   },
   "outputs": [
    {
     "data": {
      "text/plain": [
       "11.0"
      ]
     },
     "execution_count": 126,
     "metadata": {},
     "output_type": "execute_result"
    }
   ],
   "source": [
    "s.quantile(.01)"
   ]
  },
  {
   "cell_type": "code",
   "execution_count": 127,
   "id": "a049f7c3-cb2f-497f-addc-89aad0c3d8a4",
   "metadata": {
    "tags": []
   },
   "outputs": [
    {
     "data": {
      "text/plain": [
       "40    3\n",
       "30    2\n",
       "60    2\n",
       "10    1\n",
       "20    1\n",
       "50    1\n",
       "70    1\n",
       "Name: kor, dtype: int64"
      ]
     },
     "execution_count": 127,
     "metadata": {},
     "output_type": "execute_result"
    }
   ],
   "source": [
    "s.value_counts()"
   ]
  },
  {
   "cell_type": "code",
   "execution_count": 136,
   "id": "f407a004-9001-4513-b37a-1ea5f8a8ccf9",
   "metadata": {
    "tags": []
   },
   "outputs": [
    {
     "data": {
      "text/plain": [
       "array([10, 20, 30, 40, 50, 60, 70])"
      ]
     },
     "execution_count": 136,
     "metadata": {},
     "output_type": "execute_result"
    }
   ],
   "source": [
    "s.unique()"
   ]
  },
  {
   "cell_type": "code",
   "execution_count": 137,
   "id": "6b2429a0-4aea-409d-ad1b-40b29787493e",
   "metadata": {
    "tags": []
   },
   "outputs": [
    {
     "data": {
      "text/plain": [
       "7"
      ]
     },
     "execution_count": 137,
     "metadata": {},
     "output_type": "execute_result"
    }
   ],
   "source": [
    "s.nunique()"
   ]
  },
  {
   "cell_type": "code",
   "execution_count": 139,
   "id": "b7b7bc01-d9f4-4b61-b4c5-06b3f4ae9f44",
   "metadata": {
    "tags": []
   },
   "outputs": [
    {
     "data": {
      "text/plain": [
       "11"
      ]
     },
     "execution_count": 139,
     "metadata": {},
     "output_type": "execute_result"
    }
   ],
   "source": [
    "s.size"
   ]
  },
  {
   "cell_type": "code",
   "execution_count": 128,
   "id": "3b4da104-2e73-4d86-a30a-1e40bc25f9d5",
   "metadata": {
    "tags": []
   },
   "outputs": [
    {
     "data": {
      "text/plain": [
       "40    0.272727\n",
       "30    0.181818\n",
       "60    0.181818\n",
       "10    0.090909\n",
       "20    0.090909\n",
       "50    0.090909\n",
       "70    0.090909\n",
       "Name: kor, dtype: float64"
      ]
     },
     "execution_count": 128,
     "metadata": {},
     "output_type": "execute_result"
    }
   ],
   "source": [
    "s.value_counts(normalize=True)"
   ]
  },
  {
   "cell_type": "code",
   "execution_count": 129,
   "id": "bb42366b-19c1-49eb-ab7a-bd2c39f3c8df",
   "metadata": {
    "tags": []
   },
   "outputs": [
    {
     "data": {
      "text/plain": [
       "40    27.3 %\n",
       "30    18.2 %\n",
       "60    18.2 %\n",
       "10     9.1 %\n",
       "20     9.1 %\n",
       "50     9.1 %\n",
       "70     9.1 %\n",
       "Name: kor, dtype: object"
      ]
     },
     "execution_count": 129,
     "metadata": {},
     "output_type": "execute_result"
    }
   ],
   "source": [
    "(s.value_counts(normalize=True)*100).round(1).astype(str)+\" %\""
   ]
  },
  {
   "cell_type": "code",
   "execution_count": 130,
   "id": "ceca75fb-5522-43ca-a1e2-48b33424949f",
   "metadata": {
    "tags": []
   },
   "outputs": [
    {
     "data": {
      "text/plain": [
       "<Axes: >"
      ]
     },
     "execution_count": 130,
     "metadata": {},
     "output_type": "execute_result"
    },
    {
     "data": {
      "image/png": "[encoded data removed]",
      "text/plain": [
       "<Figure size 640x480 with 1 Axes>"
      ]
     },
     "metadata": {},
     "output_type": "display_data"
    }
   ],
   "source": [
    "s.plot()"
   ]
  },
  {
   "cell_type": "code",
   "execution_count": 131,
   "id": "2ca9a246-c702-45c6-90fb-1f5d00469a94",
   "metadata": {
    "tags": []
   },
   "outputs": [
    {
     "data": {
      "text/plain": [
       "<Axes: >"
      ]
     },
     "execution_count": 131,
     "metadata": {},
     "output_type": "execute_result"
    },
    {
     "data": {
      "image/png": "[encoded data removed]",
      "text/plain": [
       "<Figure size 640x480 with 1 Axes>"
      ]
     },
     "metadata": {},
     "output_type": "display_data"
    }
   ],
   "source": [
    "s.plot(kind=\"bar\")"
   ]
  },
  {
   "cell_type": "code",
   "execution_count": 135,
   "id": "f6449f97-36ac-461a-9af6-821d059914ab",
   "metadata": {
    "tags": []
   },
   "outputs": [
    {
     "data": {
      "text/plain": [
       "<Axes: >"
      ]
     },
     "execution_count": 135,
     "metadata": {},
     "output_type": "execute_result"
    },
    {
     "data": {
      "image/png": "[encoded data removed]",
      "text/plain": [
       "<Figure size 640x480 with 1 Axes>"
      ]
     },
     "metadata": {},
     "output_type": "display_data"
    }
   ],
   "source": [
    "s.hist(bins=s.nunique())"
   ]
  },
  {
   "cell_type": "markdown",
   "id": "796f4472-13d0-48b1-a001-7b4b989760f0",
   "metadata": {
    "tags": []
   },
   "source": [
    "## concat"
   ]
  },
  {
   "cell_type": "code",
   "execution_count": 104,
   "id": "94fc67ac-8650-420f-847d-f98024284ac5",
   "metadata": {},
   "outputs": [],
   "source": [
    "\"\"\"\n",
    "concat\n",
    "\"\"\"\n",
    "import pandas as pd\n",
    "\n",
    "# Series 생성\n",
    "s1 = pd.Series([10, 20, 30], index=['A', 'B', 'C'])\n",
    "s2 = pd.Series([5, 15, 25], index=['B', 'C', 'D'])\n",
    "\n",
    "s3 = pd.concat([s1, s2])"
   ]
  },
  {
   "cell_type": "code",
   "execution_count": 105,
   "id": "cb2aed6c-c66c-41ff-a3a9-4e2a50c5c912",
   "metadata": {},
   "outputs": [
    {
     "data": {
      "text/plain": [
       "A    10\n",
       "B    20\n",
       "C    30\n",
       "B     5\n",
       "C    15\n",
       "D    25\n",
       "dtype: int64"
      ]
     },
     "execution_count": 105,
     "metadata": {},
     "output_type": "execute_result"
    }
   ],
   "source": [
    "s3"
   ]
  },
  {
   "cell_type": "markdown",
   "id": "bcc76e13-5dbe-4cdb-9aa6-353af0a5bb9b",
   "metadata": {},
   "source": [
    "## Series의 이름과 설정 변경\n",
    "\n",
    "`Series` 의 이름은 `DataFrame`으로 생성시 `column 이름`으로 활용됨"
   ]
  },
  {
   "cell_type": "code",
   "execution_count": null,
   "id": "ce7c77c6-3f79-40ba-a32f-e45ed6b529ff",
   "metadata": {},
   "outputs": [],
   "source": [
    "\"\"\"\n",
    "Series의 이름 설정 및 변경:\n",
    "\"\"\"\n",
    "import pandas as pd\n",
    "\n",
    "# Series 생성\n",
    "data = [10, 20, 30, 40, 50]\n",
    "index = ['A', 'B', 'C', 'D', 'E']\n",
    "s = pd.Series(data,  index=index)\n",
    "\n",
    "# Series 이름 설정\n",
    "s.name = 'SampleData'\n",
    "print(s)\n"
   ]
  },
  {
   "cell_type": "code",
   "execution_count": null,
   "id": "bf7fe9f2-56a6-4d19-b3ce-141f1c69a208",
   "metadata": {},
   "outputs": [],
   "source": [
    "\"\"\"\n",
    "Series의 인덱스 이름 설정 및 변경:\n",
    "\"\"\"\n",
    "import pandas as pd\n",
    "\n",
    "# Series 생성\n",
    "data = [10, 20, 30, 40, 50]\n",
    "index = ['A', 'B', 'C', 'D', 'E']\n",
    "s = pd.Series(data, index=index)\n",
    "\n",
    "# Series의 인덱스 이름 설정\n",
    "s.index.name = 'Alphabet'\n",
    "print(s)\n",
    "\n",
    "# 출력:\n",
    "# Alphabet\n",
    "# A    10\n",
    "# B    20\n",
    "# C    30\n",
    "# D    40\n",
    "# E    50\n",
    "# dtype: int64\n",
    "\n",
    "# Series의 인덱스 이름 변경\n",
    "s.index.name = 'Index'\n",
    "print(s)"
   ]
  }
 ],
 "metadata": {
  "kernelspec": {
   "display_name": "Python 3 (ipykernel)",
   "language": "python",
   "name": "python3"
  },
  "language_info": {
   "codemirror_mode": {
    "name": "ipython",
    "version": 3
   },
   "file_extension": ".py",
   "mimetype": "text/x-python",
   "name": "python",
   "nbconvert_exporter": "python",
   "pygments_lexer": "ipython3",
   "version": "3.9.1"
  }
 },
 "nbformat": 4,
 "nbformat_minor": 5
}
