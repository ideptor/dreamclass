{
 "cells": [
  {
   "cell_type": "raw",
   "id": "93f319a6-1c6b-4c74-89a4-7acb817d66b2",
   "metadata": {},
   "source": [
    "안녕하세요.\n",
    "이번시간에는...."
   ]
  },
  {
   "cell_type": "markdown",
   "id": "c1b83c6d-1f19-4452-9f75-96aafcd7b0c1",
   "metadata": {},
   "source": [
    "# Pandas 시계열 데이터 처리\n",
    "- datetime\n",
    "- strftime(), strptime()\n",
    "- timestamp\n",
    "- timezone\n",
    "- timedelta\n",
    "- pandas 의 시계열 데이터 처리\n",
    "- DatetimeIndex\n",
    "- DateOffset 객체\n",
    "- 시계열 관련 인스턴스 메소드\n",
    "- dateutil\n",
    "- .dt 접근자"
   ]
  },
  {
   "cell_type": "raw",
   "id": "799ee775-8b68-4b8b-b43c-405ff759c6c5",
   "metadata": {},
   "source": [
    "Pandas 시계열 데이터 처리를 위해서 아래와 같은 클래스들을 사용할 수 있습니다.\n",
    "예제코드를 통해서 하나하나 살펴보도록 하겠습니다."
   ]
  },
  {
   "cell_type": "markdown",
   "id": "d74ff632-7aa6-4077-b97c-c455d5097b03",
   "metadata": {},
   "source": [
    "# Pandas 시계열 데이터 처리\n",
    "\n",
    "파이썬의 날짜 및 시간 관련 객체\n",
    "| 클래스 | 내용|\n",
    "|--|--|\n",
    "|datetime.date | 그레고리력으로 날짜를 다룹니다. (year, month, day) |\n",
    "|datetime.time | 특정일과 관련없이 모든 날(day)을 24x60x60초로 다루는 시간입니다. (hour, minute, second, microsecond, tzinfo)|\n",
    "|datetime.datetime | 날짜와 시간의 조합입니다. (year, month, day, hour, minute, second, microsecond, tzinfo) |\n",
    "|datetime.timedelta | date인스턴스간, time인스턴스간, 또는 datetime 인스턴스간의 차이를 microsecond 로 나타내는 기간입니다.|\n",
    "|datetime.tzinfo | 시간대 정보 객체에 대한 추상 기본 클래스로서 사용자 정의로 시간을 조정하기 위해 사용됩니다.|\n",
    "|datetime.timezone| UTC (Universal Time Coordinated) 의 고정 오프셋으로 tzinfo를 실행하는 클래스입니다.|"
   ]
  },
  {
   "cell_type": "raw",
   "id": "d4a2deed-b26c-4f4f-a61b-8d3a5b2042b1",
   "metadata": {},
   "source": [
    "우선 현재 시간을 가져오는 방법에 대해서 알아보겠습니다."
   ]
  },
  {
   "cell_type": "code",
   "execution_count": 1,
   "id": "ca190c55-919f-4732-a8ff-eb3741b18cd7",
   "metadata": {
    "tags": []
   },
   "outputs": [
    {
     "data": {
      "text/plain": [
       "datetime.datetime(2023, 8, 31, 1, 17, 21, 411518)"
      ]
     },
     "execution_count": 1,
     "metadata": {},
     "output_type": "execute_result"
    }
   ],
   "source": [
    "from datetime import datetime\n",
    "\n",
    "# 현재 날짜와 시간 가져오기\n",
    "datetime.now()"
   ]
  },
  {
   "cell_type": "raw",
   "id": "573186bb-ba43-49e2-9b9e-ab3d13d3b550",
   "metadata": {},
   "source": [
    "날짜와 시간정보를 입력하여 데이트타임 객체를 생성해보도록 하겠습니다."
   ]
  },
  {
   "cell_type": "code",
   "execution_count": 2,
   "id": "eac65ece-98b9-4b8c-9fcc-5b172fe744b8",
   "metadata": {
    "tags": []
   },
   "outputs": [],
   "source": [
    "# 날짜와 시간 구성하기\n",
    "from datetime import datetime\n",
    "dt = datetime(2023, 8, 1, 13, 0, 0)"
   ]
  },
  {
   "cell_type": "raw",
   "id": "976f393b-86bb-4793-a1dd-cabfa993ac74",
   "metadata": {},
   "source": [
    "datetime의 주요 속성에 대해서 알아보겠습니다."
   ]
  },
  {
   "cell_type": "code",
   "execution_count": 3,
   "id": "55b055ac-21c0-4513-bba1-67650258726b",
   "metadata": {
    "tags": []
   },
   "outputs": [
    {
     "data": {
      "text/plain": [
       "2023"
      ]
     },
     "execution_count": 3,
     "metadata": {},
     "output_type": "execute_result"
    }
   ],
   "source": [
    "dt.year"
   ]
  },
  {
   "cell_type": "code",
   "execution_count": 4,
   "id": "6cf7dd2d-847b-4918-9ea2-87b4b0004178",
   "metadata": {
    "tags": []
   },
   "outputs": [
    {
     "data": {
      "text/plain": [
       "8"
      ]
     },
     "execution_count": 4,
     "metadata": {},
     "output_type": "execute_result"
    }
   ],
   "source": [
    "dt.month"
   ]
  },
  {
   "cell_type": "code",
   "execution_count": 5,
   "id": "f808b6fd-3036-481f-9d1b-aa503e165a72",
   "metadata": {
    "tags": []
   },
   "outputs": [
    {
     "data": {
      "text/plain": [
       "1"
      ]
     },
     "execution_count": 5,
     "metadata": {},
     "output_type": "execute_result"
    }
   ],
   "source": [
    "dt.day"
   ]
  },
  {
   "cell_type": "code",
   "execution_count": 6,
   "id": "4745340f-2295-4381-9212-5d691a06ff62",
   "metadata": {
    "tags": []
   },
   "outputs": [
    {
     "data": {
      "text/plain": [
       "13"
      ]
     },
     "execution_count": 6,
     "metadata": {},
     "output_type": "execute_result"
    }
   ],
   "source": [
    "dt.hour"
   ]
  },
  {
   "cell_type": "code",
   "execution_count": 7,
   "id": "69297a2d-f224-46a4-b557-1c66181e77cf",
   "metadata": {
    "tags": []
   },
   "outputs": [
    {
     "data": {
      "text/plain": [
       "0"
      ]
     },
     "execution_count": 7,
     "metadata": {},
     "output_type": "execute_result"
    }
   ],
   "source": [
    "dt.minute"
   ]
  },
  {
   "cell_type": "code",
   "execution_count": 8,
   "id": "deaff7c0-c830-4f68-8d2a-a1c4d4348ff9",
   "metadata": {
    "tags": []
   },
   "outputs": [
    {
     "data": {
      "text/plain": [
       "0"
      ]
     },
     "execution_count": 8,
     "metadata": {},
     "output_type": "execute_result"
    }
   ],
   "source": [
    "dt.second"
   ]
  },
  {
   "cell_type": "raw",
   "id": "a75f00e0-61b6-4c3f-879c-39f2078de4b9",
   "metadata": {
    "tags": []
   },
   "source": [
    "strftime 함수는 `datetime 객체`를 원하는 형식의 `문자열`로 변환하는 데 사용됩니다.\n",
    "포맷 문자열을 사용하여 날짜와 시간을 원하는 형식으로 표현할 수 있습니다.\n",
    "\n",
    "(문자열 포멧 아래내용 읽기)"
   ]
  },
  {
   "cell_type": "markdown",
   "id": "2e40b37e-1139-4a40-b173-d1be836c798f",
   "metadata": {},
   "source": [
    "## strftime(), strptime() \n",
    "\n",
    "파이썬의 `datetime` 모듈에서 `날짜`와 `시간`을 `문자열`로 `변환`하 파싱하는 데 사용되는 함수들입니다.\n",
    "\n",
    "### strftime (String Format Time)\n",
    "\n",
    "strftime 함수는 `datetime 객체`를 원하는 형식의 `문자열`로 변환하는 데 사용됩니다.\n",
    "포맷 문자열을 사용하여 날짜와 시간을 원하는 형식으로 표현할 수 있습니다.\n",
    "주요 포맷 코드 예시:\n",
    "- `%Y`: 년 (4자리)\n",
    "- `%m`: 월 (2자리)\n",
    "- `%d`: 일 (2자리)\n",
    "- `%a`: 요일 (3자리 문자열)\n",
    "- `%A`: 요일 (문자열)\n",
    "- `%H`: 시간 (24시간 형식, 2자리)\n",
    "- `%M`: 분 (2자리)\n",
    "- `%S`: 초 (2자리)"
   ]
  },
  {
   "cell_type": "raw",
   "id": "f3a463ef-2a77-4c4a-9b40-edcf13beca39",
   "metadata": {},
   "source": [
    "예제를 통해서 확인해보도록 하겠습니다."
   ]
  },
  {
   "cell_type": "code",
   "execution_count": 4,
   "id": "401b0910-b58f-40a6-9cf6-7a01d9d5a0c3",
   "metadata": {
    "tags": []
   },
   "outputs": [
    {
     "data": {
      "text/plain": [
       "'2023-08-31 08:03:38'"
      ]
     },
     "execution_count": 4,
     "metadata": {},
     "output_type": "execute_result"
    }
   ],
   "source": [
    "from datetime import datetime\n",
    "\n",
    "datetime.now().strftime(\"%Y-%m-%d %H:%M:%S\")"
   ]
  },
  {
   "cell_type": "raw",
   "id": "0caa4ce5-9795-4c9c-8c1c-61aafbb41b67",
   "metadata": {},
   "source": [
    "소문자 a를 넣으면 요일의 축약형 이름을 볼 수 있습니다."
   ]
  },
  {
   "cell_type": "code",
   "execution_count": 7,
   "id": "c4ac2408-c0e3-4ea4-8dde-7a7742f04316",
   "metadata": {
    "tags": []
   },
   "outputs": [
    {
     "data": {
      "text/plain": [
       "'2023-08-31 Thu 08:04:03'"
      ]
     },
     "execution_count": 7,
     "metadata": {},
     "output_type": "execute_result"
    }
   ],
   "source": [
    "datetime.now().strftime(\"%Y-%m-%d %a %H:%M:%S\")"
   ]
  },
  {
   "cell_type": "raw",
   "id": "889298db-afe6-46e9-87e0-f8595fae1a10",
   "metadata": {},
   "source": [
    "대문자 A를 사용하면 요일의full이름을 볼 수 있습니다."
   ]
  },
  {
   "cell_type": "code",
   "execution_count": 6,
   "id": "34939c20-85f6-44af-9f14-19f982cd49fe",
   "metadata": {
    "tags": []
   },
   "outputs": [
    {
     "data": {
      "text/plain": [
       "'2023/08/31 Thursday 08:03:41'"
      ]
     },
     "execution_count": 6,
     "metadata": {},
     "output_type": "execute_result"
    }
   ],
   "source": [
    "datetime.now().strftime(\"%Y/%m/%d %A %H:%M:%S\")"
   ]
  },
  {
   "cell_type": "raw",
   "id": "1e80221a-5b09-4f4b-b2ee-d103b9115ae7",
   "metadata": {},
   "source": [
    "(아래내용 읽기)"
   ]
  },
  {
   "cell_type": "markdown",
   "id": "67ad9549-f297-4d2f-9f11-54b2a27645d9",
   "metadata": {},
   "source": [
    "### strptime (String Parse Time)\n",
    "\n",
    "strptime 함수는 `문자열`을 `datetime` 객체로 파싱(변환)하는 데 사용됩니다.  \n",
    "입력된 문자열과 형식 문자열을 비교하여 datetime 객체를 생성합니다.  \n",
    "strftime의 포맷 코드와 반대로, 문자열에서 날짜와 시간 정보를 추출합니다.  "
   ]
  },
  {
   "cell_type": "code",
   "execution_count": 12,
   "id": "5c64a24a-4672-4533-9445-d70116aa36a3",
   "metadata": {
    "tags": []
   },
   "outputs": [
    {
     "data": {
      "text/plain": [
       "datetime.datetime(2023, 8, 7, 12, 30, 1)"
      ]
     },
     "execution_count": 12,
     "metadata": {},
     "output_type": "execute_result"
    }
   ],
   "source": [
    "from datetime import datetime\n",
    "\n",
    "datetime.strptime(\"2023-08-07 12:30:01\", \"%Y-%m-%d %H:%M:%S\")"
   ]
  },
  {
   "cell_type": "raw",
   "id": "e390b14b-bc91-4ba2-bc22-308bff32af94",
   "metadata": {},
   "source": [
    "datetime 타임스탬프는 특정 날짜와 시간을 고유한 숫자 값으로 나타낸 것을 말합니다.\n",
    "이 숫자 값은 일반적으로 1970년 1월 1일부터의 경과 시간을 초단위로 표현한 것으로,\n",
    "이를 \"UNIX 시간\" 또는 \"에포크 시간\"이라고도 합니다."
   ]
  },
  {
   "cell_type": "markdown",
   "id": "17f87cc5-f23f-4682-a8be-814de127ba00",
   "metadata": {
    "tags": []
   },
   "source": [
    "## timestamp\n",
    "\n",
    "datetime 타임스탬프는 특정 날짜와 시간을 `고유한 숫자 값`으로 나타낸 것을 말합니다.  \n",
    "이 숫자 값은 일반적으로 `1970년 1월 1일`부터의 경과 시간을 초단위로 표현한 것으로,  \n",
    "이를 `\"UNIX 시간\"` 또는 \"에포크 시간\"이라고도 합니다.\n",
    "\n",
    "파이썬의 datetime 모듈을 사용하여 날짜와 시간을 다루다보면,  \n",
    "`datetime 객체`를 특정 시간으로부터의 경과 시간을 나타내는 `타임스탬프`로 변환하거나,  \n",
    "반대로 `타임스탬프`를 `datetime 객체`로 변환하는 작업을 할 수 있습니다."
   ]
  },
  {
   "cell_type": "raw",
   "id": "5d23fd73-8c1d-42e7-96b1-9188e745b108",
   "metadata": {},
   "source": []
  },
  {
   "cell_type": "code",
   "execution_count": 13,
   "id": "0c369274-86d6-4066-9833-dce13b9109f1",
   "metadata": {
    "tags": []
   },
   "outputs": [
    {
     "data": {
      "text/plain": [
       "1693412244.541048"
      ]
     },
     "execution_count": 13,
     "metadata": {},
     "output_type": "execute_result"
    }
   ],
   "source": [
    "from datetime import datetime\n",
    "\n",
    "# 현재 시간을 datetime 객체로 가져오기\n",
    "datetime.now().timestamp()"
   ]
  },
  {
   "cell_type": "code",
   "execution_count": 14,
   "id": "90a0cf79-3ec5-4dd0-b8db-b11ccf0c2dc9",
   "metadata": {
    "tags": []
   },
   "outputs": [
    {
     "data": {
      "text/plain": [
       "datetime.datetime(2023, 8, 31, 0, 4, 6, 324211)"
      ]
     },
     "execution_count": 14,
     "metadata": {},
     "output_type": "execute_result"
    }
   ],
   "source": [
    "# 타임스탬프를 datetime 객체로 변환\n",
    "from datetime import datetime\n",
    "\n",
    "datetime.fromtimestamp(1693407846.324211)"
   ]
  },
  {
   "cell_type": "raw",
   "id": "1838fee3-1267-4601-9a9d-03f2e4cec373",
   "metadata": {},
   "source": [
    "`\"나이브(Naive)\"`란 용어는 `시간대(timezone) 정보를 갖지 않는` 시간 관련 데이터를 가리킵니다.  \n",
    "파이썬의 `datetime` 라이브러리에서는 시간대 정보 없이 날짜와 시간만을 다루는 객체를 \"나이브\"하다고 표현합니다.  \n",
    "\n",
    "시간대 정보가 없는 시간데이터는\n",
    "시간대 변환시에 문제가 발생하거나 언제 발생한 사건인지 파악하기 어려울 수 있으므로,\n",
    "실무에서는 `dateutil.tz` 모듈이나 `pytz` 라이브러리 등을 사용하여 \n",
    "`datetime` 객체를 시간대 정보와 함께 생성하고 다루는 것이 좋습니다.\n",
    "\n",
    "이부분에 대해서는 간략하게만 다루도록 하겠습니다."
   ]
  },
  {
   "cell_type": "markdown",
   "id": "402c6cef-dee3-411b-b1fd-30ab208f6f3d",
   "metadata": {
    "tags": []
   },
   "source": [
    "## Naive vs tz-awre 시간대\n",
    "`\"나이브(Naive)\"`란 용어는 `시간대(timezone) 정보를 갖지 않는` 시간 관련 데이터를 가리킵니다.  \n",
    "파이썬의 `datetime` 라이브러리에서는 시간대 정보 없이 날짜와 시간만을 다루는 객체를 \"나이브\"하다고 표현합니다.  \n",
    "즉, \"나이브\"한 `datetime` 객체는 특정한 지역이나 표준 시간대를 고려하지 않습니다.\n",
    "\n",
    "예를 들어, 2023년 8월 15일 10시를 `datetime` 객체로 나타내면 아래와 같습니다:\n",
    "\n",
    "```python\n",
    "import datetime\n",
    "\n",
    "naive_datetime = datetime.datetime(2023, 8, 15, 10, 0)\n",
    "print(naive_datetime)\n",
    "```\n",
    "\n",
    "위의 `naive_datetime` 객체는 시간대 정보를 갖지 않습니다. 이 객체는 로컬 시스템의 기본 시간대를 따르게 됩니다. 이것은 시간대 변경이나 다양한 시간대의 변환을 고려하지 않고 단순히 날짜와 시간 정보를 저장하는 객체입니다.\n",
    "\n",
    "나이브한 `datetime` 객체를 사용할 때 주의해야 할 점은 다음과 같습니다:\n",
    "\n",
    "1. **시간대 변환 문제**: 나이브한 객체를 다른 시간대로 변환하면 부정확한 결과를 얻을 수 있습니다.\n",
    "2. **시간대 정보 손실**: 나이브한 객체는 시간대 정보가 없으므로 다른 시간대에서 언제 발생한 사건인지 파악하기 어려울 수 있습니다.\n",
    "\n",
    "이러한 이유로 시간대를 다루는 경우에는 `datetime` 객체를 \"안전하게(tz-aware)\" 만드는 것이 중요합니다. \"안전한\" `datetime` 객체는 시간대 정보를 포함하며, 시간대 변환 등의 작업을 정확하게 수행할 수 있습니다. 이를 위해서는 `dateutil.tz` 모듈이나 `pytz` 라이브러리 등을 사용하여 `datetime` 객체를 시간대 정보와 함께 생성하고 다루는 것이 좋습니다."
   ]
  },
  {
   "cell_type": "raw",
   "id": "18dfe409-cba8-48f9-a66b-db88348e0e9c",
   "metadata": {},
   "source": [
    "파이썬에서 시간대 정보를 처리하기 위해서는 pytz를 사용합니다.\n",
    "pytz 라이브러리는 다양한 시간대의 변환과 처리를 지원합니다"
   ]
  },
  {
   "cell_type": "markdown",
   "id": "f4ddac86-4f89-45b6-8b9b-bbd05db098cc",
   "metadata": {},
   "source": [
    "## tzinfo\n",
    "\n",
    "`tzinfo`는 파이썬의 `datetime` 모듈에서 시간대(Time Zone) 정보를 나타내는 추상 기본 클래스(Abstract Base Class)입니다. 이 클래스를 사용하여 `datetime` 객체에 시간대 정보를 추가할 수 있습니다.\n",
    "\n",
    "\n",
    "## pytz \n",
    "\n",
    "`pytz`는 파이썬에서 시간대(Time Zone) 정보를 처리하고 다루는 라이브러리입니다. 파이썬의 내장 `datetime` 모듈은 기본적으로 시간대 정보를 다루는 기능이 제한적이기 때문에, `pytz` 라이브러리는 이를 보완하여 다양한 시간대의 변환과 처리를 지원합니다. `pytz`는 파이썬의 `datetime` 모듈과 함께 사용하여 시간대 정보를 적용한 날짜와 시간을 다루는 작업을 돕는 도구로 사용됩니다.\n",
    "\n",
    "`pytz` 라이브러리의 주요 기능과 특징은 다음과 같습니다:\n",
    "\n",
    "1. 다양한 시간대 지원: `pytz`는 전 세계의 다양한 시간대를 지원합니다. 오래된 시간대부터 최신 시간대까지 포함하고 있어, 다양한 국가와 지역의 시간을 정확하게 다룰 수 있습니다.\n",
    "\n",
    "2. 오프셋과 시간대 이름: `pytz`는 시간대의 오프셋(offset)과 시간대의 이름을 다루는 클래스와 함수를 제공합니다. 이를 통해 시간대 변환 및 연산이 용이해집니다.\n",
    "\n",
    "3. `datetime` 객체와 함께 사용: `pytz`는 `datetime` 모듈과 밀접하게 연동되어 시간대 정보를 가진 `datetime` 객체를 생성하고, 시간대 변환, 비교 등을 할 수 있도록 합니다.\n",
    "\n",
    "4. 데이터베이스 기반 시간대 정보: `pytz`는 Olson 데이터베이스를 기반으로 시간대 정보를 제공합니다. 이 데이터베이스는 전 세계의 시간대 정보를 관리하며, `pytz`는 이 정보를 활용하여 정확한 시간대 처리를 가능케 합니다.  https://en.wikipedia.org/wiki/List_of_tz_database_time_zones\n",
    "\n",
    "5. 유연한 인터페이스: `pytz`는 다양한 시간대 정보를 다루는 데 필요한 유연한 인터페이스를 제공합니다. 시간대 이름, 오프셋, DST(Daylight Saving Time) 등을 조작하고 변환할 수 있습니다.\n"
   ]
  },
  {
   "cell_type": "raw",
   "id": "474992e4-79b3-4bb9-9de5-8a92be961075",
   "metadata": {},
   "source": [
    "우선 timezone 정보를 포함하고 있지 않은 datetime 객체를 생성해보도록 하겠습니다."
   ]
  },
  {
   "cell_type": "code",
   "execution_count": 17,
   "id": "6e0e6e72-1a0a-4caf-b340-7a326f89f092",
   "metadata": {
    "tags": []
   },
   "outputs": [
    {
     "data": {
      "text/plain": [
       "(datetime.datetime(2023, 8, 7, 15, 30), 1691389800.0)"
      ]
     },
     "execution_count": 17,
     "metadata": {},
     "output_type": "execute_result"
    }
   ],
   "source": [
    "from datetime import datetime\n",
    "\n",
    "dt = datetime(2023, 8, 7, 15, 30, 0)\n",
    "dt, dt.timestamp() # naive 시간대"
   ]
  },
  {
   "cell_type": "raw",
   "id": "8ca47ccf-268f-4d29-8185-6ef9dfa1fe4d",
   "metadata": {},
   "source": [
    "출력해보면 시간대 정보가 들어가 있지 않습니다."
   ]
  },
  {
   "cell_type": "raw",
   "id": "cc8fba51-6fe8-4264-a876-55f6123ee073",
   "metadata": {},
   "source": [
    "astimezone 메소드를 호출하여 시간대 정보를 입력합니다.\n",
    "이때 시간대 정보는 pytz 라이브러리를 활용하여 Asia/Seoul로 입력합니다."
   ]
  },
  {
   "cell_type": "code",
   "execution_count": 18,
   "id": "b47ae587-531c-4614-b535-97aabbe1455e",
   "metadata": {
    "tags": []
   },
   "outputs": [
    {
     "data": {
      "text/plain": [
       "(datetime.datetime(2023, 8, 7, 15, 30, tzinfo=<DstTzInfo 'Asia/Seoul' KST+9:00:00 STD>),\n",
       " 1691389800.0)"
      ]
     },
     "execution_count": 18,
     "metadata": {},
     "output_type": "execute_result"
    }
   ],
   "source": [
    "import pytz\n",
    "\n",
    "dt_seoul = dt.astimezone(pytz.timezone('Asia/Seoul'))\n",
    "dt_seoul, dt_seoul.timestamp()"
   ]
  },
  {
   "cell_type": "raw",
   "id": "a173a9f4-88d3-4192-b517-92f2356c8a30",
   "metadata": {},
   "source": [
    "그러면 이제 datetime 객체에 tzinfo 속성이 추가된것을 볼 수 있습니다."
   ]
  },
  {
   "cell_type": "raw",
   "id": "b3576aa2-6a1f-4c4a-8673-c1c5c5e7ac39",
   "metadata": {},
   "source": [
    "이제 부터는 astimezone() 메소드를 활용하여 timezone 을 변경하면\n",
    "date, time 속성이 해당 timezone 에 맞게 자동으로 변경되는 것을 확인할 수 있습니다."
   ]
  },
  {
   "cell_type": "code",
   "execution_count": 19,
   "id": "af69791e-b0c3-4c10-b57b-03adeeb12fa7",
   "metadata": {
    "tags": []
   },
   "outputs": [
    {
     "data": {
      "text/plain": [
       "(datetime.datetime(2023, 8, 7, 2, 30, tzinfo=<DstTzInfo 'America/New_York' EDT-1 day, 20:00:00 DST>),\n",
       " 1691389800.0)"
      ]
     },
     "execution_count": 19,
     "metadata": {},
     "output_type": "execute_result"
    }
   ],
   "source": [
    "dt_ny = dt_seoul.astimezone(pytz.timezone('America/New_York'))\n",
    "dt_ny, dt_ny.timestamp() # tz-aware 시간대"
   ]
  },
  {
   "cell_type": "raw",
   "id": "cd4a2be0-fd02-44ec-b847-2c64826d25cf",
   "metadata": {},
   "source": [
    "pytz 에서 제공하는 시간대를 출력하는 방법에 대해서 알아보도록 하겠습니다>"
   ]
  },
  {
   "cell_type": "code",
   "execution_count": 11,
   "id": "4c1fcb80-5efd-439b-81c0-5bedb518a730",
   "metadata": {
    "tags": []
   },
   "outputs": [
    {
     "name": "stdout",
     "output_type": "stream",
     "text": [
      "사용 가능한 모든 시간대: 596 ['Africa/Abidjan', 'Africa/Accra', 'Africa/Addis_Ababa', 'Africa/Algiers', 'Africa/Asmara', 'Africa/Asmera', 'Africa/Bamako', 'Africa/Bangui', 'Africa/Banjul', 'Africa/Bissau']\n",
      "일반적으로 사용되는 시간대: 433 ['Africa/Abidjan', 'Africa/Accra', 'Africa/Addis_Ababa', 'Africa/Algiers', 'Africa/Asmara', 'Africa/Bamako', 'Africa/Bangui', 'Africa/Banjul', 'Africa/Bissau', 'Africa/Blantyre']\n"
     ]
    }
   ],
   "source": [
    "import pytz\n",
    "\n",
    "# 사용 가능한 모든 시간대 출력\n",
    "all_timezones = pytz.all_timezones\n",
    "print(\"사용 가능한 모든 시간대:\", len(all_timezones), all_timezones[:10])\n",
    "\n",
    "# 일반적으로 사용되는 시간대 출력\n",
    "common_timezones = pytz.common_timezones\n",
    "print(\"일반적으로 사용되는 시간대:\", len(common_timezones), common_timezones[:10])"
   ]
  },
  {
   "cell_type": "raw",
   "id": "5859e29b-bfd4-44c9-80a7-35fcf68f8da6",
   "metadata": {},
   "source": [
    "이번에는 timedelta 에 대해서 알아보도록 하겠습니다.\n",
    "\n",
    "`timedelta`는 파이썬의 내장 모듈인 `datetime`에서 제공하는 클래스로,  \n",
    "두 날짜 또는 시간 사이의 시간 간격을 나타내는 데 사용됩니다.  \n",
    "`timedelta` 객체는 일(day), 초(second), 마이크로초(microsecond) 등의 시간 단위로 간격을 표현할 수 있습니다.  \n",
    "주로 날짜와 시간 연산에서 일정 기간을 더하거나 빼는 등의 작업에 활용됩니다.\n",
    "\n",
    "예제코드를 통해 살펴보도록 하겠습니다."
   ]
  },
  {
   "cell_type": "markdown",
   "id": "32e6434f-d433-4842-ba16-2cbc61c246e5",
   "metadata": {},
   "source": [
    "## timedelta\n",
    "\n",
    "`timedelta`는 파이썬의 내장 모듈인 `datetime`에서 제공하는 클래스로,  \n",
    "두 날짜 또는 시간 사이의 시간 간격을 나타내는 데 사용됩니다.  \n",
    "`timedelta` 객체는 일(day), 초(second), 마이크로초(microsecond) 등의 시간 단위로 간격을 표현할 수 있습니다.  \n",
    "주로 날짜와 시간 연산에서 일정 기간을 더하거나 빼는 등의 작업에 활용됩니다.\n",
    "\n",
    "`timedelta` 객체의 생성자는 다음과 같이 사용됩니다:\n",
    "\n",
    "```python\n",
    "from datetime import timedelta\n",
    "\n",
    "# 일(day), 초(second), 마이크로초(microsecond) 단위로 간격 생성\n",
    "time_gap = timedelta(days=5, seconds=3600, microseconds=5000)\n",
    "```\n",
    "\n",
    "`timedelta` 객체의 주요 속성과 메서드는 다음과 같습니다:\n",
    "\n",
    "1. `days`: 일(day) 단위의 간격을 나타내는 속성입니다.\n",
    "2. `seconds`: 초(second) 단위의 간격을 나타내는 속성입니다.\n",
    "3. `microseconds`: 마이크로초(microsecond) 단위의 간격을 나타내는 속성입니다.\n",
    "4. `total_seconds()`: `timedelta` 객체의 총 초(second) 수를 반환하는 메서드입니다.\n",
    "\n",
    "`timedelta` 객체는 `datetime` 객체와 함께 사용하여 시간 연산을 수행할 때 유용합니다."
   ]
  },
  {
   "cell_type": "raw",
   "id": "48b35a36-98a4-4b06-b78d-d527882624b7",
   "metadata": {},
   "source": [
    "주어진 datetime객체로부터 부터 2일 후의 시간정보를 확인할 수 있는 예제입니다."
   ]
  },
  {
   "cell_type": "code",
   "execution_count": 13,
   "id": "c1ae04a4-9877-4798-a370-3b3682cbac92",
   "metadata": {
    "tags": []
   },
   "outputs": [
    {
     "data": {
      "text/plain": [
       "datetime.datetime(2023, 9, 4, 8, 9, 38, 797337)"
      ]
     },
     "execution_count": 13,
     "metadata": {},
     "output_type": "execute_result"
    }
   ],
   "source": [
    "# 2일 후의 날짜 계산\n",
    "from datetime import datetime, timedelta\n",
    "datetime(2023, 9, 2, 8, 9, 38, 797337) + timedelta(days=2)"
   ]
  },
  {
   "cell_type": "code",
   "execution_count": 15,
   "id": "fbc80dfa-6d9d-4a32-9a1d-affafd4e4bd5",
   "metadata": {
    "tags": []
   },
   "outputs": [
    {
     "data": {
      "text/plain": [
       "datetime.datetime(2023, 9, 2, 14, 30)"
      ]
     },
     "execution_count": 15,
     "metadata": {},
     "output_type": "execute_result"
    }
   ],
   "source": [
    "# 3시간 30분 후의 시간 계산\n",
    "datetime(2023, 9, 2, 11, 00) + timedelta(hours=3, minutes=30)"
   ]
  },
  {
   "cell_type": "code",
   "execution_count": 16,
   "id": "cf404c78-4c60-4358-bf46-21366ac56ecc",
   "metadata": {
    "tags": []
   },
   "outputs": [
    {
     "data": {
      "text/plain": [
       "datetime.timedelta(days=9, seconds=3888)"
      ]
     },
     "execution_count": 16,
     "metadata": {},
     "output_type": "execute_result"
    }
   ],
   "source": [
    "# 두 날짜 사이의 일수 계산\n",
    "date1 = datetime(2023, 8, 1, 9, 10, 23)\n",
    "date2 = datetime(2023, 8, 10, 10, 15, 11)\n",
    "date2 - date1"
   ]
  },
  {
   "cell_type": "code",
   "execution_count": 17,
   "id": "be2a1866-9c74-4902-b45f-072d1840450e",
   "metadata": {
    "tags": []
   },
   "outputs": [
    {
     "data": {
      "text/plain": [
       "1.0799999999999998"
      ]
     },
     "execution_count": 17,
     "metadata": {},
     "output_type": "execute_result"
    }
   ],
   "source": [
    "(date2-date1).seconds/60/60"
   ]
  },
  {
   "cell_type": "raw",
   "id": "40edaa01-df40-4bff-840a-da46f56254f2",
   "metadata": {},
   "source": [
    "pandas의 to_datetime 함수는 문자열이나 숫자 등의 다양한 형식의 입력을 받아\n",
    "DatetimeIndex 또는 Timestamp 객체로 변환하는 기능을 제공하는 함수입니다.\n",
    "이 함수를 사용하면 날짜와 시간 데이터를 처리하고 pandas에서 다양한 시간 관련 작업을 수행할 수 있습니다."
   ]
  },
  {
   "cell_type": "markdown",
   "id": "183abc9d-3d39-413d-a5f5-7be89591b7dd",
   "metadata": {},
   "source": [
    "# pandas 의 시계열 데이터 처리\n",
    "\n",
    "## to_datetime()\n",
    "`pandas`의 `to_datetime` 함수는 문자열이나 숫자 등의 다양한 형식의 입력을 받아  \n",
    "`DatetimeIndex` 또는 `Timestamp` 객체로 변환하는 기능을 제공하는 함수입니다.  \n",
    "이 함수를 사용하면 날짜와 시간 데이터를 처리하고 `pandas`에서 다양한 시간 관련 작업을 수행할 수 있습니다.\n",
    "\n",
    "`to_datetime` 함수의 주요 기능과 사용법은 다음과 같습니다:\n",
    "\n",
    "1. **문자열을 날짜로 변환**: `to_datetime` 함수는 문자열을 날짜 또는 시간 형식으로 변환할 수 있습니다. 이 때, 문자열의 형식을 지정할 수 있습니다.\n",
    "\n",
    "2. **숫자나 문자열을 타임스탬프로 변환**: `to_datetime` 함수는 숫자나 문자열을 `Timestamp` 객체로 변환할 수 있습니다.\n",
    "\n",
    "3. **시계열 데이터 변환**: `to_datetime` 함수는 데이터프레임의 열이나 시리즈를 변환할 수 있습니다. 이 때, 컬럼의 이름이나 인덱스를 지정하여 변환할 수 있습니다.\n",
    "\n",
    "4. **옵션 설정**: `to_datetime` 함수는 다양한 옵션을 설정하여 날짜 형식을 조정하거나 누락된 데이터 처리를 할 수 있습니다.\n"
   ]
  },
  {
   "cell_type": "code",
   "execution_count": 25,
   "id": "f43b5513-87e5-41a5-a1cb-7207c90e10c1",
   "metadata": {
    "tags": []
   },
   "outputs": [
    {
     "data": {
      "text/plain": [
       "Timestamp('2023-08-07 10:01:23')"
      ]
     },
     "execution_count": 25,
     "metadata": {},
     "output_type": "execute_result"
    }
   ],
   "source": [
    "# 문자열을 날짜로 변환\n",
    "import pandas as pd\n",
    "\n",
    "pd.to_datetime('2023-08-07 10:01:23')"
   ]
  },
  {
   "cell_type": "code",
   "execution_count": 19,
   "id": "dce58bf1-8f33-446b-910d-beb77fa7bd13",
   "metadata": {
    "tags": []
   },
   "outputs": [
    {
     "data": {
      "text/plain": [
       "Timestamp('2023-03-15 09:46:40')"
      ]
     },
     "execution_count": 19,
     "metadata": {},
     "output_type": "execute_result"
    }
   ],
   "source": [
    "# 숫자(에포크시간)를 타임스탬프로 변환\n",
    "import pandas as pd\n",
    "\n",
    "pd.to_datetime(1678873600, unit='s')"
   ]
  },
  {
   "cell_type": "raw",
   "id": "5f4c7ed8-4fae-4e74-95cb-8a0601584b46",
   "metadata": {},
   "source": [
    "import pandas as pd\n",
    "import numpy as np\n",
    "\n",
    "# 유닉스 에포크 시간 배열 생성\n",
    "unix_epoch_times = [1628299200, 1628385600, 1628472000, 1628558400]\n",
    "\n",
    "# 유닉스 에포크 시간 배열을 DatetimeIndex로 변환\n",
    "datetime_index = pd.to_datetime(unix_epoch_times, unit='s')\n",
    "df = pd.DataFrame(\n",
    "    dict(\n",
    "        Datetime=datetime_index, \n",
    "        value=np.random.randint(10,20,len(datetime_index))\n",
    "    )\n",
    ")\n",
    "print(df)\n"
   ]
  },
  {
   "cell_type": "raw",
   "id": "3b232714-a98a-4bdb-a157-9af2de1eac0b",
   "metadata": {},
   "source": [
    "to_datetime은 문자열을 포함하는 객체를 인자로 받아서\n",
    "해당문자열을 datetime으로 변환하여 \n",
    "datetime형식을 저장하는 시리즈로 변환 결과를 리턴할 수도 있습니다."
   ]
  },
  {
   "cell_type": "code",
   "execution_count": 22,
   "id": "297ee3b3-4e37-4b38-ae1a-465e4e4087d6",
   "metadata": {
    "tags": []
   },
   "outputs": [
    {
     "data": {
      "text/plain": [
       "0    2023-08-01\n",
       "1    2023-08-02\n",
       "2    2023-08-03\n",
       "dtype: object"
      ]
     },
     "execution_count": 22,
     "metadata": {},
     "output_type": "execute_result"
    }
   ],
   "source": [
    "# 시리즈 변환\n",
    "s = pd.Series(['2023-08-01', '2023-08-02', '2023-08-03'])\n",
    "s\n"
   ]
  },
  {
   "cell_type": "code",
   "execution_count": 28,
   "id": "ecd9bff1-8198-4406-846c-3e8907c9e496",
   "metadata": {
    "tags": []
   },
   "outputs": [
    {
     "data": {
      "text/plain": [
       "0   2023-08-01\n",
       "1   2023-08-02\n",
       "2   2023-08-03\n",
       "dtype: datetime64[ns]"
      ]
     },
     "execution_count": 28,
     "metadata": {},
     "output_type": "execute_result"
    }
   ],
   "source": [
    "s2 = pd.to_datetime(s)\n",
    "s2\n"
   ]
  },
  {
   "cell_type": "raw",
   "id": "d9586b64-66f3-4092-a5aa-a70e989419b7",
   "metadata": {},
   "source": [
    "시리즈를 인자로 받을 수 있기 때문에\n",
    "데이터프레임의 열단위로 데이터를 처리하는데 편리합니다."
   ]
  },
  {
   "cell_type": "code",
   "execution_count": 23,
   "id": "772eeac9-8931-46e0-a312-f955d16ae1a0",
   "metadata": {
    "tags": []
   },
   "outputs": [
    {
     "data": {
      "text/html": [
       "<div>\n",
       "<style scoped>\n",
       "    .dataframe tbody tr th:only-of-type {\n",
       "        vertical-align: middle;\n",
       "    }\n",
       "\n",
       "    .dataframe tbody tr th {\n",
       "        vertical-align: top;\n",
       "    }\n",
       "\n",
       "    .dataframe thead th {\n",
       "        text-align: right;\n",
       "    }\n",
       "</style>\n",
       "<table border=\"1\" class=\"dataframe\">\n",
       "  <thead>\n",
       "    <tr style=\"text-align: right;\">\n",
       "      <th></th>\n",
       "      <th>Date</th>\n",
       "      <th>Value</th>\n",
       "    </tr>\n",
       "  </thead>\n",
       "  <tbody>\n",
       "    <tr>\n",
       "      <th>0</th>\n",
       "      <td>2023-08-01</td>\n",
       "      <td>10</td>\n",
       "    </tr>\n",
       "    <tr>\n",
       "      <th>1</th>\n",
       "      <td>2023-08-02</td>\n",
       "      <td>20</td>\n",
       "    </tr>\n",
       "    <tr>\n",
       "      <th>2</th>\n",
       "      <td>2023-08-03</td>\n",
       "      <td>30</td>\n",
       "    </tr>\n",
       "  </tbody>\n",
       "</table>\n",
       "</div>"
      ],
      "text/plain": [
       "         Date  Value\n",
       "0  2023-08-01     10\n",
       "1  2023-08-02     20\n",
       "2  2023-08-03     30"
      ]
     },
     "execution_count": 23,
     "metadata": {},
     "output_type": "execute_result"
    }
   ],
   "source": [
    "# 데이터프레임 변환\n",
    "data = {'Date': ['2023-08-01', '2023-08-02', '2023-08-03'],\n",
    "        'Value': [10, 20, 30]}\n",
    "df = pd.DataFrame(data)\n",
    "df\n"
   ]
  },
  {
   "cell_type": "raw",
   "id": "e11911fd-1fbd-46cb-9552-66ac44c389af",
   "metadata": {},
   "source": [
    "아래의 코드는 Date컬럼의 문자열 데이터를 datetime 객체로 변환하여\n",
    "TS라는 이름의 컬럼으로 저장하는 코드입니다."
   ]
  },
  {
   "cell_type": "code",
   "execution_count": 26,
   "id": "3e7b66cf-b7f8-4d73-8861-411c3525889d",
   "metadata": {
    "tags": []
   },
   "outputs": [
    {
     "data": {
      "text/html": [
       "<div>\n",
       "<style scoped>\n",
       "    .dataframe tbody tr th:only-of-type {\n",
       "        vertical-align: middle;\n",
       "    }\n",
       "\n",
       "    .dataframe tbody tr th {\n",
       "        vertical-align: top;\n",
       "    }\n",
       "\n",
       "    .dataframe thead th {\n",
       "        text-align: right;\n",
       "    }\n",
       "</style>\n",
       "<table border=\"1\" class=\"dataframe\">\n",
       "  <thead>\n",
       "    <tr style=\"text-align: right;\">\n",
       "      <th></th>\n",
       "      <th>Date</th>\n",
       "      <th>Value</th>\n",
       "      <th>TS</th>\n",
       "    </tr>\n",
       "  </thead>\n",
       "  <tbody>\n",
       "    <tr>\n",
       "      <th>0</th>\n",
       "      <td>2023-08-01</td>\n",
       "      <td>10</td>\n",
       "      <td>2023-08-01</td>\n",
       "    </tr>\n",
       "    <tr>\n",
       "      <th>1</th>\n",
       "      <td>2023-08-02</td>\n",
       "      <td>20</td>\n",
       "      <td>2023-08-02</td>\n",
       "    </tr>\n",
       "    <tr>\n",
       "      <th>2</th>\n",
       "      <td>2023-08-03</td>\n",
       "      <td>30</td>\n",
       "      <td>2023-08-03</td>\n",
       "    </tr>\n",
       "  </tbody>\n",
       "</table>\n",
       "</div>"
      ],
      "text/plain": [
       "         Date  Value         TS\n",
       "0  2023-08-01     10 2023-08-01\n",
       "1  2023-08-02     20 2023-08-02\n",
       "2  2023-08-03     30 2023-08-03"
      ]
     },
     "execution_count": 26,
     "metadata": {},
     "output_type": "execute_result"
    }
   ],
   "source": [
    "df[\"TS\"] = pd.to_datetime(df.Date)\n",
    "df"
   ]
  },
  {
   "cell_type": "raw",
   "id": "7bbc3a8a-7502-4001-83e8-db09150662cb",
   "metadata": {},
   "source": [
    "info() 메소드를 통해 데이터 타입을 확인해보면\n",
    "TS컬럼이 datetime형식의 데이터를 저장하고 있음을 볼 수 있습니다."
   ]
  },
  {
   "cell_type": "code",
   "execution_count": 27,
   "id": "82644884-0153-44c8-8bfc-8a1d8a0c84fc",
   "metadata": {
    "tags": []
   },
   "outputs": [
    {
     "name": "stdout",
     "output_type": "stream",
     "text": [
      "<class 'pandas.core.frame.DataFrame'>\n",
      "RangeIndex: 3 entries, 0 to 2\n",
      "Data columns (total 3 columns):\n",
      " #   Column  Non-Null Count  Dtype         \n",
      "---  ------  --------------  -----         \n",
      " 0   Date    3 non-null      object        \n",
      " 1   Value   3 non-null      int64         \n",
      " 2   TS      3 non-null      datetime64[ns]\n",
      "dtypes: datetime64[ns](1), int64(1), object(1)\n",
      "memory usage: 200.0+ bytes\n"
     ]
    }
   ],
   "source": [
    "df.info()"
   ]
  },
  {
   "cell_type": "raw",
   "id": "46a1fc32-b5ee-4f0b-bf9e-52530e3a353d",
   "metadata": {},
   "source": [
    "pandas 에서 datetime을 처리하는 함수에 대해서 알아보도록 하겠습니다."
   ]
  },
  {
   "cell_type": "markdown",
   "id": "093a3b9d-4a40-46f3-b315-120374940926",
   "metadata": {},
   "source": [
    "## pandas에서 datetime 활용\n",
    "\n",
    "`pandas`에서 `datetime` 객체는 시계열 데이터와 날짜, 시간 정보를 표현하고 다루는 데 사용되는 중요한 데이터 유형입니다.  \n",
    "`datetime` 객체는 `pandas` 라이브러리에서 시간 관련 연산과 분석을 수행하는 데 필수적인 도구로 사용됩니다.  \n",
    "객체는 시계열 데이터를 생성하고 다루는 데 중요한 역할을 합니다.\n",
    "\n",
    "`pandas`에서 활용하는 `datetime` 객체의 주요 특징과 기능은 다음과 같습니다:\n",
    "\n",
    "1. **DatetimeIndex**: `pandas`에서 시계열 데이터를 다룰 때, `datetime` 객체는 `DatetimeIndex`의 요소로 사용됩니다. `DatetimeIndex`는 날짜와 시간을 색인으로 사용하는 데 특화된 데이터 구조입니다.\n",
    "\n",
    "2. **날짜와 시간 표현**: `datetime` 객체는 날짜와 시간 정보를 모두 포함하며, 연도, 월, 일, 시, 분, 초, 마이크로초 등을 표현할 수 있습니다.\n",
    "\n",
    "3. **시간 연산 및 변환**: `datetime` 객체는 시간 간격을 계산하거나 다른 시간 단위로 변환하는 기능을 제공합니다. 또한 시간대 변환과 관련된 작업도 처리할 수 있습니다.\n",
    "\n",
    "4. **표준 연산 및 함수 지원**: `datetime` 객체는 일반적인 연산자와 함수를 사용하여 시간 관련 작업을 수행할 수 있습니다. 예를 들어, 두 날짜의 차이를 계산하거나 특정 날짜와 시간을 생성하는 등의 작업이 가능합니다.\n",
    "\n",
    "5. **누락된 데이터 처리**: `pandas`의 `datetime` 객체는 누락된 날짜나 시간 데이터를 처리하고 채울 수 있는 기능을 제공합니다.\n",
    "\n",
    "6. **시각화 및 시계열 분석**: `datetime` 객체를 사용하여 시계열 데이터를 시각화하고 분석하는데 활용할 수 있습니다. `pandas`와 `matplotlib`을 연동하여 시계열 데이터를 그래프로 표현할 수 있습니다.\n"
   ]
  },
  {
   "cell_type": "raw",
   "id": "86303fac-6246-4297-b27c-80496516378f",
   "metadata": {},
   "source": [
    "pd.date_range()는 pandas 라이브러리에서 사용되는 함수로, 날짜 범위를 생성하는데 사용됩니다.\n",
    "예제를 통해서 알아보도록 하겠습니다."
   ]
  },
  {
   "cell_type": "markdown",
   "id": "3901e303-1897-4397-b372-0faa67710430",
   "metadata": {},
   "source": [
    "## date_range()\n",
    "\n",
    "`pd.date_range()`는 `pandas` 라이브러리에서 사용되는 함수로, 날짜 범위를 생성하는데 사용됩니다.  \n",
    "이 함수를 사용하면 특정 기간 동안 일정한 간격으로 날짜를 생성하여 `DatetimeIndex`를 생성할 수 있습니다.  \n",
    "이는 시계열 데이터를 다루거나 분석할 때 유용하게 활용됩니다.\n",
    "\n",
    "`pd.date_range()` 함수의 주요 인자와 사용법은 다음과 같습니다:\n",
    "\n",
    "1. `start`: 날짜 범위의 시작 날짜를 지정합니다. 날짜 형식으로 입력할 수 있습니다.\n",
    "2. `end`: 날짜 범위의 종료 날짜를 지정합니다. 날짜 형식으로 입력할 수 있습니다.\n",
    "3. `periods`: 생성할 날짜의 수를 지정합니다. `start`가 있을 경우 `end` 대신에 이 인자를 사용할 수 있습니다.\n",
    "4. `freq`: 생성할 날짜의 간격을 지정합니다. 예를 들어, 'D'는 일간격, 'H'는 시간 간격을 나타냅니다.\n",
    "5. `normalize`: 기본값은 False이며, True로 설정하면 시간을 00:00:00으로 정규화합니다.\n",
    "\n"
   ]
  },
  {
   "cell_type": "code",
   "execution_count": 32,
   "id": "9ca4e6b5-3ae1-48fb-b259-046d9f587452",
   "metadata": {
    "tags": []
   },
   "outputs": [
    {
     "data": {
      "text/plain": [
       "DatetimeIndex(['2023-01-01', '2023-01-02', '2023-01-03', '2023-01-04',\n",
       "               '2023-01-05', '2023-01-06', '2023-01-07', '2023-01-08',\n",
       "               '2023-01-09', '2023-01-10'],\n",
       "              dtype='datetime64[ns]', freq='D')"
      ]
     },
     "execution_count": 32,
     "metadata": {},
     "output_type": "execute_result"
    }
   ],
   "source": [
    "# 날짜 범위 생성: 2023년 1월 1일부터 2023년 1월 10일까지\n",
    "import pandas as pd\n",
    "pd.date_range(start='2023-01-01', end='2023-01-10', freq='D')"
   ]
  },
  {
   "cell_type": "code",
   "execution_count": 33,
   "id": "2067bbfe-9fd8-4b15-88c8-86b245f62680",
   "metadata": {
    "tags": []
   },
   "outputs": [
    {
     "data": {
      "text/plain": [
       "DatetimeIndex(['2023-01-01 09:00:00', '2023-01-01 10:00:00',\n",
       "               '2023-01-01 11:00:00', '2023-01-01 12:00:00',\n",
       "               '2023-01-01 13:00:00', '2023-01-01 14:00:00',\n",
       "               '2023-01-01 15:00:00', '2023-01-01 16:00:00',\n",
       "               '2023-01-01 17:00:00', '2023-01-01 18:00:00',\n",
       "               '2023-01-01 19:00:00', '2023-01-01 20:00:00',\n",
       "               '2023-01-01 21:00:00', '2023-01-01 22:00:00',\n",
       "               '2023-01-01 23:00:00', '2023-01-02 00:00:00',\n",
       "               '2023-01-02 01:00:00', '2023-01-02 02:00:00'],\n",
       "              dtype='datetime64[ns]', freq='H')"
      ]
     },
     "execution_count": 33,
     "metadata": {},
     "output_type": "execute_result"
    }
   ],
   "source": [
    "# 날짜 범위 생성: 2023년 1월 1일 00:00부터 2023년 1월 2일 02:00까지 시간단위로\n",
    "import pandas as pd\n",
    "pd.date_range(start='2023-01-01 09:00', end='2023-01-02 02:00', freq='H')"
   ]
  },
  {
   "cell_type": "raw",
   "id": "d2b777d1-d06e-4243-8525-bd93f0e634b6",
   "metadata": {
    "tags": []
   },
   "source": [
    "DatetimeIndex는 Datetime 타입의 객체를 DataFrame의 인덱스로 활용할 경우이며\n",
    "pandas에서는 이를 위한 유용한 함수들을 제공하고 있습니다.\n",
    "예제를 통해 확인해보도록 하겠습니다."
   ]
  },
  {
   "cell_type": "markdown",
   "id": "b6d52d53-043b-47bd-8e6d-1084f07815e9",
   "metadata": {},
   "source": [
    "## DatetimeIndex\n",
    "\n",
    "`DatetimeIndex`는 Datetime 타입의 객체를 DataFrame의 인덱스로 활용할 경우이며  \n",
    "이는 날짜와 시간 정보를 포함하는 인덱스(Index)로서, 데이터프레임이나 시리즈의 행을 식별하는 데 활용됩니다.  \n",
    "`DatetimeIndex`는 시계열 데이터를 쉽게 조작하고 분석하는데 매우 유용합니다.\n",
    "\n",
    "`DatetimeIndex`의 주요 특징과 기능은 다음과 같습니다:\n",
    "\n",
    "1. **시계열 데이터와 연동**: `DatetimeIndex`는 시계열 데이터를 다루는 데 최적화된 구조입니다. 시계열 데이터를 데이터프레임이나 시리즈와 함께 사용할 때, 인덱스로 `DatetimeIndex`를 사용하면 데이터를 날짜와 시간에 기반하여 쉽게 필터링하거나 조작할 수 있습니다.\n",
    "\n",
    "2. **데이터 선택 및 슬라이싱**: `DatetimeIndex`를 사용하면 날짜 범위를 기반으로 데이터를 선택하거나 슬라이싱하는 작업을 쉽게 수행할 수 있습니다. 원하는 날짜 범위 내의 데이터를 추출하거나 필터링하는데 용이합니다.\n",
    "\n",
    "3. **데이터 리샘플링**: `DatetimeIndex`는 시계열 데이터의 리샘플링 작업을 지원합니다. 데이터를 주기적으로 묶어서 집계하거나 변환하는 작업을 할 때 유용합니다.\n",
    "\n",
    "4. **시간 간격 연산**: `DatetimeIndex`를 사용하여 시간 간격을 계산하거나 다른 시간 단위로 변환하는 작업을 수행할 수 있습니다.\n",
    "\n",
    "5. **데이터 정렬**: `DatetimeIndex`는 날짜와 시간에 기반하여 데이터를 정렬하는 데 사용됩니다. 데이터를 시간순으로 정렬할 수 있습니다.\n",
    "\n"
   ]
  },
  {
   "cell_type": "code",
   "execution_count": 28,
   "id": "0de12505-d11d-428d-8ef8-e104349f34d6",
   "metadata": {
    "tags": []
   },
   "outputs": [
    {
     "data": {
      "text/html": [
       "<div>\n",
       "<style scoped>\n",
       "    .dataframe tbody tr th:only-of-type {\n",
       "        vertical-align: middle;\n",
       "    }\n",
       "\n",
       "    .dataframe tbody tr th {\n",
       "        vertical-align: top;\n",
       "    }\n",
       "\n",
       "    .dataframe thead th {\n",
       "        text-align: right;\n",
       "    }\n",
       "</style>\n",
       "<table border=\"1\" class=\"dataframe\">\n",
       "  <thead>\n",
       "    <tr style=\"text-align: right;\">\n",
       "      <th></th>\n",
       "      <th>Value</th>\n",
       "    </tr>\n",
       "  </thead>\n",
       "  <tbody>\n",
       "    <tr>\n",
       "      <th>2023-01-31 18:00:00</th>\n",
       "      <td>8</td>\n",
       "    </tr>\n",
       "    <tr>\n",
       "      <th>2023-01-31 19:00:00</th>\n",
       "      <td>4</td>\n",
       "    </tr>\n",
       "    <tr>\n",
       "      <th>2023-01-31 20:00:00</th>\n",
       "      <td>6</td>\n",
       "    </tr>\n",
       "    <tr>\n",
       "      <th>2023-01-31 21:00:00</th>\n",
       "      <td>9</td>\n",
       "    </tr>\n",
       "    <tr>\n",
       "      <th>2023-01-31 22:00:00</th>\n",
       "      <td>1</td>\n",
       "    </tr>\n",
       "    <tr>\n",
       "      <th>2023-01-31 23:00:00</th>\n",
       "      <td>0</td>\n",
       "    </tr>\n",
       "    <tr>\n",
       "      <th>2023-02-01 00:00:00</th>\n",
       "      <td>5</td>\n",
       "    </tr>\n",
       "    <tr>\n",
       "      <th>2023-02-01 01:00:00</th>\n",
       "      <td>10</td>\n",
       "    </tr>\n",
       "    <tr>\n",
       "      <th>2023-02-01 02:00:00</th>\n",
       "      <td>8</td>\n",
       "    </tr>\n",
       "    <tr>\n",
       "      <th>2023-02-01 03:00:00</th>\n",
       "      <td>8</td>\n",
       "    </tr>\n",
       "  </tbody>\n",
       "</table>\n",
       "</div>"
      ],
      "text/plain": [
       "                     Value\n",
       "2023-01-31 18:00:00      8\n",
       "2023-01-31 19:00:00      4\n",
       "2023-01-31 20:00:00      6\n",
       "2023-01-31 21:00:00      9\n",
       "2023-01-31 22:00:00      1\n",
       "2023-01-31 23:00:00      0\n",
       "2023-02-01 00:00:00      5\n",
       "2023-02-01 01:00:00     10\n",
       "2023-02-01 02:00:00      8\n",
       "2023-02-01 03:00:00      8"
      ]
     },
     "execution_count": 28,
     "metadata": {},
     "output_type": "execute_result"
    }
   ],
   "source": [
    "import pandas as pd\n",
    "import numpy as np\n",
    "\n",
    "data = np.random.randint(0,12,10)\n",
    "\n",
    "df = pd.DataFrame(\n",
    "    {\"Value\":data},\n",
    "    index = pd.date_range(start='2023-01-31 18:00', periods=len(data), freq=\"H\")\n",
    ")\n",
    "df"
   ]
  },
  {
   "cell_type": "raw",
   "id": "52844619-09ca-4b82-9f76-32d5fe59a535",
   "metadata": {},
   "source": [
    "문자열을 확용하여 특정 날짜 범위로 슬라이싱이 가능합니다.\n",
    "슬라이싱의 시작과 끝에 정확하게 일치하는 라벨의 datetime 이 없더라도\n",
    "해당 문자열을 datetiem으로 변환하여 시간 범위를 고려해서 자동으로 선택해줍니다."
   ]
  },
  {
   "cell_type": "code",
   "execution_count": 31,
   "id": "5b63eeda-6587-4816-9c04-120754a2bad9",
   "metadata": {
    "tags": []
   },
   "outputs": [
    {
     "data": {
      "text/html": [
       "<div>\n",
       "<style scoped>\n",
       "    .dataframe tbody tr th:only-of-type {\n",
       "        vertical-align: middle;\n",
       "    }\n",
       "\n",
       "    .dataframe tbody tr th {\n",
       "        vertical-align: top;\n",
       "    }\n",
       "\n",
       "    .dataframe thead th {\n",
       "        text-align: right;\n",
       "    }\n",
       "</style>\n",
       "<table border=\"1\" class=\"dataframe\">\n",
       "  <thead>\n",
       "    <tr style=\"text-align: right;\">\n",
       "      <th></th>\n",
       "      <th>Value</th>\n",
       "    </tr>\n",
       "  </thead>\n",
       "  <tbody>\n",
       "    <tr>\n",
       "      <th>2023-02-01 00:00:00</th>\n",
       "      <td>5</td>\n",
       "    </tr>\n",
       "    <tr>\n",
       "      <th>2023-02-01 01:00:00</th>\n",
       "      <td>10</td>\n",
       "    </tr>\n",
       "    <tr>\n",
       "      <th>2023-02-01 02:00:00</th>\n",
       "      <td>8</td>\n",
       "    </tr>\n",
       "  </tbody>\n",
       "</table>\n",
       "</div>"
      ],
      "text/plain": [
       "                     Value\n",
       "2023-02-01 00:00:00      5\n",
       "2023-02-01 01:00:00     10\n",
       "2023-02-01 02:00:00      8"
      ]
     },
     "execution_count": 31,
     "metadata": {},
     "output_type": "execute_result"
    }
   ],
   "source": [
    "# 특정 날짜 범위 선택\n",
    "df['2023-01-31 23:30':'2023-02-01 02:10']"
   ]
  },
  {
   "cell_type": "raw",
   "id": "7843cb7c-6dbf-436b-882a-3d9867bc17a1",
   "metadata": {},
   "source": [
    "문자열 대신 dateitme객체를 직접적으로 넣어주어도 됩니다."
   ]
  },
  {
   "cell_type": "code",
   "execution_count": 32,
   "id": "557f2758-af76-46a2-981e-0cc5b1070537",
   "metadata": {
    "tags": []
   },
   "outputs": [
    {
     "data": {
      "text/html": [
       "<div>\n",
       "<style scoped>\n",
       "    .dataframe tbody tr th:only-of-type {\n",
       "        vertical-align: middle;\n",
       "    }\n",
       "\n",
       "    .dataframe tbody tr th {\n",
       "        vertical-align: top;\n",
       "    }\n",
       "\n",
       "    .dataframe thead th {\n",
       "        text-align: right;\n",
       "    }\n",
       "</style>\n",
       "<table border=\"1\" class=\"dataframe\">\n",
       "  <thead>\n",
       "    <tr style=\"text-align: right;\">\n",
       "      <th></th>\n",
       "      <th>Value</th>\n",
       "    </tr>\n",
       "  </thead>\n",
       "  <tbody>\n",
       "    <tr>\n",
       "      <th>2023-02-01 00:00:00</th>\n",
       "      <td>5</td>\n",
       "    </tr>\n",
       "    <tr>\n",
       "      <th>2023-02-01 01:00:00</th>\n",
       "      <td>10</td>\n",
       "    </tr>\n",
       "    <tr>\n",
       "      <th>2023-02-01 02:00:00</th>\n",
       "      <td>8</td>\n",
       "    </tr>\n",
       "  </tbody>\n",
       "</table>\n",
       "</div>"
      ],
      "text/plain": [
       "                     Value\n",
       "2023-02-01 00:00:00      5\n",
       "2023-02-01 01:00:00     10\n",
       "2023-02-01 02:00:00      8"
      ]
     },
     "execution_count": 32,
     "metadata": {},
     "output_type": "execute_result"
    }
   ],
   "source": [
    "# 특정 날짜 범위 선택\n",
    "from datetime import datetime\n",
    "df[datetime(2023,1,31,23,30):datetime(2023,2,1,2,30)]\n"
   ]
  },
  {
   "cell_type": "raw",
   "id": "624130a9-f213-4588-81c8-ea66926e23ad",
   "metadata": {},
   "source": [
    "loc인덱서를 활용하여 문자열로 특정날짜를 입력하면\n",
    "해당 날짜에 해당하는 행을 모두 확인할 수 있습니다."
   ]
  },
  {
   "cell_type": "code",
   "execution_count": 35,
   "id": "4775aae2-458c-4db8-9e8f-83eb7b42acb9",
   "metadata": {
    "tags": []
   },
   "outputs": [
    {
     "data": {
      "text/html": [
       "<div>\n",
       "<style scoped>\n",
       "    .dataframe tbody tr th:only-of-type {\n",
       "        vertical-align: middle;\n",
       "    }\n",
       "\n",
       "    .dataframe tbody tr th {\n",
       "        vertical-align: top;\n",
       "    }\n",
       "\n",
       "    .dataframe thead th {\n",
       "        text-align: right;\n",
       "    }\n",
       "</style>\n",
       "<table border=\"1\" class=\"dataframe\">\n",
       "  <thead>\n",
       "    <tr style=\"text-align: right;\">\n",
       "      <th></th>\n",
       "      <th>Value</th>\n",
       "    </tr>\n",
       "  </thead>\n",
       "  <tbody>\n",
       "    <tr>\n",
       "      <th>2023-01-31 18:00:00</th>\n",
       "      <td>8</td>\n",
       "    </tr>\n",
       "    <tr>\n",
       "      <th>2023-01-31 19:00:00</th>\n",
       "      <td>4</td>\n",
       "    </tr>\n",
       "    <tr>\n",
       "      <th>2023-01-31 20:00:00</th>\n",
       "      <td>6</td>\n",
       "    </tr>\n",
       "    <tr>\n",
       "      <th>2023-01-31 21:00:00</th>\n",
       "      <td>9</td>\n",
       "    </tr>\n",
       "    <tr>\n",
       "      <th>2023-01-31 22:00:00</th>\n",
       "      <td>1</td>\n",
       "    </tr>\n",
       "    <tr>\n",
       "      <th>2023-01-31 23:00:00</th>\n",
       "      <td>0</td>\n",
       "    </tr>\n",
       "  </tbody>\n",
       "</table>\n",
       "</div>"
      ],
      "text/plain": [
       "                     Value\n",
       "2023-01-31 18:00:00      8\n",
       "2023-01-31 19:00:00      4\n",
       "2023-01-31 20:00:00      6\n",
       "2023-01-31 21:00:00      9\n",
       "2023-01-31 22:00:00      1\n",
       "2023-01-31 23:00:00      0"
      ]
     },
     "execution_count": 35,
     "metadata": {},
     "output_type": "execute_result"
    }
   ],
   "source": [
    "# 특정 날짜 선택\n",
    "df.loc['2023-01-31']"
   ]
  },
  {
   "cell_type": "raw",
   "id": "fa319bbc-624a-493e-b2e6-82eff1ace5b0",
   "metadata": {},
   "source": [
    "loc인덱서를 활용하여 문자열로 특정 월을 입력하면\n",
    "해당 월에 해당하는 행을 모두 확인할 수 있습니다."
   ]
  },
  {
   "cell_type": "code",
   "execution_count": 36,
   "id": "154248bc-2ea8-43ea-81e6-8d1120ff7845",
   "metadata": {
    "tags": []
   },
   "outputs": [
    {
     "data": {
      "text/html": [
       "<div>\n",
       "<style scoped>\n",
       "    .dataframe tbody tr th:only-of-type {\n",
       "        vertical-align: middle;\n",
       "    }\n",
       "\n",
       "    .dataframe tbody tr th {\n",
       "        vertical-align: top;\n",
       "    }\n",
       "\n",
       "    .dataframe thead th {\n",
       "        text-align: right;\n",
       "    }\n",
       "</style>\n",
       "<table border=\"1\" class=\"dataframe\">\n",
       "  <thead>\n",
       "    <tr style=\"text-align: right;\">\n",
       "      <th></th>\n",
       "      <th>Value</th>\n",
       "    </tr>\n",
       "  </thead>\n",
       "  <tbody>\n",
       "    <tr>\n",
       "      <th>2023-02-01 00:00:00</th>\n",
       "      <td>5</td>\n",
       "    </tr>\n",
       "    <tr>\n",
       "      <th>2023-02-01 01:00:00</th>\n",
       "      <td>10</td>\n",
       "    </tr>\n",
       "    <tr>\n",
       "      <th>2023-02-01 02:00:00</th>\n",
       "      <td>8</td>\n",
       "    </tr>\n",
       "    <tr>\n",
       "      <th>2023-02-01 03:00:00</th>\n",
       "      <td>8</td>\n",
       "    </tr>\n",
       "  </tbody>\n",
       "</table>\n",
       "</div>"
      ],
      "text/plain": [
       "                     Value\n",
       "2023-02-01 00:00:00      5\n",
       "2023-02-01 01:00:00     10\n",
       "2023-02-01 02:00:00      8\n",
       "2023-02-01 03:00:00      8"
      ]
     },
     "execution_count": 36,
     "metadata": {},
     "output_type": "execute_result"
    }
   ],
   "source": [
    "# 특정 월 선택\n",
    "df.loc['2023-02']"
   ]
  },
  {
   "cell_type": "raw",
   "id": "79c34bbd-b261-43e7-8717-7ee6f6f1ca3b",
   "metadata": {},
   "source": [
    "pandas에서 resample() 메서드를 사용하면 원하는 리샘플링 주기를 지정하고, \n",
    "해당 주기로 데이터를 집계하거나 변환하는 작업을 수행합니다.\n",
    "예제를 통해 확인해보도록 하겠습니다."
   ]
  },
  {
   "cell_type": "markdown",
   "id": "4749fa1e-6209-41d5-b689-de210b99b4bf",
   "metadata": {},
   "source": [
    "## resampling()\n",
    "\n",
    "`pandas`의 리샘플링(resampling)은 시계열 데이터의 주기를 변경하는 작업을 말합니다. 이는 원본 시계열 데이터의 간격을 더 큰 주기로 변환하거나 더 작은 주기로 세분화하는 작업을 의미합니다. 리샘플링은 시계열 데이터를 분석하거나 시각화할 때 유용하며, 데이터의 집계나 변환 작업을 수행하는데 활용됩니다.\n",
    "\n",
    "`pandas`에서 리샘플링은 `resample()` 메서드를 사용하여 수행할 수 있습니다. 이 메서드는 원하는 리샘플링 주기를 지정하고, 해당 주기로 데이터를 집계하거나 변환하는 작업을 수행합니다.\n",
    "\n",
    "`resample()` 메서드의 주요 인자와 사용법은 다음과 같습니다:\n",
    "\n",
    "1. `rule`: 리샘플링할 주기를 지정합니다. 예를 들어, 'D'는 일간격, 'M'은 월간격을 의미합니다.\n",
    "2. `how`: 집계 방법을 지정합니다. 'mean', 'sum', 'count' 등이 가능합니다.\n",
    "3. `closed`: 리샘플된 구간의 어느 쪽을 포함할지 지정합니다. 'right', 'left', 'both', 'neither' 중 선택할 수 있습니다.\n",
    "4. `label`: 리샘플된 구간의 레이블을 지정합니다. 'right', 'left' 중 선택할 수 있습니다.\n",
    "\n",
    "\n"
   ]
  },
  {
   "cell_type": "raw",
   "id": "58f0895d-d5be-4d57-8bc1-ce4783856ea8",
   "metadata": {},
   "source": [
    "예제를 위한 데이터프레임을 만들도록 하겠습니다.\n",
    "이 데이터프레임에는\n",
    "23년1월1일 부터 60일 간 일단위 구분된 datetime객체를 index로 가지고 있습니다."
   ]
  },
  {
   "cell_type": "code",
   "execution_count": 37,
   "id": "12a0862f-d926-4773-9e19-de1183542bd2",
   "metadata": {
    "tags": []
   },
   "outputs": [],
   "source": [
    "import pandas as pd\n",
    "import numpy as np\n",
    "\n",
    "df = pd.DataFrame(\n",
    "    {\"Value\":np.random.randint(1,100,60)},\n",
    "    index=pd.date_range(start=\"2023-01-01\", periods=60, freq=\"D\")\n",
    ")"
   ]
  },
  {
   "cell_type": "raw",
   "id": "6f5bb3a8-d409-460d-8c3f-58ee7b9384f4",
   "metadata": {},
   "source": [
    "head와 tail을 통해서 데이터가 어떻게 들어가 있는지 확인해보도록 하겠습니다."
   ]
  },
  {
   "cell_type": "code",
   "execution_count": 38,
   "id": "006f048d-e063-40b5-ae94-de3bddf5c397",
   "metadata": {
    "tags": []
   },
   "outputs": [
    {
     "data": {
      "text/html": [
       "<div>\n",
       "<style scoped>\n",
       "    .dataframe tbody tr th:only-of-type {\n",
       "        vertical-align: middle;\n",
       "    }\n",
       "\n",
       "    .dataframe tbody tr th {\n",
       "        vertical-align: top;\n",
       "    }\n",
       "\n",
       "    .dataframe thead th {\n",
       "        text-align: right;\n",
       "    }\n",
       "</style>\n",
       "<table border=\"1\" class=\"dataframe\">\n",
       "  <thead>\n",
       "    <tr style=\"text-align: right;\">\n",
       "      <th></th>\n",
       "      <th>Value</th>\n",
       "    </tr>\n",
       "  </thead>\n",
       "  <tbody>\n",
       "    <tr>\n",
       "      <th>2023-01-01</th>\n",
       "      <td>57</td>\n",
       "    </tr>\n",
       "    <tr>\n",
       "      <th>2023-01-02</th>\n",
       "      <td>86</td>\n",
       "    </tr>\n",
       "  </tbody>\n",
       "</table>\n",
       "</div>"
      ],
      "text/plain": [
       "            Value\n",
       "2023-01-01     57\n",
       "2023-01-02     86"
      ]
     },
     "execution_count": 38,
     "metadata": {},
     "output_type": "execute_result"
    }
   ],
   "source": [
    "df.head(2)"
   ]
  },
  {
   "cell_type": "code",
   "execution_count": 39,
   "id": "8f33c55d-31ac-4147-bbf3-c704ab18972f",
   "metadata": {
    "tags": []
   },
   "outputs": [
    {
     "data": {
      "text/html": [
       "<div>\n",
       "<style scoped>\n",
       "    .dataframe tbody tr th:only-of-type {\n",
       "        vertical-align: middle;\n",
       "    }\n",
       "\n",
       "    .dataframe tbody tr th {\n",
       "        vertical-align: top;\n",
       "    }\n",
       "\n",
       "    .dataframe thead th {\n",
       "        text-align: right;\n",
       "    }\n",
       "</style>\n",
       "<table border=\"1\" class=\"dataframe\">\n",
       "  <thead>\n",
       "    <tr style=\"text-align: right;\">\n",
       "      <th></th>\n",
       "      <th>Value</th>\n",
       "    </tr>\n",
       "  </thead>\n",
       "  <tbody>\n",
       "    <tr>\n",
       "      <th>2023-02-28</th>\n",
       "      <td>70</td>\n",
       "    </tr>\n",
       "    <tr>\n",
       "      <th>2023-03-01</th>\n",
       "      <td>55</td>\n",
       "    </tr>\n",
       "  </tbody>\n",
       "</table>\n",
       "</div>"
      ],
      "text/plain": [
       "            Value\n",
       "2023-02-28     70\n",
       "2023-03-01     55"
      ]
     },
     "execution_count": 39,
     "metadata": {},
     "output_type": "execute_result"
    }
   ],
   "source": [
    "df.tail(2)"
   ]
  },
  {
   "cell_type": "code",
   "execution_count": 41,
   "id": "b441cc46-9faf-4159-9d9f-ae78968046e2",
   "metadata": {
    "tags": []
   },
   "outputs": [
    {
     "data": {
      "text/html": [
       "<div>\n",
       "<style scoped>\n",
       "    .dataframe tbody tr th:only-of-type {\n",
       "        vertical-align: middle;\n",
       "    }\n",
       "\n",
       "    .dataframe tbody tr th {\n",
       "        vertical-align: top;\n",
       "    }\n",
       "\n",
       "    .dataframe thead th {\n",
       "        text-align: right;\n",
       "    }\n",
       "</style>\n",
       "<table border=\"1\" class=\"dataframe\">\n",
       "  <thead>\n",
       "    <tr style=\"text-align: right;\">\n",
       "      <th></th>\n",
       "      <th>Value</th>\n",
       "    </tr>\n",
       "  </thead>\n",
       "  <tbody>\n",
       "    <tr>\n",
       "      <th>2023-01-31</th>\n",
       "      <td>51.26</td>\n",
       "    </tr>\n",
       "    <tr>\n",
       "      <th>2023-02-28</th>\n",
       "      <td>50.64</td>\n",
       "    </tr>\n",
       "    <tr>\n",
       "      <th>2023-03-31</th>\n",
       "      <td>55.00</td>\n",
       "    </tr>\n",
       "  </tbody>\n",
       "</table>\n",
       "</div>"
      ],
      "text/plain": [
       "            Value\n",
       "2023-01-31  51.26\n",
       "2023-02-28  50.64\n",
       "2023-03-31  55.00"
      ]
     },
     "execution_count": 41,
     "metadata": {},
     "output_type": "execute_result"
    }
   ],
   "source": [
    "# 월간 평균 리샘플링\n",
    "df.resample('M').mean().round(2)"
   ]
  },
  {
   "cell_type": "code",
   "execution_count": 42,
   "id": "9f473065-63ae-4d11-a870-d5f6511059ce",
   "metadata": {
    "tags": []
   },
   "outputs": [
    {
     "data": {
      "text/html": [
       "<div>\n",
       "<style scoped>\n",
       "    .dataframe tbody tr th:only-of-type {\n",
       "        vertical-align: middle;\n",
       "    }\n",
       "\n",
       "    .dataframe tbody tr th {\n",
       "        vertical-align: top;\n",
       "    }\n",
       "\n",
       "    .dataframe thead th {\n",
       "        text-align: right;\n",
       "    }\n",
       "</style>\n",
       "<table border=\"1\" class=\"dataframe\">\n",
       "  <thead>\n",
       "    <tr style=\"text-align: right;\">\n",
       "      <th></th>\n",
       "      <th>Value</th>\n",
       "    </tr>\n",
       "  </thead>\n",
       "  <tbody>\n",
       "    <tr>\n",
       "      <th>2023-01-01</th>\n",
       "      <td>NaN</td>\n",
       "    </tr>\n",
       "    <tr>\n",
       "      <th>2023-01-08</th>\n",
       "      <td>26.03</td>\n",
       "    </tr>\n",
       "    <tr>\n",
       "      <th>2023-01-15</th>\n",
       "      <td>22.12</td>\n",
       "    </tr>\n",
       "    <tr>\n",
       "      <th>2023-01-22</th>\n",
       "      <td>29.99</td>\n",
       "    </tr>\n",
       "    <tr>\n",
       "      <th>2023-01-29</th>\n",
       "      <td>20.94</td>\n",
       "    </tr>\n",
       "    <tr>\n",
       "      <th>2023-02-05</th>\n",
       "      <td>30.39</td>\n",
       "    </tr>\n",
       "    <tr>\n",
       "      <th>2023-02-12</th>\n",
       "      <td>17.52</td>\n",
       "    </tr>\n",
       "    <tr>\n",
       "      <th>2023-02-19</th>\n",
       "      <td>20.50</td>\n",
       "    </tr>\n",
       "    <tr>\n",
       "      <th>2023-02-26</th>\n",
       "      <td>33.85</td>\n",
       "    </tr>\n",
       "    <tr>\n",
       "      <th>2023-03-05</th>\n",
       "      <td>11.68</td>\n",
       "    </tr>\n",
       "  </tbody>\n",
       "</table>\n",
       "</div>"
      ],
      "text/plain": [
       "            Value\n",
       "2023-01-01    NaN\n",
       "2023-01-08  26.03\n",
       "2023-01-15  22.12\n",
       "2023-01-22  29.99\n",
       "2023-01-29  20.94\n",
       "2023-02-05  30.39\n",
       "2023-02-12  17.52\n",
       "2023-02-19  20.50\n",
       "2023-02-26  33.85\n",
       "2023-03-05  11.68"
      ]
     },
     "execution_count": 42,
     "metadata": {},
     "output_type": "execute_result"
    }
   ],
   "source": [
    "# 주간 표준편차 리샘플링\n",
    "df.resample('W').std().round(2)"
   ]
  },
  {
   "cell_type": "raw",
   "id": "e1032623-c9b0-45b1-8a26-523771713167",
   "metadata": {},
   "source": [
    "판다스에서 날짜 오프셋(Date Offset)은 시계열 데이터를 다룰 때 \n",
    "특정 주기나 간격에 따라 날짜와 시간을 조정하기 위해 사용 됩니다.\n",
    "즉 일주일후 혹은 한달후 등으로 쉽게 변경할 수 있게 해줍니다.\n",
    "파이썬의 TimeDelta와 유사한 기능을 제공합니다.\n",
    "\n",
    "예제를 통해 확인해보도록 하겠습니다."
   ]
  },
  {
   "cell_type": "markdown",
   "id": "c02dc1a0-2583-4f73-82c5-0460025f4e12",
   "metadata": {},
   "source": [
    "# DateOffset 객체\n",
    "\n",
    "판다스에서 날짜 오프셋(Date Offset)은 시계열 데이터를 다룰 때 날짜와 시간을 조작하고 오프셋을 적용하는데 사용되는 도구로써  \n",
    "파이썬의 `TimeDelta`와 유사한 기능을 제공합니다.\n",
    "날짜 오프셋은 특정 주기나 간격에 따라 날짜와 시간을 조정하는 기능을 제공하여  \n",
    "데이터 분석과 시계열 데이터 처리를 보다 효과적으로 수행할 수 있도록 도와줍니다.  \n",
    "주요 날짜 오프셋은 다음과 같습니다:\n",
    "\n",
    "1. **Day, BusinessDay**: 날짜를 일(day) 단위로 이동시키는 오프셋입니다. `pd.DateOffset(days=n)`와 같이 사용합니다. `BusinessDay`는 주말과 공휴일을 제외하고 이동합니다.\n",
    "\n",
    "2. **Week**: 주(week) 단위로 날짜를 이동시키는 오프셋입니다. `pd.DateOffset(weeks=n)`와 같이 사용합니다.\n",
    "\n",
    "3. **Month, Year**: 월(month)과 년(year) 단위로 날짜를 이동시키는 오프셋입니다. `pd.DateOffset(months=n)`와 `pd.DateOffset(years=n)`와 같이 사용합니다.\n",
    "\n",
    "4. **Hour, Minute, Second**: 시(hour), 분(minute), 초(second) 단위로 날짜와 시간을 이동시키는 오프셋입니다.\n",
    "\n",
    "5. **Custom Offset**: 사용자 정의 오프셋을 만들어 사용할 수도 있습니다. 이는 특정한 주기에 따라 날짜와 시간을 조정하기 위해 유용합니다.\n",
    "\n",
    "날짜 오프셋은 주로 `pd.Timestamp`나 `pd.DatetimeIndex` 객체와 함께 사용됩니다. \n"
   ]
  },
  {
   "cell_type": "code",
   "execution_count": 44,
   "id": "1f571112-3abb-4ad4-b5dc-8df87b5e66cc",
   "metadata": {
    "tags": []
   },
   "outputs": [
    {
     "data": {
      "text/plain": [
       "Timestamp('2023-08-15 00:00:00')"
      ]
     },
     "execution_count": 44,
     "metadata": {},
     "output_type": "execute_result"
    }
   ],
   "source": [
    "# 일주일 후로 이동\n",
    "import pandas as pd\n",
    "\n",
    "pd.Timestamp('2023-08-08') + pd.DateOffset(weeks=1)"
   ]
  },
  {
   "cell_type": "code",
   "execution_count": 45,
   "id": "334dd68e-546b-4c37-b82d-52318f8e9f46",
   "metadata": {
    "tags": []
   },
   "outputs": [
    {
     "data": {
      "text/plain": [
       "Timestamp('2023-10-17 00:00:00')"
      ]
     },
     "execution_count": 45,
     "metadata": {},
     "output_type": "execute_result"
    }
   ],
   "source": [
    "# 10주 후로 이동\n",
    "import pandas as pd\n",
    "\n",
    "pd.Timestamp('2023-08-08') + pd.DateOffset(weeks=10)"
   ]
  },
  {
   "cell_type": "code",
   "execution_count": 46,
   "id": "10e138d8-e2c1-49ec-8ede-3fb3644a9b5e",
   "metadata": {
    "tags": []
   },
   "outputs": [
    {
     "data": {
      "text/plain": [
       "Timestamp('2023-09-08 00:00:00')"
      ]
     },
     "execution_count": 46,
     "metadata": {},
     "output_type": "execute_result"
    }
   ],
   "source": [
    "# 힌딜 후로 이동\n",
    "pd.Timestamp('2023-08-08') + pd.DateOffset(months=1)"
   ]
  },
  {
   "cell_type": "raw",
   "id": "e8108548-996f-4b80-bab0-f8ca4ec4a938",
   "metadata": {},
   "source": [
    "데이터 프레임의 특정 컬럼에 DateOffset을 적용하는 예제코드를 살펴보도록 하겠씁니다."
   ]
  },
  {
   "cell_type": "code",
   "execution_count": 44,
   "id": "821ab593-c976-46b8-8cef-85aa9de77e52",
   "metadata": {
    "tags": []
   },
   "outputs": [
    {
     "data": {
      "text/html": [
       "<div>\n",
       "<style scoped>\n",
       "    .dataframe tbody tr th:only-of-type {\n",
       "        vertical-align: middle;\n",
       "    }\n",
       "\n",
       "    .dataframe tbody tr th {\n",
       "        vertical-align: top;\n",
       "    }\n",
       "\n",
       "    .dataframe thead th {\n",
       "        text-align: right;\n",
       "    }\n",
       "</style>\n",
       "<table border=\"1\" class=\"dataframe\">\n",
       "  <thead>\n",
       "    <tr style=\"text-align: right;\">\n",
       "      <th></th>\n",
       "      <th>date</th>\n",
       "      <th>value</th>\n",
       "    </tr>\n",
       "  </thead>\n",
       "  <tbody>\n",
       "    <tr>\n",
       "      <th>0</th>\n",
       "      <td>2023-08-01</td>\n",
       "      <td>7</td>\n",
       "    </tr>\n",
       "    <tr>\n",
       "      <th>1</th>\n",
       "      <td>2023-08-02</td>\n",
       "      <td>93</td>\n",
       "    </tr>\n",
       "    <tr>\n",
       "      <th>2</th>\n",
       "      <td>2023-08-03</td>\n",
       "      <td>27</td>\n",
       "    </tr>\n",
       "    <tr>\n",
       "      <th>3</th>\n",
       "      <td>2023-08-04</td>\n",
       "      <td>80</td>\n",
       "    </tr>\n",
       "    <tr>\n",
       "      <th>4</th>\n",
       "      <td>2023-08-05</td>\n",
       "      <td>35</td>\n",
       "    </tr>\n",
       "    <tr>\n",
       "      <th>5</th>\n",
       "      <td>2023-08-06</td>\n",
       "      <td>53</td>\n",
       "    </tr>\n",
       "    <tr>\n",
       "      <th>6</th>\n",
       "      <td>2023-08-07</td>\n",
       "      <td>30</td>\n",
       "    </tr>\n",
       "    <tr>\n",
       "      <th>7</th>\n",
       "      <td>2023-08-08</td>\n",
       "      <td>86</td>\n",
       "    </tr>\n",
       "    <tr>\n",
       "      <th>8</th>\n",
       "      <td>2023-08-09</td>\n",
       "      <td>24</td>\n",
       "    </tr>\n",
       "    <tr>\n",
       "      <th>9</th>\n",
       "      <td>2023-08-10</td>\n",
       "      <td>33</td>\n",
       "    </tr>\n",
       "  </tbody>\n",
       "</table>\n",
       "</div>"
      ],
      "text/plain": [
       "        date  value\n",
       "0 2023-08-01      7\n",
       "1 2023-08-02     93\n",
       "2 2023-08-03     27\n",
       "3 2023-08-04     80\n",
       "4 2023-08-05     35\n",
       "5 2023-08-06     53\n",
       "6 2023-08-07     30\n",
       "7 2023-08-08     86\n",
       "8 2023-08-09     24\n",
       "9 2023-08-10     33"
      ]
     },
     "execution_count": 44,
     "metadata": {},
     "output_type": "execute_result"
    }
   ],
   "source": [
    "import pandas as pd\n",
    "\n",
    "# 샘플 데이터프레임 생성\n",
    "df = pd.DataFrame(\n",
    "    {\n",
    "        'date': pd.date_range(start='2023-08-01', periods=10),\n",
    "        'value': np.random.randint(1,100,10),\n",
    "    }\n",
    ")\n",
    "df"
   ]
  },
  {
   "cell_type": "code",
   "execution_count": 45,
   "id": "be0e090a-fbe3-4fa9-9204-adff126b88af",
   "metadata": {
    "tags": []
   },
   "outputs": [
    {
     "data": {
      "text/html": [
       "<div>\n",
       "<style scoped>\n",
       "    .dataframe tbody tr th:only-of-type {\n",
       "        vertical-align: middle;\n",
       "    }\n",
       "\n",
       "    .dataframe tbody tr th {\n",
       "        vertical-align: top;\n",
       "    }\n",
       "\n",
       "    .dataframe thead th {\n",
       "        text-align: right;\n",
       "    }\n",
       "</style>\n",
       "<table border=\"1\" class=\"dataframe\">\n",
       "  <thead>\n",
       "    <tr style=\"text-align: right;\">\n",
       "      <th></th>\n",
       "      <th>date</th>\n",
       "      <th>value</th>\n",
       "      <th>shifted_date</th>\n",
       "    </tr>\n",
       "  </thead>\n",
       "  <tbody>\n",
       "    <tr>\n",
       "      <th>0</th>\n",
       "      <td>2023-08-01</td>\n",
       "      <td>7</td>\n",
       "      <td>2023-08-04</td>\n",
       "    </tr>\n",
       "    <tr>\n",
       "      <th>1</th>\n",
       "      <td>2023-08-02</td>\n",
       "      <td>93</td>\n",
       "      <td>2023-08-05</td>\n",
       "    </tr>\n",
       "    <tr>\n",
       "      <th>2</th>\n",
       "      <td>2023-08-03</td>\n",
       "      <td>27</td>\n",
       "      <td>2023-08-06</td>\n",
       "    </tr>\n",
       "    <tr>\n",
       "      <th>3</th>\n",
       "      <td>2023-08-04</td>\n",
       "      <td>80</td>\n",
       "      <td>2023-08-07</td>\n",
       "    </tr>\n",
       "    <tr>\n",
       "      <th>4</th>\n",
       "      <td>2023-08-05</td>\n",
       "      <td>35</td>\n",
       "      <td>2023-08-08</td>\n",
       "    </tr>\n",
       "    <tr>\n",
       "      <th>5</th>\n",
       "      <td>2023-08-06</td>\n",
       "      <td>53</td>\n",
       "      <td>2023-08-09</td>\n",
       "    </tr>\n",
       "    <tr>\n",
       "      <th>6</th>\n",
       "      <td>2023-08-07</td>\n",
       "      <td>30</td>\n",
       "      <td>2023-08-10</td>\n",
       "    </tr>\n",
       "    <tr>\n",
       "      <th>7</th>\n",
       "      <td>2023-08-08</td>\n",
       "      <td>86</td>\n",
       "      <td>2023-08-11</td>\n",
       "    </tr>\n",
       "    <tr>\n",
       "      <th>8</th>\n",
       "      <td>2023-08-09</td>\n",
       "      <td>24</td>\n",
       "      <td>2023-08-12</td>\n",
       "    </tr>\n",
       "    <tr>\n",
       "      <th>9</th>\n",
       "      <td>2023-08-10</td>\n",
       "      <td>33</td>\n",
       "      <td>2023-08-13</td>\n",
       "    </tr>\n",
       "  </tbody>\n",
       "</table>\n",
       "</div>"
      ],
      "text/plain": [
       "        date  value shifted_date\n",
       "0 2023-08-01      7   2023-08-04\n",
       "1 2023-08-02     93   2023-08-05\n",
       "2 2023-08-03     27   2023-08-06\n",
       "3 2023-08-04     80   2023-08-07\n",
       "4 2023-08-05     35   2023-08-08\n",
       "5 2023-08-06     53   2023-08-09\n",
       "6 2023-08-07     30   2023-08-10\n",
       "7 2023-08-08     86   2023-08-11\n",
       "8 2023-08-09     24   2023-08-12\n",
       "9 2023-08-10     33   2023-08-13"
      ]
     },
     "execution_count": 45,
     "metadata": {},
     "output_type": "execute_result"
    }
   ],
   "source": [
    "# 3일 만큼 이동\n",
    "df['shifted_date'] = df['date'] + pd.DateOffset(days=3)\n",
    "df"
   ]
  },
  {
   "cell_type": "raw",
   "id": "1f6f0dd7-9eaf-4310-be71-27171ce5e99f",
   "metadata": {},
   "source": [
    "DatetimeIndex 에 DateOffset을 적용하는 방법을 알아보도록 하겠습니다.\n",
    "우선 date컬럼을 데이터프레임의 인덱스로 설정해줍니다.\n",
    "그리고 index속성을 활용하여 dateoffset을 덧셈연산자를 통해서 적용해줍니다."
   ]
  },
  {
   "cell_type": "code",
   "execution_count": 51,
   "id": "cb977086-6425-4780-a1ea-aa4a73072086",
   "metadata": {},
   "outputs": [
    {
     "data": {
      "text/html": [
       "<div>\n",
       "<style scoped>\n",
       "    .dataframe tbody tr th:only-of-type {\n",
       "        vertical-align: middle;\n",
       "    }\n",
       "\n",
       "    .dataframe tbody tr th {\n",
       "        vertical-align: top;\n",
       "    }\n",
       "\n",
       "    .dataframe thead th {\n",
       "        text-align: right;\n",
       "    }\n",
       "</style>\n",
       "<table border=\"1\" class=\"dataframe\">\n",
       "  <thead>\n",
       "    <tr style=\"text-align: right;\">\n",
       "      <th></th>\n",
       "      <th>value</th>\n",
       "      <th>shifted_date</th>\n",
       "    </tr>\n",
       "    <tr>\n",
       "      <th>date</th>\n",
       "      <th></th>\n",
       "      <th></th>\n",
       "    </tr>\n",
       "  </thead>\n",
       "  <tbody>\n",
       "    <tr>\n",
       "      <th>2023-08-03</th>\n",
       "      <td>7</td>\n",
       "      <td>2023-08-04</td>\n",
       "    </tr>\n",
       "    <tr>\n",
       "      <th>2023-08-04</th>\n",
       "      <td>93</td>\n",
       "      <td>2023-08-05</td>\n",
       "    </tr>\n",
       "  </tbody>\n",
       "</table>\n",
       "</div>"
      ],
      "text/plain": [
       "            value shifted_date\n",
       "date                          \n",
       "2023-08-03      7   2023-08-04\n",
       "2023-08-04     93   2023-08-05"
      ]
     },
     "execution_count": 51,
     "metadata": {},
     "output_type": "execute_result"
    }
   ],
   "source": [
    "# DatetimeIndex 에 DateOffset을 적용\n",
    "df2 = df.set_index(\"date\")\n",
    "df2.index = df2.index + pd.DateOffset(days=2)\n",
    "df2.head(2)"
   ]
  },
  {
   "cell_type": "raw",
   "id": "e7a5cdc3-3304-45c1-b5f2-8da3c37241eb",
   "metadata": {},
   "source": [
    "MonthEnd, MonthBegin, Week 클래스를 활용하면\n",
    "해당날짜에 대해서 해당월의 첫째날, 마지막날 혹은 해당 주의 첫번째날 혹은 주말 등으로 쉽게 이동할 수 있습니다."
   ]
  },
  {
   "cell_type": "markdown",
   "id": "6197f7e1-49fa-4cee-b883-3bf87ffb4f84",
   "metadata": {},
   "source": [
    "## MonthEnd, MonthBegin, Week\n",
    "\n",
    "판다스(Pandas)에서 `MonthEnd`, `MonthBegin`, `Week` 클래스는  \n",
    "날짜 오프셋을 표현하는데 사용되는 클래스들입니다.  \n",
    "이들 클래스는 주로 시계열 데이터의 날짜와 시간을 효과적으로 조작하고 계산하는 데 활용됩니다.\n"
   ]
  },
  {
   "cell_type": "code",
   "execution_count": 52,
   "id": "556aaa68-72ff-4dc3-aa20-ceae6f6b5d67",
   "metadata": {
    "tags": []
   },
   "outputs": [
    {
     "data": {
      "text/plain": [
       "Timestamp('2023-08-31 00:00:00')"
      ]
     },
     "execution_count": 52,
     "metadata": {},
     "output_type": "execute_result"
    }
   ],
   "source": [
    "\"\"\"\n",
    "1. **`MonthEnd`** 클래스 (pd.Timestamp)\n",
    "`MonthEnd` 클래스는 월(month)의 마지막 날짜로 이동하는 날짜 오프셋입니다.\n",
    "\"\"\"\n",
    "\n",
    "import pandas as pd\n",
    "\n",
    "month_end = pd.offsets.MonthEnd()\n",
    "month_end.rollforward('2023-08-15')"
   ]
  },
  {
   "cell_type": "code",
   "execution_count": 53,
   "id": "7e8f263b-f1fb-43b6-a638-fbaa25b84922",
   "metadata": {
    "tags": []
   },
   "outputs": [
    {
     "data": {
      "text/plain": [
       "Timestamp('2023-08-31 00:00:00')"
      ]
     },
     "execution_count": 53,
     "metadata": {},
     "output_type": "execute_result"
    }
   ],
   "source": [
    "pd.Timestamp('2023-08-15') + month_end"
   ]
  },
  {
   "cell_type": "code",
   "execution_count": 54,
   "id": "7e1414a4-0f64-4e8d-a9a5-eece32baa9b0",
   "metadata": {
    "tags": []
   },
   "outputs": [
    {
     "data": {
      "text/plain": [
       "Timestamp('2023-07-31 00:00:00')"
      ]
     },
     "execution_count": 54,
     "metadata": {},
     "output_type": "execute_result"
    }
   ],
   "source": [
    "# 해당일자에서 이전달의 마지막 날로 이동\n",
    "month_end.rollback('2023-08-15')"
   ]
  },
  {
   "cell_type": "code",
   "execution_count": 55,
   "id": "d5506924-500c-4fbf-be4e-9941ddce447c",
   "metadata": {
    "tags": []
   },
   "outputs": [
    {
     "data": {
      "text/plain": [
       "Timestamp('2023-07-31 00:00:00')"
      ]
     },
     "execution_count": 55,
     "metadata": {},
     "output_type": "execute_result"
    }
   ],
   "source": [
    "pd.Timestamp('2023-08-15') - month_end"
   ]
  },
  {
   "cell_type": "code",
   "execution_count": 56,
   "id": "9b69416f-1c46-482a-b8d1-236fd5e32fbe",
   "metadata": {
    "tags": []
   },
   "outputs": [
    {
     "data": {
      "text/plain": [
       "Timestamp('2023-09-01 00:00:00')"
      ]
     },
     "execution_count": 56,
     "metadata": {},
     "output_type": "execute_result"
    }
   ],
   "source": [
    "\"\"\"\n",
    "2. **`MonthBegin` 클래스**:\n",
    "`MonthBegin` 클래스는 월(month)의 첫 번째 날짜로 이동하는 날짜 오프셋입니다.\n",
    "\"\"\"\n",
    "\n",
    "import pandas as pd\n",
    "\n",
    "month_begin = pd.offsets.MonthBegin()\n",
    "month_begin.rollforward(pd.Timestamp('2023-08-15'))"
   ]
  },
  {
   "cell_type": "code",
   "execution_count": 57,
   "id": "7ca7c412-7adb-4509-94aa-0e9fbc40b84f",
   "metadata": {
    "tags": []
   },
   "outputs": [
    {
     "data": {
      "text/plain": [
       "Timestamp('2023-09-01 00:00:00')"
      ]
     },
     "execution_count": 57,
     "metadata": {},
     "output_type": "execute_result"
    }
   ],
   "source": [
    "pd.Timestamp('2023-08-15') + month_begin"
   ]
  },
  {
   "cell_type": "code",
   "execution_count": 58,
   "id": "1da85f75-f917-4e8e-b85c-f83f1b8555c9",
   "metadata": {
    "tags": []
   },
   "outputs": [
    {
     "data": {
      "text/plain": [
       "Timestamp('2023-08-01 00:00:00')"
      ]
     },
     "execution_count": 58,
     "metadata": {},
     "output_type": "execute_result"
    }
   ],
   "source": [
    "month_begin.rollback(pd.Timestamp('2023-08-15'))"
   ]
  },
  {
   "cell_type": "code",
   "execution_count": 59,
   "id": "898773cc-61ec-4b1c-904c-82cdfbd80098",
   "metadata": {
    "tags": []
   },
   "outputs": [
    {
     "data": {
      "text/plain": [
       "Timestamp('2023-08-01 00:00:00')"
      ]
     },
     "execution_count": 59,
     "metadata": {},
     "output_type": "execute_result"
    }
   ],
   "source": [
    "pd.Timestamp('2023-08-15') - month_begin"
   ]
  },
  {
   "cell_type": "code",
   "execution_count": 60,
   "id": "6cf0a3c6-a095-404d-b489-e206e6094027",
   "metadata": {
    "tags": []
   },
   "outputs": [
    {
     "data": {
      "text/plain": [
       "'2023-08-19 Saturday 00:00:00'"
      ]
     },
     "execution_count": 60,
     "metadata": {},
     "output_type": "execute_result"
    }
   ],
   "source": [
    "\"\"\"\n",
    "3. **`Week` 클래스**:\n",
    "`Week` 클래스는 주(week)의 특정 요일로 이동하는 날짜 오프셋입니다.\n",
    "\"\"\"\n",
    "import pandas as pd\n",
    "week_sat = pd.offsets.Week(weekday=5) # Saturday\n",
    "\n",
    "week_sat.rollforward(pd.Timestamp('2023-08-15')).strftime(\"%Y-%m-%d %A %H:%M:%S\")"
   ]
  },
  {
   "cell_type": "code",
   "execution_count": 61,
   "id": "49102254-b3ca-47cc-a80d-e401a7125a53",
   "metadata": {
    "tags": []
   },
   "outputs": [
    {
     "data": {
      "text/plain": [
       "'2023-08-21 Monday 00:00:00'"
      ]
     },
     "execution_count": 61,
     "metadata": {},
     "output_type": "execute_result"
    }
   ],
   "source": [
    "week_mon = pd.offsets.Week(weekday=0) # Monday\n",
    "week_mon.rollforward(pd.Timestamp('2023-08-15')).strftime(\"%Y-%m-%d %A %H:%M:%S\")"
   ]
  },
  {
   "cell_type": "code",
   "execution_count": 62,
   "id": "f880f9bd-e8a8-412f-98fd-34da401c8ce4",
   "metadata": {
    "tags": []
   },
   "outputs": [
    {
     "data": {
      "text/plain": [
       "'2023-08-20 Sunday 00:00:00'"
      ]
     },
     "execution_count": 62,
     "metadata": {},
     "output_type": "execute_result"
    }
   ],
   "source": [
    "(pd.Timestamp('2023-08-15') + pd.offsets.Week(weekday=6)).strftime(\"%Y-%m-%d %A %H:%M:%S\")"
   ]
  },
  {
   "cell_type": "markdown",
   "id": "583e2ad2-ccf0-40bc-a210-56264decf86b",
   "metadata": {},
   "source": [
    "## .dt 접근자\n",
    "\n",
    "판다스에서 `.dt` 접근자는 시리즈(Series)나 데이터프레임(DataFrame) 객체의   \n",
    "날짜와 시간 관련 작업을 수행하는 데 사용되는 접근자(accessor)입니다.   \n",
    "이 접근자를 사용하여 시계열 데이터의 날짜, 시간, 요일 등의 세부 정보를 추출하거나 조작할 수 있습니다."
   ]
  },
  {
   "cell_type": "code",
   "execution_count": 63,
   "id": "29b461d5-56ba-4b09-97a7-91b8d838c70e",
   "metadata": {
    "tags": []
   },
   "outputs": [
    {
     "data": {
      "text/html": [
       "<div>\n",
       "<style scoped>\n",
       "    .dataframe tbody tr th:only-of-type {\n",
       "        vertical-align: middle;\n",
       "    }\n",
       "\n",
       "    .dataframe tbody tr th {\n",
       "        vertical-align: top;\n",
       "    }\n",
       "\n",
       "    .dataframe thead th {\n",
       "        text-align: right;\n",
       "    }\n",
       "</style>\n",
       "<table border=\"1\" class=\"dataframe\">\n",
       "  <thead>\n",
       "    <tr style=\"text-align: right;\">\n",
       "      <th></th>\n",
       "      <th>Date</th>\n",
       "    </tr>\n",
       "  </thead>\n",
       "  <tbody>\n",
       "    <tr>\n",
       "      <th>0</th>\n",
       "      <td>2023-08-01</td>\n",
       "    </tr>\n",
       "    <tr>\n",
       "      <th>1</th>\n",
       "      <td>2023-08-15</td>\n",
       "    </tr>\n",
       "    <tr>\n",
       "      <th>2</th>\n",
       "      <td>2023-08-30</td>\n",
       "    </tr>\n",
       "  </tbody>\n",
       "</table>\n",
       "</div>"
      ],
      "text/plain": [
       "         Date\n",
       "0  2023-08-01\n",
       "1  2023-08-15\n",
       "2  2023-08-30"
      ]
     },
     "execution_count": 63,
     "metadata": {},
     "output_type": "execute_result"
    }
   ],
   "source": [
    "import pandas as pd\n",
    "\n",
    "df = pd.DataFrame(\n",
    "    {'Date': ['2023-08-01', '2023-08-15', '2023-08-30']}\n",
    ")\n",
    "df"
   ]
  },
  {
   "cell_type": "code",
   "execution_count": 64,
   "id": "b2624e81-7cfa-4917-891c-eb9059ea3822",
   "metadata": {
    "tags": []
   },
   "outputs": [
    {
     "name": "stdout",
     "output_type": "stream",
     "text": [
      "<class 'pandas.core.frame.DataFrame'>\n",
      "RangeIndex: 3 entries, 0 to 2\n",
      "Data columns (total 1 columns):\n",
      " #   Column  Non-Null Count  Dtype \n",
      "---  ------  --------------  ----- \n",
      " 0   Date    3 non-null      object\n",
      "dtypes: object(1)\n",
      "memory usage: 152.0+ bytes\n"
     ]
    }
   ],
   "source": [
    "df.info()"
   ]
  },
  {
   "cell_type": "code",
   "execution_count": 65,
   "id": "06c98bc2-4f9d-4455-9289-2cf584b9c1cb",
   "metadata": {
    "tags": []
   },
   "outputs": [
    {
     "data": {
      "text/html": [
       "<div>\n",
       "<style scoped>\n",
       "    .dataframe tbody tr th:only-of-type {\n",
       "        vertical-align: middle;\n",
       "    }\n",
       "\n",
       "    .dataframe tbody tr th {\n",
       "        vertical-align: top;\n",
       "    }\n",
       "\n",
       "    .dataframe thead th {\n",
       "        text-align: right;\n",
       "    }\n",
       "</style>\n",
       "<table border=\"1\" class=\"dataframe\">\n",
       "  <thead>\n",
       "    <tr style=\"text-align: right;\">\n",
       "      <th></th>\n",
       "      <th>Date</th>\n",
       "    </tr>\n",
       "  </thead>\n",
       "  <tbody>\n",
       "    <tr>\n",
       "      <th>0</th>\n",
       "      <td>2023-08-01</td>\n",
       "    </tr>\n",
       "    <tr>\n",
       "      <th>1</th>\n",
       "      <td>2023-08-15</td>\n",
       "    </tr>\n",
       "    <tr>\n",
       "      <th>2</th>\n",
       "      <td>2023-08-30</td>\n",
       "    </tr>\n",
       "  </tbody>\n",
       "</table>\n",
       "</div>"
      ],
      "text/plain": [
       "        Date\n",
       "0 2023-08-01\n",
       "1 2023-08-15\n",
       "2 2023-08-30"
      ]
     },
     "execution_count": 65,
     "metadata": {},
     "output_type": "execute_result"
    }
   ],
   "source": [
    "df['Date'] = pd.to_datetime(df['Date'])  # 문자열을 날짜로 변환\n",
    "df"
   ]
  },
  {
   "cell_type": "code",
   "execution_count": 66,
   "id": "3907827f-54c8-4cc4-ae90-e16832ac910d",
   "metadata": {
    "tags": []
   },
   "outputs": [
    {
     "name": "stdout",
     "output_type": "stream",
     "text": [
      "<class 'pandas.core.frame.DataFrame'>\n",
      "RangeIndex: 3 entries, 0 to 2\n",
      "Data columns (total 1 columns):\n",
      " #   Column  Non-Null Count  Dtype         \n",
      "---  ------  --------------  -----         \n",
      " 0   Date    3 non-null      datetime64[ns]\n",
      "dtypes: datetime64[ns](1)\n",
      "memory usage: 152.0 bytes\n"
     ]
    }
   ],
   "source": [
    "df.info()"
   ]
  },
  {
   "cell_type": "code",
   "execution_count": 67,
   "id": "cf77d2f4-3473-4a1f-b594-20fb19f6d19e",
   "metadata": {
    "tags": []
   },
   "outputs": [
    {
     "data": {
      "text/plain": [
       "0    2023\n",
       "1    2023\n",
       "2    2023\n",
       "Name: Date, dtype: int32"
      ]
     },
     "execution_count": 67,
     "metadata": {},
     "output_type": "execute_result"
    }
   ],
   "source": [
    "df.Date.dt.year"
   ]
  },
  {
   "cell_type": "code",
   "execution_count": 68,
   "id": "e00e35c8-ee79-4774-9724-f837f992d090",
   "metadata": {
    "tags": []
   },
   "outputs": [
    {
     "data": {
      "text/plain": [
       "0    8\n",
       "1    8\n",
       "2    8\n",
       "Name: Date, dtype: int32"
      ]
     },
     "execution_count": 68,
     "metadata": {},
     "output_type": "execute_result"
    }
   ],
   "source": [
    "df.Date.dt.month"
   ]
  },
  {
   "cell_type": "code",
   "execution_count": 69,
   "id": "ca6ec1e1-1ab9-4fa1-a12c-0890dfc8422f",
   "metadata": {
    "tags": []
   },
   "outputs": [
    {
     "data": {
      "text/plain": [
       "0     1\n",
       "1    15\n",
       "2    30\n",
       "Name: Date, dtype: int32"
      ]
     },
     "execution_count": 69,
     "metadata": {},
     "output_type": "execute_result"
    }
   ],
   "source": [
    "df.Date.dt.day"
   ]
  },
  {
   "cell_type": "code",
   "execution_count": 70,
   "id": "2e0c163b-a90f-4b9d-aa90-72532f138817",
   "metadata": {
    "tags": []
   },
   "outputs": [
    {
     "data": {
      "text/plain": [
       "0      Tuesday\n",
       "1      Tuesday\n",
       "2    Wednesday\n",
       "Name: Date, dtype: object"
      ]
     },
     "execution_count": 70,
     "metadata": {},
     "output_type": "execute_result"
    }
   ],
   "source": [
    "df.Date.dt.day_name()"
   ]
  },
  {
   "cell_type": "code",
   "execution_count": 71,
   "id": "d03952c7-d388-4d2d-b044-1e1f1521dc44",
   "metadata": {
    "tags": []
   },
   "outputs": [
    {
     "ename": "AttributeError",
     "evalue": "'Series' object has no attribute 'year'",
     "output_type": "error",
     "traceback": [
      "\u001b[0;31m---------------------------------------------------------------------------\u001b[0m",
      "\u001b[0;31mAttributeError\u001b[0m                            Traceback (most recent call last)",
      "\u001b[0;32m/tmp/ipykernel_2596/1483050806.py\u001b[0m in \u001b[0;36m?\u001b[0;34m()\u001b[0m\n\u001b[1;32m      1\u001b[0m \u001b[0;31m# error\u001b[0m\u001b[0;34m\u001b[0m\u001b[0;34m\u001b[0m\u001b[0m\n\u001b[0;32m----> 2\u001b[0;31m \u001b[0mdf\u001b[0m\u001b[0;34m.\u001b[0m\u001b[0mDate\u001b[0m\u001b[0;34m.\u001b[0m\u001b[0myear\u001b[0m\u001b[0;34m\u001b[0m\u001b[0;34m\u001b[0m\u001b[0m\n\u001b[0m",
      "\u001b[0;32m~/gitworkspace/dreamclass/venv/lib/python3.10/site-packages/pandas/core/generic.py\u001b[0m in \u001b[0;36m?\u001b[0;34m(self, name)\u001b[0m\n\u001b[1;32m   5985\u001b[0m             \u001b[0;32mand\u001b[0m \u001b[0mname\u001b[0m \u001b[0;32mnot\u001b[0m \u001b[0;32min\u001b[0m \u001b[0mself\u001b[0m\u001b[0;34m.\u001b[0m\u001b[0m_accessors\u001b[0m\u001b[0;34m\u001b[0m\u001b[0;34m\u001b[0m\u001b[0m\n\u001b[1;32m   5986\u001b[0m             \u001b[0;32mand\u001b[0m \u001b[0mself\u001b[0m\u001b[0;34m.\u001b[0m\u001b[0m_info_axis\u001b[0m\u001b[0;34m.\u001b[0m\u001b[0m_can_hold_identifiers_and_holds_name\u001b[0m\u001b[0;34m(\u001b[0m\u001b[0mname\u001b[0m\u001b[0;34m)\u001b[0m\u001b[0;34m\u001b[0m\u001b[0;34m\u001b[0m\u001b[0m\n\u001b[1;32m   5987\u001b[0m         ):\n\u001b[1;32m   5988\u001b[0m             \u001b[0;32mreturn\u001b[0m \u001b[0mself\u001b[0m\u001b[0;34m[\u001b[0m\u001b[0mname\u001b[0m\u001b[0;34m]\u001b[0m\u001b[0;34m\u001b[0m\u001b[0;34m\u001b[0m\u001b[0m\n\u001b[0;32m-> 5989\u001b[0;31m         \u001b[0;32mreturn\u001b[0m \u001b[0mobject\u001b[0m\u001b[0;34m.\u001b[0m\u001b[0m__getattribute__\u001b[0m\u001b[0;34m(\u001b[0m\u001b[0mself\u001b[0m\u001b[0;34m,\u001b[0m \u001b[0mname\u001b[0m\u001b[0;34m)\u001b[0m\u001b[0;34m\u001b[0m\u001b[0;34m\u001b[0m\u001b[0m\n\u001b[0m",
      "\u001b[0;31mAttributeError\u001b[0m: 'Series' object has no attribute 'year'"
     ]
    }
   ],
   "source": [
    "# error\n",
    "df.Date.year"
   ]
  },
  {
   "cell_type": "markdown",
   "id": "b22906b6-c564-4ff5-9080-40aaf887e5c4",
   "metadata": {},
   "source": [
    "## dataframe 에서 timezone 변경"
   ]
  },
  {
   "cell_type": "raw",
   "id": "1c9c2f5e-8232-435e-b075-5d9ad255de03",
   "metadata": {},
   "source": [
    "dataframe 에서 timezone 변경하기 위해서는 tz_localize()라는 메소드를 활용합니다.\n",
    "예제를 통해서 확인해보도록 하겠습니다.\n",
    "우선 예제를 위한 데이터 프레임을 생성해보도록 하겠습니다."
   ]
  },
  {
   "cell_type": "code",
   "execution_count": 76,
   "id": "8cc7f8f0-f249-437e-b66a-8233da2f2011",
   "metadata": {
    "tags": []
   },
   "outputs": [
    {
     "data": {
      "text/html": [
       "<div>\n",
       "<style scoped>\n",
       "    .dataframe tbody tr th:only-of-type {\n",
       "        vertical-align: middle;\n",
       "    }\n",
       "\n",
       "    .dataframe tbody tr th {\n",
       "        vertical-align: top;\n",
       "    }\n",
       "\n",
       "    .dataframe thead th {\n",
       "        text-align: right;\n",
       "    }\n",
       "</style>\n",
       "<table border=\"1\" class=\"dataframe\">\n",
       "  <thead>\n",
       "    <tr style=\"text-align: right;\">\n",
       "      <th></th>\n",
       "      <th>timestamp</th>\n",
       "      <th>value</th>\n",
       "    </tr>\n",
       "  </thead>\n",
       "  <tbody>\n",
       "    <tr>\n",
       "      <th>0</th>\n",
       "      <td>2023-08-01 10:00:00</td>\n",
       "      <td>10</td>\n",
       "    </tr>\n",
       "    <tr>\n",
       "      <th>1</th>\n",
       "      <td>2023-08-15 12:30:00</td>\n",
       "      <td>20</td>\n",
       "    </tr>\n",
       "    <tr>\n",
       "      <th>2</th>\n",
       "      <td>2023-08-30 15:45:00</td>\n",
       "      <td>30</td>\n",
       "    </tr>\n",
       "  </tbody>\n",
       "</table>\n",
       "</div>"
      ],
      "text/plain": [
       "            timestamp  value\n",
       "0 2023-08-01 10:00:00     10\n",
       "1 2023-08-15 12:30:00     20\n",
       "2 2023-08-30 15:45:00     30"
      ]
     },
     "execution_count": 76,
     "metadata": {},
     "output_type": "execute_result"
    }
   ],
   "source": [
    "import pandas as pd\n",
    "\n",
    "# 예제 데이터프레임 생성\n",
    "data = {\n",
    "    'timestamp': ['2023-08-01 10:00:00', '2023-08-15 12:30:00', '2023-08-30 15:45:00'],\n",
    "    'value': [10, 20, 30]\n",
    "}\n",
    "df = pd.DataFrame(data)\n",
    "df['timestamp'] = pd.to_datetime(df['timestamp'])  # 문자열을 날짜로 변환\n",
    "df\n"
   ]
  },
  {
   "cell_type": "raw",
   "id": "5a42a4d2-278b-4ce0-bbd6-abaa027a763a",
   "metadata": {},
   "source": [
    "tz_localize를 호출하여 naive 시간대의 데이터에 timezone 정보를 입력해보도록 하겠습니다."
   ]
  },
  {
   "cell_type": "code",
   "execution_count": 77,
   "id": "99f43243-1824-49f8-ae9c-fcf13782335d",
   "metadata": {
    "tags": []
   },
   "outputs": [
    {
     "data": {
      "text/html": [
       "<div>\n",
       "<style scoped>\n",
       "    .dataframe tbody tr th:only-of-type {\n",
       "        vertical-align: middle;\n",
       "    }\n",
       "\n",
       "    .dataframe tbody tr th {\n",
       "        vertical-align: top;\n",
       "    }\n",
       "\n",
       "    .dataframe thead th {\n",
       "        text-align: right;\n",
       "    }\n",
       "</style>\n",
       "<table border=\"1\" class=\"dataframe\">\n",
       "  <thead>\n",
       "    <tr style=\"text-align: right;\">\n",
       "      <th></th>\n",
       "      <th>timestamp</th>\n",
       "      <th>value</th>\n",
       "    </tr>\n",
       "  </thead>\n",
       "  <tbody>\n",
       "    <tr>\n",
       "      <th>0</th>\n",
       "      <td>2023-08-01 10:00:00+09:00</td>\n",
       "      <td>10</td>\n",
       "    </tr>\n",
       "    <tr>\n",
       "      <th>1</th>\n",
       "      <td>2023-08-15 12:30:00+09:00</td>\n",
       "      <td>20</td>\n",
       "    </tr>\n",
       "    <tr>\n",
       "      <th>2</th>\n",
       "      <td>2023-08-30 15:45:00+09:00</td>\n",
       "      <td>30</td>\n",
       "    </tr>\n",
       "  </tbody>\n",
       "</table>\n",
       "</div>"
      ],
      "text/plain": [
       "                  timestamp  value\n",
       "0 2023-08-01 10:00:00+09:00     10\n",
       "1 2023-08-15 12:30:00+09:00     20\n",
       "2 2023-08-30 15:45:00+09:00     30"
      ]
     },
     "execution_count": 77,
     "metadata": {},
     "output_type": "execute_result"
    }
   ],
   "source": [
    "df.timestamp = df.timestamp.dt.tz_localize('Asia/Seoul')  # UTC 시간대로 설정\n",
    "df"
   ]
  },
  {
   "cell_type": "raw",
   "id": "dc76f17a-3265-4276-a0aa-ab9b0f958cac",
   "metadata": {},
   "source": [
    "위 코드를 실행하면 timestamp 컬럼에 있는 시간에 Asia/Seoul을 나타내는\n",
    "+09:00 이라는 표시가 나타나게 됩니다."
   ]
  },
  {
   "cell_type": "code",
   "execution_count": 78,
   "id": "fd08e49d-e711-48e0-9fb1-d1277e8f9e4b",
   "metadata": {
    "tags": []
   },
   "outputs": [
    {
     "name": "stdout",
     "output_type": "stream",
     "text": [
      "<class 'pandas.core.frame.DataFrame'>\n",
      "RangeIndex: 3 entries, 0 to 2\n",
      "Data columns (total 2 columns):\n",
      " #   Column     Non-Null Count  Dtype                     \n",
      "---  ------     --------------  -----                     \n",
      " 0   timestamp  3 non-null      datetime64[ns, Asia/Seoul]\n",
      " 1   value      3 non-null      int64                     \n",
      "dtypes: datetime64[ns, Asia/Seoul](1), int64(1)\n",
      "memory usage: 176.0 bytes\n"
     ]
    }
   ],
   "source": [
    "df.info()"
   ]
  },
  {
   "cell_type": "code",
   "execution_count": 79,
   "id": "1dcc4425-69ff-493d-a683-0d4db7c81f62",
   "metadata": {
    "tags": []
   },
   "outputs": [
    {
     "data": {
      "text/html": [
       "<div>\n",
       "<style scoped>\n",
       "    .dataframe tbody tr th:only-of-type {\n",
       "        vertical-align: middle;\n",
       "    }\n",
       "\n",
       "    .dataframe tbody tr th {\n",
       "        vertical-align: top;\n",
       "    }\n",
       "\n",
       "    .dataframe thead th {\n",
       "        text-align: right;\n",
       "    }\n",
       "</style>\n",
       "<table border=\"1\" class=\"dataframe\">\n",
       "  <thead>\n",
       "    <tr style=\"text-align: right;\">\n",
       "      <th></th>\n",
       "      <th>timestamp</th>\n",
       "      <th>value</th>\n",
       "    </tr>\n",
       "  </thead>\n",
       "  <tbody>\n",
       "    <tr>\n",
       "      <th>0</th>\n",
       "      <td>2023-07-31 21:00:00-04:00</td>\n",
       "      <td>10</td>\n",
       "    </tr>\n",
       "    <tr>\n",
       "      <th>1</th>\n",
       "      <td>2023-08-14 23:30:00-04:00</td>\n",
       "      <td>20</td>\n",
       "    </tr>\n",
       "    <tr>\n",
       "      <th>2</th>\n",
       "      <td>2023-08-30 02:45:00-04:00</td>\n",
       "      <td>30</td>\n",
       "    </tr>\n",
       "  </tbody>\n",
       "</table>\n",
       "</div>"
      ],
      "text/plain": [
       "                  timestamp  value\n",
       "0 2023-07-31 21:00:00-04:00     10\n",
       "1 2023-08-14 23:30:00-04:00     20\n",
       "2 2023-08-30 02:45:00-04:00     30"
      ]
     },
     "execution_count": 79,
     "metadata": {},
     "output_type": "execute_result"
    }
   ],
   "source": [
    "# 시간대 변경\n",
    "new_timezone = 'America/New_York'\n",
    "df['timestamp'] = df['timestamp'].dt.tz_convert(new_timezone)  # 뉴욕 시간대로 변환\n",
    "df"
   ]
  },
  {
   "cell_type": "code",
   "execution_count": 80,
   "id": "1966eb01-ac80-4032-89f6-453871ffa2f5",
   "metadata": {
    "tags": []
   },
   "outputs": [
    {
     "name": "stdout",
     "output_type": "stream",
     "text": [
      "<class 'pandas.core.frame.DataFrame'>\n",
      "RangeIndex: 3 entries, 0 to 2\n",
      "Data columns (total 2 columns):\n",
      " #   Column     Non-Null Count  Dtype                           \n",
      "---  ------     --------------  -----                           \n",
      " 0   timestamp  3 non-null      datetime64[ns, America/New_York]\n",
      " 1   value      3 non-null      int64                           \n",
      "dtypes: datetime64[ns, America/New_York](1), int64(1)\n",
      "memory usage: 176.0 bytes\n"
     ]
    }
   ],
   "source": [
    "df.info()"
   ]
  },
  {
   "cell_type": "code",
   "execution_count": null,
   "id": "0f794e18-ffa7-45a4-93ea-1995326c8214",
   "metadata": {},
   "outputs": [],
   "source": []
  }
 ],
 "metadata": {
  "kernelspec": {
   "display_name": "Python 3 (ipykernel)",
   "language": "python",
   "name": "python3"
  },
  "language_info": {
   "codemirror_mode": {
    "name": "ipython",
    "version": 3
   },
   "file_extension": ".py",
   "mimetype": "text/x-python",
   "name": "python",
   "nbconvert_exporter": "python",
   "pygments_lexer": "ipython3",
   "version": "3.10.11"
  }
 },
 "nbformat": 4,
 "nbformat_minor": 5
}
