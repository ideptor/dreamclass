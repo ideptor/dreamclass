{
 "cells": [
  {
   "cell_type": "raw",
   "id": "c9d26515-cb77-43e9-a099-b0083aebf9e5",
   "metadata": {},
   "source": [
    "안녕하세요.\n",
    "이번시간에는 xxx 에 대해서 알아보도록 하겠습니다."
   ]
  },
  {
   "cell_type": "markdown",
   "id": "a4cffeb0-17e3-43b7-a462-9cc01a89abe3",
   "metadata": {},
   "source": [
    "# numpy 기본 \n",
    "- numpy 소개\n",
    "- ndarray(배열객체) 생성하기\n",
    "- numpy random 함수 예제\n",
    "- ndarray 의 데이터 타입\n",
    "- ndarray 주요 속성 및 메소드\n",
    "- indexing 과 slicing\n",
    "- ndarray 값 할당, 삭제, 추가\n",
    "- 정렬, 필터링\n",
    "- ndarray 연산\n",
    "- numpy.where()\n",
    "- unsqueeze()"
   ]
  },
  {
   "cell_type": "markdown",
   "id": "dbf79d42-dbb1-465e-9878-08a6c76fe260",
   "metadata": {},
   "source": [
    "# numpy\n",
    "\n",
    "NumPy는 파이썬에서 `수치 계산`을 위한 핵심 라이브러리로서, `효율`적인 `다차원 배열`과 배열 기반의 수치 계산 기능을 제공합니다. NumPy는 `\"Numerical Python\"`의 줄임말로 알려져 있으며, 다차원 배열을 다루기 위한 강력한 함수와 도구를 제공하여 데이터 과학, 공학, 인공지능, 머신러닝 등 다양한 분야에서 매우 중요한 역할을 합니다.\n",
    "\n",
    "NumPy를 배워야 하는 이유는 다음과 같습니다:\n",
    "\n",
    "- `빠른 계산`: NumPy는 `C`로 구현된 다차원 배열을 사용하여 계산을 빠르게 수행합니다. 파이썬의 기본 리스트보다 훨씬 효율적으로 데이터를 다룰 수 있으며, `벡터화 연산`을 사용하여 `루프 없이` 배열에 대한 계산을 수행하여 빠른 실행 속도를 제공합니다.\n",
    "\n",
    "- `다차원 배열`: NumPy의 다차원 배열은 `파이썬 리스트보다 더 유연하고 강력한 기능`을 제공합니다. 다차원 배열을 사용하여 `행렬 연산`, `통계 계산`, `선형 대수` 등 다양한 수치 계산을 쉽게 처리할 수 있습니다.\n",
    "\n",
    "- `데이터 분석과 과학`: `데이터 분석`, `과학`, `머신러닝`, `딥러닝` 등 다양한 분야에서 NumPy는 기본적인 라이브러리로 자리 잡고 있습니다. NumPy를 배움으로써 데이터를 다루고 처리하는데 매우 유용한 기능을 습득할 수 있습니다.\n",
    "\n",
    "- `데이터 구조의 통일성`: NumPy의 다차원 배열은 데이터 구조의 통일성을 제공합니다. `모든 원소가 동일한 데이터 타입`을 갖는다는 특성 때문에 데이터를 효율적으로 저장하고 다룰 수 있으며, 데이터의 일관성을 유지할 수 있습니다.\n",
    "\n",
    "- `다른 라이브러리와 통합`: NumPy는 다른 파이썬 라이브러리와의 통합성이 뛰어나며, `SciPy`, `Matplotlib`, `Pandas` 등과 함께 사용하면 데이터 분석, 시각화, 과학 기술 계산 등을 더욱 효율적으로 수행할 수 있습니다.\n",
    "\n",
    "- `머신러닝과 딥러닝`: NumPy는 머신러닝과 딥러닝에서 자주 사용되는 라이브러리로서, 다양한 모델의 `데이터 전처리`와 학습을 위한 기능을 제공합니다. 따라서 데이터 과학과 머신러닝 분야에 관심이 있다면 NumPy를 배워두는 것이 유용합니다.\n",
    "\n"
   ]
  },
  {
   "cell_type": "markdown",
   "id": "a50c844c-9702-4f64-af6f-7313fbc04313",
   "metadata": {},
   "source": [
    "NumPy를 사용하기 위해서는 먼저 NumPy를 설치해야 합니다. 일반적으로 아래와 같은 방법으로 설치할 수 있습니다:\n",
    "\n",
    "```bash\n",
    "pip install numpy\n",
    "```"
   ]
  },
  {
   "cell_type": "code",
   "execution_count": null,
   "id": "2d82ccc2-38ee-4784-9160-3bcf2d60d8e1",
   "metadata": {},
   "outputs": [],
   "source": [
    "#!pip --trusted-host pypi.python.org --trusted-host download.pytorch.org --trusted-host pypi.org --trusted-host files.pythonhosted.org --proxy http://10.241.3.7:8080/ install pandas"
   ]
  },
  {
   "cell_type": "raw",
   "id": "f11e6325-670f-4c89-b1d6-799a4eaabc46",
   "metadata": {},
   "source": [
    "NumPy는 NumPy는 \"Numerical Python\"의 줄임말로 알려져 있으며 \n",
    "효율적인 다차원 배열과 배열 기반의 수치 계산 기능을 제공합니다.  \n",
    "그리고 데이터 과학, 공학, 인공지능, 머신러닝 등 다양한 분야에서 매우 중요한 역할을 합니다.\n",
    "\n",
    "그리고 pandas, scipy, scikit learn는 Data Science와 관련된 대부분의 라이브러리들이\n",
    "numpy를 활용하고 있으므로,\n",
    "numpy에 대한 이해도가 높다면 pandas, scipy, scikit learn등에 대해서 익히는데 큰 도움이 됩니다.\n",
    "\n",
    "NumPy의 주요 특징은 아래와 같습니다.\n",
    "\n",
    "첫번째로 NumPy는 C로 구현된 다차원 배열을 사용하여 계산을 빠르게 수행합니다. \n",
    "파이썬의 기본 리스트보다 훨씬 효율적으로 데이터를 다룰 수 있으며, \n",
    "벡터화 연산을 사용하여 코드 상에서 반복문 없이 배열에 대한 계산을 수행하여 빠른 실행 속도를 제공합니다.\n",
    "\n",
    "두번째로 NumPy를 활용하면 다차원 배열의 행렬 연산, 통계 계산, 선형 대수 등 다양한 수치 계산을 쉽게 처리할 수 있습니다.\n",
    "\n",
    "세번째로 데이터 분석, 과학, 머신러닝, 딥러닝 등 다양한 분야에서 NumPy는 기본적인 라이브러리로 자리 잡고 있습니다. \n",
    "NumPy를 배움으로써 데이터를 다루고 처리하는데 매우 유용한 기능을 습득할 수 있습니다.\n",
    "\n",
    "네번째로 NumPy의 다차원 배열은 모든 원소가 동일한 데이터 타입을 갖는다는 특성 때문에 \n",
    "데이터를 효율적으로 저장하고 다룰 수 있으며, 데이터의 일관성을 유지할 수 있습니다.\n",
    "\n",
    "NumPy를 사용하기 위해서는 먼저 NumPy를 설치해야 합니다. 일반적으로 아래와 같은 방법으로 설치할 수 있습니다:\n"
   ]
  },
  {
   "cell_type": "raw",
   "id": "fb7b885f-33fa-4a42-9534-eea9c335e509",
   "metadata": {},
   "source": [
    "numpy라이브러리를 사용하기 위해서는 우선 numpy 라이브러리를 임포트해주어야 합니다.\n",
    "numpy 라이브러리는 임포트할때 np 라는 이름으로 alias하는 것이 일반적입니다."
   ]
  },
  {
   "cell_type": "markdown",
   "id": "173bf71f-63a9-4ad6-8976-43190b575abd",
   "metadata": {},
   "source": [
    "## ndarray(배열객체) 생성하기"
   ]
  },
  {
   "cell_type": "code",
   "execution_count": 342,
   "id": "bf414bc9-e9f5-444f-a6c9-83f0844cfacb",
   "metadata": {
    "tags": []
   },
   "outputs": [
    {
     "name": "stdout",
     "output_type": "stream",
     "text": [
      "<class 'numpy.ndarray'>\n",
      "[1 2 3 4 5]\n"
     ]
    }
   ],
   "source": [
    "\"\"\"\n",
    "리스트(list)로부터 ndarray 생성:\n",
    "\"\"\"\n",
    "import numpy as np\n",
    "\n",
    "# 1차원 배열 생성\n",
    "a = np.array([1, 2, 3, 4, 5])\n",
    "print(type(a), a, sep=\"\\n\")"
   ]
  },
  {
   "cell_type": "raw",
   "id": "a8eb0a96-c56f-4edd-8c0c-357e827132fe",
   "metadata": {},
   "source": [
    "numpy에서 핵심인 다차원 행렬 자료구조의 클래스는 ndarray입니다.\n",
    "ndarray 배열 객체를 생성하는 방법에 대해서 알아보겠습니다.\n",
    "\n",
    "가장 기본적인 방법은 파이썬의 기본 배열을 사용하는 방법입니다.\n",
    "np.array() 함수에 파이썬의 기본 배열을 넣어주면\n",
    "ndarray 객체가 생성이 되게 됩니다.\n"
   ]
  },
  {
   "cell_type": "code",
   "execution_count": 343,
   "id": "853a25e9-8e26-4da6-8baa-b917c0064056",
   "metadata": {
    "tags": []
   },
   "outputs": [
    {
     "name": "stdout",
     "output_type": "stream",
     "text": [
      "<class 'numpy.ndarray'>\n",
      "[[1 2 3]\n",
      " [4 5 6]]\n"
     ]
    }
   ],
   "source": [
    "# 2차원 배열 생성\n",
    "a = np.array([[1, 2, 3], [4, 5, 6]])\n",
    "print(type(a), a, sep=\"\\n\")"
   ]
  },
  {
   "cell_type": "raw",
   "id": "fd786583-a856-413e-8b84-aad5e0a63ac7",
   "metadata": {},
   "source": [
    "np.array() 함수에 파이썬의 2차원 리스트를 입력하게 되면\n",
    "2차원의 배열을 저장하는 ndarray 객체가 생성이 됩니다."
   ]
  },
  {
   "cell_type": "raw",
   "id": "e7c3c19e-5d16-4de0-9c0a-254a7e7aaad6",
   "metadata": {},
   "source": [
    "ndarray 의 배열의 형태 정보에 대해서 확인하는 \n",
    "메소드에 대해서 알아보겠습니다."
   ]
  },
  {
   "cell_type": "code",
   "execution_count": 344,
   "id": "7ec21571-83d2-40d3-95c9-44472639065f",
   "metadata": {
    "tags": []
   },
   "outputs": [
    {
     "data": {
      "text/plain": [
       "(2, 3)"
      ]
     },
     "execution_count": 344,
     "metadata": {},
     "output_type": "execute_result"
    }
   ],
   "source": [
    "a.shape"
   ]
  },
  {
   "cell_type": "raw",
   "id": "896a2959-bca4-48a8-860e-bc04f6c4b4f1",
   "metadata": {
    "tags": []
   },
   "source": [
    "shape 속성은 ndarray의 치원 구조를 확인할 수 있습니다.\n",
    "rr2.shape를 arr2는 2열 3행으로 이루어진 배열임을 확인할 수 있습니다."
   ]
  },
  {
   "cell_type": "code",
   "execution_count": 345,
   "id": "0ca6f781-baa4-4e0b-9367-809943f12336",
   "metadata": {
    "tags": []
   },
   "outputs": [
    {
     "data": {
      "text/plain": [
       "6"
      ]
     },
     "execution_count": 345,
     "metadata": {},
     "output_type": "execute_result"
    }
   ],
   "source": [
    "a.size"
   ]
  },
  {
   "cell_type": "raw",
   "id": "32f12c8a-62ca-4521-baab-3a62ff88bae0",
   "metadata": {
    "tags": []
   },
   "source": [
    "size 속성은 전체 요소의 갯수를 확인할 수 있습니다."
   ]
  },
  {
   "cell_type": "code",
   "execution_count": 346,
   "id": "080ca908-8b5e-4380-8658-f0408ff8d250",
   "metadata": {
    "tags": []
   },
   "outputs": [
    {
     "data": {
      "text/plain": [
       "2"
      ]
     },
     "execution_count": 346,
     "metadata": {},
     "output_type": "execute_result"
    }
   ],
   "source": [
    "len(a)"
   ]
  },
  {
   "cell_type": "raw",
   "id": "c214ae99-58c3-481a-84e5-4c3e827aa611",
   "metadata": {},
   "source": [
    "len() 함수를 활용하면 해당 ndarray의 가장 첫번째 차원의 정보를 알 수 있습니다.\n",
    "전체 요소의 갯수를 확인하는 size와 차이가 있음을 유의하시면 됩니다."
   ]
  },
  {
   "cell_type": "code",
   "execution_count": 347,
   "id": "0fcdc24d-6051-4317-919c-3aa1a7368a9d",
   "metadata": {
    "tags": []
   },
   "outputs": [
    {
     "data": {
      "text/plain": [
       "3"
      ]
     },
     "execution_count": 347,
     "metadata": {},
     "output_type": "execute_result"
    }
   ],
   "source": [
    "len(a[0])"
   ]
  },
  {
   "cell_type": "raw",
   "id": "f87c6047-c611-4ae4-a406-ad2dd1d690b0",
   "metadata": {
    "tags": []
   },
   "source": [
    "len() 함수에 첫번째 행인 arr2[0] 를 입력하면 해당 행의 열의 갯수를 알려줍니다."
   ]
  },
  {
   "cell_type": "code",
   "execution_count": 348,
   "id": "02103f56-4171-4db2-a501-cf6fc6d2a81a",
   "metadata": {
    "tags": []
   },
   "outputs": [
    {
     "data": {
      "text/plain": [
       "2"
      ]
     },
     "execution_count": 348,
     "metadata": {},
     "output_type": "execute_result"
    }
   ],
   "source": [
    "a.ndim"
   ]
  },
  {
   "cell_type": "raw",
   "id": "89d1a40f-94c7-4f56-b9ae-0fcc90391f8d",
   "metadata": {},
   "source": [
    "ndim 속성은 해당 배열이 몇 차원인지에 대해서 알려줍니다."
   ]
  },
  {
   "cell_type": "raw",
   "id": "c185bb23-bc89-4830-9173-49547135f8e7",
   "metadata": {},
   "source": [
    "ndarray 객체를 생성하는 또 다른 방법은 arange() 함수를 사용하는 방법입니다.\n",
    "arange() 함수를 사용하면 지정한 범위만큼 숫자를 자동으로 채워서\n",
    "ndarray 객체를 생성해 줍니다.\n",
    "파이썬의 기본 함수인 range()와 사용법이 동일합니다."
   ]
  },
  {
   "cell_type": "code",
   "execution_count": 63,
   "id": "2c73a460-c064-4720-94bd-5abf7c765f39",
   "metadata": {},
   "outputs": [
    {
     "data": {
      "text/plain": [
       "array([0, 1, 2, 3, 4, 5, 6, 7, 8, 9])"
      ]
     },
     "execution_count": 63,
     "metadata": {},
     "output_type": "execute_result"
    }
   ],
   "source": [
    "\"\"\"\n",
    "범위 지정으로 ndarray 생성:\n",
    "\"\"\"\n",
    "import numpy as np\n",
    "\n",
    "np.arange(10)"
   ]
  },
  {
   "cell_type": "raw",
   "id": "1eae0680-ea8e-4344-9bb5-1054f6a3ef76",
   "metadata": {},
   "source": [
    "np.arrange(10) 을 호출하면 0~9의 요소를 갖는 ndarray 객체를 생성합니다."
   ]
  },
  {
   "cell_type": "code",
   "execution_count": 66,
   "id": "299bc41b-165b-483b-b048-59f4419c9e55",
   "metadata": {},
   "outputs": [
    {
     "data": {
      "text/plain": [
       "array([[0, 1, 2],\n",
       "       [3, 4, 5],\n",
       "       [6, 7, 8]])"
      ]
     },
     "execution_count": 66,
     "metadata": {},
     "output_type": "execute_result"
    }
   ],
   "source": [
    "np.arange(9).reshape(3,3)"
   ]
  },
  {
   "cell_type": "raw",
   "id": "08513be0-af41-4015-a10a-5b4914bba0bb",
   "metadata": {},
   "source": [
    "그리고 생성된 ndarray 객체의 reshape()를 호출하면 원하는 형태로 배열을 조정할 수 있습니다."
   ]
  },
  {
   "cell_type": "code",
   "execution_count": 22,
   "id": "29a85f7e-fd4f-4eab-8f30-71a5723ca78d",
   "metadata": {
    "tags": []
   },
   "outputs": [
    {
     "ename": "ValueError",
     "evalue": "cannot reshape array of size 9 into shape (3,2)",
     "output_type": "error",
     "traceback": [
      "\u001b[0;31m---------------------------------------------------------------------------\u001b[0m",
      "\u001b[0;31mValueError\u001b[0m                                Traceback (most recent call last)",
      "Cell \u001b[0;32mIn[22], line 1\u001b[0m\n\u001b[0;32m----> 1\u001b[0m \u001b[43mnp\u001b[49m\u001b[38;5;241;43m.\u001b[39;49m\u001b[43marange\u001b[49m\u001b[43m(\u001b[49m\u001b[38;5;241;43m9\u001b[39;49m\u001b[43m)\u001b[49m\u001b[38;5;241;43m.\u001b[39;49m\u001b[43mreshape\u001b[49m\u001b[43m(\u001b[49m\u001b[38;5;241;43m3\u001b[39;49m\u001b[43m,\u001b[49m\u001b[38;5;241;43m2\u001b[39;49m\u001b[43m)\u001b[49m\n",
      "\u001b[0;31mValueError\u001b[0m: cannot reshape array of size 9 into shape (3,2)"
     ]
    }
   ],
   "source": [
    "np.arange(9).reshape(3,2)"
   ]
  },
  {
   "cell_type": "raw",
   "id": "7a4407e6-5158-4762-89d1-dba7e65da249",
   "metadata": {},
   "source": [
    "reshape()를 호출할때는 해당 배열의 요소의 갯수에 적합한 형태를 지정해주어야 합니다.\n",
    "그렇지 않으면 위와 같은 에러메시지가 나타납니다."
   ]
  },
  {
   "cell_type": "code",
   "execution_count": 145,
   "id": "0c23ed6a-db2a-4e83-b323-c353f9484daa",
   "metadata": {
    "tags": []
   },
   "outputs": [
    {
     "data": {
      "text/plain": [
       "array([0.1 , 0.13, 0.16, 0.19, 0.22, 0.25, 0.28, 0.31, 0.34, 0.37, 0.4 ,\n",
       "       0.43, 0.46, 0.49, 0.52, 0.55, 0.58, 0.61, 0.64, 0.67, 0.7 , 0.73,\n",
       "       0.76, 0.79, 0.82, 0.85, 0.88])"
      ]
     },
     "execution_count": 145,
     "metadata": {},
     "output_type": "execute_result"
    }
   ],
   "source": [
    "np.arange(0.1, 0.9, 0.03)"
   ]
  },
  {
   "cell_type": "raw",
   "id": "346acad2-d0d3-4664-b318-79b847e4b88c",
   "metadata": {},
   "source": [
    "np.arrange의 경우 python의 range 와는 다르게 시작, 끝, 증가폭 파라미터에 실수형 값도 사용할 수 있습니다."
   ]
  },
  {
   "cell_type": "raw",
   "id": "fa6e1559-2995-4b61-9e3b-d4adbfbdcb47",
   "metadata": {},
   "source": [
    "ndarray를 생성하는 또 다른 방법은\n",
    "요소를 모두 0이나 1로 채우는 방법입니다."
   ]
  },
  {
   "cell_type": "code",
   "execution_count": 64,
   "id": "545b5176-f567-4062-9189-5a0cb5339e56",
   "metadata": {},
   "outputs": [
    {
     "data": {
      "text/plain": [
       "array([[0., 0., 0.],\n",
       "       [0., 0., 0.],\n",
       "       [0., 0., 0.]])"
      ]
     },
     "execution_count": 64,
     "metadata": {},
     "output_type": "execute_result"
    }
   ],
   "source": [
    "\"\"\"\n",
    "모든 원소가 0 또는 1인 ndarray 생성:\n",
    "\"\"\"\n",
    "import numpy as np\n",
    "\n",
    "np.zeros((3,3))"
   ]
  },
  {
   "cell_type": "raw",
   "id": "d3ee303e-1a1a-4861-910e-74375ca0b8cc",
   "metadata": {
    "tags": []
   },
   "source": [
    "np.zeros()함수에 생성을 원하는 차원의 정보를 입력하면\n",
    "해당 차원을 모두 0으로 채운 ndarray 객체가 생성 됩니다."
   ]
  },
  {
   "cell_type": "code",
   "execution_count": 65,
   "id": "05610156-9419-44f6-a4b5-93bf1f1b7cf2",
   "metadata": {},
   "outputs": [
    {
     "data": {
      "text/plain": [
       "array([[1., 1., 1.],\n",
       "       [1., 1., 1.],\n",
       "       [1., 1., 1.]])"
      ]
     },
     "execution_count": 65,
     "metadata": {},
     "output_type": "execute_result"
    }
   ],
   "source": [
    "np.ones((3,3,))"
   ]
  },
  {
   "cell_type": "raw",
   "id": "afdfa230-8961-4cf0-86b5-ef6bd552fcf8",
   "metadata": {
    "tags": []
   },
   "source": [
    "np.ones()함수에 생성을 원하는 차원의 정보를 입력하면\n",
    "해당 차원을 모두 1으로 채운 ndarray 객체가 생성 됩니다."
   ]
  },
  {
   "cell_type": "raw",
   "id": "2bbf2ae6-6cfa-4fb0-bdb8-8a4bbde5c0eb",
   "metadata": {},
   "source": [
    "이번에 소개할 방법은 np.linspace() 함수를 활용하여\n",
    "특정 범위 내에서 균등 간격으로 원소를 생성하는 방법입니다."
   ]
  },
  {
   "cell_type": "code",
   "execution_count": 27,
   "id": "f70e3487-bc25-4a35-a7fa-019e1945b294",
   "metadata": {
    "tags": []
   },
   "outputs": [
    {
     "data": {
      "text/plain": [
       "array([0.  , 0.25, 0.5 , 0.75, 1.  ])"
      ]
     },
     "execution_count": 27,
     "metadata": {},
     "output_type": "execute_result"
    }
   ],
   "source": [
    "\"\"\"\n",
    "특정 범위 내에서 균등 간격으로 원소를 생성하는 ndarray:\n",
    "\"\"\"\n",
    "import numpy as np\n",
    "\n",
    "np.linspace(0,1,5)"
   ]
  },
  {
   "cell_type": "raw",
   "id": "63bc04f6-b88e-40ce-8af8-576f2f68c343",
   "metadata": {},
   "source": [
    "np.linspace() 에는 3개의 인자를 넣어주는데,\n",
    "첫번째 인자는 시작\n",
    "두번째 인자는 끝\n",
    "세번째 인자는 분할할 갯수입니다.\n",
    "이때 생성되는 ndarray 에는 시작과 끝을 포함하여 균등안 간격으로 7개의 요소가 생성됩니다."
   ]
  },
  {
   "cell_type": "code",
   "execution_count": 29,
   "id": "74d1c6a7-1596-40de-b55c-09df9479256c",
   "metadata": {
    "tags": []
   },
   "outputs": [
    {
     "data": {
      "text/plain": [
       "array([0.        , 0.02564103, 0.05128205, 0.07692308, 0.1025641 ,\n",
       "       0.12820513, 0.15384615, 0.17948718, 0.20512821, 0.23076923,\n",
       "       0.25641026, 0.28205128, 0.30769231, 0.33333333, 0.35897436,\n",
       "       0.38461538, 0.41025641, 0.43589744, 0.46153846, 0.48717949,\n",
       "       0.51282051, 0.53846154, 0.56410256, 0.58974359, 0.61538462,\n",
       "       0.64102564, 0.66666667, 0.69230769, 0.71794872, 0.74358974,\n",
       "       0.76923077, 0.79487179, 0.82051282, 0.84615385, 0.87179487,\n",
       "       0.8974359 , 0.92307692, 0.94871795, 0.97435897, 1.        ])"
      ]
     },
     "execution_count": 29,
     "metadata": {},
     "output_type": "execute_result"
    }
   ],
   "source": [
    "np.linspace(0,1,40)"
   ]
  },
  {
   "cell_type": "raw",
   "id": "1d1a26d3-7a5a-4369-80d7-6eb1fcd8c475",
   "metadata": {},
   "source": [
    "이번에는 random 한 값으로 채우는 방법에 대해서 알아보겠습니다.\n",
    "np.random.rand() 함수에는 생성하고자 하는 차원의 정보를 파라미터로 입력하면\n",
    "해당 차원을 0~1 사이의 값으로 채원 ndarray 객체를 생성합니다.\n",
    "이때 그 값들은 uniform distribution 을 따르게 되어있습니다."
   ]
  },
  {
   "cell_type": "code",
   "execution_count": 34,
   "id": "f9c63eeb-b0bd-40e9-b7ae-03ced1db2fbd",
   "metadata": {
    "tags": []
   },
   "outputs": [
    {
     "data": {
      "text/plain": [
       "array([[0.55138108, 0.27456746, 0.54262692],\n",
       "       [0.76402507, 0.80814104, 0.68182126],\n",
       "       [0.04508551, 0.83965504, 0.48660669]])"
      ]
     },
     "execution_count": 34,
     "metadata": {},
     "output_type": "execute_result"
    }
   ],
   "source": [
    "\"\"\"\n",
    "랜덤한 값을 갖는 ndarray 생성:\n",
    "\"\"\"\n",
    "import numpy as np\n",
    "\n",
    "np.random.rand(3,3)"
   ]
  },
  {
   "cell_type": "raw",
   "id": "93452b6b-3da2-4437-ac77-332e2ba265fb",
   "metadata": {},
   "source": [
    "이 예제에서는 3행, 3열의 형태에 \n",
    "0~1 사이의 값을 채우는 ndarray 객체를 생성합니다.\n",
    "계속해서 실행해보면 값들이 random 하게 바뀌는 것을 확인 할 수 있습니다."
   ]
  },
  {
   "cell_type": "raw",
   "id": "622aece3-259c-4f9a-a442-25d1e4dda609",
   "metadata": {},
   "source": [
    "추가로 1차원, 3차원 형태로 생성하는 예제들입니다."
   ]
  },
  {
   "cell_type": "code",
   "execution_count": 35,
   "id": "f670bc5b-5bb9-474a-9b9c-2170b6ac502e",
   "metadata": {
    "tags": []
   },
   "outputs": [
    {
     "data": {
      "text/plain": [
       "array([0.70470552, 0.08790508, 0.53385532, 0.85367835, 0.39184586,\n",
       "       0.79740317, 0.3070527 , 0.92232077, 0.89280996, 0.75639941])"
      ]
     },
     "execution_count": 35,
     "metadata": {},
     "output_type": "execute_result"
    }
   ],
   "source": [
    "\"\"\"\n",
    "random.rand() 함수를 사용하여 0과 1 사이의 랜덤한 값으로 배열 생성:\n",
    "\"\"\"\n",
    "import numpy as np\n",
    "\n",
    "np.random.rand(10)"
   ]
  },
  {
   "cell_type": "code",
   "execution_count": 37,
   "id": "21db319b-ee24-4cd6-8829-5fe7bbc45f4d",
   "metadata": {
    "tags": []
   },
   "outputs": [
    {
     "data": {
      "text/plain": [
       "array([[[0.04643799, 0.80801839, 0.23182025, 0.07645243],\n",
       "        [0.71754752, 0.3821168 , 0.06775806, 0.71330094],\n",
       "        [0.02330098, 0.53143322, 0.94699545, 0.0192055 ]],\n",
       "\n",
       "       [[0.495898  , 0.04387162, 0.65634974, 0.31013327],\n",
       "        [0.3765675 , 0.24748047, 0.07096715, 0.59516883],\n",
       "        [0.67133256, 0.40948192, 0.22962584, 0.30953139]]])"
      ]
     },
     "execution_count": 37,
     "metadata": {},
     "output_type": "execute_result"
    }
   ],
   "source": [
    "np.random.rand(2,3,4)"
   ]
  },
  {
   "cell_type": "raw",
   "id": "8b56f791-a870-4c0a-bf9a-3f93e6d695e5",
   "metadata": {
    "tags": []
   },
   "source": [
    "위의 random.rand() 함수는 실수형 값을 가지는 ndarray를 생성합니다.\n",
    "정수형 값을 가지는 ndarray를 생성하기 위해서는\n",
    "random.randint() 함수를 사용하면 됩니다."
   ]
  },
  {
   "cell_type": "code",
   "execution_count": 54,
   "id": "a03e12aa-1519-4f74-80ae-ec68c1fc046b",
   "metadata": {
    "tags": []
   },
   "outputs": [
    {
     "data": {
      "text/plain": [
       "array([3, 3, 4, 1, 1, 4, 2, 1, 4, 2, 1, 1])"
      ]
     },
     "execution_count": 54,
     "metadata": {},
     "output_type": "execute_result"
    }
   ],
   "source": [
    "\"\"\"\n",
    "random.randint(low, high, size) 함수를 사용하여 정수형 랜덤 배열 생성:\n",
    "\"\"\"\n",
    "\n",
    "import numpy as np\n",
    "np.random.randint(1,5,12)"
   ]
  },
  {
   "cell_type": "raw",
   "id": "a93f9917-4c0a-4133-bd7f-e41f4fff07a0",
   "metadata": {
    "tags": []
   },
   "source": [
    "위의 예제는 1이상 5미만의 정수값을 12개 가지는 ndarray 객체를 생성하게 됩니다.\n",
    "random.randint()의 high값은 포함되지 않음에 유의하시면 됩니다."
   ]
  },
  {
   "cell_type": "raw",
   "id": "01583f6b-5e87-49b4-a8a6-7344d9a8a491",
   "metadata": {
    "tags": []
   },
   "source": [
    "생성된 값의 분포에 대해서 matplotlib를 통해서 간단하게 시각화를 해보도록 하겠습니다."
   ]
  },
  {
   "cell_type": "code",
   "execution_count": 136,
   "id": "3e1c4355-9e7f-4069-931f-0ae292af42ff",
   "metadata": {
    "tags": []
   },
   "outputs": [],
   "source": [
    "a = np.random.rand(10000)*100\n",
    "b = np.random.randint(1,100,10000)"
   ]
  },
  {
   "cell_type": "raw",
   "id": "da53f181-b24d-4bfc-b353-ce1fc100e119",
   "metadata": {},
   "source": [
    "위의 두 랜덤함수를 기반으로 1~100까지 1000개의 값을 랜덤으로 채우는 방법입니다.\n",
    "matplotlib 라이브러리로 histogram을 그려보면"
   ]
  },
  {
   "cell_type": "code",
   "execution_count": 137,
   "id": "3a7be625-2f03-45d0-966e-908434ad8711",
   "metadata": {
    "tags": []
   },
   "outputs": [],
   "source": [
    "from matplotlib import pyplot as plt"
   ]
  },
  {
   "cell_type": "code",
   "execution_count": 138,
   "id": "ce11e4fb-2527-4537-9a59-ef59d8c54162",
   "metadata": {
    "tags": []
   },
   "outputs": [
    {
     "data": {
      "text/plain": [
       "(array([[105., 109.,  96.,  96.,  93.,  96.,  92., 108., 100., 105.],\n",
       "        [113., 105.,  97.,  94., 107.,  94.,  78.,  94., 106., 112.]]),\n",
       " array([ 0.26731307, 10.22911562, 20.19091817, 30.15272072, 40.11452326,\n",
       "        50.07632581, 60.03812836, 69.99993091, 79.96173346, 89.92353601,\n",
       "        99.88533855]),\n",
       " <a list of 2 BarContainer objects>)"
      ]
     },
     "execution_count": 138,
     "metadata": {},
     "output_type": "execute_result"
    },
    {
     "data": {
      "image/png": "[encoded data removed]",
      "text/plain": [
       "<Figure size 640x480 with 1 Axes>"
      ]
     },
     "metadata": {},
     "output_type": "display_data"
    }
   ],
   "source": [
    "a = np.random.rand(1000)*100\n",
    "b = np.random.randint(1,100,1000)\n",
    "plt.hist((a,b), bins=10)"
   ]
  },
  {
   "cell_type": "raw",
   "id": "621f44bc-26ff-470c-8038-51b37097b57e",
   "metadata": {},
   "source": [
    "이 두 함수는 uniform distribution을 기반으로 동작하기 때문에\n",
    "각 구간별로 유사한 갯수의 값들이 분포됨을 볼 수 있습니다.\n",
    "(박복하여 실행)"
   ]
  },
  {
   "cell_type": "raw",
   "id": "197579e7-b35a-4fb6-84a7-e13acef862b7",
   "metadata": {
    "tags": []
   },
   "source": [
    "다음은 주어진 평균1, 표준편차가 1인 normal distribution을 따르는\n",
    "랜덤 값을 가지는 ndarray 객체를 생성하는 방법입니다.\n",
    "참고로 normal distribution은 gaussian distribution이라고 불리기도 합니다."
   ]
  },
  {
   "cell_type": "code",
   "execution_count": 139,
   "id": "c4353858-bf9c-40d0-9801-293ce0f4e6a0",
   "metadata": {
    "tags": []
   },
   "outputs": [
    {
     "data": {
      "text/plain": [
       "array([[[ 0.67941141,  0.41379733],\n",
       "        [ 1.17204646, -0.30097226]],\n",
       "\n",
       "       [[-0.01947262, -0.57012104],\n",
       "        [ 1.22470891, -1.30111877]]])"
      ]
     },
     "execution_count": 139,
     "metadata": {},
     "output_type": "execute_result"
    }
   ],
   "source": [
    "\"\"\"\n",
    "random.randn() 함수를 사용하여 평균이 0이고 표준 편차가 1인 랜덤 배열 생성:\n",
    "\"\"\"\n",
    "\n",
    "import numpy as np\n",
    "\n",
    "np.random.randn(2,2,2)"
   ]
  },
  {
   "cell_type": "raw",
   "id": "3a88a98c-9bdb-43ea-a97a-48b5d567c01f",
   "metadata": {},
   "source": [
    "위의 예제에서 3차원의 형태에 평균 0, 표준편차가 1인 값으로 채운 \n",
    "ndarray 객체를 생성하는 예시입니다."
   ]
  },
  {
   "cell_type": "raw",
   "id": "77520da2-b7f2-460b-a35d-1f1255b91afc",
   "metadata": {},
   "source": [
    "만약 평균과 표준편차를 지정하고 싶을 경우에는 np.random.normal() 함수를 사용하면 됩니다."
   ]
  },
  {
   "cell_type": "code",
   "execution_count": 144,
   "id": "c111b8ed-c274-453f-8867-20b46de24087",
   "metadata": {
    "tags": []
   },
   "outputs": [
    {
     "data": {
      "text/plain": [
       "(array([[  0.,   3.,  13.,  58., 112., 181., 246., 196., 122.,  44.,  18.,\n",
       "           7.,   0.,   0.,   0.,   0.,   0.,   0.,   0.,   0.,   0.,   0.,\n",
       "           0.,   0.,   0.,   0.,   0.,   0.,   0.,   0.],\n",
       "        [  2.,   2.,   1.,   3.,  11.,  13.,  11.,  24.,  25.,  38.,  56.,\n",
       "          65.,  72.,  74.,  76.,  83.,  74.,  65.,  58.,  44.,  50.,  44.,\n",
       "          43.,  20.,  16.,  12.,   8.,   4.,   2.,   4.]]),\n",
       " array([ 1.10413838,  1.69147996,  2.27882154,  2.86616312,  3.4535047 ,\n",
       "         4.04084628,  4.62818786,  5.21552944,  5.80287101,  6.39021259,\n",
       "         6.97755417,  7.56489575,  8.15223733,  8.73957891,  9.32692049,\n",
       "         9.91426207, 10.50160365, 11.08894523, 11.6762868 , 12.26362838,\n",
       "        12.85096996, 13.43831154, 14.02565312, 14.6129947 , 15.20033628,\n",
       "        15.78767786, 16.37501944, 16.96236102, 17.54970259, 18.13704417,\n",
       "        18.72438575]),\n",
       " <a list of 2 BarContainer objects>)"
      ]
     },
     "execution_count": 144,
     "metadata": {},
     "output_type": "execute_result"
    },
    {
     "data": {
      "image/png": "[encoded data removed]",
      "text/plain": [
       "<Figure size 640x480 with 1 Axes>"
      ]
     },
     "metadata": {},
     "output_type": "display_data"
    }
   ],
   "source": [
    "a = np.random.randn(1000)+5\n",
    "b = np.random.normal(10,3,1000)\n",
    "plt.hist((a,b), bins=30, )"
   ]
  },
  {
   "cell_type": "raw",
   "id": "9b611cb7-90e2-4709-9a8e-1b9eb228acf8",
   "metadata": {},
   "source": [
    "이 예제에서 a에는 평균0, 표준편차 1인 수 1000개를 생성한 후 5만큼 오른쪽으로 이동하게 하였고 \n",
    "histogram 에서는 파란색으로 나타나고 있습니다.\n",
    "b에는 평균 10, 표준편차 3인 수 1000개를 생성하였고,\n",
    "histogram 에서는 오렌지 색으로 나타나 있습니다."
   ]
  },
  {
   "cell_type": "raw",
   "id": "94239996-9b97-44ec-bd2c-057cd61424f3",
   "metadata": {},
   "source": [
    "이번에는 주어진 배열에서 random 하게 값을 추출하여 ndarray를 생성하는 방법을 알아보겠습니다."
   ]
  },
  {
   "cell_type": "code",
   "execution_count": 81,
   "id": "3c5efa49-e1f1-433f-a3f6-a2d6328975ab",
   "metadata": {},
   "outputs": [
    {
     "data": {
      "text/plain": [
       "array([10, 20, 20, 10])"
      ]
     },
     "execution_count": 81,
     "metadata": {},
     "output_type": "execute_result"
    }
   ],
   "source": [
    "\"\"\"\n",
    "random.choice() 함수를 사용하여 주어진 배열에서 랜덤한 값 선택:\n",
    "\"\"\"\n",
    "\n",
    "import numpy as np\n",
    "\n",
    "a = np.array([10,20,30])\n",
    "np.random.choice(a, 4)"
   ]
  },
  {
   "cell_type": "raw",
   "id": "804587ca-edf9-4adf-b03a-96baa2841c2e",
   "metadata": {},
   "source": [
    "위의 예제는 10, 20, 30 이 포함된 배열에서 중복을 포함하여 랜덤하게 4개의 요소를 선탁하여\n",
    "ndrray 객체를 만드는 예제입니다."
   ]
  },
  {
   "cell_type": "code",
   "execution_count": null,
   "id": "0984d561-e666-45a8-973b-331421fe8865",
   "metadata": {},
   "outputs": [],
   "source": []
  },
  {
   "cell_type": "raw",
   "id": "ef977977-8788-4e39-9f7a-33798ec198b8",
   "metadata": {},
   "source": [
    "NumPy의 ndarray는 아래와 같은 데이터 타입을 제공하고 있습니다.\n",
    "int, uint 의 경우 64비트까지, float의 경우 128비트 까지를 사용할 수 있습니다."
   ]
  },
  {
   "cell_type": "markdown",
   "id": "ec357a0b-65df-42e1-94fa-6518cde21c7a",
   "metadata": {},
   "source": [
    "## ndarray 의 데이터 타입\n",
    "\n",
    "|**데이터형 dtype**|**코드**|**설명**|\n",
    "|--|--|--|\n",
    "|int8|i1|부호 있는 8비트 정수형|\n",
    "|int16|i2|부호 있는 16비트 정수형|\n",
    "|int32|i4|부호 있는 32비트 정수형\n",
    "|int64|i8|부호 있는 64비트 정수형|\n",
    "|unit8|u1|부호 없는 8비트 정수형|\n",
    "|unit16|u2|부호 없는 16비트 정수형|\n",
    "|unit32|u4|부호 없는 32비트 정수형|\n",
    "|unit64|u8|부호 없는 64비트 정수형|\n",
    "|float16|f2|실수형 ; 반 정밀도 부동소수점형 (부호 1비트, 지수 5비트, 가수 10비트)|\n",
    "|float32|f4|실수형; 단 정밀도 부동소수점형 (부호 1비트, 지수 8비트, 가수 23비트)|\n",
    "|float64|f8|실수형; 배 정밀도 부동소수점형 (부호 1비트, 지수 11비트, 가수 54비트)|\n",
    "|float128|f16|실수형; 네배 정밀도 부동소수점형 (부호 1비트, 지수 15비트, 가수 112비트)|\n",
    "|complex64|c8|복소수 (실수부, 허수부 각각 float32)|\n",
    "|complex128|c16|복소수 (실수부, 허수부 각각 float64)|\n",
    "|complex256|c32|복소수 (실수부, 허수부 각각 float128)|\n",
    "|bool|?|불형 (true 또는 false)|\n",
    "|unicode|U|unicode문자열|\n",
    "|object|0|Python 오브젝트형|"
   ]
  },
  {
   "cell_type": "markdown",
   "id": "fdb94600-7174-471d-a5b5-b942dfab236f",
   "metadata": {},
   "source": [
    "우선 정수형 데이터 타입에 대해서 알아보도록 하겠습니다."
   ]
  },
  {
   "cell_type": "code",
   "execution_count": 82,
   "id": "58d96668-1d7f-4a47-a90c-1ca0e404184e",
   "metadata": {},
   "outputs": [],
   "source": [
    "\"\"\"\n",
    "정수형 데이터 타입:\n",
    "\"\"\"\n",
    "import numpy as np\n",
    "\n",
    "a = np.array([1,2,3])"
   ]
  },
  {
   "cell_type": "code",
   "execution_count": 83,
   "id": "8dfb38f0-8a32-49e2-8566-4039a0c45d4a",
   "metadata": {},
   "outputs": [
    {
     "data": {
      "text/plain": [
       "dtype('int32')"
      ]
     },
     "execution_count": 83,
     "metadata": {},
     "output_type": "execute_result"
    }
   ],
   "source": [
    "a.dtype"
   ]
  },
  {
   "cell_type": "raw",
   "id": "8e1fede5-9186-43c9-89ef-f8659d40cde1",
   "metadata": {},
   "source": [
    "정수형 데이터를 활용하여 ndarray를 생성할 경우 \n",
    "기본적으로 32비트의 int 자료형으로 설정이 되는것을 확인할 수 있습니다."
   ]
  },
  {
   "cell_type": "code",
   "execution_count": 152,
   "id": "38e6dc4c-afdf-4be7-aaaa-b2183f3eec0d",
   "metadata": {
    "tags": []
   },
   "outputs": [],
   "source": [
    "a = np.array([1,2,3], dtype=np.int64)"
   ]
  },
  {
   "cell_type": "code",
   "execution_count": 153,
   "id": "e43fbedb-82a4-4128-b5a2-da0566078253",
   "metadata": {
    "tags": []
   },
   "outputs": [
    {
     "data": {
      "text/plain": [
       "dtype('int64')"
      ]
     },
     "execution_count": 153,
     "metadata": {},
     "output_type": "execute_result"
    }
   ],
   "source": [
    "a.dtype"
   ]
  },
  {
   "cell_type": "raw",
   "id": "e813d56e-4b15-4fc9-befa-437c9544430e",
   "metadata": {},
   "source": [
    "만약 64비트 형식으로 저장을 하려면 np.array를 호출할때 dtype 파라미터를 통해서 조정이 가능합니다."
   ]
  },
  {
   "cell_type": "raw",
   "id": "c9b5e4c5-30a5-4296-9560-27648354e26e",
   "metadata": {},
   "source": [
    "다음은 실수형 타입의 데이터를 기반으로 ndarray 객체를 만드는 경우입니다."
   ]
  },
  {
   "cell_type": "code",
   "execution_count": 154,
   "id": "6bcb90c6-3432-43df-81a0-cb74c8cbdb17",
   "metadata": {
    "tags": []
   },
   "outputs": [],
   "source": [
    "\"\"\"\n",
    "실수형 데이터 타입:\n",
    "\"\"\"\n",
    "import numpy as np\n",
    "\n",
    "f = np.array([1,2,3.0])"
   ]
  },
  {
   "cell_type": "code",
   "execution_count": 155,
   "id": "eb4fc364-c869-4c8c-a3cf-6704eb7a7a5c",
   "metadata": {
    "tags": []
   },
   "outputs": [
    {
     "data": {
      "text/plain": [
       "dtype('float64')"
      ]
     },
     "execution_count": 155,
     "metadata": {},
     "output_type": "execute_result"
    }
   ],
   "source": [
    "f.dtype"
   ]
  },
  {
   "cell_type": "raw",
   "id": "1dc06dc2-382a-4a9c-8b5c-6fb80a9f642b",
   "metadata": {
    "tags": []
   },
   "source": [
    "정수형과 실수형 데이터를 혼함하여 활용하여 ndarray를 생성할 경우 \n",
    "실수형 타입으로 결정이 되며,\n",
    "기본적으로 64비트의 float 자료형으로 설정이 되는것을 확인할 수 있습니다."
   ]
  },
  {
   "cell_type": "code",
   "execution_count": 156,
   "id": "2986e6c0-5cbc-41c9-8539-42da2460be2d",
   "metadata": {
    "tags": []
   },
   "outputs": [],
   "source": [
    "f = np.array([1,2,3.0], dtype=np.float32)"
   ]
  },
  {
   "cell_type": "code",
   "execution_count": 157,
   "id": "4b44bb8f-438c-4a2d-bc89-a8d91a6e28f8",
   "metadata": {
    "tags": []
   },
   "outputs": [
    {
     "data": {
      "text/plain": [
       "dtype('float32')"
      ]
     },
     "execution_count": 157,
     "metadata": {},
     "output_type": "execute_result"
    }
   ],
   "source": [
    "f.dtype"
   ]
  },
  {
   "cell_type": "raw",
   "id": "a97948d1-15f2-4116-84ca-58ee27e2fdf7",
   "metadata": {
    "tags": []
   },
   "source": [
    "만약 32비트 형식으로 저장을 하려면 np.array를 호출할때 dtype 파라미터를 통해서 조정이 가능합니다."
   ]
  },
  {
   "cell_type": "raw",
   "id": "448521ad-577d-4469-bc7c-cc2f715d8173",
   "metadata": {},
   "source": [
    "다음은 문자열 데이터 기반으로 ndarray를 생성하는 방식입니다."
   ]
  },
  {
   "cell_type": "code",
   "execution_count": 158,
   "id": "24257e70-bd76-43c9-a5c1-137e6819751d",
   "metadata": {
    "tags": []
   },
   "outputs": [],
   "source": [
    "\"\"\"\n",
    "문자열 데이터 타입:\n",
    "\"\"\"\n",
    "import numpy as np\n",
    "\n",
    "a = np.array([\"a\", \"b\"], dtype=\"<U4\")\n"
   ]
  },
  {
   "cell_type": "code",
   "execution_count": 159,
   "id": "2bd8dea4-54fe-42db-b414-089fb8e8f628",
   "metadata": {
    "tags": []
   },
   "outputs": [
    {
     "data": {
      "text/plain": [
       "dtype('<U4')"
      ]
     },
     "execution_count": 159,
     "metadata": {},
     "output_type": "execute_result"
    }
   ],
   "source": [
    "a.dtype"
   ]
  },
  {
   "cell_type": "raw",
   "id": "835ba924-3c58-4f5b-af4f-9bc740ae2bcc",
   "metadata": {},
   "source": [
    "이 경우 4byte의 unicode로 데이터 타입이 설정되는 것을 확인할 수 있습니다."
   ]
  },
  {
   "cell_type": "raw",
   "id": "745d1c91-c40c-4cd3-b21e-b7f603689fd4",
   "metadata": {},
   "source": [
    "다음은 불리언 타입의 데이터로 ndarray를 생성하는 방식입니다."
   ]
  },
  {
   "cell_type": "code",
   "execution_count": 160,
   "id": "3e17b3b0-5254-48d2-b590-1a08a6d73317",
   "metadata": {
    "tags": []
   },
   "outputs": [
    {
     "data": {
      "text/plain": [
       "dtype('bool')"
      ]
     },
     "execution_count": 160,
     "metadata": {},
     "output_type": "execute_result"
    }
   ],
   "source": [
    "\"\"\"\n",
    "불리언 데이터 타입:\n",
    "\"\"\"\n",
    "import numpy as np\n",
    "\n",
    "a = np.array([True, False])\n",
    "a.dtype"
   ]
  },
  {
   "cell_type": "raw",
   "id": "889d3cf3-94b3-4cd3-9bac-0f7d1b054836",
   "metadata": {
    "tags": []
   },
   "source": [
    "이 경우 4byte의 bool로 데이터 타입이 설정되는 것을 확인할 수 있습니다."
   ]
  },
  {
   "cell_type": "raw",
   "id": "6b92d171-9364-4a17-8dc5-418fc6d0365a",
   "metadata": {},
   "source": [
    "다음은 복소수타입의 데이터로 ndarray를 생성하는 방식입니다."
   ]
  },
  {
   "cell_type": "code",
   "execution_count": 161,
   "id": "31760a8d-2812-4b32-882d-a0cdb2e5382a",
   "metadata": {
    "tags": []
   },
   "outputs": [],
   "source": [
    "\"\"\"\n",
    "복소수형 데이터 타입:\n",
    "\"\"\"\n",
    "import numpy as np\n",
    "a = np.array([1+4j, 2+4j])"
   ]
  },
  {
   "cell_type": "code",
   "execution_count": 162,
   "id": "675ad8a3-064b-49b8-873f-4b21ed148f67",
   "metadata": {
    "tags": []
   },
   "outputs": [
    {
     "data": {
      "text/plain": [
       "dtype('complex128')"
      ]
     },
     "execution_count": 162,
     "metadata": {},
     "output_type": "execute_result"
    }
   ],
   "source": [
    "a.dtype"
   ]
  },
  {
   "cell_type": "raw",
   "id": "403d1fad-eb6e-4004-a28f-06b3ced1cc59",
   "metadata": {
    "tags": []
   },
   "source": [
    "이 경우 complex128로 데이터 타입이 설정되는 것을 확인할 수 있습니다."
   ]
  },
  {
   "cell_type": "raw",
   "id": "0968c59f-1efd-43a4-9359-e10ca1cdd044",
   "metadata": {},
   "source": [
    "만약 데이터 생성시에 여러 type 이 혼합되어 있는 배열이 input으로 들어간다면,\n",
    "더 큰 데이터 타입으로 변환되어 저장이 됩니다."
   ]
  },
  {
   "cell_type": "code",
   "execution_count": 21,
   "id": "2bcf3d65-fcc9-4d11-a486-77793652bf63",
   "metadata": {
    "tags": []
   },
   "outputs": [
    {
     "data": {
      "text/plain": [
       "array(['1', '2.0', 'True', '3', '(1+2j)'], dtype='<U64')"
      ]
     },
     "execution_count": 21,
     "metadata": {},
     "output_type": "execute_result"
    }
   ],
   "source": [
    "np.array([1,2.0,True,'3', 1+2j])"
   ]
  },
  {
   "cell_type": "raw",
   "id": "a6ace3c2-e565-4e0a-be7a-daa3b6905982",
   "metadata": {},
   "source": [
    "위의 예제 에서는 데이터 들이 string 형태로 변환되어 저장된 것을 확인할 수 있습니다."
   ]
  },
  {
   "cell_type": "raw",
   "id": "f7d9e62c-1c01-45c5-b513-17b489473e18",
   "metadata": {},
   "source": [
    "NumPy의 ndarray의 데이터 타입을 변경하기 위해서는  \n",
    "astype() 메서드를 사용합니다."
   ]
  },
  {
   "cell_type": "markdown",
   "id": "bc4a1692-0c4a-4284-a873-ef842a57b305",
   "metadata": {},
   "source": [
    "## 타입변경\n",
    "\n",
    "NumPy의 ndarray의 데이터 타입을 변경하기 위해서는  \n",
    "astype() 메서드를 사용합니다."
   ]
  },
  {
   "cell_type": "code",
   "execution_count": 171,
   "id": "1a1cf4a0-a779-45d6-84df-2dbb3c23f840",
   "metadata": {
    "tags": []
   },
   "outputs": [
    {
     "data": {
      "text/plain": [
       "dtype('int64')"
      ]
     },
     "execution_count": 171,
     "metadata": {},
     "output_type": "execute_result"
    }
   ],
   "source": [
    "\"\"\"\n",
    "astype() 메서드를 사용하여 데이터 타입 변경:\n",
    "\"\"\"\n",
    "import numpy as np\n",
    "a = np.array([1,2,3])\n",
    "a.dtype"
   ]
  },
  {
   "cell_type": "raw",
   "id": "5bb218f5-0fc4-4ac5-b53c-7c05d85a140c",
   "metadata": {},
   "source": [
    "astype() 메서드의 기능을 확인하기 위하여 \n",
    "우선 int64 타입의 ndarray를 생성해봅니다."
   ]
  },
  {
   "cell_type": "code",
   "execution_count": 173,
   "id": "9a52fa27-2a11-4498-8027-50c666e61d91",
   "metadata": {
    "tags": []
   },
   "outputs": [
    {
     "data": {
      "text/plain": [
       "dtype('float32')"
      ]
     },
     "execution_count": 173,
     "metadata": {},
     "output_type": "execute_result"
    }
   ],
   "source": [
    "b = a.astype(np.float32)\n",
    "b.dtype"
   ]
  },
  {
   "cell_type": "raw",
   "id": "109f4b73-7fee-4f5d-adb5-d862fb2e785b",
   "metadata": {
    "tags": []
   },
   "source": [
    "그리고 a.astype()을 호출할때 파라미터로 np.float32를 입력하여\n",
    "32비트 float 의 데이터 타입을 갖는 ndarray를 반환하도록 하여 b에 assign을 하고\n",
    "b.dtype을 호출하여 b에 저장된 데이터의 타입을 확인해보면\n",
    "float32 로 되어 있음을 확인할 수 있습니다.\n",
    "\n",
    "이때 데이터 타입 변경은 원본 데이터를 변환하여 새로운 ndarray를 생성하는 것이므로, \n",
    "원본 배열 a와 새로운 배열 b는 서로 다른 객체입니다."
   ]
  },
  {
   "cell_type": "code",
   "execution_count": 111,
   "id": "681f177f-c0c5-402c-9605-22b7cbe66f43",
   "metadata": {},
   "outputs": [
    {
     "data": {
      "text/plain": [
       "array([1, 2, 3])"
      ]
     },
     "execution_count": 111,
     "metadata": {},
     "output_type": "execute_result"
    }
   ],
   "source": [
    "a"
   ]
  },
  {
   "cell_type": "code",
   "execution_count": 110,
   "id": "2beae7d8-25dd-45b5-9964-d135ff4daf06",
   "metadata": {},
   "outputs": [
    {
     "data": {
      "text/plain": [
       "array([1., 2., 3.], dtype=float32)"
      ]
     },
     "execution_count": 110,
     "metadata": {},
     "output_type": "execute_result"
    }
   ],
   "source": [
    "b"
   ]
  },
  {
   "cell_type": "markdown",
   "id": "ae3f8425-d30f-4738-8226-4a96882e1225",
   "metadata": {},
   "source": [
    ">데이터 타입 변경은 원본 데이터를 변환하여 새로운 ndarray를 생성하는 것이므로, 원본 배열과 새로운 배열은 서로 다른 객체입니다."
   ]
  },
  {
   "cell_type": "code",
   "execution_count": 112,
   "id": "f4fff7fd-5fe4-4339-a338-3c9e655a0ffa",
   "metadata": {},
   "outputs": [
    {
     "data": {
      "text/plain": [
       "False"
      ]
     },
     "execution_count": 112,
     "metadata": {},
     "output_type": "execute_result"
    }
   ],
   "source": [
    "a is b"
   ]
  },
  {
   "cell_type": "raw",
   "id": "7b01a087-cf16-49a3-8665-a86c860f684a",
   "metadata": {},
   "source": [
    "단 a,b에 저장된 배열의 요소들의 값을 서로 비교하는 경우에는 서로 같은 값으로 나오게 됩니다."
   ]
  },
  {
   "cell_type": "code",
   "execution_count": 175,
   "id": "91d2457d-86f9-4ad6-b4d5-de51aef5a819",
   "metadata": {
    "tags": []
   },
   "outputs": [
    {
     "data": {
      "text/plain": [
       "array([ True,  True,  True])"
      ]
     },
     "execution_count": 175,
     "metadata": {},
     "output_type": "execute_result"
    }
   ],
   "source": [
    "a == b"
   ]
  },
  {
   "cell_type": "raw",
   "id": "0f6721b8-ead9-4f8c-9f01-29c63c5047ce",
   "metadata": {},
   "source": [
    "이번에는 ndarray의 주요 속성 및 메소드에 대해서 알아보도록 하겠습니다."
   ]
  },
  {
   "cell_type": "markdown",
   "id": "e5744081-886c-4dd5-a30a-39b3de97d952",
   "metadata": {},
   "source": [
    "## ndarray 주요 속성 및 메소드\n",
    "\n",
    "|이름|설명|\n",
    "|--|--|\n",
    "|shape|배열의 차원을 튜플로 반환|\n",
    "|dtype|배열의 데이터 타입을 반환|\n",
    "|size|배열의 총 원소 개수를 반환|\n",
    "|reshape()|배열의 형태를 변경|\n",
    "|transpose()| 배열의 전치행렬을 반환|\n",
    "|max(),min(),sum(),count(),mean()||\n",
    "\n",
    "### 속성"
   ]
  },
  {
   "cell_type": "raw",
   "id": "f9940117-3019-4552-ad1a-eed3f2425518",
   "metadata": {},
   "source": [
    "shape, dtype, size, reshape()는 이전에 설명했으므로,\n",
    "간단하게 넘어가도록 하겠습니다."
   ]
  },
  {
   "cell_type": "code",
   "execution_count": 178,
   "id": "4fe5e12a-69a3-486a-b137-3b0110bee8e7",
   "metadata": {
    "tags": []
   },
   "outputs": [
    {
     "name": "stdout",
     "output_type": "stream",
     "text": [
      "[[1 2 3]\n",
      " [4 5 6]]\n"
     ]
    },
    {
     "data": {
      "text/plain": [
       "(2, 3)"
      ]
     },
     "execution_count": 178,
     "metadata": {},
     "output_type": "execute_result"
    }
   ],
   "source": [
    "\"\"\"\n",
    "shape: 배열의 차원을 튜플로 반환합니다. 각 차원별 원소의 개수를 나타냅니다.\n",
    "\"\"\"\n",
    "\n",
    "import numpy as np\n",
    "\n",
    "arr = np.array([[1, 2, 3], [4, 5, 6]])\n",
    "print(arr)\n",
    "arr.shape"
   ]
  },
  {
   "cell_type": "raw",
   "id": "8160fd33-749f-4f69-ab2f-ff1a644b444a",
   "metadata": {},
   "source": [
    "위의 예제에서 arr.shape 에는 해당 ndarray 객체의 형태인\n",
    "2행 3열을 나타내는 튜플이 반환됩니다."
   ]
  },
  {
   "cell_type": "code",
   "execution_count": 180,
   "id": "45e0b351-c315-4bbe-a9c8-556871c38cb0",
   "metadata": {
    "tags": []
   },
   "outputs": [
    {
     "data": {
      "text/plain": [
       "dtype('int64')"
      ]
     },
     "execution_count": 180,
     "metadata": {},
     "output_type": "execute_result"
    }
   ],
   "source": [
    "\"\"\"\n",
    "dtype: 배열의 데이터 타입을 반환합니다.\n",
    "\"\"\"\n",
    "\n",
    "import numpy as np\n",
    "\n",
    "arr = np.array([1, 2, 3])\n",
    "arr.dtype"
   ]
  },
  {
   "cell_type": "code",
   "execution_count": 181,
   "id": "bfee39e8-7e56-43a0-acc3-0c715b8d2a9e",
   "metadata": {
    "tags": []
   },
   "outputs": [
    {
     "name": "stdout",
     "output_type": "stream",
     "text": [
      "6\n"
     ]
    }
   ],
   "source": [
    "\"\"\"\n",
    "size: 배열의 총 원소 개수를 반환합니다.\n",
    "\"\"\"\n",
    "import numpy as np\n",
    "\n",
    "arr = np.array([[1, 2, 3], [4, 5, 6]])\n",
    "print(arr.size)  # 출력: 6"
   ]
  },
  {
   "cell_type": "markdown",
   "id": "b097fcd9-b6a8-4ba8-9791-bd875a01aedf",
   "metadata": {},
   "source": [
    "### 메소드"
   ]
  },
  {
   "cell_type": "code",
   "execution_count": 182,
   "id": "c1ae7c04-d75d-479c-b950-4b89c5b7ad52",
   "metadata": {
    "tags": []
   },
   "outputs": [
    {
     "name": "stdout",
     "output_type": "stream",
     "text": [
      "[[1 2 3]\n",
      " [4 5 6]]\n"
     ]
    }
   ],
   "source": [
    "\"\"\"\n",
    "reshape(): 배열의 형태를 변경합니다.\n",
    "\"\"\"\n",
    "import numpy as np\n",
    "\n",
    "arr = np.array([1, 2, 3, 4, 5, 6])\n",
    "reshaped_arr = arr.reshape(2, 3)\n",
    "print(reshaped_arr)\n",
    "# 출력:\n",
    "# [[1 2 3]\n",
    "#  [4 5 6]]\n"
   ]
  },
  {
   "cell_type": "raw",
   "id": "df5eff50-e53f-44d1-b0d0-09272e2e71a6",
   "metadata": {},
   "source": [
    "reshape() 에서 -1 은 배열의 차원을 자동으로 계산해주는 특별한 값입니다.\n",
    "해당 차원의 크기는 남은 차원의 크기와 데이터의 총 개수를 기반으로 자동으로 계산됩니다.\n",
    "예제를 통해서 확인해보도록 하겠습니다."
   ]
  },
  {
   "cell_type": "code",
   "execution_count": 189,
   "id": "1c89e88e-ca91-4846-bdb4-91131a97ad0e",
   "metadata": {
    "tags": []
   },
   "outputs": [
    {
     "data": {
      "text/plain": [
       "array([ 0,  1,  2,  3,  4,  5,  6,  7,  8,  9, 10, 11, 12, 13, 14, 15])"
      ]
     },
     "execution_count": 189,
     "metadata": {},
     "output_type": "execute_result"
    }
   ],
   "source": [
    "\"\"\"\n",
    "reshape() 에서 -1 은 배열의 차원을 자동으로 계산해주는 특별한 값입니다.\n",
    "해당 차원의 크기는 남은 차원의 크기와 데이터의 총 개수를 기반으로 자동으로 계산됩니다.\n",
    "\"\"\"\n",
    "a = np.arange(0,16)\n",
    "a"
   ]
  },
  {
   "cell_type": "raw",
   "id": "b5d0ddc8-f5a5-4817-ad36-a62d82f86f8e",
   "metadata": {},
   "source": [
    "우선 0부터 15까지 16개의 요소를 가지는 ndarray 객체를 만듭니다."
   ]
  },
  {
   "cell_type": "code",
   "execution_count": 190,
   "id": "fd06df88-b126-4701-8bdc-99d030f73baa",
   "metadata": {
    "tags": []
   },
   "outputs": [
    {
     "data": {
      "text/plain": [
       "array([[ 0,  1,  2,  3],\n",
       "       [ 4,  5,  6,  7],\n",
       "       [ 8,  9, 10, 11],\n",
       "       [12, 13, 14, 15]])"
      ]
     },
     "execution_count": 190,
     "metadata": {},
     "output_type": "execute_result"
    }
   ],
   "source": [
    "a.reshape(4,4)"
   ]
  },
  {
   "cell_type": "raw",
   "id": "97809e94-f2a2-45f4-aceb-2a289c58baf9",
   "metadata": {},
   "source": [
    "reshape(4,4)를 호출하면 \n",
    "4행 4열의 형태로 변환하게 됩니다."
   ]
  },
  {
   "cell_type": "code",
   "execution_count": 191,
   "id": "8e557e7d-9555-401a-984f-dc56d27e9001",
   "metadata": {
    "tags": []
   },
   "outputs": [
    {
     "data": {
      "text/plain": [
       "array([[ 0,  1,  2,  3],\n",
       "       [ 4,  5,  6,  7],\n",
       "       [ 8,  9, 10, 11],\n",
       "       [12, 13, 14, 15]])"
      ]
     },
     "execution_count": 191,
     "metadata": {},
     "output_type": "execute_result"
    }
   ],
   "source": [
    "a.reshape(4, -1)"
   ]
  },
  {
   "cell_type": "raw",
   "id": "57437a53-ff97-4e90-8b49-b5c3a53f6361",
   "metadata": {
    "tags": []
   },
   "source": [
    "reshape(4,-1)을 호출하면 주어진 배열에서\n",
    "행을 4로 고정하고 갯수에 맞게 열의 개수를 조정하게 됩니다.\n",
    "여기에서는 요소의 갯수가 16개 이므로 4행의 배열로 조정하려면\n",
    "열의 갯수가 4개가 되어야 하므로\n",
    "자동으로 4행 4열의 배열로 세팅을 합니다."
   ]
  },
  {
   "cell_type": "code",
   "execution_count": 193,
   "id": "909869e7-d5a9-43bd-96c1-b8e17d925817",
   "metadata": {
    "tags": []
   },
   "outputs": [
    {
     "data": {
      "text/plain": [
       "array([[ 0,  1,  2,  3],\n",
       "       [ 4,  5,  6,  7],\n",
       "       [ 8,  9, 10, 11],\n",
       "       [12, 13, 14, 15]])"
      ]
     },
     "execution_count": 193,
     "metadata": {},
     "output_type": "execute_result"
    }
   ],
   "source": [
    "a.reshape(-1, 4)"
   ]
  },
  {
   "cell_type": "raw",
   "id": "beb4f175-d933-4b02-a181-c6f0cb408991",
   "metadata": {},
   "source": [
    "만약 respahe를 호출할때 행을-1로 하고 열을 4로 설정한다면\n",
    "열을 4로 고정하고 갯수에 맞게 행의 개수를 조정하게 됩니다.\n",
    "여기에서는 요소의 갯수가 16개 이므로 4열의 배열로 조정하려면\n",
    "행의 갯수가 4개가 되어야 하므로\n",
    "역시 자동으로 4행 4열의 배열로 세팅을 합니다."
   ]
  },
  {
   "cell_type": "raw",
   "id": "03c34399-7ff2-4225-b96e-40d1e28ad68b",
   "metadata": {},
   "source": [
    "이번에는 transpose() 메소드를 활용하여 \n",
    "배열의 행과 열을 바꾸는 전치행렬을 만드는 방법에 대해서 확인해보겠습니다."
   ]
  },
  {
   "cell_type": "code",
   "execution_count": 214,
   "id": "b3deab38-6771-4df4-bcec-6bd8b2cad9e5",
   "metadata": {
    "tags": []
   },
   "outputs": [
    {
     "data": {
      "text/plain": [
       "array([[1, 2, 3],\n",
       "       [4, 5, 6]])"
      ]
     },
     "execution_count": 214,
     "metadata": {},
     "output_type": "execute_result"
    }
   ],
   "source": [
    "\"\"\"\n",
    "transpose(): 배열의 전치행렬을 반환합니다.\n",
    "\"\"\"\n",
    "import numpy as np\n",
    "\n",
    "arr = np.arange(1,7).reshape(2,3)\n",
    "arr\n"
   ]
  },
  {
   "cell_type": "code",
   "execution_count": 215,
   "id": "9be1eeb6-130a-48b0-94f0-e98edd669aae",
   "metadata": {
    "tags": []
   },
   "outputs": [
    {
     "data": {
      "text/plain": [
       "(2, 3)"
      ]
     },
     "execution_count": 215,
     "metadata": {},
     "output_type": "execute_result"
    }
   ],
   "source": [
    "arr.shape"
   ]
  },
  {
   "cell_type": "raw",
   "id": "c6bda5d8-b559-41dc-8cbf-8fe84f0efecb",
   "metadata": {},
   "source": [
    "우선 2행 3열의 ndarray객체를 만듭니다."
   ]
  },
  {
   "cell_type": "code",
   "execution_count": 216,
   "id": "b94ce075-d147-4ad6-a5f0-1efaa2ec0220",
   "metadata": {
    "tags": []
   },
   "outputs": [
    {
     "data": {
      "text/plain": [
       "array([[1, 4],\n",
       "       [2, 5],\n",
       "       [3, 6]])"
      ]
     },
     "execution_count": 216,
     "metadata": {},
     "output_type": "execute_result"
    }
   ],
   "source": [
    "arr.transpose()"
   ]
  },
  {
   "cell_type": "code",
   "execution_count": 217,
   "id": "4e0f016e-2979-435b-aa9e-e356f8061c35",
   "metadata": {
    "tags": []
   },
   "outputs": [
    {
     "data": {
      "text/plain": [
       "(3, 2)"
      ]
     },
     "execution_count": 217,
     "metadata": {},
     "output_type": "execute_result"
    }
   ],
   "source": [
    "arr.transpose().shape"
   ]
  },
  {
   "cell_type": "code",
   "execution_count": 218,
   "id": "b922d4fc-38b7-4abb-a4a2-d825c1cfcd4c",
   "metadata": {
    "tags": []
   },
   "outputs": [
    {
     "data": {
      "text/plain": [
       "array([[1, 2, 3],\n",
       "       [4, 5, 6]])"
      ]
     },
     "execution_count": 218,
     "metadata": {},
     "output_type": "execute_result"
    }
   ],
   "source": [
    "arr"
   ]
  },
  {
   "cell_type": "raw",
   "id": "96df3a8b-dae5-4aca-b7b9-ebe5bed3eb04",
   "metadata": {},
   "source": [
    "그리고 transpose()를 호출하면 \n",
    "행과 열이 바뀐 ndarray 객체가 생성되는 것을 확인할 수 있습니다.\n",
    "이때 기존의 arr은 유지가 되면 transpose를 통해 새로운 객체가 생성되는 것에\n",
    "유의하시기 바랍니다."
   ]
  },
  {
   "cell_type": "raw",
   "id": "f5d30f6e-ab15-4f64-bd7c-36a6ee6f245e",
   "metadata": {},
   "source": [
    "ndarray객체를 통해서 max(), min(), sum(), mean()등의 통계 관련 메소드를 활용할 수 있습니다."
   ]
  },
  {
   "cell_type": "code",
   "execution_count": 235,
   "id": "3a922b18-3e3d-4ebd-be30-dfd17485fe25",
   "metadata": {
    "tags": []
   },
   "outputs": [
    {
     "data": {
      "text/plain": [
       "array([[ 1,  2,  3,  4,  5],\n",
       "       [ 6,  7,  8,  9, 10]])"
      ]
     },
     "execution_count": 235,
     "metadata": {},
     "output_type": "execute_result"
    }
   ],
   "source": [
    "\"\"\"\n",
    "- max()\n",
    "- min()\n",
    "- sum()\n",
    "- mean()\n",
    "\"\"\"\n",
    "import numpy as np\n",
    "\n",
    "arr = np.arange(1,11).reshape(2,5)\n",
    "arr"
   ]
  },
  {
   "cell_type": "code",
   "execution_count": 236,
   "id": "103c3f0d-d263-4fa6-b142-e8320651126e",
   "metadata": {
    "tags": []
   },
   "outputs": [
    {
     "data": {
      "text/plain": [
       "10"
      ]
     },
     "execution_count": 236,
     "metadata": {},
     "output_type": "execute_result"
    }
   ],
   "source": [
    "np.max(arr)"
   ]
  },
  {
   "cell_type": "code",
   "execution_count": 237,
   "id": "09ab7e16-81b2-4839-93c7-b2c926919e34",
   "metadata": {
    "tags": []
   },
   "outputs": [
    {
     "data": {
      "text/plain": [
       "10"
      ]
     },
     "execution_count": 237,
     "metadata": {},
     "output_type": "execute_result"
    }
   ],
   "source": [
    "arr.max()"
   ]
  },
  {
   "cell_type": "code",
   "execution_count": 238,
   "id": "6184a0fa-1bc3-44f7-bf4a-21b3c5cb2d37",
   "metadata": {
    "tags": []
   },
   "outputs": [
    {
     "data": {
      "text/plain": [
       "1"
      ]
     },
     "execution_count": 238,
     "metadata": {},
     "output_type": "execute_result"
    }
   ],
   "source": [
    "arr.min()"
   ]
  },
  {
   "cell_type": "code",
   "execution_count": 239,
   "id": "cbabbdd7-16b0-4f54-855e-6b2c84818c90",
   "metadata": {
    "tags": []
   },
   "outputs": [
    {
     "data": {
      "text/plain": [
       "55"
      ]
     },
     "execution_count": 239,
     "metadata": {},
     "output_type": "execute_result"
    }
   ],
   "source": [
    "arr.sum()"
   ]
  },
  {
   "cell_type": "code",
   "execution_count": 240,
   "id": "89c8f30a-1fad-4e9b-8827-101a781a7282",
   "metadata": {
    "tags": []
   },
   "outputs": [
    {
     "data": {
      "text/plain": [
       "5.5"
      ]
     },
     "execution_count": 240,
     "metadata": {},
     "output_type": "execute_result"
    }
   ],
   "source": [
    "arr.mean()"
   ]
  },
  {
   "cell_type": "code",
   "execution_count": null,
   "id": "2e6997cb-fbff-4a1a-9755-2674f8ad0e9f",
   "metadata": {},
   "outputs": [],
   "source": []
  },
  {
   "cell_type": "raw",
   "id": "9342d8a9-2127-4961-9f07-42ef11520683",
   "metadata": {},
   "source": [
    "이번에는 ndarray 객체에 저장되어 있는 요소들에 대한\n",
    "indexing 및 slicing 에 대해서 알아보도록 하겠습니다."
   ]
  },
  {
   "cell_type": "markdown",
   "id": "7c0441e5-c787-4942-82ab-54df59f14c06",
   "metadata": {},
   "source": [
    "# indexing 과 slicing"
   ]
  },
  {
   "cell_type": "raw",
   "id": "a7a42155-f836-498e-81db-15f985ddf46d",
   "metadata": {},
   "source": [
    "일차원 ndarray의 요소를 확인하기 위한 인덱싱 방법은 대괄호를 사용하는 방식으로\n",
    "파이썬의 배열의 인덱싱 방법과 동일합니다."
   ]
  },
  {
   "cell_type": "code",
   "execution_count": 153,
   "id": "fd9e8cec-ce13-4fd2-9ced-df6af25630df",
   "metadata": {},
   "outputs": [
    {
     "name": "stdout",
     "output_type": "stream",
     "text": [
      "1\n",
      "4\n"
     ]
    }
   ],
   "source": [
    "\"\"\"\n",
    "인덱싱(indexing)\n",
    "\"\"\"\n",
    "import numpy as np\n",
    "\n",
    "# 1차원 배열 인덱싱\n",
    "arr1d = np.array([1, 2, 3, 4, 5])\n",
    "print(arr1d[0])  # 출력: 1 (첫 번째 원소)\n",
    "print(arr1d[3])  # 출력: 4 (네 번째 원소)\n"
   ]
  },
  {
   "cell_type": "raw",
   "id": "5d1abf39-4713-475e-a448-838dbdbb5b60",
   "metadata": {},
   "source": [
    "2차원 이상의 배열에서는 대괄호 안에 콤마로 차원을 구분하여 인덱싱하면 됩니다."
   ]
  },
  {
   "cell_type": "code",
   "execution_count": 241,
   "id": "29fcdc40-2e01-498e-aae2-502b3ba2dc77",
   "metadata": {
    "tags": []
   },
   "outputs": [
    {
     "name": "stdout",
     "output_type": "stream",
     "text": [
      "[[1 2 3]\n",
      " [4 5 6]]\n",
      "2\n",
      "6\n"
     ]
    }
   ],
   "source": [
    "# 2차원 배열 인덱싱\n",
    "arr2d = np.array([[1, 2, 3], [4, 5, 6]])\n",
    "print(arr2d)\n",
    "print(arr2d[0, 1])  # 출력: 2 (첫 번째 행의 두 번째 열)\n",
    "print(arr2d[1, 2])  # 출력: 6 (두 번째 행의 세 번째 열)"
   ]
  },
  {
   "cell_type": "code",
   "execution_count": 242,
   "id": "1f041c87-ebb0-4a0f-86c9-4b18d3377399",
   "metadata": {
    "tags": []
   },
   "outputs": [
    {
     "data": {
      "text/plain": [
       "2"
      ]
     },
     "execution_count": 242,
     "metadata": {},
     "output_type": "execute_result"
    }
   ],
   "source": [
    "arr2d[0][1]"
   ]
  },
  {
   "cell_type": "raw",
   "id": "72ada308-abbf-4327-b39f-cffce85da534",
   "metadata": {},
   "source": [
    "파이썬 배열과 동일한 방식으로도 인덱싱이 가능합니다."
   ]
  },
  {
   "cell_type": "raw",
   "id": "4adf8058-720b-444a-ba34-c653105ce06e",
   "metadata": {},
   "source": [
    "이번에는 슬라이싱 방법에 대해서 알아보겠습니다.\n",
    "numpy의 슬라이싱 방식은 파이썬 기본 배열의 슬라이싱 배열 방식과 동일합니다."
   ]
  },
  {
   "cell_type": "code",
   "execution_count": 155,
   "id": "f679a24c-712d-473e-ba9b-bc3e45890b56",
   "metadata": {},
   "outputs": [
    {
     "name": "stdout",
     "output_type": "stream",
     "text": [
      "[2 3 4]\n"
     ]
    }
   ],
   "source": [
    "\"\"\"\n",
    "슬라이싱(slicing)\n",
    "\"\"\"\n",
    "import numpy as np\n",
    "\n",
    "# 1차원 배열 슬라이싱\n",
    "arr1d = np.array([1, 2, 3, 4, 5])\n",
    "print(arr1d[1:4])  # 출력: [2 3 4] (인덱스 1부터 3까지의 원소)"
   ]
  },
  {
   "cell_type": "raw",
   "id": "d1446edc-5bd1-4165-acc6-43544e6ef137",
   "metadata": {},
   "source": [
    "위의 예제에서는 첫번째 요소부터 네번째 요소의 바로 이전인 세번째 요소까지의 포함하는 ndarray 객체를 반환합니다.\n",
    "여기에서 주의할 것은 numpy의 슬라이싱은 해당 객체를 복사하지 않습니다.\n",
    "즉 원본 배열의 변경이 슬라이싱한 배열에서도 반영이 됩니다."
   ]
  },
  {
   "cell_type": "code",
   "execution_count": 262,
   "id": "a78572de-2302-49c2-a0f3-9cde02d4a9e9",
   "metadata": {
    "tags": []
   },
   "outputs": [
    {
     "name": "stdout",
     "output_type": "stream",
     "text": [
      "[0 1 2 3 4]\n",
      "[1 2]\n"
     ]
    }
   ],
   "source": [
    "a = np.arange(5)\n",
    "b = a[1:3]\n",
    "print(a,b,sep=\"\\n\")"
   ]
  },
  {
   "cell_type": "code",
   "execution_count": 263,
   "id": "3cfd8410-61c1-4059-a81d-3fd7ee5a1c43",
   "metadata": {
    "tags": []
   },
   "outputs": [
    {
     "name": "stdout",
     "output_type": "stream",
     "text": [
      "[  0 999   2   3   4]\n",
      "[999   2]\n"
     ]
    }
   ],
   "source": [
    "a[1] = 999\n",
    "print(a,b, sep=\"\\n\")"
   ]
  },
  {
   "cell_type": "raw",
   "id": "050f3c4a-bce4-4c91-9347-f250e871bddb",
   "metadata": {},
   "source": [
    "참고로 파이썬의 기본 배열에서는 슬라이싱을 할때 값을 복사하기 때문에\n",
    "원본 배열의 변화가 영향을 끼치지 않습니다."
   ]
  },
  {
   "cell_type": "code",
   "execution_count": 264,
   "id": "388c22d2-de86-42eb-a08f-2755055dfec2",
   "metadata": {
    "tags": []
   },
   "outputs": [
    {
     "name": "stdout",
     "output_type": "stream",
     "text": [
      "[0, 1, 2, 3, 4]\n",
      "[1, 2]\n"
     ]
    }
   ],
   "source": [
    "a = list(range(5))\n",
    "b = a[1:3]\n",
    "print(a,b,sep=\"\\n\")"
   ]
  },
  {
   "cell_type": "code",
   "execution_count": 265,
   "id": "2e2cacfd-e710-4273-9dcf-f570ac898588",
   "metadata": {
    "tags": []
   },
   "outputs": [
    {
     "name": "stdout",
     "output_type": "stream",
     "text": [
      "[0, 999, 2, 3, 4]\n",
      "[1, 2]\n"
     ]
    }
   ],
   "source": [
    "a[1] = 999\n",
    "print(a,b,sep=\"\\n\")"
   ]
  },
  {
   "cell_type": "raw",
   "id": "de287276-8904-4691-9f93-65e0adacb12a",
   "metadata": {},
   "source": [
    "그리고 2차원 배열의 슬라이싱에 대해서 알아보도록 하겠습니다.\n",
    "우선 2차원의 ndarray를 만들어보도록 하겠습니다."
   ]
  },
  {
   "cell_type": "code",
   "execution_count": 266,
   "id": "33423722-0305-4096-82e6-60c35c9f2220",
   "metadata": {
    "tags": []
   },
   "outputs": [
    {
     "name": "stdout",
     "output_type": "stream",
     "text": [
      "[[1 2 3]\n",
      " [4 5 6]]\n"
     ]
    }
   ],
   "source": [
    "# 2차원 배열 슬라이싱\n",
    "arr2d = np.arange(1,7).reshape(2,3)\n",
    "print(arr2d)"
   ]
  },
  {
   "cell_type": "raw",
   "id": "7dac95ba-711d-466e-968a-26bd57d13abc",
   "metadata": {},
   "source": [
    "2차원 이상의 ndarray 배열에 대한 슬라이싱을 위해서는,\n",
    "각 차원별로 슬라이싱 정보를 입력해주면 됩니다."
   ]
  },
  {
   "cell_type": "code",
   "execution_count": 267,
   "id": "afff583b-17ad-4131-b9a5-b6edbe1d36cd",
   "metadata": {
    "tags": []
   },
   "outputs": [
    {
     "name": "stdout",
     "output_type": "stream",
     "text": [
      "[[2 3]\n",
      " [5 6]]\n"
     ]
    }
   ],
   "source": [
    "print(arr2d[:, 1:3])\n",
    "# 출력:\n",
    "# [[2 3]\n",
    "#  [5 6]] (모든 행의 두 번째와 세 번째 열)\n"
   ]
  },
  {
   "cell_type": "raw",
   "id": "8abd34ae-d759-4137-ada7-6ab79dea3245",
   "metadata": {},
   "source": [
    "만약 해당 차원에서는 슬라이싱을 하지 않으려면 콜론을 입력하면 됩니다.\n",
    "위의 예제 에서는 행은 그대로 유지하면서 1,2열만 슬라이싱한 결과를 얻을 수 있습니다."
   ]
  },
  {
   "cell_type": "raw",
   "id": "ddd20e4f-1a07-42a2-877d-8ce3abfd0901",
   "metadata": {},
   "source": [
    "이번에는 ndarray의 배열의 특정한 위치에 값을 할당하거나 \n",
    "삭제, 추가 하는 방법에 대해서 알아보겠습니다."
   ]
  },
  {
   "cell_type": "markdown",
   "id": "2aa184a5-a682-43b4-8685-367f2853a23c",
   "metadata": {},
   "source": [
    "## ndarray 값 할당, 삭제, 추가"
   ]
  },
  {
   "cell_type": "code",
   "execution_count": 252,
   "id": "946e93d6-f488-4eac-8edb-4d460c4f4007",
   "metadata": {
    "tags": []
   },
   "outputs": [
    {
     "data": {
      "text/plain": [
       "array([1, 2, 3, 4, 5])"
      ]
     },
     "execution_count": 252,
     "metadata": {},
     "output_type": "execute_result"
    }
   ],
   "source": [
    "\"\"\"\n",
    "값을 할당하는 예제:\n",
    "\"\"\"\n",
    "import numpy as np\n",
    "\n",
    "# 1차원 배열 생성\n",
    "arr = np.arange(5)+1\n",
    "arr"
   ]
  },
  {
   "cell_type": "code",
   "execution_count": 253,
   "id": "fd7e8be2-cda4-4632-9c77-b641806fe75c",
   "metadata": {
    "tags": []
   },
   "outputs": [
    {
     "data": {
      "text/plain": [
       "array([ 1,  2, 10,  4,  5])"
      ]
     },
     "execution_count": 253,
     "metadata": {},
     "output_type": "execute_result"
    }
   ],
   "source": [
    "# 인덱스를 이용하여 값을 할당\n",
    "\n",
    "arr[2] = 10\n",
    "arr"
   ]
  },
  {
   "cell_type": "raw",
   "id": "7e202257-4c34-4d91-883f-d033b84f64bc",
   "metadata": {},
   "source": [
    "인덱싱을 활용하여 특정한 위치에 특정 값을 할당하는 예제입니다."
   ]
  },
  {
   "cell_type": "code",
   "execution_count": 256,
   "id": "a4d1387e-ad8d-4334-a5d4-d854da93f7db",
   "metadata": {
    "tags": []
   },
   "outputs": [
    {
     "data": {
      "text/plain": [
       "array([  1, 100, 100, 100,   5])"
      ]
     },
     "execution_count": 256,
     "metadata": {},
     "output_type": "execute_result"
    }
   ],
   "source": [
    "# 슬라이싱을 이용하여 값 할당\n",
    "arr[1:4] = 100\n",
    "arr"
   ]
  },
  {
   "cell_type": "raw",
   "id": "27e6b120-a4ac-4b5d-ba95-3d73678df0c1",
   "metadata": {},
   "source": [
    "슬라이싱을 활용하여 특정 값을 할당하도록 하면\n",
    "해당 영역을 동일한 값으로 채우게 됩니다."
   ]
  },
  {
   "cell_type": "raw",
   "id": "d6f20ba3-a62d-4e7a-b7a0-a22ef4b184fb",
   "metadata": {},
   "source": [
    "이번에는 delete()메소드를 사용하여 특정 위치의 값을 삭제하는 방법에 대해서 알아보겠습니다."
   ]
  },
  {
   "cell_type": "code",
   "execution_count": 272,
   "id": "381ec8d4-b96c-4ebc-8981-8ef032d221e7",
   "metadata": {
    "tags": []
   },
   "outputs": [
    {
     "name": "stdout",
     "output_type": "stream",
     "text": [
      "[1 2 3 4 5]\n",
      "[1 2 4 5]\n"
     ]
    }
   ],
   "source": [
    "\"\"\"\n",
    "값을 삭제하는 예제:\n",
    "\"\"\"\n",
    "import numpy as np\n",
    "\n",
    "# 1차원 배열 생성\n",
    "a = np.array([1, 2, 3, 4, 5])\n",
    "\n",
    "# 인덱스를 이용하여 값 삭제\n",
    "b = np.delete(a,2)\n",
    "print(a,b,sep=\"\\n\")"
   ]
  },
  {
   "cell_type": "raw",
   "id": "47de5c3c-4ef7-4170-ace8-64a743cc77b7",
   "metadata": {},
   "source": [
    "여기에서 주의할 점은 np.delete()를 호출하면 \n",
    "해당 요소가 삭제된 배열객체를 얻을 수 있으나\n",
    "기존의 a 가 참조하고 있는 배열에서는 해당 요소의 삭제가 일어나지 않는 다는 것입니다."
   ]
  },
  {
   "cell_type": "code",
   "execution_count": 273,
   "id": "04c1237e-9563-4174-ba71-0654e56352ac",
   "metadata": {
    "tags": []
   },
   "outputs": [
    {
     "name": "stdout",
     "output_type": "stream",
     "text": [
      "[1 2 3 4 5]\n",
      "[1 5]\n"
     ]
    }
   ],
   "source": [
    "# 슬라이싱을 이용하여 값 삭제\n",
    "a = np.array([1, 2, 3, 4, 5])\n",
    "b = np.delete(arr, slice(1,4))\n",
    "print(a, b, sep=\"\\n\")"
   ]
  },
  {
   "cell_type": "raw",
   "id": "86541aa5-3e81-4ebc-aecd-0784f4aae141",
   "metadata": {},
   "source": [
    "슬라이싱을 통한 삭제도 같은 동작을 하게 됩니다.\n",
    "해당 요소가 삭제된 배열객체를 얻을 수 있으나\n",
    "기존의 a 가 참조하고 있는 배열에서는 해당 요소의 삭제가 일어나지 않습니다."
   ]
  },
  {
   "cell_type": "raw",
   "id": "c35f1dca-9990-476d-b35c-2cc48e3cbfb1",
   "metadata": {},
   "source": [
    "참고로 파이썬 기본 배열에서의 삭제 방식은 아래와 같습니다.\n",
    "a가 참조하고 있는 배열의 내용이 바뀐 것을 확인할 수 있습니다."
   ]
  },
  {
   "cell_type": "code",
   "execution_count": 282,
   "id": "7203cc52-03da-44df-aaf0-967096d4622e",
   "metadata": {
    "tags": []
   },
   "outputs": [
    {
     "name": "stdout",
     "output_type": "stream",
     "text": [
      "[1, 2, 4, 5]\n"
     ]
    }
   ],
   "source": [
    "# 파이썬 기본 배열에서의 삭제\n",
    "a = [1,2,3,4,5]\n",
    "del a[2]\n",
    "print(a)"
   ]
  },
  {
   "cell_type": "raw",
   "id": "097bc45d-2f20-4bbb-b562-ef596499f01b",
   "metadata": {},
   "source": [
    "다음은 insert()메소드를 활용하여 ndarray의 배열에 값을 추가하는 예제입니다."
   ]
  },
  {
   "cell_type": "code",
   "execution_count": 281,
   "id": "5a4b2aa8-52db-4ccc-aad0-5174e4ced53a",
   "metadata": {
    "tags": []
   },
   "outputs": [
    {
     "name": "stdout",
     "output_type": "stream",
     "text": [
      "[1 2 3 4 5]\n",
      "[1 2 0 3 4 5]\n"
     ]
    }
   ],
   "source": [
    "\"\"\"\n",
    "값을 추가하는 예제:\n",
    "\"\"\"\n",
    "import numpy as np\n",
    "\n",
    "# 1차원 배열 생성\n",
    "a = np.array([1, 2, 3, 4, 5])\n",
    "b = np.insert(a, 2, 0)\n",
    "print(a,b,sep=\"\\n\")"
   ]
  },
  {
   "cell_type": "raw",
   "id": "e10933b7-25c5-49ab-af86-7fa7b13dc187",
   "metadata": {},
   "source": [
    "insert()메소드를 호출하는 경우에도 해당 요소가 추가된 배열객체를 얻을 수 있으나\n",
    "기존의 a 가 참조하고 있는 배열에서는 해당 요소의 추가가 일어나지 않습니다."
   ]
  },
  {
   "cell_type": "raw",
   "id": "a1228913-681b-4116-b5cc-6d2904944e58",
   "metadata": {},
   "source": [
    "이번에는 numpy 배열 요소들에 대한 정렬 및 필터링 방법에 대해서 확인해보도록 하겠습니다."
   ]
  },
  {
   "cell_type": "markdown",
   "id": "7b3f0b38-4d0d-4f2b-9515-d9ce14d8db91",
   "metadata": {},
   "source": [
    "## 정렬, 필터링"
   ]
  },
  {
   "cell_type": "code",
   "execution_count": 286,
   "id": "8ba8cd44-9de0-4dc6-90e5-1b868fbeaef5",
   "metadata": {
    "tags": []
   },
   "outputs": [
    {
     "name": "stdout",
     "output_type": "stream",
     "text": [
      "[3 1 4 2 5]\n",
      "[1 2 3 4 5]\n"
     ]
    }
   ],
   "source": [
    "\"\"\"\n",
    "배열 정렬 예제:\n",
    "\"\"\"\n",
    "import numpy as np\n",
    "\n",
    "# 1차원 배열 생성\n",
    "a = np.array([3, 1, 4, 2, 5])\n",
    "\n",
    "# 오름차순으로 배열 정렬\n",
    "b = np.sort(a)\n",
    "\n",
    "print(a,b,sep=\"\\n\")"
   ]
  },
  {
   "cell_type": "raw",
   "id": "66e9efe1-60d1-43e9-980b-a1ced24d6ecc",
   "metadata": {},
   "source": [
    "np.sort()메소드를 사용하여 배열의 요소를 오름차순으로 정렬할 수 있습니다."
   ]
  },
  {
   "cell_type": "raw",
   "id": "f48d0d31-e61b-400f-9efd-798536e5e2e7",
   "metadata": {},
   "source": [
    "numpy 에서는 내림차순 정렬을 지원하지 않게 때문에\n",
    "오름차순으로 정렬후 해당 배열을 반대로 뒤집는 방법으로 내림차순 정렬을 할 수 있습니다."
   ]
  },
  {
   "cell_type": "code",
   "execution_count": 291,
   "id": "2adea435-6109-4246-9289-a5d0bae17b63",
   "metadata": {
    "tags": []
   },
   "outputs": [
    {
     "data": {
      "text/plain": [
       "array([5, 4, 3, 2, 1])"
      ]
     },
     "execution_count": 291,
     "metadata": {},
     "output_type": "execute_result"
    }
   ],
   "source": [
    "c = np.sort(a)[::-1]\n",
    "c"
   ]
  },
  {
   "cell_type": "raw",
   "id": "d3aac28d-1708-4e12-88ef-2e58c3dfc4ad",
   "metadata": {},
   "source": [
    "이번에는 ndarray 배열의 필터링 방법에 대해서 알아보도록 하겠습니다.\n",
    "ndarray 배열의 필터링 방식은 boolean vector를 활용하는 방식으로 사용 가능합니다."
   ]
  },
  {
   "cell_type": "code",
   "execution_count": 349,
   "id": "28e01bcb-9db6-48f6-aa7e-5e50584bbbf2",
   "metadata": {
    "tags": []
   },
   "outputs": [
    {
     "name": "stdout",
     "output_type": "stream",
     "text": [
      "[1 2 3 4 5]\n",
      "[3 4 5]\n"
     ]
    }
   ],
   "source": [
    "\"\"\"\n",
    "배열 필터링 예제:\n",
    "\"\"\"\n",
    "import numpy as np\n",
    "\n",
    "# 1차원 배열 생성\n",
    "a = np.array([1, 2, 3, 4, 5])\n",
    "print(a, a[a>2], sep=\"\\n\")"
   ]
  },
  {
   "cell_type": "raw",
   "id": "fe7b351c-561f-412a-a3fc-05032d89bef7",
   "metadata": {},
   "source": [
    "필터링이 실행되는 과정에 대해서 한번 살펴보도록 하겠습니다."
   ]
  },
  {
   "cell_type": "code",
   "execution_count": 350,
   "id": "5252e13b-0f7f-4e65-9d12-39e0c80d7edb",
   "metadata": {
    "tags": []
   },
   "outputs": [
    {
     "data": {
      "text/plain": [
       "array([False, False,  True,  True,  True])"
      ]
     },
     "execution_count": 350,
     "metadata": {},
     "output_type": "execute_result"
    }
   ],
   "source": [
    "a > 2"
   ]
  },
  {
   "cell_type": "raw",
   "id": "8deef20a-aad9-45a5-9ff6-79762461dec9",
   "metadata": {
    "tags": []
   },
   "source": [
    "필터링하고자 하는 조건을 만들기 위하여 a가 2보다 크다는 내용을 부등호 연산자로 실행하면\n",
    "그 결과 a의 배열에 있는 각 값에 해당 조건\n",
    "즉 2보다 큰지를 비교하고 조건에 만족하면 True를 조건에 만족하지 않으면 False를 채우는 방식으로\n",
    "boolean vector가 생성이 됩니다."
   ]
  },
  {
   "cell_type": "code",
   "execution_count": 351,
   "id": "487f9c98-855f-4b73-b020-124abd7bf1e3",
   "metadata": {
    "tags": []
   },
   "outputs": [
    {
     "data": {
      "text/plain": [
       "array([3, 4, 5])"
      ]
     },
     "execution_count": 351,
     "metadata": {},
     "output_type": "execute_result"
    }
   ],
   "source": [
    "a[[False, False,  True,  True,  True]]"
   ]
  },
  {
   "cell_type": "raw",
   "id": "288f8e4e-1b1d-4020-99d5-44ee0b4a8ddb",
   "metadata": {},
   "source": [
    "이 boolean vector를 a에 인덱스 형식으로 넣어주면,\n",
    "True로 되어 위치의 요소들만으로 구성된 ndarray 객체를 반환합니다."
   ]
  },
  {
   "cell_type": "code",
   "execution_count": 352,
   "id": "544f695a-32de-4aa8-8682-9c51498c4536",
   "metadata": {
    "tags": []
   },
   "outputs": [
    {
     "data": {
      "text/plain": [
       "array([3, 4, 5])"
      ]
     },
     "execution_count": 352,
     "metadata": {},
     "output_type": "execute_result"
    }
   ],
   "source": [
    "a[a>2]"
   ]
  },
  {
   "cell_type": "raw",
   "id": "fab11a92-7189-4ba8-bbb9-10f80c650791",
   "metadata": {
    "tags": []
   },
   "source": [
    "즉 a의 ndarray 객체의 대괄호 안에 조건식을 입력하는 것은\n",
    "내부적으로 boolean vector를 활용한 마스킹을 활용하여 필터링 하는 것임을 알아 보았습니다."
   ]
  },
  {
   "cell_type": "raw",
   "id": "eab16959-f3d9-4fae-9ba2-1bda20ad8acf",
   "metadata": {
    "tags": []
   },
   "source": [
    "필터링 된 결과와 원본 배열과의 연관여부를 확인해보도록 하겠습니다."
   ]
  },
  {
   "cell_type": "code",
   "execution_count": 354,
   "id": "70b56835-8927-4382-9b6b-8f69575cca78",
   "metadata": {
    "tags": []
   },
   "outputs": [
    {
     "name": "stdout",
     "output_type": "stream",
     "text": [
      "[1 2 3 4 5]\n",
      "[3 4 5]\n"
     ]
    }
   ],
   "source": [
    "b = a[a>2]\n",
    "print(a, b, sep=\"\\n\")"
   ]
  },
  {
   "cell_type": "code",
   "execution_count": 355,
   "id": "8952728e-0455-432d-9045-9c95554ab75b",
   "metadata": {
    "tags": []
   },
   "outputs": [
    {
     "name": "stdout",
     "output_type": "stream",
     "text": [
      "[   1    2    3    4 -999]\n",
      "[3 4 5]\n"
     ]
    }
   ],
   "source": [
    "a[4] = -999\n",
    "print(a, b, sep=\"\\n\")"
   ]
  },
  {
   "cell_type": "raw",
   "id": "178c19c5-da44-4cd0-b860-1ec899a10512",
   "metadata": {},
   "source": [
    "필터링의 경우 슬라이싱과는 다르게 원본 배열의 변화가\n",
    "필터링 결과에 영향을 끼치지 않는 것을 확인할 수 있습니다."
   ]
  },
  {
   "cell_type": "raw",
   "id": "73246b77-34b6-42eb-b9ec-df524b78a4ec",
   "metadata": {},
   "source": [
    "위에서 언급한 예제들에서 배열을 `인덱싱`/`슬라이싱` 한 후에 그 결과로 나온 배열은 \n",
    "원본 배열의 `뷰(View)`입니다. \n",
    "즉, 뷰를 새로운 값으로 수정, 변경하게되면 원본 배열도 변경이 됩니다.\n",
    "넘파이에서 원본 배열의 변경 없이 인덱싱/슬라이싱 한 결과 배열을 복사하고 싶다면 `copy()` 메서드를 사용합니다."
   ]
  },
  {
   "cell_type": "markdown",
   "id": "4fd9f67f-4f21-4799-9f72-5dab939cda39",
   "metadata": {},
   "source": [
    "# view() and copy()\n",
    "\n",
    "- 넘파이에서는 배열을 `인덱싱`/`슬라이싱` 한 후에 그 결과로 나온 배열은 원본 배열의 `뷰(View)`입니다. (성능Performance과 효율성Efficiency을 위해서)\n",
    "- 뷰를 새로운 값으로 수정, 변경하게되면 원본 배열도 변경이 됩니다.\n",
    "- 넘파이에서 원본 배열의 변경 없이 인덱싱/슬라이싱 한 결과 배열을 복사하고 싶다면 `copy()` 메서드를 사용합니다."
   ]
  },
  {
   "cell_type": "raw",
   "id": "36f237d8-e428-41b8-bddd-476341dda58e",
   "metadata": {},
   "source": [
    "예제를 통해 확인해보도록 하겠습니다.\n",
    "a는 4개의 요소를 가진 ndarray 객체를 입니다.\n",
    "b는 a와 동일한 객체를 참조하도록 하였습니다.\n",
    "v는 a 객체의 view를 생성한것입니다.\n",
    "c는 a 객체를 copy()메소드를 통해 복사한 것입니다."
   ]
  },
  {
   "cell_type": "code",
   "execution_count": 319,
   "id": "8c3de08d-f87d-4538-af9e-b03392c802d0",
   "metadata": {
    "tags": []
   },
   "outputs": [],
   "source": [
    "a = np.array([ 0,  1,  2,  3])\n",
    "b = a\n",
    "v = a.view()\n",
    "c = a.copy()"
   ]
  },
  {
   "cell_type": "code",
   "execution_count": 320,
   "id": "c26f5158-c756-4e92-b82d-11f10579c495",
   "metadata": {
    "tags": []
   },
   "outputs": [
    {
     "name": "stdout",
     "output_type": "stream",
     "text": [
      "origin    139914147595536\n",
      "assign:   139914147595536\n",
      "view:     139914147595440\n",
      "copy:     139914147596112\n"
     ]
    }
   ],
   "source": [
    "print(f\"{'origin':10s}{id(a)}\\n{'assign: ':10s}{id(b)}\\n{'view: ':10s}{id(v)}\\n{'copy: ':10s}{id(c)}\")"
   ]
  },
  {
   "cell_type": "code",
   "execution_count": null,
   "id": "58e72684-434f-48ec-b0a1-8a9dc9d69dc1",
   "metadata": {},
   "outputs": [],
   "source": [
    "각 변수가 참고하고 있는 주소를 살펴보면\n",
    "a,b는 같은 주소를 참조하고 있고,\n",
    "v,c는 a와는 다른 주소를 참조하고 있음을 알 수 있습니다."
   ]
  },
  {
   "cell_type": "code",
   "execution_count": 321,
   "id": "1ee69eaa-064b-496f-bffc-ba43a0c11c77",
   "metadata": {
    "tags": []
   },
   "outputs": [
    {
     "name": "stdout",
     "output_type": "stream",
     "text": [
      "True\n",
      "False\n",
      "False\n"
     ]
    }
   ],
   "source": [
    "print(a is b, a is v, a is c, sep=\"\\n\")"
   ]
  },
  {
   "cell_type": "raw",
   "id": "28b443ab-6f7e-4e9f-94a4-f01111f5be99",
   "metadata": {},
   "source": [
    "그래서 is 연산자를 활용해서 비교해보면 위와 같은 결과를 확인할 수 있습니다.\n",
    "a와 b는 같고\n",
    "a와 v, a 와 c 는 서로 다름을 볼 수 있습니다."
   ]
  },
  {
   "cell_type": "code",
   "execution_count": 322,
   "id": "4e635dab-8937-42a3-9c60-3169a18e1cf5",
   "metadata": {
    "tags": []
   },
   "outputs": [],
   "source": [
    "a[0] = -999"
   ]
  },
  {
   "cell_type": "raw",
   "id": "db66d4a7-f4bd-49f0-92a9-ebb9791a57b8",
   "metadata": {
    "tags": []
   },
   "source": [
    "a의 첫번째 요소의 값을 -999 로 변경하고\n",
    "각각의 변수가 참조하고 있는 값의 변화를 확인해보도록 하겠습니다."
   ]
  },
  {
   "cell_type": "code",
   "execution_count": 327,
   "id": "d484d739-cd9a-4ce2-87f8-1d1196aff4a2",
   "metadata": {
    "tags": []
   },
   "outputs": [
    {
     "name": "stdout",
     "output_type": "stream",
     "text": [
      "origin:  [-999    1    2    3]\n",
      "assign:  [-999    1    2    3]\n",
      "view:    [-999    1    2    3]\n",
      "copy:    [0 1 2 3]\n"
     ]
    }
   ],
   "source": [
    "print(\"origin: \", a)\n",
    "print(\"assign: \", b)\n",
    "print(\"view:   \",v)\n",
    "print(\"copy:   \",c)"
   ]
  },
  {
   "cell_type": "raw",
   "id": "08e46926-bdb5-48f5-a103-cb26e34ebbdc",
   "metadata": {},
   "source": [
    "이 예제에서 보는 바와 같이 view의 경우에는 원본 값이 바뀐 경우에는 \n",
    "view의 내용도 바뀌었지만\n",
    "copy()를 통해서 복사한 경우에는 원본의 값이 바뀌더라도\n",
    "영향을 받지 않는것을 확인할 수 있습니다.\n"
   ]
  },
  {
   "cell_type": "raw",
   "id": "ed144bbc-7465-4d0b-bec3-9e98d7c0dd8f",
   "metadata": {},
   "source": [
    "이번에는 ndarray 객체의 배열의 연산에 대해서 알아보도록 하겠습니다.\n",
    "ndarray의 객체간의 연산은 대부분은 객체내의 요소들 간의 연산으로 진행이 됩니다."
   ]
  },
  {
   "cell_type": "markdown",
   "id": "f5e63237-f3bb-491b-8b1c-830bf2252a0e",
   "metadata": {},
   "source": [
    "## 배열 연산"
   ]
  },
  {
   "cell_type": "code",
   "execution_count": 328,
   "id": "8323354e-e3ba-464f-b4b5-70121c4011f0",
   "metadata": {
    "tags": []
   },
   "outputs": [
    {
     "name": "stdout",
     "output_type": "stream",
     "text": [
      "[1 2 3]\n",
      "[4 5 6]\n",
      "[5 7 9]\n"
     ]
    }
   ],
   "source": [
    "\"\"\"\n",
    "덧셈연산\n",
    "\"\"\"\n",
    "\n",
    "import numpy as np\n",
    "\n",
    "# 1차원 배열 생성\n",
    "a1 = np.array([1, 2, 3])\n",
    "a2 = np.array([4, 5, 6])\n",
    "\n",
    "# 배열 간 덧셈 연산\n",
    "print(a1, a2, a1+a2, sep=\"\\n\")\n"
   ]
  },
  {
   "cell_type": "raw",
   "id": "2800f0f0-c8d2-4869-a8fb-0442a52dbb3c",
   "metadata": {},
   "source": [
    "3개의 요소를 가진 a1, a2 두개의 ndarray객체에 덧셈 연산자를 활용하여 계산하였을 경우\n",
    "위치가 같은 각 요소들을 더한 결과로 3개의 요소를 가진 ndarray 객체가 나오는것을 볼 수 있습니다."
   ]
  },
  {
   "cell_type": "code",
   "execution_count": 329,
   "id": "2d120f47-91d8-408c-9743-e74d9747858d",
   "metadata": {
    "tags": []
   },
   "outputs": [
    {
     "ename": "ValueError",
     "evalue": "operands could not be broadcast together with shapes (4,) (3,) ",
     "output_type": "error",
     "traceback": [
      "\u001b[0;31m---------------------------------------------------------------------------\u001b[0m",
      "\u001b[0;31mValueError\u001b[0m                                Traceback (most recent call last)",
      "Cell \u001b[0;32mIn[329], line 8\u001b[0m\n\u001b[1;32m      5\u001b[0m a2 \u001b[38;5;241m=\u001b[39m np\u001b[38;5;241m.\u001b[39marray([\u001b[38;5;241m5\u001b[39m, \u001b[38;5;241m6\u001b[39m, \u001b[38;5;241m7\u001b[39m])\n\u001b[1;32m      7\u001b[0m \u001b[38;5;66;03m# 배열 간 덧셈 연산\u001b[39;00m\n\u001b[0;32m----> 8\u001b[0m \u001b[38;5;28mprint\u001b[39m(a1, a2, \u001b[43ma1\u001b[49m\u001b[38;5;241;43m+\u001b[39;49m\u001b[43ma2\u001b[49m, sep\u001b[38;5;241m=\u001b[39m\u001b[38;5;124m\"\u001b[39m\u001b[38;5;130;01m\\n\u001b[39;00m\u001b[38;5;124m\"\u001b[39m)\n",
      "\u001b[0;31mValueError\u001b[0m: operands could not be broadcast together with shapes (4,) (3,) "
     ]
    }
   ],
   "source": [
    "import numpy as np\n",
    "\n",
    "# 1차원 배열 생성\n",
    "a1 = np.array([1, 2, 3, 4])\n",
    "a2 = np.array([5, 6, 7])\n",
    "\n",
    "# 배열 간 덧셈 연산\n",
    "print(a1, a2, a1+a2, sep=\"\\n\")\n"
   ]
  },
  {
   "cell_type": "raw",
   "id": "8a435bb7-3b94-455f-8d27-9ae7182cdff5",
   "metadata": {},
   "source": [
    "만약 배열의 형태가 다르다면 error메시지가 나옵니다."
   ]
  },
  {
   "cell_type": "raw",
   "id": "c0f33ea4-11b0-45b0-a7af-b07f9332d9d7",
   "metadata": {},
   "source": [
    "NumPy의 numpy.where() 함수는 조건에 따라 배열의 값을 다르게 할당하는 데 사용됩니다. \n",
    "기존 언어의 ?를 사용하는 삼항연산자를 생각하시면 좋습니다.\n",
    "\n",
    "이 함수는 원하는 조건에 따라 배열의 원소를 대체하는데 유용합니다.\n",
    "이 함수는 세개의 파라미터를 받는데,\n",
    "첫번째 파라미터에는 조건식을 입력하고\n",
    "두번째 파라미터에는 해당 조건식이 True일때 대체되는 값을 넣어주고\n",
    "세번째 파라미터에는 해당 조건식이 False일때 대체되는 값을 넣어주게 됩니다.\n",
    "\n",
    "이때 두번째, 세번째 파라미터는 배열 또는 스칼라 값이 될 수 있는데,\n",
    "배열일 경우에는 크기가 같아야 합니다."
   ]
  },
  {
   "cell_type": "markdown",
   "id": "d4a43fb2-e541-4362-9ae8-4aa43f440719",
   "metadata": {},
   "source": [
    "## numpy.where()\n",
    "NumPy의 numpy.where() 함수는 조건에 따라 배열의 값을 다르게 할당하는 데 사용됩니다.   \n",
    "이 함수는 원하는 조건에 따라 배열의 원소를 대체하는데 유용합니다.\n",
    "\n",
    "```python\n",
    "a = numpy.where(condition, x, y)\n",
    "```\n",
    "\n",
    "```java\n",
    "// 삼항연사자\n",
    "a = (condition)? x: y\n",
    "```\n",
    "\n",
    "- `condition`: 조건을 나타내는 불리언 배열이거나 조건식입니다. 만족하는 경우에만 값을 변경합니다.\n",
    "- `x`: condition이 True인 경우의 값이 대체됩니다.\n",
    "- `y`: condition이 False인 경우의 값이 대체됩니다.\n",
    "\n",
    "`x`와 `y`는 `배열` 또는 `스칼라`값이 될 수 있습니다.  \n",
    "만약 x와 y가 배열인 경우, 두 배열은 같은 크기 또는 브로드캐스팅 규칙을 만족해야 합니다."
   ]
  },
  {
   "cell_type": "raw",
   "id": "1f230a73-2490-4ad5-bd3f-b4f92e218a82",
   "metadata": {},
   "source": [
    "예제를 통해 알아보도록 하겠습니다."
   ]
  },
  {
   "cell_type": "code",
   "execution_count": 331,
   "id": "8fff1ac8-cbde-437f-b2e8-800c97137966",
   "metadata": {
    "tags": []
   },
   "outputs": [
    {
     "data": {
      "text/plain": [
       "array([0, 0, 0, 4, 5])"
      ]
     },
     "execution_count": 331,
     "metadata": {},
     "output_type": "execute_result"
    }
   ],
   "source": [
    "\"\"\"\n",
    "조건에 따라 배열 값을 변경하는 예제 1\n",
    "\"\"\"\n",
    "\n",
    "import numpy as np\n",
    "\n",
    "a = np.array([1, 2, 3, 4, 5])\n",
    "np.where(a>3, a, 0)"
   ]
  },
  {
   "cell_type": "raw",
   "id": "fa0ae44f-ddc5-4bb9-951d-13f923f49540",
   "metadata": {},
   "source": [
    "이 경우 a의 각 요소에 대해서 해당 요소가 3보다 큰 경우에는 \n",
    "두번째 파라미터인 a 의 배열에서 해당 위치에 해당 하는 값을 그대로 넣고\n",
    "3보다 작은 경우에는 세번째 파리미터로 입력된 0의 값을 넣게 됩니다."
   ]
  },
  {
   "cell_type": "code",
   "execution_count": 333,
   "id": "f8d4e459-62b1-4fda-96de-1c3b77b9f96b",
   "metadata": {
    "tags": []
   },
   "outputs": [
    {
     "data": {
      "text/plain": [
       "array([-10, -20, -30,  40,  50])"
      ]
     },
     "execution_count": 333,
     "metadata": {},
     "output_type": "execute_result"
    }
   ],
   "source": [
    "\"\"\"\n",
    "조건에 따라 배열 값을 변경하는 예제 2\n",
    "\"\"\"\n",
    "\n",
    "import numpy as np\n",
    "\n",
    "a = np.array([1, 2, 3, 4, 5])\n",
    "b1 = np.array([10, 20, 30, 40, 50])\n",
    "b2 = np.array([-10, -20, -30, -40, -50])\n",
    "np.where(a>3, b1, b2)"
   ]
  },
  {
   "cell_type": "raw",
   "id": "43a32433-1a44-4ce1-966e-0d5083838ca8",
   "metadata": {},
   "source": [
    "이 예제에는 두번째, 세번째 파라미터에 a와 같은 크기의 배열인\n",
    "b1, b2를 입력하고 \n",
    "조건식에 따라 b1 혹은 b2의 요소가 삽입된 ndarray 객체가 생성됨을 확인할 수 있습니다."
   ]
  },
  {
   "cell_type": "raw",
   "id": "520e55dc-406d-4398-8e08-8e54834ff4bc",
   "metadata": {},
   "source": [
    "이번에는 squeeze()를 활용하여  배열의 차원 중 사이즈가 1인 차원을 제거하는 방법에 대해서 소개해보겠습니다.\n",
    "squeeze() 함수는 만약 배열이 이미 1차원 이상이고, \n",
    "그 중 사이즈가 1인 차원이 있다면 해당 차원을 제거하여 배열을 더 축소시킵니다.\n",
    "예제를 통해 알아보도록 하겠습니다."
   ]
  },
  {
   "cell_type": "markdown",
   "id": "91b21d15-4da6-45ae-9700-2b444ff633e8",
   "metadata": {},
   "source": [
    "## squeeze()"
   ]
  },
  {
   "cell_type": "code",
   "execution_count": 335,
   "id": "17e4d5f5-603e-4c16-a3cf-42417e43949e",
   "metadata": {
    "tags": []
   },
   "outputs": [
    {
     "name": "stdout",
     "output_type": "stream",
     "text": [
      "(1, 1, 3)\n",
      "[[[1 2 3]]]\n"
     ]
    }
   ],
   "source": [
    "\"\"\"\n",
    "squeeze() 함수:\n",
    "squeeze() 함수는 배열의 차원 중 사이즈가 1인 차원을 제거하는데 사용됩니다. \n",
    "만약 배열이 이미 1차원 이상이고, 그 중 사이즈가 1인 차원이 있다면 해당 차원을 제거하여 배열을 더 축소시킵니다.\n",
    "\"\"\"\n",
    "\n",
    "import numpy as np\n",
    "\n",
    "# 1차원 배열 생성\n",
    "a = np.array([[[1, 2, 3]]])\n",
    "print(a.shape, a, sep=\"\\n\")"
   ]
  },
  {
   "cell_type": "raw",
   "id": "3f2217cc-c7b1-4162-b815-86aef28a7d60",
   "metadata": {},
   "source": [
    "위의 예제는 3차원의 형태를 가진 ndarray 객체가를 참조하는 a가 있는데,\n",
    "a의 첫번째 두번째 차원은 크기가 1입니다."
   ]
  },
  {
   "cell_type": "code",
   "execution_count": 337,
   "id": "c5e66e73-7cf1-486a-a4b6-ef50eea1c9a7",
   "metadata": {
    "tags": []
   },
   "outputs": [
    {
     "name": "stdout",
     "output_type": "stream",
     "text": [
      "(3,)\n",
      "[1 2 3]\n"
     ]
    }
   ],
   "source": [
    "# 사이즈가 1인 차원을 제거\n",
    "b = np.squeeze(a)\n",
    "print(b.shape, b, sep=\"\\n\")"
   ]
  },
  {
   "cell_type": "raw",
   "id": "ed991838-3e44-4eee-bafc-a2c7ce1de45a",
   "metadata": {},
   "source": [
    "squeeze() 함수를 호출하면 사이즈가 1인 첫번째 두번째 차원이 없어지고\n",
    "size가 3인 마지막 차원만 남아\n",
    "최종 1차원의 ndarray 객체를 리턴하는 것을 확인할 수 있습니다."
   ]
  },
  {
   "cell_type": "code",
   "execution_count": 339,
   "id": "bcede3f2-673a-4096-96b0-f942bd009cf9",
   "metadata": {
    "tags": []
   },
   "outputs": [
    {
     "name": "stdout",
     "output_type": "stream",
     "text": [
      "(1, 1, 3, 1)\n",
      "[[[[1]\n",
      "   [2]\n",
      "   [3]]]]\n",
      "(3,)\n",
      "[1 2 3]\n"
     ]
    }
   ],
   "source": [
    "a = np.array([[[[1],[2], [3]]]])\n",
    "b = np.squeeze(a)\n",
    "\n",
    "print(a.shape, a, sep=\"\\n\")\n",
    "print(b.shape, b, sep=\"\\n\")"
   ]
  },
  {
   "cell_type": "raw",
   "id": "e77f6548-b3ea-47f2-aaf9-743e8c7169b8",
   "metadata": {},
   "source": [
    "위의 예제에서는 마지막 차원이 1인 경우에도\n",
    "해당 차원이 제거되는 것을 확인할 수 있습니다."
   ]
  },
  {
   "cell_type": "code",
   "execution_count": null,
   "id": "86175a8a-c017-4a3a-a91a-f915b53be4b5",
   "metadata": {},
   "outputs": [],
   "source": [
    "이것으로 이번 시간을 마치도록 하겠습니다. \n",
    "수고하셨습니다."
   ]
  }
 ],
 "metadata": {
  "kernelspec": {
   "display_name": "Python 3 (ipykernel)",
   "language": "python",
   "name": "python3"
  },
  "language_info": {
   "codemirror_mode": {
    "name": "ipython",
    "version": 3
   },
   "file_extension": ".py",
   "mimetype": "text/x-python",
   "name": "python",
   "nbconvert_exporter": "python",
   "pygments_lexer": "ipython3",
   "version": "3.9.1"
  }
 },
 "nbformat": 4,
 "nbformat_minor": 5
}
