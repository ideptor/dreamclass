{
 "cells": [
  {
   "cell_type": "raw",
   "id": "f0be2ded-18ed-4e27-a2aa-2f63527bf510",
   "metadata": {},
   "source": [
    "안녕하세요.\n",
    "이번시간에는 ... 에 대해서 알아보도록 하겠습니다."
   ]
  },
  {
   "cell_type": "markdown",
   "id": "92ca40ac-4b05-4786-8b7a-634679f25779",
   "metadata": {},
   "source": [
    "# Pandas Series\n",
    "- Pandas 소개\n",
    "- Series 생성\n",
    "- Series와 index\n",
    "- 필터링 / 슬라이싱 / 정렬\n",
    "- 데이터 변경 / 추가 / 삭제\n",
    "- Series 객체간 연산\n",
    "- 문자열 처리\n",
    "- 통계함수 적용\n",
    "- 병합"
   ]
  },
  {
   "cell_type": "raw",
   "id": "20c54152-7d33-4977-9221-9ac1c42f7b9b",
   "metadata": {},
   "source": [
    "Pandas는 파이썬 프로그래밍 언어를 위한 데이터 조작과 분석을 위한 라이브러리로, \n",
    "구조화된 데이터를 쉽게 조작하고 처리할 수 있도록 다양한 기능과 데이터 구조를 제공합니다.\n",
    "\n",
    "주로 표 형태의 데이터를 다루는데 특화되어 있으며, \n",
    "데이터프레임(DataFrame)이라는 자료형을 제공하여 이러한 표 형태의 데이터를 효과적으로 다룰 수 있습니다.\n",
    "\n",
    "Pandas는 NumPy를 기반으로 만들어져 있기 때문에 NumPy와 함께 사용하는 경우가 많습니다.\n",
    "\n",
    "Pandas의 주요 특징과 기능은 다음과 같습니다:\n",
    "\n",
    "Pandas는 DataFrame이라는 자료형을 제공하여 표 형태의 데이터를 쉽게 다룰 수 있습니다. \n",
    "DataFrame은 2차원 테이블 형태로, 행과 열로 구성되어 있으며, \n",
    "각 열은 서로 다른 데이터 타입을 가질 수 있습니다.\n",
    "\n",
    "Pandas는 데이터를 쉽게 필터링, 정렬, 그룹화, 합치기 등 다양한 조작을 할 수 있는 기능을 제공합니다. \n",
    "이를 통해 데이터를 효율적으로 처리하고 분석할 수 있습니다.\n",
    "\n",
    "Pandas는 누락된 데이터(NaN)를 쉽게 처리할 수 있는 기능을 제공합니다. \n",
    "누락된 데이터를 효율적으로 다룰 수 있어 데이터의 빠른 전처리가 가능합니다.\n",
    "\n",
    "Pandas는 데이터를 시각화하는 기능을 제공하며, \n",
    "Matplotlib와 함께 사용하여 다양한 차트와 플롯을 그릴 수 있습니다.\n",
    "\n",
    "Pandas는 CSV, Excel, SQL, JSON 등 다양한 파일 형식으로 데이터를 읽고 쓸 수 있는 기능을 제공합니다."
   ]
  },
  {
   "cell_type": "markdown",
   "id": "73ca9ec2-0082-42e3-a8b2-af674f3806de",
   "metadata": {},
   "source": [
    "# Pandas\n",
    "\n",
    "\n",
    "`Pandas`는 파이썬 프로그래밍 언어를 위한 `데이터 조작`과 `분석`을 위한 라이브러리로, 구조화된 데이터를 쉽게 조작하고 처리할 수 있도록 다양한 기능과 데이터 구조를 제공합니다.   \n",
    "주로 `표 형태의 데이터`를 다루는데 특화되어 있으며, `데이터프레임(DataFrame)`이라는 자료형을 제공하여 이러한 표 형태의 데이터를 효과적으로 다룰 수 있습니다.  \n",
    "`Pandas`는 `NumPy`를 기반으로 만들어져 있기 때문에 NumPy와 함께 사용하는 경우가 많습니다.\n",
    "\n",
    "Pandas의 주요 특징과 기능은 다음과 같습니다:\n",
    "\n",
    "- `DataFrame`: Pandas는 DataFrame이라는 자료형을 제공하여 `표 형태의 데이터`를 쉽게 다룰 수 있습니다. DataFrame은 `2차원 테이블` 형태로, `행`과 `열`로 구성되어 있으며, 각 `열은 서로 다른 데이터 타입`을 가질 수 있습니다.\n",
    "\n",
    "- `데이터 조작`: Pandas는 데이터를 쉽게 `필터링`, `정렬`, `그룹화`, `합치기` 등 다양한 조작을 할 수 있는 기능을 제공합니다. 이를 통해 데이터를 효율적으로 처리하고 분석할 수 있습니다.\n",
    "\n",
    "- `누락된 데이터 처리`: Pandas는 누락된 데이터(NaN)를 쉽게 처리할 수 있는 기능을 제공합니다. 누락된 데이터를 효율적으로 다룰 수 있어 `데이터의 빠른 전처리`가 가능합니다.\n",
    "\n",
    "- `데이터 시각화`: Pandas는 데이터를 시각화하는 기능을 제공하며, `Matplotlib와 함께 사용`하여 다양한 차트와 플롯을 그릴 수 있습니다.\n",
    "\n",
    "- `데이터 파일 입출력`: Pandas는 `CSV`, `Excel`, `SQL`, `JSON` 등 다양한 파일 형식으로 데이터를 읽고 쓸 수 있는 기능을 제공합니다.\n",
    "\n",
    "Pandas는 데이터 과학 및 데이터 분석 분야에서 매우 인기 있는 라이브러리이며, 데이터 전처리, 데이터 분석, 데이터 시각화 등 다양한 작업에 활용됩니다. Pandas를 사용하면 복잡한 데이터를 쉽게 다룰 수 있고, 데이터 분석과 관련된 작업을 더욱 효율적으로 수행할 수 있습니다."
   ]
  },
  {
   "cell_type": "markdown",
   "id": "d74a6ccc-46b4-41eb-bcae-e1152f266e26",
   "metadata": {},
   "source": [
    "## pandas 설치\n",
    "\n",
    "```bash\n",
    "pip install pandas\n",
    "```"
   ]
  },
  {
   "cell_type": "raw",
   "id": "acb13a60-0799-4fa3-a39c-875f6fcd1137",
   "metadata": {},
   "source": [
    "Pandas의 Series는 1차원 레이블된 배열로\n",
    "NumPy의 1차원 배열과 유사한 구조를 가지고 있습니다.\n",
    "\n",
    "Series는 `인덱스(index)`와 `값(value)`으로 구성되어 있으며, \n",
    "각 값은 해당하는 인덱스와 매핑됩니다. \n",
    "\n",
    "Series는 일반적으로 `하나의 데이터 타입`으로 구성되어 있습니다."
   ]
  },
  {
   "cell_type": "markdown",
   "id": "b574856b-ded3-4941-a004-a8bfa61a9081",
   "metadata": {
    "tags": []
   },
   "source": [
    "# Series:\n",
    "\n",
    "- `Series`는 `1차원 레이블된 배열`로, `NumPy의 1차원 배열과 유사`한 구조를 가지고 있습니다. \n",
    "- Series는 `인덱스(index)`와 `값(value)`으로 구성되어 있으며, 각 값은 해당하는 인덱스와 매핑됩니다. \n",
    "- Series는 일반적으로 `하나의 데이터 타입`으로 구성되어 있습니다."
   ]
  },
  {
   "cell_type": "raw",
   "id": "7fff2ce3-22c1-411e-8f6e-1a7f80a37319",
   "metadata": {},
   "source": [
    "Series의 인덱스(Index)는 Pandas의 1차원 레이블된 배열로, \n",
    "각 값에 대한 고유한 식별자(identifier)를 제공합니다. \n",
    "Series의 인덱스는 각 원소에 접근하고 식별하는 데 사용되며, 행의 레이블로 사용됩니다. \n",
    "인덱스는 레이블, 숫자, 날짜, 문자열 등의 다양한 데이터 타입을 가질 수 있습니다."
   ]
  },
  {
   "cell_type": "markdown",
   "id": "f06f150f-2f70-4326-9787-d3bb197717dc",
   "metadata": {},
   "source": [
    "## Series와 index\n",
    "\n",
    "Series의 인덱스(Index)는 Pandas의 1차원 레이블된 배열로, 각 값에 대한 고유한 식별자(identifier)를 제공합니다. Series의 인덱스는 각 원소에 접근하고 식별하는 데 사용되며, 행의 레이블로 사용됩니다. 인덱스는 레이블, 숫자, 날짜, 문자열 등의 다양한 데이터 타입을 가질 수 있습니다."
   ]
  },
  {
   "cell_type": "raw",
   "id": "be31d7ee-b853-4b49-b826-12f1500a6767",
   "metadata": {},
   "source": [
    "이번에는 series 객체를 생성하는 방법에 대해서 알아보도록 하겠습니다.\n",
    "pandas를 사용하기 위해서는 pandas 라이브러리를 import 해주어야 합니다.\n",
    "pandas 라이브러리는 pd라는 이름으로 alias를 주는 것이 일반적입니다."
   ]
  },
  {
   "cell_type": "markdown",
   "id": "0c197d93-2a13-4d9c-ae52-cabf3fb6fb3b",
   "metadata": {},
   "source": [
    "## Series 생성"
   ]
  },
  {
   "cell_type": "code",
   "execution_count": 3,
   "id": "e81423e6-e82c-4b5d-8eb1-b9af7c117a94",
   "metadata": {
    "tags": []
   },
   "outputs": [
    {
     "name": "stdout",
     "output_type": "stream",
     "text": [
      "0    10\n",
      "1    20\n",
      "2    30\n",
      "3    40\n",
      "4    50\n",
      "dtype: int64\n"
     ]
    }
   ],
   "source": [
    "\"\"\"\n",
    "리스트를 활용한 Series 생성:\n",
    "\"\"\"\n",
    "import pandas as pd\n",
    "\n",
    "# 리스트를 사용하여 Series 생성\n",
    "data = [10, 20, 30, 40, 50]\n",
    "s = pd.Series(data)\n",
    "print(s)"
   ]
  },
  {
   "cell_type": "raw",
   "id": "a35375b9-b5a6-401f-ac46-f2485f3aaed2",
   "metadata": {},
   "source": [
    "첫번째 방법은 Series 객체를 생성할때 파이썬의 기본 배열을 넣어주는 방식입니다.\n",
    "생성자에 들어가는 배열은 Series에서 값으로 인식하게 됩니다.\n",
    "series가 출력된 내용을 보면\n",
    "왼쪽에는 index가 출력이 되는데, 이경우 생성할때 인덱스를 지정해주지 않았으므로,\n",
    "자동으로 인덱스가 생성된것을 확인할 수 있습니다."
   ]
  },
  {
   "cell_type": "code",
   "execution_count": 4,
   "id": "2361384b-27f7-4d81-9822-8f164408926a",
   "metadata": {
    "tags": []
   },
   "outputs": [
    {
     "name": "stdout",
     "output_type": "stream",
     "text": [
      "<class 'pandas.core.indexes.range.RangeIndex'>\n",
      "RangeIndex(start=0, stop=5, step=1)\n"
     ]
    }
   ],
   "source": [
    "print(type(s.index), s.index, sep=\"\\n\")"
   ]
  },
  {
   "cell_type": "raw",
   "id": "af8cb7b9-2c11-445d-9c3f-dcdefcfd97b7",
   "metadata": {},
   "source": [
    "시리즈의 index속성을 통해 해당 시리즈의 index에 접근할 수 있습니다."
   ]
  },
  {
   "cell_type": "code",
   "execution_count": 5,
   "id": "f0a238df-6042-44cd-a4a4-c9bd0d104e35",
   "metadata": {
    "tags": []
   },
   "outputs": [
    {
     "name": "stdout",
     "output_type": "stream",
     "text": [
      "<class 'numpy.ndarray'>\n",
      "[10 20 30 40 50]\n"
     ]
    }
   ],
   "source": [
    "print(type(s.values), s.values, sep=\"\\n\")"
   ]
  },
  {
   "cell_type": "raw",
   "id": "4282a2c1-d273-4fd0-a860-52d4868d6662",
   "metadata": {},
   "source": [
    "시리지의 values 속성을 통해 해당 시리즈의 value에 접근할 수 있습니다.\n",
    "series의 value는 ndarray의 객체임을 확인할 수 있습니다.\n",
    "그리고 ndarray의 속성과 함수를 사용할 수 있습니다."
   ]
  },
  {
   "cell_type": "code",
   "execution_count": 7,
   "id": "f282352d-4799-42e6-ae99-088fb4ccecc0",
   "metadata": {
    "tags": []
   },
   "outputs": [
    {
     "data": {
      "text/plain": [
       "dtype('int64')"
      ]
     },
     "execution_count": 7,
     "metadata": {},
     "output_type": "execute_result"
    }
   ],
   "source": [
    "s.values.dtype"
   ]
  },
  {
   "cell_type": "raw",
   "id": "5ae48d18-f139-4488-9600-229a6433083b",
   "metadata": {},
   "source": [
    "이번에는 dictionary를 활용하여 series객체를 생성할때\n",
    "index와 value를 함께 입력하는 방법에 대해서 알아보겠습니다."
   ]
  },
  {
   "cell_type": "code",
   "execution_count": 12,
   "id": "d1e60b59-94fd-482a-818d-950c9d8cc087",
   "metadata": {
    "tags": []
   },
   "outputs": [
    {
     "name": "stdout",
     "output_type": "stream",
     "text": [
      "a    10\n",
      "b    20\n",
      "c    30\n",
      "d    40\n",
      "dtype: int64\n"
     ]
    }
   ],
   "source": [
    "\"\"\"\n",
    "딕셔너리를 활용한 Series 생성:\n",
    "\"\"\"\n",
    "import pandas as pd\n",
    "\n",
    "# 딕셔너리를 사용하여 Series 생성\n",
    "data = {'a': 10, 'b': 20, 'c': 30, 'd': 40}\n",
    "s = pd.Series(data)\n",
    "print(s)"
   ]
  },
  {
   "cell_type": "raw",
   "id": "a9117a3f-8e46-4c43-9f1b-1369fa453c2d",
   "metadata": {},
   "source": [
    "생성된 series의 내용을 확인해보면,\n",
    "생성자에 넣어준 딕셔너리의 키들이 시리즈의 인덱스로 들어간 것을 확인할 수 있습니다."
   ]
  },
  {
   "cell_type": "code",
   "execution_count": 13,
   "id": "49a3f4e8-a3a9-4553-838f-7ce0d30114c1",
   "metadata": {
    "tags": []
   },
   "outputs": [
    {
     "name": "stdout",
     "output_type": "stream",
     "text": [
      "<class 'pandas.core.indexes.base.Index'>\n",
      "Index(['a', 'b', 'c', 'd'], dtype='object')\n"
     ]
    }
   ],
   "source": [
    "print(type(s.index), s.index, sep=\"\\n\")"
   ]
  },
  {
   "cell_type": "raw",
   "id": "32b9c244-73cf-4102-9327-c47b2a7bf3fd",
   "metadata": {},
   "source": [
    "Seires 객체 생성시에 numpy배열을 넣어주는 것도 가능합니다."
   ]
  },
  {
   "cell_type": "code",
   "execution_count": 14,
   "id": "6b271b98-3e14-4671-a01f-4384823a1b87",
   "metadata": {
    "tags": []
   },
   "outputs": [
    {
     "name": "stdout",
     "output_type": "stream",
     "text": [
      "0    10\n",
      "1    20\n",
      "2    30\n",
      "3    40\n",
      "4    50\n",
      "dtype: int64\n"
     ]
    }
   ],
   "source": [
    "\"\"\"\n",
    "NumPy 배열을 활용한 Series 생성:\n",
    "\"\"\"\n",
    "import pandas as pd\n",
    "import numpy as np\n",
    "\n",
    "# NumPy 배열을 사용하여 Series 생성\n",
    "data = np.array([10, 20, 30, 40, 50])\n",
    "s = pd.Series(data)\n",
    "print(s)\n"
   ]
  },
  {
   "cell_type": "raw",
   "id": "0a52ec6b-3065-4c95-b769-2062c3f62d7b",
   "metadata": {},
   "source": [
    "이번에는 value와 index를 분리하여 Series의 생성자에 넣어주는 방법을 살펴보겠습니다."
   ]
  },
  {
   "cell_type": "code",
   "execution_count": 16,
   "id": "814909f7-2c6a-422a-8113-4dd37265c9df",
   "metadata": {
    "tags": []
   },
   "outputs": [
    {
     "name": "stdout",
     "output_type": "stream",
     "text": [
      "a    10\n",
      "b    20\n",
      "c    30\n",
      "d    40\n",
      "e    50\n",
      "dtype: int64\n"
     ]
    }
   ],
   "source": [
    "data = np.array([10, 20, 30, 40, 50])\n",
    "s = pd.Series(data, ['a', 'b', 'c', 'd', 'e'])\n",
    "print(s)"
   ]
  },
  {
   "cell_type": "raw",
   "id": "9dd5e211-1a28-47ff-895e-6931fd27c3bc",
   "metadata": {},
   "source": [
    "시리즈를 생성할때 첫번째 파라미터에는 value가 될 배열을 넣어주고\n",
    "두번째 파라미터에는 index로 사용할 배열을 넣어주면 됩니다.\n",
    "코드의 가독성을 높이기 위해 두번째 파라미터의 이름을 index라고 명시적으로 적어주기도 합니다."
   ]
  },
  {
   "cell_type": "code",
   "execution_count": 17,
   "id": "51eade25-0279-43ca-a27d-592f61029e74",
   "metadata": {
    "tags": []
   },
   "outputs": [
    {
     "name": "stdout",
     "output_type": "stream",
     "text": [
      "a    10\n",
      "b    20\n",
      "c    30\n",
      "d    40\n",
      "e    50\n",
      "dtype: int64\n"
     ]
    }
   ],
   "source": [
    "data = np.array([10, 20, 30, 40, 50])\n",
    "s = pd.Series(data, index=['a', 'b', 'c', 'd', 'e'])\n",
    "print(s)"
   ]
  },
  {
   "cell_type": "raw",
   "id": "b7333ba6-0e42-4aee-a0d1-6a86269c5902",
   "metadata": {},
   "source": [
    "이번에는 scalar 값과 index를 활용하여 시리즈를 생성하는 방식입니다."
   ]
  },
  {
   "cell_type": "code",
   "execution_count": 19,
   "id": "76a2bebf-07c9-4154-b2ce-f4f9ab56e8cc",
   "metadata": {
    "tags": []
   },
   "outputs": [
    {
     "name": "stdout",
     "output_type": "stream",
     "text": [
      "a    5\n",
      "b    5\n",
      "c    5\n",
      "d    5\n",
      "e    5\n",
      "dtype: int64\n"
     ]
    }
   ],
   "source": [
    "\"\"\"\n",
    "스칼라 값과 인덱스를 활용한 Series 생성:\n",
    "\"\"\"\n",
    "import pandas as pd\n",
    "\n",
    "# 스칼라 값과 인덱스를 사용하여 Series 생성\n",
    "s = pd.Series(5, index=['a', 'b', 'c', 'd', 'e'])\n",
    "print(s)"
   ]
  },
  {
   "cell_type": "raw",
   "id": "73644c2b-e7d7-4cf4-ac48-ce337d937781",
   "metadata": {},
   "source": [
    "시리즈를 생성할때 인덱스로 넣어준 내용이 인덱스로 들어가고\n",
    "각 값은 데이터의 위치인 첫번째 파라미터로 넣은 5가\n",
    "브로드캐스트 되어 적용된 것을 확인할 수 있습니다."
   ]
  },
  {
   "cell_type": "raw",
   "id": "f398293c-c8e0-499a-ba3c-4be32e9a7d70",
   "metadata": {},
   "source": [
    "이번에는 index를 활용하여 데이터에 접근하는 방법에 대해서 알아보겠습니다."
   ]
  },
  {
   "cell_type": "markdown",
   "id": "19ae6a82-aac0-4128-922c-00d7d9933b42",
   "metadata": {},
   "source": [
    "## index를 활용하여 데이터 접근"
   ]
  },
  {
   "cell_type": "code",
   "execution_count": 20,
   "id": "71798854-310c-4ce2-89ff-b886fac1e299",
   "metadata": {
    "tags": []
   },
   "outputs": [
    {
     "data": {
      "text/plain": [
       "A    10\n",
       "B    20\n",
       "C    30\n",
       "D    40\n",
       "E    50\n",
       "dtype: int64"
      ]
     },
     "execution_count": 20,
     "metadata": {},
     "output_type": "execute_result"
    }
   ],
   "source": [
    "\"\"\"\n",
    "인덱스 레이블을 사용하여 접근:\n",
    "\"\"\"\n",
    "import pandas as pd\n",
    "\n",
    "# Series 생성\n",
    "data = [10, 20, 30, 40, 50]\n",
    "index = ['A', 'B', 'C', 'D', 'E']\n",
    "s = pd.Series(data, index=index)\n",
    "s"
   ]
  },
  {
   "cell_type": "markdown",
   "id": "62fee224-1432-4359-960f-2fd105c6d653",
   "metadata": {},
   "source": [
    "우선 index와 value를 명시적으로 지정한 시리즈를 만들어 보겠습니다."
   ]
  },
  {
   "cell_type": "code",
   "execution_count": 51,
   "id": "8723c339-0f51-451e-9da4-d20377da6d5d",
   "metadata": {},
   "outputs": [
    {
     "name": "stdout",
     "output_type": "stream",
     "text": [
      "20\n"
     ]
    }
   ],
   "source": [
    "# 인덱스 레이블을 사용하여 값에 접근\n",
    "print(s['B'])  # 레이블 'B'에 해당하는 값에 접근"
   ]
  },
  {
   "cell_type": "raw",
   "id": "2765b753-1d02-4e1a-92b4-57be07ff00aa",
   "metadata": {},
   "source": [
    "대괄호를 사용하여 index의 레이블 값을 넣으면 해당 레이블의 vlaue를 확인할 수 있습니다."
   ]
  },
  {
   "cell_type": "code",
   "execution_count": 52,
   "id": "12da0eb2-c7c0-4ccf-b26f-7a2072bf8852",
   "metadata": {},
   "outputs": [
    {
     "data": {
      "text/plain": [
       "20"
      ]
     },
     "execution_count": 52,
     "metadata": {},
     "output_type": "execute_result"
    }
   ],
   "source": [
    "s.loc['B']"
   ]
  },
  {
   "cell_type": "raw",
   "id": "c0d34260-fe1c-40d1-b9da-31ca01eeb8e5",
   "metadata": {},
   "source": [
    "이는 s.loc와 같은 의미입니다."
   ]
  },
  {
   "cell_type": "raw",
   "id": "82d164f5-85c9-41c6-be53-93f646bfe65a",
   "metadata": {},
   "source": [
    "그리고 이번에는 정수 인덱스를 활용해서 데이터에 접근해보겠습니다."
   ]
  },
  {
   "cell_type": "code",
   "execution_count": 53,
   "id": "b317d383-5917-4e59-a45d-7011a7274bec",
   "metadata": {},
   "outputs": [
    {
     "data": {
      "text/plain": [
       "20"
      ]
     },
     "execution_count": 53,
     "metadata": {},
     "output_type": "execute_result"
    }
   ],
   "source": [
    "s[1]"
   ]
  },
  {
   "cell_type": "raw",
   "id": "c37e28d5-ecc0-473e-ac9f-7b461be01133",
   "metadata": {},
   "source": [
    "정수 인덱스를 사용할 경우에는 해당 순번에 해당하는 데이터에 접근하게 됩니다.\n",
    "위의 예저에서는 정수 1을 사용하였기 때문에 배열의 1의 위치에 해당하는 20이 나오게 됩니다."
   ]
  },
  {
   "cell_type": "code",
   "execution_count": 54,
   "id": "9636d602-6387-4ace-89fa-dd5c28eeefe3",
   "metadata": {},
   "outputs": [
    {
     "data": {
      "text/plain": [
       "20"
      ]
     },
     "execution_count": 54,
     "metadata": {},
     "output_type": "execute_result"
    }
   ],
   "source": [
    "s.iloc[1]"
   ]
  },
  {
   "cell_type": "raw",
   "id": "fba20eef-786c-4aef-94d4-1c4c24fe8d15",
   "metadata": {},
   "source": [
    "시리지의 참조자에 대괄호로 정수 index를 사용하는 것은\n",
    ".iloc를 사용하는 것과 같은 의미입니다."
   ]
  },
  {
   "cell_type": "raw",
   "id": "6e9f05c3-3331-45e3-b19f-f7ec0d81414c",
   "metadata": {},
   "source": [
    "이번에는 series의 필터링에 대해서 알아보도록 하겠습니다.\n",
    "series의 필터링 방법은 numpy와 유사합니다."
   ]
  },
  {
   "cell_type": "markdown",
   "id": "6968a7e9-4fac-41f0-8891-e3798058a80b",
   "metadata": {
    "tags": []
   },
   "source": [
    "## 필터링"
   ]
  },
  {
   "cell_type": "code",
   "execution_count": 56,
   "id": "8bca5874-163d-4e60-ab81-32d10b5bfb50",
   "metadata": {
    "tags": []
   },
   "outputs": [
    {
     "data": {
      "text/plain": [
       "A    10\n",
       "B    20\n",
       "C    30\n",
       "D    40\n",
       "E    50\n",
       "dtype: int64"
      ]
     },
     "execution_count": 56,
     "metadata": {},
     "output_type": "execute_result"
    }
   ],
   "source": [
    "import pandas as pd\n",
    "\n",
    "# Series 생성\n",
    "data = [10, 20, 30, 40, 50]\n",
    "index = ['A', 'B', 'C', 'D', 'E']\n",
    "s = pd.Series(data, index=index)\n",
    "s"
   ]
  },
  {
   "cell_type": "raw",
   "id": "39d01ffc-c035-4574-9053-6b9a2819f749",
   "metadata": {},
   "source": [
    "다음은 시리즈의 값중에서 30보다 큰 값들만 나오도록 필터링 하는 방법입니다."
   ]
  },
  {
   "cell_type": "code",
   "execution_count": 57,
   "id": "f3403a42-0b34-45a1-8928-dfe9148e4b0d",
   "metadata": {
    "tags": []
   },
   "outputs": [
    {
     "data": {
      "text/plain": [
       "D    40\n",
       "E    50\n",
       "dtype: int64"
      ]
     },
     "execution_count": 57,
     "metadata": {},
     "output_type": "execute_result"
    }
   ],
   "source": [
    "# 30 초과인 경우만 출력\n",
    "s[s>30]"
   ]
  },
  {
   "cell_type": "raw",
   "id": "9892c599-a5d1-4318-97be-cc26da90aba3",
   "metadata": {},
   "source": [
    "조건식에서 앤드조건을 활용하기 위해서는 \n",
    "파이썬에서 활용되는 \"and\" 라는 키워드가 아니라 앤드를 나타내는 특수기호 & 문자 한개를 사용해야 합니다.\n",
    "여기서 주의해야 할것은 &로 연결되는 조건식에 괄호를 입력해야 하는 것입니다."
   ]
  },
  {
   "cell_type": "code",
   "execution_count": 61,
   "id": "68c4d14d-2062-4396-b1de-228dfc9c8992",
   "metadata": {
    "tags": []
   },
   "outputs": [
    {
     "data": {
      "text/plain": [
       "D    40\n",
       "dtype: int64"
      ]
     },
     "execution_count": 61,
     "metadata": {},
     "output_type": "execute_result"
    }
   ],
   "source": [
    "# 30초과 50미만\n",
    "s[(s>30) & (s<50)]"
   ]
  },
  {
   "cell_type": "raw",
   "id": "6d89b9ea-54bf-4536-be2c-b7ebbaf5dd34",
   "metadata": {},
   "source": [
    "마찬가지로 or 조건을 활용하기 위해서는\n",
    "특수문자 | 를 사용하고\n",
    "조건식은 괄호로 감싸줍니다."
   ]
  },
  {
   "cell_type": "code",
   "execution_count": 63,
   "id": "fbc09894-2f25-4c99-be2e-05fa877e9df8",
   "metadata": {
    "tags": []
   },
   "outputs": [
    {
     "data": {
      "text/plain": [
       "B    20\n",
       "D    40\n",
       "dtype: int64"
      ]
     },
     "execution_count": 63,
     "metadata": {},
     "output_type": "execute_result"
    }
   ],
   "source": [
    "# 20이거나 40이거나\n",
    "s[(s==20) | (s==40)]"
   ]
  },
  {
   "cell_type": "raw",
   "id": "6f7cd1d9-de91-4c0f-8716-2ed03f8faec1",
   "metadata": {},
   "source": [
    "특정 배열에 포함되어 있는지 여부를 확인하기 위해서는\n",
    "시리즈의 .isin() 메소소드를 활용하면됩니다."
   ]
  },
  {
   "cell_type": "code",
   "execution_count": 68,
   "id": "121ec846-7f8b-40b0-b2c2-35143b84e95a",
   "metadata": {},
   "outputs": [
    {
     "data": {
      "text/plain": [
       "B    20\n",
       "D    40\n",
       "dtype: int64"
      ]
     },
     "execution_count": 68,
     "metadata": {},
     "output_type": "execute_result"
    }
   ],
   "source": [
    "s[s.isin([20,40])]"
   ]
  },
  {
   "cell_type": "raw",
   "id": "9bf4de1d-1a25-4675-afa9-3e4a1d4f09ce",
   "metadata": {},
   "source": [
    "특정 값이 아닌 경우를 표현하기 위해서는\n",
    "파이썬에서 같지 않다라는 표현인 느낌표+이퀄 특수문자를 조합하여 사용하면 됩니다."
   ]
  },
  {
   "cell_type": "code",
   "execution_count": 65,
   "id": "7860bf96-a42b-4f5c-a93f-e89a04c9cb41",
   "metadata": {
    "tags": []
   },
   "outputs": [
    {
     "data": {
      "text/plain": [
       "A    10\n",
       "C    30\n",
       "D    40\n",
       "E    50\n",
       "dtype: int64"
      ]
     },
     "execution_count": 65,
     "metadata": {},
     "output_type": "execute_result"
    }
   ],
   "source": [
    "# 20이 아닌 경우만\n",
    "s[(s!=20)]"
   ]
  },
  {
   "cell_type": "raw",
   "id": "3a8bd859-cc02-41e0-84ce-1928824a75d2",
   "metadata": {},
   "source": [
    "not을 표현하기 위해서는 ~ 표시의 특수문자를 사용하면 됩니다."
   ]
  },
  {
   "cell_type": "code",
   "execution_count": 67,
   "id": "5836416b-ae0f-42ff-a2bc-d82861deac18",
   "metadata": {
    "tags": []
   },
   "outputs": [
    {
     "data": {
      "text/plain": [
       "A    10\n",
       "C    30\n",
       "D    40\n",
       "E    50\n",
       "dtype: int64"
      ]
     },
     "execution_count": 67,
     "metadata": {},
     "output_type": "execute_result"
    }
   ],
   "source": [
    "s[~(s==20)]"
   ]
  },
  {
   "cell_type": "raw",
   "id": "c39d2726-13eb-4673-b97e-65e77cc35dc1",
   "metadata": {},
   "source": [
    "레이블 인덱스의 배열을 주면 해당 레이블 인덱스에 대한 값만 나오도록 필터링 할 수 있습니다."
   ]
  },
  {
   "cell_type": "code",
   "execution_count": 28,
   "id": "f7aeaec8-c495-41de-a398-4c7b0c2fd19b",
   "metadata": {
    "tags": []
   },
   "outputs": [
    {
     "data": {
      "text/plain": [
       "A    10\n",
       "B    20\n",
       "D    40\n",
       "dtype: int64"
      ]
     },
     "execution_count": 28,
     "metadata": {},
     "output_type": "execute_result"
    }
   ],
   "source": [
    "# 레이블이 \"A\",\"B\",\"D\" 인 경우만 필터링\n",
    "s[[\"A\",\"B\",\"D\"]]"
   ]
  },
  {
   "cell_type": "raw",
   "id": "4b0e8693-1640-42e8-ab61-207c2accda55",
   "metadata": {},
   "source": [
    "정수 인덱스의 배열을 주면 해당 정수 인덱스에 대한 값만 나오도록 필터링 할 수 있습니다."
   ]
  },
  {
   "cell_type": "code",
   "execution_count": 29,
   "id": "6b360974-33d1-4ca2-809c-dc3ca7b2070e",
   "metadata": {
    "tags": []
   },
   "outputs": [
    {
     "data": {
      "text/plain": [
       "A    10\n",
       "B    20\n",
       "E    50\n",
       "dtype: int64"
      ]
     },
     "execution_count": 29,
     "metadata": {},
     "output_type": "execute_result"
    }
   ],
   "source": [
    "# 0,1,4번째 데이터만 필터링\n",
    "s[[0,1,4]]"
   ]
  },
  {
   "cell_type": "raw",
   "id": "5c3f7539-fd1b-403d-be38-eb7dc2ceab13",
   "metadata": {},
   "source": [
    "이번에는 Series의 슬라이싱에 대해서 알아보도록 하겠습니다."
   ]
  },
  {
   "cell_type": "markdown",
   "id": "d7121e12-9177-4eee-823d-b2ec6ad8827b",
   "metadata": {},
   "source": [
    "## 슬라이싱"
   ]
  },
  {
   "cell_type": "code",
   "execution_count": 49,
   "id": "573a81a5-f293-418b-b9f7-9e5a37b05475",
   "metadata": {
    "tags": []
   },
   "outputs": [
    {
     "data": {
      "text/plain": [
       "A    10\n",
       "B    20\n",
       "C    30\n",
       "D    40\n",
       "E    50\n",
       "dtype: int64"
      ]
     },
     "execution_count": 49,
     "metadata": {},
     "output_type": "execute_result"
    }
   ],
   "source": [
    "import pandas as pd\n",
    "\n",
    "# Series 생성\n",
    "data = [10, 20, 30, 40, 50]\n",
    "index = ['A', 'B', 'C', 'D', 'E']\n",
    "s = pd.Series(data, index=index)\n",
    "s"
   ]
  },
  {
   "cell_type": "raw",
   "id": "9bb19f1f-cafd-465f-8115-5ebdf90118d9",
   "metadata": {},
   "source": [
    "시리즈의 슬라이싱 방법은 대괄호 안에 정수 인덱스를 입력하는 방법으로,\n",
    "파이썬의 일반적인 배열의 슬라이싱 방식과 동일합니다."
   ]
  },
  {
   "cell_type": "code",
   "execution_count": 50,
   "id": "adb42bd6-25b1-4c7b-be9a-cefa306e61cf",
   "metadata": {
    "tags": []
   },
   "outputs": [
    {
     "data": {
      "text/plain": [
       "B    20\n",
       "C    30\n",
       "dtype: int64"
      ]
     },
     "execution_count": 50,
     "metadata": {},
     "output_type": "execute_result"
    }
   ],
   "source": [
    "s[1:3]"
   ]
  },
  {
   "cell_type": "raw",
   "id": "4ba9cc41-7b4c-45af-8753-c15e5ae73b3d",
   "metadata": {},
   "source": [
    "대괄호 안에 시작을 1, 끝을 3이라고 하면,\n",
    "1,2번 인덱스에 해당하는 요소가 포함되고\n",
    "끝을 나타내는 3에 해당 하는 값인 40은 포함되지 않습니다."
   ]
  },
  {
   "cell_type": "code",
   "execution_count": 51,
   "id": "b7baa358-c24d-4fd6-90de-1d5b61914d2d",
   "metadata": {
    "tags": []
   },
   "outputs": [
    {
     "data": {
      "text/plain": [
       "B    20\n",
       "C    30\n",
       "dtype: int64"
      ]
     },
     "execution_count": 51,
     "metadata": {},
     "output_type": "execute_result"
    }
   ],
   "source": [
    "s.iloc[1:3]"
   ]
  },
  {
   "cell_type": "raw",
   "id": "b7af8489-7dcf-4edc-8074-67e3ab653d68",
   "metadata": {},
   "source": [
    "정수 인덱스를 활용하는 방식은 s.iloc와 동일한 의미입니다."
   ]
  },
  {
   "cell_type": "raw",
   "id": "78f09017-f02b-4b46-9fd7-81a84c2b99b5",
   "metadata": {},
   "source": [
    "이번에는 시리즈의 레이블인덱스를 활용하여 슬라이싱 하는 방식입니다."
   ]
  },
  {
   "cell_type": "code",
   "execution_count": 52,
   "id": "78e72bb7-e12c-4218-8562-8e5e25d7b196",
   "metadata": {
    "tags": []
   },
   "outputs": [
    {
     "data": {
      "text/plain": [
       "B    20\n",
       "C    30\n",
       "D    40\n",
       "dtype: int64"
      ]
     },
     "execution_count": 52,
     "metadata": {},
     "output_type": "execute_result"
    }
   ],
   "source": [
    "s[\"B\":\"D\"]"
   ]
  },
  {
   "cell_type": "raw",
   "id": "411b21ad-c9a8-47a3-80e3-3dd071c17e9f",
   "metadata": {},
   "source": [
    "위의 예제에서는 시작을 \"B\" 끝을 \"D\"로 하여 슬라이싱을 하였습니다.\n",
    "이때 레이블 인덱스를 사용할 경우 끝에 표기된 레이블이 포함되는것이\n",
    "정수 인덱스를 활용하는 방식과 다르니 유의하시기 바랍니다."
   ]
  },
  {
   "cell_type": "code",
   "execution_count": 53,
   "id": "d70dfac6-0bbd-42df-87ec-86792c07ca4c",
   "metadata": {
    "tags": []
   },
   "outputs": [
    {
     "data": {
      "text/plain": [
       "B    20\n",
       "C    30\n",
       "D    40\n",
       "dtype: int64"
      ]
     },
     "execution_count": 53,
     "metadata": {},
     "output_type": "execute_result"
    }
   ],
   "source": [
    "# \"B\":\"D\"까지\n",
    "s.loc[\"B\":\"D\"]"
   ]
  },
  {
   "cell_type": "raw",
   "id": "3aec5e36-011f-410a-ab1a-55a73160b101",
   "metadata": {},
   "source": [
    "레이블 인덱스를 활용하는 방식은 s.loc와 동일한 의미입니다."
   ]
  },
  {
   "cell_type": "raw",
   "id": "0b0624a2-6095-4c30-a74a-335e06e0e236",
   "metadata": {},
   "source": [
    "이번에는 원본 데이터의 변경이 슬라이싱한 결과에도 반영이 되는지를 확인해보겠습니다."
   ]
  },
  {
   "cell_type": "code",
   "execution_count": 54,
   "id": "2f5be005-5ab1-4be8-8370-b780eef381ae",
   "metadata": {
    "tags": []
   },
   "outputs": [
    {
     "name": "stdout",
     "output_type": "stream",
     "text": [
      "A    10\n",
      "B    20\n",
      "C    30\n",
      "D    40\n",
      "E    50\n",
      "dtype: int64\n",
      "B    20\n",
      "C    30\n",
      "D    40\n",
      "dtype: int64\n"
     ]
    }
   ],
   "source": [
    "b = s.loc[\"B\":\"D\"]\n",
    "print(s,b,sep=\"\\n\")"
   ]
  },
  {
   "cell_type": "raw",
   "id": "9580fa39-ef23-4e5a-a563-50bc0c0154e0",
   "metadata": {},
   "source": [
    "원본 시리즈에서 \"B\" 의 인덱스의 값을 -999로 변경시켜 보겠습니다."
   ]
  },
  {
   "cell_type": "code",
   "execution_count": 55,
   "id": "db26d2a9-b2cf-46ba-85f7-6d8a9bb03565",
   "metadata": {
    "tags": []
   },
   "outputs": [
    {
     "name": "stdout",
     "output_type": "stream",
     "text": [
      "A     10\n",
      "B   -999\n",
      "C     30\n",
      "D     40\n",
      "E     50\n",
      "dtype: int64\n",
      "B   -999\n",
      "C     30\n",
      "D     40\n",
      "dtype: int64\n"
     ]
    }
   ],
   "source": [
    "s[\"B\"] = -999\n",
    "print(s,b,sep=\"\\n\")"
   ]
  },
  {
   "cell_type": "raw",
   "id": "ebbd866e-789d-47d9-98d8-dd4a4302c0e3",
   "metadata": {},
   "source": [
    "위의 예제에서 \n",
    "시리즈의 슬라이싱의 경우에도 원본의 데이터가 변경이 되면\n",
    "슬라이싱한 결과에도 반영이 되는것을 확인하였습니다."
   ]
  },
  {
   "cell_type": "code",
   "execution_count": null,
   "id": "c4a3c644-532c-4471-9c0d-6d094b16863b",
   "metadata": {},
   "outputs": [],
   "source": []
  },
  {
   "cell_type": "markdown",
   "id": "2f81055f-eebc-434d-af4b-7adced7b02d2",
   "metadata": {},
   "source": [
    "## 조건식 기반 값 변경"
   ]
  },
  {
   "cell_type": "raw",
   "id": "dd41c2b5-4144-4c86-accc-d20f6a9a2e6f",
   "metadata": {
    "tags": []
   },
   "source": [
    "이번에는 조건식을 활용하여 특정 조건에 해당되는 요소의 값만 변경하는 방법을 알아보도록 하겠습니다."
   ]
  },
  {
   "cell_type": "code",
   "execution_count": 69,
   "id": "fb797906-5053-4bf5-b201-ef080e2297b5",
   "metadata": {
    "tags": []
   },
   "outputs": [
    {
     "name": "stdout",
     "output_type": "stream",
     "text": [
      "0    10\n",
      "1    20\n",
      "2    30\n",
      "3    40\n",
      "4    50\n",
      "dtype: int64\n",
      "0     10\n",
      "1     20\n",
      "2    130\n",
      "3    140\n",
      "4    150\n",
      "dtype: int64\n"
     ]
    }
   ],
   "source": [
    "\"\"\"\n",
    "조건식을 활용한 값 변경 예제\n",
    "\"\"\"\n",
    "s = pd.Series(range(10,60,10))\n",
    "print(s)\n",
    "# 30이상인데이터에 5를 더한 값으로 수정하시요\n",
    "s[s>=30] = s[s>=30]+100\n",
    "print(s)"
   ]
  },
  {
   "cell_type": "raw",
   "id": "0d193a5d-08cd-4cef-a8a1-7e5bff05dece",
   "metadata": {},
   "source": [
    "이번에는 생성되어 있는 시리즈의 객체에 값을 추가하는 방법에 대해서 알아보겠습니다.\n",
    "시리즈 객체를 만들어 보도록 하겠습니다."
   ]
  },
  {
   "cell_type": "markdown",
   "id": "3ea784c9-76a0-43f8-942e-f13f25e21f9e",
   "metadata": {},
   "source": [
    "## 값 추가"
   ]
  },
  {
   "cell_type": "code",
   "execution_count": 61,
   "id": "2f8ebba5-e671-4d85-ab38-bd296c62ad2c",
   "metadata": {
    "tags": []
   },
   "outputs": [
    {
     "name": "stdout",
     "output_type": "stream",
     "text": [
      "A    10\n",
      "B    20\n",
      "C    30\n",
      "D    40\n",
      "dtype: int64\n"
     ]
    }
   ],
   "source": [
    "\"\"\"\n",
    "인덱스를 이용한 값추가\n",
    "\"\"\"\n",
    "import pandas as pd\n",
    "\n",
    "# 시리즈 생성\n",
    "data = [10, 20, 30, 40]\n",
    "index = list(\"ABCD\")\n",
    "s = pd.Series(data, index=index)\n",
    "print(s)"
   ]
  },
  {
   "cell_type": "raw",
   "id": "49b8afde-5c89-4d55-a7ed-c605719bc2c9",
   "metadata": {},
   "source": [
    "값을 추가하기 위해서는 s.loc를 활용하여 레이블과 값을 입력하는 방법입니다."
   ]
  },
  {
   "cell_type": "code",
   "execution_count": 62,
   "id": "df4ed5f7-4e01-453e-9a13-76938dc6a33d",
   "metadata": {
    "tags": []
   },
   "outputs": [
    {
     "name": "stdout",
     "output_type": "stream",
     "text": [
      "A    10\n",
      "B    20\n",
      "C    30\n",
      "D    40\n",
      "Z    50\n",
      "dtype: int64\n"
     ]
    }
   ],
   "source": [
    "# loc[] 인덱서를 사용하여 값 추가\n",
    "s.loc[\"Z\"] = 50\n",
    "print(s)"
   ]
  },
  {
   "cell_type": "raw",
   "id": "bf381595-e5d0-4c05-afc0-39853d3b25e6",
   "metadata": {},
   "source": [
    "위의 예제와 같이 대괄호 안에는 인덱스를 기입하고 값을 넣여주면\n",
    "기존의 Series의 마지막 부분에 \"Z\"라는 index로 50이라는 값이 추가된 것을 확인할 수 있습니다."
   ]
  },
  {
   "cell_type": "code",
   "execution_count": 64,
   "id": "84b2055f-1d1e-4889-9bcf-44616a896cd9",
   "metadata": {
    "tags": []
   },
   "outputs": [
    {
     "data": {
      "text/plain": [
       "A    10\n",
       "B    20\n",
       "C    35\n",
       "D    45\n",
       "Z    55\n",
       "dtype: int64"
      ]
     },
     "execution_count": 64,
     "metadata": {},
     "output_type": "execute_result"
    }
   ],
   "source": [
    "s"
   ]
  },
  {
   "cell_type": "raw",
   "id": "ac1909cd-fbfd-44eb-ab0c-e457691638f5",
   "metadata": {},
   "source": [
    "이번에는 series 객체에서 값을 삭제하는 방법에 대해서 알아보겠습니다."
   ]
  },
  {
   "cell_type": "markdown",
   "id": "c616ee66-9625-459d-beea-a4023b1ced3a",
   "metadata": {
    "tags": []
   },
   "source": [
    "## 값 삭제"
   ]
  },
  {
   "cell_type": "code",
   "execution_count": 97,
   "id": "71e03130-a47d-4480-b6f6-4d3833c62954",
   "metadata": {
    "tags": []
   },
   "outputs": [
    {
     "name": "stdout",
     "output_type": "stream",
     "text": [
      "b    20\n",
      "c    30\n",
      "d    40\n",
      "dtype: int64\n",
      "a    10\n",
      "b    20\n",
      "c    30\n",
      "d    40\n",
      "dtype: int64\n"
     ]
    }
   ],
   "source": [
    "import pandas as pd\n",
    "\n",
    "# Series의 값을 삭제\n",
    "data = [10, 20, 30, 40]\n",
    "index = list(\"abcd\")\n",
    "s = pd.Series(data, index=index)\n",
    "a = s.drop('a')\n",
    "\n",
    "print(a)\n",
    "print(s)"
   ]
  },
  {
   "cell_type": "raw",
   "id": "99992ce0-642a-44b0-b269-43ccb0c5c743",
   "metadata": {},
   "source": [
    "s.drop을 사용하면 결과물에는 \"a\"라는 인덱스를 가진 데이터가 삭제 되었음을 확인할 수 있습니다.\n",
    "하지만 s의 원본에는 해당 데이터가 남아 있음을 확인할 수 있습니다."
   ]
  },
  {
   "cell_type": "code",
   "execution_count": 95,
   "id": "ca663027-157c-421f-accc-f003e8c63267",
   "metadata": {
    "tags": []
   },
   "outputs": [],
   "source": [
    "import pandas as pd\n",
    "\n",
    "# 시리즈 생성\n",
    "data = [10, 20, 30, 40]\n",
    "index = list(\"abcd\")\n",
    "s = pd.Series(data, index=index)"
   ]
  },
  {
   "cell_type": "code",
   "execution_count": 96,
   "id": "6b230494-be14-44e9-bc48-b693c8b61518",
   "metadata": {
    "tags": []
   },
   "outputs": [
    {
     "data": {
      "text/plain": [
       "b    20\n",
       "c    30\n",
       "d    40\n",
       "dtype: int64"
      ]
     },
     "execution_count": 96,
     "metadata": {},
     "output_type": "execute_result"
    }
   ],
   "source": [
    "# 값 삭제시 inplace 파리미터 활용\n",
    "a = s.drop('a', inplace=True)\n",
    "s"
   ]
  },
  {
   "cell_type": "raw",
   "id": "6277b293-ebd9-4385-ad8d-3df2a4afa196",
   "metadata": {},
   "source": [
    "시리즈에서 drop을 호출할때 inplace=True 파라미터를 입력해주면,\n",
    "원본 시리즈 객체의 요소가 변경되게 됩니다."
   ]
  },
  {
   "cell_type": "code",
   "execution_count": 93,
   "id": "796956e7-bbc7-44b6-84d0-ce4362be222e",
   "metadata": {
    "tags": []
   },
   "outputs": [
    {
     "name": "stdout",
     "output_type": "stream",
     "text": [
      "None\n"
     ]
    }
   ],
   "source": [
    "print(a)"
   ]
  },
  {
   "cell_type": "raw",
   "id": "9800cb9d-16bf-4aed-bbe2-820c5084279f",
   "metadata": {},
   "source": [
    "단, 이경우 drop()은 None을 리턴합니다.\n",
    "inplace파라미터를 사용하지 않을때, \n",
    "해당 요소가 삭제된 시리즈 객체를 리턴하는 것과 차이가 나는 점입니다."
   ]
  },
  {
   "cell_type": "raw",
   "id": "a7140f28-a450-43b8-a6f3-52c1c62c0021",
   "metadata": {},
   "source": [
    "시리즈의 값을 삭제할때 콤마로 구분하여 여러개의 값을 동시에 삭제할 수 있습니다."
   ]
  },
  {
   "cell_type": "code",
   "execution_count": 100,
   "id": "70cb4003-f00b-4663-8d51-31bcfd98be66",
   "metadata": {
    "tags": []
   },
   "outputs": [
    {
     "name": "stdout",
     "output_type": "stream",
     "text": [
      "a    10\n",
      "b    20\n",
      "c    30\n",
      "d    40\n",
      "dtype: int64\n",
      "a    10\n",
      "d    40\n",
      "dtype: int64\n"
     ]
    }
   ],
   "source": [
    "# 시리즈 생성\n",
    "data = [10, 20, 30, 40]\n",
    "index = list(\"abcd\")\n",
    "s = pd.Series(data, index=index)\n",
    "print(s)\n",
    "print(s.drop([\"b\", \"c\"]))"
   ]
  },
  {
   "cell_type": "raw",
   "id": "49a5be60-26ca-4bc7-a705-af0f698d55f2",
   "metadata": {},
   "source": [
    "이번에는 시리즈의 데이터를 정렬하는 방법에 대해서 알아보겠습니다."
   ]
  },
  {
   "cell_type": "markdown",
   "id": "89587190-27d1-49d5-a3f1-6f2ab3910f05",
   "metadata": {},
   "source": [
    "## 정렬 (sort_values, sort_index)"
   ]
  },
  {
   "cell_type": "raw",
   "id": "8c8312c6-f50f-4c7e-8622-dc4b45f93558",
   "metadata": {},
   "source": [
    "정렬 예제를 위해서 index 및 data가 random 하게 채워져 있는 시리즈 객체를 만들어보겠습니다.\n",
    "데이터에는 np.random.randint 를 사용해서 1부터 9까지의 수 중에서 4개를 채우고\n",
    "인덱스에는 [abcd]의 배열에서 중복을 포함하지 않고 random 하게 4를 뽑아서 구성하도록 하였습니다.\n",
    "ctrl + Enter를 눌러서 인덱스와 값이 랜덤하게 계속 변하는 것을 확인해보겠습니다."
   ]
  },
  {
   "cell_type": "code",
   "execution_count": 138,
   "id": "d6d7832a-7a7a-4494-97e0-5864ebb7aaff",
   "metadata": {
    "tags": []
   },
   "outputs": [
    {
     "name": "stdout",
     "output_type": "stream",
     "text": [
      "c    9\n",
      "b    2\n",
      "d    7\n",
      "a    3\n",
      "dtype: int64\n"
     ]
    }
   ],
   "source": [
    "import pandas as pd\n",
    "import numpy as np\n",
    "\n",
    "# 시리즈 생성\n",
    "s = pd.Series(\n",
    "    data=np.random.randint(1,10,4), \n",
    "index=np.random.choice(list(\"abcd\"), 4, replace=False)\n",
    ")\n",
    "print(s)"
   ]
  },
  {
   "cell_type": "raw",
   "id": "93c7910c-93c3-4c6d-9c6b-f3b894f459ae",
   "metadata": {},
   "source": [
    "값을 기준으로 정렬하려면 sort_values() 메소드를 호출하면 됩니다."
   ]
  },
  {
   "cell_type": "code",
   "execution_count": 139,
   "id": "5663116e-1cca-40cf-ad8b-700ed3a40cc3",
   "metadata": {
    "tags": []
   },
   "outputs": [
    {
     "name": "stdout",
     "output_type": "stream",
     "text": [
      "b    2\n",
      "a    3\n",
      "d    7\n",
      "c    9\n",
      "dtype: int64\n",
      "c    9\n",
      "b    2\n",
      "d    7\n",
      "a    3\n",
      "dtype: int64\n"
     ]
    }
   ],
   "source": [
    "b = s.sort_values()\n",
    "print(b)\n",
    "print(s)"
   ]
  },
  {
   "cell_type": "raw",
   "id": "94b169e9-3d4d-4bae-b1cb-024109345025",
   "metadata": {},
   "source": [
    "시리즈의 sort_values()를 호출했을때 정렬된 값을 리턴하지만,\n",
    "원본은 정렬되지 않은 요소들을 저장하고 있음을 확인할 수 있습니다."
   ]
  },
  {
   "cell_type": "code",
   "execution_count": 140,
   "id": "ac5f8861-f987-4c75-b051-1048fe0c63ac",
   "metadata": {
    "tags": []
   },
   "outputs": [
    {
     "name": "stdout",
     "output_type": "stream",
     "text": [
      "None\n",
      "b    2\n",
      "a    3\n",
      "d    7\n",
      "c    9\n",
      "dtype: int64\n"
     ]
    }
   ],
   "source": [
    "b = s.sort_values(inplace=True)\n",
    "print(b)\n",
    "print(s)"
   ]
  },
  {
   "cell_type": "raw",
   "id": "7d3c3131-125f-4820-8250-3ab9db29abbe",
   "metadata": {},
   "source": [
    "sort_values()를 호출할때 inplace=True 파라미터를 입력하면\n",
    "원본 데이터가 정렬되어 있음을 확인할 수 있습니다.\n",
    "단, sort_values는 None을 리턴하게 되어 있는 것에 유의해주세요."
   ]
  },
  {
   "cell_type": "raw",
   "id": "1ec25001-85f4-4ba3-a34e-642363a2c01c",
   "metadata": {},
   "source": [
    "값의 역순으로 정렬하기 위해서는 sort_values()를 호출할때\n",
    "ascending=False 파라미터를 입력해주면 됩니다."
   ]
  },
  {
   "cell_type": "code",
   "execution_count": 141,
   "id": "9004409c-8cec-4863-a08c-5aead76e983b",
   "metadata": {
    "tags": []
   },
   "outputs": [
    {
     "data": {
      "text/plain": [
       "c    9\n",
       "d    7\n",
       "a    3\n",
       "b    2\n",
       "dtype: int64"
      ]
     },
     "execution_count": 141,
     "metadata": {},
     "output_type": "execute_result"
    }
   ],
   "source": [
    "s.sort_values(ascending=False)"
   ]
  },
  {
   "cell_type": "raw",
   "id": "3971e329-5ac9-4a5e-a519-222cb0489b60",
   "metadata": {},
   "source": [
    "이번에는 인덱스 기준으로 정렬하는 방법에 대해서 알아보겠습니다.\n",
    "인덱스 기준으로 정렬하기 위해서는 sort_index()를 호출하면 됩니다."
   ]
  },
  {
   "cell_type": "code",
   "execution_count": 143,
   "id": "fe0c88a8-acc1-43b1-8f2b-9306b64fe410",
   "metadata": {
    "tags": []
   },
   "outputs": [
    {
     "data": {
      "text/plain": [
       "a    3\n",
       "b    2\n",
       "c    9\n",
       "d    7\n",
       "dtype: int64"
      ]
     },
     "execution_count": 143,
     "metadata": {},
     "output_type": "execute_result"
    }
   ],
   "source": [
    "s.sort_index()"
   ]
  },
  {
   "cell_type": "raw",
   "id": "c03bea9b-6e8e-4d2b-84b1-d0df28a6a791",
   "metadata": {},
   "source": [
    "inplace 파라미터, ascending 파라미터 사용방법은 sort_values()와 동일합니다."
   ]
  },
  {
   "cell_type": "raw",
   "id": "3edebadd-ff39-4117-941b-706a336c773b",
   "metadata": {},
   "source": [
    "Pandas Series간의 연산은 인덱스를 기준으로 자동으로 맞춰서 수행되기 때문에\n",
    "데이터의 크기가 다르더라도 연산이 가능합니다. \n",
    "또한 브로드캐스팅 기능을 지원하여 Series와 스칼라(단일 값) 간의 연산도 가능합니다."
   ]
  },
  {
   "cell_type": "markdown",
   "id": "7a0f09b7-20a5-4b2d-afd1-f2052a4b07db",
   "metadata": {
    "tags": []
   },
   "source": [
    "## Series 연산 (+,-,*,/,//,%,**)\n",
    "\n",
    "Pandas Series간의 연산은 `인덱스를 기준`으로 자동으로 맞춰서 수행되기 때문에 `데이터의 크기가 다르더라도 연산이 가능`합니다. 또한 `브로드캐스팅` 기능을 지원하여 Series와 `스칼라(단일 값) 간의 연산도 가능`합니다. \n",
    "\n",
    "값이 없을 경우 NaN: (Not a Number)"
   ]
  },
  {
   "cell_type": "code",
   "execution_count": 147,
   "id": "e2c3a97b-0bff-48ed-9571-4f7371a20f23",
   "metadata": {
    "tags": []
   },
   "outputs": [
    {
     "name": "stdout",
     "output_type": "stream",
     "text": [
      "A    10\n",
      "B    20\n",
      "C    30\n",
      "dtype: int64\n",
      "B     5\n",
      "C    15\n",
      "D    25\n",
      "dtype: int64\n",
      "A     NaN\n",
      "B    25.0\n",
      "C    45.0\n",
      "D     NaN\n",
      "dtype: float64\n"
     ]
    }
   ],
   "source": [
    "\"\"\"\n",
    "덧셈\n",
    "\"\"\"\n",
    "import pandas as pd\n",
    "\n",
    "# Series 생성\n",
    "s1 = pd.Series([10, 20, 30], index=['A', 'B', 'C'])\n",
    "s2 = pd.Series([5, 15, 25], index=['B', 'C', 'D'])\n",
    "print(s1)\n",
    "print(s2)\n",
    "print(s1+s2)"
   ]
  },
  {
   "cell_type": "raw",
   "id": "e25f3578-f17f-405b-9daf-76ee246d0ffc",
   "metadata": {},
   "source": [
    "위의 예제에서 보면 덧셈이 진행되는 두 시리즈의 요소들이 \n",
    "인덱스 기준으로 덧셈연산이 진행된 것을 볼 수 있습니다.\n",
    "결과를 살펴 보면 s1와 s2에 공통적으로 있는 인덱스인 B, C 에 \n",
    "해당 값들을 더한 결과가 삽입되어 있음을 볼 수 있습니다.\n",
    "인덱스 A의 경우 s1에는 있지만 s2 에는 없어서 10 + NaN 의 결과인 NaN 이 들어가 있음을 볼 수 있습니다."
   ]
  },
  {
   "cell_type": "raw",
   "id": "ab3a83dc-3109-4b59-b6b0-7d7555005f35",
   "metadata": {},
   "source": [
    "이번에는 시리즈의 요소가 문자 타입일 경우\n",
    "문자열과 관련된 함수들을 활용하는 방법에 대해서 확인해보도록 하겠습니다.\n",
    "우선 문자열 데이터를 포함하고 있는 시리즈 객체를 만들어보겠습니다."
   ]
  },
  {
   "cell_type": "markdown",
   "id": "98062da8-ff80-4055-b1e8-cae909005a3f",
   "metadata": {
    "tags": []
   },
   "source": [
    "## 문자열 처리 (.str)"
   ]
  },
  {
   "cell_type": "code",
   "execution_count": 151,
   "id": "2168c0ef-5e2a-4e15-b705-055db2f3dcef",
   "metadata": {
    "tags": []
   },
   "outputs": [],
   "source": [
    "import pandas as pd\n",
    "import numpy as np\n",
    "\n",
    "s = pd.Series([\"Python\", \"PyTorch\", \"NumPy\", \"Pandas\", \"SciPy\"])"
   ]
  },
  {
   "cell_type": "raw",
   "id": "f585b5e9-52f5-4767-9824-c4a1907fd643",
   "metadata": {},
   "source": [
    "문자열 데이터가 저장되어 있을 경우 문자열을 처리하는 방법을 사용하기 위해서는\n",
    ".str 을 붙여주면 됩니다."
   ]
  },
  {
   "cell_type": "code",
   "execution_count": 8,
   "id": "e9f385fe-25db-4b63-bb03-3ee6c9e84731",
   "metadata": {},
   "outputs": [
    {
     "data": {
      "text/plain": [
       "0    Pyt\n",
       "1    PyT\n",
       "2    Num\n",
       "3    Pan\n",
       "4    Sci\n",
       "dtype: object"
      ]
     },
     "execution_count": 8,
     "metadata": {},
     "output_type": "execute_result"
    }
   ],
   "source": [
    "s.str[:3]"
   ]
  },
  {
   "cell_type": "raw",
   "id": "528ba9ec-f9d7-4bc2-bfe4-0a0853f2d69a",
   "metadata": {},
   "source": [
    "위의 예와 같이 s.str을 작성하고 슬라이싱하는 내용을 적어주면\n",
    "해당 시리즈의 모든 요소에 대해서 세번째 요소까지 슬라이싱 된 \n",
    "결과물을 확인할 수 있습니다."
   ]
  },
  {
   "cell_type": "raw",
   "id": "408bf058-8fe4-4a5c-a21e-6e2457f2e54e",
   "metadata": {},
   "source": [
    "그 외에도 contains, replace 등 파이썬에서 제공하는 문자열 관련된 함수들을 활용할 수 있습니다."
   ]
  },
  {
   "cell_type": "code",
   "execution_count": 9,
   "id": "7a2463ef-607b-456d-9560-7ad403020d1d",
   "metadata": {},
   "outputs": [
    {
     "data": {
      "text/plain": [
       "0     True\n",
       "1     True\n",
       "2     True\n",
       "3    False\n",
       "4     True\n",
       "dtype: bool"
      ]
     },
     "execution_count": 9,
     "metadata": {},
     "output_type": "execute_result"
    }
   ],
   "source": [
    "s.str.contains(\"Py\")"
   ]
  },
  {
   "cell_type": "code",
   "execution_count": 152,
   "id": "53a957e7-486c-49fc-be0c-e730dfe520dc",
   "metadata": {
    "tags": []
   },
   "outputs": [
    {
     "data": {
      "text/plain": [
       "0     Python\n",
       "1    PyTorch\n",
       "2      NumPy\n",
       "3     Pandas\n",
       "4      SciPy\n",
       "dtype: object"
      ]
     },
     "execution_count": 152,
     "metadata": {},
     "output_type": "execute_result"
    }
   ],
   "source": [
    "s.str.replace(\"Py\", \"py\")\n",
    "s"
   ]
  },
  {
   "cell_type": "raw",
   "id": "e829e701-68a2-49cc-a8fc-abbe10cb4c23",
   "metadata": {},
   "source": [
    "만약 시리즈에 문자열이 아닌 다른 타입의 데이터가 있을 경우\n",
    ".str를 사용하면 error 메시지가 발생하게 됩니다."
   ]
  },
  {
   "cell_type": "code",
   "execution_count": 154,
   "id": "7dfdae2f-95d0-4df9-92bd-8dba346706e3",
   "metadata": {
    "tags": []
   },
   "outputs": [
    {
     "ename": "AttributeError",
     "evalue": "Can only use .str accessor with string values!",
     "output_type": "error",
     "traceback": [
      "\u001b[0;31m---------------------------------------------------------------------------\u001b[0m",
      "\u001b[0;31mAttributeError\u001b[0m                            Traceback (most recent call last)",
      "Cell \u001b[0;32mIn[154], line 2\u001b[0m\n\u001b[1;32m      1\u001b[0m s \u001b[38;5;241m=\u001b[39m pd\u001b[38;5;241m.\u001b[39mSeries([\u001b[38;5;241m1\u001b[39m,\u001b[38;5;241m2\u001b[39m,\u001b[38;5;241m3\u001b[39m])\n\u001b[0;32m----> 2\u001b[0m \u001b[43ms\u001b[49m\u001b[38;5;241;43m.\u001b[39;49m\u001b[43mstr\u001b[49m\u001b[38;5;241m.\u001b[39mcontains(\u001b[38;5;124m\"\u001b[39m\u001b[38;5;124mT\u001b[39m\u001b[38;5;124m\"\u001b[39m)\n",
      "File \u001b[0;32m~/jupyter/venv/lib/python3.9/site-packages/pandas/core/generic.py:5902\u001b[0m, in \u001b[0;36mNDFrame.__getattr__\u001b[0;34m(self, name)\u001b[0m\n\u001b[1;32m   5895\u001b[0m \u001b[38;5;28;01mif\u001b[39;00m (\n\u001b[1;32m   5896\u001b[0m     name \u001b[38;5;129;01mnot\u001b[39;00m \u001b[38;5;129;01min\u001b[39;00m \u001b[38;5;28mself\u001b[39m\u001b[38;5;241m.\u001b[39m_internal_names_set\n\u001b[1;32m   5897\u001b[0m     \u001b[38;5;129;01mand\u001b[39;00m name \u001b[38;5;129;01mnot\u001b[39;00m \u001b[38;5;129;01min\u001b[39;00m \u001b[38;5;28mself\u001b[39m\u001b[38;5;241m.\u001b[39m_metadata\n\u001b[1;32m   5898\u001b[0m     \u001b[38;5;129;01mand\u001b[39;00m name \u001b[38;5;129;01mnot\u001b[39;00m \u001b[38;5;129;01min\u001b[39;00m \u001b[38;5;28mself\u001b[39m\u001b[38;5;241m.\u001b[39m_accessors\n\u001b[1;32m   5899\u001b[0m     \u001b[38;5;129;01mand\u001b[39;00m \u001b[38;5;28mself\u001b[39m\u001b[38;5;241m.\u001b[39m_info_axis\u001b[38;5;241m.\u001b[39m_can_hold_identifiers_and_holds_name(name)\n\u001b[1;32m   5900\u001b[0m ):\n\u001b[1;32m   5901\u001b[0m     \u001b[38;5;28;01mreturn\u001b[39;00m \u001b[38;5;28mself\u001b[39m[name]\n\u001b[0;32m-> 5902\u001b[0m \u001b[38;5;28;01mreturn\u001b[39;00m \u001b[38;5;28;43mobject\u001b[39;49m\u001b[38;5;241;43m.\u001b[39;49m\u001b[38;5;21;43m__getattribute__\u001b[39;49m\u001b[43m(\u001b[49m\u001b[38;5;28;43mself\u001b[39;49m\u001b[43m,\u001b[49m\u001b[43m \u001b[49m\u001b[43mname\u001b[49m\u001b[43m)\u001b[49m\n",
      "File \u001b[0;32m~/jupyter/venv/lib/python3.9/site-packages/pandas/core/accessor.py:182\u001b[0m, in \u001b[0;36mCachedAccessor.__get__\u001b[0;34m(self, obj, cls)\u001b[0m\n\u001b[1;32m    179\u001b[0m \u001b[38;5;28;01mif\u001b[39;00m obj \u001b[38;5;129;01mis\u001b[39;00m \u001b[38;5;28;01mNone\u001b[39;00m:\n\u001b[1;32m    180\u001b[0m     \u001b[38;5;66;03m# we're accessing the attribute of the class, i.e., Dataset.geo\u001b[39;00m\n\u001b[1;32m    181\u001b[0m     \u001b[38;5;28;01mreturn\u001b[39;00m \u001b[38;5;28mself\u001b[39m\u001b[38;5;241m.\u001b[39m_accessor\n\u001b[0;32m--> 182\u001b[0m accessor_obj \u001b[38;5;241m=\u001b[39m \u001b[38;5;28;43mself\u001b[39;49m\u001b[38;5;241;43m.\u001b[39;49m\u001b[43m_accessor\u001b[49m\u001b[43m(\u001b[49m\u001b[43mobj\u001b[49m\u001b[43m)\u001b[49m\n\u001b[1;32m    183\u001b[0m \u001b[38;5;66;03m# Replace the property with the accessor object. Inspired by:\u001b[39;00m\n\u001b[1;32m    184\u001b[0m \u001b[38;5;66;03m# https://www.pydanny.com/cached-property.html\u001b[39;00m\n\u001b[1;32m    185\u001b[0m \u001b[38;5;66;03m# We need to use object.__setattr__ because we overwrite __setattr__ on\u001b[39;00m\n\u001b[1;32m    186\u001b[0m \u001b[38;5;66;03m# NDFrame\u001b[39;00m\n\u001b[1;32m    187\u001b[0m \u001b[38;5;28mobject\u001b[39m\u001b[38;5;241m.\u001b[39m\u001b[38;5;21m__setattr__\u001b[39m(obj, \u001b[38;5;28mself\u001b[39m\u001b[38;5;241m.\u001b[39m_name, accessor_obj)\n",
      "File \u001b[0;32m~/jupyter/venv/lib/python3.9/site-packages/pandas/core/strings/accessor.py:181\u001b[0m, in \u001b[0;36mStringMethods.__init__\u001b[0;34m(self, data)\u001b[0m\n\u001b[1;32m    178\u001b[0m \u001b[38;5;28;01mdef\u001b[39;00m \u001b[38;5;21m__init__\u001b[39m(\u001b[38;5;28mself\u001b[39m, data) \u001b[38;5;241m-\u001b[39m\u001b[38;5;241m>\u001b[39m \u001b[38;5;28;01mNone\u001b[39;00m:\n\u001b[1;32m    179\u001b[0m     \u001b[38;5;28;01mfrom\u001b[39;00m \u001b[38;5;21;01mpandas\u001b[39;00m\u001b[38;5;21;01m.\u001b[39;00m\u001b[38;5;21;01mcore\u001b[39;00m\u001b[38;5;21;01m.\u001b[39;00m\u001b[38;5;21;01marrays\u001b[39;00m\u001b[38;5;21;01m.\u001b[39;00m\u001b[38;5;21;01mstring_\u001b[39;00m \u001b[38;5;28;01mimport\u001b[39;00m StringDtype\n\u001b[0;32m--> 181\u001b[0m     \u001b[38;5;28mself\u001b[39m\u001b[38;5;241m.\u001b[39m_inferred_dtype \u001b[38;5;241m=\u001b[39m \u001b[38;5;28;43mself\u001b[39;49m\u001b[38;5;241;43m.\u001b[39;49m\u001b[43m_validate\u001b[49m\u001b[43m(\u001b[49m\u001b[43mdata\u001b[49m\u001b[43m)\u001b[49m\n\u001b[1;32m    182\u001b[0m     \u001b[38;5;28mself\u001b[39m\u001b[38;5;241m.\u001b[39m_is_categorical \u001b[38;5;241m=\u001b[39m is_categorical_dtype(data\u001b[38;5;241m.\u001b[39mdtype)\n\u001b[1;32m    183\u001b[0m     \u001b[38;5;28mself\u001b[39m\u001b[38;5;241m.\u001b[39m_is_string \u001b[38;5;241m=\u001b[39m \u001b[38;5;28misinstance\u001b[39m(data\u001b[38;5;241m.\u001b[39mdtype, StringDtype)\n",
      "File \u001b[0;32m~/jupyter/venv/lib/python3.9/site-packages/pandas/core/strings/accessor.py:235\u001b[0m, in \u001b[0;36mStringMethods._validate\u001b[0;34m(data)\u001b[0m\n\u001b[1;32m    232\u001b[0m inferred_dtype \u001b[38;5;241m=\u001b[39m lib\u001b[38;5;241m.\u001b[39minfer_dtype(values, skipna\u001b[38;5;241m=\u001b[39m\u001b[38;5;28;01mTrue\u001b[39;00m)\n\u001b[1;32m    234\u001b[0m \u001b[38;5;28;01mif\u001b[39;00m inferred_dtype \u001b[38;5;129;01mnot\u001b[39;00m \u001b[38;5;129;01min\u001b[39;00m allowed_types:\n\u001b[0;32m--> 235\u001b[0m     \u001b[38;5;28;01mraise\u001b[39;00m \u001b[38;5;167;01mAttributeError\u001b[39;00m(\u001b[38;5;124m\"\u001b[39m\u001b[38;5;124mCan only use .str accessor with string values!\u001b[39m\u001b[38;5;124m\"\u001b[39m)\n\u001b[1;32m    236\u001b[0m \u001b[38;5;28;01mreturn\u001b[39;00m inferred_dtype\n",
      "\u001b[0;31mAttributeError\u001b[0m: Can only use .str accessor with string values!"
     ]
    }
   ],
   "source": [
    "s = pd.Series([1,2,3])\n",
    "s.str.contains(\"T\")"
   ]
  },
  {
   "cell_type": "markdown",
   "id": "bf016974-e063-412f-9e46-d7cc179bf595",
   "metadata": {},
   "source": [
    "## 통계\n"
   ]
  },
  {
   "cell_type": "raw",
   "id": "d1688ba8-07f2-45f4-aa75-871e41b9af53",
   "metadata": {},
   "source": [
    "시리즈에서는  numpy 에서 제공하는 다양한 통계관련 함수들을 사용할 수 있습니다.\n",
    "예제를 통해서 간단히 살펴보도록 하겠습니다."
   ]
  },
  {
   "cell_type": "code",
   "execution_count": 220,
   "id": "29b94ae2-55cd-4d54-830b-67a7260a7dbd",
   "metadata": {
    "tags": []
   },
   "outputs": [],
   "source": [
    "import pandas as pd\n",
    "import numpy as np\n",
    "data = [10,-999,30,30,40,40,40,50,60,999,70]\n",
    "s = pd.Series(data, index=list(\"abcdefghijk\"),name='kor')"
   ]
  },
  {
   "cell_type": "code",
   "execution_count": 221,
   "id": "8cef79cc-e596-4578-a916-d6ba4233d48a",
   "metadata": {
    "tags": []
   },
   "outputs": [
    {
     "data": {
      "text/plain": [
       "a     10\n",
       "b   -999\n",
       "c     30\n",
       "d     30\n",
       "e     40\n",
       "f     40\n",
       "g     40\n",
       "h     50\n",
       "i     60\n",
       "j    999\n",
       "k     70\n",
       "Name: kor, dtype: int64"
      ]
     },
     "execution_count": 221,
     "metadata": {},
     "output_type": "execute_result"
    }
   ],
   "source": [
    "s"
   ]
  },
  {
   "cell_type": "code",
   "execution_count": 222,
   "id": "79b02cc8-a4a1-4e1a-8398-31e1cc92a494",
   "metadata": {
    "tags": []
   },
   "outputs": [
    {
     "data": {
      "text/plain": [
       "999"
      ]
     },
     "execution_count": 222,
     "metadata": {},
     "output_type": "execute_result"
    }
   ],
   "source": [
    "s.max()"
   ]
  },
  {
   "cell_type": "raw",
   "id": "12044919-47da-4006-9155-f2b6bc60f560",
   "metadata": {},
   "source": [
    "idxmax는 value가 최대인 데이터의 index를 확인할 때 사용하는 메소드입니다."
   ]
  },
  {
   "cell_type": "code",
   "execution_count": 223,
   "id": "41d7f659-bdab-4211-b710-f015f0f2cbf9",
   "metadata": {
    "tags": []
   },
   "outputs": [
    {
     "data": {
      "text/plain": [
       "'j'"
      ]
     },
     "execution_count": 223,
     "metadata": {},
     "output_type": "execute_result"
    }
   ],
   "source": [
    "s.idxmax()"
   ]
  },
  {
   "cell_type": "raw",
   "id": "e5490de2-400c-4aae-9183-1d95a8dcb7a7",
   "metadata": {},
   "source": [
    "argmax는 value가 최대인 데이터의 정수 index를 확인할때 사용하는 메소드입니다."
   ]
  },
  {
   "cell_type": "code",
   "execution_count": 224,
   "id": "a95f5696-6f2e-4064-9ceb-712790993931",
   "metadata": {
    "tags": []
   },
   "outputs": [
    {
     "data": {
      "text/plain": [
       "9"
      ]
     },
     "execution_count": 224,
     "metadata": {},
     "output_type": "execute_result"
    }
   ],
   "source": [
    "s.argmax()"
   ]
  },
  {
   "cell_type": "code",
   "execution_count": 225,
   "id": "6458ae4f-2d82-4773-8361-ec9d1540f769",
   "metadata": {
    "tags": []
   },
   "outputs": [
    {
     "data": {
      "text/plain": [
       "-999"
      ]
     },
     "execution_count": 225,
     "metadata": {},
     "output_type": "execute_result"
    }
   ],
   "source": [
    "s.min()"
   ]
  },
  {
   "cell_type": "raw",
   "id": "7d46f9e0-03c8-49c0-a8fe-39a19ded2a07",
   "metadata": {
    "tags": []
   },
   "source": [
    "idxmin()는 value가 최소인 데이터의 index를 확인할 때 사용하는 메소드입니다."
   ]
  },
  {
   "cell_type": "code",
   "execution_count": 226,
   "id": "895f882b-d7e2-4bc4-ba1a-0f664d51610a",
   "metadata": {
    "tags": []
   },
   "outputs": [
    {
     "data": {
      "text/plain": [
       "'b'"
      ]
     },
     "execution_count": 226,
     "metadata": {},
     "output_type": "execute_result"
    }
   ],
   "source": [
    "s.idxmin()"
   ]
  },
  {
   "cell_type": "raw",
   "id": "524fcedf-ff94-4d01-8ac1-57e751ba4289",
   "metadata": {},
   "source": [
    "argmin은 value가 최소인 데이터의 정수 index를 확인할때 사용하는 메소드입니다."
   ]
  },
  {
   "cell_type": "code",
   "execution_count": 227,
   "id": "b273d37a-ba6c-4ef6-ad12-b7a7fb7123ab",
   "metadata": {
    "tags": []
   },
   "outputs": [
    {
     "data": {
      "text/plain": [
       "1"
      ]
     },
     "execution_count": 227,
     "metadata": {},
     "output_type": "execute_result"
    }
   ],
   "source": [
    "s.argmin()"
   ]
  },
  {
   "cell_type": "code",
   "execution_count": 228,
   "id": "863832a5-ea2e-473f-bcf4-03899c15f1ad",
   "metadata": {
    "tags": []
   },
   "outputs": [
    {
     "data": {
      "text/plain": [
       "370"
      ]
     },
     "execution_count": 228,
     "metadata": {},
     "output_type": "execute_result"
    }
   ],
   "source": [
    "s.sum()"
   ]
  },
  {
   "cell_type": "code",
   "execution_count": 229,
   "id": "a8c9dedc-1448-48f0-9d43-d882cb15d131",
   "metadata": {
    "tags": []
   },
   "outputs": [
    {
     "data": {
      "text/plain": [
       "33.63636363636363"
      ]
     },
     "execution_count": 229,
     "metadata": {},
     "output_type": "execute_result"
    }
   ],
   "source": [
    "s.mean()"
   ]
  },
  {
   "cell_type": "code",
   "execution_count": 230,
   "id": "d78ce620-f150-4496-b8e5-8675ae743e7f",
   "metadata": {
    "tags": []
   },
   "outputs": [
    {
     "data": {
      "text/plain": [
       "j    999\n",
       "k     70\n",
       "Name: kor, dtype: int64"
      ]
     },
     "execution_count": 230,
     "metadata": {},
     "output_type": "execute_result"
    }
   ],
   "source": [
    "s.nlargest(2)"
   ]
  },
  {
   "cell_type": "code",
   "execution_count": 231,
   "id": "1542940d-0eb2-4717-996b-0c727d9d229a",
   "metadata": {
    "tags": []
   },
   "outputs": [
    {
     "data": {
      "text/plain": [
       "b   -999\n",
       "a     10\n",
       "Name: kor, dtype: int64"
      ]
     },
     "execution_count": 231,
     "metadata": {},
     "output_type": "execute_result"
    }
   ],
   "source": [
    "s.nsmallest(2)"
   ]
  },
  {
   "cell_type": "raw",
   "id": "e594bc2a-2702-45ed-be98-e8c070639830",
   "metadata": {},
   "source": [
    "rank 함수의 경우 method 파라미터에 따라 결과가 조금씩 다르게 나오게 됩니다."
   ]
  },
  {
   "cell_type": "code",
   "execution_count": 232,
   "id": "5e091640-444a-479a-b5cb-3ca3eccdb944",
   "metadata": {
    "tags": []
   },
   "outputs": [
    {
     "data": {
      "text/plain": [
       "a     2.0\n",
       "b     1.0\n",
       "c     3.5\n",
       "d     3.5\n",
       "e     6.0\n",
       "f     6.0\n",
       "g     6.0\n",
       "h     8.0\n",
       "i     9.0\n",
       "j    11.0\n",
       "k    10.0\n",
       "Name: kor, dtype: float64"
      ]
     },
     "execution_count": 232,
     "metadata": {},
     "output_type": "execute_result"
    }
   ],
   "source": [
    "s.rank(method=\"average\")"
   ]
  },
  {
   "cell_type": "raw",
   "id": "584b4f6b-3c0f-4cf7-9136-87e2adf9eb24",
   "metadata": {},
   "source": [
    "method는 average를 할경우 동점인 rank의 평균값을 구하게 됩니다.\n",
    "cd의 경우 두개가 3,4등에 위치하므로 3.5라는 값이 들어가고\n",
    "e,f,g의 경우 5,6,7 등에 위치하므로 6이라는 값이 들어가게 됩니다."
   ]
  },
  {
   "cell_type": "raw",
   "id": "943a1907-6742-4542-a6d6-1dd9492ef8bb",
   "metadata": {},
   "source": [
    "만약 method를 min으로 할경우 최소 rank로 값이 들어가게 됩니다."
   ]
  },
  {
   "cell_type": "code",
   "execution_count": 233,
   "id": "0ee328f4-3f2e-40a2-afaf-3998fb79a2dd",
   "metadata": {
    "tags": []
   },
   "outputs": [
    {
     "data": {
      "text/plain": [
       "a     2.0\n",
       "b     1.0\n",
       "c     3.0\n",
       "d     3.0\n",
       "e     5.0\n",
       "f     5.0\n",
       "g     5.0\n",
       "h     8.0\n",
       "i     9.0\n",
       "j    11.0\n",
       "k    10.0\n",
       "Name: kor, dtype: float64"
      ]
     },
     "execution_count": 233,
     "metadata": {},
     "output_type": "execute_result"
    }
   ],
   "source": [
    "s.rank(method=\"min\")"
   ]
  },
  {
   "cell_type": "raw",
   "id": "4d109ce1-71be-4eb5-88df-94f2f7199f36",
   "metadata": {},
   "source": [
    "위의 예제에서는 c,d가 3으로 들어가고\n",
    "e,f,g 에는 5가 들어가게 됩니다."
   ]
  },
  {
   "cell_type": "code",
   "execution_count": 37,
   "id": "4f84e89e-2086-453b-97d0-e7f112e445ea",
   "metadata": {},
   "outputs": [
    {
     "data": {
      "text/plain": [
       "40.90909090909091"
      ]
     },
     "execution_count": 37,
     "metadata": {},
     "output_type": "execute_result"
    }
   ],
   "source": [
    "s.mean()"
   ]
  },
  {
   "cell_type": "code",
   "execution_count": 38,
   "id": "cb720814-0885-429d-a7d5-67bcf4f48555",
   "metadata": {},
   "outputs": [
    {
     "data": {
      "text/plain": [
       "40.909"
      ]
     },
     "execution_count": 38,
     "metadata": {},
     "output_type": "execute_result"
    }
   ],
   "source": [
    "s.mean().round(3)"
   ]
  },
  {
   "cell_type": "raw",
   "id": "398ef1f0-a348-4b2d-8231-16e936087725",
   "metadata": {},
   "source": [
    "상위 10%에 해당하는 값을 확인하고 싶으면 quantile메소드를 사용하면 됩니다."
   ]
  },
  {
   "cell_type": "code",
   "execution_count": 234,
   "id": "9e05e1f3-4f03-4757-80a1-779b77552f7d",
   "metadata": {
    "tags": []
   },
   "outputs": [
    {
     "data": {
      "text/plain": [
       "10.0"
      ]
     },
     "execution_count": 234,
     "metadata": {},
     "output_type": "execute_result"
    }
   ],
   "source": [
    "s.quantile(.1)"
   ]
  },
  {
   "cell_type": "code",
   "execution_count": 235,
   "id": "ff060bd5-3fc4-4666-8ae0-25c8d45ad835",
   "metadata": {
    "tags": []
   },
   "outputs": [
    {
     "data": {
      "text/plain": [
       "40.0"
      ]
     },
     "execution_count": 235,
     "metadata": {},
     "output_type": "execute_result"
    }
   ],
   "source": [
    "s.quantile(.5)"
   ]
  },
  {
   "cell_type": "code",
   "execution_count": 236,
   "id": "3d5f5e0a-407b-4a03-8ccd-2083a32afceb",
   "metadata": {
    "tags": []
   },
   "outputs": [
    {
     "data": {
      "text/plain": [
       "40.0"
      ]
     },
     "execution_count": 236,
     "metadata": {},
     "output_type": "execute_result"
    }
   ],
   "source": [
    "s.median()"
   ]
  },
  {
   "cell_type": "raw",
   "id": "5df60fab-2ab7-491b-92b3-6e16ae9a9d5a",
   "metadata": {},
   "source": [
    "value_counts()는 포함하고 있는 값의 빈도를 확인하는 메소드입니다."
   ]
  },
  {
   "cell_type": "code",
   "execution_count": 237,
   "id": "3f67628e-0fbb-4498-b465-ca6175bf1dad",
   "metadata": {
    "tags": []
   },
   "outputs": [
    {
     "data": {
      "text/plain": [
       " 40     3\n",
       " 30     2\n",
       " 10     1\n",
       "-999    1\n",
       " 50     1\n",
       " 60     1\n",
       " 999    1\n",
       " 70     1\n",
       "Name: kor, dtype: int64"
      ]
     },
     "execution_count": 237,
     "metadata": {},
     "output_type": "execute_result"
    }
   ],
   "source": [
    "s.value_counts()"
   ]
  },
  {
   "cell_type": "code",
   "execution_count": 238,
   "id": "f767214d-e37f-4df9-b79a-db43a6c5f188",
   "metadata": {
    "tags": []
   },
   "outputs": [
    {
     "data": {
      "text/plain": [
       "pandas.core.series.Series"
      ]
     },
     "execution_count": 238,
     "metadata": {},
     "output_type": "execute_result"
    }
   ],
   "source": [
    "type(s.value_counts())"
   ]
  },
  {
   "cell_type": "raw",
   "id": "263bcc27-f840-48e2-bf48-5ed0df1a74cf",
   "metadata": {},
   "source": [
    "이경우 리턴 값은 해당 시리즈에 있는 고유한 값은 index로 \n",
    "그리고 해당 값의 출현빈도는 value로 하는\n",
    "시리즈 객체를 생성하여 리턴합니다."
   ]
  },
  {
   "cell_type": "raw",
   "id": "7531b765-0004-4beb-8827-e3f93e07886b",
   "metadata": {},
   "source": [
    "unique() 메소드는 해당 시리즈에 있는 값을 중복을 제거하고 나타내는 방법입니다."
   ]
  },
  {
   "cell_type": "code",
   "execution_count": 242,
   "id": "40008f41-51dd-447a-9561-9b46e2a122f3",
   "metadata": {
    "tags": []
   },
   "outputs": [
    {
     "data": {
      "text/plain": [
       "array([  10, -999,   30,   40,   50,   60,  999,   70])"
      ]
     },
     "execution_count": 242,
     "metadata": {},
     "output_type": "execute_result"
    }
   ],
   "source": [
    "s.unique()"
   ]
  },
  {
   "cell_type": "code",
   "execution_count": 243,
   "id": "c533e9d6-f050-42d0-83fe-294a82971ebe",
   "metadata": {
    "tags": []
   },
   "outputs": [
    {
     "data": {
      "text/plain": [
       "numpy.ndarray"
      ]
     },
     "execution_count": 243,
     "metadata": {},
     "output_type": "execute_result"
    }
   ],
   "source": [
    "type(s.unique())"
   ]
  },
  {
   "cell_type": "raw",
   "id": "5065a202-497e-48db-83d6-cb34d1dc6700",
   "metadata": {},
   "source": [
    "s.unique() 메소드의 리턴은 numpy의 ndarray 객체를 반환합니다."
   ]
  },
  {
   "cell_type": "code",
   "execution_count": 44,
   "id": "ce444e14-857c-45c7-ac59-1abe8d9e3764",
   "metadata": {},
   "outputs": [
    {
     "data": {
      "text/plain": [
       "7"
      ]
     },
     "execution_count": 44,
     "metadata": {},
     "output_type": "execute_result"
    }
   ],
   "source": [
    "s.nunique()"
   ]
  },
  {
   "cell_type": "code",
   "execution_count": 45,
   "id": "c0a41b4d-6981-4fec-83da-e93d3530780d",
   "metadata": {},
   "outputs": [
    {
     "data": {
      "text/plain": [
       "11"
      ]
     },
     "execution_count": 45,
     "metadata": {},
     "output_type": "execute_result"
    }
   ],
   "source": [
    "s.size"
   ]
  },
  {
   "cell_type": "code",
   "execution_count": 46,
   "id": "dc72f0c1-f681-40d2-8fc0-2c1dfaea858f",
   "metadata": {},
   "outputs": [
    {
     "data": {
      "text/plain": [
       "11"
      ]
     },
     "execution_count": 46,
     "metadata": {},
     "output_type": "execute_result"
    }
   ],
   "source": [
    "len(s)"
   ]
  },
  {
   "cell_type": "raw",
   "id": "6db1152f-baa1-4aa3-b401-2b1ef34e1e5d",
   "metadata": {},
   "source": [
    "판다스의 시리즈에서는 시각화를 위한 메소드를 포함하고 있습니다.\n",
    "이 메소드를 통해 데이터가 어떤 형태로 분포되어 있는지를 쉽게 확인할 수 있습니다.\n",
    "시각화 메소드를 호출하기 위해서는 matplotlib를 설치해주어야 합니다."
   ]
  },
  {
   "cell_type": "markdown",
   "id": "29297d17-72ff-416f-9eb6-2b4d15e1f0f7",
   "metadata": {},
   "source": [
    "### 시각화를 위하여 matplotlib 설치\n",
    "\n",
    "```bash\n",
    "pip install matplotlib\n",
    "```"
   ]
  },
  {
   "cell_type": "raw",
   "id": "e45f7521-0a5c-4ff3-adb6-8b23c5748901",
   "metadata": {},
   "source": [
    "시각화 예제를 위하여 평균 0, 표준편차 1인 normal distribution 분포를 기반으로\n",
    "랜덤값 100개를 시리즈로 만들어 보겠습니다."
   ]
  },
  {
   "cell_type": "code",
   "execution_count": 271,
   "id": "be6c3db6-117e-47ad-aea3-6ba37c0511fa",
   "metadata": {
    "tags": []
   },
   "outputs": [],
   "source": [
    "s = pd.Series(np.random.randn(100))"
   ]
  },
  {
   "cell_type": "raw",
   "id": "a2510eec-18e8-4b16-ad89-c327bbd10c80",
   "metadata": {},
   "source": [
    "plot() 메소드를 호출하면 각 요소들을 선으로 연결한 결과를 볼 수 있습니다."
   ]
  },
  {
   "cell_type": "code",
   "execution_count": 272,
   "id": "239d42a7-4f46-4ad7-8fd1-8e0d491345b8",
   "metadata": {
    "tags": []
   },
   "outputs": [
    {
     "data": {
      "text/plain": [
       "<Axes: >"
      ]
     },
     "execution_count": 272,
     "metadata": {},
     "output_type": "execute_result"
    },
    {
     "data": {
      "image/png": "[encoded data removed]",
      "text/plain": [
       "<Figure size 640x480 with 1 Axes>"
      ]
     },
     "metadata": {},
     "output_type": "display_data"
    }
   ],
   "source": [
    "s.plot()"
   ]
  },
  {
   "cell_type": "raw",
   "id": "c1c698d3-f413-4e0c-bf55-28d5efddb785",
   "metadata": {},
   "source": [
    "hist() 메소드를 호출하면 해당 데이터 기반으로 histogram을 그려줍니다.\n",
    "bins 파라미터를 활용하여 몇개의 구간으로 나눌지를 설정할 수 있습니다.\n",
    "아래의 예제에서는 10개의 구간으로 나누어서 histogram을 그려줍니다."
   ]
  },
  {
   "cell_type": "code",
   "execution_count": 268,
   "id": "620f7389-1ac3-4526-8750-cedf17849681",
   "metadata": {
    "tags": []
   },
   "outputs": [
    {
     "data": {
      "text/plain": [
       "<Axes: >"
      ]
     },
     "execution_count": 268,
     "metadata": {},
     "output_type": "execute_result"
    },
    {
     "data": {
      "image/png": "[encoded data removed]",
      "text/plain": [
       "<Figure size 640x480 with 1 Axes>"
      ]
     },
     "metadata": {},
     "output_type": "display_data"
    }
   ],
   "source": [
    "s.hist(bins=10)"
   ]
  },
  {
   "cell_type": "raw",
   "id": "c1f5ca81-d739-4459-915b-9773ef1da65e",
   "metadata": {},
   "source": [
    "plot() 메소드를 호출하면서 kind파라미터를 \"kde\"로 하면 \n",
    "Kernel Density Estimation plot 형태로 시각화가 가능합니다."
   ]
  },
  {
   "cell_type": "code",
   "execution_count": 269,
   "id": "5b50c299-9760-43ae-8807-437b172c5b7b",
   "metadata": {
    "tags": []
   },
   "outputs": [
    {
     "data": {
      "text/plain": [
       "<Axes: ylabel='Density'>"
      ]
     },
     "execution_count": 269,
     "metadata": {},
     "output_type": "execute_result"
    },
    {
     "data": {
      "image/png": "[encoded data removed]",
      "text/plain": [
       "<Figure size 640x480 with 1 Axes>"
      ]
     },
     "metadata": {},
     "output_type": "display_data"
    }
   ],
   "source": [
    "s.plot(kind=\"kde\")"
   ]
  },
  {
   "cell_type": "raw",
   "id": "8abe47f8-54a6-49ee-b352-5f20f9940f72",
   "metadata": {},
   "source": [
    "plot() 메소드에서 \"box\" 파리미터를 입력하면\n",
    "해당 데이터의 분포에 대하여 중앙값, 1Q, 3Q 및 min/max outlier를 확인할 수 있는\n",
    "box plot을 시각화 합니다."
   ]
  },
  {
   "cell_type": "code",
   "execution_count": 273,
   "id": "e4bbe150-09c7-4f33-b8d9-9aa1b1932653",
   "metadata": {
    "tags": []
   },
   "outputs": [
    {
     "data": {
      "text/plain": [
       "<Axes: >"
      ]
     },
     "execution_count": 273,
     "metadata": {},
     "output_type": "execute_result"
    },
    {
     "data": {
      "image/png": "[encoded data removed]",
      "text/plain": [
       "<Figure size 640x480 with 1 Axes>"
      ]
     },
     "metadata": {},
     "output_type": "display_data"
    }
   ],
   "source": [
    "s.plot(kind=\"box\")"
   ]
  },
  {
   "cell_type": "markdown",
   "id": "796f4472-13d0-48b1-a001-7b4b989760f0",
   "metadata": {
    "tags": []
   },
   "source": [
    "## concat"
   ]
  },
  {
   "cell_type": "raw",
   "id": "ee172dcf-9842-42b3-aba2-4f3a674e3141",
   "metadata": {},
   "source": [
    "판다스의 concat 메소드를 호출하면 다수개의 Series 객체의 배열을 합칠 수 있습니다."
   ]
  },
  {
   "cell_type": "code",
   "execution_count": 275,
   "id": "94fc67ac-8650-420f-847d-f98024284ac5",
   "metadata": {
    "tags": []
   },
   "outputs": [
    {
     "data": {
      "text/plain": [
       "A    10\n",
       "B    20\n",
       "C    30\n",
       "B     5\n",
       "C    15\n",
       "D    25\n",
       "dtype: int64"
      ]
     },
     "execution_count": 275,
     "metadata": {},
     "output_type": "execute_result"
    }
   ],
   "source": [
    "\"\"\"\n",
    "concat\n",
    "\"\"\"\n",
    "import pandas as pd\n",
    "\n",
    "# Series 생성\n",
    "s1 = pd.Series([10, 20, 30], index=['A', 'B', 'C'])\n",
    "s2 = pd.Series([5, 15, 25], index=['B', 'C', 'D'])\n",
    "\n",
    "s3 = pd.concat([s1, s2])\n",
    "s3"
   ]
  },
  {
   "cell_type": "code",
   "execution_count": null,
   "id": "1a7fe158-b2e8-4011-b184-5a26b467e60d",
   "metadata": {},
   "outputs": [],
   "source": [
    "판다스의 `Series` 객체에는 name 속성을 가지고 있는데,\n",
    "name 속성은 향후 `DataFrame`을 생성할때 `column 이름`으로 활용됩니다.\n"
   ]
  },
  {
   "cell_type": "markdown",
   "id": "bcc76e13-5dbe-4cdb-9aa6-353af0a5bb9b",
   "metadata": {},
   "source": [
    "## Series의 이름과 설정 변경\n",
    "\n",
    "`Series` 의 이름은 `DataFrame`으로 생성시 `column 이름`으로 활용됨"
   ]
  },
  {
   "cell_type": "raw",
   "id": "914f5293-8dbd-4ce2-8b48-25bd225c02c6",
   "metadata": {},
   "source": [
    "시리즈의 이름은 시리즈 객체를 생성할때 name 파라미터를 넣어주는 방법도 있고"
   ]
  },
  {
   "cell_type": "code",
   "execution_count": 281,
   "id": "b8c0da70-de72-4303-9d5d-e74cca0d6bb6",
   "metadata": {
    "tags": []
   },
   "outputs": [
    {
     "name": "stdout",
     "output_type": "stream",
     "text": [
      "A    10\n",
      "B    20\n",
      "C    30\n",
      "D    40\n",
      "E    50\n",
      "Name: ExampleData, dtype: int64\n"
     ]
    }
   ],
   "source": [
    "\"\"\"\n",
    "Series의 이름 설정 및 변경:\n",
    "\"\"\"\n",
    "import pandas as pd\n",
    "\n",
    "# Series 생성\n",
    "data = [10, 20, 30, 40, 50]\n",
    "index = ['A', 'B', 'C', 'D', 'E']\n",
    "s = pd.Series(data,  index=index, name = 'ExampleData')\n",
    "print(s)"
   ]
  },
  {
   "cell_type": "raw",
   "id": "73b71500-4707-4118-b952-3a63128f96fe",
   "metadata": {},
   "source": [
    "시리즈 객체를 생성한 다음에 name 속성을 변경해주는 방법도 있습니다."
   ]
  },
  {
   "cell_type": "code",
   "execution_count": 280,
   "id": "ce7c77c6-3f79-40ba-a32f-e45ed6b529ff",
   "metadata": {
    "tags": []
   },
   "outputs": [
    {
     "name": "stdout",
     "output_type": "stream",
     "text": [
      "A    10\n",
      "B    20\n",
      "C    30\n",
      "D    40\n",
      "E    50\n",
      "Name: SampleData, dtype: int64\n"
     ]
    }
   ],
   "source": [
    "\"\"\"\n",
    "Series의 이름 설정 및 변경:\n",
    "\"\"\"\n",
    "import pandas as pd\n",
    "\n",
    "# Series 생성\n",
    "data = [10, 20, 30, 40, 50]\n",
    "index = ['A', 'B', 'C', 'D', 'E']\n",
    "s = pd.Series(data,  index=index )\n",
    "\n",
    "# Series 이름 설정\n",
    "s.name = 'SampleData'\n",
    "print(s)\n"
   ]
  },
  {
   "cell_type": "raw",
   "id": "99d14afd-31ba-4d2c-9c56-1649901ebbc8",
   "metadata": {},
   "source": [
    "이것으로 이번 시간을 마치도록 하겠습니다. \n",
    "수고하셨습니다."
   ]
  }
 ],
 "metadata": {
  "kernelspec": {
   "display_name": "Python 3 (ipykernel)",
   "language": "python",
   "name": "python3"
  },
  "language_info": {
   "codemirror_mode": {
    "name": "ipython",
    "version": 3
   },
   "file_extension": ".py",
   "mimetype": "text/x-python",
   "name": "python",
   "nbconvert_exporter": "python",
   "pygments_lexer": "ipython3",
   "version": "3.9.1"
  }
 },
 "nbformat": 4,
 "nbformat_minor": 5
}
