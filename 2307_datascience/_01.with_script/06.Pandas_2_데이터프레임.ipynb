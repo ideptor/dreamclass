{
 "cells": [
  {
   "cell_type": "raw",
   "id": "4efe19e6-cfbc-4871-ae9c-b96bc0da93db",
   "metadata": {},
   "source": [
    "안녕하세요.\n",
    "이번시간에는 xxx 에 대해서 알아보도록 하겠습니다."
   ]
  },
  {
   "cell_type": "markdown",
   "id": "7df1af8c-631f-4ea3-ba28-3ce823e7fa50",
   "metadata": {},
   "source": [
    "# Pandas DataFrame\n",
    "- DataFrame 생성\n",
    "- column 변경\n",
    "- element 접근\n",
    "- 필터링 / 슬라이싱 / 정렬\n",
    "- 데이터 변경 / 추가 / 삭제\n",
    "- 통계\n",
    "- 시각화"
   ]
  },
  {
   "cell_type": "raw",
   "id": "a93ffd09-35bf-4609-beeb-10c4935f54ea",
   "metadata": {},
   "source": [
    "판다스의 DataFrame은 2차원 테이블 형태의 데이터 구조로, 행과 열로 이루어져 있습니다.\n",
    "DataFrame은 여러 개의 Series로 구성되어 있으며, 각 Series는 하나의 열(column)을 나타냅니다.\n",
    "DataFrame은 여러 데이터 타입을 포함할 수 있으며, 각 열은 서로 다른 데이터 타입을 가질 수 있습니다."
   ]
  },
  {
   "cell_type": "markdown",
   "id": "da952dc3-7100-4d84-9d4b-7ddef56f7102",
   "metadata": {},
   "source": [
    "# DataFrame \n",
    "\n",
    "- DataFrame은 `2차원 테이블 형태`의 데이터 구조로, `행`과 `열`로 이루어져 있습니다. \n",
    "- DataFrame은 `여러 개의 Series`로 구성되어 있으며, 각 `Series`는 하나의 `열(column)`을 나타냅니다. \n",
    "- DataFrame은 여러 데이터 타입을 포함할 수 있으며, 각 열은 서로 다른 데이터 타입을 가질 수 있습니다."
   ]
  },
  {
   "cell_type": "raw",
   "id": "a57c3a08-86d6-48f2-a2e1-dc29d6f31ad5",
   "metadata": {},
   "source": [
    "데이터 프레임을 생성하는 방법에는 여러가지 방법이 있습니다.\n",
    "\n",
    "그 중 대표적인 방법들을 예제를 통해 확인해보도록 하고\n",
    "주의해야 할 점들에 대해서도 살펴보도록 하겠습니다."
   ]
  },
  {
   "cell_type": "markdown",
   "id": "dac4e79f-f007-413a-9d56-f79272734545",
   "metadata": {},
   "source": [
    "## 하나의 Series를 데이터 프레임으로 변환"
   ]
  },
  {
   "cell_type": "raw",
   "id": "f4f93677-a056-4b3a-8206-ef9b948ff24e",
   "metadata": {},
   "source": [
    "우선 하나의 시리즈를 데이터 프레임으로 변환하는 방식에 대해서 알아보겠습니다."
   ]
  },
  {
   "cell_type": "code",
   "execution_count": 3,
   "id": "86cf96c6-d75b-46f3-b579-7c3042de9ecf",
   "metadata": {
    "tags": []
   },
   "outputs": [
    {
     "name": "stdout",
     "output_type": "stream",
     "text": [
      "name\n",
      "A    1\n",
      "B    2\n",
      "C    3\n",
      "Name: grade, dtype: int64\n"
     ]
    }
   ],
   "source": [
    "import pandas as pd\n",
    "s = pd.Series([1,2,3], index=list(\"ABC\"))\n",
    "s.name = \"grade\"\n",
    "s.index.name = \"name\"\n",
    "print(s)"
   ]
  },
  {
   "cell_type": "raw",
   "id": "d05b5e4c-b021-4263-a97c-47682f37bdf4",
   "metadata": {},
   "source": [
    "시리즈의 to_frame() 메소드로 데이터 프레임을 만들 수 있습니다."
   ]
  },
  {
   "cell_type": "code",
   "execution_count": 4,
   "id": "59c33441-d0a1-4c16-8f86-65b7cf14686a",
   "metadata": {
    "tags": []
   },
   "outputs": [
    {
     "name": "stdout",
     "output_type": "stream",
     "text": [
      "<class 'pandas.core.frame.DataFrame'>\n",
      "----\n"
     ]
    },
    {
     "data": {
      "text/html": [
       "<div>\n",
       "<style scoped>\n",
       "    .dataframe tbody tr th:only-of-type {\n",
       "        vertical-align: middle;\n",
       "    }\n",
       "\n",
       "    .dataframe tbody tr th {\n",
       "        vertical-align: top;\n",
       "    }\n",
       "\n",
       "    .dataframe thead th {\n",
       "        text-align: right;\n",
       "    }\n",
       "</style>\n",
       "<table border=\"1\" class=\"dataframe\">\n",
       "  <thead>\n",
       "    <tr style=\"text-align: right;\">\n",
       "      <th></th>\n",
       "      <th>grade</th>\n",
       "    </tr>\n",
       "    <tr>\n",
       "      <th>name</th>\n",
       "      <th></th>\n",
       "    </tr>\n",
       "  </thead>\n",
       "  <tbody>\n",
       "    <tr>\n",
       "      <th>A</th>\n",
       "      <td>1</td>\n",
       "    </tr>\n",
       "    <tr>\n",
       "      <th>B</th>\n",
       "      <td>2</td>\n",
       "    </tr>\n",
       "    <tr>\n",
       "      <th>C</th>\n",
       "      <td>3</td>\n",
       "    </tr>\n",
       "  </tbody>\n",
       "</table>\n",
       "</div>"
      ],
      "text/plain": [
       "      grade\n",
       "name       \n",
       "A         1\n",
       "B         2\n",
       "C         3"
      ]
     },
     "execution_count": 4,
     "metadata": {},
     "output_type": "execute_result"
    }
   ],
   "source": [
    "# to_frame() 활용\n",
    "print(type(s.to_frame()), end=\"\\n----\\n\")\n",
    "s.to_frame()"
   ]
  },
  {
   "cell_type": "raw",
   "id": "1fab7491-d91f-48bb-8618-f575ee74292b",
   "metadata": {},
   "source": [
    "위의 예제에서 보면 to_frame()을 호출할 경우 그 결과는 데이터 프레임으로 나오는것을 확인할 수 있습니다.\n",
    "이때 시리즈에서의 index는 index의 이름인 \"name\"이 그대로 유지되며 \n",
    "column 이름은 해당 시리즈의 이름인 \"grade\"로 명명된 것을 확인할 수 있습니다."
   ]
  },
  {
   "cell_type": "raw",
   "id": "1b8422ec-b882-43b5-8bd2-8a0c90a9d71b",
   "metadata": {},
   "source": [
    "이번에는 reset_index()를 호출한 경우입니다."
   ]
  },
  {
   "cell_type": "code",
   "execution_count": 5,
   "id": "b651d5c4-ede6-43f5-a973-6e40acd7cc6f",
   "metadata": {
    "tags": []
   },
   "outputs": [
    {
     "data": {
      "text/html": [
       "<div>\n",
       "<style scoped>\n",
       "    .dataframe tbody tr th:only-of-type {\n",
       "        vertical-align: middle;\n",
       "    }\n",
       "\n",
       "    .dataframe tbody tr th {\n",
       "        vertical-align: top;\n",
       "    }\n",
       "\n",
       "    .dataframe thead th {\n",
       "        text-align: right;\n",
       "    }\n",
       "</style>\n",
       "<table border=\"1\" class=\"dataframe\">\n",
       "  <thead>\n",
       "    <tr style=\"text-align: right;\">\n",
       "      <th></th>\n",
       "      <th>name</th>\n",
       "      <th>grade</th>\n",
       "    </tr>\n",
       "  </thead>\n",
       "  <tbody>\n",
       "    <tr>\n",
       "      <th>0</th>\n",
       "      <td>A</td>\n",
       "      <td>1</td>\n",
       "    </tr>\n",
       "    <tr>\n",
       "      <th>1</th>\n",
       "      <td>B</td>\n",
       "      <td>2</td>\n",
       "    </tr>\n",
       "    <tr>\n",
       "      <th>2</th>\n",
       "      <td>C</td>\n",
       "      <td>3</td>\n",
       "    </tr>\n",
       "  </tbody>\n",
       "</table>\n",
       "</div>"
      ],
      "text/plain": [
       "  name  grade\n",
       "0    A      1\n",
       "1    B      2\n",
       "2    C      3"
      ]
     },
     "execution_count": 5,
     "metadata": {},
     "output_type": "execute_result"
    }
   ],
   "source": [
    "# reset_index() 활용\n",
    "s.reset_index()"
   ]
  },
  {
   "cell_type": "raw",
   "id": "1fd99112-5b0b-40a4-a003-420d111056d0",
   "metadata": {},
   "source": [
    "reset_index()를 호출 할 경우 기존의 index였던 내용들이 \"name\"이라는 기존 인덱스의 이름으로 컬럼이 되었고\n",
    "기존의 값에 해당하는 내용들은 시리즈의 이름인 \"grade\" 라는 이름의 칼럼으로 생성되어 들어 간 것을 확인할 수 있습니다.\n",
    "그리고 데이터 프레임의 인덱스는 자동 증가되는 숫자로 설정 된 것을 확인할 수 있습니다."
   ]
  },
  {
   "cell_type": "markdown",
   "id": "a2baac7b-ec74-402b-986e-c46c032e4505",
   "metadata": {},
   "source": [
    "## Series를 pd.concat으로 결합하는 방법"
   ]
  },
  {
   "cell_type": "raw",
   "id": "ec55cfa8-64d5-48f3-9638-f0833c648797",
   "metadata": {},
   "source": [
    "우선 판다스 시리즈를 활용한 데이터프레임 생성방식입니다.\n",
    "각 시리즈를 열로 하는 데이터 프레임을 만들기 위해서는 \n",
    "pandas의 concat 메소드를 활용하면 됩니다.\n",
    "이때 axis=1 파라미터를 꼭 넣어주어야 하는데 \n",
    "이는 시리즈 객체를 열(column) 방향으로 결합하라는 의미입니다."
   ]
  },
  {
   "cell_type": "code",
   "execution_count": 6,
   "id": "28ab1ef9-28de-4148-9a4b-65074995a1a6",
   "metadata": {
    "tags": []
   },
   "outputs": [
    {
     "data": {
      "text/html": [
       "<div>\n",
       "<style scoped>\n",
       "    .dataframe tbody tr th:only-of-type {\n",
       "        vertical-align: middle;\n",
       "    }\n",
       "\n",
       "    .dataframe tbody tr th {\n",
       "        vertical-align: top;\n",
       "    }\n",
       "\n",
       "    .dataframe thead th {\n",
       "        text-align: right;\n",
       "    }\n",
       "</style>\n",
       "<table border=\"1\" class=\"dataframe\">\n",
       "  <thead>\n",
       "    <tr style=\"text-align: right;\">\n",
       "      <th></th>\n",
       "      <th>Name</th>\n",
       "      <th>Age</th>\n",
       "      <th>Score</th>\n",
       "    </tr>\n",
       "  </thead>\n",
       "  <tbody>\n",
       "    <tr>\n",
       "      <th>0</th>\n",
       "      <td>Alice</td>\n",
       "      <td>25</td>\n",
       "      <td>85.5</td>\n",
       "    </tr>\n",
       "    <tr>\n",
       "      <th>1</th>\n",
       "      <td>Bob</td>\n",
       "      <td>30</td>\n",
       "      <td>92.0</td>\n",
       "    </tr>\n",
       "    <tr>\n",
       "      <th>2</th>\n",
       "      <td>Charlie</td>\n",
       "      <td>35</td>\n",
       "      <td>78.5</td>\n",
       "    </tr>\n",
       "  </tbody>\n",
       "</table>\n",
       "</div>"
      ],
      "text/plain": [
       "      Name  Age  Score\n",
       "0    Alice   25   85.5\n",
       "1      Bob   30   92.0\n",
       "2  Charlie   35   78.5"
      ]
     },
     "execution_count": 6,
     "metadata": {},
     "output_type": "execute_result"
    }
   ],
   "source": [
    "\"\"\"\n",
    "판다스 시리즈를 활용한 데이터프레임 생성\n",
    "\"\"\"\n",
    "import pandas as pd\n",
    "\n",
    "# 시리즈 생성\n",
    "names = pd.Series(['Alice', 'Bob', 'Charlie'], name=\"Name\")\n",
    "ages = pd.Series([25, 30, 35], name=\"Age\")\n",
    "scores = pd.Series([85.5, 92.0, 78.5], name=\"Score\")\n",
    "\n",
    "# 시리즈들을 열방향으로 결합하여 데이터프레임 생성\n",
    "df = pd.concat([names, ages, scores], axis=1)\n",
    "df"
   ]
  },
  {
   "cell_type": "raw",
   "id": "3136858e-3573-4e09-95f8-e080d956bd00",
   "metadata": {
    "tags": []
   },
   "source": [
    "여기서 주의해야 할 점은\n",
    "만약 axis 파리미터를 넣지 않으면 이 파라미터의 default는 0,\n",
    "즉 행방향 이므로 아래와 같은 결과가 나오게 됩니다."
   ]
  },
  {
   "cell_type": "code",
   "execution_count": 7,
   "id": "504d8d9a-c3c5-4d20-94bc-d32373ea9db7",
   "metadata": {
    "tags": []
   },
   "outputs": [
    {
     "data": {
      "text/plain": [
       "0      Alice\n",
       "1        Bob\n",
       "2    Charlie\n",
       "0         25\n",
       "1         30\n",
       "2         35\n",
       "0       85.5\n",
       "1       92.0\n",
       "2       78.5\n",
       "dtype: object"
      ]
     },
     "execution_count": 7,
     "metadata": {},
     "output_type": "execute_result"
    }
   ],
   "source": [
    "# 시리즈를 행 방향으로 결함\n",
    "pd.concat([names, ages, scores])"
   ]
  },
  {
   "cell_type": "code",
   "execution_count": 8,
   "id": "195d1686-2acb-4a4c-b195-f136bd6a9a10",
   "metadata": {
    "tags": []
   },
   "outputs": [
    {
     "data": {
      "text/plain": [
       "pandas.core.series.Series"
      ]
     },
     "execution_count": 8,
     "metadata": {},
     "output_type": "execute_result"
    }
   ],
   "source": [
    "type(pd.concat([names, ages, scores]))"
   ]
  },
  {
   "cell_type": "raw",
   "id": "2053d97a-2492-4b5c-acc4-87feaec8844a",
   "metadata": {},
   "source": [
    "그리고 series를 행방향으로 결합한 경우\n",
    "그 결과는 데이터 프레임이 아닌 시리즈가 나오게 됩니다."
   ]
  },
  {
   "cell_type": "markdown",
   "id": "cb0f1f62-17f8-4faf-ba01-1b56cb3921a6",
   "metadata": {},
   "source": [
    "## 딕셔너리를 활용하는 방법"
   ]
  },
  {
   "cell_type": "raw",
   "id": "ac5128e5-a1a6-45de-96a6-a3d50f340f59",
   "metadata": {},
   "source": [
    "그다음은 배열 값으로 가지는 딕셔너리를 활용하여 데이터 프레임을 생성하는 방법입니다.\n",
    "이 경우 딕셔너리의 각 key는 컬럼 이름이 되고\n",
    "각 key에 해당 하는 series는"
   ]
  },
  {
   "cell_type": "code",
   "execution_count": 9,
   "id": "f0b5d2ed-7ce2-436b-a8e1-e417262ad365",
   "metadata": {
    "tags": []
   },
   "outputs": [
    {
     "data": {
      "text/html": [
       "<div>\n",
       "<style scoped>\n",
       "    .dataframe tbody tr th:only-of-type {\n",
       "        vertical-align: middle;\n",
       "    }\n",
       "\n",
       "    .dataframe tbody tr th {\n",
       "        vertical-align: top;\n",
       "    }\n",
       "\n",
       "    .dataframe thead th {\n",
       "        text-align: right;\n",
       "    }\n",
       "</style>\n",
       "<table border=\"1\" class=\"dataframe\">\n",
       "  <thead>\n",
       "    <tr style=\"text-align: right;\">\n",
       "      <th></th>\n",
       "      <th>Name</th>\n",
       "      <th>Age</th>\n",
       "      <th>Score</th>\n",
       "    </tr>\n",
       "  </thead>\n",
       "  <tbody>\n",
       "    <tr>\n",
       "      <th>0</th>\n",
       "      <td>Alice</td>\n",
       "      <td>25</td>\n",
       "      <td>85.5</td>\n",
       "    </tr>\n",
       "    <tr>\n",
       "      <th>1</th>\n",
       "      <td>Bob</td>\n",
       "      <td>30</td>\n",
       "      <td>92.0</td>\n",
       "    </tr>\n",
       "    <tr>\n",
       "      <th>2</th>\n",
       "      <td>Charlie</td>\n",
       "      <td>35</td>\n",
       "      <td>78.5</td>\n",
       "    </tr>\n",
       "  </tbody>\n",
       "</table>\n",
       "</div>"
      ],
      "text/plain": [
       "      Name  Age  Score\n",
       "0    Alice   25   85.5\n",
       "1      Bob   30   92.0\n",
       "2  Charlie   35   78.5"
      ]
     },
     "execution_count": 9,
     "metadata": {},
     "output_type": "execute_result"
    }
   ],
   "source": [
    "\"\"\"\n",
    "판다스 시리즈를 활용한 데이터프레임 생성 2\n",
    "\"\"\"\n",
    "import pandas as pd\n",
    "\n",
    "# 시리즈 생성\n",
    "names = pd.Series(['Alice', 'Bob', 'Charlie'])\n",
    "ages = pd.Series([25, 30, 35])\n",
    "scores = pd.Series([85.5, 92.0, 78.5])\n",
    "\n",
    "# 데이터프레임 생성 (열 이름을 지정)\n",
    "df = pd.DataFrame({\n",
    "    'Name': names,\n",
    "    'Age': ages,\n",
    "    'Score': scores\n",
    "})\n",
    "df"
   ]
  },
  {
   "cell_type": "raw",
   "id": "232e7f36-7622-4693-8846-fb8fed5a4f91",
   "metadata": {},
   "source": [
    "그다음은 배열을 값으로 가지는 딕셔너리를 활용하여 데이터 프레임을 생성하는 방법입니다."
   ]
  },
  {
   "cell_type": "code",
   "execution_count": 10,
   "id": "0a382b0a-aaa3-4abc-b5c5-053b7de0184a",
   "metadata": {
    "tags": []
   },
   "outputs": [
    {
     "data": {
      "text/html": [
       "<div>\n",
       "<style scoped>\n",
       "    .dataframe tbody tr th:only-of-type {\n",
       "        vertical-align: middle;\n",
       "    }\n",
       "\n",
       "    .dataframe tbody tr th {\n",
       "        vertical-align: top;\n",
       "    }\n",
       "\n",
       "    .dataframe thead th {\n",
       "        text-align: right;\n",
       "    }\n",
       "</style>\n",
       "<table border=\"1\" class=\"dataframe\">\n",
       "  <thead>\n",
       "    <tr style=\"text-align: right;\">\n",
       "      <th></th>\n",
       "      <th>Name</th>\n",
       "      <th>Age</th>\n",
       "      <th>Score</th>\n",
       "    </tr>\n",
       "  </thead>\n",
       "  <tbody>\n",
       "    <tr>\n",
       "      <th>0</th>\n",
       "      <td>Alice</td>\n",
       "      <td>25</td>\n",
       "      <td>85.5</td>\n",
       "    </tr>\n",
       "    <tr>\n",
       "      <th>1</th>\n",
       "      <td>Bob</td>\n",
       "      <td>30</td>\n",
       "      <td>92.0</td>\n",
       "    </tr>\n",
       "    <tr>\n",
       "      <th>2</th>\n",
       "      <td>Charlie</td>\n",
       "      <td>35</td>\n",
       "      <td>78.5</td>\n",
       "    </tr>\n",
       "  </tbody>\n",
       "</table>\n",
       "</div>"
      ],
      "text/plain": [
       "      Name  Age  Score\n",
       "0    Alice   25   85.5\n",
       "1      Bob   30   92.0\n",
       "2  Charlie   35   78.5"
      ]
     },
     "execution_count": 10,
     "metadata": {},
     "output_type": "execute_result"
    }
   ],
   "source": [
    "\"\"\"\n",
    "딕셔너리를 활용한 데이터프레임 생성:\n",
    "\"\"\"\n",
    "import pandas as pd\n",
    "\n",
    "# 딕셔너리를 사용하여 데이터프레임 생성\n",
    "data = {\n",
    "    'Name': ['Alice', 'Bob', 'Charlie'], # 열\n",
    "    'Age': [25, 30, 35],                 # 열\n",
    "    'Score': [85.5, 92.0, 78.5]          # 열\n",
    "}\n",
    "\n",
    "df = pd.DataFrame(data)\n",
    "df"
   ]
  },
  {
   "cell_type": "raw",
   "id": "db8ff742-55b8-4e86-8018-d7807fc2e88a",
   "metadata": {},
   "source": [
    "위의 예제에서 보면 딕셔너리의 각 키의 값에 매핑되는 배열은 column 으로 생성이 되었고,\n",
    "각 컬럼의 이름은 Name, Age, Score 등 딕셔너리의 키 값으로 채워져 있는 것을 확인할 수 있습니다."
   ]
  },
  {
   "cell_type": "markdown",
   "id": "6dd65cd5-8ac5-40ee-9a38-aaa3a1edc70a",
   "metadata": {},
   "source": [
    "## 배열을 활용하는 방법"
   ]
  },
  {
   "cell_type": "raw",
   "id": "9fe571dc-aeef-45d7-aa34-6a8f4a88ea2a",
   "metadata": {},
   "source": [
    "위의 예에서 볼 수 있듯이,\n",
    "DataFrame 생성자의 가장 처음 파리미터, 즉 data 파라미터에 시리즈, ndarray객체, 파이썬 기본 리스트 등\n",
    "배열의 형태의 데이터를 넣게 되면\n",
    "해당 배열의 요소는 생성되는 DataFrame의 각 행에 매핑이 되게 됩니다."
   ]
  },
  {
   "cell_type": "raw",
   "id": "8cc52fd9-1b48-4346-ab87-22760d042e49",
   "metadata": {},
   "source": [
    "우선 딕셔너리를 요소로가지는 리스트를 활용하는 방식입니다.\n",
    "이 경우 각 딕셔너리는 행으로 삽입되며 딕셔너리의 키 값을 기준으로 해당 되는 열에 매핑이 됩니다."
   ]
  },
  {
   "cell_type": "code",
   "execution_count": 11,
   "id": "5c5e81d5-439d-4fe7-8825-271cbe1c8427",
   "metadata": {
    "tags": []
   },
   "outputs": [
    {
     "data": {
      "text/html": [
       "<div>\n",
       "<style scoped>\n",
       "    .dataframe tbody tr th:only-of-type {\n",
       "        vertical-align: middle;\n",
       "    }\n",
       "\n",
       "    .dataframe tbody tr th {\n",
       "        vertical-align: top;\n",
       "    }\n",
       "\n",
       "    .dataframe thead th {\n",
       "        text-align: right;\n",
       "    }\n",
       "</style>\n",
       "<table border=\"1\" class=\"dataframe\">\n",
       "  <thead>\n",
       "    <tr style=\"text-align: right;\">\n",
       "      <th></th>\n",
       "      <th>name</th>\n",
       "      <th>Age</th>\n",
       "      <th>Score</th>\n",
       "      <th>Gender</th>\n",
       "    </tr>\n",
       "  </thead>\n",
       "  <tbody>\n",
       "    <tr>\n",
       "      <th>0</th>\n",
       "      <td>Alice</td>\n",
       "      <td>25</td>\n",
       "      <td>85.5</td>\n",
       "      <td>NaN</td>\n",
       "    </tr>\n",
       "    <tr>\n",
       "      <th>1</th>\n",
       "      <td>Bob</td>\n",
       "      <td>30</td>\n",
       "      <td>92.0</td>\n",
       "      <td>NaN</td>\n",
       "    </tr>\n",
       "    <tr>\n",
       "      <th>2</th>\n",
       "      <td>Charlie</td>\n",
       "      <td>35</td>\n",
       "      <td>78.5</td>\n",
       "      <td>Male</td>\n",
       "    </tr>\n",
       "  </tbody>\n",
       "</table>\n",
       "</div>"
      ],
      "text/plain": [
       "      name  Age  Score Gender\n",
       "0    Alice   25   85.5    NaN\n",
       "1      Bob   30   92.0    NaN\n",
       "2  Charlie   35   78.5   Male"
      ]
     },
     "execution_count": 11,
     "metadata": {},
     "output_type": "execute_result"
    }
   ],
   "source": [
    "\"\"\"\n",
    "딕셔너리의 리스트를 활용한 데이터프레임 생성:\n",
    "\"\"\"\n",
    "import pandas as pd\n",
    "\n",
    "# 리스트의 리스트를 사용하여 데이터프레임 생성\n",
    "data = [\n",
    "    {'name':'Alice', 'Age':25, 'Score':85.5},\n",
    "    {'name':'Bob', 'Age':30, 'Score':92.0},\n",
    "    {'name':'Charlie', 'Age':35, 'Score':78.5, \"Gender\":\"Male\"}\n",
    "]\n",
    "\n",
    "df = pd.DataFrame(data)\n",
    "df\n",
    "    "
   ]
  },
  {
   "cell_type": "raw",
   "id": "043a64b0-7d42-4932-8f3c-587643636871",
   "metadata": {},
   "source": [
    "이 경우 딕셔너리별로 포함하고 있는 키가 다른 경우에 적합한 방식으로 처리를 해줍니다.\n",
    "예를 들어 Gender 키는 2번 행에 해당 하는 딕셔너리에만 있었는데,\n",
    "0번 1번 행의 경우 해당 키가 없으므로 NaN으로 채워넣게 됩니다."
   ]
  },
  {
   "cell_type": "code",
   "execution_count": 12,
   "id": "4b7461a9-77cf-4274-b180-1fac54bee7d4",
   "metadata": {
    "tags": []
   },
   "outputs": [
    {
     "name": "stdout",
     "output_type": "stream",
     "text": [
      "<class 'pandas.core.frame.DataFrame'>\n",
      "RangeIndex: 3 entries, 0 to 2\n",
      "Data columns (total 4 columns):\n",
      " #   Column  Non-Null Count  Dtype  \n",
      "---  ------  --------------  -----  \n",
      " 0   name    3 non-null      object \n",
      " 1   Age     3 non-null      int64  \n",
      " 2   Score   3 non-null      float64\n",
      " 3   Gender  1 non-null      object \n",
      "dtypes: float64(1), int64(1), object(2)\n",
      "memory usage: 224.0+ bytes\n"
     ]
    }
   ],
   "source": [
    "df.info()"
   ]
  },
  {
   "cell_type": "raw",
   "id": "d78f039e-faf2-477e-9577-fa25732d3cc8",
   "metadata": {},
   "source": [
    "df.info()를 통해서 확인해보면\n",
    "각 column 에 대해서 자동으로 데이터 타입이 설정 된 것을 확인할 수 있습니다."
   ]
  },
  {
   "cell_type": "raw",
   "id": "80bf9ce8-fff7-4ab5-b81a-92ebbfb9804a",
   "metadata": {},
   "source": [
    "다음은 리스트를 요소로 가지는 리스트를 활용하는 방식입니다."
   ]
  },
  {
   "cell_type": "code",
   "execution_count": 13,
   "id": "d4f0912b-368c-499a-aaf0-fc7377ccf0a9",
   "metadata": {
    "tags": []
   },
   "outputs": [
    {
     "data": {
      "text/html": [
       "<div>\n",
       "<style scoped>\n",
       "    .dataframe tbody tr th:only-of-type {\n",
       "        vertical-align: middle;\n",
       "    }\n",
       "\n",
       "    .dataframe tbody tr th {\n",
       "        vertical-align: top;\n",
       "    }\n",
       "\n",
       "    .dataframe thead th {\n",
       "        text-align: right;\n",
       "    }\n",
       "</style>\n",
       "<table border=\"1\" class=\"dataframe\">\n",
       "  <thead>\n",
       "    <tr style=\"text-align: right;\">\n",
       "      <th></th>\n",
       "      <th>0</th>\n",
       "      <th>1</th>\n",
       "      <th>2</th>\n",
       "    </tr>\n",
       "  </thead>\n",
       "  <tbody>\n",
       "    <tr>\n",
       "      <th>0</th>\n",
       "      <td>Alice</td>\n",
       "      <td>25</td>\n",
       "      <td>85.5</td>\n",
       "    </tr>\n",
       "    <tr>\n",
       "      <th>1</th>\n",
       "      <td>Bob</td>\n",
       "      <td>30</td>\n",
       "      <td>92.0</td>\n",
       "    </tr>\n",
       "    <tr>\n",
       "      <th>2</th>\n",
       "      <td>Charlie</td>\n",
       "      <td>35</td>\n",
       "      <td>78.5</td>\n",
       "    </tr>\n",
       "  </tbody>\n",
       "</table>\n",
       "</div>"
      ],
      "text/plain": [
       "         0   1     2\n",
       "0    Alice  25  85.5\n",
       "1      Bob  30  92.0\n",
       "2  Charlie  35  78.5"
      ]
     },
     "execution_count": 13,
     "metadata": {},
     "output_type": "execute_result"
    }
   ],
   "source": [
    "\"\"\"\n",
    "리스트의 리스트를 활용한 데이터프레임 생성:\\\n",
    "\"\"\"\n",
    "import pandas as pd\n",
    "\n",
    "# 리스트의 리스트를 사용하여 데이터프레임 생성\n",
    "data = [\n",
    "    ['Alice', 25, 85.5],  # 행\n",
    "    ['Bob', 30, 92.0],    # 행\n",
    "    ['Charlie', 35, 78.5] # 행\n",
    "]\n",
    "\n",
    "df = pd.DataFrame(data)\n",
    "df"
   ]
  },
  {
   "cell_type": "raw",
   "id": "365373ed-94e3-4e56-a871-bcdc9c6d7283",
   "metadata": {},
   "source": [
    "생성된 데이터 프레임을 살펴 보면\n",
    "이 경우 각 리스트는 데이터프레임의 각 행으로 매핑되는 것을 확인할 수 있습니다.\n",
    "그리고 각 열에 대한 이름 정보를 알려주지 않았기 때문에\n",
    "컬럼명은 0, 1, 2로 자동 증가하는 숫자로 기입이 되어 있습니다."
   ]
  },
  {
   "cell_type": "raw",
   "id": "fc550eea-a23d-420c-983c-682ce1da81c8",
   "metadata": {},
   "source": [
    "만약 column의 이름을 부여하고 싶다면,\n",
    "생성된 데이터프레임의 columns 속성에 컬럼이름을 입력하거나"
   ]
  },
  {
   "cell_type": "code",
   "execution_count": 14,
   "id": "0600dc05-53a6-4664-bf60-e3e57ded59a9",
   "metadata": {
    "tags": []
   },
   "outputs": [
    {
     "data": {
      "text/html": [
       "<div>\n",
       "<style scoped>\n",
       "    .dataframe tbody tr th:only-of-type {\n",
       "        vertical-align: middle;\n",
       "    }\n",
       "\n",
       "    .dataframe tbody tr th {\n",
       "        vertical-align: top;\n",
       "    }\n",
       "\n",
       "    .dataframe thead th {\n",
       "        text-align: right;\n",
       "    }\n",
       "</style>\n",
       "<table border=\"1\" class=\"dataframe\">\n",
       "  <thead>\n",
       "    <tr style=\"text-align: right;\">\n",
       "      <th></th>\n",
       "      <th>Name</th>\n",
       "      <th>Age</th>\n",
       "      <th>Score</th>\n",
       "    </tr>\n",
       "  </thead>\n",
       "  <tbody>\n",
       "    <tr>\n",
       "      <th>0</th>\n",
       "      <td>Alice</td>\n",
       "      <td>25</td>\n",
       "      <td>85.5</td>\n",
       "    </tr>\n",
       "    <tr>\n",
       "      <th>1</th>\n",
       "      <td>Bob</td>\n",
       "      <td>30</td>\n",
       "      <td>92.0</td>\n",
       "    </tr>\n",
       "    <tr>\n",
       "      <th>2</th>\n",
       "      <td>Charlie</td>\n",
       "      <td>35</td>\n",
       "      <td>78.5</td>\n",
       "    </tr>\n",
       "  </tbody>\n",
       "</table>\n",
       "</div>"
      ],
      "text/plain": [
       "      Name  Age  Score\n",
       "0    Alice   25   85.5\n",
       "1      Bob   30   92.0\n",
       "2  Charlie   35   78.5"
      ]
     },
     "execution_count": 14,
     "metadata": {},
     "output_type": "execute_result"
    }
   ],
   "source": [
    "df.columns=[\"Name\", \"Age\", \"Score\"]\n",
    "df"
   ]
  },
  {
   "cell_type": "raw",
   "id": "89bec54d-fbc5-496b-a6b1-190cbaa5264d",
   "metadata": {},
   "source": [
    "데이터 프레임을 생성할때 columns라는 파라미터를 활용하여\n",
    "컬럼이름을 입력해주면 됩니다."
   ]
  },
  {
   "cell_type": "code",
   "execution_count": 15,
   "id": "a32f869e-71e8-41b2-9edf-fdd8766e68c6",
   "metadata": {
    "tags": []
   },
   "outputs": [
    {
     "data": {
      "text/html": [
       "<div>\n",
       "<style scoped>\n",
       "    .dataframe tbody tr th:only-of-type {\n",
       "        vertical-align: middle;\n",
       "    }\n",
       "\n",
       "    .dataframe tbody tr th {\n",
       "        vertical-align: top;\n",
       "    }\n",
       "\n",
       "    .dataframe thead th {\n",
       "        text-align: right;\n",
       "    }\n",
       "</style>\n",
       "<table border=\"1\" class=\"dataframe\">\n",
       "  <thead>\n",
       "    <tr style=\"text-align: right;\">\n",
       "      <th></th>\n",
       "      <th>Name</th>\n",
       "      <th>Age</th>\n",
       "      <th>Score</th>\n",
       "    </tr>\n",
       "  </thead>\n",
       "  <tbody>\n",
       "    <tr>\n",
       "      <th>0</th>\n",
       "      <td>Alice</td>\n",
       "      <td>25</td>\n",
       "      <td>85.5</td>\n",
       "    </tr>\n",
       "    <tr>\n",
       "      <th>1</th>\n",
       "      <td>Bob</td>\n",
       "      <td>30</td>\n",
       "      <td>92.0</td>\n",
       "    </tr>\n",
       "    <tr>\n",
       "      <th>2</th>\n",
       "      <td>Charlie</td>\n",
       "      <td>35</td>\n",
       "      <td>78.5</td>\n",
       "    </tr>\n",
       "  </tbody>\n",
       "</table>\n",
       "</div>"
      ],
      "text/plain": [
       "      Name  Age  Score\n",
       "0    Alice   25   85.5\n",
       "1      Bob   30   92.0\n",
       "2  Charlie   35   78.5"
      ]
     },
     "execution_count": 15,
     "metadata": {},
     "output_type": "execute_result"
    }
   ],
   "source": [
    "df = pd.DataFrame(data, columns=[\"Name\", \"Age\", \"Score\"])\n",
    "df"
   ]
  },
  {
   "cell_type": "code",
   "execution_count": 16,
   "id": "4fe7c37c-2c24-461f-8432-e6dd80267bfe",
   "metadata": {
    "tags": []
   },
   "outputs": [
    {
     "name": "stdout",
     "output_type": "stream",
     "text": [
      "<class 'pandas.core.frame.DataFrame'>\n",
      "RangeIndex: 3 entries, 0 to 2\n",
      "Data columns (total 3 columns):\n",
      " #   Column  Non-Null Count  Dtype  \n",
      "---  ------  --------------  -----  \n",
      " 0   Name    3 non-null      object \n",
      " 1   Age     3 non-null      int64  \n",
      " 2   Score   3 non-null      float64\n",
      "dtypes: float64(1), int64(1), object(1)\n",
      "memory usage: 200.0+ bytes\n"
     ]
    }
   ],
   "source": [
    "df.info()"
   ]
  },
  {
   "cell_type": "raw",
   "id": "952ed56b-c74a-469e-ab83-c883458b84a5",
   "metadata": {},
   "source": [
    "이 경우에도 각 컬럼에 맞게 자동으로 데이터 타입이 생성된 것을 확인할 수 있습니다."
   ]
  },
  {
   "cell_type": "markdown",
   "id": "4c746266-b6fb-4b8f-bd80-73c5929f243c",
   "metadata": {},
   "source": [
    "## 파일로 부터 데이터프레임 만들기"
   ]
  },
  {
   "cell_type": "code",
   "execution_count": 17,
   "id": "ea4ca280-9168-44f1-8747-da065306f9f3",
   "metadata": {
    "tags": []
   },
   "outputs": [],
   "source": [
    "\"\"\"\n",
    "파일로 부터 읽어오기\n",
    "\"\"\"\n",
    "import pandas as pd\n",
    "\n",
    "df = pd.read_csv(\"sample.csv\", )"
   ]
  },
  {
   "cell_type": "raw",
   "id": "f71137fc-4aef-4701-95e9-ab06f2cefdb6",
   "metadata": {},
   "source": [
    "참고로 dir 함수와 필터함수를 활용해서 pandas 에서 지원하는 read_ 관련 함수들을 확인해보면\n",
    "아래와 같은 결과를 확인할 수 있습니다."
   ]
  },
  {
   "cell_type": "code",
   "execution_count": 18,
   "id": "c0a0e729-a13f-456c-a2f4-6787702a3196",
   "metadata": {
    "tags": []
   },
   "outputs": [
    {
     "data": {
      "text/plain": [
       "['read_clipboard',\n",
       " 'read_csv',\n",
       " 'read_excel',\n",
       " 'read_feather',\n",
       " 'read_fwf',\n",
       " 'read_gbq',\n",
       " 'read_hdf',\n",
       " 'read_html',\n",
       " 'read_json',\n",
       " 'read_orc',\n",
       " 'read_parquet',\n",
       " 'read_pickle',\n",
       " 'read_sas',\n",
       " 'read_spss',\n",
       " 'read_sql',\n",
       " 'read_sql_query',\n",
       " 'read_sql_table',\n",
       " 'read_stata',\n",
       " 'read_table',\n",
       " 'read_xml']"
      ]
     },
     "execution_count": 18,
     "metadata": {},
     "output_type": "execute_result"
    }
   ],
   "source": [
    "# pandas 에서 제공하는 read_XXX 함수 목록\n",
    "list(filter(lambda x: x.startswith(\"read\"), dir(pd)))"
   ]
  },
  {
   "cell_type": "markdown",
   "id": "b6cb51c8-50e6-4618-9d49-4a4d5df8ae26",
   "metadata": {},
   "source": [
    "## 데이터프레임 주요 속성 "
   ]
  },
  {
   "cell_type": "code",
   "execution_count": 19,
   "id": "a8316639-a78b-43f1-8b55-2786c8798b0d",
   "metadata": {
    "tags": []
   },
   "outputs": [
    {
     "name": "stdout",
     "output_type": "stream",
     "text": [
      "<class 'pandas.core.frame.DataFrame'>\n",
      "RangeIndex: 3 entries, 0 to 2\n",
      "Data columns (total 3 columns):\n",
      " #   Column  Non-Null Count  Dtype  \n",
      "---  ------  --------------  -----  \n",
      " 0   Name    3 non-null      object \n",
      " 1   Age     3 non-null      int64  \n",
      " 2   Score   3 non-null      float64\n",
      "dtypes: float64(1), int64(1), object(1)\n",
      "memory usage: 200.0+ bytes\n"
     ]
    }
   ],
   "source": [
    "df.info()"
   ]
  },
  {
   "cell_type": "code",
   "execution_count": 20,
   "id": "42600caa-a485-49f6-9e9a-12c1299c03b1",
   "metadata": {
    "tags": []
   },
   "outputs": [
    {
     "data": {
      "text/html": [
       "<div>\n",
       "<style scoped>\n",
       "    .dataframe tbody tr th:only-of-type {\n",
       "        vertical-align: middle;\n",
       "    }\n",
       "\n",
       "    .dataframe tbody tr th {\n",
       "        vertical-align: top;\n",
       "    }\n",
       "\n",
       "    .dataframe thead th {\n",
       "        text-align: right;\n",
       "    }\n",
       "</style>\n",
       "<table border=\"1\" class=\"dataframe\">\n",
       "  <thead>\n",
       "    <tr style=\"text-align: right;\">\n",
       "      <th></th>\n",
       "      <th>0</th>\n",
       "      <th>1</th>\n",
       "      <th>2</th>\n",
       "    </tr>\n",
       "  </thead>\n",
       "  <tbody>\n",
       "    <tr>\n",
       "      <th>Name</th>\n",
       "      <td>Alice</td>\n",
       "      <td>Bob</td>\n",
       "      <td>Charlie</td>\n",
       "    </tr>\n",
       "    <tr>\n",
       "      <th>Age</th>\n",
       "      <td>25</td>\n",
       "      <td>30</td>\n",
       "      <td>35</td>\n",
       "    </tr>\n",
       "    <tr>\n",
       "      <th>Score</th>\n",
       "      <td>85.5</td>\n",
       "      <td>92.0</td>\n",
       "      <td>78.5</td>\n",
       "    </tr>\n",
       "  </tbody>\n",
       "</table>\n",
       "</div>"
      ],
      "text/plain": [
       "           0     1        2\n",
       "Name   Alice   Bob  Charlie\n",
       "Age       25    30       35\n",
       "Score   85.5  92.0     78.5"
      ]
     },
     "execution_count": 20,
     "metadata": {},
     "output_type": "execute_result"
    }
   ],
   "source": [
    "df.T"
   ]
  },
  {
   "cell_type": "code",
   "execution_count": 21,
   "id": "4b72886b-bd01-4543-84f5-e9b391193513",
   "metadata": {
    "tags": []
   },
   "outputs": [
    {
     "data": {
      "text/html": [
       "<div>\n",
       "<style scoped>\n",
       "    .dataframe tbody tr th:only-of-type {\n",
       "        vertical-align: middle;\n",
       "    }\n",
       "\n",
       "    .dataframe tbody tr th {\n",
       "        vertical-align: top;\n",
       "    }\n",
       "\n",
       "    .dataframe thead th {\n",
       "        text-align: right;\n",
       "    }\n",
       "</style>\n",
       "<table border=\"1\" class=\"dataframe\">\n",
       "  <thead>\n",
       "    <tr style=\"text-align: right;\">\n",
       "      <th></th>\n",
       "      <th>0</th>\n",
       "      <th>1</th>\n",
       "      <th>2</th>\n",
       "    </tr>\n",
       "  </thead>\n",
       "  <tbody>\n",
       "    <tr>\n",
       "      <th>Name</th>\n",
       "      <td>Alice</td>\n",
       "      <td>Bob</td>\n",
       "      <td>Charlie</td>\n",
       "    </tr>\n",
       "    <tr>\n",
       "      <th>Age</th>\n",
       "      <td>25</td>\n",
       "      <td>30</td>\n",
       "      <td>35</td>\n",
       "    </tr>\n",
       "    <tr>\n",
       "      <th>Score</th>\n",
       "      <td>85.5</td>\n",
       "      <td>92.0</td>\n",
       "      <td>78.5</td>\n",
       "    </tr>\n",
       "  </tbody>\n",
       "</table>\n",
       "</div>"
      ],
      "text/plain": [
       "           0     1        2\n",
       "Name   Alice   Bob  Charlie\n",
       "Age       25    30       35\n",
       "Score   85.5  92.0     78.5"
      ]
     },
     "execution_count": 21,
     "metadata": {},
     "output_type": "execute_result"
    }
   ],
   "source": [
    "df.transpose()"
   ]
  },
  {
   "cell_type": "code",
   "execution_count": 22,
   "id": "b1281df9-c58a-4352-9248-9a5d123da6de",
   "metadata": {
    "tags": []
   },
   "outputs": [
    {
     "data": {
      "text/html": [
       "<div>\n",
       "<style scoped>\n",
       "    .dataframe tbody tr th:only-of-type {\n",
       "        vertical-align: middle;\n",
       "    }\n",
       "\n",
       "    .dataframe tbody tr th {\n",
       "        vertical-align: top;\n",
       "    }\n",
       "\n",
       "    .dataframe thead th {\n",
       "        text-align: right;\n",
       "    }\n",
       "</style>\n",
       "<table border=\"1\" class=\"dataframe\">\n",
       "  <thead>\n",
       "    <tr style=\"text-align: right;\">\n",
       "      <th></th>\n",
       "      <th>Name</th>\n",
       "      <th>Age</th>\n",
       "      <th>Score</th>\n",
       "    </tr>\n",
       "  </thead>\n",
       "  <tbody>\n",
       "    <tr>\n",
       "      <th>0</th>\n",
       "      <td>Alice</td>\n",
       "      <td>25</td>\n",
       "      <td>85.5</td>\n",
       "    </tr>\n",
       "    <tr>\n",
       "      <th>1</th>\n",
       "      <td>Bob</td>\n",
       "      <td>30</td>\n",
       "      <td>92.0</td>\n",
       "    </tr>\n",
       "    <tr>\n",
       "      <th>2</th>\n",
       "      <td>Charlie</td>\n",
       "      <td>35</td>\n",
       "      <td>78.5</td>\n",
       "    </tr>\n",
       "  </tbody>\n",
       "</table>\n",
       "</div>"
      ],
      "text/plain": [
       "      Name  Age  Score\n",
       "0    Alice   25   85.5\n",
       "1      Bob   30   92.0\n",
       "2  Charlie   35   78.5"
      ]
     },
     "execution_count": 22,
     "metadata": {},
     "output_type": "execute_result"
    }
   ],
   "source": [
    "df"
   ]
  },
  {
   "cell_type": "code",
   "execution_count": 23,
   "id": "5e0b4cc7-d502-4a1d-9494-6e4019e33542",
   "metadata": {
    "tags": []
   },
   "outputs": [
    {
     "data": {
      "text/plain": [
       "pandas.core.frame.DataFrame"
      ]
     },
     "execution_count": 23,
     "metadata": {},
     "output_type": "execute_result"
    }
   ],
   "source": [
    "type(df)"
   ]
  },
  {
   "cell_type": "code",
   "execution_count": 24,
   "id": "6f2c3b78-861b-468d-a47e-849b75fc5322",
   "metadata": {
    "tags": []
   },
   "outputs": [
    {
     "data": {
      "text/plain": [
       "RangeIndex(start=0, stop=3, step=1)"
      ]
     },
     "execution_count": 24,
     "metadata": {},
     "output_type": "execute_result"
    }
   ],
   "source": [
    "df.index"
   ]
  },
  {
   "cell_type": "code",
   "execution_count": 25,
   "id": "39f30003-3579-49e9-a480-8e41b368ab26",
   "metadata": {
    "tags": []
   },
   "outputs": [
    {
     "data": {
      "text/plain": [
       "pandas.core.indexes.range.RangeIndex"
      ]
     },
     "execution_count": 25,
     "metadata": {},
     "output_type": "execute_result"
    }
   ],
   "source": [
    "type(df.index)"
   ]
  },
  {
   "cell_type": "code",
   "execution_count": 26,
   "id": "4e2417de-eaf2-420a-856c-e133499912ef",
   "metadata": {
    "tags": []
   },
   "outputs": [
    {
     "data": {
      "text/plain": [
       "Index(['Name', 'Age', 'Score'], dtype='object')"
      ]
     },
     "execution_count": 26,
     "metadata": {},
     "output_type": "execute_result"
    }
   ],
   "source": [
    "df.columns"
   ]
  },
  {
   "cell_type": "code",
   "execution_count": 27,
   "id": "bda2c963-21eb-4396-862e-b5921031eb5a",
   "metadata": {
    "tags": []
   },
   "outputs": [
    {
     "data": {
      "text/plain": [
       "9"
      ]
     },
     "execution_count": 27,
     "metadata": {},
     "output_type": "execute_result"
    }
   ],
   "source": [
    "df.size"
   ]
  },
  {
   "cell_type": "code",
   "execution_count": 28,
   "id": "aca13dfe-2161-4f09-9ecb-16ddce933fc0",
   "metadata": {
    "tags": []
   },
   "outputs": [
    {
     "data": {
      "text/plain": [
       "(3, 3)"
      ]
     },
     "execution_count": 28,
     "metadata": {},
     "output_type": "execute_result"
    }
   ],
   "source": [
    "df.shape"
   ]
  },
  {
   "cell_type": "code",
   "execution_count": 29,
   "id": "2d782d67-6433-4673-bdd2-fc137e23d6a3",
   "metadata": {
    "tags": []
   },
   "outputs": [
    {
     "data": {
      "text/html": [
       "<div>\n",
       "<style scoped>\n",
       "    .dataframe tbody tr th:only-of-type {\n",
       "        vertical-align: middle;\n",
       "    }\n",
       "\n",
       "    .dataframe tbody tr th {\n",
       "        vertical-align: top;\n",
       "    }\n",
       "\n",
       "    .dataframe thead th {\n",
       "        text-align: right;\n",
       "    }\n",
       "</style>\n",
       "<table border=\"1\" class=\"dataframe\">\n",
       "  <thead>\n",
       "    <tr style=\"text-align: right;\">\n",
       "      <th></th>\n",
       "      <th>Age</th>\n",
       "      <th>Score</th>\n",
       "    </tr>\n",
       "  </thead>\n",
       "  <tbody>\n",
       "    <tr>\n",
       "      <th>count</th>\n",
       "      <td>3.0</td>\n",
       "      <td>3.000000</td>\n",
       "    </tr>\n",
       "    <tr>\n",
       "      <th>mean</th>\n",
       "      <td>30.0</td>\n",
       "      <td>85.333333</td>\n",
       "    </tr>\n",
       "    <tr>\n",
       "      <th>std</th>\n",
       "      <td>5.0</td>\n",
       "      <td>6.751543</td>\n",
       "    </tr>\n",
       "    <tr>\n",
       "      <th>min</th>\n",
       "      <td>25.0</td>\n",
       "      <td>78.500000</td>\n",
       "    </tr>\n",
       "    <tr>\n",
       "      <th>25%</th>\n",
       "      <td>27.5</td>\n",
       "      <td>82.000000</td>\n",
       "    </tr>\n",
       "    <tr>\n",
       "      <th>50%</th>\n",
       "      <td>30.0</td>\n",
       "      <td>85.500000</td>\n",
       "    </tr>\n",
       "    <tr>\n",
       "      <th>75%</th>\n",
       "      <td>32.5</td>\n",
       "      <td>88.750000</td>\n",
       "    </tr>\n",
       "    <tr>\n",
       "      <th>max</th>\n",
       "      <td>35.0</td>\n",
       "      <td>92.000000</td>\n",
       "    </tr>\n",
       "  </tbody>\n",
       "</table>\n",
       "</div>"
      ],
      "text/plain": [
       "        Age      Score\n",
       "count   3.0   3.000000\n",
       "mean   30.0  85.333333\n",
       "std     5.0   6.751543\n",
       "min    25.0  78.500000\n",
       "25%    27.5  82.000000\n",
       "50%    30.0  85.500000\n",
       "75%    32.5  88.750000\n",
       "max    35.0  92.000000"
      ]
     },
     "execution_count": 29,
     "metadata": {},
     "output_type": "execute_result"
    }
   ],
   "source": [
    "df.describe()"
   ]
  },
  {
   "cell_type": "markdown",
   "id": "fe223f37-9913-432a-8be9-534a723e741c",
   "metadata": {
    "tags": []
   },
   "source": [
    "## column 변경"
   ]
  },
  {
   "cell_type": "raw",
   "id": "f6212378-ad3c-4821-808f-db9c032fa8e9",
   "metadata": {},
   "source": [
    "이번에는 데이터프레임의 컬럼 변경에 관련된 내용을 알아보도록 하겠습니다."
   ]
  },
  {
   "cell_type": "code",
   "execution_count": 30,
   "id": "9fee7ded-b588-4f84-8004-7cd31ffd4351",
   "metadata": {
    "tags": []
   },
   "outputs": [
    {
     "data": {
      "text/html": [
       "<div>\n",
       "<style scoped>\n",
       "    .dataframe tbody tr th:only-of-type {\n",
       "        vertical-align: middle;\n",
       "    }\n",
       "\n",
       "    .dataframe tbody tr th {\n",
       "        vertical-align: top;\n",
       "    }\n",
       "\n",
       "    .dataframe thead th {\n",
       "        text-align: right;\n",
       "    }\n",
       "</style>\n",
       "<table border=\"1\" class=\"dataframe\">\n",
       "  <thead>\n",
       "    <tr style=\"text-align: right;\">\n",
       "      <th></th>\n",
       "      <th>Name</th>\n",
       "      <th>Age</th>\n",
       "      <th>Score</th>\n",
       "    </tr>\n",
       "  </thead>\n",
       "  <tbody>\n",
       "    <tr>\n",
       "      <th>0</th>\n",
       "      <td>Alice</td>\n",
       "      <td>25</td>\n",
       "      <td>85.5</td>\n",
       "    </tr>\n",
       "    <tr>\n",
       "      <th>1</th>\n",
       "      <td>Bob</td>\n",
       "      <td>30</td>\n",
       "      <td>92.0</td>\n",
       "    </tr>\n",
       "    <tr>\n",
       "      <th>2</th>\n",
       "      <td>Charlie</td>\n",
       "      <td>35</td>\n",
       "      <td>78.5</td>\n",
       "    </tr>\n",
       "  </tbody>\n",
       "</table>\n",
       "</div>"
      ],
      "text/plain": [
       "      Name  Age  Score\n",
       "0    Alice   25   85.5\n",
       "1      Bob   30   92.0\n",
       "2  Charlie   35   78.5"
      ]
     },
     "execution_count": 30,
     "metadata": {},
     "output_type": "execute_result"
    }
   ],
   "source": [
    "import pandas as pd\n",
    "\n",
    "# 데이터프레임 생성\n",
    "data = [\n",
    "    ['Alice', 25, 85.5],\n",
    "    ['Bob', 30, 92.0],\n",
    "    ['Charlie', 35, 78.5]\n",
    "]\n",
    "df = pd.DataFrame(data, columns=['Name', 'Age', 'Score'])\n",
    "df"
   ]
  },
  {
   "cell_type": "raw",
   "id": "812b7a7d-ad82-4ff4-aee9-fd226ce4ab4f",
   "metadata": {},
   "source": [
    "우선 컬럼의 순서를 변경하는 방법입니다.\n",
    "대괄호 안에 변경하고자 하는 순서로 컬럼이름들의 배열을 넣어주면 됩니다."
   ]
  },
  {
   "cell_type": "code",
   "execution_count": 31,
   "id": "e2d732f6-1936-4ddc-88de-2b5b6697d070",
   "metadata": {
    "tags": []
   },
   "outputs": [
    {
     "data": {
      "text/html": [
       "<div>\n",
       "<style scoped>\n",
       "    .dataframe tbody tr th:only-of-type {\n",
       "        vertical-align: middle;\n",
       "    }\n",
       "\n",
       "    .dataframe tbody tr th {\n",
       "        vertical-align: top;\n",
       "    }\n",
       "\n",
       "    .dataframe thead th {\n",
       "        text-align: right;\n",
       "    }\n",
       "</style>\n",
       "<table border=\"1\" class=\"dataframe\">\n",
       "  <thead>\n",
       "    <tr style=\"text-align: right;\">\n",
       "      <th></th>\n",
       "      <th>Name</th>\n",
       "      <th>Score</th>\n",
       "      <th>Age</th>\n",
       "    </tr>\n",
       "  </thead>\n",
       "  <tbody>\n",
       "    <tr>\n",
       "      <th>0</th>\n",
       "      <td>Alice</td>\n",
       "      <td>85.5</td>\n",
       "      <td>25</td>\n",
       "    </tr>\n",
       "    <tr>\n",
       "      <th>1</th>\n",
       "      <td>Bob</td>\n",
       "      <td>92.0</td>\n",
       "      <td>30</td>\n",
       "    </tr>\n",
       "    <tr>\n",
       "      <th>2</th>\n",
       "      <td>Charlie</td>\n",
       "      <td>78.5</td>\n",
       "      <td>35</td>\n",
       "    </tr>\n",
       "  </tbody>\n",
       "</table>\n",
       "</div>"
      ],
      "text/plain": [
       "      Name  Score  Age\n",
       "0    Alice   85.5   25\n",
       "1      Bob   92.0   30\n",
       "2  Charlie   78.5   35"
      ]
     },
     "execution_count": 31,
     "metadata": {},
     "output_type": "execute_result"
    }
   ],
   "source": [
    "# column 순서를 \"Name\", \"Score\", \"Age\"로 변경\n",
    "df = df[[\"Name\", \"Score\", \"Age\"]]\n",
    "df"
   ]
  },
  {
   "cell_type": "raw",
   "id": "3f9a8f53-38e6-4167-8ce5-f1350979b2a5",
   "metadata": {},
   "source": [
    "이 해당 컬럼의 이름에 맞게 데이터 들도 순서가 변경된 것을 확인할 수 있습니다."
   ]
  },
  {
   "cell_type": "code",
   "execution_count": 32,
   "id": "7907f0f3-f8ab-4400-89bb-fec658435c93",
   "metadata": {
    "tags": []
   },
   "outputs": [
    {
     "data": {
      "text/html": [
       "<div>\n",
       "<style scoped>\n",
       "    .dataframe tbody tr th:only-of-type {\n",
       "        vertical-align: middle;\n",
       "    }\n",
       "\n",
       "    .dataframe tbody tr th {\n",
       "        vertical-align: top;\n",
       "    }\n",
       "\n",
       "    .dataframe thead th {\n",
       "        text-align: right;\n",
       "    }\n",
       "</style>\n",
       "<table border=\"1\" class=\"dataframe\">\n",
       "  <thead>\n",
       "    <tr style=\"text-align: right;\">\n",
       "      <th></th>\n",
       "      <th>Name</th>\n",
       "      <th>Age</th>\n",
       "      <th>Score</th>\n",
       "    </tr>\n",
       "  </thead>\n",
       "  <tbody>\n",
       "    <tr>\n",
       "      <th>0</th>\n",
       "      <td>Alice</td>\n",
       "      <td>25</td>\n",
       "      <td>85.5</td>\n",
       "    </tr>\n",
       "    <tr>\n",
       "      <th>1</th>\n",
       "      <td>Bob</td>\n",
       "      <td>30</td>\n",
       "      <td>92.0</td>\n",
       "    </tr>\n",
       "    <tr>\n",
       "      <th>2</th>\n",
       "      <td>Charlie</td>\n",
       "      <td>35</td>\n",
       "      <td>78.5</td>\n",
       "    </tr>\n",
       "  </tbody>\n",
       "</table>\n",
       "</div>"
      ],
      "text/plain": [
       "      Name  Age  Score\n",
       "0    Alice   25   85.5\n",
       "1      Bob   30   92.0\n",
       "2  Charlie   35   78.5"
      ]
     },
     "execution_count": 32,
     "metadata": {},
     "output_type": "execute_result"
    }
   ],
   "source": [
    "import pandas as pd\n",
    "\n",
    "data = [\n",
    "    ['Alice', 25, 85.5],\n",
    "    ['Bob', 30, 92.0],\n",
    "    ['Charlie', 35, 78.5]\n",
    "]\n",
    "df = pd.DataFrame(data, columns=['Name', 'Age', 'Score'])\n",
    "df"
   ]
  },
  {
   "cell_type": "raw",
   "id": "b303e32d-9bf5-4b3d-a3ff-40eca0455f7f",
   "metadata": {},
   "source": [
    "이번에는 컬럼 한개의 이름을 변경하는 방법입니다.\n",
    "rename() 메소드를 호출할때 columns 파라미터에 딕셔너리를 넣어주는데,\n",
    "딕셔너리의 키에는 변경이전 이름, 그리고 값에는 변경 이후의 이름을 넣어주면 됩니다."
   ]
  },
  {
   "cell_type": "code",
   "execution_count": 33,
   "id": "d8e36850-2d20-474e-b739-0a0aec07e196",
   "metadata": {
    "tags": []
   },
   "outputs": [
    {
     "data": {
      "text/html": [
       "<div>\n",
       "<style scoped>\n",
       "    .dataframe tbody tr th:only-of-type {\n",
       "        vertical-align: middle;\n",
       "    }\n",
       "\n",
       "    .dataframe tbody tr th {\n",
       "        vertical-align: top;\n",
       "    }\n",
       "\n",
       "    .dataframe thead th {\n",
       "        text-align: right;\n",
       "    }\n",
       "</style>\n",
       "<table border=\"1\" class=\"dataframe\">\n",
       "  <thead>\n",
       "    <tr style=\"text-align: right;\">\n",
       "      <th></th>\n",
       "      <th>Nick</th>\n",
       "      <th>Age</th>\n",
       "      <th>Score</th>\n",
       "    </tr>\n",
       "  </thead>\n",
       "  <tbody>\n",
       "    <tr>\n",
       "      <th>0</th>\n",
       "      <td>Alice</td>\n",
       "      <td>25</td>\n",
       "      <td>85.5</td>\n",
       "    </tr>\n",
       "    <tr>\n",
       "      <th>1</th>\n",
       "      <td>Bob</td>\n",
       "      <td>30</td>\n",
       "      <td>92.0</td>\n",
       "    </tr>\n",
       "    <tr>\n",
       "      <th>2</th>\n",
       "      <td>Charlie</td>\n",
       "      <td>35</td>\n",
       "      <td>78.5</td>\n",
       "    </tr>\n",
       "  </tbody>\n",
       "</table>\n",
       "</div>"
      ],
      "text/plain": [
       "      Nick  Age  Score\n",
       "0    Alice   25   85.5\n",
       "1      Bob   30   92.0\n",
       "2  Charlie   35   78.5"
      ]
     },
     "execution_count": 33,
     "metadata": {},
     "output_type": "execute_result"
    }
   ],
   "source": [
    "# column 이름 변경 (Name->Nick)한 새로운 데이터프레임을 리턴\n",
    "df.rename(columns=dict(Name=\"Nick\"))"
   ]
  },
  {
   "cell_type": "code",
   "execution_count": 34,
   "id": "38d0976c-2510-4da8-a0e5-7efb67dbaa6e",
   "metadata": {
    "tags": []
   },
   "outputs": [
    {
     "data": {
      "text/html": [
       "<div>\n",
       "<style scoped>\n",
       "    .dataframe tbody tr th:only-of-type {\n",
       "        vertical-align: middle;\n",
       "    }\n",
       "\n",
       "    .dataframe tbody tr th {\n",
       "        vertical-align: top;\n",
       "    }\n",
       "\n",
       "    .dataframe thead th {\n",
       "        text-align: right;\n",
       "    }\n",
       "</style>\n",
       "<table border=\"1\" class=\"dataframe\">\n",
       "  <thead>\n",
       "    <tr style=\"text-align: right;\">\n",
       "      <th></th>\n",
       "      <th>Name</th>\n",
       "      <th>Age</th>\n",
       "      <th>Score</th>\n",
       "    </tr>\n",
       "  </thead>\n",
       "  <tbody>\n",
       "    <tr>\n",
       "      <th>0</th>\n",
       "      <td>Alice</td>\n",
       "      <td>25</td>\n",
       "      <td>85.5</td>\n",
       "    </tr>\n",
       "    <tr>\n",
       "      <th>1</th>\n",
       "      <td>Bob</td>\n",
       "      <td>30</td>\n",
       "      <td>92.0</td>\n",
       "    </tr>\n",
       "    <tr>\n",
       "      <th>2</th>\n",
       "      <td>Charlie</td>\n",
       "      <td>35</td>\n",
       "      <td>78.5</td>\n",
       "    </tr>\n",
       "  </tbody>\n",
       "</table>\n",
       "</div>"
      ],
      "text/plain": [
       "      Name  Age  Score\n",
       "0    Alice   25   85.5\n",
       "1      Bob   30   92.0\n",
       "2  Charlie   35   78.5"
      ]
     },
     "execution_count": 34,
     "metadata": {},
     "output_type": "execute_result"
    }
   ],
   "source": [
    "# 원본 데이터는 변경되지 않음\n",
    "df"
   ]
  },
  {
   "cell_type": "raw",
   "id": "a78c3c8b-c5f4-48b2-bf3f-299b1cd3772c",
   "metadata": {},
   "source": [
    "참고로 데이터 프레임의 대부분의 메소드는 해당 데이터프레임의 내용을 변경하는 대신,\n",
    "원본 데이터프레임은 유지하고\n",
    "별도의 데이터프레임을 반환하는 방식으로 동작합니다."
   ]
  },
  {
   "cell_type": "raw",
   "id": "d01a299b-3856-41c4-9cfc-0ca2f436cd02",
   "metadata": {},
   "source": [
    "만약 원본 데이터프레임을 변경하고 싶은 경우는\n",
    "inplace 파라미터에 True 값을 넣어주면 됩니다."
   ]
  },
  {
   "cell_type": "code",
   "execution_count": 35,
   "id": "54d85e4d-d979-4dc6-b0d0-433792b18bf8",
   "metadata": {
    "tags": []
   },
   "outputs": [
    {
     "data": {
      "text/html": [
       "<div>\n",
       "<style scoped>\n",
       "    .dataframe tbody tr th:only-of-type {\n",
       "        vertical-align: middle;\n",
       "    }\n",
       "\n",
       "    .dataframe tbody tr th {\n",
       "        vertical-align: top;\n",
       "    }\n",
       "\n",
       "    .dataframe thead th {\n",
       "        text-align: right;\n",
       "    }\n",
       "</style>\n",
       "<table border=\"1\" class=\"dataframe\">\n",
       "  <thead>\n",
       "    <tr style=\"text-align: right;\">\n",
       "      <th></th>\n",
       "      <th>Nick</th>\n",
       "      <th>Age</th>\n",
       "      <th>Score</th>\n",
       "    </tr>\n",
       "  </thead>\n",
       "  <tbody>\n",
       "    <tr>\n",
       "      <th>0</th>\n",
       "      <td>Alice</td>\n",
       "      <td>25</td>\n",
       "      <td>85.5</td>\n",
       "    </tr>\n",
       "    <tr>\n",
       "      <th>1</th>\n",
       "      <td>Bob</td>\n",
       "      <td>30</td>\n",
       "      <td>92.0</td>\n",
       "    </tr>\n",
       "    <tr>\n",
       "      <th>2</th>\n",
       "      <td>Charlie</td>\n",
       "      <td>35</td>\n",
       "      <td>78.5</td>\n",
       "    </tr>\n",
       "  </tbody>\n",
       "</table>\n",
       "</div>"
      ],
      "text/plain": [
       "      Nick  Age  Score\n",
       "0    Alice   25   85.5\n",
       "1      Bob   30   92.0\n",
       "2  Charlie   35   78.5"
      ]
     },
     "execution_count": 35,
     "metadata": {},
     "output_type": "execute_result"
    }
   ],
   "source": [
    "# 원본 데이터의 컬럼 이름을 변경\n",
    "df.rename(columns=dict(Name=\"Nick\"), inplace=True)\n",
    "df"
   ]
  },
  {
   "cell_type": "raw",
   "id": "c558f9e6-83de-4eb2-90e5-36730ca59179",
   "metadata": {},
   "source": [
    "inplace 파라미터를 넣어줄 경우\n",
    "df 가 참조하는 데이터 프레임 객체의 \"Name\" 이라는 칼럼이름이\n",
    "\"Nick\"ㅇ로 변경된 것을 확인할 수 있습니다."
   ]
  },
  {
   "cell_type": "code",
   "execution_count": null,
   "id": "36078a9b-1b75-474d-b1ee-42e7cdf8343b",
   "metadata": {},
   "outputs": [],
   "source": []
  },
  {
   "cell_type": "raw",
   "id": "37212edc-e2f3-49ff-82fa-97f09fdade2e",
   "metadata": {},
   "source": [
    "다음으로는 df.columns 를 활용하여 변경될 컬럼의 이름을 넣어주는 방법입니다."
   ]
  },
  {
   "cell_type": "code",
   "execution_count": 36,
   "id": "179d9bda-5c3e-47d9-9d6b-90942ad5060e",
   "metadata": {
    "tags": []
   },
   "outputs": [],
   "source": [
    "# columns 속성을 활용\n",
    "df.columns=[\"Nick\", \"Year\", \"Point\"]"
   ]
  },
  {
   "cell_type": "code",
   "execution_count": 37,
   "id": "1a358d28-4758-4517-87d2-12dd7732624a",
   "metadata": {
    "tags": []
   },
   "outputs": [
    {
     "data": {
      "text/html": [
       "<div>\n",
       "<style scoped>\n",
       "    .dataframe tbody tr th:only-of-type {\n",
       "        vertical-align: middle;\n",
       "    }\n",
       "\n",
       "    .dataframe tbody tr th {\n",
       "        vertical-align: top;\n",
       "    }\n",
       "\n",
       "    .dataframe thead th {\n",
       "        text-align: right;\n",
       "    }\n",
       "</style>\n",
       "<table border=\"1\" class=\"dataframe\">\n",
       "  <thead>\n",
       "    <tr style=\"text-align: right;\">\n",
       "      <th></th>\n",
       "      <th>Nick</th>\n",
       "      <th>Year</th>\n",
       "      <th>Point</th>\n",
       "    </tr>\n",
       "  </thead>\n",
       "  <tbody>\n",
       "    <tr>\n",
       "      <th>0</th>\n",
       "      <td>Alice</td>\n",
       "      <td>25</td>\n",
       "      <td>85.5</td>\n",
       "    </tr>\n",
       "    <tr>\n",
       "      <th>1</th>\n",
       "      <td>Bob</td>\n",
       "      <td>30</td>\n",
       "      <td>92.0</td>\n",
       "    </tr>\n",
       "    <tr>\n",
       "      <th>2</th>\n",
       "      <td>Charlie</td>\n",
       "      <td>35</td>\n",
       "      <td>78.5</td>\n",
       "    </tr>\n",
       "  </tbody>\n",
       "</table>\n",
       "</div>"
      ],
      "text/plain": [
       "      Nick  Year  Point\n",
       "0    Alice    25   85.5\n",
       "1      Bob    30   92.0\n",
       "2  Charlie    35   78.5"
      ]
     },
     "execution_count": 37,
     "metadata": {},
     "output_type": "execute_result"
    }
   ],
   "source": [
    "df"
   ]
  },
  {
   "cell_type": "raw",
   "id": "7de13dda-a509-4ae1-9a2e-1eb8c33ba2fe",
   "metadata": {},
   "source": [
    "이번에는 데이터프레임의 단일 요소에 접근하는 방법에 대해서 알아보도록 하겠습니다.\n",
    "Pandas DataFrame에서 개별 원소에 접근하는 방식에는 iloc[행, 열] 인덱서와 at[행, 열] 라벨 기반 인덱서 두 가지가 있습니다. "
   ]
  },
  {
   "cell_type": "markdown",
   "id": "5aba2251-86cd-4ccc-be42-3871cae73ef0",
   "metadata": {},
   "source": [
    "## DataFrame 내 단일 element 접근\n",
    "\n",
    "Pandas DataFrame에서 개별 원소에 접근하는 방식입니다.\n",
    "- `iat[행, 열]` 인덱서 \n",
    "- `iloc[행, 열]` 인덱서\n",
    "- `at[행, 열]` 라벨 기반 인덱서\n",
    "- `loc[행, 열]` 라벨 기반 인덱서"
   ]
  },
  {
   "cell_type": "code",
   "execution_count": 38,
   "id": "ef7ab106-0b83-4d41-91e7-5426a5b1a036",
   "metadata": {
    "tags": []
   },
   "outputs": [
    {
     "data": {
      "text/html": [
       "<div>\n",
       "<style scoped>\n",
       "    .dataframe tbody tr th:only-of-type {\n",
       "        vertical-align: middle;\n",
       "    }\n",
       "\n",
       "    .dataframe tbody tr th {\n",
       "        vertical-align: top;\n",
       "    }\n",
       "\n",
       "    .dataframe thead th {\n",
       "        text-align: right;\n",
       "    }\n",
       "</style>\n",
       "<table border=\"1\" class=\"dataframe\">\n",
       "  <thead>\n",
       "    <tr style=\"text-align: right;\">\n",
       "      <th></th>\n",
       "      <th>Name</th>\n",
       "      <th>Age</th>\n",
       "      <th>Score</th>\n",
       "    </tr>\n",
       "  </thead>\n",
       "  <tbody>\n",
       "    <tr>\n",
       "      <th>A</th>\n",
       "      <td>Alice</td>\n",
       "      <td>25</td>\n",
       "      <td>85.5</td>\n",
       "    </tr>\n",
       "    <tr>\n",
       "      <th>B</th>\n",
       "      <td>Bob</td>\n",
       "      <td>30</td>\n",
       "      <td>92.0</td>\n",
       "    </tr>\n",
       "    <tr>\n",
       "      <th>C</th>\n",
       "      <td>Charlie</td>\n",
       "      <td>35</td>\n",
       "      <td>78.5</td>\n",
       "    </tr>\n",
       "  </tbody>\n",
       "</table>\n",
       "</div>"
      ],
      "text/plain": [
       "      Name  Age  Score\n",
       "A    Alice   25   85.5\n",
       "B      Bob   30   92.0\n",
       "C  Charlie   35   78.5"
      ]
     },
     "execution_count": 38,
     "metadata": {},
     "output_type": "execute_result"
    }
   ],
   "source": [
    "import pandas as pd\n",
    "\n",
    "# DataFrame 생성\n",
    "data = {\n",
    "    'Name': ['Alice', 'Bob', 'Charlie'],\n",
    "    'Age': [25, 30, 35],\n",
    "    'Score': [85.5, 92.0, 78.5]\n",
    "}\n",
    "df = pd.DataFrame(data, index = list(\"ABC\"))\n",
    "df"
   ]
  },
  {
   "cell_type": "raw",
   "id": "ad273d22-db5f-4c3b-9345-4508f1e50fd8",
   "metadata": {},
   "source": [
    "우선 iat 인덱서를 활용하는 방법입니다.\n",
    "iat의 대괄호 안에 행, 열을 정수형 인덱스를 콤마로 구분하여 입력합니다."
   ]
  },
  {
   "cell_type": "code",
   "execution_count": 39,
   "id": "3aae2294-dcbe-477d-bedc-c35f60edff50",
   "metadata": {
    "tags": []
   },
   "outputs": [
    {
     "data": {
      "text/plain": [
       "25"
      ]
     },
     "execution_count": 39,
     "metadata": {},
     "output_type": "execute_result"
    }
   ],
   "source": [
    "\"\"\"\n",
    "iat[행, 열] 인덱서를 사용하여 원소에 접근\n",
    "\"\"\"\n",
    "df.iat[0,1]"
   ]
  },
  {
   "cell_type": "raw",
   "id": "480652d9-4a6b-487f-8614-3ed4b454c2e7",
   "metadata": {},
   "source": [
    "위의 예제에서는 데이터프레임의 0행 1열에 있는 25를 얻게 됩니다."
   ]
  },
  {
   "cell_type": "code",
   "execution_count": 40,
   "id": "9c4391c5-da9a-4379-92e6-17be74fed554",
   "metadata": {
    "tags": []
   },
   "outputs": [
    {
     "data": {
      "text/plain": [
       "numpy.int64"
      ]
     },
     "execution_count": 40,
     "metadata": {},
     "output_type": "execute_result"
    }
   ],
   "source": [
    "type(df.iat[0,1])"
   ]
  },
  {
   "cell_type": "raw",
   "id": "316528b3-1382-417d-9043-a82e338630ee",
   "metadata": {},
   "source": [
    "인덱서를 통해서 가져온 데이터는 numpy 의 배열의 요소에 해당하는 자료형으로 되어 있음을 확인할 수 있습니다."
   ]
  },
  {
   "cell_type": "raw",
   "id": "d0be2760-fc42-4444-ba3c-9b5442cdc258",
   "metadata": {},
   "source": [
    "iloc인덱서도 iat인덱서와 동일하게\n",
    "행, 열의 정수형 인덱스를 콤마로 구분하여 입력하면 됩니다."
   ]
  },
  {
   "cell_type": "code",
   "execution_count": 41,
   "id": "3d8fedad-518a-4aa2-bb7a-cb17ca8b3eb1",
   "metadata": {
    "tags": []
   },
   "outputs": [
    {
     "name": "stdout",
     "output_type": "stream",
     "text": [
      "25\n",
      "92.0\n"
     ]
    }
   ],
   "source": [
    "\"\"\"\n",
    "iloc[행, 열] 인덱서를 사용하여 원소에 접근\n",
    "\"\"\"\n",
    "element_1 = df.iloc[0, 1]  # 인덱스 0의 행, 인덱스 1의 열\n",
    "element_2 = df.iloc[1, 2]  # 인덱스 1의 행, 인덱스 2의 열\n",
    "print(element_1, element_2, sep=\"\\n\")"
   ]
  },
  {
   "cell_type": "raw",
   "id": "07029cbc-85e5-4a41-aa3e-1184130a809f",
   "metadata": {},
   "source": [
    "라벨기반 인덱서인 at을 사용할 경우\n",
    "해당 행의 인덱스 이름과 해당 열의 컬럼이름을 콤마로 구분하여 입력합니다."
   ]
  },
  {
   "cell_type": "code",
   "execution_count": 42,
   "id": "3bed90a2-9fad-465e-acc8-177997c5a2a6",
   "metadata": {
    "tags": []
   },
   "outputs": [
    {
     "data": {
      "text/plain": [
       "25"
      ]
     },
     "execution_count": 42,
     "metadata": {},
     "output_type": "execute_result"
    }
   ],
   "source": [
    "\"\"\"\n",
    "at[행, 열] 라벨 기반 인덱서를 사용하여 원소에 접근\n",
    "\"\"\"\n",
    "df.at[\"A\", \"Age\"]"
   ]
  },
  {
   "cell_type": "raw",
   "id": "6e3b7bfc-25bb-4cef-871d-1069e598c9de",
   "metadata": {},
   "source": [
    "위의 예제에서는 \"A\" 인덱스를 가진 행에서 \"Age\" 열에 있는 25를 가져옵니다."
   ]
  },
  {
   "cell_type": "raw",
   "id": "f9c21f9d-762f-4b27-98ce-18d2adda0d8a",
   "metadata": {},
   "source": [
    "loc인덱서도 at인덱서와 동일하게\n",
    "행, 열의 정수형 인덱스를 콤마로 구분하여 입력하면 됩니다."
   ]
  },
  {
   "cell_type": "code",
   "execution_count": 43,
   "id": "f4afa865-41f7-42ea-bf00-79069be472dd",
   "metadata": {
    "tags": []
   },
   "outputs": [
    {
     "data": {
      "text/plain": [
       "25"
      ]
     },
     "execution_count": 43,
     "metadata": {},
     "output_type": "execute_result"
    }
   ],
   "source": [
    "\"\"\"\n",
    "loc행, 열] 라벨 기반 인덱서를 사용하여 원소에 접근\n",
    "\"\"\"\n",
    "df.loc[\"A\", \"Age\"]"
   ]
  },
  {
   "cell_type": "raw",
   "id": "9b74792b-f000-416b-b138-a06a5276ea90",
   "metadata": {},
   "source": [
    "Pandas DataFrame에서 슬라이싱 기반 접근하는 방식에는 크게 두가지 방식이 있습니다.\n",
    "`iloc[행, 열]` 인덱서와 `loc[행, 열]` 라벨 기반 인덱서 \n",
    "여기에서 앞에 i가 붙으면 정수형 인덱싱이라고 기억해두시면 좋을것 같습니다."
   ]
  },
  {
   "cell_type": "markdown",
   "id": "c6194245-bf22-41c8-b812-a47d7470d89b",
   "metadata": {},
   "source": [
    "## Dataframe 내 슬라이싱 기반 Series, DataFrame 추출\n",
    "Pandas DataFrame에서 슬라이싱 기반 접근하는 방식에는 크게 두가지 방식이 있습니다.\n",
    " - `iloc[행, 열]`, `iloc[행]` 인덱서와 \n",
    " - `loc[행, 열]` 라벨 기반 인덱서 "
   ]
  },
  {
   "cell_type": "code",
   "execution_count": 44,
   "id": "f1bdb764-577e-4ce4-9e1d-2740ae40b9b3",
   "metadata": {
    "tags": []
   },
   "outputs": [
    {
     "data": {
      "text/html": [
       "<div>\n",
       "<style scoped>\n",
       "    .dataframe tbody tr th:only-of-type {\n",
       "        vertical-align: middle;\n",
       "    }\n",
       "\n",
       "    .dataframe tbody tr th {\n",
       "        vertical-align: top;\n",
       "    }\n",
       "\n",
       "    .dataframe thead th {\n",
       "        text-align: right;\n",
       "    }\n",
       "</style>\n",
       "<table border=\"1\" class=\"dataframe\">\n",
       "  <thead>\n",
       "    <tr style=\"text-align: right;\">\n",
       "      <th></th>\n",
       "      <th>Name</th>\n",
       "      <th>Age</th>\n",
       "      <th>Score</th>\n",
       "    </tr>\n",
       "  </thead>\n",
       "  <tbody>\n",
       "    <tr>\n",
       "      <th>A</th>\n",
       "      <td>Alice</td>\n",
       "      <td>25</td>\n",
       "      <td>85.5</td>\n",
       "    </tr>\n",
       "    <tr>\n",
       "      <th>B</th>\n",
       "      <td>Bob</td>\n",
       "      <td>30</td>\n",
       "      <td>92.0</td>\n",
       "    </tr>\n",
       "    <tr>\n",
       "      <th>C</th>\n",
       "      <td>Charlie</td>\n",
       "      <td>35</td>\n",
       "      <td>78.5</td>\n",
       "    </tr>\n",
       "    <tr>\n",
       "      <th>D</th>\n",
       "      <td>David</td>\n",
       "      <td>28</td>\n",
       "      <td>89.3</td>\n",
       "    </tr>\n",
       "    <tr>\n",
       "      <th>E</th>\n",
       "      <td>Eva</td>\n",
       "      <td>22</td>\n",
       "      <td>95.1</td>\n",
       "    </tr>\n",
       "  </tbody>\n",
       "</table>\n",
       "</div>"
      ],
      "text/plain": [
       "      Name  Age  Score\n",
       "A    Alice   25   85.5\n",
       "B      Bob   30   92.0\n",
       "C  Charlie   35   78.5\n",
       "D    David   28   89.3\n",
       "E      Eva   22   95.1"
      ]
     },
     "execution_count": 44,
     "metadata": {},
     "output_type": "execute_result"
    }
   ],
   "source": [
    "import pandas as pd\n",
    "import numpy as np\n",
    "# DataFrame 생성\n",
    "data = {\n",
    "    'Name': ['Alice', 'Bob', 'Charlie', 'David', 'Eva'],\n",
    "    'Age': [25, 30, 35, 28, 22],\n",
    "    'Score': [85.5, 92.0, 78.5, 89.3, 95.1]\n",
    "}\n",
    "df = pd.DataFrame(data, index = list(\"ABCDE\"))\n",
    "df"
   ]
  },
  {
   "cell_type": "markdown",
   "id": "391aa13b-a063-443d-8dae-c3bb09622142",
   "metadata": {},
   "source": [
    "### iloc[]인덱서"
   ]
  },
  {
   "cell_type": "raw",
   "id": "4999b05d-ffe0-4ccc-97b4-f81079f65f4a",
   "metadata": {},
   "source": [
    "우선 iloc를 활용하여 행기준으로 슬라이싱을 하는 방식입니다.\n",
    "이경우 슬라이싱이 진행되지 않는 대괄호에서 콤마로 구분되는 열의 자리에는\n",
    "콜론만 넣어주면 됩니다."
   ]
  },
  {
   "cell_type": "code",
   "execution_count": 45,
   "id": "673a573d-422d-4889-bcbf-3d3dc386b4c3",
   "metadata": {
    "tags": []
   },
   "outputs": [
    {
     "data": {
      "text/html": [
       "<div>\n",
       "<style scoped>\n",
       "    .dataframe tbody tr th:only-of-type {\n",
       "        vertical-align: middle;\n",
       "    }\n",
       "\n",
       "    .dataframe tbody tr th {\n",
       "        vertical-align: top;\n",
       "    }\n",
       "\n",
       "    .dataframe thead th {\n",
       "        text-align: right;\n",
       "    }\n",
       "</style>\n",
       "<table border=\"1\" class=\"dataframe\">\n",
       "  <thead>\n",
       "    <tr style=\"text-align: right;\">\n",
       "      <th></th>\n",
       "      <th>Name</th>\n",
       "      <th>Age</th>\n",
       "      <th>Score</th>\n",
       "    </tr>\n",
       "  </thead>\n",
       "  <tbody>\n",
       "    <tr>\n",
       "      <th>A</th>\n",
       "      <td>Alice</td>\n",
       "      <td>25</td>\n",
       "      <td>85.5</td>\n",
       "    </tr>\n",
       "    <tr>\n",
       "      <th>B</th>\n",
       "      <td>Bob</td>\n",
       "      <td>30</td>\n",
       "      <td>92.0</td>\n",
       "    </tr>\n",
       "  </tbody>\n",
       "</table>\n",
       "</div>"
      ],
      "text/plain": [
       "    Name  Age  Score\n",
       "A  Alice   25   85.5\n",
       "B    Bob   30   92.0"
      ]
     },
     "execution_count": 45,
     "metadata": {},
     "output_type": "execute_result"
    }
   ],
   "source": [
    "# iloc를 활용하여 행 슬라이싱\n",
    "sub = df.iloc[:2, :]\n",
    "sub"
   ]
  },
  {
   "cell_type": "raw",
   "id": "dd089e34-8570-4235-8a19-41a6127a26da",
   "metadata": {},
   "source": [
    "이 결과 데이터프레임의 열은 모두 출력되고 2번행까지 슬라이싱 되어\n",
    "0번 1번 행이 포함된 결과가 나오는것을 확인할 수 있습니다."
   ]
  },
  {
   "cell_type": "raw",
   "id": "a097be35-5b3d-4d3e-86da-4e88270f7d44",
   "metadata": {},
   "source": [
    "다음은 iloc를 활용하여 열 기준으로 슬라이싱을 하는 방식입니다.\n",
    "이경우 슬라이싱이 진행되지 않는 대괄호에서 콤마로 구분되는 행의 자리에는\n",
    "콜론만 넣어주면 됩니다."
   ]
  },
  {
   "cell_type": "code",
   "execution_count": 46,
   "id": "5ba6d48c-85d8-4570-b097-1cead49bcf8a",
   "metadata": {
    "tags": []
   },
   "outputs": [
    {
     "data": {
      "text/html": [
       "<div>\n",
       "<style scoped>\n",
       "    .dataframe tbody tr th:only-of-type {\n",
       "        vertical-align: middle;\n",
       "    }\n",
       "\n",
       "    .dataframe tbody tr th {\n",
       "        vertical-align: top;\n",
       "    }\n",
       "\n",
       "    .dataframe thead th {\n",
       "        text-align: right;\n",
       "    }\n",
       "</style>\n",
       "<table border=\"1\" class=\"dataframe\">\n",
       "  <thead>\n",
       "    <tr style=\"text-align: right;\">\n",
       "      <th></th>\n",
       "      <th>Score</th>\n",
       "    </tr>\n",
       "  </thead>\n",
       "  <tbody>\n",
       "    <tr>\n",
       "      <th>A</th>\n",
       "      <td>85.5</td>\n",
       "    </tr>\n",
       "    <tr>\n",
       "      <th>B</th>\n",
       "      <td>92.0</td>\n",
       "    </tr>\n",
       "    <tr>\n",
       "      <th>C</th>\n",
       "      <td>78.5</td>\n",
       "    </tr>\n",
       "    <tr>\n",
       "      <th>D</th>\n",
       "      <td>89.3</td>\n",
       "    </tr>\n",
       "    <tr>\n",
       "      <th>E</th>\n",
       "      <td>95.1</td>\n",
       "    </tr>\n",
       "  </tbody>\n",
       "</table>\n",
       "</div>"
      ],
      "text/plain": [
       "   Score\n",
       "A   85.5\n",
       "B   92.0\n",
       "C   78.5\n",
       "D   89.3\n",
       "E   95.1"
      ]
     },
     "execution_count": 46,
     "metadata": {},
     "output_type": "execute_result"
    }
   ],
   "source": [
    "# iloc를 활용하여 열 슬라이싱\n",
    "sub = df.iloc[:, 2:]\n",
    "sub"
   ]
  },
  {
   "cell_type": "raw",
   "id": "012b98c8-a6ca-4a82-ac1a-5abaa59e6603",
   "metadata": {
    "tags": []
   },
   "source": [
    "이 결과 데이터프레임의 행은 모두 출력되고 2번열부터 슬라이싱 되어\n",
    "Score 칼럼만 나오는것을 확인할 수 있습니다."
   ]
  },
  {
   "cell_type": "raw",
   "id": "53e6443a-7f68-433a-8fb9-78bab6f9d373",
   "metadata": {},
   "source": [
    "행과 열을 모두 슬라이싱 하기 위해서는\n",
    "대괄호 안에 콤마로 구분되는 행과 열의 각각의 자리에 슬라이싱 내용을 기록해주면 됩니다."
   ]
  },
  {
   "cell_type": "code",
   "execution_count": 47,
   "id": "4554e32f-de0c-4b4c-b95d-5be72d2d9fb4",
   "metadata": {
    "tags": []
   },
   "outputs": [
    {
     "data": {
      "text/html": [
       "<div>\n",
       "<style scoped>\n",
       "    .dataframe tbody tr th:only-of-type {\n",
       "        vertical-align: middle;\n",
       "    }\n",
       "\n",
       "    .dataframe tbody tr th {\n",
       "        vertical-align: top;\n",
       "    }\n",
       "\n",
       "    .dataframe thead th {\n",
       "        text-align: right;\n",
       "    }\n",
       "</style>\n",
       "<table border=\"1\" class=\"dataframe\">\n",
       "  <thead>\n",
       "    <tr style=\"text-align: right;\">\n",
       "      <th></th>\n",
       "      <th>Score</th>\n",
       "    </tr>\n",
       "  </thead>\n",
       "  <tbody>\n",
       "    <tr>\n",
       "      <th>A</th>\n",
       "      <td>85.5</td>\n",
       "    </tr>\n",
       "    <tr>\n",
       "      <th>B</th>\n",
       "      <td>92.0</td>\n",
       "    </tr>\n",
       "  </tbody>\n",
       "</table>\n",
       "</div>"
      ],
      "text/plain": [
       "   Score\n",
       "A   85.5\n",
       "B   92.0"
      ]
     },
     "execution_count": 47,
     "metadata": {},
     "output_type": "execute_result"
    }
   ],
   "source": [
    "# iloc를 활용하여 행과 열 슬라이싱\n",
    "sub = df.iloc[:2, 2:]\n",
    "sub"
   ]
  },
  {
   "cell_type": "raw",
   "id": "142dc1ff-33c3-4c3c-b7ae-4ce733c54af4",
   "metadata": {},
   "source": [
    "그러면 행과 열이 각각 슬라이싱 된 결과를 확인할 수 있습니다."
   ]
  },
  {
   "cell_type": "code",
   "execution_count": 48,
   "id": "d9f44226-87c2-4fc7-978d-727cc4908271",
   "metadata": {
    "tags": []
   },
   "outputs": [
    {
     "data": {
      "text/plain": [
       "pandas.core.frame.DataFrame"
      ]
     },
     "execution_count": 48,
     "metadata": {},
     "output_type": "execute_result"
    }
   ],
   "source": [
    "# 슬라이싱 결과는 DataFrame\n",
    "type(sub)"
   ]
  },
  {
   "cell_type": "raw",
   "id": "03f8869a-6ea9-4855-813c-d6b73419cb04",
   "metadata": {},
   "source": [
    "이경우 슬라이싱 된 결과는 비록 열이 하나일지라도 DataFrame 임을 알 수 있습니다."
   ]
  },
  {
   "cell_type": "code",
   "execution_count": 49,
   "id": "be9bc622-a89a-43a3-930b-992edcd55730",
   "metadata": {
    "tags": []
   },
   "outputs": [
    {
     "name": "stdout",
     "output_type": "stream",
     "text": [
      "<class 'pandas.core.series.Series'>\n",
      "A    85.5\n",
      "B    92.0\n",
      "Name: Score, dtype: float64\n"
     ]
    }
   ],
   "source": [
    "# Series가 리턴되는 경우 1\n",
    "sub = df.iloc[:2, 2]\n",
    "print(type(sub), sub, sep=\"\\n\")"
   ]
  },
  {
   "cell_type": "raw",
   "id": "36cb327a-f60d-42f6-a3a2-4a922583c1d2",
   "metadata": {},
   "source": [
    "만약 열의 자리에 슬라이싱이 아닌 정수 하나만 입력을 한다면,\n",
    "반환되는 객체는 Series 형태가 됩니다."
   ]
  },
  {
   "cell_type": "code",
   "execution_count": 50,
   "id": "e4647fc5-9f9c-4536-8100-6392a1adc811",
   "metadata": {
    "tags": []
   },
   "outputs": [
    {
     "name": "stdout",
     "output_type": "stream",
     "text": [
      "<class 'pandas.core.series.Series'>\n",
      "Score    78.5\n",
      "Name: C, dtype: object\n"
     ]
    }
   ],
   "source": [
    "# Series가 리턴되는 경우 2\n",
    "sub = df.iloc[2, 2:]\n",
    "print(type(sub), sub, sep=\"\\n\")"
   ]
  },
  {
   "cell_type": "raw",
   "id": "b7ce65da-4a06-47a1-a6e0-30a71624d0fa",
   "metadata": {
    "tags": []
   },
   "source": [
    "만약 행의 자리에 슬라이싱이 아닌 정수 하나만 입력을 한다면,\n",
    "이 때도 반환되는 객체는 Series 형태가 됩니다."
   ]
  },
  {
   "cell_type": "raw",
   "id": "897e9193-1e20-4c30-8ee4-bf6aa07502cb",
   "metadata": {},
   "source": [
    "만약 iloc 인덱서에 콤마 없이 하나의 값만 있다면 \n",
    "이 경우 행에 대한 슬라이싱을 진행하게 됩니다."
   ]
  },
  {
   "cell_type": "code",
   "execution_count": 51,
   "id": "89824b9f-dba9-4d75-8e7e-3ae571c04755",
   "metadata": {
    "tags": []
   },
   "outputs": [
    {
     "data": {
      "text/html": [
       "<div>\n",
       "<style scoped>\n",
       "    .dataframe tbody tr th:only-of-type {\n",
       "        vertical-align: middle;\n",
       "    }\n",
       "\n",
       "    .dataframe tbody tr th {\n",
       "        vertical-align: top;\n",
       "    }\n",
       "\n",
       "    .dataframe thead th {\n",
       "        text-align: right;\n",
       "    }\n",
       "</style>\n",
       "<table border=\"1\" class=\"dataframe\">\n",
       "  <thead>\n",
       "    <tr style=\"text-align: right;\">\n",
       "      <th></th>\n",
       "      <th>Name</th>\n",
       "      <th>Age</th>\n",
       "      <th>Score</th>\n",
       "    </tr>\n",
       "  </thead>\n",
       "  <tbody>\n",
       "    <tr>\n",
       "      <th>A</th>\n",
       "      <td>Alice</td>\n",
       "      <td>25</td>\n",
       "      <td>85.5</td>\n",
       "    </tr>\n",
       "    <tr>\n",
       "      <th>B</th>\n",
       "      <td>Bob</td>\n",
       "      <td>30</td>\n",
       "      <td>92.0</td>\n",
       "    </tr>\n",
       "  </tbody>\n",
       "</table>\n",
       "</div>"
      ],
      "text/plain": [
       "    Name  Age  Score\n",
       "A  Alice   25   85.5\n",
       "B    Bob   30   92.0"
      ]
     },
     "execution_count": 51,
     "metadata": {},
     "output_type": "execute_result"
    }
   ],
   "source": [
    "# iloc[행] : iloc의 인자가 하나만 있을 경우 해당 행의 전체 열의 데이터\n",
    "df.iloc[:2]"
   ]
  },
  {
   "cell_type": "raw",
   "id": "47972043-d885-4f5a-853f-9e87cfdcf8d8",
   "metadata": {},
   "source": [
    "만약 df.iloc에 슬라이싱이 아닌 정수 인덱스 하나만 입력할 경우\n",
    "해당 행을 Series로 가져오게 됩니다."
   ]
  },
  {
   "cell_type": "code",
   "execution_count": 52,
   "id": "5e21cb95-0a9e-4012-bb7d-8957ced61096",
   "metadata": {
    "tags": []
   },
   "outputs": [
    {
     "data": {
      "text/plain": [
       "Name     Charlie\n",
       "Age           35\n",
       "Score       78.5\n",
       "Name: C, dtype: object"
      ]
     },
     "execution_count": 52,
     "metadata": {},
     "output_type": "execute_result"
    }
   ],
   "source": [
    "# 해당 행을 Series 형태로 가져옴\n",
    "df.iloc[2]"
   ]
  },
  {
   "cell_type": "code",
   "execution_count": 53,
   "id": "b8078a86-6890-4982-97a0-756ff9ae677b",
   "metadata": {
    "tags": []
   },
   "outputs": [
    {
     "data": {
      "text/plain": [
       "pandas.core.series.Series"
      ]
     },
     "execution_count": 53,
     "metadata": {},
     "output_type": "execute_result"
    }
   ],
   "source": [
    "type(df.iloc[2])"
   ]
  },
  {
   "cell_type": "markdown",
   "id": "99f2e316-141e-4df9-9c25-d31a3b9b7f42",
   "metadata": {},
   "source": [
    "## loc[] 인덱서"
   ]
  },
  {
   "cell_type": "raw",
   "id": "8fd5415e-d2b0-4842-a827-463c258f360c",
   "metadata": {},
   "source": [
    "iloc인덱서가 행,열의 위치를 정수인덱스 기준으로 동작하는데요\n",
    "loc인덱서는 각 행의 인덱스의 라벨명과 각 열의 컬럼명 기준으로 동작합니다."
   ]
  },
  {
   "cell_type": "code",
   "execution_count": 54,
   "id": "d9acbbf4-31cb-43bb-97a7-76f5627d879d",
   "metadata": {
    "tags": []
   },
   "outputs": [
    {
     "data": {
      "text/html": [
       "<div>\n",
       "<style scoped>\n",
       "    .dataframe tbody tr th:only-of-type {\n",
       "        vertical-align: middle;\n",
       "    }\n",
       "\n",
       "    .dataframe tbody tr th {\n",
       "        vertical-align: top;\n",
       "    }\n",
       "\n",
       "    .dataframe thead th {\n",
       "        text-align: right;\n",
       "    }\n",
       "</style>\n",
       "<table border=\"1\" class=\"dataframe\">\n",
       "  <thead>\n",
       "    <tr style=\"text-align: right;\">\n",
       "      <th></th>\n",
       "      <th>Name</th>\n",
       "      <th>Age</th>\n",
       "      <th>Score</th>\n",
       "    </tr>\n",
       "  </thead>\n",
       "  <tbody>\n",
       "    <tr>\n",
       "      <th>A</th>\n",
       "      <td>Alice</td>\n",
       "      <td>25</td>\n",
       "      <td>85.5</td>\n",
       "    </tr>\n",
       "    <tr>\n",
       "      <th>B</th>\n",
       "      <td>Bob</td>\n",
       "      <td>30</td>\n",
       "      <td>92.0</td>\n",
       "    </tr>\n",
       "    <tr>\n",
       "      <th>C</th>\n",
       "      <td>Charlie</td>\n",
       "      <td>35</td>\n",
       "      <td>78.5</td>\n",
       "    </tr>\n",
       "    <tr>\n",
       "      <th>D</th>\n",
       "      <td>David</td>\n",
       "      <td>28</td>\n",
       "      <td>89.3</td>\n",
       "    </tr>\n",
       "    <tr>\n",
       "      <th>E</th>\n",
       "      <td>Eva</td>\n",
       "      <td>22</td>\n",
       "      <td>95.1</td>\n",
       "    </tr>\n",
       "  </tbody>\n",
       "</table>\n",
       "</div>"
      ],
      "text/plain": [
       "      Name  Age  Score\n",
       "A    Alice   25   85.5\n",
       "B      Bob   30   92.0\n",
       "C  Charlie   35   78.5\n",
       "D    David   28   89.3\n",
       "E      Eva   22   95.1"
      ]
     },
     "execution_count": 54,
     "metadata": {},
     "output_type": "execute_result"
    }
   ],
   "source": [
    "\"\"\"\n",
    "loc[]을 사용하여 Series 추출:\n",
    "\"\"\"\n",
    "\n",
    "import pandas as pd\n",
    "import numpy as np\n",
    "# DataFrame 생성\n",
    "data = {\n",
    "    'Name': ['Alice', 'Bob', 'Charlie', 'David', 'Eva'],\n",
    "    'Age': [25, 30, 35, 28, 22],\n",
    "    'Score': [85.5, 92.0, 78.5, 89.3, 95.1]\n",
    "}\n",
    "df = pd.DataFrame(data, index = list(\"ABCDE\"))\n",
    "df\n"
   ]
  },
  {
   "cell_type": "raw",
   "id": "2eddcc72-0c79-451a-8944-348fb5458925",
   "metadata": {},
   "source": [
    "우선 loc를 활용하여 행기준으로 슬라이싱을 하는 방식입니다.\n",
    "이경우 행에는 슬라이싱하고자 하는 열의 인덱스 라벨기반으로 입력하고,\n",
    "슬라이싱이 진행되지 않는 대괄호에서 콤마로 구분되는 열의 자리에는\n",
    "콜론만 넣어주면 됩니다."
   ]
  },
  {
   "cell_type": "code",
   "execution_count": 55,
   "id": "f5161e8b-faa8-4e3c-960a-94abf61db88f",
   "metadata": {
    "tags": []
   },
   "outputs": [
    {
     "data": {
      "text/html": [
       "<div>\n",
       "<style scoped>\n",
       "    .dataframe tbody tr th:only-of-type {\n",
       "        vertical-align: middle;\n",
       "    }\n",
       "\n",
       "    .dataframe tbody tr th {\n",
       "        vertical-align: top;\n",
       "    }\n",
       "\n",
       "    .dataframe thead th {\n",
       "        text-align: right;\n",
       "    }\n",
       "</style>\n",
       "<table border=\"1\" class=\"dataframe\">\n",
       "  <thead>\n",
       "    <tr style=\"text-align: right;\">\n",
       "      <th></th>\n",
       "      <th>Name</th>\n",
       "      <th>Age</th>\n",
       "      <th>Score</th>\n",
       "    </tr>\n",
       "  </thead>\n",
       "  <tbody>\n",
       "    <tr>\n",
       "      <th>B</th>\n",
       "      <td>Bob</td>\n",
       "      <td>30</td>\n",
       "      <td>92.0</td>\n",
       "    </tr>\n",
       "    <tr>\n",
       "      <th>C</th>\n",
       "      <td>Charlie</td>\n",
       "      <td>35</td>\n",
       "      <td>78.5</td>\n",
       "    </tr>\n",
       "  </tbody>\n",
       "</table>\n",
       "</div>"
      ],
      "text/plain": [
       "      Name  Age  Score\n",
       "B      Bob   30   92.0\n",
       "C  Charlie   35   78.5"
      ]
     },
     "execution_count": 55,
     "metadata": {},
     "output_type": "execute_result"
    }
   ],
   "source": [
    "# loc를 활용하여 행기반 인덱싱\n",
    "df.loc[\"B\":\"C\", :]"
   ]
  },
  {
   "cell_type": "raw",
   "id": "9c2f2d5d-b842-42fa-bec3-bca33783c607",
   "metadata": {},
   "source": [
    "그러면 모든 열은 유지한 상태에서\n",
    "행기준으로 슬라이싱이 되는것을 확인할 수 있습니다.\n",
    "이때는 정수형인덱스를 활용할때와는 달리\n",
    "마지막 라벨에 해당하는 \"C\"의 행도 포함되어 있음에 유의해주세요."
   ]
  },
  {
   "cell_type": "raw",
   "id": "664d4fa1-b0ae-4b9d-94c4-04e59e714b62",
   "metadata": {},
   "source": [
    "다음은 loc를 활용하여 열기준으로 슬라이싱을 하는 방식입니다.\n",
    "이경우 열에는 슬라이싱하고자 하는 행의 컬럼이름기반으로 입력하고,\n",
    "슬라이싱이 진행되지 않는 대괄호에서 콤마로 구분되는 행의 자리에는\n",
    "콜론만 넣어주면 됩니다."
   ]
  },
  {
   "cell_type": "code",
   "execution_count": 56,
   "id": "90d19f64-9400-45e4-8289-5e1f5aea112d",
   "metadata": {
    "tags": []
   },
   "outputs": [
    {
     "data": {
      "text/html": [
       "<div>\n",
       "<style scoped>\n",
       "    .dataframe tbody tr th:only-of-type {\n",
       "        vertical-align: middle;\n",
       "    }\n",
       "\n",
       "    .dataframe tbody tr th {\n",
       "        vertical-align: top;\n",
       "    }\n",
       "\n",
       "    .dataframe thead th {\n",
       "        text-align: right;\n",
       "    }\n",
       "</style>\n",
       "<table border=\"1\" class=\"dataframe\">\n",
       "  <thead>\n",
       "    <tr style=\"text-align: right;\">\n",
       "      <th></th>\n",
       "      <th>Age</th>\n",
       "      <th>Score</th>\n",
       "    </tr>\n",
       "  </thead>\n",
       "  <tbody>\n",
       "    <tr>\n",
       "      <th>A</th>\n",
       "      <td>25</td>\n",
       "      <td>85.5</td>\n",
       "    </tr>\n",
       "    <tr>\n",
       "      <th>B</th>\n",
       "      <td>30</td>\n",
       "      <td>92.0</td>\n",
       "    </tr>\n",
       "    <tr>\n",
       "      <th>C</th>\n",
       "      <td>35</td>\n",
       "      <td>78.5</td>\n",
       "    </tr>\n",
       "    <tr>\n",
       "      <th>D</th>\n",
       "      <td>28</td>\n",
       "      <td>89.3</td>\n",
       "    </tr>\n",
       "    <tr>\n",
       "      <th>E</th>\n",
       "      <td>22</td>\n",
       "      <td>95.1</td>\n",
       "    </tr>\n",
       "  </tbody>\n",
       "</table>\n",
       "</div>"
      ],
      "text/plain": [
       "   Age  Score\n",
       "A   25   85.5\n",
       "B   30   92.0\n",
       "C   35   78.5\n",
       "D   28   89.3\n",
       "E   22   95.1"
      ]
     },
     "execution_count": 56,
     "metadata": {},
     "output_type": "execute_result"
    }
   ],
   "source": [
    "# loc를 활용하여 열기반 인덱싱\n",
    "df.loc[:, \"Age\":\"Score\"]"
   ]
  },
  {
   "cell_type": "raw",
   "id": "2a2c8646-657c-4b48-b4c9-c58023f532f3",
   "metadata": {},
   "source": [
    "그 결과 모든 행이 출력되고\n",
    "행은 슬라이싱 된 \"Age\" 이름의 열부터 \"Score\" 이름의 열까지만 나타나는 것을 볼 수 있습니다.\n",
    "여기에서도 정수형 인덱스와는 달리 마지막 열에 해당하는 \"Age\"컬럼이 포함하여 슬라이싱 되었음에 유의해주세요."
   ]
  },
  {
   "cell_type": "code",
   "execution_count": 57,
   "id": "1bda3a72-57c9-43db-ae2f-335089d64aa7",
   "metadata": {
    "tags": []
   },
   "outputs": [
    {
     "data": {
      "text/plain": [
       "pandas.core.frame.DataFrame"
      ]
     },
     "execution_count": 57,
     "metadata": {},
     "output_type": "execute_result"
    }
   ],
   "source": [
    "# 슬라이승 결과는 DataFrame 임\n",
    "type(df.loc[:, \"Age\":\"Score\"])"
   ]
  },
  {
   "cell_type": "raw",
   "id": "f7b41bad-45dd-483c-b890-4f5bb2103367",
   "metadata": {},
   "source": [
    "위의 방법들로 슬라이싱된 결과는 DataFrame 타입의 객체가 됩니다."
   ]
  },
  {
   "cell_type": "raw",
   "id": "a8fad6c0-f082-48df-b0cd-17267d7f8c6b",
   "metadata": {},
   "source": [
    "iloc인덱서와 마찬가지로\n",
    "만약 행이나 열의 자리에 슬라이싱이 아닌 단일 인덱스만 들어간다면\n",
    "데이터프레임이 아닌 시리즈 타입의 객체를 반환하게 됩니다."
   ]
  },
  {
   "cell_type": "code",
   "execution_count": 58,
   "id": "ff96d5c8-d2f2-4d5d-bd87-be37e330f737",
   "metadata": {
    "tags": []
   },
   "outputs": [
    {
     "data": {
      "text/plain": [
       "Name     David\n",
       "Age         28\n",
       "Score     89.3\n",
       "Name: D, dtype: object"
      ]
     },
     "execution_count": 58,
     "metadata": {},
     "output_type": "execute_result"
    }
   ],
   "source": [
    "# 특정 행을 Series로 \n",
    "\n",
    "df.loc[\"D\",:]"
   ]
  },
  {
   "cell_type": "code",
   "execution_count": 59,
   "id": "0bd25c17-ecba-4ad3-a2b0-a2c8d081ea9f",
   "metadata": {
    "tags": []
   },
   "outputs": [
    {
     "data": {
      "text/plain": [
       "pandas.core.series.Series"
      ]
     },
     "execution_count": 59,
     "metadata": {},
     "output_type": "execute_result"
    }
   ],
   "source": [
    "type(df.loc[\"D\",:])"
   ]
  },
  {
   "cell_type": "code",
   "execution_count": 60,
   "id": "fdc8e3de-96c3-4714-a25c-2e31ba0ce7ab",
   "metadata": {
    "tags": []
   },
   "outputs": [
    {
     "data": {
      "text/plain": [
       "A    85.5\n",
       "B    92.0\n",
       "C    78.5\n",
       "D    89.3\n",
       "E    95.1\n",
       "Name: Score, dtype: float64"
      ]
     },
     "execution_count": 60,
     "metadata": {},
     "output_type": "execute_result"
    }
   ],
   "source": [
    "# 특정 열을 Series로 \n",
    "\n",
    "df.loc[:,\"Score\"]"
   ]
  },
  {
   "cell_type": "code",
   "execution_count": 61,
   "id": "11dfa3ee-aefa-4258-91b1-3b92265b6f46",
   "metadata": {
    "tags": []
   },
   "outputs": [
    {
     "data": {
      "text/plain": [
       "pandas.core.series.Series"
      ]
     },
     "execution_count": 61,
     "metadata": {},
     "output_type": "execute_result"
    }
   ],
   "source": [
    "type(df.loc[:,\"Score\"])"
   ]
  },
  {
   "cell_type": "raw",
   "id": "4ba6a41d-622a-44b3-a7af-aeed9a6a029e",
   "metadata": {},
   "source": [
    "만약 loc 인덱서에 콤마 없이 하나의 슬라이싱 정보만 들어간다면,\n",
    "이는 행에 대한 슬라이싱을 진행합니다."
   ]
  },
  {
   "cell_type": "code",
   "execution_count": 62,
   "id": "3c520547-f88e-4bba-b49c-59ccf83cda53",
   "metadata": {
    "tags": []
   },
   "outputs": [
    {
     "data": {
      "text/html": [
       "<div>\n",
       "<style scoped>\n",
       "    .dataframe tbody tr th:only-of-type {\n",
       "        vertical-align: middle;\n",
       "    }\n",
       "\n",
       "    .dataframe tbody tr th {\n",
       "        vertical-align: top;\n",
       "    }\n",
       "\n",
       "    .dataframe thead th {\n",
       "        text-align: right;\n",
       "    }\n",
       "</style>\n",
       "<table border=\"1\" class=\"dataframe\">\n",
       "  <thead>\n",
       "    <tr style=\"text-align: right;\">\n",
       "      <th></th>\n",
       "      <th>Name</th>\n",
       "      <th>Age</th>\n",
       "      <th>Score</th>\n",
       "    </tr>\n",
       "  </thead>\n",
       "  <tbody>\n",
       "    <tr>\n",
       "      <th>A</th>\n",
       "      <td>Alice</td>\n",
       "      <td>25</td>\n",
       "      <td>85.5</td>\n",
       "    </tr>\n",
       "    <tr>\n",
       "      <th>B</th>\n",
       "      <td>Bob</td>\n",
       "      <td>30</td>\n",
       "      <td>92.0</td>\n",
       "    </tr>\n",
       "    <tr>\n",
       "      <th>C</th>\n",
       "      <td>Charlie</td>\n",
       "      <td>35</td>\n",
       "      <td>78.5</td>\n",
       "    </tr>\n",
       "  </tbody>\n",
       "</table>\n",
       "</div>"
      ],
      "text/plain": [
       "      Name  Age  Score\n",
       "A    Alice   25   85.5\n",
       "B      Bob   30   92.0\n",
       "C  Charlie   35   78.5"
      ]
     },
     "execution_count": 62,
     "metadata": {},
     "output_type": "execute_result"
    }
   ],
   "source": [
    "# 해\n",
    "df.loc[\"A\":\"C\"]"
   ]
  },
  {
   "cell_type": "raw",
   "id": "0be5e122-d75d-4a61-affa-df3a8a5d8bc5",
   "metadata": {
    "tags": []
   },
   "source": [
    "만약 loc 인덱서에 콤마 없이 하나의 값만 들어간다면,\n",
    "이는 행에 대한 시리즈를 반환합니다."
   ]
  },
  {
   "cell_type": "code",
   "execution_count": 63,
   "id": "897e3b5a-fa1e-472c-b13d-b6bdf8b5b116",
   "metadata": {
    "tags": []
   },
   "outputs": [
    {
     "data": {
      "text/plain": [
       "Name      Bob\n",
       "Age        30\n",
       "Score    92.0\n",
       "Name: B, dtype: object"
      ]
     },
     "execution_count": 63,
     "metadata": {},
     "output_type": "execute_result"
    }
   ],
   "source": [
    "# 해당 행을 Series 형태로 가져옴\n",
    "df.loc[\"B\"]"
   ]
  },
  {
   "cell_type": "code",
   "execution_count": 64,
   "id": "0832ef1b-aaaf-4c3d-9079-50e5fa8513b0",
   "metadata": {
    "tags": []
   },
   "outputs": [
    {
     "data": {
      "text/plain": [
       "pandas.core.series.Series"
      ]
     },
     "execution_count": 64,
     "metadata": {},
     "output_type": "execute_result"
    }
   ],
   "source": [
    "type(df.loc[\"B\"])"
   ]
  },
  {
   "cell_type": "raw",
   "id": "325c676e-e594-4261-a8ff-59eed8273586",
   "metadata": {},
   "source": [
    "위에서 살펴 보았던 iloc인덱서, loc 인덱서외에도\n",
    "대괄호를 사용하여 인덱싱을 할 수 있습니다.\n",
    "주요 사용 방법은 아래와 같습니다.\n",
    "만약 대괄호 안에 열이름이 있다면 ... ... ..."
   ]
  },
  {
   "cell_type": "markdown",
   "id": "d9deae79-b994-4474-9d41-87ffc772b638",
   "metadata": {},
   "source": [
    "## [] 기반 데이터 접근\n",
    "\n",
    "Pandas DataFrame에서 []는 여러 가지 기능을 수행하는데 사용됩니다. \n",
    "\n",
    "|표현|인덱싱|기능|설명|\n",
    "|--|--|--|--|\n",
    "|df[열 이름]|df.loc[:, 열이름]|열(Column) 접근| 해당 열을 Series로 추출합니다.|\n",
    "|df[열 이름 리스트]|df.loc[:, 열이름 리스트]|여러 열에 접근 | 해당 열들을 DataFrame으로 추출합니다.|\n",
    "|df[슬라이싱]|df.loc[슬라이싱] or df.iloc[슬라이싱]|행 슬라이싱(Slicing) |하여 DataFrame에서 특정 범위의 행을 추출합니다.|\n",
    "|df[불린(Boolean) 조건]| - |조건 필터링(Condition Filtering) |조건에 맞는 행만 추출합니다.|\n",
    "\n"
   ]
  },
  {
   "cell_type": "raw",
   "id": "2df4ba84-fa6d-4381-8a48-609fa06a55c0",
   "metadata": {},
   "source": [
    "예제를 통해서 알아보도록 하겠습니다.\n",
    "우선 예제에 활용할 데이터 프레임을 만들어 줍니다."
   ]
  },
  {
   "cell_type": "code",
   "execution_count": 65,
   "id": "42494e10-1791-470b-9c6c-26d76fbf6e6e",
   "metadata": {
    "tags": []
   },
   "outputs": [
    {
     "data": {
      "text/html": [
       "<div>\n",
       "<style scoped>\n",
       "    .dataframe tbody tr th:only-of-type {\n",
       "        vertical-align: middle;\n",
       "    }\n",
       "\n",
       "    .dataframe tbody tr th {\n",
       "        vertical-align: top;\n",
       "    }\n",
       "\n",
       "    .dataframe thead th {\n",
       "        text-align: right;\n",
       "    }\n",
       "</style>\n",
       "<table border=\"1\" class=\"dataframe\">\n",
       "  <thead>\n",
       "    <tr style=\"text-align: right;\">\n",
       "      <th></th>\n",
       "      <th>Name</th>\n",
       "      <th>Age</th>\n",
       "      <th>Score</th>\n",
       "    </tr>\n",
       "  </thead>\n",
       "  <tbody>\n",
       "    <tr>\n",
       "      <th>A</th>\n",
       "      <td>Alice</td>\n",
       "      <td>25</td>\n",
       "      <td>85.5</td>\n",
       "    </tr>\n",
       "    <tr>\n",
       "      <th>B</th>\n",
       "      <td>Bob</td>\n",
       "      <td>30</td>\n",
       "      <td>92.0</td>\n",
       "    </tr>\n",
       "    <tr>\n",
       "      <th>C</th>\n",
       "      <td>Charlie</td>\n",
       "      <td>35</td>\n",
       "      <td>78.5</td>\n",
       "    </tr>\n",
       "    <tr>\n",
       "      <th>D</th>\n",
       "      <td>David</td>\n",
       "      <td>28</td>\n",
       "      <td>89.3</td>\n",
       "    </tr>\n",
       "    <tr>\n",
       "      <th>E</th>\n",
       "      <td>Eva</td>\n",
       "      <td>22</td>\n",
       "      <td>95.1</td>\n",
       "    </tr>\n",
       "  </tbody>\n",
       "</table>\n",
       "</div>"
      ],
      "text/plain": [
       "      Name  Age  Score\n",
       "A    Alice   25   85.5\n",
       "B      Bob   30   92.0\n",
       "C  Charlie   35   78.5\n",
       "D    David   28   89.3\n",
       "E      Eva   22   95.1"
      ]
     },
     "execution_count": 65,
     "metadata": {},
     "output_type": "execute_result"
    }
   ],
   "source": [
    "\"\"\"\n",
    "열(Column) 접근:\n",
    "[] 안에 열 이름을 넣으면 해당 열을 Series로 추출합니다.\n",
    "DataFrame의 열은 사전(Dict)처럼 취급되기 때문에 열 이름을 키로 사용하여 열에 접근합니다.\n",
    "\"\"\"\n",
    "import pandas as pd\n",
    "import numpy as np\n",
    "# DataFrame 생성\n",
    "data = {\n",
    "    'Name': ['Alice', 'Bob', 'Charlie', 'David', 'Eva'],\n",
    "    'Age': [25, 30, 35, 28, 22],\n",
    "    'Score': [85.5, 92.0, 78.5, 89.3, 95.1]\n",
    "}\n",
    "df = pd.DataFrame(data, index = list(\"ABCDE\"))\n",
    "df"
   ]
  },
  {
   "cell_type": "raw",
   "id": "cfa0ab01-e51b-4e92-bf5c-5958c10cce21",
   "metadata": {},
   "source": [
    "우선 대괄호 안에 열 이름을 입력하는 경우입니다."
   ]
  },
  {
   "cell_type": "code",
   "execution_count": 66,
   "id": "b93a5e21-d129-4258-ace6-e8baed3c531a",
   "metadata": {
    "tags": []
   },
   "outputs": [
    {
     "data": {
      "text/plain": [
       "A      Alice\n",
       "B        Bob\n",
       "C    Charlie\n",
       "D      David\n",
       "E        Eva\n",
       "Name: Name, dtype: object"
      ]
     },
     "execution_count": 66,
     "metadata": {},
     "output_type": "execute_result"
    }
   ],
   "source": [
    "\"\"\"\n",
    "df[열이름]\n",
    "\"\"\"\n",
    "\n",
    "# 'Name' 열에 해당하는 데이터를 Series로 추출\n",
    "df[\"Name\"]"
   ]
  },
  {
   "cell_type": "code",
   "execution_count": 67,
   "id": "93423607-f30d-4bdf-86c5-3c5f842a005a",
   "metadata": {
    "tags": []
   },
   "outputs": [
    {
     "data": {
      "text/plain": [
       "pandas.core.series.Series"
      ]
     },
     "execution_count": 67,
     "metadata": {},
     "output_type": "execute_result"
    }
   ],
   "source": [
    "type(df[\"Name\"])"
   ]
  },
  {
   "cell_type": "raw",
   "id": "abd96f86-0e7c-441c-8195-fe4629703ecc",
   "metadata": {},
   "source": [
    "이경우 해당 열이 series형태로 추출되는 것을 볼 수 있습니다."
   ]
  },
  {
   "cell_type": "raw",
   "id": "67830971-8d70-42d7-a379-d2a0ae9a0918",
   "metadata": {},
   "source": [
    "데이터 프레임에서 특정열을 series 형태로 추출하고자 하는 경우\n",
    "아래와 같이 attribute를 접근하는 형태로도 사용이 가능합니다.\n",
    "물론 데이터프레임에서 기본적으로 제공하는 속성과 이름이 겹칠 경우에는 사용할 수 없습니다."
   ]
  },
  {
   "cell_type": "code",
   "execution_count": 68,
   "id": "08725f7b-88b6-4faa-a183-c1517799f309",
   "metadata": {
    "tags": []
   },
   "outputs": [
    {
     "data": {
      "text/plain": [
       "A      Alice\n",
       "B        Bob\n",
       "C    Charlie\n",
       "D      David\n",
       "E        Eva\n",
       "Name: Name, dtype: object"
      ]
     },
     "execution_count": 68,
     "metadata": {},
     "output_type": "execute_result"
    }
   ],
   "source": [
    "df.Name"
   ]
  },
  {
   "cell_type": "raw",
   "id": "05f0e15f-c8b8-4e0e-91f6-a55f47a472d9",
   "metadata": {},
   "source": [
    "그리고 이는 loc 인덱서를 사용하는 것과 동일한 기능입니다."
   ]
  },
  {
   "cell_type": "code",
   "execution_count": 69,
   "id": "77dbecbe-e800-46c0-ae5c-970c2335bc6b",
   "metadata": {
    "tags": []
   },
   "outputs": [
    {
     "data": {
      "text/plain": [
       "A      Alice\n",
       "B        Bob\n",
       "C    Charlie\n",
       "D      David\n",
       "E        Eva\n",
       "Name: Name, dtype: object"
      ]
     },
     "execution_count": 69,
     "metadata": {},
     "output_type": "execute_result"
    }
   ],
   "source": [
    "df.loc[:, \"Name\"]"
   ]
  },
  {
   "cell_type": "raw",
   "id": "ef57431f-b549-4825-a72f-f57c01a926b1",
   "metadata": {},
   "source": [
    "대괄호 안에 여러 열 이름을 리스트로 넣으면 해당 열들을 기반으로 DataFrame으로 추출합니다."
   ]
  },
  {
   "cell_type": "code",
   "execution_count": 70,
   "id": "720ba2cc-0574-48b7-ad24-9ed9e31ece1f",
   "metadata": {
    "tags": []
   },
   "outputs": [
    {
     "data": {
      "text/html": [
       "<div>\n",
       "<style scoped>\n",
       "    .dataframe tbody tr th:only-of-type {\n",
       "        vertical-align: middle;\n",
       "    }\n",
       "\n",
       "    .dataframe tbody tr th {\n",
       "        vertical-align: top;\n",
       "    }\n",
       "\n",
       "    .dataframe thead th {\n",
       "        text-align: right;\n",
       "    }\n",
       "</style>\n",
       "<table border=\"1\" class=\"dataframe\">\n",
       "  <thead>\n",
       "    <tr style=\"text-align: right;\">\n",
       "      <th></th>\n",
       "      <th>Name</th>\n",
       "      <th>Age</th>\n",
       "      <th>Score</th>\n",
       "    </tr>\n",
       "  </thead>\n",
       "  <tbody>\n",
       "    <tr>\n",
       "      <th>A</th>\n",
       "      <td>Alice</td>\n",
       "      <td>25</td>\n",
       "      <td>85.5</td>\n",
       "    </tr>\n",
       "    <tr>\n",
       "      <th>B</th>\n",
       "      <td>Bob</td>\n",
       "      <td>30</td>\n",
       "      <td>92.0</td>\n",
       "    </tr>\n",
       "    <tr>\n",
       "      <th>C</th>\n",
       "      <td>Charlie</td>\n",
       "      <td>35</td>\n",
       "      <td>78.5</td>\n",
       "    </tr>\n",
       "    <tr>\n",
       "      <th>D</th>\n",
       "      <td>David</td>\n",
       "      <td>28</td>\n",
       "      <td>89.3</td>\n",
       "    </tr>\n",
       "    <tr>\n",
       "      <th>E</th>\n",
       "      <td>Eva</td>\n",
       "      <td>22</td>\n",
       "      <td>95.1</td>\n",
       "    </tr>\n",
       "  </tbody>\n",
       "</table>\n",
       "</div>"
      ],
      "text/plain": [
       "      Name  Age  Score\n",
       "A    Alice   25   85.5\n",
       "B      Bob   30   92.0\n",
       "C  Charlie   35   78.5\n",
       "D    David   28   89.3\n",
       "E      Eva   22   95.1"
      ]
     },
     "execution_count": 70,
     "metadata": {},
     "output_type": "execute_result"
    }
   ],
   "source": [
    "\"\"\"\n",
    "여러 열에 접근:\n",
    "[] 안에 여러 열 이름을 리스트로 넣으면 해당 열들을 기반으로 DataFrame으로 추출합니다.\n",
    "\"\"\"\n",
    "# DataFrame 생성\n",
    "import pandas as pd\n",
    "import numpy as np\n",
    "# DataFrame 생성\n",
    "data = {\n",
    "    'Name': ['Alice', 'Bob', 'Charlie', 'David', 'Eva'],\n",
    "    'Age': [25, 30, 35, 28, 22],\n",
    "    'Score': [85.5, 92.0, 78.5, 89.3, 95.1]\n",
    "}\n",
    "df = pd.DataFrame(data, index = list(\"ABCDE\"))\n",
    "df"
   ]
  },
  {
   "cell_type": "code",
   "execution_count": 71,
   "id": "804475a2-ccde-43aa-845b-aa9588f6529a",
   "metadata": {
    "tags": []
   },
   "outputs": [
    {
     "data": {
      "text/html": [
       "<div>\n",
       "<style scoped>\n",
       "    .dataframe tbody tr th:only-of-type {\n",
       "        vertical-align: middle;\n",
       "    }\n",
       "\n",
       "    .dataframe tbody tr th {\n",
       "        vertical-align: top;\n",
       "    }\n",
       "\n",
       "    .dataframe thead th {\n",
       "        text-align: right;\n",
       "    }\n",
       "</style>\n",
       "<table border=\"1\" class=\"dataframe\">\n",
       "  <thead>\n",
       "    <tr style=\"text-align: right;\">\n",
       "      <th></th>\n",
       "      <th>Name</th>\n",
       "      <th>Age</th>\n",
       "    </tr>\n",
       "  </thead>\n",
       "  <tbody>\n",
       "    <tr>\n",
       "      <th>A</th>\n",
       "      <td>Alice</td>\n",
       "      <td>25</td>\n",
       "    </tr>\n",
       "    <tr>\n",
       "      <th>B</th>\n",
       "      <td>Bob</td>\n",
       "      <td>30</td>\n",
       "    </tr>\n",
       "    <tr>\n",
       "      <th>C</th>\n",
       "      <td>Charlie</td>\n",
       "      <td>35</td>\n",
       "    </tr>\n",
       "    <tr>\n",
       "      <th>D</th>\n",
       "      <td>David</td>\n",
       "      <td>28</td>\n",
       "    </tr>\n",
       "    <tr>\n",
       "      <th>E</th>\n",
       "      <td>Eva</td>\n",
       "      <td>22</td>\n",
       "    </tr>\n",
       "  </tbody>\n",
       "</table>\n",
       "</div>"
      ],
      "text/plain": [
       "      Name  Age\n",
       "A    Alice   25\n",
       "B      Bob   30\n",
       "C  Charlie   35\n",
       "D    David   28\n",
       "E      Eva   22"
      ]
     },
     "execution_count": 71,
     "metadata": {},
     "output_type": "execute_result"
    }
   ],
   "source": [
    "df[[\"Name\",\"Age\"]]"
   ]
  },
  {
   "cell_type": "raw",
   "id": "8f6d2d95-b23d-41e2-b7a3-7e4f9803046c",
   "metadata": {},
   "source": [
    "이는 아래와 같이 loc 인덱서를 사용한것과 동일한 기능을 수행합니다."
   ]
  },
  {
   "cell_type": "code",
   "execution_count": 72,
   "id": "d276f32d-b694-4f5e-9ce6-e8bcb87e6369",
   "metadata": {
    "tags": []
   },
   "outputs": [
    {
     "data": {
      "text/html": [
       "<div>\n",
       "<style scoped>\n",
       "    .dataframe tbody tr th:only-of-type {\n",
       "        vertical-align: middle;\n",
       "    }\n",
       "\n",
       "    .dataframe tbody tr th {\n",
       "        vertical-align: top;\n",
       "    }\n",
       "\n",
       "    .dataframe thead th {\n",
       "        text-align: right;\n",
       "    }\n",
       "</style>\n",
       "<table border=\"1\" class=\"dataframe\">\n",
       "  <thead>\n",
       "    <tr style=\"text-align: right;\">\n",
       "      <th></th>\n",
       "      <th>Name</th>\n",
       "      <th>Age</th>\n",
       "    </tr>\n",
       "  </thead>\n",
       "  <tbody>\n",
       "    <tr>\n",
       "      <th>A</th>\n",
       "      <td>Alice</td>\n",
       "      <td>25</td>\n",
       "    </tr>\n",
       "    <tr>\n",
       "      <th>B</th>\n",
       "      <td>Bob</td>\n",
       "      <td>30</td>\n",
       "    </tr>\n",
       "    <tr>\n",
       "      <th>C</th>\n",
       "      <td>Charlie</td>\n",
       "      <td>35</td>\n",
       "    </tr>\n",
       "    <tr>\n",
       "      <th>D</th>\n",
       "      <td>David</td>\n",
       "      <td>28</td>\n",
       "    </tr>\n",
       "    <tr>\n",
       "      <th>E</th>\n",
       "      <td>Eva</td>\n",
       "      <td>22</td>\n",
       "    </tr>\n",
       "  </tbody>\n",
       "</table>\n",
       "</div>"
      ],
      "text/plain": [
       "      Name  Age\n",
       "A    Alice   25\n",
       "B      Bob   30\n",
       "C  Charlie   35\n",
       "D    David   28\n",
       "E      Eva   22"
      ]
     },
     "execution_count": 72,
     "metadata": {},
     "output_type": "execute_result"
    }
   ],
   "source": [
    "df.loc[:, [\"Name\",\"Age\"]]"
   ]
  },
  {
   "cell_type": "code",
   "execution_count": 73,
   "id": "699f6198-4533-4bd5-b4c8-4b0ff72ab88a",
   "metadata": {
    "tags": []
   },
   "outputs": [
    {
     "data": {
      "text/html": [
       "<div>\n",
       "<style scoped>\n",
       "    .dataframe tbody tr th:only-of-type {\n",
       "        vertical-align: middle;\n",
       "    }\n",
       "\n",
       "    .dataframe tbody tr th {\n",
       "        vertical-align: top;\n",
       "    }\n",
       "\n",
       "    .dataframe thead th {\n",
       "        text-align: right;\n",
       "    }\n",
       "</style>\n",
       "<table border=\"1\" class=\"dataframe\">\n",
       "  <thead>\n",
       "    <tr style=\"text-align: right;\">\n",
       "      <th></th>\n",
       "      <th>Name</th>\n",
       "      <th>Age</th>\n",
       "    </tr>\n",
       "  </thead>\n",
       "  <tbody>\n",
       "    <tr>\n",
       "      <th>A</th>\n",
       "      <td>Alice</td>\n",
       "      <td>25</td>\n",
       "    </tr>\n",
       "    <tr>\n",
       "      <th>B</th>\n",
       "      <td>Bob</td>\n",
       "      <td>30</td>\n",
       "    </tr>\n",
       "    <tr>\n",
       "      <th>C</th>\n",
       "      <td>Charlie</td>\n",
       "      <td>35</td>\n",
       "    </tr>\n",
       "    <tr>\n",
       "      <th>D</th>\n",
       "      <td>David</td>\n",
       "      <td>28</td>\n",
       "    </tr>\n",
       "    <tr>\n",
       "      <th>E</th>\n",
       "      <td>Eva</td>\n",
       "      <td>22</td>\n",
       "    </tr>\n",
       "  </tbody>\n",
       "</table>\n",
       "</div>"
      ],
      "text/plain": [
       "      Name  Age\n",
       "A    Alice   25\n",
       "B      Bob   30\n",
       "C  Charlie   35\n",
       "D    David   28\n",
       "E      Eva   22"
      ]
     },
     "execution_count": 73,
     "metadata": {},
     "output_type": "execute_result"
    }
   ],
   "source": [
    "df.loc[:, \"Name\":\"Age\"]"
   ]
  },
  {
   "cell_type": "raw",
   "id": "541c4c55-319f-48d9-9b09-dcc9b76d301c",
   "metadata": {},
   "source": [
    "다음은 대괄호 안에 슬라이싱을 입력하는 경우입니다.\n",
    "이경우 행 기준으로 슬라이싱을 진행합니다."
   ]
  },
  {
   "cell_type": "code",
   "execution_count": 75,
   "id": "cb0a1549-9e94-4f2d-acff-061227d8e99b",
   "metadata": {
    "tags": []
   },
   "outputs": [
    {
     "data": {
      "text/html": [
       "<div>\n",
       "<style scoped>\n",
       "    .dataframe tbody tr th:only-of-type {\n",
       "        vertical-align: middle;\n",
       "    }\n",
       "\n",
       "    .dataframe tbody tr th {\n",
       "        vertical-align: top;\n",
       "    }\n",
       "\n",
       "    .dataframe thead th {\n",
       "        text-align: right;\n",
       "    }\n",
       "</style>\n",
       "<table border=\"1\" class=\"dataframe\">\n",
       "  <thead>\n",
       "    <tr style=\"text-align: right;\">\n",
       "      <th></th>\n",
       "      <th>Name</th>\n",
       "      <th>Age</th>\n",
       "      <th>Score</th>\n",
       "    </tr>\n",
       "  </thead>\n",
       "  <tbody>\n",
       "    <tr>\n",
       "      <th>A</th>\n",
       "      <td>Alice</td>\n",
       "      <td>25</td>\n",
       "      <td>85.5</td>\n",
       "    </tr>\n",
       "    <tr>\n",
       "      <th>B</th>\n",
       "      <td>Bob</td>\n",
       "      <td>30</td>\n",
       "      <td>92.0</td>\n",
       "    </tr>\n",
       "    <tr>\n",
       "      <th>C</th>\n",
       "      <td>Charlie</td>\n",
       "      <td>35</td>\n",
       "      <td>78.5</td>\n",
       "    </tr>\n",
       "    <tr>\n",
       "      <th>D</th>\n",
       "      <td>David</td>\n",
       "      <td>28</td>\n",
       "      <td>89.3</td>\n",
       "    </tr>\n",
       "    <tr>\n",
       "      <th>E</th>\n",
       "      <td>Eva</td>\n",
       "      <td>22</td>\n",
       "      <td>95.1</td>\n",
       "    </tr>\n",
       "  </tbody>\n",
       "</table>\n",
       "</div>"
      ],
      "text/plain": [
       "      Name  Age  Score\n",
       "A    Alice   25   85.5\n",
       "B      Bob   30   92.0\n",
       "C  Charlie   35   78.5\n",
       "D    David   28   89.3\n",
       "E      Eva   22   95.1"
      ]
     },
     "execution_count": 75,
     "metadata": {},
     "output_type": "execute_result"
    }
   ],
   "source": [
    "\"\"\"\n",
    "슬라이싱(Slicing):\n",
    "[] 안에 슬라이싱을 사용하여 DataFrame에서 특정 범위의 행을 추출합니다.\n",
    "\"\"\"\n",
    "\n",
    "# DataFrame 생성\n",
    "import pandas as pd\n",
    "import numpy as np\n",
    "# DataFrame 생성\n",
    "data = {\n",
    "    'Name': ['Alice', 'Bob', 'Charlie', 'David', 'Eva'],\n",
    "    'Age': [25, 30, 35, 28, 22],\n",
    "    'Score': [85.5, 92.0, 78.5, 89.3, 95.1]\n",
    "}\n",
    "df = pd.DataFrame(data, index = list(\"ABCDE\"))\n",
    "df"
   ]
  },
  {
   "cell_type": "code",
   "execution_count": 76,
   "id": "aa1a5c3b-193b-42c5-a4ea-091e53131a26",
   "metadata": {
    "tags": []
   },
   "outputs": [
    {
     "data": {
      "text/html": [
       "<div>\n",
       "<style scoped>\n",
       "    .dataframe tbody tr th:only-of-type {\n",
       "        vertical-align: middle;\n",
       "    }\n",
       "\n",
       "    .dataframe tbody tr th {\n",
       "        vertical-align: top;\n",
       "    }\n",
       "\n",
       "    .dataframe thead th {\n",
       "        text-align: right;\n",
       "    }\n",
       "</style>\n",
       "<table border=\"1\" class=\"dataframe\">\n",
       "  <thead>\n",
       "    <tr style=\"text-align: right;\">\n",
       "      <th></th>\n",
       "      <th>Name</th>\n",
       "      <th>Age</th>\n",
       "      <th>Score</th>\n",
       "    </tr>\n",
       "  </thead>\n",
       "  <tbody>\n",
       "    <tr>\n",
       "      <th>B</th>\n",
       "      <td>Bob</td>\n",
       "      <td>30</td>\n",
       "      <td>92.0</td>\n",
       "    </tr>\n",
       "    <tr>\n",
       "      <th>C</th>\n",
       "      <td>Charlie</td>\n",
       "      <td>35</td>\n",
       "      <td>78.5</td>\n",
       "    </tr>\n",
       "    <tr>\n",
       "      <th>D</th>\n",
       "      <td>David</td>\n",
       "      <td>28</td>\n",
       "      <td>89.3</td>\n",
       "    </tr>\n",
       "  </tbody>\n",
       "</table>\n",
       "</div>"
      ],
      "text/plain": [
       "      Name  Age  Score\n",
       "B      Bob   30   92.0\n",
       "C  Charlie   35   78.5\n",
       "D    David   28   89.3"
      ]
     },
     "execution_count": 76,
     "metadata": {},
     "output_type": "execute_result"
    }
   ],
   "source": [
    "# 슬라이싱을 사용하여 인덱스 1부터 3까지의 행을 추출\n",
    "df[\"B\":\"D\"]"
   ]
  },
  {
   "cell_type": "raw",
   "id": "c9093dcd-ca11-41f5-8e0d-7770288454e3",
   "metadata": {},
   "source": [
    "위의 코드는 인덱스가 \"B\"인 행으로부터 \"D\"인 행까지를 슬라이싱한 결과를 반환합니다.\n",
    "라벨 인덱스 기반으로 동작하는 loc와 동일한 기능을 수행합니다."
   ]
  },
  {
   "cell_type": "code",
   "execution_count": 77,
   "id": "20e833b9-9edc-428a-9a44-c4c2e5160733",
   "metadata": {
    "tags": []
   },
   "outputs": [
    {
     "data": {
      "text/html": [
       "<div>\n",
       "<style scoped>\n",
       "    .dataframe tbody tr th:only-of-type {\n",
       "        vertical-align: middle;\n",
       "    }\n",
       "\n",
       "    .dataframe tbody tr th {\n",
       "        vertical-align: top;\n",
       "    }\n",
       "\n",
       "    .dataframe thead th {\n",
       "        text-align: right;\n",
       "    }\n",
       "</style>\n",
       "<table border=\"1\" class=\"dataframe\">\n",
       "  <thead>\n",
       "    <tr style=\"text-align: right;\">\n",
       "      <th></th>\n",
       "      <th>Name</th>\n",
       "      <th>Age</th>\n",
       "      <th>Score</th>\n",
       "    </tr>\n",
       "  </thead>\n",
       "  <tbody>\n",
       "    <tr>\n",
       "      <th>B</th>\n",
       "      <td>Bob</td>\n",
       "      <td>30</td>\n",
       "      <td>92.0</td>\n",
       "    </tr>\n",
       "    <tr>\n",
       "      <th>C</th>\n",
       "      <td>Charlie</td>\n",
       "      <td>35</td>\n",
       "      <td>78.5</td>\n",
       "    </tr>\n",
       "    <tr>\n",
       "      <th>D</th>\n",
       "      <td>David</td>\n",
       "      <td>28</td>\n",
       "      <td>89.3</td>\n",
       "    </tr>\n",
       "  </tbody>\n",
       "</table>\n",
       "</div>"
      ],
      "text/plain": [
       "      Name  Age  Score\n",
       "B      Bob   30   92.0\n",
       "C  Charlie   35   78.5\n",
       "D    David   28   89.3"
      ]
     },
     "execution_count": 77,
     "metadata": {},
     "output_type": "execute_result"
    }
   ],
   "source": [
    "df.loc[\"B\":\"D\"]"
   ]
  },
  {
   "cell_type": "raw",
   "id": "3bffaa4d-e456-437b-8945-465f7e34ccac",
   "metadata": {},
   "source": [
    "데이터 프레임의 경우에도\n",
    "원본데이터를 수정하면 슬라이싱 결과에 반영되는 것에 유의하시기 바랍니다."
   ]
  },
  {
   "cell_type": "code",
   "execution_count": 78,
   "id": "2f263a9a-965f-4b0c-b662-625ae57abf35",
   "metadata": {
    "tags": []
   },
   "outputs": [],
   "source": [
    "# 슬라이싱의 경우 원본데이터의 변경이 슬라이싱된 결과에 반영됨\n",
    "df2 = df.loc[\"B\":\"D\"]\n",
    "df.at[\"B\",\"Age\"]=999"
   ]
  },
  {
   "cell_type": "code",
   "execution_count": 79,
   "id": "8d90d082-599d-41d5-81b4-a068af4ef2aa",
   "metadata": {
    "tags": []
   },
   "outputs": [
    {
     "data": {
      "text/html": [
       "<div>\n",
       "<style scoped>\n",
       "    .dataframe tbody tr th:only-of-type {\n",
       "        vertical-align: middle;\n",
       "    }\n",
       "\n",
       "    .dataframe tbody tr th {\n",
       "        vertical-align: top;\n",
       "    }\n",
       "\n",
       "    .dataframe thead th {\n",
       "        text-align: right;\n",
       "    }\n",
       "</style>\n",
       "<table border=\"1\" class=\"dataframe\">\n",
       "  <thead>\n",
       "    <tr style=\"text-align: right;\">\n",
       "      <th></th>\n",
       "      <th>Name</th>\n",
       "      <th>Age</th>\n",
       "      <th>Score</th>\n",
       "    </tr>\n",
       "  </thead>\n",
       "  <tbody>\n",
       "    <tr>\n",
       "      <th>A</th>\n",
       "      <td>Alice</td>\n",
       "      <td>25</td>\n",
       "      <td>85.5</td>\n",
       "    </tr>\n",
       "    <tr>\n",
       "      <th>B</th>\n",
       "      <td>Bob</td>\n",
       "      <td>999</td>\n",
       "      <td>92.0</td>\n",
       "    </tr>\n",
       "    <tr>\n",
       "      <th>C</th>\n",
       "      <td>Charlie</td>\n",
       "      <td>35</td>\n",
       "      <td>78.5</td>\n",
       "    </tr>\n",
       "    <tr>\n",
       "      <th>D</th>\n",
       "      <td>David</td>\n",
       "      <td>28</td>\n",
       "      <td>89.3</td>\n",
       "    </tr>\n",
       "    <tr>\n",
       "      <th>E</th>\n",
       "      <td>Eva</td>\n",
       "      <td>22</td>\n",
       "      <td>95.1</td>\n",
       "    </tr>\n",
       "  </tbody>\n",
       "</table>\n",
       "</div>"
      ],
      "text/plain": [
       "      Name  Age  Score\n",
       "A    Alice   25   85.5\n",
       "B      Bob  999   92.0\n",
       "C  Charlie   35   78.5\n",
       "D    David   28   89.3\n",
       "E      Eva   22   95.1"
      ]
     },
     "execution_count": 79,
     "metadata": {},
     "output_type": "execute_result"
    }
   ],
   "source": [
    "df"
   ]
  },
  {
   "cell_type": "code",
   "execution_count": 80,
   "id": "d554c392-1eb2-4987-a8f1-7263f131a4a0",
   "metadata": {
    "tags": []
   },
   "outputs": [
    {
     "data": {
      "text/html": [
       "<div>\n",
       "<style scoped>\n",
       "    .dataframe tbody tr th:only-of-type {\n",
       "        vertical-align: middle;\n",
       "    }\n",
       "\n",
       "    .dataframe tbody tr th {\n",
       "        vertical-align: top;\n",
       "    }\n",
       "\n",
       "    .dataframe thead th {\n",
       "        text-align: right;\n",
       "    }\n",
       "</style>\n",
       "<table border=\"1\" class=\"dataframe\">\n",
       "  <thead>\n",
       "    <tr style=\"text-align: right;\">\n",
       "      <th></th>\n",
       "      <th>Name</th>\n",
       "      <th>Age</th>\n",
       "      <th>Score</th>\n",
       "    </tr>\n",
       "  </thead>\n",
       "  <tbody>\n",
       "    <tr>\n",
       "      <th>B</th>\n",
       "      <td>Bob</td>\n",
       "      <td>999</td>\n",
       "      <td>92.0</td>\n",
       "    </tr>\n",
       "    <tr>\n",
       "      <th>C</th>\n",
       "      <td>Charlie</td>\n",
       "      <td>35</td>\n",
       "      <td>78.5</td>\n",
       "    </tr>\n",
       "    <tr>\n",
       "      <th>D</th>\n",
       "      <td>David</td>\n",
       "      <td>28</td>\n",
       "      <td>89.3</td>\n",
       "    </tr>\n",
       "  </tbody>\n",
       "</table>\n",
       "</div>"
      ],
      "text/plain": [
       "      Name  Age  Score\n",
       "B      Bob  999   92.0\n",
       "C  Charlie   35   78.5\n",
       "D    David   28   89.3"
      ]
     },
     "execution_count": 80,
     "metadata": {},
     "output_type": "execute_result"
    }
   ],
   "source": [
    "df2"
   ]
  },
  {
   "cell_type": "raw",
   "id": "6e535e1d-b8a4-4fcf-88b7-be8022ad112d",
   "metadata": {},
   "source": [
    "이번에는 조건식 기반 필터링을 하는 방법에 대해서 알아보도록 하겠습니다.\n",
    "대괄호에 numpy 형식의 조건식을 입력하는 방식과\n",
    "query메소드를 활용하여 python 기반의 조건식 스트링을 입력하는 두가지 방식을 살펴보겠습니다."
   ]
  },
  {
   "cell_type": "markdown",
   "id": "17aa63c1-4488-42bf-b683-b8dbc3e90d6d",
   "metadata": {
    "tags": []
   },
   "source": [
    "## 조건식 기반 필터링 \n",
    "\n",
    "- []활용: numpy 기반 조건식 입력\n",
    "- query() 활용: \"\" 안에 python 기반 조건식 입력"
   ]
  },
  {
   "cell_type": "raw",
   "id": "f8aac8ed-8bf4-4bc6-819e-28ecf685ecc7",
   "metadata": {},
   "source": [
    "우선 대괄호를 활용한 방식입니다.\n",
    "이 방법은 Series에서 진행하는 방식과 대부분 동일합니다.\n",
    "한가지 다른점은 조건식을 적용할 열에 대해서 칼럼 이름을 지정해 주어야 하는 것입니다."
   ]
  },
  {
   "cell_type": "markdown",
   "id": "10493d79-9145-4e98-be1f-e43fb1e1a015",
   "metadata": {
    "tags": []
   },
   "source": [
    "### [] 활용 조건식 기반 필터링"
   ]
  },
  {
   "cell_type": "raw",
   "id": "2dceafc4-8ac5-461f-a9fb-f89e12d12157",
   "metadata": {},
   "source": [
    "예제를 통해 확인해보도록 하겠습니다."
   ]
  },
  {
   "cell_type": "code",
   "execution_count": 81,
   "id": "bc19d6e6-d284-45af-a1b3-ba3493535f4a",
   "metadata": {
    "tags": []
   },
   "outputs": [
    {
     "data": {
      "text/html": [
       "<div>\n",
       "<style scoped>\n",
       "    .dataframe tbody tr th:only-of-type {\n",
       "        vertical-align: middle;\n",
       "    }\n",
       "\n",
       "    .dataframe tbody tr th {\n",
       "        vertical-align: top;\n",
       "    }\n",
       "\n",
       "    .dataframe thead th {\n",
       "        text-align: right;\n",
       "    }\n",
       "</style>\n",
       "<table border=\"1\" class=\"dataframe\">\n",
       "  <thead>\n",
       "    <tr style=\"text-align: right;\">\n",
       "      <th></th>\n",
       "      <th>Name</th>\n",
       "      <th>Age</th>\n",
       "      <th>Score</th>\n",
       "    </tr>\n",
       "  </thead>\n",
       "  <tbody>\n",
       "    <tr>\n",
       "      <th>A</th>\n",
       "      <td>Alice</td>\n",
       "      <td>25</td>\n",
       "      <td>85.5</td>\n",
       "    </tr>\n",
       "    <tr>\n",
       "      <th>B</th>\n",
       "      <td>Bob</td>\n",
       "      <td>30</td>\n",
       "      <td>92.0</td>\n",
       "    </tr>\n",
       "    <tr>\n",
       "      <th>C</th>\n",
       "      <td>Charlie</td>\n",
       "      <td>35</td>\n",
       "      <td>78.5</td>\n",
       "    </tr>\n",
       "    <tr>\n",
       "      <th>D</th>\n",
       "      <td>David</td>\n",
       "      <td>28</td>\n",
       "      <td>89.3</td>\n",
       "    </tr>\n",
       "    <tr>\n",
       "      <th>E</th>\n",
       "      <td>Eva</td>\n",
       "      <td>22</td>\n",
       "      <td>95.1</td>\n",
       "    </tr>\n",
       "  </tbody>\n",
       "</table>\n",
       "</div>"
      ],
      "text/plain": [
       "      Name  Age  Score\n",
       "A    Alice   25   85.5\n",
       "B      Bob   30   92.0\n",
       "C  Charlie   35   78.5\n",
       "D    David   28   89.3\n",
       "E      Eva   22   95.1"
      ]
     },
     "execution_count": 81,
     "metadata": {},
     "output_type": "execute_result"
    }
   ],
   "source": [
    "# DataFrame 생성\n",
    "import pandas as pd\n",
    "import numpy as np\n",
    "# DataFrame 생성\n",
    "data = {\n",
    "    'Name': ['Alice', 'Bob', 'Charlie', 'David', 'Eva'],\n",
    "    'Age': [25, 30, 35, 28, 22],\n",
    "    'Score': [85.5, 92.0, 78.5, 89.3, 95.1]\n",
    "}\n",
    "df = pd.DataFrame(data, index = list(\"ABCDE\"))\n",
    "df"
   ]
  },
  {
   "cell_type": "raw",
   "id": "38725da9-d788-41dd-8ad3-b3fb066ff4ea",
   "metadata": {},
   "source": [
    "Age가 30 이상인 행만 필터링 하는 방법입니다.\n",
    "이때 대괄호 안에 해당 column 및 조건을 명시해줍니다."
   ]
  },
  {
   "cell_type": "code",
   "execution_count": 82,
   "id": "7d778d55-6cd3-4997-ae4f-7aad10be4516",
   "metadata": {
    "tags": []
   },
   "outputs": [
    {
     "data": {
      "text/html": [
       "<div>\n",
       "<style scoped>\n",
       "    .dataframe tbody tr th:only-of-type {\n",
       "        vertical-align: middle;\n",
       "    }\n",
       "\n",
       "    .dataframe tbody tr th {\n",
       "        vertical-align: top;\n",
       "    }\n",
       "\n",
       "    .dataframe thead th {\n",
       "        text-align: right;\n",
       "    }\n",
       "</style>\n",
       "<table border=\"1\" class=\"dataframe\">\n",
       "  <thead>\n",
       "    <tr style=\"text-align: right;\">\n",
       "      <th></th>\n",
       "      <th>Name</th>\n",
       "      <th>Age</th>\n",
       "      <th>Score</th>\n",
       "    </tr>\n",
       "  </thead>\n",
       "  <tbody>\n",
       "    <tr>\n",
       "      <th>B</th>\n",
       "      <td>Bob</td>\n",
       "      <td>30</td>\n",
       "      <td>92.0</td>\n",
       "    </tr>\n",
       "    <tr>\n",
       "      <th>C</th>\n",
       "      <td>Charlie</td>\n",
       "      <td>35</td>\n",
       "      <td>78.5</td>\n",
       "    </tr>\n",
       "  </tbody>\n",
       "</table>\n",
       "</div>"
      ],
      "text/plain": [
       "      Name  Age  Score\n",
       "B      Bob   30   92.0\n",
       "C  Charlie   35   78.5"
      ]
     },
     "execution_count": 82,
     "metadata": {},
     "output_type": "execute_result"
    }
   ],
   "source": [
    "# 'Age'가 30 이상인 행만 추출\n",
    "df[df[\"Age\"]>=30]"
   ]
  },
  {
   "cell_type": "raw",
   "id": "48b27fd9-a1bf-4831-a21d-343a73148e8c",
   "metadata": {},
   "source": [
    "Age가 30이상인 행만 필터링 되었음을 확인할 수 있습니다."
   ]
  },
  {
   "cell_type": "raw",
   "id": "9e7ff50c-bf7e-4443-8a85-9795a68b804e",
   "metadata": {},
   "source": [
    "컬럼이름을 .(닷)을 통해서 속성형식으로 사용하는 것도 가능합니다."
   ]
  },
  {
   "cell_type": "code",
   "execution_count": 83,
   "id": "6d01fd92-5315-487d-94e9-dbad5d4c05ea",
   "metadata": {
    "tags": []
   },
   "outputs": [
    {
     "data": {
      "text/html": [
       "<div>\n",
       "<style scoped>\n",
       "    .dataframe tbody tr th:only-of-type {\n",
       "        vertical-align: middle;\n",
       "    }\n",
       "\n",
       "    .dataframe tbody tr th {\n",
       "        vertical-align: top;\n",
       "    }\n",
       "\n",
       "    .dataframe thead th {\n",
       "        text-align: right;\n",
       "    }\n",
       "</style>\n",
       "<table border=\"1\" class=\"dataframe\">\n",
       "  <thead>\n",
       "    <tr style=\"text-align: right;\">\n",
       "      <th></th>\n",
       "      <th>Name</th>\n",
       "      <th>Age</th>\n",
       "      <th>Score</th>\n",
       "    </tr>\n",
       "  </thead>\n",
       "  <tbody>\n",
       "    <tr>\n",
       "      <th>C</th>\n",
       "      <td>Charlie</td>\n",
       "      <td>35</td>\n",
       "      <td>78.5</td>\n",
       "    </tr>\n",
       "  </tbody>\n",
       "</table>\n",
       "</div>"
      ],
      "text/plain": [
       "      Name  Age  Score\n",
       "C  Charlie   35   78.5"
      ]
     },
     "execution_count": 83,
     "metadata": {},
     "output_type": "execute_result"
    }
   ],
   "source": [
    "df[df.Age>30]"
   ]
  },
  {
   "cell_type": "raw",
   "id": "c8cf7179-2f63-4e4f-8280-85153895e453",
   "metadata": {},
   "source": [
    "and 조건을 사용하기 위해서는 시리즈와 동일한 방법으로 입력합니다.\n",
    "앤드를 나타내는 특수문자 하나를 사용하고 조건식을 괄호로 묶어줍니다."
   ]
  },
  {
   "cell_type": "code",
   "execution_count": 84,
   "id": "8d2ea020-fce8-4d11-83cd-505b7218d45b",
   "metadata": {
    "tags": []
   },
   "outputs": [
    {
     "data": {
      "text/html": [
       "<div>\n",
       "<style scoped>\n",
       "    .dataframe tbody tr th:only-of-type {\n",
       "        vertical-align: middle;\n",
       "    }\n",
       "\n",
       "    .dataframe tbody tr th {\n",
       "        vertical-align: top;\n",
       "    }\n",
       "\n",
       "    .dataframe thead th {\n",
       "        text-align: right;\n",
       "    }\n",
       "</style>\n",
       "<table border=\"1\" class=\"dataframe\">\n",
       "  <thead>\n",
       "    <tr style=\"text-align: right;\">\n",
       "      <th></th>\n",
       "      <th>Name</th>\n",
       "      <th>Age</th>\n",
       "      <th>Score</th>\n",
       "    </tr>\n",
       "  </thead>\n",
       "  <tbody>\n",
       "    <tr>\n",
       "      <th>A</th>\n",
       "      <td>Alice</td>\n",
       "      <td>25</td>\n",
       "      <td>85.5</td>\n",
       "    </tr>\n",
       "    <tr>\n",
       "      <th>B</th>\n",
       "      <td>Bob</td>\n",
       "      <td>30</td>\n",
       "      <td>92.0</td>\n",
       "    </tr>\n",
       "    <tr>\n",
       "      <th>D</th>\n",
       "      <td>David</td>\n",
       "      <td>28</td>\n",
       "      <td>89.3</td>\n",
       "    </tr>\n",
       "  </tbody>\n",
       "</table>\n",
       "</div>"
      ],
      "text/plain": [
       "    Name  Age  Score\n",
       "A  Alice   25   85.5\n",
       "B    Bob   30   92.0\n",
       "D  David   28   89.3"
      ]
     },
     "execution_count": 84,
     "metadata": {},
     "output_type": "execute_result"
    }
   ],
   "source": [
    "# and (&)\n",
    "df[(df.Age>=25) & (df.Age<35)]"
   ]
  },
  {
   "cell_type": "raw",
   "id": "5f3a7d61-1646-4b4e-ac72-abb18b2073da",
   "metadata": {},
   "source": [
    "위의 코드를 실행하면 Age가 25이상 이고 35 이하인 행들이 필터링 됨을 확인할 수 있습니다."
   ]
  },
  {
   "cell_type": "raw",
   "id": "5ae9b2f8-1b3c-4993-97e5-d19382abe9fc",
   "metadata": {},
   "source": [
    "and 조건을 사용하기 위해서도 역시 시리즈 동일한 방법으로 입력합니다.\n",
    "or를 나타내는 특수문자 하나를 사용하고 조건식을 괄호로 묶어줍니다."
   ]
  },
  {
   "cell_type": "code",
   "execution_count": 85,
   "id": "a5dfb213-0e4c-43f4-838c-f8ed779454ec",
   "metadata": {
    "tags": []
   },
   "outputs": [
    {
     "data": {
      "text/html": [
       "<div>\n",
       "<style scoped>\n",
       "    .dataframe tbody tr th:only-of-type {\n",
       "        vertical-align: middle;\n",
       "    }\n",
       "\n",
       "    .dataframe tbody tr th {\n",
       "        vertical-align: top;\n",
       "    }\n",
       "\n",
       "    .dataframe thead th {\n",
       "        text-align: right;\n",
       "    }\n",
       "</style>\n",
       "<table border=\"1\" class=\"dataframe\">\n",
       "  <thead>\n",
       "    <tr style=\"text-align: right;\">\n",
       "      <th></th>\n",
       "      <th>Name</th>\n",
       "      <th>Age</th>\n",
       "      <th>Score</th>\n",
       "    </tr>\n",
       "  </thead>\n",
       "  <tbody>\n",
       "    <tr>\n",
       "      <th>B</th>\n",
       "      <td>Bob</td>\n",
       "      <td>30</td>\n",
       "      <td>92.0</td>\n",
       "    </tr>\n",
       "    <tr>\n",
       "      <th>C</th>\n",
       "      <td>Charlie</td>\n",
       "      <td>35</td>\n",
       "      <td>78.5</td>\n",
       "    </tr>\n",
       "    <tr>\n",
       "      <th>E</th>\n",
       "      <td>Eva</td>\n",
       "      <td>22</td>\n",
       "      <td>95.1</td>\n",
       "    </tr>\n",
       "  </tbody>\n",
       "</table>\n",
       "</div>"
      ],
      "text/plain": [
       "      Name  Age  Score\n",
       "B      Bob   30   92.0\n",
       "C  Charlie   35   78.5\n",
       "E      Eva   22   95.1"
      ]
     },
     "execution_count": 85,
     "metadata": {},
     "output_type": "execute_result"
    }
   ],
   "source": [
    "# or (|)\n",
    "df[(df.Age>30) | (df.Score>90)]"
   ]
  },
  {
   "cell_type": "raw",
   "id": "06062daf-633d-4891-a8a0-6fdc3fb63fff",
   "metadata": {},
   "source": [
    "위의 코드를 실행하면 Age가 30을 초과하거나\n",
    "Score가 90을 초과하는 행만 필터링 해서 확인할 수 있습니다."
   ]
  },
  {
   "cell_type": "raw",
   "id": "d629a08e-46f3-4335-9254-38cf6e34f808",
   "metadata": {},
   "source": [
    "not 의 경우에도 not을 나타나는 특수문자를 사용하면 됩니다."
   ]
  },
  {
   "cell_type": "code",
   "execution_count": 86,
   "id": "c2537b9a-41bf-46bc-b195-e9704d33acb6",
   "metadata": {
    "tags": []
   },
   "outputs": [
    {
     "data": {
      "text/html": [
       "<div>\n",
       "<style scoped>\n",
       "    .dataframe tbody tr th:only-of-type {\n",
       "        vertical-align: middle;\n",
       "    }\n",
       "\n",
       "    .dataframe tbody tr th {\n",
       "        vertical-align: top;\n",
       "    }\n",
       "\n",
       "    .dataframe thead th {\n",
       "        text-align: right;\n",
       "    }\n",
       "</style>\n",
       "<table border=\"1\" class=\"dataframe\">\n",
       "  <thead>\n",
       "    <tr style=\"text-align: right;\">\n",
       "      <th></th>\n",
       "      <th>Name</th>\n",
       "      <th>Age</th>\n",
       "      <th>Score</th>\n",
       "    </tr>\n",
       "  </thead>\n",
       "  <tbody>\n",
       "    <tr>\n",
       "      <th>A</th>\n",
       "      <td>Alice</td>\n",
       "      <td>25</td>\n",
       "      <td>85.5</td>\n",
       "    </tr>\n",
       "    <tr>\n",
       "      <th>B</th>\n",
       "      <td>Bob</td>\n",
       "      <td>30</td>\n",
       "      <td>92.0</td>\n",
       "    </tr>\n",
       "    <tr>\n",
       "      <th>D</th>\n",
       "      <td>David</td>\n",
       "      <td>28</td>\n",
       "      <td>89.3</td>\n",
       "    </tr>\n",
       "    <tr>\n",
       "      <th>E</th>\n",
       "      <td>Eva</td>\n",
       "      <td>22</td>\n",
       "      <td>95.1</td>\n",
       "    </tr>\n",
       "  </tbody>\n",
       "</table>\n",
       "</div>"
      ],
      "text/plain": [
       "    Name  Age  Score\n",
       "A  Alice   25   85.5\n",
       "B    Bob   30   92.0\n",
       "D  David   28   89.3\n",
       "E    Eva   22   95.1"
      ]
     },
     "execution_count": 86,
     "metadata": {},
     "output_type": "execute_result"
    }
   ],
   "source": [
    "# not (~)\n",
    "df[~(df.Age>30)]"
   ]
  },
  {
   "cell_type": "raw",
   "id": "55f44166-281e-4469-8fdc-90b5222ff751",
   "metadata": {},
   "source": [
    "위의 코드를 수행하면 Age가 30을 초과하지 않는 즉 30이하인 행만 나타나도록 필터링한 결과를 확인할 수 있습니다."
   ]
  },
  {
   "cell_type": "raw",
   "id": "2a7139f6-29e5-49c1-87a5-050216240047",
   "metadata": {},
   "source": [
    "query 메소드를 사용할 경우\n",
    "파이썬의 기본 문법과 동일하게 작성하고\n",
    "그 내용을 문자열의 형태로 입력하면 됩니다.\n",
    "이때 해당 조건을 비교할 컬럼명을 그대로 사용하면 됩니다."
   ]
  },
  {
   "cell_type": "markdown",
   "id": "14064e1c-1132-43bc-80e7-8da96985d2d8",
   "metadata": {},
   "source": [
    "### query() 활용 조건식 기반 필터링"
   ]
  },
  {
   "cell_type": "code",
   "execution_count": 87,
   "id": "11231b79-3262-4a83-b879-ecbef9334652",
   "metadata": {
    "tags": []
   },
   "outputs": [
    {
     "data": {
      "text/html": [
       "<div>\n",
       "<style scoped>\n",
       "    .dataframe tbody tr th:only-of-type {\n",
       "        vertical-align: middle;\n",
       "    }\n",
       "\n",
       "    .dataframe tbody tr th {\n",
       "        vertical-align: top;\n",
       "    }\n",
       "\n",
       "    .dataframe thead th {\n",
       "        text-align: right;\n",
       "    }\n",
       "</style>\n",
       "<table border=\"1\" class=\"dataframe\">\n",
       "  <thead>\n",
       "    <tr style=\"text-align: right;\">\n",
       "      <th></th>\n",
       "      <th>Name</th>\n",
       "      <th>Age</th>\n",
       "      <th>Score</th>\n",
       "    </tr>\n",
       "  </thead>\n",
       "  <tbody>\n",
       "    <tr>\n",
       "      <th>B</th>\n",
       "      <td>Bob</td>\n",
       "      <td>30</td>\n",
       "      <td>92.0</td>\n",
       "    </tr>\n",
       "    <tr>\n",
       "      <th>C</th>\n",
       "      <td>Charlie</td>\n",
       "      <td>35</td>\n",
       "      <td>78.5</td>\n",
       "    </tr>\n",
       "    <tr>\n",
       "      <th>E</th>\n",
       "      <td>Eva</td>\n",
       "      <td>22</td>\n",
       "      <td>95.1</td>\n",
       "    </tr>\n",
       "  </tbody>\n",
       "</table>\n",
       "</div>"
      ],
      "text/plain": [
       "      Name  Age  Score\n",
       "B      Bob   30   92.0\n",
       "C  Charlie   35   78.5\n",
       "E      Eva   22   95.1"
      ]
     },
     "execution_count": 87,
     "metadata": {},
     "output_type": "execute_result"
    }
   ],
   "source": [
    "df.query(\"Age>=30 or Score>90\")"
   ]
  },
  {
   "cell_type": "raw",
   "id": "d92405f2-4379-424f-b81c-2b3671ee8ade",
   "metadata": {},
   "source": [
    "위의 코드를 실행하면 age가 30이상 이거나 Score가 90초과인 행들만 나타나도록 필터링합니다."
   ]
  },
  {
   "cell_type": "code",
   "execution_count": 88,
   "id": "9ced43e1-1a22-455c-8deb-f470707bd025",
   "metadata": {
    "tags": []
   },
   "outputs": [
    {
     "data": {
      "text/html": [
       "<div>\n",
       "<style scoped>\n",
       "    .dataframe tbody tr th:only-of-type {\n",
       "        vertical-align: middle;\n",
       "    }\n",
       "\n",
       "    .dataframe tbody tr th {\n",
       "        vertical-align: top;\n",
       "    }\n",
       "\n",
       "    .dataframe thead th {\n",
       "        text-align: right;\n",
       "    }\n",
       "</style>\n",
       "<table border=\"1\" class=\"dataframe\">\n",
       "  <thead>\n",
       "    <tr style=\"text-align: right;\">\n",
       "      <th></th>\n",
       "      <th>Name</th>\n",
       "      <th>Age</th>\n",
       "      <th>Score</th>\n",
       "    </tr>\n",
       "  </thead>\n",
       "  <tbody>\n",
       "    <tr>\n",
       "      <th>A</th>\n",
       "      <td>Alice</td>\n",
       "      <td>25</td>\n",
       "      <td>85.5</td>\n",
       "    </tr>\n",
       "    <tr>\n",
       "      <th>D</th>\n",
       "      <td>David</td>\n",
       "      <td>28</td>\n",
       "      <td>89.3</td>\n",
       "    </tr>\n",
       "  </tbody>\n",
       "</table>\n",
       "</div>"
      ],
      "text/plain": [
       "    Name  Age  Score\n",
       "A  Alice   25   85.5\n",
       "D  David   28   89.3"
      ]
     },
     "execution_count": 88,
     "metadata": {},
     "output_type": "execute_result"
    }
   ],
   "source": [
    "df.query(\"not (Age>30 or Score>90)\")"
   ]
  },
  {
   "cell_type": "raw",
   "id": "bf3af8d0-a7e3-49ef-86e1-4a9c9a5ff80f",
   "metadata": {},
   "source": [
    "위의 코드를 실행하면 age가 30을 초과하거나 Score가 90을 초과하지 않는\n",
    "즉 바로 위의 예제의 반대 경우에 대한 행만 나타나도록 필터링 합니다."
   ]
  },
  {
   "cell_type": "raw",
   "id": "59f78900-63a7-487e-a5de-b93c55fd2891",
   "metadata": {},
   "source": [
    "이번에는 데이터프레임에 데이터를 추가하는 방법에 대해서 알아보도록 하겠습니다."
   ]
  },
  {
   "cell_type": "markdown",
   "id": "6cfa21fe-b505-4b6d-8b23-e79891430989",
   "metadata": {},
   "source": [
    "## 데이터 추가 \n",
    "\n",
    "데이터 추가 예제:\n",
    "\n",
    "데이터를 추가하는 방법은 기본적으로 새로운 행을 데이터 프레임에 추가하는 것입니다.  여러 가지 방법으로 데이터를 추가할 수 있습니다. 가장 일반적인 방법은 loc 또는 iloc 인덱서를 사용하는 것입니다.\n"
   ]
  },
  {
   "cell_type": "markdown",
   "id": "c55ef319-84bd-472f-ba86-92fd7ce74a69",
   "metadata": {},
   "source": [
    "### 행추가"
   ]
  },
  {
   "cell_type": "code",
   "execution_count": 89,
   "id": "ccb68e3f-66cf-400c-a903-c8ffa1d743b5",
   "metadata": {
    "tags": []
   },
   "outputs": [
    {
     "data": {
      "text/html": [
       "<div>\n",
       "<style scoped>\n",
       "    .dataframe tbody tr th:only-of-type {\n",
       "        vertical-align: middle;\n",
       "    }\n",
       "\n",
       "    .dataframe tbody tr th {\n",
       "        vertical-align: top;\n",
       "    }\n",
       "\n",
       "    .dataframe thead th {\n",
       "        text-align: right;\n",
       "    }\n",
       "</style>\n",
       "<table border=\"1\" class=\"dataframe\">\n",
       "  <thead>\n",
       "    <tr style=\"text-align: right;\">\n",
       "      <th></th>\n",
       "      <th>Name</th>\n",
       "      <th>Age</th>\n",
       "      <th>Score</th>\n",
       "    </tr>\n",
       "  </thead>\n",
       "  <tbody>\n",
       "    <tr>\n",
       "      <th>A</th>\n",
       "      <td>Alice</td>\n",
       "      <td>25</td>\n",
       "      <td>90</td>\n",
       "    </tr>\n",
       "    <tr>\n",
       "      <th>B</th>\n",
       "      <td>Bob</td>\n",
       "      <td>30</td>\n",
       "      <td>80</td>\n",
       "    </tr>\n",
       "    <tr>\n",
       "      <th>C</th>\n",
       "      <td>Charlie</td>\n",
       "      <td>35</td>\n",
       "      <td>70</td>\n",
       "    </tr>\n",
       "  </tbody>\n",
       "</table>\n",
       "</div>"
      ],
      "text/plain": [
       "      Name  Age  Score\n",
       "A    Alice   25     90\n",
       "B      Bob   30     80\n",
       "C  Charlie   35     70"
      ]
     },
     "execution_count": 89,
     "metadata": {},
     "output_type": "execute_result"
    }
   ],
   "source": [
    "\"\"\"\n",
    "loc를 사용하여 row 데이터 추가하기:\n",
    "\"\"\"\n",
    "import pandas as pd\n",
    "\n",
    "# 기존 데이터 프레임 생성\n",
    "data = {\n",
    "    'Name': ['Alice', 'Bob', 'Charlie'],\n",
    "    'Age': [25, 30, 35],\n",
    "    'Score': [90,80,70],\n",
    "       }\n",
    "df = pd.DataFrame(data, index=list(\"ABC\"))\n",
    "df"
   ]
  },
  {
   "cell_type": "raw",
   "id": "390c8900-52e5-4813-b8b9-5dcff46bd75d",
   "metadata": {},
   "source": [
    "다음의 방법은 loc를 활용하여 행을 추가하는 방법입니다."
   ]
  },
  {
   "cell_type": "code",
   "execution_count": 90,
   "id": "578037e3-b36b-4038-88f0-eabfca163b73",
   "metadata": {
    "tags": []
   },
   "outputs": [
    {
     "data": {
      "text/html": [
       "<div>\n",
       "<style scoped>\n",
       "    .dataframe tbody tr th:only-of-type {\n",
       "        vertical-align: middle;\n",
       "    }\n",
       "\n",
       "    .dataframe tbody tr th {\n",
       "        vertical-align: top;\n",
       "    }\n",
       "\n",
       "    .dataframe thead th {\n",
       "        text-align: right;\n",
       "    }\n",
       "</style>\n",
       "<table border=\"1\" class=\"dataframe\">\n",
       "  <thead>\n",
       "    <tr style=\"text-align: right;\">\n",
       "      <th></th>\n",
       "      <th>Name</th>\n",
       "      <th>Age</th>\n",
       "      <th>Score</th>\n",
       "    </tr>\n",
       "  </thead>\n",
       "  <tbody>\n",
       "    <tr>\n",
       "      <th>A</th>\n",
       "      <td>Alice</td>\n",
       "      <td>25.0</td>\n",
       "      <td>90</td>\n",
       "    </tr>\n",
       "    <tr>\n",
       "      <th>B</th>\n",
       "      <td>Bob</td>\n",
       "      <td>30.0</td>\n",
       "      <td>80</td>\n",
       "    </tr>\n",
       "    <tr>\n",
       "      <th>C</th>\n",
       "      <td>Charlie</td>\n",
       "      <td>35.0</td>\n",
       "      <td>70</td>\n",
       "    </tr>\n",
       "    <tr>\n",
       "      <th>D</th>\n",
       "      <td>David</td>\n",
       "      <td>NaN</td>\n",
       "      <td>98</td>\n",
       "    </tr>\n",
       "  </tbody>\n",
       "</table>\n",
       "</div>"
      ],
      "text/plain": [
       "      Name   Age  Score\n",
       "A    Alice  25.0     90\n",
       "B      Bob  30.0     80\n",
       "C  Charlie  35.0     70\n",
       "D    David   NaN     98"
      ]
     },
     "execution_count": 90,
     "metadata": {},
     "output_type": "execute_result"
    }
   ],
   "source": [
    "# loc를 활용하여 dictionary 데이터로 행 추가\n",
    "df.loc[\"D\"]= {'Name': 'David', 'Score': 98}\n",
    "df"
   ]
  },
  {
   "cell_type": "raw",
   "id": "0ba96ed5-badb-4fa5-baff-bae4a0e01e26",
   "metadata": {},
   "source": [
    "위의 코드에서와 같이 df.loc 의 대괄호에는 기존에 존재하지 않는 인덱스를 추가하고\n",
    "각 필드명을 키로 하는 dictionary를 추가하는 방식입니다."
   ]
  },
  {
   "cell_type": "raw",
   "id": "b85ddcff-2a66-473c-afb1-f55a70ebd117",
   "metadata": {},
   "source": [
    "딕셔너리 대신 배열타입의 데이터를 입력해도 됩니다."
   ]
  },
  {
   "cell_type": "code",
   "execution_count": 91,
   "id": "d4f74ae8-c885-4abd-a658-0e3d15466d6d",
   "metadata": {
    "tags": []
   },
   "outputs": [
    {
     "data": {
      "text/html": [
       "<div>\n",
       "<style scoped>\n",
       "    .dataframe tbody tr th:only-of-type {\n",
       "        vertical-align: middle;\n",
       "    }\n",
       "\n",
       "    .dataframe tbody tr th {\n",
       "        vertical-align: top;\n",
       "    }\n",
       "\n",
       "    .dataframe thead th {\n",
       "        text-align: right;\n",
       "    }\n",
       "</style>\n",
       "<table border=\"1\" class=\"dataframe\">\n",
       "  <thead>\n",
       "    <tr style=\"text-align: right;\">\n",
       "      <th></th>\n",
       "      <th>Name</th>\n",
       "      <th>Age</th>\n",
       "      <th>Score</th>\n",
       "    </tr>\n",
       "  </thead>\n",
       "  <tbody>\n",
       "    <tr>\n",
       "      <th>A</th>\n",
       "      <td>Alice</td>\n",
       "      <td>25.0</td>\n",
       "      <td>90</td>\n",
       "    </tr>\n",
       "    <tr>\n",
       "      <th>B</th>\n",
       "      <td>Bob</td>\n",
       "      <td>30.0</td>\n",
       "      <td>80</td>\n",
       "    </tr>\n",
       "    <tr>\n",
       "      <th>C</th>\n",
       "      <td>Charlie</td>\n",
       "      <td>35.0</td>\n",
       "      <td>70</td>\n",
       "    </tr>\n",
       "    <tr>\n",
       "      <th>D</th>\n",
       "      <td>David</td>\n",
       "      <td>NaN</td>\n",
       "      <td>98</td>\n",
       "    </tr>\n",
       "    <tr>\n",
       "      <th>E</th>\n",
       "      <td>Eva</td>\n",
       "      <td>44.0</td>\n",
       "      <td>81</td>\n",
       "    </tr>\n",
       "  </tbody>\n",
       "</table>\n",
       "</div>"
      ],
      "text/plain": [
       "      Name   Age  Score\n",
       "A    Alice  25.0     90\n",
       "B      Bob  30.0     80\n",
       "C  Charlie  35.0     70\n",
       "D    David   NaN     98\n",
       "E      Eva  44.0     81"
      ]
     },
     "execution_count": 91,
     "metadata": {},
     "output_type": "execute_result"
    }
   ],
   "source": [
    "# loc를 활용하여 배열 데이터로 행 추가\n",
    "df.loc[\"E\"] =  [\"Eva\", 44, 81]\n",
    "df"
   ]
  },
  {
   "cell_type": "raw",
   "id": "8ea7f688-18f2-4bd9-a0c9-ec35081ef716",
   "metadata": {},
   "source": [
    "단 이경우에는 배열의 요소개수가 해당 데이터프레임의 모든 열의 갯수와 동일해야 합니다.\n",
    "동일하지 않다면 아래와 같은 Error 메시지가 발생하게 됩니다."
   ]
  },
  {
   "cell_type": "code",
   "execution_count": 92,
   "id": "6bc8e786-9a50-4ad8-aa81-e4378beef3c1",
   "metadata": {
    "tags": []
   },
   "outputs": [
    {
     "ename": "ValueError",
     "evalue": "Must have equal len keys and value when setting with an iterable",
     "output_type": "error",
     "traceback": [
      "\u001b[0;31m---------------------------------------------------------------------------\u001b[0m",
      "\u001b[0;31mValueError\u001b[0m                                Traceback (most recent call last)",
      "Cell \u001b[0;32mIn[92], line 1\u001b[0m\n\u001b[0;32m----> 1\u001b[0m \u001b[43mdf\u001b[49m\u001b[38;5;241;43m.\u001b[39;49m\u001b[43mloc\u001b[49m\u001b[43m[\u001b[49m\u001b[38;5;124;43m\"\u001b[39;49m\u001b[38;5;124;43mE\u001b[39;49m\u001b[38;5;124;43m\"\u001b[39;49m\u001b[43m]\u001b[49m \u001b[38;5;241m=\u001b[39m  [\u001b[38;5;124m\"\u001b[39m\u001b[38;5;124mEva\u001b[39m\u001b[38;5;124m\"\u001b[39m, \u001b[38;5;241m44\u001b[39m]\n",
      "File \u001b[0;32m~/jupyter/venv/lib/python3.9/site-packages/pandas/core/indexing.py:818\u001b[0m, in \u001b[0;36m_LocationIndexer.__setitem__\u001b[0;34m(self, key, value)\u001b[0m\n\u001b[1;32m    815\u001b[0m \u001b[38;5;28mself\u001b[39m\u001b[38;5;241m.\u001b[39m_has_valid_setitem_indexer(key)\n\u001b[1;32m    817\u001b[0m iloc \u001b[38;5;241m=\u001b[39m \u001b[38;5;28mself\u001b[39m \u001b[38;5;28;01mif\u001b[39;00m \u001b[38;5;28mself\u001b[39m\u001b[38;5;241m.\u001b[39mname \u001b[38;5;241m==\u001b[39m \u001b[38;5;124m\"\u001b[39m\u001b[38;5;124miloc\u001b[39m\u001b[38;5;124m\"\u001b[39m \u001b[38;5;28;01melse\u001b[39;00m \u001b[38;5;28mself\u001b[39m\u001b[38;5;241m.\u001b[39mobj\u001b[38;5;241m.\u001b[39miloc\n\u001b[0;32m--> 818\u001b[0m \u001b[43miloc\u001b[49m\u001b[38;5;241;43m.\u001b[39;49m\u001b[43m_setitem_with_indexer\u001b[49m\u001b[43m(\u001b[49m\u001b[43mindexer\u001b[49m\u001b[43m,\u001b[49m\u001b[43m \u001b[49m\u001b[43mvalue\u001b[49m\u001b[43m,\u001b[49m\u001b[43m \u001b[49m\u001b[38;5;28;43mself\u001b[39;49m\u001b[38;5;241;43m.\u001b[39;49m\u001b[43mname\u001b[49m\u001b[43m)\u001b[49m\n",
      "File \u001b[0;32m~/jupyter/venv/lib/python3.9/site-packages/pandas/core/indexing.py:1795\u001b[0m, in \u001b[0;36m_iLocIndexer._setitem_with_indexer\u001b[0;34m(self, indexer, value, name)\u001b[0m\n\u001b[1;32m   1792\u001b[0m \u001b[38;5;66;03m# align and set the values\u001b[39;00m\n\u001b[1;32m   1793\u001b[0m \u001b[38;5;28;01mif\u001b[39;00m take_split_path:\n\u001b[1;32m   1794\u001b[0m     \u001b[38;5;66;03m# We have to operate column-wise\u001b[39;00m\n\u001b[0;32m-> 1795\u001b[0m     \u001b[38;5;28;43mself\u001b[39;49m\u001b[38;5;241;43m.\u001b[39;49m\u001b[43m_setitem_with_indexer_split_path\u001b[49m\u001b[43m(\u001b[49m\u001b[43mindexer\u001b[49m\u001b[43m,\u001b[49m\u001b[43m \u001b[49m\u001b[43mvalue\u001b[49m\u001b[43m,\u001b[49m\u001b[43m \u001b[49m\u001b[43mname\u001b[49m\u001b[43m)\u001b[49m\n\u001b[1;32m   1796\u001b[0m \u001b[38;5;28;01melse\u001b[39;00m:\n\u001b[1;32m   1797\u001b[0m     \u001b[38;5;28mself\u001b[39m\u001b[38;5;241m.\u001b[39m_setitem_single_block(indexer, value, name)\n",
      "File \u001b[0;32m~/jupyter/venv/lib/python3.9/site-packages/pandas/core/indexing.py:1879\u001b[0m, in \u001b[0;36m_iLocIndexer._setitem_with_indexer_split_path\u001b[0;34m(self, indexer, value, name)\u001b[0m\n\u001b[1;32m   1876\u001b[0m         \u001b[38;5;28mself\u001b[39m\u001b[38;5;241m.\u001b[39m_setitem_single_column(ilocs[\u001b[38;5;241m0\u001b[39m], value, pi)\n\u001b[1;32m   1878\u001b[0m     \u001b[38;5;28;01melse\u001b[39;00m:\n\u001b[0;32m-> 1879\u001b[0m         \u001b[38;5;28;01mraise\u001b[39;00m \u001b[38;5;167;01mValueError\u001b[39;00m(\n\u001b[1;32m   1880\u001b[0m             \u001b[38;5;124m\"\u001b[39m\u001b[38;5;124mMust have equal len keys and value \u001b[39m\u001b[38;5;124m\"\u001b[39m\n\u001b[1;32m   1881\u001b[0m             \u001b[38;5;124m\"\u001b[39m\u001b[38;5;124mwhen setting with an iterable\u001b[39m\u001b[38;5;124m\"\u001b[39m\n\u001b[1;32m   1882\u001b[0m         )\n\u001b[1;32m   1884\u001b[0m \u001b[38;5;28;01melse\u001b[39;00m:\n\u001b[1;32m   1885\u001b[0m \n\u001b[1;32m   1886\u001b[0m     \u001b[38;5;66;03m# scalar value\u001b[39;00m\n\u001b[1;32m   1887\u001b[0m     \u001b[38;5;28;01mfor\u001b[39;00m loc \u001b[38;5;129;01min\u001b[39;00m ilocs:\n",
      "\u001b[0;31mValueError\u001b[0m: Must have equal len keys and value when setting with an iterable"
     ]
    }
   ],
   "source": [
    "df.loc[\"E\"] =  [\"Eva\", 44]"
   ]
  },
  {
   "cell_type": "raw",
   "id": "c15ff7f1-1c43-43f1-8d82-81aec0944b67",
   "metadata": {},
   "source": [
    "아래와 같이 loc 인덱서에 컴럼부분을 슬라이싱하면 해당 컬럼에 해당되는 배열만 입력하면 됩니다."
   ]
  },
  {
   "cell_type": "code",
   "execution_count": 93,
   "id": "ef0777a7-c025-4934-9b4d-feb10316f3e3",
   "metadata": {
    "tags": []
   },
   "outputs": [
    {
     "data": {
      "text/html": [
       "<div>\n",
       "<style scoped>\n",
       "    .dataframe tbody tr th:only-of-type {\n",
       "        vertical-align: middle;\n",
       "    }\n",
       "\n",
       "    .dataframe tbody tr th {\n",
       "        vertical-align: top;\n",
       "    }\n",
       "\n",
       "    .dataframe thead th {\n",
       "        text-align: right;\n",
       "    }\n",
       "</style>\n",
       "<table border=\"1\" class=\"dataframe\">\n",
       "  <thead>\n",
       "    <tr style=\"text-align: right;\">\n",
       "      <th></th>\n",
       "      <th>Name</th>\n",
       "      <th>Age</th>\n",
       "      <th>Score</th>\n",
       "    </tr>\n",
       "  </thead>\n",
       "  <tbody>\n",
       "    <tr>\n",
       "      <th>A</th>\n",
       "      <td>Alice</td>\n",
       "      <td>25.0</td>\n",
       "      <td>90.0</td>\n",
       "    </tr>\n",
       "    <tr>\n",
       "      <th>B</th>\n",
       "      <td>Bob</td>\n",
       "      <td>30.0</td>\n",
       "      <td>80.0</td>\n",
       "    </tr>\n",
       "    <tr>\n",
       "      <th>C</th>\n",
       "      <td>Charlie</td>\n",
       "      <td>35.0</td>\n",
       "      <td>70.0</td>\n",
       "    </tr>\n",
       "    <tr>\n",
       "      <th>D</th>\n",
       "      <td>David</td>\n",
       "      <td>NaN</td>\n",
       "      <td>98.0</td>\n",
       "    </tr>\n",
       "    <tr>\n",
       "      <th>E</th>\n",
       "      <td>Eva</td>\n",
       "      <td>44.0</td>\n",
       "      <td>81.0</td>\n",
       "    </tr>\n",
       "    <tr>\n",
       "      <th>T</th>\n",
       "      <td>Ted</td>\n",
       "      <td>43.0</td>\n",
       "      <td>NaN</td>\n",
       "    </tr>\n",
       "  </tbody>\n",
       "</table>\n",
       "</div>"
      ],
      "text/plain": [
       "      Name   Age  Score\n",
       "A    Alice  25.0   90.0\n",
       "B      Bob  30.0   80.0\n",
       "C  Charlie  35.0   70.0\n",
       "D    David   NaN   98.0\n",
       "E      Eva  44.0   81.0\n",
       "T      Ted  43.0    NaN"
      ]
     },
     "execution_count": 93,
     "metadata": {},
     "output_type": "execute_result"
    }
   ],
   "source": [
    "df.loc[\"T\",\"Name\":\"Age\"] = [\"Ted\", 43]\n",
    "df"
   ]
  },
  {
   "cell_type": "markdown",
   "id": "e3e1fe40-2be8-4f40-a645-9512eb786ef9",
   "metadata": {},
   "source": [
    "### 열 추가"
   ]
  },
  {
   "cell_type": "code",
   "execution_count": 94,
   "id": "265614d5-285c-4b50-a9b3-a54b9c5f5a5f",
   "metadata": {
    "tags": []
   },
   "outputs": [
    {
     "data": {
      "text/html": [
       "<div>\n",
       "<style scoped>\n",
       "    .dataframe tbody tr th:only-of-type {\n",
       "        vertical-align: middle;\n",
       "    }\n",
       "\n",
       "    .dataframe tbody tr th {\n",
       "        vertical-align: top;\n",
       "    }\n",
       "\n",
       "    .dataframe thead th {\n",
       "        text-align: right;\n",
       "    }\n",
       "</style>\n",
       "<table border=\"1\" class=\"dataframe\">\n",
       "  <thead>\n",
       "    <tr style=\"text-align: right;\">\n",
       "      <th></th>\n",
       "      <th>Name</th>\n",
       "      <th>Age</th>\n",
       "      <th>Score</th>\n",
       "    </tr>\n",
       "  </thead>\n",
       "  <tbody>\n",
       "    <tr>\n",
       "      <th>A</th>\n",
       "      <td>Alice</td>\n",
       "      <td>25</td>\n",
       "      <td>90</td>\n",
       "    </tr>\n",
       "    <tr>\n",
       "      <th>B</th>\n",
       "      <td>Bob</td>\n",
       "      <td>30</td>\n",
       "      <td>80</td>\n",
       "    </tr>\n",
       "    <tr>\n",
       "      <th>C</th>\n",
       "      <td>Charlie</td>\n",
       "      <td>35</td>\n",
       "      <td>70</td>\n",
       "    </tr>\n",
       "  </tbody>\n",
       "</table>\n",
       "</div>"
      ],
      "text/plain": [
       "      Name  Age  Score\n",
       "A    Alice   25     90\n",
       "B      Bob   30     80\n",
       "C  Charlie   35     70"
      ]
     },
     "execution_count": 94,
     "metadata": {},
     "output_type": "execute_result"
    }
   ],
   "source": [
    "\"\"\"\n",
    "loc를 사용하여 row 데이터 추가하기:\n",
    "\"\"\"\n",
    "import pandas as pd\n",
    "\n",
    "# 기존 데이터 프레임 생성\n",
    "data = {\n",
    "    'Name': ['Alice', 'Bob', 'Charlie'],\n",
    "    'Age': [25, 30, 35],\n",
    "    'Score': [90,80,70],\n",
    "       }\n",
    "df = pd.DataFrame(data, index=list(\"ABC\"))\n",
    "df"
   ]
  },
  {
   "cell_type": "raw",
   "id": "dee34930-55f7-41ee-9b31-c94d19ab4bc2",
   "metadata": {},
   "source": [
    "loc 인덱서를 활용하여 아래와 같은 방법으로 추가하면 됩니다."
   ]
  },
  {
   "cell_type": "code",
   "execution_count": 95,
   "id": "2b58b3dc-2cca-451b-b273-353706bc6207",
   "metadata": {
    "tags": []
   },
   "outputs": [
    {
     "data": {
      "text/html": [
       "<div>\n",
       "<style scoped>\n",
       "    .dataframe tbody tr th:only-of-type {\n",
       "        vertical-align: middle;\n",
       "    }\n",
       "\n",
       "    .dataframe tbody tr th {\n",
       "        vertical-align: top;\n",
       "    }\n",
       "\n",
       "    .dataframe thead th {\n",
       "        text-align: right;\n",
       "    }\n",
       "</style>\n",
       "<table border=\"1\" class=\"dataframe\">\n",
       "  <thead>\n",
       "    <tr style=\"text-align: right;\">\n",
       "      <th></th>\n",
       "      <th>Name</th>\n",
       "      <th>Age</th>\n",
       "      <th>Score</th>\n",
       "      <th>Gender</th>\n",
       "    </tr>\n",
       "  </thead>\n",
       "  <tbody>\n",
       "    <tr>\n",
       "      <th>A</th>\n",
       "      <td>Alice</td>\n",
       "      <td>25</td>\n",
       "      <td>90</td>\n",
       "      <td>Femail</td>\n",
       "    </tr>\n",
       "    <tr>\n",
       "      <th>B</th>\n",
       "      <td>Bob</td>\n",
       "      <td>30</td>\n",
       "      <td>80</td>\n",
       "      <td>Male</td>\n",
       "    </tr>\n",
       "    <tr>\n",
       "      <th>C</th>\n",
       "      <td>Charlie</td>\n",
       "      <td>35</td>\n",
       "      <td>70</td>\n",
       "      <td>Male</td>\n",
       "    </tr>\n",
       "  </tbody>\n",
       "</table>\n",
       "</div>"
      ],
      "text/plain": [
       "      Name  Age  Score  Gender\n",
       "A    Alice   25     90  Femail\n",
       "B      Bob   30     80    Male\n",
       "C  Charlie   35     70    Male"
      ]
     },
     "execution_count": 95,
     "metadata": {},
     "output_type": "execute_result"
    }
   ],
   "source": [
    "\"\"\"\n",
    "loc를 사용하여 열추가:\n",
    "\"\"\"\n",
    "df.loc[:, \"Gender\"] = [\"Femail\", \"Male\", \"Male\"]\n",
    "df"
   ]
  },
  {
   "cell_type": "raw",
   "id": "0d512b8a-b6b6-4db2-8db6-adb5117a53a6",
   "metadata": {},
   "source": [
    "하지만 보통은 아래와 같이 대괄호를 사용하는 것이 일적인 방법입니다."
   ]
  },
  {
   "cell_type": "code",
   "execution_count": 96,
   "id": "80934d16-a172-4d84-87ed-77344a4aebfb",
   "metadata": {
    "tags": []
   },
   "outputs": [
    {
     "data": {
      "text/html": [
       "<div>\n",
       "<style scoped>\n",
       "    .dataframe tbody tr th:only-of-type {\n",
       "        vertical-align: middle;\n",
       "    }\n",
       "\n",
       "    .dataframe tbody tr th {\n",
       "        vertical-align: top;\n",
       "    }\n",
       "\n",
       "    .dataframe thead th {\n",
       "        text-align: right;\n",
       "    }\n",
       "</style>\n",
       "<table border=\"1\" class=\"dataframe\">\n",
       "  <thead>\n",
       "    <tr style=\"text-align: right;\">\n",
       "      <th></th>\n",
       "      <th>Name</th>\n",
       "      <th>Age</th>\n",
       "      <th>Score</th>\n",
       "      <th>Gender</th>\n",
       "    </tr>\n",
       "  </thead>\n",
       "  <tbody>\n",
       "    <tr>\n",
       "      <th>A</th>\n",
       "      <td>Alice</td>\n",
       "      <td>25</td>\n",
       "      <td>90</td>\n",
       "      <td>Femail</td>\n",
       "    </tr>\n",
       "    <tr>\n",
       "      <th>B</th>\n",
       "      <td>Bob</td>\n",
       "      <td>30</td>\n",
       "      <td>80</td>\n",
       "      <td>Male</td>\n",
       "    </tr>\n",
       "    <tr>\n",
       "      <th>C</th>\n",
       "      <td>Charlie</td>\n",
       "      <td>35</td>\n",
       "      <td>70</td>\n",
       "      <td>Male</td>\n",
       "    </tr>\n",
       "  </tbody>\n",
       "</table>\n",
       "</div>"
      ],
      "text/plain": [
       "      Name  Age  Score  Gender\n",
       "A    Alice   25     90  Femail\n",
       "B      Bob   30     80    Male\n",
       "C  Charlie   35     70    Male"
      ]
     },
     "execution_count": 96,
     "metadata": {},
     "output_type": "execute_result"
    }
   ],
   "source": [
    "\"\"\"\n",
    "대괄호를 사용하여 열추가:\n",
    "\"\"\"\n",
    "df[\"Gender\"] = [\"Femail\", \"Male\", \"Male\"]\n",
    "df"
   ]
  },
  {
   "cell_type": "raw",
   "id": "c5ec959c-446a-43b5-8344-5f3e5770f44f",
   "metadata": {},
   "source": [
    "이번에는 데이터를 삭제하는 방법에 대해서 알아보도록 하겠습니다.\n",
    "데이터 프레임에서는 `drop()` 메소드를 사용하여 데이터를 삭제합니다."
   ]
  },
  {
   "cell_type": "markdown",
   "id": "dc9ed191-2e77-4ece-9254-01585b6a6d17",
   "metadata": {},
   "source": [
    "\n",
    "## 데이터 삭제\n",
    "\n",
    "데이터 프레임에서는 `drop()` 메소드를 사용하여 데이터를 삭제합니다."
   ]
  },
  {
   "cell_type": "raw",
   "id": "c72057ce-184e-4c8e-9f72-dd2850edc252",
   "metadata": {},
   "source": [
    "우선 drop() 메소드를 활용하여 특정 행을 삭제하는 방법에 대해서 알아보겠습니다."
   ]
  },
  {
   "cell_type": "markdown",
   "id": "e39721b6-093c-4eb6-a652-f175bf912002",
   "metadata": {},
   "source": [
    "## 특정 행 삭제"
   ]
  },
  {
   "cell_type": "code",
   "execution_count": 97,
   "id": "9bcc1792-dc46-4343-84dd-217a0a823840",
   "metadata": {
    "tags": []
   },
   "outputs": [
    {
     "data": {
      "text/html": [
       "<div>\n",
       "<style scoped>\n",
       "    .dataframe tbody tr th:only-of-type {\n",
       "        vertical-align: middle;\n",
       "    }\n",
       "\n",
       "    .dataframe tbody tr th {\n",
       "        vertical-align: top;\n",
       "    }\n",
       "\n",
       "    .dataframe thead th {\n",
       "        text-align: right;\n",
       "    }\n",
       "</style>\n",
       "<table border=\"1\" class=\"dataframe\">\n",
       "  <thead>\n",
       "    <tr style=\"text-align: right;\">\n",
       "      <th></th>\n",
       "      <th>Name</th>\n",
       "      <th>Age</th>\n",
       "      <th>Score</th>\n",
       "    </tr>\n",
       "  </thead>\n",
       "  <tbody>\n",
       "    <tr>\n",
       "      <th>A</th>\n",
       "      <td>Alice</td>\n",
       "      <td>25</td>\n",
       "      <td>90</td>\n",
       "    </tr>\n",
       "    <tr>\n",
       "      <th>B</th>\n",
       "      <td>Bob</td>\n",
       "      <td>30</td>\n",
       "      <td>80</td>\n",
       "    </tr>\n",
       "    <tr>\n",
       "      <th>C</th>\n",
       "      <td>Charlie</td>\n",
       "      <td>35</td>\n",
       "      <td>70</td>\n",
       "    </tr>\n",
       "  </tbody>\n",
       "</table>\n",
       "</div>"
      ],
      "text/plain": [
       "      Name  Age  Score\n",
       "A    Alice   25     90\n",
       "B      Bob   30     80\n",
       "C  Charlie   35     70"
      ]
     },
     "execution_count": 97,
     "metadata": {},
     "output_type": "execute_result"
    }
   ],
   "source": [
    "\"\"\"\n",
    "drop() 메서드를 사용하여 특정 행 삭제하기:\n",
    "\"\"\"\n",
    "\n",
    "import pandas as pd\n",
    "\n",
    "# 기존 데이터 프레임 생성\n",
    "data = {\n",
    "    'Name': ['Alice', 'Bob', 'Charlie'],\n",
    "    'Age': [25, 30, 35],\n",
    "    'Score': [90,80,70],\n",
    "       }\n",
    "df = pd.DataFrame(data, index=list(\"ABC\"))\n",
    "df"
   ]
  },
  {
   "cell_type": "raw",
   "id": "7abe1b09-efd7-4e00-a156-c244b832bdce",
   "metadata": {},
   "source": [
    "drop메소드를 호출할때 삭제대상 행의 index를 넣어주면 해당 행이 삭제된 데이터프레임을 반환합니다."
   ]
  },
  {
   "cell_type": "code",
   "execution_count": 98,
   "id": "1fe404a4-2299-4f43-99ac-9e54f3af2b87",
   "metadata": {
    "tags": []
   },
   "outputs": [
    {
     "data": {
      "text/html": [
       "<div>\n",
       "<style scoped>\n",
       "    .dataframe tbody tr th:only-of-type {\n",
       "        vertical-align: middle;\n",
       "    }\n",
       "\n",
       "    .dataframe tbody tr th {\n",
       "        vertical-align: top;\n",
       "    }\n",
       "\n",
       "    .dataframe thead th {\n",
       "        text-align: right;\n",
       "    }\n",
       "</style>\n",
       "<table border=\"1\" class=\"dataframe\">\n",
       "  <thead>\n",
       "    <tr style=\"text-align: right;\">\n",
       "      <th></th>\n",
       "      <th>Name</th>\n",
       "      <th>Age</th>\n",
       "      <th>Score</th>\n",
       "    </tr>\n",
       "  </thead>\n",
       "  <tbody>\n",
       "    <tr>\n",
       "      <th>B</th>\n",
       "      <td>Bob</td>\n",
       "      <td>30</td>\n",
       "      <td>80</td>\n",
       "    </tr>\n",
       "    <tr>\n",
       "      <th>C</th>\n",
       "      <td>Charlie</td>\n",
       "      <td>35</td>\n",
       "      <td>70</td>\n",
       "    </tr>\n",
       "  </tbody>\n",
       "</table>\n",
       "</div>"
      ],
      "text/plain": [
       "      Name  Age  Score\n",
       "B      Bob   30     80\n",
       "C  Charlie   35     70"
      ]
     },
     "execution_count": 98,
     "metadata": {},
     "output_type": "execute_result"
    }
   ],
   "source": [
    "# drop()으로 행 삭제 1\n",
    "df.drop(\"A\")"
   ]
  },
  {
   "cell_type": "raw",
   "id": "9f6bded1-5f2f-4140-b56a-6342d81561f5",
   "metadata": {
    "tags": []
   },
   "source": [
    "drop메소드를 호출할때 삭제대상 행의 index의 리스트 넣어주면 해당 행들이 삭제된 데이터프레임을 반환합니다."
   ]
  },
  {
   "cell_type": "code",
   "execution_count": 99,
   "id": "042f9ac8-6674-4c96-a02d-f86657663f6c",
   "metadata": {
    "tags": []
   },
   "outputs": [
    {
     "data": {
      "text/html": [
       "<div>\n",
       "<style scoped>\n",
       "    .dataframe tbody tr th:only-of-type {\n",
       "        vertical-align: middle;\n",
       "    }\n",
       "\n",
       "    .dataframe tbody tr th {\n",
       "        vertical-align: top;\n",
       "    }\n",
       "\n",
       "    .dataframe thead th {\n",
       "        text-align: right;\n",
       "    }\n",
       "</style>\n",
       "<table border=\"1\" class=\"dataframe\">\n",
       "  <thead>\n",
       "    <tr style=\"text-align: right;\">\n",
       "      <th></th>\n",
       "      <th>Name</th>\n",
       "      <th>Age</th>\n",
       "      <th>Score</th>\n",
       "    </tr>\n",
       "  </thead>\n",
       "  <tbody>\n",
       "    <tr>\n",
       "      <th>C</th>\n",
       "      <td>Charlie</td>\n",
       "      <td>35</td>\n",
       "      <td>70</td>\n",
       "    </tr>\n",
       "  </tbody>\n",
       "</table>\n",
       "</div>"
      ],
      "text/plain": [
       "      Name  Age  Score\n",
       "C  Charlie   35     70"
      ]
     },
     "execution_count": 99,
     "metadata": {},
     "output_type": "execute_result"
    }
   ],
   "source": [
    "# drop()으로 행 삭제 2\n",
    "df.drop([\"A\",\"B\"])"
   ]
  },
  {
   "cell_type": "raw",
   "id": "03b0fb0c-93cc-432e-83b1-02c1551fa434",
   "metadata": {},
   "source": [
    "drop 메소드 역시 원본데이터는 유지가 되는데요,"
   ]
  },
  {
   "cell_type": "code",
   "execution_count": 100,
   "id": "acfc4b2d-11cc-47be-b6b4-673d897bde28",
   "metadata": {
    "tags": []
   },
   "outputs": [
    {
     "data": {
      "text/html": [
       "<div>\n",
       "<style scoped>\n",
       "    .dataframe tbody tr th:only-of-type {\n",
       "        vertical-align: middle;\n",
       "    }\n",
       "\n",
       "    .dataframe tbody tr th {\n",
       "        vertical-align: top;\n",
       "    }\n",
       "\n",
       "    .dataframe thead th {\n",
       "        text-align: right;\n",
       "    }\n",
       "</style>\n",
       "<table border=\"1\" class=\"dataframe\">\n",
       "  <thead>\n",
       "    <tr style=\"text-align: right;\">\n",
       "      <th></th>\n",
       "      <th>Name</th>\n",
       "      <th>Age</th>\n",
       "      <th>Score</th>\n",
       "    </tr>\n",
       "  </thead>\n",
       "  <tbody>\n",
       "    <tr>\n",
       "      <th>A</th>\n",
       "      <td>Alice</td>\n",
       "      <td>25</td>\n",
       "      <td>90</td>\n",
       "    </tr>\n",
       "    <tr>\n",
       "      <th>B</th>\n",
       "      <td>Bob</td>\n",
       "      <td>30</td>\n",
       "      <td>80</td>\n",
       "    </tr>\n",
       "    <tr>\n",
       "      <th>C</th>\n",
       "      <td>Charlie</td>\n",
       "      <td>35</td>\n",
       "      <td>70</td>\n",
       "    </tr>\n",
       "  </tbody>\n",
       "</table>\n",
       "</div>"
      ],
      "text/plain": [
       "      Name  Age  Score\n",
       "A    Alice   25     90\n",
       "B      Bob   30     80\n",
       "C  Charlie   35     70"
      ]
     },
     "execution_count": 100,
     "metadata": {},
     "output_type": "execute_result"
    }
   ],
   "source": [
    "df"
   ]
  },
  {
   "cell_type": "raw",
   "id": "3bd9c08b-1232-4b37-bdcd-cd0ac0c53951",
   "metadata": {},
   "source": [
    "만약 원본데이터를 변경시켜주고 싶다면\n",
    "inplace=True 파라미터를 넣어주면 됩니다."
   ]
  },
  {
   "cell_type": "code",
   "execution_count": 101,
   "id": "db9c977f-ffa3-4cb1-8627-c1e49f719bbb",
   "metadata": {
    "tags": []
   },
   "outputs": [
    {
     "data": {
      "text/html": [
       "<div>\n",
       "<style scoped>\n",
       "    .dataframe tbody tr th:only-of-type {\n",
       "        vertical-align: middle;\n",
       "    }\n",
       "\n",
       "    .dataframe tbody tr th {\n",
       "        vertical-align: top;\n",
       "    }\n",
       "\n",
       "    .dataframe thead th {\n",
       "        text-align: right;\n",
       "    }\n",
       "</style>\n",
       "<table border=\"1\" class=\"dataframe\">\n",
       "  <thead>\n",
       "    <tr style=\"text-align: right;\">\n",
       "      <th></th>\n",
       "      <th>Name</th>\n",
       "      <th>Age</th>\n",
       "      <th>Score</th>\n",
       "    </tr>\n",
       "  </thead>\n",
       "  <tbody>\n",
       "    <tr>\n",
       "      <th>C</th>\n",
       "      <td>Charlie</td>\n",
       "      <td>35</td>\n",
       "      <td>70</td>\n",
       "    </tr>\n",
       "  </tbody>\n",
       "</table>\n",
       "</div>"
      ],
      "text/plain": [
       "      Name  Age  Score\n",
       "C  Charlie   35     70"
      ]
     },
     "execution_count": 101,
     "metadata": {},
     "output_type": "execute_result"
    }
   ],
   "source": [
    "df.drop([\"A\",\"B\"], inplace=True)\n",
    "df"
   ]
  },
  {
   "cell_type": "markdown",
   "id": "c5faad47-9766-4d67-89ce-998dcaa3ed6b",
   "metadata": {},
   "source": [
    "### 열삭제"
   ]
  },
  {
   "cell_type": "code",
   "execution_count": 102,
   "id": "c95c28d9-0ae1-4ce1-82b1-b6bfd32e05de",
   "metadata": {
    "tags": []
   },
   "outputs": [
    {
     "data": {
      "text/html": [
       "<div>\n",
       "<style scoped>\n",
       "    .dataframe tbody tr th:only-of-type {\n",
       "        vertical-align: middle;\n",
       "    }\n",
       "\n",
       "    .dataframe tbody tr th {\n",
       "        vertical-align: top;\n",
       "    }\n",
       "\n",
       "    .dataframe thead th {\n",
       "        text-align: right;\n",
       "    }\n",
       "</style>\n",
       "<table border=\"1\" class=\"dataframe\">\n",
       "  <thead>\n",
       "    <tr style=\"text-align: right;\">\n",
       "      <th></th>\n",
       "      <th>Name</th>\n",
       "      <th>Age</th>\n",
       "      <th>Score</th>\n",
       "    </tr>\n",
       "  </thead>\n",
       "  <tbody>\n",
       "    <tr>\n",
       "      <th>A</th>\n",
       "      <td>Alice</td>\n",
       "      <td>25</td>\n",
       "      <td>90</td>\n",
       "    </tr>\n",
       "    <tr>\n",
       "      <th>B</th>\n",
       "      <td>Bob</td>\n",
       "      <td>30</td>\n",
       "      <td>80</td>\n",
       "    </tr>\n",
       "    <tr>\n",
       "      <th>C</th>\n",
       "      <td>Charlie</td>\n",
       "      <td>35</td>\n",
       "      <td>70</td>\n",
       "    </tr>\n",
       "  </tbody>\n",
       "</table>\n",
       "</div>"
      ],
      "text/plain": [
       "      Name  Age  Score\n",
       "A    Alice   25     90\n",
       "B      Bob   30     80\n",
       "C  Charlie   35     70"
      ]
     },
     "execution_count": 102,
     "metadata": {},
     "output_type": "execute_result"
    }
   ],
   "source": [
    "\"\"\"\n",
    "열삭제\n",
    "\"\"\"\n",
    "\n",
    "import pandas as pd\n",
    "\n",
    "# 기존 데이터 프레임 생성\n",
    "data = {\n",
    "    'Name': ['Alice', 'Bob', 'Charlie'],\n",
    "    'Age': [25, 30, 35],\n",
    "    'Score': [90,80,70],\n",
    "       }\n",
    "df = pd.DataFrame(data, index=list(\"ABC\"))\n",
    "df"
   ]
  },
  {
   "cell_type": "raw",
   "id": "8c4c3113-b5ae-4d6b-9ed1-e7bd2bb01ebb",
   "metadata": {},
   "source": [
    "특정 열을 삭제하기 위해서는\n",
    "drop() 메소드를 호출할때 columns 파라미터를 사용합니다."
   ]
  },
  {
   "cell_type": "code",
   "execution_count": 103,
   "id": "23897383-134d-4ef3-abf0-b142fcbb03ce",
   "metadata": {
    "tags": []
   },
   "outputs": [
    {
     "data": {
      "text/html": [
       "<div>\n",
       "<style scoped>\n",
       "    .dataframe tbody tr th:only-of-type {\n",
       "        vertical-align: middle;\n",
       "    }\n",
       "\n",
       "    .dataframe tbody tr th {\n",
       "        vertical-align: top;\n",
       "    }\n",
       "\n",
       "    .dataframe thead th {\n",
       "        text-align: right;\n",
       "    }\n",
       "</style>\n",
       "<table border=\"1\" class=\"dataframe\">\n",
       "  <thead>\n",
       "    <tr style=\"text-align: right;\">\n",
       "      <th></th>\n",
       "      <th>Name</th>\n",
       "      <th>Score</th>\n",
       "    </tr>\n",
       "  </thead>\n",
       "  <tbody>\n",
       "    <tr>\n",
       "      <th>A</th>\n",
       "      <td>Alice</td>\n",
       "      <td>90</td>\n",
       "    </tr>\n",
       "    <tr>\n",
       "      <th>B</th>\n",
       "      <td>Bob</td>\n",
       "      <td>80</td>\n",
       "    </tr>\n",
       "    <tr>\n",
       "      <th>C</th>\n",
       "      <td>Charlie</td>\n",
       "      <td>70</td>\n",
       "    </tr>\n",
       "  </tbody>\n",
       "</table>\n",
       "</div>"
      ],
      "text/plain": [
       "      Name  Score\n",
       "A    Alice     90\n",
       "B      Bob     80\n",
       "C  Charlie     70"
      ]
     },
     "execution_count": 103,
     "metadata": {},
     "output_type": "execute_result"
    }
   ],
   "source": [
    "# 조건에 맞는 행 삭제 (예: 나이가 30 이상인 행 삭제)\n",
    "df.drop(columns=[\"Age\"])"
   ]
  },
  {
   "cell_type": "raw",
   "id": "d83b9d60-9970-4359-8f64-cf0f5cb1a0a6",
   "metadata": {},
   "source": [
    "위의 코드를 실행시키면 \"Age\" 컬럼이 삭제된것을 확인할 수 있습니다."
   ]
  },
  {
   "cell_type": "raw",
   "id": "17f21549-7d66-4405-a89d-91125ef11ff4",
   "metadata": {},
   "source": [
    "이번에는 판다스에서 기존 데이터를 변경하는 방법에 대해서 알아보도록 하겠습니다.\n",
    "가장 일반적으로 사용되는 방법은 인덱싱 및 슬라이싱을 통해 특정 위치의 데이터를 수정하는 것입니다"
   ]
  },
  {
   "cell_type": "markdown",
   "id": "de290934-b9d5-4a19-9d46-423f25cbe4c7",
   "metadata": {},
   "source": [
    "## 데이터 변경\n",
    "판다스(Pandas)에서 기존 데이터를 변경하는 방법에는 다양한 방법이 있습니다. 가장 일반적으로 사용되는 방법은 인덱싱 및 슬라이싱을 통해 특정 위치의 데이터를 수정하는 것입니다\n",
    "\n",
    "- 단일 셀의 데이터 변경:\n",
    "- 조건에 맞는 셀의 데이터 일괄 변경:\n",
    "- 새로운 시리즈로 데이터 일괄 변경:"
   ]
  },
  {
   "cell_type": "raw",
   "id": "bb49ccd9-b8fb-40a2-bf3f-d308b6485536",
   "metadata": {},
   "source": [
    "우선 단일 셀의 데이터를 변경하는 방법입니다."
   ]
  },
  {
   "cell_type": "code",
   "execution_count": 104,
   "id": "1e2180ec-39eb-46d3-86d9-0ab57f3cb28f",
   "metadata": {
    "tags": []
   },
   "outputs": [
    {
     "data": {
      "text/html": [
       "<div>\n",
       "<style scoped>\n",
       "    .dataframe tbody tr th:only-of-type {\n",
       "        vertical-align: middle;\n",
       "    }\n",
       "\n",
       "    .dataframe tbody tr th {\n",
       "        vertical-align: top;\n",
       "    }\n",
       "\n",
       "    .dataframe thead th {\n",
       "        text-align: right;\n",
       "    }\n",
       "</style>\n",
       "<table border=\"1\" class=\"dataframe\">\n",
       "  <thead>\n",
       "    <tr style=\"text-align: right;\">\n",
       "      <th></th>\n",
       "      <th>Name</th>\n",
       "      <th>Age</th>\n",
       "      <th>Score</th>\n",
       "    </tr>\n",
       "  </thead>\n",
       "  <tbody>\n",
       "    <tr>\n",
       "      <th>A</th>\n",
       "      <td>Alice</td>\n",
       "      <td>25</td>\n",
       "      <td>90</td>\n",
       "    </tr>\n",
       "    <tr>\n",
       "      <th>B</th>\n",
       "      <td>Bob</td>\n",
       "      <td>30</td>\n",
       "      <td>80</td>\n",
       "    </tr>\n",
       "    <tr>\n",
       "      <th>C</th>\n",
       "      <td>Charlie</td>\n",
       "      <td>35</td>\n",
       "      <td>70</td>\n",
       "    </tr>\n",
       "  </tbody>\n",
       "</table>\n",
       "</div>"
      ],
      "text/plain": [
       "      Name  Age  Score\n",
       "A    Alice   25     90\n",
       "B      Bob   30     80\n",
       "C  Charlie   35     70"
      ]
     },
     "execution_count": 104,
     "metadata": {},
     "output_type": "execute_result"
    }
   ],
   "source": [
    "\"\"\"\n",
    "1. 단일 셀의 데이터 변경:\n",
    "\"\"\"\n",
    "import pandas as pd\n",
    "\n",
    "# 기존 데이터 프레임 생성\n",
    "data = {\n",
    "    'Name': ['Alice', 'Bob', 'Charlie'],\n",
    "    'Age': [25, 30, 35],\n",
    "    'Score': [90,80,70],\n",
    "       }\n",
    "df = pd.DataFrame(data, index=list(\"ABC\"))\n",
    "df"
   ]
  },
  {
   "cell_type": "raw",
   "id": "fe271734-c27a-4e9f-83d1-fa137efa4076",
   "metadata": {},
   "source": [
    "at 인덱서를 통해서 해당 행과 열의 정보를 입력하고 변경하고자 하는 값을 입력합니다."
   ]
  },
  {
   "cell_type": "code",
   "execution_count": 105,
   "id": "f8fd7a30-1d9c-4c96-bde3-4c1467db697b",
   "metadata": {
    "tags": []
   },
   "outputs": [
    {
     "data": {
      "text/html": [
       "<div>\n",
       "<style scoped>\n",
       "    .dataframe tbody tr th:only-of-type {\n",
       "        vertical-align: middle;\n",
       "    }\n",
       "\n",
       "    .dataframe tbody tr th {\n",
       "        vertical-align: top;\n",
       "    }\n",
       "\n",
       "    .dataframe thead th {\n",
       "        text-align: right;\n",
       "    }\n",
       "</style>\n",
       "<table border=\"1\" class=\"dataframe\">\n",
       "  <thead>\n",
       "    <tr style=\"text-align: right;\">\n",
       "      <th></th>\n",
       "      <th>Name</th>\n",
       "      <th>Age</th>\n",
       "      <th>Score</th>\n",
       "    </tr>\n",
       "  </thead>\n",
       "  <tbody>\n",
       "    <tr>\n",
       "      <th>A</th>\n",
       "      <td>Andrea</td>\n",
       "      <td>25</td>\n",
       "      <td>90</td>\n",
       "    </tr>\n",
       "    <tr>\n",
       "      <th>B</th>\n",
       "      <td>Bob</td>\n",
       "      <td>30</td>\n",
       "      <td>80</td>\n",
       "    </tr>\n",
       "    <tr>\n",
       "      <th>C</th>\n",
       "      <td>Charlie</td>\n",
       "      <td>35</td>\n",
       "      <td>70</td>\n",
       "    </tr>\n",
       "  </tbody>\n",
       "</table>\n",
       "</div>"
      ],
      "text/plain": [
       "      Name  Age  Score\n",
       "A   Andrea   25     90\n",
       "B      Bob   30     80\n",
       "C  Charlie   35     70"
      ]
     },
     "execution_count": 105,
     "metadata": {},
     "output_type": "execute_result"
    }
   ],
   "source": [
    "# 특정 셀의 데이터 변경\n",
    "df.at[\"A\",\"Name\"] = \"Andrea\"\n",
    "df"
   ]
  },
  {
   "cell_type": "raw",
   "id": "7d7ae4a8-7cdb-44c1-9608-46d0156a452e",
   "metadata": {},
   "source": [
    "실행결과 A행의 Name 컬럼의 내용이 Alice에서 Andrea로 바뀐것을 확인할 수 있습니다."
   ]
  },
  {
   "cell_type": "raw",
   "id": "3ac67600-a308-47a9-8ec8-e32bd45e2460",
   "metadata": {},
   "source": [
    "iat 인덱서를 통해서도 가능합니다."
   ]
  },
  {
   "cell_type": "code",
   "execution_count": 106,
   "id": "8bbc9eb8-0d3e-4eef-b245-ea79dcb31437",
   "metadata": {
    "tags": []
   },
   "outputs": [
    {
     "data": {
      "text/html": [
       "<div>\n",
       "<style scoped>\n",
       "    .dataframe tbody tr th:only-of-type {\n",
       "        vertical-align: middle;\n",
       "    }\n",
       "\n",
       "    .dataframe tbody tr th {\n",
       "        vertical-align: top;\n",
       "    }\n",
       "\n",
       "    .dataframe thead th {\n",
       "        text-align: right;\n",
       "    }\n",
       "</style>\n",
       "<table border=\"1\" class=\"dataframe\">\n",
       "  <thead>\n",
       "    <tr style=\"text-align: right;\">\n",
       "      <th></th>\n",
       "      <th>Name</th>\n",
       "      <th>Age</th>\n",
       "      <th>Score</th>\n",
       "    </tr>\n",
       "  </thead>\n",
       "  <tbody>\n",
       "    <tr>\n",
       "      <th>A</th>\n",
       "      <td>Andrea</td>\n",
       "      <td>25</td>\n",
       "      <td>90</td>\n",
       "    </tr>\n",
       "    <tr>\n",
       "      <th>B</th>\n",
       "      <td>Bob</td>\n",
       "      <td>50</td>\n",
       "      <td>80</td>\n",
       "    </tr>\n",
       "    <tr>\n",
       "      <th>C</th>\n",
       "      <td>Charlie</td>\n",
       "      <td>35</td>\n",
       "      <td>70</td>\n",
       "    </tr>\n",
       "  </tbody>\n",
       "</table>\n",
       "</div>"
      ],
      "text/plain": [
       "      Name  Age  Score\n",
       "A   Andrea   25     90\n",
       "B      Bob   50     80\n",
       "C  Charlie   35     70"
      ]
     },
     "execution_count": 106,
     "metadata": {},
     "output_type": "execute_result"
    }
   ],
   "source": [
    "df.iat[1,1] =  50\n",
    "df"
   ]
  },
  {
   "cell_type": "raw",
   "id": "3397312c-4b99-4440-997f-65342ad56569",
   "metadata": {},
   "source": [
    "위의 코드를 실행하면 1행 1열의 값이 30에서 50으로 변경된 것을 확인할 수 있습니다."
   ]
  },
  {
   "cell_type": "raw",
   "id": "0c1095e0-491f-4177-a7a4-966cb2e616aa",
   "metadata": {},
   "source": [
    "다음으로 특정 조건에 해당하는 셀들을 일괄적으로 변경하는 방법입니다."
   ]
  },
  {
   "cell_type": "code",
   "execution_count": 107,
   "id": "7bfb6c3d-72a4-40ca-a2fc-07b94fedd71d",
   "metadata": {
    "tags": []
   },
   "outputs": [
    {
     "data": {
      "text/html": [
       "<div>\n",
       "<style scoped>\n",
       "    .dataframe tbody tr th:only-of-type {\n",
       "        vertical-align: middle;\n",
       "    }\n",
       "\n",
       "    .dataframe tbody tr th {\n",
       "        vertical-align: top;\n",
       "    }\n",
       "\n",
       "    .dataframe thead th {\n",
       "        text-align: right;\n",
       "    }\n",
       "</style>\n",
       "<table border=\"1\" class=\"dataframe\">\n",
       "  <thead>\n",
       "    <tr style=\"text-align: right;\">\n",
       "      <th></th>\n",
       "      <th>Name</th>\n",
       "      <th>Age</th>\n",
       "      <th>Credit</th>\n",
       "    </tr>\n",
       "  </thead>\n",
       "  <tbody>\n",
       "    <tr>\n",
       "      <th>A</th>\n",
       "      <td>Alice</td>\n",
       "      <td>25</td>\n",
       "      <td>90</td>\n",
       "    </tr>\n",
       "    <tr>\n",
       "      <th>B</th>\n",
       "      <td>Bob</td>\n",
       "      <td>30</td>\n",
       "      <td>80</td>\n",
       "    </tr>\n",
       "    <tr>\n",
       "      <th>C</th>\n",
       "      <td>Charlie</td>\n",
       "      <td>35</td>\n",
       "      <td>70</td>\n",
       "    </tr>\n",
       "  </tbody>\n",
       "</table>\n",
       "</div>"
      ],
      "text/plain": [
       "      Name  Age  Credit\n",
       "A    Alice   25      90\n",
       "B      Bob   30      80\n",
       "C  Charlie   35      70"
      ]
     },
     "execution_count": 107,
     "metadata": {},
     "output_type": "execute_result"
    }
   ],
   "source": [
    "\"\"\"\n",
    "2. 조건에 맞는 셀의 데이터 일괄 변경:\n",
    "\"\"\"\n",
    "import pandas as pd\n",
    "\n",
    "# 기존 데이터 프레임 생성\n",
    "data = {\n",
    "    'Name': ['Alice', 'Bob', 'Charlie'],\n",
    "    'Age': [25, 30, 35],\n",
    "    'Credit': [90,80,70],\n",
    "       }\n",
    "df = pd.DataFrame(data, index=list(\"ABC\"))\n",
    "df"
   ]
  },
  {
   "cell_type": "raw",
   "id": "0d10903b-71b7-4125-bc1d-8ca701d2fe3a",
   "metadata": {},
   "source": [
    "이번에는 특정 조건에 맞는 셀의 데이터를 일괄 변경하는 방법에 대해서 알아보겠습니다.\n",
    "조건식으로 필터링한 결과의 값을 변경하기 위해서는\n",
    "loc 인덱서를 사용해야 합니다."
   ]
  },
  {
   "cell_type": "code",
   "execution_count": 108,
   "id": "01474cf1-f8fe-4958-b193-5aa26ce0b166",
   "metadata": {
    "tags": []
   },
   "outputs": [
    {
     "data": {
      "text/html": [
       "<div>\n",
       "<style scoped>\n",
       "    .dataframe tbody tr th:only-of-type {\n",
       "        vertical-align: middle;\n",
       "    }\n",
       "\n",
       "    .dataframe tbody tr th {\n",
       "        vertical-align: top;\n",
       "    }\n",
       "\n",
       "    .dataframe thead th {\n",
       "        text-align: right;\n",
       "    }\n",
       "</style>\n",
       "<table border=\"1\" class=\"dataframe\">\n",
       "  <thead>\n",
       "    <tr style=\"text-align: right;\">\n",
       "      <th></th>\n",
       "      <th>Name</th>\n",
       "      <th>Age</th>\n",
       "      <th>Credit</th>\n",
       "    </tr>\n",
       "  </thead>\n",
       "  <tbody>\n",
       "    <tr>\n",
       "      <th>A</th>\n",
       "      <td>Alice</td>\n",
       "      <td>25</td>\n",
       "      <td>90</td>\n",
       "    </tr>\n",
       "    <tr>\n",
       "      <th>B</th>\n",
       "      <td>Bob</td>\n",
       "      <td>40</td>\n",
       "      <td>80</td>\n",
       "    </tr>\n",
       "    <tr>\n",
       "      <th>C</th>\n",
       "      <td>Charlie</td>\n",
       "      <td>40</td>\n",
       "      <td>70</td>\n",
       "    </tr>\n",
       "  </tbody>\n",
       "</table>\n",
       "</div>"
      ],
      "text/plain": [
       "      Name  Age  Credit\n",
       "A    Alice   25      90\n",
       "B      Bob   40      80\n",
       "C  Charlie   40      70"
      ]
     },
     "execution_count": 108,
     "metadata": {},
     "output_type": "execute_result"
    }
   ],
   "source": [
    "# 조건에 맞는 셀의 데이터 일괄 변경 (예: 나이가 30 이상인 경우 나이를 40으로 변경)\n",
    "df.loc[df.Age>=30, \"Age\"] = 40\n",
    "df"
   ]
  },
  {
   "cell_type": "raw",
   "id": "eef4fe95-af00-4c20-90ef-05d331810400",
   "metadata": {},
   "source": [
    "위의 코드는 df.Age>=30 의 결과에 대한 boolean vector로 필터링을 하고 \n",
    "컬럼이름이\"Age\"인 열로 슬라이싱을 한 이후에\n",
    "해당 내용을 특정 값으로 변경하고 있습니다."
   ]
  },
  {
   "cell_type": "raw",
   "id": "16fb8798-e607-4efa-9e9c-df4b1c9ef66a",
   "metadata": {},
   "source": [
    "만약 대체하는 값이 스칼라가 아니고\n",
    "해당 데이터프레임에 해당 하는 값들이라고 한다면 아래와 같이 작성할 수 있습니다."
   ]
  },
  {
   "cell_type": "code",
   "execution_count": 109,
   "id": "d46f542a-e801-447f-9123-3ea0dac7c2c2",
   "metadata": {
    "tags": []
   },
   "outputs": [
    {
     "data": {
      "text/html": [
       "<div>\n",
       "<style scoped>\n",
       "    .dataframe tbody tr th:only-of-type {\n",
       "        vertical-align: middle;\n",
       "    }\n",
       "\n",
       "    .dataframe tbody tr th {\n",
       "        vertical-align: top;\n",
       "    }\n",
       "\n",
       "    .dataframe thead th {\n",
       "        text-align: right;\n",
       "    }\n",
       "</style>\n",
       "<table border=\"1\" class=\"dataframe\">\n",
       "  <thead>\n",
       "    <tr style=\"text-align: right;\">\n",
       "      <th></th>\n",
       "      <th>Name</th>\n",
       "      <th>Age</th>\n",
       "      <th>Credit</th>\n",
       "    </tr>\n",
       "  </thead>\n",
       "  <tbody>\n",
       "    <tr>\n",
       "      <th>A</th>\n",
       "      <td>Alice</td>\n",
       "      <td>25</td>\n",
       "      <td>90</td>\n",
       "    </tr>\n",
       "    <tr>\n",
       "      <th>B</th>\n",
       "      <td>Bob</td>\n",
       "      <td>30</td>\n",
       "      <td>80</td>\n",
       "    </tr>\n",
       "    <tr>\n",
       "      <th>C</th>\n",
       "      <td>Charlie</td>\n",
       "      <td>35</td>\n",
       "      <td>70</td>\n",
       "    </tr>\n",
       "  </tbody>\n",
       "</table>\n",
       "</div>"
      ],
      "text/plain": [
       "      Name  Age  Credit\n",
       "A    Alice   25      90\n",
       "B      Bob   30      80\n",
       "C  Charlie   35      70"
      ]
     },
     "execution_count": 109,
     "metadata": {},
     "output_type": "execute_result"
    }
   ],
   "source": [
    "import pandas as pd\n",
    "\n",
    "# 기존 데이터 프레임 생성\n",
    "data = {\n",
    "    'Name': ['Alice', 'Bob', 'Charlie'],\n",
    "    'Age': [25, 30, 35],\n",
    "    'Credit': [90,80,70],\n",
    "       }\n",
    "df = pd.DataFrame(data, index=list(\"ABC\"))\n",
    "df"
   ]
  },
  {
   "cell_type": "raw",
   "id": "ee9b8212-fdd0-4f1c-a427-3a931ee073f9",
   "metadata": {},
   "source": [
    "이경우 연산의 대상이 되는 각 항에 같은 방식으로 필터링을 걸어주면 됩니다."
   ]
  },
  {
   "cell_type": "code",
   "execution_count": 110,
   "id": "a1ffb000-b684-4960-b996-4014db28d3b0",
   "metadata": {
    "tags": []
   },
   "outputs": [
    {
     "data": {
      "text/html": [
       "<div>\n",
       "<style scoped>\n",
       "    .dataframe tbody tr th:only-of-type {\n",
       "        vertical-align: middle;\n",
       "    }\n",
       "\n",
       "    .dataframe tbody tr th {\n",
       "        vertical-align: top;\n",
       "    }\n",
       "\n",
       "    .dataframe thead th {\n",
       "        text-align: right;\n",
       "    }\n",
       "</style>\n",
       "<table border=\"1\" class=\"dataframe\">\n",
       "  <thead>\n",
       "    <tr style=\"text-align: right;\">\n",
       "      <th></th>\n",
       "      <th>Name</th>\n",
       "      <th>Age</th>\n",
       "      <th>Credit</th>\n",
       "    </tr>\n",
       "  </thead>\n",
       "  <tbody>\n",
       "    <tr>\n",
       "      <th>A</th>\n",
       "      <td>Alice</td>\n",
       "      <td>25</td>\n",
       "      <td>90.0</td>\n",
       "    </tr>\n",
       "    <tr>\n",
       "      <th>B</th>\n",
       "      <td>Bob</td>\n",
       "      <td>30</td>\n",
       "      <td>83.0</td>\n",
       "    </tr>\n",
       "    <tr>\n",
       "      <th>C</th>\n",
       "      <td>Charlie</td>\n",
       "      <td>35</td>\n",
       "      <td>73.5</td>\n",
       "    </tr>\n",
       "  </tbody>\n",
       "</table>\n",
       "</div>"
      ],
      "text/plain": [
       "      Name  Age  Credit\n",
       "A    Alice   25    90.0\n",
       "B      Bob   30    83.0\n",
       "C  Charlie   35    73.5"
      ]
     },
     "execution_count": 110,
     "metadata": {},
     "output_type": "execute_result"
    }
   ],
   "source": [
    "# Age가 30이상인 경우 해당 Age의 0.1 을 곱한 만큼 Credit 에 더하기\n",
    "df.loc[df.Age>=30, \"Credit\"] = df.loc[df.Age>=30, \"Credit\"] + (df.loc[df.Age>=30, \"Age\"]*0.1)\n",
    "df"
   ]
  },
  {
   "cell_type": "raw",
   "id": "eb7db0f7-4d86-4f36-bafd-ff716ac5672b",
   "metadata": {},
   "source": [
    "위의 코드에서는 credit도 Age가 30이상이 경우에 대해서 필터링 하였고,\n",
    "age도 Age가 30이상이 경우로 필터링하였으며,\n",
    "해당 연산 결과를 반영하는 좌측항에도 Age가 30이상이 경우로 필터링 하였습니다."
   ]
  },
  {
   "cell_type": "markdown",
   "id": "86b95f9e-0b5a-41da-a175-e8a21cb5b279",
   "metadata": {},
   "source": [
    "### 새로운 Series데이터로 변경"
   ]
  },
  {
   "cell_type": "raw",
   "id": "ca263042-9d73-4975-8e22-5d4bdedbac33",
   "metadata": {},
   "source": [
    "다음은 Age 행을 새로운 시리즈 데이터로 일과 변경하는 예제입니다.\n",
    "이 경우 인덱스를 기존의 인덱스와 맞추어주어야 합니다."
   ]
  },
  {
   "cell_type": "code",
   "execution_count": 111,
   "id": "88d8ef14-19f6-4676-a236-a048396c4ebc",
   "metadata": {
    "tags": []
   },
   "outputs": [],
   "source": [
    "# 새로운 시리즈로 데이터 일괄 변경\n",
    "df.Age = pd.Series([45,43,42],  index=list(\"ABC\"))"
   ]
  },
  {
   "cell_type": "code",
   "execution_count": 112,
   "id": "545c4185-6fa2-48cf-ab9d-b8b660952d22",
   "metadata": {
    "tags": []
   },
   "outputs": [
    {
     "data": {
      "text/html": [
       "<div>\n",
       "<style scoped>\n",
       "    .dataframe tbody tr th:only-of-type {\n",
       "        vertical-align: middle;\n",
       "    }\n",
       "\n",
       "    .dataframe tbody tr th {\n",
       "        vertical-align: top;\n",
       "    }\n",
       "\n",
       "    .dataframe thead th {\n",
       "        text-align: right;\n",
       "    }\n",
       "</style>\n",
       "<table border=\"1\" class=\"dataframe\">\n",
       "  <thead>\n",
       "    <tr style=\"text-align: right;\">\n",
       "      <th></th>\n",
       "      <th>Name</th>\n",
       "      <th>Age</th>\n",
       "      <th>Credit</th>\n",
       "    </tr>\n",
       "  </thead>\n",
       "  <tbody>\n",
       "    <tr>\n",
       "      <th>A</th>\n",
       "      <td>Alice</td>\n",
       "      <td>45</td>\n",
       "      <td>90.0</td>\n",
       "    </tr>\n",
       "    <tr>\n",
       "      <th>B</th>\n",
       "      <td>Bob</td>\n",
       "      <td>43</td>\n",
       "      <td>83.0</td>\n",
       "    </tr>\n",
       "    <tr>\n",
       "      <th>C</th>\n",
       "      <td>Charlie</td>\n",
       "      <td>42</td>\n",
       "      <td>73.5</td>\n",
       "    </tr>\n",
       "  </tbody>\n",
       "</table>\n",
       "</div>"
      ],
      "text/plain": [
       "      Name  Age  Credit\n",
       "A    Alice   45    90.0\n",
       "B      Bob   43    83.0\n",
       "C  Charlie   42    73.5"
      ]
     },
     "execution_count": 112,
     "metadata": {},
     "output_type": "execute_result"
    }
   ],
   "source": [
    "df"
   ]
  },
  {
   "cell_type": "raw",
   "id": "aa4ac603-84cc-4271-b2e2-d2514ed52a1e",
   "metadata": {},
   "source": [
    "이번에는 데이터 프레임 기반으로 정렬하는 방법에 대해서 알아보도록 하겠습니다.\n",
    "sort_index() 각 행의 index를 기준으로 정렬할 수 있고\n",
    "sort_values() 메소드를 통해 특정 컬럼의 값을 기준으로 정렬할 수 있습니다.\n",
    "이때 `ascending` 파리미터를 통해 오름차순 또는 내림차순으로 정렬이 가능합니다."
   ]
  },
  {
   "cell_type": "markdown",
   "id": "4b8d05a2-167b-4867-9f54-249f8733d812",
   "metadata": {},
   "source": [
    "## 정렬\n",
    "데이터프레임을 정렬하는 방법\n",
    "- sort_index() 각 행의 index를 기준으로 정렬 \n",
    "- sort_values() 특정 컬럼의 값을 기준으로 정렬\n",
    "\n",
    "`ascending` 파리미터를 통해 오름차순 또는 내림차순으로 정렬"
   ]
  },
  {
   "cell_type": "code",
   "execution_count": 113,
   "id": "9d5c9485-e198-4f55-b18d-7bea0e30aaf1",
   "metadata": {
    "tags": []
   },
   "outputs": [
    {
     "data": {
      "text/html": [
       "<div>\n",
       "<style scoped>\n",
       "    .dataframe tbody tr th:only-of-type {\n",
       "        vertical-align: middle;\n",
       "    }\n",
       "\n",
       "    .dataframe tbody tr th {\n",
       "        vertical-align: top;\n",
       "    }\n",
       "\n",
       "    .dataframe thead th {\n",
       "        text-align: right;\n",
       "    }\n",
       "</style>\n",
       "<table border=\"1\" class=\"dataframe\">\n",
       "  <thead>\n",
       "    <tr style=\"text-align: right;\">\n",
       "      <th></th>\n",
       "      <th>Name</th>\n",
       "      <th>Age</th>\n",
       "      <th>Gender</th>\n",
       "      <th>Height</th>\n",
       "    </tr>\n",
       "  </thead>\n",
       "  <tbody>\n",
       "    <tr>\n",
       "      <th>A</th>\n",
       "      <td>Alice</td>\n",
       "      <td>25</td>\n",
       "      <td>Female</td>\n",
       "      <td>165</td>\n",
       "    </tr>\n",
       "    <tr>\n",
       "      <th>B</th>\n",
       "      <td>Bob</td>\n",
       "      <td>35</td>\n",
       "      <td>Male</td>\n",
       "      <td>180</td>\n",
       "    </tr>\n",
       "    <tr>\n",
       "      <th>C</th>\n",
       "      <td>Charlie</td>\n",
       "      <td>35</td>\n",
       "      <td>Male</td>\n",
       "      <td>175</td>\n",
       "    </tr>\n",
       "    <tr>\n",
       "      <th>D</th>\n",
       "      <td>David</td>\n",
       "      <td>28</td>\n",
       "      <td>Male</td>\n",
       "      <td>170</td>\n",
       "    </tr>\n",
       "  </tbody>\n",
       "</table>\n",
       "</div>"
      ],
      "text/plain": [
       "      Name  Age  Gender  Height\n",
       "A    Alice   25  Female     165\n",
       "B      Bob   35    Male     180\n",
       "C  Charlie   35    Male     175\n",
       "D    David   28    Male     170"
      ]
     },
     "execution_count": 113,
     "metadata": {},
     "output_type": "execute_result"
    }
   ],
   "source": [
    "import pandas as pd\n",
    "\n",
    "# 데이터 생성\n",
    "data = {'Name': ['Alice', 'Bob', 'Charlie', 'David'],\n",
    "        'Age': [25, 35, 35, 28],\n",
    "        'Gender': ['Female', 'Male', 'Male', 'Male'],\n",
    "        'Height': [165, 180, 175, 170]}\n",
    "\n",
    "df = pd.DataFrame(data,  index=list(\"ABCD\"))\n",
    "df"
   ]
  },
  {
   "cell_type": "code",
   "execution_count": 114,
   "id": "95e8f735-47cc-4a3e-ba5d-7e6ab1e21dc6",
   "metadata": {
    "tags": []
   },
   "outputs": [
    {
     "data": {
      "text/html": [
       "<div>\n",
       "<style scoped>\n",
       "    .dataframe tbody tr th:only-of-type {\n",
       "        vertical-align: middle;\n",
       "    }\n",
       "\n",
       "    .dataframe tbody tr th {\n",
       "        vertical-align: top;\n",
       "    }\n",
       "\n",
       "    .dataframe thead th {\n",
       "        text-align: right;\n",
       "    }\n",
       "</style>\n",
       "<table border=\"1\" class=\"dataframe\">\n",
       "  <thead>\n",
       "    <tr style=\"text-align: right;\">\n",
       "      <th></th>\n",
       "      <th>Name</th>\n",
       "      <th>Age</th>\n",
       "      <th>Gender</th>\n",
       "      <th>Height</th>\n",
       "    </tr>\n",
       "  </thead>\n",
       "  <tbody>\n",
       "    <tr>\n",
       "      <th>D</th>\n",
       "      <td>David</td>\n",
       "      <td>28</td>\n",
       "      <td>Male</td>\n",
       "      <td>170</td>\n",
       "    </tr>\n",
       "    <tr>\n",
       "      <th>C</th>\n",
       "      <td>Charlie</td>\n",
       "      <td>35</td>\n",
       "      <td>Male</td>\n",
       "      <td>175</td>\n",
       "    </tr>\n",
       "    <tr>\n",
       "      <th>B</th>\n",
       "      <td>Bob</td>\n",
       "      <td>35</td>\n",
       "      <td>Male</td>\n",
       "      <td>180</td>\n",
       "    </tr>\n",
       "    <tr>\n",
       "      <th>A</th>\n",
       "      <td>Alice</td>\n",
       "      <td>25</td>\n",
       "      <td>Female</td>\n",
       "      <td>165</td>\n",
       "    </tr>\n",
       "  </tbody>\n",
       "</table>\n",
       "</div>"
      ],
      "text/plain": [
       "      Name  Age  Gender  Height\n",
       "D    David   28    Male     170\n",
       "C  Charlie   35    Male     175\n",
       "B      Bob   35    Male     180\n",
       "A    Alice   25  Female     165"
      ]
     },
     "execution_count": 114,
     "metadata": {},
     "output_type": "execute_result"
    }
   ],
   "source": [
    "# 인덱스 기준으로 내림차순 정렬\n",
    "df.sort_index(ascending=False)"
   ]
  },
  {
   "cell_type": "code",
   "execution_count": 115,
   "id": "192a1c0b-bc0d-4994-8fd3-189acef4bbb2",
   "metadata": {
    "tags": []
   },
   "outputs": [
    {
     "data": {
      "text/html": [
       "<div>\n",
       "<style scoped>\n",
       "    .dataframe tbody tr th:only-of-type {\n",
       "        vertical-align: middle;\n",
       "    }\n",
       "\n",
       "    .dataframe tbody tr th {\n",
       "        vertical-align: top;\n",
       "    }\n",
       "\n",
       "    .dataframe thead th {\n",
       "        text-align: right;\n",
       "    }\n",
       "</style>\n",
       "<table border=\"1\" class=\"dataframe\">\n",
       "  <thead>\n",
       "    <tr style=\"text-align: right;\">\n",
       "      <th></th>\n",
       "      <th>Name</th>\n",
       "      <th>Age</th>\n",
       "      <th>Gender</th>\n",
       "      <th>Height</th>\n",
       "    </tr>\n",
       "  </thead>\n",
       "  <tbody>\n",
       "    <tr>\n",
       "      <th>A</th>\n",
       "      <td>Alice</td>\n",
       "      <td>25</td>\n",
       "      <td>Female</td>\n",
       "      <td>165</td>\n",
       "    </tr>\n",
       "    <tr>\n",
       "      <th>D</th>\n",
       "      <td>David</td>\n",
       "      <td>28</td>\n",
       "      <td>Male</td>\n",
       "      <td>170</td>\n",
       "    </tr>\n",
       "    <tr>\n",
       "      <th>B</th>\n",
       "      <td>Bob</td>\n",
       "      <td>35</td>\n",
       "      <td>Male</td>\n",
       "      <td>180</td>\n",
       "    </tr>\n",
       "    <tr>\n",
       "      <th>C</th>\n",
       "      <td>Charlie</td>\n",
       "      <td>35</td>\n",
       "      <td>Male</td>\n",
       "      <td>175</td>\n",
       "    </tr>\n",
       "  </tbody>\n",
       "</table>\n",
       "</div>"
      ],
      "text/plain": [
       "      Name  Age  Gender  Height\n",
       "A    Alice   25  Female     165\n",
       "D    David   28    Male     170\n",
       "B      Bob   35    Male     180\n",
       "C  Charlie   35    Male     175"
      ]
     },
     "execution_count": 115,
     "metadata": {},
     "output_type": "execute_result"
    }
   ],
   "source": [
    "# Age 열을 기준으로 오름차순 정렬\n",
    "df.sort_values(by=\"Age\", ascending=True)"
   ]
  },
  {
   "cell_type": "code",
   "execution_count": 116,
   "id": "661e094e-827b-4a67-bb04-0d5f13691829",
   "metadata": {
    "tags": []
   },
   "outputs": [
    {
     "data": {
      "text/html": [
       "<div>\n",
       "<style scoped>\n",
       "    .dataframe tbody tr th:only-of-type {\n",
       "        vertical-align: middle;\n",
       "    }\n",
       "\n",
       "    .dataframe tbody tr th {\n",
       "        vertical-align: top;\n",
       "    }\n",
       "\n",
       "    .dataframe thead th {\n",
       "        text-align: right;\n",
       "    }\n",
       "</style>\n",
       "<table border=\"1\" class=\"dataframe\">\n",
       "  <thead>\n",
       "    <tr style=\"text-align: right;\">\n",
       "      <th></th>\n",
       "      <th>Name</th>\n",
       "      <th>Age</th>\n",
       "      <th>Gender</th>\n",
       "      <th>Height</th>\n",
       "    </tr>\n",
       "  </thead>\n",
       "  <tbody>\n",
       "    <tr>\n",
       "      <th>B</th>\n",
       "      <td>Bob</td>\n",
       "      <td>35</td>\n",
       "      <td>Male</td>\n",
       "      <td>180</td>\n",
       "    </tr>\n",
       "    <tr>\n",
       "      <th>C</th>\n",
       "      <td>Charlie</td>\n",
       "      <td>35</td>\n",
       "      <td>Male</td>\n",
       "      <td>175</td>\n",
       "    </tr>\n",
       "    <tr>\n",
       "      <th>D</th>\n",
       "      <td>David</td>\n",
       "      <td>28</td>\n",
       "      <td>Male</td>\n",
       "      <td>170</td>\n",
       "    </tr>\n",
       "    <tr>\n",
       "      <th>A</th>\n",
       "      <td>Alice</td>\n",
       "      <td>25</td>\n",
       "      <td>Female</td>\n",
       "      <td>165</td>\n",
       "    </tr>\n",
       "  </tbody>\n",
       "</table>\n",
       "</div>"
      ],
      "text/plain": [
       "      Name  Age  Gender  Height\n",
       "B      Bob   35    Male     180\n",
       "C  Charlie   35    Male     175\n",
       "D    David   28    Male     170\n",
       "A    Alice   25  Female     165"
      ]
     },
     "execution_count": 116,
     "metadata": {},
     "output_type": "execute_result"
    }
   ],
   "source": [
    "# Height 열을 기준으로 내림차순 정렬\n",
    "df.sort_values(by=\"Height\", ascending=False)"
   ]
  },
  {
   "cell_type": "raw",
   "id": "b1b4d6f0-ed3f-4082-baa6-f09a7ce2a353",
   "metadata": {},
   "source": [
    "여러개의 column을 기준으로 정렬할때에는\n",
    "by 파라미터에 정렬의 순서대로 컬럼이름을 배열의 형태로 입력하고\n",
    "ascending 파라미터에는 각 컬럼의 오름차순,내림차순 여부를 True,False 형태로 기입한 배열의 형태를 입력합니다."
   ]
  },
  {
   "cell_type": "code",
   "execution_count": 117,
   "id": "2827c7a8-0ad3-4013-a518-b2a961c288ab",
   "metadata": {
    "tags": []
   },
   "outputs": [
    {
     "data": {
      "text/html": [
       "<div>\n",
       "<style scoped>\n",
       "    .dataframe tbody tr th:only-of-type {\n",
       "        vertical-align: middle;\n",
       "    }\n",
       "\n",
       "    .dataframe tbody tr th {\n",
       "        vertical-align: top;\n",
       "    }\n",
       "\n",
       "    .dataframe thead th {\n",
       "        text-align: right;\n",
       "    }\n",
       "</style>\n",
       "<table border=\"1\" class=\"dataframe\">\n",
       "  <thead>\n",
       "    <tr style=\"text-align: right;\">\n",
       "      <th></th>\n",
       "      <th>Name</th>\n",
       "      <th>Age</th>\n",
       "      <th>Gender</th>\n",
       "      <th>Height</th>\n",
       "    </tr>\n",
       "  </thead>\n",
       "  <tbody>\n",
       "    <tr>\n",
       "      <th>A</th>\n",
       "      <td>Alice</td>\n",
       "      <td>25</td>\n",
       "      <td>Female</td>\n",
       "      <td>165</td>\n",
       "    </tr>\n",
       "    <tr>\n",
       "      <th>D</th>\n",
       "      <td>David</td>\n",
       "      <td>28</td>\n",
       "      <td>Male</td>\n",
       "      <td>170</td>\n",
       "    </tr>\n",
       "    <tr>\n",
       "      <th>B</th>\n",
       "      <td>Bob</td>\n",
       "      <td>35</td>\n",
       "      <td>Male</td>\n",
       "      <td>180</td>\n",
       "    </tr>\n",
       "    <tr>\n",
       "      <th>C</th>\n",
       "      <td>Charlie</td>\n",
       "      <td>35</td>\n",
       "      <td>Male</td>\n",
       "      <td>175</td>\n",
       "    </tr>\n",
       "  </tbody>\n",
       "</table>\n",
       "</div>"
      ],
      "text/plain": [
       "      Name  Age  Gender  Height\n",
       "A    Alice   25  Female     165\n",
       "D    David   28    Male     170\n",
       "B      Bob   35    Male     180\n",
       "C  Charlie   35    Male     175"
      ]
     },
     "execution_count": 117,
     "metadata": {},
     "output_type": "execute_result"
    }
   ],
   "source": [
    "# 여러 열을 기준으로 정렬 (나이를 먼저 오름차순으로 정렬하고, 그 다음 키를 내림차순으로 정렬)\n",
    "df.sort_values(by=[\"Age\", \"Height\"], ascending=[True, False])"
   ]
  },
  {
   "cell_type": "raw",
   "id": "ee316c5d-2f74-4f08-96e8-2a19757cc827",
   "metadata": {},
   "source": [
    "(아래내용 읽기)"
   ]
  },
  {
   "cell_type": "markdown",
   "id": "2bd05aa0-462c-411b-955c-88a59ed18456",
   "metadata": {
    "tags": []
   },
   "source": [
    "## 데이터프레임 산술 연산\n",
    "\n",
    "데이터프레임은 다양한 산술 연산을 지원하며, 기본적으로 요소별(element-wise) 연산이 이루어집니다. \n",
    "산술 연산은 데이터프레임 간의 연산 또는 데이터프레임 내부의 열 간 연산이 가능합니다. \n",
    "\n",
    "데이터프레임은 덧셈(+), 뺄셈(-), 곱셈(* ), 나눗셈(/) 등의 산술 연산을 지원하며, \n",
    "이 외에도 다양한 수학 함수를 적용할 수 있습니다. \n",
    "데이터프레임의 산술 연산은 각 행과 열의 인덱스와 컬럼명을 기준으로 동일한 경우에만 진행되며,\n",
    "한쪽이라도 없는 경우에는 NaN이 입력됩니다."
   ]
  },
  {
   "cell_type": "raw",
   "id": "3ac7643f-80bc-40e4-b778-eaa3f7ce9050",
   "metadata": {},
   "source": [
    "예제를 통해 확인해보도록 하겠습니다."
   ]
  },
  {
   "cell_type": "code",
   "execution_count": 118,
   "id": "450bccee-087c-4cc1-88c5-9967c3aca933",
   "metadata": {
    "tags": []
   },
   "outputs": [],
   "source": [
    "\"\"\"\n",
    "데이터프레임 간의 덧셈 연산\n",
    "\"\"\"\n",
    "\n",
    "import pandas as pd\n",
    "\n",
    "# 데이터 생성\n",
    "data1 = {'A': [1, 2, 3],\n",
    "         'C': [4, 5, 6]}\n",
    "df1 = pd.DataFrame(data1)\n",
    "\n",
    "data2 = {'A': [7, 8, 9, 10],\n",
    "         'B': [11, 12, 13, 14],\n",
    "         'C': [15, 16, 17, 18]\n",
    "        }\n",
    "df2 = pd.DataFrame(data2)"
   ]
  },
  {
   "cell_type": "code",
   "execution_count": 119,
   "id": "a5250e79-2d6d-4268-8ead-d4d28e91c465",
   "metadata": {
    "tags": []
   },
   "outputs": [
    {
     "data": {
      "text/html": [
       "<div>\n",
       "<style scoped>\n",
       "    .dataframe tbody tr th:only-of-type {\n",
       "        vertical-align: middle;\n",
       "    }\n",
       "\n",
       "    .dataframe tbody tr th {\n",
       "        vertical-align: top;\n",
       "    }\n",
       "\n",
       "    .dataframe thead th {\n",
       "        text-align: right;\n",
       "    }\n",
       "</style>\n",
       "<table border=\"1\" class=\"dataframe\">\n",
       "  <thead>\n",
       "    <tr style=\"text-align: right;\">\n",
       "      <th></th>\n",
       "      <th>A</th>\n",
       "      <th>C</th>\n",
       "    </tr>\n",
       "  </thead>\n",
       "  <tbody>\n",
       "    <tr>\n",
       "      <th>0</th>\n",
       "      <td>1</td>\n",
       "      <td>4</td>\n",
       "    </tr>\n",
       "    <tr>\n",
       "      <th>1</th>\n",
       "      <td>2</td>\n",
       "      <td>5</td>\n",
       "    </tr>\n",
       "    <tr>\n",
       "      <th>2</th>\n",
       "      <td>3</td>\n",
       "      <td>6</td>\n",
       "    </tr>\n",
       "  </tbody>\n",
       "</table>\n",
       "</div>"
      ],
      "text/plain": [
       "   A  C\n",
       "0  1  4\n",
       "1  2  5\n",
       "2  3  6"
      ]
     },
     "execution_count": 119,
     "metadata": {},
     "output_type": "execute_result"
    }
   ],
   "source": [
    "df1"
   ]
  },
  {
   "cell_type": "code",
   "execution_count": 120,
   "id": "864f1c5a-2008-412f-89a7-eb8653815e84",
   "metadata": {
    "tags": []
   },
   "outputs": [
    {
     "data": {
      "text/html": [
       "<div>\n",
       "<style scoped>\n",
       "    .dataframe tbody tr th:only-of-type {\n",
       "        vertical-align: middle;\n",
       "    }\n",
       "\n",
       "    .dataframe tbody tr th {\n",
       "        vertical-align: top;\n",
       "    }\n",
       "\n",
       "    .dataframe thead th {\n",
       "        text-align: right;\n",
       "    }\n",
       "</style>\n",
       "<table border=\"1\" class=\"dataframe\">\n",
       "  <thead>\n",
       "    <tr style=\"text-align: right;\">\n",
       "      <th></th>\n",
       "      <th>A</th>\n",
       "      <th>B</th>\n",
       "      <th>C</th>\n",
       "    </tr>\n",
       "  </thead>\n",
       "  <tbody>\n",
       "    <tr>\n",
       "      <th>0</th>\n",
       "      <td>7</td>\n",
       "      <td>11</td>\n",
       "      <td>15</td>\n",
       "    </tr>\n",
       "    <tr>\n",
       "      <th>1</th>\n",
       "      <td>8</td>\n",
       "      <td>12</td>\n",
       "      <td>16</td>\n",
       "    </tr>\n",
       "    <tr>\n",
       "      <th>2</th>\n",
       "      <td>9</td>\n",
       "      <td>13</td>\n",
       "      <td>17</td>\n",
       "    </tr>\n",
       "    <tr>\n",
       "      <th>3</th>\n",
       "      <td>10</td>\n",
       "      <td>14</td>\n",
       "      <td>18</td>\n",
       "    </tr>\n",
       "  </tbody>\n",
       "</table>\n",
       "</div>"
      ],
      "text/plain": [
       "    A   B   C\n",
       "0   7  11  15\n",
       "1   8  12  16\n",
       "2   9  13  17\n",
       "3  10  14  18"
      ]
     },
     "execution_count": 120,
     "metadata": {},
     "output_type": "execute_result"
    }
   ],
   "source": [
    "df2"
   ]
  },
  {
   "cell_type": "code",
   "execution_count": 121,
   "id": "8ed04b9c-3bb6-47a5-9a87-3684763c0571",
   "metadata": {
    "tags": []
   },
   "outputs": [
    {
     "data": {
      "text/html": [
       "<div>\n",
       "<style scoped>\n",
       "    .dataframe tbody tr th:only-of-type {\n",
       "        vertical-align: middle;\n",
       "    }\n",
       "\n",
       "    .dataframe tbody tr th {\n",
       "        vertical-align: top;\n",
       "    }\n",
       "\n",
       "    .dataframe thead th {\n",
       "        text-align: right;\n",
       "    }\n",
       "</style>\n",
       "<table border=\"1\" class=\"dataframe\">\n",
       "  <thead>\n",
       "    <tr style=\"text-align: right;\">\n",
       "      <th></th>\n",
       "      <th>A</th>\n",
       "      <th>B</th>\n",
       "      <th>C</th>\n",
       "    </tr>\n",
       "  </thead>\n",
       "  <tbody>\n",
       "    <tr>\n",
       "      <th>0</th>\n",
       "      <td>8.0</td>\n",
       "      <td>NaN</td>\n",
       "      <td>19.0</td>\n",
       "    </tr>\n",
       "    <tr>\n",
       "      <th>1</th>\n",
       "      <td>10.0</td>\n",
       "      <td>NaN</td>\n",
       "      <td>21.0</td>\n",
       "    </tr>\n",
       "    <tr>\n",
       "      <th>2</th>\n",
       "      <td>12.0</td>\n",
       "      <td>NaN</td>\n",
       "      <td>23.0</td>\n",
       "    </tr>\n",
       "    <tr>\n",
       "      <th>3</th>\n",
       "      <td>NaN</td>\n",
       "      <td>NaN</td>\n",
       "      <td>NaN</td>\n",
       "    </tr>\n",
       "  </tbody>\n",
       "</table>\n",
       "</div>"
      ],
      "text/plain": [
       "      A   B     C\n",
       "0   8.0 NaN  19.0\n",
       "1  10.0 NaN  21.0\n",
       "2  12.0 NaN  23.0\n",
       "3   NaN NaN   NaN"
      ]
     },
     "execution_count": 121,
     "metadata": {},
     "output_type": "execute_result"
    }
   ],
   "source": [
    "# 데이터프레임 간의 덧셈 연산\n",
    "\n",
    "df1+df2"
   ]
  },
  {
   "cell_type": "raw",
   "id": "e11fc654-c3b6-47ba-83b2-52ff3aa1e8d2",
   "metadata": {},
   "source": [
    "위에 연산된 결과를 확인해보면 df1 과 df2 에서 각 행의 인덱스와 열의 컬럼이름이\n",
    "동일한 요소들에 대해서만 덧셈결과가 기록되고\n",
    "그렇지 않은 경우에는 NaN이 입력된 것을 확인할 수 있습니다."
   ]
  },
  {
   "cell_type": "code",
   "execution_count": 122,
   "id": "1044ddec-8bcc-4592-acea-b545699dec2d",
   "metadata": {
    "tags": []
   },
   "outputs": [
    {
     "data": {
      "text/plain": [
       "0    5\n",
       "1    7\n",
       "2    9\n",
       "dtype: int64"
      ]
     },
     "execution_count": 122,
     "metadata": {},
     "output_type": "execute_result"
    }
   ],
   "source": [
    "\"\"\"\n",
    "데이터프레임 내부의 열 간 덧셈 연산\n",
    "\"\"\"\n",
    "# df1\n",
    "\n",
    "df1.A + df1.C\n"
   ]
  },
  {
   "cell_type": "raw",
   "id": "d6c9d0a6-75d7-4d26-9c38-9904396a121f",
   "metadata": {},
   "source": [
    "데이터레임 내부 열 간의 덧셈은 \n",
    "시리즈의 덧셈방식과 동일합니다.\n",
    "즉 인덱스 기준으로 연산을 진행하게 됩니다."
   ]
  },
  {
   "cell_type": "raw",
   "id": "218cc8ff-9fd1-4e58-97b8-193b6085e32a",
   "metadata": {},
   "source": [
    "(아래내용 읽기)"
   ]
  },
  {
   "cell_type": "markdown",
   "id": "28e95c05-f544-4e0c-9947-6be75352408b",
   "metadata": {},
   "source": [
    "## 전치(transpose)\n",
    "\n",
    "데이터프레임의 transpose() 메서드를 사용하면 행과 열을 바꾸어 데이터프레임을 전치(transpose)할 수 있습니다.  \n",
    "전치된 데이터프레임은 원래 데이터프레임의 행과 열이 서로 바뀐 형태로 반환됩니다."
   ]
  },
  {
   "cell_type": "code",
   "execution_count": 123,
   "id": "57559e95-b7e0-47fc-b008-9771fc3d6aa1",
   "metadata": {
    "tags": []
   },
   "outputs": [
    {
     "data": {
      "text/html": [
       "<div>\n",
       "<style scoped>\n",
       "    .dataframe tbody tr th:only-of-type {\n",
       "        vertical-align: middle;\n",
       "    }\n",
       "\n",
       "    .dataframe tbody tr th {\n",
       "        vertical-align: top;\n",
       "    }\n",
       "\n",
       "    .dataframe thead th {\n",
       "        text-align: right;\n",
       "    }\n",
       "</style>\n",
       "<table border=\"1\" class=\"dataframe\">\n",
       "  <thead>\n",
       "    <tr style=\"text-align: right;\">\n",
       "      <th></th>\n",
       "      <th>Name</th>\n",
       "      <th>Age</th>\n",
       "      <th>Gender</th>\n",
       "      <th>Height</th>\n",
       "    </tr>\n",
       "  </thead>\n",
       "  <tbody>\n",
       "    <tr>\n",
       "      <th>A</th>\n",
       "      <td>Alice</td>\n",
       "      <td>25</td>\n",
       "      <td>Female</td>\n",
       "      <td>165</td>\n",
       "    </tr>\n",
       "    <tr>\n",
       "      <th>B</th>\n",
       "      <td>Bob</td>\n",
       "      <td>35</td>\n",
       "      <td>Male</td>\n",
       "      <td>180</td>\n",
       "    </tr>\n",
       "    <tr>\n",
       "      <th>C</th>\n",
       "      <td>Charlie</td>\n",
       "      <td>35</td>\n",
       "      <td>Male</td>\n",
       "      <td>175</td>\n",
       "    </tr>\n",
       "    <tr>\n",
       "      <th>D</th>\n",
       "      <td>David</td>\n",
       "      <td>28</td>\n",
       "      <td>Male</td>\n",
       "      <td>170</td>\n",
       "    </tr>\n",
       "  </tbody>\n",
       "</table>\n",
       "</div>"
      ],
      "text/plain": [
       "      Name  Age  Gender  Height\n",
       "A    Alice   25  Female     165\n",
       "B      Bob   35    Male     180\n",
       "C  Charlie   35    Male     175\n",
       "D    David   28    Male     170"
      ]
     },
     "execution_count": 123,
     "metadata": {},
     "output_type": "execute_result"
    }
   ],
   "source": [
    "import pandas as pd\n",
    "\n",
    "# 데이터 생성\n",
    "data = {'Name': ['Alice', 'Bob', 'Charlie', 'David'],\n",
    "        'Age': [25, 35, 35, 28],\n",
    "        'Gender': ['Female', 'Male', 'Male', 'Male'],\n",
    "        'Height': [165, 180, 175, 170]}\n",
    "\n",
    "df = pd.DataFrame(data,  index=list(\"ABCD\"))\n",
    "df"
   ]
  },
  {
   "cell_type": "code",
   "execution_count": 124,
   "id": "d58e1879-dea4-4452-b54e-f2c37a637661",
   "metadata": {
    "tags": []
   },
   "outputs": [
    {
     "data": {
      "text/html": [
       "<div>\n",
       "<style scoped>\n",
       "    .dataframe tbody tr th:only-of-type {\n",
       "        vertical-align: middle;\n",
       "    }\n",
       "\n",
       "    .dataframe tbody tr th {\n",
       "        vertical-align: top;\n",
       "    }\n",
       "\n",
       "    .dataframe thead th {\n",
       "        text-align: right;\n",
       "    }\n",
       "</style>\n",
       "<table border=\"1\" class=\"dataframe\">\n",
       "  <thead>\n",
       "    <tr style=\"text-align: right;\">\n",
       "      <th></th>\n",
       "      <th>A</th>\n",
       "      <th>B</th>\n",
       "      <th>C</th>\n",
       "      <th>D</th>\n",
       "    </tr>\n",
       "  </thead>\n",
       "  <tbody>\n",
       "    <tr>\n",
       "      <th>Name</th>\n",
       "      <td>Alice</td>\n",
       "      <td>Bob</td>\n",
       "      <td>Charlie</td>\n",
       "      <td>David</td>\n",
       "    </tr>\n",
       "    <tr>\n",
       "      <th>Age</th>\n",
       "      <td>25</td>\n",
       "      <td>35</td>\n",
       "      <td>35</td>\n",
       "      <td>28</td>\n",
       "    </tr>\n",
       "    <tr>\n",
       "      <th>Gender</th>\n",
       "      <td>Female</td>\n",
       "      <td>Male</td>\n",
       "      <td>Male</td>\n",
       "      <td>Male</td>\n",
       "    </tr>\n",
       "    <tr>\n",
       "      <th>Height</th>\n",
       "      <td>165</td>\n",
       "      <td>180</td>\n",
       "      <td>175</td>\n",
       "      <td>170</td>\n",
       "    </tr>\n",
       "  </tbody>\n",
       "</table>\n",
       "</div>"
      ],
      "text/plain": [
       "             A     B        C      D\n",
       "Name     Alice   Bob  Charlie  David\n",
       "Age         25    35       35     28\n",
       "Gender  Female  Male     Male   Male\n",
       "Height     165   180      175    170"
      ]
     },
     "execution_count": 124,
     "metadata": {},
     "output_type": "execute_result"
    }
   ],
   "source": [
    "# 데이터프레임 전치\n",
    "df.transpose()"
   ]
  },
  {
   "cell_type": "raw",
   "id": "328a7435-49c0-4ac3-afcf-7c00a09ea2d9",
   "metadata": {},
   "source": [
    "위의 코드를 실행하면 데이터 프레임의 행/열이 바뀐 결과가 나오는 것을 확인할 수 있습니다."
   ]
  },
  {
   "cell_type": "code",
   "execution_count": 125,
   "id": "a29c28ec-4387-4b86-bbe8-af0bd9918e09",
   "metadata": {
    "tags": []
   },
   "outputs": [
    {
     "data": {
      "text/html": [
       "<div>\n",
       "<style scoped>\n",
       "    .dataframe tbody tr th:only-of-type {\n",
       "        vertical-align: middle;\n",
       "    }\n",
       "\n",
       "    .dataframe tbody tr th {\n",
       "        vertical-align: top;\n",
       "    }\n",
       "\n",
       "    .dataframe thead th {\n",
       "        text-align: right;\n",
       "    }\n",
       "</style>\n",
       "<table border=\"1\" class=\"dataframe\">\n",
       "  <thead>\n",
       "    <tr style=\"text-align: right;\">\n",
       "      <th></th>\n",
       "      <th>A</th>\n",
       "      <th>B</th>\n",
       "      <th>C</th>\n",
       "      <th>D</th>\n",
       "    </tr>\n",
       "  </thead>\n",
       "  <tbody>\n",
       "    <tr>\n",
       "      <th>Name</th>\n",
       "      <td>Alice</td>\n",
       "      <td>Bob</td>\n",
       "      <td>Charlie</td>\n",
       "      <td>David</td>\n",
       "    </tr>\n",
       "    <tr>\n",
       "      <th>Age</th>\n",
       "      <td>25</td>\n",
       "      <td>35</td>\n",
       "      <td>35</td>\n",
       "      <td>28</td>\n",
       "    </tr>\n",
       "    <tr>\n",
       "      <th>Gender</th>\n",
       "      <td>Female</td>\n",
       "      <td>Male</td>\n",
       "      <td>Male</td>\n",
       "      <td>Male</td>\n",
       "    </tr>\n",
       "    <tr>\n",
       "      <th>Height</th>\n",
       "      <td>165</td>\n",
       "      <td>180</td>\n",
       "      <td>175</td>\n",
       "      <td>170</td>\n",
       "    </tr>\n",
       "  </tbody>\n",
       "</table>\n",
       "</div>"
      ],
      "text/plain": [
       "             A     B        C      D\n",
       "Name     Alice   Bob  Charlie  David\n",
       "Age         25    35       35     28\n",
       "Gender  Female  Male     Male   Male\n",
       "Height     165   180      175    170"
      ]
     },
     "execution_count": 125,
     "metadata": {},
     "output_type": "execute_result"
    }
   ],
   "source": [
    "df.T"
   ]
  },
  {
   "cell_type": "raw",
   "id": "228547f8-938c-427b-8fd9-459e01f77078",
   "metadata": {},
   "source": [
    "대문자 T속성을 사용하는 것도 같은 결과를 반환합니다."
   ]
  },
  {
   "cell_type": "raw",
   "id": "2fb0ca9f-619c-4a11-bab4-a37c8b4df518",
   "metadata": {},
   "source": [
    "이번에는 데이터프레임에서 제공하는 통계함수에 대해서 확인해보도록 하겠습니다."
   ]
  },
  {
   "cell_type": "markdown",
   "id": "77fa242f-c56d-4b3c-835d-46385199e835",
   "metadata": {},
   "source": [
    "## 통계"
   ]
  },
  {
   "cell_type": "code",
   "execution_count": 126,
   "id": "aeb8f02f-46cf-4968-8ba1-45b6e7ff55b7",
   "metadata": {
    "tags": []
   },
   "outputs": [
    {
     "data": {
      "text/html": [
       "<div>\n",
       "<style scoped>\n",
       "    .dataframe tbody tr th:only-of-type {\n",
       "        vertical-align: middle;\n",
       "    }\n",
       "\n",
       "    .dataframe tbody tr th {\n",
       "        vertical-align: top;\n",
       "    }\n",
       "\n",
       "    .dataframe thead th {\n",
       "        text-align: right;\n",
       "    }\n",
       "</style>\n",
       "<table border=\"1\" class=\"dataframe\">\n",
       "  <thead>\n",
       "    <tr style=\"text-align: right;\">\n",
       "      <th></th>\n",
       "      <th>Kor</th>\n",
       "      <th>Eng</th>\n",
       "      <th>Math</th>\n",
       "    </tr>\n",
       "  </thead>\n",
       "  <tbody>\n",
       "    <tr>\n",
       "      <th>Alice</th>\n",
       "      <td>63</td>\n",
       "      <td>51</td>\n",
       "      <td>69</td>\n",
       "    </tr>\n",
       "    <tr>\n",
       "      <th>Bob</th>\n",
       "      <td>54</td>\n",
       "      <td>65</td>\n",
       "      <td>78</td>\n",
       "    </tr>\n",
       "    <tr>\n",
       "      <th>Charlie</th>\n",
       "      <td>73</td>\n",
       "      <td>92</td>\n",
       "      <td>57</td>\n",
       "    </tr>\n",
       "    <tr>\n",
       "      <th>David</th>\n",
       "      <td>64</td>\n",
       "      <td>98</td>\n",
       "      <td>88</td>\n",
       "    </tr>\n",
       "    <tr>\n",
       "      <th>Eva</th>\n",
       "      <td>55</td>\n",
       "      <td>68</td>\n",
       "      <td>59</td>\n",
       "    </tr>\n",
       "  </tbody>\n",
       "</table>\n",
       "</div>"
      ],
      "text/plain": [
       "         Kor  Eng  Math\n",
       "Alice     63   51    69\n",
       "Bob       54   65    78\n",
       "Charlie   73   92    57\n",
       "David     64   98    88\n",
       "Eva       55   68    59"
      ]
     },
     "execution_count": 126,
     "metadata": {},
     "output_type": "execute_result"
    }
   ],
   "source": [
    "import pandas as pd\n",
    "import numpy as np\n",
    "\n",
    "data = np.random.randint(50,100,15).reshape(5,3)\n",
    "df = pd.DataFrame(\n",
    "    data,\n",
    "    index=\"Alice Bob Charlie David Eva\".split(),\n",
    "    columns=\"Kor Eng Math\".split()\n",
    ")\n",
    "df"
   ]
  },
  {
   "cell_type": "raw",
   "id": "6be4d996-bfcd-4660-95f3-5a3b8f2c5c76",
   "metadata": {},
   "source": [
    "데이터 프레임의 통계함수들은 각 행 혹은 열단위로 결과를 반환합니다.\n",
    "통계함수에 파라미터를 넣지 않으면 axis에는 디폴트로 0의 값이 들어가고\n",
    "이렇게 되면 행단위로 결과를 계산하게 됩니다."
   ]
  },
  {
   "cell_type": "code",
   "execution_count": 127,
   "id": "e5688db2-f035-479b-a62c-97964be6f673",
   "metadata": {
    "tags": []
   },
   "outputs": [
    {
     "data": {
      "text/plain": [
       "Kor     61.8\n",
       "Eng     74.8\n",
       "Math    70.2\n",
       "dtype: float64"
      ]
     },
     "execution_count": 127,
     "metadata": {},
     "output_type": "execute_result"
    }
   ],
   "source": [
    "df.mean()"
   ]
  },
  {
   "cell_type": "raw",
   "id": "3fc86851-2b65-42d8-b11b-764869d67de1",
   "metadata": {},
   "source": [
    "이 예제에서는 열이 과목을 의미하므로,\n",
    "각 과목별 평균을 얻을 수 있습니다."
   ]
  },
  {
   "cell_type": "raw",
   "id": "2de4b9ad-0f9e-4315-b02b-0a3cfc4de302",
   "metadata": {},
   "source": [
    "만약 axis=1 이라는 파라미터를 넣으면 행단위로 계산한 결과를 얻을 수 있습니다."
   ]
  },
  {
   "cell_type": "code",
   "execution_count": 128,
   "id": "c1cd8dca-a738-4d2e-b3d9-2b07e4aa9882",
   "metadata": {
    "tags": []
   },
   "outputs": [
    {
     "data": {
      "text/plain": [
       "Alice      61.000000\n",
       "Bob        65.666667\n",
       "Charlie    74.000000\n",
       "David      83.333333\n",
       "Eva        60.666667\n",
       "dtype: float64"
      ]
     },
     "execution_count": 128,
     "metadata": {},
     "output_type": "execute_result"
    }
   ],
   "source": [
    "df.mean(axis=1)"
   ]
  },
  {
   "cell_type": "raw",
   "id": "b29e4820-cea0-4b64-babc-41432d7ccd82",
   "metadata": {},
   "source": [
    "이 예제에서는 행이 각 사람을 의미하므로\n",
    "각 사람의 평균을 얻을 수 있습니다.`"
   ]
  },
  {
   "cell_type": "raw",
   "id": "7478a4ae-3fcf-4cee-a23c-ba1cf1d269c9",
   "metadata": {},
   "source": [
    "기본적으로 데이터프레임의 통계함수의 결과는\n",
    "시리즈 형태이므로 시리즈의 함수를 연속해서 호출이 가능합니다."
   ]
  },
  {
   "cell_type": "code",
   "execution_count": 129,
   "id": "93b1e9a0-29bc-49c3-9b20-2ff44ae86890",
   "metadata": {
    "tags": []
   },
   "outputs": [
    {
     "data": {
      "text/plain": [
       "pandas.core.series.Series"
      ]
     },
     "execution_count": 129,
     "metadata": {},
     "output_type": "execute_result"
    }
   ],
   "source": [
    "type(df.mean(axis=1))"
   ]
  },
  {
   "cell_type": "code",
   "execution_count": 130,
   "id": "ecb3a689-69ba-43de-be6d-a5ed55d920a3",
   "metadata": {
    "tags": []
   },
   "outputs": [
    {
     "data": {
      "text/plain": [
       "Alice      61.0\n",
       "Bob        65.7\n",
       "Charlie    74.0\n",
       "David      83.3\n",
       "Eva        60.7\n",
       "dtype: float64"
      ]
     },
     "execution_count": 130,
     "metadata": {},
     "output_type": "execute_result"
    }
   ],
   "source": [
    "df.mean(axis=1).round(1)"
   ]
  },
  {
   "cell_type": "raw",
   "id": "5e10ef92-e343-468f-b950-c93b7b0f6ad9",
   "metadata": {},
   "source": [
    "위의 예제는 행별 평균을 구하고 소수 첫째 자리까지 반올림하도록 동작합니다.`"
   ]
  },
  {
   "cell_type": "code",
   "execution_count": 131,
   "id": "216eb806-3c38-4166-94ca-290bec0e7bf9",
   "metadata": {
    "tags": []
   },
   "outputs": [
    {
     "data": {
      "text/plain": [
       "Kor     73\n",
       "Eng     98\n",
       "Math    88\n",
       "dtype: int64"
      ]
     },
     "execution_count": 131,
     "metadata": {},
     "output_type": "execute_result"
    }
   ],
   "source": [
    "df.max()"
   ]
  },
  {
   "cell_type": "code",
   "execution_count": 132,
   "id": "69d5855c-3ca6-4b4d-9d9b-c83a959cd504",
   "metadata": {
    "tags": []
   },
   "outputs": [
    {
     "data": {
      "text/plain": [
       "Alice      69\n",
       "Bob        78\n",
       "Charlie    92\n",
       "David      98\n",
       "Eva        68\n",
       "dtype: int64"
      ]
     },
     "execution_count": 132,
     "metadata": {},
     "output_type": "execute_result"
    }
   ],
   "source": [
    "df.max(axis=1)"
   ]
  },
  {
   "cell_type": "code",
   "execution_count": 133,
   "id": "44c4728a-a326-41f1-8351-6a17f58be31d",
   "metadata": {
    "tags": []
   },
   "outputs": [
    {
     "data": {
      "text/plain": [
       "98"
      ]
     },
     "execution_count": 133,
     "metadata": {},
     "output_type": "execute_result"
    }
   ],
   "source": [
    "df.max().max()"
   ]
  },
  {
   "cell_type": "code",
   "execution_count": 134,
   "id": "ab81e6ad-2a04-4d00-bf9b-fa430a48bd70",
   "metadata": {
    "tags": []
   },
   "outputs": [
    {
     "data": {
      "text/html": [
       "<div>\n",
       "<style scoped>\n",
       "    .dataframe tbody tr th:only-of-type {\n",
       "        vertical-align: middle;\n",
       "    }\n",
       "\n",
       "    .dataframe tbody tr th {\n",
       "        vertical-align: top;\n",
       "    }\n",
       "\n",
       "    .dataframe thead th {\n",
       "        text-align: right;\n",
       "    }\n",
       "</style>\n",
       "<table border=\"1\" class=\"dataframe\">\n",
       "  <thead>\n",
       "    <tr style=\"text-align: right;\">\n",
       "      <th></th>\n",
       "      <th>Kor</th>\n",
       "      <th>Eng</th>\n",
       "      <th>Math</th>\n",
       "    </tr>\n",
       "  </thead>\n",
       "  <tbody>\n",
       "    <tr>\n",
       "      <th>count</th>\n",
       "      <td>5.000000</td>\n",
       "      <td>5.000000</td>\n",
       "      <td>5.000000</td>\n",
       "    </tr>\n",
       "    <tr>\n",
       "      <th>mean</th>\n",
       "      <td>61.800000</td>\n",
       "      <td>74.800000</td>\n",
       "      <td>70.200000</td>\n",
       "    </tr>\n",
       "    <tr>\n",
       "      <th>std</th>\n",
       "      <td>7.726578</td>\n",
       "      <td>19.639246</td>\n",
       "      <td>13.026895</td>\n",
       "    </tr>\n",
       "    <tr>\n",
       "      <th>min</th>\n",
       "      <td>54.000000</td>\n",
       "      <td>51.000000</td>\n",
       "      <td>57.000000</td>\n",
       "    </tr>\n",
       "    <tr>\n",
       "      <th>25%</th>\n",
       "      <td>55.000000</td>\n",
       "      <td>65.000000</td>\n",
       "      <td>59.000000</td>\n",
       "    </tr>\n",
       "    <tr>\n",
       "      <th>50%</th>\n",
       "      <td>63.000000</td>\n",
       "      <td>68.000000</td>\n",
       "      <td>69.000000</td>\n",
       "    </tr>\n",
       "    <tr>\n",
       "      <th>75%</th>\n",
       "      <td>64.000000</td>\n",
       "      <td>92.000000</td>\n",
       "      <td>78.000000</td>\n",
       "    </tr>\n",
       "    <tr>\n",
       "      <th>max</th>\n",
       "      <td>73.000000</td>\n",
       "      <td>98.000000</td>\n",
       "      <td>88.000000</td>\n",
       "    </tr>\n",
       "  </tbody>\n",
       "</table>\n",
       "</div>"
      ],
      "text/plain": [
       "             Kor        Eng       Math\n",
       "count   5.000000   5.000000   5.000000\n",
       "mean   61.800000  74.800000  70.200000\n",
       "std     7.726578  19.639246  13.026895\n",
       "min    54.000000  51.000000  57.000000\n",
       "25%    55.000000  65.000000  59.000000\n",
       "50%    63.000000  68.000000  69.000000\n",
       "75%    64.000000  92.000000  78.000000\n",
       "max    73.000000  98.000000  88.000000"
      ]
     },
     "execution_count": 134,
     "metadata": {},
     "output_type": "execute_result"
    }
   ],
   "source": [
    "df.describe()"
   ]
  },
  {
   "cell_type": "code",
   "execution_count": 135,
   "id": "d8a5c6bb-75fc-4864-854d-5f828913eda6",
   "metadata": {
    "tags": []
   },
   "outputs": [
    {
     "data": {
      "text/html": [
       "<div>\n",
       "<style scoped>\n",
       "    .dataframe tbody tr th:only-of-type {\n",
       "        vertical-align: middle;\n",
       "    }\n",
       "\n",
       "    .dataframe tbody tr th {\n",
       "        vertical-align: top;\n",
       "    }\n",
       "\n",
       "    .dataframe thead th {\n",
       "        text-align: right;\n",
       "    }\n",
       "</style>\n",
       "<table border=\"1\" class=\"dataframe\">\n",
       "  <thead>\n",
       "    <tr style=\"text-align: right;\">\n",
       "      <th></th>\n",
       "      <th>Alice</th>\n",
       "      <th>Bob</th>\n",
       "      <th>Charlie</th>\n",
       "      <th>David</th>\n",
       "      <th>Eva</th>\n",
       "    </tr>\n",
       "  </thead>\n",
       "  <tbody>\n",
       "    <tr>\n",
       "      <th>count</th>\n",
       "      <td>3.000000</td>\n",
       "      <td>3.000000</td>\n",
       "      <td>3.000000</td>\n",
       "      <td>3.000000</td>\n",
       "      <td>3.000000</td>\n",
       "    </tr>\n",
       "    <tr>\n",
       "      <th>mean</th>\n",
       "      <td>61.000000</td>\n",
       "      <td>65.666667</td>\n",
       "      <td>74.000000</td>\n",
       "      <td>83.333333</td>\n",
       "      <td>60.666667</td>\n",
       "    </tr>\n",
       "    <tr>\n",
       "      <th>std</th>\n",
       "      <td>9.165151</td>\n",
       "      <td>12.013881</td>\n",
       "      <td>17.521415</td>\n",
       "      <td>17.473790</td>\n",
       "      <td>6.658328</td>\n",
       "    </tr>\n",
       "    <tr>\n",
       "      <th>min</th>\n",
       "      <td>51.000000</td>\n",
       "      <td>54.000000</td>\n",
       "      <td>57.000000</td>\n",
       "      <td>64.000000</td>\n",
       "      <td>55.000000</td>\n",
       "    </tr>\n",
       "    <tr>\n",
       "      <th>25%</th>\n",
       "      <td>57.000000</td>\n",
       "      <td>59.500000</td>\n",
       "      <td>65.000000</td>\n",
       "      <td>76.000000</td>\n",
       "      <td>57.000000</td>\n",
       "    </tr>\n",
       "    <tr>\n",
       "      <th>50%</th>\n",
       "      <td>63.000000</td>\n",
       "      <td>65.000000</td>\n",
       "      <td>73.000000</td>\n",
       "      <td>88.000000</td>\n",
       "      <td>59.000000</td>\n",
       "    </tr>\n",
       "    <tr>\n",
       "      <th>75%</th>\n",
       "      <td>66.000000</td>\n",
       "      <td>71.500000</td>\n",
       "      <td>82.500000</td>\n",
       "      <td>93.000000</td>\n",
       "      <td>63.500000</td>\n",
       "    </tr>\n",
       "    <tr>\n",
       "      <th>max</th>\n",
       "      <td>69.000000</td>\n",
       "      <td>78.000000</td>\n",
       "      <td>92.000000</td>\n",
       "      <td>98.000000</td>\n",
       "      <td>68.000000</td>\n",
       "    </tr>\n",
       "  </tbody>\n",
       "</table>\n",
       "</div>"
      ],
      "text/plain": [
       "           Alice        Bob    Charlie      David        Eva\n",
       "count   3.000000   3.000000   3.000000   3.000000   3.000000\n",
       "mean   61.000000  65.666667  74.000000  83.333333  60.666667\n",
       "std     9.165151  12.013881  17.521415  17.473790   6.658328\n",
       "min    51.000000  54.000000  57.000000  64.000000  55.000000\n",
       "25%    57.000000  59.500000  65.000000  76.000000  57.000000\n",
       "50%    63.000000  65.000000  73.000000  88.000000  59.000000\n",
       "75%    66.000000  71.500000  82.500000  93.000000  63.500000\n",
       "max    69.000000  78.000000  92.000000  98.000000  68.000000"
      ]
     },
     "execution_count": 135,
     "metadata": {},
     "output_type": "execute_result"
    }
   ],
   "source": [
    "df.T.describe()"
   ]
  },
  {
   "cell_type": "raw",
   "id": "eba29ccb-d883-4a16-b1d7-bfa131e23368",
   "metadata": {},
   "source": [
    "(아래 내용 그대로 읽기)"
   ]
  },
  {
   "cell_type": "markdown",
   "id": "beda428f-f36d-4c2d-b2e6-86cd6494faf7",
   "metadata": {},
   "source": [
    "## numpy의 함수 적용\n",
    "\n",
    " NumPy 함수에 데이터프레임을 파라미터로 넣을 수 있습니다."
   ]
  },
  {
   "cell_type": "raw",
   "id": "c1f0c116-f6c7-41cd-b49b-418a13626448",
   "metadata": {},
   "source": [
    "예제를 통해 확인해보도록 하겠습니다."
   ]
  },
  {
   "cell_type": "code",
   "execution_count": 136,
   "id": "ac4efe1f-b7e6-41ea-980c-a958a0a66eab",
   "metadata": {
    "tags": []
   },
   "outputs": [
    {
     "data": {
      "text/html": [
       "<div>\n",
       "<style scoped>\n",
       "    .dataframe tbody tr th:only-of-type {\n",
       "        vertical-align: middle;\n",
       "    }\n",
       "\n",
       "    .dataframe tbody tr th {\n",
       "        vertical-align: top;\n",
       "    }\n",
       "\n",
       "    .dataframe thead th {\n",
       "        text-align: right;\n",
       "    }\n",
       "</style>\n",
       "<table border=\"1\" class=\"dataframe\">\n",
       "  <thead>\n",
       "    <tr style=\"text-align: right;\">\n",
       "      <th></th>\n",
       "      <th>A</th>\n",
       "      <th>B</th>\n",
       "      <th>C</th>\n",
       "    </tr>\n",
       "  </thead>\n",
       "  <tbody>\n",
       "    <tr>\n",
       "      <th>0</th>\n",
       "      <td>1</td>\n",
       "      <td>10</td>\n",
       "      <td>100</td>\n",
       "    </tr>\n",
       "    <tr>\n",
       "      <th>1</th>\n",
       "      <td>2</td>\n",
       "      <td>20</td>\n",
       "      <td>200</td>\n",
       "    </tr>\n",
       "    <tr>\n",
       "      <th>2</th>\n",
       "      <td>3</td>\n",
       "      <td>30</td>\n",
       "      <td>300</td>\n",
       "    </tr>\n",
       "    <tr>\n",
       "      <th>3</th>\n",
       "      <td>4</td>\n",
       "      <td>40</td>\n",
       "      <td>400</td>\n",
       "    </tr>\n",
       "    <tr>\n",
       "      <th>4</th>\n",
       "      <td>5</td>\n",
       "      <td>50</td>\n",
       "      <td>500</td>\n",
       "    </tr>\n",
       "  </tbody>\n",
       "</table>\n",
       "</div>"
      ],
      "text/plain": [
       "   A   B    C\n",
       "0  1  10  100\n",
       "1  2  20  200\n",
       "2  3  30  300\n",
       "3  4  40  400\n",
       "4  5  50  500"
      ]
     },
     "execution_count": 136,
     "metadata": {},
     "output_type": "execute_result"
    }
   ],
   "source": [
    "\"\"\"\n",
    "데이터프레임의 값에 로그 함수 적용하기 (NumPy 함수 사용)\n",
    "\"\"\"\n",
    "import pandas as pd\n",
    "import numpy as np\n",
    "\n",
    "# 데이터프레임 생성\n",
    "data = {\n",
    "    'A': [1, 2, 3, 4, 5],\n",
    "    'B': [10, 20, 30, 40, 50],\n",
    "    'C': [100, 200, 300, 400, 500]\n",
    "}\n",
    "\n",
    "df = pd.DataFrame(data)\n",
    "df\n"
   ]
  },
  {
   "cell_type": "raw",
   "id": "4ac4700e-cefe-43dd-84fe-2004b49ab236",
   "metadata": {},
   "source": [
    "np.log() 함수에 데이터 프레임 객체를 파라미터로 넣을 수 있습니다."
   ]
  },
  {
   "cell_type": "code",
   "execution_count": 137,
   "id": "06418688-fa4b-464a-b563-21e1bf5a3e43",
   "metadata": {
    "tags": []
   },
   "outputs": [],
   "source": [
    "import numpy as np\n",
    "df_log = np.log(df)"
   ]
  },
  {
   "cell_type": "code",
   "execution_count": 138,
   "id": "5f14b17a-02df-458a-9fc1-49dc40b8b8f5",
   "metadata": {
    "tags": []
   },
   "outputs": [
    {
     "data": {
      "text/plain": [
       "pandas.core.frame.DataFrame"
      ]
     },
     "execution_count": 138,
     "metadata": {},
     "output_type": "execute_result"
    }
   ],
   "source": [
    "type(df_log)"
   ]
  },
  {
   "cell_type": "code",
   "execution_count": 139,
   "id": "0a69cb8e-cb1f-479b-bc0e-913b0308e53c",
   "metadata": {
    "tags": []
   },
   "outputs": [
    {
     "data": {
      "text/html": [
       "<div>\n",
       "<style scoped>\n",
       "    .dataframe tbody tr th:only-of-type {\n",
       "        vertical-align: middle;\n",
       "    }\n",
       "\n",
       "    .dataframe tbody tr th {\n",
       "        vertical-align: top;\n",
       "    }\n",
       "\n",
       "    .dataframe thead th {\n",
       "        text-align: right;\n",
       "    }\n",
       "</style>\n",
       "<table border=\"1\" class=\"dataframe\">\n",
       "  <thead>\n",
       "    <tr style=\"text-align: right;\">\n",
       "      <th></th>\n",
       "      <th>A</th>\n",
       "      <th>B</th>\n",
       "      <th>C</th>\n",
       "    </tr>\n",
       "  </thead>\n",
       "  <tbody>\n",
       "    <tr>\n",
       "      <th>0</th>\n",
       "      <td>0.000000</td>\n",
       "      <td>2.302585</td>\n",
       "      <td>4.605170</td>\n",
       "    </tr>\n",
       "    <tr>\n",
       "      <th>1</th>\n",
       "      <td>0.693147</td>\n",
       "      <td>2.995732</td>\n",
       "      <td>5.298317</td>\n",
       "    </tr>\n",
       "    <tr>\n",
       "      <th>2</th>\n",
       "      <td>1.098612</td>\n",
       "      <td>3.401197</td>\n",
       "      <td>5.703782</td>\n",
       "    </tr>\n",
       "    <tr>\n",
       "      <th>3</th>\n",
       "      <td>1.386294</td>\n",
       "      <td>3.688879</td>\n",
       "      <td>5.991465</td>\n",
       "    </tr>\n",
       "    <tr>\n",
       "      <th>4</th>\n",
       "      <td>1.609438</td>\n",
       "      <td>3.912023</td>\n",
       "      <td>6.214608</td>\n",
       "    </tr>\n",
       "  </tbody>\n",
       "</table>\n",
       "</div>"
      ],
      "text/plain": [
       "          A         B         C\n",
       "0  0.000000  2.302585  4.605170\n",
       "1  0.693147  2.995732  5.298317\n",
       "2  1.098612  3.401197  5.703782\n",
       "3  1.386294  3.688879  5.991465\n",
       "4  1.609438  3.912023  6.214608"
      ]
     },
     "execution_count": 139,
     "metadata": {},
     "output_type": "execute_result"
    }
   ],
   "source": [
    "df_log"
   ]
  },
  {
   "cell_type": "raw",
   "id": "0b1a261a-0f5f-4137-8a11-12ea82bdcea5",
   "metadata": {},
   "source": [
    "이 경우 반환되는 타입은 dataframe 이고\n",
    "각 셀에는 log() 가 적용된 값이 들어가 있음을 확인할 수 있습니다."
   ]
  },
  {
   "cell_type": "code",
   "execution_count": 140,
   "id": "f2f2d330-0e4e-4769-937a-7896a40dfba0",
   "metadata": {
    "tags": []
   },
   "outputs": [],
   "source": [
    "\"\"\"\n",
    "데이터프레임의 값이 3 이상인 경우에만 제곱근 적용하기 (NumPy 함수와 조건 사용)\n",
    "\"\"\"\n",
    "\n",
    "import pandas as pd\n",
    "import numpy as np\n",
    "\n",
    "# 데이터프레임 생성\n",
    "data = {\n",
    "    'A': [1, 2, 3, 4, 5],\n",
    "    'B': [10, 20, 30, 40, 50],\n",
    "    'C': [100, 200, 300, 400, 500]\n",
    "}\n",
    "\n",
    "df = pd.DataFrame(data)"
   ]
  },
  {
   "cell_type": "code",
   "execution_count": 141,
   "id": "32e5c7f4-e8bb-4351-911e-84845a5a2cbc",
   "metadata": {
    "tags": []
   },
   "outputs": [
    {
     "data": {
      "text/html": [
       "<div>\n",
       "<style scoped>\n",
       "    .dataframe tbody tr th:only-of-type {\n",
       "        vertical-align: middle;\n",
       "    }\n",
       "\n",
       "    .dataframe tbody tr th {\n",
       "        vertical-align: top;\n",
       "    }\n",
       "\n",
       "    .dataframe thead th {\n",
       "        text-align: right;\n",
       "    }\n",
       "</style>\n",
       "<table border=\"1\" class=\"dataframe\">\n",
       "  <thead>\n",
       "    <tr style=\"text-align: right;\">\n",
       "      <th></th>\n",
       "      <th>A</th>\n",
       "      <th>B</th>\n",
       "      <th>C</th>\n",
       "    </tr>\n",
       "  </thead>\n",
       "  <tbody>\n",
       "    <tr>\n",
       "      <th>0</th>\n",
       "      <td>1</td>\n",
       "      <td>10</td>\n",
       "      <td>100</td>\n",
       "    </tr>\n",
       "    <tr>\n",
       "      <th>1</th>\n",
       "      <td>2</td>\n",
       "      <td>20</td>\n",
       "      <td>200</td>\n",
       "    </tr>\n",
       "    <tr>\n",
       "      <th>2</th>\n",
       "      <td>3</td>\n",
       "      <td>30</td>\n",
       "      <td>300</td>\n",
       "    </tr>\n",
       "    <tr>\n",
       "      <th>3</th>\n",
       "      <td>4</td>\n",
       "      <td>40</td>\n",
       "      <td>400</td>\n",
       "    </tr>\n",
       "    <tr>\n",
       "      <th>4</th>\n",
       "      <td>5</td>\n",
       "      <td>50</td>\n",
       "      <td>500</td>\n",
       "    </tr>\n",
       "  </tbody>\n",
       "</table>\n",
       "</div>"
      ],
      "text/plain": [
       "   A   B    C\n",
       "0  1  10  100\n",
       "1  2  20  200\n",
       "2  3  30  300\n",
       "3  4  40  400\n",
       "4  5  50  500"
      ]
     },
     "execution_count": 141,
     "metadata": {},
     "output_type": "execute_result"
    }
   ],
   "source": [
    "df"
   ]
  },
  {
   "cell_type": "raw",
   "id": "75ab7f97-b5ea-4a44-aeff-c0c075f79ccd",
   "metadata": {},
   "source": [
    "다음은 40보다 큰 수에만 제곱근을 적용하는 예제입니다."
   ]
  },
  {
   "cell_type": "code",
   "execution_count": 142,
   "id": "57b06e57-acaa-4b69-9ff8-1e65fb8636a0",
   "metadata": {
    "tags": []
   },
   "outputs": [
    {
     "data": {
      "text/plain": [
       "array([[ 1.        , 10.        , 10.        ],\n",
       "       [ 2.        , 20.        , 14.14213562],\n",
       "       [ 3.        , 30.        , 17.32050808],\n",
       "       [ 4.        ,  6.32455532, 20.        ],\n",
       "       [ 5.        ,  7.07106781, 22.36067977]])"
      ]
     },
     "execution_count": 142,
     "metadata": {},
     "output_type": "execute_result"
    }
   ],
   "source": [
    "np.where(df>=40, np.sqrt(df), df)"
   ]
  },
  {
   "cell_type": "code",
   "execution_count": 143,
   "id": "6d029f1b-f7ae-4fbc-a8f6-08c3ae9b2fc1",
   "metadata": {
    "tags": []
   },
   "outputs": [
    {
     "data": {
      "text/html": [
       "<div>\n",
       "<style scoped>\n",
       "    .dataframe tbody tr th:only-of-type {\n",
       "        vertical-align: middle;\n",
       "    }\n",
       "\n",
       "    .dataframe tbody tr th {\n",
       "        vertical-align: top;\n",
       "    }\n",
       "\n",
       "    .dataframe thead th {\n",
       "        text-align: right;\n",
       "    }\n",
       "</style>\n",
       "<table border=\"1\" class=\"dataframe\">\n",
       "  <thead>\n",
       "    <tr style=\"text-align: right;\">\n",
       "      <th></th>\n",
       "      <th>A</th>\n",
       "      <th>B</th>\n",
       "      <th>C</th>\n",
       "    </tr>\n",
       "  </thead>\n",
       "  <tbody>\n",
       "    <tr>\n",
       "      <th>0</th>\n",
       "      <td>1.0</td>\n",
       "      <td>10.000000</td>\n",
       "      <td>10.000000</td>\n",
       "    </tr>\n",
       "    <tr>\n",
       "      <th>1</th>\n",
       "      <td>2.0</td>\n",
       "      <td>20.000000</td>\n",
       "      <td>14.142136</td>\n",
       "    </tr>\n",
       "    <tr>\n",
       "      <th>2</th>\n",
       "      <td>3.0</td>\n",
       "      <td>30.000000</td>\n",
       "      <td>17.320508</td>\n",
       "    </tr>\n",
       "    <tr>\n",
       "      <th>3</th>\n",
       "      <td>4.0</td>\n",
       "      <td>6.324555</td>\n",
       "      <td>20.000000</td>\n",
       "    </tr>\n",
       "    <tr>\n",
       "      <th>4</th>\n",
       "      <td>5.0</td>\n",
       "      <td>7.071068</td>\n",
       "      <td>22.360680</td>\n",
       "    </tr>\n",
       "  </tbody>\n",
       "</table>\n",
       "</div>"
      ],
      "text/plain": [
       "     A          B          C\n",
       "0  1.0  10.000000  10.000000\n",
       "1  2.0  20.000000  14.142136\n",
       "2  3.0  30.000000  17.320508\n",
       "3  4.0   6.324555  20.000000\n",
       "4  5.0   7.071068  22.360680"
      ]
     },
     "execution_count": 143,
     "metadata": {},
     "output_type": "execute_result"
    }
   ],
   "source": [
    "pd.DataFrame(\n",
    "    np.where(df>=40, np.sqrt(df), df),\n",
    "    index=df.index,\n",
    "    columns=df.columns\n",
    ")\n"
   ]
  },
  {
   "cell_type": "raw",
   "id": "6dfde58a-5597-41aa-9168-d3453e1f2235",
   "metadata": {},
   "source": [
    "np.where의 경우에는 리턴값이 ndarray 이므로\n",
    "해당 내용을 데이터프레임을 생성할때 \n",
    "원본데이터의 index와 column명을 입력해주어서\n",
    "동일한 형태의 데이터프레임을 새로 생성하는 코드를 추가하였습니다."
   ]
  },
  {
   "cell_type": "raw",
   "id": "2e1ba52a-1477-4133-bed7-6fb94763ab49",
   "metadata": {},
   "source": [
    "이번에는 데이터프레임 데이터에 대한 간단한 시각화에 대해서 알아보도록 하겠습니다."
   ]
  },
  {
   "cell_type": "markdown",
   "id": "ffa1e60c-2ca7-48bf-956e-18ee90737c1d",
   "metadata": {},
   "source": [
    "## DataFrame 기반 시각화"
   ]
  },
  {
   "cell_type": "code",
   "execution_count": 144,
   "id": "e30aebf7-d588-4f38-9245-993aa98e1fb4",
   "metadata": {
    "tags": []
   },
   "outputs": [
    {
     "data": {
      "text/html": [
       "<div>\n",
       "<style scoped>\n",
       "    .dataframe tbody tr th:only-of-type {\n",
       "        vertical-align: middle;\n",
       "    }\n",
       "\n",
       "    .dataframe tbody tr th {\n",
       "        vertical-align: top;\n",
       "    }\n",
       "\n",
       "    .dataframe thead th {\n",
       "        text-align: right;\n",
       "    }\n",
       "</style>\n",
       "<table border=\"1\" class=\"dataframe\">\n",
       "  <thead>\n",
       "    <tr style=\"text-align: right;\">\n",
       "      <th></th>\n",
       "      <th>Kor</th>\n",
       "      <th>Eng</th>\n",
       "      <th>Math</th>\n",
       "    </tr>\n",
       "  </thead>\n",
       "  <tbody>\n",
       "    <tr>\n",
       "      <th>Alice</th>\n",
       "      <td>85</td>\n",
       "      <td>92</td>\n",
       "      <td>64</td>\n",
       "    </tr>\n",
       "    <tr>\n",
       "      <th>Bob</th>\n",
       "      <td>66</td>\n",
       "      <td>58</td>\n",
       "      <td>94</td>\n",
       "    </tr>\n",
       "    <tr>\n",
       "      <th>Charlie</th>\n",
       "      <td>90</td>\n",
       "      <td>83</td>\n",
       "      <td>89</td>\n",
       "    </tr>\n",
       "    <tr>\n",
       "      <th>David</th>\n",
       "      <td>57</td>\n",
       "      <td>98</td>\n",
       "      <td>69</td>\n",
       "    </tr>\n",
       "    <tr>\n",
       "      <th>Eva</th>\n",
       "      <td>67</td>\n",
       "      <td>74</td>\n",
       "      <td>52</td>\n",
       "    </tr>\n",
       "  </tbody>\n",
       "</table>\n",
       "</div>"
      ],
      "text/plain": [
       "         Kor  Eng  Math\n",
       "Alice     85   92    64\n",
       "Bob       66   58    94\n",
       "Charlie   90   83    89\n",
       "David     57   98    69\n",
       "Eva       67   74    52"
      ]
     },
     "execution_count": 144,
     "metadata": {},
     "output_type": "execute_result"
    }
   ],
   "source": [
    "import pandas as pd\n",
    "import numpy as np\n",
    "\n",
    "data = np.random.randint(50,100,15).reshape(5,3)\n",
    "df = pd.DataFrame(\n",
    "    data,\n",
    "    index=\"Alice Bob Charlie David Eva\".split(),\n",
    "    columns=\"Kor Eng Math\".split()\n",
    ")\n",
    "df"
   ]
  },
  {
   "cell_type": "code",
   "execution_count": 145,
   "id": "c76d0140-f023-4a26-858a-6dc46d05d034",
   "metadata": {
    "tags": []
   },
   "outputs": [
    {
     "data": {
      "text/plain": [
       "<Axes: >"
      ]
     },
     "execution_count": 145,
     "metadata": {},
     "output_type": "execute_result"
    },
    {
     "data": {
      "image/png": "[encoded data removed]",
      "text/plain": [
       "<Figure size 640x480 with 1 Axes>"
      ]
     },
     "metadata": {},
     "output_type": "display_data"
    }
   ],
   "source": [
    "df.plot()"
   ]
  },
  {
   "cell_type": "code",
   "execution_count": 146,
   "id": "e5a11573-2d54-403c-8a75-eef469cbb35a",
   "metadata": {
    "tags": []
   },
   "outputs": [
    {
     "data": {
      "text/plain": [
       "<Axes: >"
      ]
     },
     "execution_count": 146,
     "metadata": {},
     "output_type": "execute_result"
    },
    {
     "data": {
      "image/png": "[encoded data removed]",
      "text/plain": [
       "<Figure size 640x480 with 1 Axes>"
      ]
     },
     "metadata": {},
     "output_type": "display_data"
    }
   ],
   "source": [
    "df.plot(kind=\"bar\")"
   ]
  },
  {
   "cell_type": "code",
   "execution_count": 147,
   "id": "aa81c3cd-3f9a-4a4e-87a7-cf949c170ee1",
   "metadata": {
    "tags": []
   },
   "outputs": [
    {
     "data": {
      "text/plain": [
       "<Axes: >"
      ]
     },
     "execution_count": 147,
     "metadata": {},
     "output_type": "execute_result"
    },
    {
     "data": {
      "image/png": "[encoded data removed]",
      "text/plain": [
       "<Figure size 640x480 with 1 Axes>"
      ]
     },
     "metadata": {},
     "output_type": "display_data"
    }
   ],
   "source": [
    "df.Math.hist(bins=10)"
   ]
  },
  {
   "cell_type": "code",
   "execution_count": 148,
   "id": "9d254373-710e-4193-9764-87d9c1ab8c22",
   "metadata": {
    "tags": []
   },
   "outputs": [
    {
     "data": {
      "text/plain": [
       "<Axes: xlabel='Kor', ylabel='Eng'>"
      ]
     },
     "execution_count": 148,
     "metadata": {},
     "output_type": "execute_result"
    },
    {
     "data": {
      "image/png": "[encoded data removed]",
      "text/plain": [
       "<Figure size 640x480 with 1 Axes>"
      ]
     },
     "metadata": {},
     "output_type": "display_data"
    }
   ],
   "source": [
    "df.plot(kind=\"scatter\", x=\"Kor\", y=\"Eng\")"
   ]
  },
  {
   "cell_type": "code",
   "execution_count": 149,
   "id": "8b681489-ea97-41d3-825f-84ab4689a4ec",
   "metadata": {
    "tags": []
   },
   "outputs": [
    {
     "data": {
      "text/plain": [
       "<Axes: >"
      ]
     },
     "execution_count": 149,
     "metadata": {},
     "output_type": "execute_result"
    },
    {
     "data": {
      "image/png": "[encoded data removed]",
      "text/plain": [
       "<Figure size 640x480 with 1 Axes>"
      ]
     },
     "metadata": {},
     "output_type": "display_data"
    }
   ],
   "source": [
    "df.plot(kind=\"box\")"
   ]
  },
  {
   "cell_type": "code",
   "execution_count": 150,
   "id": "0e638d67-05c1-4936-9cd3-513e256f87f4",
   "metadata": {
    "tags": []
   },
   "outputs": [
    {
     "data": {
      "text/plain": [
       "<Axes: ylabel='Density'>"
      ]
     },
     "execution_count": 150,
     "metadata": {},
     "output_type": "execute_result"
    },
    {
     "data": {
      "image/png": "[encoded data removed]",
      "text/plain": [
       "<Figure size 640x480 with 1 Axes>"
      ]
     },
     "metadata": {},
     "output_type": "display_data"
    }
   ],
   "source": [
    "# !pip install scipy\n",
    "df.plot(kind=\"kde\")"
   ]
  },
  {
   "cell_type": "code",
   "execution_count": 151,
   "id": "f30c34f2-50f3-47bb-8d1c-3e5c82540ed2",
   "metadata": {
    "tags": []
   },
   "outputs": [
    {
     "data": {
      "text/plain": [
       "<Axes: ylabel='Math'>"
      ]
     },
     "execution_count": 151,
     "metadata": {},
     "output_type": "execute_result"
    },
    {
     "data": {
      "image/png": "[encoded data removed]",
      "text/plain": [
       "<Figure size 640x480 with 1 Axes>"
      ]
     },
     "metadata": {},
     "output_type": "display_data"
    }
   ],
   "source": [
    "df.plot(kind=\"pie\", y=\"Math\")"
   ]
  },
  {
   "cell_type": "raw",
   "id": "28fbd874-3753-4a94-b252-008e49f0353f",
   "metadata": {},
   "source": [
    "이상으로 이번 강의를 모두 마치겠습니다.\n",
    "수고하셨습니다."
   ]
  }
 ],
 "metadata": {
  "kernelspec": {
   "display_name": "Python 3 (ipykernel)",
   "language": "python",
   "name": "python3"
  },
  "language_info": {
   "codemirror_mode": {
    "name": "ipython",
    "version": 3
   },
   "file_extension": ".py",
   "mimetype": "text/x-python",
   "name": "python",
   "nbconvert_exporter": "python",
   "pygments_lexer": "ipython3",
   "version": "3.9.1"
  }
 },
 "nbformat": 4,
 "nbformat_minor": 5
}
