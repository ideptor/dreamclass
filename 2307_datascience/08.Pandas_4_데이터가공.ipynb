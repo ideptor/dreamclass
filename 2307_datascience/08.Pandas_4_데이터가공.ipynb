{
 "cells": [
  {
   "cell_type": "raw",
   "id": "3eebf8a4-5ef7-4b67-a435-b70e983722b6",
   "metadata": {},
   "source": [
    "안녕하세요 \n",
    "이번시간에는 판다스 데이터프레임의 가공방법에 대해서 다루도록 하겠습니다.\n",
    "이번 시간의 주요 내용은 아래와 같습니다."
   ]
  },
  {
   "cell_type": "markdown",
   "id": "8c4462e0-bfb3-4868-869a-8a67f382abcc",
   "metadata": {},
   "source": [
    "# Pandas 데이터 가공\n",
    "- crosstab()\n",
    "- pivot_table()\n",
    "- get_dummies()\n",
    "- stack()/unstack()\n",
    "- melt()\n",
    "- 텍스트데이터 가공\n",
    "- 그룹연산\n",
    "- 통계함수"
   ]
  },
  {
   "cell_type": "raw",
   "id": "9ffb0bc6-3166-4deb-9e39-dd458fb6d6cc",
   "metadata": {},
   "source": [
    "crosstab은 판다스의 데이터프레임에서 교차표를 생성하는 기능을 제공하는 함수입니다.  \n",
    "교차표는 두 변수 사이의 빈도, 빈도 비율 등을 보여주는 표로서, 특히 범주형 데이터에 유용하게 활용됩니다.\n",
    "범주형 데이터란 명목형데이터, 순서형 데이터로 나뉠 수 있는데,\n",
    "명목형 데이터란 영어로는 norminal data 인데, 내재적인 우위나 순서가 없이 서로 구분하는 용도만 있는 경우를 말함니다.\n",
    "순서형 데이터는 서로 구분하는 용도로 사용할 수 으며 개별 범주간에 명백한 순서가 있는 경우입니다.\n",
    "\n",
    "crosstabe 에서 가장 자주 사용되는 파라미터는 index와 columns 입니다.\n",
    "- `index`: 교차표의 행 인덱스를 지정하는데 사용되는 열(또는 열 이름)입니다.\n",
    "- `columns`: 교차표의 열 인덱스를 지정하는데 사용되는 열(또는 열 이름)입니다."
   ]
  },
  {
   "cell_type": "raw",
   "id": "ec8de1f2-8695-4dbf-969d-aef04783cc56",
   "metadata": {},
   "source": [
    "crosstab의 사용법 및 주요 파라미터에 대해서는 예제를 통해 확인해보도록 하겠습니다."
   ]
  },
  {
   "cell_type": "markdown",
   "id": "3d259c26-12cd-4244-8d92-19763c63fa82",
   "metadata": {
    "tags": []
   },
   "source": [
    "# crosstab()\n",
    "\n",
    "crosstab은 판다스의 데이터프레임에서 교차표를 생성하는 기능을 제공하는 함수입니다.  \n",
    "교차표는 두 변수 사이의 빈도, 빈도 비율 등을 보여주는 표로서,  \n",
    "특히 범주형(명목형 norminal, 순서형 ordinal) 데이터에 유용하게 활용됩니다.\n",
    "\n",
    "crosstab 함수의 구문:\n",
    "\n",
    "```python\n",
    "pd.crosstab(index, columns, values=None, rownames=None, colnames=None, aggfunc=None, margins=False, margins_name='All', dropna=True, normalize=False)\n",
    "```\n",
    "\n",
    "- `index`: 교차표의 행 인덱스를 지정하는데 사용되는 열(또는 열 이름)입니다.\n",
    "- `columns`: 교차표의 열 인덱스를 지정하는데 사용되는 열(또는 열 이름)입니다.\n",
    "- `values`: 교차표의 데이터로 사용할 열(또는 열 이름)을 선택적으로 지정합니다. 기본값은 None이며, 이 경우 빈도가 계산됩니다.\n",
    "- `rownames`: 행 인덱스에 사용할 이름을 지정합니다.\n",
    "- `colnames`: 열 인덱스에 사용할 이름을 지정합니다.\n",
    "- `aggfunc`: 교차표 셀에 적용할 집계 함수를 지정합니다. 기본값은 None이며, 이 경우 빈도가 계산됩니다.\n",
    "- `margins`: 부분 합계를 생성할지 여부를 지정하는데, 기본값은 False입니다.\n",
    "- `margins_name`: 부분 합계의 이름을 지정합니다.\n",
    "- `dropna`: 결측값이 포함된 행/열을 제거할지 여부를 지정하는데, 기본값은 True입니다.\n",
    "- `normalize`: 빈도를 빈도 비율로 정규화할지 여부를 지정하는데, 기본값은 False입니다."
   ]
  },
  {
   "cell_type": "raw",
   "id": "a9bb2b10-74c8-4b86-8ddd-09f7768c68ae",
   "metadata": {},
   "source": [
    "우선 예제를 위한 데이터프레임을 생성해보겠습니다.\n",
    "이데이터는 각 학생이 영화를 보고 평점을 매긴 결과입니다.\n",
    "여기에서 Student 및 Movie의 컬럼에 있는 자료들은 \n",
    "개인이나 영화를 구분하는 목적으로 활용되기 때문에 명목형 자료들이라고 볼 수 있습니다.\n",
    "그러므로 crosstab을 활용하기에 적합합니다."
   ]
  },
  {
   "cell_type": "code",
   "execution_count": 1,
   "id": "dbe5269b-b863-4b80-98ea-ddff381de6e1",
   "metadata": {
    "tags": []
   },
   "outputs": [
    {
     "data": {
      "text/html": [
       "<div>\n",
       "<style scoped>\n",
       "    .dataframe tbody tr th:only-of-type {\n",
       "        vertical-align: middle;\n",
       "    }\n",
       "\n",
       "    .dataframe tbody tr th {\n",
       "        vertical-align: top;\n",
       "    }\n",
       "\n",
       "    .dataframe thead th {\n",
       "        text-align: right;\n",
       "    }\n",
       "</style>\n",
       "<table border=\"1\" class=\"dataframe\">\n",
       "  <thead>\n",
       "    <tr style=\"text-align: right;\">\n",
       "      <th></th>\n",
       "      <th>Student</th>\n",
       "      <th>Movie</th>\n",
       "      <th>Rating</th>\n",
       "    </tr>\n",
       "  </thead>\n",
       "  <tbody>\n",
       "    <tr>\n",
       "      <th>0</th>\n",
       "      <td>Alice</td>\n",
       "      <td>Star Wars</td>\n",
       "      <td>5</td>\n",
       "    </tr>\n",
       "    <tr>\n",
       "      <th>1</th>\n",
       "      <td>Bob</td>\n",
       "      <td>Batman</td>\n",
       "      <td>4</td>\n",
       "    </tr>\n",
       "    <tr>\n",
       "      <th>2</th>\n",
       "      <td>Charlie</td>\n",
       "      <td>Star Wars</td>\n",
       "      <td>3</td>\n",
       "    </tr>\n",
       "    <tr>\n",
       "      <th>3</th>\n",
       "      <td>Alice</td>\n",
       "      <td>Harry Potter</td>\n",
       "      <td>4</td>\n",
       "    </tr>\n",
       "    <tr>\n",
       "      <th>4</th>\n",
       "      <td>Bob</td>\n",
       "      <td>Batman</td>\n",
       "      <td>5</td>\n",
       "    </tr>\n",
       "    <tr>\n",
       "      <th>5</th>\n",
       "      <td>David</td>\n",
       "      <td>Star Wars</td>\n",
       "      <td>2</td>\n",
       "    </tr>\n",
       "    <tr>\n",
       "      <th>6</th>\n",
       "      <td>Charlie</td>\n",
       "      <td>Harry Potter</td>\n",
       "      <td>3</td>\n",
       "    </tr>\n",
       "    <tr>\n",
       "      <th>7</th>\n",
       "      <td>Alice</td>\n",
       "      <td>Sixty Seconds</td>\n",
       "      <td>4</td>\n",
       "    </tr>\n",
       "    <tr>\n",
       "      <th>8</th>\n",
       "      <td>Alice</td>\n",
       "      <td>Batman</td>\n",
       "      <td>1</td>\n",
       "    </tr>\n",
       "    <tr>\n",
       "      <th>9</th>\n",
       "      <td>Bob</td>\n",
       "      <td>Star Wars</td>\n",
       "      <td>3</td>\n",
       "    </tr>\n",
       "  </tbody>\n",
       "</table>\n",
       "</div>"
      ],
      "text/plain": [
       "   Student          Movie  Rating\n",
       "0    Alice      Star Wars       5\n",
       "1      Bob         Batman       4\n",
       "2  Charlie      Star Wars       3\n",
       "3    Alice   Harry Potter       4\n",
       "4      Bob         Batman       5\n",
       "5    David      Star Wars       2\n",
       "6  Charlie   Harry Potter       3\n",
       "7    Alice  Sixty Seconds       4\n",
       "8    Alice         Batman       1\n",
       "9      Bob      Star Wars       3"
      ]
     },
     "execution_count": 1,
     "metadata": {},
     "output_type": "execute_result"
    }
   ],
   "source": [
    "import pandas as pd\n",
    "\n",
    "data = {\n",
    "    'Student': [\"Alice\", \"Bob\", \"Charlie\", \"Alice\", \"Bob\", \"David\", \"Charlie\", \"Alice\", \"Alice\", \"Bob\"],\n",
    "    'Movie': ['Star Wars', 'Batman', 'Star Wars', 'Harry Potter', 'Batman', 'Star Wars', 'Harry Potter', 'Sixty Seconds', 'Batman', 'Star Wars'],\n",
    "    'Rating': [5, 4, 3, 4, 5, 2, 3, 4, 1, 3]\n",
    "}\n",
    "\n",
    "df = pd.DataFrame(data)\n",
    "df"
   ]
  },
  {
   "cell_type": "raw",
   "id": "fa758fd7-77c9-41b7-94eb-e9875e584541",
   "metadata": {},
   "source": [
    "crosstab() 메소드를 사용하면 누가 어떤 영화를 봤는지에 대한 내용을 확인할 수 있습니다."
   ]
  },
  {
   "cell_type": "code",
   "execution_count": 2,
   "id": "62c2ba53-61ab-4c79-93f9-a057ef27f8df",
   "metadata": {
    "tags": []
   },
   "outputs": [
    {
     "data": {
      "text/html": [
       "<div>\n",
       "<style scoped>\n",
       "    .dataframe tbody tr th:only-of-type {\n",
       "        vertical-align: middle;\n",
       "    }\n",
       "\n",
       "    .dataframe tbody tr th {\n",
       "        vertical-align: top;\n",
       "    }\n",
       "\n",
       "    .dataframe thead th {\n",
       "        text-align: right;\n",
       "    }\n",
       "</style>\n",
       "<table border=\"1\" class=\"dataframe\">\n",
       "  <thead>\n",
       "    <tr style=\"text-align: right;\">\n",
       "      <th>Movie</th>\n",
       "      <th>Batman</th>\n",
       "      <th>Harry Potter</th>\n",
       "      <th>Sixty Seconds</th>\n",
       "      <th>Star Wars</th>\n",
       "    </tr>\n",
       "    <tr>\n",
       "      <th>Student</th>\n",
       "      <th></th>\n",
       "      <th></th>\n",
       "      <th></th>\n",
       "      <th></th>\n",
       "    </tr>\n",
       "  </thead>\n",
       "  <tbody>\n",
       "    <tr>\n",
       "      <th>Alice</th>\n",
       "      <td>1</td>\n",
       "      <td>1</td>\n",
       "      <td>1</td>\n",
       "      <td>1</td>\n",
       "    </tr>\n",
       "    <tr>\n",
       "      <th>Bob</th>\n",
       "      <td>2</td>\n",
       "      <td>0</td>\n",
       "      <td>0</td>\n",
       "      <td>1</td>\n",
       "    </tr>\n",
       "    <tr>\n",
       "      <th>Charlie</th>\n",
       "      <td>0</td>\n",
       "      <td>1</td>\n",
       "      <td>0</td>\n",
       "      <td>1</td>\n",
       "    </tr>\n",
       "    <tr>\n",
       "      <th>David</th>\n",
       "      <td>0</td>\n",
       "      <td>0</td>\n",
       "      <td>0</td>\n",
       "      <td>1</td>\n",
       "    </tr>\n",
       "  </tbody>\n",
       "</table>\n",
       "</div>"
      ],
      "text/plain": [
       "Movie    Batman  Harry Potter  Sixty Seconds  Star Wars\n",
       "Student                                                \n",
       "Alice         1             1              1          1\n",
       "Bob           2             0              0          1\n",
       "Charlie       0             1              0          1\n",
       "David         0             0              0          1"
      ]
     },
     "execution_count": 2,
     "metadata": {},
     "output_type": "execute_result"
    }
   ],
   "source": [
    "pd.crosstab(df.Student, df.Movie)"
   ]
  },
  {
   "cell_type": "raw",
   "id": "d13e5db1-ece1-465e-88d1-d8727f7555b9",
   "metadata": {},
   "source": [
    "위의 코드에서 index파라미터에 Student 컬럼을 입력하고 columns파라미터에 Movie 컬럼을 입력하였으므로,\n",
    "Student 컬럼에서의 고유값들을 index로 하고\n",
    "Movie 컬럼에서의 고유값들을 컬럼으로 한 데이터 프레임을 생성하였습니다.\n",
    "value 파라미터에는 값을 넣지 않았기 때문에 Student가 Movie를 본 빈도수가 채워지고 있습니다."
   ]
  },
  {
   "cell_type": "raw",
   "id": "1f8a55d3-adc0-4e39-a12a-4e73ea383fa4",
   "metadata": {},
   "source": [
    "평점정보를 값으로 활용하기 위하여\n",
    "values에 df.Rating 이라고 컬럼을 넣고, aggfunc에는 평균을 계산하는 np.mean을 입력해보도록 하겠습니다."
   ]
  },
  {
   "cell_type": "code",
   "execution_count": 3,
   "id": "56b78510-c3d3-4aa5-b2e3-f87670bedd5d",
   "metadata": {
    "tags": []
   },
   "outputs": [
    {
     "data": {
      "text/html": [
       "<div>\n",
       "<style scoped>\n",
       "    .dataframe tbody tr th:only-of-type {\n",
       "        vertical-align: middle;\n",
       "    }\n",
       "\n",
       "    .dataframe tbody tr th {\n",
       "        vertical-align: top;\n",
       "    }\n",
       "\n",
       "    .dataframe thead th {\n",
       "        text-align: right;\n",
       "    }\n",
       "</style>\n",
       "<table border=\"1\" class=\"dataframe\">\n",
       "  <thead>\n",
       "    <tr style=\"text-align: right;\">\n",
       "      <th>Movie</th>\n",
       "      <th>Batman</th>\n",
       "      <th>Harry Potter</th>\n",
       "      <th>Sixty Seconds</th>\n",
       "      <th>Star Wars</th>\n",
       "    </tr>\n",
       "    <tr>\n",
       "      <th>Student</th>\n",
       "      <th></th>\n",
       "      <th></th>\n",
       "      <th></th>\n",
       "      <th></th>\n",
       "    </tr>\n",
       "  </thead>\n",
       "  <tbody>\n",
       "    <tr>\n",
       "      <th>Alice</th>\n",
       "      <td>1.0</td>\n",
       "      <td>4.0</td>\n",
       "      <td>4.0</td>\n",
       "      <td>5.0</td>\n",
       "    </tr>\n",
       "    <tr>\n",
       "      <th>Bob</th>\n",
       "      <td>4.5</td>\n",
       "      <td>NaN</td>\n",
       "      <td>NaN</td>\n",
       "      <td>3.0</td>\n",
       "    </tr>\n",
       "    <tr>\n",
       "      <th>Charlie</th>\n",
       "      <td>NaN</td>\n",
       "      <td>3.0</td>\n",
       "      <td>NaN</td>\n",
       "      <td>3.0</td>\n",
       "    </tr>\n",
       "    <tr>\n",
       "      <th>David</th>\n",
       "      <td>NaN</td>\n",
       "      <td>NaN</td>\n",
       "      <td>NaN</td>\n",
       "      <td>2.0</td>\n",
       "    </tr>\n",
       "  </tbody>\n",
       "</table>\n",
       "</div>"
      ],
      "text/plain": [
       "Movie    Batman  Harry Potter  Sixty Seconds  Star Wars\n",
       "Student                                                \n",
       "Alice       1.0           4.0            4.0        5.0\n",
       "Bob         4.5           NaN            NaN        3.0\n",
       "Charlie     NaN           3.0            NaN        3.0\n",
       "David       NaN           NaN            NaN        2.0"
      ]
     },
     "execution_count": 3,
     "metadata": {},
     "output_type": "execute_result"
    }
   ],
   "source": [
    "import numpy as np\n",
    "pd.crosstab(df.Student, df.Movie, values=df.Rating, aggfunc=np.mean)"
   ]
  },
  {
   "cell_type": "raw",
   "id": "ce70cf96-6e9a-4e36-bff3-5f653221af30",
   "metadata": {},
   "source": [
    "위의 코드를 실행시켜 보면,\n",
    "각 학생이 영화를 본 빈도수 대신에\n",
    "그때 매긴 평점들의 평균이 나타나게 됩니다."
   ]
  },
  {
   "cell_type": "raw",
   "id": "bfc36441-736d-4b25-aa7b-6c1eb2be0ba6",
   "metadata": {},
   "source": [
    "이때 aggfunc 파라미터에는 np.mean 대신에 문자열로 'mean'을 입력해주어도 됩니다."
   ]
  },
  {
   "cell_type": "code",
   "execution_count": 4,
   "id": "76520f79-0f54-4aba-a5a3-a37d999eb321",
   "metadata": {
    "tags": []
   },
   "outputs": [
    {
     "data": {
      "text/html": [
       "<div>\n",
       "<style scoped>\n",
       "    .dataframe tbody tr th:only-of-type {\n",
       "        vertical-align: middle;\n",
       "    }\n",
       "\n",
       "    .dataframe tbody tr th {\n",
       "        vertical-align: top;\n",
       "    }\n",
       "\n",
       "    .dataframe thead th {\n",
       "        text-align: right;\n",
       "    }\n",
       "</style>\n",
       "<table border=\"1\" class=\"dataframe\">\n",
       "  <thead>\n",
       "    <tr style=\"text-align: right;\">\n",
       "      <th>Movie</th>\n",
       "      <th>Batman</th>\n",
       "      <th>Harry Potter</th>\n",
       "      <th>Sixty Seconds</th>\n",
       "      <th>Star Wars</th>\n",
       "    </tr>\n",
       "    <tr>\n",
       "      <th>Student</th>\n",
       "      <th></th>\n",
       "      <th></th>\n",
       "      <th></th>\n",
       "      <th></th>\n",
       "    </tr>\n",
       "  </thead>\n",
       "  <tbody>\n",
       "    <tr>\n",
       "      <th>Alice</th>\n",
       "      <td>1.0</td>\n",
       "      <td>4.0</td>\n",
       "      <td>4.0</td>\n",
       "      <td>5.0</td>\n",
       "    </tr>\n",
       "    <tr>\n",
       "      <th>Bob</th>\n",
       "      <td>4.5</td>\n",
       "      <td>NaN</td>\n",
       "      <td>NaN</td>\n",
       "      <td>3.0</td>\n",
       "    </tr>\n",
       "    <tr>\n",
       "      <th>Charlie</th>\n",
       "      <td>NaN</td>\n",
       "      <td>3.0</td>\n",
       "      <td>NaN</td>\n",
       "      <td>3.0</td>\n",
       "    </tr>\n",
       "    <tr>\n",
       "      <th>David</th>\n",
       "      <td>NaN</td>\n",
       "      <td>NaN</td>\n",
       "      <td>NaN</td>\n",
       "      <td>2.0</td>\n",
       "    </tr>\n",
       "  </tbody>\n",
       "</table>\n",
       "</div>"
      ],
      "text/plain": [
       "Movie    Batman  Harry Potter  Sixty Seconds  Star Wars\n",
       "Student                                                \n",
       "Alice       1.0           4.0            4.0        5.0\n",
       "Bob         4.5           NaN            NaN        3.0\n",
       "Charlie     NaN           3.0            NaN        3.0\n",
       "David       NaN           NaN            NaN        2.0"
      ]
     },
     "execution_count": 4,
     "metadata": {},
     "output_type": "execute_result"
    }
   ],
   "source": [
    "import numpy as np\n",
    "pd.crosstab(df.Student, df.Movie, values=df.Rating, aggfunc='mean')"
   ]
  },
  {
   "cell_type": "raw",
   "id": "2866e4bd-6176-4218-a3ec-bfd7abf7791a",
   "metadata": {},
   "source": [
    "Student별 Moview 별 평점에 대한 집계를 보고 싶다면\n",
    "margins=True 파라미터를 넣어주면 됩니다."
   ]
  },
  {
   "cell_type": "code",
   "execution_count": 5,
   "id": "b6d32373-66f2-4bdd-a7e9-6745d97afdf8",
   "metadata": {
    "tags": []
   },
   "outputs": [
    {
     "data": {
      "text/html": [
       "<div>\n",
       "<style scoped>\n",
       "    .dataframe tbody tr th:only-of-type {\n",
       "        vertical-align: middle;\n",
       "    }\n",
       "\n",
       "    .dataframe tbody tr th {\n",
       "        vertical-align: top;\n",
       "    }\n",
       "\n",
       "    .dataframe thead th {\n",
       "        text-align: right;\n",
       "    }\n",
       "</style>\n",
       "<table border=\"1\" class=\"dataframe\">\n",
       "  <thead>\n",
       "    <tr style=\"text-align: right;\">\n",
       "      <th>Movie</th>\n",
       "      <th>Batman</th>\n",
       "      <th>Harry Potter</th>\n",
       "      <th>Sixty Seconds</th>\n",
       "      <th>Star Wars</th>\n",
       "      <th>All</th>\n",
       "    </tr>\n",
       "    <tr>\n",
       "      <th>Student</th>\n",
       "      <th></th>\n",
       "      <th></th>\n",
       "      <th></th>\n",
       "      <th></th>\n",
       "      <th></th>\n",
       "    </tr>\n",
       "  </thead>\n",
       "  <tbody>\n",
       "    <tr>\n",
       "      <th>Alice</th>\n",
       "      <td>1.000000</td>\n",
       "      <td>4.0</td>\n",
       "      <td>4.0</td>\n",
       "      <td>5.00</td>\n",
       "      <td>3.5</td>\n",
       "    </tr>\n",
       "    <tr>\n",
       "      <th>Bob</th>\n",
       "      <td>4.500000</td>\n",
       "      <td>NaN</td>\n",
       "      <td>NaN</td>\n",
       "      <td>3.00</td>\n",
       "      <td>4.0</td>\n",
       "    </tr>\n",
       "    <tr>\n",
       "      <th>Charlie</th>\n",
       "      <td>NaN</td>\n",
       "      <td>3.0</td>\n",
       "      <td>NaN</td>\n",
       "      <td>3.00</td>\n",
       "      <td>3.0</td>\n",
       "    </tr>\n",
       "    <tr>\n",
       "      <th>David</th>\n",
       "      <td>NaN</td>\n",
       "      <td>NaN</td>\n",
       "      <td>NaN</td>\n",
       "      <td>2.00</td>\n",
       "      <td>2.0</td>\n",
       "    </tr>\n",
       "    <tr>\n",
       "      <th>All</th>\n",
       "      <td>3.333333</td>\n",
       "      <td>3.5</td>\n",
       "      <td>4.0</td>\n",
       "      <td>3.25</td>\n",
       "      <td>3.4</td>\n",
       "    </tr>\n",
       "  </tbody>\n",
       "</table>\n",
       "</div>"
      ],
      "text/plain": [
       "Movie      Batman  Harry Potter  Sixty Seconds  Star Wars  All\n",
       "Student                                                       \n",
       "Alice    1.000000           4.0            4.0       5.00  3.5\n",
       "Bob      4.500000           NaN            NaN       3.00  4.0\n",
       "Charlie       NaN           3.0            NaN       3.00  3.0\n",
       "David         NaN           NaN            NaN       2.00  2.0\n",
       "All      3.333333           3.5            4.0       3.25  3.4"
      ]
     },
     "execution_count": 5,
     "metadata": {},
     "output_type": "execute_result"
    }
   ],
   "source": [
    "pd.crosstab(df.Student, df.Movie, values=df.Rating, aggfunc=np.mean, margins=True)"
   ]
  },
  {
   "cell_type": "raw",
   "id": "d03e9c54-899e-4bc5-944c-8fa4d4741e97",
   "metadata": {},
   "source": [
    "위의 코드를 실행하면 crosstab의 결과로 나오는 데이터 프레임의 마지막행과 마지막열에 \n",
    "All 이라는 이름으로 rating이 집계된 값이 나오게 됩니다."
   ]
  },
  {
   "cell_type": "raw",
   "id": "52880f55-9a1e-4564-b1c6-c84b643baa45",
   "metadata": {},
   "source": [
    "normalize=True 파라미터를 넣게 되면 데이터프레임의 모든 값의 합이 1이 되도록\n",
    "데이터프레임의 값들을 조정하게 됩니다."
   ]
  },
  {
   "cell_type": "code",
   "execution_count": 6,
   "id": "30cfcb1e-25d9-446e-8e55-3daade676b5b",
   "metadata": {
    "tags": []
   },
   "outputs": [
    {
     "data": {
      "text/html": [
       "<div>\n",
       "<style scoped>\n",
       "    .dataframe tbody tr th:only-of-type {\n",
       "        vertical-align: middle;\n",
       "    }\n",
       "\n",
       "    .dataframe tbody tr th {\n",
       "        vertical-align: top;\n",
       "    }\n",
       "\n",
       "    .dataframe thead th {\n",
       "        text-align: right;\n",
       "    }\n",
       "</style>\n",
       "<table border=\"1\" class=\"dataframe\">\n",
       "  <thead>\n",
       "    <tr style=\"text-align: right;\">\n",
       "      <th>Movie</th>\n",
       "      <th>Batman</th>\n",
       "      <th>Harry Potter</th>\n",
       "      <th>Sixty Seconds</th>\n",
       "      <th>Star Wars</th>\n",
       "    </tr>\n",
       "    <tr>\n",
       "      <th>Student</th>\n",
       "      <th></th>\n",
       "      <th></th>\n",
       "      <th></th>\n",
       "      <th></th>\n",
       "    </tr>\n",
       "  </thead>\n",
       "  <tbody>\n",
       "    <tr>\n",
       "      <th>Alice</th>\n",
       "      <td>0.1</td>\n",
       "      <td>0.1</td>\n",
       "      <td>0.1</td>\n",
       "      <td>0.1</td>\n",
       "    </tr>\n",
       "    <tr>\n",
       "      <th>Bob</th>\n",
       "      <td>0.2</td>\n",
       "      <td>0.0</td>\n",
       "      <td>0.0</td>\n",
       "      <td>0.1</td>\n",
       "    </tr>\n",
       "    <tr>\n",
       "      <th>Charlie</th>\n",
       "      <td>0.0</td>\n",
       "      <td>0.1</td>\n",
       "      <td>0.0</td>\n",
       "      <td>0.1</td>\n",
       "    </tr>\n",
       "    <tr>\n",
       "      <th>David</th>\n",
       "      <td>0.0</td>\n",
       "      <td>0.0</td>\n",
       "      <td>0.0</td>\n",
       "      <td>0.1</td>\n",
       "    </tr>\n",
       "  </tbody>\n",
       "</table>\n",
       "</div>"
      ],
      "text/plain": [
       "Movie    Batman  Harry Potter  Sixty Seconds  Star Wars\n",
       "Student                                                \n",
       "Alice       0.1           0.1            0.1        0.1\n",
       "Bob         0.2           0.0            0.0        0.1\n",
       "Charlie     0.0           0.1            0.0        0.1\n",
       "David       0.0           0.0            0.0        0.1"
      ]
     },
     "execution_count": 6,
     "metadata": {},
     "output_type": "execute_result"
    }
   ],
   "source": [
    "pd.crosstab(df.Student, df.Movie, normalize=True)"
   ]
  },
  {
   "cell_type": "raw",
   "id": "6a8f3f85-2205-4567-a53e-98d3df00b547",
   "metadata": {
    "tags": []
   },
   "source": [
    "crosstab의 결과 matrix를 heatmap 형태로 시각화 하면 데이터의 이해도를 많이 높일 수 잇는데요,\n",
    "이때 seaborn 라이브러리를 활용하면 좋습니다."
   ]
  },
  {
   "cell_type": "code",
   "execution_count": 7,
   "id": "80c8171b-b3b5-41c6-994a-a393679db17e",
   "metadata": {
    "tags": []
   },
   "outputs": [],
   "source": [
    "#!pip install seaborn"
   ]
  },
  {
   "cell_type": "code",
   "execution_count": 8,
   "id": "e9625c91-89dc-4e51-88d7-2a92f5879b68",
   "metadata": {
    "tags": []
   },
   "outputs": [
    {
     "data": {
      "text/plain": [
       "<Axes: xlabel='Movie', ylabel='Student'>"
      ]
     },
     "execution_count": 8,
     "metadata": {},
     "output_type": "execute_result"
    },
    {
     "data": {
      "image/png": "[encoded data removed]",
      "text/plain": [
       "<Figure size 640x480 with 2 Axes>"
      ]
     },
     "metadata": {},
     "output_type": "display_data"
    }
   ],
   "source": [
    "import seaborn as sns\n",
    "\n",
    "sns.heatmap(\n",
    "    pd.crosstab(df.Student, df.Movie, values=df.Rating, aggfunc=np.mean, margins=True),\n",
    "    annot=True, # 수치 표시 여부\n",
    "    fmt=\".1f\", # 수치 표시할때 포멧 (소숫점 1자리까지 표시)\n",
    "    cmap=\"Blues\", # 수치에 따른 color를 표시하는 방법\n",
    "    linewidth=2,\n",
    ")"
   ]
  },
  {
   "cell_type": "raw",
   "id": "dd720caa-45b7-4d5a-b16e-f84257cbe0c6",
   "metadata": {},
   "source": [
    "pivot_table은 판다스의 데이터프레임에서 데이터를 `재구조화`하고 \n",
    "`집계 연산`을 수행하는 기능을 제공하는 메서드입니다.  \n",
    "\n",
    "pivot_table을 활용하면 수치데이터를 포함하고 있는 칼럼들에 대해서\n",
    "명목형 데이터를 기준으로 하여 집계함수를 적용하여\n",
    "새로운 데이터 프레임을 생성할 수 있습니다.\n",
    "\n",
    "주로 활용되는 파리미터는 values, index, aggfunc 입니다.\n",
    "자세한 내용은 예제를 통해서 확인해보도록 하겠습니다."
   ]
  },
  {
   "cell_type": "markdown",
   "id": "b84441de-ad56-4b56-bd14-311c3a03838c",
   "metadata": {},
   "source": [
    "# pivot_table()\n",
    "\n",
    "pivot_table은 판다스의 데이터프레임에서 데이터를 `재구조화`하고 `집계 연산`을 수행하는 기능을 제공하는 메서드입니다.  \n",
    "pivot_table 메서드를 사용하면 데이터프레임의 `행`과 `열`을 `재배치`하여 `새로운 데이터프레임`을 생성하며,   \n",
    "`중복된 조합`에 대해 `집계 함수`를 적용하여 결과를 생성할 수 있습니다.\n",
    "\n",
    "pivot_table 메서드의 구문:\n",
    "\n",
    "```python\n",
    "DataFrame.pivot_table(values=None, index=None, columns=None, aggfunc='mean', fill_value=None, margins=False, dropna=True, margins_name='All')\n",
    "```\n",
    "\n",
    "- `values`: 집계하고자 하는 열의 이름(들). 기본값은 None이며, 모든 열에 대해 집계함수가 적용됩니다. 수치형 데이터이어야 합니다.\n",
    "- `index`: 행 인덱스로 사용할 열의 이름(들). 주로 명목형 데이터형입니다.\n",
    "- `columns`: 열 인덱스로 사용할 열의 이름(들).\n",
    "- `aggfunc`: 집계 함수를 지정합니다. 기본값은 'mean'으로 평균을 의미합니다. 다른 자주 사용되는 함수로 'sum', 'count', 'min', 'max' 등이 있습니다.\n",
    "fill_value: 결측값 대체를 위한 값.\n",
    "- `margins`: 부분 합계를 생성할지 여부를 지정하는데, 기본값은 False입니다.\n",
    "- `dropna`: 결측값이 포함된 행/열을 제거할지 여부를 지정하는데, 기본값은 True입니다.\n",
    "- `margins_name`: 부분 합계의 이름을 지정합니다.\n"
   ]
  },
  {
   "cell_type": "raw",
   "id": "06a1b95a-86e3-463f-a62f-cc93220941af",
   "metadata": {},
   "source": [
    "pivot_table의 예제를 위한 데이터 프레임을 만들어보도록 하겠습니다.\n",
    "이 데이터프레임은 날짜별 각 도시의 온도와 습도의 정보를 표현하고 있습니다."
   ]
  },
  {
   "cell_type": "code",
   "execution_count": 9,
   "id": "75acc5e1-7c0c-47f1-882e-f28da6cc655d",
   "metadata": {
    "tags": []
   },
   "outputs": [
    {
     "data": {
      "text/html": [
       "<div>\n",
       "<style scoped>\n",
       "    .dataframe tbody tr th:only-of-type {\n",
       "        vertical-align: middle;\n",
       "    }\n",
       "\n",
       "    .dataframe tbody tr th {\n",
       "        vertical-align: top;\n",
       "    }\n",
       "\n",
       "    .dataframe thead th {\n",
       "        text-align: right;\n",
       "    }\n",
       "</style>\n",
       "<table border=\"1\" class=\"dataframe\">\n",
       "  <thead>\n",
       "    <tr style=\"text-align: right;\">\n",
       "      <th></th>\n",
       "      <th>Date</th>\n",
       "      <th>City</th>\n",
       "      <th>Temperature</th>\n",
       "      <th>Humidity</th>\n",
       "    </tr>\n",
       "  </thead>\n",
       "  <tbody>\n",
       "    <tr>\n",
       "      <th>0</th>\n",
       "      <td>2023-08-01</td>\n",
       "      <td>Seoul</td>\n",
       "      <td>32</td>\n",
       "      <td>50</td>\n",
       "    </tr>\n",
       "    <tr>\n",
       "      <th>1</th>\n",
       "      <td>2023-08-01</td>\n",
       "      <td>Busan</td>\n",
       "      <td>28</td>\n",
       "      <td>60</td>\n",
       "    </tr>\n",
       "    <tr>\n",
       "      <th>2</th>\n",
       "      <td>2023-08-02</td>\n",
       "      <td>Seoul</td>\n",
       "      <td>30</td>\n",
       "      <td>55</td>\n",
       "    </tr>\n",
       "    <tr>\n",
       "      <th>3</th>\n",
       "      <td>2023-08-02</td>\n",
       "      <td>Busan</td>\n",
       "      <td>27</td>\n",
       "      <td>58</td>\n",
       "    </tr>\n",
       "    <tr>\n",
       "      <th>4</th>\n",
       "      <td>2023-08-03</td>\n",
       "      <td>Seoul</td>\n",
       "      <td>33</td>\n",
       "      <td>45</td>\n",
       "    </tr>\n",
       "    <tr>\n",
       "      <th>5</th>\n",
       "      <td>2023-08-03</td>\n",
       "      <td>Busan</td>\n",
       "      <td>29</td>\n",
       "      <td>62</td>\n",
       "    </tr>\n",
       "  </tbody>\n",
       "</table>\n",
       "</div>"
      ],
      "text/plain": [
       "         Date   City  Temperature  Humidity\n",
       "0  2023-08-01  Seoul           32        50\n",
       "1  2023-08-01  Busan           28        60\n",
       "2  2023-08-02  Seoul           30        55\n",
       "3  2023-08-02  Busan           27        58\n",
       "4  2023-08-03  Seoul           33        45\n",
       "5  2023-08-03  Busan           29        62"
      ]
     },
     "execution_count": 9,
     "metadata": {},
     "output_type": "execute_result"
    }
   ],
   "source": [
    "import pandas as pd\n",
    "import numpy as np\n",
    "\n",
    "# 데이터 생성\n",
    "data = {\n",
    "    'Date': ['2023-08-01', '2023-08-01', '2023-08-02', '2023-08-02', '2023-08-03', '2023-08-03'],\n",
    "    'City': ['Seoul', 'Busan', 'Seoul', 'Busan', 'Seoul', 'Busan'],\n",
    "    'Temperature': [32, 28, 30, 27, 33, 29],\n",
    "    'Humidity': [50, 60, 55, 58, 45, 62]\n",
    "}\n",
    "\n",
    "df = pd.DataFrame(data)\n",
    "df"
   ]
  },
  {
   "cell_type": "raw",
   "id": "637acfd9-b56d-45ab-82ea-9c6006d36d68",
   "metadata": {},
   "source": [
    "우선 pivot_table을 활용하여 각 일짜 별로 온도의 평균을 구해보도록 하겠습니다.\n",
    "이때 pivot_table 함수를 호출하면서 index에는 명목형 데이터을 넣어주고 values 에는 수치형 데이터를 넣어주어야 합니다.\n",
    "values 에는 집계함수가 적용될 수치형데이터를 포함하고 있는 Temperature 열을 넣어주고\n",
    "index 에는 해당 집계의 기준이 되는 명목형데이터를 포함하고 있는 Date열을 넣어줍니다.\n",
    "그리고 집계 방볍은 mean을 넣어줍니다."
   ]
  },
  {
   "cell_type": "code",
   "execution_count": 10,
   "id": "057ffffa-3d3d-4267-889c-dcc59ce9cfc9",
   "metadata": {
    "tags": []
   },
   "outputs": [
    {
     "data": {
      "text/html": [
       "<div>\n",
       "<style scoped>\n",
       "    .dataframe tbody tr th:only-of-type {\n",
       "        vertical-align: middle;\n",
       "    }\n",
       "\n",
       "    .dataframe tbody tr th {\n",
       "        vertical-align: top;\n",
       "    }\n",
       "\n",
       "    .dataframe thead th {\n",
       "        text-align: right;\n",
       "    }\n",
       "</style>\n",
       "<table border=\"1\" class=\"dataframe\">\n",
       "  <thead>\n",
       "    <tr style=\"text-align: right;\">\n",
       "      <th></th>\n",
       "      <th>Temperature</th>\n",
       "    </tr>\n",
       "    <tr>\n",
       "      <th>Date</th>\n",
       "      <th></th>\n",
       "    </tr>\n",
       "  </thead>\n",
       "  <tbody>\n",
       "    <tr>\n",
       "      <th>2023-08-01</th>\n",
       "      <td>30.0</td>\n",
       "    </tr>\n",
       "    <tr>\n",
       "      <th>2023-08-02</th>\n",
       "      <td>28.5</td>\n",
       "    </tr>\n",
       "    <tr>\n",
       "      <th>2023-08-03</th>\n",
       "      <td>31.0</td>\n",
       "    </tr>\n",
       "  </tbody>\n",
       "</table>\n",
       "</div>"
      ],
      "text/plain": [
       "            Temperature\n",
       "Date                   \n",
       "2023-08-01         30.0\n",
       "2023-08-02         28.5\n",
       "2023-08-03         31.0"
      ]
     },
     "execution_count": 10,
     "metadata": {},
     "output_type": "execute_result"
    }
   ],
   "source": [
    "# pivot을 사용하여 데이터프레임 재구조화 \n",
    "df.pivot_table(index='Date', values=['Temperature'], aggfunc='mean')"
   ]
  },
  {
   "cell_type": "raw",
   "id": "a5cce3e0-b7a9-43e8-96c8-9b6845251db6",
   "metadata": {},
   "source": [
    "위의 코드를 실행하면 각 일짜별로 평균온도를 보여주는 데이터프레임을 확인할 수 있습니다."
   ]
  },
  {
   "cell_type": "raw",
   "id": "c802fac4-a2b6-4cea-a388-4e749def0b67",
   "metadata": {},
   "source": [
    "만약 각 도시별로 습도의 최고값과 최저값을 확인하고 싶다면\n",
    "아래와 같이 pivot_table을 호출해주면 됩니다."
   ]
  },
  {
   "cell_type": "code",
   "execution_count": 11,
   "id": "8c152312-e24c-4146-b8ad-32508c656058",
   "metadata": {
    "tags": []
   },
   "outputs": [
    {
     "data": {
      "text/html": [
       "<div>\n",
       "<style scoped>\n",
       "    .dataframe tbody tr th:only-of-type {\n",
       "        vertical-align: middle;\n",
       "    }\n",
       "\n",
       "    .dataframe tbody tr th {\n",
       "        vertical-align: top;\n",
       "    }\n",
       "\n",
       "    .dataframe thead tr th {\n",
       "        text-align: left;\n",
       "    }\n",
       "\n",
       "    .dataframe thead tr:last-of-type th {\n",
       "        text-align: right;\n",
       "    }\n",
       "</style>\n",
       "<table border=\"1\" class=\"dataframe\">\n",
       "  <thead>\n",
       "    <tr>\n",
       "      <th></th>\n",
       "      <th>max</th>\n",
       "      <th>min</th>\n",
       "    </tr>\n",
       "    <tr>\n",
       "      <th></th>\n",
       "      <th>Humidity</th>\n",
       "      <th>Humidity</th>\n",
       "    </tr>\n",
       "    <tr>\n",
       "      <th>City</th>\n",
       "      <th></th>\n",
       "      <th></th>\n",
       "    </tr>\n",
       "  </thead>\n",
       "  <tbody>\n",
       "    <tr>\n",
       "      <th>Busan</th>\n",
       "      <td>62</td>\n",
       "      <td>58</td>\n",
       "    </tr>\n",
       "    <tr>\n",
       "      <th>Seoul</th>\n",
       "      <td>55</td>\n",
       "      <td>45</td>\n",
       "    </tr>\n",
       "  </tbody>\n",
       "</table>\n",
       "</div>"
      ],
      "text/plain": [
       "           max      min\n",
       "      Humidity Humidity\n",
       "City                   \n",
       "Busan       62       58\n",
       "Seoul       55       45"
      ]
     },
     "execution_count": 11,
     "metadata": {},
     "output_type": "execute_result"
    }
   ],
   "source": [
    "# pivot을 사용하여 데이터프레임 재구조화 \n",
    "df.pivot_table(index='City', values='Humidity', aggfunc=['max', 'min'])"
   ]
  },
  {
   "cell_type": "raw",
   "id": "eb2ac32e-57a9-4bcc-a800-5cb8d13077d8",
   "metadata": {},
   "source": [
    "index는 City의 고유값들이 되었고, 각 고유값을 포함하고 있는 Humidity 열에 데이터들 중 max, min 값이 \n",
    "집계되어 있는 것을 확인할 수 있습니다."
   ]
  },
  {
   "cell_type": "raw",
   "id": "38c50f46-b362-4f8b-9b81-71b5096ae698",
   "metadata": {},
   "source": [
    "values에 여러개의 컬럼을 배열형태로 넣어줄 수 있습니다."
   ]
  },
  {
   "cell_type": "code",
   "execution_count": 12,
   "id": "f8675ae2-c562-425d-8426-b74c0377b4aa",
   "metadata": {
    "tags": []
   },
   "outputs": [
    {
     "data": {
      "text/html": [
       "<div>\n",
       "<style scoped>\n",
       "    .dataframe tbody tr th:only-of-type {\n",
       "        vertical-align: middle;\n",
       "    }\n",
       "\n",
       "    .dataframe tbody tr th {\n",
       "        vertical-align: top;\n",
       "    }\n",
       "\n",
       "    .dataframe thead th {\n",
       "        text-align: right;\n",
       "    }\n",
       "</style>\n",
       "<table border=\"1\" class=\"dataframe\">\n",
       "  <thead>\n",
       "    <tr style=\"text-align: right;\">\n",
       "      <th></th>\n",
       "      <th>Humidity</th>\n",
       "      <th>Temperature</th>\n",
       "    </tr>\n",
       "    <tr>\n",
       "      <th>Date</th>\n",
       "      <th></th>\n",
       "      <th></th>\n",
       "    </tr>\n",
       "  </thead>\n",
       "  <tbody>\n",
       "    <tr>\n",
       "      <th>2023-08-01</th>\n",
       "      <td>55.0</td>\n",
       "      <td>30.0</td>\n",
       "    </tr>\n",
       "    <tr>\n",
       "      <th>2023-08-02</th>\n",
       "      <td>56.5</td>\n",
       "      <td>28.5</td>\n",
       "    </tr>\n",
       "    <tr>\n",
       "      <th>2023-08-03</th>\n",
       "      <td>53.5</td>\n",
       "      <td>31.0</td>\n",
       "    </tr>\n",
       "  </tbody>\n",
       "</table>\n",
       "</div>"
      ],
      "text/plain": [
       "            Humidity  Temperature\n",
       "Date                             \n",
       "2023-08-01      55.0         30.0\n",
       "2023-08-02      56.5         28.5\n",
       "2023-08-03      53.5         31.0"
      ]
     },
     "execution_count": 12,
     "metadata": {},
     "output_type": "execute_result"
    }
   ],
   "source": [
    "# 다수의 column 활용 (날짜기준)\n",
    "df.pivot_table(index='Date', values=['Temperature', 'Humidity'], aggfunc='mean')"
   ]
  },
  {
   "cell_type": "raw",
   "id": "d1bc3416-5f6e-4824-a603-e58965fbe75e",
   "metadata": {},
   "source": [
    "이 경우 위와 같이 각 일짜별 Temerature와 Munidity의  평균 값을 확인할 수 있습니다."
   ]
  },
  {
   "cell_type": "raw",
   "id": "c1bc08fb-846c-4d52-a504-67a44588d080",
   "metadata": {},
   "source": [
    "인덱스에 여러개의 컬럼을 배열형태로 넣을 수 있습니다."
   ]
  },
  {
   "cell_type": "code",
   "execution_count": 13,
   "id": "c9167ac2-eea7-48ca-ad37-2ddd65606603",
   "metadata": {
    "tags": []
   },
   "outputs": [
    {
     "data": {
      "text/html": [
       "<div>\n",
       "<style scoped>\n",
       "    .dataframe tbody tr th:only-of-type {\n",
       "        vertical-align: middle;\n",
       "    }\n",
       "\n",
       "    .dataframe tbody tr th {\n",
       "        vertical-align: top;\n",
       "    }\n",
       "\n",
       "    .dataframe thead th {\n",
       "        text-align: right;\n",
       "    }\n",
       "</style>\n",
       "<table border=\"1\" class=\"dataframe\">\n",
       "  <thead>\n",
       "    <tr style=\"text-align: right;\">\n",
       "      <th></th>\n",
       "      <th></th>\n",
       "      <th>Humidity</th>\n",
       "      <th>Temperature</th>\n",
       "    </tr>\n",
       "    <tr>\n",
       "      <th>City</th>\n",
       "      <th>Date</th>\n",
       "      <th></th>\n",
       "      <th></th>\n",
       "    </tr>\n",
       "  </thead>\n",
       "  <tbody>\n",
       "    <tr>\n",
       "      <th rowspan=\"3\" valign=\"top\">Busan</th>\n",
       "      <th>2023-08-01</th>\n",
       "      <td>60</td>\n",
       "      <td>28</td>\n",
       "    </tr>\n",
       "    <tr>\n",
       "      <th>2023-08-02</th>\n",
       "      <td>58</td>\n",
       "      <td>27</td>\n",
       "    </tr>\n",
       "    <tr>\n",
       "      <th>2023-08-03</th>\n",
       "      <td>62</td>\n",
       "      <td>29</td>\n",
       "    </tr>\n",
       "    <tr>\n",
       "      <th rowspan=\"3\" valign=\"top\">Seoul</th>\n",
       "      <th>2023-08-01</th>\n",
       "      <td>50</td>\n",
       "      <td>32</td>\n",
       "    </tr>\n",
       "    <tr>\n",
       "      <th>2023-08-02</th>\n",
       "      <td>55</td>\n",
       "      <td>30</td>\n",
       "    </tr>\n",
       "    <tr>\n",
       "      <th>2023-08-03</th>\n",
       "      <td>45</td>\n",
       "      <td>33</td>\n",
       "    </tr>\n",
       "  </tbody>\n",
       "</table>\n",
       "</div>"
      ],
      "text/plain": [
       "                  Humidity  Temperature\n",
       "City  Date                             \n",
       "Busan 2023-08-01        60           28\n",
       "      2023-08-02        58           27\n",
       "      2023-08-03        62           29\n",
       "Seoul 2023-08-01        50           32\n",
       "      2023-08-02        55           30\n",
       "      2023-08-03        45           33"
      ]
     },
     "execution_count": 13,
     "metadata": {},
     "output_type": "execute_result"
    }
   ],
   "source": [
    "# 다수의 index, column 활용 \n",
    "df.pivot_table(index=['City', 'Date'], values=['Temperature', 'Humidity'], aggfunc='mean')"
   ]
  },
  {
   "cell_type": "raw",
   "id": "dbed24e3-90fb-402f-a4f2-4b3854a9fad6",
   "metadata": {
    "tags": []
   },
   "source": [
    "이경우에는 multi-index 형태로 그루핑이 되어 있는 것을 확인할 수 있습니다."
   ]
  },
  {
   "cell_type": "raw",
   "id": "80ac618e-0c12-4fe4-931c-eed87d72e656",
   "metadata": {},
   "source": [
    "aggfunc 파리미터에는 사용자 정의 함수 및 lambda 함수도 활용할 수 있습니다."
   ]
  },
  {
   "cell_type": "code",
   "execution_count": 14,
   "id": "27f83c4f-d759-48f2-9a17-b35bec2010ba",
   "metadata": {
    "tags": []
   },
   "outputs": [
    {
     "data": {
      "text/html": [
       "<div>\n",
       "<style scoped>\n",
       "    .dataframe tbody tr th:only-of-type {\n",
       "        vertical-align: middle;\n",
       "    }\n",
       "\n",
       "    .dataframe tbody tr th {\n",
       "        vertical-align: top;\n",
       "    }\n",
       "\n",
       "    .dataframe thead tr th {\n",
       "        text-align: left;\n",
       "    }\n",
       "\n",
       "    .dataframe thead tr:last-of-type th {\n",
       "        text-align: right;\n",
       "    }\n",
       "</style>\n",
       "<table border=\"1\" class=\"dataframe\">\n",
       "  <thead>\n",
       "    <tr>\n",
       "      <th></th>\n",
       "      <th>mean</th>\n",
       "      <th>count</th>\n",
       "      <th>std</th>\n",
       "      <th>min</th>\n",
       "      <th>max</th>\n",
       "      <th>&lt;lambda&gt;</th>\n",
       "    </tr>\n",
       "    <tr>\n",
       "      <th></th>\n",
       "      <th>Temperature</th>\n",
       "      <th>Temperature</th>\n",
       "      <th>Temperature</th>\n",
       "      <th>Temperature</th>\n",
       "      <th>Temperature</th>\n",
       "      <th>Temperature</th>\n",
       "    </tr>\n",
       "    <tr>\n",
       "      <th>City</th>\n",
       "      <th></th>\n",
       "      <th></th>\n",
       "      <th></th>\n",
       "      <th></th>\n",
       "      <th></th>\n",
       "      <th></th>\n",
       "    </tr>\n",
       "  </thead>\n",
       "  <tbody>\n",
       "    <tr>\n",
       "      <th>Busan</th>\n",
       "      <td>28.000000</td>\n",
       "      <td>3</td>\n",
       "      <td>1.000000</td>\n",
       "      <td>27</td>\n",
       "      <td>29</td>\n",
       "      <td>2</td>\n",
       "    </tr>\n",
       "    <tr>\n",
       "      <th>Seoul</th>\n",
       "      <td>31.666667</td>\n",
       "      <td>3</td>\n",
       "      <td>1.527525</td>\n",
       "      <td>30</td>\n",
       "      <td>33</td>\n",
       "      <td>3</td>\n",
       "    </tr>\n",
       "  </tbody>\n",
       "</table>\n",
       "</div>"
      ],
      "text/plain": [
       "             mean       count         std         min         max    <lambda>\n",
       "      Temperature Temperature Temperature Temperature Temperature Temperature\n",
       "City                                                                         \n",
       "Busan   28.000000           3    1.000000          27          29           2\n",
       "Seoul   31.666667           3    1.527525          30          33           3"
      ]
     },
     "execution_count": 14,
     "metadata": {},
     "output_type": "execute_result"
    }
   ],
   "source": [
    "# agg_func 추가\n",
    "df.pivot_table(index='City',  values=['Temperature'], aggfunc=[np.mean, 'count', 'std', 'min', 'max', lambda x: x.max()-x.min()])"
   ]
  },
  {
   "cell_type": "raw",
   "id": "93f960ed-8f74-4c0c-9daf-80c696d05170",
   "metadata": {},
   "source": [
    "이 예제와 같이 입력한 aggfunc들을 적용한 결과를 각 열에서 확인할 수 있습니다."
   ]
  },
  {
   "cell_type": "raw",
   "id": "1d4ed032-e78f-498f-aeb6-574917e2dd01",
   "metadata": {},
   "source": [
    "이번에는 get_dummies() 함수를 활용하여 \n",
    "범주형 변수를 가지고 있는 컬럼을 one-hot encoding 방식으로 변환하는 방법에 대해서 알아보도록 하겠습니다."
   ]
  },
  {
   "cell_type": "markdown",
   "id": "8f1f167a-1cfb-42fe-9351-d6ea3ad5d510",
   "metadata": {},
   "source": [
    "# get_dummies()\n",
    "\n",
    "get_dummies는 판다스의 데이터프레임에서 `범주형 변수`를  \n",
    "`더미 변수`(0 또는 1로 이루어진 이진 변수)로 변환하는 기능을 제공하는 함수입니다.  \n",
    "범주형 변수를 더미 변수로 변환하여 기계 학습 모델에 적용하거나 데이터 분석에 활용하는 데 유용합니다.\n",
    "\n",
    "get_dummies 함수의 구문:\n",
    "\n",
    "```python\n",
    "pd.get_dummies(data, prefix=None, prefix_sep='_', columns=None, drop_first=False, dtype=None)\n",
    "```\n",
    "\n",
    "- **data**: 더미 변수로 변환할 데이터프레임이나 시리즈를 지정합니다.\n",
    "- **prefix**: 더미 변수의 컬럼 이름에 추가할 접두어를 지정합니다.\n",
    "- **prefix_sep**: 접두어와 변수 이름 사이에 추가할 구분 기호를 지정합니다.\n",
    "- **columns**: 더미 변수로 변환할 열(또는 열 이름)을 선택적으로 지정합니다. 기본값은 None이며, 이 경우 모든 열이 더미 변수로 변환됩니다.\n",
    "- **drop_first**: 더미 변수 중 첫 번째 변수를 제거할지 여부를 지정합니다. 기본값은 False이며, True로 설정하면 첫 번째 더미 변수가 제거됩니다.\n",
    "- **dtype**: 생성된 더미 변수의 데이터 타입을 지정합니다.\n"
   ]
  },
  {
   "cell_type": "raw",
   "id": "366c3118-680e-462a-9151-0269a5664970",
   "metadata": {},
   "source": [
    "예제코드를 위한 데이터프레임 객체를 생성해보겠습니다."
   ]
  },
  {
   "cell_type": "code",
   "execution_count": 15,
   "id": "f1cc74ba-79bf-47b5-9476-7136deb0a2ed",
   "metadata": {
    "tags": []
   },
   "outputs": [
    {
     "data": {
      "text/html": [
       "<div>\n",
       "<style scoped>\n",
       "    .dataframe tbody tr th:only-of-type {\n",
       "        vertical-align: middle;\n",
       "    }\n",
       "\n",
       "    .dataframe tbody tr th {\n",
       "        vertical-align: top;\n",
       "    }\n",
       "\n",
       "    .dataframe thead th {\n",
       "        text-align: right;\n",
       "    }\n",
       "</style>\n",
       "<table border=\"1\" class=\"dataframe\">\n",
       "  <thead>\n",
       "    <tr style=\"text-align: right;\">\n",
       "      <th></th>\n",
       "      <th>Name</th>\n",
       "      <th>Subject</th>\n",
       "      <th>Grade</th>\n",
       "    </tr>\n",
       "  </thead>\n",
       "  <tbody>\n",
       "    <tr>\n",
       "      <th>0</th>\n",
       "      <td>Alice</td>\n",
       "      <td>Math</td>\n",
       "      <td>A</td>\n",
       "    </tr>\n",
       "    <tr>\n",
       "      <th>1</th>\n",
       "      <td>Bob</td>\n",
       "      <td>Science</td>\n",
       "      <td>B</td>\n",
       "    </tr>\n",
       "    <tr>\n",
       "      <th>2</th>\n",
       "      <td>Charlie</td>\n",
       "      <td>Math</td>\n",
       "      <td>B</td>\n",
       "    </tr>\n",
       "    <tr>\n",
       "      <th>3</th>\n",
       "      <td>David</td>\n",
       "      <td>English</td>\n",
       "      <td>C</td>\n",
       "    </tr>\n",
       "    <tr>\n",
       "      <th>4</th>\n",
       "      <td>Ella</td>\n",
       "      <td>Science</td>\n",
       "      <td>A</td>\n",
       "    </tr>\n",
       "  </tbody>\n",
       "</table>\n",
       "</div>"
      ],
      "text/plain": [
       "      Name  Subject Grade\n",
       "0    Alice     Math     A\n",
       "1      Bob  Science     B\n",
       "2  Charlie     Math     B\n",
       "3    David  English     C\n",
       "4     Ella  Science     A"
      ]
     },
     "execution_count": 15,
     "metadata": {},
     "output_type": "execute_result"
    }
   ],
   "source": [
    "import pandas as pd\n",
    "\n",
    "# 학생 성적 데이터 생성\n",
    "data = {\n",
    "    'Name': ['Alice', 'Bob', 'Charlie', 'David', 'Ella'],\n",
    "    'Subject': ['Math', 'Science', 'Math', 'English', 'Science'],\n",
    "    'Grade': ['A', 'B', 'B', 'C', 'A']\n",
    "}\n",
    "\n",
    "df = pd.DataFrame(data)\n",
    "df\n"
   ]
  },
  {
   "cell_type": "raw",
   "id": "c38aae1d-4a92-43a1-9d32-626e9a97f955",
   "metadata": {},
   "source": [
    "get_dummies 함수의 가장 간단한 활용법은\n",
    "one-hot encoding을 적용할 데이터프레임과 범주형 데이터를 저장하고 있는 열의 이름을 기입하는 것입니다."
   ]
  },
  {
   "cell_type": "code",
   "execution_count": 16,
   "id": "1118b10f-cc38-4971-a4f5-a9b8cabaecd2",
   "metadata": {
    "tags": []
   },
   "outputs": [
    {
     "data": {
      "text/html": [
       "<div>\n",
       "<style scoped>\n",
       "    .dataframe tbody tr th:only-of-type {\n",
       "        vertical-align: middle;\n",
       "    }\n",
       "\n",
       "    .dataframe tbody tr th {\n",
       "        vertical-align: top;\n",
       "    }\n",
       "\n",
       "    .dataframe thead th {\n",
       "        text-align: right;\n",
       "    }\n",
       "</style>\n",
       "<table border=\"1\" class=\"dataframe\">\n",
       "  <thead>\n",
       "    <tr style=\"text-align: right;\">\n",
       "      <th></th>\n",
       "      <th>Name</th>\n",
       "      <th>Subject</th>\n",
       "      <th>Grade_A</th>\n",
       "      <th>Grade_B</th>\n",
       "      <th>Grade_C</th>\n",
       "    </tr>\n",
       "  </thead>\n",
       "  <tbody>\n",
       "    <tr>\n",
       "      <th>0</th>\n",
       "      <td>Alice</td>\n",
       "      <td>Math</td>\n",
       "      <td>1</td>\n",
       "      <td>0</td>\n",
       "      <td>0</td>\n",
       "    </tr>\n",
       "    <tr>\n",
       "      <th>1</th>\n",
       "      <td>Bob</td>\n",
       "      <td>Science</td>\n",
       "      <td>0</td>\n",
       "      <td>1</td>\n",
       "      <td>0</td>\n",
       "    </tr>\n",
       "    <tr>\n",
       "      <th>2</th>\n",
       "      <td>Charlie</td>\n",
       "      <td>Math</td>\n",
       "      <td>0</td>\n",
       "      <td>1</td>\n",
       "      <td>0</td>\n",
       "    </tr>\n",
       "    <tr>\n",
       "      <th>3</th>\n",
       "      <td>David</td>\n",
       "      <td>English</td>\n",
       "      <td>0</td>\n",
       "      <td>0</td>\n",
       "      <td>1</td>\n",
       "    </tr>\n",
       "    <tr>\n",
       "      <th>4</th>\n",
       "      <td>Ella</td>\n",
       "      <td>Science</td>\n",
       "      <td>1</td>\n",
       "      <td>0</td>\n",
       "      <td>0</td>\n",
       "    </tr>\n",
       "  </tbody>\n",
       "</table>\n",
       "</div>"
      ],
      "text/plain": [
       "      Name  Subject  Grade_A  Grade_B  Grade_C\n",
       "0    Alice     Math        1        0        0\n",
       "1      Bob  Science        0        1        0\n",
       "2  Charlie     Math        0        1        0\n",
       "3    David  English        0        0        1\n",
       "4     Ella  Science        1        0        0"
      ]
     },
     "execution_count": 16,
     "metadata": {},
     "output_type": "execute_result"
    }
   ],
   "source": [
    "pd.get_dummies(df, columns=['Grade'])"
   ]
  },
  {
   "cell_type": "raw",
   "id": "9eb466e7-c7a3-4c69-90f9-0f46e5d0cf56",
   "metadata": {},
   "source": [
    "위 예제에서는 df의 Grade를 넣어주었으므로, Grade 열이 없어지고\n",
    "Grade_ 에 해당 열의 고유한 값이 붙여진 컬럼들이 추가되었습니다.\n",
    "그리고 신 Grade열에 A가 있던 행에는 Grade_A 열만에 1이 들어가 있고\n",
    "그리고 신 Grade열에 B가 있던 행에는 Grade_B 열만에 1이 들어가 있는 것을 확인할 수 있습니다."
   ]
  },
  {
   "cell_type": "raw",
   "id": "93449215-127d-4cf3-8ea8-f4f7f50cd838",
   "metadata": {},
   "source": [
    "geT_dummies를 호출할대 drop_first=True 파라미터를 입력해주면\n",
    "get_dummies를 호출할때 생성하는 가장 첫번째 컬럼, 여기에서는 Grade_A를 제거합니다.\n",
    "하나를 제거하더라도 가지고 있는 정보량은 동일합니다.\n",
    "다만 머신러닝에서 classification을 할때 softmax등을 활용한다면 \n",
    "\\drop_first를 수행하지 않는 것이 유용할 때도 있습니다."
   ]
  },
  {
   "cell_type": "code",
   "execution_count": 17,
   "id": "f53ae290-d88d-4b80-85a0-4eca9f5acdc5",
   "metadata": {
    "tags": []
   },
   "outputs": [
    {
     "data": {
      "text/html": [
       "<div>\n",
       "<style scoped>\n",
       "    .dataframe tbody tr th:only-of-type {\n",
       "        vertical-align: middle;\n",
       "    }\n",
       "\n",
       "    .dataframe tbody tr th {\n",
       "        vertical-align: top;\n",
       "    }\n",
       "\n",
       "    .dataframe thead th {\n",
       "        text-align: right;\n",
       "    }\n",
       "</style>\n",
       "<table border=\"1\" class=\"dataframe\">\n",
       "  <thead>\n",
       "    <tr style=\"text-align: right;\">\n",
       "      <th></th>\n",
       "      <th>Name</th>\n",
       "      <th>Subject</th>\n",
       "      <th>Grade_B</th>\n",
       "      <th>Grade_C</th>\n",
       "    </tr>\n",
       "  </thead>\n",
       "  <tbody>\n",
       "    <tr>\n",
       "      <th>0</th>\n",
       "      <td>Alice</td>\n",
       "      <td>Math</td>\n",
       "      <td>0</td>\n",
       "      <td>0</td>\n",
       "    </tr>\n",
       "    <tr>\n",
       "      <th>1</th>\n",
       "      <td>Bob</td>\n",
       "      <td>Science</td>\n",
       "      <td>1</td>\n",
       "      <td>0</td>\n",
       "    </tr>\n",
       "    <tr>\n",
       "      <th>2</th>\n",
       "      <td>Charlie</td>\n",
       "      <td>Math</td>\n",
       "      <td>1</td>\n",
       "      <td>0</td>\n",
       "    </tr>\n",
       "    <tr>\n",
       "      <th>3</th>\n",
       "      <td>David</td>\n",
       "      <td>English</td>\n",
       "      <td>0</td>\n",
       "      <td>1</td>\n",
       "    </tr>\n",
       "    <tr>\n",
       "      <th>4</th>\n",
       "      <td>Ella</td>\n",
       "      <td>Science</td>\n",
       "      <td>0</td>\n",
       "      <td>0</td>\n",
       "    </tr>\n",
       "  </tbody>\n",
       "</table>\n",
       "</div>"
      ],
      "text/plain": [
       "      Name  Subject  Grade_B  Grade_C\n",
       "0    Alice     Math        0        0\n",
       "1      Bob  Science        1        0\n",
       "2  Charlie     Math        1        0\n",
       "3    David  English        0        1\n",
       "4     Ella  Science        0        0"
      ]
     },
     "execution_count": 17,
     "metadata": {},
     "output_type": "execute_result"
    }
   ],
   "source": [
    "pd.get_dummies(df, columns=['Grade'], drop_first=True)"
   ]
  },
  {
   "cell_type": "raw",
   "id": "696fb1eb-dbca-4cd9-a305-0310d0b0de27",
   "metadata": {},
   "source": [
    "get_dummies를 호출할때 prefix 파라미터를 사용하면 \n",
    "새로 생성되는 열들의 prefix를 기존의 컬럼이름이 아닌 다른 것으로 지정할 수 있습니다."
   ]
  },
  {
   "cell_type": "code",
   "execution_count": 18,
   "id": "18db299e-8867-4780-966c-3e69462e5e72",
   "metadata": {
    "tags": []
   },
   "outputs": [
    {
     "data": {
      "text/html": [
       "<div>\n",
       "<style scoped>\n",
       "    .dataframe tbody tr th:only-of-type {\n",
       "        vertical-align: middle;\n",
       "    }\n",
       "\n",
       "    .dataframe tbody tr th {\n",
       "        vertical-align: top;\n",
       "    }\n",
       "\n",
       "    .dataframe thead th {\n",
       "        text-align: right;\n",
       "    }\n",
       "</style>\n",
       "<table border=\"1\" class=\"dataframe\">\n",
       "  <thead>\n",
       "    <tr style=\"text-align: right;\">\n",
       "      <th></th>\n",
       "      <th>Name</th>\n",
       "      <th>Subject</th>\n",
       "      <th>G_A</th>\n",
       "      <th>G_B</th>\n",
       "      <th>G_C</th>\n",
       "    </tr>\n",
       "  </thead>\n",
       "  <tbody>\n",
       "    <tr>\n",
       "      <th>0</th>\n",
       "      <td>Alice</td>\n",
       "      <td>Math</td>\n",
       "      <td>1</td>\n",
       "      <td>0</td>\n",
       "      <td>0</td>\n",
       "    </tr>\n",
       "    <tr>\n",
       "      <th>1</th>\n",
       "      <td>Bob</td>\n",
       "      <td>Science</td>\n",
       "      <td>0</td>\n",
       "      <td>1</td>\n",
       "      <td>0</td>\n",
       "    </tr>\n",
       "    <tr>\n",
       "      <th>2</th>\n",
       "      <td>Charlie</td>\n",
       "      <td>Math</td>\n",
       "      <td>0</td>\n",
       "      <td>1</td>\n",
       "      <td>0</td>\n",
       "    </tr>\n",
       "    <tr>\n",
       "      <th>3</th>\n",
       "      <td>David</td>\n",
       "      <td>English</td>\n",
       "      <td>0</td>\n",
       "      <td>0</td>\n",
       "      <td>1</td>\n",
       "    </tr>\n",
       "    <tr>\n",
       "      <th>4</th>\n",
       "      <td>Ella</td>\n",
       "      <td>Science</td>\n",
       "      <td>1</td>\n",
       "      <td>0</td>\n",
       "      <td>0</td>\n",
       "    </tr>\n",
       "  </tbody>\n",
       "</table>\n",
       "</div>"
      ],
      "text/plain": [
       "      Name  Subject  G_A  G_B  G_C\n",
       "0    Alice     Math    1    0    0\n",
       "1      Bob  Science    0    1    0\n",
       "2  Charlie     Math    0    1    0\n",
       "3    David  English    0    0    1\n",
       "4     Ella  Science    1    0    0"
      ]
     },
     "execution_count": 18,
     "metadata": {},
     "output_type": "execute_result"
    }
   ],
   "source": [
    "pd.get_dummies(df, columns=['Grade'], prefix=[\"G\"])"
   ]
  },
  {
   "cell_type": "raw",
   "id": "aa65d7e9-21ac-40eb-b3b3-7de3101b4c00",
   "metadata": {},
   "source": [
    "위의 예제에서는 prefix에 G 문자열을 넣어주었기에\n",
    "새로 생성되는 컬럼의 prefix가 Grade가 아닌 G로 바뀐것을 확인할 수 있습니다."
   ]
  },
  {
   "cell_type": "raw",
   "id": "c86cf33d-c332-413a-9ad1-d7d268289a8b",
   "metadata": {},
   "source": [
    "get_dummies를 호출할대 columns에 여러개의 컬럼을 넣을 수 있습니다. "
   ]
  },
  {
   "cell_type": "code",
   "execution_count": 19,
   "id": "056eb606-536c-4533-a4f8-13dc11162107",
   "metadata": {
    "tags": []
   },
   "outputs": [
    {
     "data": {
      "text/html": [
       "<div>\n",
       "<style scoped>\n",
       "    .dataframe tbody tr th:only-of-type {\n",
       "        vertical-align: middle;\n",
       "    }\n",
       "\n",
       "    .dataframe tbody tr th {\n",
       "        vertical-align: top;\n",
       "    }\n",
       "\n",
       "    .dataframe thead th {\n",
       "        text-align: right;\n",
       "    }\n",
       "</style>\n",
       "<table border=\"1\" class=\"dataframe\">\n",
       "  <thead>\n",
       "    <tr style=\"text-align: right;\">\n",
       "      <th></th>\n",
       "      <th>Name</th>\n",
       "      <th>Subject_English</th>\n",
       "      <th>Subject_Math</th>\n",
       "      <th>Subject_Science</th>\n",
       "      <th>Grade_A</th>\n",
       "      <th>Grade_B</th>\n",
       "      <th>Grade_C</th>\n",
       "    </tr>\n",
       "  </thead>\n",
       "  <tbody>\n",
       "    <tr>\n",
       "      <th>0</th>\n",
       "      <td>Alice</td>\n",
       "      <td>0</td>\n",
       "      <td>1</td>\n",
       "      <td>0</td>\n",
       "      <td>1</td>\n",
       "      <td>0</td>\n",
       "      <td>0</td>\n",
       "    </tr>\n",
       "    <tr>\n",
       "      <th>1</th>\n",
       "      <td>Bob</td>\n",
       "      <td>0</td>\n",
       "      <td>0</td>\n",
       "      <td>1</td>\n",
       "      <td>0</td>\n",
       "      <td>1</td>\n",
       "      <td>0</td>\n",
       "    </tr>\n",
       "    <tr>\n",
       "      <th>2</th>\n",
       "      <td>Charlie</td>\n",
       "      <td>0</td>\n",
       "      <td>1</td>\n",
       "      <td>0</td>\n",
       "      <td>0</td>\n",
       "      <td>1</td>\n",
       "      <td>0</td>\n",
       "    </tr>\n",
       "    <tr>\n",
       "      <th>3</th>\n",
       "      <td>David</td>\n",
       "      <td>1</td>\n",
       "      <td>0</td>\n",
       "      <td>0</td>\n",
       "      <td>0</td>\n",
       "      <td>0</td>\n",
       "      <td>1</td>\n",
       "    </tr>\n",
       "    <tr>\n",
       "      <th>4</th>\n",
       "      <td>Ella</td>\n",
       "      <td>0</td>\n",
       "      <td>0</td>\n",
       "      <td>1</td>\n",
       "      <td>1</td>\n",
       "      <td>0</td>\n",
       "      <td>0</td>\n",
       "    </tr>\n",
       "  </tbody>\n",
       "</table>\n",
       "</div>"
      ],
      "text/plain": [
       "      Name  Subject_English  Subject_Math  Subject_Science  Grade_A  Grade_B  \\\n",
       "0    Alice                0             1                0        1        0   \n",
       "1      Bob                0             0                1        0        1   \n",
       "2  Charlie                0             1                0        0        1   \n",
       "3    David                1             0                0        0        0   \n",
       "4     Ella                0             0                1        1        0   \n",
       "\n",
       "   Grade_C  \n",
       "0        0  \n",
       "1        0  \n",
       "2        0  \n",
       "3        1  \n",
       "4        0  "
      ]
     },
     "execution_count": 19,
     "metadata": {},
     "output_type": "execute_result"
    }
   ],
   "source": [
    "pd.get_dummies(df, columns=['Subject', 'Grade'])"
   ]
  },
  {
   "cell_type": "raw",
   "id": "3130f7ea-30ba-4a7c-b43d-b6f0629010f6",
   "metadata": {},
   "source": [
    "이 코드를 실행한 결과 Subject, Grade 컬럼이 없어지고,\n",
    "해당 컬럼의 명목형 데이터를 반영하는 열들이 추가된 것을 확인할 수 있습니다."
   ]
  },
  {
   "cell_type": "raw",
   "id": "b28d9315-2221-47cb-9e44-16db4f5f7cc6",
   "metadata": {},
   "source": [
    "이번에는 stack, unstack에 대해서 알아보도록 하겠습니다.\n",
    "\n",
    "`stack()`과 `unstack()`은 데이터프레임의 인덱스와 컬럼을 변환하는 데 사용되는 판다스 메서드입니다.  \n",
    "둘 다 데이터프레임의 구조를 변경하는데 사용되지만, \n",
    "`stack()`은 차원을 축소 즉 column을 줄이고 대신 행이 늘어나고\n",
    "`unstack()`은 차원을 증가 즉 column을 늘리고 대신 행이 줄어들게 됩니다.\n",
    "\n",
    "일반적으로 stack은 multiindex가 있는 데이터 프레임에서 사용하고 \n",
    "unstack은 multiindex를 해제할때 사용합니다.\n"
   ]
  },
  {
   "cell_type": "markdown",
   "id": "266c4328-299f-4f66-9602-884e2dc64673",
   "metadata": {},
   "source": [
    "# stack()/unstack()\n",
    "\n",
    "`stack()`과 `unstack()`은 데이터프레임의 인덱스와 컬럼을 변환하는 데 사용되는 판다스 메서드입니다.  \n",
    "둘 다 데이터프레임의 구조를 변경하는데 사용되지만, \n",
    "`stack()`은 차원을 축소하고 `unstack()`은 차원을 증가시킵니다.\n",
    "\n",
    "**stack() 메서드:**\n",
    "\n",
    "stack() 메서드는 데이터프레임의 `컬럼`을 `인덱스의 레벨`로 `\"압축\"`하여 Series로 변환합니다.  \n",
    "컬럼을 인덱스로 변환하므로, 데이터프레임의 `차원이 축소`됩니다.  \n",
    "일반적으로 `MultiIndex`가 있는 데이터프레임에서 사용됩니다.  \n",
    "\n",
    "\n",
    "**unstack() 메서드:**\n",
    "\n",
    "unstack() 메서드는 `MultiIndex`로 구성된 인덱스의 레벨을 `컬럼`으로 `\"펼쳐서\"` 데이터프레임으로 변환합니다.  \n",
    "`인덱스`를 `컬럼`으로 변환하므로, 데이터프레임의 `차원이 증가`합니다.  \n",
    "stack()과 반대로, 데이터프레임의 MultiIndex를 해제할 때 사용됩니다.  \n",
    "  \n"
   ]
  },
  {
   "cell_type": "raw",
   "id": "fe62bef5-4827-4dd1-b2be-789060a2c8e2",
   "metadata": {},
   "source": [
    "예제 코드를 통해 확인해보도록 하겠습니다.\n",
    "예제 코드를 위하여 멀티인덱스를 가진 데이터프레임을 준비해보겠습니다."
   ]
  },
  {
   "cell_type": "code",
   "execution_count": 20,
   "id": "5d67ab40-a19b-4f81-b98a-ac73c64e76e0",
   "metadata": {
    "tags": []
   },
   "outputs": [
    {
     "data": {
      "text/html": [
       "<div>\n",
       "<style scoped>\n",
       "    .dataframe tbody tr th:only-of-type {\n",
       "        vertical-align: middle;\n",
       "    }\n",
       "\n",
       "    .dataframe tbody tr th {\n",
       "        vertical-align: top;\n",
       "    }\n",
       "\n",
       "    .dataframe thead th {\n",
       "        text-align: right;\n",
       "    }\n",
       "</style>\n",
       "<table border=\"1\" class=\"dataframe\">\n",
       "  <thead>\n",
       "    <tr style=\"text-align: right;\">\n",
       "      <th></th>\n",
       "      <th></th>\n",
       "      <th>Profit</th>\n",
       "      <th>Revenue</th>\n",
       "    </tr>\n",
       "    <tr>\n",
       "      <th>Year</th>\n",
       "      <th>Quarter</th>\n",
       "      <th></th>\n",
       "      <th></th>\n",
       "    </tr>\n",
       "  </thead>\n",
       "  <tbody>\n",
       "    <tr>\n",
       "      <th rowspan=\"2\" valign=\"top\">2019</th>\n",
       "      <th>1</th>\n",
       "      <td>20</td>\n",
       "      <td>100</td>\n",
       "    </tr>\n",
       "    <tr>\n",
       "      <th>2</th>\n",
       "      <td>25</td>\n",
       "      <td>120</td>\n",
       "    </tr>\n",
       "    <tr>\n",
       "      <th rowspan=\"2\" valign=\"top\">2020</th>\n",
       "      <th>1</th>\n",
       "      <td>22</td>\n",
       "      <td>110</td>\n",
       "    </tr>\n",
       "    <tr>\n",
       "      <th>2</th>\n",
       "      <td>28</td>\n",
       "      <td>130</td>\n",
       "    </tr>\n",
       "    <tr>\n",
       "      <th rowspan=\"2\" valign=\"top\">2021</th>\n",
       "      <th>1</th>\n",
       "      <td>24</td>\n",
       "      <td>120</td>\n",
       "    </tr>\n",
       "    <tr>\n",
       "      <th>2</th>\n",
       "      <td>30</td>\n",
       "      <td>140</td>\n",
       "    </tr>\n",
       "  </tbody>\n",
       "</table>\n",
       "</div>"
      ],
      "text/plain": [
       "              Profit  Revenue\n",
       "Year Quarter                 \n",
       "2019 1            20      100\n",
       "     2            25      120\n",
       "2020 1            22      110\n",
       "     2            28      130\n",
       "2021 1            24      120\n",
       "     2            30      140"
      ]
     },
     "execution_count": 20,
     "metadata": {},
     "output_type": "execute_result"
    }
   ],
   "source": [
    "import pandas as pd\n",
    "\n",
    "# 다중 인덱스 생성 예제\n",
    "data = {\n",
    "    'Year': [2019, 2019, 2020, 2020, 2021, 2021],\n",
    "    'Quarter': [1, 2, 1, 2, 1, 2],\n",
    "    'Profit': [20, 25, 22, 28, 24, 30],\n",
    "    'Revenue': [100, 120, 110, 130, 120, 140],\n",
    "}\n",
    "\n",
    "df = pd.DataFrame(data)\n",
    "df.set_index(['Year', 'Quarter'], inplace=True)\n",
    "df"
   ]
  },
  {
   "cell_type": "raw",
   "id": "18f736ad-9a9f-4309-b56b-83236ab19746",
   "metadata": {},
   "source": [
    "이때 데이터프레임에서 stack()을 호출하게 되면 아래와 같은 결과를 얻을 수 있습니다."
   ]
  },
  {
   "cell_type": "code",
   "execution_count": 21,
   "id": "9ae6d406-eef4-485f-8dd7-4c1764a5ac7a",
   "metadata": {
    "tags": []
   },
   "outputs": [
    {
     "data": {
      "text/plain": [
       "Year  Quarter         \n",
       "2019  1        Profit      20\n",
       "               Revenue    100\n",
       "      2        Profit      25\n",
       "               Revenue    120\n",
       "2020  1        Profit      22\n",
       "               Revenue    110\n",
       "      2        Profit      28\n",
       "               Revenue    130\n",
       "2021  1        Profit      24\n",
       "               Revenue    120\n",
       "      2        Profit      30\n",
       "               Revenue    140\n",
       "dtype: int64"
      ]
     },
     "execution_count": 21,
     "metadata": {},
     "output_type": "execute_result"
    }
   ],
   "source": [
    "df.stack()"
   ]
  },
  {
   "cell_type": "code",
   "execution_count": 22,
   "id": "281c1f36-3954-41fb-8dbf-414cbb5dda0e",
   "metadata": {
    "tags": []
   },
   "outputs": [
    {
     "data": {
      "text/plain": [
       "pandas.core.series.Series"
      ]
     },
     "execution_count": 22,
     "metadata": {},
     "output_type": "execute_result"
    }
   ],
   "source": [
    "type(df.stack())"
   ]
  },
  {
   "cell_type": "raw",
   "id": "e28466a7-f816-42be-9c0b-7db4b6ef101a",
   "metadata": {},
   "source": [
    "stack() 함수의 결과는 Series인것을 확인할 수 있습니다.\n",
    "즉 모든 column을 인덱스레벨로 옮기고 해당 column에 있던 데이터를 value로 하는 시리즈가 작성됩니다."
   ]
  },
  {
   "cell_type": "raw",
   "id": "e9e30216-4157-4109-9fad-3b19c488b333",
   "metadata": {
    "tags": []
   },
   "source": [
    "df.index"
   ]
  },
  {
   "cell_type": "raw",
   "id": "97e4105e-31a7-4f3a-803f-8034fd80d5bb",
   "metadata": {
    "tags": []
   },
   "source": [
    "df.stack().index"
   ]
  },
  {
   "cell_type": "raw",
   "id": "74c571e9-e406-453b-bc83-78b849fbc341",
   "metadata": {},
   "source": [
    "데이터프레임의 인덱스와 stack() 결과로 나온 시리즈의 인덱스를 보면 명확하게 확인할 수 있습니다."
   ]
  },
  {
   "cell_type": "raw",
   "id": "eb369868-e05b-41e9-92d5-79a246edee9d",
   "metadata": {},
   "source": [
    "unstack()은 stack의 반대입니다.\n",
    "multi index의 가장 마지막 단계를 column으로 환원하게 됩니다."
   ]
  },
  {
   "cell_type": "code",
   "execution_count": 23,
   "id": "2322e92d-d6ea-4507-8388-e73900e42454",
   "metadata": {
    "tags": []
   },
   "outputs": [
    {
     "data": {
      "text/html": [
       "<div>\n",
       "<style scoped>\n",
       "    .dataframe tbody tr th:only-of-type {\n",
       "        vertical-align: middle;\n",
       "    }\n",
       "\n",
       "    .dataframe tbody tr th {\n",
       "        vertical-align: top;\n",
       "    }\n",
       "\n",
       "    .dataframe thead th {\n",
       "        text-align: right;\n",
       "    }\n",
       "</style>\n",
       "<table border=\"1\" class=\"dataframe\">\n",
       "  <thead>\n",
       "    <tr style=\"text-align: right;\">\n",
       "      <th></th>\n",
       "      <th></th>\n",
       "      <th>Profit</th>\n",
       "      <th>Revenue</th>\n",
       "    </tr>\n",
       "    <tr>\n",
       "      <th>Year</th>\n",
       "      <th>Quarter</th>\n",
       "      <th></th>\n",
       "      <th></th>\n",
       "    </tr>\n",
       "  </thead>\n",
       "  <tbody>\n",
       "    <tr>\n",
       "      <th rowspan=\"2\" valign=\"top\">2019</th>\n",
       "      <th>1</th>\n",
       "      <td>20</td>\n",
       "      <td>100</td>\n",
       "    </tr>\n",
       "    <tr>\n",
       "      <th>2</th>\n",
       "      <td>25</td>\n",
       "      <td>120</td>\n",
       "    </tr>\n",
       "    <tr>\n",
       "      <th rowspan=\"2\" valign=\"top\">2020</th>\n",
       "      <th>1</th>\n",
       "      <td>22</td>\n",
       "      <td>110</td>\n",
       "    </tr>\n",
       "    <tr>\n",
       "      <th>2</th>\n",
       "      <td>28</td>\n",
       "      <td>130</td>\n",
       "    </tr>\n",
       "    <tr>\n",
       "      <th rowspan=\"2\" valign=\"top\">2021</th>\n",
       "      <th>1</th>\n",
       "      <td>24</td>\n",
       "      <td>120</td>\n",
       "    </tr>\n",
       "    <tr>\n",
       "      <th>2</th>\n",
       "      <td>30</td>\n",
       "      <td>140</td>\n",
       "    </tr>\n",
       "  </tbody>\n",
       "</table>\n",
       "</div>"
      ],
      "text/plain": [
       "              Profit  Revenue\n",
       "Year Quarter                 \n",
       "2019 1            20      100\n",
       "     2            25      120\n",
       "2020 1            22      110\n",
       "     2            28      130\n",
       "2021 1            24      120\n",
       "     2            30      140"
      ]
     },
     "execution_count": 23,
     "metadata": {},
     "output_type": "execute_result"
    }
   ],
   "source": [
    "# unstack() 예제\n",
    "s = df.stack()\n",
    "s.unstack()\n",
    "\n",
    "# stack()과 unstack() 메소드는 포함된 인덱스 레벨의 순서를 내부적으로 정렬하므로, stack(), unstack() 을 통함 결과가 원래의 순서와 같지 않을 수 있습니다."
   ]
  },
  {
   "cell_type": "raw",
   "id": "77fc7262-2168-4743-b544-90c9f35d4a30",
   "metadata": {},
   "source": [
    "위 예제에서 unstack()을 호출하게 되면 multiindex의 마지막 레벨의 값이 profix, revenue가 컬럼으로 변경된 것을 확인할 수 있습니다."
   ]
  },
  {
   "cell_type": "raw",
   "id": "d022afda-8ee6-40f3-a795-057bc002ab83",
   "metadata": {},
   "source": [
    "만약 여기에서 한번 unstack을 호출하면 multi index의 마지막 차원이 없어지고\n",
    "대시 column이 늘어나는 것을 볼 수 있습니다."
   ]
  },
  {
   "cell_type": "code",
   "execution_count": 24,
   "id": "8600abc1-8280-4d59-a93c-f6554590e19c",
   "metadata": {
    "tags": []
   },
   "outputs": [
    {
     "data": {
      "text/html": [
       "<div>\n",
       "<style scoped>\n",
       "    .dataframe tbody tr th:only-of-type {\n",
       "        vertical-align: middle;\n",
       "    }\n",
       "\n",
       "    .dataframe tbody tr th {\n",
       "        vertical-align: top;\n",
       "    }\n",
       "\n",
       "    .dataframe thead tr th {\n",
       "        text-align: left;\n",
       "    }\n",
       "\n",
       "    .dataframe thead tr:last-of-type th {\n",
       "        text-align: right;\n",
       "    }\n",
       "</style>\n",
       "<table border=\"1\" class=\"dataframe\">\n",
       "  <thead>\n",
       "    <tr>\n",
       "      <th></th>\n",
       "      <th colspan=\"2\" halign=\"left\">Profit</th>\n",
       "      <th colspan=\"2\" halign=\"left\">Revenue</th>\n",
       "    </tr>\n",
       "    <tr>\n",
       "      <th>Quarter</th>\n",
       "      <th>1</th>\n",
       "      <th>2</th>\n",
       "      <th>1</th>\n",
       "      <th>2</th>\n",
       "    </tr>\n",
       "    <tr>\n",
       "      <th>Year</th>\n",
       "      <th></th>\n",
       "      <th></th>\n",
       "      <th></th>\n",
       "      <th></th>\n",
       "    </tr>\n",
       "  </thead>\n",
       "  <tbody>\n",
       "    <tr>\n",
       "      <th>2019</th>\n",
       "      <td>20</td>\n",
       "      <td>25</td>\n",
       "      <td>100</td>\n",
       "      <td>120</td>\n",
       "    </tr>\n",
       "    <tr>\n",
       "      <th>2020</th>\n",
       "      <td>22</td>\n",
       "      <td>28</td>\n",
       "      <td>110</td>\n",
       "      <td>130</td>\n",
       "    </tr>\n",
       "    <tr>\n",
       "      <th>2021</th>\n",
       "      <td>24</td>\n",
       "      <td>30</td>\n",
       "      <td>120</td>\n",
       "      <td>140</td>\n",
       "    </tr>\n",
       "  </tbody>\n",
       "</table>\n",
       "</div>"
      ],
      "text/plain": [
       "        Profit     Revenue     \n",
       "Quarter      1   2       1    2\n",
       "Year                           \n",
       "2019        20  25     100  120\n",
       "2020        22  28     110  130\n",
       "2021        24  30     120  140"
      ]
     },
     "execution_count": 24,
     "metadata": {},
     "output_type": "execute_result"
    }
   ],
   "source": [
    "s.unstack().unstack()"
   ]
  },
  {
   "cell_type": "raw",
   "id": "eb42e0ed-e275-4570-b228-0d45d5419634",
   "metadata": {},
   "source": [
    "이번에는 melt() 함수에 대해서 알아보도록 하겠습니다.\n",
    "\n",
    "melt()`는 데이터프레임의 `컬럼들`을 `정리`하여 컬럼의 수를 줄이고\n",
    "대신 데이터프레임의 행이 길어지도록 으로 변환합니다.\n",
    "\n",
    "melt() 메서드는 주로 데이터베이스의 `'정규화(normalization)'` 개념과 관련이 있습니다.  \n",
    "melt()는 pivot_table 과는 반대되는 개념이라서\n",
    "melt() 한 결과는 pivot_table 을 활용하여 복원할 수 있고,\n",
    "pivot_table을 호출한 결과는 melt()를 통해서 복원할 수 있습니다."
   ]
  },
  {
   "cell_type": "markdown",
   "id": "18950d04-626a-4eff-b3e5-3a1c347cc27c",
   "metadata": {},
   "source": [
    "# melt()\n",
    "\n",
    "`melt()`는 데이터프레임의 `컬럼들`을 `정리`하여   \n",
    "`'긴 형식(long format)'`으로 변환하는 기능을 제공하는 판다스 메서드입니다.   \n",
    "이를 통해 데이터프레임의 `컬럼`들을 `유지`하면서  \n",
    "특정 컬럼들을 행으로 '녹여내어' 새로운 데이터프레임을 생성합니다.\n",
    "\n",
    "melt() 메서드는 주로 데이터베이스의 `'정규화(normalization)'` 개념과 관련이 있습니다.  \n",
    "원래 `넓은 형식(wide format)`으로 되어있는 데이터프레임을 정리하여  \n",
    "`긴 형식`으로 변환하는 작업을 수행합니다.  \n",
    "melt() 메서드의 기본적인 사용 방법은 다음과 같습니다:\n",
    "\n",
    "```python\n",
    "pd.melt(\n",
    "    df, id_vars=['고정 컬럼1', '고정 컬럼2', ...], \n",
    "    value_vars=['녹여낼 컬럼1', '녹여낼 컬럼2', ...], \n",
    "    var_name='새로운 열 이름', \n",
    "    value_name='새로운 값 이름'\n",
    ")\n",
    "```\n",
    "\n",
    "- `df`: 대상 데이터프레임\n",
    "- `id_vars`: 유지할 컬럼들의 리스트. 이 컬럼들은 기존 데이터프레임에 그대로 남아있습니다.\n",
    "- `value_vars`: 녹여낼 컬럼들의 리스트. 이 컬럼들의 값들이 '녹여내어' 새로운 열과 값을 형성합니다.\n",
    "- `var_name`: '녹여낸 컬럼들'을 나타내는 열의 이름을 지정합니다.\n",
    "- `value_name`: '녹여낸 컬럼들'에 해당하는 값들을 나타내는 열의 이름을 지정합니다.\n"
   ]
  },
  {
   "cell_type": "raw",
   "id": "da55455a-ae7f-41e3-824d-fd4260f89cf6",
   "metadata": {},
   "source": [
    "예제 코드를 통해서 자세히 살펴보도록 하겠습니다.\n",
    "예제코드를 위한 데이터 프레임을 만들어 보겠습니다."
   ]
  },
  {
   "cell_type": "code",
   "execution_count": 25,
   "id": "dea93db4-20c5-4fbd-be4a-1025d445e591",
   "metadata": {
    "tags": []
   },
   "outputs": [
    {
     "data": {
      "text/html": [
       "<div>\n",
       "<style scoped>\n",
       "    .dataframe tbody tr th:only-of-type {\n",
       "        vertical-align: middle;\n",
       "    }\n",
       "\n",
       "    .dataframe tbody tr th {\n",
       "        vertical-align: top;\n",
       "    }\n",
       "\n",
       "    .dataframe thead th {\n",
       "        text-align: right;\n",
       "    }\n",
       "</style>\n",
       "<table border=\"1\" class=\"dataframe\">\n",
       "  <thead>\n",
       "    <tr style=\"text-align: right;\">\n",
       "      <th></th>\n",
       "      <th>Name</th>\n",
       "      <th>Math</th>\n",
       "      <th>Science</th>\n",
       "      <th>English</th>\n",
       "    </tr>\n",
       "  </thead>\n",
       "  <tbody>\n",
       "    <tr>\n",
       "      <th>0</th>\n",
       "      <td>Alice</td>\n",
       "      <td>90</td>\n",
       "      <td>85</td>\n",
       "      <td>80</td>\n",
       "    </tr>\n",
       "    <tr>\n",
       "      <th>1</th>\n",
       "      <td>Bob</td>\n",
       "      <td>85</td>\n",
       "      <td>92</td>\n",
       "      <td>88</td>\n",
       "    </tr>\n",
       "    <tr>\n",
       "      <th>2</th>\n",
       "      <td>Charlie</td>\n",
       "      <td>78</td>\n",
       "      <td>80</td>\n",
       "      <td>75</td>\n",
       "    </tr>\n",
       "  </tbody>\n",
       "</table>\n",
       "</div>"
      ],
      "text/plain": [
       "      Name  Math  Science  English\n",
       "0    Alice    90       85       80\n",
       "1      Bob    85       92       88\n",
       "2  Charlie    78       80       75"
      ]
     },
     "execution_count": 25,
     "metadata": {},
     "output_type": "execute_result"
    }
   ],
   "source": [
    "import pandas as pd\n",
    "\n",
    "# 원본 데이터프레임 생성 예제\n",
    "data = {\n",
    "    'Name': ['Alice', 'Bob', 'Charlie'],\n",
    "    'Math': [90, 85, 78],\n",
    "    'Science': [85, 92, 80],\n",
    "    'English': [80, 88, 75],\n",
    "}\n",
    "\n",
    "df = pd.DataFrame(data)\n",
    "df\n"
   ]
  },
  {
   "cell_type": "raw",
   "id": "50385385-b38a-46c1-8204-277e893f1e7e",
   "metadata": {},
   "source": [
    "위의 데이터 프레임은 사람별로 점수가 집계되어 형태 인데,\n",
    "사람, 과목, 점수의 형식을 가지고 있는 데이터로 변환해보도록 하겠습니다."
   ]
  },
  {
   "cell_type": "raw",
   "id": "31a3c7b3-ac5a-4697-bb32-a79d182bfeed",
   "metadata": {},
   "source": [
    "이때 사람 이 기준이므로 id_vars는 Name 칼럼이름을 입력하고\n",
    "value가 될 columns는 각 과목펼 점수이므로 \n",
    "value_vars 파리미터에 \"Math, Science,English의 칼럼이름들을 배열의 형태로 넣어줍니다.\n",
    "그리고 해당 칼럼이름들이 값으로 들어가게 될 컬럼의 이름을 var_name 파리미터와 함께 넣어줍니다.\n",
    "그리고 실제 값이 이 들어가 컬럼의 이름을 value_name 이라는 파라미터와 함께 넣어줍니다."
   ]
  },
  {
   "cell_type": "code",
   "execution_count": 26,
   "id": "82dc6d7f-d0d4-47f0-9689-3576b44319d8",
   "metadata": {
    "tags": []
   },
   "outputs": [
    {
     "data": {
      "text/html": [
       "<div>\n",
       "<style scoped>\n",
       "    .dataframe tbody tr th:only-of-type {\n",
       "        vertical-align: middle;\n",
       "    }\n",
       "\n",
       "    .dataframe tbody tr th {\n",
       "        vertical-align: top;\n",
       "    }\n",
       "\n",
       "    .dataframe thead th {\n",
       "        text-align: right;\n",
       "    }\n",
       "</style>\n",
       "<table border=\"1\" class=\"dataframe\">\n",
       "  <thead>\n",
       "    <tr style=\"text-align: right;\">\n",
       "      <th></th>\n",
       "      <th>Name</th>\n",
       "      <th>Subject</th>\n",
       "      <th>Score</th>\n",
       "    </tr>\n",
       "  </thead>\n",
       "  <tbody>\n",
       "    <tr>\n",
       "      <th>0</th>\n",
       "      <td>Alice</td>\n",
       "      <td>Math</td>\n",
       "      <td>90</td>\n",
       "    </tr>\n",
       "    <tr>\n",
       "      <th>1</th>\n",
       "      <td>Bob</td>\n",
       "      <td>Math</td>\n",
       "      <td>85</td>\n",
       "    </tr>\n",
       "    <tr>\n",
       "      <th>2</th>\n",
       "      <td>Charlie</td>\n",
       "      <td>Math</td>\n",
       "      <td>78</td>\n",
       "    </tr>\n",
       "    <tr>\n",
       "      <th>3</th>\n",
       "      <td>Alice</td>\n",
       "      <td>Science</td>\n",
       "      <td>85</td>\n",
       "    </tr>\n",
       "    <tr>\n",
       "      <th>4</th>\n",
       "      <td>Bob</td>\n",
       "      <td>Science</td>\n",
       "      <td>92</td>\n",
       "    </tr>\n",
       "    <tr>\n",
       "      <th>5</th>\n",
       "      <td>Charlie</td>\n",
       "      <td>Science</td>\n",
       "      <td>80</td>\n",
       "    </tr>\n",
       "    <tr>\n",
       "      <th>6</th>\n",
       "      <td>Alice</td>\n",
       "      <td>English</td>\n",
       "      <td>80</td>\n",
       "    </tr>\n",
       "    <tr>\n",
       "      <th>7</th>\n",
       "      <td>Bob</td>\n",
       "      <td>English</td>\n",
       "      <td>88</td>\n",
       "    </tr>\n",
       "    <tr>\n",
       "      <th>8</th>\n",
       "      <td>Charlie</td>\n",
       "      <td>English</td>\n",
       "      <td>75</td>\n",
       "    </tr>\n",
       "  </tbody>\n",
       "</table>\n",
       "</div>"
      ],
      "text/plain": [
       "      Name  Subject  Score\n",
       "0    Alice     Math     90\n",
       "1      Bob     Math     85\n",
       "2  Charlie     Math     78\n",
       "3    Alice  Science     85\n",
       "4      Bob  Science     92\n",
       "5  Charlie  Science     80\n",
       "6    Alice  English     80\n",
       "7      Bob  English     88\n",
       "8  Charlie  English     75"
      ]
     },
     "execution_count": 26,
     "metadata": {},
     "output_type": "execute_result"
    }
   ],
   "source": [
    "pd.melt(df, id_vars='Name', value_vars=['Math', 'Science', 'English'], var_name='Subject', value_name='Score')"
   ]
  },
  {
   "cell_type": "raw",
   "id": "9d3eae5d-32d7-4202-9f95-ae0d8f9f22e4",
   "metadata": {},
   "source": [
    "위의 코드를 실행시켜 보면, 사람, 과목, 점수 의 형태로 행이 줄어들고 열이 늘어나는 방향으로\n",
    "데이터프레임의 형태바 변경된 것을 확인할 수 있습니다."
   ]
  },
  {
   "cell_type": "raw",
   "id": "2ef45aaa-7390-4022-b40f-659cf8948ace",
   "metadata": {},
   "source": [
    "이 경우 새로생성된 데이터프레임의 Subject 열은 명목형 데이터이고\n",
    "Score는 수치형 데이터이므로\n",
    "pivot_table함수를 통해서  melt이전의 형태로 변경할 수 있습니다.\n",
    "단 column 명의 순서나 index의 이름은 이전과 동일하지 않을 수 있습니다."
   ]
  },
  {
   "cell_type": "code",
   "execution_count": 27,
   "id": "11c16912-123a-4909-a775-d49120fa74f9",
   "metadata": {
    "tags": []
   },
   "outputs": [
    {
     "data": {
      "text/html": [
       "<div>\n",
       "<style scoped>\n",
       "    .dataframe tbody tr th:only-of-type {\n",
       "        vertical-align: middle;\n",
       "    }\n",
       "\n",
       "    .dataframe tbody tr th {\n",
       "        vertical-align: top;\n",
       "    }\n",
       "\n",
       "    .dataframe thead th {\n",
       "        text-align: right;\n",
       "    }\n",
       "</style>\n",
       "<table border=\"1\" class=\"dataframe\">\n",
       "  <thead>\n",
       "    <tr style=\"text-align: right;\">\n",
       "      <th>Subject</th>\n",
       "      <th>English</th>\n",
       "      <th>Math</th>\n",
       "      <th>Science</th>\n",
       "    </tr>\n",
       "    <tr>\n",
       "      <th>Name</th>\n",
       "      <th></th>\n",
       "      <th></th>\n",
       "      <th></th>\n",
       "    </tr>\n",
       "  </thead>\n",
       "  <tbody>\n",
       "    <tr>\n",
       "      <th>Alice</th>\n",
       "      <td>80</td>\n",
       "      <td>90</td>\n",
       "      <td>85</td>\n",
       "    </tr>\n",
       "    <tr>\n",
       "      <th>Bob</th>\n",
       "      <td>88</td>\n",
       "      <td>85</td>\n",
       "      <td>92</td>\n",
       "    </tr>\n",
       "    <tr>\n",
       "      <th>Charlie</th>\n",
       "      <td>75</td>\n",
       "      <td>78</td>\n",
       "      <td>80</td>\n",
       "    </tr>\n",
       "  </tbody>\n",
       "</table>\n",
       "</div>"
      ],
      "text/plain": [
       "Subject  English  Math  Science\n",
       "Name                           \n",
       "Alice         80    90       85\n",
       "Bob           88    85       92\n",
       "Charlie       75    78       80"
      ]
     },
     "execution_count": 27,
     "metadata": {},
     "output_type": "execute_result"
    }
   ],
   "source": [
    "df2 = pd.melt(df, id_vars='Name', value_vars=['Math', 'Science', 'English'], var_name='Subject', value_name='Score')\n",
    "df2.pivot_table(index=\"Name\", columns=\"Subject\", values=\"Score\")"
   ]
  },
  {
   "cell_type": "raw",
   "id": "80d3ce43-dbd9-454b-a22e-5fc4ba71cb46",
   "metadata": {},
   "source": [
    "데이터프레임의 텍스트 데이터 가공은 데이터프레임의 텍스트 컬럼에 대해\n",
    "문자열을 조작, 변환하거나 특정 패턴을 검색하여 원하는 정보를 추출하는 작업을 의미합니다.\n",
    "텍스트 데이터 가공은 데이터 정제, 특정 정보 추출, 문자열 매칭, 토큰화(tokenization) 등\n",
    "다양한 용도로 사용될 수 있습니다.\n",
    "판다스에서는 데이터프레임의 텍스트 데이터 가공을 위해 다양한 메서드와 함수를 제공합니다."
   ]
  },
  {
   "cell_type": "markdown",
   "id": "167665e1-fec3-4fdb-8fc3-adaa6e95ec86",
   "metadata": {},
   "source": [
    "# 텍스트데이터 가공하기\n",
    "\n",
    "데이터프레임의 `텍스트 데이터 가공`은 데이터프레임의 `텍스트 컬럼`에 대해  \n",
    "문자열을 `조작`, `변환`하거나 특정 패턴을 `검색`하여 원하는 정보를 추출하는 작업을 의미합니다.  \n",
    "텍스트 데이터 가공은 데이터 정제, 특정 정보 추출, 문자열 매칭, 토큰화(tokenization) 등  \n",
    "다양한 용도로 사용될 수 있습니다.  \n",
    "판다스에서는 데이터프레임의 텍스트 데이터 가공을 위해 다양한 메서드와 함수를 제공합니다.\n",
    "\n",
    "텍스트 데이터 가공에 사용되는 판다스 메서드와 함수:\n",
    "| 함수명 | 설명 |\n",
    "|--|--|\n",
    "|str.contains()| 특정 문자열이 컬럼의 각 요소에 포함되어 있는지 여부를 검사합니다.|\n",
    "|str.startswith() 및  str.endswith()| 특정 문자열이 컬럼의 각 요소에 포함되어 있는지 여부를 검사합니다.|\n",
    "|str.replace()| 문자열에서 특정 패턴을 찾아 다른 문자열로 치환합니다.|\n",
    "|str.split()| 문자열을 지정된 구분자(delimiter)를 기준으로 분할하여 리스트로 반환합니다.|\n",
    "|str.extract()| 정규표현식을 사용하여 문자열에서 특정 패턴을 추출합니다.|\n",
    "|str.len()| 문자열의 길이를 계산합니다.|\n",
    "|str.lower() 및 str.upper()| 문자열을 소문자 또는 대문자로 변환합니다.|\n",
    "|str.strip(), str.lstrip(), str.rstrip()| 문자열의 앞뒤 공백을 제거합니다.|\n",
    "|str.join()| 문자열 리스트를 지정된 구분자로 결합합니다.|\n",
    "|str.cat()| 문자열 시리즈들을 결합하여 새로운 문자열 시리즈를 생성합니다.|\n",
    "|str.contains()| 특정 문자열이 컬럼의 각 요소에 포함되어 있는지 여부를 검사합니다.|\n",
    "|str.extract()| 문자열에서 정규표현식을 사용하여 특정 패턴을 추출합니다.|\n",
    "|str.findall()| 문자열에서 정규표현식을 사용하여 특정 패턴에 매칭되는 모든 부분 문자열을 리스트로 반환합니다.|\n",
    "\n"
   ]
  },
  {
   "cell_type": "raw",
   "id": "7ff7129e-8a92-4aec-ab88-06a918868c0d",
   "metadata": {},
   "source": [
    "판다스 시리즈에서의 문자열 처리 방식과 동일하므로 \n",
    "예제 코드를 통해서 간단하게 확인해보도록 하겠습니다.\n",
    "예제코드를 위한 데이터 프레임을 생성해보겠습니다."
   ]
  },
  {
   "cell_type": "code",
   "execution_count": 28,
   "id": "e19674c1-1811-4fe7-bacb-6bda68143ff4",
   "metadata": {
    "tags": []
   },
   "outputs": [
    {
     "data": {
      "text/html": [
       "<div>\n",
       "<style scoped>\n",
       "    .dataframe tbody tr th:only-of-type {\n",
       "        vertical-align: middle;\n",
       "    }\n",
       "\n",
       "    .dataframe tbody tr th {\n",
       "        vertical-align: top;\n",
       "    }\n",
       "\n",
       "    .dataframe thead th {\n",
       "        text-align: right;\n",
       "    }\n",
       "</style>\n",
       "<table border=\"1\" class=\"dataframe\">\n",
       "  <thead>\n",
       "    <tr style=\"text-align: right;\">\n",
       "      <th></th>\n",
       "      <th>Name</th>\n",
       "      <th>Description</th>\n",
       "    </tr>\n",
       "  </thead>\n",
       "  <tbody>\n",
       "    <tr>\n",
       "      <th>0</th>\n",
       "      <td>Alice</td>\n",
       "      <td>Student at XYZ University</td>\n",
       "    </tr>\n",
       "    <tr>\n",
       "      <th>1</th>\n",
       "      <td>Bob</td>\n",
       "      <td>Employee at ABC Corp</td>\n",
       "    </tr>\n",
       "    <tr>\n",
       "      <th>2</th>\n",
       "      <td>Charlie</td>\n",
       "      <td>Manager at DEF Inc</td>\n",
       "    </tr>\n",
       "  </tbody>\n",
       "</table>\n",
       "</div>"
      ],
      "text/plain": [
       "      Name                Description\n",
       "0    Alice  Student at XYZ University\n",
       "1      Bob       Employee at ABC Corp\n",
       "2  Charlie         Manager at DEF Inc"
      ]
     },
     "execution_count": 28,
     "metadata": {},
     "output_type": "execute_result"
    }
   ],
   "source": [
    "import pandas as pd\n",
    "\n",
    "data = {\n",
    "    'Name': ['Alice', 'Bob', 'Charlie'],\n",
    "    'Description': ['Student at XYZ University', 'Employee at ABC Corp', 'Manager at DEF Inc']\n",
    "}\n",
    "\n",
    "df = pd.DataFrame(data)\n",
    "df"
   ]
  },
  {
   "cell_type": "raw",
   "id": "d1f48451-8255-4ca2-8d62-a97bcd660241",
   "metadata": {},
   "source": [
    "다음은 'Description' 컬럼에서 'Student'를 포함하는 행을 필터링하는 예제입니다."
   ]
  },
  {
   "cell_type": "code",
   "execution_count": 29,
   "id": "57fbd843-16a0-406d-aff5-8ea2452d7995",
   "metadata": {
    "tags": []
   },
   "outputs": [
    {
     "data": {
      "text/html": [
       "<div>\n",
       "<style scoped>\n",
       "    .dataframe tbody tr th:only-of-type {\n",
       "        vertical-align: middle;\n",
       "    }\n",
       "\n",
       "    .dataframe tbody tr th {\n",
       "        vertical-align: top;\n",
       "    }\n",
       "\n",
       "    .dataframe thead th {\n",
       "        text-align: right;\n",
       "    }\n",
       "</style>\n",
       "<table border=\"1\" class=\"dataframe\">\n",
       "  <thead>\n",
       "    <tr style=\"text-align: right;\">\n",
       "      <th></th>\n",
       "      <th>Name</th>\n",
       "      <th>Description</th>\n",
       "    </tr>\n",
       "  </thead>\n",
       "  <tbody>\n",
       "    <tr>\n",
       "      <th>0</th>\n",
       "      <td>Alice</td>\n",
       "      <td>Student at XYZ University</td>\n",
       "    </tr>\n",
       "  </tbody>\n",
       "</table>\n",
       "</div>"
      ],
      "text/plain": [
       "    Name                Description\n",
       "0  Alice  Student at XYZ University"
      ]
     },
     "execution_count": 29,
     "metadata": {},
     "output_type": "execute_result"
    }
   ],
   "source": [
    "# 'Description' 컬럼에서 'Student'를 포함하는 행 선택\n",
    "df[df.Description.str.contains('Student')]"
   ]
  },
  {
   "cell_type": "raw",
   "id": "7915fe90-be46-43a2-8c11-6a95c713fb0b",
   "metadata": {},
   "source": [
    "'Description' 컬럼에서 role을 추출하여'Role' 컬럼 생성하는 예제입니다."
   ]
  },
  {
   "cell_type": "code",
   "execution_count": 30,
   "id": "62edd9b0-a78d-438e-8b12-2934aaeb90be",
   "metadata": {
    "tags": []
   },
   "outputs": [
    {
     "data": {
      "text/html": [
       "<div>\n",
       "<style scoped>\n",
       "    .dataframe tbody tr th:only-of-type {\n",
       "        vertical-align: middle;\n",
       "    }\n",
       "\n",
       "    .dataframe tbody tr th {\n",
       "        vertical-align: top;\n",
       "    }\n",
       "\n",
       "    .dataframe thead th {\n",
       "        text-align: right;\n",
       "    }\n",
       "</style>\n",
       "<table border=\"1\" class=\"dataframe\">\n",
       "  <thead>\n",
       "    <tr style=\"text-align: right;\">\n",
       "      <th></th>\n",
       "      <th>Name</th>\n",
       "      <th>Description</th>\n",
       "      <th>Role</th>\n",
       "    </tr>\n",
       "  </thead>\n",
       "  <tbody>\n",
       "    <tr>\n",
       "      <th>0</th>\n",
       "      <td>Alice</td>\n",
       "      <td>Student at XYZ University</td>\n",
       "      <td>Student</td>\n",
       "    </tr>\n",
       "    <tr>\n",
       "      <th>1</th>\n",
       "      <td>Bob</td>\n",
       "      <td>Employee at ABC Corp</td>\n",
       "      <td>Employee</td>\n",
       "    </tr>\n",
       "    <tr>\n",
       "      <th>2</th>\n",
       "      <td>Charlie</td>\n",
       "      <td>Manager at DEF Inc</td>\n",
       "      <td>Manager</td>\n",
       "    </tr>\n",
       "  </tbody>\n",
       "</table>\n",
       "</div>"
      ],
      "text/plain": [
       "      Name                Description      Role\n",
       "0    Alice  Student at XYZ University   Student\n",
       "1      Bob       Employee at ABC Corp  Employee\n",
       "2  Charlie         Manager at DEF Inc   Manager"
      ]
     },
     "execution_count": 30,
     "metadata": {},
     "output_type": "execute_result"
    }
   ],
   "source": [
    "# 'Description' 컬럼에서 role을 추출하여'Role' 컬럼 생성\n",
    "df['Role'] = df['Description'].str.split(' at ').str[0].str.strip()\n",
    "df"
   ]
  },
  {
   "cell_type": "raw",
   "id": "f3bb541e-d8c1-4715-94d4-70ebd194c4e8",
   "metadata": {},
   "source": [
    "이번에는 데이터프레임의 그룹연산에 대해서 알아보도록 하겠습니다.\n",
    "데이터프레임의 그룹연산은 데이터를 그룹으로 분할하여 각 그룹에 대해 특정 연산을 수행하는 기능을 말합니다.\n",
    "이를 통해 데이터를 특정 기준에 따라 그룹화하고, 그룹별로 집계, 변환, 필터링 등의 연산을 수행할 수 있습니다.\n",
    "\n",
    "그룹연산의 주요 단계는 아래와 같이 크게 3가지 단계로 구분할 수 있습니다.\n",
    "\n",
    "분할(Divide): 데이터를 기준에 따라 여러 그룹으로 분할합니다.\n",
    "적용(Apply): 각 그룹에 대해 원하는 연산을 적용합니다.\n",
    "결합(Combine): 연산 결과를 하나의 데이터로 결합하여 최종 결과를 생성합니다."
   ]
  },
  {
   "cell_type": "markdown",
   "id": "d795b67e-3692-47be-ac14-90229823e8f5",
   "metadata": {},
   "source": [
    "# 그룹연산\n",
    "\n",
    "\n",
    "데이터프레임의 그룹연산(GroupBy operation)은 데이터를 그룹으로 분할하여 각 그룹에 대해 특정 연산을 수행하는 기능을 말합니다.  \n",
    "이를 통해 데이터를 특정 기준에 따라 그룹화하고, 그룹별로 집계, 변환, 필터링 등의 연산을 수행할 수 있습니다.\n",
    "\n",
    "그룹연산의 주요 단계:\n",
    "\n",
    "- `분할(Divide)`: 데이터를 기준에 따라 여러 그룹으로 분할합니다.\n",
    "- `적용(Apply)`: 각 그룹에 대해 원하는 연산을 적용합니다.\n",
    "- `결합(Combine)`: 연산 결과를 하나의 데이터로 결합하여 최종 결과를 생성합니다.\n",
    "\n",
    "그룹연산에 사용되는 기능:\n",
    "\n",
    "|이름|설명|\n",
    "|--|--|\n",
    "|groupby()| 데이터를 그룹으로 분할하기 위해 사용하는 메서드입니다.|\n",
    "|agg()| 그룹연산에 대한 집계(aggregation) 함수를 적용할 때 사용합니다.|\n",
    "|transform()| 각 그룹에 대해 변환(transform) 연산을 수행할 때 사용합니다.|\n",
    "|filter()| 그룹을 필터링하여 특정 조건을 만족하는 그룹만 선택할 때 사용합니다.|"
   ]
  },
  {
   "cell_type": "raw",
   "id": "d4f988a1-85a1-4aac-b448-926b7e9af119",
   "metadata": {},
   "source": [
    "상세한 내용은 예제코드를 통해 살펴보도록 하겠습니다.\n",
    "예제코드르 위한 데이터프레임을 준비해보겠습니다.\n",
    "다음은 각 학교별 개설 과목에 대한 학생 수 및 평균점수입니다."
   ]
  },
  {
   "cell_type": "code",
   "execution_count": 31,
   "id": "8e598d16-1c0a-4021-8c08-7b28e3810cd7",
   "metadata": {
    "tags": []
   },
   "outputs": [
    {
     "data": {
      "text/html": [
       "<div>\n",
       "<style scoped>\n",
       "    .dataframe tbody tr th:only-of-type {\n",
       "        vertical-align: middle;\n",
       "    }\n",
       "\n",
       "    .dataframe tbody tr th {\n",
       "        vertical-align: top;\n",
       "    }\n",
       "\n",
       "    .dataframe thead th {\n",
       "        text-align: right;\n",
       "    }\n",
       "</style>\n",
       "<table border=\"1\" class=\"dataframe\">\n",
       "  <thead>\n",
       "    <tr style=\"text-align: right;\">\n",
       "      <th></th>\n",
       "      <th>Subject</th>\n",
       "      <th>Students</th>\n",
       "      <th>Score</th>\n",
       "    </tr>\n",
       "    <tr>\n",
       "      <th>School</th>\n",
       "      <th></th>\n",
       "      <th></th>\n",
       "      <th></th>\n",
       "    </tr>\n",
       "  </thead>\n",
       "  <tbody>\n",
       "    <tr>\n",
       "      <th>SW</th>\n",
       "      <td>Math</td>\n",
       "      <td>45</td>\n",
       "      <td>90</td>\n",
       "    </tr>\n",
       "    <tr>\n",
       "      <th>SW</th>\n",
       "      <td>Science</td>\n",
       "      <td>30</td>\n",
       "      <td>85</td>\n",
       "    </tr>\n",
       "    <tr>\n",
       "      <th>GM</th>\n",
       "      <td>Math</td>\n",
       "      <td>47</td>\n",
       "      <td>78</td>\n",
       "    </tr>\n",
       "    <tr>\n",
       "      <th>GM</th>\n",
       "      <td>Science</td>\n",
       "      <td>28</td>\n",
       "      <td>92</td>\n",
       "    </tr>\n",
       "    <tr>\n",
       "      <th>KP</th>\n",
       "      <td>Math</td>\n",
       "      <td>41</td>\n",
       "      <td>87</td>\n",
       "    </tr>\n",
       "    <tr>\n",
       "      <th>KP</th>\n",
       "      <td>English</td>\n",
       "      <td>70</td>\n",
       "      <td>80</td>\n",
       "    </tr>\n",
       "  </tbody>\n",
       "</table>\n",
       "</div>"
      ],
      "text/plain": [
       "        Subject  Students  Score\n",
       "School                          \n",
       "SW         Math        45     90\n",
       "SW      Science        30     85\n",
       "GM         Math        47     78\n",
       "GM      Science        28     92\n",
       "KP         Math        41     87\n",
       "KP      English        70     80"
      ]
     },
     "execution_count": 31,
     "metadata": {},
     "output_type": "execute_result"
    }
   ],
   "source": [
    "import pandas as pd\n",
    "\n",
    "# 예제 데이터 생성\n",
    "data = {\n",
    "    'School': [\"SW\", \"SW\", \"GM\", \"GM\", \"KP\", \"KP\"],\n",
    "    'Subject': ['Math', 'Science', 'Math', 'Science', 'Math', 'English'],\n",
    "    'Students': [45, 30, 47, 28, 41, 70],\n",
    "    'Score': [90, 85, 78, 92, 87, 80],\n",
    "}\n",
    "\n",
    "df = pd.DataFrame(data)\n",
    "df.set_index(\"School\", inplace=True)\n",
    "df"
   ]
  },
  {
   "cell_type": "raw",
   "id": "1dad72f5-a109-4111-97b9-127595a55c24",
   "metadata": {},
   "source": [
    "groupby함수를 활용하여 각 과목의 평균 점수를 계산해보도록 하겠습니다."
   ]
  },
  {
   "cell_type": "code",
   "execution_count": 32,
   "id": "b555f95c-7677-47b2-92d1-37c06ce20e9d",
   "metadata": {
    "tags": []
   },
   "outputs": [
    {
     "data": {
      "text/plain": [
       "Subject\n",
       "English    80.0\n",
       "Math       85.0\n",
       "Science    88.5\n",
       "Name: Score, dtype: float64"
      ]
     },
     "execution_count": 32,
     "metadata": {},
     "output_type": "execute_result"
    }
   ],
   "source": [
    "df.groupby('Subject')[\"Score\"].mean()"
   ]
  },
  {
   "cell_type": "raw",
   "id": "ead545b3-3c40-41cf-8721-24693932cd51",
   "metadata": {},
   "source": [
    "위 코드를 실행하면 각 과목별로 평균일 포함하는 시리즈객체가 생성됨을 확인할 수 있습니다."
   ]
  },
  {
   "cell_type": "raw",
   "id": "2bd99090-98af-4472-8d2c-353fe0125323",
   "metadata": {},
   "source": [
    "결과가 도출되는 과정에 대해서 위에서 언급한 분할/적용/결합의 관점에서 실펴보도록 하겠습니다."
   ]
  },
  {
   "cell_type": "raw",
   "id": "e0f89215-ffd9-419d-b1cb-894528ccf029",
   "metadata": {
    "tags": []
   },
   "source": [
    "# 분할\n",
    "grouped = df.groupby('Subject')\n",
    "for subject, group in grouped:\n",
    "    print(subject)\n",
    "    print(type(group))\n",
    "    print(group[\"Score\"], end=\"\\n\\n\")"
   ]
  },
  {
   "cell_type": "raw",
   "id": "e603465a-7ae9-4bb2-896d-858cd3f91d17",
   "metadata": {
    "tags": []
   },
   "source": [
    "# 분할\n",
    "grouped = df.groupby('Subject')\n",
    "for subject, group in grouped:\n",
    "    print(subject)\n",
    "    # print(group[\"Score\"])\n",
    "    \n",
    "    # 적용\n",
    "    print(group[\"Score\"].mean(), end=\"\\n\\n\")"
   ]
  },
  {
   "cell_type": "raw",
   "id": "6883c6b7-cbb3-461c-a68a-a2f2565a1065",
   "metadata": {
    "tags": []
   },
   "source": [
    "items = dict()\n",
    "# 분할\n",
    "grouped = df.groupby('Subject')\n",
    "for subject, group in grouped:\n",
    "    # print(subject)\n",
    "    # print(group[\"Score\"])\n",
    "    \n",
    "    # 적용\n",
    "    # print(group[\"Score\"].mean(), end=\"\\n\\n\")\n",
    "    \n",
    "    # 통합\n",
    "    items[f\"{subject}\"] = group[\"Score\"].mean()\n",
    "pd.Series(items)            "
   ]
  },
  {
   "cell_type": "raw",
   "id": "bca701ad-8801-438a-ad84-8b8311a299c4",
   "metadata": {},
   "source": [
    "만약 데이터프레임의 인덱스를 기준으로 그룹핑을 하려고 하면\n",
    "groupby()함수를 호출할때 df.index 파라미터를 넣어주면 됩니다."
   ]
  },
  {
   "cell_type": "code",
   "execution_count": 33,
   "id": "9befb839-4a8b-4b48-8244-2d1abdc7b926",
   "metadata": {
    "tags": []
   },
   "outputs": [
    {
     "data": {
      "text/plain": [
       "School\n",
       "GM    85.0\n",
       "KP    83.5\n",
       "SW    87.5\n",
       "Name: Score, dtype: float64"
      ]
     },
     "execution_count": 33,
     "metadata": {},
     "output_type": "execute_result"
    }
   ],
   "source": [
    "# school 별로 Score의 평균 구하기\n",
    "df.groupby(df.index)[\"Score\"].mean()"
   ]
  },
  {
   "cell_type": "raw",
   "id": "b69fa385-d44e-4199-836b-4a391252dac4",
   "metadata": {},
   "source": [
    "위의 코드를 실행하면 school 별로 Score의 평균을 확인할 수 있습니다."
   ]
  },
  {
   "cell_type": "raw",
   "id": "1749a06d-63ad-453b-8833-d7b09f67f644",
   "metadata": {},
   "source": [
    "agg() 메서드는 그룹화된 데이터에 대해 원하는 집계(aggregation) 함수를 적용하여 \n",
    "그룹별로 요약된 결과를 얻을 수 있습니다. \n",
    "이때 여러개의 집계함수를 동시에 적용할 수 있습니다."
   ]
  },
  {
   "cell_type": "raw",
   "id": "6fa8422d-745b-4a8d-a466-67a4c036e596",
   "metadata": {},
   "source": [
    "예제를 통해서 확인해보도록 하겠습니다."
   ]
  },
  {
   "cell_type": "markdown",
   "id": "0f9307ce-c86e-4127-82e8-62e8b0f55551",
   "metadata": {},
   "source": [
    "## agg() 활용\n",
    "agg() 메서드는 그룹화된 데이터에 대해 원하는 집계(aggregation) 함수를 적용하여 그룹별로 요약된 결과를 얻을 수 있습니다. \n",
    "\n",
    "| 이름 | 기능 |\n",
    "|--|--|\n",
    "|mean()| 평균을 계산합니다.|\n",
    "|sum()| 합계를 계산합니다.|\n",
    "|min()| 최소값을 찾습니다.|\n",
    "|max()| 최대값을 찾습니다.|\n",
    "|count()| 데이터의 개수를 세어줍니다.|\n",
    "|median()| 중앙값을 계산합니다.|\n",
    "|std()| 표준편차를 계산합니다.|\n",
    "|var()| 분산을 계산합니다.|\n",
    "|quantile(q)| q-분위수를 계산합니다. (0 <= q <= 1)|\n"
   ]
  },
  {
   "cell_type": "code",
   "execution_count": 34,
   "id": "0203640c-2f88-4173-968f-29b3b4da12f4",
   "metadata": {
    "tags": []
   },
   "outputs": [
    {
     "data": {
      "text/html": [
       "<div>\n",
       "<style scoped>\n",
       "    .dataframe tbody tr th:only-of-type {\n",
       "        vertical-align: middle;\n",
       "    }\n",
       "\n",
       "    .dataframe tbody tr th {\n",
       "        vertical-align: top;\n",
       "    }\n",
       "\n",
       "    .dataframe thead th {\n",
       "        text-align: right;\n",
       "    }\n",
       "</style>\n",
       "<table border=\"1\" class=\"dataframe\">\n",
       "  <thead>\n",
       "    <tr style=\"text-align: right;\">\n",
       "      <th></th>\n",
       "      <th>Subject</th>\n",
       "      <th>Students</th>\n",
       "      <th>Score</th>\n",
       "    </tr>\n",
       "    <tr>\n",
       "      <th>School</th>\n",
       "      <th></th>\n",
       "      <th></th>\n",
       "      <th></th>\n",
       "    </tr>\n",
       "  </thead>\n",
       "  <tbody>\n",
       "    <tr>\n",
       "      <th>SW</th>\n",
       "      <td>Math</td>\n",
       "      <td>45</td>\n",
       "      <td>90</td>\n",
       "    </tr>\n",
       "    <tr>\n",
       "      <th>SW</th>\n",
       "      <td>Science</td>\n",
       "      <td>30</td>\n",
       "      <td>85</td>\n",
       "    </tr>\n",
       "    <tr>\n",
       "      <th>GM</th>\n",
       "      <td>Math</td>\n",
       "      <td>47</td>\n",
       "      <td>78</td>\n",
       "    </tr>\n",
       "    <tr>\n",
       "      <th>GM</th>\n",
       "      <td>Science</td>\n",
       "      <td>28</td>\n",
       "      <td>92</td>\n",
       "    </tr>\n",
       "    <tr>\n",
       "      <th>KP</th>\n",
       "      <td>Math</td>\n",
       "      <td>41</td>\n",
       "      <td>87</td>\n",
       "    </tr>\n",
       "    <tr>\n",
       "      <th>KP</th>\n",
       "      <td>English</td>\n",
       "      <td>70</td>\n",
       "      <td>80</td>\n",
       "    </tr>\n",
       "  </tbody>\n",
       "</table>\n",
       "</div>"
      ],
      "text/plain": [
       "        Subject  Students  Score\n",
       "School                          \n",
       "SW         Math        45     90\n",
       "SW      Science        30     85\n",
       "GM         Math        47     78\n",
       "GM      Science        28     92\n",
       "KP         Math        41     87\n",
       "KP      English        70     80"
      ]
     },
     "execution_count": 34,
     "metadata": {},
     "output_type": "execute_result"
    }
   ],
   "source": [
    "import pandas as pd\n",
    "\n",
    "# 예제 데이터 생성\n",
    "data = {\n",
    "    'School': [\"SW\", \"SW\", \"GM\", \"GM\", \"KP\", \"KP\"],\n",
    "    'Subject': ['Math', 'Science', 'Math', 'Science', 'Math', 'English'],\n",
    "    'Students': [45, 30, 47, 28, 41, 70],\n",
    "    'Score': [90, 85, 78, 92, 87, 80],\n",
    "}\n",
    "\n",
    "df = pd.DataFrame(data)\n",
    "df.set_index(\"School\", inplace=True)\n",
    "df"
   ]
  },
  {
   "cell_type": "raw",
   "id": "b5310516-ee92-4b22-9aa0-12e077d82c99",
   "metadata": {},
   "source": [
    "'Subject'로 그룹화하여 각 과목의 평균, 합계, 최대 Score를 계산하기 위해서는\n",
    "groupby()를 호출한 후 집계대상 필드의 \"Score\"를 설정해주고\n",
    "agg흫 호출할때 집계함수들을 배열형태로 넣어주면 됩니다."
   ]
  },
  {
   "cell_type": "code",
   "execution_count": 35,
   "id": "b7e63e1b-d394-4146-a1f3-a3c7cd420acb",
   "metadata": {
    "tags": []
   },
   "outputs": [
    {
     "data": {
      "text/html": [
       "<div>\n",
       "<style scoped>\n",
       "    .dataframe tbody tr th:only-of-type {\n",
       "        vertical-align: middle;\n",
       "    }\n",
       "\n",
       "    .dataframe tbody tr th {\n",
       "        vertical-align: top;\n",
       "    }\n",
       "\n",
       "    .dataframe thead th {\n",
       "        text-align: right;\n",
       "    }\n",
       "</style>\n",
       "<table border=\"1\" class=\"dataframe\">\n",
       "  <thead>\n",
       "    <tr style=\"text-align: right;\">\n",
       "      <th></th>\n",
       "      <th>mean</th>\n",
       "      <th>std</th>\n",
       "      <th>max</th>\n",
       "    </tr>\n",
       "    <tr>\n",
       "      <th>Subject</th>\n",
       "      <th></th>\n",
       "      <th></th>\n",
       "      <th></th>\n",
       "    </tr>\n",
       "  </thead>\n",
       "  <tbody>\n",
       "    <tr>\n",
       "      <th>English</th>\n",
       "      <td>80.0</td>\n",
       "      <td>NaN</td>\n",
       "      <td>80</td>\n",
       "    </tr>\n",
       "    <tr>\n",
       "      <th>Math</th>\n",
       "      <td>85.0</td>\n",
       "      <td>6.244998</td>\n",
       "      <td>90</td>\n",
       "    </tr>\n",
       "    <tr>\n",
       "      <th>Science</th>\n",
       "      <td>88.5</td>\n",
       "      <td>4.949747</td>\n",
       "      <td>92</td>\n",
       "    </tr>\n",
       "  </tbody>\n",
       "</table>\n",
       "</div>"
      ],
      "text/plain": [
       "         mean       std  max\n",
       "Subject                     \n",
       "English  80.0       NaN   80\n",
       "Math     85.0  6.244998   90\n",
       "Science  88.5  4.949747   92"
      ]
     },
     "execution_count": 35,
     "metadata": {},
     "output_type": "execute_result"
    }
   ],
   "source": [
    "# 'Subject'로 그룹화하여 각 과목의 평균, 표준편차,, 최댓값을 계산\n",
    "df.groupby('Subject')[\"Score\"].agg(['mean', 'std', 'max'])"
   ]
  },
  {
   "cell_type": "raw",
   "id": "d4a9a71f-4bde-449c-b72b-b44985d21667",
   "metadata": {},
   "source": [
    "agg 함수의 파라미터로 배열 대신에 딕셔너리를 사용하면\n",
    "결과로 나오는 데이터프레임의 컬럼명을 지정하기에 용이합니다."
   ]
  },
  {
   "cell_type": "code",
   "execution_count": 36,
   "id": "533c99d5-2fb5-455a-94c0-9946f65f5290",
   "metadata": {
    "tags": []
   },
   "outputs": [
    {
     "data": {
      "text/html": [
       "<div>\n",
       "<style scoped>\n",
       "    .dataframe tbody tr th:only-of-type {\n",
       "        vertical-align: middle;\n",
       "    }\n",
       "\n",
       "    .dataframe tbody tr th {\n",
       "        vertical-align: top;\n",
       "    }\n",
       "\n",
       "    .dataframe thead th {\n",
       "        text-align: right;\n",
       "    }\n",
       "</style>\n",
       "<table border=\"1\" class=\"dataframe\">\n",
       "  <thead>\n",
       "    <tr style=\"text-align: right;\">\n",
       "      <th></th>\n",
       "      <th>Average</th>\n",
       "      <th>Stddev</th>\n",
       "      <th>Max</th>\n",
       "    </tr>\n",
       "    <tr>\n",
       "      <th>Subject</th>\n",
       "      <th></th>\n",
       "      <th></th>\n",
       "      <th></th>\n",
       "    </tr>\n",
       "  </thead>\n",
       "  <tbody>\n",
       "    <tr>\n",
       "      <th>English</th>\n",
       "      <td>80.0</td>\n",
       "      <td>NaN</td>\n",
       "      <td>80</td>\n",
       "    </tr>\n",
       "    <tr>\n",
       "      <th>Math</th>\n",
       "      <td>85.0</td>\n",
       "      <td>6.2</td>\n",
       "      <td>90</td>\n",
       "    </tr>\n",
       "    <tr>\n",
       "      <th>Science</th>\n",
       "      <td>88.5</td>\n",
       "      <td>4.9</td>\n",
       "      <td>92</td>\n",
       "    </tr>\n",
       "  </tbody>\n",
       "</table>\n",
       "</div>"
      ],
      "text/plain": [
       "         Average  Stddev  Max\n",
       "Subject                      \n",
       "English     80.0     NaN   80\n",
       "Math        85.0     6.2   90\n",
       "Science     88.5     4.9   92"
      ]
     },
     "execution_count": 36,
     "metadata": {},
     "output_type": "execute_result"
    }
   ],
   "source": [
    "# 'Subject'로 그룹화하여 각 과목의 평균, 표준편차,, 최댓값을 계산\n",
    "df.groupby('Subject')[\"Score\"].agg(\n",
    "    Average='mean', \n",
    "    Stddev='std', \n",
    "    Max='max'\n",
    ").round(1)\n"
   ]
  },
  {
   "cell_type": "raw",
   "id": "79abbdd3-2346-4af9-b020-6ca98246934d",
   "metadata": {},
   "source": [
    "결과를 확인해보면 agg에 들어간 딕셔너리의 키값이 각 열의 이름으로 되어 잇는 것을 확인할 수 있습니다.\n",
    "그리고 마지막에 round()를 호출해서 소숫점 자리를 조정할 수 있는 것도 기억해주세요."
   ]
  },
  {
   "cell_type": "raw",
   "id": "ceb5699c-eb1f-41ed-ab54-b5d876a68643",
   "metadata": {},
   "source": [
    "agg 함수 호출시 lambda도 사용할 수 있습니다."
   ]
  },
  {
   "cell_type": "code",
   "execution_count": 37,
   "id": "e5eb654f-ab69-4f14-b7f8-1b97da96a78f",
   "metadata": {
    "tags": []
   },
   "outputs": [
    {
     "data": {
      "text/html": [
       "<div>\n",
       "<style scoped>\n",
       "    .dataframe tbody tr th:only-of-type {\n",
       "        vertical-align: middle;\n",
       "    }\n",
       "\n",
       "    .dataframe tbody tr th {\n",
       "        vertical-align: top;\n",
       "    }\n",
       "\n",
       "    .dataframe thead th {\n",
       "        text-align: right;\n",
       "    }\n",
       "</style>\n",
       "<table border=\"1\" class=\"dataframe\">\n",
       "  <thead>\n",
       "    <tr style=\"text-align: right;\">\n",
       "      <th></th>\n",
       "      <th>Avgerage</th>\n",
       "      <th>Stddev</th>\n",
       "      <th>Range</th>\n",
       "    </tr>\n",
       "    <tr>\n",
       "      <th>Subject</th>\n",
       "      <th></th>\n",
       "      <th></th>\n",
       "      <th></th>\n",
       "    </tr>\n",
       "  </thead>\n",
       "  <tbody>\n",
       "    <tr>\n",
       "      <th>English</th>\n",
       "      <td>80.0</td>\n",
       "      <td>NaN</td>\n",
       "      <td>0</td>\n",
       "    </tr>\n",
       "    <tr>\n",
       "      <th>Math</th>\n",
       "      <td>85.0</td>\n",
       "      <td>6.244998</td>\n",
       "      <td>12</td>\n",
       "    </tr>\n",
       "    <tr>\n",
       "      <th>Science</th>\n",
       "      <td>88.5</td>\n",
       "      <td>4.949747</td>\n",
       "      <td>7</td>\n",
       "    </tr>\n",
       "  </tbody>\n",
       "</table>\n",
       "</div>"
      ],
      "text/plain": [
       "         Avgerage    Stddev  Range\n",
       "Subject                           \n",
       "English      80.0       NaN      0\n",
       "Math         85.0  6.244998     12\n",
       "Science      88.5  4.949747      7"
      ]
     },
     "execution_count": 37,
     "metadata": {},
     "output_type": "execute_result"
    }
   ],
   "source": [
    "# 'Subject'로 그룹화하여 각 과목의 평균, 표준편차, 최대-최소차이\n",
    "df.groupby('Subject').agg(\n",
    "    Avgerage=('Score', 'mean'),\n",
    "    Stddev=('Score','std'),\n",
    "    Range=('Score',lambda x: x.max()-x.min())\n",
    ")"
   ]
  },
  {
   "cell_type": "raw",
   "id": "2ab4a44d-c00c-422f-bea2-bfad154b5f51",
   "metadata": {},
   "source": [
    "groupby 이후에 별도로 필드를 지정하지 않고\n",
    "agg 함수를 호출할때 필드, 집계함수의 튜플의 형태로 전달하는 방법도 있습니다."
   ]
  },
  {
   "cell_type": "code",
   "execution_count": 38,
   "id": "d76c0a99-001a-4dd1-ad2a-7264716e9445",
   "metadata": {
    "tags": []
   },
   "outputs": [
    {
     "data": {
      "text/html": [
       "<div>\n",
       "<style scoped>\n",
       "    .dataframe tbody tr th:only-of-type {\n",
       "        vertical-align: middle;\n",
       "    }\n",
       "\n",
       "    .dataframe tbody tr th {\n",
       "        vertical-align: top;\n",
       "    }\n",
       "\n",
       "    .dataframe thead th {\n",
       "        text-align: right;\n",
       "    }\n",
       "</style>\n",
       "<table border=\"1\" class=\"dataframe\">\n",
       "  <thead>\n",
       "    <tr style=\"text-align: right;\">\n",
       "      <th></th>\n",
       "      <th>Avgerage</th>\n",
       "      <th>Stddev</th>\n",
       "      <th>Range</th>\n",
       "      <th>Average_Students</th>\n",
       "    </tr>\n",
       "    <tr>\n",
       "      <th>Subject</th>\n",
       "      <th></th>\n",
       "      <th></th>\n",
       "      <th></th>\n",
       "      <th></th>\n",
       "    </tr>\n",
       "  </thead>\n",
       "  <tbody>\n",
       "    <tr>\n",
       "      <th>English</th>\n",
       "      <td>80.0</td>\n",
       "      <td>NaN</td>\n",
       "      <td>0</td>\n",
       "      <td>70.000000</td>\n",
       "    </tr>\n",
       "    <tr>\n",
       "      <th>Math</th>\n",
       "      <td>85.0</td>\n",
       "      <td>6.244998</td>\n",
       "      <td>12</td>\n",
       "      <td>44.333333</td>\n",
       "    </tr>\n",
       "    <tr>\n",
       "      <th>Science</th>\n",
       "      <td>88.5</td>\n",
       "      <td>4.949747</td>\n",
       "      <td>7</td>\n",
       "      <td>29.000000</td>\n",
       "    </tr>\n",
       "  </tbody>\n",
       "</table>\n",
       "</div>"
      ],
      "text/plain": [
       "         Avgerage    Stddev  Range  Average_Students\n",
       "Subject                                             \n",
       "English      80.0       NaN      0         70.000000\n",
       "Math         85.0  6.244998     12         44.333333\n",
       "Science      88.5  4.949747      7         29.000000"
      ]
     },
     "execution_count": 38,
     "metadata": {},
     "output_type": "execute_result"
    }
   ],
   "source": [
    "# 'Subject'로 그룹화하여 필드별로 집계함수를 다르게 지정할 경우\n",
    "df.groupby('Subject').agg(\n",
    "    Avgerage=('Score', 'mean'),\n",
    "    Stddev=('Score','std'),\n",
    "    Range=('Score',lambda x: x.max()-x.min()),\n",
    "    Average_Students=('Students', 'mean')\n",
    ")"
   ]
  },
  {
   "cell_type": "raw",
   "id": "5ccf5d07-407d-44fd-a30e-6689a0828e72",
   "metadata": {},
   "source": [
    "이 경우 해당 필드마다 다른 집계함수가 적용된 결과를 확인할 수 있습니다."
   ]
  },
  {
   "cell_type": "raw",
   "id": "86bd0ef8-081b-4db0-8d86-93d79f6721e7",
   "metadata": {},
   "source": [
    "groupby() 호출이후 filter()는 각 그룹별로 조건을 적용하여 \n",
    "원하는 그룹만 선택하는 메서드입니다.\n",
    "filter()를 사용하면 그룹화된 데이터프레임에서 특정 조건을 만족하는 그룹만 추출할 수 있습니다."
   ]
  },
  {
   "cell_type": "markdown",
   "id": "f528a7dd-0b35-4a3d-9b01-e8dc2d268b04",
   "metadata": {},
   "source": [
    "## filter()\n",
    "\n",
    "groupby()의 `filter()`는 `그룹별`로 `조건`을 적용하여 `원하는 그룹`만 `선택`하는 메서드입니다.  \n",
    "filter()를 사용하면 그룹화된 데이터프레임에서 특정 조건을 만족하는 그룹만 추출할 수 있습니다."
   ]
  },
  {
   "cell_type": "code",
   "execution_count": 39,
   "id": "0dd7d529-67bc-40c6-b6a8-5ae2cf353095",
   "metadata": {
    "tags": []
   },
   "outputs": [
    {
     "data": {
      "text/html": [
       "<div>\n",
       "<style scoped>\n",
       "    .dataframe tbody tr th:only-of-type {\n",
       "        vertical-align: middle;\n",
       "    }\n",
       "\n",
       "    .dataframe tbody tr th {\n",
       "        vertical-align: top;\n",
       "    }\n",
       "\n",
       "    .dataframe thead th {\n",
       "        text-align: right;\n",
       "    }\n",
       "</style>\n",
       "<table border=\"1\" class=\"dataframe\">\n",
       "  <thead>\n",
       "    <tr style=\"text-align: right;\">\n",
       "      <th></th>\n",
       "      <th>Subject</th>\n",
       "      <th>Score</th>\n",
       "      <th>Year</th>\n",
       "    </tr>\n",
       "  </thead>\n",
       "  <tbody>\n",
       "    <tr>\n",
       "      <th>0</th>\n",
       "      <td>Math</td>\n",
       "      <td>90</td>\n",
       "      <td>2021</td>\n",
       "    </tr>\n",
       "    <tr>\n",
       "      <th>1</th>\n",
       "      <td>Science</td>\n",
       "      <td>85</td>\n",
       "      <td>2021</td>\n",
       "    </tr>\n",
       "    <tr>\n",
       "      <th>2</th>\n",
       "      <td>Math</td>\n",
       "      <td>78</td>\n",
       "      <td>2022</td>\n",
       "    </tr>\n",
       "    <tr>\n",
       "      <th>3</th>\n",
       "      <td>Science</td>\n",
       "      <td>92</td>\n",
       "      <td>2022</td>\n",
       "    </tr>\n",
       "    <tr>\n",
       "      <th>4</th>\n",
       "      <td>Math</td>\n",
       "      <td>87</td>\n",
       "      <td>2021</td>\n",
       "    </tr>\n",
       "    <tr>\n",
       "      <th>5</th>\n",
       "      <td>English</td>\n",
       "      <td>80</td>\n",
       "      <td>2022</td>\n",
       "    </tr>\n",
       "  </tbody>\n",
       "</table>\n",
       "</div>"
      ],
      "text/plain": [
       "   Subject  Score  Year\n",
       "0     Math     90  2021\n",
       "1  Science     85  2021\n",
       "2     Math     78  2022\n",
       "3  Science     92  2022\n",
       "4     Math     87  2021\n",
       "5  English     80  2022"
      ]
     },
     "execution_count": 39,
     "metadata": {},
     "output_type": "execute_result"
    }
   ],
   "source": [
    "import pandas as pd\n",
    "\n",
    "# 예제 데이터 생성\n",
    "data = {\n",
    "    'Subject': ['Math', 'Science', 'Math', 'Science', 'Math', 'English'],\n",
    "    'Score': [90, 85, 78, 92, 87, 80],\n",
    "    'Year': [2021, 2021, 2022, 2022, 2021, 2022]\n",
    "}\n",
    "\n",
    "df = pd.DataFrame(data)\n",
    "df"
   ]
  },
  {
   "cell_type": "raw",
   "id": "5ecc00cf-88a5-4fa5-9ce8-c47efcd787d6",
   "metadata": {},
   "source": [
    "다음은 평균이 85이상인 과목만 나타나도록 필터링하는 코드입니다."
   ]
  },
  {
   "cell_type": "code",
   "execution_count": 40,
   "id": "c07db785-fe05-45b0-a456-acb6d57b1fcd",
   "metadata": {
    "tags": []
   },
   "outputs": [
    {
     "data": {
      "text/html": [
       "<div>\n",
       "<style scoped>\n",
       "    .dataframe tbody tr th:only-of-type {\n",
       "        vertical-align: middle;\n",
       "    }\n",
       "\n",
       "    .dataframe tbody tr th {\n",
       "        vertical-align: top;\n",
       "    }\n",
       "\n",
       "    .dataframe thead th {\n",
       "        text-align: right;\n",
       "    }\n",
       "</style>\n",
       "<table border=\"1\" class=\"dataframe\">\n",
       "  <thead>\n",
       "    <tr style=\"text-align: right;\">\n",
       "      <th></th>\n",
       "      <th>Subject</th>\n",
       "      <th>Score</th>\n",
       "      <th>Year</th>\n",
       "    </tr>\n",
       "  </thead>\n",
       "  <tbody>\n",
       "    <tr>\n",
       "      <th>0</th>\n",
       "      <td>Math</td>\n",
       "      <td>90</td>\n",
       "      <td>2021</td>\n",
       "    </tr>\n",
       "    <tr>\n",
       "      <th>1</th>\n",
       "      <td>Science</td>\n",
       "      <td>85</td>\n",
       "      <td>2021</td>\n",
       "    </tr>\n",
       "    <tr>\n",
       "      <th>2</th>\n",
       "      <td>Math</td>\n",
       "      <td>78</td>\n",
       "      <td>2022</td>\n",
       "    </tr>\n",
       "    <tr>\n",
       "      <th>3</th>\n",
       "      <td>Science</td>\n",
       "      <td>92</td>\n",
       "      <td>2022</td>\n",
       "    </tr>\n",
       "    <tr>\n",
       "      <th>4</th>\n",
       "      <td>Math</td>\n",
       "      <td>87</td>\n",
       "      <td>2021</td>\n",
       "    </tr>\n",
       "  </tbody>\n",
       "</table>\n",
       "</div>"
      ],
      "text/plain": [
       "   Subject  Score  Year\n",
       "0     Math     90  2021\n",
       "1  Science     85  2021\n",
       "2     Math     78  2022\n",
       "3  Science     92  2022\n",
       "4     Math     87  2021"
      ]
     },
     "execution_count": 40,
     "metadata": {},
     "output_type": "execute_result"
    }
   ],
   "source": [
    "# 평균이 85이상인 과목만 나타나도록 필터링\n",
    "df.groupby('Subject').filter(lambda x: x['Score'].mean() >= 85)"
   ]
  },
  {
   "cell_type": "raw",
   "id": "ef96c764-ca0e-4d7d-9f09-94e90028fb2e",
   "metadata": {
    "tags": []
   },
   "source": [
    "확인해보면, English의 경우 평균 85점이상이 되지 않기 때문에\n",
    "해당 데이터는 나타나지 않습니다.\n",
    "df.groupby(\"Subject\")[\"Score\"].mean()"
   ]
  },
  {
   "cell_type": "raw",
   "id": "d5ace3b8-a89c-40da-b63b-c6af3719ad8f",
   "metadata": {},
   "source": [
    "이번에는 데이터 프레임에서 제공하는 주요 통계함수에 대해서 확인해보도록 하겠습니다.\n",
    "(아래내용 읽기)"
   ]
  },
  {
   "cell_type": "markdown",
   "id": "15961373-867d-44e6-b216-45dac481da92",
   "metadata": {},
   "source": [
    "# 통계함수\n",
    "\n",
    "|이름|기능|\n",
    "|--|--|\n",
    "|pct_change()| 시계열 데이터에서 이전 값과의 백분율 변화를 계산하는 메서드입니다. |\n",
    "|cov()|각 컬럼(또는 Series)들 간의 공분산(covariance)을 계산하는 메서드입니다. |\n",
    "|corr()| 데이터프레임에서 각 컬럼(또는 Series)들 간의 상관계수(correlation coefficient)를 계산하는 메서드입니다.|\n",
    "|rank()| 데이터프레임 내의 값들을 순위로 변환하는 메서드입니다. |"
   ]
  },
  {
   "cell_type": "raw",
   "id": "a7e515b1-d084-44cf-893e-6646c1121fb4",
   "metadata": {},
   "source": [
    "예제 코드를 통해서 살펴보도록 하겠습니다."
   ]
  },
  {
   "cell_type": "markdown",
   "id": "c24a880b-2004-4785-957e-2ba281c34ef3",
   "metadata": {},
   "source": [
    "## pct_change() \n",
    "`시계열 데이터`에서 `이전 값`과의 `백분율 변화`를 계산하는 메서드입니다.  \n",
    "이를 통해 데이터의 `상대적인 변화율`을 확인할 수 있습니다.  \n",
    "보통 주식 가격, 경제 지표, 시계열 데이터 등에서 주로 사용됩니다. "
   ]
  },
  {
   "cell_type": "raw",
   "id": "c99b3825-a566-40f4-b150-d918e9c9eebf",
   "metadata": {},
   "source": [
    "예제코드를 위한 데이터프레임을 생성해보도록 하겠습니다.\n",
    "이 데이터프레임은 일별로 책정된 가격을 나타내고 있습니다."
   ]
  },
  {
   "cell_type": "code",
   "execution_count": 41,
   "id": "df0af6e7-2ca4-491e-a666-5c72b6437534",
   "metadata": {
    "tags": []
   },
   "outputs": [
    {
     "data": {
      "text/html": [
       "<div>\n",
       "<style scoped>\n",
       "    .dataframe tbody tr th:only-of-type {\n",
       "        vertical-align: middle;\n",
       "    }\n",
       "\n",
       "    .dataframe tbody tr th {\n",
       "        vertical-align: top;\n",
       "    }\n",
       "\n",
       "    .dataframe thead th {\n",
       "        text-align: right;\n",
       "    }\n",
       "</style>\n",
       "<table border=\"1\" class=\"dataframe\">\n",
       "  <thead>\n",
       "    <tr style=\"text-align: right;\">\n",
       "      <th></th>\n",
       "      <th>Price</th>\n",
       "    </tr>\n",
       "    <tr>\n",
       "      <th>Date</th>\n",
       "      <th></th>\n",
       "    </tr>\n",
       "  </thead>\n",
       "  <tbody>\n",
       "    <tr>\n",
       "      <th>2021-01-01</th>\n",
       "      <td>100</td>\n",
       "    </tr>\n",
       "    <tr>\n",
       "      <th>2021-01-02</th>\n",
       "      <td>120</td>\n",
       "    </tr>\n",
       "    <tr>\n",
       "      <th>2021-01-03</th>\n",
       "      <td>150</td>\n",
       "    </tr>\n",
       "    <tr>\n",
       "      <th>2021-01-04</th>\n",
       "      <td>130</td>\n",
       "    </tr>\n",
       "    <tr>\n",
       "      <th>2021-01-05</th>\n",
       "      <td>140</td>\n",
       "    </tr>\n",
       "  </tbody>\n",
       "</table>\n",
       "</div>"
      ],
      "text/plain": [
       "            Price\n",
       "Date             \n",
       "2021-01-01    100\n",
       "2021-01-02    120\n",
       "2021-01-03    150\n",
       "2021-01-04    130\n",
       "2021-01-05    140"
      ]
     },
     "execution_count": 41,
     "metadata": {},
     "output_type": "execute_result"
    }
   ],
   "source": [
    "import pandas as pd\n",
    "\n",
    "# 예제 데이터 생성\n",
    "data = {\n",
    "    'Date': ['2021-01-01', '2021-01-02', '2021-01-03', '2021-01-04', '2021-01-05'],\n",
    "    'Price': [100, 120, 150, 130, 140]\n",
    "}\n",
    "\n",
    "df = pd.DataFrame(data)\n",
    "df['Date'] = pd.to_datetime(df['Date'])\n",
    "df.set_index('Date', inplace=True)\n",
    "df\n"
   ]
  },
  {
   "cell_type": "raw",
   "id": "1a52f53f-af50-4940-b961-619d480db2cc",
   "metadata": {},
   "source": [
    "pct_chage()메서드를 사용하면 이전값과의 백분률의 변화를 확인할 수 있습니다."
   ]
  },
  {
   "cell_type": "code",
   "execution_count": 42,
   "id": "473685b8-b550-4da4-9cf7-e9cf3e638b67",
   "metadata": {
    "tags": []
   },
   "outputs": [
    {
     "data": {
      "text/plain": [
       "Date\n",
       "2021-01-01         NaN\n",
       "2021-01-02    0.200000\n",
       "2021-01-03    0.250000\n",
       "2021-01-04   -0.133333\n",
       "2021-01-05    0.076923\n",
       "Name: Price, dtype: float64"
      ]
     },
     "execution_count": 42,
     "metadata": {},
     "output_type": "execute_result"
    }
   ],
   "source": [
    "df['Price'].pct_change()"
   ]
  },
  {
   "cell_type": "raw",
   "id": "e4141701-32cb-4bf1-86b6-85deccd5d30d",
   "metadata": {},
   "source": [
    "위 코드를 실행하면 일자별로 가격의 등/락 정보를 쉽게 확인할 수 있습니다."
   ]
  },
  {
   "cell_type": "raw",
   "id": "627e00b2-813e-4aca-b077-80ba55a98859",
   "metadata": {
    "tags": []
   },
   "source": [
    "df['Price'].pct_change().plot()"
   ]
  },
  {
   "cell_type": "raw",
   "id": "11924f73-b074-4d65-9a57-18cac052ee65",
   "metadata": {},
   "source": [
    "데이터프레임에서 각 `컬럼(또는 Series)`들 간의 `공분산(covariance)`을 계산하는 메서드입니다.  \n",
    "`공분산`은 두 변수의 `상관관계`를 나타내며, 두 변수가 함께 어떻게 변하는지를 나타내는 통계적 지표입니다."
   ]
  },
  {
   "cell_type": "markdown",
   "id": "067e6bb3-4e66-45c5-9948-91ff4cc42a4f",
   "metadata": {
    "tags": []
   },
   "source": [
    "## cov() \n",
    "데이터프레임에서 각 `컬럼(또는 Series)`들 간의 `공분산(covariance)`을 계산하는 메서드입니다.  \n",
    "`공분산`은 두 변수의 `상관관계`를 나타내며, 두 변수가 함께 어떻게 변하는지를 나타내는 통계적 지표입니다."
   ]
  },
  {
   "cell_type": "code",
   "execution_count": 43,
   "id": "7fa0b2c0-754c-417f-8b35-d505b1f30206",
   "metadata": {
    "tags": []
   },
   "outputs": [],
   "source": [
    "\n",
    "\n",
    "import pandas as pd\n",
    "\n",
    "# 예제 데이터 생성\n",
    "data = {\n",
    "    'A': [1, 2, 3, 4, 5],\n",
    "    'B': [5, 4, 3, 2, 1]\n",
    "}\n",
    "\n",
    "df = pd.DataFrame(data)"
   ]
  },
  {
   "cell_type": "code",
   "execution_count": 44,
   "id": "7f99adeb-d45b-44cd-8444-5dfea587ece1",
   "metadata": {
    "tags": []
   },
   "outputs": [
    {
     "data": {
      "text/html": [
       "<div>\n",
       "<style scoped>\n",
       "    .dataframe tbody tr th:only-of-type {\n",
       "        vertical-align: middle;\n",
       "    }\n",
       "\n",
       "    .dataframe tbody tr th {\n",
       "        vertical-align: top;\n",
       "    }\n",
       "\n",
       "    .dataframe thead th {\n",
       "        text-align: right;\n",
       "    }\n",
       "</style>\n",
       "<table border=\"1\" class=\"dataframe\">\n",
       "  <thead>\n",
       "    <tr style=\"text-align: right;\">\n",
       "      <th></th>\n",
       "      <th>A</th>\n",
       "      <th>B</th>\n",
       "    </tr>\n",
       "  </thead>\n",
       "  <tbody>\n",
       "    <tr>\n",
       "      <th>A</th>\n",
       "      <td>2.5</td>\n",
       "      <td>-2.5</td>\n",
       "    </tr>\n",
       "    <tr>\n",
       "      <th>B</th>\n",
       "      <td>-2.5</td>\n",
       "      <td>2.5</td>\n",
       "    </tr>\n",
       "  </tbody>\n",
       "</table>\n",
       "</div>"
      ],
      "text/plain": [
       "     A    B\n",
       "A  2.5 -2.5\n",
       "B -2.5  2.5"
      ]
     },
     "execution_count": 44,
     "metadata": {},
     "output_type": "execute_result"
    }
   ],
   "source": [
    "# column간 공분산\n",
    "df.cov()"
   ]
  },
  {
   "cell_type": "raw",
   "id": "6bdb7e3e-757b-4bc6-87e4-71054f704bed",
   "metadata": {},
   "source": [
    "(아래내용 읽기)"
   ]
  },
  {
   "cell_type": "markdown",
   "id": "a32acf7a-1c83-4c3e-8277-29307fe4b1c0",
   "metadata": {},
   "source": [
    "## corr() \n",
    "\n",
    "데이터프레임에서 각` 컬럼(또는 Series)들 간`의 `상관계수(correlation coefficient)`를 계산하는 메서드입니다.  \n",
    "상관계수는 두 변수 간의 선형 관계 정도를 나타내는 지표로, `-1`부터 `1`까지의 범위를 가집니다.\n",
    "\n",
    "***`method`:***\n",
    "- `'pearson'`: 피어슨 상관계수를 계산합니다 **(기본값)**.\n",
    "- `'kendall'`: 켄달의 타우 상관계수를 계산합니다.\n",
    "- `'spearman'`: 스피어맨 순위 상관계수를 계산합니다.\n"
   ]
  },
  {
   "cell_type": "code",
   "execution_count": 45,
   "id": "64cff5b7-2511-4b50-ab5a-e872ac8a469c",
   "metadata": {
    "tags": []
   },
   "outputs": [],
   "source": [
    "import pandas as pd\n",
    "\n",
    "# 예제 데이터 생성\n",
    "data = {\n",
    "    'A': [1, 2, 3, 4, 5],\n",
    "    'B': [5, 4, 3, 2, 1],\n",
    "    'C': [2, 3, 3, 4, 1],\n",
    "}\n",
    "\n",
    "df = pd.DataFrame(data)"
   ]
  },
  {
   "cell_type": "raw",
   "id": "66e5d86f-65c7-477b-a00f-82e9625e73e3",
   "metadata": {},
   "source": [
    "corr() 함수를 호출하면 해당 데이터프레임 내의 모든 컬럼에 대해서 pair-wise로 상관관계를 구하게 됩니다."
   ]
  },
  {
   "cell_type": "code",
   "execution_count": 46,
   "id": "068d73c8-824a-4292-82ec-aeda8aaf02f4",
   "metadata": {
    "tags": []
   },
   "outputs": [
    {
     "data": {
      "text/html": [
       "<div>\n",
       "<style scoped>\n",
       "    .dataframe tbody tr th:only-of-type {\n",
       "        vertical-align: middle;\n",
       "    }\n",
       "\n",
       "    .dataframe tbody tr th {\n",
       "        vertical-align: top;\n",
       "    }\n",
       "\n",
       "    .dataframe thead th {\n",
       "        text-align: right;\n",
       "    }\n",
       "</style>\n",
       "<table border=\"1\" class=\"dataframe\">\n",
       "  <thead>\n",
       "    <tr style=\"text-align: right;\">\n",
       "      <th></th>\n",
       "      <th>A</th>\n",
       "      <th>B</th>\n",
       "      <th>C</th>\n",
       "    </tr>\n",
       "  </thead>\n",
       "  <tbody>\n",
       "    <tr>\n",
       "      <th>A</th>\n",
       "      <td>1.000000</td>\n",
       "      <td>-1.000000</td>\n",
       "      <td>-0.138675</td>\n",
       "    </tr>\n",
       "    <tr>\n",
       "      <th>B</th>\n",
       "      <td>-1.000000</td>\n",
       "      <td>1.000000</td>\n",
       "      <td>0.138675</td>\n",
       "    </tr>\n",
       "    <tr>\n",
       "      <th>C</th>\n",
       "      <td>-0.138675</td>\n",
       "      <td>0.138675</td>\n",
       "      <td>1.000000</td>\n",
       "    </tr>\n",
       "  </tbody>\n",
       "</table>\n",
       "</div>"
      ],
      "text/plain": [
       "          A         B         C\n",
       "A  1.000000 -1.000000 -0.138675\n",
       "B -1.000000  1.000000  0.138675\n",
       "C -0.138675  0.138675  1.000000"
      ]
     },
     "execution_count": 46,
     "metadata": {},
     "output_type": "execute_result"
    }
   ],
   "source": [
    "# 'A', 'B', 'C` 컬럼 간의 상관계수 계산\n",
    "df.corr()"
   ]
  },
  {
   "cell_type": "raw",
   "id": "1ff1cbe4-400c-41ec-88f0-a6fe2fdc2788",
   "metadata": {},
   "source": [
    "method 파라미터를 통해 상관관계 분석 방법을 명시적으로 지저할 수 있습니다."
   ]
  },
  {
   "cell_type": "code",
   "execution_count": 47,
   "id": "98df8603-7879-4505-9dc6-850051a4ec62",
   "metadata": {
    "tags": []
   },
   "outputs": [
    {
     "name": "stdout",
     "output_type": "stream",
     "text": [
      "          A         B         C\n",
      "A  1.000000 -1.000000 -0.051299\n",
      "B -1.000000  1.000000  0.051299\n",
      "C -0.051299  0.051299  1.000000\n"
     ]
    }
   ],
   "source": [
    "# spearman 상관계수\n",
    "corr_matrix = df.corr(method='spearman')\n",
    "print(corr_matrix)"
   ]
  },
  {
   "cell_type": "raw",
   "id": "a0a051f3-5f70-4321-8720-d938d366a984",
   "metadata": {
    "tags": []
   },
   "source": [
    "이상으로 이번 강의를 마치도록 하겠습니다.\n",
    "수고하셨습니다."
   ]
  },
  {
   "cell_type": "code",
   "execution_count": null,
   "id": "4dc935e1-2a64-483d-99c9-a7a826b82e8c",
   "metadata": {},
   "outputs": [],
   "source": []
  }
 ],
 "metadata": {
  "kernelspec": {
   "display_name": "Python 3 (ipykernel)",
   "language": "python",
   "name": "python3"
  },
  "language_info": {
   "codemirror_mode": {
    "name": "ipython",
    "version": 3
   },
   "file_extension": ".py",
   "mimetype": "text/x-python",
   "name": "python",
   "nbconvert_exporter": "python",
   "pygments_lexer": "ipython3",
   "version": "3.10.11"
  }
 },
 "nbformat": 4,
 "nbformat_minor": 5
}
