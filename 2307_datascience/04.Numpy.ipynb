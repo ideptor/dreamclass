{
 "cells": [
  {
   "cell_type": "markdown",
   "id": "a4cffeb0-17e3-43b7-a462-9cc01a89abe3",
   "metadata": {},
   "source": [
    "# numpy 기본 \r\n",
    "- numpy 소개\r\n",
    "- ndarray(배열객체) 생성하기\r\n",
    "- numpy random 함수 예제\r\n",
    "- ndarray 의 데이터 타입\r\n",
    "- ndarray 주요 속성 및 메소드\r\n",
    "- indexing 과 slicing\r\n",
    "- ndarray 값 할당, 삭제, 추가\r\n",
    "- 정렬, 필터링\r\n",
    "- ndarray 연산\r\n",
    "- numpy.where()\r\n",
    "unsqueeze()"
   ]
  },
  {
   "cell_type": "markdown",
   "id": "dbf79d42-dbb1-465e-9878-08a6c76fe260",
   "metadata": {},
   "source": [
    "# numpy\n",
    "\n",
    "NumPy는 파이썬에서 `수치 계산`을 위한 핵심 라이브러리로서, `효율`적인 `다차원 배열`과 배열 기반의 수치 계산 기능을 제공합니다. NumPy는 `\"Numerical Python\"`의 줄임말로 알려져 있으며, 다차원 배열을 다루기 위한 강력한 함수와 도구를 제공하여 데이터 과학, 공학, 인공지능, 머신러닝 등 다양한 분야에서 매우 중요한 역할을 합니다.\n",
    "\n",
    "NumPy를 배워야 하는 이유는 다음과 같습니다:\n",
    "\n",
    "- `빠른 계산`: NumPy는 `C`로 구현된 다차원 배열을 사용하여 계산을 빠르게 수행합니다. 파이썬의 기본 리스트보다 훨씬 효율적으로 데이터를 다룰 수 있으며, `벡터화 연산`을 사용하여 `루프 없이` 배열에 대한 계산을 수행하여 빠른 실행 속도를 제공합니다.\n",
    "\n",
    "- `다차원 배열`: NumPy의 다차원 배열은 `파이썬 리스트보다 더 유연하고 강력한 기능`을 제공합니다. 다차원 배열을 사용하여 `행렬 연산`, `통계 계산`, `선형 대수` 등 다양한 수치 계산을 쉽게 처리할 수 있습니다.\n",
    "\n",
    "- `데이터 분석과 과학`: `데이터 분석`, `과학`, `머신러닝`, `딥러닝` 등 다양한 분야에서 NumPy는 기본적인 라이브러리로 자리 잡고 있습니다. NumPy를 배움으로써 데이터를 다루고 처리하는데 매우 유용한 기능을 습득할 수 있습니다.\n",
    "\n",
    "- `데이터 구조의 통일성`: NumPy의 다차원 배열은 데이터 구조의 통일성을 제공합니다. `모든 원소가 동일한 데이터 타입`을 갖는다는 특성 때문에 데이터를 효율적으로 저장하고 다룰 수 있으며, 데이터의 일관성을 유지할 수 있습니다.\n",
    "\n",
    "- `다른 라이브러리와 통합`: NumPy는 다른 파이썬 라이브러리와의 통합성이 뛰어나며, `SciPy`, `Matplotlib`, `Pandas` 등과 함께 사용하면 데이터 분석, 시각화, 과학 기술 계산 등을 더욱 효율적으로 수행할 수 있습니다.\n",
    "\n",
    "- `머신러닝과 딥러닝`: NumPy는 머신러닝과 딥러닝에서 자주 사용되는 라이브러리로서, 다양한 모델의 `데이터 전처리`와 학습을 위한 기능을 제공합니다. 따라서 데이터 과학과 머신러닝 분야에 관심이 있다면 NumPy를 배워두는 것이 유용합니다.\n",
    "\n"
   ]
  },
  {
   "cell_type": "markdown",
   "id": "a50c844c-9702-4f64-af6f-7313fbc04313",
   "metadata": {},
   "source": [
    "NumPy를 사용하기 위해서는 먼저 NumPy를 설치해야 합니다. 일반적으로 아래와 같은 방법으로 설치할 수 있습니다:\n",
    "\n",
    "```bash\n",
    "pip install numpy\n",
    "```"
   ]
  },
  {
   "cell_type": "code",
   "execution_count": null,
   "id": "2d82ccc2-38ee-4784-9160-3bcf2d60d8e1",
   "metadata": {},
   "outputs": [],
   "source": [
    "#!pip --trusted-host pypi.python.org --trusted-host download.pytorch.org --trusted-host pypi.org --trusted-host files.pythonhosted.org --proxy http://10.241.3.7:8080/ install pandas"
   ]
  },
  {
   "cell_type": "markdown",
   "id": "173bf71f-63a9-4ad6-8976-43190b575abd",
   "metadata": {},
   "source": [
    "## ndarray(배열객체) 생성하기"
   ]
  },
  {
   "cell_type": "code",
   "execution_count": 54,
   "id": "bf414bc9-e9f5-444f-a6c9-83f0844cfacb",
   "metadata": {
    "tags": []
   },
   "outputs": [],
   "source": [
    "\"\"\"\n",
    "리스트(list)로부터 ndarray 생성:\n",
    "\"\"\"\n",
    "import numpy as np\n",
    "\n",
    "# 1차원 배열 생성\n",
    "arr1 = np.array([1, 2, 3, 4, 5])\n",
    "\n",
    "# 2차원 배열 생성\n",
    "arr2 = np.array([[1, 2, 3], [4, 5, 6]])\n",
    "\n"
   ]
  },
  {
   "cell_type": "code",
   "execution_count": 55,
   "id": "0fdf1505-00ba-462c-96d1-ad82c63bcce2",
   "metadata": {},
   "outputs": [
    {
     "data": {
      "text/plain": [
       "array([1, 2, 3, 4, 5])"
      ]
     },
     "execution_count": 55,
     "metadata": {},
     "output_type": "execute_result"
    }
   ],
   "source": [
    "arr1"
   ]
  },
  {
   "cell_type": "code",
   "execution_count": 56,
   "id": "d541f104-5f2e-4662-ad7f-eb98e7b4442e",
   "metadata": {},
   "outputs": [
    {
     "data": {
      "text/plain": [
       "array([[1, 2, 3],\n",
       "       [4, 5, 6]])"
      ]
     },
     "execution_count": 56,
     "metadata": {},
     "output_type": "execute_result"
    }
   ],
   "source": [
    "arr2"
   ]
  },
  {
   "cell_type": "code",
   "execution_count": 57,
   "id": "229a70fc-1347-433a-8d47-720e5a264463",
   "metadata": {},
   "outputs": [
    {
     "data": {
      "text/plain": [
       "numpy.ndarray"
      ]
     },
     "execution_count": 57,
     "metadata": {},
     "output_type": "execute_result"
    }
   ],
   "source": [
    "type(arr2)"
   ]
  },
  {
   "cell_type": "code",
   "execution_count": 58,
   "id": "7ec21571-83d2-40d3-95c9-44472639065f",
   "metadata": {},
   "outputs": [
    {
     "data": {
      "text/plain": [
       "(2, 3)"
      ]
     },
     "execution_count": 58,
     "metadata": {},
     "output_type": "execute_result"
    }
   ],
   "source": [
    "arr2.shape"
   ]
  },
  {
   "cell_type": "code",
   "execution_count": 59,
   "id": "0ca6f781-baa4-4e0b-9367-809943f12336",
   "metadata": {},
   "outputs": [
    {
     "data": {
      "text/plain": [
       "6"
      ]
     },
     "execution_count": 59,
     "metadata": {},
     "output_type": "execute_result"
    }
   ],
   "source": [
    "arr2.size"
   ]
  },
  {
   "cell_type": "code",
   "execution_count": 60,
   "id": "080ca908-8b5e-4380-8658-f0408ff8d250",
   "metadata": {},
   "outputs": [
    {
     "data": {
      "text/plain": [
       "2"
      ]
     },
     "execution_count": 60,
     "metadata": {},
     "output_type": "execute_result"
    }
   ],
   "source": [
    "len(arr2)"
   ]
  },
  {
   "cell_type": "code",
   "execution_count": 61,
   "id": "0fcdc24d-6051-4317-919c-3aa1a7368a9d",
   "metadata": {},
   "outputs": [
    {
     "data": {
      "text/plain": [
       "3"
      ]
     },
     "execution_count": 61,
     "metadata": {},
     "output_type": "execute_result"
    }
   ],
   "source": [
    "len(arr2[0])"
   ]
  },
  {
   "cell_type": "code",
   "execution_count": 62,
   "id": "542d9896-e526-4166-80ca-915309f51f83",
   "metadata": {},
   "outputs": [
    {
     "data": {
      "text/plain": [
       "2"
      ]
     },
     "execution_count": 62,
     "metadata": {},
     "output_type": "execute_result"
    }
   ],
   "source": [
    "arr2.ndim"
   ]
  },
  {
   "cell_type": "code",
   "execution_count": 63,
   "id": "2c73a460-c064-4720-94bd-5abf7c765f39",
   "metadata": {},
   "outputs": [
    {
     "data": {
      "text/plain": [
       "array([0, 1, 2, 3, 4, 5, 6, 7, 8, 9])"
      ]
     },
     "execution_count": 63,
     "metadata": {},
     "output_type": "execute_result"
    }
   ],
   "source": [
    "\"\"\"\n",
    "범위 지정으로 ndarray 생성:\n",
    "\"\"\"\n",
    "import numpy as np\n",
    "\n",
    "np.arange(10)"
   ]
  },
  {
   "cell_type": "code",
   "execution_count": 66,
   "id": "299bc41b-165b-483b-b048-59f4419c9e55",
   "metadata": {},
   "outputs": [
    {
     "data": {
      "text/plain": [
       "array([[0, 1, 2],\n",
       "       [3, 4, 5],\n",
       "       [6, 7, 8]])"
      ]
     },
     "execution_count": 66,
     "metadata": {},
     "output_type": "execute_result"
    }
   ],
   "source": [
    "np.arange(9).reshape(3,3)"
   ]
  },
  {
   "cell_type": "code",
   "execution_count": 64,
   "id": "545b5176-f567-4062-9189-5a0cb5339e56",
   "metadata": {},
   "outputs": [
    {
     "data": {
      "text/plain": [
       "array([[0., 0., 0.],\n",
       "       [0., 0., 0.],\n",
       "       [0., 0., 0.]])"
      ]
     },
     "execution_count": 64,
     "metadata": {},
     "output_type": "execute_result"
    }
   ],
   "source": [
    "\"\"\"\n",
    "모든 원소가 0 또는 1인 ndarray 생성:\n",
    "\"\"\"\n",
    "import numpy as np\n",
    "\n",
    "np.zeros((3,3))"
   ]
  },
  {
   "cell_type": "code",
   "execution_count": 65,
   "id": "05610156-9419-44f6-a4b5-93bf1f1b7cf2",
   "metadata": {},
   "outputs": [
    {
     "data": {
      "text/plain": [
       "array([[1., 1., 1.],\n",
       "       [1., 1., 1.],\n",
       "       [1., 1., 1.]])"
      ]
     },
     "execution_count": 65,
     "metadata": {},
     "output_type": "execute_result"
    }
   ],
   "source": [
    "np.ones((3,3,))"
   ]
  },
  {
   "cell_type": "code",
   "execution_count": 67,
   "id": "f70e3487-bc25-4a35-a7fa-019e1945b294",
   "metadata": {},
   "outputs": [
    {
     "data": {
      "text/plain": [
       "array([0.        , 0.16666667, 0.33333333, 0.5       , 0.66666667,\n",
       "       0.83333333, 1.        ])"
      ]
     },
     "execution_count": 67,
     "metadata": {},
     "output_type": "execute_result"
    }
   ],
   "source": [
    "\"\"\"\n",
    "특정 범위 내에서 균등 간격으로 원소를 생성하는 ndarray:\n",
    "\"\"\"\n",
    "import numpy as np\n",
    "\n",
    "np.linspace(0,1,7)"
   ]
  },
  {
   "cell_type": "code",
   "execution_count": 68,
   "id": "f9c63eeb-b0bd-40e9-b7ae-03ced1db2fbd",
   "metadata": {},
   "outputs": [
    {
     "data": {
      "text/plain": [
       "array([[0.93470081, 0.71358458, 0.88546472],\n",
       "       [0.08163613, 0.02887823, 0.72328472],\n",
       "       [0.16541319, 0.49368657, 0.32791986]])"
      ]
     },
     "execution_count": 68,
     "metadata": {},
     "output_type": "execute_result"
    }
   ],
   "source": [
    "\"\"\"\n",
    "랜덤한 값을 갖는 ndarray 생성:\n",
    "\"\"\"\n",
    "import numpy as np\n",
    "\n",
    "np.random.rand(3,3)"
   ]
  },
  {
   "cell_type": "markdown",
   "id": "d048c913-436e-4147-8a3d-51d191fbbc1a",
   "metadata": {},
   "source": [
    "## numpy random 함수 예제"
   ]
  },
  {
   "cell_type": "code",
   "execution_count": 70,
   "id": "f670bc5b-5bb9-474a-9b9c-2170b6ac502e",
   "metadata": {},
   "outputs": [
    {
     "data": {
      "text/plain": [
       "array([0.36947924, 0.40416336, 0.56324044, 0.03760148, 0.687814  ,\n",
       "       0.38989957, 0.00363169, 0.78141484, 0.96837813, 0.75483735])"
      ]
     },
     "execution_count": 70,
     "metadata": {},
     "output_type": "execute_result"
    }
   ],
   "source": [
    "\"\"\"\n",
    "random.rand() 함수를 사용하여 0과 1 사이의 랜덤한 값으로 배열 생성:\n",
    "\"\"\"\n",
    "import numpy as np\n",
    "\n",
    "np.random.rand(10)"
   ]
  },
  {
   "cell_type": "code",
   "execution_count": 71,
   "id": "335cb34f-01ed-48fb-8a86-2f250d975376",
   "metadata": {},
   "outputs": [
    {
     "data": {
      "text/plain": [
       "array([[0.48192054, 0.08611826, 0.57969641, 0.92137982, 0.46909849],\n",
       "       [0.40637406, 0.64915944, 0.67250031, 0.1940048 , 0.15321991]])"
      ]
     },
     "execution_count": 71,
     "metadata": {},
     "output_type": "execute_result"
    }
   ],
   "source": [
    "np.random.rand(2,5)"
   ]
  },
  {
   "cell_type": "code",
   "execution_count": 72,
   "id": "21db319b-ee24-4cd6-8829-5fe7bbc45f4d",
   "metadata": {},
   "outputs": [
    {
     "data": {
      "text/plain": [
       "array([[[0.68678225, 0.78124059],\n",
       "        [0.03352903, 0.35861483],\n",
       "        [0.56669261, 0.09426528],\n",
       "        [0.96983541, 0.00449615],\n",
       "        [0.06217542, 0.56935708]],\n",
       "\n",
       "       [[0.99033665, 0.28242201],\n",
       "        [0.33841652, 0.92165016],\n",
       "        [0.95431136, 0.36415197],\n",
       "        [0.47476451, 0.56408654],\n",
       "        [0.23012164, 0.36957757]]])"
      ]
     },
     "execution_count": 72,
     "metadata": {},
     "output_type": "execute_result"
    }
   ],
   "source": [
    "np.random.rand(2,5,2)"
   ]
  },
  {
   "cell_type": "code",
   "execution_count": 73,
   "id": "a03e12aa-1519-4f74-80ae-ec68c1fc046b",
   "metadata": {},
   "outputs": [
    {
     "data": {
      "text/plain": [
       "array([2, 5, 7, 1, 6, 5, 5, 1, 3, 9, 5])"
      ]
     },
     "execution_count": 73,
     "metadata": {},
     "output_type": "execute_result"
    }
   ],
   "source": [
    "\"\"\"\n",
    "random.randint(low, high, size) 함수를 사용하여 정수형 랜덤 배열 생성:\n",
    "\"\"\"\n",
    "\n",
    "import numpy as np\n",
    "np.random.randint(1,10,11)"
   ]
  },
  {
   "cell_type": "code",
   "execution_count": 74,
   "id": "c4353858-bf9c-40d0-9801-293ce0f4e6a0",
   "metadata": {},
   "outputs": [
    {
     "data": {
      "text/plain": [
       "array([[[-1.43475365, -2.14324535],\n",
       "        [-1.00200694,  0.4804698 ]],\n",
       "\n",
       "       [[-0.60788674,  0.25139158],\n",
       "        [ 0.34089201,  0.31344771]]])"
      ]
     },
     "execution_count": 74,
     "metadata": {},
     "output_type": "execute_result"
    }
   ],
   "source": [
    "\"\"\"\n",
    "random.randn() 함수를 사용하여 평균이 0이고 표준 편차가 1인 랜덤 배열 생성:\n",
    "\"\"\"\n",
    "\n",
    "import numpy as np\n",
    "\n",
    "np.random.randn(2,2,2)"
   ]
  },
  {
   "cell_type": "code",
   "execution_count": 81,
   "id": "3c5efa49-e1f1-433f-a3f6-a2d6328975ab",
   "metadata": {},
   "outputs": [
    {
     "data": {
      "text/plain": [
       "array([10, 20, 20, 10])"
      ]
     },
     "execution_count": 81,
     "metadata": {},
     "output_type": "execute_result"
    }
   ],
   "source": [
    "\"\"\"\n",
    "random.choice() 함수를 사용하여 주어진 배열에서 랜덤한 값 선택:\n",
    "\"\"\"\n",
    "\n",
    "import numpy as np\n",
    "\n",
    "a = np.array([10,20,30])\n",
    "np.random.choice(a, 4)"
   ]
  },
  {
   "cell_type": "markdown",
   "id": "ec357a0b-65df-42e1-94fa-6518cde21c7a",
   "metadata": {},
   "source": [
    "## ndarray 의 데이터 타입\n",
    "\n",
    "NumPy의 ndarray는 업캐스팅과 object dtype을 활용하여 데이터 타입을 혼합하여 사용할 수 있습니다. 하지만 혼합된 데이터 타입을 사용하면 일부 NumPy의 기능이 제한될 수 있으며, 성능 면에서도 일반적인 ndarray보다 느릴 수 있으므로, 혼합된 데이터 타입을 사용하기 전에 장단점을 고려하여 사용해야 합니다. 일반적으로 **데이터 타입이 동일한** ndarray를 사용하는 것이 가장 효율적입니다."
   ]
  },
  {
   "cell_type": "code",
   "execution_count": 82,
   "id": "58d96668-1d7f-4a47-a90c-1ca0e404184e",
   "metadata": {},
   "outputs": [],
   "source": [
    "\"\"\"\n",
    "정수형 데이터 타입:\n",
    "\"\"\"\n",
    "import numpy as np\n",
    "\n",
    "a = np.array([1,2,3])"
   ]
  },
  {
   "cell_type": "code",
   "execution_count": 83,
   "id": "8dfb38f0-8a32-49e2-8566-4039a0c45d4a",
   "metadata": {},
   "outputs": [
    {
     "data": {
      "text/plain": [
       "dtype('int32')"
      ]
     },
     "execution_count": 83,
     "metadata": {},
     "output_type": "execute_result"
    }
   ],
   "source": [
    "a.dtype"
   ]
  },
  {
   "cell_type": "code",
   "execution_count": 84,
   "id": "38e6dc4c-afdf-4be7-aaaa-b2183f3eec0d",
   "metadata": {},
   "outputs": [],
   "source": [
    "a = np.array([1,2,3], dtype=np.int64)"
   ]
  },
  {
   "cell_type": "code",
   "execution_count": 85,
   "id": "e43fbedb-82a4-4128-b5a2-da0566078253",
   "metadata": {},
   "outputs": [
    {
     "data": {
      "text/plain": [
       "dtype('int64')"
      ]
     },
     "execution_count": 85,
     "metadata": {},
     "output_type": "execute_result"
    }
   ],
   "source": [
    "a.dtype"
   ]
  },
  {
   "cell_type": "code",
   "execution_count": 86,
   "id": "6bcb90c6-3432-43df-81a0-cb74c8cbdb17",
   "metadata": {},
   "outputs": [],
   "source": [
    "\"\"\"\n",
    "실수형 데이터 타입:\n",
    "\"\"\"\n",
    "import numpy as np\n",
    "\n",
    "f = np.array([1,2,3.0])"
   ]
  },
  {
   "cell_type": "code",
   "execution_count": 87,
   "id": "eb4fc364-c869-4c8c-a3cf-6704eb7a7a5c",
   "metadata": {},
   "outputs": [
    {
     "data": {
      "text/plain": [
       "dtype('float64')"
      ]
     },
     "execution_count": 87,
     "metadata": {},
     "output_type": "execute_result"
    }
   ],
   "source": [
    "f.dtype"
   ]
  },
  {
   "cell_type": "code",
   "execution_count": 88,
   "id": "2986e6c0-5cbc-41c9-8539-42da2460be2d",
   "metadata": {},
   "outputs": [],
   "source": [
    "f = np.array([1,2,3.0], dtype=np.float32)"
   ]
  },
  {
   "cell_type": "code",
   "execution_count": 89,
   "id": "4b44bb8f-438c-4a2d-bc89-a8d91a6e28f8",
   "metadata": {},
   "outputs": [
    {
     "data": {
      "text/plain": [
       "dtype('float32')"
      ]
     },
     "execution_count": 89,
     "metadata": {},
     "output_type": "execute_result"
    }
   ],
   "source": [
    "f.dtype"
   ]
  },
  {
   "cell_type": "code",
   "execution_count": 92,
   "id": "24257e70-bd76-43c9-a5c1-137e6819751d",
   "metadata": {},
   "outputs": [],
   "source": [
    "\"\"\"\n",
    "문자열 데이터 타입:\n",
    "\"\"\"\n",
    "import numpy as np\n",
    "\n",
    "a = np.array([\"a\", \"b\"], dtype=\"<U4\")\n"
   ]
  },
  {
   "cell_type": "code",
   "execution_count": 93,
   "id": "2bd8dea4-54fe-42db-b414-089fb8e8f628",
   "metadata": {},
   "outputs": [
    {
     "data": {
      "text/plain": [
       "dtype('<U4')"
      ]
     },
     "execution_count": 93,
     "metadata": {},
     "output_type": "execute_result"
    }
   ],
   "source": [
    "a.dtype"
   ]
  },
  {
   "cell_type": "code",
   "execution_count": null,
   "id": "64e48c9d-a331-4632-aabe-682f8197fa91",
   "metadata": {},
   "outputs": [],
   "source": []
  },
  {
   "cell_type": "code",
   "execution_count": 94,
   "id": "3e17b3b0-5254-48d2-b590-1a08a6d73317",
   "metadata": {},
   "outputs": [
    {
     "data": {
      "text/plain": [
       "dtype('bool')"
      ]
     },
     "execution_count": 94,
     "metadata": {},
     "output_type": "execute_result"
    }
   ],
   "source": [
    "\"\"\"\n",
    "불리언 데이터 타입:\n",
    "\"\"\"\n",
    "import numpy as np\n",
    "\n",
    "a = np.array([True, False])\n",
    "a.dtype"
   ]
  },
  {
   "cell_type": "code",
   "execution_count": 99,
   "id": "31760a8d-2812-4b32-882d-a0cdb2e5382a",
   "metadata": {},
   "outputs": [],
   "source": [
    "\"\"\"\n",
    "복소수형 데이터 타입:\n",
    "\"\"\"\n",
    "import numpy as np\n",
    "a = np.array([1+4j, 2+4j])"
   ]
  },
  {
   "cell_type": "code",
   "execution_count": 100,
   "id": "675ad8a3-064b-49b8-873f-4b21ed148f67",
   "metadata": {},
   "outputs": [
    {
     "data": {
      "text/plain": [
       "dtype('complex128')"
      ]
     },
     "execution_count": 100,
     "metadata": {},
     "output_type": "execute_result"
    }
   ],
   "source": [
    "a.dtype"
   ]
  },
  {
   "cell_type": "code",
   "execution_count": 96,
   "id": "bfcda2fc-b975-4016-a0cc-2100377922cd",
   "metadata": {},
   "outputs": [],
   "source": [
    "a = 1 + 4j"
   ]
  },
  {
   "cell_type": "code",
   "execution_count": 97,
   "id": "5b3d7975-43d5-4f0f-ad3b-7a7062754e78",
   "metadata": {},
   "outputs": [
    {
     "data": {
      "text/plain": [
       "complex"
      ]
     },
     "execution_count": 97,
     "metadata": {},
     "output_type": "execute_result"
    }
   ],
   "source": [
    "type(a)"
   ]
  },
  {
   "cell_type": "markdown",
   "id": "bc4a1692-0c4a-4284-a873-ef842a57b305",
   "metadata": {},
   "source": [
    "## 타입변경\n",
    "\n",
    "NumPy의 ndarray의 데이터 타입을 변경하는 방법에는 두 가지가 있습니다.  \n",
    "하나는 astype() 메서드를 사용하는 방법이고,  \n",
    "다른 하나는 생성 시 dtype 파라미터를 사용하여 타입을 지정하는 방법입니다"
   ]
  },
  {
   "cell_type": "code",
   "execution_count": 101,
   "id": "a5b96ee7-488e-4ff5-9c9d-e23a9c3298ba",
   "metadata": {},
   "outputs": [],
   "source": [
    "a = 1.0"
   ]
  },
  {
   "cell_type": "code",
   "execution_count": 102,
   "id": "0c3ae33e-60ae-45b4-9aec-5f9f55b53b70",
   "metadata": {},
   "outputs": [
    {
     "data": {
      "text/plain": [
       "float"
      ]
     },
     "execution_count": 102,
     "metadata": {},
     "output_type": "execute_result"
    }
   ],
   "source": [
    "type(a)"
   ]
  },
  {
   "cell_type": "code",
   "execution_count": 104,
   "id": "3745f40c-9e15-4fe4-bc86-b6dd27d56392",
   "metadata": {},
   "outputs": [],
   "source": [
    "b = int(a)"
   ]
  },
  {
   "cell_type": "code",
   "execution_count": 105,
   "id": "b221e160-e98d-4327-9d5a-dc4aa383f42f",
   "metadata": {},
   "outputs": [
    {
     "data": {
      "text/plain": [
       "(int, 1)"
      ]
     },
     "execution_count": 105,
     "metadata": {},
     "output_type": "execute_result"
    }
   ],
   "source": [
    "type(b), b"
   ]
  },
  {
   "cell_type": "code",
   "execution_count": 106,
   "id": "1a1cf4a0-a779-45d6-84df-2dbb3c23f840",
   "metadata": {
    "tags": []
   },
   "outputs": [
    {
     "data": {
      "text/plain": [
       "dtype('int32')"
      ]
     },
     "execution_count": 106,
     "metadata": {},
     "output_type": "execute_result"
    }
   ],
   "source": [
    "\"\"\"\n",
    "astype() 메서드를 사용하여 데이터 타입 변경:\n",
    "\"\"\"\n",
    "import numpy as np\n",
    "a = np.array([1,2,3])\n",
    "a.dtype"
   ]
  },
  {
   "cell_type": "code",
   "execution_count": 108,
   "id": "9a52fa27-2a11-4498-8027-50c666e61d91",
   "metadata": {},
   "outputs": [],
   "source": [
    "b = a.astype(np.float32)"
   ]
  },
  {
   "cell_type": "code",
   "execution_count": 109,
   "id": "a2a6f3ce-5593-4f70-b66d-2d4afa3b4b15",
   "metadata": {},
   "outputs": [
    {
     "data": {
      "text/plain": [
       "dtype('float32')"
      ]
     },
     "execution_count": 109,
     "metadata": {},
     "output_type": "execute_result"
    }
   ],
   "source": [
    "b.dtype"
   ]
  },
  {
   "cell_type": "code",
   "execution_count": 111,
   "id": "681f177f-c0c5-402c-9605-22b7cbe66f43",
   "metadata": {},
   "outputs": [
    {
     "data": {
      "text/plain": [
       "array([1, 2, 3])"
      ]
     },
     "execution_count": 111,
     "metadata": {},
     "output_type": "execute_result"
    }
   ],
   "source": [
    "a"
   ]
  },
  {
   "cell_type": "code",
   "execution_count": 110,
   "id": "2beae7d8-25dd-45b5-9964-d135ff4daf06",
   "metadata": {},
   "outputs": [
    {
     "data": {
      "text/plain": [
       "array([1., 2., 3.], dtype=float32)"
      ]
     },
     "execution_count": 110,
     "metadata": {},
     "output_type": "execute_result"
    }
   ],
   "source": [
    "b"
   ]
  },
  {
   "cell_type": "markdown",
   "id": "ae3f8425-d30f-4738-8226-4a96882e1225",
   "metadata": {},
   "source": [
    ">데이터 타입 변경은 원본 데이터를 변환하여 새로운 ndarray를 생성하는 것이므로, 원본 배열과 새로운 배열은 서로 다른 객체입니다."
   ]
  },
  {
   "cell_type": "code",
   "execution_count": 112,
   "id": "f4fff7fd-5fe4-4339-a338-3c9e655a0ffa",
   "metadata": {},
   "outputs": [
    {
     "data": {
      "text/plain": [
       "False"
      ]
     },
     "execution_count": 112,
     "metadata": {},
     "output_type": "execute_result"
    }
   ],
   "source": [
    "a is b"
   ]
  },
  {
   "cell_type": "code",
   "execution_count": 113,
   "id": "91d2457d-86f9-4ad6-b4d5-de51aef5a819",
   "metadata": {},
   "outputs": [
    {
     "data": {
      "text/plain": [
       "array([ True,  True,  True])"
      ]
     },
     "execution_count": 113,
     "metadata": {},
     "output_type": "execute_result"
    }
   ],
   "source": [
    "a == b"
   ]
  },
  {
   "cell_type": "code",
   "execution_count": null,
   "id": "bbe3f5c9-ead7-44b3-afb2-b3de76121d8d",
   "metadata": {},
   "outputs": [],
   "source": [
    "\"\"\"\n",
    "생성 시 dtype 파라미터를 사용하여 데이터 타입 변경:\n",
    "\"\"\"\n",
    "import numpy as np\n",
    "\n"
   ]
  },
  {
   "cell_type": "code",
   "execution_count": null,
   "id": "6354319c-2282-4fc1-aca0-151b12ba6312",
   "metadata": {},
   "outputs": [],
   "source": []
  },
  {
   "cell_type": "markdown",
   "id": "e5744081-886c-4dd5-a30a-39b3de97d952",
   "metadata": {},
   "source": [
    "## ndarray 주요 속성 및 메소드\n",
    "\n",
    "|이름|설명|\n",
    "|--|--|\n",
    "|shape|배열의 차원을 튜플로 반환|\n",
    "|dtype|배열의 데이터 타입을 반환|\n",
    "|size|배열의 총 원소 개수를 반환|\n",
    "|reshape()|배열의 형태를 변경|\n",
    "|transpose()| 배열의 전치행렬을 반환|\n",
    "|max(),min(),sum(),count(),mean()||\n",
    "\n",
    "### 속성"
   ]
  },
  {
   "cell_type": "code",
   "execution_count": 114,
   "id": "4fe5e12a-69a3-486a-b137-3b0110bee8e7",
   "metadata": {},
   "outputs": [
    {
     "name": "stdout",
     "output_type": "stream",
     "text": [
      "(2, 3)\n"
     ]
    }
   ],
   "source": [
    "\"\"\"\n",
    "shape: 배열의 차원을 튜플로 반환합니다. 각 차원별 원소의 개수를 나타냅니다.\n",
    "\"\"\"\n",
    "\n",
    "import numpy as np\n",
    "\n",
    "arr = np.array([[1, 2, 3], [4, 5, 6]])\n",
    "print(arr.shape)  # 출력: (2, 3)"
   ]
  },
  {
   "cell_type": "code",
   "execution_count": 115,
   "id": "45e0b351-c315-4bbe-a9c8-556871c38cb0",
   "metadata": {},
   "outputs": [
    {
     "name": "stdout",
     "output_type": "stream",
     "text": [
      "int32\n"
     ]
    }
   ],
   "source": [
    "\"\"\"\n",
    "dtype: 배열의 데이터 타입을 반환합니다.\n",
    "\"\"\"\n",
    "\n",
    "import numpy as np\n",
    "\n",
    "arr = np.array([1, 2, 3])\n",
    "print(arr.dtype)  # 출력: int64"
   ]
  },
  {
   "cell_type": "code",
   "execution_count": 116,
   "id": "bfee39e8-7e56-43a0-acc3-0c715b8d2a9e",
   "metadata": {},
   "outputs": [
    {
     "name": "stdout",
     "output_type": "stream",
     "text": [
      "6\n"
     ]
    }
   ],
   "source": [
    "\"\"\"\n",
    "size: 배열의 총 원소 개수를 반환합니다.\n",
    "\"\"\"\n",
    "import numpy as np\n",
    "\n",
    "arr = np.array([[1, 2, 3], [4, 5, 6]])\n",
    "print(arr.size)  # 출력: 6"
   ]
  },
  {
   "cell_type": "markdown",
   "id": "b097fcd9-b6a8-4ba8-9791-bd875a01aedf",
   "metadata": {},
   "source": [
    "### 메소드"
   ]
  },
  {
   "cell_type": "code",
   "execution_count": 117,
   "id": "c1ae7c04-d75d-479c-b950-4b89c5b7ad52",
   "metadata": {
    "tags": []
   },
   "outputs": [
    {
     "name": "stdout",
     "output_type": "stream",
     "text": [
      "[[1 2 3]\n",
      " [4 5 6]]\n"
     ]
    }
   ],
   "source": [
    "\"\"\"\n",
    "reshape(): 배열의 형태를 변경합니다.\n",
    "\"\"\"\n",
    "import numpy as np\n",
    "\n",
    "arr = np.array([1, 2, 3, 4, 5, 6])\n",
    "reshaped_arr = arr.reshape(2, 3)\n",
    "print(reshaped_arr)\n",
    "# 출력:\n",
    "# [[1 2 3]\n",
    "#  [4 5 6]]\n"
   ]
  },
  {
   "cell_type": "code",
   "execution_count": null,
   "id": "1c89e88e-ca91-4846-bdb4-91131a97ad0e",
   "metadata": {
    "tags": []
   },
   "outputs": [],
   "source": [
    "\"\"\"\n",
    "reshape() 에서 -1 은 배열의 차원을 자동으로 계산해주는 특별한 값입니다.\n",
    "해당 차원의 크기는 남은 차원의 크기와 데이터의 총 개수를 기반으로 자동으로 계산됩니다.\n",
    "\"\"\"\n",
    "arr = np.arange(0,16)\n",
    "arr"
   ]
  },
  {
   "cell_type": "code",
   "execution_count": 118,
   "id": "6ca93207-c6c9-4c55-85b7-e4faf1ce23a3",
   "metadata": {},
   "outputs": [],
   "source": [
    "a = np.arange(16)"
   ]
  },
  {
   "cell_type": "code",
   "execution_count": 119,
   "id": "d8e1fa6b-4966-4a04-89e9-876a2a80f305",
   "metadata": {},
   "outputs": [
    {
     "data": {
      "text/plain": [
       "array([ 0,  1,  2,  3,  4,  5,  6,  7,  8,  9, 10, 11, 12, 13, 14, 15])"
      ]
     },
     "execution_count": 119,
     "metadata": {},
     "output_type": "execute_result"
    }
   ],
   "source": [
    "a"
   ]
  },
  {
   "cell_type": "code",
   "execution_count": 120,
   "id": "fd06df88-b126-4701-8bdc-99d030f73baa",
   "metadata": {},
   "outputs": [
    {
     "data": {
      "text/plain": [
       "array([[ 0,  1,  2,  3],\n",
       "       [ 4,  5,  6,  7],\n",
       "       [ 8,  9, 10, 11],\n",
       "       [12, 13, 14, 15]])"
      ]
     },
     "execution_count": 120,
     "metadata": {},
     "output_type": "execute_result"
    }
   ],
   "source": [
    "a.reshape(4,4)"
   ]
  },
  {
   "cell_type": "code",
   "execution_count": 121,
   "id": "8e557e7d-9555-401a-984f-dc56d27e9001",
   "metadata": {},
   "outputs": [
    {
     "data": {
      "text/plain": [
       "array([[ 0,  1,  2,  3],\n",
       "       [ 4,  5,  6,  7],\n",
       "       [ 8,  9, 10, 11],\n",
       "       [12, 13, 14, 15]])"
      ]
     },
     "execution_count": 121,
     "metadata": {},
     "output_type": "execute_result"
    }
   ],
   "source": [
    "a.reshape(4, -1)"
   ]
  },
  {
   "cell_type": "code",
   "execution_count": 125,
   "id": "909869e7-d5a9-43bd-96c1-b8e17d925817",
   "metadata": {},
   "outputs": [
    {
     "data": {
      "text/plain": [
       "array([[ 0,  1,  2,  3],\n",
       "       [ 4,  5,  6,  7],\n",
       "       [ 8,  9, 10, 11],\n",
       "       [12, 13, 14, 15]])"
      ]
     },
     "execution_count": 125,
     "metadata": {},
     "output_type": "execute_result"
    }
   ],
   "source": [
    "a.reshape(4, -1)"
   ]
  },
  {
   "cell_type": "code",
   "execution_count": null,
   "id": "3e32a8a7-d998-4ee3-8294-9885627340b5",
   "metadata": {
    "tags": []
   },
   "outputs": [],
   "source": [
    "import numpy as np"
   ]
  },
  {
   "cell_type": "code",
   "execution_count": 128,
   "id": "b3deab38-6771-4df4-bcec-6bd8b2cad9e5",
   "metadata": {},
   "outputs": [
    {
     "data": {
      "text/plain": [
       "array([[1, 2, 3],\n",
       "       [4, 5, 6]])"
      ]
     },
     "execution_count": 128,
     "metadata": {},
     "output_type": "execute_result"
    }
   ],
   "source": [
    "\"\"\"\n",
    "transpose(): 배열의 전치행렬을 반환합니다.\n",
    "\"\"\"\n",
    "import numpy as np\n",
    "\n",
    "arr = np.array([[1, 2, 3], [4, 5, 6]])\n",
    "arr\n"
   ]
  },
  {
   "cell_type": "code",
   "execution_count": 129,
   "id": "9be1eeb6-130a-48b0-94f0-e98edd669aae",
   "metadata": {},
   "outputs": [
    {
     "data": {
      "text/plain": [
       "(2, 3)"
      ]
     },
     "execution_count": 129,
     "metadata": {},
     "output_type": "execute_result"
    }
   ],
   "source": [
    "arr.shape"
   ]
  },
  {
   "cell_type": "code",
   "execution_count": 130,
   "id": "b94ce075-d147-4ad6-a5f0-1efaa2ec0220",
   "metadata": {},
   "outputs": [
    {
     "data": {
      "text/plain": [
       "array([[1, 4],\n",
       "       [2, 5],\n",
       "       [3, 6]])"
      ]
     },
     "execution_count": 130,
     "metadata": {},
     "output_type": "execute_result"
    }
   ],
   "source": [
    "arr.transpose()"
   ]
  },
  {
   "cell_type": "code",
   "execution_count": 131,
   "id": "4e0f016e-2979-435b-aa9e-e356f8061c35",
   "metadata": {},
   "outputs": [
    {
     "data": {
      "text/plain": [
       "(3, 2)"
      ]
     },
     "execution_count": 131,
     "metadata": {},
     "output_type": "execute_result"
    }
   ],
   "source": [
    "arr.transpose().shape"
   ]
  },
  {
   "cell_type": "code",
   "execution_count": 146,
   "id": "3a922b18-3e3d-4ebd-be30-dfd17485fe25",
   "metadata": {},
   "outputs": [],
   "source": [
    "\"\"\"\n",
    "- max()\n",
    "- min()\n",
    "- sum()\n",
    "- mean()\n",
    "\"\"\"\n",
    "import numpy as np\n",
    "\n",
    "arr = np.array([[1, 2, 3, 5, 6]])"
   ]
  },
  {
   "cell_type": "code",
   "execution_count": 147,
   "id": "103c3f0d-d263-4fa6-b142-e8320651126e",
   "metadata": {},
   "outputs": [
    {
     "data": {
      "text/plain": [
       "6"
      ]
     },
     "execution_count": 147,
     "metadata": {},
     "output_type": "execute_result"
    }
   ],
   "source": [
    "np.max(arr)"
   ]
  },
  {
   "cell_type": "code",
   "execution_count": 148,
   "id": "09ab7e16-81b2-4839-93c7-b2c926919e34",
   "metadata": {},
   "outputs": [
    {
     "data": {
      "text/plain": [
       "6"
      ]
     },
     "execution_count": 148,
     "metadata": {},
     "output_type": "execute_result"
    }
   ],
   "source": [
    "arr.max()"
   ]
  },
  {
   "cell_type": "code",
   "execution_count": 149,
   "id": "6184a0fa-1bc3-44f7-bf4a-21b3c5cb2d37",
   "metadata": {},
   "outputs": [
    {
     "data": {
      "text/plain": [
       "1"
      ]
     },
     "execution_count": 149,
     "metadata": {},
     "output_type": "execute_result"
    }
   ],
   "source": [
    "arr.min()"
   ]
  },
  {
   "cell_type": "code",
   "execution_count": 150,
   "id": "cbabbdd7-16b0-4f54-855e-6b2c84818c90",
   "metadata": {},
   "outputs": [
    {
     "data": {
      "text/plain": [
       "17"
      ]
     },
     "execution_count": 150,
     "metadata": {},
     "output_type": "execute_result"
    }
   ],
   "source": [
    "arr.sum()"
   ]
  },
  {
   "cell_type": "code",
   "execution_count": 151,
   "id": "89c8f30a-1fad-4e9b-8827-101a781a7282",
   "metadata": {},
   "outputs": [
    {
     "data": {
      "text/plain": [
       "3.4"
      ]
     },
     "execution_count": 151,
     "metadata": {},
     "output_type": "execute_result"
    }
   ],
   "source": [
    "arr.mean()"
   ]
  },
  {
   "cell_type": "code",
   "execution_count": null,
   "id": "2e6997cb-fbff-4a1a-9755-2674f8ad0e9f",
   "metadata": {},
   "outputs": [],
   "source": []
  },
  {
   "cell_type": "markdown",
   "id": "7c0441e5-c787-4942-82ab-54df59f14c06",
   "metadata": {},
   "source": [
    "# indexing 과 slicing"
   ]
  },
  {
   "cell_type": "code",
   "execution_count": 153,
   "id": "fd9e8cec-ce13-4fd2-9ced-df6af25630df",
   "metadata": {},
   "outputs": [
    {
     "name": "stdout",
     "output_type": "stream",
     "text": [
      "1\n",
      "4\n"
     ]
    }
   ],
   "source": [
    "\"\"\"\n",
    "인덱싱(indexing)\n",
    "\"\"\"\n",
    "import numpy as np\n",
    "\n",
    "# 1차원 배열 인덱싱\n",
    "arr1d = np.array([1, 2, 3, 4, 5])\n",
    "print(arr1d[0])  # 출력: 1 (첫 번째 원소)\n",
    "print(arr1d[3])  # 출력: 4 (네 번째 원소)\n"
   ]
  },
  {
   "cell_type": "code",
   "execution_count": 154,
   "id": "29fcdc40-2e01-498e-aae2-502b3ba2dc77",
   "metadata": {},
   "outputs": [
    {
     "name": "stdout",
     "output_type": "stream",
     "text": [
      "[[1 2 3]\n",
      " [4 5 6]]\n",
      "2\n",
      "6\n"
     ]
    }
   ],
   "source": [
    "# 2차원 배열 인덱싱\n",
    "arr2d = np.array([[1, 2, 3], [4, 5, 6]])\n",
    "print(arr2d)\n",
    "print(arr2d[0, 1])  # 출력: 2 (첫 번째 행의 두 번째 열)\n",
    "print(arr2d[1, 2])  # 출력: 6 (두 번째 행의 세 번째 열)"
   ]
  },
  {
   "cell_type": "code",
   "execution_count": 155,
   "id": "f679a24c-712d-473e-ba9b-bc3e45890b56",
   "metadata": {},
   "outputs": [
    {
     "name": "stdout",
     "output_type": "stream",
     "text": [
      "[2 3 4]\n"
     ]
    }
   ],
   "source": [
    "\"\"\"\n",
    "슬라이싱(slicing)\n",
    "\"\"\"\n",
    "import numpy as np\n",
    "\n",
    "# 1차원 배열 슬라이싱\n",
    "arr1d = np.array([1, 2, 3, 4, 5])\n",
    "print(arr1d[1:4])  # 출력: [2 3 4] (인덱스 1부터 3까지의 원소)"
   ]
  },
  {
   "cell_type": "code",
   "execution_count": 156,
   "id": "33423722-0305-4096-82e6-60c35c9f2220",
   "metadata": {
    "tags": []
   },
   "outputs": [
    {
     "name": "stdout",
     "output_type": "stream",
     "text": [
      "[[1 2 3]\n",
      " [4 5 6]]\n"
     ]
    }
   ],
   "source": [
    "# 2차원 배열 슬라이싱\n",
    "arr2d = np.array([[1, 2, 3], [4, 5, 6]])\n",
    "print(arr2d)\n"
   ]
  },
  {
   "cell_type": "code",
   "execution_count": 157,
   "id": "afff583b-17ad-4131-b9a5-b6edbe1d36cd",
   "metadata": {},
   "outputs": [
    {
     "name": "stdout",
     "output_type": "stream",
     "text": [
      "[[2 3]\n",
      " [5 6]]\n",
      "[1 2 3]\n"
     ]
    }
   ],
   "source": [
    "print(arr2d[:, 1:3])\n",
    "# 출력:\n",
    "# [[2 3]\n",
    "#  [5 6]] (모든 행의 두 번째와 세 번째 열)\n",
    "\n",
    "print(arr2d[0, :])  # 출력: [1 2 3] (첫 번째 행의 모든 열)\n"
   ]
  },
  {
   "cell_type": "code",
   "execution_count": null,
   "id": "a64308f9-f91a-44c1-9708-eab50a988a6d",
   "metadata": {},
   "outputs": [],
   "source": [
    "print(arr2d[1, 1:])  # 출력: [5 6] (두 번째 행의 두 번째와 세 번째 열)"
   ]
  },
  {
   "cell_type": "markdown",
   "id": "2aa184a5-a682-43b4-8685-367f2853a23c",
   "metadata": {},
   "source": [
    "## ndarray 값 할당, 삭제, 추가"
   ]
  },
  {
   "cell_type": "code",
   "execution_count": 158,
   "id": "946e93d6-f488-4eac-8edb-4d460c4f4007",
   "metadata": {},
   "outputs": [],
   "source": [
    "\"\"\"\n",
    "값을 할당하는 예제:\n",
    "\"\"\"\n",
    "import numpy as np\n",
    "\n",
    "# 1차원 배열 생성\n",
    "arr = np.array([1, 2, 3, 4, 5])\n",
    "\n"
   ]
  },
  {
   "cell_type": "code",
   "execution_count": 159,
   "id": "fd7e8be2-cda4-4632-9c77-b641806fe75c",
   "metadata": {},
   "outputs": [
    {
     "data": {
      "text/plain": [
       "array([ 1,  2, 10,  4,  5])"
      ]
     },
     "execution_count": 159,
     "metadata": {},
     "output_type": "execute_result"
    }
   ],
   "source": [
    "# 인덱스를 이용하여 값을 할당\n",
    "\n",
    "arr[2] = 10\n",
    "arr\n",
    "\n"
   ]
  },
  {
   "cell_type": "code",
   "execution_count": 160,
   "id": "a4d1387e-ad8d-4334-a5d4-d854da93f7db",
   "metadata": {},
   "outputs": [],
   "source": [
    "\n",
    "# 슬라이싱을 이용하여 값 할당\n",
    "arr[1:4] = 100\n"
   ]
  },
  {
   "cell_type": "code",
   "execution_count": 161,
   "id": "598fe9a3-21a7-4afd-aca6-d3e4757911a8",
   "metadata": {},
   "outputs": [
    {
     "data": {
      "text/plain": [
       "array([  1, 100, 100, 100,   5])"
      ]
     },
     "execution_count": 161,
     "metadata": {},
     "output_type": "execute_result"
    }
   ],
   "source": [
    "arr"
   ]
  },
  {
   "cell_type": "code",
   "execution_count": 162,
   "id": "381ec8d4-b96c-4ebc-8981-8ef032d221e7",
   "metadata": {},
   "outputs": [],
   "source": [
    "\"\"\"\n",
    "값을 삭제하는 예제:\n",
    "\"\"\"\n",
    "import numpy as np\n",
    "\n",
    "# 1차원 배열 생성\n",
    "arr = np.array([1, 2, 3, 4, 5])\n"
   ]
  },
  {
   "cell_type": "code",
   "execution_count": 163,
   "id": "7068345a-3a4c-4f72-8f7d-a7a62e55dcc0",
   "metadata": {},
   "outputs": [
    {
     "data": {
      "text/plain": [
       "array([1, 2, 4, 5])"
      ]
     },
     "execution_count": 163,
     "metadata": {},
     "output_type": "execute_result"
    }
   ],
   "source": [
    "# 인덱스를 이용하여 값 삭제\n",
    "np.delete(arr,2)"
   ]
  },
  {
   "cell_type": "code",
   "execution_count": 164,
   "id": "c6b2b08d-3948-4970-8c61-129c661604d2",
   "metadata": {},
   "outputs": [
    {
     "data": {
      "text/plain": [
       "array([1, 2, 3, 4, 5])"
      ]
     },
     "execution_count": 164,
     "metadata": {},
     "output_type": "execute_result"
    }
   ],
   "source": [
    "arr"
   ]
  },
  {
   "cell_type": "code",
   "execution_count": 165,
   "id": "04c1237e-9563-4174-ba71-0654e56352ac",
   "metadata": {},
   "outputs": [
    {
     "data": {
      "text/plain": [
       "array([1, 5])"
      ]
     },
     "execution_count": 165,
     "metadata": {},
     "output_type": "execute_result"
    }
   ],
   "source": [
    "# 슬라이싱을 이용하여 값 삭제\n",
    "np.delete(arr, slice(1,4))"
   ]
  },
  {
   "cell_type": "code",
   "execution_count": 166,
   "id": "5a4b2aa8-52db-4ccc-aad0-5174e4ced53a",
   "metadata": {},
   "outputs": [],
   "source": [
    "\"\"\"\n",
    "값을 추가하는 예제:\n",
    "\"\"\"\n",
    "import numpy as np\n",
    "\n",
    "# 1차원 배열 생성\n",
    "arr = np.array([1, 2, 3, 4, 5])\n",
    "\n"
   ]
  },
  {
   "cell_type": "code",
   "execution_count": 167,
   "id": "8a7b0499-4c80-43e1-ba5a-66a48f5b30fa",
   "metadata": {},
   "outputs": [
    {
     "data": {
      "text/plain": [
       "array([ 1,  2, 10,  3,  4,  5])"
      ]
     },
     "execution_count": 167,
     "metadata": {},
     "output_type": "execute_result"
    }
   ],
   "source": [
    "np.insert(arr, 2, 10)"
   ]
  },
  {
   "cell_type": "code",
   "execution_count": 168,
   "id": "5841f31c-bc74-4fd2-915a-095ddf874cd4",
   "metadata": {},
   "outputs": [
    {
     "data": {
      "text/plain": [
       "array([1, 2, 3, 4, 5])"
      ]
     },
     "execution_count": 168,
     "metadata": {},
     "output_type": "execute_result"
    }
   ],
   "source": [
    "arr"
   ]
  },
  {
   "cell_type": "code",
   "execution_count": null,
   "id": "d9c88788-9ab6-4ddb-bcf0-01149a1b99b6",
   "metadata": {},
   "outputs": [],
   "source": [
    "# 인덱스를 이용하여 값 추가\n"
   ]
  },
  {
   "cell_type": "markdown",
   "id": "7b3f0b38-4d0d-4f2b-9515-d9ce14d8db91",
   "metadata": {},
   "source": [
    "## 정렬, 필터링"
   ]
  },
  {
   "cell_type": "code",
   "execution_count": 172,
   "id": "8ba8cd44-9de0-4dc6-90e5-1b868fbeaef5",
   "metadata": {},
   "outputs": [],
   "source": [
    "\"\"\"\n",
    "배열 정렬 예제:\n",
    "\"\"\"\n",
    "import numpy as np\n",
    "\n",
    "# 1차원 배열 생성\n",
    "arr = np.array([3, 1, 4, 2, 5])\n",
    "\n"
   ]
  },
  {
   "cell_type": "code",
   "execution_count": 173,
   "id": "2db6b933-de00-4beb-a24d-5d6f74cf0e06",
   "metadata": {},
   "outputs": [
    {
     "data": {
      "text/plain": [
       "array([3, 1, 4, 2, 5])"
      ]
     },
     "execution_count": 173,
     "metadata": {},
     "output_type": "execute_result"
    }
   ],
   "source": [
    "arr"
   ]
  },
  {
   "cell_type": "code",
   "execution_count": 175,
   "id": "b8bbe42d-2048-41a2-9702-0e655c23a380",
   "metadata": {},
   "outputs": [
    {
     "data": {
      "text/plain": [
       "array([5, 2, 4, 1, 3])"
      ]
     },
     "execution_count": 175,
     "metadata": {},
     "output_type": "execute_result"
    }
   ],
   "source": [
    "arr[::-1]"
   ]
  },
  {
   "cell_type": "code",
   "execution_count": 170,
   "id": "7079d349-249a-490d-a0de-f82e5649ff5c",
   "metadata": {},
   "outputs": [
    {
     "data": {
      "text/plain": [
       "array([1, 2, 3, 4, 5])"
      ]
     },
     "execution_count": 170,
     "metadata": {},
     "output_type": "execute_result"
    }
   ],
   "source": [
    "# 오름차순으로 배열 정렬\n",
    "\n",
    "np.sort(arr)\n"
   ]
  },
  {
   "cell_type": "code",
   "execution_count": 171,
   "id": "1aa2cc9d-66e7-4f4d-bb0c-86f96daaddc9",
   "metadata": {},
   "outputs": [
    {
     "data": {
      "text/plain": [
       "array([5, 4, 3, 2, 1])"
      ]
     },
     "execution_count": 171,
     "metadata": {},
     "output_type": "execute_result"
    }
   ],
   "source": [
    "np.sort(arr)[::-1]"
   ]
  },
  {
   "cell_type": "code",
   "execution_count": null,
   "id": "a4d260a1-5d62-4f5c-8c12-27894dcb9997",
   "metadata": {},
   "outputs": [],
   "source": [
    "# 내림차순으로 배열 정렬\n",
    "\n"
   ]
  },
  {
   "cell_type": "code",
   "execution_count": 176,
   "id": "28e01bcb-9db6-48f6-aa7e-5e50584bbbf2",
   "metadata": {},
   "outputs": [],
   "source": [
    "\"\"\"\n",
    "배열 필터링 예제:\n",
    "\"\"\"\n",
    "import numpy as np\n",
    "\n",
    "# 1차원 배열 생성\n",
    "arr = np.array([1, 2, 3, 4, 5])\n",
    "\n",
    "\n",
    "\n",
    "\n"
   ]
  },
  {
   "cell_type": "code",
   "execution_count": 180,
   "id": "5252e13b-0f7f-4e65-9d12-39e0c80d7edb",
   "metadata": {},
   "outputs": [
    {
     "data": {
      "text/plain": [
       "array([False, False,  True,  True,  True])"
      ]
     },
     "execution_count": 180,
     "metadata": {},
     "output_type": "execute_result"
    }
   ],
   "source": [
    "arr>2"
   ]
  },
  {
   "cell_type": "code",
   "execution_count": 181,
   "id": "487f9c98-855f-4b73-b020-124abd7bf1e3",
   "metadata": {},
   "outputs": [
    {
     "data": {
      "text/plain": [
       "array([3, 4, 5])"
      ]
     },
     "execution_count": 181,
     "metadata": {},
     "output_type": "execute_result"
    }
   ],
   "source": [
    "arr[[False, False,  True,  True,  True]]"
   ]
  },
  {
   "cell_type": "code",
   "execution_count": 177,
   "id": "544f695a-32de-4aa8-8682-9c51498c4536",
   "metadata": {},
   "outputs": [
    {
     "data": {
      "text/plain": [
       "array([3, 4, 5])"
      ]
     },
     "execution_count": 177,
     "metadata": {},
     "output_type": "execute_result"
    }
   ],
   "source": [
    "arr[arr>2]"
   ]
  },
  {
   "cell_type": "code",
   "execution_count": 178,
   "id": "89b2bcc1-45a9-4e86-b526-fd8c7938d8f2",
   "metadata": {},
   "outputs": [
    {
     "name": "stdout",
     "output_type": "stream",
     "text": [
      "[3 4 5]\n"
     ]
    }
   ],
   "source": [
    "# 조건을 만족하는 원소 필터링\n",
    "filtered_arr = arr[arr > 2]\n",
    "print(filtered_arr)\n",
    "# 출력: [3 4 5]"
   ]
  },
  {
   "cell_type": "code",
   "execution_count": 179,
   "id": "a9235e6e-eedf-4d8b-9313-65e942c6096f",
   "metadata": {},
   "outputs": [
    {
     "data": {
      "text/plain": [
       "array([[False,  True, False],\n",
       "       [ True, False,  True]])"
      ]
     },
     "execution_count": 179,
     "metadata": {},
     "output_type": "execute_result"
    }
   ],
   "source": [
    "arr2d % 2 == 0"
   ]
  },
  {
   "cell_type": "markdown",
   "id": "4fd9f67f-4f21-4799-9f72-5dab939cda39",
   "metadata": {},
   "source": [
    "# view() and copy()\n",
    "\n",
    "- 넘파이에서는 배열을 `인덱싱`/`슬라이싱` 한 후에 그 결과로 나온 배열은 원본 배열의 `뷰(View)`입니다. (성능Performance과 효율성Efficiency을 위해서)\n",
    "- 뷰를 새로운 값으로 수정, 변경하게되면 원본 배열도 변경이 됩니다.\n",
    "- 넘파이에서 원본 배열의 변경 없이 인덱싱/슬라이싱 한 결과 배열을 복사하고 싶다면 `copy()` 메서드를 사용합니다."
   ]
  },
  {
   "cell_type": "code",
   "execution_count": 182,
   "id": "8c3de08d-f87d-4538-af9e-b03392c802d0",
   "metadata": {
    "tags": []
   },
   "outputs": [],
   "source": [
    "a = np.array([[ 0,  1,  2,  3],\n",
    "              [ 4,  5,  6,  7],\n",
    "              [ 8,  9, 10, 11]])\n"
   ]
  },
  {
   "cell_type": "code",
   "execution_count": 183,
   "id": "9c31d2b9-f10a-4a27-b2e6-f1de1858f224",
   "metadata": {},
   "outputs": [],
   "source": [
    "b=a"
   ]
  },
  {
   "cell_type": "code",
   "execution_count": 184,
   "id": "58a65ae8-a72a-48bd-b75c-7cadbd6714d4",
   "metadata": {},
   "outputs": [
    {
     "data": {
      "text/plain": [
       "True"
      ]
     },
     "execution_count": 184,
     "metadata": {},
     "output_type": "execute_result"
    }
   ],
   "source": [
    "b is a"
   ]
  },
  {
   "cell_type": "code",
   "execution_count": 185,
   "id": "67e7084b-21b0-4dbd-890a-5d7521f05026",
   "metadata": {},
   "outputs": [
    {
     "data": {
      "text/plain": [
       "(2408578692944, 2408578692944)"
      ]
     },
     "execution_count": 185,
     "metadata": {},
     "output_type": "execute_result"
    }
   ],
   "source": [
    "id(b), id(a)"
   ]
  },
  {
   "cell_type": "code",
   "execution_count": 186,
   "id": "4e635dab-8937-42a3-9c60-3169a18e1cf5",
   "metadata": {},
   "outputs": [],
   "source": [
    "a[0,0] = -1"
   ]
  },
  {
   "cell_type": "code",
   "execution_count": 187,
   "id": "d484d739-cd9a-4ce2-87f8-1d1196aff4a2",
   "metadata": {},
   "outputs": [
    {
     "data": {
      "text/plain": [
       "(array([[-1,  1,  2,  3],\n",
       "        [ 4,  5,  6,  7],\n",
       "        [ 8,  9, 10, 11]]),\n",
       " array([[-1,  1,  2,  3],\n",
       "        [ 4,  5,  6,  7],\n",
       "        [ 8,  9, 10, 11]]))"
      ]
     },
     "execution_count": 187,
     "metadata": {},
     "output_type": "execute_result"
    }
   ],
   "source": [
    "a, b"
   ]
  },
  {
   "cell_type": "code",
   "execution_count": 188,
   "id": "1e02f9f3-1af0-4591-805b-4fc019649579",
   "metadata": {
    "tags": []
   },
   "outputs": [],
   "source": [
    "# view \n",
    "a = np.array([[ 0,  1,  2,  3],\n",
    "              [ 4,  5,  6,  7],\n",
    "              [ 8,  9, 10, 11]])\n",
    "\n"
   ]
  },
  {
   "cell_type": "code",
   "execution_count": 189,
   "id": "0e8ae033-e9c8-4a09-8c10-4d2c8e6cff95",
   "metadata": {},
   "outputs": [],
   "source": [
    "b = a.view()"
   ]
  },
  {
   "cell_type": "code",
   "execution_count": 190,
   "id": "c78577b6-9724-49a3-afe3-094730691d58",
   "metadata": {},
   "outputs": [
    {
     "data": {
      "text/plain": [
       "array([[ True,  True,  True,  True],\n",
       "       [ True,  True,  True,  True],\n",
       "       [ True,  True,  True,  True]])"
      ]
     },
     "execution_count": 190,
     "metadata": {},
     "output_type": "execute_result"
    }
   ],
   "source": [
    "a == b"
   ]
  },
  {
   "cell_type": "code",
   "execution_count": 191,
   "id": "6cbcfb41-fb60-414d-a924-ae9c53042b7a",
   "metadata": {},
   "outputs": [
    {
     "data": {
      "text/plain": [
       "False"
      ]
     },
     "execution_count": 191,
     "metadata": {},
     "output_type": "execute_result"
    }
   ],
   "source": [
    "a is b"
   ]
  },
  {
   "cell_type": "code",
   "execution_count": 192,
   "id": "1dd6e454-6a06-4412-a8b7-bd8fa4c9e6e9",
   "metadata": {},
   "outputs": [],
   "source": [
    "a[0,0] = -1"
   ]
  },
  {
   "cell_type": "code",
   "execution_count": 193,
   "id": "c1d450ad-2015-492e-8bf0-7578e9f938dd",
   "metadata": {},
   "outputs": [
    {
     "data": {
      "text/plain": [
       "(array([[-1,  1,  2,  3],\n",
       "        [ 4,  5,  6,  7],\n",
       "        [ 8,  9, 10, 11]]),\n",
       " array([[-1,  1,  2,  3],\n",
       "        [ 4,  5,  6,  7],\n",
       "        [ 8,  9, 10, 11]]))"
      ]
     },
     "execution_count": 193,
     "metadata": {},
     "output_type": "execute_result"
    }
   ],
   "source": [
    "a,b"
   ]
  },
  {
   "cell_type": "code",
   "execution_count": 194,
   "id": "10a32b47-1dc5-4109-a07a-442a169c8216",
   "metadata": {
    "tags": []
   },
   "outputs": [],
   "source": [
    "# copy \n",
    "a = np.array([[ 0,  1,  2,  3],\n",
    "              [ 4,  5,  6,  7],\n",
    "              [ 8,  9, 10, 11]])\n",
    "\n",
    "b = a.copy()"
   ]
  },
  {
   "cell_type": "code",
   "execution_count": 195,
   "id": "d90b5e0b-856a-44a9-984b-4bff4259fb76",
   "metadata": {},
   "outputs": [
    {
     "data": {
      "text/plain": [
       "array([[ True,  True,  True,  True],\n",
       "       [ True,  True,  True,  True],\n",
       "       [ True,  True,  True,  True]])"
      ]
     },
     "execution_count": 195,
     "metadata": {},
     "output_type": "execute_result"
    }
   ],
   "source": [
    "a == b"
   ]
  },
  {
   "cell_type": "code",
   "execution_count": 196,
   "id": "35b2ccbd-ed37-4239-8596-098ca35786c6",
   "metadata": {},
   "outputs": [
    {
     "data": {
      "text/plain": [
       "False"
      ]
     },
     "execution_count": 196,
     "metadata": {},
     "output_type": "execute_result"
    }
   ],
   "source": [
    "a is b"
   ]
  },
  {
   "cell_type": "code",
   "execution_count": 197,
   "id": "13172e56-b2b8-4177-9e55-9369c1939ae3",
   "metadata": {},
   "outputs": [],
   "source": [
    "a[0,0] = -1"
   ]
  },
  {
   "cell_type": "code",
   "execution_count": 198,
   "id": "847bb1c1-e8bb-492c-a1cc-200d73082369",
   "metadata": {},
   "outputs": [
    {
     "data": {
      "text/plain": [
       "(array([[-1,  1,  2,  3],\n",
       "        [ 4,  5,  6,  7],\n",
       "        [ 8,  9, 10, 11]]),\n",
       " array([[ 0,  1,  2,  3],\n",
       "        [ 4,  5,  6,  7],\n",
       "        [ 8,  9, 10, 11]]))"
      ]
     },
     "execution_count": 198,
     "metadata": {},
     "output_type": "execute_result"
    }
   ],
   "source": [
    "a,b"
   ]
  },
  {
   "cell_type": "markdown",
   "id": "f5e63237-f3bb-491b-8b1c-830bf2252a0e",
   "metadata": {},
   "source": [
    "## 배열 연산"
   ]
  },
  {
   "cell_type": "code",
   "execution_count": 199,
   "id": "8323354e-e3ba-464f-b4b5-70121c4011f0",
   "metadata": {},
   "outputs": [],
   "source": [
    "\"\"\"\n",
    "덧셈연산\n",
    "\"\"\"\n",
    "\n",
    "import numpy as np\n",
    "\n",
    "# 1차원 배열 생성\n",
    "arr1 = np.array([1, 2, 3])\n",
    "arr2 = np.array([4, 5, 6])\n",
    "\n",
    "# 배열 간 덧셈 연산\n",
    "\n"
   ]
  },
  {
   "cell_type": "code",
   "execution_count": 200,
   "id": "849af0f2-6e3e-4442-85ba-fd55418b5384",
   "metadata": {},
   "outputs": [
    {
     "data": {
      "text/plain": [
       "array([5, 7, 9])"
      ]
     },
     "execution_count": 200,
     "metadata": {},
     "output_type": "execute_result"
    }
   ],
   "source": [
    "arr1 + arr2"
   ]
  },
  {
   "cell_type": "markdown",
   "id": "d4a43fb2-e541-4362-9ae8-4aa43f440719",
   "metadata": {},
   "source": [
    "## numpy.where()\n",
    "NumPy의 numpy.where() 함수는 조건에 따라 배열의 값을 다르게 할당하는 데 사용됩니다. 이 함수는 원하는 조건에 따라 배열의 원소를 대체하는데 유용합니다.\n",
    "\n",
    "```python\n",
    "numpy.where(condition, x, y)\n",
    "```\n",
    "\n",
    "- `condition`: 조건을 나타내는 불리언 배열이거나 조건식입니다. 만족하는 경우에만 값을 변경합니다.\n",
    "- `x`: condition이 True인 경우의 값이 대체됩니다.\n",
    "- `y`: condition이 False인 경우의 값이 대체됩니다.\n",
    "\n",
    "`x`와 `y`는 `배열` 또는 `스칼라`값이 될 수 있습니다.  \n",
    "만약 x와 y가 배열인 경우, 두 배열은 같은 크기 또는 브로드캐스팅 규칙을 만족해야 합니다."
   ]
  },
  {
   "cell_type": "code",
   "execution_count": 201,
   "id": "8fff1ac8-cbde-437f-b2e8-800c97137966",
   "metadata": {},
   "outputs": [
    {
     "data": {
      "text/plain": [
       "array([0, 0, 0, 4, 5])"
      ]
     },
     "execution_count": 201,
     "metadata": {},
     "output_type": "execute_result"
    }
   ],
   "source": [
    "\"\"\"\n",
    "조건에 따라 배열 값을 변경하는 예제 1\n",
    "\"\"\"\n",
    "\n",
    "import numpy as np\n",
    "\n",
    "arr = np.array([1, 2, 3, 4, 5])\n",
    "condition = arr>3\n",
    "np.where(condition, arr, 0)"
   ]
  },
  {
   "cell_type": "code",
   "execution_count": 202,
   "id": "f8d4e459-62b1-4fda-96de-1c3b77b9f96b",
   "metadata": {},
   "outputs": [
    {
     "data": {
      "text/plain": [
       "array([10, 20, 30,  4,  5])"
      ]
     },
     "execution_count": 202,
     "metadata": {},
     "output_type": "execute_result"
    }
   ],
   "source": [
    "\"\"\"\n",
    "조건에 따라 배열 값을 변경하는 예제 2\n",
    "\"\"\"\n",
    "\n",
    "import numpy as np\n",
    "\n",
    "arr1 = np.array([1, 2, 3, 4, 5])\n",
    "arr2 = np.array([10, 20, 30, 40, 50])\n",
    "np.where(arr1>3, arr1, arr2)"
   ]
  },
  {
   "cell_type": "code",
   "execution_count": null,
   "id": "0fdd12ad-ab38-4ad5-aa05-57bc4f5dc3ac",
   "metadata": {},
   "outputs": [],
   "source": []
  },
  {
   "cell_type": "markdown",
   "id": "91b21d15-4da6-45ae-9700-2b444ff633e8",
   "metadata": {},
   "source": [
    "## squeeze()"
   ]
  },
  {
   "cell_type": "code",
   "execution_count": 206,
   "id": "17e4d5f5-603e-4c16-a3cf-42417e43949e",
   "metadata": {
    "tags": []
   },
   "outputs": [
    {
     "data": {
      "text/plain": [
       "(1, 1, 3)"
      ]
     },
     "execution_count": 206,
     "metadata": {},
     "output_type": "execute_result"
    }
   ],
   "source": [
    "\"\"\"\n",
    "squeeze() 함수:\n",
    "squeeze() 함수는 배열의 차원 중 사이즈가 1인 차원을 제거하는데 사용됩니다. \n",
    "만약 배열이 이미 1차원 이상이고, 그 중 사이즈가 1인 차원이 있다면 해당 차원을 제거하여 배열을 더 축소시킵니다.\n",
    "\"\"\"\n",
    "\n",
    "import numpy as np\n",
    "\n",
    "# 1차원 배열 생성\n",
    "arr = np.array([[[1, 2, 3]]])\n",
    "\n",
    "arr.shape"
   ]
  },
  {
   "cell_type": "code",
   "execution_count": 204,
   "id": "95700a74-46b9-422b-a98f-c2fc97a16634",
   "metadata": {},
   "outputs": [
    {
     "data": {
      "text/plain": [
       "array([[[1, 2, 3]]])"
      ]
     },
     "execution_count": 204,
     "metadata": {},
     "output_type": "execute_result"
    }
   ],
   "source": [
    "arr"
   ]
  },
  {
   "cell_type": "code",
   "execution_count": 207,
   "id": "c5e66e73-7cf1-486a-a4b6-ef50eea1c9a7",
   "metadata": {},
   "outputs": [
    {
     "data": {
      "text/plain": [
       "(3,)"
      ]
     },
     "execution_count": 207,
     "metadata": {},
     "output_type": "execute_result"
    }
   ],
   "source": [
    "# 사이즈가 1인 차원을 제거\n",
    "np.squeeze(arr).shape"
   ]
  },
  {
   "cell_type": "code",
   "execution_count": null,
   "id": "5c5b2e3a-0753-4a0c-a99f-1ea655f19519",
   "metadata": {},
   "outputs": [],
   "source": []
  },
  {
   "cell_type": "code",
   "execution_count": null,
   "id": "86175a8a-c017-4a3a-a91a-f915b53be4b5",
   "metadata": {},
   "outputs": [],
   "source": []
  }
 ],
 "metadata": {
  "kernelspec": {
   "display_name": "Python 3 (ipykernel)",
   "language": "python",
   "name": "python3"
  },
  "language_info": {
   "codemirror_mode": {
    "name": "ipython",
    "version": 3
   },
   "file_extension": ".py",
   "mimetype": "text/x-python",
   "name": "python",
   "nbconvert_exporter": "python",
   "pygments_lexer": "ipython3",
   "version": "3.10.11"
  }
 },
 "nbformat": 4,
 "nbformat_minor": 5
}
