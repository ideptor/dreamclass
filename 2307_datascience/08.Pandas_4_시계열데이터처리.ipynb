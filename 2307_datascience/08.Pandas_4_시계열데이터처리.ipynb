{
 "cells": [
  {
   "cell_type": "markdown",
   "id": "d74ff632-7aa6-4077-b97c-c455d5097b03",
   "metadata": {},
   "source": [
    "# Pandas 시계열 데이터 처리\n",
    "\n",
    "파이썬의 날짜 및 시간 관련 객체\n",
    "| 클래스 | 내용|\n",
    "|--|--|\n",
    "|datetime.date | 그레고리력으로 날짜를 다룹니다. (year, month, day) |\n",
    "|datetime.time | 특정일과 관련없이 모든 날(day)을 24x60x60초로 다루는 시간입니다. (hour, minute, second, microsecond, tzinfo)|\n",
    "|datetime.datetime | 날짜와 시간의 조합입니다. (year, month, day, hour, minute, second, microsecond, tzinfo) |\n",
    "|datetime.timedelta | date인스턴스간, time인스턴스간, 또는 datetime 인스턴스간의 차이를 microsecond 로 나타내는 기간입니다.|\n",
    "|datetime.tzinfo | 시간대 정보 객체에 대한 추상 기본 클래스로서 사용자 정의로 시간을 조정하기 위해 사용됩니다.|\n",
    "|datetime.timezone| UTC (Universal Time Coordinated) 의 고정 오프셋으로 tzinfo를 실행하는 클래스입니다.|"
   ]
  },
  {
   "cell_type": "code",
   "execution_count": null,
   "id": "ca190c55-919f-4732-a8ff-eb3741b18cd7",
   "metadata": {},
   "outputs": [],
   "source": [
    "from datetime import datetime, date, time, timedelta\n",
    "\n",
    "# 현재 날짜와 시간 가져오기\n",
    "current_datetime = datetime.now()\n",
    "print(\"현재 날짜와 시간:\", current_datetime)\n",
    "\n"
   ]
  },
  {
   "cell_type": "code",
   "execution_count": null,
   "id": "eac65ece-98b9-4b8c-9fcc-5b172fe744b8",
   "metadata": {},
   "outputs": [],
   "source": [
    "\n",
    "# 날짜와 시간 구성하기\n",
    "custom_datetime = datetime(2023, 8, 7, 15, 30, 0)\n",
    "print(\"사용자 정의 날짜와 시간:\", custom_datetime)\n",
    "\n",
    "# 날짜 추출하기\n",
    "print(\"년:\", custom_datetime.year)\n",
    "print(\"월:\", custom_datetime.month)\n",
    "print(\"일:\", custom_datetime.day)\n",
    "\n",
    "# 시간 추출하기\n",
    "print(\"시:\", custom_datetime.hour)\n",
    "print(\"분:\", custom_datetime.minute)\n",
    "print(\"초:\", custom_datetime.second)\n",
    "\n"
   ]
  },
  {
   "cell_type": "code",
   "execution_count": null,
   "id": "25611e82-0fa9-4e10-951e-00475cdf72a4",
   "metadata": {},
   "outputs": [],
   "source": [
    "# 날짜와 시간의 차이 계산하기\n",
    "time_difference = current_datetime - custom_datetime\n",
    "print(\"시간 차이:\", time_difference)\n"
   ]
  },
  {
   "cell_type": "code",
   "execution_count": null,
   "id": "91d55e99-81d2-481f-a7d0-71452e1c4ff6",
   "metadata": {},
   "outputs": [],
   "source": [
    "\n",
    "# 특정 시간 간격 더하기\n",
    "future_datetime = current_datetime + timedelta(days=5, hours=3)\n",
    "print(\"5일 3시간 후:\", future_datetime)\n",
    "\n"
   ]
  },
  {
   "cell_type": "markdown",
   "id": "2e40b37e-1139-4a40-b173-d1be836c798f",
   "metadata": {},
   "source": [
    "## strftime, strptime \n",
    "\n",
    "strftime과 strptime은 파이썬의 datetime 모듈에서 날짜와 시간을 문자열로 변환하고 파싱하는 데 사용되는 함수들입니다.\n",
    "\n",
    "### strftime (String Format Time)\n",
    "\n",
    "strftime 함수는 datetime 객체를 원하는 형식의 문자열로 변환하는 데 사용됩니다.\n",
    "포맷 문자열을 사용하여 날짜와 시간을 원하는 형식으로 표현할 수 있습니다.\n",
    "주요 포맷 코드 예시:\n",
    "- `%Y`: 년 (4자리)\n",
    "- `%m`: 월 (2자리)\n",
    "- `%d`: 일 (2자리)\n",
    "- `%H`: 시간 (24시간 형식, 2자리)\n",
    "- `%M`: 분 (2자리)\n",
    "- `%S`: 초 (2자리)"
   ]
  },
  {
   "cell_type": "code",
   "execution_count": 7,
   "id": "90c33b74-d941-463f-856f-44a7d3cf35c7",
   "metadata": {},
   "outputs": [
    {
     "name": "stdout",
     "output_type": "stream",
     "text": [
      "형식화된 날짜: 2023-08-07 10:39:55\n"
     ]
    }
   ],
   "source": [
    "from datetime import datetime\n",
    "\n",
    "current_datetime = datetime.now()\n",
    "formatted_date = current_datetime.strftime(\"%Y-%m-%d %H:%M:%S\")\n",
    "print(\"형식화된 날짜:\", formatted_date)\n"
   ]
  },
  {
   "cell_type": "markdown",
   "id": "67ad9549-f297-4d2f-9f11-54b2a27645d9",
   "metadata": {},
   "source": [
    "### strptime (String Parse Time)\n",
    "\n",
    "strptime 함수는 문자열을 datetime 객체로 파싱(변환)하는 데 사용됩니다.\n",
    "입력된 문자열과 형식 문자열을 비교하여 datetime 객체를 생성합니다.\n",
    "strftime의 포맷 코드와 반대로, 문자열에서 날짜와 시간 정보를 추출합니다."
   ]
  },
  {
   "cell_type": "code",
   "execution_count": 8,
   "id": "5c64a24a-4672-4533-9445-d70116aa36a3",
   "metadata": {},
   "outputs": [
    {
     "name": "stdout",
     "output_type": "stream",
     "text": [
      "파싱된 날짜: 2023-08-07 12:30:00\n"
     ]
    }
   ],
   "source": [
    "from datetime import datetime\n",
    "\n",
    "date_string = \"2023-08-07 12:30:00\"\n",
    "parsed_date = datetime.strptime(date_string, \"%Y-%m-%d %H:%M:%S\")\n",
    "print(\"파싱된 날짜:\", parsed_date)\n"
   ]
  },
  {
   "cell_type": "markdown",
   "id": "17f87cc5-f23f-4682-a8be-814de127ba00",
   "metadata": {},
   "source": [
    "## timestamp\n",
    "\n",
    "datetime 타임스탬프는 특정 날짜와 시간을 고유한 숫자 값으로 나타낸 것을 말합니다.  \n",
    "이 숫자 값은 일반적으로 1970년 1월 1일부터의 경과 시간을 초단위로 표현한 것으로, 이를 \"UNIX 시간\" 또는 \"에포크 시간\"이라고도 합니다.\n",
    "\n",
    "파이썬의 datetime 모듈을 사용하여 날짜와 시간을 다루다보면,  \n",
    "datetime 객체를 특정 시간으로부터의 경과 시간을 나타내는 타임스탬프로 변환하거나,  \n",
    "반대로 타임스탬프를 datetime 객체로 변환하는 작업을 할 수 있습니다."
   ]
  },
  {
   "cell_type": "code",
   "execution_count": null,
   "id": "0c369274-86d6-4066-9833-dce13b9109f1",
   "metadata": {},
   "outputs": [],
   "source": [
    "from datetime import datetime\n",
    "\n",
    "# 현재 시간을 datetime 객체로 가져오기\n",
    "current_datetime = datetime.now()\n",
    "\n",
    "# datetime 객체를 타임스탬프로 변환\n",
    "timestamp = current_datetime.timestamp()\n",
    "print(\"타임스탬프:\", timestamp)\n"
   ]
  },
  {
   "cell_type": "code",
   "execution_count": null,
   "id": "e5ffd337-be1b-439c-83df-f509416ceca7",
   "metadata": {},
   "outputs": [],
   "source": [
    "from datetime import datetime\n",
    "\n",
    "# 타임스탬프를 datetime 객체로 변환\n",
    "timestamp = 1674567890.123456  # 예시 타임스탬프\n",
    "converted_datetime = datetime.fromtimestamp(timestamp)\n",
    "print(\"변환된 datetime 객체:\", converted_datetime)\n"
   ]
  },
  {
   "cell_type": "code",
   "execution_count": null,
   "id": "7529e154-2459-4b51-92d9-2e59b013502f",
   "metadata": {},
   "outputs": [],
   "source": []
  },
  {
   "cell_type": "markdown",
   "id": "f4ddac86-4f89-45b6-8b9b-bbd05db098cc",
   "metadata": {},
   "source": [
    "## tzinfo\n",
    "\n",
    "`tzinfo`는 파이썬의 `datetime` 모듈에서 시간대(Time Zone) 정보를 나타내는 추상 기본 클래스(Abstract Base Class)입니다. 이 클래스를 사용하여 `datetime` 객체에 시간대 정보를 추가할 수 있습니다.\n",
    "\n",
    "\n",
    "## pytz \n",
    "\n",
    "`pytz`는 파이썬에서 시간대(Time Zone) 정보를 처리하고 다루는 라이브러리입니다. 파이썬의 내장 `datetime` 모듈은 기본적으로 시간대 정보를 다루는 기능이 제한적이기 때문에, `pytz` 라이브러리는 이를 보완하여 다양한 시간대의 변환과 처리를 지원합니다. `pytz`는 파이썬의 `datetime` 모듈과 함께 사용하여 시간대 정보를 적용한 날짜와 시간을 다루는 작업을 돕는 도구로 사용됩니다.\n",
    "\n",
    "`pytz` 라이브러리의 주요 기능과 특징은 다음과 같습니다:\n",
    "\n",
    "1. 다양한 시간대 지원: `pytz`는 전 세계의 다양한 시간대를 지원합니다. 오래된 시간대부터 최신 시간대까지 포함하고 있어, 다양한 국가와 지역의 시간을 정확하게 다룰 수 있습니다.\n",
    "\n",
    "2. 오프셋과 시간대 이름: `pytz`는 시간대의 오프셋(offset)과 시간대의 이름을 다루는 클래스와 함수를 제공합니다. 이를 통해 시간대 변환 및 연산이 용이해집니다.\n",
    "\n",
    "3. `datetime` 객체와 함께 사용: `pytz`는 `datetime` 모듈과 밀접하게 연동되어 시간대 정보를 가진 `datetime` 객체를 생성하고, 시간대 변환, 비교 등을 할 수 있도록 합니다.\n",
    "\n",
    "4. 데이터베이스 기반 시간대 정보: `pytz`는 Olson 데이터베이스를 기반으로 시간대 정보를 제공합니다. 이 데이터베이스는 전 세계의 시간대 정보를 관리하며, `pytz`는 이 정보를 활용하여 정확한 시간대 처리를 가능케 합니다.  https://en.wikipedia.org/wiki/List_of_tz_database_time_zones\n",
    "\n",
    "5. 유연한 인터페이스: `pytz`는 다양한 시간대 정보를 다루는 데 필요한 유연한 인터페이스를 제공합니다. 시간대 이름, 오프셋, DST(Daylight Saving Time) 등을 조작하고 변환할 수 있습니다.\n"
   ]
  },
  {
   "cell_type": "code",
   "execution_count": 77,
   "id": "6e0e6e72-1a0a-4caf-b340-7a326f89f092",
   "metadata": {},
   "outputs": [
    {
     "name": "stdout",
     "output_type": "stream",
     "text": [
      "Default:  2023-08-07 13:26:17.744122 1691382377.744122\n",
      "Seoul:    2023-08-07 13:26:17.744122+09:00 1691382377.744122\n",
      "UTC:      2023-08-07 04:26:17.744122+00:00 1691382377.744122\n",
      "New York: 2023-08-07 00:26:17.744122-04:00 1691382377.744122\n"
     ]
    }
   ],
   "source": [
    "import pytz\n",
    "from datetime import datetime\n",
    "\n",
    "current_datetime = datetime.now()\n",
    "print(\"Default: \", current_datetime, current_datetime.timestamp())\n",
    "\n",
    "\n",
    "# 서울 시간대 생성\n",
    "seoul_timezone = pytz.timezone('Asia/Seoul')\n",
    "\n",
    "# 현재 서울 시간 가져오기\n",
    "seoul_datetime = current_datetime.astimezone(seoul_timezone)\n",
    "print(\"Seoul:   \", seoul_datetime, seoul_datetime.timestamp())\n",
    "\n",
    "# UTC로 변환\n",
    "utc_datetime = current_datetime.astimezone(pytz.UTC)\n",
    "print(\"UTC:     \", utc_datetime, utc_datetime.timestamp())\n",
    "\n",
    "# 뉴욕 시간으로 변환\n",
    "new_york_timezone = pytz.timezone('America/New_York')\n",
    "ny_datetime = current_datetime.astimezone(new_york_timezone)\n",
    "print(\"New York:\", ny_datetime, ny_datetime.timestamp())\n"
   ]
  },
  {
   "cell_type": "code",
   "execution_count": 81,
   "id": "963d93ed-2899-48b4-9cf1-a6b84deacb63",
   "metadata": {},
   "outputs": [
    {
     "name": "stdout",
     "output_type": "stream",
     "text": [
      "사용 가능한 모든 시간대: 596 ['Africa/Abidjan', 'Africa/Accra', 'Africa/Addis_Ababa', 'Africa/Algiers', 'Africa/Asmara', 'Africa/Asmera', 'Africa/Bamako', 'Africa/Bangui', 'Africa/Banjul', 'Africa/Bissau']\n",
      "일반적으로 사용되는 시간대: 433 ['Africa/Abidjan', 'Africa/Accra', 'Africa/Addis_Ababa', 'Africa/Algiers', 'Africa/Asmara', 'Africa/Bamako', 'Africa/Bangui', 'Africa/Banjul', 'Africa/Bissau', 'Africa/Blantyre']\n"
     ]
    }
   ],
   "source": [
    "# 사용 가능한 모든 시간대 출력\n",
    "all_timezones = pytz.all_timezones\n",
    "print(\"사용 가능한 모든 시간대:\", len(all_timezones), all_timezones[:10])\n",
    "\n",
    "# 일반적으로 사용되는 시간대 출력\n",
    "common_timezones = pytz.common_timezones\n",
    "print(\"일반적으로 사용되는 시간대:\", len(common_timezones), common_timezones[:10])"
   ]
  },
  {
   "cell_type": "code",
   "execution_count": null,
   "id": "c7b0c893-0ddd-45dc-991d-dfff7a3182ca",
   "metadata": {},
   "outputs": [],
   "source": []
  },
  {
   "cell_type": "code",
   "execution_count": null,
   "id": "b9ae8279-8bf5-48d7-9114-cf2d10e66c4a",
   "metadata": {},
   "outputs": [],
   "source": []
  },
  {
   "cell_type": "code",
   "execution_count": null,
   "id": "772eeac9-8931-46e0-a312-f955d16ae1a0",
   "metadata": {},
   "outputs": [],
   "source": []
  },
  {
   "cell_type": "code",
   "execution_count": null,
   "id": "35215112-fc0b-43b7-865d-d2af63d0d633",
   "metadata": {},
   "outputs": [],
   "source": []
  },
  {
   "cell_type": "code",
   "execution_count": null,
   "id": "4822e901-69ee-4202-ada8-ea518dcb0ae0",
   "metadata": {},
   "outputs": [],
   "source": []
  },
  {
   "cell_type": "code",
   "execution_count": null,
   "id": "915fc799-70f3-4dde-8909-345325ffe204",
   "metadata": {},
   "outputs": [],
   "source": []
  },
  {
   "cell_type": "code",
   "execution_count": 69,
   "id": "3224b87c-5dd8-4f79-b451-0f0ab92eabcc",
   "metadata": {},
   "outputs": [
    {
     "name": "stdout",
     "output_type": "stream",
     "text": [
      "datetime             2023-08-07 12:00:00       1691377200.0\n",
      "local datetime       2023-08-07 12:00:00       1691377200.0\n",
      "Seoul datetime:      2023-08-07 12:00:00+08:28 1691379120.0\n",
      "UTC datetime:        2023-08-07 12:00:00+00:00 1691409600.0\n",
      "New York datetime:   2023-08-07 12:00:00-04:56 1691427360.0\n"
     ]
    }
   ],
   "source": [
    "from datetime import datetime\n",
    "import pytz\n",
    "\n",
    "# Default 시간대의 datetime 객체 생성\n",
    "default_datetime = datetime(2023, 8, 7, 12, 0, 0)\n",
    "print(f\"{'datetime':20s} {str(default_datetime):25s} {default_datetime.timestamp()}\")\n",
    "\n",
    "# Default 시간대의 datetime 객체 생성\n",
    "local_datetime = datetime(2023, 8, 7, 12, 0, 0)\n",
    "print(f\"{'local datetime':20s} {str(default_datetime):25s} {default_datetime.timestamp()}\")\n",
    "\n",
    "# 뉴욕 시간대의 datetime 객체 생성\n",
    "seoul_timezone = pytz.timezone('Asia/Seoul')\n",
    "seoul_datetime = datetime(2023, 8, 7, 12, 0, 0, tzinfo=seoul_timezone)\n",
    "print(f\"{'Seoul datetime:':20s} {str(seoul_datetime):25s} {seoul_datetime.timestamp()}\")\n",
    "\n",
    "# UTC 시간대의 datetime 객체 생성\n",
    "utc_datetime = datetime(2023, 8, 7, 12, 0, 0, tzinfo=pytz.UTC)\n",
    "print(f\"{'UTC datetime:':20s} {str(utc_datetime):25s} {utc_datetime.timestamp()}\")\n",
    "\n",
    "# 뉴욕 시간대의 datetime 객체 생성\n",
    "new_york_timezone = pytz.timezone('America/New_York')\n",
    "ny_datetime = datetime(2023, 8, 7, 12, 0, 0, tzinfo=new_york_timezone)\n",
    "print(f\"{'New York datetime:':20s} {str(ny_datetime):25s} {ny_datetime.timestamp()}\")"
   ]
  },
  {
   "cell_type": "code",
   "execution_count": 39,
   "id": "8b6285c6-6537-4cda-8380-7484fbca9268",
   "metadata": {},
   "outputs": [
    {
     "name": "stdout",
     "output_type": "stream",
     "text": [
      "Seoul datetime:      2023-08-07 12:57:26.672290+09:00 1691380646.67229\n"
     ]
    }
   ],
   "source": [
    "# 뉴욕 시간대의 datetime 객체 생성\n",
    "seoul_timezone = pytz.timezone('Asia/Seoul')\n",
    "seoul_datetime = seoul_timezone.localize(datetime.now())\n",
    "print(f\"{'Seoul datetime:':20s} {str(seoul_datetime):25s} {seoul_datetime.timestamp()}\")"
   ]
  },
  {
   "cell_type": "code",
   "execution_count": 40,
   "id": "7c86fbf7-9e81-4020-9af3-75b770a8054f",
   "metadata": {},
   "outputs": [
    {
     "data": {
      "text/plain": [
       "'2023-08-07 12:57:26.672290+09:00'"
      ]
     },
     "execution_count": 40,
     "metadata": {},
     "output_type": "execute_result"
    }
   ],
   "source": [
    "str(seoul_datetime)"
   ]
  },
  {
   "cell_type": "code",
   "execution_count": 41,
   "id": "4ca2b2f3-30a5-46ac-9f7a-4ce757fbdf05",
   "metadata": {},
   "outputs": [
    {
     "data": {
      "text/plain": [
       "'2023-08-06 23:57:26.672290-04:00'"
      ]
     },
     "execution_count": 41,
     "metadata": {},
     "output_type": "execute_result"
    }
   ],
   "source": [
    "str(seoul_datetime.astimezone(new_york_timezone))"
   ]
  },
  {
   "cell_type": "code",
   "execution_count": null,
   "id": "73646e43-56c8-4806-a4fa-32c1e9a0933b",
   "metadata": {},
   "outputs": [],
   "source": []
  }
 ],
 "metadata": {
  "kernelspec": {
   "display_name": "Python 3 (ipykernel)",
   "language": "python",
   "name": "python3"
  },
  "language_info": {
   "codemirror_mode": {
    "name": "ipython",
    "version": 3
   },
   "file_extension": ".py",
   "mimetype": "text/x-python",
   "name": "python",
   "nbconvert_exporter": "python",
   "pygments_lexer": "ipython3",
   "version": "3.10.11"
  }
 },
 "nbformat": 4,
 "nbformat_minor": 5
}
