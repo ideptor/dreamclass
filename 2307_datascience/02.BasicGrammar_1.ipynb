{
 "cells": [
  {
   "cell_type": "markdown",
   "id": "97b40211-a238-4055-a4a0-010a9a0b06af",
   "metadata": {},
   "source": [
    "# 파이썬 언어의 변수 타입\n",
    "\n",
    "파이썬은 동적 타이핑 언어이므로 변수를 선언할 때 변수의 타입을 명시적으로 지정할 필요가 없습니다. 변수는 할당되는 값에 따라 자동으로 데이터 타입이 결정됩니다."
   ]
  },
  {
   "cell_type": "code",
   "execution_count": 4,
   "id": "3d4b5609-9292-4718-b65a-ff32c57be416",
   "metadata": {},
   "outputs": [
    {
     "name": "stdout",
     "output_type": "stream",
     "text": [
      "<class 'int'> 25 <class 'int'> 2023\n"
     ]
    }
   ],
   "source": [
    "\"\"\"\n",
    "1. 정수형(Integer):\n",
    "정수를 나타내는 데이터 타입입니다. 파이썬에서는 크기에 상관없이 정수를 표현할 수 있습니다.\n",
    "\"\"\"\n",
    "\n",
    "age = 25\n",
    "year = 2023\n",
    "\n",
    "print(type(age), age, type(year), year)"
   ]
  },
  {
   "cell_type": "code",
   "execution_count": 10,
   "id": "386b0d1f-44c5-4133-8853-b499ba0bf831",
   "metadata": {},
   "outputs": [
    {
     "name": "stdout",
     "output_type": "stream",
     "text": [
      "<class 'float'> 3.14159 <class 'float'> 25.5 <class 'float'> 0.0123\n"
     ]
    }
   ],
   "source": [
    "'''\n",
    "2. 부동소수점형(Float):\n",
    "실수를 나타내는 데이터 타입으로, 소수점을 가지는 숫자를 표현합니다.\n",
    "'''\n",
    "\n",
    "pi = 3.14159\n",
    "temperature = 25.5\n",
    "length = 1.23e-2\n",
    "\n",
    "print(type(pi), pi, type(temperature), temperature, type(length), length)"
   ]
  },
  {
   "cell_type": "code",
   "execution_count": 21,
   "id": "d71a58a1-c1c4-48ff-8bf1-5a3bb7966cf7",
   "metadata": {},
   "outputs": [],
   "source": [
    "# float <-> int 형변환"
   ]
  },
  {
   "cell_type": "code",
   "execution_count": 11,
   "id": "76e32c9b-45e1-4bae-9671-dab32acd8ab7",
   "metadata": {},
   "outputs": [
    {
     "name": "stdout",
     "output_type": "stream",
     "text": [
      "<class 'bool'> True <class 'bool'> False\n"
     ]
    }
   ],
   "source": [
    "'''\n",
    "3. 불린형(Boolean):\n",
    "참(True) 또는 거짓(False) 값을 가지는 데이터 타입입니다. 조건식의 결과로 사용될 수 있습니다.\n",
    "'''\n",
    "\n",
    "is_raining = True\n",
    "has_license = False\n",
    "\n",
    "print(type(is_raining), is_raining, type(has_license), has_license)"
   ]
  },
  {
   "cell_type": "code",
   "execution_count": 14,
   "id": "1e198730-573d-4ada-94d3-1e6f4b79b073",
   "metadata": {},
   "outputs": [
    {
     "name": "stdout",
     "output_type": "stream",
     "text": [
      "<class 'str'> 8 John Doe\n"
     ]
    }
   ],
   "source": [
    "'''\n",
    "4. 문자열(String):\n",
    "문자들의 시퀀스로 이루어진 데이터 타입입니다. 작은 따옴표('')나 큰 따옴표(\"\")로 묶어서 표현합니다.\n",
    "'''\n",
    "\n",
    "name = \"John Doe\"\n",
    "message = 'Hello, World!'\n",
    "\n",
    "print(type(name), len(name), name)"
   ]
  },
  {
   "cell_type": "code",
   "execution_count": 15,
   "id": "d4e58ac5-afdb-4cfa-9e87-159d9c6b8ca8",
   "metadata": {},
   "outputs": [
    {
     "name": "stdout",
     "output_type": "stream",
     "text": [
      "<class 'list'> 3 ['apple', 'banana', 'orange']\n"
     ]
    }
   ],
   "source": [
    "'''\n",
    "5. 리스트(List):\n",
    "여러 개의 요소들을 순서대로 저장하는 데이터 타입입니다. 대괄호([])로 묶어서 표현합니다.\n",
    "'''\n",
    "\n",
    "fruits = [\"apple\", \"banana\", \"orange\"]\n",
    "numbers = [1, 2, 3, 4, 5]\n",
    "\n",
    "print(type(fruits), len(fruits), fruits)"
   ]
  },
  {
   "cell_type": "code",
   "execution_count": 17,
   "id": "0805c3c9-dd2a-442c-a9a9-5b25bd46e051",
   "metadata": {},
   "outputs": [
    {
     "name": "stdout",
     "output_type": "stream",
     "text": [
      "['apple', 1, True, 3.4]\n"
     ]
    }
   ],
   "source": [
    "example = [\"apple\", 1, True, 3.4]\n",
    "print(example)"
   ]
  },
  {
   "cell_type": "code",
   "execution_count": 22,
   "id": "50619fad-28f2-42bc-b45e-be7c090068d1",
   "metadata": {},
   "outputs": [
    {
     "name": "stdout",
     "output_type": "stream",
     "text": [
      "<class 'tuple'> 3 ('red', 'green', 'blue')\n"
     ]
    }
   ],
   "source": [
    "'''\n",
    "6. 튜플(Tuple):\n",
    "리스트와 비슷하지만, 변경이 불가능한(immutable) 데이터 타입입니다. 괄호(())로 묶어서 표현합니다.\n",
    "'''\n",
    "\n",
    "coordinates = (10, 20)\n",
    "colors = (\"red\", \"green\", \"blue\")\n",
    "\n",
    "print(type(colors), len(colors), colors)"
   ]
  },
  {
   "cell_type": "code",
   "execution_count": 23,
   "id": "0912989f-a544-4cc5-927c-74dd01ecf615",
   "metadata": {},
   "outputs": [],
   "source": [
    "'''\n",
    "7. 딕셔너리(Dictionary):\n",
    "키와 값의 쌍으로 이루어진 데이터 타입입니다. 중괄호({})로 묶어서 표현하며, 각 키와 값은 콜론(:)으로 구분합니다.\n",
    "'''\n",
    "\n",
    "student = {\"name\": \"Alice\", \"age\": 23, \"major\": \"Computer Science\"}\n",
    "scores = {\"math\": 90, \"english\": 85, \"science\": 95}\n"
   ]
  },
  {
   "cell_type": "code",
   "execution_count": 30,
   "id": "6a8dc229-cea6-4157-adc7-027d38fe3520",
   "metadata": {},
   "outputs": [],
   "source": [
    "# dictionaly 정보 확인: len(), keys(), values(), items()"
   ]
  },
  {
   "cell_type": "code",
   "execution_count": 31,
   "id": "3181b681-44e6-467e-b5ca-62d121865e98",
   "metadata": {},
   "outputs": [],
   "source": [
    "'''\n",
    "8. 집합(Set):\n",
    "중복되지 않는 요소들로 구성된 데이터 타입입니다. 중괄호({})로 묶어서 표현합니다.\n",
    "'''\n",
    "\n",
    "unique_numbers = {1, 2, 3, 4, 5}\n",
    "fruits_set = {\"apple\", \"banana\", \"orange\"}\n"
   ]
  },
  {
   "cell_type": "code",
   "execution_count": 32,
   "id": "41143dbe-39b3-4d62-8024-8ee6dcb68b80",
   "metadata": {},
   "outputs": [],
   "source": [
    "# list <-> set"
   ]
  },
  {
   "cell_type": "markdown",
   "id": "1e849506-3f10-4339-8cd9-bb3d68edd4d9",
   "metadata": {},
   "source": [
    "# 파이썬 연산자"
   ]
  },
  {
   "cell_type": "code",
   "execution_count": 34,
   "id": "9d513826-839e-473e-bda7-33c6da43f783",
   "metadata": {},
   "outputs": [],
   "source": [
    "\"\"\"\n",
    "1. 산술 연산자 (Arithmetic Operators):\n",
    "\n",
    "사칙연산을 수행하는 연산자입니다.\n",
    "\"\"\"\n",
    "\n",
    "x = 10\n",
    "y = 3\n",
    "\n",
    "add_result = x + y   # 덧셈\n",
    "sub_result = x - y   # 뺄셈\n",
    "mul_result = x * y   # 곱셈\n",
    "div_result = x / y   # 나눗셈 (결과가 실수형으로 나옴)\n",
    "int_div_result = x // y  # 나눗셈 (결과가 정수형으로 나옴)\n",
    "mod_result = x % y   # 나머지\n",
    "pow_result = x ** y  # 거듭제곱 \n"
   ]
  },
  {
   "cell_type": "code",
   "execution_count": 35,
   "id": "4a614ce1-ab10-4f70-85f8-3508719f9d4d",
   "metadata": {},
   "outputs": [],
   "source": [
    "\"\"\"\n",
    "2. 할당 연산자 (Assignment Operators):\n",
    "\n",
    "변수에 값을 할당하는 연산자입니다.\n",
    "\"\"\"\n",
    "\n",
    "x = 10   # 변수 x에 10을 할당\n",
    "y = 5    # 변수 y에 5를 할당\n",
    "\n",
    "x += y   # x = x + y 와 동일\n",
    "x -= y   # x = x - y 와 동일\n",
    "x *= y   # x = x * y 와 동일\n",
    "x /= y   # x = x / y 와 동일\n",
    "x %= y   # x = x % y 와 동일\n",
    "x **= y  # x = x ** y 와 동일\n"
   ]
  },
  {
   "cell_type": "code",
   "execution_count": 1,
   "id": "8183871a-e90b-4b16-af60-7f8f3ad7e0bf",
   "metadata": {},
   "outputs": [],
   "source": [
    "\"\"\"\n",
    "3. 비교 연산자 (Comparison Operators):\n",
    "\n",
    "값들을 비교하여 참(True) 또는 거짓(False)을 반환하는 연산자입니다.\n",
    "\"\"\"\n",
    "\n",
    "x = 10\n",
    "y = 5\n",
    "\n",
    "is_equal = x == y      # x와 y가 같은지 비교\n",
    "is_not_equal = x != y  # x와 y가 다른지 비교\n",
    "is_greater = x > y     # x가 y보다 큰지 비교\n",
    "is_less = x < y        # x가 y보다 작은지 비교\n",
    "is_greater_equal = x >= y  # x가 y보다 크거나 같은지 비교\n",
    "is_less_equal = x <= y     # x가 y보다 작거나 같은지 비교\n",
    "\n"
   ]
  },
  {
   "cell_type": "code",
   "execution_count": null,
   "id": "bb65dcd2-354e-4edc-881b-099f9fba15f0",
   "metadata": {},
   "outputs": [],
   "source": [
    "\"\"\"\n",
    "4. 논리 연산자 (Logical Operators):\n",
    "\n",
    "논리적인 연산을 수행하여 참(True) 또는 거짓(False)을 반환하는 연산자입니다.\n",
    "\"\"\"\n",
    "\n",
    "x = True\n",
    "y = False\n",
    "\n",
    "logical_and = x and y  # 논리 AND (x와 y 모두 참일 때만 True, 그 외에는 False)\n",
    "logical_or = x or y    # 논리 OR (x나 y 둘 중 하나라도 참이면 True, 둘 다 거짓이면 False)\n",
    "logical_not_x = not x  # 논리 NOT (x가 참이면 False, 거짓이면 True)\n",
    "logical_not_y = not y  # 논리 NOT (y가 참이면 False, 거짓이면 True)\n",
    "\n",
    "\n"
   ]
  },
  {
   "cell_type": "code",
   "execution_count": null,
   "id": "99793c5a-b46d-4f7f-ae58-3541cca77650",
   "metadata": {},
   "outputs": [],
   "source": [
    "\"\"\"\n",
    "5. 멤버십 연산자 (Membership Operators):\n",
    "\n",
    "특정 값이 컨테이너(리스트, 튜플, 집합 등)에 포함되어 있는지 여부를 확인하는 연산자입니다.\n",
    "\"\"\"\n",
    "\n",
    "numbers = [1, 2, 3, 4, 5]\n",
    "\n",
    "is_in_list = 3 in numbers     # 3이 numbers 리스트에 포함되어 있는지 확인\n",
    "is_not_in_list = 6 not in numbers  # 6이 numbers 리스트에 포함되어 있지 않은지 확인\n"
   ]
  },
  {
   "cell_type": "code",
   "execution_count": null,
   "id": "311b823c-2fae-4644-a183-f71f559e4504",
   "metadata": {},
   "outputs": [],
   "source": [
    "\"\"\"\n",
    "6. 식별 연산자 (Identity Operators):\n",
    "\n",
    "객체의 메모리 주소를 비교하여 두 객체가 같은 객체인지 여부를 확인하는 연산자입니다.\n",
    "\"\"\"\n",
    "\n",
    "x = [1, 2, 3]\n",
    "y = [1, 2, 3]\n",
    "z = x\n",
    "\n",
    "is_x_same_as_y = x is y      # x와 y가 같은 객체인지 확인\n",
    "is_x_not_same_as_y = x is not y  # x와 y가 다른 객체인지 확인\n",
    "is_x_same_as_z = x is z      # x와 z가 같은 객체인지 확인\n"
   ]
  },
  {
   "cell_type": "code",
   "execution_count": null,
   "id": "b6b031d4-74a1-42a3-aea8-10ea0d1f093a",
   "metadata": {},
   "outputs": [],
   "source": [
    "\"\"\"\n",
    "7. 삼항 연산자 (Ternary Operator):\n",
    "\n",
    "조건식을 간단하게 표현하는데 사용되는 연산자입니다.\n",
    "(조건식)? A: B\n",
    "A if (조건식) else B\n",
    "\"\"\"\n",
    "\n",
    "x = 10\n",
    "y = 5\n",
    "\n",
    "max_value = x if x > y else y      # x와 y 중에서 더 큰 값을 선택\n",
    "is_positive = \"Positive\" if x > 0 else \"Non-positive\"  # x가 양수인지 확인\n",
    "\n"
   ]
  },
  {
   "cell_type": "code",
   "execution_count": null,
   "id": "fb34bba4-2c6a-45bf-932c-83035e281819",
   "metadata": {},
   "outputs": [],
   "source": [
    "\"\"\"\n",
    "8. 증감 연산자 (Increment and Decrement Operators):\n",
    "\n",
    "파이썬은 증가(increment)와 감소(decrement) 연산자인 ++와 --를 지원하지 않습니다. \n",
    "대신에 +=와 -=를 사용하여 변수 값을 증가시키거나 감소시킬 수 있습니다.\n",
    "\"\"\"\n",
    "\n",
    "x = 5\n",
    "\n",
    "x += 1  # x의 값을 1 증가시킴\n",
    "x -= 1  # x의 값을 1 감소시킴\n",
    "\n",
    "\n"
   ]
  },
  {
   "cell_type": "code",
   "execution_count": null,
   "id": "ebeaf0f5-ad7c-4b8a-ae98-3c23b37e0b88",
   "metadata": {},
   "outputs": [],
   "source": [
    "\"\"\"\n",
    "9. 식별 연산자 (Identity Operators):\n",
    "\n",
    "객체의 메모리 주소를 비교하여 두 객체가 같은 객체인지 여부를 확인하는 연산자입니다.\n",
    "\"\"\"\n",
    "\n",
    "x = [1, 2, 3]\n",
    "y = [1, 2, 3]\n",
    "z = x\n",
    "\n",
    "is_x_same_as_y = x is y      # x와 y가 같은 객체인지 확인\n",
    "is_x_not_same_as_y = x is not y  # x와 y가 다른 객체인지 확인\n",
    "is_x_same_as_z = x is z      # x와 z가 같은 객체인지 확인\n"
   ]
  },
  {
   "cell_type": "code",
   "execution_count": null,
   "id": "03cb73b9-b146-4571-acf8-6b24675081ea",
   "metadata": {},
   "outputs": [],
   "source": [
    "\"\"\"\n",
    "10. 비트 연산자 (Bitwise Operators):\n",
    "\n",
    "비트 단위로 연산을 수행하는 연산자입니다.\n",
    "\"\"\"\n",
    "x = 10  # 10은 이진수로 1010\n",
    "y = 5   # 5는 이진수로 0101\n",
    "\n",
    "bitwise_and = x & y   # 비트 AND (1010 & 0101 = 0000)\n",
    "bitwise_or = x | y    # 비트 OR (1010 | 0101 = 1111)\n",
    "bitwise_xor = x ^ y   # 비트 XOR (1010 ^ 0101 = 1111)\n",
    "bitwise_not_x = ~x    # 비트 NOT (~1010 = 0101)\n",
    "left_shift = x << 1   # 비트 좌측 시프트 (1010 << 1 = 10100)\n",
    "right_shift = x >> 1  # 비트 우측 시프트 (1010 >> 1 = 0101)\n",
    "\n",
    "\n"
   ]
  },
  {
   "cell_type": "markdown",
   "id": "7a82eb80-eb6d-4b51-9e44-81c74f52b332",
   "metadata": {},
   "source": [
    "# 시퀀스자료형 (Sequence)\n",
    "\n",
    "## 개요\n",
    "\n",
    "파이썬에서 시퀀스 자료형은 데이터들을 순서대로 나열하는 형태를 말합니다. 시퀀스 자료형은 여러 개의 원소(element)로 구성되어 있으며, 각 원소들은 순서(인덱스)를 가지고 있습니다. 파이썬에서 가장 많이 사용되는 시퀀스 자료형으로는 `리스트(list)`, `튜플(tuple)`, `문자열(string)`등 이 있습니다"
   ]
  },
  {
   "cell_type": "markdown",
   "id": "03f269b4-add1-468e-b222-8b3da656f2de",
   "metadata": {},
   "source": [
    "# 주요특징"
   ]
  },
  {
   "cell_type": "code",
   "execution_count": 2,
   "id": "f6a0dc42-b85b-4770-8dca-630da22ebf37",
   "metadata": {},
   "outputs": [
    {
     "name": "stdout",
     "output_type": "stream",
     "text": [
      "apple\n",
      "orange\n"
     ]
    }
   ],
   "source": [
    "\"\"\"\n",
    "1. 인덱싱 (Indexing):\n",
    "\n",
    "시퀀스 자료형은 각 원소에 인덱스를 사용하여 접근할 수 있습니다. 인덱스는 0부터 시작합니다.\n",
    "\"\"\"\n",
    "\n",
    "fruits = [\"apple\", \"banana\", \"orange\"]\n",
    "\n",
    "print(fruits[0])   # \"apple\"\n",
    "print(fruits[2])   # \"orange\"\n"
   ]
  },
  {
   "cell_type": "code",
   "execution_count": null,
   "id": "968ef39b-3dd1-4b5d-a3b3-6e0413975886",
   "metadata": {},
   "outputs": [],
   "source": [
    "\"\"\"\n",
    "1-1. 값 할당 (Assigning a Value):\n",
    "\n",
    "시퀀스 자료형의 특정 인덱스에 값을 할당하여 원소를 변경할 수 있습니다.\n",
    "\"\"\"\n",
    "fruits = [\"apple\", \"banana\", \"orange\"]\n",
    "\n",
    "# 인덱스 1에 있는 \"banana\"를 \"grape\"로 변경\n",
    "fruits[1] = \"grape\""
   ]
  },
  {
   "cell_type": "code",
   "execution_count": null,
   "id": "585f8c7c-71da-4aca-8ad6-b31eb1fea6d3",
   "metadata": {},
   "outputs": [],
   "source": [
    "\"\"\"\n",
    "1-2. 값삽입 (Insertion):\n",
    "\n",
    "insert() 메서드를 사용하여 원하는 위치에 새로운 값을 삽입할 수 있습니다.\n",
    "\"\"\"\n",
    "fruits = [\"apple\", \"banana\", \"orange\"]\n",
    "\n",
    "# 인덱스 1에 \"grape\"를 삽입\n",
    "fruits.insert(1, \"grape\")\n"
   ]
  },
  {
   "cell_type": "code",
   "execution_count": null,
   "id": "7d4d8d0f-7bec-4fdc-8113-e0ac48acd849",
   "metadata": {},
   "outputs": [],
   "source": [
    "\"\"\"\n",
    "1-3. 삭제 (Deletion):\n",
    "\n",
    "del 키워드를 사용하여 특정 인덱스의 원소를 삭제할 수 있습니다.\n",
    "\"\"\"\n",
    "fruits = [\"apple\", \"banana\", \"orange\"]\n",
    "\n",
    "# 인덱스 1에 있는 \"banana\"를 삭제\n",
    "del fruits[1]\n"
   ]
  },
  {
   "cell_type": "code",
   "execution_count": null,
   "id": "700a5ce0-d517-4c94-92a4-3b645c2eb8f7",
   "metadata": {},
   "outputs": [],
   "source": [
    "\"\"\"\n",
    "1-4. 값 삭제 (Remove Value):\n",
    "\n",
    "remove() 메서드를 사용하여 특정 값을 찾아서 삭제할 수 있습니다. 주의할 점은 해당 값이 여러 번 나타나면 첫 번째로 나타나는 값만 삭제됩니다.\n",
    "\"\"\"\n",
    "fruits = [\"apple\", \"banana\", \"orange\", \"banana\"]\n",
    "\n",
    "# \"banana\" 값을 삭제 (첫 번째로 나타나는 \"banana\"만 삭제됨)\n",
    "fruits.remove(\"banana\")\n"
   ]
  },
  {
   "cell_type": "code",
   "execution_count": 5,
   "id": "b04d4ed6-5d72-485a-91af-7463a7680983",
   "metadata": {},
   "outputs": [
    {
     "name": "stdout",
     "output_type": "stream",
     "text": [
      "[2, 3, 4]\n",
      "[1, 2, 3]\n",
      "[4, 5]\n",
      "[1, 3]\n"
     ]
    }
   ],
   "source": [
    "\"\"\"\n",
    "2. 슬라이싱 (Slicing):\n",
    "\n",
    "슬라이싱을 통해 시퀀스 자료형의 일부분을 추출할 수 있습니다. 인덱스 범위를 지정하여 원하는 부분을 가져올 수 있습니다.\n",
    "[시작:끝:증가폭]\n",
    "\"\"\"\n",
    "\n",
    "numbers = [1, 2, 3, 4, 5]\n",
    "\n",
    "print(numbers[1:4])   # [2, 3, 4] (인덱스 1부터 3까지의 원소)\n",
    "print(numbers[:3])    # [1, 2, 3] (인덱스 0부터 2까지의 원소)\n",
    "print(numbers[3:])    # [4, 5] (인덱스 3부터 끝까지의 원소)\n",
    "print(numbers[:3:2])  # [1, 3] (인덱스 0부터 3까지의 원소, 증가폭을 2로)"
   ]
  },
  {
   "cell_type": "code",
   "execution_count": null,
   "id": "e74b8a39-c105-41d8-bdd2-6afe4382d1df",
   "metadata": {},
   "outputs": [],
   "source": [
    "\"\"\" \n",
    "슬라이싱 추가 예제\n",
    "\"\"\"\n",
    "fruits = [\"apple\", \"banana\", \"orange\", \"grape\", \"kiwi\"]\n",
    "\n",
    "# 인덱스 1부터 3까지의 원소 추출\n",
    "fruits[1:4]\n",
    "\n",
    "# 처음부터 인덱스 2까지의 원소 추출\n",
    "fruits[:3]\n",
    "\n",
    "# 인덱스 2부터 끝까지의 원소 추출\n",
    "fruits[2:]\n",
    "fruits[-3:]\n",
    "\n",
    "# 인덱스 -3부터 인덱스 -1까지의 원소 추출\n",
    "fruits[-3:-1]\n",
    "\n",
    "# 인덱스 1부터 끝까지 2칸씩 건너뛰며 원소 추출\n",
    "fruits[1::2]\n",
    "\n",
    "# 리스트의 모든 원소를 거꾸로 추출\n",
    "fruits[::-1]"
   ]
  },
  {
   "cell_type": "code",
   "execution_count": null,
   "id": "7704825f-c0f3-4af6-a33c-e442dd1ad221",
   "metadata": {},
   "outputs": [],
   "source": [
    "\"\"\"\n",
    "string의 슬라이싱 예제\n",
    "\"\"\"\n",
    "message = \"Hello, World!\"\n",
    "\n",
    "# 인덱스 0부터 4까지의 문자 추출\n",
    "sliced_message = message[0:5]\n",
    "print(sliced_message)  # \"Hello\"\n",
    "\n",
    "# 처음부터 인덱스 7까지의 문자 추출\n",
    "sliced_message = message[:8]\n",
    "print(sliced_message)  # \"Hello, W\"\n",
    "\n",
    "# 인덱스 7부터 끝까지의 문자 추출\n",
    "sliced_message = message[7:]\n",
    "print(sliced_message)  # \"World!\"\n",
    "\n",
    "# 인덱스 -6부터 인덱스 -2까지의 문자 추출\n",
    "sliced_message = message[-6:-1]\n",
    "print(sliced_message)  # \"World\"\n",
    "\n",
    "# 인덱스 0부터 끝까지 2칸씩 건너뛰며 문자 추출\n",
    "sliced_message = message[::2]\n",
    "print(sliced_message)  # \"Hlo ol!\"\n",
    "\n",
    "# 문자열의 모든 문자를 거꾸로 추출\n",
    "sliced_message = message[::-1]\n",
    "print(sliced_message)  # \"!dlroW ,olleH\""
   ]
  },
  {
   "cell_type": "code",
   "execution_count": null,
   "id": "00124276-3c58-44a2-85fd-b379fcaffd19",
   "metadata": {},
   "outputs": [],
   "source": [
    "\"\"\"\n",
    "슬라이싱을 이용한 일괄 삭제:\n",
    "\n",
    "슬라이싱을 사용하여 여러 개의 원소를 한 번에 삭제할 수 있습니다.\n",
    "\"\"\"\n",
    "fruits = [\"apple\", \"banana\", \"orange\", \"grape\", \"kiwi\"]\n",
    "\n",
    "# 인덱스 1부터 3까지의 원소 삭제\n",
    "del fruits[1:4]"
   ]
  },
  {
   "cell_type": "code",
   "execution_count": 16,
   "id": "9da1c612-ee01-46b3-8ca7-14ccd95620cb",
   "metadata": {},
   "outputs": [],
   "source": [
    "\"\"\"\n",
    "모든 원소 삭제:\n",
    "\n",
    "시퀀스 자료형의 모든 원소를 삭제할 때는 슬라이싱을 활용합니다\n",
    "\"\"\"\n",
    "fruits = [\"apple\", \"banana\", \"orange\"]\n",
    "\n",
    "# 모든 원소 삭제\n",
    "fruits[:] = []   # fruits = [] 와의 차이점은?\n"
   ]
  },
  {
   "cell_type": "code",
   "execution_count": 17,
   "id": "03d6ad20-cc08-422e-a0f4-81fe11855411",
   "metadata": {},
   "outputs": [
    {
     "name": "stdout",
     "output_type": "stream",
     "text": [
      "5\n",
      "3\n"
     ]
    }
   ],
   "source": [
    "\"\"\"\n",
    "3. 길이 확인 (Length):\n",
    "\n",
    "len() 함수를 사용하여 시퀀스 자료형의 원소 개수를 확인할 수 있습니다.\n",
    "\"\"\"\n",
    "name = \"Alice\"\n",
    "fruits = [\"apple\", \"banana\", \"orange\"]\n",
    "\n",
    "print(len(name))    # 5 (문자열 name의 길이)\n",
    "print(len(fruits))  # 3 (리스트 fruits의 원소 개수)"
   ]
  },
  {
   "cell_type": "code",
   "execution_count": 18,
   "id": "5045525e-03aa-48f3-98e9-3baf864d7fd8",
   "metadata": {},
   "outputs": [],
   "source": [
    "\"\"\"\n",
    "4. 반복 (Repetition):\n",
    "\n",
    "시퀀스 자료형은 * 연산자를 사용하여 반복할 수 있습니다.\n",
    "\"\"\"\n",
    "message = \"Hello, \"\n",
    "repeat_count = 3\n",
    "\n",
    "result = message * repeat_count"
   ]
  },
  {
   "cell_type": "code",
   "execution_count": null,
   "id": "6cd27e30-41dc-48e7-9828-c625ce4e7c14",
   "metadata": {},
   "outputs": [],
   "source": [
    "\"\"\"\n",
    "5. 연결 (Concatenation):\n",
    "\n",
    "시퀀스 자료형은 + 연산자를 사용하여 연결할 수 있습니다.\n",
    "\"\"\"\n",
    "first_list = [1, 2, 3]\n",
    "second_list = [4, 5, 6]\n",
    "\n",
    "combined_list = first_list + second_list\n"
   ]
  },
  {
   "attachments": {},
   "cell_type": "markdown",
   "id": "f925be09-1180-4c80-8fe6-f288245568b2",
   "metadata": {},
   "source": [
    "## 공통함수\n",
    "\n",
    "파이썬의 시퀀스 자료형들은 공통적인 함수를 가지고 있습니다. 이러한 함수들은 시퀀스 자료형의 원소를 다루고 조작하는 데 유용합니다. 아래는 파이썬 시퀀스 자료형의 주요 공통 함수들과 간단한 설명입니다:\n",
    "\n",
    "len(sequence) : 시퀀스 자료형의 원소 개수를 반환합니다.\n",
    "\n",
    "min(sequence) : 시퀀스 자료형의 최소값을 반환합니다. (시퀀스가 숫자인 경우에만 사용 가능)\n",
    "\n",
    "max(sequence) : 시퀀스 자료형의 최대값을 반환합니다. (시퀀스가 숫자인 경우에만 사용 가능)\n",
    "\n",
    "sum(sequence) : 시퀀스 자료형의 모든 원소를 합산하여 반환합니다. (시퀀스가 숫자인 경우에만 사용 가능)\n",
    "\n",
    "sorted(sequence) : 시퀀스 자료형의 원소들을 정렬하여 새로운 리스트로 반환합니다. (원본 시퀀스는 변경되지 않습니다.)\n",
    "\n",
    "reversed(sequence) : 시퀀스 자료형의 원소들을 역순으로 정렬하여 새로운 iterator로 반환합니다. (원본 시퀀스는 변경되지 않습니다.)\n",
    "\n",
    "count(value) : 시퀀스 자료형에서 특정 값의 개수를 반환합니다.\n",
    "\n",
    "index(value) : 시퀀스 자료형에서 특정 값의 인덱스를 반환합니다. (첫 번째로 나타나는 값의 인덱스를 반환합니다.)\n",
    "\n",
    "join(iterable) : 문자열 시퀀스를 합쳐서 하나의 문자열로 반환합니다. (문자열의 리스트를 이어붙일 때 사용됩니다.)\n",
    "\n",
    "enumerate(sequence) : 시퀀스 자료형의 원소들과 인덱스를 함께 반환하는 enumerate 객체를 생성합니다.\n",
    "\n",
    "zip(*sequences) : 여러 시퀀스 자료형들을 병렬로 묶어서 새로운 tuple의 iterator로 반환합니다.\n",
    "\n",
    "any(iterable) : 시퀀스 자료형의 원소 중 하나라도 참(True)인 값이 있으면 True를 반환합니다.\n",
    "\n",
    "all(iterable) : 시퀀스 자료형의 모든 원소가 참(True)인 값이면 True를 반환합니다.\n",
    "\n",
    "slice(start, stop, step) : 슬라이스 객체를 생성합니다. 시퀀스 자료형을 슬라이싱할 때 사용됩니다.\n",
    "\n",
    "이러한 함수들은 모든 시퀀스 자료형(list, tuple, 문자열 등)에서 사용 가능하며, 데이터를 다루고 처리하는데 유용하게 활용됩니다."
   ]
  },
  {
   "cell_type": "code",
   "execution_count": 20,
   "id": "1f59018c-2989-426f-bce5-84e497e34b4c",
   "metadata": {},
   "outputs": [
    {
     "ename": "SyntaxError",
     "evalue": "invalid syntax (4028206310.py, line 1)",
     "output_type": "error",
     "traceback": [
      "\u001b[0;36m  Cell \u001b[0;32mIn[20], line 1\u001b[0;36m\u001b[0m\n\u001b[0;31m    ==, != 연산자: sequence1 == sequence2, sequence1 != sequence2\u001b[0m\n\u001b[0m    ^\u001b[0m\n\u001b[0;31mSyntaxError\u001b[0m\u001b[0;31m:\u001b[0m invalid syntax\n"
     ]
    }
   ],
   "source": [
    "==, != 연산자: sequence1 == sequence2, sequence1 != sequence2\n",
    "\n",
    "두 개의 시퀀스가 같은지 여부를 확인합니다. == 연산자는 원소들의 값이 모두 같을 때 True를 반환하며, != 연산자는 값이 다를 때 True를 반환합니다.\n",
    ">와 < 연산자: sequence1 > sequence2, sequence1 < sequence2\n",
    "\n",
    "두 시퀀스를 사전 순서로 비교합니다. 첫 번째 원소부터 순차적으로 비교하며, 첫 번째 원소가 크면 True를 반환합니다."
   ]
  },
  {
   "cell_type": "markdown",
   "id": "ea6b0006-c195-4a7f-b916-232e63b7fd00",
   "metadata": {},
   "source": [
    "# 출력 형식\n",
    "파이썬에서 문자열(string)을 출력할 때에는 다양한 형식을 사용할 수 있습니다.  \n",
    "주요한 출력 형식들과 그에 대한 예제를 설명하겠습니다:"
   ]
  },
  {
   "cell_type": "code",
   "execution_count": null,
   "id": "03ac6983-f942-49d4-a872-bbc1f76a8fba",
   "metadata": {},
   "outputs": [],
   "source": [
    "\"\"\"\n",
    "일반적인 문자열 출력:\n",
    "\"\"\"\n",
    "\n",
    "name = \"Alice\"\n",
    "print(\"Hello, \" + name + \"!\")  # Hello, Alice!"
   ]
  },
  {
   "cell_type": "code",
   "execution_count": null,
   "id": "83f8d11c-db24-4de5-b08c-60f5a10ac4ab",
   "metadata": {},
   "outputs": [],
   "source": [
    "\"\"\"\n",
    "f-string (Formatted String Literal) 사용:\n",
    "\"\"\"\n",
    "\n",
    "name = \"Bob\"\n",
    "age = 30\n",
    "print(f\"My name is {name} and I am {age} years old.\")  # My name is Bob and I am 30 years old.\n"
   ]
  },
  {
   "cell_type": "code",
   "execution_count": null,
   "id": "c5c6e368-65af-4894-92af-aac11bc06a96",
   "metadata": {},
   "outputs": [],
   "source": [
    "\"\"\"\n",
    "str.format() 메서드 사용:\n",
    "\"\"\"\n",
    "\n",
    "name = \"Carol\"\n",
    "age = 25\n",
    "print(\"My name is {} and I am {} years old.\".format(name, age))  # My name is Carol and I am 25 years old.\n",
    "\n"
   ]
  },
  {
   "cell_type": "code",
   "execution_count": null,
   "id": "a7b13211-6551-427e-8c0c-472fbd2baf2c",
   "metadata": {},
   "outputs": [],
   "source": [
    "\"\"\"\n",
    "% 연산자를 사용한 형식 지정:\n",
    "\"\"\"\n",
    "\n",
    "name = \"David\"\n",
    "age = 35\n",
    "print(\"My name is %s and I am %d years old.\" % (name, age))  # My name is David and I am 35 years old.\n",
    "\n",
    "\n"
   ]
  },
  {
   "cell_type": "code",
   "execution_count": null,
   "id": "2b7da582-5618-4755-a86c-6f39acc36137",
   "metadata": {},
   "outputs": [],
   "source": [
    "\"\"\"\n",
    "소수점 자릿수 지정:\n",
    "\"\"\"\n",
    "\n",
    "pi = 3.141592653589793\n",
    "print(f\"The value of pi is approximately {pi:.2f}\")  # The value of pi is approximately 3.14\n"
   ]
  },
  {
   "cell_type": "code",
   "execution_count": 3,
   "id": "7270844f-2075-407d-9239-d1397f254ddf",
   "metadata": {},
   "outputs": [
    {
     "name": "stdout",
     "output_type": "stream",
     "text": [
      "right:  123, left:123  , fill_zero:00123\n"
     ]
    }
   ],
   "source": [
    "\"\"\"\n",
    "정수형 출력\n",
    "\"\"\"\n",
    "\n",
    "num = 123\n",
    "print(f\"right:{num:5d}, left:{num:<5d}, fill_zero:{num:05d}\") \n"
   ]
  },
  {
   "cell_type": "code",
   "execution_count": 4,
   "id": "8fe3abaf-393b-40d9-bd4c-db5e1bee316b",
   "metadata": {},
   "outputs": [
    {
     "name": "stdout",
     "output_type": "stream",
     "text": [
      "['apple', 'banana', 'orange']\n",
      "apple-banana-orange\n"
     ]
    }
   ],
   "source": [
    "\"\"\"\n",
    "문자열 분리(join)와 분할(split):\n",
    "\"\"\"\n",
    "\n",
    "fruits = \"apple,banana,orange\"\n",
    "fruits_list = fruits.split(',')\n",
    "print(fruits_list)  # ['apple', 'banana', 'orange']\n",
    "\n",
    "separator = '-'\n",
    "print(separator.join(fruits_list))  # apple-banana-orange\n",
    " \n"
   ]
  },
  {
   "cell_type": "code",
   "execution_count": null,
   "id": "bc5bbe89-6df3-479c-98d5-ca242fe6e657",
   "metadata": {},
   "outputs": [],
   "source": []
  },
  {
   "cell_type": "markdown",
   "id": "86e80075-50f1-4f62-a3ba-2fbcedd460c5",
   "metadata": {},
   "source": [
    "# 조건문\n",
    "\n",
    "파이썬 조건문은 아래의 형식으로 작성해야 합니다.  \n",
    "- `if` 가 포함된 라인의 끝에는 `:`(콜론) 으로\n",
    "- `if` 조건절 아래쪽에는 동일한 `indent` 필요 \n",
    "\n",
    "```python\n",
    "if 조건:\n",
    "    # 조건이 만족할 때 실행할 코드 블록\n",
    "```"
   ]
  },
  {
   "cell_type": "code",
   "execution_count": 1,
   "id": "6fde7a62-6bef-4be3-9cfc-5d7271e7f407",
   "metadata": {},
   "outputs": [
    {
     "name": "stdout",
     "output_type": "stream",
     "text": [
      "x는 양수입니다.\n"
     ]
    }
   ],
   "source": [
    "'''\n",
    "단순한 if문:\n",
    "'''\n",
    "\n",
    "x = 10\n",
    "\n",
    "if x > 0:\n",
    "    print(\"x는 양수입니다.\")\n"
   ]
  },
  {
   "cell_type": "code",
   "execution_count": null,
   "id": "b4088686-a4d4-4211-abcb-0c27f6897ed6",
   "metadata": {},
   "outputs": [],
   "source": [
    "'''\n",
    "if-else문:\n",
    "'''\n",
    "\n",
    "x = -5\n",
    "\n",
    "if x > 0:\n",
    "    print(\"x는 양수입니다.\")\n",
    "else:\n",
    "    print(\"x는 음수 또는 0입니다.\")\n"
   ]
  },
  {
   "cell_type": "code",
   "execution_count": null,
   "id": "4bfcf0e3-6dbe-47e3-af18-832e32275417",
   "metadata": {},
   "outputs": [],
   "source": [
    "'''\n",
    "if-elif-else문:\n",
    "'''\n",
    "\n",
    "x = 0\n",
    "\n",
    "if x > 0:\n",
    "    print(\"x는 양수입니다.\")\n",
    "elif x < 0:\n",
    "    print(\"x는 음수입니다.\")\n",
    "else:\n",
    "    print(\"x는 0입니다.\")\n"
   ]
  },
  {
   "cell_type": "code",
   "execution_count": null,
   "id": "3b0bdb14-8e0e-4470-9efe-8dec6a9594fa",
   "metadata": {},
   "outputs": [],
   "source": [
    "'''\n",
    "중첩된 조건문:\n",
    "'''\n",
    "\n",
    "x = 85\n",
    "\n",
    "if x >= 90:\n",
    "    if x == 100:\n",
    "        print(\"A+입니다.\")\n",
    "    else:\n",
    "        print(\"A입니다.\")\n",
    "elif x >= 80:\n",
    "    print(\"B입니다.\")\n",
    "elif x >= 70:\n",
    "    print(\"C입니다.\")\n",
    "else:\n",
    "    print(\"D입니다.\")\n"
   ]
  },
  {
   "cell_type": "code",
   "execution_count": null,
   "id": "90982e53-d195-40b7-8f70-daf684b7b628",
   "metadata": {},
   "outputs": [],
   "source": []
  },
  {
   "cell_type": "code",
   "execution_count": null,
   "id": "a093e8ea-4dde-420a-9194-dc0f916dfd3c",
   "metadata": {},
   "outputs": [],
   "source": []
  },
  {
   "cell_type": "code",
   "execution_count": null,
   "id": "cd303a0f-a278-4912-9715-99fe8e69a0cb",
   "metadata": {},
   "outputs": [],
   "source": []
  },
  {
   "cell_type": "code",
   "execution_count": null,
   "id": "5602dfdb-03f2-438f-a555-ad2c0e25c48a",
   "metadata": {},
   "outputs": [],
   "source": []
  },
  {
   "cell_type": "code",
   "execution_count": null,
   "id": "bc81b8b5-4b42-4a08-bce4-389acce31660",
   "metadata": {},
   "outputs": [],
   "source": []
  }
 ],
 "metadata": {
  "kernelspec": {
   "display_name": "Python 3 (ipykernel)",
   "language": "python",
   "name": "python3"
  },
  "language_info": {
   "codemirror_mode": {
    "name": "ipython",
    "version": 3
   },
   "file_extension": ".py",
   "mimetype": "text/x-python",
   "name": "python",
   "nbconvert_exporter": "python",
   "pygments_lexer": "ipython3",
   "version": "3.10.11"
  }
 },
 "nbformat": 4,
 "nbformat_minor": 5
}
