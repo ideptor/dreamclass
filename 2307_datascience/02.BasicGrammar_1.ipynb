{
 "cells": [
  {
   "cell_type": "markdown",
   "id": "a3c4c2fa-6c91-421b-b899-565e9753aa8b",
   "metadata": {},
   "source": [
    "# 파이썬 문법 #1\n",
    "\n",
    "- 파이썬 언어의 변수 타입   \n",
    "- 파이썬 연산자  \n",
    "- 시퀀스자료형 (Sequence)  \n",
    "- 출력 형식  \n",
    "- 조건문  "
   ]
  },
  {
   "cell_type": "markdown",
   "id": "97b40211-a238-4055-a4a0-010a9a0b06af",
   "metadata": {},
   "source": [
    "# 파이썬 언어의 변수 타입\n",
    "\n",
    "파이썬은 강력한 프로그래밍 언어로서 다양한 종류의 데이터를 처리할 수 있도록 여러 가지 자료형을 제공합니다.  \n",
    "각각의 자료형은 특정한 종류의 값을 저장하고 조작하는 데 사용됩니다.\n",
    "\n",
    "파이썬은 `동적 타이핑` 언어이므로 변수를 선언할 때 **변수의 타입을 명시적으로 지정할 필요가 없습니다.**  \n",
    "변수는 할당되는 **값에 따라 자동으로 데이터 타입이 결정**됩니다.\n",
    "\n",
    "|자료형|설명|비고|\n",
    "|--|--|--|\n",
    "|정수 (int)| 정수형은 정수 값을 나타내는 자료형입니다. 예를 들어, `-1`, `0`, `42`와 같은 값이 정수 자료형에 속합니다.|크기에 상관없이 정수를 표현 가능|\n",
    "|부동소수점 (float)| 부동소수점형은 실수 값을 나타내는 자료형으로, 소수점을 가지는 숫자를 표현할 수 있습니다. 예를 들어, `3.14`, `-0.5`, `2.71828`과 같은 값이 부동소수점 자료형에 속합니다.| 파이썬 float는 64비트 - 15~17자리의 유효 숫자,  ±1.7 × 10^308에서 ±5.0 × 10^-324 |\n",
    "|문자열 (str)| 문자열형은 문자들의 시퀀스를 나타내는 자료형입니다. 작은따옴표(`'`)나 큰따옴표(`\"`)로 둘러싼 텍스트가 문자열로 간주됩니다. 예를 들어, `\"Hello, World!\"`나 `'Python'`과 같은 값이 문자열 자료형에 속합니다.| |\n",
    "|불리언 (bool)| 불리언형은 `True`나 `False` 값 중 하나를 가지는 자료형입니다. 주로 조건문과 논리 연산에 사용됩니다.| |\n",
    "|리스트 (list)| 리스트는 여러 개의 값을 순서대로 저장하는 자료형으로, 대괄호(`[]`)로 감싸며 값들은 쉼표로 구분됩니다. 리스트는 수정 가능하며, 다양한 자료형을 혼합해서 포함할 수 있습니다.| |\n",
    "|튜플 (tuple)| 튜플은 리스트와 유사하지만 **수정이 불가능한 자료형**입니다. 소괄호(`()`)로 감싸며, 값들은 쉼표로 구분됩니다.| |\n",
    "|세트 (set)| 세트는 고유한 값들의 집합을 나타내는 자료형으로, **중복된 값이 없습니다.** 중괄호(`{}`)로 감싸며, 값들은 쉼표로 구분됩니다.| |\n",
    "|딕셔너리 (dict)| 딕셔너리는 **키-값 쌍**을 사용하여 값들을 저장하는 자료형입니다. 중괄호(`{}`)로 감싸며, 각 키와 값을 콜론(`:`)으로 구분하고 키-값 쌍들은 쉼표로 구분됩니다.| |\n",
    "|바이트 (bytes) 및 바이트 배열 (bytearray)| 이들은 이진 데이터를 나타내는 자료형으로, 주로 파일 입출력과 네트워크 통신에서 사용됩니다.| |\n"
   ]
  },
  {
   "cell_type": "code",
   "execution_count": 1,
   "id": "3d4b5609-9292-4718-b65a-ff32c57be416",
   "metadata": {},
   "outputs": [
    {
     "name": "stdout",
     "output_type": "stream",
     "text": [
      "<class 'int'> 25 <class 'int'> 2023\n"
     ]
    }
   ],
   "source": [
    "\"\"\"\n",
    "1. 정수형(Integer):\n",
    "정수를 나타내는 데이터 타입입니다. 파이썬에서는 크기에 상관없이 정수를 표현할 수 있습니다.\n",
    "\"\"\"\n",
    "\n",
    "age = 25\n",
    "year = 2023\n",
    "\n",
    "print(type(age), age, type(year), year)"
   ]
  },
  {
   "cell_type": "markdown",
   "id": "55b85e0a-ca12-4b5c-95ee-ab0b05a58782",
   "metadata": {},
   "source": [
    "Java 언어에서 8bytes integer 의 overflow 발생 예제\n",
    "\n",
    "```java\n",
    "// A.java\n",
    "public class A {\n",
    "    public static void main(String[] args) {\n",
    "        long a = 9223372036854775807L;\n",
    "        System.out.println(a);\n",
    "        System.out.println(a+1);   // overflow 발생\n",
    "    }\n",
    "}\n",
    "```\n",
    "\n",
    "실행결과 \n",
    "\n",
    "``` bash\n",
    "$ javac A.java\n",
    "$ java A\n",
    "9223372036854775807\n",
    "-9223372036854775808\n",
    "```\n"
   ]
  },
  {
   "cell_type": "code",
   "execution_count": 2,
   "id": "0373241d-c1ca-47dd-b965-2f419d1de711",
   "metadata": {},
   "outputs": [],
   "source": [
    "import numpy as np"
   ]
  },
  {
   "cell_type": "code",
   "execution_count": 3,
   "id": "813dc677-e641-409f-a7b2-16058fc109f4",
   "metadata": {},
   "outputs": [
    {
     "data": {
      "text/plain": [
       "iinfo(min=-9223372036854775808, max=9223372036854775807, dtype=int64)"
      ]
     },
     "execution_count": 3,
     "metadata": {},
     "output_type": "execute_result"
    }
   ],
   "source": [
    "np.iinfo(np.int64)"
   ]
  },
  {
   "cell_type": "code",
   "execution_count": 4,
   "id": "6efc585c-955c-4b2b-9bf5-2154e85f7daf",
   "metadata": {},
   "outputs": [
    {
     "data": {
      "text/plain": [
       "9223372036854775807"
      ]
     },
     "execution_count": 4,
     "metadata": {},
     "output_type": "execute_result"
    }
   ],
   "source": [
    "a = np.iinfo(np.int64).max\n",
    "a"
   ]
  },
  {
   "cell_type": "code",
   "execution_count": 5,
   "id": "6274f324-4b8a-439b-afe5-ac8bfb51ed5b",
   "metadata": {},
   "outputs": [
    {
     "data": {
      "text/plain": [
       "9223372036854775808"
      ]
     },
     "execution_count": 5,
     "metadata": {},
     "output_type": "execute_result"
    }
   ],
   "source": [
    "a+1"
   ]
  },
  {
   "cell_type": "code",
   "execution_count": 6,
   "id": "e3a3e010-7376-4f48-ad40-38d226a1ce25",
   "metadata": {},
   "outputs": [
    {
     "data": {
      "text/plain": [
       "85070591730234615847396907784232501249"
      ]
     },
     "execution_count": 6,
     "metadata": {},
     "output_type": "execute_result"
    }
   ],
   "source": [
    "a*a"
   ]
  },
  {
   "cell_type": "code",
   "execution_count": 7,
   "id": "386b0d1f-44c5-4133-8853-b499ba0bf831",
   "metadata": {},
   "outputs": [
    {
     "name": "stdout",
     "output_type": "stream",
     "text": [
      "<class 'float'> 3.14159 <class 'float'> 25.5 <class 'float'> 0.0123\n"
     ]
    }
   ],
   "source": [
    "'''\n",
    "2. 부동소수점형(Float):\n",
    "실수를 나타내는 데이터 타입으로, 소수점을 가지는 숫자를 표현합니다.\n",
    "'''\n",
    "\n",
    "pi = 3.14159\n",
    "temperature = 25.5\n",
    "length = 1.23e-2\n",
    "\n",
    "print(type(pi), pi, type(temperature), temperature, type(length), length)"
   ]
  },
  {
   "cell_type": "code",
   "execution_count": 8,
   "id": "33520f6e-905c-4e4f-8357-db43725e7dbc",
   "metadata": {},
   "outputs": [
    {
     "data": {
      "text/plain": [
       "finfo(resolution=1e-15, min=-1.7976931348623157e+308, max=1.7976931348623157e+308, dtype=float64)"
      ]
     },
     "execution_count": 8,
     "metadata": {},
     "output_type": "execute_result"
    }
   ],
   "source": [
    "np.finfo(np.float64)"
   ]
  },
  {
   "cell_type": "code",
   "execution_count": 9,
   "id": "421d6fd6-7333-4ccc-a304-e2bcc2fcd7e7",
   "metadata": {},
   "outputs": [
    {
     "name": "stdout",
     "output_type": "stream",
     "text": [
      "0.30000000000000004 0.3\n",
      "False\n"
     ]
    }
   ],
   "source": [
    "\"\"\"\n",
    "부동소수점 오류\n",
    "\"\"\"\n",
    "\n",
    "x = 0.1 + 0.1 + 0.1\n",
    "y = 0.3\n",
    "print(x,y)\n",
    "print(x == y)  # False (부동소수점 오류로 인해 False가 출력될 수 있음)"
   ]
  },
  {
   "cell_type": "code",
   "execution_count": 10,
   "id": "f74d3251-f5c7-4d04-a89a-a79f1b35168b",
   "metadata": {},
   "outputs": [
    {
     "name": "stdout",
     "output_type": "stream",
     "text": [
      "0.3 0.3\n",
      "True\n"
     ]
    }
   ],
   "source": [
    "\"\"\"\n",
    "decimal 모듈을 사용하여 정확한 연산을 수행하는 예제\n",
    "\"\"\"\n",
    "\n",
    "from decimal import Decimal\n",
    "\n",
    "# Decimal 객체 생성\n",
    "decimal_x = Decimal('0.1') + Decimal('0.1') + Decimal('0.1')\n",
    "decimal_y = Decimal('0.3')\n",
    "\n",
    "# 정확한 비교\n",
    "print(decimal_x, decimal_y)\n",
    "print(decimal_x == decimal_y)  # True\n"
   ]
  },
  {
   "cell_type": "code",
   "execution_count": 11,
   "id": "76e32c9b-45e1-4bae-9671-dab32acd8ab7",
   "metadata": {},
   "outputs": [
    {
     "name": "stdout",
     "output_type": "stream",
     "text": [
      "<class 'bool'> True <class 'bool'> False\n"
     ]
    }
   ],
   "source": [
    "'''\n",
    "3. 불린형(Boolean):\n",
    "참(True) 또는 거짓(False) 값을 가지는 데이터 타입입니다. 조건식의 결과로 사용될 수 있습니다.\n",
    "'''\n",
    "\n",
    "is_raining = True\n",
    "has_license = False\n",
    "\n",
    "print(type(is_raining), is_raining, type(has_license), has_license)"
   ]
  },
  {
   "cell_type": "code",
   "execution_count": 13,
   "id": "fd8ab4cb-ac61-485b-a732-b5fd31dfa44b",
   "metadata": {},
   "outputs": [
    {
     "name": "stdout",
     "output_type": "stream",
     "text": [
      "<class 'str'> 8 John Doe\n"
     ]
    }
   ],
   "source": [
    "'''\n",
    "4. 문자열(String):\n",
    "문자들의 시퀀스로 이루어진 데이터 타입입니다. 작은 따옴표('')나 큰 따옴표(\"\")로 묶어서 표현합니다.\n",
    "'''\n",
    "\n",
    "name = \"John Doe\"\n",
    "message = 'Hello, World!'\n",
    "\n",
    "print(type(name), len(name), name)"
   ]
  },
  {
   "cell_type": "code",
   "execution_count": 14,
   "id": "d06b7393-c775-45f0-bde5-8162495b2c17",
   "metadata": {},
   "outputs": [
    {
     "name": "stdout",
     "output_type": "stream",
     "text": [
      "<class 'str'> 13 Hello, World!\n"
     ]
    }
   ],
   "source": [
    "print(type(message), len(message), message)"
   ]
  },
  {
   "cell_type": "code",
   "execution_count": 15,
   "id": "d4e58ac5-afdb-4cfa-9e87-159d9c6b8ca8",
   "metadata": {},
   "outputs": [
    {
     "name": "stdout",
     "output_type": "stream",
     "text": [
      "<class 'list'> 3 ['apple', 'banana', 'orange']\n"
     ]
    }
   ],
   "source": [
    "'''\n",
    "5. 리스트(List):\n",
    "여러 개의 요소들을 순서대로 저장하는 데이터 타입입니다. 대괄호([])로 묶어서 표현합니다.\n",
    "'''\n",
    "\n",
    "fruits = [\"apple\", \"banana\", \"orange\"]\n",
    "numbers = [1, 2, 3, 4, 5]\n",
    "\n",
    "print(type(fruits), len(fruits), fruits)"
   ]
  },
  {
   "cell_type": "code",
   "execution_count": 16,
   "id": "f742c538-8df0-4347-8e05-0fadb05ca6d2",
   "metadata": {},
   "outputs": [
    {
     "name": "stdout",
     "output_type": "stream",
     "text": [
      "<class 'list'> 5 [1, 2, 3, 4, 5]\n"
     ]
    }
   ],
   "source": [
    "print(type(numbers), len(numbers), numbers)"
   ]
  },
  {
   "cell_type": "code",
   "execution_count": 17,
   "id": "0805c3c9-dd2a-442c-a9a9-5b25bd46e051",
   "metadata": {},
   "outputs": [
    {
     "name": "stdout",
     "output_type": "stream",
     "text": [
      "['apple', 1, True, 3.4]\n"
     ]
    }
   ],
   "source": [
    "example = [\"apple\", 1, True, 3.4]\n",
    "print(example)"
   ]
  },
  {
   "cell_type": "code",
   "execution_count": 19,
   "id": "3de6c015-fe1c-4c87-beb2-bd5a55889b0b",
   "metadata": {},
   "outputs": [
    {
     "data": {
      "text/plain": [
       "[3, 2, 3, 4, 5]"
      ]
     },
     "execution_count": 19,
     "metadata": {},
     "output_type": "execute_result"
    }
   ],
   "source": [
    "numbers[0] = 3\n",
    "numbers"
   ]
  },
  {
   "cell_type": "code",
   "execution_count": 18,
   "id": "50619fad-28f2-42bc-b45e-be7c090068d1",
   "metadata": {},
   "outputs": [
    {
     "name": "stdout",
     "output_type": "stream",
     "text": [
      "<class 'tuple'> 3 ('red', 'green', 'blue')\n"
     ]
    }
   ],
   "source": [
    "'''\n",
    "6. 튜플(Tuple):\n",
    "리스트와 비슷하지만, 변경이 불가능한(immutable) 데이터 타입입니다. 괄호(())로 묶어서 표현합니다.\n",
    "'''\n",
    "\n",
    "coordinates = (10, 20)\n",
    "colors = (\"red\", \"green\", \"blue\")\n",
    "\n",
    "print(type(colors), len(colors), colors)"
   ]
  },
  {
   "cell_type": "code",
   "execution_count": 20,
   "id": "ccdf0824-5be2-4a43-b4ca-acc85945e1fb",
   "metadata": {},
   "outputs": [
    {
     "ename": "TypeError",
     "evalue": "'tuple' object does not support item assignment",
     "output_type": "error",
     "traceback": [
      "\u001b[1;31m---------------------------------------------------------------------------\u001b[0m",
      "\u001b[1;31mTypeError\u001b[0m                                 Traceback (most recent call last)",
      "Cell \u001b[1;32mIn[20], line 1\u001b[0m\n\u001b[1;32m----> 1\u001b[0m \u001b[43mcolors\u001b[49m\u001b[43m[\u001b[49m\u001b[38;5;241;43m0\u001b[39;49m\u001b[43m]\u001b[49m \u001b[38;5;241m=\u001b[39m \u001b[38;5;124m\"\u001b[39m\u001b[38;5;124mblack\u001b[39m\u001b[38;5;124m\"\u001b[39m\n",
      "\u001b[1;31mTypeError\u001b[0m: 'tuple' object does not support item assignment"
     ]
    }
   ],
   "source": [
    "colors[0] = \"black\""
   ]
  },
  {
   "cell_type": "code",
   "execution_count": 21,
   "id": "0912989f-a544-4cc5-927c-74dd01ecf615",
   "metadata": {},
   "outputs": [],
   "source": [
    "'''\n",
    "7. 딕셔너리(Dictionary):\n",
    "키와 값의 쌍으로 이루어진 데이터 타입입니다. 중괄호({})로 묶어서 표현하며, 각 키와 값은 콜론(:)으로 구분합니다.\n",
    "'''\n",
    "\n",
    "student = {\"name\": \"Alice\", \"age\": 23, \"major\": \"Computer Science\"}\n",
    "scores = {\"math\": 90, \"english\": 85, \"science\": 95}\n"
   ]
  },
  {
   "cell_type": "code",
   "execution_count": 22,
   "id": "b611f35f-d070-4af8-a064-3b6aa73075a5",
   "metadata": {},
   "outputs": [
    {
     "data": {
      "text/plain": [
       "{'name': 'Alice', 'age': 23, 'major': 'Computer Science'}"
      ]
     },
     "execution_count": 22,
     "metadata": {},
     "output_type": "execute_result"
    }
   ],
   "source": [
    "student"
   ]
  },
  {
   "cell_type": "code",
   "execution_count": 23,
   "id": "84b1903b-27c5-40a6-b208-f7ffe28f2e11",
   "metadata": {},
   "outputs": [
    {
     "data": {
      "text/plain": [
       "'Alice'"
      ]
     },
     "execution_count": 23,
     "metadata": {},
     "output_type": "execute_result"
    }
   ],
   "source": [
    "student['name']"
   ]
  },
  {
   "cell_type": "code",
   "execution_count": 25,
   "id": "961ea53b-cfe7-42ab-b5c1-3240c9626a40",
   "metadata": {},
   "outputs": [
    {
     "data": {
      "text/plain": [
       "3"
      ]
     },
     "execution_count": 25,
     "metadata": {},
     "output_type": "execute_result"
    }
   ],
   "source": [
    "len(student)"
   ]
  },
  {
   "cell_type": "code",
   "execution_count": 26,
   "id": "669898b9-0c22-498c-beb5-92805a1461bd",
   "metadata": {},
   "outputs": [
    {
     "data": {
      "text/plain": [
       "dict_keys(['name', 'age', 'major'])"
      ]
     },
     "execution_count": 26,
     "metadata": {},
     "output_type": "execute_result"
    }
   ],
   "source": [
    "student.keys()"
   ]
  },
  {
   "cell_type": "code",
   "execution_count": 27,
   "id": "ad37af19-a935-4dc0-8200-da7899bf1c99",
   "metadata": {},
   "outputs": [
    {
     "data": {
      "text/plain": [
       "dict_values(['Alice', 23, 'Computer Science'])"
      ]
     },
     "execution_count": 27,
     "metadata": {},
     "output_type": "execute_result"
    }
   ],
   "source": [
    "student.values()"
   ]
  },
  {
   "cell_type": "code",
   "execution_count": 28,
   "id": "ea193fc5-44c6-47f5-9059-872faff690f9",
   "metadata": {},
   "outputs": [
    {
     "data": {
      "text/plain": [
       "dict_items([('name', 'Alice'), ('age', 23), ('major', 'Computer Science')])"
      ]
     },
     "execution_count": 28,
     "metadata": {},
     "output_type": "execute_result"
    }
   ],
   "source": [
    "student.items()"
   ]
  },
  {
   "cell_type": "code",
   "execution_count": 29,
   "id": "f29f2117-3c58-4e2d-99e8-9468cb8ef225",
   "metadata": {},
   "outputs": [
    {
     "data": {
      "text/plain": [
       "{'name': 'Tom', 'age': 23, 'major': 'Computer Science'}"
      ]
     },
     "execution_count": 29,
     "metadata": {},
     "output_type": "execute_result"
    }
   ],
   "source": [
    "student[\"name\"] = \"Tom\"\n",
    "student"
   ]
  },
  {
   "cell_type": "code",
   "execution_count": 30,
   "id": "320e9ce9-8aa2-41e8-ba61-517622de5123",
   "metadata": {},
   "outputs": [],
   "source": [
    "del student[\"age\"]"
   ]
  },
  {
   "cell_type": "code",
   "execution_count": 31,
   "id": "a97f06cb-2863-424d-8591-44e3edb92bac",
   "metadata": {},
   "outputs": [
    {
     "data": {
      "text/plain": [
       "{'name': 'Tom', 'major': 'Computer Science'}"
      ]
     },
     "execution_count": 31,
     "metadata": {},
     "output_type": "execute_result"
    }
   ],
   "source": [
    "student"
   ]
  },
  {
   "cell_type": "code",
   "execution_count": 32,
   "id": "3181b681-44e6-467e-b5ca-62d121865e98",
   "metadata": {},
   "outputs": [],
   "source": [
    "'''\n",
    "8. 집합(Set):\n",
    "중복되지 않는 요소들로 구성된 데이터 타입입니다. 중괄호({})로 묶어서 표현합니다.\n",
    "'''\n",
    "\n",
    "unique_numbers = {1, 2, 3, 4, 5}\n",
    "fruits_set = {\"apple\", \"banana\", \"orange\"}\n"
   ]
  },
  {
   "cell_type": "code",
   "execution_count": 33,
   "id": "1c13c669-2c6c-449f-8d2a-e717dde59dee",
   "metadata": {},
   "outputs": [
    {
     "data": {
      "text/plain": [
       "set"
      ]
     },
     "execution_count": 33,
     "metadata": {},
     "output_type": "execute_result"
    }
   ],
   "source": [
    "type(unique_numbers)"
   ]
  },
  {
   "cell_type": "code",
   "execution_count": 34,
   "id": "9f9d415d-a1d7-4503-9108-ab9bdfb9b25b",
   "metadata": {},
   "outputs": [
    {
     "data": {
      "text/plain": [
       "5"
      ]
     },
     "execution_count": 34,
     "metadata": {},
     "output_type": "execute_result"
    }
   ],
   "source": [
    "len(unique_numbers)"
   ]
  },
  {
   "cell_type": "code",
   "execution_count": 35,
   "id": "ac66ab9a-d073-45ad-bdb8-d146e1eec1ce",
   "metadata": {
    "tags": []
   },
   "outputs": [
    {
     "data": {
      "text/plain": [
       "({1, 2, 3, 4, 5}, set, {4, 5, 6, 7, 8}, set, {7, 8, 9}, set)"
      ]
     },
     "execution_count": 35,
     "metadata": {},
     "output_type": "execute_result"
    }
   ],
   "source": [
    "a = {1,2,3,4,5}\n",
    "b = set([4,5,6,7,8])\n",
    "c = set(range(7,10))\n",
    "a, type(a), b, type(b), c, type(c)"
   ]
  },
  {
   "cell_type": "code",
   "execution_count": 36,
   "id": "36c06eff-b5d8-4bf7-9974-55245a5dbab1",
   "metadata": {},
   "outputs": [
    {
     "data": {
      "text/plain": [
       "{1, 2, 3, 4, 5, 6, 7, 8}"
      ]
     },
     "execution_count": 36,
     "metadata": {},
     "output_type": "execute_result"
    }
   ],
   "source": [
    "a.union(b)"
   ]
  },
  {
   "cell_type": "code",
   "execution_count": 37,
   "id": "e7ec9a55-fa90-49ee-b4a9-d2e8fbc44f07",
   "metadata": {},
   "outputs": [
    {
     "data": {
      "text/plain": [
       "{4, 5}"
      ]
     },
     "execution_count": 37,
     "metadata": {},
     "output_type": "execute_result"
    }
   ],
   "source": [
    "a.intersection(b)"
   ]
  },
  {
   "cell_type": "code",
   "execution_count": 39,
   "id": "79df1dd1-f9b1-4791-8822-b7088d36c046",
   "metadata": {},
   "outputs": [
    {
     "data": {
      "text/plain": [
       "{1, 2, 3}"
      ]
     },
     "execution_count": 39,
     "metadata": {},
     "output_type": "execute_result"
    }
   ],
   "source": [
    "set([1,1,1,2,3,3])"
   ]
  },
  {
   "cell_type": "markdown",
   "id": "1e849506-3f10-4339-8cd9-bb3d68edd4d9",
   "metadata": {},
   "source": [
    "# 파이썬 연산자"
   ]
  },
  {
   "cell_type": "code",
   "execution_count": 40,
   "id": "9d513826-839e-473e-bda7-33c6da43f783",
   "metadata": {},
   "outputs": [],
   "source": [
    "\"\"\"\n",
    "1. 산술 연산자 (Arithmetic Operators):\n",
    "\n",
    "사칙연산을 수행하는 연산자입니다.\n",
    "\"\"\"\n",
    "\n",
    "x = 10\n",
    "y = 3\n",
    "\n",
    "add_result = x + y   # 덧셈\n",
    "sub_result = x - y   # 뺄셈\n",
    "mul_result = x * y   # 곱셈\n",
    "div_result = x / y   # 나눗셈 (결과가 실수형으로 나옴)\n",
    "int_div_result = x // y  # 나눗셈 (결과가 정수형으로 나옴)\n",
    "mod_result = x % y   # 나머지\n",
    "pow_result = x ** y  # 거듭제곱 \n"
   ]
  },
  {
   "cell_type": "code",
   "execution_count": 41,
   "id": "117117a9-b918-4c05-b45b-7fd77d8fcae5",
   "metadata": {},
   "outputs": [
    {
     "data": {
      "text/plain": [
       "13"
      ]
     },
     "execution_count": 41,
     "metadata": {},
     "output_type": "execute_result"
    }
   ],
   "source": [
    "x+ y"
   ]
  },
  {
   "cell_type": "code",
   "execution_count": 42,
   "id": "611565fc-f9c0-45fb-b84c-6d23cda6e9d4",
   "metadata": {},
   "outputs": [
    {
     "data": {
      "text/plain": [
       "7"
      ]
     },
     "execution_count": 42,
     "metadata": {},
     "output_type": "execute_result"
    }
   ],
   "source": [
    "x-y"
   ]
  },
  {
   "cell_type": "code",
   "execution_count": 43,
   "id": "d51e48e2-8a01-4fe1-943d-48adcc4c1b98",
   "metadata": {},
   "outputs": [
    {
     "data": {
      "text/plain": [
       "3"
      ]
     },
     "execution_count": 43,
     "metadata": {},
     "output_type": "execute_result"
    }
   ],
   "source": [
    "x//y"
   ]
  },
  {
   "cell_type": "code",
   "execution_count": 44,
   "id": "e65a15b8-0d99-4d7c-bf7d-41eb85050e44",
   "metadata": {},
   "outputs": [
    {
     "data": {
      "text/plain": [
       "1000"
      ]
     },
     "execution_count": 44,
     "metadata": {},
     "output_type": "execute_result"
    }
   ],
   "source": [
    "10**3"
   ]
  },
  {
   "cell_type": "code",
   "execution_count": 45,
   "id": "4a614ce1-ab10-4f70-85f8-3508719f9d4d",
   "metadata": {},
   "outputs": [],
   "source": [
    "\"\"\"\n",
    "2. 할당 연산자 (Assignment Operators):\n",
    "\n",
    "변수에 값을 할당하는 연산자입니다.\n",
    "\"\"\"\n",
    "\n",
    "x = 10   # 변수 x에 10을 할당\n",
    "y = 5    # 변수 y에 5를 할당\n",
    "\n",
    "x += y   # x = x + y 와 동일\n",
    "x -= y   # x = x - y 와 동일\n",
    "x *= y   # x = x * y 와 동일\n",
    "x /= y   # x = x / y 와 동일\n",
    "x %= y   # x = x % y 와 동일\n",
    "x **= y  # x = x ** y 와 동일\n"
   ]
  },
  {
   "cell_type": "code",
   "execution_count": 46,
   "id": "8183871a-e90b-4b16-af60-7f8f3ad7e0bf",
   "metadata": {},
   "outputs": [],
   "source": [
    "\"\"\"\n",
    "3. 비교 연산자 (Comparison Operators):\n",
    "\n",
    "값들을 비교하여 참(True) 또는 거짓(False)을 반환하는 연산자입니다.\n",
    "\"\"\"\n",
    "\n",
    "x = 10\n",
    "y = 5\n",
    "\n",
    "is_equal = x == y      # x와 y가 같은지 비교\n",
    "is_not_equal = x != y  # x와 y가 다른지 비교\n",
    "is_greater = x > y     # x가 y보다 큰지 비교\n",
    "is_less = x < y        # x가 y보다 작은지 비교\n",
    "is_greater_equal = x >= y  # x가 y보다 크거나 같은지 비교\n",
    "is_less_equal = x <= y     # x가 y보다 작거나 같은지 비교\n",
    "\n"
   ]
  },
  {
   "cell_type": "code",
   "execution_count": 47,
   "id": "f725a670-f895-4345-9cd9-30ee2e8dfbd5",
   "metadata": {},
   "outputs": [
    {
     "data": {
      "text/plain": [
       "False"
      ]
     },
     "execution_count": 47,
     "metadata": {},
     "output_type": "execute_result"
    }
   ],
   "source": [
    "x == y"
   ]
  },
  {
   "cell_type": "code",
   "execution_count": 48,
   "id": "4c8b5280-d72c-4fe9-bef0-04ae7f77a7c3",
   "metadata": {},
   "outputs": [
    {
     "data": {
      "text/plain": [
       "True"
      ]
     },
     "execution_count": 48,
     "metadata": {},
     "output_type": "execute_result"
    }
   ],
   "source": [
    "x != y"
   ]
  },
  {
   "cell_type": "code",
   "execution_count": 49,
   "id": "bb65dcd2-354e-4edc-881b-099f9fba15f0",
   "metadata": {},
   "outputs": [],
   "source": [
    "\"\"\"\n",
    "4. 논리 연산자 (Logical Operators):\n",
    "\n",
    "논리적인 연산을 수행하여 참(True) 또는 거짓(False)을 반환하는 연산자입니다.\n",
    "\"\"\"\n",
    "\n",
    "x = True\n",
    "y = False\n",
    "\n",
    "logical_and = x and y  # 논리 AND (x와 y 모두 참일 때만 True, 그 외에는 False)\n",
    "logical_or = x or y    # 논리 OR (x나 y 둘 중 하나라도 참이면 True, 둘 다 거짓이면 False)\n",
    "logical_not_x = not x  # 논리 NOT (x가 참이면 False, 거짓이면 True)\n",
    "logical_not_y = not y  # 논리 NOT (y가 참이면 False, 거짓이면 True)\n",
    "\n",
    "\n"
   ]
  },
  {
   "cell_type": "code",
   "execution_count": 50,
   "id": "f9551e42-1a26-4787-b0eb-163d7c98364e",
   "metadata": {},
   "outputs": [
    {
     "data": {
      "text/plain": [
       "False"
      ]
     },
     "execution_count": 50,
     "metadata": {},
     "output_type": "execute_result"
    }
   ],
   "source": [
    "x and y"
   ]
  },
  {
   "cell_type": "code",
   "execution_count": 51,
   "id": "af9bd4a8-5bea-4ac0-addb-cd056b6e44fa",
   "metadata": {},
   "outputs": [
    {
     "data": {
      "text/plain": [
       "True"
      ]
     },
     "execution_count": 51,
     "metadata": {},
     "output_type": "execute_result"
    }
   ],
   "source": [
    "True and True"
   ]
  },
  {
   "cell_type": "code",
   "execution_count": 52,
   "id": "99793c5a-b46d-4f7f-ae58-3541cca77650",
   "metadata": {},
   "outputs": [],
   "source": [
    "\"\"\"\n",
    "5. 멤버십 연산자 (Membership Operators):\n",
    "\n",
    "특정 값이 컨테이너(리스트, 튜플, 집합 등)에 포함되어 있는지 여부를 확인하는 연산자입니다.\n",
    "\"\"\"\n",
    "\n",
    "numbers = [1, 2, 3, 4, 5]\n",
    "\n",
    "is_in_list = 3 in numbers     # 3이 numbers 리스트에 포함되어 있는지 확인\n",
    "is_not_in_list = 6 not in numbers  # 6이 numbers 리스트에 포함되어 있지 않은지 확인\n"
   ]
  },
  {
   "cell_type": "code",
   "execution_count": 53,
   "id": "7c1d14c0-21f8-449d-b5c4-a22bd4001272",
   "metadata": {},
   "outputs": [
    {
     "data": {
      "text/plain": [
       "True"
      ]
     },
     "execution_count": 53,
     "metadata": {},
     "output_type": "execute_result"
    }
   ],
   "source": [
    "is_in_list"
   ]
  },
  {
   "cell_type": "code",
   "execution_count": 55,
   "id": "b6041199-72e1-475d-8d86-8107c5acd816",
   "metadata": {},
   "outputs": [
    {
     "data": {
      "text/plain": [
       "False"
      ]
     },
     "execution_count": 55,
     "metadata": {},
     "output_type": "execute_result"
    }
   ],
   "source": [
    "6 in numbers"
   ]
  },
  {
   "cell_type": "code",
   "execution_count": 54,
   "id": "caa8dae1-22cd-4571-a073-10d636ade1dc",
   "metadata": {},
   "outputs": [
    {
     "data": {
      "text/plain": [
       "True"
      ]
     },
     "execution_count": 54,
     "metadata": {},
     "output_type": "execute_result"
    }
   ],
   "source": [
    "is_not_in_list"
   ]
  },
  {
   "cell_type": "code",
   "execution_count": 56,
   "id": "311b823c-2fae-4644-a183-f71f559e4504",
   "metadata": {},
   "outputs": [],
   "source": [
    "\"\"\"\n",
    "6. 식별 연산자 (Identity Operators):\n",
    "\n",
    "객체의 메모리 주소를 비교하여 두 객체가 같은 객체인지 여부를 확인하는 연산자입니다.\n",
    "\"\"\"\n",
    "\n",
    "x = [1, 2, 3]\n",
    "y = [1, 2, 3]\n",
    "z = x\n",
    "\n",
    "is_x_same_as_y = x is y      # x와 y가 같은 객체인지 확인\n",
    "is_x_not_same_as_y = x is not y  # x와 y가 다른 객체인지 확인\n",
    "is_x_same_as_z = x is z      # x와 z가 같은 객체인지 확인\n"
   ]
  },
  {
   "cell_type": "code",
   "execution_count": 57,
   "id": "2e9db0e0-6a27-4375-a032-577eb6ca7ee9",
   "metadata": {},
   "outputs": [
    {
     "data": {
      "text/plain": [
       "False"
      ]
     },
     "execution_count": 57,
     "metadata": {},
     "output_type": "execute_result"
    }
   ],
   "source": [
    "x is y"
   ]
  },
  {
   "cell_type": "code",
   "execution_count": 58,
   "id": "95187073-79ee-4be7-bd66-07c8ff970d76",
   "metadata": {},
   "outputs": [
    {
     "data": {
      "text/plain": [
       "True"
      ]
     },
     "execution_count": 58,
     "metadata": {},
     "output_type": "execute_result"
    }
   ],
   "source": [
    "x is z"
   ]
  },
  {
   "cell_type": "code",
   "execution_count": 59,
   "id": "b0ac7fcc-5b84-4c40-9446-07917f0c814d",
   "metadata": {},
   "outputs": [
    {
     "data": {
      "text/plain": [
       "True"
      ]
     },
     "execution_count": 59,
     "metadata": {},
     "output_type": "execute_result"
    }
   ],
   "source": [
    "x == y"
   ]
  },
  {
   "cell_type": "code",
   "execution_count": null,
   "id": "3af99c43-7966-44e7-a7c5-920ae52f85e9",
   "metadata": {},
   "outputs": [],
   "source": []
  },
  {
   "cell_type": "code",
   "execution_count": 60,
   "id": "b6b031d4-74a1-42a3-aea8-10ea0d1f093a",
   "metadata": {},
   "outputs": [],
   "source": [
    "\"\"\"\n",
    "7. 삼항 연산자 (Ternary Operator):\n",
    "\n",
    "조건식을 간단하게 표현하는데 사용되는 연산자입니다.\n",
    "(조건식)? A: B\n",
    "A if (조건식) else B\n",
    "\"\"\"\n",
    "\n",
    "x = 10\n",
    "y = 5\n",
    "\n",
    "# max_value = (x>y)? x: y\n",
    "max_value = x if x > y else y      # x와 y 중에서 더 큰 값을 선택\n",
    "is_positive = \"Positive\" if x > 0 else \"Non-positive\"  # x가 양수인지 확인\n",
    "\n"
   ]
  },
  {
   "cell_type": "code",
   "execution_count": 61,
   "id": "295d315c-55ce-40f9-9679-a496c500ef4a",
   "metadata": {},
   "outputs": [
    {
     "data": {
      "text/plain": [
       "10"
      ]
     },
     "execution_count": 61,
     "metadata": {},
     "output_type": "execute_result"
    }
   ],
   "source": [
    "max_value"
   ]
  },
  {
   "cell_type": "code",
   "execution_count": 63,
   "id": "deb3af8b-a129-46f3-8799-4adbc9289469",
   "metadata": {},
   "outputs": [],
   "source": [
    "x = -1"
   ]
  },
  {
   "cell_type": "code",
   "execution_count": 64,
   "id": "f6109b29-7b61-4e80-bcea-5f38cdef7106",
   "metadata": {},
   "outputs": [
    {
     "data": {
      "text/plain": [
       "'not-postive'"
      ]
     },
     "execution_count": 64,
     "metadata": {},
     "output_type": "execute_result"
    }
   ],
   "source": [
    "\"Positive\" if x > 0 else \"not-postive\" "
   ]
  },
  {
   "cell_type": "code",
   "execution_count": null,
   "id": "fb34bba4-2c6a-45bf-932c-83035e281819",
   "metadata": {},
   "outputs": [],
   "source": [
    "\"\"\"\n",
    "8. 증감 연산자 (Increment and Decrement Operators):\n",
    "\n",
    "파이썬은 증가(increment)와 감소(decrement) 연산자인 ++와 --를 지원하지 않습니다. \n",
    "대신에 +=와 -=를 사용하여 변수 값을 증가시키거나 감소시킬 수 있습니다.\n",
    "\"\"\"\n",
    "\n",
    "x = 5\n",
    "\n",
    "x += 1  # x의 값을 1 증가시킴\n",
    "x -= 1  # x의 값을 1 감소시킴\n",
    "\n",
    "\n"
   ]
  },
  {
   "cell_type": "code",
   "execution_count": null,
   "id": "ebeaf0f5-ad7c-4b8a-ae98-3c23b37e0b88",
   "metadata": {},
   "outputs": [],
   "source": [
    "\"\"\"\n",
    "9. 식별 연산자 (Identity Operators):\n",
    "\n",
    "객체의 메모리 주소를 비교하여 두 객체가 같은 객체인지 여부를 확인하는 연산자입니다.\n",
    "\"\"\"\n",
    "\n",
    "x = [1, 2, 3]\n",
    "y = [1, 2, 3]\n",
    "z = x\n",
    "\n",
    "is_x_same_as_y = x is y      # x와 y가 같은 객체인지 확인\n",
    "is_x_not_same_as_y = x is not y  # x와 y가 다른 객체인지 확인\n",
    "is_x_same_as_z = x is z      # x와 z가 같은 객체인지 확인\n"
   ]
  },
  {
   "cell_type": "code",
   "execution_count": null,
   "id": "03cb73b9-b146-4571-acf8-6b24675081ea",
   "metadata": {},
   "outputs": [],
   "source": [
    "\"\"\"\n",
    "10. 비트 연산자 (Bitwise Operators):\n",
    "\n",
    "비트 단위로 연산을 수행하는 연산자입니다.\n",
    "\"\"\"\n",
    "x = 10  # 10은 이진수로 1010\n",
    "y = 5   # 5는 이진수로 0101\n",
    "\n",
    "bitwise_and = x & y   # 비트 AND (1010 & 0101 = 0000)\n",
    "bitwise_or = x | y    # 비트 OR (1010 | 0101 = 1111)\n",
    "bitwise_xor = x ^ y   # 비트 XOR (1010 ^ 0101 = 1111)\n",
    "bitwise_not_x = ~x    # 비트 NOT (~1010 = 0101)\n",
    "left_shift = x << 1   # 비트 좌측 시프트 (1010 << 1 = 10100)\n",
    "right_shift = x >> 1  # 비트 우측 시프트 (1010 >> 1 = 0101)\n",
    "\n",
    "\n"
   ]
  },
  {
   "cell_type": "markdown",
   "id": "7a82eb80-eb6d-4b51-9e44-81c74f52b332",
   "metadata": {},
   "source": [
    "# 시퀀스자료형 (Sequence)\n",
    "\n",
    "## 개요\n",
    "\n",
    "파이썬에서 시퀀스 자료형은 데이터들을 순서대로 나열하는 형태를 말합니다. 시퀀스 자료형은 여러 개의 원소(element)로 구성되어 있으며, 각 원소들은 순서(인덱스)를 가지고 있습니다. 파이썬에서 가장 많이 사용되는 시퀀스 자료형으로는 `리스트(list)`, `튜플(tuple)`, `문자열(string)`등 이 있습니다"
   ]
  },
  {
   "cell_type": "markdown",
   "id": "03f269b4-add1-468e-b222-8b3da656f2de",
   "metadata": {},
   "source": [
    "## 주요특징"
   ]
  },
  {
   "cell_type": "code",
   "execution_count": 65,
   "id": "f6a0dc42-b85b-4770-8dca-630da22ebf37",
   "metadata": {},
   "outputs": [
    {
     "name": "stdout",
     "output_type": "stream",
     "text": [
      "apple\n",
      "orange\n"
     ]
    }
   ],
   "source": [
    "\"\"\"\n",
    "1. 인덱싱 (Indexing):\n",
    "\n",
    "시퀀스 자료형은 각 원소에 인덱스를 사용하여 접근할 수 있습니다. 인덱스는 0부터 시작합니다.\n",
    "\"\"\"\n",
    "\n",
    "fruits = [\"apple\", \"banana\", \"orange\"]\n",
    "\n",
    "print(fruits[0])   # \"apple\"\n",
    "print(fruits[2])   # \"orange\"\n"
   ]
  },
  {
   "cell_type": "code",
   "execution_count": 66,
   "id": "968ef39b-3dd1-4b5d-a3b3-6e0413975886",
   "metadata": {},
   "outputs": [],
   "source": [
    "\"\"\"\n",
    "1-1. 값 할당 (Assigning a Value):\n",
    "\n",
    "시퀀스 자료형의 특정 인덱스에 값을 할당하여 원소를 변경할 수 있습니다.\n",
    "\"\"\"\n",
    "fruits = [\"apple\", \"banana\", \"orange\"]\n",
    "\n",
    "# 인덱스 1에 있는 \"banana\"를 \"grape\"로 변경\n",
    "fruits[1] = \"grape\""
   ]
  },
  {
   "cell_type": "code",
   "execution_count": 67,
   "id": "654c206f-c4e2-4826-b0ea-820f9504905e",
   "metadata": {},
   "outputs": [
    {
     "data": {
      "text/plain": [
       "['apple', 'grape', 'orange']"
      ]
     },
     "execution_count": 67,
     "metadata": {},
     "output_type": "execute_result"
    }
   ],
   "source": [
    "fruits"
   ]
  },
  {
   "cell_type": "code",
   "execution_count": 68,
   "id": "585f8c7c-71da-4aca-8ad6-b31eb1fea6d3",
   "metadata": {},
   "outputs": [],
   "source": [
    "\"\"\"\n",
    "1-2. 값삽입 (Insertion):\n",
    "\n",
    "insert() 메서드를 사용하여 원하는 위치에 새로운 값을 삽입할 수 있습니다.\n",
    "\"\"\"\n",
    "fruits = [\"apple\", \"banana\", \"orange\"]\n",
    "\n",
    "# 인덱스 1에 \"grape\"를 삽입\n",
    "fruits.insert(1, \"grape\")\n"
   ]
  },
  {
   "cell_type": "code",
   "execution_count": 69,
   "id": "befdc6de-b219-4ea6-a008-d51e7c2fc5cb",
   "metadata": {},
   "outputs": [
    {
     "data": {
      "text/plain": [
       "['apple', 'grape', 'banana', 'orange']"
      ]
     },
     "execution_count": 69,
     "metadata": {},
     "output_type": "execute_result"
    }
   ],
   "source": [
    "fruits"
   ]
  },
  {
   "cell_type": "code",
   "execution_count": 70,
   "id": "7d4d8d0f-7bec-4fdc-8113-e0ac48acd849",
   "metadata": {},
   "outputs": [],
   "source": [
    "\"\"\"\n",
    "1-3. 삭제 (Deletion):\n",
    "\n",
    "del 키워드를 사용하여 특정 인덱스의 원소를 삭제할 수 있습니다.\n",
    "\"\"\"\n",
    "fruits = [\"apple\", \"banana\", \"orange\"]\n",
    "\n",
    "# 인덱스 1에 있는 \"banana\"를 삭제\n",
    "del fruits[1]\n"
   ]
  },
  {
   "cell_type": "code",
   "execution_count": 71,
   "id": "78d5e1ab-7414-449e-9222-72baea68f827",
   "metadata": {},
   "outputs": [
    {
     "data": {
      "text/plain": [
       "['apple', 'orange']"
      ]
     },
     "execution_count": 71,
     "metadata": {},
     "output_type": "execute_result"
    }
   ],
   "source": [
    "fruits"
   ]
  },
  {
   "cell_type": "code",
   "execution_count": 72,
   "id": "700a5ce0-d517-4c94-92a4-3b645c2eb8f7",
   "metadata": {},
   "outputs": [],
   "source": [
    "\"\"\"\n",
    "1-4. 값 삭제 (Remove Value):\n",
    "\n",
    "remove() 메서드를 사용하여 특정 값을 찾아서 삭제할 수 있습니다. 주의할 점은 해당 값이 여러 번 나타나면 첫 번째로 나타나는 값만 삭제됩니다.\n",
    "\"\"\"\n",
    "fruits = [\"apple\", \"banana\", \"orange\", \"banana\"]\n",
    "\n",
    "# \"banana\" 값을 삭제 (첫 번째로 나타나는 \"banana\"만 삭제됨)\n",
    "fruits.remove(\"banana\")\n"
   ]
  },
  {
   "cell_type": "code",
   "execution_count": 73,
   "id": "bb434af9-941c-466e-b186-f354b428045c",
   "metadata": {},
   "outputs": [
    {
     "data": {
      "text/plain": [
       "['apple', 'orange', 'banana']"
      ]
     },
     "execution_count": 73,
     "metadata": {},
     "output_type": "execute_result"
    }
   ],
   "source": [
    "fruits"
   ]
  },
  {
   "cell_type": "code",
   "execution_count": 77,
   "id": "b04d4ed6-5d72-485a-91af-7463a7680983",
   "metadata": {},
   "outputs": [
    {
     "name": "stdout",
     "output_type": "stream",
     "text": [
      "[2, 3, 4]\n",
      "[1, 2, 3]\n",
      "[4, 5]\n",
      "[1, 3]\n"
     ]
    }
   ],
   "source": [
    "\"\"\"\n",
    "2. 슬라이싱 (Slicing):\n",
    "\n",
    "슬라이싱을 통해 시퀀스 자료형의 일부분을 추출할 수 있습니다. 인덱스 범위를 지정하여 원하는 부분을 가져올 수 있습니다.\n",
    "[시작:끝:증가폭]\n",
    "\"\"\"\n",
    "\n",
    "numbers = [1, 2, 3, 4, 5]\n",
    "\n",
    "print(numbers[1:4])   # [2, 3, 4] (인덱스 1부터 3까지의 원소)\n",
    "print(numbers[:3])    # [1, 2, 3] (인덱스 0부터 2까지의 원소)\n",
    "print(numbers[3:])    # [4, 5] (인덱스 3부터 끝까지의 원소)\n",
    "print(numbers[:3:2])  # [1, 3] (인덱스 0부터 3까지의 원소, 증가폭을 2로)"
   ]
  },
  {
   "cell_type": "code",
   "execution_count": 78,
   "id": "2e5ac255-ddf9-4718-80f6-f42c7f7514a3",
   "metadata": {
    "tags": []
   },
   "outputs": [
    {
     "ename": "TypeError",
     "evalue": "list indices must be integers or slices, not tuple",
     "output_type": "error",
     "traceback": [
      "\u001b[1;31m---------------------------------------------------------------------------\u001b[0m",
      "\u001b[1;31mTypeError\u001b[0m                                 Traceback (most recent call last)",
      "Cell \u001b[1;32mIn[78], line 1\u001b[0m\n\u001b[1;32m----> 1\u001b[0m \u001b[43mnumbers\u001b[49m\u001b[43m[\u001b[49m\u001b[38;5;241;43m1\u001b[39;49m\u001b[43m,\u001b[49m\u001b[38;5;241;43m2\u001b[39;49m\u001b[43m,\u001b[49m\u001b[38;5;241;43m4\u001b[39;49m\u001b[43m]\u001b[49m\n",
      "\u001b[1;31mTypeError\u001b[0m: list indices must be integers or slices, not tuple"
     ]
    }
   ],
   "source": [
    "numbers[1,2,4]"
   ]
  },
  {
   "cell_type": "code",
   "execution_count": 79,
   "id": "f441c390-351f-4eee-ade3-73884c62c337",
   "metadata": {},
   "outputs": [],
   "source": [
    "\"\"\" \n",
    "리스트의 슬라이싱 추가 예제\n",
    "\"\"\"\n",
    "fruits = [\"apple\", \"banana\", \"orange\", \"grape\", \"kiwi\"]\n"
   ]
  },
  {
   "cell_type": "code",
   "execution_count": 80,
   "id": "30da25dc-3c04-41d5-abb9-58dc7464ab8a",
   "metadata": {},
   "outputs": [
    {
     "data": {
      "text/plain": [
       "['apple', 'banana', 'orange', 'grape', 'kiwi']"
      ]
     },
     "execution_count": 80,
     "metadata": {},
     "output_type": "execute_result"
    }
   ],
   "source": [
    "fruits"
   ]
  },
  {
   "cell_type": "code",
   "execution_count": 81,
   "id": "733ef68b-501d-4971-a1c9-e6df7e64d227",
   "metadata": {},
   "outputs": [
    {
     "data": {
      "text/plain": [
       "'kiwi'"
      ]
     },
     "execution_count": 81,
     "metadata": {},
     "output_type": "execute_result"
    }
   ],
   "source": [
    "fruits[-1]"
   ]
  },
  {
   "cell_type": "code",
   "execution_count": 82,
   "id": "84c6d651-4601-4d14-b8e5-4b9c8166d7d4",
   "metadata": {},
   "outputs": [
    {
     "data": {
      "text/plain": [
       "['apple', 'banana']"
      ]
     },
     "execution_count": 82,
     "metadata": {},
     "output_type": "execute_result"
    }
   ],
   "source": [
    "fruits[:-3]"
   ]
  },
  {
   "cell_type": "code",
   "execution_count": 83,
   "id": "580b28e2-941c-46e9-a459-f850f3a46b07",
   "metadata": {},
   "outputs": [
    {
     "data": {
      "text/plain": [
       "['orange', 'grape', 'kiwi']"
      ]
     },
     "execution_count": 83,
     "metadata": {},
     "output_type": "execute_result"
    }
   ],
   "source": [
    "fruits[-3:]"
   ]
  },
  {
   "cell_type": "code",
   "execution_count": 84,
   "id": "97aa7a75-5e47-423b-9d48-68eab558396f",
   "metadata": {},
   "outputs": [],
   "source": [
    "\"\"\"\n",
    "string의 슬라이싱 예제\n",
    "\"\"\"\n",
    "message = \"Hello, World!\""
   ]
  },
  {
   "cell_type": "code",
   "execution_count": 85,
   "id": "adb3ff4c-95d9-4438-ab66-988201481ee8",
   "metadata": {},
   "outputs": [
    {
     "data": {
      "text/plain": [
       "'Hello, World!'"
      ]
     },
     "execution_count": 85,
     "metadata": {},
     "output_type": "execute_result"
    }
   ],
   "source": [
    "message"
   ]
  },
  {
   "cell_type": "code",
   "execution_count": 86,
   "id": "3337fc77-68a4-4759-976a-4e58b1bf4987",
   "metadata": {},
   "outputs": [
    {
     "data": {
      "text/plain": [
       "'He'"
      ]
     },
     "execution_count": 86,
     "metadata": {},
     "output_type": "execute_result"
    }
   ],
   "source": [
    "message[:2]"
   ]
  },
  {
   "cell_type": "code",
   "execution_count": 87,
   "id": "d0012637-67e1-44bb-bce6-5b2d76bfed85",
   "metadata": {},
   "outputs": [
    {
     "data": {
      "text/plain": [
       "'llo, World!'"
      ]
     },
     "execution_count": 87,
     "metadata": {},
     "output_type": "execute_result"
    }
   ],
   "source": [
    "message[2:]"
   ]
  },
  {
   "cell_type": "code",
   "execution_count": 88,
   "id": "00124276-3c58-44a2-85fd-b379fcaffd19",
   "metadata": {},
   "outputs": [],
   "source": [
    "\"\"\"\n",
    "슬라이싱을 이용한 일괄 삭제:\n",
    "\n",
    "슬라이싱을 사용하여 여러 개의 원소를 한 번에 삭제할 수 있습니다.\n",
    "\"\"\"\n",
    "fruits = [\"apple\", \"banana\", \"orange\", \"grape\", \"kiwi\"]\n",
    "\n",
    "# 인덱스 1부터 3까지의 원소 삭제\n",
    "del fruits[1:4]"
   ]
  },
  {
   "cell_type": "code",
   "execution_count": 89,
   "id": "0bf85852-1aae-4f04-95a5-0ff0169edcef",
   "metadata": {},
   "outputs": [
    {
     "data": {
      "text/plain": [
       "['apple', 'kiwi']"
      ]
     },
     "execution_count": 89,
     "metadata": {},
     "output_type": "execute_result"
    }
   ],
   "source": [
    "fruits"
   ]
  },
  {
   "cell_type": "code",
   "execution_count": 90,
   "id": "9da1c612-ee01-46b3-8ca7-14ccd95620cb",
   "metadata": {},
   "outputs": [],
   "source": [
    "\"\"\"\n",
    "모든 원소 삭제:\n",
    "\n",
    "시퀀스 자료형의 모든 원소를 삭제할 때는 슬라이싱을 활용합니다\n",
    "\"\"\"\n",
    "fruits = [\"apple\", \"banana\", \"orange\"]\n",
    "\n",
    "# 모든 원소 삭제\n",
    "fruits[:] = []   # fruits = [] 와의 차이점은?\n"
   ]
  },
  {
   "cell_type": "code",
   "execution_count": 91,
   "id": "03d6ad20-cc08-422e-a0f4-81fe11855411",
   "metadata": {},
   "outputs": [
    {
     "name": "stdout",
     "output_type": "stream",
     "text": [
      "5\n",
      "3\n"
     ]
    }
   ],
   "source": [
    "\"\"\"\n",
    "3. 길이 확인 (Length):\n",
    "\n",
    "len() 함수를 사용하여 시퀀스 자료형의 원소 개수를 확인할 수 있습니다.\n",
    "\"\"\"\n",
    "name = \"Alice\"\n",
    "fruits = [\"apple\", \"banana\", \"orange\"]\n",
    "\n",
    "print(len(name))    # 5 (문자열 name의 길이)\n",
    "print(len(fruits))  # 3 (리스트 fruits의 원소 개수)"
   ]
  },
  {
   "cell_type": "code",
   "execution_count": 92,
   "id": "5045525e-03aa-48f3-98e9-3baf864d7fd8",
   "metadata": {},
   "outputs": [],
   "source": [
    "\"\"\"\n",
    "4. 반복 (Repetition):\n",
    "\n",
    "시퀀스 자료형은 * 연산자를 사용하여 반복할 수 있습니다.\n",
    "\"\"\"\n",
    "message = \"Hello, \"\n",
    "repeat_count = 3\n",
    "\n",
    "result = message * repeat_count"
   ]
  },
  {
   "cell_type": "code",
   "execution_count": 93,
   "id": "e863813f-cf31-4459-91b5-eac77aff1b87",
   "metadata": {},
   "outputs": [
    {
     "data": {
      "text/plain": [
       "'Hello, Hello, Hello, '"
      ]
     },
     "execution_count": 93,
     "metadata": {},
     "output_type": "execute_result"
    }
   ],
   "source": [
    "result"
   ]
  },
  {
   "cell_type": "code",
   "execution_count": 94,
   "id": "20a1ea27-9752-42c0-b83e-090b8e51436b",
   "metadata": {},
   "outputs": [],
   "source": [
    "a = [1,2,3]"
   ]
  },
  {
   "cell_type": "code",
   "execution_count": 96,
   "id": "2e0f480a-2cb1-42d6-b2ae-3799c6047791",
   "metadata": {},
   "outputs": [
    {
     "name": "stdout",
     "output_type": "stream",
     "text": [
      "[1, 2, 3, 1, 2, 3, 1, 2, 3, 1, 2, 3, 1, 2, 3, 1, 2, 3, 1, 2, 3, 1, 2, 3, 1, 2, 3, 1, 2, 3]\n"
     ]
    }
   ],
   "source": [
    "print(a * 10)"
   ]
  },
  {
   "cell_type": "code",
   "execution_count": 97,
   "id": "6cd27e30-41dc-48e7-9828-c625ce4e7c14",
   "metadata": {},
   "outputs": [],
   "source": [
    "\"\"\"\n",
    "5. 연결 (Concatenation):\n",
    "\n",
    "시퀀스 자료형은 + 연산자를 사용하여 연결할 수 있습니다.\n",
    "\"\"\"\n",
    "first_list = [1, 2, 3]\n",
    "second_list = [4, 5, 6]\n",
    "\n",
    "combined_list = first_list + second_list\n"
   ]
  },
  {
   "cell_type": "code",
   "execution_count": 98,
   "id": "46a563d6-f136-4e7d-885a-a5c8abe6952c",
   "metadata": {},
   "outputs": [
    {
     "data": {
      "text/plain": [
       "[1, 2, 3, 4, 5, 6]"
      ]
     },
     "execution_count": 98,
     "metadata": {},
     "output_type": "execute_result"
    }
   ],
   "source": [
    "combined_list"
   ]
  },
  {
   "cell_type": "markdown",
   "id": "f925be09-1180-4c80-8fe6-f288245568b2",
   "metadata": {},
   "source": [
    "## 시퀀스 자료형의 공통함수\n",
    "\n",
    "이러한 함수들은 모든 시퀀스 자료형(list, tuple, 문자열 등)에서 사용 가능하며, 데이터를 다루고 처리하는데 유용하게 활용됩니다.\n",
    "\n",
    "|이름|설명|\n",
    "|--|--|\n",
    "|len(sequence)|시퀀스 자료형의 원소 개수를 반환합니다.|\n",
    "|min(sequence)|시퀀스 자료형의 최소값을 반환합니다. (시퀀스가 숫자인 경우에만 사용 가능)|\n",
    "|max(sequence)|시퀀스 자료형의 최대값을 반환합니다. (시퀀스가 숫자인 경우에만 사용 가능)|\n",
    "|sum(sequence)|시퀀스 자료형의 모든 원소를 합산하여 반환합니다. (시퀀스가 숫자인 경우에만 사용 가능)|\n",
    "|sorted(sequence)|시퀀스 자료형의 원소들을 정렬하여 새로운 리스트로 반환합니다. (원본 시퀀스는 변경되지 않습니다.)|\n",
    "|reversed(sequence)|시퀀스 자료형의 원소들을 역순으로 정렬하여 새로운 iterator로 반환합니다. (원본 시퀀스는 변경되지 않습니다.)|\n",
    "|count(value)|시퀀스 자료형에서 특정 값의 개수를 반환합니다.|\n",
    "|index(value)|시퀀스 자료형에서 특정 값의 인덱스를 반환합니다. (첫 번째로 나타나는 값의 인덱스를 반환합니다.)|\n",
    "|join(iterable)|문자열 시퀀스를 합쳐서 하나의 문자열로 반환합니다. (문자열의 리스트를 이어붙일 때 사용됩니다.)|\n",
    "|enumerate(sequence)|시퀀스 자료형의 원소들과 인덱스를 함께 반환하는 enumerate 객체를 생성합니다.|\n",
    "|zip(*sequences)|여러 시퀀스 자료형들을 병렬로 묶어서 새로운 tuple의 iterator로 반환합니다.|\n",
    "|any(iterable)|시퀀스 자료형의 원소 중 하나라도 참(True)인 값이 있으면 True를 반환합니다.|\n",
    "|all(iterable)|시퀀스 자료형의 모든 원소가 참(True)인 값이면 True를 반환합니다.|\n",
    "|slice(start, stop, step)|슬라이스 객체를 생성합니다. 시퀀스 자료형을 슬라이싱할 때 사용됩니다.|"
   ]
  },
  {
   "cell_type": "code",
   "execution_count": 111,
   "id": "ec13233e-2e76-4d0e-ab74-7ada01ce90bd",
   "metadata": {},
   "outputs": [],
   "source": [
    "a = [1,2,3,4,5,5,7,6]"
   ]
  },
  {
   "cell_type": "code",
   "execution_count": 112,
   "id": "d2cadb7f-d05e-4423-a2ee-e994a05cd6eb",
   "metadata": {},
   "outputs": [
    {
     "data": {
      "text/plain": [
       "7"
      ]
     },
     "execution_count": 112,
     "metadata": {},
     "output_type": "execute_result"
    }
   ],
   "source": [
    "max(a)"
   ]
  },
  {
   "cell_type": "code",
   "execution_count": 113,
   "id": "5a72b856-1912-4134-9d07-3a0799e426de",
   "metadata": {},
   "outputs": [
    {
     "data": {
      "text/plain": [
       "1"
      ]
     },
     "execution_count": 113,
     "metadata": {},
     "output_type": "execute_result"
    }
   ],
   "source": [
    "min(a)"
   ]
  },
  {
   "cell_type": "code",
   "execution_count": 114,
   "id": "d9209a6a-e504-4bb3-ac00-bb399d12833d",
   "metadata": {},
   "outputs": [
    {
     "data": {
      "text/plain": [
       "33"
      ]
     },
     "execution_count": 114,
     "metadata": {},
     "output_type": "execute_result"
    }
   ],
   "source": [
    "sum(a)"
   ]
  },
  {
   "cell_type": "code",
   "execution_count": 115,
   "id": "274df4fe-624f-4c6f-b831-ee7b4b0d41df",
   "metadata": {},
   "outputs": [
    {
     "data": {
      "text/plain": [
       "7"
      ]
     },
     "execution_count": 115,
     "metadata": {},
     "output_type": "execute_result"
    }
   ],
   "source": [
    "a.index(6)"
   ]
  },
  {
   "cell_type": "code",
   "execution_count": 116,
   "id": "eebd01c0-2a52-4765-94c4-8e2d08f91d9d",
   "metadata": {},
   "outputs": [
    {
     "data": {
      "text/plain": [
       "2"
      ]
     },
     "execution_count": 116,
     "metadata": {},
     "output_type": "execute_result"
    }
   ],
   "source": [
    "a.count(5)"
   ]
  },
  {
   "cell_type": "markdown",
   "id": "b14828c1-3e3b-40d2-8cb1-3a9d4a0a4953",
   "metadata": {},
   "source": [
    "### ==, != 연산자: \n",
    "\n",
    "두 개의 시퀀스가 같은지 여부를 확인합니다.  \n",
    "`==` 연산자는 원소들의 값이 모두 같을 때 `True`를 반환하며,  \n",
    "`!=` 연산자는 값이 다를 때 `True`를 반환합니다.\n"
   ]
  },
  {
   "cell_type": "code",
   "execution_count": 117,
   "id": "62fc72d6-d5c6-442c-a728-4298d7e42b1f",
   "metadata": {},
   "outputs": [
    {
     "name": "stdout",
     "output_type": "stream",
     "text": [
      "list1 == list2: True\n",
      "list1 == list3: False\n",
      "list1 != list2: False\n",
      "list1 != list3: True\n"
     ]
    }
   ],
   "source": [
    "# 리스트 생성\n",
    "list1 = [1, 2, 3]\n",
    "list2 = [1, 2, 3]\n",
    "list3 = [3, 2, 1]\n",
    "\n",
    "# == 연산자: 두 리스트의 요소가 동일한지 비교\n",
    "print(\"list1 == list2:\", list1 == list2)  # True, 리스트 내용이 같으므로 True 출력\n",
    "print(\"list1 == list3:\", list1 == list3)  # False, 리스트 내용이 다르므로 False 출력\n",
    "\n",
    "# != 연산자: 두 리스트의 요소가 다른지 비교\n",
    "print(\"list1 != list2:\", list1 != list2)  # False, 리스트 내용이 같으므로 False 출력\n",
    "print(\"list1 != list3:\", list1 != list3)  # True, 리스트 내용이 다르므로 True 출력\n"
   ]
  },
  {
   "cell_type": "markdown",
   "id": "2032a6ba-b315-4648-8f36-2bdb5579614b",
   "metadata": {},
   "source": [
    "## 시퀀스 자료형 관련 주요 내장함수"
   ]
  },
  {
   "cell_type": "markdown",
   "id": "cb9d37b4-b430-4fd2-a5d6-127dc20716fb",
   "metadata": {},
   "source": [
    "### map()\n",
    "\n",
    "파이썬의 `map()` 함수는 주어진 함수를 시퀀스(리스트, 튜플 등)의 각 요소에 적용하여 새로운 이터레이터를 반환하는 함수입니다.  \n",
    "이 새로운 이터레이터는 원본 시퀀스의 각 요소를 변환한 결과를 담고 있습니다.  \n",
    "map()` 함수는 반복적인 작업을 단순화하고 코드를 더 간결하게 만드는 데 도움이 됩니다.\n",
    "\n",
    "```python\n",
    "map(function, iterable, ...)\r",
    "```\n",
    "\n"
   ]
  },
  {
   "cell_type": "code",
   "execution_count": 123,
   "id": "055dbbec-d9f7-4c9b-be92-7275712b2e11",
   "metadata": {},
   "outputs": [],
   "source": [
    "numbers = [1, 2, 3, 4, 5]"
   ]
  },
  {
   "cell_type": "code",
   "execution_count": 124,
   "id": "4463ccc4-f36e-4a05-b55e-514904d4a91c",
   "metadata": {},
   "outputs": [],
   "source": [
    "index = 0\n",
    "for number in numbers:\n",
    "    numbers[index] = number**2\n",
    "    index += 1"
   ]
  },
  {
   "cell_type": "code",
   "execution_count": 125,
   "id": "369b2352-8835-41fb-a94c-5ff903a89ac2",
   "metadata": {},
   "outputs": [
    {
     "data": {
      "text/plain": [
       "[1, 4, 9, 16, 25]"
      ]
     },
     "execution_count": 125,
     "metadata": {},
     "output_type": "execute_result"
    }
   ],
   "source": [
    "numbers"
   ]
  },
  {
   "cell_type": "code",
   "execution_count": 126,
   "id": "9ece5696-db3a-47fe-b89d-4f04455642e8",
   "metadata": {},
   "outputs": [
    {
     "data": {
      "text/plain": [
       "[1, 4, 9, 16, 25]"
      ]
     },
     "execution_count": 126,
     "metadata": {},
     "output_type": "execute_result"
    }
   ],
   "source": [
    "numbers = [1, 2, 3, 4, 5]\n",
    "list(map(lambda x: x**2, numbers))"
   ]
  },
  {
   "cell_type": "code",
   "execution_count": 127,
   "id": "af7828d0-9a1e-4e52-a990-197873fecd8b",
   "metadata": {},
   "outputs": [],
   "source": [
    "a = \"1\""
   ]
  },
  {
   "cell_type": "code",
   "execution_count": 128,
   "id": "3dd9df0c-0ea0-456e-aa00-2187dd244f13",
   "metadata": {},
   "outputs": [
    {
     "data": {
      "text/plain": [
       "str"
      ]
     },
     "execution_count": 128,
     "metadata": {},
     "output_type": "execute_result"
    }
   ],
   "source": [
    "type(a)"
   ]
  },
  {
   "cell_type": "code",
   "execution_count": 130,
   "id": "d5e7f427-3cac-4a4d-bfd4-0f2f757c3215",
   "metadata": {},
   "outputs": [],
   "source": [
    "b = int(a)"
   ]
  },
  {
   "cell_type": "code",
   "execution_count": 131,
   "id": "4253d0f8-d160-4607-8769-2baa0de4540c",
   "metadata": {},
   "outputs": [
    {
     "data": {
      "text/plain": [
       "1"
      ]
     },
     "execution_count": 131,
     "metadata": {},
     "output_type": "execute_result"
    }
   ],
   "source": [
    "b"
   ]
  },
  {
   "cell_type": "code",
   "execution_count": 132,
   "id": "b067e47a-8b36-4a33-a9fd-ccd2cbba366f",
   "metadata": {},
   "outputs": [
    {
     "data": {
      "text/plain": [
       "int"
      ]
     },
     "execution_count": 132,
     "metadata": {},
     "output_type": "execute_result"
    }
   ],
   "source": [
    "type(b)"
   ]
  },
  {
   "cell_type": "code",
   "execution_count": 135,
   "id": "d6d24dd7-78f9-4632-a467-475bd398bf7a",
   "metadata": {},
   "outputs": [],
   "source": [
    "values = [\"1\",\"2\",\"3\"]\n",
    "values2 = list(map(int, values))"
   ]
  },
  {
   "cell_type": "code",
   "execution_count": 137,
   "id": "83e85270-c700-42fb-9e40-4791d28019b2",
   "metadata": {},
   "outputs": [
    {
     "name": "stdout",
     "output_type": "stream",
     "text": [
      "['1', '2', '3']\n"
     ]
    }
   ],
   "source": [
    "print(values)"
   ]
  },
  {
   "cell_type": "code",
   "execution_count": 136,
   "id": "a9cd46e6-9963-4a23-9772-014d90061e22",
   "metadata": {},
   "outputs": [
    {
     "name": "stdout",
     "output_type": "stream",
     "text": [
      "[1, 2, 3]\n"
     ]
    }
   ],
   "source": [
    "print(values2)"
   ]
  },
  {
   "cell_type": "markdown",
   "id": "9a0210f0-ecd1-4668-948d-f3892dd8002a",
   "metadata": {},
   "source": [
    "### filter()\n",
    "\n",
    "파이썬의 `filter()` 함수는 주어진 함수를 시퀀스의 각 요소에 적용하여 조건을 만족하는 요소들로 이루어진 이터레이터를 반환하는 함수입니다.  \n",
    "이 함수를 사용하면 시퀀스 내에서 `특정 조건`을 만족하는 요소들만 걸러낼 수 있습니다.\n",
    "\n",
    "```python\n",
    "filter(function, iterable)\n",
    "``` "
   ]
  },
  {
   "cell_type": "code",
   "execution_count": 138,
   "id": "85f54f9a-0a7f-489b-916d-ad6177ff16b0",
   "metadata": {},
   "outputs": [],
   "source": [
    "numbers = [1,2,3,4,5]"
   ]
  },
  {
   "cell_type": "code",
   "execution_count": 140,
   "id": "79fc224a-6717-48b7-8c87-e20d87fdba93",
   "metadata": {},
   "outputs": [],
   "source": [
    "def odd(x):\n",
    "    if x % 2 == 0:\n",
    "        return False\n",
    "    else:\n",
    "        return True"
   ]
  },
  {
   "cell_type": "code",
   "execution_count": 142,
   "id": "d3e30354-2295-4c8e-a39b-9fcb0234ca54",
   "metadata": {},
   "outputs": [
    {
     "data": {
      "text/plain": [
       "[1, 3, 5]"
      ]
     },
     "execution_count": 142,
     "metadata": {},
     "output_type": "execute_result"
    }
   ],
   "source": [
    "list(filter(odd, numbers))"
   ]
  },
  {
   "cell_type": "code",
   "execution_count": 143,
   "id": "86376bb0-5de6-4a9e-8d0a-d034433d45a7",
   "metadata": {},
   "outputs": [],
   "source": [
    "def odd2(x):\n",
    "    return True if x%2==1 else False"
   ]
  },
  {
   "cell_type": "code",
   "execution_count": 144,
   "id": "a89e4c65-3a20-4583-bb3b-38b7c9ac0143",
   "metadata": {},
   "outputs": [
    {
     "data": {
      "text/plain": [
       "[1, 3, 5]"
      ]
     },
     "execution_count": 144,
     "metadata": {},
     "output_type": "execute_result"
    }
   ],
   "source": [
    "list(filter(odd2, numbers))"
   ]
  },
  {
   "cell_type": "markdown",
   "id": "ee8ce6f0-d5cd-45d6-bea6-486cb65e8575",
   "metadata": {},
   "source": [
    "## 정렬 - sorted()\n",
    "\n",
    "`sorted()` 함수는 `시퀀스(리스트, 튜플 등)`의 요소를 정렬하여 `새로운 리스트`를 반환하는 파이썬 내장 함수입니다.  \n",
    "이 함수를 사용하여 숫자, 문자열 또는 다른 객체를 원하는 순서로 정렬할 수 있습니다.\n",
    "\n",
    "```python\n",
    "sorted(iterable, key=None, reverse=False)\n",
    "```"
   ]
  },
  {
   "cell_type": "code",
   "execution_count": 145,
   "id": "61207716-60c8-4fc7-aa6f-5a3b81b3fc67",
   "metadata": {},
   "outputs": [],
   "source": [
    "numbers = [5, 2, 8, 1, 3]"
   ]
  },
  {
   "cell_type": "code",
   "execution_count": 146,
   "id": "0b8d6117-4d54-4a15-a026-e2e13331e022",
   "metadata": {},
   "outputs": [
    {
     "data": {
      "text/plain": [
       "[1, 2, 3, 5, 8]"
      ]
     },
     "execution_count": 146,
     "metadata": {},
     "output_type": "execute_result"
    }
   ],
   "source": [
    "sorted(numbers)"
   ]
  },
  {
   "cell_type": "code",
   "execution_count": 147,
   "id": "737b13b4-460c-443a-88af-2681d7a7ab2b",
   "metadata": {},
   "outputs": [
    {
     "data": {
      "text/plain": [
       "[8, 5, 3, 2, 1]"
      ]
     },
     "execution_count": 147,
     "metadata": {},
     "output_type": "execute_result"
    }
   ],
   "source": [
    "sorted(numbers, reverse=True)"
   ]
  },
  {
   "cell_type": "code",
   "execution_count": 148,
   "id": "35bb5811-3c85-40f8-82e0-8808dfbdd1b0",
   "metadata": {},
   "outputs": [
    {
     "name": "stdout",
     "output_type": "stream",
     "text": [
      "[1, 2, 3, 5, 8]\n",
      "[8, 5, 3, 2, 1]\n",
      "['date', 'apple', 'banana', 'cherry']\n"
     ]
    }
   ],
   "source": [
    "\n",
    "\n",
    "# 오름차순으로 정렬\n",
    "sorted_numbers_asc = sorted(numbers)\n",
    "print(sorted_numbers_asc)  # [1, 2, 3, 5, 8]\n",
    "\n",
    "# 내림차순으로 정렬\n",
    "sorted_numbers_desc = sorted(numbers, reverse=True)\n",
    "print(sorted_numbers_desc)  # [8, 5, 3, 2, 1]\n",
    "\n",
    "fruits = [\"apple\", \"banana\", \"cherry\", \"date\"]\n",
    "\n",
    "# 문자열 길이를 기준으로 정렬\n",
    "sorted_fruits_by_length = sorted(fruits, key=len)\n",
    "print(sorted_fruits_by_length)  # ['date', 'apple', 'banana', 'cherry']\n"
   ]
  },
  {
   "cell_type": "markdown",
   "id": "a7bd3e6d-99c2-4f83-a367-24b05e3db93d",
   "metadata": {},
   "source": [
    "## dictionary 정렬\n",
    "\n",
    "파이썬에서 딕셔너리를 정렬하는 방법은 여러 가지가 있습니다.  \n",
    "딕셔너리를 정렬할 때는 주로 `sorted()` 함수나 `items()` 메서드를 활용합니다. "
   ]
  },
  {
   "cell_type": "code",
   "execution_count": 149,
   "id": "b5ee459a-4d9f-4608-9cab-a73324d39d48",
   "metadata": {},
   "outputs": [],
   "source": [
    "my_dict = {'cherry': 8, 'apple': 5, 'banana': 2 }\n"
   ]
  },
  {
   "cell_type": "code",
   "execution_count": 150,
   "id": "0229df84-b57f-4ed7-982d-cee6779463a1",
   "metadata": {},
   "outputs": [
    {
     "data": {
      "text/plain": [
       "{'cherry': 8, 'apple': 5, 'banana': 2}"
      ]
     },
     "execution_count": 150,
     "metadata": {},
     "output_type": "execute_result"
    }
   ],
   "source": [
    "my_dict"
   ]
  },
  {
   "cell_type": "code",
   "execution_count": 152,
   "id": "f54cc645-0a2e-41fd-8626-2a74af5c72f9",
   "metadata": {},
   "outputs": [
    {
     "data": {
      "text/plain": [
       "dict_items([('cherry', 8), ('apple', 5), ('banana', 2)])"
      ]
     },
     "execution_count": 152,
     "metadata": {},
     "output_type": "execute_result"
    }
   ],
   "source": [
    "my_dict.items()"
   ]
  },
  {
   "cell_type": "code",
   "execution_count": 153,
   "id": "99ef6493-f240-49d2-8d75-d98ee80c03ae",
   "metadata": {},
   "outputs": [
    {
     "data": {
      "text/plain": [
       "{'apple': 5, 'banana': 2, 'cherry': 8}"
      ]
     },
     "execution_count": 153,
     "metadata": {},
     "output_type": "execute_result"
    }
   ],
   "source": [
    "dict(sorted(my_dict.items()))"
   ]
  },
  {
   "cell_type": "code",
   "execution_count": null,
   "id": "e4633881-92f7-49b5-a602-76c6bde4c04e",
   "metadata": {},
   "outputs": [],
   "source": [
    "\"\"\"\n",
    "1. 딕셔너리의 키(key)를 기준으로 정렬:\n",
    "\"\"\"\n",
    "dict(sorted(my_dict.items()))"
   ]
  },
  {
   "cell_type": "code",
   "execution_count": 155,
   "id": "8803a59e-409c-4421-a5b3-b0e5f3dab24e",
   "metadata": {},
   "outputs": [
    {
     "data": {
      "text/plain": [
       "{'cherry': 8, 'apple': 5, 'banana': 2}"
      ]
     },
     "execution_count": 155,
     "metadata": {},
     "output_type": "execute_result"
    }
   ],
   "source": [
    "dict(sorted(my_dict.items(), key=lambda item: item[1], reverse=True ))"
   ]
  },
  {
   "cell_type": "markdown",
   "id": "ea6b0006-c195-4a7f-b916-232e63b7fd00",
   "metadata": {},
   "source": [
    "# 출력 형식\n",
    "파이썬에서 문자열(string)을 출력할 때에는 다양한 형식을 사용할 수 있습니다.  \n",
    "주요한 출력 형식들과 그에 대한 예제를 설명하겠습니다:"
   ]
  },
  {
   "cell_type": "code",
   "execution_count": 156,
   "id": "03ac6983-f942-49d4-a872-bbc1f76a8fba",
   "metadata": {},
   "outputs": [
    {
     "name": "stdout",
     "output_type": "stream",
     "text": [
      "Hello, Alice!\n"
     ]
    }
   ],
   "source": [
    "\"\"\"\n",
    "일반적인 문자열 출력:\n",
    "\"\"\"\n",
    "\n",
    "name = \"Alice\"\n",
    "print(\"Hello, \" + name + \"!\")  # Hello, Alice!"
   ]
  },
  {
   "cell_type": "code",
   "execution_count": 157,
   "id": "83f8d11c-db24-4de5-b08c-60f5a10ac4ab",
   "metadata": {},
   "outputs": [
    {
     "name": "stdout",
     "output_type": "stream",
     "text": [
      "My name is Bob and I am 30 years old.\n"
     ]
    }
   ],
   "source": [
    "\"\"\"\n",
    "f-string (Formatted String Literal) 사용:\n",
    "\"\"\"\n",
    "\n",
    "name = \"Bob\"\n",
    "age = 30\n",
    "print(f\"My name is {name} and I am {age} years old.\")  # My name is Bob and I am 30 years old.\n"
   ]
  },
  {
   "cell_type": "code",
   "execution_count": 158,
   "id": "c5c6e368-65af-4894-92af-aac11bc06a96",
   "metadata": {},
   "outputs": [
    {
     "name": "stdout",
     "output_type": "stream",
     "text": [
      "My name is Carol and I am 25 years old.\n"
     ]
    }
   ],
   "source": [
    "\"\"\"\n",
    "str.format() 메서드 사용:\n",
    "\"\"\"\n",
    "\n",
    "name = \"Carol\"\n",
    "age = 25\n",
    "print(\"My name is {} and I am {} years old.\".format(name, age))  # My name is Carol and I am 25 years old.\n",
    "\n"
   ]
  },
  {
   "cell_type": "code",
   "execution_count": 159,
   "id": "a7b13211-6551-427e-8c0c-472fbd2baf2c",
   "metadata": {},
   "outputs": [
    {
     "name": "stdout",
     "output_type": "stream",
     "text": [
      "My name is David and I am 35 years old.\n"
     ]
    }
   ],
   "source": [
    "\"\"\"\n",
    "% 연산자를 사용한 형식 지정:\n",
    "\"\"\"\n",
    "\n",
    "name = \"David\"\n",
    "age = 35\n",
    "print(\"My name is %s and I am %d years old.\" % (name, age))  # My name is David and I am 35 years old.\n",
    "\n",
    "\n"
   ]
  },
  {
   "cell_type": "code",
   "execution_count": 160,
   "id": "2b7da582-5618-4755-a86c-6f39acc36137",
   "metadata": {},
   "outputs": [
    {
     "name": "stdout",
     "output_type": "stream",
     "text": [
      "The value of pi is approximately 3.14\n"
     ]
    }
   ],
   "source": [
    "\"\"\"\n",
    "소수점 자릿수 지정:\n",
    "\"\"\"\n",
    "\n",
    "pi = 3.141592653589793\n",
    "print(f\"The value of pi is approximately {pi:.2f}\")  # The value of pi is approximately 3.14\n"
   ]
  },
  {
   "cell_type": "code",
   "execution_count": 161,
   "id": "7270844f-2075-407d-9239-d1397f254ddf",
   "metadata": {},
   "outputs": [
    {
     "name": "stdout",
     "output_type": "stream",
     "text": [
      "right:  123, left:123  , fill_zero:00123\n"
     ]
    }
   ],
   "source": [
    "\"\"\"\n",
    "정수형 출력\n",
    "\"\"\"\n",
    "\n",
    "num = 123\n",
    "print(f\"right:{num:5d}, left:{num:<5d}, fill_zero:{num:05d}\") \n"
   ]
  },
  {
   "cell_type": "code",
   "execution_count": 167,
   "id": "8fe3abaf-393b-40d9-bd4c-db5e1bee316b",
   "metadata": {},
   "outputs": [
    {
     "name": "stdout",
     "output_type": "stream",
     "text": [
      "['apple', 'banana', 'orange']\n",
      "apple-banana-orange\n"
     ]
    }
   ],
   "source": [
    "\"\"\"\n",
    "문자열 분리(join)와 분할(split):\n",
    "\"\"\"\n",
    "\n",
    "fruits = \"apple,banana,orange\"\n",
    "fruits_list = fruits.split(',')\n",
    "print(fruits_list)  # ['apple', 'banana', 'orange']\n",
    "\n",
    "separator = '-'\n",
    "print(separator.join(fruits_list))  # apple-banana-orange\n",
    " \n"
   ]
  },
  {
   "cell_type": "code",
   "execution_count": 162,
   "id": "bc5bbe89-6df3-479c-98d5-ca242fe6e657",
   "metadata": {},
   "outputs": [],
   "source": [
    "fruits = \"apple,banana,orange\"\n",
    "fruits_list = fruits.split(',')"
   ]
  },
  {
   "cell_type": "code",
   "execution_count": 163,
   "id": "63a6a196-6bc2-4ee1-abc4-5fae1c051bdf",
   "metadata": {},
   "outputs": [
    {
     "data": {
      "text/plain": [
       "['apple', 'banana', 'orange']"
      ]
     },
     "execution_count": 163,
     "metadata": {},
     "output_type": "execute_result"
    }
   ],
   "source": [
    "fruits_list"
   ]
  },
  {
   "cell_type": "code",
   "execution_count": 164,
   "id": "93ee6fe7-3483-4935-b7cd-19fea8ee3611",
   "metadata": {},
   "outputs": [],
   "source": [
    "fruits = \"apple banana orange\""
   ]
  },
  {
   "cell_type": "code",
   "execution_count": 165,
   "id": "9e656b4e-cb31-4bd4-b0ff-6d1ea9ab1b69",
   "metadata": {},
   "outputs": [
    {
     "data": {
      "text/plain": [
       "['apple', 'banana', 'orange']"
      ]
     },
     "execution_count": 165,
     "metadata": {},
     "output_type": "execute_result"
    }
   ],
   "source": [
    "fruits.split(\" \")"
   ]
  },
  {
   "cell_type": "code",
   "execution_count": 166,
   "id": "436b254c-68b2-494f-8377-3d8b0ceed8a2",
   "metadata": {},
   "outputs": [
    {
     "data": {
      "text/plain": [
       "['apple', 'banana', 'orange']"
      ]
     },
     "execution_count": 166,
     "metadata": {},
     "output_type": "execute_result"
    }
   ],
   "source": [
    "fruits.split()"
   ]
  },
  {
   "cell_type": "markdown",
   "id": "86e80075-50f1-4f62-a3ba-2fbcedd460c5",
   "metadata": {},
   "source": [
    "# 조건문\n",
    "\n",
    "파이썬 조건문은 아래의 형식으로 작성해야 합니다.  \n",
    "- `if` 가 포함된 라인의 끝에는 `:`(콜론) 으로\n",
    "- `if` 조건절 아래쪽에는 동일한 `indent` 필요 \n",
    "\n",
    "```python\n",
    "if 조건:\n",
    "    # 조건이 만족할 때 실행할 코드 블록\n",
    "```"
   ]
  },
  {
   "cell_type": "code",
   "execution_count": 175,
   "id": "6fde7a62-6bef-4be3-9cfc-5d7271e7f407",
   "metadata": {},
   "outputs": [
    {
     "name": "stdout",
     "output_type": "stream",
     "text": [
      "x는 양수입니다.\n"
     ]
    }
   ],
   "source": [
    "'''\n",
    "단순한 if문:\n",
    "'''\n",
    "\n",
    "x = 10\n",
    "\n",
    "if x > 0:\n",
    "    print(\"x는 양수입니다.\")"
   ]
  },
  {
   "cell_type": "code",
   "execution_count": null,
   "id": "b4088686-a4d4-4211-abcb-0c27f6897ed6",
   "metadata": {},
   "outputs": [],
   "source": [
    "'''\n",
    "if-else문:\n",
    "'''\n",
    "\n",
    "x = -5\n",
    "\n",
    "if x > 0:\n",
    "    print(\"x는 양수입니다.\")\n",
    "else:\n",
    "    print(\"x는 음수 또는 0입니다.\")\n"
   ]
  },
  {
   "cell_type": "code",
   "execution_count": 176,
   "id": "4bfcf0e3-6dbe-47e3-af18-832e32275417",
   "metadata": {},
   "outputs": [
    {
     "name": "stdout",
     "output_type": "stream",
     "text": [
      "x는 0입니다.\n"
     ]
    }
   ],
   "source": [
    "'''\n",
    "if-elif-else문:\n",
    "'''\n",
    "\n",
    "x = 0\n",
    "\n",
    "if x > 0:\n",
    "    print(\"x는 양수입니다.\")\n",
    "elif x < 0:\n",
    "    print(\"x는 음수입니다.\")\n",
    "else:\n",
    "    print(\"x는 0입니다.\")\n"
   ]
  },
  {
   "cell_type": "code",
   "execution_count": 177,
   "id": "3b0bdb14-8e0e-4470-9efe-8dec6a9594fa",
   "metadata": {},
   "outputs": [
    {
     "name": "stdout",
     "output_type": "stream",
     "text": [
      "B입니다.\n"
     ]
    }
   ],
   "source": [
    "'''\n",
    "중첩된 조건문:\n",
    "'''\n",
    "\n",
    "x = 85\n",
    "\n",
    "if x >= 90:\n",
    "    if x == 100:\n",
    "        print(\"A+입니다.\")\n",
    "    else:\n",
    "        print(\"A입니다.\")\n",
    "elif x >= 80:\n",
    "    print(\"B입니다.\")\n",
    "elif x >= 70:\n",
    "    print(\"C입니다.\")\n",
    "else:\n",
    "    print(\"D입니다.\")\n"
   ]
  },
  {
   "cell_type": "code",
   "execution_count": null,
   "id": "08611af5-2cfe-4ce6-9f4f-d438f3063fde",
   "metadata": {},
   "outputs": [],
   "source": []
  }
 ],
 "metadata": {
  "kernelspec": {
   "display_name": "Python 3 (ipykernel)",
   "language": "python",
   "name": "python3"
  },
  "language_info": {
   "codemirror_mode": {
    "name": "ipython",
    "version": 3
   },
   "file_extension": ".py",
   "mimetype": "text/x-python",
   "name": "python",
   "nbconvert_exporter": "python",
   "pygments_lexer": "ipython3",
   "version": "3.10.11"
  }
 },
 "nbformat": 4,
 "nbformat_minor": 5
}
