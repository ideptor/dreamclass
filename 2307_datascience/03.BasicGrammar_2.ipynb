{
 "cells": [
  {
   "cell_type": "markdown",
   "id": "533bd78c-2dd9-4788-8929-05789faefc3e",
   "metadata": {},
   "source": [
    "# 파이썬 문법 #2\n",
    "\n",
    "- `for`반복문   \n",
    "- `while`반복문    \n",
    "\r\n",
    "- `for` - `else` \r\n",
    "- 함수\r\n",
    "- 클래스(class)\r\n",
    "- 패키지 임포트"
   ]
  },
  {
   "cell_type": "markdown",
   "id": "19400b44-8d8d-4e88-9271-fb58358b5607",
   "metadata": {},
   "source": [
    "# `for` 반복문\n",
    "파이썬의 `for` 문은 반복문을 사용하여 `시퀀스 자료형`(예: 리스트, 튜플, 문자열)이나   \n",
    "다른 반복 가능한(iterable) 객체의 원소들을 하나씩 순회하며 처리하는 데 사용됩니다.  \n",
    "`for` 문의 일반적인 구조는 다음과 같습니다:\n",
    "\n",
    "```python\n",
    "for element in sequence:\n",
    "    # 반복해서 실행할 코드 블록\n",
    "```\n",
    "\n",
    "- `sequence`: 시퀀스 자료형이나 반복 가능한 객체입니다. 이 안의 원소들을 하나씩 가져와 `element` 변수에 할당하며 반복문이 실행됩니다.  \n",
    "- `element`: 반복문에서 현재 처리 중인 원소를 저장하는 변수입니다.\n",
    "\n",
    "`for` 문은 주어진 시퀀스나 iterable 객체에 대해 처음부터 끝까지 원소를 하나씩 꺼내어 처리하는 반복문입니다.  \n",
    "반복문의 코드 블록은 반복되는 동안 계속 실행되며, 모든 원소에 대해 코드 블록이 실행된 후 반복문이 종료됩니다. \n"
   ]
  },
  {
   "cell_type": "code",
   "execution_count": 6,
   "id": "20a5067f-f4b7-4191-b694-781a59619da2",
   "metadata": {},
   "outputs": [],
   "source": [
    "\"\"\"\n",
    "1. 리스트 반복\n",
    "\"\"\"\n",
    "\n",
    "fruits = [\"apple\", \"banana\", \"orange\"]"
   ]
  },
  {
   "cell_type": "code",
   "execution_count": 7,
   "id": "de542e8e-5ac6-430b-aee9-9b0db133dd7a",
   "metadata": {},
   "outputs": [
    {
     "name": "stdout",
     "output_type": "stream",
     "text": [
      "apple\n",
      "banana\n",
      "orange\n"
     ]
    }
   ],
   "source": [
    "for fruit in fruits:\n",
    "    print(fruit)"
   ]
  },
  {
   "cell_type": "code",
   "execution_count": 8,
   "id": "1dabe3aa-cbdc-44c4-8f26-419229d056e5",
   "metadata": {},
   "outputs": [],
   "source": [
    "\"\"\"\n",
    "2. 문자열(String) 반복:\n",
    "\"\"\"\n",
    "message = \"hello world\"\n"
   ]
  },
  {
   "cell_type": "code",
   "execution_count": 9,
   "id": "eed797d5-c284-4ee9-9196-9b83e6891908",
   "metadata": {},
   "outputs": [
    {
     "name": "stdout",
     "output_type": "stream",
     "text": [
      "h\n",
      "e\n",
      "l\n",
      "l\n",
      "o\n",
      " \n",
      "w\n",
      "o\n",
      "r\n",
      "l\n",
      "d\n"
     ]
    }
   ],
   "source": [
    "for ch in message:\n",
    "    print(ch)"
   ]
  },
  {
   "cell_type": "code",
   "execution_count": 11,
   "id": "9df7ac91-baf0-49bb-9846-888a0270e15f",
   "metadata": {},
   "outputs": [
    {
     "name": "stdout",
     "output_type": "stream",
     "text": [
      "h e l l o   w o r l d "
     ]
    }
   ],
   "source": [
    "for ch in message:\n",
    "    print(ch, end=\" \")"
   ]
  },
  {
   "cell_type": "code",
   "execution_count": null,
   "id": "0703baf2-f272-4da9-9e70-eb362fc2c85a",
   "metadata": {},
   "outputs": [],
   "source": [
    "\"\"\"\n",
    "2. range() 함수와 함께 사용:\n",
    "\"\"\"\n"
   ]
  },
  {
   "cell_type": "markdown",
   "id": "a2487448-17d0-4c2e-a962-08849f1786b4",
   "metadata": {},
   "source": [
    "파이썬의 `range()` 함수는 `숫자의 시퀀스`를 생성하는 데 사용되는 내장 함수입니다.  \n",
    "주로 반복문에서 특정 범위의 숫자들을 반복적으로 처리할 때 유용하게 사용됩니다.  \n",
    "range() 함수의 기본적인 사용법과 예제를 알려드리겠습니다.\n",
    "\n",
    "`range()` 함수의 형식은 다음과 같습니다:\n",
    "\n",
    "- range(`stop`): `0`부터 `stop-1`까지의 숫자 시퀀스를 생성합니다.  \n",
    "- range(`start`, `stop`): `start`부터 `stop-1`까지의 숫자 시퀀스를 생성합니다.  \n",
    "- range(`start`, `stop`, `step`): `start`부터 `stop-1`까지의 숫자 시퀀스를 `step`만큼 건너뛰며 생성합니다.  \n",
    "\n",
    "range() 함수가 반환하는 값은 range 객체로, 리스트와 비슷한 동작을 하지만,   \n",
    "`실제로는 모든 숫자를 메모리에 저장하지 않고 필요한 순간에 하나씩 생성됩`니다.   \n",
    "따라서 `매우 큰 범위의 숫자도 처리`할 수 있습니다."
   ]
  },
  {
   "cell_type": "code",
   "execution_count": 19,
   "id": "2bb571a2-0af2-47e1-8bab-048de40e85cc",
   "metadata": {},
   "outputs": [
    {
     "name": "stdout",
     "output_type": "stream",
     "text": [
      "0 1 2 3 4 5 6 7 8 9 "
     ]
    }
   ],
   "source": [
    "for i in range(10):\n",
    "    print(i, end=\" \")"
   ]
  },
  {
   "cell_type": "code",
   "execution_count": 18,
   "id": "c4878ce2-7107-42bd-a696-559ea5ed94f6",
   "metadata": {},
   "outputs": [
    {
     "data": {
      "text/plain": [
       "[0, 1, 2, 3, 4, 5, 6, 7, 8, 9]"
      ]
     },
     "execution_count": 18,
     "metadata": {},
     "output_type": "execute_result"
    }
   ],
   "source": [
    "list(range(10))"
   ]
  },
  {
   "cell_type": "code",
   "execution_count": 12,
   "id": "b4b94aca-31bd-4e2a-9b5c-273155811dc5",
   "metadata": {},
   "outputs": [
    {
     "data": {
      "text/plain": [
       "[0, 1, 2, 3, 4, 5, 6, 7, 8, 9]"
      ]
     },
     "execution_count": 12,
     "metadata": {},
     "output_type": "execute_result"
    }
   ],
   "source": [
    "list(range(10))"
   ]
  },
  {
   "cell_type": "code",
   "execution_count": 13,
   "id": "91e09a4e-6dad-4317-8c94-6a8f9317be5a",
   "metadata": {},
   "outputs": [
    {
     "data": {
      "text/plain": [
       "[4, 5, 6, 7, 8, 9]"
      ]
     },
     "execution_count": 13,
     "metadata": {},
     "output_type": "execute_result"
    }
   ],
   "source": [
    "list(range(4,10))"
   ]
  },
  {
   "cell_type": "code",
   "execution_count": 14,
   "id": "48e95a88-fd15-4082-b20f-19f0165fe773",
   "metadata": {},
   "outputs": [
    {
     "data": {
      "text/plain": [
       "[1, 3, 5, 7, 9]"
      ]
     },
     "execution_count": 14,
     "metadata": {},
     "output_type": "execute_result"
    }
   ],
   "source": [
    "list(range(1,10,2))"
   ]
  },
  {
   "cell_type": "code",
   "execution_count": 15,
   "id": "6b86b35f-20d5-474f-8818-960daa99bafc",
   "metadata": {},
   "outputs": [
    {
     "data": {
      "text/plain": [
       "[3, 6, 9, 12]"
      ]
     },
     "execution_count": 15,
     "metadata": {},
     "output_type": "execute_result"
    }
   ],
   "source": [
    "list(range(3,13,3))"
   ]
  },
  {
   "cell_type": "code",
   "execution_count": null,
   "id": "561a9185-4426-4dab-bbc9-f328ff939527",
   "metadata": {},
   "outputs": [],
   "source": [
    "\"\"\"\n",
    "range(start, stop) 사용 예제:\n",
    "\"\"\""
   ]
  },
  {
   "cell_type": "code",
   "execution_count": null,
   "id": "c90745b3-1276-4f51-a8e4-a178ca3fd490",
   "metadata": {},
   "outputs": [],
   "source": [
    "\"\"\"\n",
    "range(start, stop, step) 사용 예제:\n",
    "\"\"\""
   ]
  },
  {
   "cell_type": "code",
   "execution_count": null,
   "id": "b3136863-f48a-43ff-bf32-a5ff5733d429",
   "metadata": {},
   "outputs": [],
   "source": [
    "\"\"\"\n",
    "range()를 활용한 리스트 생성:\n",
    "\"\"\""
   ]
  },
  {
   "cell_type": "code",
   "execution_count": null,
   "id": "d3eaa49a-a967-4294-9d7e-4b3b3355ed66",
   "metadata": {},
   "outputs": [],
   "source": [
    "\"\"\"\n",
    "역순으로 range() 사용:\n",
    "\"\"\""
   ]
  },
  {
   "cell_type": "code",
   "execution_count": 20,
   "id": "0ac8a5cf-0c43-4b51-90f2-c9324a7356f5",
   "metadata": {},
   "outputs": [
    {
     "data": {
      "text/plain": [
       "[10, 9, 8, 7, 6, 5, 4, 3, 2, 1]"
      ]
     },
     "execution_count": 20,
     "metadata": {},
     "output_type": "execute_result"
    }
   ],
   "source": [
    "list(range(10,0,-1))"
   ]
  },
  {
   "cell_type": "code",
   "execution_count": 21,
   "id": "d9d9a1cc-acd0-4301-8321-f2c84dbc3bd0",
   "metadata": {},
   "outputs": [],
   "source": [
    "\"\"\"\n",
    "enumerate() 함수를 활용하여 인덱스와 값 동시에 접근:\n",
    "\"\"\"\n",
    "\n",
    "fruits = [\"apple\", \"banana\", \"orange\"]\n"
   ]
  },
  {
   "cell_type": "code",
   "execution_count": 23,
   "id": "c0699b56-4a69-483f-ad41-69d48400b780",
   "metadata": {},
   "outputs": [
    {
     "name": "stdout",
     "output_type": "stream",
     "text": [
      "(0, 'apple')\n",
      "(1, 'banana')\n",
      "(2, 'orange')\n"
     ]
    }
   ],
   "source": [
    "for fruit in enumerate(fruits):\n",
    "    print(fruit)"
   ]
  },
  {
   "cell_type": "code",
   "execution_count": 24,
   "id": "061ab799-24ab-45f7-981b-abc771c037a8",
   "metadata": {},
   "outputs": [
    {
     "name": "stdout",
     "output_type": "stream",
     "text": [
      "0 apple\n",
      "1 banana\n",
      "2 orange\n"
     ]
    }
   ],
   "source": [
    "for index, fruit in enumerate(fruits):\n",
    "    print(index, fruit)"
   ]
  },
  {
   "cell_type": "code",
   "execution_count": 25,
   "id": "2a19dd98-3b3b-43fa-8d19-fea8cd634342",
   "metadata": {},
   "outputs": [],
   "source": [
    "\"\"\"\n",
    "딕셔너리(Dict) 반복:\n",
    "\"\"\"\n",
    "\n",
    "scores = {\"Alice\": 85, \"Bob\": 92, \"Carol\": 78}"
   ]
  },
  {
   "cell_type": "code",
   "execution_count": 32,
   "id": "86b7fee5-eb38-4a05-8631-ce0d879fe8f4",
   "metadata": {},
   "outputs": [
    {
     "name": "stdout",
     "output_type": "stream",
     "text": [
      "Alice 85\n",
      "Bob 92\n",
      "Carol 78\n"
     ]
    }
   ],
   "source": [
    "for key, value in scores.items():\n",
    "    print(key, value)"
   ]
  },
  {
   "cell_type": "markdown",
   "id": "be530a8f-8d61-4d41-a5fc-44747adaf842",
   "metadata": {},
   "source": [
    "# while 반복문\n",
    "\n",
    "파이썬의 `while` 문은 주어진 조건이 참(`True`)인 동안 반복적으로 코드를 실행하는 반복문입니다.  \n",
    "`while` 문의 일반적인 구조는 다음과 같습니다:\n",
    "\n",
    "```python\n",
    "while 조건:\n",
    "    # 반복해서 실행할 코드 블록\n",
    "```\n",
    "\n",
    "- `조건`: 반복문을 계속해서 실행할지를 결정하는 조건식입니다. 조건식이 참(True)인 동안 반복문이 실행됩니다.\n",
    "- `코드 블록`: 조건이 참일 때 실행되는 코드입니다. 들여쓰기로 블록을 구분합니다.\n",
    "\n",
    "`while` 문은 주어진 조건이 `참(True)` 일 경우에 반복문의 코드 블록을 실행합니다.  \n",
    "반복문이 실행되면 다시 조건을 검사하고, 조건이 여전히 참이면 다시 코드 블록을 실행하는 방식으로 동작합니다.  \n",
    "조건이 `거짓(False)`이 되면 반복문은 종료됩니다.\n"
   ]
  },
  {
   "cell_type": "code",
   "execution_count": null,
   "id": "baac0739-8eb1-40dc-8694-3ec90bdeac06",
   "metadata": {},
   "outputs": [],
   "source": [
    "\"\"\"\n",
    "1부터 5까지 숫자 출력하기:\n",
    "\"\"\"\n"
   ]
  },
  {
   "cell_type": "code",
   "execution_count": 33,
   "id": "85137a63-7067-4d5b-927b-3bb4f4ff15fd",
   "metadata": {},
   "outputs": [
    {
     "name": "stdout",
     "output_type": "stream",
     "text": [
      "1\n",
      "2\n",
      "3\n",
      "4\n",
      "5\n"
     ]
    }
   ],
   "source": [
    "num = 1\n",
    "while num <=5:\n",
    "    print(num)\n",
    "    num += 1"
   ]
  },
  {
   "cell_type": "code",
   "execution_count": null,
   "id": "858acd4f-ae56-40d2-b26e-ef3b5738b611",
   "metadata": {},
   "outputs": [],
   "source": [
    "\"\"\"\n",
    "continue:\n",
    "continue는 반복문의 코드 블록에서 실행 중인 특정 조건에서 남은 코드를 무시하고 반복문의 처음으로 돌아가게 합니다.\n",
    "continue를 만나면 남은 부분의 코드를 실행하지 않고, 다음 반복(iteration)으로 넘어갑니다.\n",
    "\"\"\"\n"
   ]
  },
  {
   "cell_type": "code",
   "execution_count": 34,
   "id": "5c313b91-6c92-487d-b6d8-89767dd6059a",
   "metadata": {},
   "outputs": [
    {
     "name": "stdout",
     "output_type": "stream",
     "text": [
      "0\n",
      "1\n",
      "2\n",
      "4\n"
     ]
    }
   ],
   "source": [
    "for i in range(5):\n",
    "    if i == 3:\n",
    "        continue\n",
    "    print(i)"
   ]
  },
  {
   "cell_type": "code",
   "execution_count": 35,
   "id": "d2ca5f08-96d5-42a3-9a26-67dd630c1a68",
   "metadata": {},
   "outputs": [
    {
     "name": "stdout",
     "output_type": "stream",
     "text": [
      "0\n",
      "1\n",
      "2\n"
     ]
    },
    {
     "name": "stderr",
     "output_type": "stream",
     "text": [
      "WARNING: Retrying (Retry(total=4, connect=None, read=None, redirect=None, status=None)) after connection broken by 'ConnectTimeoutError(<pip._vendor.urllib3.connection.HTTPSConnection object at 0x0000017421E2E350>, 'Connection to pypi.org timed out. (connect timeout=15)')': /simple/tqdm/\n",
      "WARNING: Retrying (Retry(total=3, connect=None, read=None, redirect=None, status=None)) after connection broken by 'ConnectTimeoutError(<pip._vendor.urllib3.connection.HTTPSConnection object at 0x0000017421E2E650>, 'Connection to pypi.org timed out. (connect timeout=15)')': /simple/tqdm/\n",
      "WARNING: Retrying (Retry(total=2, connect=None, read=None, redirect=None, status=None)) after connection broken by 'ConnectTimeoutError(<pip._vendor.urllib3.connection.HTTPSConnection object at 0x0000017421E2E950>, 'Connection to pypi.org timed out. (connect timeout=15)')': /simple/tqdm/\n",
      "WARNING: Retrying (Retry(total=1, connect=None, read=None, redirect=None, status=None)) after connection broken by 'ConnectTimeoutError(<pip._vendor.urllib3.connection.HTTPSConnection object at 0x0000017421E2EAD0>, 'Connection to pypi.org timed out. (connect timeout=15)')': /simple/tqdm/\n",
      "WARNING: Retrying (Retry(total=0, connect=None, read=None, redirect=None, status=None)) after connection broken by 'ConnectTimeoutError(<pip._vendor.urllib3.connection.HTTPSConnection object at 0x0000017421E2EC50>, 'Connection to pypi.org timed out. (connect timeout=15)')': /simple/tqdm/\n",
      "ERROR: Could not find a version that satisfies the requirement tqdm (from versions: none)\n",
      "ERROR: No matching distribution found for tqdm\n"
     ]
    }
   ],
   "source": [
    "for i in range(5):\n",
    "    if i == 3:\n",
    "        break\n",
    "    print(i)"
   ]
  },
  {
   "cell_type": "code",
   "execution_count": null,
   "id": "01c85f75-086c-43f7-a7bf-2b78a61fcbe0",
   "metadata": {},
   "outputs": [],
   "source": [
    "\"\"\"\n",
    "break:\n",
    "break는 반복문에서 실행 중인 특정 조건에서 반복문을 완전히 종료시킵니다.\n",
    "break를 만나면 반복문을 빠져나와 반복문 이후의 코드를 실행합니다.\n",
    "\"\"\"\n",
    "\n"
   ]
  },
  {
   "cell_type": "markdown",
   "id": "5874f257-5a69-4824-b6ce-1b0aba486061",
   "metadata": {},
   "source": [
    "# for - else\n",
    "\n",
    "파이썬의 `for-else` 문은 `for` 문이 `정상적으로 모두 실행된 후`에 `추가적인 동작`을 수행하도록 사용됩니다.  \n",
    "for 문이 반복 중 break 문을 만나지 않고 정상적으로 종료되었을 때, `else 블록`이 실행됩니다.\n",
    "\n",
    "`for-else` 문의 구조는 다음과 같습니다:\n",
    "\n",
    "```python\n",
    "for element in sequence:\n",
    "    # 반복해서 실행할 코드 블록\n",
    "else:\n",
    "    # for 문이 정상적으로 모두 실행된 후 추가 동작을 수행하는 코드 블록\n",
    "\n",
    "```"
   ]
  },
  {
   "cell_type": "code",
   "execution_count": 37,
   "id": "d311431c-6276-4fc5-a960-9c7cb4b7879e",
   "metadata": {},
   "outputs": [
    {
     "name": "stdout",
     "output_type": "stream",
     "text": [
      "found grape\n"
     ]
    }
   ],
   "source": [
    "\"\"\"\n",
    "for-else 사용 예제:\n",
    "\"\"\"\n",
    "fruits = [\"apple\", \"banana\", \"grape\", \"orange\"]\n",
    "for fruit in fruits:\n",
    "    if fruit == \"grape\":\n",
    "        print(\"found grape\")\n",
    "        break\n",
    "else:\n",
    "    print(\"no grape\")\n"
   ]
  },
  {
   "cell_type": "code",
   "execution_count": 66,
   "id": "e75d3c79-6037-4132-bbf6-a1239f015244",
   "metadata": {},
   "outputs": [
    {
     "name": "stdout",
     "output_type": "stream",
     "text": [
      "10 은 소수가 아닙니다.\n"
     ]
    }
   ],
   "source": [
    "import random\n",
    "\n",
    "num = random.randint(2,10)\n",
    "for i in range(2, num):\n",
    "    if num % i == 0:\n",
    "        print(f\"{num} 은 소수가 아닙니다.\")\n",
    "        break\n",
    "else:\n",
    "    print(f\"{num}은 소수입니다.\")"
   ]
  },
  {
   "cell_type": "markdown",
   "id": "fa24330c-f51c-46f7-a05b-401cea0b6645",
   "metadata": {},
   "source": [
    "# 함수\n",
    "\n",
    "파이썬에서 `함수(function)`는 `재사용 가능한 코드 블록`을 정의하는 데 사용됩니다.  \n",
    "함수를 사용하면 코드를 모듈화하여 프로그램을 구성하고, 비슷한 작업을 여러 번 수행할 때 반복적인 코드 작성을 피할 수 있습니다.  \n",
    "함수는 `def` 키워드를 사용하여 정의하며, `함수 이름`과 `매개변수(parameter)`를 가질 수 있습니다.  \n",
    "\n",
    "함수의 구조는 다음과 같습니다:\n",
    "\n",
    "```python\n",
    "def 함수이름(매개변수1, 매개변수2, ...):\n",
    "    # 함수의 기능을 수행하는 코드 블록\n",
    "    return 반환값\n",
    "```\n"
   ]
  },
  {
   "cell_type": "code",
   "execution_count": null,
   "id": "984d867e-a41b-4b9f-8fa9-ebb85fa8bbf4",
   "metadata": {},
   "outputs": [],
   "source": [
    "\"\"\"\n",
    "간단한 함수 예제:\n",
    "\"\"\""
   ]
  },
  {
   "cell_type": "code",
   "execution_count": 67,
   "id": "04052c6f-8b72-4950-9e83-d25002d2d487",
   "metadata": {},
   "outputs": [],
   "source": [
    "def greet(name):\n",
    "    return f\"Hello {name}\""
   ]
  },
  {
   "cell_type": "code",
   "execution_count": 68,
   "id": "c19181d1-8dfa-4ae6-967c-8ad363a67e47",
   "metadata": {},
   "outputs": [
    {
     "data": {
      "text/plain": [
       "'Hello David'"
      ]
     },
     "execution_count": 68,
     "metadata": {},
     "output_type": "execute_result"
    }
   ],
   "source": [
    "greet(\"David\")"
   ]
  },
  {
   "cell_type": "code",
   "execution_count": null,
   "id": "aa7cfee1-9dcc-4347-9947-a7224b1a7500",
   "metadata": {},
   "outputs": [],
   "source": [
    "\"\"\"\n",
    "매개변수가 여러 개인 함수:\n",
    "\"\"\"\n"
   ]
  },
  {
   "cell_type": "code",
   "execution_count": 69,
   "id": "8be79edb-5b7a-44b0-84c2-52d2c28bbf40",
   "metadata": {},
   "outputs": [],
   "source": [
    "def add(a, b):\n",
    "    return a + b"
   ]
  },
  {
   "cell_type": "code",
   "execution_count": 70,
   "id": "a06c6142-c205-4fbb-a97d-978b06938a6d",
   "metadata": {},
   "outputs": [
    {
     "data": {
      "text/plain": [
       "3"
      ]
     },
     "execution_count": 70,
     "metadata": {},
     "output_type": "execute_result"
    }
   ],
   "source": [
    "add(1,2)"
   ]
  },
  {
   "cell_type": "code",
   "execution_count": null,
   "id": "582124a3-f293-4e3a-8a74-dd792b83c6c0",
   "metadata": {},
   "outputs": [],
   "source": []
  },
  {
   "cell_type": "code",
   "execution_count": null,
   "id": "6e0eff32-4053-41ea-ae7e-a469e8380902",
   "metadata": {},
   "outputs": [],
   "source": [
    "\"\"\"\n",
    "매개변수가 없는 함수:\n",
    "\"\"\"\n"
   ]
  },
  {
   "cell_type": "code",
   "execution_count": 71,
   "id": "f97d31e8-6b7a-451e-9789-3a49a0397175",
   "metadata": {},
   "outputs": [],
   "source": [
    "def say_hello():\n",
    "    return \"hello world\""
   ]
  },
  {
   "cell_type": "code",
   "execution_count": 72,
   "id": "855cd492-eadd-48ce-805f-777a5b4772ca",
   "metadata": {},
   "outputs": [
    {
     "data": {
      "text/plain": [
       "'hello world'"
      ]
     },
     "execution_count": 72,
     "metadata": {},
     "output_type": "execute_result"
    }
   ],
   "source": [
    "say_hello()"
   ]
  },
  {
   "cell_type": "code",
   "execution_count": 76,
   "id": "3e995130-20d2-4551-97ce-7cee89c084ce",
   "metadata": {},
   "outputs": [],
   "source": [
    "\"\"\"\n",
    "함수에서 기본값 매개변수 사용:\n",
    "\"\"\"\n",
    "\n",
    "def greet(name, greeting=\"Hello\", end=\".\"):\n",
    "    return f\"{greeting}, {name}{end}\"\n",
    "\n"
   ]
  },
  {
   "cell_type": "code",
   "execution_count": 77,
   "id": "e0a8e408-135a-4b5b-91f8-2c9b4c9ae3b2",
   "metadata": {},
   "outputs": [
    {
     "data": {
      "text/plain": [
       "'hello, david.'"
      ]
     },
     "execution_count": 77,
     "metadata": {},
     "output_type": "execute_result"
    }
   ],
   "source": [
    "greet(\"david\", \"hello\")"
   ]
  },
  {
   "cell_type": "code",
   "execution_count": 78,
   "id": "702313bd-2099-4312-82a3-00aaa6f17b20",
   "metadata": {},
   "outputs": [
    {
     "data": {
      "text/plain": [
       "'Hello, david.'"
      ]
     },
     "execution_count": 78,
     "metadata": {},
     "output_type": "execute_result"
    }
   ],
   "source": [
    "greet(\"david\")"
   ]
  },
  {
   "cell_type": "code",
   "execution_count": 79,
   "id": "dbf0b674-e9d8-412b-8ba7-2663b3a2bff4",
   "metadata": {},
   "outputs": [
    {
     "data": {
      "text/plain": [
       "'Hello, david!!!'"
      ]
     },
     "execution_count": 79,
     "metadata": {},
     "output_type": "execute_result"
    }
   ],
   "source": [
    "greet(\"david\", end=\"!!!\")"
   ]
  },
  {
   "cell_type": "code",
   "execution_count": 80,
   "id": "08b2792e-ea2d-4231-b7f0-51c4b9d0240f",
   "metadata": {},
   "outputs": [
    {
     "data": {
      "text/plain": [
       "'hola, david.'"
      ]
     },
     "execution_count": 80,
     "metadata": {},
     "output_type": "execute_result"
    }
   ],
   "source": [
    "greet(\"david\", greeting=\"hola\")"
   ]
  },
  {
   "cell_type": "code",
   "execution_count": 81,
   "id": "b56c44a8-f5f9-4999-9e38-b5453e1aa474",
   "metadata": {},
   "outputs": [
    {
     "data": {
      "text/plain": [
       "'hola, david.'"
      ]
     },
     "execution_count": 81,
     "metadata": {},
     "output_type": "execute_result"
    }
   ],
   "source": [
    "greet(name=\"david\", greeting=\"hola\")"
   ]
  },
  {
   "cell_type": "markdown",
   "id": "61a6158e-04ba-46c9-9cdf-9194981b0838",
   "metadata": {},
   "source": [
    "## 함수에서 가변 개수의 인자 처리 (*args, **kwargs)\n",
    "\n",
    "- *args (Arbitrary Arguments):  \n",
    "`*args`는 함수를 정의할 때 사용되며, 여러 개의 인자를 `튜플(tuple) 형태`로 함수 내부로 전달합니다.  \n",
    "함수를 호출할 때 전달하는 인자의 개수가 가변적일 때 유용하게 활용됩니다\n"
   ]
  },
  {
   "cell_type": "code",
   "execution_count": 88,
   "id": "1251ace4-d035-437a-9d1d-064a527664da",
   "metadata": {},
   "outputs": [],
   "source": [
    "def sum_all(*args):\n",
    "    total = 0\n",
    "    print(type(args), args)\n",
    "    for num in args:\n",
    "        total += num\n",
    "    return total"
   ]
  },
  {
   "cell_type": "code",
   "execution_count": 89,
   "id": "f4f6f2d5-70f2-4a5d-9c15-9eb1df090cb1",
   "metadata": {},
   "outputs": [
    {
     "name": "stdout",
     "output_type": "stream",
     "text": [
      "<class 'tuple'> (1,)\n"
     ]
    },
    {
     "data": {
      "text/plain": [
       "1"
      ]
     },
     "execution_count": 89,
     "metadata": {},
     "output_type": "execute_result"
    }
   ],
   "source": [
    "sum_all(1)"
   ]
  },
  {
   "cell_type": "code",
   "execution_count": 90,
   "id": "1161463e-f5a2-4998-afb9-95d99727fb2a",
   "metadata": {},
   "outputs": [
    {
     "name": "stdout",
     "output_type": "stream",
     "text": [
      "<class 'tuple'> (1, 2, 3, 4)\n"
     ]
    },
    {
     "data": {
      "text/plain": [
       "10"
      ]
     },
     "execution_count": 90,
     "metadata": {},
     "output_type": "execute_result"
    }
   ],
   "source": [
    "sum_all(1,2,3,4,)"
   ]
  },
  {
   "cell_type": "markdown",
   "id": "f3ab936a-03de-46ae-a417-1dbea8dbeafa",
   "metadata": {},
   "source": [
    "- **kwargs (Keyword Arguments):  \n",
    "**kwargs는 함수를 정의할 때 사용되며, 여러 개의 키워드 인자를 딕셔너리(dictionary) 형태로 함수 내부로 전달합니다.  \n",
    "함수를 호출할 때 키워드 인자의 개수가 가변적일 때 유용하게 활용됩니다."
   ]
  },
  {
   "cell_type": "code",
   "execution_count": 93,
   "id": "349dcb9e-2143-4f87-9c92-b3ebc89f1f3b",
   "metadata": {},
   "outputs": [],
   "source": [
    "def print_info(**kwargs):\n",
    "    print(type(kwargs), kwargs)\n",
    "    for k, v in kwargs.items():\n",
    "        print(f\"{k}: {v}\")"
   ]
  },
  {
   "cell_type": "code",
   "execution_count": 94,
   "id": "cf04b9c6-e387-4e32-ac87-e254f7f94bb2",
   "metadata": {},
   "outputs": [
    {
     "name": "stdout",
     "output_type": "stream",
     "text": [
      "<class 'dict'> {'name': 'Alice', 'age': 30, 'city': 'New York'}\n",
      "name: Alice\n",
      "age: 30\n",
      "city: New York\n"
     ]
    }
   ],
   "source": [
    "print_info(name=\"Alice\", age=30, city=\"New York\")"
   ]
  },
  {
   "cell_type": "markdown",
   "id": "e3b6b761-4e7b-4942-a37f-99c091a882bd",
   "metadata": {},
   "source": [
    "*args와 **kwargs를 함께 사용할 수도 있습니다.  \n",
    "이 경우, `*args`는 키워드 인자가 아닌 일반 인자들을 처리하고,  \n",
    "`**kwargs`는 키워드 인자들을 처리합니다."
   ]
  },
  {
   "cell_type": "code",
   "execution_count": 95,
   "id": "54bba937-fae5-426d-9b58-218b5bffef2d",
   "metadata": {},
   "outputs": [],
   "source": [
    "def print_args_and_kwargs(*args, **kwargs):\n",
    "    print(args)\n",
    "    print(kwargs)\n"
   ]
  },
  {
   "cell_type": "code",
   "execution_count": 96,
   "id": "193214b1-d72c-4875-a8b0-8d377df9578c",
   "metadata": {},
   "outputs": [
    {
     "name": "stdout",
     "output_type": "stream",
     "text": [
      "(1, 2, 3)\n",
      "{'name': 'Alice', 'age': 30}\n"
     ]
    }
   ],
   "source": [
    "print_args_and_kwargs(1,2,3, name=\"Alice\", age=30)"
   ]
  },
  {
   "cell_type": "markdown",
   "id": "4f601f47-84ba-4c7c-8681-cbce7ac6e6a4",
   "metadata": {},
   "source": [
    "## type hint\n",
    "\n",
    "파이썬의 `타입 힌트(type hint)`는 변수나 함수의 매개변수, 반환 값 등에 대해 어떤 타입을 기대하는지를 코드에 명시하는데 사용됩니다.  \n",
    "이는 코드의 `가독성`을 높이고, `타입 관련 오류를 사전에 방지`하여 코드의 안정성을 향상시키는 데 도움이 됩니다.  \n",
    "하지만 타입 힌트는 실제로 실행되는 데는 영향을 주지 않으며, **런타임에서 타입 검사를 하지 않습니다.**\n",
    "\n"
   ]
  },
  {
   "cell_type": "code",
   "execution_count": 97,
   "id": "7635946d-7338-4ed8-9810-22c167e92208",
   "metadata": {},
   "outputs": [
    {
     "data": {
      "text/plain": [
       "'\\n기본 데이터 타입:\\nint, float, str, bool: 정수, 부동소수점, 문자열, 불리언 타입\\nNone: 아무 값도 없는 None 타입\\n'"
      ]
     },
     "execution_count": 97,
     "metadata": {},
     "output_type": "execute_result"
    }
   ],
   "source": [
    "\"\"\"\n",
    "기본 데이터 타입:\n",
    "int, float, str, bool: 정수, 부동소수점, 문자열, 불리언 타입\n",
    "None: 아무 값도 없는 None 타입\n",
    "\"\"\"\n"
   ]
  },
  {
   "cell_type": "code",
   "execution_count": 98,
   "id": "40b17cca-7050-495a-a6ea-b1c19627a6f3",
   "metadata": {},
   "outputs": [],
   "source": [
    "name: str\n",
    "age: int\n",
    "is_student: bool"
   ]
  },
  {
   "cell_type": "code",
   "execution_count": 99,
   "id": "43a13517-2aa5-4c0f-ae44-f2f16e11c148",
   "metadata": {},
   "outputs": [],
   "source": [
    "name = 1"
   ]
  },
  {
   "cell_type": "code",
   "execution_count": null,
   "id": "1154e4fe-91a4-4779-b8a6-7adaf2ec2fcc",
   "metadata": {},
   "outputs": [],
   "source": [
    "\"\"\"\n",
    "컨테이너 타입:\n",
    "List, Tuple, Dict, Set: 리스트, 튜플, 딕셔너리, 집합 타입\n",
    "\"\"\"\n",
    "from typing import Union\n",
    "numbers: list[int] = [1, 2, 3, 4, 5]\n",
    "coordinates: tuple[float, float] = (10.5, 20.3)\n",
    "person_info: dict[str, Union[str, int]] = {\"name\": \"Alice\", \"age\": 30}\n",
    "unique_elements: set[str] = {\"apple\", \"banana\", \"orange\"}"
   ]
  },
  {
   "cell_type": "code",
   "execution_count": 100,
   "id": "83cae676-0f56-48e5-85fe-e477978f6cd6",
   "metadata": {},
   "outputs": [],
   "source": [
    "\"\"\"\n",
    "함수의 타입 힌트:\n",
    "함수의 매개변수와 반환 값에 타입을 지정할 수 있습니다.\n",
    "\"\"\"\n",
    "\n",
    "def add(a: int, b: int) -> int:\n",
    "    return a + b\n",
    "\n",
    "def sub(a, b):\n",
    "    return a - b\n",
    "\n",
    "def greet(name: str) -> str:\n",
    "    return f\"Hello, {name}!\"\n",
    "\n",
    "def hello(name):\n",
    "    return f\"Hello, {name}!\"\n"
   ]
  },
  {
   "cell_type": "markdown",
   "id": "fb4bdf07-e05e-431f-aaa3-07ccdfb6ca7f",
   "metadata": {},
   "source": [
    "## 람다(lambda)\n",
    "\n",
    "`람다(lambda)`는 파이썬에서 간단한 `익명 함수(anonymous function)`를 생성하는 방법입니다.  \n",
    "익명 함수란, 일반적인 함수와 달리 `함수의 이름이 없고`, `한 줄의 코드`로 표현되는 간단한 함수를 말합니다.  \n",
    "람다는 lambda 키워드를 사용하여 정의하며, 주로 간단한 연산이나 정렬 함수 등에 사용됩니다.  \n",
    "\n",
    "람다 함수의 기본적인 구문은 다음과 같습니다:\n",
    "\n",
    "```python\n",
    "lambda 매개변수: 표현식\n",
    "```\n",
    "\n",
    "- `lambda`: 람다 함수를 정의하는 키워드입니다.\n",
    "- `매개변수`: 람다 함수의 입력 매개변수들을 나타냅니다. 여러 개의 매개변수를 사용할 수 있으며, 쉼표로 구분합니다.\n",
    "- `표현식`: 람다 함수의 반환값을 나타내는 표현식입니다. 이 표현식의 결과가 람다 함수의 반환값이 됩니다.\n"
   ]
  },
  {
   "cell_type": "code",
   "execution_count": 101,
   "id": "0911c03f-16d3-4ba8-a3ad-1789cf540fca",
   "metadata": {},
   "outputs": [
    {
     "name": "stdout",
     "output_type": "stream",
     "text": [
      "8\n"
     ]
    }
   ],
   "source": [
    "# 람다 함수를 변수에 할당하여 사용하기\n",
    "add = lambda x, y: x + y\n",
    "result = add(3, 5)\n",
    "print(result)  # 8\n",
    "\n"
   ]
  },
  {
   "cell_type": "code",
   "execution_count": 102,
   "id": "aa5d939c-1113-41db-8cad-6577e3b6138f",
   "metadata": {},
   "outputs": [
    {
     "name": "stdout",
     "output_type": "stream",
     "text": [
      "[1, 4, 9, 16, 25]\n"
     ]
    }
   ],
   "source": [
    "\n",
    "# 람다 함수를 다른 함수의 인자로 전달하기\n",
    "numbers = [1, 2, 3, 4, 5]\n",
    "squared = map(lambda x: x**2, numbers)\n",
    "print(list(squared))  # [1, 4, 9, 16, 25]\n",
    "\n"
   ]
  },
  {
   "cell_type": "code",
   "execution_count": 103,
   "id": "a03c92a7-f2a4-42e4-a71c-91d392a9da28",
   "metadata": {},
   "outputs": [
    {
     "name": "stdout",
     "output_type": "stream",
     "text": [
      "True\n",
      "False\n"
     ]
    }
   ],
   "source": [
    "# 람다 함수를 조건문과 함께 사용하기\n",
    "is_even = lambda x: x % 2 == 0\n",
    "print(is_even(10))  # True\n",
    "print(is_even(7))   # False\n"
   ]
  },
  {
   "cell_type": "code",
   "execution_count": 104,
   "id": "90d3943d-3823-4bbb-aa86-5dc62d6f8f34",
   "metadata": {},
   "outputs": [
    {
     "name": "stdout",
     "output_type": "stream",
     "text": [
      "[('Bob', 20), ('Alice', 25), ('Eve', 30)]\n"
     ]
    }
   ],
   "source": [
    "# 람다 함수를 정렬 함수로 사용하기\n",
    "students = [(\"Alice\", 25), (\"Bob\", 20), (\"Eve\", 30)]\n",
    "students.sort(key=lambda student: student[1])\n",
    "print(students)  # [('Bob', 20), ('Alice', 25), ('Eve', 30)]"
   ]
  },
  {
   "cell_type": "code",
   "execution_count": 105,
   "id": "140918fb-70a3-4fd6-8946-893a805dbf85",
   "metadata": {},
   "outputs": [
    {
     "name": "stdout",
     "output_type": "stream",
     "text": [
      "[2, 4, 6, 8, 10]\n"
     ]
    }
   ],
   "source": [
    "# 함다 함수를 필터로 활용하기\n",
    "numbers = [1, 2, 3, 4, 5, 6, 7, 8, 9, 10]\n",
    "even_numbers = filter(lambda x: x % 2 == 0, numbers)\n",
    "print(list(even_numbers))  # [2, 4, 6, 8, 10]"
   ]
  },
  {
   "cell_type": "code",
   "execution_count": 106,
   "id": "ff9079ce-d5ff-4218-b1d5-228fb3e2e7f1",
   "metadata": {},
   "outputs": [],
   "source": [
    "# 람다를 인수로 받는 함수를 구현하는 예제\n",
    "def operate(func):\n",
    "    num1 = 10\n",
    "    num2 = 5\n",
    "    result = func(num1, num2)\n",
    "    return result\n",
    "\n",
    "# 람다 함수를 인자로 넘겨서 덧셈을 수행하는 예제\n",
    "addition = operate(lambda x, y: x + y)\n",
    "\n",
    "# 람다 함수를 인자로 넘겨서 뺄셈을 수행하는 예제\n",
    "subtraction = operate(lambda x, y: x - y)\n",
    "\n",
    "# 람다 함수를 인자로 넘겨서 곱셈을 수행하는 예제\n",
    "multiplication = operate(lambda x, y: x * y)\n"
   ]
  },
  {
   "cell_type": "code",
   "execution_count": 107,
   "id": "e9b848c4-0f65-4fdc-ad15-220d516b6c0b",
   "metadata": {},
   "outputs": [
    {
     "data": {
      "text/plain": [
       "15"
      ]
     },
     "execution_count": 107,
     "metadata": {},
     "output_type": "execute_result"
    }
   ],
   "source": [
    "addition"
   ]
  },
  {
   "cell_type": "code",
   "execution_count": 108,
   "id": "0c4f9e4c-4649-4de7-b7cf-e985ce06a30e",
   "metadata": {},
   "outputs": [
    {
     "data": {
      "text/plain": [
       "5"
      ]
     },
     "execution_count": 108,
     "metadata": {},
     "output_type": "execute_result"
    }
   ],
   "source": [
    "subtraction"
   ]
  },
  {
   "cell_type": "code",
   "execution_count": 109,
   "id": "e71131cf-8af6-4ba4-b7b9-b968a95085ca",
   "metadata": {},
   "outputs": [
    {
     "data": {
      "text/plain": [
       "50"
      ]
     },
     "execution_count": 109,
     "metadata": {},
     "output_type": "execute_result"
    }
   ],
   "source": [
    "multiplication"
   ]
  },
  {
   "cell_type": "markdown",
   "id": "7cf470fc-e2f1-4485-b887-f3e90754d8b8",
   "metadata": {},
   "source": [
    "# 클래스(class)\n",
    "\n",
    "파이썬 클래스(Class)는 객체 지향 프로그래밍의 기본적인 개념 중 하나로,  \n",
    "`데이터`와 해당 데이터를 처리하는 `메서드`를 묶어서 하나의 `새로운 데이터 타입`을 만들 수 있는 `템플릿`입니다.  \n",
    "클래스는 객체의 설계도라고 할 수 있으며, 객체를 생성하는데 사용됩니다.  \n",
    "객체는 클래스의 인스턴스(Instance)라고도 합니다.\n",
    "\n",
    "클래스를 선언하기 위해서는 `class` 키워드를 사용합니다.  \n",
    "\n",
    "기본적인 클래스의 선언 방법은 다음과 같습니다:\n",
    "\n",
    "\n",
    "```python\n",
    "class ClassName:\n",
    "    # 클래스 변수, 인스턴스 변수, 메서드 등을 정의\n",
    "    pass\n",
    "```\n"
   ]
  },
  {
   "cell_type": "code",
   "execution_count": 113,
   "id": "22ed630c-c1f0-425b-996d-3e5ecbd6f8fc",
   "metadata": {},
   "outputs": [],
   "source": [
    "class Dog:\n",
    "    species = \"mammal\"  # 클래스 변수\n",
    "\n",
    "    def __init__(self, name, age):  # 생성자 메서드\n",
    "        self.name = name  # 인스턴스 변수\n",
    "        self.age = age    # 인스턴스 변수\n",
    "\n",
    "    def bark(self):  # 메서드\n",
    "        return \"Woof!\"\n",
    "\n",
    "    def description(self):  # 메서드\n",
    "        return f\"{self.name} is {self.age} years old.\"\n",
    "        \n",
    "# 클래스를 이용하여 객체(인스턴스) 생성\n",
    "dog1 = Dog(\"Buddy\", 3)\n",
    "dog2 = Dog(\"Max\", 2)\n"
   ]
  },
  {
   "cell_type": "code",
   "execution_count": 114,
   "id": "165322de-554b-490b-9b45-5e38ca705cac",
   "metadata": {},
   "outputs": [
    {
     "data": {
      "text/plain": [
       "'Buddy'"
      ]
     },
     "execution_count": 114,
     "metadata": {},
     "output_type": "execute_result"
    }
   ],
   "source": [
    "dog1.name"
   ]
  },
  {
   "cell_type": "code",
   "execution_count": 115,
   "id": "f9d1dc58-54d2-4692-83bd-87a80607a5dc",
   "metadata": {},
   "outputs": [
    {
     "data": {
      "text/plain": [
       "'Max'"
      ]
     },
     "execution_count": 115,
     "metadata": {},
     "output_type": "execute_result"
    }
   ],
   "source": [
    "dog2.name"
   ]
  },
  {
   "cell_type": "code",
   "execution_count": null,
   "id": "e7c16780-1592-4e90-8a43-15d5b6e28522",
   "metadata": {},
   "outputs": [],
   "source": [
    "Dog.species"
   ]
  },
  {
   "cell_type": "code",
   "execution_count": 116,
   "id": "d5bdc8e5-7346-4276-a688-e81bac086306",
   "metadata": {},
   "outputs": [
    {
     "data": {
      "text/plain": [
       "'Woof!'"
      ]
     },
     "execution_count": 116,
     "metadata": {},
     "output_type": "execute_result"
    }
   ],
   "source": [
    "dog1.bark()"
   ]
  },
  {
   "cell_type": "code",
   "execution_count": 117,
   "id": "99901a2c-c6eb-4ac9-8ac7-164dbaad4171",
   "metadata": {},
   "outputs": [
    {
     "data": {
      "text/plain": [
       "'Buddy is 3 years old.'"
      ]
     },
     "execution_count": 117,
     "metadata": {},
     "output_type": "execute_result"
    }
   ],
   "source": [
    "dog1.description()"
   ]
  },
  {
   "cell_type": "code",
   "execution_count": 118,
   "id": "65e6e907-083b-4b0a-bfc5-003d554d042d",
   "metadata": {},
   "outputs": [
    {
     "data": {
      "text/plain": [
       "'Max is 2 years old.'"
      ]
     },
     "execution_count": 118,
     "metadata": {},
     "output_type": "execute_result"
    }
   ],
   "source": [
    "dog2.description()"
   ]
  },
  {
   "cell_type": "code",
   "execution_count": null,
   "id": "c74a95e2-f871-4272-9177-b0c0e66f00c8",
   "metadata": {},
   "outputs": [],
   "source": []
  },
  {
   "cell_type": "markdown",
   "id": "1e66fa74-babc-41eb-ae69-50dd76a3ded9",
   "metadata": {},
   "source": [
    "## 클래스의 상속\n",
    "\n",
    "파이썬 클래스 `상속(Inheritance)`은 객체 지향 프로그래밍에서 중요한 개념 중 하나입니다.  \n",
    "`상속`을 통해 기존 클래스(부모 클래스)의 `속성`과 `메서드`를 `다른 클래스(자식 클래스)에서 재사용`할 수 있습니다.  \n",
    "이로써 코드의 재사용성을 높이고, 새로운 클래스를 쉽게 확장하여 구현할 수 있게 됩니다.\n",
    "  \n",
    "자식 클래스는 부모 클래스의 모든 속성과 메서드를 상속받으며,  \n",
    "필요에 따라 자식 클래스에서 `추가적인 속성과 메서드를 정의`할 수 있습니다.  \n",
    "`상속 관계`를 만들기 위해서는 자식 클래스를 정의할 때, 클래스 이름 뒤에 `괄호로 부모 클래스를 명시`하면 됩니다.\n",
    "\n",
    "기본적인 클래스 상속 문법은 다음과 같습니다:\n",
    "\n",
    "```python\n",
    "class ParentClass:\n",
    "    # 부모 클래스의 속성과 메서드 정의\n",
    "\n",
    "class ChildClass(ParentClass):\n",
    "    # 자식 클래스의 속성과 메서드 정의\n",
    "\n",
    "```"
   ]
  },
  {
   "cell_type": "code",
   "execution_count": null,
   "id": "a6f22820-ad9c-44f2-9e77-ef3a4378c70a",
   "metadata": {},
   "outputs": [],
   "source": [
    "class Animal:\n",
    "    def __init__(self, name):\n",
    "        self.name = name\n",
    "\n",
    "    def speak(self):\n",
    "        return \"Generic animal sound\"\n",
    "\n",
    "class Dog(Animal):  # Animal 클래스를 상속받는 Dog 클래스\n",
    "    def speak(self):\n",
    "        return \"Woof!\"\n",
    "\n",
    "class Cat(Animal):  # Animal 클래스를 상속받는 Cat 클래스\n",
    "    def speak(self):\n",
    "        return \"Meow!\"\n",
    "\n",
    "# 자식 클래스의 객체 생성 및 메서드 호출\n",
    "dog = Dog(\"Buddy\")\n",
    "cat = Cat(\"Whiskers\")\n",
    "\n"
   ]
  },
  {
   "cell_type": "markdown",
   "id": "aa7f6f49-dda9-4807-944b-25ba97b64602",
   "metadata": {},
   "source": [
    "# 패키지 임포트\n",
    "\n",
    "파이썬에서 `패키지`를 임포트하는 방식에는 다음과 같은 세 가지 방법이 있습니다:\n",
    "\n",
    "- `전체` 패키지를 임포트하기\n",
    "- `특정` 모듈만 임포트하기\n",
    "- 패키지의 특정 모듈을 `별칭(alias)`으로 임포트하기"
   ]
  },
  {
   "cell_type": "code",
   "execution_count": 120,
   "id": "f3d51253-8b22-470b-9902-bf120f6e255b",
   "metadata": {},
   "outputs": [],
   "source": [
    "\"\"\"\n",
    "전체 패키지를 임포트하기:\n",
    "패키지 내의 모든 모듈과 서브패키지를 한 번에 임포트합니다. \n",
    "패키지를 사용할 때는 패키지 이름을 접두어로 사용해야 합니다.\n",
    "\n",
    "import 패키지이름\n",
    "\"\"\"\n",
    "\n",
    "# 사용 예제\n",
    "import math\n",
    "result = math.sqrt(16)\n"
   ]
  },
  {
   "cell_type": "code",
   "execution_count": 121,
   "id": "02fb1bac-19e8-4491-b06c-b5a8babafbab",
   "metadata": {},
   "outputs": [
    {
     "data": {
      "text/plain": [
       "4.0"
      ]
     },
     "execution_count": 121,
     "metadata": {},
     "output_type": "execute_result"
    }
   ],
   "source": [
    "result"
   ]
  },
  {
   "cell_type": "code",
   "execution_count": 122,
   "id": "7c64ffa2-84f1-457a-b036-0d72e9c46df5",
   "metadata": {},
   "outputs": [],
   "source": [
    "\"\"\"\n",
    "특정 모듈만 임포트하기:\n",
    "패키지 내의 특정 모듈만 임포트하여 사용합니다. 패키지 이름은 모듈 이름을 포함하지 않습니다.\n",
    "\n",
    "from 패키지이름 import 모듈이름\n",
    "\n",
    "\"\"\"\n",
    "\n",
    "# 사용 예제\n",
    "from math import sqrt\n",
    "result = sqrt(16)\n"
   ]
  },
  {
   "cell_type": "code",
   "execution_count": 123,
   "id": "c9c381b3-d3c6-420e-b505-60f6a7fa731f",
   "metadata": {},
   "outputs": [
    {
     "data": {
      "text/plain": [
       "4.0"
      ]
     },
     "execution_count": 123,
     "metadata": {},
     "output_type": "execute_result"
    }
   ],
   "source": [
    "sqrt(16)"
   ]
  },
  {
   "cell_type": "code",
   "execution_count": 124,
   "id": "0379c580-2772-42ba-b31e-9324061cf1ee",
   "metadata": {},
   "outputs": [
    {
     "data": {
      "text/plain": [
       "(2.0, 256.0)"
      ]
     },
     "execution_count": 124,
     "metadata": {},
     "output_type": "execute_result"
    }
   ],
   "source": [
    "# 추가 사용 예제\n",
    "from math import sqrt, pow\n",
    "\n",
    "sqrt(4), pow(4,4)"
   ]
  },
  {
   "cell_type": "code",
   "execution_count": 125,
   "id": "1206a9df-68e8-4963-ba7d-417217783b16",
   "metadata": {},
   "outputs": [
    {
     "name": "stdout",
     "output_type": "stream",
     "text": [
      "4.0\n"
     ]
    }
   ],
   "source": [
    "\"\"\"\n",
    "패키지의 특정 모듈을 별칭(alias)으로 임포트하기:\n",
    "특정 모듈을 별칭으로 임포트하여 사용합니다. 이렇게 하면 모듈 이름 대신 지정한 별칭을 사용할 수 있습니다.\n",
    "\n",
    "from 패키지이름 import 모듈이름 as 별칭\n",
    "\n",
    "\"\"\"\n",
    "\n",
    "# 사용 예제\n",
    "from math import sqrt as sq\n",
    "result = sq(16)\n",
    "print(result)  # 4.0\n",
    "\n"
   ]
  },
  {
   "cell_type": "markdown",
   "id": "e0b3e93c-87c4-4255-b5de-55a507508d93",
   "metadata": {},
   "source": [
    "### 추가 예제.\n",
    "\n",
    "폴더 구조가 아래와 같다면?\n",
    "\n",
    "```\n",
    "- animal\n",
    "  + lion.py\n",
    "```\n",
    "\n",
    "```python\n",
    "# lion.py\n",
    "def describe():\n",
    "    pass\n",
    "\n",
    "class Lion:\n",
    "    def move(self):\n",
    "        pass\n",
    "```        "
   ]
  },
  {
   "cell_type": "code",
   "execution_count": 128,
   "id": "3156ccbb-52db-432d-a426-9a6f66f0938d",
   "metadata": {},
   "outputs": [
    {
     "ename": "NameError",
     "evalue": "name 'Lion' is not defined",
     "output_type": "error",
     "traceback": [
      "\u001b[1;31m---------------------------------------------------------------------------\u001b[0m",
      "\u001b[1;31mNameError\u001b[0m                                 Traceback (most recent call last)",
      "Cell \u001b[1;32mIn[128], line 1\u001b[0m\n\u001b[1;32m----> 1\u001b[0m \u001b[43mLion\u001b[49m()\n",
      "\u001b[1;31mNameError\u001b[0m: name 'Lion' is not defined"
     ]
    }
   ],
   "source": [
    "Lion()"
   ]
  },
  {
   "cell_type": "code",
   "execution_count": 129,
   "id": "8407821c-831c-4794-b9e6-4f148d52b2d9",
   "metadata": {},
   "outputs": [
    {
     "ename": "NameError",
     "evalue": "name 'describe' is not defined",
     "output_type": "error",
     "traceback": [
      "\u001b[1;31m---------------------------------------------------------------------------\u001b[0m",
      "\u001b[1;31mNameError\u001b[0m                                 Traceback (most recent call last)",
      "Cell \u001b[1;32mIn[129], line 1\u001b[0m\n\u001b[1;32m----> 1\u001b[0m \u001b[43mdescribe\u001b[49m()\n",
      "\u001b[1;31mNameError\u001b[0m: name 'describe' is not defined"
     ]
    }
   ],
   "source": [
    "describe()"
   ]
  },
  {
   "cell_type": "code",
   "execution_count": 130,
   "id": "6ff940e4-f71a-4211-b984-0e74d85c08a9",
   "metadata": {},
   "outputs": [],
   "source": [
    "import animal"
   ]
  },
  {
   "cell_type": "code",
   "execution_count": 131,
   "id": "840916b2-d2b2-4dc9-87fa-b4f16fbe6dde",
   "metadata": {},
   "outputs": [
    {
     "data": {
      "text/plain": [
       "<animal.lion.Lion at 0x229ff08e140>"
      ]
     },
     "execution_count": 131,
     "metadata": {},
     "output_type": "execute_result"
    }
   ],
   "source": [
    "animal.lion.Lion()"
   ]
  },
  {
   "cell_type": "code",
   "execution_count": 132,
   "id": "297be406-a97a-4143-8cff-d2d791d1b4a1",
   "metadata": {},
   "outputs": [],
   "source": [
    "animal.lion.describe()"
   ]
  },
  {
   "cell_type": "code",
   "execution_count": 135,
   "id": "50e92b8c-dd5f-4e6d-9923-b589ccbe7fc8",
   "metadata": {},
   "outputs": [],
   "source": [
    "import animal.lion as lion"
   ]
  },
  {
   "cell_type": "code",
   "execution_count": 136,
   "id": "88c2cbdf-054d-45e7-af6c-7a417653a016",
   "metadata": {},
   "outputs": [
    {
     "data": {
      "text/plain": [
       "<animal.lion.Lion at 0x229ffbf3970>"
      ]
     },
     "execution_count": 136,
     "metadata": {},
     "output_type": "execute_result"
    }
   ],
   "source": [
    "lion.Lion()"
   ]
  },
  {
   "cell_type": "code",
   "execution_count": 137,
   "id": "f5a04c5e-a5a2-43e1-8f62-56ad1ff477d7",
   "metadata": {},
   "outputs": [],
   "source": [
    "lion.describe()"
   ]
  },
  {
   "cell_type": "code",
   "execution_count": 138,
   "id": "d8be7c3f-7799-482f-9992-460c8f945267",
   "metadata": {},
   "outputs": [],
   "source": [
    "from animal.lion import Lion, describe"
   ]
  },
  {
   "cell_type": "code",
   "execution_count": 139,
   "id": "41cf3c4b-1b2d-43ac-92ba-a035238a1801",
   "metadata": {},
   "outputs": [
    {
     "data": {
      "text/plain": [
       "<animal.lion.Lion at 0x229fee9afe0>"
      ]
     },
     "execution_count": 139,
     "metadata": {},
     "output_type": "execute_result"
    }
   ],
   "source": [
    "Lion()"
   ]
  },
  {
   "cell_type": "code",
   "execution_count": 140,
   "id": "6198c2e1-441d-4589-80ef-c8f27ca0e1f6",
   "metadata": {},
   "outputs": [],
   "source": [
    "describe()"
   ]
  },
  {
   "cell_type": "code",
   "execution_count": null,
   "id": "97df48a6-aff0-4586-b535-6fe1889015c8",
   "metadata": {},
   "outputs": [],
   "source": []
  }
 ],
 "metadata": {
  "kernelspec": {
   "display_name": "Python 3 (ipykernel)",
   "language": "python",
   "name": "python3"
  },
  "language_info": {
   "codemirror_mode": {
    "name": "ipython",
    "version": 3
   },
   "file_extension": ".py",
   "mimetype": "text/x-python",
   "name": "python",
   "nbconvert_exporter": "python",
   "pygments_lexer": "ipython3",
   "version": "3.10.11"
  }
 },
 "nbformat": 4,
 "nbformat_minor": 5
}
